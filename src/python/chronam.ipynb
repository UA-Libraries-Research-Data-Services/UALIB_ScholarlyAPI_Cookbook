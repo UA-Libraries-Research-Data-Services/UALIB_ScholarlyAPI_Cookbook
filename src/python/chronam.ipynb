{
 "cells": [
  {
   "cell_type": "markdown",
   "metadata": {
    "pycharm": {
     "name": "#%% md\n"
    }
   },
   "source": [
    "# Chronicling America API in Python\n",
    "\n",
    "by Avery Fernandez\n",
    "\n",
    "**LOC Chronicling America API Documentation**: https://chroniclingamerica.loc.gov/about/api/\n",
    "\n",
    "These recipe examples were tested on August 2, 2022.\n",
    "\n",
    "**Attribution:** We thank ***Professor Jessica Kincaid*** (UA Libraries, Hoole Special Collections) for the use-cases. All data was collected from the Library of Congress, Chronicling America: Historic American Newspapers site, using the API.\n",
    "\n",
    "Note that the data from the Alabama state intelligencer, The age-herald, and the Birmingham age-herald were contributed to Chronicling America by The University of Alabama Libraries: https://chroniclingamerica.loc.gov/awardees/au/"
   ]
  },
  {
   "cell_type": "markdown",
   "metadata": {
    "pycharm": {
     "name": "#%% md\n"
    }
   },
   "source": [
    "## 1. Basic API request\n",
    "The Chronicling America API identifies newspapers and other records using LCCNs. We can query the API once we have the LCCN for the newspaper and even ask for particular issues and editions. For example, the following link lists newspapers published in the state of Alabama, from which the LCCN can be obtained: https://chroniclingamerica.loc.gov/newspapers/?state=Alabama\n",
    "\n",
    "Here is an example with the Alabama State Intelligencer:"
   ]
  },
  {
   "cell_type": "markdown",
   "metadata": {
    "pycharm": {
     "name": "#%% md\n"
    }
   },
   "source": [
    "First, import a few Python libraries:"
   ]
  },
  {
   "cell_type": "code",
   "execution_count": 1,
   "metadata": {
    "collapsed": false,
    "jupyter": {
     "outputs_hidden": false
    },
    "pycharm": {
     "name": "#%%\n"
    }
   },
   "outputs": [],
   "source": [
    "from time import sleep\n",
    "import requests\n",
    "from pprint import pprint"
   ]
  },
  {
   "cell_type": "markdown",
   "metadata": {
    "pycharm": {
     "name": "#%% md\n"
    }
   },
   "source": [
    "Then we can start calling the API"
   ]
  },
  {
   "cell_type": "code",
   "execution_count": 2,
   "metadata": {
    "collapsed": false,
    "jupyter": {
     "outputs_hidden": false
    },
    "pycharm": {
     "name": "#%%\n"
    }
   },
   "outputs": [],
   "source": [
    "api = \"https://chroniclingamerica.loc.gov/\""
   ]
  },
  {
   "cell_type": "code",
   "execution_count": 3,
   "metadata": {
    "collapsed": false,
    "jupyter": {
     "outputs_hidden": false
    },
    "pycharm": {
     "name": "#%%\n"
    }
   },
   "outputs": [
    {
     "name": "stdout",
     "output_type": "stream",
     "text": [
      "{'end_year': '18??',\n",
      " 'issues': [],\n",
      " 'lccn': 'sn84023600',\n",
      " 'name': 'Alabama State intelligencer. [volume]',\n",
      " 'place': ['Alabama--Tuscaloosa--Tuscaloosa'],\n",
      " 'place_of_publication': 'Tuskaloosa [sic], Ala.',\n",
      " 'publisher': 'T.M. Bradford',\n",
      " 'start_year': '183?',\n",
      " 'subject': [],\n",
      " 'url': 'https://chroniclingamerica.loc.gov/lccn/sn84023600.json'}\n"
     ]
    }
   ],
   "source": [
    "request = requests.get(api+\"lccn/sn84023600.json\").json()\n",
    "pprint(request)"
   ]
  },
  {
   "cell_type": "markdown",
   "metadata": {
    "pycharm": {
     "name": "#%% md\n"
    }
   },
   "source": [
    "Indexing into the json output allows data to be extracted using key names as demonstrated below:"
   ]
  },
  {
   "cell_type": "code",
   "execution_count": 4,
   "metadata": {
    "collapsed": false,
    "jupyter": {
     "outputs_hidden": false
    },
    "pycharm": {
     "name": "#%%\n"
    }
   },
   "outputs": [
    {
     "name": "stdout",
     "output_type": "stream",
     "text": [
      "'Alabama State intelligencer. [volume]'\n"
     ]
    }
   ],
   "source": [
    "pprint(request[\"name\"])"
   ]
  },
  {
   "cell_type": "code",
   "execution_count": 5,
   "metadata": {
    "collapsed": false,
    "jupyter": {
     "outputs_hidden": false
    },
    "pycharm": {
     "name": "#%%\n"
    }
   },
   "outputs": [
    {
     "name": "stdout",
     "output_type": "stream",
     "text": [
      "'T.M. Bradford'\n"
     ]
    }
   ],
   "source": [
    "pprint(request[\"publisher\"])"
   ]
  },
  {
   "cell_type": "markdown",
   "metadata": {
    "pycharm": {
     "name": "#%% md\n"
    }
   },
   "source": [
    "Moving on to another publication, we can get the 182nd page (seq-182) of the Evening Star newspaper published on November 19, 1961."
   ]
  },
  {
   "cell_type": "code",
   "execution_count": 6,
   "metadata": {
    "collapsed": false,
    "jupyter": {
     "outputs_hidden": false
    },
    "pycharm": {
     "name": "#%%\n"
    }
   },
   "outputs": [
    {
     "name": "stdout",
     "output_type": "stream",
     "text": [
      "{'issue': {'date_issued': '1961-11-19',\n",
      "           'url': 'https://chroniclingamerica.loc.gov/lccn/sn83045462/1961-11-19/ed-1.json'},\n",
      " 'jp2': 'https://chroniclingamerica.loc.gov/lccn/sn83045462/1961-11-19/ed-1/seq-182.jp2',\n",
      " 'ocr': 'https://chroniclingamerica.loc.gov/lccn/sn83045462/1961-11-19/ed-1/seq-182/ocr.xml',\n",
      " 'pdf': 'https://chroniclingamerica.loc.gov/lccn/sn83045462/1961-11-19/ed-1/seq-182.pdf',\n",
      " 'sequence': 182,\n",
      " 'text': 'https://chroniclingamerica.loc.gov/lccn/sn83045462/1961-11-19/ed-1/seq-182/ocr.txt',\n",
      " 'title': {'name': 'Evening star. [volume]',\n",
      "           'url': 'https://chroniclingamerica.loc.gov/lccn/sn83045462.json'}}\n"
     ]
    }
   ],
   "source": [
    "request = requests.get(api+\"lccn/sn83045462/1961-11-19/ed-1/seq-182.json\").json()\n",
    "# outputs a list of links in various formats:\n",
    "pprint(request)"
   ]
  },
  {
   "cell_type": "code",
   "execution_count": 7,
   "metadata": {},
   "outputs": [],
   "source": [
    "# download and save the PDF\n",
    "url = request['pdf'] # grabs the url of the pdf\n",
    "r = requests.get(url, allow_redirects=True) # allow_redirects makes sure the pdf is downloaded\n",
    "with open('file.pdf', 'wb') as outfile:\n",
    "    outfile.write(r.content)"
   ]
  },
  {
   "cell_type": "markdown",
   "metadata": {
    "pycharm": {
     "name": "#%% md\n"
    }
   },
   "source": [
    "## 2. Frequency of “University of Alabama” mentions\n",
    "\n",
    "The URL below limits to searching newspapers in the state of Alabama and provides 500 results of “University of Alabama” mentions. Note that phrases can be searched by putting them inside parentheses for the query."
   ]
  },
  {
   "cell_type": "code",
   "execution_count": 8,
   "metadata": {
    "collapsed": false,
    "jupyter": {
     "outputs_hidden": false
    },
    "pycharm": {
     "name": "#%%\n"
    }
   },
   "outputs": [
    {
     "name": "stdout",
     "output_type": "stream",
     "text": [
      "{'alt_title': ['Age-herald', 'Birmingham news, the Birmingham age-herald'],\n",
      " 'batch': 'au_foster_ver01',\n",
      " 'city': ['Birmingham'],\n",
      " 'country': 'Alabama',\n",
      " 'county': ['Jefferson'],\n",
      " 'date': '19240713',\n",
      " 'edition': None,\n",
      " 'edition_label': '',\n",
      " 'end_year': 1950,\n",
      " 'frequency': 'Daily',\n",
      " 'id': '/lccn/sn85038485/1924-07-13/ed-1/seq-48/',\n",
      " 'language': ['English'],\n",
      " 'lccn': 'sn85038485',\n",
      " 'note': ['Also issued on microfilm from Bell & Howell, Micro Photo Div.; the '\n",
      "          'Library of Congress, Photoduplication Service.',\n",
      "          'Also published in a weekly ed.',\n",
      "          'Archived issues are available in digital format from the Library of '\n",
      "          'Congress Chronicling America online collection.',\n",
      "          \"Publication suspended with July 12, 1945 issue due to a printers' \"\n",
      "          'strike; resumed publication with Aug. 17, 1945 issue.'],\n",
      " 'ocr_eng': 'canes at the University .of Alabama\\n'\n",
      "            'MORGAN HALL -\\n'\n",
      "            'SMITH HALL\\n'\n",
      "            \"' hi i ..mil w i 1»..IIgylUjAiU. '. n\\n\"\n",
      "            'jjiIi\\n'\n",
      "            '(ARCHITECTS* MODEL)\\n'\n",
      "            'COMER. HALli\\n'\n",
      "            'MINING\\n'\n",
      "            '••tSgSB?\\n'\n",
      "            \"* i v' y -4\\n\"\n",
      "            \"■Si ' 3>\\n\"\n",
      "            'A GLIMP9E OF FRATERNITY ROW\\n'\n",
      "            'THE GYMNASIUM\\n'\n",
      "            'Tuscaloosa, Alabama\\n'\n",
      "            'ADV.',\n",
      " 'page': '8',\n",
      " 'place': ['Alabama--Jefferson--Birmingham'],\n",
      " 'place_of_publication': 'Birmingham, Ala.',\n",
      " 'publisher': 'Age-Herald Co.',\n",
      " 'section_label': 'Tuscaloosa Section',\n",
      " 'sequence': 48,\n",
      " 'start_year': 1902,\n",
      " 'state': ['Alabama'],\n",
      " 'subject': ['Alabama--Birmingham.--fast--(OCoLC)fst01204958',\n",
      "             'Birmingham (Ala.)--Newspapers.'],\n",
      " 'title': 'The Birmingham age-herald. [volume]',\n",
      " 'title_normal': 'birmingham age-herald.',\n",
      " 'type': 'page',\n",
      " 'url': 'https://chroniclingamerica.loc.gov/lccn/sn85038485/1924-07-13/ed-1/seq-48.json'}\n"
     ]
    }
   ],
   "source": [
    "request = requests.get(api+\"search/pages/results/?state=Alabama&proxtext=(University%20of%20Alabama)&rows=500&format=json\").json()\n",
    "pprint(request[\"items\"][0]) # shows the first item of data"
   ]
  },
  {
   "cell_type": "code",
   "execution_count": 9,
   "metadata": {},
   "outputs": [
    {
     "data": {
      "text/plain": [
       "500"
      ]
     },
     "execution_count": 9,
     "metadata": {},
     "output_type": "execute_result"
    }
   ],
   "source": [
    "len(request[\"items\"])"
   ]
  },
  {
   "cell_type": "code",
   "execution_count": 10,
   "metadata": {
    "collapsed": false,
    "jupyter": {
     "outputs_hidden": false
    },
    "pycharm": {
     "name": "#%%\n"
    }
   },
   "outputs": [
    {
     "name": "stdout",
     "output_type": "stream",
     "text": [
      "['19240713',\n",
      " '19180818',\n",
      " '19240224',\n",
      " '19160806',\n",
      " '19130618',\n",
      " '19240217',\n",
      " '19140602',\n",
      " '19120714',\n",
      " '19220917',\n",
      " '19170513']\n"
     ]
    }
   ],
   "source": [
    "# creates a list of dates from each item record\n",
    "dates = []\n",
    "for items in range(len(request[\"items\"])):\n",
    "    dates.append(request[\"items\"][items][\"date\"])\n",
    "pprint(dates[0:10]) # show first 10"
   ]
  },
  {
   "cell_type": "code",
   "execution_count": 11,
   "metadata": {
    "collapsed": false,
    "jupyter": {
     "outputs_hidden": false
    },
    "pycharm": {
     "name": "#%%\n"
    }
   },
   "outputs": [
    {
     "name": "stdout",
     "output_type": "stream",
     "text": [
      "[datetime.datetime(1924, 7, 13, 0, 0),\n",
      " datetime.datetime(1918, 8, 18, 0, 0),\n",
      " datetime.datetime(1924, 2, 24, 0, 0),\n",
      " datetime.datetime(1916, 8, 6, 0, 0),\n",
      " datetime.datetime(1913, 6, 18, 0, 0),\n",
      " datetime.datetime(1924, 2, 17, 0, 0),\n",
      " datetime.datetime(1914, 6, 2, 0, 0),\n",
      " datetime.datetime(1912, 7, 14, 0, 0),\n",
      " datetime.datetime(1922, 9, 17, 0, 0),\n",
      " datetime.datetime(1917, 5, 13, 0, 0)]\n"
     ]
    }
   ],
   "source": [
    "# converts dates from (e.g., 19180818 to 1918/08/18)\n",
    "from datetime import datetime\n",
    "for date in range(len(dates)):\n",
    "    dates[date] = datetime.strptime(dates[date],'%Y%m%d')\n",
    "pprint(dates[0:10])"
   ]
  },
  {
   "cell_type": "code",
   "execution_count": 12,
   "metadata": {
    "collapsed": false,
    "jupyter": {
     "outputs_hidden": false
    },
    "pycharm": {
     "name": "#%%\n"
    }
   },
   "outputs": [
    {
     "data": {
      "image/png": "[encoded data removed]",
      "text/plain": [
       "<Figure size 432x288 with 1 Axes>"
      ]
     },
     "metadata": {
      "needs_background": "light"
     },
     "output_type": "display_data"
    }
   ],
   "source": [
    "# plot the number of records and dates\n",
    "import matplotlib.pyplot as plt\n",
    "fig, ax = plt.subplots()\n",
    "plt.hist(dates, bins=10,edgecolor='black')\n",
    "# Rotates and right-aligns the x labels so they don't crowd each other.\n",
    "for label in ax.get_xticklabels(which='major'):\n",
    "    label.set(rotation=30, horizontalalignment='right')\n",
    "plt.show()"
   ]
  },
  {
   "cell_type": "markdown",
   "metadata": {
    "pycharm": {
     "name": "#%% md\n"
    }
   },
   "source": [
    "## 3. Sunday Comic Titles in the Age-herald\n",
    "The Age - Herald published comics every Sunday, we will try to extract the titles of those published on page 15 of the 17th October 1897 edition."
   ]
  },
  {
   "cell_type": "code",
   "execution_count": 13,
   "metadata": {
    "collapsed": false,
    "jupyter": {
     "outputs_hidden": false
    },
    "pycharm": {
     "name": "#%%\n"
    }
   },
   "outputs": [
    {
     "name": "stdout",
     "output_type": "stream",
     "text": [
      "SONGS AND THEIR SINGERS.\n",
      "V- ârm QBmAigb* ,-â¢ ... *â¢** -j.\n",
      "ih\n",
      "â 'Tis hard to give the hand where the heart can never be!â\n",
      "âPunch.\n",
      "A SIMILE FAR FETCHED. A CHANGE OF HEART.\n",
      "Priscilla is my Klondike girl, HeâI think I shall have to preach\n",
      "At least I call her so. a bicycle sermon tomorrow advis\n",
      "There's gold in every straggling ing all my parishioners to ride a\n",
      "â¢i- curl, wheel.\n",
      "Alluring in its glow. SheâWhy, Joseph, it was only\n",
      "The appellation's naught to do, three weeks ago that you\n"
     ]
    }
   ],
   "source": [
    "request=requests.get(api+\"lccn/sn86072192/1897-10-31/ed-1/seq-14/ocr.txt\").text\n",
    "print(request[0:500]) # show first 500 characters"
   ]
  },
  {
   "cell_type": "code",
   "execution_count": 14,
   "metadata": {
    "collapsed": false,
    "jupyter": {
     "outputs_hidden": false
    },
    "pycharm": {
     "name": "#%%\n"
    }
   },
   "outputs": [
    {
     "name": "stdout",
     "output_type": "stream",
     "text": [
      "SONGS AND THEIR SINGERS \n",
      "A SIMILE FAR FETCHED A CHANGE OF HEART \n",
      "THE PUG DOG PAPA S LAMENT \n",
      "TRUE UP TO A CERTAIN POINT SURE TEST \n",
      " SCORCHING AFTER NEW YORK S BICYCLE VOTE \n",
      "A HORSE SHOW SUGGESTION \n",
      "VAN WYCK ON ONE WHEEL GEORGE IN A BROWN STUDY \n",
      "THE DOCTOR S MOTTO SHREWDNESS NEEDED X\n",
      "HER REPUTATIONS \n",
      "THE FINAL CALL \n",
      "THE REPLY OF SPAIN \n",
      "LOW RIDES ERECT GEN TRACY S CLEVER DODGE \n",
      "WHY HE LIKED IT \n",
      "PAPA KNOWS \n",
      "AN EXCUSE \n",
      "NOT FOR HIM \n",
      "IN THE FIRELIGHT \n",
      "L WHERE NIGHTS LAST SIX MONTHS \n",
      "ALACK ALACK \n",
      " T SOUNDED QUEER \n",
      "MUCH THE SAME THING \n",
      "A KLONDIKER \n",
      "THE MAN WHO IS WEARING A DIAMOND RING FOR THE FIRST TIME \n"
     ]
    }
   ],
   "source": [
    "# There is a lot of text here along with random characters and non-interpretable characters.\n",
    "# Our approach here to get some of the titles will be to only keep \n",
    "# uppercase letters and lines that are at least 75% letters\n",
    "import re\n",
    "for k in request.split(\"\\n\"):\n",
    "    # [^A-Z]+ replaces all non-uppercase letters with spaces\n",
    "    line= re.sub(r\"[^A-Z]+\", ' ', k) # removes everything that is not a capital letter\n",
    "    spaces = line.count(\" \") # counts the number of spaces\n",
    "    size = len(line) # takes the length of the line\n",
    "    letters = size-spaces # calculates the letters from the size of line and number of spaces\n",
    "    if(letters/size>=.75): # checks is the letters make up 75 percent of the line\n",
    "        print(line)"
   ]
  },
  {
   "cell_type": "markdown",
   "metadata": {
    "pycharm": {
     "name": "#%% md\n"
    }
   },
   "source": [
    "## 4. Industrialization keywords frequency in the Birmingham Age-herald\n",
    "We will try to obtain the frequency of “Iron” on the front pages of the Birmingham Age- herald newspapers from the year 1900 to 1920. (limited to first 500 rows for testing here)"
   ]
  },
  {
   "cell_type": "code",
   "execution_count": 15,
   "metadata": {
    "collapsed": false,
    "jupyter": {
     "outputs_hidden": false
    },
    "pycharm": {
     "name": "#%%\n"
    }
   },
   "outputs": [],
   "source": [
    "request = requests.get(api+\"search/pages/results/?state=Alabama&lccn=sn85038485&dateFilterType=yearRange&date1=1900&date2=1920&sequence=1&andtext=Iron&rows=500&searchType=advanced&format=json\").json()"
   ]
  },
  {
   "cell_type": "code",
   "execution_count": 19,
   "metadata": {
    "collapsed": false,
    "jupyter": {
     "outputs_hidden": false
    },
    "pycharm": {
     "name": "#%%\n"
    }
   },
   "outputs": [
    {
     "name": "stdout",
     "output_type": "stream",
     "text": [
      "['19090113',\n",
      " '19120123',\n",
      " '19170310',\n",
      " '19060816',\n",
      " '19090626',\n",
      " '19050404',\n",
      " '19120215',\n",
      " '19080108',\n",
      " '19060412',\n",
      " '19110803']\n"
     ]
    }
   ],
   "source": [
    "# pprint(request[\"items\"][0])\n",
    "dates = []\n",
    "for item in range(len(request[\"items\"])):\n",
    "    dates.append(request[\"items\"][item][\"date\"])\n",
    "pprint(dates[0:10])"
   ]
  },
  {
   "cell_type": "code",
   "execution_count": 20,
   "metadata": {},
   "outputs": [
    {
     "data": {
      "text/plain": [
       "500"
      ]
     },
     "execution_count": 20,
     "metadata": {},
     "output_type": "execute_result"
    }
   ],
   "source": [
    "len(dates)"
   ]
  },
  {
   "cell_type": "code",
   "execution_count": 21,
   "metadata": {
    "collapsed": false,
    "jupyter": {
     "outputs_hidden": false
    },
    "pycharm": {
     "name": "#%%\n"
    }
   },
   "outputs": [
    {
     "name": "stdout",
     "output_type": "stream",
     "text": [
      "[datetime.datetime(1909, 1, 13, 0, 0),\n",
      " datetime.datetime(1912, 1, 23, 0, 0),\n",
      " datetime.datetime(1917, 3, 10, 0, 0),\n",
      " datetime.datetime(1906, 8, 16, 0, 0),\n",
      " datetime.datetime(1909, 6, 26, 0, 0),\n",
      " datetime.datetime(1905, 4, 4, 0, 0),\n",
      " datetime.datetime(1912, 2, 15, 0, 0),\n",
      " datetime.datetime(1908, 1, 8, 0, 0),\n",
      " datetime.datetime(1906, 4, 12, 0, 0),\n",
      " datetime.datetime(1911, 8, 3, 0, 0)]\n"
     ]
    }
   ],
   "source": [
    "from datetime import datetime\n",
    "for date in range(len(dates)):\n",
    "    dates[date] = datetime.strptime(dates[date],'%Y%m%d')\n",
    "pprint(dates[0:10])"
   ]
  },
  {
   "cell_type": "code",
   "execution_count": 22,
   "metadata": {
    "collapsed": false,
    "jupyter": {
     "outputs_hidden": false
    },
    "pycharm": {
     "name": "#%%\n"
    }
   },
   "outputs": [
    {
     "data": {
      "image/png": "[encoded data removed]",
      "text/plain": [
       "<Figure size 432x288 with 1 Axes>"
      ]
     },
     "metadata": {
      "needs_background": "light"
     },
     "output_type": "display_data"
    }
   ],
   "source": [
    "import matplotlib.pyplot as plt\n",
    "fig, ax = plt.subplots()\n",
    "plt.hist(dates, bins=20,edgecolor='black')\n",
    "# fig.set_size_inches(18.5, 10.5)\n",
    "# Rotates and right-aligns the x labels so they don't crowd each other.\n",
    "for label in ax.get_xticklabels(which='major'):\n",
    "    label.set(rotation=30, horizontalalignment='right')\n",
    "plt.show()"
   ]
  }
 ],
 "metadata": {
  "kernelspec": {
   "display_name": "Python 3 (ipykernel)",
   "language": "python",
   "name": "python3"
  },
  "language_info": {
   "codemirror_mode": {
    "name": "ipython",
    "version": 3
   },
   "file_extension": ".py",
   "mimetype": "text/x-python",
   "name": "python",
   "nbconvert_exporter": "python",
   "pygments_lexer": "ipython3",
   "version": "3.9.13"
  }
 },
 "nbformat": 4,
 "nbformat_minor": 4
}
