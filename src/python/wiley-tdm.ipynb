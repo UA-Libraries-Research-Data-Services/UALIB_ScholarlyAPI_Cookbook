{
 "cells": [
  {
   "cell_type": "markdown",
   "metadata": {},
   "source": [
    "# Wiley Text and Data Mining (TDM) in Python\n",
    "\n",
    "by Michael T. Moen\n",
    "\n",
    "The Wiley Text and Data Mining (TDM) API allows users to retrieve the full-text articles of subscribed Wiley content in PDF form. TDM use is for non-commercial scholarly research, see terms and restrictions in below links.\n",
    "\n",
    "*This tutorial content is intended to help facilitate academic research. Please check your institution for their Text and Data Mining or related License Agreement with Wiley.*\n",
    "\n",
    "Please see the following resources for more information on API usage:\n",
    "\n",
    "- Documentation\n",
    "    - <a href=\"https://onlinelibrary.wiley.com/library-info/resources/text-and-datamining\" target=\"_blank\">Wiley Text and Data Mining</a>\n",
    "- Terms\n",
    "    - <a href=\"https://onlinelibrary.wiley.com/library-info/resources/text-and-datamining#accordionHeader-3\" target=\"_blank\">Wiley Text and Data Mining Agreement</a>\n",
    "- Data Reuse\n",
    "    - <a href=\"https://onlinelibrary.wiley.com/library-info/resources/text-and-datamining#accordionHeader-3\" target=\"_blank\">Wiley TDM Data Reuse</a> (see sections 4 and 5 of Text and Data Mining Agreement)\n",
    "\n",
    "*These recipe examples were tested on April 4, 2025.*\n",
    "\n",
    "**_NOTE:_** The Wiley TDM API limits requests to a maximum of 3 requests per second."
   ]
  },
  {
   "cell_type": "markdown",
   "metadata": {},
   "source": [
    "## Setup\n",
    "\n",
    "### Import Libraries\n",
    "\n",
    "The following external libraries need to be installed into your enviornment to run the code examples in this tutorial:\n",
    "\n",
    "- <a href=\"https://github.com/ipython/ipykernel\" target=\"_blank\">ipykernel</a>\n",
    "- <a href=\"https://github.com/psf/requests\" target=\"_blank\">requests</a>\n",
    "- <a href=\"https://github.com/theskumar/python-dotenv\" target=\"_blank\">python-dotenv</a>\n",
    "\n",
    "We import the libraries used in this tutorial below:"
   ]
  },
  {
   "cell_type": "code",
   "execution_count": 1,
   "metadata": {},
   "outputs": [],
   "source": [
    "import os\n",
    "import requests\n",
    "from time import sleep\n",
    "from dotenv import load_dotenv"
   ]
  },
  {
   "cell_type": "markdown",
   "metadata": {},
   "source": [
    "### Import Text and Data Mining Token\n",
    "\n",
    "An token is required for text and data mining with Wiley. You can sign up for one <a href=\"https://onlinelibrary.wiley.com/library-info/resources/text-and-datamining#accordionHeader-2\" target=\"_blank\">here</a>.\n",
    "\n",
    "We keep our token in a `.env` file and use the `dotenv` library to access it. If you would like to use this method, create a `.env` file and add the following line to it:\n",
    "\n",
    "```text\n",
    "WILEY_TDM_TOKEN=PUT_YOUR_TOKEN_HERE\n",
    "```"
   ]
  },
  {
   "cell_type": "code",
   "execution_count": null,
   "metadata": {},
   "outputs": [],
   "source": [
    "load_dotenv()\n",
    "try:\n",
    "    WILEY_TDM_TOKEN = os.environ[\"WILEY_TDM_TOKEN\"]\n",
    "except KeyError:\n",
    "    print(\"Token not found. Please set 'WILEY_TDM_TOKEN' in your .env file.\")"
   ]
  },
  {
   "cell_type": "markdown",
   "metadata": {},
   "source": [
    "## 1. Retrieve Full-Text of an Article\n",
    "\n",
    "The Wiley TDM API returns the full-text of an article as a PDF when given the article's DOI.\n",
    "\n",
    "In the first example, we download the full-text of the article with the DOI \"10.1002/net.22207\". This article was found on the Wiley Online Library."
   ]
  },
  {
   "cell_type": "code",
   "execution_count": null,
   "metadata": {},
   "outputs": [
    {
     "name": "stdout",
     "output_type": "stream",
     "text": [
      "10.1002_net.22207.pdf downloaded successfully\n"
     ]
    }
   ],
   "source": [
    "# DOI of article to download\n",
    "doi = '10.1002/net.22207'\n",
    "url = f'https://api.wiley.com/onlinelibrary/tdm/v1/articles/{doi}'\n",
    "headers = {\n",
    "    \"Wiley-TDM-Client-Token\": WILEY_TDM_TOKEN\n",
    "}\n",
    "response = requests.get(url, headers=headers)\n",
    "\n",
    "# Download PDF if status code indicates success\n",
    "if response.status_code == 200:\n",
    "    filename = f'{doi.replace('/', '_')}.pdf'\n",
    "    with open(filename, 'wb') as file:\n",
    "        file.write(response.content)\n",
    "    print(f'{filename} downloaded successfully')\n",
    "else:\n",
    "    print(f'Failed to download PDF. Status code: {response.status_code}')"
   ]
  },
  {
   "cell_type": "markdown",
   "metadata": {},
   "source": [
    "## 2. Retrieve Full-Text of Multiple Articles\n",
    "\n",
    "In this example, we download 5 articles found in the Wiley Online Library:"
   ]
  },
  {
   "cell_type": "code",
   "execution_count": null,
   "metadata": {},
   "outputs": [
    {
     "name": "stdout",
     "output_type": "stream",
     "text": [
      "10.1111_j.1467-8624.2010.01564.x.pdf downloaded successfully\n",
      "10.1111_1467-8624.00164.pdf downloaded successfully\n",
      "10.1111_cdev.12864.pdf downloaded successfully\n",
      "10.1111_j.1467-8624.2007.00995.x.pdf downloaded successfully\n",
      "10.1111_j.1467-8624.2010.01499.x.pdf downloaded successfully\n",
      "Failed to download PDF for 10.1111/j.1467-8624.2010.0149.x. Status code: 404\n"
     ]
    }
   ],
   "source": [
    "# DOIs of articles to download\n",
    "dois = [\n",
    "    '10.1111/j.1467-8624.2010.01564.x',\n",
    "    '10.1111/1467-8624.00164',\n",
    "    '10.1111/cdev.12864',\n",
    "    '10.1111/j.1467-8624.2007.00995.x',\n",
    "    '10.1111/j.1467-8624.2010.01499.x',\n",
    "    '10.1111/j.1467-8624.2010.0149.x'   # Invalid DOI, will throw error\n",
    "]\n",
    "\n",
    "# Send an HTTP request for each DOI\n",
    "for doi in dois:\n",
    "    url = f'https://api.wiley.com/onlinelibrary/tdm/v1/articles/{doi}'\n",
    "    response = requests.get(url, headers=headers)\n",
    "\n",
    "    # Download PDF if status code indicates success\n",
    "    if response.status_code == 200:\n",
    "        filename = f'{doi.replace('/', '_')}.pdf'\n",
    "        with open(filename, 'wb') as file:\n",
    "            file.write(response.content)\n",
    "        print(f'{filename} downloaded successfully')\n",
    "    else:\n",
    "        print(f'Failed to download PDF for {doi.replace('%2f', '/')}.')\n",
    "        print(f'Status code: {response.status_code}')\n",
    "    sleep(1)    # Wait 1 second to be nice on Wiley's servers"
   ]
  }
 ],
 "metadata": {
  "kernelspec": {
   "display_name": "api_env",
   "language": "python",
   "name": "python3"
  },
  "language_info": {
   "codemirror_mode": {
    "name": "ipython",
    "version": 3
   },
   "file_extension": ".py",
   "mimetype": "text/x-python",
   "name": "python",
   "nbconvert_exporter": "python",
   "pygments_lexer": "ipython3",
   "version": "3.13.2"
  },
  "orig_nbformat": 4
 },
 "nbformat": 4,
 "nbformat_minor": 2
}
