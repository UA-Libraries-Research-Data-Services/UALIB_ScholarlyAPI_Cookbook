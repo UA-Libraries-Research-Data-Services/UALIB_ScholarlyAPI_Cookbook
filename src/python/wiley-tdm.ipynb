{
 "cells": [
  {
   "cell_type": "markdown",
   "metadata": {},
   "source": [
    "# Wiley Text and Data Mining (TDM) in Python\n",
    "\n",
    "by Michael T. Moen\n",
    "\n",
    "**Wiley TDM:** https://onlinelibrary.wiley.com/library-info/resources/text-and-datamining\n",
    "\n",
    "**Wiley TDM Terms of Use:** Please check with your institution to see their Text and Data Mining Agreement\n",
    "\n",
    "The Wiley Text and Data Mining (TDM) API allows users to retrieve the full-text articles of Wiley content in PDF form.\n",
    "\n",
    "*These recipe examples were tested on January 19, 2024.*\n",
    "\n",
    "**_NOTE:_** The Wiley TDM API limits requests to a maximum of 3 requests per second."
   ]
  },
  {
   "cell_type": "markdown",
   "metadata": {},
   "source": [
    "## Setup\n",
    "\n",
    "### Text and Data Mining Token\n",
    "\n",
    "A token is required to access the Wiley TDM API. Sign up can be found [here](https://onlinelibrary.wiley.com/library-info/resources/text-and-datamining#accordionHeader-2): \n",
    "\n",
    "Add your token below:"
   ]
  },
  {
   "cell_type": "code",
   "execution_count": 1,
   "metadata": {},
   "outputs": [],
   "source": [
    "wiley_token = \"\""
   ]
  },
  {
   "cell_type": "markdown",
   "metadata": {},
   "source": [
    "Alternatively, you can save the above data in a separate python file and import it:"
   ]
  },
  {
   "cell_type": "code",
   "execution_count": 2,
   "metadata": {},
   "outputs": [],
   "source": [
    "from wiley_token import wiley_token"
   ]
  },
  {
   "cell_type": "markdown",
   "metadata": {},
   "source": [
    "### Import Libraries\n",
    "\n",
    "This tutorial uses the following libraries:"
   ]
  },
  {
   "cell_type": "code",
   "execution_count": 3,
   "metadata": {},
   "outputs": [],
   "source": [
    "import requests                     # Manages API requests\n",
    "from time import sleep              # Allows staggering of API requests to conform to rate limits"
   ]
  },
  {
   "cell_type": "markdown",
   "metadata": {},
   "source": [
    "## 1. Retrieve full-text of an article\n",
    "\n",
    "The Wiley TDM API returns the full-text of an article as a PDF when given the article's DOI.\n",
    "\n",
    "In the first example, we download the full-text of the article with the DOI \"10.1002/net.22207\". This article was found on the Wiley Online Library."
   ]
  },
  {
   "cell_type": "code",
   "execution_count": 4,
   "metadata": {},
   "outputs": [
    {
     "name": "stdout",
     "output_type": "stream",
     "text": [
      "10.1002_net.22207.pdf downloaded successfully\n"
     ]
    }
   ],
   "source": [
    "# DOI of article to download\n",
    "doi = '10.1002/net.22207'\n",
    "\n",
    "# Construct URL\n",
    "url = f'https://api.wiley.com/onlinelibrary/tdm/v1/articles/{doi}'\n",
    "\n",
    "# Include token in header\n",
    "headers = {\n",
    "    \"Wiley-TDM-Client-Token\": wiley_token\n",
    "}\n",
    "\n",
    "# Make a GET request to the Wiley TDM API\n",
    "response = requests.get(url, headers=headers)\n",
    "\n",
    "# Download PDF if status code indicates success\n",
    "if response.status_code == 200:\n",
    "\n",
    "    # Name file after the DOI\n",
    "    filename = f'{doi.replace('/', '_')}.pdf'\n",
    "\n",
    "    # Write data to PDF file\n",
    "    with open(filename, 'wb') as file:\n",
    "        file.write(response.content)\n",
    "\n",
    "    print(f'{filename} downloaded successfully')\n",
    "\n",
    "# Print status code if unsuccessful\n",
    "else:\n",
    "    print(f'Failed to download PDF. Status code: {response.status_code}')"
   ]
  },
  {
   "cell_type": "markdown",
   "metadata": {},
   "source": [
    "## 2. Retrieve full-text of multiple articles\n",
    "\n",
    "In this example, we download 5 articles found in the Wiley Online Library:"
   ]
  },
  {
   "cell_type": "code",
   "execution_count": 5,
   "metadata": {},
   "outputs": [
    {
     "name": "stdout",
     "output_type": "stream",
     "text": [
      "10.1111_j.1467-8624.2010.01564.x.pdf downloaded successfully\n",
      "10.1111_1467-8624.00164.pdf downloaded successfully\n",
      "10.1111_cdev.12864.pdf downloaded successfully\n",
      "10.1111_j.1467-8624.2007.00995.x.pdf downloaded successfully\n",
      "10.1111_j.1467-8624.2010.01499.x.pdf downloaded successfully\n",
      "Failed to download PDF for 10.1111/j.1467-8624.2010.0149.x. Status code: 404\n"
     ]
    }
   ],
   "source": [
    "# DOIs of articles to download\n",
    "dois = [\n",
    "    '10.1111/j.1467-8624.2010.01564.x',\n",
    "    '10.1111/1467-8624.00164',\n",
    "    '10.1111/cdev.12864',\n",
    "    '10.1111/j.1467-8624.2007.00995.x',\n",
    "    '10.1111/j.1467-8624.2010.01499.x',\n",
    "    '10.1111/j.1467-8624.2010.0149.x'       # Invalid DOI, will throw error\n",
    "]\n",
    "\n",
    "# Include token in header\n",
    "headers = {\n",
    "    \"Wiley-TDM-Client-Token\": wiley_token\n",
    "}\n",
    "\n",
    "# Send an HTTP request for each DOI\n",
    "for doi in dois:\n",
    "\n",
    "    # Construct URL\n",
    "    url = f'https://api.wiley.com/onlinelibrary/tdm/v1/articles/{doi}'\n",
    "\n",
    "    # Make a GET request to the Wiley TDM API\n",
    "    response = requests.get(url, headers=headers)\n",
    "\n",
    "    # Download PDF if status code indicates success\n",
    "    if response.status_code == 200:\n",
    "\n",
    "        # Name file after the DOI\n",
    "        filename = f'{doi.replace('/', '_')}.pdf'\n",
    "\n",
    "        # Write data to PDF file\n",
    "        with open(filename, 'wb') as file:\n",
    "            file.write(response.content)\n",
    "\n",
    "        print(f'{filename} downloaded successfully')\n",
    "\n",
    "    # Print status code if unsuccessful\n",
    "    else:\n",
    "        print(f'Failed to download PDF for {doi.replace('%2f', '/')}. Status code: {response.status_code}')\n",
    "    \n",
    "    # Wait 1 second to be nice on Wiley's servers\n",
    "    sleep(1)"
   ]
  }
 ],
 "metadata": {
  "kernelspec": {
   "display_name": "cookbook-env",
   "language": "python",
   "name": "python3"
  },
  "language_info": {
   "codemirror_mode": {
    "name": "ipython",
    "version": 3
   },
   "file_extension": ".py",
   "mimetype": "text/x-python",
   "name": "python",
   "nbconvert_exporter": "python",
   "pygments_lexer": "ipython3",
   "version": "3.12.0"
  },
  "orig_nbformat": 4
 },
 "nbformat": 4,
 "nbformat_minor": 2
}
