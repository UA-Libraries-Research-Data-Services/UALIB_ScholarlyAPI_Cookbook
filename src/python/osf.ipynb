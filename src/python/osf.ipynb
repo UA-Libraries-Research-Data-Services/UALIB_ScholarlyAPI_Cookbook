{
 "cells": [
  {
   "cell_type": "markdown",
   "metadata": {},
   "source": [
    "# Open Science Framework (OSF) API in Python\n",
    "\n",
    "by Avery Fernandez and Michael T. Moen\n",
    "\n",
    "**OSF API Documentation:** [https://developer.osf.io/](https://developer.osf.io/)\n",
    "\n",
    "**OSF API Terms of Use:** [https://developer.osf.io/#tag/Terms-of-use](https://developer.osf.io/#tag/Terms-of-use)\n",
    "\n",
    "The OSF Preprints API allows users to fetch metadata and other information related to preprints hosted on the OSF platform. This cookbook will guide you through the setup and usage of the API, including fetching metadata for preprints, downloading PDFs, and processing data.\n",
    "\n",
    "*These recipe examples were tested on December 3, 2024.*\n",
    "\n",
    "**_NOTE:_** The OSF Preprints API limits requests to a maximum of 100 per hour without an access token, but 10,000 requests per day with an access token."
   ]
  },
  {
   "cell_type": "markdown",
   "metadata": {},
   "source": [
    "## Setup\n",
    "\n",
    "### Access Token\n",
    "\n",
    "Authentication is not required to access the OSF Preprints API, but will increase your rate limit. Sign up can be found here: https://osf.io/settings/tokens/"
   ]
  },
  {
   "cell_type": "code",
   "execution_count": 1,
   "metadata": {},
   "outputs": [],
   "source": [
    "from api_token import token"
   ]
  },
  {
   "cell_type": "markdown",
   "metadata": {},
   "source": [
    "Now, we can create a header to pass with our token:"
   ]
  },
  {
   "cell_type": "code",
   "execution_count": 2,
   "metadata": {},
   "outputs": [],
   "source": [
    "headers = {'Authorization': f'Bearer {token}'}"
   ]
  },
  {
   "cell_type": "markdown",
   "metadata": {},
   "source": [
    "### Import Libraries\n",
    "\n",
    "This tutorial uses the following libraries:"
   ]
  },
  {
   "cell_type": "code",
   "execution_count": null,
   "metadata": {},
   "outputs": [],
   "source": [
    "import requests\n",
    "import pandas as pd\n",
    "from time import sleep\n",
    "import os"
   ]
  },
  {
   "cell_type": "markdown",
   "metadata": {},
   "source": [
    "## 1. Fetching CC-BY 4.0 License Info\n",
    "\n",
    "Using the `licenses` endpoint, we can find data relating to various licenses. In this example, we limit our search to CC-BY 4.0 licenses."
   ]
  },
  {
   "cell_type": "code",
   "execution_count": 5,
   "metadata": {},
   "outputs": [
    {
     "name": "stdout",
     "output_type": "stream",
     "text": [
      "CC-By Attribution 4.0 International\n",
      "https://creativecommons.org/licenses/by/4.0/legalcode \n",
      "\n",
      "CC-BY Attribution-No Derivatives 4.0 International\n",
      "https://creativecommons.org/licenses/by-nd/4.0/legalcode \n",
      "\n",
      "CC-BY Attribution-NonCommercial 4.0 International\n",
      "https://creativecommons.org/licenses/by-nc/4.0/legalcode \n",
      "\n",
      "CC-BY Attribution-NonCommercial-ShareAlike 4.0 International\n",
      "https://creativecommons.org/licenses/by-nc-sa/4.0/legalcode \n",
      "\n"
     ]
    }
   ],
   "source": [
    "url = 'https://api.osf.io/v2/licenses?filter[name]=cc-by&filter[name]=4.0'\n",
    "response = requests.get(url, headers=headers)\n",
    "data = response.json()\n",
    "for license in data['data']:\n",
    "    print(license['attributes']['name'])\n",
    "    print(license['attributes']['url'], '\\n')"
   ]
  },
  {
   "cell_type": "markdown",
   "metadata": {},
   "source": [
    "From the data returned, we can also retrieve the full-text of the licenses."
   ]
  },
  {
   "cell_type": "code",
   "execution_count": 6,
   "metadata": {},
   "outputs": [
    {
     "name": "stdout",
     "output_type": "stream",
     "text": [
      "Creative Commons Attribution 4.0 International Public License\n",
      "\n",
      "By exercising the Licensed Rights (defined below), You accept and agree to be bound by the terms and conditions of this Creative Commons Attribution 4.0 International Public License (\"Public License\").\n"
     ]
    }
   ],
   "source": [
    "# Output limited to the first 264 characters for demonstration purposes\n",
    "print(data['data'][0]['attributes']['text'][:264])"
   ]
  },
  {
   "cell_type": "markdown",
   "metadata": {},
   "source": [
    "For the next example, we will create the `ccby4_ids` dictionary so that we can check the license of preprints when obtaining metadata."
   ]
  },
  {
   "cell_type": "code",
   "execution_count": 32,
   "metadata": {},
   "outputs": [
    {
     "data": {
      "text/plain": [
       "{'563c1cf88c5e4a3877f9e96a': 'CC-By Attribution 4.0 International',\n",
       " '60bf983b58510b0009a5a9a4': 'CC-BY Attribution-No Derivatives 4.0 International',\n",
       " '60bf992258510b0009a5a9a6': 'CC-BY Attribution-NonCommercial 4.0 International',\n",
       " '60bf99e058510b0009a5a9a9': 'CC-BY Attribution-NonCommercial-ShareAlike 4.0 International'}"
      ]
     },
     "execution_count": 32,
     "metadata": {},
     "output_type": "execute_result"
    }
   ],
   "source": [
    "ccby4_ids = {}\n",
    "for license in data['data']:\n",
    "    ccby4_ids[license['id']] = license['attributes']['name']\n",
    "\n",
    "ccby4_ids"
   ]
  },
  {
   "cell_type": "markdown",
   "metadata": {},
   "source": [
    "## 2. Fetching Preprint Metadata and PDFs\n",
    "\n",
    "In this use case, we will fetch the metadata for preprints that fall under a specified subject and are licensed under CC-BY 4.0 using the `preprints` endpoint. The metadata includes titles, publication dates, DOIs, authors, and PDF URLs."
   ]
  },
  {
   "cell_type": "markdown",
   "metadata": {},
   "source": [
    "### Function to Fetch Preprints Metadata\n",
    "\n",
    "This function retrieves the metadata of CC-BY 4.0 preprints for a given subject, using the `ccby4_ids` obtained in the previous example to determine whether a preprint is CC-BY 4.0. For the sake of demonstration, only the first 100 preprints returned by the API are examined in this example."
   ]
  },
  {
   "cell_type": "code",
   "execution_count": 33,
   "metadata": {},
   "outputs": [
    {
     "data": {
      "text/plain": [
       "67"
      ]
     },
     "execution_count": 33,
     "metadata": {},
     "output_type": "execute_result"
    }
   ],
   "source": [
    "# Function for fetching the metadata of preprints of a subject,\n",
    "# keeping only CC-BY 4.0 preprints\n",
    "def fetch_preprints_metadata(subject : str, limit : int=1):\n",
    "    base_url = 'https://api.osf.io/v2/preprints'\n",
    "    params = {\n",
    "        'filter[subjects]': subject,\n",
    "        'page[size]': 100\n",
    "    }\n",
    "    \n",
    "    preprints = []\n",
    "    url = base_url\n",
    "    iteration = 0\n",
    "    while url and iteration < limit:\n",
    "        iteration += 1\n",
    "        if url == base_url:\n",
    "            response = requests.get(url, params=params, headers=headers)\n",
    "        else:\n",
    "            response = requests.get(url, headers=headers)\n",
    "        sleep(1)\n",
    "        data = response.json()\n",
    "\n",
    "        # Check if the preprint licenses are CC-BY 4.0\n",
    "        for preprint in data['data']:\n",
    "\n",
    "            # Check if the 'relationships' key is in the 'preprints' dictionary,\n",
    "            # and then if the 'license' key is inside that dictionary\n",
    "            if not preprint.get('relationships', {}).get('license'):\n",
    "                continue\n",
    "            \n",
    "            if preprint['relationships']['license']['data']['id'] in ccby4_ids:\n",
    "                preprints.append(preprint)\n",
    "\n",
    "        url = data['links'].get('next')\n",
    "    return preprints\n",
    "\n",
    "# Retrieve the metadata for the CC-BY 4.0 preprints in the first 100 results\n",
    "ccby4_metadata = fetch_preprints_metadata(subject='Education', limit=1)\n",
    "\n",
    "# Print number of CC-BY 4.0 preprints found\n",
    "len(ccby4_metadata)"
   ]
  },
  {
   "cell_type": "markdown",
   "metadata": {},
   "source": [
    "### Function to Get Contributors\n",
    "\n",
    "This function will be used by the `process_preprints` function below to find the contributors from the preprint metadata."
   ]
  },
  {
   "cell_type": "code",
   "execution_count": 34,
   "metadata": {},
   "outputs": [],
   "source": [
    "def get_contributors(contributors_url):\n",
    "    if contributors_url is None:\n",
    "        return []\n",
    "    response = requests.get(contributors_url, headers=headers)\n",
    "    data = response.json()\n",
    "    contributors = []\n",
    "    for contributor in data['data']:\n",
    "        contributors.append(contributor['embeds']['users']['data']['attributes']['full_name'])\n",
    "    return contributors"
   ]
  },
  {
   "cell_type": "markdown",
   "metadata": {},
   "source": [
    "### Function to Get PDF URL\n",
    "\n",
    "This function will be used by the `get_pdf_url` function below to find the URL of the PDF from the preprint metadata."
   ]
  },
  {
   "cell_type": "code",
   "execution_count": 35,
   "metadata": {},
   "outputs": [],
   "source": [
    "def get_pdf_url(files_url):\n",
    "    if files_url is None:\n",
    "        return None\n",
    "\n",
    "    response = requests.get(files_url + '/versions/', headers=headers)\n",
    "    data = response.json()\n",
    "\n",
    "    for file in data['data']:\n",
    "        if file['links'].get('download'):\n",
    "            return file['links']['download']"
   ]
  },
  {
   "cell_type": "markdown",
   "metadata": {},
   "source": [
    "### Processing Preprints\n",
    "\n",
    "The following function processes the preprints metadata and downloads the PDFs for preprints that have a CC-BY 4.0 license."
   ]
  },
  {
   "cell_type": "code",
   "execution_count": 42,
   "metadata": {},
   "outputs": [],
   "source": [
    "def process_preprints(preprints, subject):\n",
    "    os.makedirs(f\"{subject}_pdfs\", exist_ok=True)\n",
    "\n",
    "    metadata_list = []\n",
    "    \n",
    "    for preprint in preprints:\n",
    "        title = None\n",
    "        date = None\n",
    "        doi = None\n",
    "        reviewed_doi = None\n",
    "        authors = None\n",
    "        pdf_url = None\n",
    "\n",
    "        if preprint.get('attributes', {}).get('title'):\n",
    "            title = preprint['attributes']['title']\n",
    "\n",
    "        if preprint.get('attributes', {}).get('date_published'):\n",
    "            date = preprint['attributes']['date_published']\n",
    "\n",
    "        if preprint.get('attributes', {}).get('doi'):\n",
    "            doi = preprint['attributes']['doi']\n",
    "\n",
    "        if preprint.get('links', {}).get('preprint_doi'):\n",
    "            reviewed_doi = preprint['links']['preprint_doi']\n",
    "\n",
    "        if preprint.get('relationships', {}).get('contributors', {}).get('links', {}).get('related'):\n",
    "            authors = get_contributors(preprint['relationships']['contributors']['links']['related']['href'])\n",
    "\n",
    "        if preprint.get('relationships', {}).get('primary_file', {}).get('links', {}).get('related'):\n",
    "            pdf_url = get_pdf_url(preprint['relationships']['primary_file']['links']['related']['href'])\n",
    "\n",
    "        license = ccby4_ids[preprint['relationships']['license']['data']['id']]\n",
    "\n",
    "        metadata = {\n",
    "            'title': title,\n",
    "            'date': date,\n",
    "            'doi': doi,\n",
    "            'peer_reviewed_doi': reviewed_doi,\n",
    "            'authors': authors,\n",
    "            'pdf_url': pdf_url,\n",
    "            'license': license\n",
    "        }\n",
    "        metadata_list.append(metadata)\n",
    "\n",
    "        # Don't download the PDF if no URL is available or the license isn't a regular CC-BY 4.0\n",
    "        if metadata['pdf_url'] is None or metadata['license'] != 'CC-By Attribution 4.0 International':\n",
    "            continue\n",
    "\n",
    "        # Download PDF\n",
    "        pdf_response = requests.get(metadata['pdf_url'], headers=headers)\n",
    "        if metadata['doi']:\n",
    "            pdf_filename = f\"{subject}_pdfs/{metadata['doi'].replace('/', '_').replace('?', '')}.pdf\"\n",
    "        else:\n",
    "            pdf_filename = f\"{subject}_pdfs/{metadata['pdf_url'].split('/')[-2]}.pdf\"\n",
    "        with open(pdf_filename, 'wb') as f:\n",
    "            f.write(pdf_response.content)\n",
    "    \n",
    "    return metadata_list"
   ]
  },
  {
   "cell_type": "markdown",
   "metadata": {},
   "source": [
    "### Example Usage\n",
    "\n",
    "Fetch metadata and download PDFs for the preprints of the subject \"Education\"."
   ]
  },
  {
   "cell_type": "code",
   "execution_count": 43,
   "metadata": {},
   "outputs": [
    {
     "data": {
      "text/html": [
       "<div>\n",
       "<style scoped>\n",
       "    .dataframe tbody tr th:only-of-type {\n",
       "        vertical-align: middle;\n",
       "    }\n",
       "\n",
       "    .dataframe tbody tr th {\n",
       "        vertical-align: top;\n",
       "    }\n",
       "\n",
       "    .dataframe thead th {\n",
       "        text-align: right;\n",
       "    }\n",
       "</style>\n",
       "<table border=\"1\" class=\"dataframe\">\n",
       "  <thead>\n",
       "    <tr style=\"text-align: right;\">\n",
       "      <th></th>\n",
       "      <th>title</th>\n",
       "      <th>date</th>\n",
       "      <th>doi</th>\n",
       "      <th>peer_reviewed_doi</th>\n",
       "      <th>authors</th>\n",
       "      <th>pdf_url</th>\n",
       "      <th>license</th>\n",
       "    </tr>\n",
       "  </thead>\n",
       "  <tbody>\n",
       "    <tr>\n",
       "      <th>0</th>\n",
       "      <td>asc2csv: A Python Package for Eye-Tracking Dat...</td>\n",
       "      <td>2024-12-02T20:51:29.311288</td>\n",
       "      <td>None</td>\n",
       "      <td>https://doi.org/10.31219/osf.io/vfpy5</td>\n",
       "      <td>[Mohammad Ahsan Khodami]</td>\n",
       "      <td>https://osf.io/download/674de0298bf0df47ff9b6a...</td>\n",
       "      <td>CC-By Attribution 4.0 International</td>\n",
       "    </tr>\n",
       "    <tr>\n",
       "      <th>1</th>\n",
       "      <td>Educational Orientation, Actively Open-Minded ...</td>\n",
       "      <td>2024-12-02T20:42:42.655100</td>\n",
       "      <td>None</td>\n",
       "      <td>https://doi.org/10.31219/osf.io/ukhc7</td>\n",
       "      <td>[Thomas Nygren, Maria Rasmusson, Malin Tväråna...</td>\n",
       "      <td>https://osf.io/download/674db6497eb1fc62e36fad...</td>\n",
       "      <td>CC-By Attribution 4.0 International</td>\n",
       "    </tr>\n",
       "    <tr>\n",
       "      <th>2</th>\n",
       "      <td>Organizational Agility: Does it Play a Role in...</td>\n",
       "      <td>2024-12-02T18:49:08.337363</td>\n",
       "      <td>10.31014/aior.1992.07.04.628</td>\n",
       "      <td>https://doi.org/10.31219/osf.io/cb5k7</td>\n",
       "      <td>[Sabbena Nthenya Kivindo, Stephen M.A. Muathe,...</td>\n",
       "      <td>https://osf.io/download/674ac32019576d09905606...</td>\n",
       "      <td>CC-By Attribution 4.0 International</td>\n",
       "    </tr>\n",
       "    <tr>\n",
       "      <th>3</th>\n",
       "      <td>Demographic Factors and Turnover Intentions am...</td>\n",
       "      <td>2024-12-02T18:47:34.595032</td>\n",
       "      <td>10.31014/aior.1992.07.04.629</td>\n",
       "      <td>https://doi.org/10.31219/osf.io/54s7k</td>\n",
       "      <td>[Dhruba Prasad Subedi, Dilli Ram Bhandari]</td>\n",
       "      <td>https://osf.io/download/674ac1976a3d9cc3025605...</td>\n",
       "      <td>CC-By Attribution 4.0 International</td>\n",
       "    </tr>\n",
       "    <tr>\n",
       "      <th>4</th>\n",
       "      <td>Investigating the Predictors of Entrepreneuria...</td>\n",
       "      <td>2024-12-02T18:46:15.221707</td>\n",
       "      <td>10.31014/aior.1992.07.04.630</td>\n",
       "      <td>https://doi.org/10.31219/osf.io/fzacq</td>\n",
       "      <td>[Ana Mariana, Bram Hadianto]</td>\n",
       "      <td>https://osf.io/download/674abb3a39e47525385607...</td>\n",
       "      <td>CC-By Attribution 4.0 International</td>\n",
       "    </tr>\n",
       "  </tbody>\n",
       "</table>\n",
       "</div>"
      ],
      "text/plain": [
       "                                               title  \\\n",
       "0  asc2csv: A Python Package for Eye-Tracking Dat...   \n",
       "1  Educational Orientation, Actively Open-Minded ...   \n",
       "2  Organizational Agility: Does it Play a Role in...   \n",
       "3  Demographic Factors and Turnover Intentions am...   \n",
       "4  Investigating the Predictors of Entrepreneuria...   \n",
       "\n",
       "                         date                           doi  \\\n",
       "0  2024-12-02T20:51:29.311288                          None   \n",
       "1  2024-12-02T20:42:42.655100                          None   \n",
       "2  2024-12-02T18:49:08.337363  10.31014/aior.1992.07.04.628   \n",
       "3  2024-12-02T18:47:34.595032  10.31014/aior.1992.07.04.629   \n",
       "4  2024-12-02T18:46:15.221707  10.31014/aior.1992.07.04.630   \n",
       "\n",
       "                       peer_reviewed_doi  \\\n",
       "0  https://doi.org/10.31219/osf.io/vfpy5   \n",
       "1  https://doi.org/10.31219/osf.io/ukhc7   \n",
       "2  https://doi.org/10.31219/osf.io/cb5k7   \n",
       "3  https://doi.org/10.31219/osf.io/54s7k   \n",
       "4  https://doi.org/10.31219/osf.io/fzacq   \n",
       "\n",
       "                                             authors  \\\n",
       "0                           [Mohammad Ahsan Khodami]   \n",
       "1  [Thomas Nygren, Maria Rasmusson, Malin Tväråna...   \n",
       "2  [Sabbena Nthenya Kivindo, Stephen M.A. Muathe,...   \n",
       "3         [Dhruba Prasad Subedi, Dilli Ram Bhandari]   \n",
       "4                       [Ana Mariana, Bram Hadianto]   \n",
       "\n",
       "                                             pdf_url  \\\n",
       "0  https://osf.io/download/674de0298bf0df47ff9b6a...   \n",
       "1  https://osf.io/download/674db6497eb1fc62e36fad...   \n",
       "2  https://osf.io/download/674ac32019576d09905606...   \n",
       "3  https://osf.io/download/674ac1976a3d9cc3025605...   \n",
       "4  https://osf.io/download/674abb3a39e47525385607...   \n",
       "\n",
       "                               license  \n",
       "0  CC-By Attribution 4.0 International  \n",
       "1  CC-By Attribution 4.0 International  \n",
       "2  CC-By Attribution 4.0 International  \n",
       "3  CC-By Attribution 4.0 International  \n",
       "4  CC-By Attribution 4.0 International  "
      ]
     },
     "execution_count": 43,
     "metadata": {},
     "output_type": "execute_result"
    }
   ],
   "source": [
    "# Note that this code block might take a few minutes to fully run\n",
    "metadata_list = process_preprints(ccby4_metadata, 'Education')\n",
    "df = pd.DataFrame(metadata_list)\n",
    "df.to_csv('preprints_metadata.csv', index=False)\n",
    "df.head()"
   ]
  },
  {
   "cell_type": "markdown",
   "metadata": {},
   "source": [
    "## 3. Batch Processing for Multiple Subjects\n",
    "\n",
    "This example demonstrates how the functions above can be used to retrieve the data and PDFs for multiple subjects."
   ]
  },
  {
   "cell_type": "code",
   "execution_count": 44,
   "metadata": {},
   "outputs": [],
   "source": [
    "subjects = [\n",
    "    \"Education\",\n",
    "    \"Social and Behavioral Sciences\"\n",
    "]"
   ]
  },
  {
   "cell_type": "code",
   "execution_count": 45,
   "metadata": {},
   "outputs": [
    {
     "name": "stdout",
     "output_type": "stream",
     "text": [
      "Saved 68 preprints for Education\n",
      "Saved 76 preprints for Social and Behavioral Sciences\n"
     ]
    }
   ],
   "source": [
    "# Note that this code block may take a few minutes to run\n",
    "for subject in subjects:\n",
    "    preprints = fetch_preprints_metadata(subject)\n",
    "    metadata_list = process_preprints(preprints, subject)\n",
    "    df = pd.DataFrame(metadata_list)\n",
    "    df.to_csv(f\"{subject}.csv\", index=False)\n",
    "    print(f\"Saved {len(metadata_list)} preprints for {subject}\")"
   ]
  }
 ],
 "metadata": {
  "kernelspec": {
   "display_name": "api_env",
   "language": "python",
   "name": "python3"
  },
  "language_info": {
   "codemirror_mode": {
    "name": "ipython",
    "version": 3
   },
   "file_extension": ".py",
   "mimetype": "text/x-python",
   "name": "python",
   "nbconvert_exporter": "python",
   "pygments_lexer": "ipython3",
   "version": "3.13.0"
  }
 },
 "nbformat": 4,
 "nbformat_minor": 2
}
