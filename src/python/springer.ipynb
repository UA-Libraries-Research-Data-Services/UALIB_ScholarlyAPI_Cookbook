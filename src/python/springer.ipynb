{
 "cells": [
  {
   "cell_type": "markdown",
   "metadata": {
    "collapsed": false
   },
   "source": [
    "# Springer Nature API in Python\n",
    "\n",
    "by Avery Fernandez and Vincent F. Scalfani\n",
    "\n",
    "These recipe examples use the Springer Nature Open Access API to retrieve metadata and full-text content. About 650,000 full-text are available from BioMed Central and SpringerOpen Journals: https://dev.springernature.com/docs\n",
    "\n",
    "An API key is required to access the Springer Nature API, sign up can be found at https://dev.springernature.com/\n",
    "\n",
    "Code  was tested on October 13, 2023. This tutorial content is intended to help facillitate academic research. Before continuing or reusing any of this code, please be aware of the Springer Nature Text and Data Mining Policies, Terms and Conditions, and Terms for API Users:\n",
    "\n",
    "* https://www.springernature.com/gp/researchers/text-and-data-mining\n",
    "* https://www.springernature.com/gp/legal/general-terms-of-use/15067848\n",
    "* https://dev.springernature.com/terms-conditions"
   ]
  },
  {
   "cell_type": "markdown",
   "metadata": {},
   "source": [
    "## Setup\n",
    "\n",
    "### Import Libraries"
   ]
  },
  {
   "cell_type": "code",
   "execution_count": 16,
   "metadata": {
    "collapsed": false
   },
   "outputs": [],
   "source": [
    "import requests\n",
    "from time import sleep\n",
    "from pprint import pprint"
   ]
  },
  {
   "cell_type": "markdown",
   "metadata": {
    "collapsed": false
   },
   "source": [
    "### Import API Key\n",
    "\n",
    "We store our API key in a separate file for easy access and security."
   ]
  },
  {
   "cell_type": "code",
   "execution_count": 17,
   "metadata": {
    "collapsed": false
   },
   "outputs": [],
   "source": [
    "from key import api_key"
   ]
  },
  {
   "cell_type": "markdown",
   "metadata": {
    "collapsed": false
   },
   "source": [
    "## 1. Retrieve full-text JATS XML of an article"
   ]
  },
  {
   "cell_type": "markdown",
   "metadata": {
    "collapsed": false
   },
   "source": [
    "Before we can query, we must establish a few things:\n",
    "* **base_url**: The base url for the Springer API, more specifically the open access API with JATS format: https://jats.nlm.nih.gov/archiving/tag-library/1.1/index.html\n",
    "* **?q=doi:**: The query parameter, in this case we are searching for a DOI\n",
    "* **doi**: The DOI of the article\n",
    "* **openaccess:true**: This requests content through the openaccess API\n",
    "* **&api_key=**: This the text for the api key\n",
    "\n",
    "You can read more about the API parameters at https://dev.springernature.com/restfuloperations"
   ]
  },
  {
   "cell_type": "code",
   "execution_count": 18,
   "metadata": {
    "collapsed": false
   },
   "outputs": [],
   "source": [
    "base_url = 'https://api.springernature.com/openaccess/jats'\n",
    "\n",
    "# example DOI from SpringerOpen Brain Informatics\n",
    "doi = '\"10.1007/s40708-014-0001-z\"' # doi must be wrapped in double quotes"
   ]
  },
  {
   "cell_type": "code",
   "execution_count": 20,
   "metadata": {
    "collapsed": false
   },
   "outputs": [
    {
     "name": "stdout",
     "output_type": "stream",
     "text": [
      "<Response [200]>\n"
     ]
    }
   ],
   "source": [
    "data = requests.get(f\"{base_url}?q=doi:{doi} openaccess:true&api_key={api_key}\")\n",
    "pprint(data) # Response 200 means that the response was successful"
   ]
  },
  {
   "cell_type": "code",
   "execution_count": 21,
   "metadata": {
    "collapsed": false
   },
   "outputs": [],
   "source": [
    "# Save to a file\n",
    "with open('fulltext.jats', 'w') as outfile:\n",
    "    outfile.write(data.text)"
   ]
  },
  {
   "cell_type": "markdown",
   "metadata": {},
   "source": [
    "## 2. Retrieve full-text in a loop"
   ]
  },
  {
   "cell_type": "code",
   "execution_count": 22,
   "metadata": {},
   "outputs": [],
   "source": [
    "# Examples from SprigerOpen Brain Informatics\n",
    "\n",
    "dois = [\n",
    "    '\"10.1007/s40708-014-0001-z\"',\n",
    "    '\"10.1007/s40708-014-0002-y\"',\n",
    "    '\"10.1007/s40708-014-0003-x\"',\n",
    "    '\"10.1007/s40708-014-0004-9\"',\n",
    "    '\"10.1007/s40708-014-0005-8\"',\n",
    "]"
   ]
  },
  {
   "cell_type": "code",
   "execution_count": 23,
   "metadata": {
    "collapsed": false
   },
   "outputs": [],
   "source": [
    "base_url = 'https://api.springernature.com/openaccess/jats'\n",
    "for doi in dois:\n",
    "    data = requests.get(f\"{base_url}?q=doi:{doi} openaccess:true&api_key={api_key}\")\n",
    "    sleep(1) # add a delay.\n",
    "    doi_name = doi.replace('/', '_').replace('\"', '') # remove / and \" from doi\n",
    "    with open(f'{doi_name}_jats_text.jats', 'w') as outfile:\n",
    "        outfile.write(data.text)"
   ]
  },
  {
   "cell_type": "markdown",
   "metadata": {},
   "source": [
    "## 3. Acquire and Parse Metadata\n",
    "\n",
    "We can also acquire only the metadata as JSON text."
   ]
  },
  {
   "cell_type": "code",
   "execution_count": 24,
   "metadata": {},
   "outputs": [],
   "source": [
    "base_url = 'https://api.springernature.com/openaccess/json'\n",
    "doi = '\"10.1007/s40708-014-0001-z\"' # doi must be wrapped in double quotes\n",
    "data = requests.get(f\"{base_url}?q=doi:{doi} openaccess:true&api_key={api_key}\").json()"
   ]
  },
  {
   "cell_type": "markdown",
   "metadata": {},
   "source": [
    "We can now extract data out of `[\"records\"][0]`, where all the data is stored for the article"
   ]
  },
  {
   "cell_type": "code",
   "execution_count": 25,
   "metadata": {},
   "outputs": [
    {
     "name": "stdout",
     "output_type": "stream",
     "text": [
      "'This JSON was provided by Springer Nature'\n",
      "'doi:\"10.1007/s40708-014-0001-z\" openaccess:true'\n",
      "{'h1': 'Abstract',\n",
      " 'p': 'Big data is the term for a collection of datasets so huge and complex '\n",
      "      'that it becomes difficult to be processed using on-hand theoretical '\n",
      "      'models and technique tools. Brain big data is one of the most typical, '\n",
      "      'important big data collected using powerful equipments of functional '\n",
      "      'magnetic resonance imaging, multichannel electroencephalography, '\n",
      "      'magnetoencephalography, Positron emission tomography, near infrared '\n",
      "      'spectroscopic imaging, as well as other various devices. Granular '\n",
      "      'computing with multiple granular layers, referred to as multi-granular '\n",
      "      'computing (MGrC) for short hereafter, is an emerging computing paradigm '\n",
      "      'of information processing, which simulates the multi-granular '\n",
      "      'intelligent thinking model of human brain. It concerns the processing '\n",
      "      'of complex information entities called information granules, which '\n",
      "      'arise in the process of data abstraction and derivation of information '\n",
      "      'and even knowledge from data. This paper analyzes three basic '\n",
      "      'mechanisms of MGrC, namely granularity optimization, granularity '\n",
      "      'conversion, and multi-granularity joint computation, and discusses the '\n",
      "      'potential of introducing MGrC into intelligent processing of brain big '\n",
      "      'data.'}\n",
      "'10.1007/s40708-014-0001-z'\n",
      "'2014-09-06'\n",
      "'2015-01-30'\n",
      "'Brain Informatics'\n",
      "'Granular computing with multiple granular layers for brain big data processing'\n"
     ]
    }
   ],
   "source": [
    "# some examples:\n",
    "pprint(data[\"apiMessage\"])\n",
    "pprint(data[\"query\"])\n",
    "pprint(data[\"records\"][0][\"abstract\"])\n",
    "pprint(data[\"records\"][0][\"doi\"])\n",
    "pprint(data[\"records\"][0][\"onlineDate\"])\n",
    "pprint(data[\"records\"][0][\"printDate\"])\n",
    "pprint(data[\"records\"][0][\"publicationName\"])\n",
    "pprint(data[\"records\"][0][\"title\"])"
   ]
  }
 ],
 "metadata": {
  "kernelspec": {
   "display_name": "Python 3",
   "language": "python",
   "name": "python3"
  },
  "language_info": {
   "codemirror_mode": {
    "name": "ipython",
    "version": 3
   },
   "file_extension": ".py",
   "mimetype": "text/x-python",
   "name": "python",
   "nbconvert_exporter": "python",
   "pygments_lexer": "ipython3",
   "version": "3.11.0"
  }
 },
 "nbformat": 4,
 "nbformat_minor": 0
}
