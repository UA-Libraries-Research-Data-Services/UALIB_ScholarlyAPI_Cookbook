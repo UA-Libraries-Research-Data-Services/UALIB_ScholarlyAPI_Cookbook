{
  "cells": [
    {
      "cell_type": "markdown",
      "metadata": {},
      "source": [
        "# Springer Nature API in Python\n",
        "\n",
        "By Avery Fernandez and Vincent F. Scalfani\n",
        "\n",
        "These recipe examples use the Springer Nature Open Access API to retrieve metadata and full-text content. The Springer Nature Open Access API includes about 1.5 million full-text records.\n",
        "\n",
        "*There is also a Full-Text API for subscription content. Please check with your institution for their Text and Data Mining or related License Agreement with Springer Nature.*\n",
        "\n",
        "Please see the following resources for more information on API usage:\n",
        "- Documentation\n",
        "    - <a href=\"https://dev.springernature.com/\" target=\"_blank\">Springer Nature API</a>\n",
        "    - <a href=\"https://dev.springernature.com/docs/api-endpoints/open-access/\" target=\"_blank\">Springer Nature API Documentation</a>\n",
        "    - <a href=\"https://dev.springernature.com/docs/quick-start/api-access/\" target=\"_blank\">Springer Nature API Access Quick Start</a>\n",
        "    - <a href=\"https://dev.springernature.com/docs/live-documentation/\" target=\"_blank\">Springer API Playground</a>\n",
        "- Terms\n",
        "    - <a href=\"https://www.springernature.com/gp/legal/general-terms-of-use/15067848\" target=\"_blank\">Springer Nature General Terms of Use</a>\n",
        "    - <a href=\"https://dev.springernature.com/terms-conditions\" target=\"_blank\">Springer Nature API Terms and Conditions</a>\n",
        "- Data Reuse\n",
        "    - <a href=\"https://www.springernature.com/gp/researchers/text-and-data-mining\" target=\"_blank\">Springer Nature Text and Data Mining Policies</a>\n",
        "    - <a href=\"https://dev.springernature.com/tdm-reservation-policy/\" target=\"_blank\">Springer Nature TDM Reservation Policy</a>\n",
        "\n",
        "\n",
        "_**NOTE:**_ Check with your institution to determine your <a href=\"https://dev.springernature.com/docs/rate-limit-details/rate-limits/\" target=\"_blank\">API rate limit with Springer Nature</a>.\n",
        "\n",
        "*If you have copyright or other related text and data mining questions, please contact The University of Alabama Libraries or your respective library/institution.*\n",
        "\n",
        "*These recipe examples were tested on August 26, 2025.*"
      ]
    },
    {
      "cell_type": "markdown",
      "metadata": {},
      "source": [
        "## Setup\n",
        "\n",
        "### Import Libraries\n",
        "\n",
        "The following external libraries need to be installed into your enviornment to run the code examples in this tutorial:\n",
        "* <a href=\"https://github.com/psf/requests\" target=\"_blank\">requests</a>\n",
        "* <a href=\"https://github.com/theskumar/python-dotenv\" target=\"_blank\">python-dotenv</a>\n",
        "* <a href=\"https://github.com/ipython/ipykernel\" target=\"_blank\">ipykernel</a>\n",
        "\n",
        "We import the libraries used in this tutorial below:"
      ]
    },
    {
      "cell_type": "code",
      "execution_count": 1,
      "id": "4395ad32",
      "metadata": {
        "collapsed": false,
        "execution": {},
        "executionInfo": {}
      },
      "outputs": [],
      "source": [
        "import requests\n",
        "from time import sleep\n",
        "from pprint import pprint\n",
        "import xml.etree.ElementTree as ET\n",
        "from dotenv import load_dotenv\n",
        "import os"
      ]
    },
    {
      "cell_type": "markdown",
      "metadata": {},
      "source": [
        "### Import API Key\n",
        "\n",
        "An API key is required to access the Springer Nature API. You can sign up for one at the <a href=\"https://dev.springernature.com/\" target=\"_blank\">Springer Nature Developer Portal</a>.\n",
        "\n",
        "We keep our API key in a separate file, a `.env` file, and use the `dotenv` library to access it. If you use this method, create a file named `.env` in the same directory as this notebook and add the following line to it:\n",
        "\n",
        "```text\n",
        "SPRINGER_API_KEY=PUT_YOUR_API_KEY_HERE\n",
        "```"
      ]
    },
    {
      "cell_type": "code",
      "execution_count": 2,
      "id": "8480a8cc",
      "metadata": {
        "execution": {},
        "executionInfo": {}
      },
      "outputs": [
        {
          "name": "stdout",
          "output_type": "stream",
          "text": [
            "Environment and API key successfully loaded.\n"
          ]
        }
      ],
      "source": [
        "load_dotenv()\n",
        "try:\n",
        "    API_KEY = os.environ[\"SPRINGER_API_KEY\"]\n",
        "except KeyError:\n",
        "    print(\"API key not found. Please set 'SPRINGER_API_KEY' in your .env file.\")\n",
        "else:\n",
        "    print(\"Environment and API key successfully loaded.\")"
      ]
    },
    {
      "cell_type": "markdown",
      "metadata": {},
      "source": [
        "## 1. Retrieve Full-Text JATS XML of an Article\n",
        "\n",
        "In this section, we demonstrate how to retrieve the JATS XML content for a specific article based on its DOI.\n",
        "\n",
        "The <a href=\"https://jats.nlm.nih.gov/archiving/\" target=\"_blank\">JATS</a> XML format is a standard intended for tagging, archiving, and exchanging journal articles. The Springer Nature Open Access API allows us to retrieve articles in JATS XML format.\n",
        "\n",
        "Key parameters:\n",
        "* `base_url`: The base URL for the Springer Nature API (Open Access JATS endpoint).\n",
        "* `q=(doi:DOI)`: The query parameter used to search for an article based on its DOI.\n",
        "* `api_key`: The query parameter used to pass our valid API key.\n",
        "\n",
        "More details about the parameters can be found at <a href=\"https://dev.springernature.com/restfuloperations\" target=\"_blank\">Springer Nature Developer Portal</a>.\n",
        "\n",
        "You can also play around with the API using the <a href=\"https://dev.springernature.com/docs/live-documentation/\" target=\"_blank\">Springer API Playground</a>."
      ]
    },
    {
      "cell_type": "code",
      "execution_count": 3,
      "id": "f7a19d8d",
      "metadata": {
        "execution": {},
        "executionInfo": {}
      },
      "outputs": [
        {
          "name": "stdout",
          "output_type": "stream",
          "text": [
            "JATS XML successfully retrieved for DOI 10.1186/s40708-025-00250-5. Saved to fulltext.jats\n"
          ]
        }
      ],
      "source": [
        "base_url = 'https://api.springernature.com/openaccess/jats'\n",
        "# Example article from SpringerOpen Brain Informatics\n",
        "# This article is under CC-BY-4.0 license https://creativecommons.org/licenses/by/4.0/\n",
        "# https://doi.org/10.1186/s40708-025-00250-5\n",
        "doi = '10.1186/s40708-025-00250-5'  \n",
        "\n",
        "try:\n",
        "    response = requests.get(f'{base_url}?q=(doi:\"{doi}\")&api_key={API_KEY}', timeout=30)\n",
        "    response.raise_for_status()  # Raise an HTTPError if the response was unsuccessful\n",
        "    with open('fulltext.jats', 'w', encoding='utf-8') as outfile:\n",
        "        outfile.write(response.text)\n",
        "    print(f\"JATS XML successfully retrieved for DOI {doi}. Saved to fulltext.jats\")\n",
        "except requests.exceptions.RequestException as e:\n",
        "    print(f\"Error retrieving JATS XML for DOI {doi}: {e}\")"
      ]
    },
    {
      "cell_type": "markdown",
      "metadata": {},
      "source": [
        "## 2. Retrieve Full-Text in a Loop\n",
        "\n",
        "In many cases, you may have a list of DOIs and want to retrieve the full-text for each of them. Below, we loop over a set of DOIs, retrieve the JATS XML, and store each one in a separate file.\n",
        "A short delay (`sleep(1)`) is used to avoid hitting rate limits.\n"
      ]
    },
    {
      "cell_type": "code",
      "execution_count": 4,
      "id": "be16b679",
      "metadata": {
        "execution": {},
        "executionInfo": {}
      },
      "outputs": [
        {
          "name": "stdout",
          "output_type": "stream",
          "text": [
            "Retrieving JATS XML for DOI 10.1186/s40708-025-00250-5 (1/5)...\n",
            "JATS XML retrieved for DOI 10.1186/s40708-025-00250-5. Saved to 10.1186_s40708-025-00250-5_jats_text.jats.\n",
            "Retrieving JATS XML for DOI 10.1186/s40708-024-00247-6 (2/5)...\n",
            "JATS XML retrieved for DOI 10.1186/s40708-024-00247-6. Saved to 10.1186_s40708-024-00247-6_jats_text.jats.\n",
            "Retrieving JATS XML for DOI 10.1186/s40708-024-00243-w (3/5)...\n",
            "JATS XML retrieved for DOI 10.1186/s40708-024-00243-w. Saved to 10.1186_s40708-024-00243-w_jats_text.jats.\n",
            "Retrieving JATS XML for DOI 10.1186/s40708-023-00202-x (4/5)...\n",
            "JATS XML retrieved for DOI 10.1186/s40708-023-00202-x. Saved to 10.1186_s40708-023-00202-x_jats_text.jats.\n",
            "Retrieving JATS XML for DOI 10.1186/s40708-023-00204-9 (5/5)...\n",
            "JATS XML retrieved for DOI 10.1186/s40708-023-00204-9. Saved to 10.1186_s40708-023-00204-9_jats_text.jats.\n"
          ]
        }
      ],
      "source": [
        "base_url = 'https://api.springernature.com/openaccess/jats'\n",
        "dois = [\n",
        "    # Licensed under CC-BY-4.0 license https://creativecommons.org/licenses/by/4.0/\n",
        "    # https://doi.org/10.1186/s40708-025-00250-5\n",
        "    '10.1186/s40708-025-00250-5', \n",
        "    # Licensed under CC-BY-4.0 license https://creativecommons.org/licenses/by/4.0/\n",
        "    # https://doi.org/10.1186/s40708-024-00247-6\n",
        "    '10.1186/s40708-024-00247-6', \n",
        "    # Licensed under CC-BY-4.0 license https://creativecommons.org/licenses/by/4.0/\n",
        "    # https://doi.org/10.1186/s40708-024-00243-w\n",
        "    '10.1186/s40708-024-00243-w', \n",
        "    # Licensed under CC-BY-4.0 license https://creativecommons.org/licenses/by/4.0/\n",
        "    # https://doi.org/10.1186/s40708-023-00202-x\n",
        "    '10.1186/s40708-023-00202-x', \n",
        "    # Licensed under CC-BY-4.0 license https://creativecommons.org/licenses/by/4.0/\n",
        "    # https://doi.org/10.1186/s40708-023-00204-9\n",
        "    '10.1186/s40708-023-00204-9', \n",
        "]\n",
        "\n",
        "for i, doi in enumerate(dois, start=1):\n",
        "    print(f\"Retrieving JATS XML for DOI {doi} ({i}/{len(dois)})...\")\n",
        "    try:\n",
        "        response = requests.get(f'{base_url}?q=(doi:\"{doi}\")&api_key={API_KEY}', timeout=30)\n",
        "        response.raise_for_status()\n",
        "        # Prepare filename by safely replacing potential invalid path characters\n",
        "        doi_name = doi.replace('/', '_').replace('\"', '')\n",
        "        output_file = f'{doi_name}_jats_text.jats'\n",
        "        with open(output_file, 'w', encoding='utf-8') as outfile:\n",
        "            outfile.write(response.text)\n",
        "        print(f\"JATS XML retrieved for DOI {doi}. Saved to {output_file}.\")\n",
        "    except requests.exceptions.RequestException as e:\n",
        "        print(f\"Error retrieving JATS XML for DOI {doi}: {e}\")\n",
        "\n",
        "    # Delay to avoid hitting rate limits\n",
        "    sleep(1)"
      ]
    },
    {
      "cell_type": "markdown",
      "metadata": {},
      "source": [
        "## 3. Acquire and Parse Metadata (JSON)\n",
        "\n",
        "Alternatively, you can retrieve only the metadata in JSON format by switching the base URL to the `json` endpoint. Then, you can parse relevant fields (e.g., abstract, publication date, etc.)."
      ]
    },
    {
      "cell_type": "code",
      "execution_count": 5,
      "id": "e3415d92",
      "metadata": {
        "execution": {},
        "executionInfo": {}
      },
      "outputs": [
        {
          "data": {
            "text/plain": [
              "dict_keys(['apiMessage', 'query', 'result', 'records', 'facets'])"
            ]
          },
          "execution_count": 5,
          "metadata": {},
          "output_type": "execute_result"
        }
      ],
      "source": [
        "base_url = 'https://api.springernature.com/openaccess/json'\n",
        "# Example article from SpringerOpen Brain Informatics\n",
        "# This article is under CC-BY-4.0 license https://creativecommons.org/licenses/by/4.0/\n",
        "# https://doi.org/10.1186/s40708-025-00250-5\n",
        "# Harnessing the synergy of statistics and \\\n",
        "# deep learning for BCI competition 4 dataset 4: a novel approach\n",
        "# Gauttam Jangir, Nisheeth Joshi & Gaurav Purohit \n",
        "doi = '10.1186/s40708-025-00250-5'\n",
        "\n",
        "metadata_response = {}\n",
        "try:\n",
        "    response = requests.get(f'{base_url}?q=(doi:\"{doi}\")&api_key={API_KEY}', timeout=30)\n",
        "    response.raise_for_status()\n",
        "    metadata_response = response.json()\n",
        "except requests.exceptions.RequestException as e:\n",
        "    print(f\"Error retrieving JSON metadata for DOI {doi}: {e}\")\n",
        "    metadata_response = {}\n",
        "\n",
        "metadata_response.keys()"
      ]
    },
    {
      "cell_type": "markdown",
      "metadata": {},
      "source": [
        "Below is an example of how to retrieve specific fields from the metadata, such as the article's **abstract**, **DOI**, **publication date**, **publication name**, and **title**."
      ]
    },
    {
      "cell_type": "code",
      "execution_count": 6,
      "metadata": {
        "execution": {},
        "executionInfo": {},
        "tags": [
          "output_scroll"
        ]
      },
      "outputs": [
        {
          "name": "stdout",
          "output_type": "stream",
          "text": [
            "API Message: This JSON was provided by Springer Nature\n",
            "Query: (doi:\"10.1186/s40708-025-00250-5\")\n",
            "Abstract: Human brain signal processing and finger’s movement coordination is a complex mechanism. In this mechanism finger’s movement is mostly performed for every day’s task. It is well known that to capture such movement EEG or ECoG signals are used. In this order to find the patterns from these signals is important. The BCI competition 4 dataset 4 is one such standard dataset of ECoG signals for individual finger movement provided by University of Washington, USA. In this work, this dataset is, statistically analyzed to understand the nature of data and outliers in it. Effectiveness of pre-processing algorithm is then visualized. The cleaned dataset has dual polarity and gaussian distribution nature which makes Tanh activation function suitable for the neural network BC4D4 model. BC4D4 uses Convolutional neural network for feature extraction, dense neural network for pattern identification and incorporating dropout & regularization making the proposed model more resilient. Our model outperforms the state of the art work on the dataset 4 achieving 0.85 correlation value that is 1.85X (Winner of BCI competition 4, 2012) & 1.25X (Finger Flex model, 2022).\n",
            "DOI: 10.1186/s40708-025-00250-5\n",
            "Online Date: 2025-02-15\n",
            "Print Date: None\n",
            "Publication Name: Brain Informatics\n",
            "Title: Harnessing the synergy of statistics and deep learning for BCI competition 4 dataset 4: a novel approach\n",
            "Authors: ['Jangir, Gauttam', 'Joshi, Nisheeth', 'Purohit, Gaurav']\n"
          ]
        }
      ],
      "source": [
        "# metadata_response usually has keys: ['apiMessage', 'query', 'records']\n",
        "api_message = metadata_response.get('apiMessage')\n",
        "query_info = metadata_response.get('query')\n",
        "records = metadata_response.get('records', [])\n",
        "\n",
        "print(\"API Message:\", api_message)\n",
        "print(\"Query:\", query_info)\n",
        "\n",
        "if records:\n",
        "    # Take the first record if available\n",
        "    first_record = records[0]\n",
        "    print(\"Abstract:\", first_record.get('abstract', {}).get('p', ''))\n",
        "    print(\"DOI:\", first_record.get('doi'))\n",
        "    print(\"Online Date:\", first_record.get('onlineDate'))\n",
        "    print(\"Print Date:\", first_record.get('printDate'))\n",
        "    print(\"Publication Name:\", first_record.get('publicationName'))\n",
        "    print(\"Title:\", first_record.get('title'))\n",
        "\n",
        "    # Get the authors\n",
        "    authors = [author.get('creator') for author in first_record.get('creators', [])]\n",
        "    print(\"Authors:\", authors)\n",
        "else:\n",
        "    print(\"No 'records' were returned in the JSON response.\")"
      ]
    },
    {
      "cell_type": "markdown",
      "metadata": {},
      "source": [
        "## 4. Parsing XML for Metadata\n",
        "\n",
        "Sometimes you may want to extract specific pieces of data (e.g., *title*, *abstract*, *authors*, *subjects*) directly from the **JATS XML** instead of the JSON. In this example, we use Python's `xml.etree.ElementTree` to parse the XML.\n",
        "\n",
        "The XML structure has a `<records>` tag containing one or more `<article>` tags. Each `<article>` has a `<front>` section for metadata, a `<body>` for main text, and possibly `<back>` for references, etc."
      ]
    },
    {
      "cell_type": "code",
      "execution_count": 7,
      "id": "407a9b2c",
      "metadata": {},
      "outputs": [
        {
          "name": "stdout",
          "output_type": "stream",
          "text": [
            "JATS XML successfully retrieved for DOI 10.1186/s40708-025-00250-5.\n"
          ]
        }
      ],
      "source": [
        "base_url = 'https://api.springernature.com/openaccess/jats'\n",
        "# example article from SpringerOpen Brain Informatics\n",
        "# This article is under CC-BY-4.0 license https://creativecommons.org/licenses/by/4.0/\n",
        "# https://doi.org/10.1186/s40708-025-00250-5\n",
        "# Harnessing the synergy of statistics and \\\n",
        "# deep learning for BCI competition 4 dataset 4: a novel approach\n",
        "# Gauttam Jangir, Nisheeth Joshi & Gaurav Purohit \n",
        "doi = '10.1186/s40708-025-00250-5'\n",
        "\n",
        "xml_data = None\n",
        "try:\n",
        "    response = requests.get(f'{base_url}?q=(doi:\"{doi}\")&api_key={API_KEY}', timeout=30)\n",
        "    response.raise_for_status()  # Raise an HTTPError if the response was unsuccessful\n",
        "    xml_data = response.text\n",
        "    print(f\"JATS XML successfully retrieved for DOI {doi}.\")    \n",
        "except requests.exceptions.RequestException as e:\n",
        "    print(f\"Error retrieving JATS XML for DOI {doi}: {e}\")"
      ]
    },
    {
      "cell_type": "code",
      "execution_count": 8,
      "metadata": {
        "execution": {},
        "executionInfo": {}
      },
      "outputs": [
        {
          "name": "stdout",
          "output_type": "stream",
          "text": [
            "XML data successfully parsed.\n"
          ]
        }
      ],
      "source": [
        "root = None\n",
        "\n",
        "if xml_data:\n",
        "    try:\n",
        "        root = ET.fromstring(xml_data)\n",
        "        print(\"XML data successfully parsed.\")\n",
        "    except ET.ParseError as e:\n",
        "        print(f\"Error parsing XML data: {e}\")"
      ]
    },
    {
      "cell_type": "code",
      "execution_count": 9,
      "id": "ebd90659",
      "metadata": {},
      "outputs": [
        {
          "name": "stdout",
          "output_type": "stream",
          "text": [
            "{'abstract': 'Human brain signal processing and finger’s movement coordination '\n",
            "             'is a complex mechanism. In this mechanism finger’s movement is '\n",
            "             'mostly performed for every day’s task. It is well known that to '\n",
            "             'capture such movement EEG or ECoG signals are used. In this '\n",
            "             'order to find the patterns from these signals is important. The '\n",
            "             'BCI competition 4 dataset 4 is one such standard dataset of ECoG '\n",
            "             'signals for individual finger movement provided by University of '\n",
            "             'Washington, USA. In this work, this dataset is, statistically '\n",
            "             'analyzed to understand the nature of data and outliers in it. '\n",
            "             'Effectiveness of pre-processing algorithm is then visualized. '\n",
            "             'The cleaned dataset has dual polarity and gaussian distribution '\n",
            "             'nature which makes Tanh activation function suitable for the '\n",
            "             'neural network BC4D4 model. BC4D4 uses Convolutional neural '\n",
            "             'network for feature extraction, dense neural network for pattern '\n",
            "             'identification and incorporating dropout & regularization making '\n",
            "             'the proposed model more resilient. Our model outperforms the '\n",
            "             'state of the art work on the dataset 4 achieving 0.85 '\n",
            "             'correlation value that is 1.85X (Winner of BCI competition 4, '\n",
            "             '2012) & 1.25X (Finger Flex model, 2022).',\n",
            " 'authors': ['Jangir Gauttam', 'Joshi Nisheeth', 'Purohit Gaurav'],\n",
            " 'subjects': ['BCI (Brain Computer Interface)',\n",
            "              'EEG (electroencephalogram)',\n",
            "              'Electrocorticography (ECoG)',\n",
            "              'Event Related Potential (ERP)',\n",
            "              'Motor Imagery (MI)',\n",
            "              'Visual Evoked Potential (VEP)',\n",
            "              'Psychology and Cognitive Sciences'],\n",
            " 'title': 'Harnessing the synergy of statistics and deep learning for BCI '\n",
            "          'competition 4 dataset 4: a novel approach'}\n"
          ]
        }
      ],
      "source": [
        "article_data = {\n",
        "    'title': None,\n",
        "    'abstract': None,\n",
        "    'authors': [],\n",
        "    'subjects': [],\n",
        "}\n",
        "\n",
        "if root is not None:\n",
        "    # Assume there's at least one article under records.\n",
        "    first_article = root.find('.//records/article')\n",
        "    if first_article is not None:\n",
        "        # Title\n",
        "        title_elem = first_article.find('.//front/article-meta/title-group/article-title')\n",
        "        if title_elem is not None:\n",
        "            article_data['title'] = title_elem.text\n",
        "\n",
        "        # Abstract\n",
        "        abstract_elem = first_article.find('.//front/article-meta/abstract/p')\n",
        "        if abstract_elem is not None:\n",
        "            article_data['abstract'] = abstract_elem.text\n",
        "\n",
        "        # Authors\n",
        "        authors = first_article.findall('.//front/article-meta/contrib-group/contrib/name')\n",
        "        for author in authors:\n",
        "            # Each author element may have multiple child tags (given, surname, etc.).\n",
        "            full_name = \" \".join(author.itertext())\n",
        "            article_data['authors'].append(full_name)\n",
        "\n",
        "        # Subjects (keywords)\n",
        "        subjects = first_article.findall('.//front/article-meta/kwd-group/kwd')\n",
        "        for subject in subjects:\n",
        "            article_data['subjects'].append(subject.text)\n",
        "    else:\n",
        "        print(\"No article data found in the XML.\")\n",
        "else:\n",
        "    print(\"No valid XML data to parse.\")\n",
        "\n",
        "pprint(article_data)"
      ]
    },
    {
      "cell_type": "markdown",
      "metadata": {},
      "source": [
        "## 5. Parsing XML for Figure Captions\n",
        "\n",
        "Figure captions often appear under `<fig>` tags inside the `<body>` element. Each figure may have a `<label>` tag for the figure number and a `<caption>` tag for the figure's description.\n"
      ]
    },
    {
      "cell_type": "code",
      "execution_count": 10,
      "id": "3b053c69",
      "metadata": {},
      "outputs": [
        {
          "name": "stdout",
          "output_type": "stream",
          "text": [
            "JATS XML successfully retrieved for DOI 10.1186/s40708-025-00250-5.\n"
          ]
        }
      ],
      "source": [
        "base_url = 'https://api.springernature.com/openaccess/jats'\n",
        "# Example article from SpringerOpen Brain Informatics\n",
        "# This article is under CC-BY-4.0 license https://creativecommons.org/licenses/by/4.0/\n",
        "# https://doi.org/10.1186/s40708-025-00250-5\n",
        "# Harnessing the synergy of statistics and \\\n",
        "# deep learning for BCI competition 4 dataset 4: a novel approach\n",
        "# Gauttam Jangir, Nisheeth Joshi & Gaurav Purohit \n",
        "doi = '10.1186/s40708-025-00250-5'\n",
        "\n",
        "xml_data = None\n",
        "try:\n",
        "    response = requests.get(f'{base_url}?q=(doi:\"{doi}\")&api_key={API_KEY}', timeout=30)\n",
        "    response.raise_for_status()  # Raise an HTTPError if the response was unsuccessful\n",
        "    xml_data = response.text\n",
        "    print(f\"JATS XML successfully retrieved for DOI {doi}.\")    \n",
        "except requests.exceptions.RequestException as e:\n",
        "    print(f\"Error retrieving JATS XML for DOI {doi}: {e}\")"
      ]
    },
    {
      "cell_type": "code",
      "execution_count": 11,
      "metadata": {
        "execution": {},
        "executionInfo": {}
      },
      "outputs": [
        {
          "name": "stdout",
          "output_type": "stream",
          "text": [
            "XML data successfully parsed.\n"
          ]
        }
      ],
      "source": [
        "root = None\n",
        "if xml_data:\n",
        "    try:\n",
        "        root = ET.fromstring(xml_data)\n",
        "        print(\"XML data successfully parsed.\")\n",
        "    except ET.ParseError as e:\n",
        "        print(f\"Error parsing XML data: {e}\")\n",
        "else:\n",
        "    print(\"No valid XML data to parse.\")"
      ]
    },
    {
      "cell_type": "code",
      "execution_count": 12,
      "id": "2f4b105b",
      "metadata": {
        "tags": [
          "output_scroll"
        ]
      },
      "outputs": [
        {
          "name": "stdout",
          "output_type": "stream",
          "text": [
            "Figures data:\n",
            "Figure 1:\n",
            "Label: Fig. 1\n",
            "Caption: Capturing individual finger flexion [57, 58]\n",
            "\n",
            "Figure 2:\n",
            "Label: Fig. 2\n",
            "Caption: Subject 1 fingers\n",
            "\n",
            "Figure 3:\n",
            "Label: Fig. 3\n",
            "Caption: Box Plot (five-point summary)\n",
            "\n",
            "Figure 4:\n",
            "Label: Fig. 4\n",
            "Caption: Subject 2 fingers\n",
            "\n",
            "Figure 5:\n",
            "Label: Fig. 5\n",
            "Caption: Subject 3 fingers\n",
            "\n",
            "Figure 6:\n",
            "Label: Fig. 6\n",
            "Caption: Unusual data point (Outlier) in dataset\n",
            "\n",
            "Figure 7:\n",
            "Label: Fig. 7\n",
            "Caption: Isolation forest tree\n",
            "\n",
            "Figure 8:\n",
            "Label: Fig. 8\n",
            "Caption: Histogram of subject 1\n",
            "\n",
            "Figure 9:\n",
            "Label: Fig. 9\n",
            "Caption: Subject 1 fingers after isolation forest\n",
            "\n",
            "Figure 10:\n",
            "Label: Fig. 10\n",
            "Caption: Histogram of subject 2\n",
            "\n",
            "Figure 11:\n",
            "Label: Fig. 11\n",
            "Caption: Subject 2 fingers after isolation forest\n",
            "\n",
            "Figure 12:\n",
            "Label: Fig. 12\n",
            "Caption: Histogram of subject 3\n",
            "\n",
            "Figure 13:\n",
            "Label: Fig. 13\n",
            "Caption: Subject 3 fingers after isolation forest\n",
            "\n",
            "Figure 14:\n",
            "Label: Fig. 14\n",
            "Caption: BC4D4 model architecture\n",
            "\n",
            "Figure 15:\n",
            "Label: Fig. 15\n",
            "Caption: Activation functions\n",
            "\n",
            "Figure 16:\n",
            "Label: Fig. 16\n",
            "Caption: BC4D4 model layered architecture\n",
            "\n",
            "Figure 17:\n",
            "Label: Fig. 17\n",
            "Caption: Correlation value of BC4D4 with softsign & tanh\n",
            "\n",
            "Figure 18:\n",
            "Label: Fig. 18\n",
            "Caption: Models comparison\n",
            "\n"
          ]
        }
      ],
      "source": [
        "# Initialize an empty list to store figure data\n",
        "figures_data = []\n",
        "\n",
        "if root is not None:\n",
        "    # Find all <fig> elements within the <body> of the XML\n",
        "    figures = root.findall('.//body//fig')\n",
        "    for fig in figures:\n",
        "        # Extract the <label> element (e.g., \"Figure 1\") if it exists\n",
        "        label = fig.find('label')\n",
        "        # Extract the <caption> element (e.g., description of the figure) if it exists\n",
        "        caption = fig.find('caption')\n",
        "\n",
        "        # Get the text content of the label, or use an empty string if not present\n",
        "        label_text = label.text if label is not None else \"\"\n",
        "        # Get the text content of the caption, joining all inner text, or use an empty string if not present\n",
        "        caption_text = \"\".join(caption.itertext()) if caption is not None else \"\"\n",
        "\n",
        "        # Append the figure's label and caption as a dictionary to the figures_data list\n",
        "        figures_data.append({\n",
        "            'label': label_text,\n",
        "            'caption': caption_text.strip()  # Remove any leading/trailing whitespace\n",
        "        })\n",
        "else:\n",
        "    # If the XML root is not valid, print an error message\n",
        "    print(\"No valid XML data to parse.\")\n",
        "\n",
        "# Check if any figures were found and processed\n",
        "if figures_data:\n",
        "    print(\"Figures data:\")\n",
        "    # Iterate through the collected figures and print their details\n",
        "    for i, fig_data in enumerate(figures_data, start=1):\n",
        "        print(f\"Figure {i}:\")\n",
        "        print(f\"Label: {fig_data['label']}\")\n",
        "        print(f\"Caption: {fig_data['caption']}\")\n",
        "        print()\n",
        "else:\n",
        "    # If no figures were found, print a message indicating this\n",
        "    print(\"No figures data found in the XML.\")"
      ]
    },
    {
      "cell_type": "markdown",
      "metadata": {},
      "source": [
        "## 6. Extracting Full-Text from the Body\n",
        "\n",
        "Finally, we can extract a rough \"plain text\" version of the article body by iterating through each element (e.g., `<sec>`, `<p>`), capturing the text, and joining it into a single string. This can help with quick text-based analyses."
      ]
    },
    {
      "cell_type": "code",
      "execution_count": 13,
      "id": "40f18988",
      "metadata": {},
      "outputs": [
        {
          "name": "stdout",
          "output_type": "stream",
          "text": [
            "JATS XML successfully retrieved for DOI 10.1186/s40708-025-00250-5.\n"
          ]
        }
      ],
      "source": [
        "base_url = 'https://api.springernature.com/openaccess/jats'\n",
        "\n",
        "# Example article from SpringerOpen Brain Informatics\n",
        "# This article is under CC-BY-4.0 license https://creativecommons.org/licenses/by/4.0/\n",
        "# https://doi.org/10.1186/s40708-025-00250-5\n",
        "# Harnessing the synergy of statistics and \\\n",
        "# deep learning for BCI competition 4 dataset 4: a novel approach\n",
        "# Gauttam Jangir, Nisheeth Joshi & Gaurav Purohit \n",
        "doi = '10.1186/s40708-025-00250-5'  \n",
        "\n",
        "xml_data = None\n",
        "try:\n",
        "    response = requests.get(f'{base_url}?q=(doi:\"{doi}\")&api_key={API_KEY}', timeout=30)\n",
        "    response.raise_for_status()  # Raise an HTTPError if the response was unsuccessful\n",
        "    xml_data = response.text\n",
        "    print(f\"JATS XML successfully retrieved for DOI {doi}.\")    \n",
        "except requests.exceptions.RequestException as e:\n",
        "    print(f\"Error retrieving JATS XML for DOI {doi}: {e}\")"
      ]
    },
    {
      "cell_type": "code",
      "execution_count": 14,
      "metadata": {
        "execution": {},
        "executionInfo": {}
      },
      "outputs": [
        {
          "name": "stdout",
          "output_type": "stream",
          "text": [
            "XML data successfully parsed.\n"
          ]
        }
      ],
      "source": [
        "root = None\n",
        "if xml_data:\n",
        "    try:\n",
        "        root = ET.fromstring(xml_data)\n",
        "        print(\"XML data successfully parsed.\")\n",
        "    except ET.ParseError as e:\n",
        "        print(f\"Error parsing XML data: {e}\")\n",
        "else:\n",
        "    print(\"No valid XML data to parse.\")"
      ]
    },
    {
      "cell_type": "code",
      "execution_count": 15,
      "id": "c95181cf",
      "metadata": {},
      "outputs": [
        {
          "name": "stdout",
          "output_type": "stream",
          "text": [
            "Full text extracted and saved to 'fulltext.txt'.\n"
          ]
        }
      ],
      "source": [
        "full_text = None\n",
        "if root is not None:\n",
        "    # Find the body element\n",
        "    body = root.find('.//body')\n",
        "    if body is not None:\n",
        "        # We'll store text in a list, then join them.\n",
        "        text_parts = []\n",
        "\n",
        "        # We can iterate over each top-level child in the body.\n",
        "        # Typically <sec> tags hold paragraphs, etc.\n",
        "        for section in body:\n",
        "            # For each subsection, gather all text.\n",
        "            # Using .itertext() collects all text within that element.\n",
        "            for sub_section in section:\n",
        "                text_parts.append(\"\".join(sub_section.itertext()))\n",
        "        # Combine everything\n",
        "        full_text = \"\\n\".join(text_parts)\n",
        "        full_text = full_text.strip()\n",
        "    else:\n",
        "        print(\"No body content found in the XML.\")\n",
        "else:\n",
        "    print(\"No valid XML data to parse.\")\n",
        "\n",
        "if full_text:\n",
        "    with open('fulltext.txt', 'w', encoding='utf-8') as outfile:\n",
        "        outfile.write(full_text)\n",
        "    print(\"Full text extracted and saved to 'fulltext.txt'.\")\n",
        "else:\n",
        "    print(\"No full text content found in the XML.\")"
      ]
    },
    {
      "cell_type": "code",
      "execution_count": 16,
      "id": "96e5af09",
      "metadata": {},
      "outputs": [
        {
          "name": "stdout",
          "output_type": "stream",
          "text": [
            "Introduction\n",
            "THe brain is the most active organ of the human body that takes input, processes them, and gives output. Fingers play an important role in human life that is why one of the active fields for rehabilitation is the Brain-Computer Interface (BCI) where fingers and EEG signals are studied together for the normal routine return of a physically challenged or locomotive disabled person.\n"
          ]
        }
      ],
      "source": [
        "# Output a portion of the full text to the console\n",
        "print(full_text[:395])"
      ]
    }
  ],
  "metadata": {
    "colab": {
      "name": "springer_nature_api_example.ipynb"
    },
    "kernelspec": {
      "display_name": "cookbook",
      "language": "python",
      "name": "python3"
    },
    "language_info": {
      "codemirror_mode": {
        "name": "ipython",
        "version": 3
      },
      "file_extension": ".py",
      "mimetype": "text/x-python",
      "name": "python",
      "nbconvert_exporter": "python",
      "pygments_lexer": "ipython3",
      "version": "3.13.5"
    }
  },
  "nbformat": 4,
  "nbformat_minor": 5
}
