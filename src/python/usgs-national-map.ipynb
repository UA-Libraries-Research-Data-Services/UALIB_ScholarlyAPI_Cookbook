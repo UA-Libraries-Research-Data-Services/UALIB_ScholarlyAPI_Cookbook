{
 "cells": [
  {
   "cell_type": "markdown",
   "metadata": {},
   "source": [
    "# USGS National Map API in Python\n",
    "\n",
    "by Sebastian Shirk <br>\\\n",
    "Last updated: May 10, 2024"
   ]
  },
  {
   "cell_type": "markdown",
   "metadata": {},
   "source": [
    "This notebook demonstrates how to use the USGS National Map API to get/download elevation data for a given latitude and longitude.<br>\\\n",
    "This data is mostly useful for gathering images of the terrain at a given location which is demonstrated at the end of this notebook.<br>"
   ]
  },
  {
   "cell_type": "markdown",
   "metadata": {},
   "source": [
    "<b>USGS National Map Viewer:</b> https://apps.nationalmap.gov/viewer/<br>\\\n",
    "<b>USGS National Map Downloader:</b> https://apps.nationalmap.gov/downloader/<br>\\\n",
    "<b>USGS National Map Documentation:</b> https://tnmaccess.nationalmap.gov/api/v1/docs<br>\\\n",
    "<b>USGS Copyright an Credits:</b> https://www.usgs.gov/information-policies-and-instructions/copyrights-and-credits<br>\\\n",
    "<b>FAQs and Related Content:</b> https://www.usgs.gov/faqs/what-are-terms-uselicensing-map-services-and-data-national-map<br>\\\n",
    "\"Map services and data available from U.S. Geological Survey, National Geospatial Program.\"<br>\\\n",
    "Note that this API is only for the United States and that if too many requests are being made nation wide, the API may not work as expected."
   ]
  },
  {
   "cell_type": "markdown",
   "metadata": {},
   "source": [
    "## Import Libraries\n",
    "\n",
    "This tutorial will use the following libraries:"
   ]
  },
  {
   "cell_type": "code",
   "execution_count": 3,
   "metadata": {},
   "outputs": [],
   "source": [
    "import requests\n",
    "from pprint import pprint"
   ]
  },
  {
   "cell_type": "markdown",
   "metadata": {},
   "source": [
    "## 1. Requesting the API\n",
    "\n",
    "We start by adding all the variables that we can use to specify what kind of data we want to retrieve:"
   ]
  },
  {
   "cell_type": "code",
   "execution_count": 1,
   "metadata": {},
   "outputs": [],
   "source": [
    "url = \"https://tnmaccess.nationalmap.gov/api/v1/products?\"\n",
    "bbox = \"\"\n",
    "polygon = \"\"\n",
    "datasets = \"\"\n",
    "prodExtents = \"\"\n",
    "prodFormats = \"\"\n",
    "q = \"\"\n",
    "dataType = \"\"\n",
    "start = \"\"\n",
    "end = \"\"\n",
    "offset = \"0\"\n",
    "max = \"1\"\n",
    "outputFormat = \"JSON\"\n",
    "polyType = \"\"\n",
    "polyCode = \"\"\n",
    "extentQuery = \"\""
   ]
  },
  {
   "cell_type": "markdown",
   "metadata": {},
   "source": [
    "This will start as an empty query that gives us the first sets of data on the API database. We can modify our output with the variables above<br>\\\n",
    "Then we add the response variable and print statement:"
   ]
  },
  {
   "cell_type": "code",
   "execution_count": 3,
   "metadata": {},
   "outputs": [
    {
     "name": "stdout",
     "output_type": "stream",
     "text": [
      "---------------------------------------------\n",
      "{'title': '18TWK610820',\n",
      " 'moreInfo': 'Lidar (Light detection and ranging) discrete-return point cloud '\n",
      "             'data are available in the American Society for Photogrammetry '\n",
      "             'and Remote Sensing (ASPRS) LAS format. The LAS format is a '\n",
      "             'standardized binary format for storing 3-dimensional point cloud '\n",
      "             'data and point attributes along with header information and '\n",
      "             'variable length records specific to the data. Millions of data '\n",
      "             'points are stored as a 3-dimensional data cloud as a series of x '\n",
      "             '(longitude), y (latitude) and z (elevation) points. A few older '\n",
      "             'projects in this collection are in ASCII format. Please refer to '\n",
      "             'http://www.asprs.org/Committee-General/LASer-LAS-File-Format-Exchange-Activities.html '\n",
      "             'for additional information. This data set is a LAZ (compressed '\n",
      "             'LAS) format file containing [...]',\n",
      " 'sourceId': '6338596ad34e900e86cdbfd3',\n",
      " 'sourceName': 'ScienceBase',\n",
      " 'sourceOriginId': None,\n",
      " 'sourceOriginName': 'gda',\n",
      " 'metaUrl': 'https://www.sciencebase.gov/catalog/item/6338596ad34e900e86cdbfd3',\n",
      " 'vendorMetaUrl': 'https://prd-tnm.s3.amazonaws.com/index.html?prefix=StagedProducts/Elevation/metadata/NJ_New_Jersey_SANDY_LiDAR_15/NJ_SdL5_2014',\n",
      " 'publicationDate': '2015-05-03',\n",
      " 'lastUpdated': '2022-10-01T09:14:53.711-06:00',\n",
      " 'dateCreated': '2022-10-01T09:14:50.910-06:00',\n",
      " 'sizeInBytes': 31830199,\n",
      " 'extent': 'Varies',\n",
      " 'format': 'LAZ',\n",
      " 'downloadURL': 'https://rockyweb.usgs.gov/vdelivery/Datasets/Staged/Elevation/LPC/Projects/USGS_Lidar_Point_Cloud_NJ_SdL5_2014_LAS_2015/laz/18TWK610820.laz',\n",
      " 'downloadURLRaster': None,\n",
      " 'previewGraphicURL': 'https://prd-tnm.s3.amazonaws.com/StagedProducts/Elevation/LPC/Projects/USGS_Lidar_Point_Cloud_NJ_SdL5_2014_LAS_2015/browse/18TWK610820.jpg',\n",
      " 'downloadLazURL': 'https://rockyweb.usgs.gov/vdelivery/Datasets/Staged/Elevation/LPC/Projects/USGS_Lidar_Point_Cloud_NJ_SdL5_2014_LAS_2015/laz/18TWK610820.laz',\n",
      " 'urls': {'LAZ': 'https://rockyweb.usgs.gov/vdelivery/Datasets/Staged/Elevation/LPC/Projects/USGS_Lidar_Point_Cloud_NJ_SdL5_2014_LAS_2015/laz/18TWK610820.laz'},\n",
      " 'datasets': [],\n",
      " 'boundingBox': {'minX': -74.2802466122605,\n",
      "                 'maxX': -74.2624014212519,\n",
      "                 'minY': 40.4863433374492,\n",
      "                 'maxY': 40.4999672066248},\n",
      " 'bestFitIndex': 0.0,\n",
      " 'body': 'Lidar (Light detection and ranging) discrete-return point cloud data '\n",
      "         'are available in the American Society for Photogrammetry and Remote '\n",
      "         'Sensing (ASPRS) LAS format. The LAS format is a standardized binary '\n",
      "         'format for storing 3-dimensional point cloud data and point '\n",
      "         'attributes along with header information and variable length records '\n",
      "         'specific to the data. Millions of data points are stored as a '\n",
      "         '3-dimensional data cloud as a series of x (longitude), y (latitude) '\n",
      "         'and z (elevation) points. A few older projects in this collection '\n",
      "         'are in ASCII format. Please refer to '\n",
      "         'http://www.asprs.org/Committee-General/LASer-LAS-File-Format-Exchange-Activities.html '\n",
      "         'for additional information. This data set is a LAZ (compressed LAS) '\n",
      "         'format file containing lidar point cloud data. Compression to an LAZ '\n",
      "         \"file was done with the LAStools 'laszip' program and can be unzipped \"\n",
      "         'with the same free program (laszip.org).',\n",
      " 'processingUrl': 'processingUrl',\n",
      " 'modificationInfo': '2022-10-01'}\n",
      "---------------------------------------------\n",
      "\n"
     ]
    }
   ],
   "source": [
    "response = requests.get(url + bbox + \"&\" + polygon + \"&\" + datasets + \"&\" + prodExtents + \"&\" + prodFormats + \"&\" + q + \"&\" + dataType +\\\n",
    "                         \"&\" + start + \"&\" + end + \"&\" + offset + \"&\" + max + \"&\" + outputFormat + \"&\" + polyType + \"&\" + polyCode + \"&\" + extentQuery).json()\n",
    "# This sends a query that looks like this: https://tnmaccess.nationalmap.gov/api/v1/products?&offset=0&max=1&outputFormat=JSON\n",
    "# A full query with not null variables will follow a format such as this one:\n",
    "# https://tnmaccess.nationalmap.gov/api/v1/products?bbox=-106,39,-106,39&datasets=National%20Elevation%20Dataset%20%28NED%29%201%20arc-second&prodExtents=&prodFormats=GeoTIFF&dateType=dateCreated&start=1996-01-22&end=2025-01-22&outputFormat=JSON\n",
    "\n",
    "i = int(offset)\n",
    "while i <= int(max) + int(offset) - 1:\n",
    "    print(\"---------------------------------------------\")\n",
    "    pprint(response[\"items\"][i], compact=False, sort_dicts=False)\n",
    "    print(\"---------------------------------------------\\n\")\n",
    "    i += 1\n",
    "# This will print the first item in the response. In this case, with all the variables null, we will get back the first item in the database."
   ]
  },
  {
   "cell_type": "markdown",
   "metadata": {},
   "source": [
    "This should give us an output in this format:\n",
    "```text\n",
    "---------------------------------------------\n",
    "{'title': '18TWK610820',\n",
    " 'moreInfo': 'Lidar (Light detection and ranging) discrete-return point cloud '\n",
    "             'data are available in the American Society for Photogrammetry '\n",
    "             'and Remote Sensing (ASPRS) LAS format. The LAS format is a '\n",
    "             'standardized binary format for storing 3-dimensional point cloud '\n",
    "             'data and point attributes along with header information and '\n",
    "             'variable length records specific to the data. Millions of data '\n",
    "             'points are stored as a 3-dimensional data cloud as a series of x '\n",
    "             '(longitude), y (latitude) and z (elevation) points. A few older '\n",
    "             'projects in this collection are in ASCII format. Please refer to '\n",
    "             'http://www.asprs.org/Committee-General/LASer-LAS-File-Format-Exchange-Activities.html '\n",
    "             'for additional information. This data set is a LAZ (compressed '\n",
    "             'LAS) format file containing [...]',\n",
    " 'sourceId': '6338596ad34e900e86cdbfd3',\n",
    " 'sourceName': 'ScienceBase',\n",
    " 'sourceOriginId': None,\n",
    " 'sourceOriginName': 'gda',\n",
    " 'metaUrl': 'https://www.sciencebase.gov/catalog/item/6338596ad34e900e86cdbfd3',\n",
    " 'vendorMetaUrl': 'https://prd-tnm.s3.amazonaws.com/index.html?prefix=StagedProducts/Elevation/metadata/NJ_New_Jersey_SANDY_LiDAR_15/NJ_SdL5_2014',\n",
    " 'publicationDate': '2015-05-03',\n",
    " 'lastUpdated': '2022-10-01T09:14:53.711-06:00',\n",
    " 'dateCreated': '2022-10-01T09:14:50.910-06:00',\n",
    " 'sizeInBytes': 31830199,\n",
    " 'extent': 'Varies',\n",
    " 'format': 'LAZ',\n",
    " 'downloadURL': 'https://rockyweb.usgs.gov/vdelivery/Datasets/Staged/Elevation/LPC/Projects/USGS_Lidar_Point_Cloud_NJ_SdL5_2014_LAS_2015/laz/18TWK610820.laz',\n",
    " 'downloadURLRaster': None,\n",
    " 'previewGraphicURL': 'https://prd-tnm.s3.amazonaws.com/StagedProducts/Elevation/LPC/Projects/USGS_Lidar_Point_Cloud_NJ_SdL5_2014_LAS_2015/browse/18TWK610820.jpg',\n",
    " 'downloadLazURL': 'https://rockyweb.usgs.gov/vdelivery/Datasets/Staged/Elevation/LPC/Projects/USGS_Lidar_Point_Cloud_NJ_SdL5_2014_LAS_2015/laz/18TWK610820.laz',\n",
    " 'urls': {'LAZ': 'https://rockyweb.usgs.gov/vdelivery/Datasets/Staged/Elevation/LPC/Projects/USGS_Lidar_Point_Cloud_NJ_SdL5_2014_LAS_2015/laz/18TWK610820.laz'},\n",
    " 'datasets': [],\n",
    " 'boundingBox': {'minX': -74.2802466122605,\n",
    "                 'maxX': -74.2624014212519,\n",
    "                 'minY': 40.4863433374492,\n",
    "                 'maxY': 40.4999672066248},\n",
    " 'bestFitIndex': 0.0,\n",
    " 'body': 'Lidar (Light detection and ranging) discrete-return point cloud data '\n",
    "         'are available in the American Society for Photogrammetry and Remote '\n",
    "         'Sensing (ASPRS) LAS format. The LAS format is a standardized binary '\n",
    "         'format for storing 3-dimensional point cloud data and point '\n",
    "         'attributes along with header information and variable length records '\n",
    "         'specific to the data. Millions of data points are stored as a '\n",
    "         '3-dimensional data cloud as a series of x (longitude), y (latitude) '\n",
    "         'and z (elevation) points. A few older projects in this collection '\n",
    "         'are in ASCII format. Please refer to '\n",
    "         'http://www.asprs.org/Committee-General/LASer-LAS-File-Format-Exchange-Activities.html '\n",
    "         'for additional information. This data set is a LAZ (compressed LAS) '\n",
    "         'format file containing lidar point cloud data. Compression to an LAZ '\n",
    "         \"file was done with the LAStools 'laszip' program and can be unzipped \"\n",
    "         'with the same free program (laszip.org).',\n",
    " 'processingUrl': 'processingUrl',\n",
    " 'modificationInfo': '2022-10-01'}\n",
    "---------------------------------------------\n",
    " ```"
   ]
  },
  {
   "cell_type": "markdown",
   "metadata": {},
   "source": [
    "## 2. Specifying our Variables\n",
    "\n",
    "In this section I will explain what all the variables are and how to use them.<br>\\\n",
    "All variables (except for `max` and `offset`) should be strings that start with the variable name and end with the variable value.<br>\\\n",
    "The variable `max` and `offset` will be set as a string that represents the maximum number of results and pagination respectively. If `max` or `offset` are null, the API will not run. The variable `max` is defaulted to 1 and `offset` is defaulted to 0. These variables can have up to a combined total of 50.<br>\\\n",
    "Any variable that you do not want to specify should be left as an empty string. \"\"<br>\\\n",
    "For the most accurate ways to use the variables, please refer to the <a href=https://tnmaccess.nationalmap.gov/api/v1/docs>USGS National Map Documentation.</a><br>\\\n",
    "Example:\n"
   ]
  },
  {
   "cell_type": "code",
   "execution_count": 4,
   "metadata": {},
   "outputs": [],
   "source": [
    "url = \"https://tnmaccess.nationalmap.gov/api/v1/products?\"\n",
    "bbox = \"bbox=-122.5,37.5,-122,38\"\n",
    "polygon = \"\"\n",
    "datasets = \"datasets=National%20Elevation%20Dataset%20%28NED%29%201%20arc-second\"\n",
    "prodExtents = \"\"\n",
    "prodFormats = \"prodFormats=GeoTIFF\"\n",
    "q = \"\"\n",
    "dataType = \"dateType=dateCreated\"\n",
    "start = \"start=1996-01-22\"\n",
    "end = \"end=2025-01-22\"\n",
    "offset = \"0\"\n",
    "max = \"1\"\n",
    "outputFormat = \"outputFormat=JSON\"\n",
    "polyType = \"\"\n",
    "polyCode = \"\"\n",
    "extentQuery = \"\""
   ]
  },
  {
   "cell_type": "markdown",
   "metadata": {},
   "source": [
    "<b>Note:</b> These variables are must be in an encoded format in the URL. They are case sensitive and must be spelled correctly. Spaces are represented by `%20`. Parentheses are represented by `%28` and `%29` for left and right parentheses respectively. The API will not work if the variables are not spelled correctly or if spaces and parentheses are not encoded in the URL. "
   ]
  },
  {
   "cell_type": "markdown",
   "metadata": {},
   "source": [
    "* <b>bbox: </b>The bbox variable is used to specify the bounding box of the area you want to retrieve data from or a single point you would like to see around. The format is as follows:"
   ]
  },
  {
   "cell_type": "code",
   "execution_count": 5,
   "metadata": {},
   "outputs": [],
   "source": [
    "# Box\n",
    "# bbox = \"bbox=minX,minY,maxX,maxY\"\n",
    "bbox = \"bbox=-122.5,37.5,-122,38\"\n",
    "# Gives back in an area inside or around -122.5,37.5,-122,38\n",
    "\n",
    "# Point\n",
    "# bbox = \"bbox=minX,minY,maxX,maxY\"\n",
    "bbox = \"bbox=-106,39,-106,39\"\n",
    "# Gives back the area around the point -106,39"
   ]
  },
  {
   "cell_type": "markdown",
   "metadata": {},
   "source": [
    "* <b>datatset: </b>The dataset variable is used to specify what kind of data you want to retrieve. Here are all of the possible values you can use:"
   ]
  },
  {
   "cell_type": "code",
   "execution_count": 7,
   "metadata": {},
   "outputs": [],
   "source": [
    "# National Boundary Dataset (NBD):\n",
    "datasets=\"datasets=National%20Boundary%20Dataset%20%28NBD%29\"\n",
    "# National Elevation Dataset (NED) 1 arc-second:\n",
    "datasets=\"datasets=National%20Elevation%20Dataset%20%28NED%29%201%20arc-second\"\n",
    "# Digital Elevation Model (DEM) 1 meter:\n",
    "datasets=\"datasets=Digital%20Elevation%20Model%20%28DEM%29%201%20meter\"\n",
    "# etc.\n",
    "# For a full list of datasets, see https://tnmaccess.nationalmap.gov/api/v1/docs\n",
    "# Click on /GET /products and Try It Out to see the list of datasets"
   ]
  },
  {
   "cell_type": "markdown",
   "metadata": {},
   "source": [
    "* <b>q: </b>The q variable is used to specify a query string to search for data. This is useful if you want to search for a specific area or type of data. Here are all of the possible values you can use:"
   ]
  },
  {
   "cell_type": "code",
   "execution_count": 10,
   "metadata": {},
   "outputs": [],
   "source": [
    "# 7.5:\n",
    "q=\"q=7.5\"\n",
    "# Airports:\n",
    "q=\"q=Airports\"\n",
    "# Bend:\n",
    "q=\"q=Bend\"\n",
    "# etc.\n",
    "# For a full list of queries, see https://tnmaccess.nationalmap.gov/api/v1/docs\n",
    "# Click on /GET /products and Try It Out to see the list of queries\n",
    "\n",
    "# Using q=Bridge will give back something like this:\n",
    "# ---------------------------------------------\n",
    "# {'title': 'US Topo 7.5-minute map for Apishapa Bridge, CO',\n",
    "#  'format': 'Geospatial PDF, Geospatial PDF',\n",
    "#  'downloadURL': 'https://prd-tnm.s3.amazonaws.com/StagedProducts/Maps/USTopo/PDF/CO/CO_Apishapa_Bridge_20220308_TM_geo.pdf',\n",
    "# ---------------------------------------------\n",
    "# As well as other information about the product\n"
   ]
  },
  {
   "cell_type": "markdown",
   "metadata": {},
   "source": [
    "For the other variable types, see the <a href=\"https://tnmaccess.nationalmap.gov/api/v1/docs\">API documentation</a> "
   ]
  },
  {
   "cell_type": "markdown",
   "metadata": {},
   "source": [
    "## 3. Querying and Parsing the API\n",
    "\n",
    "We can parse the API to get all the provided information on any given data piece. The most useful information in this data is the download URL to get the image, but there are other pieces of information that can be useful as well.<br>\\\n",
    "For example, we can get the title of the data, the download URL, and any other present information:"
   ]
  },
  {
   "cell_type": "code",
   "execution_count": 4,
   "metadata": {},
   "outputs": [
    {
     "name": "stdout",
     "output_type": "stream",
     "text": [
      "---------------------------------------------\n",
      "'18TWK610820'\n",
      "---------------------------------------------\n",
      "\n",
      "---------------------------------------------\n",
      "'https://rockyweb.usgs.gov/vdelivery/Datasets/Staged/Elevation/LPC/Projects/USGS_Lidar_Point_Cloud_NJ_SdL5_2014_LAS_2015/laz/18TWK610820.laz'\n",
      "---------------------------------------------\n",
      "\n",
      "---------------------------------------------\n",
      "'18TWK610820'\n",
      "'https://rockyweb.usgs.gov/vdelivery/Datasets/Staged/Elevation/LPC/Projects/USGS_Lidar_Point_Cloud_NJ_SdL5_2014_LAS_2015/laz/18TWK610820.laz'\n",
      "'ScienceBase'\n",
      "---------------------------------------------\n",
      "\n",
      "---------------------------------------------\n",
      "{'title': '18TWK610820',\n",
      " 'moreInfo': 'Lidar (Light detection and ranging) discrete-return point cloud '\n",
      "             'data are available in the American Society for Photogrammetry '\n",
      "             'and Remote Sensing (ASPRS) LAS format. The LAS format is a '\n",
      "             'standardized binary format for storing 3-dimensional point cloud '\n",
      "             'data and point attributes along with header information and '\n",
      "             'variable length records specific to the data. Millions of data '\n",
      "             'points are stored as a 3-dimensional data cloud as a series of x '\n",
      "             '(longitude), y (latitude) and z (elevation) points. A few older '\n",
      "             'projects in this collection are in ASCII format. Please refer to '\n",
      "             'http://www.asprs.org/Committee-General/LASer-LAS-File-Format-Exchange-Activities.html '\n",
      "             'for additional information. This data set is a LAZ (compressed '\n",
      "             'LAS) format file containing [...]',\n",
      " 'sourceId': '6338596ad34e900e86cdbfd3',\n",
      " 'sourceName': 'ScienceBase',\n",
      " 'sourceOriginId': None,\n",
      " 'sourceOriginName': 'gda',\n",
      " 'metaUrl': 'https://www.sciencebase.gov/catalog/item/6338596ad34e900e86cdbfd3',\n",
      " 'vendorMetaUrl': 'https://prd-tnm.s3.amazonaws.com/index.html?prefix=StagedProducts/Elevation/metadata/NJ_New_Jersey_SANDY_LiDAR_15/NJ_SdL5_2014',\n",
      " 'publicationDate': '2015-05-03',\n",
      " 'lastUpdated': '2022-10-01T09:14:53.711-06:00',\n",
      " 'dateCreated': '2022-10-01T09:14:50.910-06:00',\n",
      " 'sizeInBytes': 31830199,\n",
      " 'extent': 'Varies',\n",
      " 'format': 'LAZ',\n",
      " 'downloadURL': 'https://rockyweb.usgs.gov/vdelivery/Datasets/Staged/Elevation/LPC/Projects/USGS_Lidar_Point_Cloud_NJ_SdL5_2014_LAS_2015/laz/18TWK610820.laz',\n",
      " 'downloadURLRaster': None,\n",
      " 'previewGraphicURL': 'https://prd-tnm.s3.amazonaws.com/StagedProducts/Elevation/LPC/Projects/USGS_Lidar_Point_Cloud_NJ_SdL5_2014_LAS_2015/browse/18TWK610820.jpg',\n",
      " 'downloadLazURL': 'https://rockyweb.usgs.gov/vdelivery/Datasets/Staged/Elevation/LPC/Projects/USGS_Lidar_Point_Cloud_NJ_SdL5_2014_LAS_2015/laz/18TWK610820.laz',\n",
      " 'urls': {'LAZ': 'https://rockyweb.usgs.gov/vdelivery/Datasets/Staged/Elevation/LPC/Projects/USGS_Lidar_Point_Cloud_NJ_SdL5_2014_LAS_2015/laz/18TWK610820.laz'},\n",
      " 'datasets': [],\n",
      " 'boundingBox': {'minX': -74.2802466122605,\n",
      "                 'maxX': -74.2624014212519,\n",
      "                 'minY': 40.4863433374492,\n",
      "                 'maxY': 40.4999672066248},\n",
      " 'bestFitIndex': 0.0,\n",
      " 'body': 'Lidar (Light detection and ranging) discrete-return point cloud data '\n",
      "         'are available in the American Society for Photogrammetry and Remote '\n",
      "         'Sensing (ASPRS) LAS format. The LAS format is a standardized binary '\n",
      "         'format for storing 3-dimensional point cloud data and point '\n",
      "         'attributes along with header information and variable length records '\n",
      "         'specific to the data. Millions of data points are stored as a '\n",
      "         '3-dimensional data cloud as a series of x (longitude), y (latitude) '\n",
      "         'and z (elevation) points. A few older projects in this collection '\n",
      "         'are in ASCII format. Please refer to '\n",
      "         'http://www.asprs.org/Committee-General/LASer-LAS-File-Format-Exchange-Activities.html '\n",
      "         'for additional information. This data set is a LAZ (compressed LAS) '\n",
      "         'format file containing lidar point cloud data. Compression to an LAZ '\n",
      "         \"file was done with the LAStools 'laszip' program and can be unzipped \"\n",
      "         'with the same free program (laszip.org).',\n",
      " 'processingUrl': 'processingUrl',\n",
      " 'modificationInfo': '2022-10-01'}\n",
      "---------------------------------------------\n",
      "\n"
     ]
    }
   ],
   "source": [
    "url = \"https://tnmaccess.nationalmap.gov/api/v1/products?\"\n",
    "bbox = \"\"\n",
    "polygon = \"\"\n",
    "datasets = \"\"\n",
    "prodExtents = \"\"\n",
    "prodFormats = \"\"\n",
    "q = \"\"\n",
    "dataType = \"\"\n",
    "start = \"\"\n",
    "end = \"\"\n",
    "offset = \"0\"\n",
    "max = \"1\"\n",
    "outputFormat = \"JSON\"\n",
    "polyType = \"\"\n",
    "polyCode = \"\"\n",
    "extentQuery = \"\"\n",
    "\n",
    "# Query:\n",
    "response = requests.get(url + bbox + \"&\" + polygon + \"&\" + datasets + \"&\" + prodExtents + \"&\" + prodFormats + \"&\" + q + \"&\" + dataType + \"&\" + start + \"&\" + end + \"&\" + offset + \"&\" + max + \"&\" + outputFormat + \"&\" + polyType + \"&\" + polyCode + \"&\" + extentQuery).json()\n",
    "\n",
    "# Add any variable to the end of response[\"items\"][i]\n",
    "# Title Example:\n",
    "# Add [\"title\"] to the end of response[\"items\"][i]\n",
    "i = int(offset)\n",
    "while i <= int(max) + int(offset) - 1:\n",
    "    print(\"---------------------------------------------\")\n",
    "    pprint(response[\"items\"][i][\"title\"], compact=False, sort_dicts=False)\n",
    "    print(\"---------------------------------------------\\n\")\n",
    "    i += 1\n",
    "\n",
    "# DownloadURL Example: \n",
    "# Add [\"downloadURL\"] to the end of response[\"items\"][i]\n",
    "i = int(offset)\n",
    "while i <= int(max) + int(offset) - 1:\n",
    "    print(\"---------------------------------------------\")\n",
    "    pprint(response[\"items\"][i][\"downloadURL\"], compact=False, sort_dicts=False)\n",
    "    print(\"---------------------------------------------\\n\")\n",
    "    i += 1\n",
    "\n",
    "# Usable Variables include:\n",
    "# (This is also the order that data will be printed when not specified)\n",
    "[\"title\"]\n",
    "[\"moreInfo\"]\n",
    "[\"sourceId\"]\n",
    "[\"sourceName\"]\n",
    "[\"sourceOriginName\"]\n",
    "[\"metaUrl\"]\n",
    "[\"vendorMetaUrl\"]\n",
    "[\"publicationDate\"]\n",
    "[\"lastUpdated\"]\n",
    "[\"dateCreated\"]\n",
    "[\"sizeInBytes\"]\n",
    "[\"extent\"]\n",
    "[\"format\"]\n",
    "[\"downloadURL\"]\n",
    "[\"previewGraphicURL\"]\n",
    "[\"urls\"]\n",
    "[\"datasets\"]\n",
    "[\"boundingBox\"]\n",
    "[\"bestFitIndex\"]\n",
    "[\"body\"]\n",
    "[\"processingUrl\"]\n",
    "[\"modificationInfo\"]\n",
    "\n",
    "# To get multiple variables, duplicate the pprint line and change the variable\n",
    "i = int(offset)\n",
    "while i <= int(max) + int(offset) - 1:\n",
    "    print(\"---------------------------------------------\")\n",
    "    pprint(response[\"items\"][i][\"title\"], compact=False, sort_dicts=False)\n",
    "    pprint(response[\"items\"][i][\"downloadURL\"], compact=False, sort_dicts=False)\n",
    "    pprint(response[\"items\"][i][\"sourceName\"], compact=False, sort_dicts=False)\n",
    "    print(\"---------------------------------------------\\n\")\n",
    "    i += 1\n",
    "    \n",
    "\n",
    "# To go back and get all the variables, remove the variable from the pprint line\n",
    "i = int(offset)\n",
    "while i <= int(max) + int(offset) - 1:\n",
    "    print(\"---------------------------------------------\")\n",
    "    pprint(response[\"items\"][i], compact=False, sort_dicts=False)\n",
    "    print(\"---------------------------------------------\\n\")\n",
    "    i += 1"
   ]
  },
  {
   "cell_type": "markdown",
   "metadata": {},
   "source": [
    "## 4. Downloading any URLs/Images"
   ]
  },
  {
   "cell_type": "markdown",
   "metadata": {},
   "source": [
    "If you want to download any of the URLs, you can easily do this by copying the URL into any browser and it will download it.<br>\\\n",
    "If you want to do this strictly in the python script you can add and call this function:"
   ]
  },
  {
   "cell_type": "code",
   "execution_count": null,
   "metadata": {},
   "outputs": [],
   "source": [
    "def get_file(filepath):\n",
    "    with open(\"my_file_name.extension\", \"wb\") as f:\n",
    "        file = requests.get(filepath)\n",
    "        f.write(file.content)"
   ]
  },
  {
   "cell_type": "markdown",
   "metadata": {},
   "source": [
    "This function will download the file and save it to the specified path. <br>\\\n",
    "Calling the function:\n"
   ]
  },
  {
   "cell_type": "code",
   "execution_count": null,
   "metadata": {},
   "outputs": [],
   "source": [
    "get_file(response[\"items\"][int(offset)][\"downloadURL\"])"
   ]
  },
  {
   "cell_type": "markdown",
   "metadata": {},
   "source": [
    "Make sure to change the `\"my_file_name.extension\"` to the name of the file you want and to you match the extension of the file you are downloading. (.tif, .jpg, .png, etc.)<br>\\\n",
    "I would recommend printing the response to make sure you are downloading the correct file and to see the file type. <br>\\\n",
    "Example:"
   ]
  },
  {
   "cell_type": "code",
   "execution_count": null,
   "metadata": {},
   "outputs": [],
   "source": [
    "i = int(offset)\n",
    "while i <= int(max) + int(offset) - 1:\n",
    "    print(\"---------------------------------------------\")\n",
    "    pprint(response[\"items\"][i][\"downloadURL\"], compact=False, sort_dicts=False)\n",
    "    print(\"---------------------------------------------\\n\")\n",
    "    i += 1\n",
    "# Output might be: \"https://prd-tnm.s3.amazonaws.com/StagedProducts/Elevation/1/TIFF/historical/n19w156/USGS_1_n19w156_20230522.tif\"\n",
    "# The .tif is the important part here.\n",
    "\n",
    "# Change the \"my_file_name.extension\" to the name of the file you want to save it as and the extension of the file you are downloading\n",
    "# Here I'm changing the name to \"my_tif_file.tif for the tif file I'm downloading\"\n",
    "def get_file(filepath):\n",
    "    with open(\"my_tif_file.tif\", \"wb\") as f:\n",
    "        file = requests.get(filepath)\n",
    "        f.write(file.content)\n",
    "\n",
    "# Call the edited function\n",
    "get_file(response[\"items\"][int(offset)][\"downloadURL\"])"
   ]
  }
 ],
 "metadata": {
  "kernelspec": {
   "display_name": ".venv",
   "language": "python",
   "name": "python3"
  },
  "language_info": {
   "codemirror_mode": {
    "name": "ipython",
    "version": 3
   },
   "file_extension": ".py",
   "mimetype": "text/x-python",
   "name": "python",
   "nbconvert_exporter": "python",
   "pygments_lexer": "ipython3",
   "version": "3.11.5"
  }
 },
 "nbformat": 4,
 "nbformat_minor": 2
}
