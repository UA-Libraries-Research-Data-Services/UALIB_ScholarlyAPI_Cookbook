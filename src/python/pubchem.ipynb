{
 "cells": [
  {
   "cell_type": "markdown",
   "metadata": {
    "id": "mAK-L0OL1Ynx"
   },
   "source": [
    "# PubChem API in Python\n",
    "\n",
    "by Avery Fernandez\n",
    "\n",
    "**PubChem API Documentation**: https://pubchemdocs.ncbi.nlm.nih.gov/programmatic-access\n",
    "\n",
    "These recipe examples were tested on May 16, 2022.\n",
    "\n",
    "**Attribution:** This tutorial was adapted from supporting information in:\n",
    "\n",
    "**Scalfani, V. F.**; Ralph, S. C. Alshaikh, A. A.; Bara, J. E. Programmatic Compilation of Chemical Data and Literature From PubChem Using Matlab. *Chemical Engineering Education*, **2020**, *54*, 230. https://doi.org/10.18260/2-1-370.660-115508 and https://github.com/vfscalfani/MATLAB-cheminformatics)"
   ]
  },
  {
   "cell_type": "markdown",
   "metadata": {
    "id": "c09M9YME1Yny"
   },
   "source": [
    "## Setup"
   ]
  },
  {
   "cell_type": "markdown",
   "metadata": {
    "id": "S74qQhZV1Ynz"
   },
   "source": [
    "First, import libraries:"
   ]
  },
  {
   "cell_type": "code",
   "execution_count": 55,
   "metadata": {
    "id": "xIAdNu4v1Yn0",
    "pycharm": {
     "name": "#%%\n"
    }
   },
   "outputs": [],
   "source": [
    "import requests\n",
    "from pprint import pprint\n",
    "from time import sleep"
   ]
  },
  {
   "cell_type": "markdown",
   "metadata": {
    "id": "g4mkpqby1Yn1",
    "pycharm": {
     "name": "#%% md\n"
    }
   },
   "source": [
    "Define the PubChem PUG-REST API base URL:"
   ]
  },
  {
   "cell_type": "code",
   "execution_count": 56,
   "metadata": {
    "id": "ilQ_fQzm1Yn1",
    "pycharm": {
     "name": "#%%\n"
    }
   },
   "outputs": [],
   "source": [
    "api = 'https://pubchem.ncbi.nlm.nih.gov/rest/pug/compound/'"
   ]
  },
  {
   "cell_type": "markdown",
   "metadata": {
    "id": "d-cxd3L61Yn2"
   },
   "source": [
    "## 1. PubChem Similarity"
   ]
  },
  {
   "cell_type": "markdown",
   "metadata": {
    "id": "NSFhDtZw1Yn3"
   },
   "source": [
    "### Get compound image"
   ]
  },
  {
   "cell_type": "markdown",
   "metadata": {},
   "source": [
    "We can search for a compound and display an image, for example: 1-Butyl-3-methyl-imidazolium; CID = 2734162"
   ]
  },
  {
   "cell_type": "code",
   "execution_count": 57,
   "metadata": {
    "id": "5mZS99Xv1Yn3",
    "outputId": "446aea75-24e8-4a94-da7a-d7f9016bd5f9",
    "pycharm": {
     "name": "#%%\n"
    }
   },
   "outputs": [],
   "source": [
    "# Request PNG from PubChem and save file\n",
    "compoundID = \"2734162\"\n",
    "img = requests.get(api + '/cid/' + compoundID + \"/PNG\").content\n",
    "with open(\"2734162.png\", \"wb\") as out:\n",
    "    out.write(img)"
   ]
  },
  {
   "cell_type": "code",
   "execution_count": 58,
   "metadata": {
    "id": "-w1UyfgQ1Yn5",
    "outputId": "b8131901-b27d-4867-f033-4fa88ef2db21",
    "pycharm": {
     "name": "#%%\n"
    }
   },
   "outputs": [
    {
     "data": {
      "image/png": "[encoded data removed]",
      "text/plain": [
       "<Figure size 432x288 with 1 Axes>"
      ]
     },
     "metadata": {
      "needs_background": "light"
     },
     "output_type": "display_data"
    }
   ],
   "source": [
    "# Display compound PNG with Matplotlib\n",
    "import matplotlib.pyplot as plt\n",
    "import matplotlib.image as mpimg\n",
    "img = mpimg.imread('2734162.png')\n",
    "plt.imshow(img)\n",
    "plt.show()"
   ]
  },
  {
   "cell_type": "markdown",
   "metadata": {
    "id": "ABQHLREB1Yn5"
   },
   "source": [
    "### Retrieve InChI and SMILES"
   ]
  },
  {
   "cell_type": "code",
   "execution_count": 59,
   "metadata": {
    "id": "SJXfnOF_1Yn6",
    "outputId": "737492e4-21ce-45ee-e291-32958d3e4fa6",
    "pycharm": {
     "name": "#%%\n"
    }
   },
   "outputs": [
    {
     "name": "stdout",
     "output_type": "stream",
     "text": [
      "{'PropertyTable': {'Properties': [{'CID': 2734162,\n",
      "                                   'InChI': 'InChI=1S/C8H15N2/c1-3-4-5-10-7-6-9(2)8-10/h6-8H,3-5H2,1-2H3/q+1',\n",
      "                                   'IsomericSMILES': 'CCCCN1C=C[N+](=C1)C'}]}}\n"
     ]
    }
   ],
   "source": [
    "request = requests.get(api + 'cid/' + compoundID + '/property/inchi,IsomericSMILES/JSON').json()\n",
    "pprint(request)"
   ]
  },
  {
   "cell_type": "code",
   "execution_count": 60,
   "metadata": {
    "id": "zKj3HEms1Yn7",
    "outputId": "5d6ad3bd-f1cd-4133-fee2-9803bd510165",
    "pycharm": {
     "name": "#%%\n"
    }
   },
   "outputs": [
    {
     "data": {
      "text/plain": [
       "'InChI=1S/C8H15N2/c1-3-4-5-10-7-6-9(2)8-10/h6-8H,3-5H2,1-2H3/q+1'"
      ]
     },
     "execution_count": 60,
     "metadata": {},
     "output_type": "execute_result"
    }
   ],
   "source": [
    "# Extract InChI\n",
    "request[\"PropertyTable\"][\"Properties\"][0][\"InChI\"]"
   ]
  },
  {
   "cell_type": "code",
   "execution_count": 61,
   "metadata": {
    "id": "28k8ZfKh1Yn7",
    "outputId": "944fad7f-575e-45df-dc77-72bdb230f540",
    "pycharm": {
     "name": "#%%\n"
    }
   },
   "outputs": [
    {
     "data": {
      "text/plain": [
       "'CCCCN1C=C[N+](=C1)C'"
      ]
     },
     "execution_count": 61,
     "metadata": {},
     "output_type": "execute_result"
    }
   ],
   "source": [
    "# Extract Isomeric SMILES\n",
    "request[\"PropertyTable\"][\"Properties\"][0][\"IsomericSMILES\"]"
   ]
  },
  {
   "cell_type": "markdown",
   "metadata": {
    "id": "IctUg-Zv1Yn8"
   },
   "source": [
    "### Perform a Similarity Search"
   ]
  },
  {
   "cell_type": "markdown",
   "metadata": {
    "id": "kTYFyUDt1Yn8"
   },
   "source": [
    "We will use the PubChem API to perform a Fingerprint Tanimoto Similarity Search (SS).\n",
    "\n",
    "(2D Tanimoto threshold 95% to 1-Butyl-3-methyl-imidazolium; CID = 2734162)"
   ]
  },
  {
   "cell_type": "code",
   "execution_count": 62,
   "metadata": {
    "id": "fP3O7iLm1Yn8",
    "outputId": "389dd462-fdbb-42af-cf0b-7b0a97192d45",
    "pycharm": {
     "name": "#%%\n"
    }
   },
   "outputs": [],
   "source": [
    "api = 'https://pubchem.ncbi.nlm.nih.gov/rest/pug/compound/'\n",
    "request = requests.get(api + \"fastsimilarity_2d/cid/\" + compoundID + \"/cids/JSON?Threshold=95\").json()\n",
    "idList = request[\"IdentifierList\"][\"CID\"]"
   ]
  },
  {
   "cell_type": "markdown",
   "metadata": {
    "id": "73JYlLap1Yn8",
    "pycharm": {
     "name": "#%% md\n"
    }
   },
   "source": [
    "In the above request value, you can adjust to the desired Tanimoto threshold (i.e., 97, 90, etc.)"
   ]
  },
  {
   "cell_type": "code",
   "execution_count": 63,
   "metadata": {},
   "outputs": [
    {
     "data": {
      "text/plain": [
       "297"
      ]
     },
     "execution_count": 63,
     "metadata": {},
     "output_type": "execute_result"
    }
   ],
   "source": [
    "len(idList)"
   ]
  },
  {
   "cell_type": "code",
   "execution_count": 64,
   "metadata": {},
   "outputs": [
    {
     "data": {
      "text/plain": [
       "[529334,\n",
       " 304622,\n",
       " 118785,\n",
       " 61347,\n",
       " 12971008,\n",
       " 11448496,\n",
       " 11424151,\n",
       " 11171745,\n",
       " 11160028,\n",
       " 2734236,\n",
       " 2734162,\n",
       " 2734161,\n",
       " 11245926,\n",
       " 53384410,\n",
       " 11788435,\n",
       " 5245884,\n",
       " 2734168,\n",
       " 139254006,\n",
       " 91983981,\n",
       " 87560886,\n",
       " 87559770,\n",
       " 11448364,\n",
       " 10537570,\n",
       " 10154187,\n",
       " 141109628]"
      ]
     },
     "execution_count": 64,
     "metadata": {},
     "output_type": "execute_result"
    }
   ],
   "source": [
    "# display first 25\n",
    "idList[0:25]"
   ]
  },
  {
   "cell_type": "markdown",
   "metadata": {
    "id": "VGiafQZe1Yn9"
   },
   "source": [
    "### Retrieve Identifier and Property Data"
   ]
  },
  {
   "cell_type": "markdown",
   "metadata": {},
   "source": [
    "Get the following data for the retrieved CIDs (idList): InChI, Isomeric SMILES, MW, Heavy Atom Count, Rotable Bond Count, and Charge"
   ]
  },
  {
   "cell_type": "code",
   "execution_count": 65,
   "metadata": {
    "id": "W7WIb4J41Yn9",
    "outputId": "25634801-7649-474e-e578-d9a27a50be8f",
    "pycharm": {
     "name": "#%%\n"
    }
   },
   "outputs": [],
   "source": [
    "api = 'https://pubchem.ncbi.nlm.nih.gov/rest/pug/compound/'\n",
    "compoundDictionary = []\n",
    "for cid in idList:\n",
    "    request = requests.get(api + 'cid/' + str(cid) + \"/property/InChI,IsomericSMILES,MolecularWeight,HeavyAtomCount,RotatableBondCount,Charge/JSON\").json()\n",
    "    compoundDictionary.append(request[\"PropertyTable\"][\"Properties\"][0])\n",
    "    sleep(1)"
   ]
  },
  {
   "cell_type": "code",
   "execution_count": 66,
   "metadata": {},
   "outputs": [
    {
     "data": {
      "text/plain": [
       "297"
      ]
     },
     "execution_count": 66,
     "metadata": {},
     "output_type": "execute_result"
    }
   ],
   "source": [
    "len(compoundDictionary)"
   ]
  },
  {
   "cell_type": "code",
   "execution_count": 69,
   "metadata": {},
   "outputs": [
    {
     "name": "stdout",
     "output_type": "stream",
     "text": [
      "[{'CID': 529334,\n",
      "  'Charge': 0,\n",
      "  'HeavyAtomCount': 10,\n",
      "  'InChI': 'InChI=1S/C8H14N2/c1-2-3-4-6-10-7-5-9-8-10/h5,7-8H,2-4,6H2,1H3',\n",
      "  'IsomericSMILES': 'CCCCCN1C=CN=C1',\n",
      "  'MolecularWeight': '138.21',\n",
      "  'RotatableBondCount': 4},\n",
      " {'CID': 304622,\n",
      "  'Charge': 0,\n",
      "  'HeavyAtomCount': 10,\n",
      "  'InChI': 'InChI=1S/C8H14N2/c1-3-4-6-10-7-5-9-8(10)2/h5,7H,3-4,6H2,1-2H3',\n",
      "  'IsomericSMILES': 'CCCCN1C=CN=C1C',\n",
      "  'MolecularWeight': '138.21',\n",
      "  'RotatableBondCount': 3},\n",
      " {'CID': 118785,\n",
      "  'Charge': 0,\n",
      "  'HeavyAtomCount': 8,\n",
      "  'InChI': 'InChI=1S/C6H10N2/c1-2-4-8-5-3-7-6-8/h3,5-6H,2,4H2,1H3',\n",
      "  'IsomericSMILES': 'CCCN1C=CN=C1',\n",
      "  'MolecularWeight': '110.16',\n",
      "  'RotatableBondCount': 2},\n",
      " {'CID': 61347,\n",
      "  'Charge': 0,\n",
      "  'HeavyAtomCount': 9,\n",
      "  'InChI': 'InChI=1S/C7H12N2/c1-2-3-5-9-6-4-8-7-9/h4,6-7H,2-3,5H2,1H3',\n",
      "  'IsomericSMILES': 'CCCCN1C=CN=C1',\n",
      "  'MolecularWeight': '124.18',\n",
      "  'RotatableBondCount': 3},\n",
      " {'CID': 12971008,\n",
      "  'Charge': 0,\n",
      "  'HeavyAtomCount': 10,\n",
      "  'InChI': 'InChI=1S/C7H13N2.HI/c1-3-4-9-6-5-8(2)7-9;/h5-7H,3-4H2,1-2H3;1H/q+1;/p-1',\n",
      "  'IsomericSMILES': 'CCCN1C=C[N+](=C1)C.[I-]',\n",
      "  'MolecularWeight': '252.10',\n",
      "  'RotatableBondCount': 2}]\n"
     ]
    }
   ],
   "source": [
    "pprint(compoundDictionary[0:5])"
   ]
  },
  {
   "cell_type": "markdown",
   "metadata": {
    "id": "IB88yaRv1Yn-",
    "pycharm": {
     "name": "#%% md\n"
    }
   },
   "source": [
    "### Data Table\n",
    "We can display the dictionary as a data table, but we will only do this for the first 25:"
   ]
  },
  {
   "cell_type": "code",
   "execution_count": 70,
   "metadata": {
    "id": "pyCSkrra1Yn-",
    "outputId": "03b86ffb-4d3f-4ee8-be08-a343b7276118",
    "pycharm": {
     "name": "#%%\n"
    }
   },
   "outputs": [
    {
     "name": "stdout",
     "output_type": "stream",
     "text": [
      "CID        Charge   HeavyAtomCount   InChI                               IsomericSMILES                           MolecularWeight    RotatableBondCount \n",
      "529334     0        10               InChI=1S/C8H14N2/c1-2-3-4-6-10...   CCCCCN1C=CN=C1                           138.21             4    \n",
      "304622     0        10               InChI=1S/C8H14N2/c1-3-4-6-10-7...   CCCCN1C=CN=C1C                           138.21             3    \n",
      "118785     0        8                InChI=1S/C6H10N2/c1-2-4-8-5-3-...   CCCN1C=CN=C1                             110.16             2    \n",
      "61347      0        9                InChI=1S/C7H12N2/c1-2-3-5-9-6-...   CCCCN1C=CN=C1                            124.18             3    \n",
      "12971008   0        10               InChI=1S/C7H13N2.HI/c1-3-4-9-6...   CCCN1C=C[N+](=C1)C.[I-]                  252.10             2    \n",
      "11448496   0        11               InChI=1S/C8H15N2.HI/c1-3-4-5-1...   CCCCN1C=C[N+](=C1)C.[I-]                 266.12             3    \n",
      "11424151   0        13               InChI=1S/C8H15N2.CHNS/c1-3-4-5...   CCCCN1C=C[N+](=C1)C.C(#N)[S-]            197.30             3    \n",
      "11171745   0        15               InChI=1S/C8H15N2.C2N3/c1-3-4-5...   CCCCN1C=C[N+](=C1)C.C(=[N-])=NC#N        205.26             3    \n",
      "11160028   0        10               InChI=1S/C7H13N2.BrH/c1-3-4-9-...   CCCN1C=C[N+](=C1)C.[Br-]                 205.10             2    \n",
      "2734236    0        11               InChI=1S/C8H15N2.BrH/c1-3-4-5-...   CCCCN1C=C[N+](=C1)C.[Br-]                219.12             3    \n",
      "2734162    1        10               InChI=1S/C8H15N2/c1-3-4-5-10-7...   CCCCN1C=C[N+](=C1)C                      139.22             3    \n",
      "2734161    0        11               InChI=1S/C8H15N2.ClH/c1-3-4-5-...   CCCCN1C=C[N+](=C1)C.[Cl-]                174.67             3    \n",
      "11245926   0        13               InChI=1S/C8H15N2.Br2.BrH/c1-3-...   CCCCN1C=C[N+](=C1)C.[Br-].BrBr           378.93             3    \n",
      "53384410   0        13               InChI=1S/C8H15N2.Br3/c1-3-4-5-...   CCCCN1C=C[N+](=C1)C.Br[Br-]Br            378.93             3    \n",
      "11788435   0        11               InChI=1S/C8H15N2.H2O/c1-3-4-5-...   CCCCN1C=C[N+](=C1)C.[OH-]                156.23             3    \n",
      "5245884    1        9                InChI=1S/C7H13N2/c1-3-4-9-6-5-...   CCCN1C=C[N+](=C1)C                       125.19             2    \n",
      "2734168    1        11               InChI=1S/C9H17N2/c1-4-5-6-11-8...   CCCCN1C=C[N+](=C1C)C                     153.24             3    \n",
      "139254006  0        12               InChI=1S/C9H15N2.HI/c1-3-5-6-1...   CCCC[N+]1=CN(C=C1)C=C.[I-]               278.13             4    \n",
      "91983981   -2       13               InChI=1S/C8H15N2.3BrH/c1-3-4-5...   CCCCN1C=C[N+](=C1)C.[Br-].[Br-].[Br-]    378.93             3    \n",
      "87560886   0        12               InChI=1S/C9H15N2.BrH/c1-3-5-6-...   CCCC[N+]1=CN(C=C1)C=C.[Br-]              231.13             4    \n",
      "87559770   0        12               InChI=1S/C9H15N2.ClH/c1-3-5-6-...   CCCC[N+]1=CN(C=C1)C=C.[Cl-]              186.68             4    \n",
      "11448364   0        14               InChI=1S/C11H21N2.BrH/c1-3-5-7...   CCCCN1C=C[N+](=C1)CCCC.[Br-]             261.20             6    \n",
      "10537570   1        11               InChI=1S/C9H17N2/c1-3-4-5-6-11...   CCCCCN1C=C[N+](=C1)C                     153.24             4    \n",
      "10154187   0        10               InChI=1S/C7H13N2.ClH/c1-3-4-9-...   CCCN1C=C[N+](=C1)C.[Cl-]                 160.64             2    \n",
      "141109628  0        10               InChI=1S/C7H11FN2/c1-2-3-5-10-...   CCCCN1C=CN=C1F                           142.17             3    \n"
     ]
    }
   ],
   "source": [
    "# numbers in print statement indicate amount of space used\n",
    "print (\"{:<10} {:<8} {:<16} {:<35} {:<40} {:<18} {:<4} \".format(\"CID\", \"Charge\", \"HeavyAtomCount\", \"InChI\", \"IsomericSMILES\", \"MolecularWeight\", \"RotatableBondCount\"))\n",
    "for compound in compoundDictionary[0:25]:\n",
    "    cid = compound[\"CID\"]\n",
    "    charge = compound[\"Charge\"]\n",
    "    heavyAtom = compound[\"HeavyAtomCount\"]\n",
    "    inchi = compound[\"InChI\"][0:30] + \"...\" # only display first 30 characters of InChI\n",
    "    isomeric = compound[\"IsomericSMILES\"]\n",
    "    molecular = compound[\"MolecularWeight\"]\n",
    "    rotatable = compound[\"RotatableBondCount\"]\n",
    "    print (\"{:<10} {:<8} {:<16} {:<35} {:<40} {:<18} {:<4} \".format(cid, charge, heavyAtom, inchi, isomeric, molecular, rotatable))"
   ]
  },
  {
   "cell_type": "markdown",
   "metadata": {
    "id": "fp4bDvVG1Yn-"
   },
   "source": [
    "### Retrieve Images of Compounds from Similarity Search"
   ]
  },
  {
   "cell_type": "code",
   "execution_count": 71,
   "metadata": {
    "id": "ATlQDzLz1Yn_",
    "outputId": "67dfcb80-0a00-48d5-e6a9-d8e13f38a061",
    "pycharm": {
     "name": "#%%\n"
    }
   },
   "outputs": [
    {
     "name": "stdout",
     "output_type": "stream",
     "text": [
      "529334\n"
     ]
    },
    {
     "data": {
      "image/png": "[encoded data removed]",
      "text/plain": [
       "<Figure size 432x288 with 1 Axes>"
      ]
     },
     "metadata": {
      "needs_background": "light"
     },
     "output_type": "display_data"
    },
    {
     "name": "stdout",
     "output_type": "stream",
     "text": [
      "304622\n"
     ]
    },
    {
     "data": {
      "image/png": "[encoded data removed]",
      "text/plain": [
       "<Figure size 432x288 with 1 Axes>"
      ]
     },
     "metadata": {
      "needs_background": "light"
     },
     "output_type": "display_data"
    },
    {
     "name": "stdout",
     "output_type": "stream",
     "text": [
      "118785\n"
     ]
    },
    {
     "data": {
      "image/png": "[encoded data removed]",
      "text/plain": [
       "<Figure size 432x288 with 1 Axes>"
      ]
     },
     "metadata": {
      "needs_background": "light"
     },
     "output_type": "display_data"
    },
    {
     "name": "stdout",
     "output_type": "stream",
     "text": [
      "61347\n"
     ]
    },
    {
     "data": {
      "image/png": "[encoded data removed]",
      "text/plain": [
       "<Figure size 432x288 with 1 Axes>"
      ]
     },
     "metadata": {
      "needs_background": "light"
     },
     "output_type": "display_data"
    },
    {
     "name": "stdout",
     "output_type": "stream",
     "text": [
      "12971008\n"
     ]
    },
    {
     "data": {
      "image/png": "[encoded data removed]",
      "text/plain": [
       "<Figure size 432x288 with 1 Axes>"
      ]
     },
     "metadata": {
      "needs_background": "light"
     },
     "output_type": "display_data"
    }
   ],
   "source": [
    "# we will only do this for the first five:\n",
    "api = \"https://pubchem.ncbi.nlm.nih.gov/rest/pug/compound/\"\n",
    "for cid in idList[0:5]:\n",
    "    request = requests.get(api + \"cid/\" + str(cid) + \"/PNG\").content\n",
    "    sleep(1)\n",
    "    with open(str(cid) + \".png\", \"wb\") as out:\n",
    "        out.write(request)\n",
    "    pprint(cid)\n",
    "    img = mpimg.imread(str(cid) + \".png\")\n",
    "    plt.imshow(img)\n",
    "    plt.show()"
   ]
  },
  {
   "cell_type": "markdown",
   "metadata": {
    "id": "wFnHWW9Z1Yn_",
    "pycharm": {
     "name": "#%% md\n"
    }
   },
   "source": [
    "## 2. PubChem SMARTS Search"
   ]
  },
  {
   "cell_type": "markdown",
   "metadata": {
    "id": "kx97gp_B1Yn_",
    "pycharm": {
     "name": "#%% md\n"
    }
   },
   "source": [
    "Search for chemical structures from a SMARTS substructure query."
   ]
  },
  {
   "cell_type": "markdown",
   "metadata": {
    "id": "5wbQkxUO1Yn_"
   },
   "source": [
    "### Define SMARTS queries"
   ]
  },
  {
   "cell_type": "markdown",
   "metadata": {
    "id": "735OqB721YoA"
   },
   "source": [
    "View pattern syntax at: https://smartsview.zbh.uni-hamburg.de/\n",
    "\n",
    "Note: These are vinyl imidazolium substructure searches"
   ]
  },
  {
   "cell_type": "code",
   "execution_count": 72,
   "metadata": {
    "id": "PLuQeQQF1YoA",
    "pycharm": {
     "name": "#%%\n"
    }
   },
   "outputs": [],
   "source": [
    "smartsQ = [\"[CR0H2][n+]1[cH1][cH1]n([CR0H1]=[CR0H2])[cH1]1\",\"[CR0H2][n+]1[cH1][cH1]n([CR0H2][CR0H1]=[CR0H2])[cH1]1\",\"[CR0H2][n+]1[cH1][cH1]n([CR0H2][CR0H2][CR0H1]=[CR0H2])[cH1]1\"]"
   ]
  },
  {
   "cell_type": "markdown",
   "metadata": {
    "id": "Fff07MWn1YoA"
   },
   "source": [
    "Add your own SMARTS queries to customize. You can add as many as desired within a list"
   ]
  },
  {
   "cell_type": "markdown",
   "metadata": {
    "id": "C1NSconw1YoB"
   },
   "source": [
    "### Perform a SMARTS query search"
   ]
  },
  {
   "cell_type": "code",
   "execution_count": 73,
   "metadata": {
    "id": "fOvq-zJb1YoB",
    "outputId": "96cb1b7a-8167-4e70-eb9b-3070e68afd6a",
    "pycharm": {
     "name": "#%%\n"
    }
   },
   "outputs": [],
   "source": [
    "api = \"https://pubchem.ncbi.nlm.nih.gov/rest/pug/compound/\"\n",
    "combinedList = []\n",
    "for smarts in smartsQ:\n",
    "    request = requests.get(api + \"fastsubstructure/smarts/\" + smarts + \"/cids/JSON\").json()\n",
    "    combinedList += request[\"IdentifierList\"][\"CID\"]\n",
    "    sleep(1)"
   ]
  },
  {
   "cell_type": "code",
   "execution_count": 74,
   "metadata": {},
   "outputs": [
    {
     "data": {
      "text/plain": [
       "830"
      ]
     },
     "execution_count": 74,
     "metadata": {},
     "output_type": "execute_result"
    }
   ],
   "source": [
    "len(combinedList)"
   ]
  },
  {
   "cell_type": "code",
   "execution_count": 75,
   "metadata": {},
   "outputs": [
    {
     "name": "stdout",
     "output_type": "stream",
     "text": [
      "[121235111,\n",
      " 86657882,\n",
      " 46178576,\n",
      " 24766550,\n",
      " 139254006,\n",
      " 132274871,\n",
      " 129853306,\n",
      " 129853221,\n",
      " 129850195,\n",
      " 87560886,\n",
      " 87559770,\n",
      " 87327009,\n",
      " 59435292,\n",
      " 141478618,\n",
      " 141176071,\n",
      " 139241369,\n",
      " 138404213,\n",
      " 138373746,\n",
      " 135377330,\n",
      " 135361018,\n",
      " 132427329,\n",
      " 132275640,\n",
      " 129862663,\n",
      " 129850437,\n",
      " 129850146]\n"
     ]
    }
   ],
   "source": [
    "pprint(combinedList[0:25]) # display 25"
   ]
  },
  {
   "cell_type": "markdown",
   "metadata": {
    "id": "CJTGolRg1YoC",
    "pycharm": {
     "name": "#%% md\n"
    }
   },
   "source": [
    "### Retrieve Identifier and Property Data"
   ]
  },
  {
   "cell_type": "code",
   "execution_count": 76,
   "metadata": {
    "id": "mJvsvRSH1YoC",
    "outputId": "13fd1f50-1d3c-4550-e8b6-2a10077339f6",
    "pycharm": {
     "name": "#%%\n"
    }
   },
   "outputs": [
    {
     "name": "stdout",
     "output_type": "stream",
     "text": [
      "[{'CID': 121235111,\n",
      "  'CanonicalSMILES': 'CC[N+]1=CN(C=C1)C=C.C(F)(F)(F)S(=O)(=O)[N-]S(=O)(=O)C(F)(F)F',\n",
      "  'Charge': 0,\n",
      "  'CovalentUnitCount': 2,\n",
      "  'HeavyAtomCount': 24,\n",
      "  'IUPACName': 'bis(trifluoromethylsulfonyl)azanide;1-ethenyl-3-ethylimidazol-3-ium',\n",
      "  'InChI': 'InChI=1S/C7H11N2.C2F6NO4S2/c1-3-8-5-6-9(4-2)7-8;3-1(4,5)14(10,11)9-15(12,13)2(6,7)8/h3,5-7H,1,4H2,2H3;/q+1;-1',\n",
      "  'MolecularWeight': '403.3'},\n",
      " {'CID': 86657882,\n",
      "  'CanonicalSMILES': 'CCCCCCCC[N+]1=CN(C=C1)C=C.[Br-]',\n",
      "  'Charge': 0,\n",
      "  'CovalentUnitCount': 2,\n",
      "  'HeavyAtomCount': 16,\n",
      "  'IUPACName': '1-ethenyl-3-octylimidazol-3-ium;bromide',\n",
      "  'InChI': 'InChI=1S/C13H23N2.BrH/c1-3-5-6-7-8-9-10-15-12-11-14(4-2)13-15;/h4,11-13H,2-3,5-10H2,1H3;1H/q+1;/p-1',\n",
      "  'MolecularWeight': '287.24'},\n",
      " {'CID': 46178576,\n",
      "  'CanonicalSMILES': 'CCCCCCCCCCCCCCCC[N+]1=CN(C=C1)C=C.[Br-]',\n",
      "  'Charge': 0,\n",
      "  'CovalentUnitCount': 2,\n",
      "  'HeavyAtomCount': 24,\n",
      "  'IUPACName': '1-ethenyl-3-hexadecylimidazol-3-ium;bromide',\n",
      "  'InChI': 'InChI=1S/C21H39N2.BrH/c1-3-5-6-7-8-9-10-11-12-13-14-15-16-17-18-23-20-19-22(4-2)21-23;/h4,19-21H,2-3,5-18H2,1H3;1H/q+1;/p-1',\n",
      "  'MolecularWeight': '399.5'},\n",
      " {'CID': 24766550,\n",
      "  'CanonicalSMILES': 'CCCC[N+]1=CN(C=C1)C=C.C(F)(F)(F)S(=O)(=O)[N-]S(=O)(=O)C(F)(F)F',\n",
      "  'Charge': 0,\n",
      "  'CovalentUnitCount': 2,\n",
      "  'HeavyAtomCount': 26,\n",
      "  'IUPACName': 'bis(trifluoromethylsulfonyl)azanide;1-butyl-3-ethenylimidazol-1-ium',\n",
      "  'InChI': 'InChI=1S/C9H15N2.C2F6NO4S2/c1-3-5-6-11-8-7-10(4-2)9-11;3-1(4,5)14(10,11)9-15(12,13)2(6,7)8/h4,7-9H,2-3,5-6H2,1H3;/q+1;-1',\n",
      "  'MolecularWeight': '431.4'},\n",
      " {'CID': 139254006,\n",
      "  'CanonicalSMILES': 'CCCC[N+]1=CN(C=C1)C=C.[I-]',\n",
      "  'Charge': 0,\n",
      "  'CovalentUnitCount': 2,\n",
      "  'HeavyAtomCount': 12,\n",
      "  'IUPACName': '1-butyl-3-ethenylimidazol-1-ium;iodide',\n",
      "  'InChI': 'InChI=1S/C9H15N2.HI/c1-3-5-6-11-8-7-10(4-2)9-11;/h4,7-9H,2-3,5-6H2,1H3;1H/q+1;/p-1',\n",
      "  'MolecularWeight': '278.13'}]\n"
     ]
    }
   ],
   "source": [
    "smartsList = []\n",
    "for cid in combinedList[0:5]: # demo for first 5 CIDs\n",
    "    request = requests.get(api + \"cid/\" + str(cid) + \"/property/InChI,CanonicalSMILES,MolecularWeight,IUPACName,HeavyAtomCount,CovalentUnitCount,Charge/JSON\").json()\n",
    "    smartsList.append(request[\"PropertyTable\"][\"Properties\"][0])\n",
    "    sleep(1)\n",
    "pprint(smartsList[0:5])"
   ]
  },
  {
   "cell_type": "markdown",
   "metadata": {
    "id": "T8oTmDLQ1YoC"
   },
   "source": [
    "### Retrieve Images of CID Compounds from SMARTS Search"
   ]
  },
  {
   "cell_type": "code",
   "execution_count": 77,
   "metadata": {
    "id": "3nak7x2y1YoC",
    "outputId": "e3ef4b1d-9c33-464a-ac8d-adfb475b8fee",
    "pycharm": {
     "name": "#%%\n"
    }
   },
   "outputs": [
    {
     "name": "stdout",
     "output_type": "stream",
     "text": [
      "121235111\n"
     ]
    },
    {
     "data": {
      "image/png": "[encoded data removed]",
      "text/plain": [
       "<Figure size 432x288 with 1 Axes>"
      ]
     },
     "metadata": {
      "needs_background": "light"
     },
     "output_type": "display_data"
    },
    {
     "name": "stdout",
     "output_type": "stream",
     "text": [
      "86657882\n"
     ]
    },
    {
     "data": {
      "image/png": "[encoded data removed]",
      "text/plain": [
       "<Figure size 432x288 with 1 Axes>"
      ]
     },
     "metadata": {
      "needs_background": "light"
     },
     "output_type": "display_data"
    },
    {
     "name": "stdout",
     "output_type": "stream",
     "text": [
      "46178576\n"
     ]
    },
    {
     "data": {
      "image/png": "[encoded data removed]",
      "text/plain": [
       "<Figure size 432x288 with 1 Axes>"
      ]
     },
     "metadata": {
      "needs_background": "light"
     },
     "output_type": "display_data"
    },
    {
     "name": "stdout",
     "output_type": "stream",
     "text": [
      "24766550\n"
     ]
    },
    {
     "data": {
      "image/png": "[encoded data removed]",
      "text/plain": [
       "<Figure size 432x288 with 1 Axes>"
      ]
     },
     "metadata": {
      "needs_background": "light"
     },
     "output_type": "display_data"
    },
    {
     "name": "stdout",
     "output_type": "stream",
     "text": [
      "139254006\n"
     ]
    },
    {
     "data": {
      "image/png": "[encoded data removed]",
      "text/plain": [
       "<Figure size 432x288 with 1 Axes>"
      ]
     },
     "metadata": {
      "needs_background": "light"
     },
     "output_type": "display_data"
    }
   ],
   "source": [
    "api = \"https://pubchem.ncbi.nlm.nih.gov/rest/pug/compound/\"\n",
    "for cid in combinedList[0:5]:\n",
    "    request = requests.get(api + \"cid/\" + str(cid) + \"/PNG\").content\n",
    "    sleep(1)\n",
    "    with open(str(cid) + \".png\", \"wb\") as out:\n",
    "        out.write(request)\n",
    "    pprint(cid)\n",
    "    img = mpimg.imread(str(cid) + \".png\")\n",
    "    plt.imshow(img)\n",
    "    plt.show()"
   ]
  }
 ],
 "metadata": {
  "colab": {
   "name": "python_pubchem.ipynb",
   "provenance": [],
   "toc_visible": true
  },
  "kernelspec": {
   "display_name": "Python 3 (ipykernel)",
   "language": "python",
   "name": "python3"
  },
  "language_info": {
   "codemirror_mode": {
    "name": "ipython",
    "version": 3
   },
   "file_extension": ".py",
   "mimetype": "text/x-python",
   "name": "python",
   "nbconvert_exporter": "python",
   "pygments_lexer": "ipython3",
   "version": "3.9.7"
  }
 },
 "nbformat": 4,
 "nbformat_minor": 4
}
