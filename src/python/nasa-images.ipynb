{
 "cells": [
  {
   "cell_type": "markdown",
   "metadata": {},
   "source": [
    "# NASA EPIC and APOD APIs in Python\n",
    "\n",
    "By Sebastian Shirk and Avery Fernandez\n",
    "\n",
    "The NASA Earth Polychromatic Imaging Camera (EPIC) API provides access to daily imagery of Earth captured by the DSCOVR satellite, offering valuable data for climate research and Earth observation. The Astronomy Picture of the Day (APOD) API delivers daily images or videos of astronomical phenomena, accompanied by brief explanations written by professional astronomers.\n",
    "\n",
    "Please see the following resources for more information on API usage:\n",
    "\n",
    "- Documentation\n",
    "  - <a href=\"https://api.nasa.gov/\" target=\"_blank\">NASA APIs Overview</a>\n",
    "- Terms\n",
    "  - <a href=\"https://www.earthdata.nasa.gov/engage/open-data-services-software-policies\" target=\"_blank\">NASA Open Data, Services, and Software Policies</a>\n",
    "- Data Reuse\n",
    "  - <a href=\"https://epic.gsfc.nasa.gov/api\" target=\"_blank\">EPIC Image Use Policy</a>\n",
    "  - <a href=\"https://www.nasa.gov/nasa-brand-center/images-and-media/\" target=\"_blank\">NASA Images and Media Usage Guidelines</a>\n",
    "\n",
    "_**NOTE:**_ The NASA APIs limit requests to a maximum of 1,000 per hour.\n",
    "\n",
    "*These recipe examples were tested on May 7, 2025.* "
   ]
  },
  {
   "cell_type": "markdown",
   "metadata": {},
   "source": [
    "## Setup\n",
    "\n",
    "### Import Libraries\n",
    "\n",
    "The following external libraries need to be installed into your environment to run the code examples in this tutorial:\n",
    "* <a href=\"https://github.com/psf/requests\" target=\"_blank\">requests</a>\n",
    "* <a href=\"https://github.com/theskumar/python-dotenv\" target=\"_blank\">python-dotenv</a>\n",
    "* <a href=\"https://github.com/ipython/ipykernel\" target=\"_blank\">ipykernel</a>\n",
    "* <a href=\"https://github.com/python-pillow/Pillow?tab=readme-ov-file\" target=\"_blank\">pillow</a>\n",
    "\n",
    "We import the libraries used in this tutorial below:"
   ]
  },
  {
   "cell_type": "code",
   "execution_count": 1,
   "metadata": {},
   "outputs": [],
   "source": [
    "import requests\n",
    "from PIL import Image, ImageDraw, ImageFont\n",
    "from dotenv import load_dotenv\n",
    "import os\n",
    "from pprint import pprint"
   ]
  },
  {
   "cell_type": "markdown",
   "metadata": {},
   "source": [
    "### Import API Key\n",
    "\n",
    "An API key is required to access the APOD API. You can sign up for one at the <a href=\"https://api.nasa.gov/\" target=\"_blank\">APOD Developer Portal</a>.\n",
    "\n",
    "We keep our API key in a separate file, a `.env` file, and use the `dotenv` library to access it. If you use this method, create a file named `.env` in the same directory as this notebook and add the following line to it:\n",
    "\n",
    "```text\n",
    "APOD_API_KEY=PUT_YOUR_API_KEY_HERE\n",
    "```"
   ]
  },
  {
   "cell_type": "code",
   "execution_count": 2,
   "metadata": {},
   "outputs": [
    {
     "name": "stdout",
     "output_type": "stream",
     "text": [
      "Environment and API key successfully loaded.\n"
     ]
    }
   ],
   "source": [
    "load_dotenv()\n",
    "try:\n",
    "    API_KEY = os.environ[\"APOD_API_KEY\"]\n",
    "except KeyError:\n",
    "    print(\"API key not found. Please set 'APOD_API_KEY' in your .env file.\")\n",
    "else:\n",
    "    print(\"Environment and API key successfully loaded.\")"
   ]
  },
  {
   "cell_type": "markdown",
   "metadata": {},
   "source": [
    "### Create Images Folder\n",
    "\n",
    "All images will be saved in an `images` folder that will be created in the current working directory."
   ]
  },
  {
   "cell_type": "code",
   "execution_count": 3,
   "metadata": {},
   "outputs": [],
   "source": [
    "if not os.path.exists(\"images\"):\n",
    "    os.makedirs(\"images\")"
   ]
  },
  {
   "cell_type": "markdown",
   "metadata": {},
   "source": [
    "## 1. Get the Latest Images of Earth (EPIC)\n",
    "\n",
    "This will get the latest images of Earth from the NASA EPIC API and download them as PNGs to your local directory.\n",
    "\n",
    "Change the `collection` variable to see different collections of images."
   ]
  },
  {
   "cell_type": "code",
   "execution_count": 4,
   "metadata": {},
   "outputs": [
    {
     "name": "stdout",
     "output_type": "stream",
     "text": [
      "{'attitude_quaternions': {...},\n",
      " 'caption': \"This image was taken by NASA's EPIC camera onboard the NOAA \"\n",
      "            'DSCOVR spacecraft',\n",
      " 'centroid_coordinates': {...},\n",
      " 'coords': {...},\n",
      " 'date': '2025-05-05 00:50:27',\n",
      " 'dscovr_j2000_position': {...},\n",
      " 'identifier': '20250505005515',\n",
      " 'image': 'epic_1b_20250505005515',\n",
      " 'lunar_j2000_position': {...},\n",
      " 'sun_j2000_position': {...},\n",
      " 'version': '03'}\n"
     ]
    }
   ],
   "source": [
    "BASE_URL = \"https://api.nasa.gov/\"\n",
    "endpoint = \"EPIC/api/\"\n",
    "params = {\n",
    "    'api_key': API_KEY,\n",
    "}\n",
    "\n",
    "# Collection options: natural, enhanced, cloud, aerosol\n",
    "collection = \"natural\"\n",
    "\n",
    "try:\n",
    "    response = requests.get(f\"{BASE_URL}{endpoint}{collection}\", params=params)\n",
    "    # Raise an error for bad responses\n",
    "    response.raise_for_status()  \n",
    "    data = response.json()\n",
    "    pprint(data[0], depth=1)\n",
    "except requests.exceptions.RequestException as e:\n",
    "    print(f\"Error fetching data from API: {e}\")\n",
    "    data = None"
   ]
  },
  {
   "cell_type": "code",
   "execution_count": null,
   "metadata": {},
   "outputs": [],
   "source": [
    "endpoint = 'EPIC/archive/'\n",
    "\n",
    "# This code block downloads the latest 20 images of Earth available through EPIC, which takes\n",
    "# a picture about every 5 minutes\n",
    "images = []\n",
    "for item in data:\n",
    "    year, month, day = item[\"date\"].split(\" \")[0].split(\"-\")\n",
    "    image = item[\"image\"]\n",
    "    try:\n",
    "        response = requests.get(\n",
    "            f\"{BASE_URL}{endpoint}{collection}/{year}/{month}/{day}/png/{image}.png\",\n",
    "            params=params\n",
    "        )\n",
    "        # Raise an error for bad responses\n",
    "        response.raise_for_status()\n",
    "        image_content = response.content\n",
    "\n",
    "        with open(f\"images/{image}.png\", \"wb\") as img_file:\n",
    "            img_file.write(image_content)\n",
    "\n",
    "        img = Image.open(f\"images/{image}.png\")\n",
    "        draw = ImageDraw.Draw(img)\n",
    "        font = ImageFont.load_default(100)\n",
    "        date_position = (20, 10)\n",
    "        time_position = (20, 100)\n",
    "        draw.text(date_position, item[\"date\"].split(\" \")[0], font=font, fill=\"white\")\n",
    "        draw.text(time_position, item[\"date\"].split(\" \")[1], font=font, fill=\"white\") \n",
    "        img.save(f\"images/{image}.png\")  \n",
    "\n",
    "        images.append(f\"images/{image}.png\")\n",
    "    except requests.exceptions.RequestException as e:\n",
    "        print(f\"Error fetching image {image}: {e}\")"
   ]
  },
  {
   "cell_type": "markdown",
   "metadata": {},
   "source": [
    "Example Image\n",
    "\n",
    "![NASA Image](./imgs/Earth_Image1_recent.png)"
   ]
  },
  {
   "cell_type": "markdown",
   "metadata": {},
   "source": [
    "## 2. Get Earth Images from a Specific Date (EPIC)\n",
    "\n",
    "Use the `get_valid_dates()` function defined below to gather a list of all valid dates where images are available through the EPIC API.\n",
    "\n",
    "Note that most dates from the launch of the API on June 13, 2015 are valid. However, there are several missing dates, as you can see below."
   ]
  },
  {
   "cell_type": "code",
   "execution_count": 6,
   "metadata": {},
   "outputs": [],
   "source": [
    "endpoint = \"EPIC/api/\"\n",
    "\n",
    "try:\n",
    "    response = requests.get(f\"{BASE_URL}{endpoint}{collection}/all\", params=params)\n",
    "    # Raise an error for bad responses\n",
    "    response.raise_for_status()  \n",
    "    data = response.json()\n",
    "except requests.exceptions.RequestException as e:\n",
    "    print(f\"Error fetching data from API: {e}\")\n",
    "    data = None"
   ]
  },
  {
   "cell_type": "code",
   "execution_count": 7,
   "metadata": {},
   "outputs": [
    {
     "data": {
      "text/plain": [
       "['2015-06-13',\n",
       " '2015-06-16',\n",
       " '2015-06-17',\n",
       " '2015-06-18',\n",
       " '2015-06-20',\n",
       " '2015-06-21',\n",
       " '2015-06-22',\n",
       " '2015-06-27',\n",
       " '2015-06-30']"
      ]
     },
     "execution_count": 7,
     "metadata": {},
     "output_type": "execute_result"
    }
   ],
   "source": [
    "dates = [item[\"date\"].split(\" \")[0] for item in data]\n",
    "\n",
    "# Print the last 10 elements in the list\n",
    "dates[:-10:-1]"
   ]
  },
  {
   "cell_type": "markdown",
   "metadata": {},
   "source": [
    "Notice the gaps in the above results. Before we retrieve the images for a given date, let's ensure that the date is available through the API:"
   ]
  },
  {
   "cell_type": "code",
   "execution_count": 8,
   "metadata": {},
   "outputs": [
    {
     "name": "stdout",
     "output_type": "stream",
     "text": [
      "2016-05-15 is valid\n",
      "2022-06-15 is not valid\n"
     ]
    }
   ],
   "source": [
    "# Note that this date is available\n",
    "if '2016-05-15' in dates:\n",
    "    print('2016-05-15 is valid')\n",
    "\n",
    "# Note that this date is not available\n",
    "if '2022-06-15' not in dates:\n",
    "    print('2022-06-15 is not valid')"
   ]
  },
  {
   "cell_type": "code",
   "execution_count": 9,
   "metadata": {},
   "outputs": [],
   "source": [
    "endpoint = \"EPIC/api/\"\n",
    "date = \"2016-05-15\"\n",
    "\n",
    "try:\n",
    "    response = requests.get(\n",
    "        f\"{BASE_URL}{endpoint}{collection}/date/{date}\",\n",
    "        params=params\n",
    "    )\n",
    "    # Raise an error for bad responses\n",
    "    response.raise_for_status()  \n",
    "    data = response.json()\n",
    "except requests.exceptions.RequestException as e:\n",
    "    print(f\"Error fetching data from API: {e}\")\n",
    "    data = None"
   ]
  },
  {
   "cell_type": "code",
   "execution_count": null,
   "metadata": {},
   "outputs": [],
   "source": [
    "endpoint = 'EPIC/archive/'\n",
    "\n",
    "# Download images from the specified data\n",
    "images = []\n",
    "if data:\n",
    "    for item in data:\n",
    "        year, month, day = item[\"date\"].split(\" \")[0].split(\"-\")\n",
    "        image = item[\"image\"]\n",
    "        try:\n",
    "            response = requests.get(\n",
    "                f\"{BASE_URL}{endpoint}{collection}/{year}/{month}/{day}/png/{image}.png\",\n",
    "                params=params\n",
    "            )\n",
    "            # Raise an error for bad responses\n",
    "            response.raise_for_status()\n",
    "            image_content = response.content\n",
    "\n",
    "            with open(f\"images/{image}.png\", \"wb\") as img_file:\n",
    "                img_file.write(image_content)\n",
    "\n",
    "            img = Image.open(f\"images/{image}.png\")\n",
    "            draw = ImageDraw.Draw(img)\n",
    "            font = ImageFont.load_default(100)\n",
    "            date_position = (20, 10)\n",
    "            time_position = (20, 100)\n",
    "            draw.text(date_position, item[\"date\"].split(\" \")[0], font=font, fill=\"white\")\n",
    "            draw.text(time_position, item[\"date\"].split(\" \")[1], font=font, fill=\"white\") \n",
    "            img.save(f\"images/{image}.png\")  \n",
    "\n",
    "            images.append(f\"images/{image}.png\")\n",
    "        except requests.exceptions.RequestException as e:\n",
    "            print(f\"Error fetching image {image}: {e}\")"
   ]
  },
  {
   "cell_type": "markdown",
   "metadata": {},
   "source": [
    "### Stitch the Images Together\n",
    "This will stitch the images together to create one image containing all the images for easier viewing."
   ]
  },
  {
   "cell_type": "code",
   "execution_count": null,
   "metadata": {},
   "outputs": [],
   "source": [
    "loaded_images = [Image.open(image) for image in images]\n",
    "\n",
    "# Split the images into two rows\n",
    "halfway = len(loaded_images) // 2\n",
    "first_row_images = loaded_images[:halfway]\n",
    "second_row_images = loaded_images[halfway:]\n",
    "\n",
    "# Get dimensions of the first image\n",
    "widths, heights = zip(*(i.size for i in loaded_images))\n",
    "\n",
    "total_width_first_row = sum(width.size[0] for width in first_row_images)\n",
    "total_width_second_row = sum(width.size[0] for width in second_row_images)\n",
    "max_width = max(total_width_first_row, total_width_second_row)\n",
    "max_height = max(heights)\n",
    "\n",
    "# Create a new blank image with the max width and twice the max height\n",
    "stitched_image = Image.new('RGB', (max_width, max_height * 2))\n",
    "\n",
    "# Paste each image into the blank image\n",
    "x_offset = 0\n",
    "for im in first_row_images:\n",
    "    stitched_image.paste(im, (x_offset, 0))\n",
    "    x_offset += im.size[0]\n",
    "\n",
    "x_offset = 0\n",
    "for im in second_row_images:\n",
    "    stitched_image.paste(im, (x_offset, max_height))\n",
    "    x_offset += im.size[0]\n",
    "stitched_image.save(\"images/Earth_Image_Stitched.png\")"
   ]
  },
  {
   "cell_type": "markdown",
   "metadata": {},
   "source": [
    "![Stitched Image](./imgs/Earth_Image_Stitched.png)"
   ]
  },
  {
   "cell_type": "markdown",
   "metadata": {},
   "source": [
    "## 3. Get the Astronomy Picture of the Day (APOD)\n",
    "\n",
    "This will get the Astronomy Picture of the Day from the NASA APOD API and download it as a PNG to your local directory.\n",
    "\n",
    "You can get a random APOD image from their collection instead by uncommenting the two commented lines.\n",
    "\n",
    "Note that the APOD API can only be called 30 times per IP address per hour and only 50 times per day."
   ]
  },
  {
   "cell_type": "code",
   "execution_count": 11,
   "metadata": {},
   "outputs": [],
   "source": [
    "date = \"2016-05-15\" # Set to None if you want to get a random image\n",
    "\n",
    "endpoint = \"planetary/apod\"\n",
    "\n",
    "if date:\n",
    "    params[\"date\"] = date\n",
    "    try:\n",
    "        response = requests.get(f\"{BASE_URL}{endpoint}\", params=params)\n",
    "        # Raise an error for bad responses\n",
    "        response.raise_for_status()  \n",
    "        data = response.json()\n",
    "    except requests.exceptions.RequestException as e:\n",
    "        print(f\"Error fetching data from API: {e}\")\n",
    "        data = None\n",
    "else:\n",
    "    try:\n",
    "        response = requests.get(f\"{BASE_URL}{endpoint}\", params=params)\n",
    "        # Raise an error for bad responses\n",
    "        response.raise_for_status()  \n",
    "        data = response.json()\n",
    "    except requests.exceptions.RequestException as e:\n",
    "        print(f\"Error fetching data from API: {e}\")\n",
    "        data = None"
   ]
  },
  {
   "cell_type": "code",
   "execution_count": null,
   "metadata": {},
   "outputs": [],
   "source": [
    "# Download Astronomy Picture of the Day\n",
    "image_url = data[\"url\"]\n",
    "media_type = data[\"media_type\"]\n",
    "\n",
    "if media_type == \"image\":\n",
    "    image_path = f\"images/APOD_Image.png\"\n",
    "    try:\n",
    "        response = requests.get(image_url)\n",
    "        # Raise an error for bad responses\n",
    "        response.raise_for_status()  \n",
    "        with open(image_path, \"wb\") as img_file:\n",
    "            img_file.write(response.content)\n",
    "    except requests.exceptions.RequestException as e:\n",
    "        print(f\"Error fetching image: {e}\")\n",
    "else:\n",
    "    print(\"The media type is not an image.\")\n",
    "    print(\"You can check the URL in your browser:\")\n",
    "    print(image_url)"
   ]
  },
  {
   "cell_type": "markdown",
   "metadata": {},
   "source": [
    "Example Image\n",
    "\n",
    "![NASA APOD Image](./imgs/APOD_Image.png)"
   ]
  }
 ],
 "metadata": {
  "kernelspec": {
   "display_name": "api_env",
   "language": "python",
   "name": "python3"
  },
  "language_info": {
   "codemirror_mode": {
    "name": "ipython",
    "version": 3
   },
   "file_extension": ".py",
   "mimetype": "text/x-python",
   "name": "python",
   "nbconvert_exporter": "python",
   "pygments_lexer": "ipython3",
   "version": "3.13.2"
  }
 },
 "nbformat": 4,
 "nbformat_minor": 2
}
