{
 "cells": [
  {
   "cell_type": "markdown",
   "metadata": {},
   "source": [
    "# NASA EPIC and APOD APIs in Python\n",
    "\n",
    "by Sebastian Shirk\n",
    "\n",
    "**NASA EPIC API:** https://epic.gsfc.nasa.gov/about/api\n",
    "\n",
    "**NASA APIs:** https://api.nasa.gov/\n",
    "\n",
    "**NASA Images and Media Usage Guidelines:** https://www.nasa.gov/nasa-brand-center/images-and-media/\n",
    "\n",
    "The Earth Polychromatic Imaging Camera (EPIC) API provides the most recent images of Earth.\n",
    "\n",
    "The Astronomy Picture of the Day (APOD) API provides the images of the universe taken by telescopes and other instruments.\n",
    "\n",
    "*These recipe examples were tested on August 27, 2024.*\n",
    "\n",
    "**_NOTE:_** This notebook automatically downloads the images returned by the APIs. This can download anywhere from 1 to 30 images per request depending on the number of images returned by the APIs."
   ]
  },
  {
   "cell_type": "markdown",
   "metadata": {},
   "source": [
    "## Setup\n",
    "\n",
    "### Import Libraries\n",
    "\n",
    "This tutorial will use the following libraries:"
   ]
  },
  {
   "cell_type": "code",
   "execution_count": 61,
   "metadata": {},
   "outputs": [],
   "source": [
    "import requests\n",
    "import os\n",
    "from PIL import Image, ImageDraw, ImageFont"
   ]
  },
  {
   "cell_type": "markdown",
   "metadata": {},
   "source": [
    "### Create Images Folder\n",
    "\n",
    "All images will be saved in an `images` folder that will be created in the current working directory."
   ]
  },
  {
   "cell_type": "code",
   "execution_count": 62,
   "metadata": {},
   "outputs": [],
   "source": [
    "if not os.path.exists(\"images\"):\n",
    "        os.makedirs(\"images\")"
   ]
  },
  {
   "cell_type": "markdown",
   "metadata": {},
   "source": [
    "### APOD API Key\n",
    "\n",
    "To access the APOD API, an API key is required. You can obtain one [here](https://api.nasa.gov/)."
   ]
  },
  {
   "cell_type": "code",
   "execution_count": 63,
   "metadata": {},
   "outputs": [],
   "source": [
    "from api_keys import nasa_key"
   ]
  },
  {
   "cell_type": "markdown",
   "metadata": {},
   "source": [
    "## 1. Get the Latest Images of Earth (EPIC)\n",
    "\n",
    "This will get the latest images of Earth from the NASA EPIC API and download them as PNGs to your local directory.\n",
    "\n",
    "Change the `collection` variable to see different collections of images."
   ]
  },
  {
   "cell_type": "code",
   "execution_count": 64,
   "metadata": {},
   "outputs": [],
   "source": [
    "# Offset is incremented to get the next image in the collection. It is necessary to get all the images taken on any day. \n",
    "offset = 0\n",
    "\n",
    "# Collection options: natural, enhanced, cloud, aerosol\n",
    "collection = \"natural\""
   ]
  },
  {
   "cell_type": "code",
   "execution_count": 65,
   "metadata": {},
   "outputs": [
    {
     "name": "stdout",
     "output_type": "stream",
     "text": [
      "Getting images...\n",
      "Image 1 out of 15\n",
      "Image 2 out of 15\n",
      "Image 3 out of 15\n",
      "Image 4 out of 15\n",
      "Image 5 out of 15\n",
      "Image 6 out of 15\n",
      "Image 7 out of 15\n",
      "Image 8 out of 15\n",
      "Image 9 out of 15\n",
      "Image 10 out of 15\n",
      "Image 11 out of 15\n",
      "Image 12 out of 15\n",
      "Image 13 out of 15\n",
      "Image 14 out of 15\n",
      "Image 15 out of 15\n",
      "Done.\n"
     ]
    }
   ],
   "source": [
    "# Get the image from the API\n",
    "def download_most_recent_images(offset):\n",
    "    print(\"Getting images...\")\n",
    "    response = requests.get(\"https://epic.gsfc.nasa.gov/api/\" + collection).json()\n",
    "    size = len(response)\n",
    "    images = []\n",
    "\n",
    "    while offset < size:\n",
    "        print(f\"Image {offset+1} out of {size}\")\n",
    "        if offset >= len(response):\n",
    "            offset = len(response) - 1\n",
    "        date = response[offset][\"date\"]\n",
    "        image = response[offset][\"image\"]\n",
    "\n",
    "        # Parse to get the year, month, and day\n",
    "        date_parts = date.split(\" \")[0].split(\"-\")\n",
    "        time_parts = date.split(\" \")[1].split(\":\")\n",
    "        year = date_parts[0]\n",
    "        month = date_parts[1]\n",
    "        day = date_parts[2]\n",
    "        hour = time_parts[0]\n",
    "        minutes = time_parts[1]\n",
    "        seconds = time_parts[2]\n",
    "        date_text = f\"{year}-{month}-{day}\"\n",
    "        time_text = f\"{hour}:{minutes}:{seconds}\"\n",
    "\n",
    "        # Download the image\n",
    "        image_path = f\"images/Earth_Image{offset+1}_recent.png\"\n",
    "        with open(image_path, \"wb\") as f:\n",
    "            file = requests.get(f\"https://epic.gsfc.nasa.gov/archive/{collection}/{year}/{month}/{day}/png/{image}.png\")\n",
    "            f.write(file.content)\n",
    "        \n",
    "        # Open the image to add the date text\n",
    "        img = Image.open(image_path)\n",
    "        draw = ImageDraw.Draw(img)\n",
    "        font = ImageFont.load_default(100)  # You can load a different font if needed\n",
    "        date_position = (20, 10)  # Position of the text on the image\n",
    "        time_position = (20, 100)\n",
    "        draw.text(date_position, date_text, fill=\"white\", font=font)\n",
    "        draw.text(time_position, time_text, fill=\"white\", font=font)\n",
    "        img.save(image_path)  # Save the image with the date text\n",
    "\n",
    "        # Append the image path to the list\n",
    "        images.append(image_path)\n",
    "        offset += 1\n",
    "    print(\"Done.\")\n",
    "    return images\n",
    "\n",
    "image_list = download_most_recent_images(offset)"
   ]
  },
  {
   "cell_type": "markdown",
   "metadata": {},
   "source": [
    "Example Image\n",
    "\n",
    "```{image} imgs/Earth_Image1_recent.png\n",
    ":width: 600px\n",
    ":align: center\n",
    "```"
   ]
  },
  {
   "cell_type": "markdown",
   "metadata": {},
   "source": [
    "## 2. Get Earth Images from a Specific Date (EPIC)\n",
    "\n",
    "Use the `get_valid_dates()` function defined below to gather a list of all valid dates where images are available through the EPIC API.\n",
    "\n",
    "Note that most dates from the launch of the API on June 13, 2015 are valid. However, there are several missing dates, as you can see below."
   ]
  },
  {
   "cell_type": "code",
   "execution_count": 66,
   "metadata": {},
   "outputs": [
    {
     "data": {
      "text/plain": [
       "['2015-06-13',\n",
       " '2015-06-16',\n",
       " '2015-06-17',\n",
       " '2015-06-18',\n",
       " '2015-06-20',\n",
       " '2015-06-21',\n",
       " '2015-06-22',\n",
       " '2015-06-27',\n",
       " '2015-06-30']"
      ]
     },
     "execution_count": 66,
     "metadata": {},
     "output_type": "execute_result"
    }
   ],
   "source": [
    "def get_valid_dates():\n",
    "    dates = []\n",
    "    response = requests.get(\"https://epic.gsfc.nasa.gov/api/\" + collection + \"/all\").json()\n",
    "    for entry in response:\n",
    "        date = entry[\"date\"]\n",
    "        date_parts = date.split(\" \")[0].split(\"-\")\n",
    "        year = date_parts[0]\n",
    "        month = date_parts[1]\n",
    "        day = date_parts[2]\n",
    "        date_text = f\"{year}-{month}-{day}\"\n",
    "        dates.append(date_text)\n",
    "    return dates\n",
    "\n",
    "# Create list of valid dates\n",
    "dates = get_valid_dates()\n",
    "\n",
    "# Print the last 10 elements in the list\n",
    "dates[:-10:-1]"
   ]
  },
  {
   "cell_type": "markdown",
   "metadata": {},
   "source": [
    "Notice the gaps in the above results. Before we retrieve the images for a given date, let's ensure that the date is available through the API:"
   ]
  },
  {
   "cell_type": "code",
   "execution_count": 67,
   "metadata": {},
   "outputs": [
    {
     "name": "stdout",
     "output_type": "stream",
     "text": [
      "2016-05-15 is valid\n",
      "2022-06-15 is not valid\n"
     ]
    }
   ],
   "source": [
    "# Note that this date is available\n",
    "if '2016-05-15' in dates:\n",
    "    print('2016-05-15 is valid')\n",
    "\n",
    "# Note that this date is not available\n",
    "if '2022-06-15' not in dates:\n",
    "    print('2022-06-15 is not valid')"
   ]
  },
  {
   "cell_type": "code",
   "execution_count": 68,
   "metadata": {},
   "outputs": [
    {
     "name": "stdout",
     "output_type": "stream",
     "text": [
      "Getting images...\n",
      "Image 1 out of 7\n",
      "Image 2 out of 7\n",
      "Image 3 out of 7\n",
      "Image 4 out of 7\n",
      "Image 5 out of 7\n",
      "Image 6 out of 7\n",
      "Image 7 out of 7\n",
      "Done.\n"
     ]
    }
   ],
   "source": [
    "def get_images_by_date(offset, year, month, day):\n",
    "    print(\"Getting images...\")\n",
    "    response = requests.get(\"https://epic.gsfc.nasa.gov/api/\" + collection + \"/date/\" + year + \"-\" + month + \"-\" + day).json()\n",
    "    if not response:\n",
    "        print(\"No images found for this date.\")\n",
    "        return []\n",
    "    size = len(response)\n",
    "    images = []\n",
    "\n",
    "    while offset < size:\n",
    "        print(f\"Image {offset+1} out of {size}\")\n",
    "        if offset >= len(response):\n",
    "            offset = len(response) - 1\n",
    "        date = response[offset][\"date\"]\n",
    "        image = response[offset][\"image\"]\n",
    "        time_parts = date.split(\" \")[1].split(\":\")\n",
    "        hour = time_parts[0]\n",
    "        minutes = time_parts[1]\n",
    "        seconds = time_parts[2]\n",
    "\n",
    "        # Download the image\n",
    "        image_path = f\"images/Earth_Image_By_Date{offset+1}.png\"\n",
    "        with open(image_path, \"wb\") as f:\n",
    "            file = requests.get(f\"https://epic.gsfc.nasa.gov/archive/{collection}/{year}/{month}/{day}/png/{image}.png\")\n",
    "            f.write(file.content)\n",
    "        \n",
    "        # Open the image to add the date text\n",
    "        img = Image.open(image_path)\n",
    "        draw = ImageDraw.Draw(img)\n",
    "        font = ImageFont.load_default(100)  # You can load a different font if needed\n",
    "        date_position = (20, 10)  # Position of the text on the image\n",
    "        time_position = (20, 100)\n",
    "        date_text = f\"{year}-{month}-{day}\"\n",
    "        time_text = f\"{hour}:{minutes}:{seconds}\"\n",
    "        draw.text(date_position, date_text, fill=\"white\", font=font)\n",
    "        draw.text(time_position, time_text, fill=\"white\", font=font)\n",
    "        img.save(image_path)  # Save the image with the date text\n",
    "\n",
    "        # Append the image path to the list\n",
    "        images.append(image_path)\n",
    "        offset += 1\n",
    "    print(\"Done.\")\n",
    "    return images\n",
    "\n",
    "image_paths = get_images_by_date(offset, \"2016\", \"05\", \"15\")"
   ]
  },
  {
   "cell_type": "markdown",
   "metadata": {},
   "source": [
    "Example Image\n",
    "\n",
    "```{image} imgs/Earth_Image_By_Date1.png\n",
    ":width: 600px\n",
    ":align: center\n",
    "```"
   ]
  },
  {
   "cell_type": "markdown",
   "metadata": {},
   "source": [
    "### Stitch the Images Together\n",
    "This will stitch the images together to create one image containing all the images for easier viewing."
   ]
  },
  {
   "cell_type": "code",
   "execution_count": 69,
   "metadata": {},
   "outputs": [
    {
     "name": "stdout",
     "output_type": "stream",
     "text": [
      "Image Stitching...\n",
      "Done.\n"
     ]
    }
   ],
   "source": [
    "# Stitch the images together\n",
    "def stitch_images(image_paths):\n",
    "    print(\"Image Stitching...\")\n",
    "    images = [Image.open(image) for image in image_paths]\n",
    "    \n",
    "    # Split the images into two rows\n",
    "    halfway = len(images) // 2\n",
    "    first_row_images = images[:halfway]\n",
    "    second_row_images = images[halfway:]\n",
    "    \n",
    "    # Get dimensions of the first image\n",
    "    widths, heights = zip(*(i.size for i in images))\n",
    "    \n",
    "    total_width_first_row = sum(width.size[0] for width in first_row_images)\n",
    "    total_width_second_row = sum(width.size[0] for width in second_row_images)\n",
    "    max_width = max(total_width_first_row, total_width_second_row)\n",
    "    max_height = max(heights)\n",
    "    \n",
    "    # Create a new blank image with the max width and twice the max height\n",
    "    stitched_image = Image.new('RGB', (max_width, max_height * 2))\n",
    "    \n",
    "    # Paste each image into the blank image\n",
    "    x_offset = 0\n",
    "    for im in first_row_images:\n",
    "        stitched_image.paste(im, (x_offset, 0))\n",
    "        x_offset += im.size[0]\n",
    "    \n",
    "    x_offset = 0\n",
    "    for im in second_row_images:\n",
    "        stitched_image.paste(im, (x_offset, max_height))\n",
    "        x_offset += im.size[0]\n",
    "    stitched_image.save(\"images/Earth_Image_Stitched.png\")\n",
    "    print(\"Done.\")\n",
    "\n",
    "stitch_images(image_paths)"
   ]
  },
  {
   "cell_type": "markdown",
   "metadata": {},
   "source": [
    "```{image} imgs/Earth_Image_Stitched.png\n",
    ":width: 800px\n",
    ":align: center\n",
    "```"
   ]
  },
  {
   "cell_type": "markdown",
   "metadata": {},
   "source": [
    "## 3. Get the Astronomy Picture of the Day (APOD)\n",
    "\n",
    "This will get the Astronomy Picture of the Day from the NASA APOD API and download it as a PNG to your local directory.\n",
    "\n",
    "You can get a random APOD image from their collection instead by uncommenting the two commented lines.\n",
    "\n",
    "Note that the APOD API can only be called 30 times per IP address per hour and only 50 times per day."
   ]
  },
  {
   "cell_type": "code",
   "execution_count": 70,
   "metadata": {},
   "outputs": [
    {
     "name": "stdout",
     "output_type": "stream",
     "text": [
      "Getting Astronomy Picture of the Day...\n",
      "Done.\n"
     ]
    }
   ],
   "source": [
    "def get_apod(date=None):\n",
    "    print(\"Getting Astronomy Picture of the Day...\")\n",
    "\n",
    "    # Retrieves picture for the date specified, or the current date if unspecified\n",
    "    if date:\n",
    "        response = requests.get(f\"https://api.nasa.gov/planetary/apod?date={date}&api_key={nasa_key}\").json()\n",
    "    else:\n",
    "        response = requests.get(f\"https://api.nasa.gov/planetary/apod?api_key={nasa_key}\").json()\n",
    "    image_url = response[\"url\"]\n",
    "    media_type = response[\"media_type\"]\n",
    "    \n",
    "    # Uncomment the block below to get a random image from the collection\n",
    "    # response = requests.get(f\"https://api.nasa.gov/planetary/apod?api_key={nasa_key}&count=1\").json()\n",
    "    # image_url = response[0][\"url\"]\n",
    "    # media_type = response[0][\"media_type\"]\n",
    "    # print(f\"Getting APOD for {response[0]['date']}\")\n",
    "    \n",
    "    # Download the image\n",
    "    if media_type == \"image\":\n",
    "        image_path = f\"images/APOD.png\"\n",
    "        with open(image_path, \"wb\") as f:\n",
    "            file = requests.get(image_url)\n",
    "            f.write(file.content)\n",
    "        print(\"Done.\")\n",
    "    else:\n",
    "        print(\"Media type is not an image.\")\n",
    "        print(\"You can follow this link to view the media: \" + image_url)\n",
    "\n",
    "get_apod('2024-08-27')"
   ]
  },
  {
   "cell_type": "markdown",
   "metadata": {},
   "source": [
    "Example Image\n",
    "\n",
    "```{image} imgs/APOD.png\n",
    ":width: 600px\n",
    ":align: center\n",
    "```"
   ]
  }
 ],
 "metadata": {
  "kernelspec": {
   "display_name": ".venv",
   "language": "python",
   "name": "python3"
  },
  "language_info": {
   "codemirror_mode": {
    "name": "ipython",
    "version": 3
   },
   "file_extension": ".py",
   "mimetype": "text/x-python",
   "name": "python",
   "nbconvert_exporter": "python",
   "pygments_lexer": "ipython3",
   "version": "3.12.1"
  }
 },
 "nbformat": 4,
 "nbformat_minor": 2
}
