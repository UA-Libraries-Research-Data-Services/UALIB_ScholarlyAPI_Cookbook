{
 "cells": [
  {
   "cell_type": "markdown",
   "metadata": {},
   "source": [
    "# Stack Exchange API in Python\n",
    "\n",
    "By Sebastian Shirk and Avery Fernandez\n",
    "\n",
    "The Stack Exchange API provides programmatic access to data from Stack Exchange network sites like Stack Overflow, Server Fault, and Super User, allowing developers to interact with questions, answers, users, and more.\n",
    "\n",
    "Please see the following resources for more information on API usage:\n",
    "\n",
    "- Documentation\n",
    "    - <a href=\"https://api.stackexchange.com/docs\" target=\"_blank\">Stack Exchange API</a>\n",
    "    - <a href=\"https://api.stackexchange.com/docs/authentication\" target=\"_blank\">Stack Exchange API Authentication</a>\n",
    "- Terms\n",
    "    - <a href=\"https://stackoverflow.com/legal/api-terms-of-use\" target=\"_blank\">Stack Exchange API Terms of Use</a>\n",
    "    - <a href=\"https://stackoverflow.com/legal/terms-of-service/public#licensing\" target=\"_blank\">Stack Overflow Public Network Terms of Service</a>\n",
    "    - <a href=\"https://api.stackexchange.com/docs/throttle\" target=\"_blank\">Stack Exchange API Throttling and Rate Limits</a>\n",
    "- Data Reuse\n",
    "    - <a href=\"https://stackoverflow.com/legal/acceptable-use-policy\" target=\"_blank\">Stack Exchange Acceptable Use Policy</a>\n",
    "\n",
    "_**NOTE:**_ The Stack Exchange API has specific throttling measures:\n",
    "- **IP-based throttle:** Maximum of 30 requests per second per IP address. Exceeding this limit results in temporary banning, typically from 30 seconds to several minutes.\n",
    "- **Daily quotas:**\n",
    "  - Applications without an `access_token` share an IP-based daily quota, which defaults to 10,000 requests per day.\n",
    "  - Applications with a valid `access_token` have a distinct user/app pair quota, also defaulting to 10,000 requests per day.\n",
    "\n",
    "*These recipe examples were tested on May 7, 2025.*"
   ]
  },
  {
   "cell_type": "markdown",
   "metadata": {},
   "source": [
    "## Setup\n",
    "\n",
    "The following external libraries need to be installed into your environment to run the code examples in this tutorial:\n",
    "* <a href=\"https://github.com/psf/requests\" target=\"_blank\">requests</a>\n",
    "* <a href=\"https://github.com/ipython/ipykernel\" target=\"_blank\">ipykernel</a>\n",
    "* <a href=\"https://github.com/matplotlib/matplotlib\" target=\"_blank\">matplotlib</a>\n",
    "* <a href=\"https://github.com/pandas-dev/pandas\" target=\"_blank\">pandas</a>\n",
    "\n",
    "We import the libraries used in this tutorial below:"
   ]
  },
  {
   "cell_type": "code",
   "execution_count": 4,
   "metadata": {},
   "outputs": [],
   "source": [
    "import requests\n",
    "import datetime\n",
    "import pandas as pd\n",
    "from pprint import pprint"
   ]
  },
  {
   "cell_type": "markdown",
   "metadata": {},
   "source": [
    "## 1. Get Questions Based on Tags\n",
    "\n",
    "Change the `tag` variable to get questions based on different tags."
   ]
  },
  {
   "cell_type": "code",
   "execution_count": 5,
   "metadata": {},
   "outputs": [
    {
     "name": "stdout",
     "output_type": "stream",
     "text": [
      "{'has_more': True, 'items': [...], 'quota_max': 300, 'quota_remaining': 298}\n"
     ]
    }
   ],
   "source": [
    "BASE_URL = \"https://api.stackexchange.com/2.3/\"\n",
    "tag = 'python'\n",
    "endpoint = 'questions'\n",
    "params = {\n",
    "    'order': 'desc',\n",
    "    'sort': 'activity',\n",
    "    'tagged': tag,\n",
    "    'site': 'stackoverflow'\n",
    "}\n",
    "\n",
    "try:\n",
    "    response = requests.get(BASE_URL + endpoint, params=params)\n",
    "    # Raise an error for bad responses\n",
    "    response.raise_for_status()  \n",
    "    data = response.json()\n",
    "    pprint(data, depth=1)\n",
    "except requests.exceptions.RequestException as e:\n",
    "    print(f\"Error fetching data: {e}\")\n",
    "    data = None"
   ]
  },
  {
   "cell_type": "code",
   "execution_count": 6,
   "metadata": {},
   "outputs": [
    {
     "name": "stdout",
     "output_type": "stream",
     "text": [
      "Title: Not able to connect to Selenium Chrome service\n",
      "Link: https://stackoverflow.com/questions/79610810/not-able-to-connect-to-selenium-chrome-service\n",
      "Last Activity: 2025-05-07 14:18:21\n",
      "Creation Date: 2025-05-07 09:38:55\n",
      "--------------------------------------------------------------------------------\n",
      "Title: What is the difference between pyenv, virtualenv, and Anaconda?\n",
      "Link: https://stackoverflow.com/questions/38217545/what-is-the-difference-between-pyenv-virtualenv-and-anaconda\n",
      "Last Activity: 2025-05-07 14:18:11\n",
      "Creation Date: 2016-07-06 01:31:10\n",
      "--------------------------------------------------------------------------------\n",
      "Title: Using Pip to install packages to an Anaconda environment\n",
      "Link: https://stackoverflow.com/questions/41060382/using-pip-to-install-packages-to-an-anaconda-environment\n",
      "Last Activity: 2025-05-07 14:12:38\n",
      "Creation Date: 2016-12-09 06:20:55\n",
      "--------------------------------------------------------------------------------\n",
      "Title: What is the difference between pip and Conda?\n",
      "Link: https://stackoverflow.com/questions/20994716/what-is-the-difference-between-pip-and-conda\n",
      "Last Activity: 2025-05-07 14:09:33\n",
      "Creation Date: 2014-01-08 05:44:44\n",
      "--------------------------------------------------------------------------------\n",
      "Title: How can I change the white color in QComboBox?\n",
      "Link: https://stackoverflow.com/questions/79610707/how-can-i-change-the-white-color-in-qcombobox\n",
      "Last Activity: 2025-05-07 14:06:32\n",
      "Creation Date: 2025-05-07 08:55:49\n",
      "--------------------------------------------------------------------------------\n"
     ]
    }
   ],
   "source": [
    "def convert_unix(unix_time):\n",
    "    # Convert Unix timestamp to a human-readable format\n",
    "    return datetime.datetime.fromtimestamp(unix_time).strftime('%Y-%m-%d %H:%M:%S')\n",
    "\n",
    "if data:\n",
    "    # Extract relevant information from the response\n",
    "    questions = data.get('items', [])\n",
    "    \n",
    "    # Grab the first question\n",
    "    for question in questions[:5]:\n",
    "        question_last_activity = convert_unix(question.get('last_activity_date'))\n",
    "        question_creation = convert_unix(question.get('creation_date'))\n",
    "        question_title = question.get('title')\n",
    "        question_link = question.get('link')\n",
    "\n",
    "        print(f\"Title: {question_title}\")\n",
    "        print(f\"Link: {question_link}\")\n",
    "        print(f\"Last Activity: {question_last_activity}\")\n",
    "        print(f\"Creation Date: {question_creation}\")\n",
    "        print(\"-\" * 80)"
   ]
  },
  {
   "cell_type": "markdown",
   "metadata": {},
   "source": [
    "## 2. Get Questions Based on Title\n",
    "\n",
    "Change the `title` variable to get questions based on different titles."
   ]
  },
  {
   "cell_type": "code",
   "execution_count": 7,
   "metadata": {},
   "outputs": [
    {
     "name": "stdout",
     "output_type": "stream",
     "text": [
      "{'has_more': True, 'items': [...], 'quota_max': 300, 'quota_remaining': 297}\n"
     ]
    }
   ],
   "source": [
    "title = 'How to use Python'\n",
    "endpoint = 'search'\n",
    "params = {\n",
    "    'order': 'desc',\n",
    "    'sort': 'activity',\n",
    "    'intitle': title,\n",
    "    'site': 'stackoverflow'\n",
    "}\n",
    "\n",
    "try:\n",
    "    response = requests.get(BASE_URL + endpoint, params=params)\n",
    "    # Raise an error for bad responses\n",
    "    response.raise_for_status()  \n",
    "    data = response.json()\n",
    "    pprint(data, depth=1)\n",
    "except requests.exceptions.RequestException as e:\n",
    "    print(f\"Error fetching data: {e}\")\n",
    "    data = None"
   ]
  },
  {
   "cell_type": "code",
   "execution_count": 8,
   "metadata": {},
   "outputs": [
    {
     "name": "stdout",
     "output_type": "stream",
     "text": [
      "Title: How to use Python Unittest TearDownClass with TestResult.wasSuccessful()\n",
      "Link: https://stackoverflow.com/questions/25630630/how-to-use-python-unittest-teardownclass-with-testresult-wassuccessful\n",
      "Last Activity: 2025-05-05 02:03:15\n",
      "Creation Date: 2014-09-02 14:11:33\n",
      "--------------------------------------------------------------------------------\n",
      "Title: Can or How to use Python asyncio on Google Cloud Functions?\n",
      "Link: https://stackoverflow.com/questions/52755996/can-or-how-to-use-python-asyncio-on-google-cloud-functions\n",
      "Last Activity: 2025-04-16 12:21:10\n",
      "Creation Date: 2018-10-11 03:51:31\n",
      "--------------------------------------------------------------------------------\n",
      "Title: How to use python descriptors with default_factory in dataclass\n",
      "Link: https://stackoverflow.com/questions/76090498/how-to-use-python-descriptors-with-default-factory-in-dataclass\n",
      "Last Activity: 2025-04-06 17:01:34\n",
      "Creation Date: 2023-04-24 04:31:08\n",
      "--------------------------------------------------------------------------------\n",
      "Title: How to use Python type hinting to mock values and perform static analysis when a value can exceed a bound at runtime?\n",
      "Link: https://stackoverflow.com/questions/79542658/how-to-use-python-type-hinting-to-mock-values-and-perform-static-analysis-when-a\n",
      "Last Activity: 2025-03-28 20:16:44\n",
      "Creation Date: 2025-03-28 20:16:44\n",
      "--------------------------------------------------------------------------------\n",
      "Title: How to use python requests to get Auth values\n",
      "Link: https://stackoverflow.com/questions/79535050/how-to-use-python-requests-to-get-auth-values\n",
      "Last Activity: 2025-03-25 19:27:40\n",
      "Creation Date: 2025-03-25 18:10:11\n",
      "--------------------------------------------------------------------------------\n"
     ]
    }
   ],
   "source": [
    "if data:\n",
    "    # Extract the items from the response\n",
    "    search_results = data.get('items', [])\n",
    "    \n",
    "    for search_result in search_results[:5]:\n",
    "        search_result_last_activity = convert_unix(search_result.get('last_activity_date'))\n",
    "        search_result_creation = convert_unix(search_result.get('creation_date'))\n",
    "        search_result_title = search_result.get('title')\n",
    "        search_result_link = search_result.get('link')\n",
    "\n",
    "        print(f\"Title: {search_result_title}\")\n",
    "        print(f\"Link: {search_result_link}\")\n",
    "        print(f\"Last Activity: {search_result_last_activity}\")\n",
    "        print(f\"Creation Date: {search_result_creation}\")\n",
    "        print(\"-\" * 80)"
   ]
  },
  {
   "cell_type": "markdown",
   "metadata": {},
   "source": [
    "## 3. Get Questions Based on Similarity\n",
    "\n",
    "Change the `title` variable to get questions based on different titles."
   ]
  },
  {
   "cell_type": "code",
   "execution_count": 9,
   "metadata": {},
   "outputs": [
    {
     "name": "stdout",
     "output_type": "stream",
     "text": [
      "{'has_more': True, 'items': [...], 'quota_max': 300, 'quota_remaining': 296}\n"
     ]
    }
   ],
   "source": [
    "title = 'How to use Python'\n",
    "endpoint = 'similar'\n",
    "params = {\n",
    "    'order': 'desc',\n",
    "    'sort': 'activity',\n",
    "    'title': title,\n",
    "    'site': 'stackoverflow'\n",
    "}\n",
    "\n",
    "try:\n",
    "    response = requests.get(BASE_URL + endpoint, params=params)\n",
    "    # Raise an error for bad responses\n",
    "    response.raise_for_status()  \n",
    "    data = response.json()\n",
    "    pprint(data, depth=1)\n",
    "except requests.exceptions.RequestException as e:\n",
    "    print(f\"Error fetching data: {e}\")\n",
    "    data = None"
   ]
  },
  {
   "cell_type": "code",
   "execution_count": 10,
   "metadata": {},
   "outputs": [
    {
     "name": "stdout",
     "output_type": "stream",
     "text": [
      "Title: C how to open/close a file in a function in a endless loop\n",
      "Link: https://stackoverflow.com/questions/79611253/c-how-to-open-close-a-file-in-a-function-in-a-endless-loop\n",
      "Last Activity: 2025-05-07 14:21:45\n",
      "Creation Date: 2025-05-07 13:56:57\n",
      "--------------------------------------------------------------------------------\n",
      "Title: Sort array by filenames independent of path\n",
      "Link: https://stackoverflow.com/questions/79611186/sort-array-by-filenames-independent-of-path\n",
      "Last Activity: 2025-05-07 14:21:17\n",
      "Creation Date: 2025-05-07 13:10:34\n",
      "--------------------------------------------------------------------------------\n",
      "Title: Common parent of DefaultMutableTreeNode collection\n",
      "Link: https://stackoverflow.com/questions/79610079/common-parent-of-defaultmutabletreenode-collection\n",
      "Last Activity: 2025-05-07 14:21:10\n",
      "Creation Date: 2025-05-07 03:17:37\n",
      "--------------------------------------------------------------------------------\n",
      "Title: GoHighLevel Custom Payment Provider — JS in payment.html not executing (iframe issue?)\n",
      "Link: https://stackoverflow.com/questions/79611279/gohighlevel-custom-payment-provider-js-in-payment-html-not-executing-iframe-i\n",
      "Last Activity: 2025-05-07 14:21:09\n",
      "Creation Date: 2025-05-07 14:21:09\n",
      "--------------------------------------------------------------------------------\n",
      "Title: What does &#39;super&#39; do in Python? - difference between super().__init__() and explicit superclass __init__()\n",
      "Link: https://stackoverflow.com/questions/222877/what-does-super-do-in-python-difference-between-super-init-and-expl\n",
      "Last Activity: 2025-05-07 14:20:19\n",
      "Creation Date: 2008-10-21 13:13:15\n",
      "--------------------------------------------------------------------------------\n"
     ]
    }
   ],
   "source": [
    "if data:\n",
    "    # Extract the items from the response\n",
    "    similar_questions = data.get('items', [])\n",
    "\n",
    "    for similar_question in similar_questions[:5]:\n",
    "        last_activity = convert_unix(similar_question.get('last_activity_date'))\n",
    "        similar_question_creation = convert_unix(similar_question.get('creation_date'))\n",
    "        similar_question_title = similar_question.get('title')\n",
    "        similar_question_link = similar_question.get('link')\n",
    "\n",
    "        print(f\"Title: {similar_question_title}\")\n",
    "        print(f\"Link: {similar_question_link}\")\n",
    "        print(f\"Last Activity: {last_activity}\")\n",
    "        print(f\"Creation Date: {similar_question_creation}\")\n",
    "        print(\"-\" * 80)"
   ]
  },
  {
   "cell_type": "markdown",
   "metadata": {},
   "source": [
    "## 4. Get Answers and Comments to a Question\n",
    "\n",
    "Get all answers to a question based on the question ID. Question ID can be found using the above methods.\n",
    "\n",
    "Comments appear above the answers in the output.\n",
    "\n",
    "A filter is used on this query. Filters can be found <a href=\"https://api.stackexchange.com/docs/create-filters\" target=\"_blank\">here</a>.  \n",
    "\n",
    "Hit `Run` to get a json output of all the included fields in the default filter. You can then choose to add fields that aren't there or exclude fields that you don't need.  \n",
    "\n",
    "Once you input all of your included and excluded fields, hit `Run` again and scroll the json all the way to the bottom. You should see `\"filter\": \"{string}\"` where the string is the filter.  \n",
    "\n",
    "Copy and paste this filter into your code to use it. \n",
    "\n",
    "Here we have already generated a filter for us to use."
   ]
  },
  {
   "cell_type": "code",
   "execution_count": 11,
   "metadata": {
    "tags": [
     "output_scroll"
    ]
   },
   "outputs": [
    {
     "name": "stdout",
     "output_type": "stream",
     "text": [
      "{'has_more': False, 'items': [...], 'quota_max': 300, 'quota_remaining': 295}\n"
     ]
    }
   ],
   "source": [
    "# Get all answers to a specific question using a question id\n",
    "question_id = 33180743\n",
    "filter = '!22ZfkjBmMx*-LZeN4vanL'\n",
    "endpoint = f'questions/{question_id}/answers'\n",
    "params = {\n",
    "    'order': 'desc',\n",
    "    'sort': 'activity',\n",
    "    'site': 'stackoverflow',\n",
    "    'filter': filter\n",
    "}\n",
    "\n",
    "try:\n",
    "    response = requests.get(BASE_URL + endpoint, params=params)\n",
    "    # Raise an error for bad responses\n",
    "    response.raise_for_status()  \n",
    "    data = response.json()\n",
    "    pprint(data, depth=1)\n",
    "except requests.exceptions.RequestException as e:\n",
    "    print(f\"Error fetching data: {e}\")\n",
    "    data = None"
   ]
  },
  {
   "cell_type": "code",
   "execution_count": 12,
   "metadata": {},
   "outputs": [
    {
     "name": "stdout",
     "output_type": "stream",
     "text": [
      "Answer Body: <p>For someone testing on Emulator, try choosing an emulator that supports Google Play, then Sign In on Google Play</p>\n",
      "\n",
      "Link: None\n",
      "Last Activity: 2024-08-07 16:07:33\n",
      "Creation Date: 2024-08-07 16:07:33\n",
      "--------------------------------------------------------------------------------\n",
      "Answer Body: <p>I get In-app billing version 3 NOT supported error when the user is not signed into google play.  Ensure a user is logged into google play on the device.</p>\n",
      "<p>Update 2023:  Note that you might also get the error &quot;Google Play In-app Billing API version is less than 3&quot; when the user is not logged in to the play store.</p>\n",
      "\n",
      "Link: None\n",
      "Last Activity: 2023-04-14 10:57:11\n",
      "Creation Date: 2017-06-18 09:36:25\n",
      "--------------------------------------------------------------------------------\n",
      "Answer Body: <p>Try \"Clear Data\" and then \"Force stop\" for Google Play app.</p>\n",
      "\n",
      "Link: None\n",
      "Last Activity: 2015-11-02 03:27:33\n",
      "Creation Date: 2015-10-26 13:01:45\n",
      "--------------------------------------------------------------------------------\n"
     ]
    }
   ],
   "source": [
    "if data:\n",
    "    # Extract the items from the response\n",
    "    answers = data.get('items', [])\n",
    "    \n",
    "    for answer in answers[:5]:\n",
    "        answer_last_activity = convert_unix(answer.get('last_activity_date'))\n",
    "        answer_creation = convert_unix(answer.get('creation_date'))\n",
    "        answer_body = answer.get('body')\n",
    "        answer_link = answer.get('link')\n",
    "\n",
    "        print(f\"Answer Body: {answer_body}\")\n",
    "        print(f\"Link: {answer_link}\")\n",
    "        print(f\"Last Activity: {answer_last_activity}\")\n",
    "        print(f\"Creation Date: {answer_creation}\")\n",
    "        print(\"-\" * 80)"
   ]
  },
  {
   "cell_type": "markdown",
   "metadata": {},
   "source": [
    "## 5. Get Frequency of Most Used Tags\n",
    "\n",
    "In this example, we use the `/tags` endpoint to find the most common tags on Stack Overflow."
   ]
  },
  {
   "cell_type": "code",
   "execution_count": 13,
   "metadata": {},
   "outputs": [
    {
     "name": "stdout",
     "output_type": "stream",
     "text": [
      "          Tag    Count\n",
      "0  javascript  2537249\n",
      "1      python  2222620\n",
      "2        java  1924466\n",
      "3          c#  1628038\n",
      "4         php  1469793\n"
     ]
    }
   ],
   "source": [
    "endpoint = 'tags'\n",
    "params = {\n",
    "    \"order\": \"desc\",\n",
    "    \"sort\": \"popular\",\n",
    "    \"site\": \"stackoverflow\",\n",
    "    \"tagged\": \"python\",\n",
    "    \"pagesize\": 10\n",
    "}\n",
    "\n",
    "try:\n",
    "    response = requests.get(BASE_URL + endpoint, params=params)\n",
    "    # Raise an error for bad responses\n",
    "    response.raise_for_status()\n",
    "    data = response.json()\n",
    "except requests.exceptions.RequestException as e:\n",
    "    print(f\"Error fetching data: {e}\")\n",
    "    data = None\n",
    "\n",
    "if data:\n",
    "    # Extract the items from the response\n",
    "    tags = data.get('items', [])\n",
    "    \n",
    "    tag_names = [tag.get('name') for tag in tags]\n",
    "    tag_counts = [tag.get('count') for tag in tags]\n",
    "\n",
    "    df = pd.DataFrame({\n",
    "        \"Tag\": tag_names,\n",
    "        \"Count\": tag_counts\n",
    "    })\n",
    "\n",
    "    print(df.head())"
   ]
  }
 ],
 "metadata": {
  "kernelspec": {
   "display_name": "api_env",
   "language": "python",
   "name": "python3"
  },
  "language_info": {
   "codemirror_mode": {
    "name": "ipython",
    "version": 3
   },
   "file_extension": ".py",
   "mimetype": "text/x-python",
   "name": "python",
   "nbconvert_exporter": "python",
   "pygments_lexer": "ipython3",
   "version": "3.13.2"
  }
 },
 "nbformat": 4,
 "nbformat_minor": 2
}
