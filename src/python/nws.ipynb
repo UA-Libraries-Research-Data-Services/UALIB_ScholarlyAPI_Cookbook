{
 "cells": [
  {
   "cell_type": "markdown",
   "metadata": {},
   "source": [
    "# National Weather Service (NWS) API in Python\n",
    "\n",
    "by Michael T. Moen\n",
    "\n",
    "**NWS API Documentation:** https://www.weather.gov/documentation/services-web-api\n",
    "\n",
    "**NWS Terms of Use:** From the documentation, \"All of the information presented via the API is intended to be open data, free to use for any purpose.\"\n",
    "\n",
    "*These recipe examples were tested on February 23, 2024.*\n",
    "\n",
    "**_NOTE:_** The NWS API imposes a rate limit on requests, but the amount is not published. We recommend using a 1 second delay between API requests."
   ]
  },
  {
   "cell_type": "markdown",
   "metadata": {},
   "source": [
    "## Setup\n",
    "\n",
    "### User Agent Information\n",
    "\n",
    "A User Agent is required to access the NWS API. The User Agent identifies what application or program the is accessing the NWS API.\n",
    "\n",
    "Add your application name and email below:"
   ]
  },
  {
   "cell_type": "code",
   "execution_count": 2,
   "metadata": {},
   "outputs": [],
   "source": [
    "user_agent = {\"User-Agent\": \"Application name, email@domain.com\"}"
   ]
  },
  {
   "cell_type": "markdown",
   "metadata": {},
   "source": [
    "Alternatively, you can save the above data in a separate python file and import it:"
   ]
  },
  {
   "cell_type": "code",
   "execution_count": 3,
   "metadata": {},
   "outputs": [],
   "source": [
    "from user_agent import user_agent"
   ]
  },
  {
   "cell_type": "markdown",
   "metadata": {},
   "source": [
    "### Import Libraries\n",
    "\n",
    "This tutorial uses the following libraries:"
   ]
  },
  {
   "cell_type": "code",
   "execution_count": 4,
   "metadata": {},
   "outputs": [],
   "source": [
    "import requests                     # Manages API requests\n",
    "import matplotlib.pyplot as plt     # Creates visualization of data\n",
    "import matplotlib.dates as mdates   # Provides functionality for working with dates in matplotlib plots\n",
    "from time import sleep              # Allows staggering of API requests to conform to rate limits\n",
    "from dateutil import parser         # Parses datetime strings into datetime objects"
   ]
  },
  {
   "cell_type": "markdown",
   "metadata": {},
   "source": [
    "## 1. Get the 12 hour forecast for a location\n",
    "\n",
    "The NWS publishes weather forecasts for each of its Weather Forecast Offices. A map of these offices and the regions they cover can be found here: https://www.weather.gov/srh/nwsoffices\n",
    "\n",
    "In order to obtain the forecast for a location, we must query that region's Weather Forecast Office using its code and the grid coordinates of the location. To determine these values for a location, we can query the `/points` endpoint.\n",
    "\n",
    "*To see how to programmatically obtain the latititude and longitude of an address in the U.S., please see our [U.S. Census Geocoding cookbook tutorials](https://ualibweb.github.io/UALIB_ScholarlyAPI_Cookbook/src/overview/us-census-geocoding.html).*"
   ]
  },
  {
   "cell_type": "code",
   "execution_count": 5,
   "metadata": {},
   "outputs": [
    {
     "data": {
      "text/plain": [
       "{'@context': ['https://geojson.org/geojson-ld/geojson-context.jsonld',\n",
       "  {'@version': '1.1',\n",
       "   'wx': 'https://api.weather.gov/ontology#',\n",
       "   's': 'https://schema.org/',\n",
       "   'geo': 'http://www.opengis.net/ont/geosparql#',\n",
       "   'unit': 'http://codes.wmo.int/common/unit/',\n",
       "   '@vocab': 'https://api.weather.gov/ontology#',\n",
       "   'geometry': {'@id': 's:GeoCoordinates', '@type': 'geo:wktLiteral'},\n",
       "   'city': 's:addressLocality',\n",
       "   'state': 's:addressRegion',\n",
       "   'distance': {'@id': 's:Distance', '@type': 's:QuantitativeValue'},\n",
       "   'bearing': {'@type': 's:QuantitativeValue'},\n",
       "   'value': {'@id': 's:value'},\n",
       "   'unitCode': {'@id': 's:unitCode', '@type': '@id'},\n",
       "   'forecastOffice': {'@type': '@id'},\n",
       "   'forecastGridData': {'@type': '@id'},\n",
       "   'publicZone': {'@type': '@id'},\n",
       "   'county': {'@type': '@id'}}],\n",
       " 'id': 'https://api.weather.gov/points/33.212,-87.5459',\n",
       " 'type': 'Feature',\n",
       " 'geometry': {'type': 'Point', 'coordinates': [-87.5459, 33.212]},\n",
       " 'properties': {'@id': 'https://api.weather.gov/points/33.212,-87.5459',\n",
       "  '@type': 'wx:Point',\n",
       "  'cwa': 'BMX',\n",
       "  'forecastOffice': 'https://api.weather.gov/offices/BMX',\n",
       "  'gridId': 'BMX',\n",
       "  'gridX': 33,\n",
       "  'gridY': 69,\n",
       "  'forecast': 'https://api.weather.gov/gridpoints/BMX/33,69/forecast',\n",
       "  'forecastHourly': 'https://api.weather.gov/gridpoints/BMX/33,69/forecast/hourly',\n",
       "  'forecastGridData': 'https://api.weather.gov/gridpoints/BMX/33,69',\n",
       "  'observationStations': 'https://api.weather.gov/gridpoints/BMX/33,69/stations',\n",
       "  'relativeLocation': {'type': 'Feature',\n",
       "   'geometry': {'type': 'Point', 'coordinates': [-87.5283, 33.234404]},\n",
       "   'properties': {'city': 'Tuscaloosa',\n",
       "    'state': 'AL',\n",
       "    'distance': {'unitCode': 'wmoUnit:m', 'value': 2981.0037391988},\n",
       "    'bearing': {'unitCode': 'wmoUnit:degree_(angle)', 'value': 213}}},\n",
       "  'forecastZone': 'https://api.weather.gov/zones/forecast/ALZ023',\n",
       "  'county': 'https://api.weather.gov/zones/county/ALC125',\n",
       "  'fireWeatherZone': 'https://api.weather.gov/zones/fire/ALZ023',\n",
       "  'timeZone': 'America/Chicago',\n",
       "  'radarStation': 'KBMX'}}"
      ]
     },
     "execution_count": 5,
     "metadata": {},
     "output_type": "execute_result"
    }
   ],
   "source": [
    "latitude = '33.211952'\n",
    "longitude = '-87.545920'\n",
    "\n",
    "url = f'https://api.weather.gov/points/{latitude},{longitude}'\n",
    "response = requests.get(url, headers=user_agent).json()\n",
    "\n",
    "# Display response from API\n",
    "response"
   ]
  },
  {
   "cell_type": "code",
   "execution_count": 6,
   "metadata": {},
   "outputs": [
    {
     "name": "stdout",
     "output_type": "stream",
     "text": [
      "Office code: BMX, Grid coordinates: 33, 69\n"
     ]
    }
   ],
   "source": [
    "office = response[\"properties\"][\"gridId\"]\n",
    "gridX = response[\"properties\"][\"gridX\"]\n",
    "gridY = response[\"properties\"][\"gridY\"]\n",
    "\n",
    "# Print grid location data\n",
    "print(f'Office code: {office}, Grid coordinates: {gridX}, {gridY}')"
   ]
  },
  {
   "cell_type": "markdown",
   "metadata": {},
   "source": [
    "Now that we have obtained the grid coordinates and office code, we can use the `/gridpoints` endpoint to obtain the seven day forecast:"
   ]
  },
  {
   "cell_type": "code",
   "execution_count": 7,
   "metadata": {},
   "outputs": [
    {
     "data": {
      "text/plain": [
       "{'number': 1,\n",
       " 'name': 'This Afternoon',\n",
       " 'startTime': '2024-02-23T13:00:00-06:00',\n",
       " 'endTime': '2024-02-23T18:00:00-06:00',\n",
       " 'isDaytime': True,\n",
       " 'temperature': 69,\n",
       " 'temperatureUnit': 'F',\n",
       " 'temperatureTrend': None,\n",
       " 'probabilityOfPrecipitation': {'unitCode': 'wmoUnit:percent', 'value': None},\n",
       " 'dewpoint': {'unitCode': 'wmoUnit:degC', 'value': 7.222222222222222},\n",
       " 'relativeHumidity': {'unitCode': 'wmoUnit:percent', 'value': 45},\n",
       " 'windSpeed': '10 to 15 mph',\n",
       " 'windDirection': 'NW',\n",
       " 'icon': 'https://api.weather.gov/icons/land/day/few?size=medium',\n",
       " 'shortForecast': 'Sunny',\n",
       " 'detailedForecast': 'Sunny, with a high near 69. Northwest wind 10 to 15 mph.'}"
      ]
     },
     "execution_count": 7,
     "metadata": {},
     "output_type": "execute_result"
    }
   ],
   "source": [
    "url = f'https://api.weather.gov/gridpoints/{office}/{gridX},{gridY}/forecast'\n",
    "response = requests.get(url, headers=user_agent).json()\n",
    "\n",
    "# Display first result\n",
    "response[\"properties\"][\"periods\"][0]"
   ]
  },
  {
   "cell_type": "markdown",
   "metadata": {},
   "source": [
    "Finally, we can print the data we are interested in. In this case, we're looking at the temperature, probability of precipitation, and detailed forecast."
   ]
  },
  {
   "cell_type": "code",
   "execution_count": 8,
   "metadata": {},
   "outputs": [
    {
     "name": "stdout",
     "output_type": "stream",
     "text": [
      "This Afternoon  :  69F,   0%, Sunny, with a high near 69. Northwest wind 10 to 15 mph.\n",
      "Tonight         :  44F,   0%, Clear, with a low around 44. West wind 5 to 10 mph.\n",
      "Saturday        :  66F,   0%, Sunny. High near 66, with temperatures falling to around 61 in the afternoon. Northwest wind 5 to 15 mph.\n",
      "Saturday Night  :  35F,   0%, Clear, with a low around 35. Northeast wind 5 to 10 mph.\n",
      "Sunday          :  69F,   0%, Sunny. High near 69, with temperatures falling to around 63 in the afternoon. Southeast wind 5 to 10 mph.\n",
      "Sunday Night    :  48F,   0%, Mostly clear, with a low around 48.\n",
      "Monday          :  77F,   0%, Sunny, with a high near 77.\n",
      "Monday Night    :  59F,   0%, Partly cloudy, with a low around 59.\n",
      "Tuesday         :  80F,   0%, Partly sunny, with a high near 80.\n",
      "Tuesday Night   :  63F,  20%, A slight chance of rain showers after midnight. Mostly cloudy, with a low around 63. Chance of precipitation is 20%.\n",
      "Wednesday       :  73F,  50%, A chance of showers and thunderstorms. Mostly cloudy, with a high near 73. Chance of precipitation is 50%.\n",
      "Wednesday Night :  46F,  40%, A chance of showers and thunderstorms. Mostly cloudy, with a low around 46. Chance of precipitation is 40%.\n",
      "Thursday        :  61F,  20%, A slight chance of showers and thunderstorms. Mostly sunny, with a high near 61. Chance of precipitation is 20%.\n",
      "Thursday Night  :  47F,  50%, A chance of showers and thunderstorms before midnight, then a chance of showers and thunderstorms. Partly cloudy, with a low around 47. Chance of precipitation is 50%.\n"
     ]
    }
   ],
   "source": [
    "for day in response[\"properties\"][\"periods\"]:\n",
    "    name = day[\"name\"]\n",
    "    temperature = day[\"temperature\"]\n",
    "    rain = day[\"probabilityOfPrecipitation\"][\"value\"] or 0\n",
    "    forecast = day[\"detailedForecast\"]\n",
    "    print(f'{name:<16}: {temperature:>3}F, {rain:>3}%, {forecast}')"
   ]
  },
  {
   "cell_type": "markdown",
   "metadata": {},
   "source": [
    "## 2. Get the hourly forecast for a location\n",
    "\n",
    "The `/gridpoints` endpoint can also return an hourly forecast for a seven day period. The function below implements the code from the example above using this hourly forecast method:"
   ]
  },
  {
   "cell_type": "code",
   "execution_count": 9,
   "metadata": {},
   "outputs": [],
   "source": [
    "# Note that this function only works with valid latitude and longitude inputs\n",
    "def getHourlyForecast(latitude, longitude, user_agent):\n",
    "    \n",
    "    points_url = f'https://api.weather.gov/points/{latitude},{longitude}'\n",
    "    points_response = requests.get(points_url, headers=user_agent).json()\n",
    "    office = points_response[\"properties\"][\"gridId\"]\n",
    "    gridX = points_response[\"properties\"][\"gridX\"]\n",
    "    gridY = points_response[\"properties\"][\"gridY\"]\n",
    "\n",
    "    sleep(1)    # Add 1 second delay between API requests\n",
    "\n",
    "    # The addition of the \"/hourly\" to the end of this URL is the only difference between the hourly and daily forecasts\n",
    "    gridpoints_url = f'https://api.weather.gov/gridpoints/{office}/{gridX},{gridY}/forecast/hourly'\n",
    "    gridpoints_response = requests.get(gridpoints_url, headers=user_agent).json()\n",
    "    return gridpoints_response[\"properties\"][\"periods\"]"
   ]
  },
  {
   "cell_type": "markdown",
   "metadata": {},
   "source": [
    "The function can be easily used as such:"
   ]
  },
  {
   "cell_type": "code",
   "execution_count": 10,
   "metadata": {},
   "outputs": [
    {
     "data": {
      "text/plain": [
       "156"
      ]
     },
     "execution_count": 10,
     "metadata": {},
     "output_type": "execute_result"
    }
   ],
   "source": [
    "latitude = '33.211952'\n",
    "longitude = '-87.545920'\n",
    "hourlyForecast = getHourlyForecast(latitude, longitude, user_agent)\n",
    "len(hourlyForecast)"
   ]
  },
  {
   "cell_type": "markdown",
   "metadata": {},
   "source": [
    "Lastly, we can use matplotlib to graph the temperature data:"
   ]
  },
  {
   "cell_type": "code",
   "execution_count": 11,
   "metadata": {},
   "outputs": [
    {
     "data": {
      "image/png": "[encoded data removed]",
      "text/plain": [
       "<Figure size 1000x600 with 1 Axes>"
      ]
     },
     "metadata": {},
     "output_type": "display_data"
    }
   ],
   "source": [
    "hours = []\n",
    "temperatures = []\n",
    "for hourForecast in hourlyForecast:\n",
    "    hour = parser.parse(hourForecast[\"startTime\"][:19])\n",
    "    hours.append(hour)\n",
    "    temperatures.append(hourForecast[\"temperature\"])\n",
    "\n",
    "plt.figure(figsize=(10, 6))\n",
    "plt.scatter(hours, temperatures, color='coral', marker='o', s=10)\n",
    "plt.title('Hourly Temperature Forecast for Next Week')\n",
    "plt.xlabel('Time')\n",
    "plt.ylabel('Temperature (Fahrenheit)')\n",
    "plt.grid(True, which='both', color='lightgray')\n",
    "plt.gca().set_axisbelow(True)\n",
    "plt.gca().xaxis.set_major_locator(mdates.HourLocator(byhour=0))\n",
    "plt.gca().xaxis.set_major_formatter(mdates.DateFormatter('%b %d'))\n",
    "plt.gca().xaxis.set_minor_locator(mdates.HourLocator(byhour=12))\n",
    "plt.gca().xaxis.set_minor_formatter(mdates.DateFormatter(''))\n",
    "plt.tight_layout()\n",
    "plt.show()"
   ]
  },
  {
   "cell_type": "markdown",
   "metadata": {},
   "source": [
    "## 3. Get alerts for a location\n",
    "\n",
    "*This use-case is for demonstration purposes. To get current weather alerts in the U.S., be sure to also check your local NWS website directly (e.g., for Birmingham, AL area, see: https://www.weather.gov/bmx/).*\n",
    "\n",
    "The `/alerts` endpoint returns all alerts issued for a given location or area. The example below uses the `point` parameter to find all alerts for a pair of coordinates:"
   ]
  },
  {
   "cell_type": "code",
   "execution_count": 20,
   "metadata": {},
   "outputs": [
    {
     "data": {
      "text/plain": [
       "{'@context': {'@version': '1.1'},\n",
       " 'type': 'FeatureCollection',\n",
       " 'features': [],\n",
       " 'title': 'Current watches, warnings, and advisories for 33.211952 N, 87.54592 W',\n",
       " 'updated': '2024-02-17T00:00:00+00:00'}"
      ]
     },
     "execution_count": 20,
     "metadata": {},
     "output_type": "execute_result"
    }
   ],
   "source": [
    "latitude = '33.211952'\n",
    "longitude = '-87.545920'\n",
    "\n",
    "url = f'https://api.weather.gov/alerts/active?point={latitude},{longitude}'\n",
    "response = requests.get(url, headers=user_agent).json()\n",
    "\n",
    "# Display response from API\n",
    "response"
   ]
  },
  {
   "cell_type": "markdown",
   "metadata": {},
   "source": [
    "Note that there are no active alerts in the result above.\n",
    "\n",
    "The example below uses the `area` parameter to find all alerts for the state of Alabama:"
   ]
  },
  {
   "cell_type": "code",
   "execution_count": 22,
   "metadata": {},
   "outputs": [
    {
     "data": {
      "text/plain": [
       "[{'id': 'https://api.weather.gov/alerts/urn:oid:2.49.0.1.840.0.bd6153ef80e4aa2cc8ef67860f33f8dccf01d19b.001.1',\n",
       "  'type': 'Feature',\n",
       "  'geometry': None,\n",
       "  'properties': {'@id': 'https://api.weather.gov/alerts/urn:oid:2.49.0.1.840.0.bd6153ef80e4aa2cc8ef67860f33f8dccf01d19b.001.1',\n",
       "   '@type': 'wx:Alert',\n",
       "   'id': 'urn:oid:2.49.0.1.840.0.bd6153ef80e4aa2cc8ef67860f33f8dccf01d19b.001.1',\n",
       "   'areaDesc': 'Mobile Coastal; Baldwin Coastal; Escambia Coastal; Santa Rosa Coastal; Okaloosa Coastal',\n",
       "   'geocode': {'SAME': ['001097', '001003', '012033', '012113', '012091'],\n",
       "    'UGC': ['ALZ265', 'ALZ266', 'FLZ202', 'FLZ204', 'FLZ206']},\n",
       "   'affectedZones': ['https://api.weather.gov/zones/forecast/ALZ265',\n",
       "    'https://api.weather.gov/zones/forecast/ALZ266',\n",
       "    'https://api.weather.gov/zones/forecast/FLZ202',\n",
       "    'https://api.weather.gov/zones/forecast/FLZ204',\n",
       "    'https://api.weather.gov/zones/forecast/FLZ206'],\n",
       "   'references': [],\n",
       "   'sent': '2024-02-23T13:08:00-06:00',\n",
       "   'effective': '2024-02-23T13:08:00-06:00',\n",
       "   'onset': '2024-02-23T13:08:00-06:00',\n",
       "   'expires': '2024-02-23T22:00:00-06:00',\n",
       "   'ends': '2024-02-24T06:00:00-06:00',\n",
       "   'status': 'Actual',\n",
       "   'messageType': 'Alert',\n",
       "   'category': 'Met',\n",
       "   'severity': 'Moderate',\n",
       "   'certainty': 'Likely',\n",
       "   'urgency': 'Expected',\n",
       "   'event': 'Rip Current Statement',\n",
       "   'sender': 'w-nws.webmaster@noaa.gov',\n",
       "   'senderName': 'NWS Mobile AL',\n",
       "   'headline': 'Rip Current Statement issued February 23 at 1:08PM CST until February 24 at 6:00AM CST by NWS Mobile AL',\n",
       "   'description': '* WHAT...Dangerous rip currents.\\n\\n* WHERE...In Alabama, Mobile Coastal and Baldwin Coastal\\nCounties. In Florida, Escambia Coastal, Santa Rosa Coastal and\\nOkaloosa Coastal Counties.\\n\\n* WHEN...Through late tonight.\\n\\n* IMPACTS...Rip currents can sweep even the best swimmers away\\nfrom shore into deeper water.',\n",
       "   'instruction': \"Swim near a lifeguard. If caught in a rip current, relax and\\nfloat. Don't swim against the current. If able, swim in a\\ndirection following the shoreline. If unable to escape, face the\\nshore and call or wave for help.\",\n",
       "   'response': 'Avoid',\n",
       "   'parameters': {'AWIPSidentifier': ['CFWMOB'],\n",
       "    'WMOidentifier': ['WHUS44 KMOB 231908'],\n",
       "    'NWSheadline': ['HIGH RIP CURRENT RISK REMAINS IN EFFECT THROUGH LATE TONIGHT'],\n",
       "    'BLOCKCHANNEL': ['EAS', 'NWEM', 'CMAS'],\n",
       "    'VTEC': ['/O.CON.KMOB.RP.S.0007.000000T0000Z-240224T1200Z/'],\n",
       "    'eventEndingTime': ['2024-02-24T12:00:00+00:00'],\n",
       "    'expiredReferences': ['w-nws.webmaster@noaa.gov,urn:oid:2.49.0.1.840.0.70345bf491fe21f0db1b5964f2b8364de86995f8.001.1,2024-02-23T04:56:00-06:00 w-nws.webmaster@noaa.gov,urn:oid:2.49.0.1.840.0.828dd06944269a0d0ad4ec031f4aa1b7ae372686.001.1,2024-02-22T21:28:00-06:00 w-nws.webmaster@noaa.gov,urn:oid:2.49.0.1.840.0.6855a2a47102d526aae1769aef222329cccf8bd5.001.1,2024-02-22T13:07:00-06:00 w-nws.webmaster@noaa.gov,urn:oid:2.49.0.1.840.0.f566540bba690d5159ffe102b5f70192c708c39a.001.1,2024-02-22T06:11:00-06:00 w-nws.webmaster@noaa.gov,urn:oid:2.49.0.1.840.0.ea0d41539efa6eb01e5c7831c7b16b35dee0a259.001.1,2024-02-21T21:51:00-06:00 w-nws.webmaster@noaa.gov,urn:oid:2.49.0.1.840.0.762c6681e40b5427a745a7b08d271b70f9ceb41d.001.1,2024-02-21T13:57:00-06:00']}}}]"
      ]
     },
     "execution_count": 22,
     "metadata": {},
     "output_type": "execute_result"
    }
   ],
   "source": [
    "state = 'AL'\n",
    "\n",
    "url = f'https://api.weather.gov/alerts/active?area={state}'\n",
    "response = requests.get(url, headers=user_agent).json()\n",
    "\n",
    "# Display response from API\n",
    "response['features']"
   ]
  },
  {
   "cell_type": "markdown",
   "metadata": {},
   "source": [
    "As we can see from the example above, there is one alert in the state of Alabama:"
   ]
  },
  {
   "cell_type": "code",
   "execution_count": 24,
   "metadata": {},
   "outputs": [
    {
     "data": {
      "text/plain": [
       "'Rip Current Statement issued February 23 at 1:08PM CST until February 24 at 6:00AM CST by NWS Mobile AL'"
      ]
     },
     "execution_count": 24,
     "metadata": {},
     "output_type": "execute_result"
    }
   ],
   "source": [
    "response['features'][0]['properties']['headline']"
   ]
  }
 ],
 "metadata": {
  "kernelspec": {
   "display_name": "cookbook-env",
   "language": "python",
   "name": "python3"
  },
  "language_info": {
   "codemirror_mode": {
    "name": "ipython",
    "version": 3
   },
   "file_extension": ".py",
   "mimetype": "text/x-python",
   "name": "python",
   "nbconvert_exporter": "python",
   "pygments_lexer": "ipython3",
   "version": "3.12.1"
  },
  "orig_nbformat": 4
 },
 "nbformat": 4,
 "nbformat_minor": 2
}
