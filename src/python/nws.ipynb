{
 "cells": [
  {
   "cell_type": "markdown",
   "metadata": {},
   "source": [
    "# National Weather Service (NWS) API in Python\n",
    "\n",
    "by Michael T. Moen\n",
    "\n",
    "Please see the following resources for more information on API usage:\n",
    "\n",
    "- Documentation\n",
    "    - <a href=\"https://www.weather.gov/documentation/services-web-api\" target=\"_blank\">NWS API Documentation</a>\n",
    "- Terms of Use\n",
    "    - From the documentation, \"All of the information presented via the API is intended to be open data, free to use for any purpose.\"\n",
    "\n",
    "**_NOTE:_** The NWS API imposes a rate limit on requests, but the amount is not published. We recommend using a 1 second delay between API requests.\n",
    "\n",
    "*These recipe examples were tested on March 18, 2025.*\n",
    "\n",
    "```{warning}\n",
    "\n",
    "Example use-cases and result outputs shown are for demonstration purposes only. The displayed results are for a specific example location and are **not** current. For live and up-to-date weather data, conditions, forecasts, and alerts in U.S. locations, visit the <a href=\"https://www.weather.gov/\" target=\"_blank\">National Weather Service website</a>.\n",
    "\n",
    "```"
   ]
  },
  {
   "cell_type": "markdown",
   "metadata": {},
   "source": [
    "## Setup\n",
    "\n",
    "### Import Libraries\n",
    "\n",
    "The following external libraries need to be installed into your enviornment to run the code examples in this tutorial:\n",
    "\n",
    "- <a href=\"https://github.com/ipython/ipykernel\" target=\"_blank\">ipykernel</a>\n",
    "- <a href=\"https://github.com/psf/requests\" target=\"_blank\">requests</a>\n",
    "- <a href=\"https://github.com/theskumar/python-dotenv\" target=\"_blank\">python-dotenv</a>\n",
    "- <a href=\"https://github.com/matplotlib/matplotlib\" target=\"_blank\">matplotlib</a>\n",
    "\n",
    "We import the libraries used in this tutorial below:"
   ]
  },
  {
   "cell_type": "code",
   "execution_count": 6,
   "metadata": {},
   "outputs": [],
   "source": [
    "import os\n",
    "import requests\n",
    "import matplotlib.pyplot as plt\n",
    "import matplotlib.dates as mdates\n",
    "from time import sleep\n",
    "from dateutil import parser\n",
    "from dotenv import load_dotenv"
   ]
  },
  {
   "cell_type": "markdown",
   "metadata": {},
   "source": [
    "### Import User-Agent\n",
    "\n",
    "An User Agent is required to access the NWS API.\n",
    "\n",
    "We keep our User Agent in a `.env` file and use the `dotenv` library to access it. If you would like to use this method, create a file named `.env` in the same directory as this notebook and add the following line to it:\n",
    "\n",
    "```text\n",
    "NWS_USER_AGENT=\"Application Name, email@domain.com\"\n",
    "```"
   ]
  },
  {
   "cell_type": "code",
   "execution_count": 7,
   "metadata": {},
   "outputs": [],
   "source": [
    "load_dotenv()\n",
    "try:\n",
    "    USER_AGENT = {\"User-Agent\": os.environ[\"NWS_USER_AGENT\"]}\n",
    "except KeyError:\n",
    "    print(\"User-Agent key not found. Please set 'NWS_USER_AGENT' in your .env file.\")"
   ]
  },
  {
   "cell_type": "markdown",
   "metadata": {},
   "source": [
    "## 1. Get the 12-Hour Forecast for a Location\n",
    "\n",
    "```{warning}\n",
    "\n",
    "Example use-cases and result outputs shown are for demonstration purposes only. The displayed results are for a specific example location and are **not** current. For live and up-to-date weather data, conditions, forecasts, and alerts in U.S. locations, visit the <a href=\"https://www.weather.gov/\" target=\"_blank\">National Weather Service website</a>.\n",
    "\n",
    "```\n",
    "\n",
    "The NWS publishes weather forecasts for each of its Weather Forecast Offices. A map of these offices and the regions they cover can be found <a href=\"https://www.weather.gov/srh/nwsoffices\" target=\"_blank\">here</a>.\n",
    "\n",
    "In order to obtain the forecast for a location, we must query that region's Weather Forecast Office using its code and the grid coordinates of the location. To determine these values for a location, we can query the `/points` endpoint.\n",
    "\n",
    "*To see how to programmatically obtain the latititude and longitude of an address in the U.S., please see our <a href=\"https://ua-libraries-research-data-services.github.io/UALIB_ScholarlyAPI_Cookbook/src/overview/us-census-geocoding.html\" target=\"_blank\">U.S. Census Geocoding cookbook tutorials</a>.*"
   ]
  },
  {
   "cell_type": "code",
   "execution_count": 8,
   "metadata": {},
   "outputs": [
    {
     "data": {
      "text/plain": [
       "{'@context': ['https://geojson.org/geojson-ld/geojson-context.jsonld',\n",
       "  {'@version': '1.1',\n",
       "   'wx': 'https://api.weather.gov/ontology#',\n",
       "   's': 'https://schema.org/',\n",
       "   'geo': 'http://www.opengis.net/ont/geosparql#',\n",
       "   'unit': 'http://codes.wmo.int/common/unit/',\n",
       "   '@vocab': 'https://api.weather.gov/ontology#',\n",
       "   'geometry': {'@id': 's:GeoCoordinates', '@type': 'geo:wktLiteral'},\n",
       "   'city': 's:addressLocality',\n",
       "   'state': 's:addressRegion',\n",
       "   'distance': {'@id': 's:Distance', '@type': 's:QuantitativeValue'},\n",
       "   'bearing': {'@type': 's:QuantitativeValue'},\n",
       "   'value': {'@id': 's:value'},\n",
       "   'unitCode': {'@id': 's:unitCode', '@type': '@id'},\n",
       "   'forecastOffice': {'@type': '@id'},\n",
       "   'forecastGridData': {'@type': '@id'},\n",
       "   'publicZone': {'@type': '@id'},\n",
       "   'county': {'@type': '@id'}}],\n",
       " 'id': 'https://api.weather.gov/points/33.212,-87.5459',\n",
       " 'type': 'Feature',\n",
       " 'geometry': {'type': 'Point', 'coordinates': [-87.5459, 33.212]},\n",
       " 'properties': {'@id': 'https://api.weather.gov/points/33.212,-87.5459',\n",
       "  '@type': 'wx:Point',\n",
       "  'cwa': 'BMX',\n",
       "  'forecastOffice': 'https://api.weather.gov/offices/BMX',\n",
       "  'gridId': 'BMX',\n",
       "  'gridX': 33,\n",
       "  'gridY': 69,\n",
       "  'forecast': 'https://api.weather.gov/gridpoints/BMX/33,69/forecast',\n",
       "  'forecastHourly': 'https://api.weather.gov/gridpoints/BMX/33,69/forecast/hourly',\n",
       "  'forecastGridData': 'https://api.weather.gov/gridpoints/BMX/33,69',\n",
       "  'observationStations': 'https://api.weather.gov/gridpoints/BMX/33,69/stations',\n",
       "  'relativeLocation': {'type': 'Feature',\n",
       "   'geometry': {'type': 'Point', 'coordinates': [-87.5283, 33.234404]},\n",
       "   'properties': {'city': 'Tuscaloosa',\n",
       "    'state': 'AL',\n",
       "    'distance': {'unitCode': 'wmoUnit:m', 'value': 2981.0037391988},\n",
       "    'bearing': {'unitCode': 'wmoUnit:degree_(angle)', 'value': 213}}},\n",
       "  'forecastZone': 'https://api.weather.gov/zones/forecast/ALZ023',\n",
       "  'county': 'https://api.weather.gov/zones/county/ALC125',\n",
       "  'fireWeatherZone': 'https://api.weather.gov/zones/fire/ALZ023',\n",
       "  'timeZone': 'America/Chicago',\n",
       "  'radarStation': 'KBMX'}}"
      ]
     },
     "execution_count": 8,
     "metadata": {},
     "output_type": "execute_result"
    }
   ],
   "source": [
    "latitude = '33.211952'\n",
    "longitude = '-87.545920'\n",
    "\n",
    "url = f'https://api.weather.gov/points/{latitude},{longitude}'\n",
    "response = requests.get(url, headers=USER_AGENT).json()\n",
    "\n",
    "# Display response from API\n",
    "response"
   ]
  },
  {
   "cell_type": "code",
   "execution_count": 9,
   "metadata": {},
   "outputs": [
    {
     "name": "stdout",
     "output_type": "stream",
     "text": [
      "Office code: BMX, Grid coordinates: 33, 69\n"
     ]
    }
   ],
   "source": [
    "office = response[\"properties\"][\"gridId\"]\n",
    "gridX = response[\"properties\"][\"gridX\"]\n",
    "gridY = response[\"properties\"][\"gridY\"]\n",
    "\n",
    "# Print grid location data\n",
    "print(f'Office code: {office}, Grid coordinates: {gridX}, {gridY}')"
   ]
  },
  {
   "cell_type": "markdown",
   "metadata": {},
   "source": [
    "Now that we have obtained the grid coordinates and office code, we can use the `/gridpoints` endpoint to obtain the seven day forecast (*output data is for a specific location and is **not** current; visit the <a href=\"https://www.weather.gov/\" target=\"_blank\">National Weather Service website</a> for up-to-date information*)."
   ]
  },
  {
   "cell_type": "code",
   "execution_count": 10,
   "metadata": {},
   "outputs": [
    {
     "data": {
      "text/plain": [
       "{'number': 1,\n",
       " 'name': 'This Afternoon',\n",
       " 'startTime': '2025-03-18T12:00:00-05:00',\n",
       " 'endTime': '2025-03-18T18:00:00-05:00',\n",
       " 'isDaytime': True,\n",
       " 'temperature': 77,\n",
       " 'temperatureUnit': 'F',\n",
       " 'temperatureTrend': '',\n",
       " 'probabilityOfPrecipitation': {'unitCode': 'wmoUnit:percent', 'value': None},\n",
       " 'windSpeed': '10 mph',\n",
       " 'windDirection': 'S',\n",
       " 'icon': 'https://api.weather.gov/icons/land/day/few?size=medium',\n",
       " 'shortForecast': 'Sunny',\n",
       " 'detailedForecast': 'Sunny, with a high near 77. South wind around 10 mph.'}"
      ]
     },
     "execution_count": 10,
     "metadata": {},
     "output_type": "execute_result"
    }
   ],
   "source": [
    "url = f'https://api.weather.gov/gridpoints/{office}/{gridX},{gridY}/forecast'\n",
    "response = requests.get(url, headers=USER_AGENT).json()\n",
    "\n",
    "# Display first result\n",
    "response[\"properties\"][\"periods\"][0]"
   ]
  },
  {
   "cell_type": "markdown",
   "metadata": {},
   "source": [
    "Finally, we can print the data we are interested in. In this case, we're looking at the temperature, probability of precipitation, and detailed forecast (*output data is for a specific location and is **not** current; visit the <a href=\"https://www.weather.gov/\" target=\"_blank\">National Weather Service website</a> for up-to-date information.*)."
   ]
  },
  {
   "cell_type": "code",
   "execution_count": 11,
   "metadata": {},
   "outputs": [
    {
     "name": "stdout",
     "output_type": "stream",
     "text": [
      "This Afternoon  :  77F,   0%, Sunny, with a high near 77. South wind around 10 mph.\n",
      "Tonight         :  50F,   0%, Partly cloudy, with a low around 50. South wind 5 to 10 mph.\n",
      "Wednesday       :  80F,  20%, A slight chance of rain showers after 4pm. Partly sunny, with a high near 80. South wind 5 to 20 mph, with gusts as high as 40 mph. Chance of precipitation is 20%.\n",
      "Wednesday Night :  43F,  90%, A slight chance of rain showers before 7pm, then showers and thunderstorms. Mostly cloudy. Low around 43, with temperatures rising to around 49 overnight. Southwest wind 15 to 20 mph, with gusts as high as 35 mph. Chance of precipitation is 90%.\n",
      "Thursday        :  57F,  20%, A slight chance of rain showers before 7am. Mostly sunny, with a high near 57. Northwest wind around 15 mph, with gusts as high as 30 mph. Chance of precipitation is 20%.\n",
      "Thursday Night  :  34F,   0%, Areas of frost after 3am. Mostly clear, with a low around 34.\n",
      "Friday          :  67F,   0%, Widespread frost before 8am. Sunny, with a high near 67.\n",
      "Friday Night    :  48F,   0%, Mostly clear, with a low around 48.\n",
      "Saturday        :  73F,   0%, Sunny, with a high near 73.\n",
      "Saturday Night  :  48F,   0%, Mostly clear, with a low around 48.\n",
      "Sunday          :  79F,  20%, A slight chance of rain showers after 1pm. Mostly sunny, with a high near 79. Chance of precipitation is 20%.\n",
      "Sunday Night    :  55F,  80%, A slight chance of rain showers before 7pm, then showers and thunderstorms. Mostly cloudy, with a low around 55. Chance of precipitation is 80%.\n",
      "Monday          :  71F,  80%, Showers and thunderstorms before 1pm. Partly sunny, with a high near 71. Chance of precipitation is 80%.\n",
      "Monday Night    :  45F,   0%, Partly cloudy, with a low around 45.\n"
     ]
    }
   ],
   "source": [
    "for day in response[\"properties\"][\"periods\"]:\n",
    "    name = day[\"name\"]\n",
    "    temperature = day[\"temperature\"]\n",
    "    rain = day[\"probabilityOfPrecipitation\"][\"value\"] or 0\n",
    "    forecast = day[\"detailedForecast\"]\n",
    "    print(f'{name:<16}: {temperature:>3}F, {rain:>3}%, {forecast}')"
   ]
  },
  {
   "cell_type": "markdown",
   "metadata": {},
   "source": [
    "## 2. Get the Hourly Forecast for a Location\n",
    "\n",
    "```{warning}\n",
    "\n",
    "Example use-cases and result outputs shown are for demonstration purposes only. The displayed results are for a specific example location and are **not** current. For live and up-to-date weather data, conditions, forecasts, and alerts in U.S. locations, visit the <a href=\"https://www.weather.gov/\" target=\"_blank\">National Weather Service website</a>.\n",
    "\n",
    "```\n",
    "\n",
    "The `/gridpoints` endpoint can also return an hourly forecast for a seven day period. The function below implements the code from the example above using this hourly forecast method:"
   ]
  },
  {
   "cell_type": "code",
   "execution_count": null,
   "metadata": {},
   "outputs": [],
   "source": [
    "# Note that this function only works with valid latitude and longitude inputs\n",
    "def getHourlyForecast(latitude, longitude, user_agent):\n",
    "    points_data = requests.get(\n",
    "        f'https://api.weather.gov/points/{latitude},{longitude}',\n",
    "        headers=user_agent\n",
    "    ).json()\n",
    "    office = points_data[\"properties\"][\"gridId\"]\n",
    "    gridX = points_data[\"properties\"][\"gridX\"]\n",
    "    gridY = points_data[\"properties\"][\"gridY\"]\n",
    "\n",
    "    sleep(1)    # Add 1 second delay between API requests\n",
    "\n",
    "    # The \"/hourly\" is the only difference between the hourly and daily forecast URLs\n",
    "    gridpoints_data = requests.get(\n",
    "        f'https://api.weather.gov/gridpoints/{office}/{gridX},{gridY}/forecast/hourly',\n",
    "        headers=user_agent\n",
    "    ).json()\n",
    "    return gridpoints_data[\"properties\"][\"periods\"]"
   ]
  },
  {
   "cell_type": "markdown",
   "metadata": {},
   "source": [
    "The function can be easily used as such:"
   ]
  },
  {
   "cell_type": "code",
   "execution_count": 13,
   "metadata": {},
   "outputs": [
    {
     "data": {
      "text/plain": [
       "156"
      ]
     },
     "execution_count": 13,
     "metadata": {},
     "output_type": "execute_result"
    }
   ],
   "source": [
    "latitude = '33.211952'\n",
    "longitude = '-87.545920'\n",
    "hourlyForecast = getHourlyForecast(latitude, longitude, USER_AGENT)\n",
    "len(hourlyForecast)"
   ]
  },
  {
   "cell_type": "markdown",
   "metadata": {},
   "source": [
    "Lastly, we can use matplotlib to graph the temperature data (*output data is for a specific location and is **not** current; visit the <a href=\"https://www.weather.gov/\" target=\"_blank\">National Weather Service website</a> for up-to-date information*)."
   ]
  },
  {
   "cell_type": "code",
   "execution_count": 14,
   "metadata": {},
   "outputs": [
    {
     "data": {
      "image/png": "[encoded data removed]",
      "text/plain": [
       "<Figure size 1000x600 with 1 Axes>"
      ]
     },
     "metadata": {},
     "output_type": "display_data"
    }
   ],
   "source": [
    "hours = []\n",
    "temperatures = []\n",
    "for hourForecast in hourlyForecast:\n",
    "    hour = parser.parse(hourForecast[\"startTime\"][:19])\n",
    "    hours.append(hour)\n",
    "    temperatures.append(hourForecast[\"temperature\"])\n",
    "\n",
    "plt.figure(figsize=(10, 6))\n",
    "plt.scatter(hours, temperatures, color='coral', marker='o', s=10)\n",
    "plt.title('Hourly Temperature Forecast for Next Week')\n",
    "plt.xlabel('Time')\n",
    "plt.ylabel('Temperature (Fahrenheit)')\n",
    "plt.grid(True, which='both', color='lightgray')\n",
    "plt.gca().set_axisbelow(True)\n",
    "plt.gca().xaxis.set_major_locator(mdates.HourLocator(byhour=0))\n",
    "plt.gca().xaxis.set_major_formatter(mdates.DateFormatter('%b %d'))\n",
    "plt.gca().xaxis.set_minor_locator(mdates.HourLocator(byhour=12))\n",
    "plt.gca().xaxis.set_minor_formatter(mdates.DateFormatter(''))\n",
    "plt.tight_layout()\n",
    "plt.show()"
   ]
  },
  {
   "cell_type": "markdown",
   "metadata": {},
   "source": [
    "## 3. Get Alerts for a Location\n",
    "\n",
    "```{warning}\n",
    "\n",
    "Example use-cases and result outputs shown are for demonstration purposes only. The displayed results are for a specific example location and are **not** current. For live and up-to-date weather data, conditions, forecasts, and alerts in U.S. locations, visit the <a href=\"https://www.weather.gov/\" target=\"_blank\">National Weather Service website</a>.\n",
    "\n",
    "```\n",
    "\n",
    "The `/alerts` endpoint returns all alerts issued for a given location or area. The example below uses the `point` parameter to find all alerts for a pair of coordinates:"
   ]
  },
  {
   "cell_type": "code",
   "execution_count": 15,
   "metadata": {},
   "outputs": [
    {
     "data": {
      "text/plain": [
       "{'@context': {'@version': '1.1'},\n",
       " 'type': 'FeatureCollection',\n",
       " 'features': [],\n",
       " 'title': 'Current watches, warnings, and advisories for 33.211952 N, 87.54592 W',\n",
       " 'updated': '2025-03-16T06:00:00+00:00'}"
      ]
     },
     "execution_count": 15,
     "metadata": {},
     "output_type": "execute_result"
    }
   ],
   "source": [
    "latitude = '33.211952'\n",
    "longitude = '-87.545920'\n",
    "\n",
    "url = f'https://api.weather.gov/alerts/active?point={latitude},{longitude}'\n",
    "response = requests.get(url, headers=USER_AGENT).json()\n",
    "\n",
    "# Display response from API\n",
    "response"
   ]
  },
  {
   "cell_type": "markdown",
   "metadata": {},
   "source": [
    "Note that in this example, there are no active alerts (*output data is for a specific location and is **not** current; visit the <a href=\"https://www.weather.gov/\" target=\"_blank\">National Weather Service website</a> for up-to-date information*).\n",
    "\n",
    "The example below uses the `area` parameter to find alerts for the state of Alabama:"
   ]
  },
  {
   "cell_type": "code",
   "execution_count": 19,
   "metadata": {
    "tags": [
     "output_scroll"
    ]
   },
   "outputs": [
    {
     "data": {
      "text/plain": [
       "{'id': 'https://api.weather.gov/alerts/urn:oid:2.49.0.1.840.0.d145346f3c3070bb10d01a7710d996f0af42b811.002.1',\n",
       " 'type': 'Feature',\n",
       " 'geometry': None,\n",
       " 'properties': {'@id': 'https://api.weather.gov/alerts/urn:oid:2.49.0.1.840.0.d145346f3c3070bb10d01a7710d996f0af42b811.002.1',\n",
       "  '@type': 'wx:Alert',\n",
       "  'id': 'urn:oid:2.49.0.1.840.0.d145346f3c3070bb10d01a7710d996f0af42b811.002.1',\n",
       "  'areaDesc': 'Sumter; Greene; Hale',\n",
       "  'geocode': {'SAME': ['001119', '001063', '001065'],\n",
       "   'UGC': ['ALZ030', 'ALZ031', 'ALZ032']},\n",
       "  'affectedZones': ['https://api.weather.gov/zones/forecast/ALZ030',\n",
       "   'https://api.weather.gov/zones/forecast/ALZ031',\n",
       "   'https://api.weather.gov/zones/forecast/ALZ032'],\n",
       "  'references': [{'@id': 'https://api.weather.gov/alerts/urn:oid:2.49.0.1.840.0.331166db4f629ec07acf588dc6319f70d2510651.001.1',\n",
       "    'identifier': 'urn:oid:2.49.0.1.840.0.331166db4f629ec07acf588dc6319f70d2510651.001.1',\n",
       "    'sender': 'w-nws.webmaster@noaa.gov',\n",
       "    'sent': '2025-03-19T03:18:00-05:00'}],\n",
       "  'sent': '2025-03-19T10:21:00-05:00',\n",
       "  'effective': '2025-03-19T10:21:00-05:00',\n",
       "  'onset': '2025-03-19T10:21:00-05:00',\n",
       "  'expires': '2025-03-19T22:00:00-05:00',\n",
       "  'ends': '2025-03-19T22:00:00-05:00',\n",
       "  'status': 'Actual',\n",
       "  'messageType': 'Update',\n",
       "  'category': 'Met',\n",
       "  'severity': 'Moderate',\n",
       "  'certainty': 'Likely',\n",
       "  'urgency': 'Expected',\n",
       "  'event': 'Wind Advisory',\n",
       "  'sender': 'w-nws.webmaster@noaa.gov',\n",
       "  'senderName': 'NWS Birmingham AL',\n",
       "  'headline': 'Wind Advisory issued March 19 at 10:21AM CDT until March 19 at 10:00PM CDT by NWS Birmingham AL',\n",
       "  'description': '* WHAT...Southwest winds 15 to 25 mph with gusts up to 35 mph\\nexpected.\\n\\n* WHERE...Greene, Hale, and Sumter Counties.\\n\\n* WHEN...Until 10 PM CDT this evening.\\n\\n* IMPACTS...Gusty winds will blow around unsecured objects. Trees\\ncould be blown down and a few power outages may result.',\n",
       "  'instruction': 'Winds this strong can make driving difficult, especially for high\\nprofile vehicles. Use extra caution.\\n\\nSecure outdoor objects.',\n",
       "  'response': 'Execute',\n",
       "  'parameters': {'AWIPSidentifier': ['NPWBMX'],\n",
       "   'WMOidentifier': ['WWUS74 KBMX 191521'],\n",
       "   'NWSheadline': ['WIND ADVISORY REMAINS IN EFFECT UNTIL 10 PM CDT THIS EVENING'],\n",
       "   'BLOCKCHANNEL': ['EAS', 'NWEM', 'CMAS'],\n",
       "   'VTEC': ['/O.CON.KBMX.WI.Y.0005.000000T0000Z-250320T0300Z/'],\n",
       "   'eventEndingTime': ['2025-03-20T03:00:00+00:00']}}}"
      ]
     },
     "execution_count": 19,
     "metadata": {},
     "output_type": "execute_result"
    }
   ],
   "source": [
    "state = 'AL'\n",
    "\n",
    "url = f'https://api.weather.gov/alerts/active?area={state}'\n",
    "response = requests.get(url, headers=USER_AGENT).json()\n",
    "\n",
    "# Display response from API\n",
    "response['features'][0]"
   ]
  },
  {
   "cell_type": "code",
   "execution_count": 20,
   "metadata": {},
   "outputs": [
    {
     "name": "stdout",
     "output_type": "stream",
     "text": [
      "Wind Advisory issued March 19 at 10:21AM CDT until March 19 at 10:00PM CDT by NWS Birmingham AL\n",
      "Wind Advisory issued March 19 at 10:21AM CDT until March 19 at 10:00PM CDT by NWS Birmingham AL\n",
      "Freeze Watch issued March 19 at 10:21AM CDT until March 21 at 8:00AM CDT by NWS Birmingham AL\n",
      "Freeze Watch issued March 19 at 10:21AM CDT until March 21 at 8:00AM CDT by NWS Birmingham AL\n",
      "Wind Advisory issued March 19 at 10:01AM CDT until March 19 at 10:00PM CDT by NWS Huntsville AL\n",
      "Freeze Watch issued March 19 at 10:01AM CDT until March 21 at 8:00AM CDT by NWS Huntsville AL\n",
      "Flood Warning issued March 19 at 9:27AM CDT until March 22 at 7:00PM CDT by NWS Mobile AL\n",
      "Flood Warning issued March 19 at 9:26AM CDT until March 23 at 1:00AM CDT by NWS Mobile AL\n"
     ]
    }
   ],
   "source": [
    "for event in response['features']:\n",
    "    print(event['properties']['headline'])"
   ]
  }
 ],
 "metadata": {
  "kernelspec": {
   "display_name": "api_env",
   "language": "python",
   "name": "python3"
  },
  "language_info": {
   "codemirror_mode": {
    "name": "ipython",
    "version": 3
   },
   "file_extension": ".py",
   "mimetype": "text/x-python",
   "name": "python",
   "nbconvert_exporter": "python",
   "pygments_lexer": "ipython3",
   "version": "3.13.1"
  },
  "orig_nbformat": 4
 },
 "nbformat": 4,
 "nbformat_minor": 2
}
