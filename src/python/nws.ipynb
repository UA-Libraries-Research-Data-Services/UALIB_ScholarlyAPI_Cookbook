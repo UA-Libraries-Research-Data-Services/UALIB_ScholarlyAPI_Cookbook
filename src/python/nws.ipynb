{
 "cells": [
  {
   "cell_type": "markdown",
   "metadata": {},
   "source": [
    "# National Weather Service (NWS) API in Python\n",
    "\n",
    "by Michael T. Moen\n",
    "\n",
    "Please see the following resources for more information on API usage:\n",
    "\n",
    "- Documentation\n",
    "    - <a href=\"https://www.weather.gov/documentation/services-web-api\" target=\"_blank\">NWS API Documentation</a>\n",
    "    - <a href=\"https://weather-gov.github.io/api/general-faqs\" target=\"_blank\">NWS API General FAQs</a>\n",
    "- Terms of Use\n",
    "    - From the documentation, \"All of the information presented via the API is intended to be open data, free to use for any purpose.\"\n",
    "\n",
    "**_NOTE:_** The NWS API imposes a rate limit on requests, but the amount is not published. We recommend using a 1 second delay between API requests.\n",
    "\n",
    "*These recipe examples were tested on March 20, 2025.*\n",
    "\n",
    "```{warning}\n",
    "\n",
    "Example use-cases and result outputs shown are for demonstration purposes only. The displayed results are for a specific example location and are **not** current. For live and up-to-date weather data, conditions, forecasts, and alerts in U.S. locations, visit the <a href=\"https://www.weather.gov/\" target=\"_blank\">National Weather Service website</a>.\n",
    "\n",
    "```"
   ]
  },
  {
   "cell_type": "markdown",
   "metadata": {},
   "source": [
    "## Setup\n",
    "\n",
    "### Import Libraries\n",
    "\n",
    "The following external libraries need to be installed into your enviornment to run the code examples in this tutorial:\n",
    "\n",
    "- <a href=\"https://github.com/ipython/ipykernel\" target=\"_blank\">ipykernel</a>\n",
    "- <a href=\"https://github.com/psf/requests\" target=\"_blank\">requests</a>\n",
    "- <a href=\"https://github.com/theskumar/python-dotenv\" target=\"_blank\">python-dotenv</a>\n",
    "- <a href=\"https://github.com/matplotlib/matplotlib\" target=\"_blank\">matplotlib</a>\n",
    "\n",
    "We import the libraries used in this tutorial below:"
   ]
  },
  {
   "cell_type": "code",
   "execution_count": 1,
   "metadata": {},
   "outputs": [],
   "source": [
    "import os\n",
    "import requests\n",
    "import matplotlib.pyplot as plt\n",
    "import matplotlib.dates as mdates\n",
    "from time import sleep\n",
    "from dateutil import parser\n",
    "from dotenv import load_dotenv"
   ]
  },
  {
   "cell_type": "markdown",
   "metadata": {},
   "source": [
    "### Import User-Agent\n",
    "\n",
    "An User Agent is required to access the NWS API.\n",
    "\n",
    "We keep our User Agent in a `.env` file and use the `dotenv` library to access it. If you would like to use this method, create a file named `.env` in the same directory as this notebook and add the following line to it:\n",
    "\n",
    "```text\n",
    "NWS_USER_AGENT=\"Application Name, email@domain.com\"\n",
    "```"
   ]
  },
  {
   "cell_type": "code",
   "execution_count": 2,
   "metadata": {},
   "outputs": [],
   "source": [
    "load_dotenv()\n",
    "try:\n",
    "    USER_AGENT = {\"User-Agent\": os.environ[\"NWS_USER_AGENT\"]}\n",
    "except KeyError:\n",
    "    print(\"User-Agent key not found. Please set 'NWS_USER_AGENT' in your .env file.\")"
   ]
  },
  {
   "cell_type": "markdown",
   "metadata": {},
   "source": [
    "## 1. Get the 12-Hour Forecast for a Location\n",
    "\n",
    "```{warning}\n",
    "\n",
    "Example use-cases and result outputs shown are for demonstration purposes only. The displayed results are for a specific example location and are **not** current. For live and up-to-date weather data, conditions, forecasts, and alerts in U.S. locations, visit the <a href=\"https://www.weather.gov/\" target=\"_blank\">National Weather Service website</a>.\n",
    "\n",
    "```\n",
    "\n",
    "The NWS publishes weather forecasts for each of its Weather Forecast Offices. A map of these offices and the regions they cover can be found <a href=\"https://www.weather.gov/srh/nwsoffices\" target=\"_blank\">here</a>.\n",
    "\n",
    "In order to obtain the forecast for a location, we must query that region's Weather Forecast Office using its code and the grid coordinates of the location. To determine these values for a location, we can query the `/points` endpoint.\n",
    "\n",
    "*To see how to programmatically obtain the latititude and longitude of an address in the U.S., please see our <a href=\"https://ua-libraries-research-data-services.github.io/UALIB_ScholarlyAPI_Cookbook/src/overview/us-census-geocoding.html\" target=\"_blank\">U.S. Census Geocoding cookbook tutorials</a>.*"
   ]
  },
  {
   "cell_type": "code",
   "execution_count": 3,
   "metadata": {},
   "outputs": [
    {
     "data": {
      "text/plain": [
       "{'@context': ['https://geojson.org/geojson-ld/geojson-context.jsonld',\n",
       "  {'@version': '1.1',\n",
       "   'wx': 'https://api.weather.gov/ontology#',\n",
       "   's': 'https://schema.org/',\n",
       "   'geo': 'http://www.opengis.net/ont/geosparql#',\n",
       "   'unit': 'http://codes.wmo.int/common/unit/',\n",
       "   '@vocab': 'https://api.weather.gov/ontology#',\n",
       "   'geometry': {'@id': 's:GeoCoordinates', '@type': 'geo:wktLiteral'},\n",
       "   'city': 's:addressLocality',\n",
       "   'state': 's:addressRegion',\n",
       "   'distance': {'@id': 's:Distance', '@type': 's:QuantitativeValue'},\n",
       "   'bearing': {'@type': 's:QuantitativeValue'},\n",
       "   'value': {'@id': 's:value'},\n",
       "   'unitCode': {'@id': 's:unitCode', '@type': '@id'},\n",
       "   'forecastOffice': {'@type': '@id'},\n",
       "   'forecastGridData': {'@type': '@id'},\n",
       "   'publicZone': {'@type': '@id'},\n",
       "   'county': {'@type': '@id'}}],\n",
       " 'id': 'https://api.weather.gov/points/33.212,-87.5459',\n",
       " 'type': 'Feature',\n",
       " 'geometry': {'type': 'Point', 'coordinates': [-87.5459, 33.212]},\n",
       " 'properties': {'@id': 'https://api.weather.gov/points/33.212,-87.5459',\n",
       "  '@type': 'wx:Point',\n",
       "  'cwa': 'BMX',\n",
       "  'forecastOffice': 'https://api.weather.gov/offices/BMX',\n",
       "  'gridId': 'BMX',\n",
       "  'gridX': 33,\n",
       "  'gridY': 69,\n",
       "  'forecast': 'https://api.weather.gov/gridpoints/BMX/33,69/forecast',\n",
       "  'forecastHourly': 'https://api.weather.gov/gridpoints/BMX/33,69/forecast/hourly',\n",
       "  'forecastGridData': 'https://api.weather.gov/gridpoints/BMX/33,69',\n",
       "  'observationStations': 'https://api.weather.gov/gridpoints/BMX/33,69/stations',\n",
       "  'relativeLocation': {'type': 'Feature',\n",
       "   'geometry': {'type': 'Point', 'coordinates': [-87.5283, 33.234404]},\n",
       "   'properties': {'city': 'Tuscaloosa',\n",
       "    'state': 'AL',\n",
       "    'distance': {'unitCode': 'wmoUnit:m', 'value': 2981.0037391988},\n",
       "    'bearing': {'unitCode': 'wmoUnit:degree_(angle)', 'value': 213}}},\n",
       "  'forecastZone': 'https://api.weather.gov/zones/forecast/ALZ023',\n",
       "  'county': 'https://api.weather.gov/zones/county/ALC125',\n",
       "  'fireWeatherZone': 'https://api.weather.gov/zones/fire/ALZ023',\n",
       "  'timeZone': 'America/Chicago',\n",
       "  'radarStation': 'KBMX'}}"
      ]
     },
     "execution_count": 3,
     "metadata": {},
     "output_type": "execute_result"
    }
   ],
   "source": [
    "latitude = '33.211952'\n",
    "longitude = '-87.545920'\n",
    "\n",
    "url = f'https://api.weather.gov/points/{latitude},{longitude}'\n",
    "response = requests.get(url, headers=USER_AGENT).json()\n",
    "\n",
    "# Display response from API\n",
    "response"
   ]
  },
  {
   "cell_type": "code",
   "execution_count": 4,
   "metadata": {},
   "outputs": [
    {
     "name": "stdout",
     "output_type": "stream",
     "text": [
      "Office code: BMX, Grid coordinates: 33, 69\n"
     ]
    }
   ],
   "source": [
    "office = response[\"properties\"][\"gridId\"]\n",
    "gridX = response[\"properties\"][\"gridX\"]\n",
    "gridY = response[\"properties\"][\"gridY\"]\n",
    "\n",
    "# Print grid location data\n",
    "print(f'Office code: {office}, Grid coordinates: {gridX}, {gridY}')"
   ]
  },
  {
   "cell_type": "markdown",
   "metadata": {},
   "source": [
    "Now that we have obtained the grid coordinates and office code, we can use the `/gridpoints` endpoint to obtain the seven day forecast (*output data is for a specific location and is **not** current; visit the <a href=\"https://www.weather.gov/\" target=\"_blank\">National Weather Service website</a> for up-to-date information*)."
   ]
  },
  {
   "cell_type": "code",
   "execution_count": 5,
   "metadata": {},
   "outputs": [
    {
     "data": {
      "text/plain": [
       "{'number': 1,\n",
       " 'name': 'Today',\n",
       " 'startTime': '2025-03-21T11:00:00-05:00',\n",
       " 'endTime': '2025-03-21T18:00:00-05:00',\n",
       " 'isDaytime': True,\n",
       " 'temperature': 67,\n",
       " 'temperatureUnit': 'F',\n",
       " 'temperatureTrend': '',\n",
       " 'probabilityOfPrecipitation': {'unitCode': 'wmoUnit:percent', 'value': None},\n",
       " 'windSpeed': '0 to 10 mph',\n",
       " 'windDirection': 'SW',\n",
       " 'icon': 'https://api.weather.gov/icons/land/day/skc?size=medium',\n",
       " 'shortForecast': 'Sunny',\n",
       " 'detailedForecast': 'Sunny, with a high near 67. Southwest wind 0 to 10 mph.'}"
      ]
     },
     "execution_count": 5,
     "metadata": {},
     "output_type": "execute_result"
    }
   ],
   "source": [
    "url = f'https://api.weather.gov/gridpoints/{office}/{gridX},{gridY}/forecast'\n",
    "response = requests.get(url, headers=USER_AGENT).json()\n",
    "\n",
    "# Display first result\n",
    "response[\"properties\"][\"periods\"][0]"
   ]
  },
  {
   "cell_type": "markdown",
   "metadata": {},
   "source": [
    "Finally, we can print the data we are interested in. In this case, we're looking at the temperature, probability of precipitation, and detailed forecast (*output data is for a specific location and is **not** current; visit the <a href=\"https://www.weather.gov/\" target=\"_blank\">National Weather Service website</a> for up-to-date information.*)."
   ]
  },
  {
   "cell_type": "code",
   "execution_count": 6,
   "metadata": {},
   "outputs": [
    {
     "name": "stdout",
     "output_type": "stream",
     "text": [
      "Today           :  67F,   0%, Sunny, with a high near 67. Southwest wind 0 to 10 mph.\n",
      "Tonight         :  41F,   0%, Mostly clear, with a low around 41. South wind around 5 mph.\n",
      "Saturday        :  76F,   0%, Sunny, with a high near 76. West wind 5 to 10 mph.\n",
      "Saturday Night  :  50F,   0%, Clear, with a low around 50. South wind 0 to 5 mph.\n",
      "Sunday          :  79F,   0%, Sunny, with a high near 79. South wind 5 to 15 mph, with gusts as high as 30 mph.\n",
      "Sunday Night    :  56F, 100%, Showers and thunderstorms after 7pm. Mostly cloudy, with a low around 56. Chance of precipitation is 100%.\n",
      "Monday          :  72F, 100%, Showers and thunderstorms before 7am, then a slight chance of showers and thunderstorms between 7am and 1pm. Partly sunny, with a high near 72. Chance of precipitation is 100%.\n",
      "Monday Night    :  46F,   0%, Partly cloudy, with a low around 46.\n",
      "Tuesday         :  78F,   0%, Sunny, with a high near 78.\n",
      "Tuesday Night   :  51F,   0%, Mostly clear, with a low around 51.\n",
      "Wednesday       :  76F,   0%, Sunny, with a high near 76.\n",
      "Wednesday Night :  48F,   0%, Mostly clear, with a low around 48.\n",
      "Thursday        :  76F,   0%, Sunny, with a high near 76.\n",
      "Thursday Night  :  52F,   0%, Partly cloudy, with a low around 52.\n"
     ]
    }
   ],
   "source": [
    "for day in response[\"properties\"][\"periods\"]:\n",
    "    name = day[\"name\"]\n",
    "    temperature = day[\"temperature\"]\n",
    "    rain = day[\"probabilityOfPrecipitation\"][\"value\"] or 0\n",
    "    forecast = day[\"detailedForecast\"]\n",
    "    print(f'{name:<16}: {temperature:>3}F, {rain:>3}%, {forecast}')"
   ]
  },
  {
   "cell_type": "markdown",
   "metadata": {},
   "source": [
    "## 2. Get the Hourly Forecast for a Location\n",
    "\n",
    "```{warning}\n",
    "\n",
    "Example use-cases and result outputs shown are for demonstration purposes only. The displayed results are for a specific example location and are **not** current. For live and up-to-date weather data, conditions, forecasts, and alerts in U.S. locations, visit the <a href=\"https://www.weather.gov/\" target=\"_blank\">National Weather Service website</a>.\n",
    "\n",
    "```\n",
    "\n",
    "The `/gridpoints` endpoint can also return an hourly forecast for a seven day period. The function below implements the code from the example above using this hourly forecast method:"
   ]
  },
  {
   "cell_type": "code",
   "execution_count": 7,
   "metadata": {},
   "outputs": [],
   "source": [
    "# Note that this function only works with valid latitude and longitude inputs\n",
    "def getHourlyForecast(latitude, longitude, user_agent):\n",
    "    points_data = requests.get(\n",
    "        f'https://api.weather.gov/points/{latitude},{longitude}',\n",
    "        headers=user_agent\n",
    "    ).json()\n",
    "    office = points_data[\"properties\"][\"gridId\"]\n",
    "    gridX = points_data[\"properties\"][\"gridX\"]\n",
    "    gridY = points_data[\"properties\"][\"gridY\"]\n",
    "\n",
    "    sleep(1)    # Add 1 second delay between API requests\n",
    "\n",
    "    # The \"/hourly\" is the only difference between the hourly and daily forecast URLs\n",
    "    gridpoints_data = requests.get(\n",
    "        f'https://api.weather.gov/gridpoints/{office}/{gridX},{gridY}/forecast/hourly',\n",
    "        headers=user_agent\n",
    "    ).json()\n",
    "    return gridpoints_data[\"properties\"][\"periods\"]"
   ]
  },
  {
   "cell_type": "markdown",
   "metadata": {},
   "source": [
    "The function can be easily used as such:"
   ]
  },
  {
   "cell_type": "code",
   "execution_count": 8,
   "metadata": {},
   "outputs": [
    {
     "data": {
      "text/plain": [
       "156"
      ]
     },
     "execution_count": 8,
     "metadata": {},
     "output_type": "execute_result"
    }
   ],
   "source": [
    "latitude = '33.211952'\n",
    "longitude = '-87.545920'\n",
    "hourlyForecast = getHourlyForecast(latitude, longitude, USER_AGENT)\n",
    "len(hourlyForecast)"
   ]
  },
  {
   "cell_type": "markdown",
   "metadata": {},
   "source": [
    "Lastly, we can use matplotlib to graph the temperature data (*output data is for a specific location and is **not** current; visit the <a href=\"https://www.weather.gov/\" target=\"_blank\">National Weather Service website</a> for up-to-date information*)."
   ]
  },
  {
   "cell_type": "code",
   "execution_count": 9,
   "metadata": {},
   "outputs": [
    {
     "data": {
      "image/png": "[encoded data removed]",
      "text/plain": [
       "<Figure size 1000x600 with 1 Axes>"
      ]
     },
     "metadata": {},
     "output_type": "display_data"
    }
   ],
   "source": [
    "hours = []\n",
    "temperatures = []\n",
    "for hourForecast in hourlyForecast:\n",
    "    hour = parser.parse(hourForecast[\"startTime\"][:19])\n",
    "    hours.append(hour)\n",
    "    temperatures.append(hourForecast[\"temperature\"])\n",
    "\n",
    "plt.figure(figsize=(10, 6))\n",
    "plt.scatter(hours, temperatures, color='coral', marker='o', s=10)\n",
    "plt.title('Hourly Temperature Forecast for Next Week')\n",
    "plt.xlabel('Time')\n",
    "plt.ylabel('Temperature (Fahrenheit)')\n",
    "plt.grid(True, which='both', color='lightgray')\n",
    "plt.gca().set_axisbelow(True)\n",
    "plt.gca().xaxis.set_major_locator(mdates.HourLocator(byhour=0))\n",
    "plt.gca().xaxis.set_major_formatter(mdates.DateFormatter('%b %d'))\n",
    "plt.gca().xaxis.set_minor_locator(mdates.HourLocator(byhour=12))\n",
    "plt.gca().xaxis.set_minor_formatter(mdates.DateFormatter(''))\n",
    "plt.tight_layout()\n",
    "plt.show()"
   ]
  },
  {
   "cell_type": "markdown",
   "metadata": {},
   "source": [
    "## 3. Get Alerts for a Location\n",
    "\n",
    "```{warning}\n",
    "\n",
    "Example use-cases and result outputs shown are for demonstration purposes only. The displayed results are for a specific example location and are **not** current. For live and up-to-date weather data, conditions, forecasts, and alerts in U.S. locations, visit the <a href=\"https://www.weather.gov/\" target=\"_blank\">National Weather Service website</a>.\n",
    "\n",
    "```\n",
    "\n",
    "The `/alerts` endpoint returns all alerts issued for a given location or area. The example below uses the `point` parameter to find all alerts for a pair of coordinates:"
   ]
  },
  {
   "cell_type": "code",
   "execution_count": 10,
   "metadata": {},
   "outputs": [
    {
     "data": {
      "text/plain": [
       "{'@context': {'@version': '1.1'},\n",
       " 'type': 'FeatureCollection',\n",
       " 'features': [],\n",
       " 'title': 'Current watches, warnings, and advisories for 33.211952 N, 87.54592 W',\n",
       " 'updated': '2025-03-21T14:00:00+00:00'}"
      ]
     },
     "execution_count": 10,
     "metadata": {},
     "output_type": "execute_result"
    }
   ],
   "source": [
    "latitude = '33.211952'\n",
    "longitude = '-87.545920'\n",
    "\n",
    "url = f'https://api.weather.gov/alerts/active?point={latitude},{longitude}'\n",
    "response = requests.get(url, headers=USER_AGENT).json()\n",
    "\n",
    "# Display response from API\n",
    "response"
   ]
  },
  {
   "cell_type": "markdown",
   "metadata": {},
   "source": [
    "Note that in the example above, there are no active alerts (*output data is for a specific location and is **not** current; visit the <a href=\"https://www.weather.gov/\" target=\"_blank\">National Weather Service website</a> for up-to-date information*).\n",
    "\n",
    "The example below uses the `area` parameter to find alerts for the state of Alabama:"
   ]
  },
  {
   "cell_type": "code",
   "execution_count": 11,
   "metadata": {
    "tags": [
     "output_scroll"
    ]
   },
   "outputs": [
    {
     "data": {
      "text/plain": [
       "{'id': 'https://api.weather.gov/alerts/urn:oid:2.49.0.1.840.0.81bdc5cba392ccdc980a3772eaa6b40432383b93.001.1',\n",
       " 'type': 'Feature',\n",
       " 'geometry': {'type': 'Polygon',\n",
       "  'coordinates': [[[-88.05, 32.31],\n",
       "    [-87.91, 32.32],\n",
       "    [-88.09, 31.78],\n",
       "    [-88.04, 31.6],\n",
       "    [-88.10000000000001, 31.6],\n",
       "    [-88.22000000000001, 31.78],\n",
       "    [-88.05, 32.31]]]},\n",
       " 'properties': {'@id': 'https://api.weather.gov/alerts/urn:oid:2.49.0.1.840.0.81bdc5cba392ccdc980a3772eaa6b40432383b93.001.1',\n",
       "  '@type': 'wx:Alert',\n",
       "  'id': 'urn:oid:2.49.0.1.840.0.81bdc5cba392ccdc980a3772eaa6b40432383b93.001.1',\n",
       "  'areaDesc': 'Choctaw, AL; Clarke, AL; Washington, AL',\n",
       "  'geocode': {'SAME': ['001023', '001025', '001129'],\n",
       "   'UGC': ['ALC023', 'ALC025', 'ALC129']},\n",
       "  'affectedZones': ['https://api.weather.gov/zones/county/ALC023',\n",
       "   'https://api.weather.gov/zones/county/ALC025',\n",
       "   'https://api.weather.gov/zones/county/ALC129'],\n",
       "  'references': [{'@id': 'https://api.weather.gov/alerts/urn:oid:2.49.0.1.840.0.9fc3b06a46c45e7f3c554aeac9af24d878679877.001.1',\n",
       "    'identifier': 'urn:oid:2.49.0.1.840.0.9fc3b06a46c45e7f3c554aeac9af24d878679877.001.1',\n",
       "    'sender': 'w-nws.webmaster@noaa.gov',\n",
       "    'sent': '2025-03-20T19:55:00-05:00'}],\n",
       "  'sent': '2025-03-21T09:45:00-05:00',\n",
       "  'effective': '2025-03-21T09:45:00-05:00',\n",
       "  'onset': '2025-03-21T09:45:00-05:00',\n",
       "  'expires': '2025-03-22T09:45:00-05:00',\n",
       "  'ends': '2025-03-22T12:08:00-05:00',\n",
       "  'status': 'Actual',\n",
       "  'messageType': 'Update',\n",
       "  'category': 'Met',\n",
       "  'severity': 'Severe',\n",
       "  'certainty': 'Observed',\n",
       "  'urgency': 'Immediate',\n",
       "  'event': 'Flood Warning',\n",
       "  'sender': 'w-nws.webmaster@noaa.gov',\n",
       "  'senderName': 'NWS Mobile AL',\n",
       "  'headline': 'Flood Warning issued March 21 at 9:45AM CDT until March 22 at 12:08PM CDT by NWS Mobile AL',\n",
       "  'description': '...The Flood Warning continues for the following rivers in Alabama...\\n\\nTombigbee River Near Coffeeville Dam affecting Choctaw, Clarke\\nand Washington Counties.\\n\\nFor the Tombigbee River...including Coffeeville Dam - Pool,\\nCoffeeville Dam, Leroy...Minor flooding is forecast.\\n\\n* WHAT...Minor flooding is occurring.\\n\\n* WHERE...Tombigbee River near Coffeeville Dam.\\n\\n* WHEN...Until early tomorrow afternoon.\\n\\n* IMPACTS...At 29.0 feet, pastureland becomes flooded. Livestock\\nshould be moved to higher ground. Old Ferry Road near the river\\nbegins to flood.\\n\\n* ADDITIONAL DETAILS...\\n- At 9:30 AM CDT Friday the stage was 30.5 feet.\\n- Forecast...The river is expected to fall below flood stage\\ntomorrow morning and continue falling to 13.7 feet Wednesday\\nmorning.\\n- Flood stage is 29.0 feet.\\n- http://www.weather.gov/safety/flood',\n",
       "  'instruction': \"Turn around, don't drown when encountering flooded roads. Most flood\\ndeaths occur in vehicles.\\n\\nAdditional information is available at www.weather.gov/mob.\\n\\nThe next statement will be issued when updates occur.\",\n",
       "  'response': 'Avoid',\n",
       "  'parameters': {'AWIPSidentifier': ['FLSMOB'],\n",
       "   'WMOidentifier': ['WGUS84 KMOB 211445'],\n",
       "   'NWSheadline': ['FLOOD WARNING NOW IN EFFECT UNTIL EARLY TOMORROW AFTERNOON'],\n",
       "   'BLOCKCHANNEL': ['EAS', 'NWEM', 'CMAS'],\n",
       "   'EAS-ORG': ['WXR'],\n",
       "   'VTEC': ['/O.EXT.KMOB.FL.W.0008.000000T0000Z-250322T1708Z/'],\n",
       "   'eventEndingTime': ['2025-03-22T17:08:00+00:00'],\n",
       "   'expiredReferences': ['w-nws.webmaster@noaa.gov,urn:oid:2.49.0.1.840.0.eaa1fbd6d1f7a24e80c19195beac80f006cb0e5e.001.1,2025-03-20T09:02:00-05:00 w-nws.webmaster@noaa.gov,urn:oid:2.49.0.1.840.0.f4b2046dc40dfd103e4b9487e462a2e864b20960.001.1,2025-03-19T20:43:00-05:00 w-nws.webmaster@noaa.gov,urn:oid:2.49.0.1.840.0.fe1011f7fbb0eb9ac53ccfbc03548dd517db62fe.001.1,2025-03-19T09:27:00-05:00 w-nws.webmaster@noaa.gov,urn:oid:2.49.0.1.840.0.c3912a0e2302b9f31ee0da7613296d2c82f00f00.001.1,2025-03-18T20:21:00-05:00 w-nws.webmaster@noaa.gov,urn:oid:2.49.0.1.840.0.8856bce35e98896bff960a8b1c55d2ca58f590e6.001.1,2025-03-18T10:23:00-05:00 w-nws.webmaster@noaa.gov,urn:oid:2.49.0.1.840.0.1b57560647f1ebc8812fd12763121773f5a185b4.001.1,2025-03-17T10:38:00-05:00 w-nws.webmaster@noaa.gov,urn:oid:2.49.0.1.840.0.0567914bf5ce26a10d61e981da956ca3528a9cd8.001.1,2025-03-17T00:47:00-05:00 w-nws.webmaster@noaa.gov,urn:oid:2.49.0.1.840.0.7b3cb47026c77c77ab451b7af5a1b504ac9a21bc.001.1,2025-03-16T13:56:00-05:00 w-nws.webmaster@noaa.gov,urn:oid:2.49.0.1.840.0.6073d3a1fa73db3cb5a578f1ff1c85ce6aa76c7b.001.1,2025-03-15T21:09:00-05:00']}}}"
      ]
     },
     "execution_count": 11,
     "metadata": {},
     "output_type": "execute_result"
    }
   ],
   "source": [
    "state = 'AL'\n",
    "\n",
    "url = f'https://api.weather.gov/alerts/active?area={state}'\n",
    "response = requests.get(url, headers=USER_AGENT).json()\n",
    "\n",
    "# Display response from API\n",
    "response['features'][0]"
   ]
  },
  {
   "cell_type": "code",
   "execution_count": 12,
   "metadata": {},
   "outputs": [
    {
     "name": "stdout",
     "output_type": "stream",
     "text": [
      "Flood Warning issued March 21 at 9:45AM CDT until March 22 at 12:08PM CDT by NWS Mobile AL\n",
      "Flood Warning issued March 21 at 9:44AM CDT until March 22 at 11:00PM CDT by NWS Mobile AL\n"
     ]
    }
   ],
   "source": [
    "for event in response['features']:\n",
    "    print(event['properties']['headline'])"
   ]
  },
  {
   "cell_type": "markdown",
   "metadata": {},
   "source": [
    "*Output data is for a specific location and is **not** current; visit the <a href=\"https://www.weather.gov/\" target=\"_blank\">National Weather Service website</a> for up-to-date information.*"
   ]
  }
 ],
 "metadata": {
  "kernelspec": {
   "display_name": "api_env",
   "language": "python",
   "name": "python3"
  },
  "language_info": {
   "codemirror_mode": {
    "name": "ipython",
    "version": 3
   },
   "file_extension": ".py",
   "mimetype": "text/x-python",
   "name": "python",
   "nbconvert_exporter": "python",
   "pygments_lexer": "ipython3",
   "version": "3.13.1"
  },
  "orig_nbformat": 4
 },
 "nbformat": 4,
 "nbformat_minor": 2
}
