{
 "cells": [
  {
   "cell_type": "markdown",
   "metadata": {},
   "source": [
    "# National Park Service API in Python\n",
    "\n",
    "By Nathaniel Pedigo, Michael T. Moen, and Avery Fernandez\n",
    "\n",
    "This API is managed by the National Park Service (NPS) of the United States of America. It contains pertinent information about the national parks, monuments, and other sites managed by the NPS. This API is free to use with an API key.\n",
    "- \"All sample data and information is attributed to National Park Service via the API service, no protection is claimed in original U.S. Government works.\"\n",
    "\n",
    "Please see the following resources for more information on API usage:\n",
    "- Documentation\n",
    "  - <a href=\"https://www.nps.gov/subjects/developer/api-documentation.htm\" target=\"_blank\">NPS API Documentation</a>\n",
    "  - <a href=\"https://www.nps.gov/subjects/developer/guides.htm\" target=\"_blank\">NPS API Guides</a>\n",
    "- Terms\n",
    "  - <a href=\"https://www.nps.gov/aboutus/disclaimer.htm\" target=\"_blank\">NPS Disclaimer</a>\n",
    "- Data Reuse\n",
    "  - <a href=\"https://nationalparkservice.github.io/DRR_Template/PurposeAndScope.html\" target=\"_blank\">NPS Data Release Reports</a>\n",
    "  - <a href=\"https://home.nps.gov/subjects/digital/structured-data.htm\" target=\"_blank\">Structured Data: Sharing Our Information</a>\n",
    "\n",
    "_**NOTE:**_ The National Park Service API limits requests to a maximum of 1000 requests per hour.\n",
    "\n",
    "*These recipe examples were tested on May 7, 2025.* "
   ]
  },
  {
   "cell_type": "markdown",
   "metadata": {},
   "source": [
    "## Setup\n",
    "\n",
    "### Import Libraries\n",
    "\n",
    "The following external libraries need to be installed into your enviornment to run the code examples in this tutorial:\n",
    "* <a href=\"https://github.com/psf/requests\" target=\"_blank\">requests</a>\n",
    "* <a href=\"https://github.com/theskumar/python-dotenv\" target=\"_blank\">python-dotenv</a>\n",
    "* <a href=\"https://github.com/ipython/ipykernel\" target=\"_blank\">ipykernel</a>\n",
    "* <a href=\"https://github.com/matplotlib/matplotlib\" target=\"_blank\">matplotlib</a>\n",
    "\n",
    "We import the libraries used in this tutorial below:"
   ]
  },
  {
   "cell_type": "code",
   "execution_count": 1,
   "metadata": {},
   "outputs": [],
   "source": [
    "import requests\n",
    "import matplotlib.pyplot as plt\n",
    "from time import sleep\n",
    "from pprint import pprint\n",
    "from dotenv import load_dotenv\n",
    "import os"
   ]
  },
  {
   "cell_type": "markdown",
   "metadata": {},
   "source": [
    "### Import API Key\n",
    "\n",
    "An API key is required to access the National Park Service API. You can sign up for one at the <a href=\"https://www.nps.gov/subjects/developer/get-started.htm\" target=\"_blank\">National Park Service API Get Started Page</a>.\n",
    "\n",
    "We keep our API key in a separate file, a `.env` file, and use the `dotenv` library to access it. If you use this method, create a file named `.env` in the same directory as this notebook and add the following line to it:\n",
    "\n",
    "```text\n",
    "NPS_API_KEY=PUT_YOUR_API_KEY_HERE\n",
    "```"
   ]
  },
  {
   "cell_type": "code",
   "execution_count": 2,
   "metadata": {},
   "outputs": [
    {
     "name": "stdout",
     "output_type": "stream",
     "text": [
      "Environment and API key successfully loaded.\n"
     ]
    }
   ],
   "source": [
    "load_dotenv()\n",
    "try:\n",
    "    API_KEY = os.environ[\"NPS_API_KEY\"]\n",
    "except KeyError:\n",
    "    print(\"API key not found. Please set 'NPS_API_KEY' in your .env file.\")\n",
    "else:\n",
    "    print(\"Environment and API key successfully loaded.\")"
   ]
  },
  {
   "cell_type": "markdown",
   "metadata": {},
   "source": [
    "## 1. Find the NPS Parks in a State\n",
    "\n",
    "Count the number of National Park Service parks in Alabama.\n",
    "\n",
    "We use the following parameters in our API query:\n",
    "- `stateCode` specifies the two letter code of the state being used as a filter. Note that the codes for U.S. territories can also be used (e.g. `DC` for the District of Columbia and `MP` for the Northern Mariana Islands).\n",
    "- `limit` specifies the maximum number of results to return in a request. It is set to 50 by default.\n",
    "\n",
    "The NPS API allows for a number of parameters to be specified, including the state, the type of site, and the number of results returned. For this example, we will be using the state of Alabama, the type of site as national parks, and the maximum number of results returned as 200. "
   ]
  },
  {
   "cell_type": "code",
   "execution_count": 3,
   "metadata": {},
   "outputs": [],
   "source": [
    "BASE_URL = \"https://developer.nps.gov/api/v1/\"\n",
    "state = \"AL\"\n",
    "limit = 200\n",
    "\n",
    "endpoint = \"parks\"\n",
    "params = {\n",
    "    \"stateCode\": state,\n",
    "    \"limit\": limit,\n",
    "    \"api_key\": API_KEY\n",
    "}"
   ]
  },
  {
   "cell_type": "markdown",
   "metadata": {},
   "source": [
    "Next, we use `requests.get()` to make the API call.\n",
    "\n",
    "Then, we must check that the request was performed successfully. The request returns a JSON object, which we can parse using the `json()` function."
   ]
  },
  {
   "cell_type": "code",
   "execution_count": 4,
   "metadata": {},
   "outputs": [
    {
     "name": "stdout",
     "output_type": "stream",
     "text": [
      "{'data': [...], 'limit': '200', 'start': '0', 'total': '11'}\n"
     ]
    }
   ],
   "source": [
    "try:\n",
    "    response = requests.get(f\"{BASE_URL}{endpoint}\", params=params)\n",
    "    # Raise an error for bad responses\n",
    "    response.raise_for_status()\n",
    "    data = response.json()\n",
    "    pprint(data, depth=1)\n",
    "except requests.exceptions.RequestException as e:\n",
    "    print(f\"An error occurred: {e}\")\n",
    "    data = None"
   ]
  },
  {
   "cell_type": "markdown",
   "metadata": {},
   "source": [
    "Finally, we can print our result:"
   ]
  },
  {
   "cell_type": "code",
   "execution_count": 6,
   "metadata": {},
   "outputs": [
    {
     "name": "stdout",
     "output_type": "stream",
     "text": [
      "The number of NPS managed lands in AL is 11.\n"
     ]
    }
   ],
   "source": [
    "print(f\"The number of NPS managed lands in {state} is {data[\"total\"]}.\")"
   ]
  },
  {
   "cell_type": "markdown",
   "metadata": {},
   "source": [
    "Note that none of the parks returned are National Parks, but other designations. See the <a href=\"https://www.nps.gov/aboutus/national-park-system.htm\" target=\"_blank\">National Park Service website</a> to learn more about these designations."
   ]
  },
  {
   "cell_type": "code",
   "execution_count": 7,
   "metadata": {},
   "outputs": [
    {
     "name": "stdout",
     "output_type": "stream",
     "text": [
      "Park Name                                     Designation\n",
      "\n",
      "Birmingham Civil Rights National Monument     National Monument\n",
      "Freedom Riders National Monument              National Monument\n",
      "Horseshoe Bend National Military Park         National Military Park\n",
      "Little River Canyon National Preserve         National Preserve\n",
      "Natchez Trace National Scenic Trail           National Scenic Trail\n",
      "Natchez Trace Parkway                         Parkway\n",
      "Russell Cave National Monument                National Monument\n",
      "Selma To Montgomery National Historic Trail   National Historic Trail\n",
      "Trail Of Tears National Historic Trail        National Historic Trail\n",
      "Tuskegee Airmen National Historic Site        National Historic Site\n",
      "Tuskegee Institute National Historic Site     National Historic Site\n"
     ]
    }
   ],
   "source": [
    "print(f\"{\"Park Name\":<45} Designation\\n\")\n",
    "for park in data[\"data\"]:\n",
    "    print(f\"{park[\"fullName\"]:<45} {park[\"designation\"]}\")"
   ]
  },
  {
   "cell_type": "markdown",
   "metadata": {},
   "source": [
    "## 2. Finding the Number of Parking Lots Created by NPS Entities by State\n",
    "\n",
    "In this example, we look at the number of \"parking lots created by national parks and other NPS entities\" by state using the `parkinglots` endpoint:"
   ]
  },
  {
   "cell_type": "code",
   "execution_count": 8,
   "metadata": {},
   "outputs": [
    {
     "name": "stdout",
     "output_type": "stream",
     "text": [
      "{'data': [...], 'limit': '200', 'start': '0', 'total': '17'}\n"
     ]
    }
   ],
   "source": [
    "# Parameters for finding parking lot data for Alabama\n",
    "endpoint = \"parkinglots\"\n",
    "params = {\n",
    "    \"stateCode\": \"AL\",\n",
    "    \"limit\": 200,\n",
    "    \"api_key\": API_KEY\n",
    "}\n",
    "\n",
    "try:\n",
    "    response = requests.get(f\"{BASE_URL}{endpoint}\", params=params)\n",
    "    # Raise an error for bad responses\n",
    "    response.raise_for_status()\n",
    "    data = response.json()\n",
    "    pprint(data, depth=1)\n",
    "except requests.exceptions.RequestException as e:\n",
    "    print(f\"An error occurred: {e}\")\n",
    "    data = None"
   ]
  },
  {
   "cell_type": "markdown",
   "metadata": {},
   "source": [
    "Next, we'll loop through each state to find the total number of parking lots for each:"
   ]
  },
  {
   "cell_type": "code",
   "execution_count": 10,
   "metadata": {},
   "outputs": [],
   "source": [
    "# Create a list of all state abbreviations in the United States\n",
    "states = [\"AL\", \"AK\", \"AZ\", \"AR\", \"CA\", \"CO\", \"CT\", \"DE\", \"FL\", \"GA\",\n",
    "          \"HI\", \"ID\", \"IL\", \"IN\", \"IA\", \"KS\", \"KY\", \"LA\", \"ME\", \"MD\",\n",
    "          \"MA\", \"MI\", \"MN\", \"MS\", \"MO\", \"MT\", \"NE\", \"NV\", \"NH\", \"NJ\",\n",
    "          \"NM\", \"NY\", \"NC\", \"ND\", \"OH\", \"OK\", \"OR\", \"PA\", \"RI\", \"SC\",\n",
    "          \"SD\", \"TN\", \"TX\", \"UT\", \"VT\", \"VA\", \"WA\", \"WV\", \"WI\", \"WY\"]\n",
    "\n",
    "# Create an empty dictionary to store the total number of parking lots per state\n",
    "parking_lots = {}\n",
    "\n",
    "for state in states:\n",
    "\n",
    "    params = {\n",
    "        \"stateCode\": state,\n",
    "        \"limit\": 200,\n",
    "        \"api_key\": API_KEY\n",
    "    }\n",
    "\n",
    "    try:\n",
    "        response = requests.get(f\"{BASE_URL}{endpoint}\", params=params)\n",
    "        # Raise an error for bad responses\n",
    "        response.raise_for_status()\n",
    "        data = response.json()\n",
    "    except requests.exceptions.RequestException as e:\n",
    "        print(f\"An error occurred: {e}\")\n",
    "        data = None\n",
    "    \n",
    "    if data:\n",
    "        # Extract the total number of NPS parking lots in the state\n",
    "        total = int(data[\"total\"])\n",
    "        # Add the total to the parking_lots list\n",
    "        parking_lots[state] = total\n",
    "    else:\n",
    "        # If the data is None, set the total to -1\n",
    "        parking_lots[state] = -1\n",
    "    \n",
    "    # Delay for some period between between API calls\n",
    "    sleep(0.75)"
   ]
  },
  {
   "cell_type": "code",
   "execution_count": 11,
   "metadata": {},
   "outputs": [],
   "source": [
    "# Create a list of the top 5 states with the most parking lots using\n",
    "states_sorted = sorted(parking_lots.items(), key=lambda item: item[1], reverse=True)"
   ]
  },
  {
   "cell_type": "code",
   "execution_count": 12,
   "metadata": {},
   "outputs": [
    {
     "name": "stdout",
     "output_type": "stream",
     "text": [
      "Top 5 States by NPS Parking Lots:\n",
      "CA: 64\n",
      "GA: 51\n",
      "PA: 49\n",
      "AZ: 44\n",
      "VA: 42\n"
     ]
    }
   ],
   "source": [
    "print(\"Top 5 States by NPS Parking Lots:\")\n",
    "for state in states_sorted[:5]:\n",
    "    print(f\"{state[0]}: {state[1]}\")"
   ]
  },
  {
   "cell_type": "code",
   "execution_count": 13,
   "metadata": {},
   "outputs": [
    {
     "data": {
      "image/png": "[encoded data removed]",
      "text/plain": [
       "<Figure size 640x480 with 1 Axes>"
      ]
     },
     "metadata": {},
     "output_type": "display_data"
    }
   ],
   "source": [
    "# Extract keys and values for plotting\n",
    "states_top25 = [state[0] for state in states_sorted[:25]]\n",
    "values_top25 = [state[1] for state in states_sorted[:25]]\n",
    "\n",
    "# Create a bar chart\n",
    "plt.bar(states_top25, values_top25, color='limegreen')\n",
    "plt.title(\"NPS Parking Lots by State\")\n",
    "plt.xlabel(\"State\")\n",
    "plt.ylabel(\"Number of Parking Lots\")\n",
    "plt.xticks(fontsize=7)\n",
    "plt.yticks(fontsize=7)\n",
    "plt.show()"
   ]
  },
  {
   "cell_type": "markdown",
   "metadata": {},
   "source": [
    "## 3. Finding Campground Addresses\n",
    "\n",
    "Prompt the user for a state, then a selection of the parks in that state. Return the addresses of all campgrounds in the specified park."
   ]
  },
  {
   "cell_type": "code",
   "execution_count": 15,
   "metadata": {},
   "outputs": [
    {
     "name": "stdout",
     "output_type": "stream",
     "text": [
      "Available NPS managed lands in WY:\n",
      "1. Bighorn Canyon National Recreation Area\n",
      "2. California National Historic Trail\n",
      "3. Devils Tower National Monument\n",
      "4. Fort Laramie National Historic Site\n",
      "5. Fossil Butte National Monument\n",
      "6. Grand Teton National Park\n",
      "7. Mormon Pioneer National Historic Trail\n",
      "8. Oregon National Historic Trail\n",
      "9. Pony Express National Historic Trail\n",
      "10. Yellowstone National Park\n"
     ]
    }
   ],
   "source": [
    "state = \"\"\n",
    "endpoint = \"parks\"\n",
    "\n",
    "# Prompt user for a state code using the states list from Section 2\n",
    "while state not in states:\n",
    "    state = input(\"Enter a valid state code: \")\n",
    "\n",
    "params = {\n",
    "    \"stateCode\": state,\n",
    "    \"limit\": 150,\n",
    "    \"api_key\": API_KEY\n",
    "}\n",
    "\n",
    "# Perform the API call\n",
    "try:\n",
    "    response = requests.get(f\"{BASE_URL}{endpoint}\", params=params)\n",
    "    # Raise an error for bad responses\n",
    "    response.raise_for_status()\n",
    "    data = response.json()\n",
    "except requests.exceptions.RequestException as e:\n",
    "    print(f\"An error occurred: {e}\")\n",
    "    data = None\n",
    "\n",
    "# Offer user a selection from available parks within specified state\n",
    "parks = data[\"data\"]\n",
    "park_names = [park[\"fullName\"] for park in parks]\n",
    "park_codes = [park[\"parkCode\"] for park in parks]\n",
    "\n",
    "print(f\"Available NPS managed lands in {state}:\")\n",
    "for i, park_name in enumerate(park_names):\n",
    "    print(f\"{i+1}. {park_name}\")"
   ]
  },
  {
   "cell_type": "code",
   "execution_count": 16,
   "metadata": {
    "tags": [
     "output_scroll"
    ]
   },
   "outputs": [
    {
     "name": "stdout",
     "output_type": "stream",
     "text": [
      "There are 12 campgrounds in Yellowstone National Park.\n",
      "\n",
      "Name: Bridge Bay Campground\n",
      "Address: GPS Coordinates: N 44 32.070 W 110 26.218 Yellowstone National Park,                            WY 82190\n",
      "\n",
      "Name: Canyon Campground\n",
      "Address: GPS Coordinates: N 44 44.118 W110 29 17 Yellowstone National Park,                            WY 82190\n",
      "\n",
      "Name: Fishing Bridge RV Park\n",
      "Address: GPS Coordinates: N 44 33.820 W 110 22.167 Yellowstone National Park,                            WY 82190\n",
      "\n",
      "Name: Grant Village Campground\n",
      "Address: GPS Coordinates-- N 44 23.610 W 110 33.769 Yellowstone National Park,                            WY 82190\n",
      "\n",
      "Name: Indian Creek Campground\n",
      "Address: GPS Coordinates--N: 44  53.22138 W: 110 44.16414 Yellowstone National Park,                            WY 82190\n",
      "\n",
      "Name: Lewis Lake Campground\n",
      "Address: GPS Coordinates-- N 44.2822056, W -110.6279873 Yellowstone National Park,                            WY 82190\n",
      "\n",
      "Name: Madison Campground\n",
      "Address: N 44 38.725 W 110 51.687 Yellowstone National Park,                            WY 82190\n",
      "\n",
      "Name: Mammoth Campground\n",
      "Address: GPS Coordinates N 44 58.4166 W 110.41.59392 Yellowstone National Park,                            WY 82190\n",
      "\n",
      "Name: Norris Campground\n",
      "Address: GPS Coordinates: N 44  44.27088 W 110  41.6169 Yellowstone National Park,                            WY 82190\n",
      "\n",
      "Name: Pebble Creek Campground\n",
      "Address: GPS Coordinates -- N 44  55.01886 W 110  6.82848 Yellowstone National Park,                            WY 82190\n",
      "\n",
      "Name: Slough Creek Campground\n",
      "Address: GPS Coordinates -- N: 44.9488466 W:-110.3068792 Yellowstone National Park,                            WY 82190\n",
      "\n",
      "Name: Tower Fall Campground\n",
      "Address: GPS Coordinates N: 44 53.373 W 110 23.36856 Yellowstone National Park,                            WY 82190\n"
     ]
    }
   ],
   "source": [
    "# Prompt to pick a park\n",
    "park_choice = 0\n",
    "while (park_choice < 1) or (park_choice > len(park_names)):\n",
    "    park_choice = int(input(f\"Enter the number of the park you would \\\n",
    "                               like to explore (1-{len(park_names)}): \"))\n",
    "\n",
    "# Get the park code for the selected park\n",
    "park_code = park_codes[park_choice-1]\n",
    "park_name = park_names[park_choice-1]\n",
    "\n",
    "# Create the endpoint URL with the park code\n",
    "params = {\n",
    "    \"parkCode\": park_code,\n",
    "    \"api_key\": API_KEY\n",
    "}\n",
    "endpoint = \"campgrounds\"\n",
    "\n",
    "# Perform the API call\n",
    "try:\n",
    "    response = requests.get(f\"{BASE_URL}{endpoint}\", params=params)\n",
    "    # Raise an error for bad responses\n",
    "    response.raise_for_status()\n",
    "    data = response.json()\n",
    "except requests.exceptions.RequestException as e:\n",
    "    print(f\"An error occurred: {e}\")\n",
    "    data = None\n",
    "\n",
    "# Extract the total number of campgrounds in the park\n",
    "if data:\n",
    "    campgrounds = data[\"data\"]\n",
    "    total = data[\"total\"]\n",
    "\n",
    "    print(f\"There are {total} campgrounds in {park_name}.\")\n",
    "\n",
    "    # Print the names and addresses of the campgrounds\n",
    "    if int(total) > 0:\n",
    "        for campground in campgrounds:\n",
    "            print(f\"\\nName: {campground['name']}\")\n",
    "            \n",
    "            for address in campground[\"addresses\"]:\n",
    "                if address[\"type\"] == \"Physical\":\n",
    "                    print(f\"Address: {address['line1']} {address['city']}, \\\n",
    "                           {address['stateCode']} {address['postalCode']}\")"
   ]
  },
  {
   "cell_type": "markdown",
   "metadata": {},
   "source": [
    "## 4. Finding Locations with Restrooms within a Park\n",
    "\n",
    "Prompt the user for a state, then a selection of the parks in that state. Return the names of all locations in the park that have restrooms listed as an amenity."
   ]
  },
  {
   "cell_type": "code",
   "execution_count": 17,
   "metadata": {},
   "outputs": [
    {
     "name": "stdout",
     "output_type": "stream",
     "text": [
      "Parks in the specified state:\n",
      "1. Butterfield Overland National Historic Trail\n",
      "2. California National Historic Trail\n",
      "3. Gateway Arch National Park\n",
      "4. George Washington Carver National Monument\n",
      "5. Harry S Truman National Historic Site\n",
      "6. Lewis & Clark National Historic Trail\n",
      "7. Oregon National Historic Trail\n",
      "8. Ozark National Scenic Riverways\n",
      "9. Pony Express National Historic Trail\n",
      "10. Santa Fe National Historic Trail\n",
      "11. Ste. Geneviève National Historical Park\n",
      "12. Trail Of Tears National Historic Trail\n",
      "13. Ulysses S Grant National Historic Site\n",
      "14. Wilson's Creek National Battlefield\n"
     ]
    }
   ],
   "source": [
    "state = \"\"\n",
    "\n",
    "# Prompt user for a state code\n",
    "while state not in states:\n",
    "    state = input(\"Enter a valid state code: \")\n",
    "\n",
    "# Create the endpoint URL with the state code\n",
    "endpoint = \"parks\"\n",
    "params = {\n",
    "    \"stateCode\": state,\n",
    "    \"limit\": 50,\n",
    "    \"api_key\": API_KEY\n",
    "}\n",
    "\n",
    "# Perform the API call\n",
    "try:\n",
    "    response = requests.get(f\"{BASE_URL}{endpoint}\", params=params)\n",
    "    # Raise an error for bad responses\n",
    "    response.raise_for_status()\n",
    "    data = response.json()\n",
    "except requests.exceptions.RequestException as e:\n",
    "    print(f\"An error occurred: {e}\")\n",
    "    data = None\n",
    "\n",
    "# Offer user a selection from available parks within specified state\n",
    "if data:\n",
    "    parks = data[\"data\"]\n",
    "    park_names = [park[\"fullName\"] for park in parks]\n",
    "    park_codes = [park[\"parkCode\"] for park in parks]\n",
    "    print(\"Parks in the specified state:\")\n",
    "    for i, park_name in enumerate(park_names):\n",
    "        print(f\"{i+1}. {park_name}\")"
   ]
  },
  {
   "cell_type": "code",
   "execution_count": 18,
   "metadata": {},
   "outputs": [
    {
     "name": "stdout",
     "output_type": "stream",
     "text": [
      "The following locations in Ulysses S Grant National Historic Site have restrooms:\n",
      "\n",
      "Grant's Farm\n",
      "Jefferson Barracks\n",
      "Thomas Sappington House Museum\n",
      "White Haven\n"
     ]
    }
   ],
   "source": [
    "# Prompt to pick a park\n",
    "park_choice = 0\n",
    "while (park_choice < 1) or (park_choice > len(park_names)):\n",
    "    park_choice = int(input(f\"Enter the number of the park you would like \\\n",
    "                               to explore (1-{len(park_names)}): \"))\n",
    "\n",
    "# Get the park code for the selected park\n",
    "park_code = park_codes[park_choice-1]\n",
    "park_name = park_names[park_choice-1]\n",
    "\n",
    "# Create the endpoint URL with the park code\n",
    "endpoint = \"places\"\n",
    "params = {\n",
    "    \"parkCode\": park_code,\n",
    "    \"api_key\": API_KEY\n",
    "}\n",
    "\n",
    "# Perform the API call\n",
    "try:\n",
    "    response = requests.get(f\"{BASE_URL}{endpoint}\", params=params)\n",
    "    # Raise an error for bad responses\n",
    "    response.raise_for_status()\n",
    "    data = response.json()\n",
    "except requests.exceptions.RequestException as e:\n",
    "    print(f\"An error occurred: {e}\")\n",
    "    data = None\n",
    "\n",
    "# Extract all locations in the park\n",
    "if data:\n",
    "    if(data[\"total\"] == 0):\n",
    "        print(f\"There are no locations in {park_name}.\")\n",
    "    else:\n",
    "        cell_locations = []\n",
    "\n",
    "        for location in data[\"data\"]:\n",
    "            if \"Restroom\" in location[\"amenities\"]:\n",
    "                cell_locations.append(location[\"title\"])\n",
    "\n",
    "        if cell_locations:\n",
    "            print(f\"The following locations in {park_name} have restrooms:\\n\")\n",
    "            for location in cell_locations:\n",
    "                print(location)\n",
    "        else:\n",
    "            print(f\"There are no locations in {park_name} with restrooms.\")"
   ]
  }
 ],
 "metadata": {
  "kernelspec": {
   "display_name": "api_env",
   "language": "python",
   "name": "python3"
  },
  "language_info": {
   "codemirror_mode": {
    "name": "ipython",
    "version": 3
   },
   "file_extension": ".py",
   "mimetype": "text/x-python",
   "name": "python",
   "nbconvert_exporter": "python",
   "pygments_lexer": "ipython3",
   "version": "3.13.2"
  },
  "orig_nbformat": 4
 },
 "nbformat": 4,
 "nbformat_minor": 2
}
