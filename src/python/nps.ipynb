{
 "cells": [
  {
   "cell_type": "markdown",
   "metadata": {},
   "source": [
    "# National Park Service API in Python\n",
    "\n",
    "by Nathaniel Pedigo\n",
    "\n",
    "**National Park Service documentation:** [https://www.nps.gov/subjects/developer/api-documentation.htm](https://www.nps.gov/subjects/developer/api-documentation.htm)\n",
    "\n",
    "**National Park Service terms of use and disclaimer:** [https://www.nps.gov/aboutus/disclaimer.htm](https://www.nps.gov/aboutus/disclaimer.htm)\n",
    "\n",
    "This API is managed by the National Park Service (NPS) of the United States of America. It contains pertinent information about the national parks, monuments, and other sites managed by the NPS. This API is free to use with an API key.\n",
    "\n",
    "*These recipe examples were tested on October 11, 2024.*\n",
    "\n",
    "**_NOTE:_** The National Park Service API limits requests to a maximum of 1000 requests per hour: https://www.nps.gov/subjects/developer/guides.htm"
   ]
  },
  {
   "cell_type": "markdown",
   "metadata": {},
   "source": [
    "## Setup"
   ]
  },
  {
   "cell_type": "markdown",
   "metadata": {},
   "source": [
    "### API Key\n",
    "\n",
    "An API key is required to access the National Park Service API. Sign up can be found here: [https://www.nps.gov/subjects/developer/get-started.htm](https://www.nps.gov/subjects/developer/get-started.htm).\n",
    "\n",
    "Add your API key below:"
   ]
  },
  {
   "cell_type": "code",
   "execution_count": 2,
   "metadata": {},
   "outputs": [],
   "source": [
    "key = \"\""
   ]
  },
  {
   "cell_type": "markdown",
   "metadata": {},
   "source": [
    "Alternatively, you can save the above data in a separate python file and import it:"
   ]
  },
  {
   "cell_type": "code",
   "execution_count": 3,
   "metadata": {},
   "outputs": [],
   "source": [
    "from api_key import key"
   ]
  },
  {
   "cell_type": "markdown",
   "metadata": {},
   "source": [
    "### Import Libraries\n",
    "\n",
    "First step is to import the necessary libraries. We will be using the `requests` library to make the API calls, the `matplotlib` library to create data visualizations, and the 'numpy' library to assist in the creation of the data visualizations. If you are more familiar with Python and would prefer a different method of data visualization, feel free to use that instead. Additionally, as the API returns data in JSON format, we will be using the `json` library to parse the data."
   ]
  },
  {
   "cell_type": "code",
   "execution_count": 4,
   "metadata": {},
   "outputs": [],
   "source": [
    "import requests\n",
    "import matplotlib.pyplot as plt\n",
    "from time import sleep\n",
    "from pprint import pprint"
   ]
  },
  {
   "cell_type": "markdown",
   "metadata": {},
   "source": [
    "## 1. Find the Number of NPS Lands in a State\n",
    "\n",
    "Count the number of National Park Service managed lands in Alabama.\n",
    "\n",
    "Once we have specified the headers, we can begin to specify the parameters of the API call. The NPS API allows for a number of parameters to be specified, including the state, the type of site, and the number of results returned. For this example, we will be using the state of Alabama, the type of site as national parks, and the maximum number of results returned as 200. "
   ]
  },
  {
   "cell_type": "code",
   "execution_count": 5,
   "metadata": {},
   "outputs": [],
   "source": [
    "state = \"AL\"\n",
    "limit = 200\n",
    "\n",
    "query = f\"parks?stateCode={state}&limit={limit}\"\n",
    "endpoint = f\"https://developer.nps.gov/api/v1/{query}&api_key={key}\" "
   ]
  },
  {
   "cell_type": "markdown",
   "metadata": {},
   "source": [
    "Next, we use `requests.get()` to make the API call:"
   ]
  },
  {
   "cell_type": "code",
   "execution_count": 6,
   "metadata": {},
   "outputs": [],
   "source": [
    "response = requests.get(endpoint)"
   ]
  },
  {
   "cell_type": "markdown",
   "metadata": {},
   "source": [
    "First, we must check that the request was performed successfully. The `status_code` field of the response can give us insight into any errors that may occur. The request returns a JSON object, which we can parse using the `json()` function. This function returns a dictionary, which we can then use to access the data we need."
   ]
  },
  {
   "cell_type": "code",
   "execution_count": 7,
   "metadata": {},
   "outputs": [
    {
     "name": "stdout",
     "output_type": "stream",
     "text": [
      "{'data': [...], 'limit': '200', 'start': '0', 'total': '11'}\n"
     ]
    }
   ],
   "source": [
    "if response.status_code == 200:\n",
    "    # Parse the JSON response\n",
    "    data = response.json()\n",
    "\n",
    "    # Print the first level of the JSON response\n",
    "    pprint(data, depth=1)\n",
    "else:\n",
    "    # Print an error message if the request was not successful\n",
    "    print(f\"Error: {response.status_code}, {response.text}\")"
   ]
  },
  {
   "cell_type": "markdown",
   "metadata": {},
   "source": [
    "From the response above, we can see that the total number of returned data items is 11, as indicated by `data[\"total\"]`. To confirm, we can check the length of `data[\"data\"]`, which holds the data for each returned NPS managed land:"
   ]
  },
  {
   "cell_type": "code",
   "execution_count": 8,
   "metadata": {},
   "outputs": [
    {
     "data": {
      "text/plain": [
       "11"
      ]
     },
     "execution_count": 8,
     "metadata": {},
     "output_type": "execute_result"
    }
   ],
   "source": [
    "len(data[\"data\"])"
   ]
  },
  {
   "cell_type": "markdown",
   "metadata": {},
   "source": [
    "Finally, we can print our result:"
   ]
  },
  {
   "cell_type": "code",
   "execution_count": 9,
   "metadata": {},
   "outputs": [
    {
     "name": "stdout",
     "output_type": "stream",
     "text": [
      "The number of NPS managed lands in AL is 11.\n"
     ]
    }
   ],
   "source": [
    "print(f\"The number of NPS managed lands in {state} is {data[\"total\"]}.\")"
   ]
  },
  {
   "cell_type": "markdown",
   "metadata": {},
   "source": [
    "## 2. Finding the Number of NPS Owned Parking Lots by State\n",
    "\n",
    "In this example, we look at the number of NPS-owned parking lots by state using the `parkinglots` endpoint:"
   ]
  },
  {
   "cell_type": "code",
   "execution_count": 10,
   "metadata": {},
   "outputs": [
    {
     "name": "stdout",
     "output_type": "stream",
     "text": [
      "{'data': [...], 'limit': '200', 'start': '0', 'total': '11'}\n"
     ]
    }
   ],
   "source": [
    "# URL for Alabama\n",
    "url = f\"https://developer.nps.gov/api/v1/parkinglots?stateCode=AL&limit=200&api_key={key}\"\n",
    "response = requests.get(endpoint)\n",
    "\n",
    "pprint(response.json(), depth=1)"
   ]
  },
  {
   "cell_type": "markdown",
   "metadata": {},
   "source": [
    "Next, we'll loop through each state to find the total number of parking lots for each:"
   ]
  },
  {
   "cell_type": "code",
   "execution_count": 11,
   "metadata": {},
   "outputs": [],
   "source": [
    "# Create a list of all state abbreviations in the United States\n",
    "states = [\"AL\", \"AK\", \"AZ\", \"AR\", \"CA\", \"CO\", \"CT\", \"DE\", \"FL\", \"GA\",\n",
    "          \"HI\", \"ID\", \"IL\", \"IN\", \"IA\", \"KS\", \"KY\", \"LA\", \"ME\", \"MD\",\n",
    "          \"MA\", \"MI\", \"MN\", \"MS\", \"MO\", \"MT\", \"NE\", \"NV\", \"NH\", \"NJ\",\n",
    "          \"NM\", \"NY\", \"NC\", \"ND\", \"OH\", \"OK\", \"OR\", \"PA\", \"RI\", \"SC\",\n",
    "          \"SD\", \"TN\", \"TX\", \"UT\", \"VT\", \"VA\", \"WA\", \"WV\", \"WI\", \"WY\"]\n",
    "\n",
    "# Create an empty dictionary to store the total number of parking lots per state\n",
    "parking_lots = {}\n",
    "\n",
    "for state in states:\n",
    "\n",
    "    endpoint = f\"https://developer.nps.gov/api/v1/parkinglots?stateCode={state}&limit=200&api_key={key}\"\n",
    "    response = requests.get(endpoint)\n",
    "\n",
    "    # Extract the total number of national parks in the state\n",
    "    total = int(response.json()[\"total\"])\n",
    "\n",
    "    # Add the total to the parking_lots list\n",
    "    parking_lots[state] = total\n",
    "\n",
    "    # Delay for some period between between API calls\n",
    "    sleep(0.75)"
   ]
  },
  {
   "cell_type": "code",
   "execution_count": 12,
   "metadata": {},
   "outputs": [],
   "source": [
    "# Create a list of the top 5 states with the most parking lots using stateDict sorted on values\n",
    "stateDictSorted = sorted(parking_lots.items(), key=lambda item: item[1], reverse=True)"
   ]
  },
  {
   "cell_type": "code",
   "execution_count": 13,
   "metadata": {},
   "outputs": [
    {
     "name": "stdout",
     "output_type": "stream",
     "text": [
      "Top 5 States by NPS Parking Lots:\n",
      "CA: 59\n",
      "GA: 50\n",
      "AZ: 43\n",
      "VA: 42\n",
      "FL: 34\n"
     ]
    }
   ],
   "source": [
    "print(\"Top 5 States by NPS Parking Lots:\")\n",
    "for state in stateDictSorted[:5]:\n",
    "    print(f\"{state[0]}: {state[1]}\")"
   ]
  },
  {
   "cell_type": "code",
   "execution_count": 14,
   "metadata": {},
   "outputs": [
    {
     "data": {
      "image/png": "[encoded data removed]",
      "text/plain": [
       "<Figure size 640x480 with 1 Axes>"
      ]
     },
     "metadata": {},
     "output_type": "display_data"
    }
   ],
   "source": [
    "# Extract keys and values for plotting\n",
    "states_top25 = [state[0] for state in stateDictSorted[:25]]\n",
    "values_top25 = [state[1] for state in stateDictSorted[:25]]\n",
    "\n",
    "# Create a bar chart\n",
    "plt.bar(states_top25, values_top25, color='limegreen')\n",
    "plt.title(\"NPS Owned Parking Lots by State\")\n",
    "plt.xlabel(\"State\")\n",
    "plt.ylabel(\"Number of Parking Lots\")\n",
    "plt.xticks(fontsize=7)\n",
    "plt.yticks(fontsize=7)\n",
    "plt.show()"
   ]
  },
  {
   "cell_type": "markdown",
   "metadata": {},
   "source": [
    "## 3. Finding Campground Addresses\n",
    "\n",
    "Prompt the user for a State, then a selection of the National Park Service managed lands in that state, and return the addresses of all campgrounds in the park."
   ]
  },
  {
   "cell_type": "code",
   "execution_count": 17,
   "metadata": {},
   "outputs": [
    {
     "name": "stdout",
     "output_type": "stream",
     "text": [
      "Available NPS managed lands in WY:\n",
      "1. Bighorn Canyon\n",
      "2. California\n",
      "3. Devils Tower\n",
      "4. Fort Laramie\n",
      "5. Fossil Butte\n",
      "6. Grand Teton\n",
      "7. Mormon Pioneer\n",
      "8. Oregon\n",
      "9. Pony Express\n",
      "10. Yellowstone\n"
     ]
    }
   ],
   "source": [
    "state = \"\"\n",
    "\n",
    "# Prompt user for a state code using the states list from Section 2\n",
    "while state not in states:\n",
    "    state = input(\"Enter a valid state code: \")\n",
    "\n",
    "# Perform the API call\n",
    "endpoint = f\"https://developer.nps.gov/api/v1/parks?stateCode={state}&limit=150&api_key={key}\"\n",
    "response = requests.get(endpoint)\n",
    "\n",
    "# Offer user a selection from available parks within specified state\n",
    "if response.status_code == 200:\n",
    "\n",
    "    parks = response.json()[\"data\"]\n",
    "    park_names = [park[\"name\"] for park in parks]\n",
    "    park_codes = [park[\"parkCode\"] for park in parks]\n",
    "\n",
    "    print(f\"Available NPS managed lands in {state}:\")\n",
    "    for i, park_name in enumerate(park_names):\n",
    "        print(f\"{i+1}. {park_name}\")"
   ]
  },
  {
   "cell_type": "code",
   "execution_count": 18,
   "metadata": {
    "tags": [
     "output_scroll"
    ]
   },
   "outputs": [
    {
     "name": "stdout",
     "output_type": "stream",
     "text": [
      "There are 12 campgrounds in Yellowstone.\n",
      "\n",
      "Name: Bridge Bay Campground\n",
      "Address: GPS Coordinates: N 44 32.070 W 110 26.218 Yellowstone National Park, WY 82190\n",
      "\n",
      "Name: Canyon Campground\n",
      "Address: GPS Coordinates: N 44 44.118 W110 29 17 Yellowstone National Park, WY 82190\n",
      "\n",
      "Name: Fishing Bridge RV Park\n",
      "Address: GPS Coordinates: N 44 33.820 W 110 22.167 Yellowstone National Park, WY 82190\n",
      "\n",
      "Name: Grant Village Campground\n",
      "Address: GPS Coordinates-- N 44 23.610 W 110 33.769 Yellowstone National Park, WY 82190\n",
      "\n",
      "Name: Indian Creek Campground\n",
      "Address: GPS Coordinates--N: 44  53.22138 W: 110 44.16414 Yellowstone National Park, WY 82190\n",
      "\n",
      "Name: Lewis Lake Campground\n",
      "Address: GPS Coordinates-- N 44.2822056, W -110.6279873 Yellowstone National Park, WY 82190\n",
      "\n",
      "Name: Madison Campground\n",
      "Address: N 44 38.725 W 110 51.687 Yellowstone National Park, WY 82190\n",
      "\n",
      "Name: Mammoth Campground\n",
      "Address: GPS Coordinates N 44 58.4166 W 110.41.59392 Yellowstone National Park, WY 82190\n",
      "\n",
      "Name: Norris Campground\n",
      "Address: GPS Coordinates: N 44  44.27088 W 110  41.6169 Yellowstone National Park, WY 82190\n",
      "\n",
      "Name: Pebble Creek Campground\n",
      "Address: GPS Coordinates -- N 44  55.01886 W 110  6.82848 Yellowstone National Park, WY 82190\n",
      "\n",
      "Name: Slough Creek Campground\n",
      "Address: GPS Coordinates -- N: 44.9488466 W:-110.3068792 Yellowstone National Park, WY 82190\n",
      "\n",
      "Name: Tower Fall Campground\n",
      "Address: GPS Coordinates N: 44 53.373 W 110 23.36856 Yellowstone National Park, WY 82190\n"
     ]
    }
   ],
   "source": [
    "# Prompt to pick a park\n",
    "park_choice = 0\n",
    "while (park_choice < 1) or (park_choice > len(park_names)):\n",
    "    park_choice = int(input(f\"Enter the number of the National Park Service managed land you would like to explore (1-{len(park_names)}): \"))\n",
    "\n",
    "# Get the park code for the selected park\n",
    "park_code = park_codes[park_choice-1]\n",
    "park_name = park_names[park_choice-1]\n",
    "\n",
    "# Create the endpoint URL with the park code\n",
    "endpoint = f\"https://developer.nps.gov/api/v1/campgrounds?parkCode={park_code}&api_key={key}\"\n",
    "\n",
    "# Perform the API call\n",
    "response = requests.get(endpoint)\n",
    "\n",
    "# Extract the total number of campgrounds in the park\n",
    "if response.status_code == 200:\n",
    "    data = response.json()\n",
    "    \n",
    "    campgrounds = data[\"data\"]\n",
    "    total = data[\"total\"]\n",
    "\n",
    "    print(f\"There are {total} campgrounds in {park_name}.\")\n",
    "\n",
    "    # Print the names and addresses of the campgrounds\n",
    "    if int(total) > 0:\n",
    "        for campground in campgrounds:\n",
    "            print(f\"\\nName: {campground['name']}\")\n",
    "            \n",
    "            for address in campground[\"addresses\"]:\n",
    "                if address[\"type\"] == \"Physical\":\n",
    "                    print(f\"Address: {address['line1']} {address['city']}, {address['stateCode']} {address['postalCode']}\")"
   ]
  },
  {
   "cell_type": "markdown",
   "metadata": {},
   "source": [
    "## 4. Finding Locations with Cellular Service within a Park\n",
    "\n",
    "Prompt the user for a State, then a selection of the National Park Service managed lands in that state, and return the names of all locations in the park that are listed as having cellular service as an amenity."
   ]
  },
  {
   "cell_type": "code",
   "execution_count": 19,
   "metadata": {},
   "outputs": [
    {
     "name": "stdout",
     "output_type": "stream",
     "text": [
      "Available NPS managed lands in the specified state:\n",
      "1. Butterfield Overland\n",
      "2. California\n",
      "3. Gateway Arch\n",
      "4. George Washington Carver\n",
      "5. Harry S Truman\n",
      "6. Lewis & Clark\n",
      "7. Oregon\n",
      "8. Ozark\n",
      "9. Pony Express\n",
      "10. Santa Fe\n",
      "11. Ste. Geneviève\n",
      "12. Trail Of Tears\n",
      "13. Ulysses S Grant\n",
      "14. Wilson's Creek\n"
     ]
    }
   ],
   "source": [
    "state = \"\"\n",
    "\n",
    "# Prompt user for a state code\n",
    "while state not in states:\n",
    "    state = input(\"Enter a valid state code: \")\n",
    "\n",
    "# Create the endpoint URL with the state code\n",
    "endpoint = f\"https://developer.nps.gov/api/v1/parks?stateCode={state}&limit=50&api_key={key}\"\n",
    "\n",
    "# Perform the API call\n",
    "response = requests.get(endpoint)\n",
    "\n",
    "# Offer user a selection from available parks within specified state\n",
    "if response.status_code == 200:\n",
    "    data = response.json()\n",
    "    parks = data[\"data\"]\n",
    "    park_names = [park[\"name\"] for park in parks]\n",
    "    park_codes = [park[\"parkCode\"] for park in parks]\n",
    "    print(\"Available NPS managed lands in the specified state:\")\n",
    "    for i, park_name in enumerate(park_names):\n",
    "        print(f\"{i+1}. {park_name}\")"
   ]
  },
  {
   "cell_type": "code",
   "execution_count": 20,
   "metadata": {},
   "outputs": [
    {
     "name": "stdout",
     "output_type": "stream",
     "text": [
      "The following locations in Ulysses S Grant have cellular service:\n",
      "\n",
      "Grant's Farm\n",
      "Ice House and Chicken House\n",
      "Stable at White Haven\n",
      "Summer Kitchen\n",
      "White Haven\n"
     ]
    }
   ],
   "source": [
    "# Prompt to pick a park\n",
    "park_choice = 0\n",
    "while (park_choice < 1) or (park_choice > len(park_names)):\n",
    "    park_choice = int(input(f\"Enter the number of the National Park Service managed land you would like to explore (1-{len(park_names)}): \"))\n",
    "\n",
    "# Get the park code for the selected park\n",
    "park_code = park_codes[park_choice-1]\n",
    "park_name = park_names[park_choice-1]\n",
    "\n",
    "# Create the endpoint URL with the park code\n",
    "endpoint = f\"https://developer.nps.gov/api/v1/places?parkCode={park_code}&api_key={key}\"\n",
    "\n",
    "# Perform the API call\n",
    "response = requests.get(endpoint)\n",
    "\n",
    "# Extract all locations in the park\n",
    "data = response.json()\n",
    "\n",
    "if(data[\"total\"] == 0):\n",
    "    print(f\"There are no locations in {park_name}.\")\n",
    "else:\n",
    "    cell_locations = []\n",
    "\n",
    "    for location in data[\"data\"]:\n",
    "        if \"Cellular Signal\" in location[\"amenities\"]:\n",
    "            cell_locations.append(location[\"title\"])\n",
    "\n",
    "    if cell_locations:\n",
    "        print(f\"The following locations in {park_name} have cellular service:\\n\")\n",
    "        for location in cell_locations:\n",
    "            print(location)\n",
    "    else:\n",
    "        print(f\"There are no locations in {park_name} with cellular service.\")"
   ]
  }
 ],
 "metadata": {
  "kernelspec": {
   "display_name": "cookbook-env",
   "language": "python",
   "name": "python3"
  },
  "language_info": {
   "codemirror_mode": {
    "name": "ipython",
    "version": 3
   },
   "file_extension": ".py",
   "mimetype": "text/x-python",
   "name": "python",
   "nbconvert_exporter": "python",
   "pygments_lexer": "ipython3",
   "version": "3.12.1"
  },
  "orig_nbformat": 4
 },
 "nbformat": 4,
 "nbformat_minor": 2
}
