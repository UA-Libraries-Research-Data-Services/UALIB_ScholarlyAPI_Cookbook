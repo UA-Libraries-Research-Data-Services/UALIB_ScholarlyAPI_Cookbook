{
 "cells": [
  {
   "cell_type": "markdown",
   "id": "e1509f3a-9367-4cda-9d45-540b5b127e56",
   "metadata": {},
   "source": [
    "# Crossref API in Python\n",
    "by Avery Fernandez and Vincent F. Scalfani"
   ]
  },
  {
   "cell_type": "markdown",
   "id": "5e28ca92-7a5a-4320-8332-a1be3ddd1c33",
   "metadata": {},
   "source": [
    "**Crossref API documentation:** https://api.crossref.org/swagger-ui/index.html\n",
    "\n",
    "These recipe examples were tested on January 21, 2022.\n",
    "\n",
    "*From our testing, we have found that the crossref metadata across publishers and even journals can vary considerably. As a result, it can be easier to work with one journal at a time when using the crossref API (e.g., particulary when trying to extract selected data from records).*"
   ]
  },
  {
   "cell_type": "markdown",
   "id": "d2aae4d3-d789-4d6a-ab66-5708e0f8b1f7",
   "metadata": {},
   "source": [
    "## 1. Basic crossref API call"
   ]
  },
  {
   "cell_type": "markdown",
   "id": "3acaa648-6d41-432b-bd04-c59a57bbcf5c",
   "metadata": {},
   "source": [
    "### Import libraries"
   ]
  },
  {
   "cell_type": "code",
   "execution_count": 12,
   "id": "c36125d5-55b8-4296-85f1-c6a8dccda33a",
   "metadata": {},
   "outputs": [],
   "source": [
    "import json\n",
    "import requests\n",
    "from pprint import pprint"
   ]
  },
  {
   "cell_type": "markdown",
   "id": "97ae3960-4c0e-4778-b93f-56145b2fec46",
   "metadata": {},
   "source": [
    "### Setup API parameters"
   ]
  },
  {
   "cell_type": "code",
   "execution_count": 13,
   "id": "20bdb88d-e526-4ec4-b163-1de470177b8f",
   "metadata": {},
   "outputs": [],
   "source": [
    "base_url = \"https://api.crossref.org/works/\" # the base url for api calls\n",
    "email = \"your_email@ua.edu\" # Change this to your email\n",
    "mailto = \"?mailto=\" + email\n",
    "doi = \"10.1186/1758-2946-4-12\" # example"
   ]
  },
  {
   "cell_type": "markdown",
   "id": "d685a5fc-1eba-4904-b3c7-5d5670c46853",
   "metadata": {},
   "source": [
    "### Request data from crossref API"
   ]
  },
  {
   "cell_type": "code",
   "execution_count": 14,
   "id": "b6edb14f-59c6-45b6-9a5a-e94b3582efa3",
   "metadata": {},
   "outputs": [
    {
     "name": "stdout",
     "output_type": "stream",
     "text": [
      "{'message': {'DOI': '10.1186/1758-2946-4-12',\n",
      "             'ISSN': ['1758-2946'],\n",
      "             'URL': 'http://dx.doi.org/10.1186/1758-2946-4-12',\n",
      "             'alternative-id': ['336'],\n",
      "             'article-number': '12',\n",
      "             'author': [{'affiliation': [],\n",
      "                         'family': 'Ertl',\n",
      "                         'given': 'Peter',\n",
      "                         'sequence': 'first'},\n",
      "                        {'affiliation': [],\n",
      "                         'family': 'Rohde',\n",
      "                         'given': 'Bernhard',\n",
      "                         'sequence': 'additional'}],\n",
      "             'container-title': ['Journal of Cheminformatics'],\n",
      "             'content-domain': {'crossmark-restriction': False, 'domain': []},\n",
      "             'created': {'date-parts': [[2012, 7, 6]],\n",
      "                         'date-time': '2012-07-06T12:14:34Z',\n",
      "                         'timestamp': 1341576874000},\n",
      "             'deposited': {'date-parts': [[2019, 6, 24]],\n",
      "                           'date-time': '2019-06-24T14:22:07Z',\n",
      "                           'timestamp': 1561386127000},\n",
      "             'indexed': {'date-parts': [[2021, 12, 18]],\n",
      "                         'date-time': '2021-12-18T19:58:47Z',\n",
      "                         'timestamp': 1639857527355},\n",
      "             'is-referenced-by-count': 25,\n",
      "             'issn-type': [{'type': 'electronic', 'value': '1758-2946'}],\n",
      "             'issue': '1',\n",
      "             'issued': {'date-parts': [[2012, 7, 6]]},\n",
      "             'journal-issue': {'issue': '1',\n",
      "                               'published-print': {'date-parts': [[2012, 12]]}},\n",
      "             'language': 'en',\n",
      "             'license': [{'URL': 'http://creativecommons.org/licenses/by/2.0',\n",
      "                          'content-version': 'tdm',\n",
      "                          'delay-in-days': 0,\n",
      "                          'start': {'date-parts': [[2012, 7, 6]],\n",
      "                                    'date-time': '2012-07-06T00:00:00Z',\n",
      "                                    'timestamp': 1341532800000}}],\n",
      "             'link': [{'URL': 'http://link.springer.com/content/pdf/10.1186/1758-2946-4-12.pdf',\n",
      "                       'content-type': 'application/pdf',\n",
      "                       'content-version': 'vor',\n",
      "                       'intended-application': 'text-mining'},\n",
      "                      {'URL': 'http://link.springer.com/article/10.1186/1758-2946-4-12/fulltext.html',\n",
      "                       'content-type': 'text/html',\n",
      "                       'content-version': 'vor',\n",
      "                       'intended-application': 'text-mining'},\n",
      "                      {'URL': 'http://link.springer.com/content/pdf/10.1186/1758-2946-4-12.pdf',\n",
      "                       'content-type': 'application/pdf',\n",
      "                       'content-version': 'vor',\n",
      "                       'intended-application': 'similarity-checking'}],\n",
      "             'member': '297',\n",
      "             'original-title': [],\n",
      "             'prefix': '10.1186',\n",
      "             'published': {'date-parts': [[2012, 7, 6]]},\n",
      "             'published-online': {'date-parts': [[2012, 7, 6]]},\n",
      "             'published-print': {'date-parts': [[2012, 12]]},\n",
      "             'publisher': 'Springer Science and Business Media LLC',\n",
      "             'reference': [{'DOI': '10.1007/s10822-011-9487-0',\n",
      "                            'author': 'E Martin',\n",
      "                            'doi-asserted-by': 'publisher',\n",
      "                            'first-page': '77',\n",
      "                            'journal-title': 'J Comp-Aided Mol Des',\n",
      "                            'key': '336_CR1',\n",
      "                            'unstructured': 'Martin E, Ertl P, Hunt P, Duca J, '\n",
      "                                            'Lewis R: Gazing into the crystal '\n",
      "                                            'ball; the future of '\n",
      "                                            'computer-aided drug design. J '\n",
      "                                            'Comp-Aided Mol Des. 2011, 26: '\n",
      "                                            '77-79.',\n",
      "                            'volume': '26',\n",
      "                            'year': '2011'},\n",
      "                           {'DOI': '10.1021/ci2001428',\n",
      "                            'author': 'SR Langdon',\n",
      "                            'doi-asserted-by': 'publisher',\n",
      "                            'first-page': '2174',\n",
      "                            'journal-title': 'J Chem Inf Model',\n",
      "                            'key': '336_CR2',\n",
      "                            'unstructured': 'Langdon SR, Brown N, Blagg J: '\n",
      "                                            'Scaffold diversity of exemplified '\n",
      "                                            'medicinal chemistry space. J Chem '\n",
      "                                            'Inf Model. 2011, 26: 2174-2185.',\n",
      "                            'volume': '26',\n",
      "                            'year': '2011'},\n",
      "                           {'DOI': '10.1021/ja902302h',\n",
      "                            'author': 'LC Blum',\n",
      "                            'doi-asserted-by': 'publisher',\n",
      "                            'first-page': '8732',\n",
      "                            'journal-title': 'J Am Chem Soc',\n",
      "                            'key': '336_CR3',\n",
      "                            'unstructured': 'Blum LC, Reymond J-C: 970 Million '\n",
      "                                            'druglike small molecules for '\n",
      "                                            'virtual screening in the chemical '\n",
      "                                            'universe database GDB-13. J Am '\n",
      "                                            'Chem Soc. 2009, 131: 8732-8733. '\n",
      "                                            '10.1021/ja902302h.',\n",
      "                            'volume': '131',\n",
      "                            'year': '2009'},\n",
      "                           {'DOI': '10.2174/157340908785747410',\n",
      "                            'author': 'J Dubois',\n",
      "                            'doi-asserted-by': 'publisher',\n",
      "                            'first-page': '156',\n",
      "                            'journal-title': 'Cur Comp-Aided Drug Des',\n",
      "                            'key': '336_CR4',\n",
      "                            'unstructured': 'Dubois J, Bourg S, Vrain C, '\n",
      "                                            'Morin-Allory L: Collections of '\n",
      "                                            'compounds - how to deal with '\n",
      "                                            'them?. Cur Comp-Aided Drug Des. '\n",
      "                                            '2008, 4: 156-168. '\n",
      "                                            '10.2174/157340908785747410.',\n",
      "                            'volume': '4',\n",
      "                            'year': '2008'},\n",
      "                           {'DOI': '10.2174/157340908786786010',\n",
      "                            'author': 'JL Medina-Franco',\n",
      "                            'doi-asserted-by': 'publisher',\n",
      "                            'first-page': '322',\n",
      "                            'journal-title': 'Cur Comp-Aided Drug Des',\n",
      "                            'key': '336_CR5',\n",
      "                            'unstructured': 'Medina-Franco JL, '\n",
      "                                            'Martinez-Mayorga K, Giulianotti '\n",
      "                                            'MA, Houghten RA, Pinilla C: '\n",
      "                                            'Visualization of the chemical '\n",
      "                                            'space in drug discovery. Cur '\n",
      "                                            'Comp-Aided Drug Des. 2008, 4: '\n",
      "                                            '322-333. '\n",
      "                                            '10.2174/157340908786786010.',\n",
      "                            'volume': '4',\n",
      "                            'year': '2008'},\n",
      "                           {'DOI': '10.1021/ci600338x',\n",
      "                            'author': 'A Schuffenhauer',\n",
      "                            'doi-asserted-by': 'publisher',\n",
      "                            'first-page': '47',\n",
      "                            'journal-title': 'J Chem Inf Model',\n",
      "                            'key': '336_CR6',\n",
      "                            'unstructured': 'Schuffenhauer A, Ertl P, Roggo S, '\n",
      "                                            'Wetzel S, Koch MA, Waldmann H: '\n",
      "                                            'The Scaffold Tree - visualization '\n",
      "                                            'of the scaffold universe by '\n",
      "                                            'hierarchical scaffold '\n",
      "                                            'classification. J Chem Inf Model. '\n",
      "                                            '2007, 47: 47-58. '\n",
      "                                            '10.1021/ci600338x.',\n",
      "                            'volume': '47',\n",
      "                            'year': '2007'},\n",
      "                           {'DOI': '10.1002/minf.201000019',\n",
      "                            'author': 'S Langdon',\n",
      "                            'doi-asserted-by': 'publisher',\n",
      "                            'first-page': '366',\n",
      "                            'journal-title': 'Mol Inf',\n",
      "                            'key': '336_CR7',\n",
      "                            'unstructured': 'Langdon S, Ertl P, Brown N: '\n",
      "                                            'Bioisosteric replacement and '\n",
      "                                            'scaffold hopping in lead '\n",
      "                                            'generation and optimization. Mol '\n",
      "                                            'Inf. 2010, 29: 366-385. '\n",
      "                                            '10.1002/minf.201000019.',\n",
      "                            'volume': '29',\n",
      "                            'year': '2010'},\n",
      "                           {'DOI': '10.1021/jo8001276',\n",
      "                            'author': 'AH Lipkus',\n",
      "                            'doi-asserted-by': 'publisher',\n",
      "                            'first-page': '4443',\n",
      "                            'journal-title': 'J Org Chem',\n",
      "                            'key': '336_CR8',\n",
      "                            'unstructured': 'Lipkus AH, Yuan Q, Lucas KA, Funk '\n",
      "                                            'SA, Bartelt WF, Schenck RJ, '\n",
      "                                            'Trippe AJ: Structural diversity '\n",
      "                                            'of organic chemistry. A scaffold '\n",
      "                                            'analysis of the CAS Registry. J '\n",
      "                                            'Org Chem. 2008, 73: 4443-4451. '\n",
      "                                            '10.1021/jo8001276.',\n",
      "                            'volume': '73',\n",
      "                            'year': '2008'},\n",
      "                           {'key': '336_CR9',\n",
      "                            'unstructured': 'mib 2010.10, Molinspiration '\n",
      "                                            'Cheminformatics: \\n'\n",
      "                                            '                    '\n",
      "                                            'http://www.molinspiration.com\\n'\n",
      "                                            '                    \\n'\n",
      "                                            '                  ,'},\n",
      "                           {'key': '336_CR10',\n",
      "                            'unstructured': 'Bernhard R: Avalon '\n",
      "                                            'Cheminformatics Toolkit. \\n'\n",
      "                                            '                    '\n",
      "                                            'http://sourceforge.net/projects/avalontoolkit/\\n'\n",
      "                                            '                    \\n'\n",
      "                                            '                  ,'},\n",
      "                           {'DOI': '10.1093/nar/gkp965',\n",
      "                            'author': 'Y Wang',\n",
      "                            'doi-asserted-by': 'publisher',\n",
      "                            'first-page': 'D255',\n",
      "                            'journal-title': 'Nucleic Acids Res',\n",
      "                            'key': '336_CR11',\n",
      "                            'unstructured': 'Wang Y, Bolton E, Dracheva S, '\n",
      "                                            'Karapetyan K, Shoemaker BA, Suzek '\n",
      "                                            'TO, Wang J, Xiao J, Zhang J, '\n",
      "                                            'Bryant SH: An overview of the '\n",
      "                                            'PubChem BioAssay resource. '\n",
      "                                            'Nucleic Acids Res. 2009, 38: '\n",
      "                                            'D255-D266.',\n",
      "                            'volume': '38',\n",
      "                            'year': '2009'},\n",
      "                           {'DOI': '10.1021/ci049714+',\n",
      "                            'author': 'JJ Irwin',\n",
      "                            'doi-asserted-by': 'publisher',\n",
      "                            'first-page': '177',\n",
      "                            'journal-title': 'J Chem Inf Model',\n",
      "                            'key': '336_CR12',\n",
      "                            'unstructured': 'Irwin JJ, Shoichet BK: ZINC\\u2009'\n",
      "                                            '−\\u2009a free database of '\n",
      "                                            'commercially available compounds '\n",
      "                                            'for virtual screening. J Chem Inf '\n",
      "                                            'Model. 2004, 45: 177-182.',\n",
      "                            'volume': '45',\n",
      "                            'year': '2004'},\n",
      "                           {'DOI': '10.1093/nar/gkr777',\n",
      "                            'author': 'A Gaulton',\n",
      "                            'doi-asserted-by': 'publisher',\n",
      "                            'first-page': 'D1100',\n",
      "                            'journal-title': 'Nucleic Acids Res',\n",
      "                            'key': '336_CR13',\n",
      "                            'unstructured': 'Gaulton A, Bellis LJ, Bento AP, '\n",
      "                                            'Chambers J, Davies M, Hersey A, '\n",
      "                                            'Light Y, McGlinchey S, '\n",
      "                                            'Michalovich D, Al-Lazikani B, '\n",
      "                                            'Overington JP: ChEMBL: a '\n",
      "                                            'large-scale bioactivity database '\n",
      "                                            'for drug discovery. Nucleic Acids '\n",
      "                                            'Res. 2012, 40: D1100-D1107. '\n",
      "                                            '10.1093/nar/gkr777.',\n",
      "                            'volume': '40',\n",
      "                            'year': '2012'},\n",
      "                           {'DOI': '10.1016/j.cbpa.2010.02.018',\n",
      "                            'author': 'ME Welsch',\n",
      "                            'doi-asserted-by': 'publisher',\n",
      "                            'first-page': '347',\n",
      "                            'journal-title': 'Curr Opin Chem Biol',\n",
      "                            'key': '336_CR14',\n",
      "                            'unstructured': 'Welsch ME, Snyder SA, Stockwell '\n",
      "                                            'BR: Privileged scaffolds for '\n",
      "                                            'library design and drug '\n",
      "                                            'discovery. Curr Opin Chem Biol. '\n",
      "                                            '2010, 14: 347-361. '\n",
      "                                            '10.1016/j.cbpa.2010.02.018.',\n",
      "                            'volume': '14',\n",
      "                            'year': '2010'},\n",
      "                           {'DOI': '10.1021/ci0255782',\n",
      "                            'author': 'P Ertl',\n",
      "                            'doi-asserted-by': 'publisher',\n",
      "                            'first-page': '374',\n",
      "                            'journal-title': 'J Chem Inf Comp Sci',\n",
      "                            'key': '336_CR15',\n",
      "                            'unstructured': 'Ertl P: Cheminformatics analysis '\n",
      "                                            'of organic substituents: '\n",
      "                                            'Identification of the most common '\n",
      "                                            'substituents, calculation of '\n",
      "                                            'substituent properties, and '\n",
      "                                            'automatic identification of '\n",
      "                                            'drug-like bioisosteric groups. J '\n",
      "                                            'Chem Inf Comp Sci. 2003, 43: '\n",
      "                                            '374-380. 10.1021/ci0255782.',\n",
      "                            'volume': '43',\n",
      "                            'year': '2003'},\n",
      "                           {'key': '336_CR16',\n",
      "                            'unstructured': 'TagCrowd: \\n'\n",
      "                                            '                    '\n",
      "                                            'http://tagcrowd.com'}],\n",
      "             'reference-count': 16,\n",
      "             'references-count': 16,\n",
      "             'relation': {},\n",
      "             'score': 1,\n",
      "             'short-container-title': ['J Cheminform'],\n",
      "             'short-title': [],\n",
      "             'source': 'Crossref',\n",
      "             'subject': ['Library and Information Sciences',\n",
      "                         'Computer Graphics and Computer-Aided Design',\n",
      "                         'Physical and Theoretical Chemistry',\n",
      "                         'Computer Science Applications'],\n",
      "             'subtitle': [],\n",
      "             'title': ['The Molecule Cloud - compact visualization of large '\n",
      "                       'collections of molecules'],\n",
      "             'type': 'journal-article',\n",
      "             'volume': '4'},\n",
      " 'message-type': 'work',\n",
      " 'message-version': '1.0.0',\n",
      " 'status': 'ok'}\n"
     ]
    }
   ],
   "source": [
    "api_data = requests.get(base_url + doi + mailto).json()\n",
    "pprint(api_data)"
   ]
  },
  {
   "cell_type": "markdown",
   "id": "31a5a2f5-0f8a-4775-955e-7509b3cb515f",
   "metadata": {},
   "source": [
    "### Select Some Specific Data"
   ]
  },
  {
   "cell_type": "code",
   "execution_count": 15,
   "id": "f4759a67-5ae8-49dd-ba07-169491191531",
   "metadata": {},
   "outputs": [
    {
     "data": {
      "text/plain": [
       "['Journal of Cheminformatics']"
      ]
     },
     "execution_count": 15,
     "metadata": {},
     "output_type": "execute_result"
    }
   ],
   "source": [
    "# Get Journal title\n",
    "api_data[\"message\"][\"container-title\"]"
   ]
  },
  {
   "cell_type": "code",
   "execution_count": 16,
   "id": "f72ee848-5899-4994-9299-4f3442a238aa",
   "metadata": {},
   "outputs": [
    {
     "data": {
      "text/plain": [
       "['The Molecule Cloud - compact visualization of large collections of molecules']"
      ]
     },
     "execution_count": 16,
     "metadata": {},
     "output_type": "execute_result"
    }
   ],
   "source": [
    "# Get article title\n",
    "api_data[\"message\"][\"title\"]"
   ]
  },
  {
   "cell_type": "code",
   "execution_count": 17,
   "id": "cc3f0045-fa83-4973-b2fc-2d57d21c7e0d",
   "metadata": {},
   "outputs": [
    {
     "name": "stdout",
     "output_type": "stream",
     "text": [
      "Peter Ertl\n",
      "Bernhard Rohde\n"
     ]
    }
   ],
   "source": [
    "# Get article author names\n",
    "for au in range(len(api_data[\"message\"][\"author\"])):\n",
    "    print(api_data[\"message\"][\"author\"][au][\"given\"] + \" \" + api_data[\"message\"][\"author\"][au][\"family\"])"
   ]
  },
  {
   "cell_type": "code",
   "execution_count": 20,
   "id": "a0412d51-3d16-47c7-a00d-a192a1247f90",
   "metadata": {},
   "outputs": [
    {
     "name": "stdout",
     "output_type": "stream",
     "text": [
      "['Martin E, Ertl P, Hunt P, Duca J, Lewis R: Gazing into the crystal ball; the future of computer-aided drug design. J Comp-Aided Mol Des. 2011, 26: 77-79.', 'Langdon SR, Brown N, Blagg J: Scaffold diversity of exemplified medicinal chemistry space. J Chem Inf Model. 2011, 26: 2174-2185.', 'Blum LC, Reymond J-C: 970 Million druglike small molecules for virtual screening in the chemical universe database GDB-13. J Am Chem Soc. 2009, 131: 8732-8733. 10.1021/ja902302h.', 'Dubois J, Bourg S, Vrain C, Morin-Allory L: Collections of compounds - how to deal with them?. Cur Comp-Aided Drug Des. 2008, 4: 156-168. 10.2174/157340908785747410.', 'Medina-Franco JL, Martinez-Mayorga K, Giulianotti MA, Houghten RA, Pinilla C: Visualization of the chemical space in drug discovery. Cur Comp-Aided Drug Des. 2008, 4: 322-333. 10.2174/157340908786786010.']\n"
     ]
    }
   ],
   "source": [
    "# Get bibliography references and save to list\n",
    "bib_refs = []\n",
    "for ref in range(len(api_data[\"message\"][\"reference\"])):\n",
    "    bib_refs.append(api_data[\"message\"][\"reference\"][ref][\"unstructured\"])\n",
    "\n",
    "# print the first 5\n",
    "print(bib_refs[0:5])"
   ]
  },
  {
   "cell_type": "markdown",
   "id": "6e978e6c-a0c9-47f6-962b-95e511a2bcbb",
   "metadata": {},
   "source": [
    "### Save JSON data to a file\n",
    "This is particularly useful for downstream testing or returning to results in the future (e.g., no need to keep requesting the data from crossref, save the results to a file)"
   ]
  },
  {
   "cell_type": "code",
   "execution_count": 21,
   "id": "d959ee34-a44b-4ce5-b93f-d79bf334dff4",
   "metadata": {},
   "outputs": [],
   "source": [
    "with open('my_data.json', 'w') as outfile:\n",
    "    json.dump(api_data, outfile)"
   ]
  },
  {
   "cell_type": "markdown",
   "id": "e76ec40e-c409-4ea4-b500-b935121b9aac",
   "metadata": {},
   "source": [
    "### Load JSON data from file"
   ]
  },
  {
   "cell_type": "code",
   "execution_count": 22,
   "id": "eb0f5a6b-f794-4e57-860a-be54818f407d",
   "metadata": {},
   "outputs": [],
   "source": [
    "with open('my_data.json','r') as infile:\n",
    "    loadedData = json.load(infile)"
   ]
  },
  {
   "cell_type": "markdown",
   "id": "f426c7d1-fa3b-41bd-8f76-cfcff48e78ff",
   "metadata": {},
   "source": [
    "## 2. Crossref API call with a Loop"
   ]
  },
  {
   "cell_type": "markdown",
   "id": "e33f6cb5-d6ef-4261-b26f-1a7fe0ab4e8f",
   "metadata": {},
   "source": [
    "### Import libraries"
   ]
  },
  {
   "cell_type": "code",
   "execution_count": 23,
   "id": "216afb22-103b-4a89-a2c7-cbae0da78340",
   "metadata": {},
   "outputs": [],
   "source": [
    "import json\n",
    "import requests\n",
    "from pprint import pprint\n",
    "from time import sleep"
   ]
  },
  {
   "cell_type": "markdown",
   "id": "781b7c21-cdb4-48cb-a96a-a1b70ea4404f",
   "metadata": {},
   "source": [
    "### Setup API parameters"
   ]
  },
  {
   "cell_type": "code",
   "execution_count": 24,
   "id": "4ec8d919-2f44-40bc-8c56-6ef0f20e2b7b",
   "metadata": {},
   "outputs": [],
   "source": [
    "base_url = \"https://api.crossref.org/works/\" # the base url for api calls\n",
    "email = \"your_email@ua.edu\" # Change this to be your email\n",
    "mailto = \"?mailto=\" + email"
   ]
  },
  {
   "cell_type": "markdown",
   "id": "25533dc1-3c54-498e-8f86-b3067c5795f5",
   "metadata": {},
   "source": [
    "### Create a List of DOIs"
   ]
  },
  {
   "cell_type": "code",
   "execution_count": 25,
   "id": "8db9758c-5673-4789-bed8-81e41fffe3c4",
   "metadata": {},
   "outputs": [],
   "source": [
    "doi_list = ['10.1021/acsomega.1c03250',\n",
    "'10.1021/acsomega.1c05512',\n",
    "'10.1021/acsomega.8b01647',\n",
    "'10.1021/acsomega.1c04287',\n",
    "'10.1021/acsomega.8b01834']"
   ]
  },
  {
   "cell_type": "markdown",
   "id": "00cf8fd8-d96d-4c3b-82a3-023525bf0244",
   "metadata": {},
   "source": [
    "### Request metadata for each DOI from Crossref API and save to a list"
   ]
  },
  {
   "cell_type": "code",
   "execution_count": 26,
   "id": "886b6463-af4c-41f9-b20e-f9ef025037f2",
   "metadata": {},
   "outputs": [],
   "source": [
    "doi_metadata = []\n",
    "for doi in doi_list:\n",
    "    doi_metadata.append(requests.get(base_url + doi + mailto).json())\n",
    "    sleep(1) # important to add a delay between API calls\n",
    "\n",
    "# print(doi_metadata) ## not shown here as it is long."
   ]
  },
  {
   "cell_type": "markdown",
   "id": "3bd8c198-61ea-4206-93bb-08c69d4743cb",
   "metadata": {},
   "source": [
    "### Select Some Specific Data"
   ]
  },
  {
   "cell_type": "code",
   "execution_count": 27,
   "id": "debb2af9-dc74-4c7a-8fe0-4e9a4c17e349",
   "metadata": {},
   "outputs": [
    {
     "name": "stdout",
     "output_type": "stream",
     "text": [
      "['Navigating into the Chemical Space of Monoamine Oxidase Inhibitors by Artificial Intelligence and Cheminformatics Approach']\n",
      "['Impact of Artificial Intelligence on Compound Discovery, Design, and Synthesis']\n",
      "['How Precise Are Our Quantitative Structure–Activity Relationship Derived Predictions for New Query Chemicals?']\n",
      "['Applying Neuromorphic Computing Simulation in Band Gap Prediction and Chemical Reaction Classification']\n",
      "['QSPR Modeling of the Refractive Index for Diverse Polymers Using 2D Descriptors']\n"
     ]
    }
   ],
   "source": [
    "# Get article titles\n",
    "for item in range(len(doi_metadata)):\n",
    "    print(doi_metadata[item][\"message\"][\"title\"])"
   ]
  },
  {
   "cell_type": "code",
   "execution_count": 28,
   "id": "fa210e72-cd49-438a-948c-9b0e23e07264",
   "metadata": {},
   "outputs": [
    {
     "name": "stdout",
     "output_type": "stream",
     "text": [
      "Department of Pharmaceutical Chemistry and Analysis, Amrita School of Pharmacy, Amrita Vishwa Vidyapeetham, AIMS Health Sciences Campus, Kochi 682041, India\n",
      "Department of Pharmaceutical Chemistry and Analysis, Amrita School of Pharmacy, Amrita Vishwa Vidyapeetham, AIMS Health Sciences Campus, Kochi 682041, India\n",
      "Department of Pharmaceutical Chemistry and Analysis, Amrita School of Pharmacy, Amrita Vishwa Vidyapeetham, AIMS Health Sciences Campus, Kochi 682041, India\n",
      "Department of Pharmaceutical Chemistry and Analysis, Amrita School of Pharmacy, Amrita Vishwa Vidyapeetham, AIMS Health Sciences Campus, Kochi 682041, India\n",
      "Department of Pharmaceutical Chemistry and Analysis, Amrita School of Pharmacy, Amrita Vishwa Vidyapeetham, AIMS Health Sciences Campus, Kochi 682041, India\n",
      "Department of Pharmaceutics and Industrial Pharmacy, College of Pharmacy, Taif University, P.O. Box 11099, Taif 21944, Saudi Arabia\n",
      "Department of Pharmaceutical Chemistry, College of Pharmacy, Jouf University, Sakaka, Al Jouf 72341, Saudi Arabia\n",
      "Department of Pharmaceutical Chemistry and Analysis, Amrita School of Pharmacy, Amrita Vishwa Vidyapeetham, AIMS Health Sciences Campus, Kochi 682041, India\n",
      "Department of Life Science Informatics and Data Science, B-IT, LIMES Program Unit Chemical Biology and Medicinal Chemistry, Rheinische Friedrich-Wilhelms-Universität, Friedrich-Hirzebruch-Allee 6, D-53115 Bonn, Germany\n",
      "Department of Life Science Informatics and Data Science, B-IT, LIMES Program Unit Chemical Biology and Medicinal Chemistry, Rheinische Friedrich-Wilhelms-Universität, Friedrich-Hirzebruch-Allee 6, D-53115 Bonn, Germany\n",
      "Department of Life Science Informatics and Data Science, B-IT, LIMES Program Unit Chemical Biology and Medicinal Chemistry, Rheinische Friedrich-Wilhelms-Universität, Friedrich-Hirzebruch-Allee 6, D-53115 Bonn, Germany\n",
      "Drug Theoretics and Cheminformatics Laboratory, Department of Pharmaceutical Technology, Jadavpur University, Kolkata 700 032, India\n",
      "Drug Theoretics and Cheminformatics Laboratory, Department of Pharmaceutical Technology, Jadavpur University, Kolkata 700 032, India\n",
      "Interdisciplinary Center for Nanotoxicity, Department of Chemistry, Physics and Atmospheric Sciences, Jackson State University, Jackson, Mississippi 39217, United States\n",
      "Department of Chemical and Biomolecular Engineering, The Ohio State University, Columbus, Ohio 43210, United States\n",
      "Department of Chemical and Biomolecular Engineering, The Ohio State University, Columbus, Ohio 43210, United States\n",
      "Department of Chemical and Biomolecular Engineering, The Ohio State University, Columbus, Ohio 43210, United States\n",
      "Department of Chemical and Biomolecular Engineering, The Ohio State University, Columbus, Ohio 43210, United States\n",
      "Department of Pharmacoinformatics, National Institute of Pharmaceutical Educational and Research (NIPER), Chunilal Bhawan, 168, Manikata Main Road, 700054 Kolkata, India\n",
      "Department of Coatings and Polymeric Materials, North Dakota State University, Fargo, North Dakota 58108-6050, United States\n",
      "Drug Theoretics and Cheminformatics Laboratory, Division of Medicinal and Pharmaceutical Chemistry, Department of Pharmaceutical Technology, Jadavpur University, 700032 Kolkata, India\n"
     ]
    }
   ],
   "source": [
    "# Get all author affiliations for each article\n",
    "for item in range(len(doi_metadata)):\n",
    "    for au in range(len(doi_metadata[item][\"message\"][\"author\"])):\n",
    "        print(doi_metadata[item][\"message\"][\"author\"][au][\"affiliation\"][0][\"name\"])        "
   ]
  },
  {
   "cell_type": "markdown",
   "id": "182a7207-0a54-414e-8b06-1fdfadd8d15b",
   "metadata": {},
   "source": [
    "## 3. Crossref API call for journal information"
   ]
  },
  {
   "cell_type": "markdown",
   "id": "0ceeeea5-6556-404d-9aa1-0f28f94d8166",
   "metadata": {},
   "source": [
    "### Import libraries"
   ]
  },
  {
   "cell_type": "code",
   "execution_count": 33,
   "id": "bc9740f9-3475-406b-a411-49ec40741507",
   "metadata": {},
   "outputs": [],
   "source": [
    "import json\n",
    "import requests\n",
    "from pprint import pprint"
   ]
  },
  {
   "cell_type": "markdown",
   "id": "98425d81-526d-44e9-bc42-544a2cc30523",
   "metadata": {},
   "source": [
    "### Setup API parameters"
   ]
  },
  {
   "cell_type": "code",
   "execution_count": 34,
   "id": "ec17433e-ca46-4e65-a3b0-e2ba36825be7",
   "metadata": {},
   "outputs": [],
   "source": [
    "jbase_url = \"https://api.crossref.org/journals/\" # the base url for api calls\n",
    "email = \"your_email@ua.edu\" # Change this to be your email\n",
    "mailto = \"?mailto=\" + email\n",
    "issn = \"1471-2105\"  # issn for the journal BMC Bioinformatics"
   ]
  },
  {
   "cell_type": "markdown",
   "id": "94b7b8e9-52b2-490f-bae9-4bd48dfce0f4",
   "metadata": {},
   "source": [
    "### Request journal data from crossref API"
   ]
  },
  {
   "cell_type": "code",
   "execution_count": 35,
   "id": "05876d7b-44aa-40fb-9dd3-0745ca8df054",
   "metadata": {},
   "outputs": [
    {
     "name": "stdout",
     "output_type": "stream",
     "text": [
      "{'message': {'ISSN': ['1471-2105', '1471-2105'],\n",
      "             'breakdowns': {'dois-by-issued-year': [[2010, 861],\n",
      "                                                    [2019, 762],\n",
      "                                                    [2008, 745],\n",
      "                                                    [2009, 729],\n",
      "                                                    [2011, 722],\n",
      "                                                    [2006, 633],\n",
      "                                                    [2014, 619],\n",
      "                                                    [2007, 613],\n",
      "                                                    [2012, 609],\n",
      "                                                    [2021, 607],\n",
      "                                                    [2013, 607],\n",
      "                                                    [2015, 603],\n",
      "                                                    [2020, 585],\n",
      "                                                    [2017, 585],\n",
      "                                                    [2016, 550],\n",
      "                                                    [2018, 536],\n",
      "                                                    [2005, 414],\n",
      "                                                    [2004, 209],\n",
      "                                                    [2003, 66],\n",
      "                                                    [2022, 56],\n",
      "                                                    [2002, 40],\n",
      "                                                    [2001, 9],\n",
      "                                                    [2000, 1]]},\n",
      "             'counts': {'backfile-dois': 9913,\n",
      "                        'current-dois': 1248,\n",
      "                        'total-dois': 11161},\n",
      "             'coverage': {'abstracts-backfile': 0.2970846363361243,\n",
      "                          'abstracts-current': 0.9631410256410255,\n",
      "                          'affiliations-backfile': 0.0,\n",
      "                          'affiliations-current': 0.0,\n",
      "                          'award-numbers-backfile': 0.1316453142338344,\n",
      "                          'award-numbers-current': 0.5745192307692308,\n",
      "                          'descriptions-backfile': 0.0,\n",
      "                          'descriptions-current': 0.0,\n",
      "                          'funders-backfile': 0.1451629173812166,\n",
      "                          'funders-current': 0.640224358974359,\n",
      "                          'licenses-backfile': 0.535761121759306,\n",
      "                          'licenses-current': 1.0,\n",
      "                          'open-references-backfile': 1.0,\n",
      "                          'open-references-current': 1.0,\n",
      "                          'orcids-backfile': 0.09623726419852718,\n",
      "                          'orcids-current': 0.6578525641025641,\n",
      "                          'references-backfile': 0.9367497225865026,\n",
      "                          'references-current': 0.9967948717948718,\n",
      "                          'resource-links-backfile': 0.5351558559467366,\n",
      "                          'resource-links-current': 1.0,\n",
      "                          'ror-ids-backfile': 0.0,\n",
      "                          'ror-ids-current': 0.0,\n",
      "                          'similarity-checking-backfile': 0.953495410067588,\n",
      "                          'similarity-checking-current': 1.0,\n",
      "                          'update-policies-backfile': 0.6406738626046605,\n",
      "                          'update-policies-current': 1.0},\n",
      "             'coverage-type': {'all': {'abstracts': 0.3715616880207867,\n",
      "                                       'affiliations': 0.0,\n",
      "                                       'award-numbers': 0.1811665621360093,\n",
      "                                       'descriptions': 0.0,\n",
      "                                       'funders': 0.2005196666965326,\n",
      "                                       'last-status-check-time': 1642727046333,\n",
      "                                       'licenses': 0.5876713556132963,\n",
      "                                       'open-references': 1.0,\n",
      "                                       'orcids': 0.1590359286802258,\n",
      "                                       'references': 0.9434638473255085,\n",
      "                                       'resource-links': 0.587133769375504,\n",
      "                                       'ror-ids': 0.0,\n",
      "                                       'similarity-checking': 0.9586954573962907,\n",
      "                                       'update-policies': 0.6808529701639638},\n",
      "                               'backfile': {'abstracts': 0.2970846363361243,\n",
      "                                            'affiliations': 0.0,\n",
      "                                            'award-numbers': 0.1316453142338344,\n",
      "                                            'descriptions': 0.0,\n",
      "                                            'funders': 0.1451629173812166,\n",
      "                                            'last-status-check-time': 1642727046333,\n",
      "                                            'licenses': 0.535761121759306,\n",
      "                                            'open-references': 1.0,\n",
      "                                            'orcids': 0.09623726419852718,\n",
      "                                            'references': 0.9367497225865026,\n",
      "                                            'resource-links': 0.5351558559467366,\n",
      "                                            'ror-ids': 0.0,\n",
      "                                            'similarity-checking': 0.953495410067588,\n",
      "                                            'update-policies': 0.6406738626046605},\n",
      "                               'current': {'abstracts': 0.9631410256410255,\n",
      "                                           'affiliations': 0.0,\n",
      "                                           'award-numbers': 0.5745192307692308,\n",
      "                                           'descriptions': 0.0,\n",
      "                                           'funders': 0.640224358974359,\n",
      "                                           'last-status-check-time': 1642727046333,\n",
      "                                           'licenses': 1.0,\n",
      "                                           'open-references': 1.0,\n",
      "                                           'orcids': 0.6578525641025641,\n",
      "                                           'references': 0.9967948717948718,\n",
      "                                           'resource-links': 1.0,\n",
      "                                           'ror-ids': 0.0,\n",
      "                                           'similarity-checking': 1.0,\n",
      "                                           'update-policies': 1.0}},\n",
      "             'flags': {'deposits': True,\n",
      "                       'deposits-abstracts-backfile': True,\n",
      "                       'deposits-abstracts-current': True,\n",
      "                       'deposits-affiliations-backfile': False,\n",
      "                       'deposits-affiliations-current': False,\n",
      "                       'deposits-articles': True,\n",
      "                       'deposits-award-numbers-backfile': True,\n",
      "                       'deposits-award-numbers-current': True,\n",
      "                       'deposits-descriptions-backfile': False,\n",
      "                       'deposits-descriptions-current': False,\n",
      "                       'deposits-funders-backfile': True,\n",
      "                       'deposits-funders-current': True,\n",
      "                       'deposits-licenses-backfile': True,\n",
      "                       'deposits-licenses-current': True,\n",
      "                       'deposits-open-references-backfile': True,\n",
      "                       'deposits-open-references-current': True,\n",
      "                       'deposits-orcids-backfile': True,\n",
      "                       'deposits-orcids-current': True,\n",
      "                       'deposits-references-backfile': True,\n",
      "                       'deposits-references-current': True,\n",
      "                       'deposits-resource-links-backfile': True,\n",
      "                       'deposits-resource-links-current': True,\n",
      "                       'deposits-ror-ids-backfile': False,\n",
      "                       'deposits-ror-ids-current': False,\n",
      "                       'deposits-similarity-checking-backfile': True,\n",
      "                       'deposits-similarity-checking-current': True,\n",
      "                       'deposits-update-policies-backfile': True,\n",
      "                       'deposits-update-policies-current': True},\n",
      "             'issn-type': [{'type': 'print', 'value': '1471-2105'},\n",
      "                           {'type': 'electronic', 'value': '1471-2105'}],\n",
      "             'last-status-check-time': 1642727046333,\n",
      "             'publisher': 'Springer (Biomed Central Ltd.)',\n",
      "             'subjects': [{'ASJC': 2604, 'name': 'Applied Mathematics'},\n",
      "                          {'ASJC': 1706,\n",
      "                           'name': 'Computer Science Applications'},\n",
      "                          {'ASJC': 1312, 'name': 'Molecular Biology'},\n",
      "                          {'ASJC': 1303, 'name': 'Biochemistry'},\n",
      "                          {'ASJC': 1315, 'name': 'Structural Biology'}],\n",
      "             'title': 'BMC Bioinformatics'},\n",
      " 'message-type': 'journal',\n",
      " 'message-version': '1.0.0',\n",
      " 'status': 'ok'}\n"
     ]
    }
   ],
   "source": [
    "jour_data = requests.get(jbase_url + issn + mailto).json()\n",
    "pprint(jour_data)"
   ]
  },
  {
   "cell_type": "markdown",
   "id": "6cce789b-760d-4e09-9320-25a43461386b",
   "metadata": {},
   "source": [
    "## 4. Crossref API - Get article DOIs for a journal"
   ]
  },
  {
   "cell_type": "markdown",
   "id": "aa24e039-5a04-4779-ae3e-bd72891d3646",
   "metadata": {},
   "source": [
    "### Import libraries"
   ]
  },
  {
   "cell_type": "code",
   "execution_count": 36,
   "id": "34dd77e7-3a3d-4a11-8f16-1dba26c3cddc",
   "metadata": {},
   "outputs": [],
   "source": [
    "import json\n",
    "import requests\n",
    "from pprint import pprint\n",
    "from time import sleep"
   ]
  },
  {
   "cell_type": "markdown",
   "id": "011d46cf-5779-4eb8-a5d2-c6c8ca856f23",
   "metadata": {},
   "source": [
    "### Setup API Parameters"
   ]
  },
  {
   "cell_type": "code",
   "execution_count": 37,
   "id": "fdc234a8-75d8-418a-88c6-34bfa7b8bada",
   "metadata": {},
   "outputs": [],
   "source": [
    "jbase_url = \"https://api.crossref.org/journals/\" # the base url for api calls\n",
    "email = \"your_email@ua.edu\" # Change this to be your email\n",
    "mailto = \"&mailto=\" + email\n",
    "issn = \"1471-2105\"  # issn for the journal BMC Bioinformatics\n",
    "journal_works2014 = \"/works?filter=from-pub-date:2014,until-pub-date:2014&select=DOI\" # query to get DOIs for 2014"
   ]
  },
  {
   "cell_type": "markdown",
   "id": "1944cec3-7b30-4ef1-94dd-fc8652514a7a",
   "metadata": {},
   "source": [
    "### Request DOI data from crossref API"
   ]
  },
  {
   "cell_type": "code",
   "execution_count": 38,
   "id": "694bf981-022e-4a97-a44a-8f93e82e11aa",
   "metadata": {},
   "outputs": [
    {
     "name": "stdout",
     "output_type": "stream",
     "text": [
      "{'message': {'facets': {},\n",
      "             'items': [{'DOI': '10.1186/1471-2105-15-84'},\n",
      "                       {'DOI': '10.1186/1471-2105-15-94'},\n",
      "                       {'DOI': '10.1186/1471-2105-15-172'},\n",
      "                       {'DOI': '10.1186/1471-2105-15-106'},\n",
      "                       {'DOI': '10.1186/1471-2105-15-95'},\n",
      "                       {'DOI': '10.1186/1471-2105-15-s9-s12'},\n",
      "                       {'DOI': '10.1186/1471-2105-15-33'},\n",
      "                       {'DOI': '10.1186/1471-2105-15-s10-p33'},\n",
      "                       {'DOI': '10.1186/1471-2105-15-278'},\n",
      "                       {'DOI': '10.1186/1471-2105-15-s13-s3'},\n",
      "                       {'DOI': '10.1186/1471-2105-15-s16-s13'},\n",
      "                       {'DOI': '10.1186/1471-2105-15-254'},\n",
      "                       {'DOI': '10.1186/1471-2105-15-s10-p24'},\n",
      "                       {'DOI': '10.1186/1471-2105-15-310'},\n",
      "                       {'DOI': '10.1186/1471-2105-15-101'},\n",
      "                       {'DOI': '10.1186/1471-2105-15-56'},\n",
      "                       {'DOI': '10.1186/1471-2105-15-s10-p6'},\n",
      "                       {'DOI': '10.1186/s12859-014-0411-1'},\n",
      "                       {'DOI': '10.1186/s12859-014-0358-2'},\n",
      "                       {'DOI': '10.1186/1471-2105-15-166'}],\n",
      "             'items-per-page': 20,\n",
      "             'query': {'search-terms': None, 'start-index': 0},\n",
      "             'total-results': 619},\n",
      " 'message-type': 'work-list',\n",
      " 'message-version': '1.0.0',\n",
      " 'status': 'ok'}\n"
     ]
    }
   ],
   "source": [
    "doi_data = requests.get(jbase_url + issn + journal_works2014 + mailto).json()\n",
    "pprint(doi_data)"
   ]
  },
  {
   "cell_type": "markdown",
   "id": "cdc57bfe-c0c5-4f46-afb2-8d77815dbc4c",
   "metadata": {},
   "source": [
    "By default, 20 results are displayed. Crossref allows up to 1000 returned results using the rows parameter. To get all 619 results, we can increase the number of returned rows."
   ]
  },
  {
   "cell_type": "code",
   "execution_count": 39,
   "id": "fd9e4d64-4480-4408-bb55-fa0e30e24fd0",
   "metadata": {},
   "outputs": [],
   "source": [
    "rows = \"&rows=700\"\n",
    "doi_data_all = requests.get(jbase_url + issn + journal_works2014 + rows + mailto).json()"
   ]
  },
  {
   "cell_type": "markdown",
   "id": "c028bd96-737c-457d-839e-23be6e248bef",
   "metadata": {},
   "source": [
    "### Extract DOIs"
   ]
  },
  {
   "cell_type": "code",
   "execution_count": 40,
   "id": "c39270e7-570c-405c-b5e9-318284319e84",
   "metadata": {},
   "outputs": [],
   "source": [
    "dois_list = []\n",
    "for i in range(len(doi_data_all[\"message\"][\"items\"])):\n",
    "    dois_list.append(doi_data_all[\"message\"][\"items\"][i][\"DOI\"])"
   ]
  },
  {
   "cell_type": "code",
   "execution_count": 41,
   "id": "753c6279-d096-40cd-b6c6-b22c7bfc1ac7",
   "metadata": {},
   "outputs": [
    {
     "data": {
      "text/plain": [
       "619"
      ]
     },
     "execution_count": 41,
     "metadata": {},
     "output_type": "execute_result"
    }
   ],
   "source": [
    "len(dois_list)"
   ]
  },
  {
   "cell_type": "code",
   "execution_count": 42,
   "id": "a51f6af1-85ab-4b7c-a7f0-bedd6c4c68ab",
   "metadata": {},
   "outputs": [
    {
     "name": "stdout",
     "output_type": "stream",
     "text": [
      "['10.1186/1471-2105-15-84',\n",
      " '10.1186/1471-2105-15-94',\n",
      " '10.1186/1471-2105-15-172',\n",
      " '10.1186/1471-2105-15-106',\n",
      " '10.1186/1471-2105-15-95',\n",
      " '10.1186/1471-2105-15-s9-s12',\n",
      " '10.1186/1471-2105-15-33',\n",
      " '10.1186/1471-2105-15-s10-p33',\n",
      " '10.1186/1471-2105-15-278',\n",
      " '10.1186/1471-2105-15-s13-s3',\n",
      " '10.1186/1471-2105-15-s16-s13',\n",
      " '10.1186/1471-2105-15-254',\n",
      " '10.1186/1471-2105-15-s10-p24',\n",
      " '10.1186/1471-2105-15-161',\n",
      " '10.1186/1471-2105-15-266',\n",
      " '10.1186/1471-2105-15-310',\n",
      " '10.1186/1471-2105-15-101',\n",
      " '10.1186/1471-2105-15-56',\n",
      " '10.1186/1471-2105-15-s10-p6',\n",
      " '10.1186/s12859-014-0411-1']\n"
     ]
    }
   ],
   "source": [
    "# display the first 20\n",
    "pprint(dois_list[0:20])"
   ]
  },
  {
   "cell_type": "markdown",
   "id": "93c11e91-332b-4559-bf88-0882fd24e430",
   "metadata": {},
   "source": [
    "\n",
    "**What if we have more than 1000 results in a single query?**\n",
    "\n",
    "For example, if we wanted the DOIs from *BMC Bioinformatics* for years 2014 through 2016?"
   ]
  },
  {
   "cell_type": "code",
   "execution_count": 43,
   "id": "a8fae12b-e9f9-4c6d-ac87-6a24f60d4591",
   "metadata": {},
   "outputs": [
    {
     "name": "stdout",
     "output_type": "stream",
     "text": [
      "{'message': {'facets': {},\n",
      "             'items': [{'DOI': '10.1186/1471-2105-15-84'},\n",
      "                       {'DOI': '10.1186/1471-2105-15-94'},\n",
      "                       {'DOI': '10.1186/1471-2105-16-s15-p11'},\n",
      "                       {'DOI': '10.1186/s12859-016-1335-8'},\n",
      "                       {'DOI': '10.1186/1471-2105-15-172'},\n",
      "                       {'DOI': '10.1186/s12859-015-0538-8'},\n",
      "                       {'DOI': '10.1186/1471-2105-15-106'},\n",
      "                       {'DOI': '10.1186/s12859-016-1086-6'},\n",
      "                       {'DOI': '10.1186/s12859-015-0468-5'},\n",
      "                       {'DOI': '10.1186/s12859-015-0585-1'},\n",
      "                       {'DOI': '10.1186/1471-2105-15-95'},\n",
      "                       {'DOI': '10.1186/1471-2105-16-s15-p20'},\n",
      "                       {'DOI': '10.1186/1471-2105-15-s9-s12'},\n",
      "                       {'DOI': '10.1186/s12859-015-0845-0'},\n",
      "                       {'DOI': '10.1186/s12859-016-1202-7'},\n",
      "                       {'DOI': '10.1186/s12859-016-1198-z'},\n",
      "                       {'DOI': '10.1186/s12859-015-0843-2'},\n",
      "                       {'DOI': '10.1186/1471-2105-15-33'},\n",
      "                       {'DOI': '10.1186/s12859-015-0729-3'},\n",
      "                       {'DOI': '10.1186/s12859-016-1234-z'}],\n",
      "             'items-per-page': 20,\n",
      "             'query': {'search-terms': None, 'start-index': 0},\n",
      "             'total-results': 1772},\n",
      " 'message-type': 'work-list',\n",
      " 'message-version': '1.0.0',\n",
      " 'status': 'ok'}\n"
     ]
    }
   ],
   "source": [
    "jbase_url = \"https://api.crossref.org/journals/\" # the base url for api calls\n",
    "email = \"your_email@ua.edu\" # Change this to be your email\n",
    "mailto = \"&mailto=\" + email\n",
    "issn = \"1471-2105\"  # issn for the journal BMC Bioinformatics\n",
    "journal_works2014_2016 = \"/works?filter=from-pub-date:2014,until-pub-date:2016&select=DOI\" # query to get DOIs for 2014-2016\n",
    "doi_data2 = requests.get(jbase_url + issn + journal_works2014_2016 + mailto).json()\n",
    "pprint(doi_data2)"
   ]
  },
  {
   "cell_type": "markdown",
   "id": "540fcfe6-d472-4488-ba82-b27dc793d10c",
   "metadata": {},
   "source": [
    "Here we see that the total results is over 1000 (total-results: 1772). An additional parameter that we can use with crossref API is called \"offset\". The offset option allows us to select sets of records and define a starting position (e.g., the first 1000, and then the second set of up to 1000.)"
   ]
  },
  {
   "cell_type": "code",
   "execution_count": 44,
   "id": "c9ef6324-08ce-4d91-80d8-aefeaf500a01",
   "metadata": {},
   "outputs": [],
   "source": [
    "doi_list2 = []\n",
    "rows = \"&rows=1000\"\n",
    "numResults = requests.get(jbase_url + issn + journal_works2014_2016 + mailto).json()[\"message\"][\"total-results\"]\n",
    "sleep(1)\n",
    "for n in range(int(numResults/1000)+1): # list(range(int(numberOfResults/1000)+1)) = [0,1]\n",
    "    query = requests.get(jbase_url + issn + journal_works2014_2016 + rows + \"&offset=\" + str(1000*n) + mailto).json()\n",
    "    sleep(1)\n",
    "    for doi in range(len(query[\"message\"][\"items\"])):\n",
    "        doi_list2.append(query[\"message\"][\"items\"][doi][\"DOI\"])"
   ]
  },
  {
   "cell_type": "code",
   "execution_count": 45,
   "id": "1c230f71-a9c6-488e-8746-c175959822d1",
   "metadata": {},
   "outputs": [
    {
     "data": {
      "text/plain": [
       "1772"
      ]
     },
     "execution_count": 45,
     "metadata": {},
     "output_type": "execute_result"
    }
   ],
   "source": [
    "len(doi_list2)"
   ]
  },
  {
   "cell_type": "code",
   "execution_count": 46,
   "id": "ce6d3088-0f22-48d8-b344-820cc8e8ed43",
   "metadata": {},
   "outputs": [
    {
     "name": "stdout",
     "output_type": "stream",
     "text": [
      "['10.1186/s12859-015-0822-7',\n",
      " '10.1186/s12859-015-0758-y',\n",
      " '10.1186/1471-2105-15-s6-s1',\n",
      " '10.1186/s12859-015-0768-9',\n",
      " '10.1186/1471-2105-15-139',\n",
      " '10.1186/s12859-015-0664-3',\n",
      " '10.1186/s12859-016-1246-8',\n",
      " '10.1186/s12859-016-1155-x',\n",
      " '10.1186/1471-2105-15-67',\n",
      " '10.1186/s12859-016-1224-1',\n",
      " '10.1186/s12859-016-1137-z',\n",
      " '10.1186/s12859-016-1121-7',\n",
      " '10.1186/s12859-015-0863-y',\n",
      " '10.1186/1471-2105-15-s13-s4',\n",
      " '10.1186/1471-2105-15-20',\n",
      " '10.1186/s12859-016-1317-x',\n",
      " '10.1186/s12859-016-1384-z',\n",
      " '10.1186/1471-2105-15-231',\n",
      " '10.1186/s12859-015-0569-1',\n",
      " '10.1186/s12859-016-1404-z']\n"
     ]
    }
   ],
   "source": [
    "# show results 1000 through 1020\n",
    "pprint(doi_list2[1000:1020])"
   ]
  },
  {
   "cell_type": "code",
   "execution_count": null,
   "id": "4cd79d74-9af7-46fa-af1d-8612969e3e48",
   "metadata": {},
   "outputs": [],
   "source": []
  }
 ],
 "metadata": {
  "kernelspec": {
   "display_name": "Python 3 (ipykernel)",
   "language": "python",
   "name": "python3"
  },
  "language_info": {
   "codemirror_mode": {
    "name": "ipython",
    "version": 3
   },
   "file_extension": ".py",
   "mimetype": "text/x-python",
   "name": "python",
   "nbconvert_exporter": "python",
   "pygments_lexer": "ipython3",
   "version": "3.9.7"
  }
 },
 "nbformat": 4,
 "nbformat_minor": 5
}
