{
 "cells": [
  {
   "cell_type": "markdown",
   "metadata": {},
   "source": [
    "# U.S. Census Geocoding API in Python\n",
    "\n",
    "by Michael T. Moen\n",
    "\n",
    "*This product uses the Census Bureau Data API but is not endorsed or certified by the Census Bureau.*\n",
    "\n",
    "Please see the following resources for more information on API usage:\n",
    "\n",
    "- Documentation\n",
    "    - <a href=\"https://geocoding.geo.census.gov/geocoder/Geocoding_Services_API.html\" target=\"_blank\">U.S. Census Geocoding API Documentation</a>\n",
    "- Terms of Use\n",
    "    - <a href=\"https://www.census.gov/data/developers/about/terms-of-service.html\" target=\"_blank\">U.S. Census Geocoding API Terms of Service</a>\n",
    "\n",
    "*These recipe examples were tested on March 7, 2025.*"
   ]
  },
  {
   "cell_type": "markdown",
   "metadata": {},
   "source": [
    "## Setup\n",
    "\n",
    "The following external libraries need to be installed into your enviornment to run the code examples in this tutorial:\n",
    "\n",
    "- <a href=\"https://github.com/ipython/ipykernel\" target=\"_blank\">ipykernel</a>\n",
    "- <a href=\"https://github.com/psf/requests\" target=\"_blank\">requests</a>"
   ]
  },
  {
   "cell_type": "code",
   "execution_count": 1,
   "metadata": {},
   "outputs": [],
   "source": [
    "import requests\n",
    "import csv\n",
    "from pprint import pprint"
   ]
  },
  {
   "cell_type": "markdown",
   "metadata": {},
   "source": [
    "## 1. Address Lookup\n",
    "\n",
    "One of the main use cases of this API is finding the latitude and longitude of an address. In this example, we find the latitude and longitude of the Bruno Business Library at the University of Alabama.\n",
    "\n",
    "The API allows searching through two methods: `address` and `onelineaddress`. These methods are nearly identical, with the only difference being the format of the parameters passed to API.\n",
    "\n",
    "### Using `address` Search"
   ]
  },
  {
   "cell_type": "code",
   "execution_count": 3,
   "metadata": {},
   "outputs": [
    {
     "data": {
      "text/plain": [
       "200"
      ]
     },
     "execution_count": 3,
     "metadata": {},
     "output_type": "execute_result"
    }
   ],
   "source": [
    "BASE_URL = 'https://geocoding.geo.census.gov/geocoder/'\n",
    "return_type = 'locations'\n",
    "search_type = 'address'\n",
    "\n",
    "params = {\n",
    "    # Specify the address to lookup with the following parameters\n",
    "    'street': '425 Stadium Dr',\n",
    "    'city': 'Tuscaloosa',\n",
    "    'state': 'AL',\n",
    "    'zip': 35401,\n",
    "    # Specify the version of the locator to be searched\n",
    "    'benchmark': 'Public_AR_Current',\n",
    "    # Specify that data should be returned in JSON format\n",
    "    'format': 'json'\n",
    "}\n",
    "\n",
    "response = requests.get(f'{BASE_URL}{return_type}/{search_type}', params=params)\n",
    "\n",
    "# Status code of 200 indicates success\n",
    "response.status_code"
   ]
  },
  {
   "cell_type": "code",
   "execution_count": 4,
   "metadata": {},
   "outputs": [
    {
     "data": {
      "text/plain": [
       "{'result': {'input': {'address': {'zip': '35401',\n",
       "    'city': 'Tuscaloosa',\n",
       "    'street': '425 Stadium Dr',\n",
       "    'state': 'AL'},\n",
       "   'benchmark': {'isDefault': True,\n",
       "    'benchmarkDescription': 'Public Address Ranges - Current Benchmark',\n",
       "    'id': '4',\n",
       "    'benchmarkName': 'Public_AR_Current'}},\n",
       "  'addressMatches': [{'tigerLine': {'side': 'L', 'tigerLineId': '636109874'},\n",
       "    'coordinates': {'x': -87.549700416257, 'y': 33.21105403378},\n",
       "    'addressComponents': {'zip': '35401',\n",
       "     'streetName': 'STADIUM',\n",
       "     'preType': '',\n",
       "     'city': 'TUSCALOOSA',\n",
       "     'preDirection': '',\n",
       "     'suffixDirection': '',\n",
       "     'fromAddress': '401',\n",
       "     'state': 'AL',\n",
       "     'suffixType': 'DR',\n",
       "     'toAddress': '499',\n",
       "     'suffixQualifier': '',\n",
       "     'preQualifier': ''},\n",
       "    'matchedAddress': '425 STADIUM DR, TUSCALOOSA, AL, 35401'}]}}"
      ]
     },
     "execution_count": 4,
     "metadata": {},
     "output_type": "execute_result"
    }
   ],
   "source": [
    "response.json()"
   ]
  },
  {
   "cell_type": "code",
   "execution_count": 5,
   "metadata": {},
   "outputs": [
    {
     "data": {
      "text/plain": [
       "(33.21105403378, -87.549700416257)"
      ]
     },
     "execution_count": 5,
     "metadata": {},
     "output_type": "execute_result"
    }
   ],
   "source": [
    "latitude = response.json()['result']['addressMatches'][0]['coordinates']['y']\n",
    "longitude = response.json()['result']['addressMatches'][0]['coordinates']['x']\n",
    "\n",
    "# Display coordinates\n",
    "latitude, longitude"
   ]
  },
  {
   "cell_type": "markdown",
   "metadata": {},
   "source": [
    "### Using `onelineaddress` Search"
   ]
  },
  {
   "cell_type": "code",
   "execution_count": 6,
   "metadata": {},
   "outputs": [
    {
     "data": {
      "text/plain": [
       "200"
      ]
     },
     "execution_count": 6,
     "metadata": {},
     "output_type": "execute_result"
    }
   ],
   "source": [
    "return_type = 'locations'\n",
    "search_type = 'onelineaddress'\n",
    "\n",
    "params = {\n",
    "    # Specify the address to lookup with the parameters\n",
    "    # Note that 'street' is required, and the other parameters are optional\n",
    "    'address': '425 Stadium Dr, Tuscaloosa, AL 35401',\n",
    "    # Specify the version of the locator to be searched\n",
    "    'benchmark': 'Public_AR_Current',\n",
    "    # Specify that data should be returned in JSON format\n",
    "    'format': 'json'\n",
    "}\n",
    "\n",
    "response = requests.get(f'{BASE_URL}{return_type}/{search_type}', params=params)\n",
    "\n",
    "# Status code of 200 indicates success\n",
    "response.status_code"
   ]
  },
  {
   "cell_type": "code",
   "execution_count": 7,
   "metadata": {},
   "outputs": [
    {
     "data": {
      "text/plain": [
       "(33.21105403378, -87.549700416257)"
      ]
     },
     "execution_count": 7,
     "metadata": {},
     "output_type": "execute_result"
    }
   ],
   "source": [
    "latitude = response.json()['result']['addressMatches'][0]['coordinates']['y']\n",
    "longitude = response.json()['result']['addressMatches'][0]['coordinates']['x']\n",
    "\n",
    "# Display coordinates\n",
    "latitude, longitude"
   ]
  },
  {
   "cell_type": "markdown",
   "metadata": {},
   "source": [
    "## 2. Batch Address Lookup\n",
    "\n",
    "The U.S. Census Geocoding API also allows for batch geocoding with the submission of a CSV, TXT, DAT, XLS, or XLSX file. These files must be formatted with one record per line, where each record must be formatted as followed: Unique ID, Street address, City, State, ZIP. Users are limited to 10,000 records per batch file.\n",
    "\n",
    "This example uses the CSV file created below:"
   ]
  },
  {
   "cell_type": "code",
   "execution_count": 8,
   "metadata": {},
   "outputs": [],
   "source": [
    "# Create list of addresses for the batch lookup\n",
    "# Note that each record must begin with a unique ID\n",
    "addresses = [\n",
    "    ['1', '425 Stadium Dr', 'Tuscaloosa', 'AL', '35401'],\n",
    "    ['2', '1600 Pennsylvania Avenue NW', 'Washington', 'DC', '20500'],\n",
    "    ['3', '350 Fifth Avenue', 'New York', 'NY', '10118'],\n",
    "    ['4', '660 Cannery Row', 'Monterey', 'CA', '93940'],\n",
    "    ['5', '700 Clark Ave', 'St. Louis', 'MO', '63102']\n",
    "]\n",
    "\n",
    "# Export addresses to a CSV file\n",
    "input_filename = 'batch_addresses.csv'\n",
    "with open(input_filename, 'w', newline='') as f:\n",
    "    csv_writer = csv.writer(f)\n",
    "    csv_writer.writerows(addresses)"
   ]
  },
  {
   "cell_type": "code",
   "execution_count": 9,
   "metadata": {},
   "outputs": [
    {
     "data": {
      "text/plain": [
       "200"
      ]
     },
     "execution_count": 9,
     "metadata": {},
     "output_type": "execute_result"
    }
   ],
   "source": [
    "# Format parameters needed for POST request\n",
    "return_type = 'locations'\n",
    "params = {\n",
    "    'benchmark' : 'Public_AR_Current'\n",
    "}\n",
    "files = {\n",
    "    'addressFile': open(input_filename, \"rb\")\n",
    "}\n",
    "\n",
    "url = f'https://geocoding.geo.census.gov/geocoder/{return_type}/addressbatch'\n",
    "response = requests.post(url, data=params, files=files)\n",
    "\n",
    "# Status code of 200 indicates success\n",
    "response.status_code"
   ]
  },
  {
   "cell_type": "code",
   "execution_count": 10,
   "metadata": {},
   "outputs": [
    {
     "name": "stdout",
     "output_type": "stream",
     "text": [
      "['1', '425 Stadium Dr, Tuscaloosa, AL, 35401', 'Match', 'Exact', '425 STADIUM DR, TUSCALOOSA, AL, 35401', '-87.549700416257,33.211054033781', '636109874', 'L']\n",
      "['2', '1600 Pennsylvania Avenue NW, Washington, DC, 20500', 'Match', 'Exact', '1600 PENNSYLVANIA AVE NW, WASHINGTON, DC, 20500', '-77.036543957308,38.898690918656', '76225813', 'L']\n",
      "['3', '350 Fifth Avenue, New York, NY, 10118', 'Match', 'Exact', '350 5TH AVE, NEW YORK, NY, 10118', '-73.985077152891,40.747848600317', '59653473', 'L']\n",
      "['4', '660 Cannery Row, Monterey, CA, 93940', 'Match', 'Exact', '660 CANNERY ROW, MONTEREY, CA, 93940', '-121.901280304574,36.617235842516', '647390330', 'R']\n",
      "['5', '700 Clark Ave, St. Louis, MO, 63102', 'Match', 'Non_Exact', '700 CLARK AVE, SAINT LOUIS, MO, 63119', '-90.340369438036,38.602422417149', '100141071', 'R']\n"
     ]
    }
   ],
   "source": [
    "# Save content of response to a new CSV\n",
    "output_filename = 'geocoded_addresses.csv'\n",
    "with open(output_filename, 'wb') as f:\n",
    "    f.write(response.content)\n",
    "\n",
    "# Printing contents of CSV for demonstation purposes\n",
    "with open(output_filename, newline='') as f:\n",
    "    csv_reader = csv.reader(f)\n",
    "    for row in csv_reader:\n",
    "        print(row)"
   ]
  },
  {
   "cell_type": "markdown",
   "metadata": {},
   "source": [
    "Note that the last two columns of the above data are the TIGER/Line ID and TIGER/Line Side. For more information on these values, please see the <a href=\"https://www.census.gov/programs-surveys/geography/technical-documentation/complete-technical-documentation/tiger-geodatabase-file.html\" target=\"_blank\">U.S. Census TIGER/Line Geodatabase Documentation</a>. However, this tutorial does not utilize any TIGER/Line data."
   ]
  },
  {
   "cell_type": "markdown",
   "metadata": {},
   "source": [
    "## 3. Retrieving Additional Geographic Data\n",
    "\n",
    "The `geographies` return type allows for the retrieval of additional data associated for a given address or set of coordinates. The example below retrieves this data using the address of the Bruno Business Library at the University of Alabama.\n",
    "\n",
    "Note that the `geographies` return type requires the `vintage` parameter to be specified.\n",
    "\n",
    "Users may additionally include the `layers` parameter, which determines the types of geography data returned. For a list of all layers, see <a href=\"https://tigerweb.geo.census.gov/arcgis/rest/services/TIGERweb/tigerWMS_Current/MapServer\" target=\"_blank\">here</a>."
   ]
  },
  {
   "cell_type": "code",
   "execution_count": 15,
   "metadata": {},
   "outputs": [
    {
     "data": {
      "text/plain": [
       "200"
      ]
     },
     "execution_count": 15,
     "metadata": {},
     "output_type": "execute_result"
    }
   ],
   "source": [
    "return_type = 'geographies'\n",
    "search_type = 'address'\n",
    "\n",
    "params = {\n",
    "    # Specify the address to lookup with the following parameters\n",
    "    'street': '425 Stadium Dr',\n",
    "    'city': 'Tuscaloosa',\n",
    "    'state': 'AL',\n",
    "    'zip': 35401,\n",
    "    # Specify the version of the locator to be searched\n",
    "    'benchmark': 'Public_AR_Current',\n",
    "    # Specify the vintage\n",
    "    'vintage': 'Current_Current',\n",
    "    # Specify what categories of geographic data to retrieve\n",
    "    'layers': 'all',\n",
    "    # Specify that data should be returned in JSON format\n",
    "    'format': 'json'\n",
    "}\n",
    "\n",
    "response = requests.get(f'{BASE_URL}{return_type}/{search_type}', params=params)\n",
    "\n",
    "# Status code of 200 indicates success\n",
    "response.status_code"
   ]
  },
  {
   "cell_type": "markdown",
   "metadata": {},
   "source": [
    "Note that the `geographies` return type returns all of the data that the `locations` return type does in addition to the geographies data."
   ]
  },
  {
   "cell_type": "code",
   "execution_count": 16,
   "metadata": {},
   "outputs": [
    {
     "name": "stdout",
     "output_type": "stream",
     "text": [
      "{'addressComponents': {...},\n",
      " 'coordinates': {...},\n",
      " 'geographies': {...},\n",
      " 'matchedAddress': '425 STADIUM DR, TUSCALOOSA, AL, 35401',\n",
      " 'tigerLine': {...}}\n"
     ]
    }
   ],
   "source": [
    "pprint(response.json()['result']['addressMatches'][0], depth=1)"
   ]
  },
  {
   "cell_type": "markdown",
   "metadata": {},
   "source": [
    "The geographies data contains the following categories:"
   ]
  },
  {
   "cell_type": "code",
   "execution_count": 17,
   "metadata": {},
   "outputs": [
    {
     "name": "stdout",
     "output_type": "stream",
     "text": [
      "{'119th Congressional Districts': [...],\n",
      " '2020 Census Blocks': [...],\n",
      " '2020 Census Public Use Microdata Areas': [...],\n",
      " '2020 Census ZIP Code Tabulation Areas': [...],\n",
      " '2024 State Legislative Districts - Lower': [...],\n",
      " '2024 State Legislative Districts - Upper': [...],\n",
      " 'Census Block Groups': [...],\n",
      " 'Census Divisions': [...],\n",
      " 'Census Regions': [...],\n",
      " 'Census Tracts': [...],\n",
      " 'Counties': [...],\n",
      " 'County Subdivisions': [...],\n",
      " 'Incorporated Places': [...],\n",
      " 'Metropolitan Statistical Areas': [...],\n",
      " 'States': [...],\n",
      " 'Unified School Districts': [...],\n",
      " 'Urban Areas': [...]}\n"
     ]
    }
   ],
   "source": [
    "pprint(response.json()['result']['addressMatches'][0]['geographies'], depth=1)"
   ]
  },
  {
   "cell_type": "markdown",
   "metadata": {},
   "source": [
    "As an example, this is how the Counties data is formatted."
   ]
  },
  {
   "cell_type": "code",
   "execution_count": 18,
   "metadata": {
    "tags": []
   },
   "outputs": [
    {
     "data": {
      "text/plain": [
       "[{'GEOID': '01125',\n",
       "  'CENTLAT': '+33.2894031',\n",
       "  'AREAWATER': '78666216',\n",
       "  'STATE': '01',\n",
       "  'BASENAME': 'Tuscaloosa',\n",
       "  'OID': '2759075608325',\n",
       "  'LSADC': '06',\n",
       "  'FUNCSTAT': 'A',\n",
       "  'INTPTLAT': '+33.2902197',\n",
       "  'NAME': 'Tuscaloosa County',\n",
       "  'OBJECTID': 3113,\n",
       "  'CENTLON': '-087.5250366',\n",
       "  'COUNTYCC': 'H1',\n",
       "  'COUNTYNS': '00161588',\n",
       "  'AREALAND': '3421017287',\n",
       "  'INTPTLON': '-087.5227834',\n",
       "  'MTFCC': 'G4020',\n",
       "  'COUNTY': '125'}]"
      ]
     },
     "execution_count": 18,
     "metadata": {},
     "output_type": "execute_result"
    }
   ],
   "source": [
    "response.json()['result']['addressMatches'][0]['geographies']['Counties']"
   ]
  }
 ],
 "metadata": {
  "kernelspec": {
   "display_name": "api_env",
   "language": "python",
   "name": "python3"
  },
  "language_info": {
   "codemirror_mode": {
    "name": "ipython",
    "version": 3
   },
   "file_extension": ".py",
   "mimetype": "text/x-python",
   "name": "python",
   "nbconvert_exporter": "python",
   "pygments_lexer": "ipython3",
   "version": "3.13.1"
  },
  "orig_nbformat": 4
 },
 "nbformat": 4,
 "nbformat_minor": 2
}
