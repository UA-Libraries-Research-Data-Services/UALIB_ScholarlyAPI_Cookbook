{
 "cells": [
  {
   "cell_type": "markdown",
   "metadata": {},
   "source": [
    "# Sage Journals Text and Data Mining in Python\n",
    "\n",
    "by Michael T. Moen\n",
    "\n",
    "Sage Journals allow downloading of articles for which you have legitimate access (e.g. open access articles and those included in your institution's subscription) for non-commercial text and data mining (see restrictions in terms below). Access to text and data mining with Sage resources requires prior approval. Contact UA Libraries or your institution to check their agreement and enable access. Please see the following resources below for more information on Sage text and data mining, API usage, and policies/terms:\n",
    "\n",
    "*This tutorial content is intended to help facilitate academic research. Please check your institution for their Text and Data Mining or related License Agreement with Sage Journals.*\n",
    "\n",
    "- Documentation\n",
    "    - <a href=\"https://journals.sagepub.com/\" target=\"_blank\">Sage Journals</a>\n",
    "- Terms\n",
    "    - <a href=\"https://journals.sagepub.com/page/policies/text-and-data-mining\" target=\"_blank\">Text and Data Mining on Sage Journals</a>\n",
    "    - <a href=\"https://journals.sagepub.com/page/policies/text-and-data-mining-license\" target=\"_blank\">Sage Journals Text and Data Mining License</a>\n",
    "    - <a href=\"https://journals.sagepub.com/page/policies/terms-of-use\" target=\"_blank\">Sage Journals Terms and Conditions of Use</a>\n",
    "- Data Reuse\n",
    "    - <a href=\"https://www.sagepub.com/tdm-ai-policy\" target=\"_blank\">Sage Policy on Text and Data Mining (TDM) and Artificial Intelligence (AI)</a>\n",
    "\n",
    "*This recipe uses the CrossRef API to obtain the full-text URLs of the articles, as recommended in <a href=\"https://journals.sagepub.com/page/policies/text-and-data-mining\" target=\"_blank\">Sage's Text and Data Mining overview</a>. For more information on usage for this API, please see our <a href=\"https://ua-libraries-research-data-services.github.io/UALIB_ScholarlyAPI_Cookbook/src/overview/crossref.html\" target=\"_blank\">CrossRef cookbook tutorials</a> and the <a href=\"https://www.crossref.org/documentation/retrieve-metadata/rest-api/text-and-data-mining-for-researchers/\" target=\"_blank\">text and data mining for researchers page of CrossRef's API documentation</a>.*\n",
    "\n",
    "**_NOTE:_** Sage Journals limits downloads to a maximum of 1 request every 6 seconds Monday to Friday from midnight to noon in the \"America/Los_Angeles\" timezone, and 1 request every 2 seconds outside of this time slot.\n",
    "\n",
    "*These recipe examples were tested on October 14, 2025.*"
   ]
  },
  {
   "cell_type": "markdown",
   "metadata": {},
   "source": [
    "## Setup\n",
    "\n",
    "### Import Libraries\n",
    "\n",
    "The following external libraries need to be installed into your environment to run the code examples in this tutorial:\n",
    "\n",
    "- <a href=\"https://github.com/ipython/ipykernel\" target=\"_blank\">ipykernel</a>\n",
    "- <a href=\"https://github.com/theskumar/python-dotenv\" target=\"_blank\">python-dotenv</a>\n",
    "- <a href=\"https://github.com/psf/requests\" target=\"_blank\">requests</a>\n",
    "\n",
    "We import the libraries used in this tutorial below:"
   ]
  },
  {
   "cell_type": "code",
   "execution_count": 1,
   "metadata": {},
   "outputs": [],
   "source": [
    "import requests\n",
    "from dotenv import load_dotenv\n",
    "import os\n",
    "from time import sleep"
   ]
  },
  {
   "cell_type": "markdown",
   "metadata": {},
   "source": [
    "### Import Email\n",
    "\n",
    "The CrossRef API requires users to provide an email address in API requests. \n",
    "\n",
    "We keep our email address in a `.env` file and use the `dotenv` library to access it. If you would like to use this method, create a `.env` file and add the following line to it:\n",
    "\n",
    "```text\n",
    "EMAIL=PUT_YOUR_EMAIL_HERE\n",
    "```"
   ]
  },
  {
   "cell_type": "code",
   "execution_count": 2,
   "metadata": {},
   "outputs": [],
   "source": [
    "load_dotenv()\n",
    "try:\n",
    "    EMAIL = os.environ[\"EMAIL\"]\n",
    "except KeyError:\n",
    "    print(\"EMAIL not found. Please set 'EMAIL' in your .env file.\")"
   ]
  },
  {
   "cell_type": "markdown",
   "metadata": {},
   "source": [
    "### Enable Text and Data Mining with Sage\n",
    "\n",
    "Access to text and data mining on Sage requires approval. Contact UA Libraries or your institution to check their agreement and enable access."
   ]
  },
  {
   "cell_type": "markdown",
   "metadata": {},
   "source": [
    "## 1. Retrieve a Full-Text Article as a PDF\n",
    "\n",
    "To begin, let's consider a simple example where we retrieve the full-text of an article.\n",
    "\n",
    "For this example, we look at the following article licensed under <a href=\"https://creativecommons.org/licenses/by/4.0/\" target=\"_blank\">CC BY 4.0</a>:\n",
    "\n",
    "<a href=\"https://doi.org/10.1177/14759217221075241\" target=\"_blank\">https://doi.org/10.1177/14759217221075241</a>\n",
    "\n",
    "Sage permits non-commerical TDM for articles to those you have legitimate access to. If you can view the full text for the article of the DOI above in your browser, you should be able to access it programmatically below once you receive approval by Sage."
   ]
  },
  {
   "cell_type": "code",
   "execution_count": 3,
   "metadata": {},
   "outputs": [
    {
     "data": {
      "text/plain": [
       "'https://journals.sagepub.com/doi/pdf/10.1177/14759217221075241'"
      ]
     },
     "execution_count": 3,
     "metadata": {},
     "output_type": "execute_result"
    }
   ],
   "source": [
    "def get_pdf_url(doi : str) -> str:\n",
    "    \"\"\"Use the CrossRef API to obtain the PDF TDM link for the given DOI\"\"\"\n",
    "    data = requests.get(f'https://api.crossref.org/works/{doi}?mailto={EMAIL}').json()\n",
    "    for link in data['message']['link']:\n",
    "        if (link['content-type'] == 'application/pdf' and\n",
    "            link['intended-application'] == 'text-mining'):\n",
    "            return link['URL']\n",
    "\n",
    "doi = 'https://doi.org/10.1177/14759217221075241'\n",
    "full_text_url = get_pdf_url(doi)\n",
    "full_text_url"
   ]
  },
  {
   "cell_type": "markdown",
   "metadata": {},
   "source": [
    "With the URL for the article full text, we can now retrieve the data from Sage."
   ]
  },
  {
   "cell_type": "code",
   "execution_count": 4,
   "metadata": {},
   "outputs": [],
   "source": [
    "def get_article_full_text(url : str):\n",
    "    \"\"\"Retrieve the full-text of an article from Sage\"\"\"\n",
    "    response = requests.get(url)\n",
    "    if response.status_code == 200:\n",
    "        # Status code 200 indicates success\n",
    "        if 'https://journals.sagepub.com/doi/abs/' in response.url:\n",
    "            # If you do not have access to an article, your query will redirect to the abstract\n",
    "            print('ERROR: You do not appear to have access to the full-text for this article.')\n",
    "        else:\n",
    "            return response\n",
    "    elif response.status_code == 403:\n",
    "        # Status code 403 indicates that the requested object is forbidden\n",
    "        print('ERROR: Access to TDM on Sage requires approval.')\n",
    "        print('Contact UA Libraries or your institution for more guidance.')\n",
    "    else:\n",
    "        print(f'ERROR: {response.status_code}')\n",
    "    return None\n",
    "\n",
    "response = get_article_full_text(full_text_url)"
   ]
  },
  {
   "cell_type": "markdown",
   "metadata": {},
   "source": [
    "Since our query was successful, we download the article full-text as a PDF below:"
   ]
  },
  {
   "cell_type": "code",
   "execution_count": 5,
   "metadata": {},
   "outputs": [],
   "source": [
    "def download_pdf(response : requests.models.Response, filename : str) -> None:\n",
    "    \"\"\"Download the full-text for an article\"\"\"\n",
    "    with open(filename, 'wb') as f:\n",
    "        f.write(response.content)\n",
    "\n",
    "download_pdf(response, \"article.pdf\")"
   ]
  },
  {
   "cell_type": "markdown",
   "metadata": {},
   "source": [
    "## 2. Retrieve Full-Text PDF Articles in a Loop\n",
    "\n",
    "Using the functions defined in the previous example, we can retrieve the full-text of several articles in a loop."
   ]
  },
  {
   "cell_type": "code",
   "execution_count": 6,
   "metadata": {},
   "outputs": [
    {
     "name": "stdout",
     "output_type": "stream",
     "text": [
      "https://journals.sagepub.com/doi/pdf/10.3233/NAI-240767 successfully downloaded as article1.pdf\n",
      "https://journals.sagepub.com/doi/pdf/10.1177/20539517221145372 successfully downloaded as article2.pdf\n",
      "https://journals.sagepub.com/doi/pdf/10.1177/09544062231164575 successfully downloaded as article3.pdf\n",
      "http://journals.sagepub.com/doi/pdf/10.1177/2053951717743530 successfully downloaded as article4.pdf\n",
      "https://journals.sagepub.com/doi/pdf/10.1177/00405175221145571 successfully downloaded as article5.pdf\n"
     ]
    }
   ],
   "source": [
    "# These articles are licensed under CC BY 4.0: https://creativecommons.org/licenses/by/4.0/\n",
    "dois = [\n",
    "    'https://doi.org/10.3233/NAI-240767',\n",
    "    'https://doi.org/10.1177/20539517221145372',\n",
    "    'https://doi.org/10.1177/09544062231164575',\n",
    "    'https://doi.org/10.1177/2053951717743530',\n",
    "    'https://doi.org/10.1177/00405175221145571'\n",
    "]\n",
    "\n",
    "for idx, doi in enumerate(dois):\n",
    "    url = get_pdf_url(doi)\n",
    "    response = get_article_full_text(url)\n",
    "    sleep(1)\n",
    "    if not response:\n",
    "        print(f'ERROR: Could not download {url}')\n",
    "        continue\n",
    "    filename = f'article{idx+1}.pdf'\n",
    "    download_pdf(response, filename)\n",
    "    print(f'{url} successfully downloaded as {filename}')"
   ]
  },
  {
   "cell_type": "markdown",
   "metadata": {},
   "source": [
    "## 3. Retrieve a Full-Text Article as a XML\n",
    "\n",
    "This example uses the same article as section 1, retrieving the data as XML rather than a PDF."
   ]
  },
  {
   "cell_type": "code",
   "execution_count": 7,
   "metadata": {},
   "outputs": [
    {
     "data": {
      "text/plain": [
       "'https://journals.sagepub.com/doi/full-xml/10.1177/14759217221075241'"
      ]
     },
     "execution_count": 7,
     "metadata": {},
     "output_type": "execute_result"
    }
   ],
   "source": [
    "def get_xml_url(doi : str) -> str:\n",
    "    \"\"\"Use the CrossRef API to obtain the XML TDM link for the given DOI\"\"\"\n",
    "    data = requests.get(f'https://api.crossref.org/works/{doi}?mailto={EMAIL}').json()\n",
    "    for link in data['message']['link']:\n",
    "        if (link['content-type'] == 'application/xml' and\n",
    "            link['intended-application'] == 'text-mining'):\n",
    "            return link['URL']\n",
    "\n",
    "doi = 'https://doi.org/10.1177/14759217221075241'\n",
    "full_text_url = get_xml_url(doi)\n",
    "full_text_url"
   ]
  },
  {
   "cell_type": "code",
   "execution_count": 8,
   "metadata": {},
   "outputs": [],
   "source": [
    "response = get_article_full_text(full_text_url)"
   ]
  },
  {
   "cell_type": "code",
   "execution_count": 9,
   "metadata": {},
   "outputs": [],
   "source": [
    "def download_xml(response : requests.models.Response, filename : str) -> None:\n",
    "    \"\"\"Download the full-text for an article\"\"\"\n",
    "    with open(filename, 'wb') as f:\n",
    "        f.write(response.content)\n",
    "\n",
    "download_pdf(response, \"article.xml\")"
   ]
  },
  {
   "cell_type": "markdown",
   "metadata": {},
   "source": [
    "## 4. Retrieve Full-Text XML Articles in a Loop\n",
    "\n",
    "This example uses the same articles from section 2, retrieving the data as XML rather than PDFs."
   ]
  },
  {
   "cell_type": "code",
   "execution_count": 10,
   "metadata": {},
   "outputs": [
    {
     "name": "stdout",
     "output_type": "stream",
     "text": [
      "https://journals.sagepub.com/doi/full-xml/10.3233/NAI-240767 successfully downloaded as article1.xml\n",
      "https://journals.sagepub.com/doi/full-xml/10.1177/20539517221145372 successfully downloaded as article2.xml\n",
      "https://journals.sagepub.com/doi/full-xml/10.1177/09544062231164575 successfully downloaded as article3.xml\n",
      "http://journals.sagepub.com/doi/full-xml/10.1177/2053951717743530 successfully downloaded as article4.xml\n",
      "https://journals.sagepub.com/doi/full-xml/10.1177/00405175221145571 successfully downloaded as article5.xml\n"
     ]
    }
   ],
   "source": [
    "# We use the same list of DOIs from section 2\n",
    "for idx, doi in enumerate(dois):\n",
    "    url = get_xml_url(doi)\n",
    "    response = get_article_full_text(url)\n",
    "    sleep(1)\n",
    "    if not response:\n",
    "        print(f'ERROR: Could not download {url}')\n",
    "        continue\n",
    "    filename = f'article{idx+1}.xml'\n",
    "    download_xml(response, filename)\n",
    "    print(f'{url} successfully downloaded as {filename}')"
   ]
  }
 ],
 "metadata": {
  "kernelspec": {
   "display_name": "cookbook",
   "language": "python",
   "name": "python3"
  },
  "language_info": {
   "codemirror_mode": {
    "name": "ipython",
    "version": 3
   },
   "file_extension": ".py",
   "mimetype": "text/x-python",
   "name": "python",
   "nbconvert_exporter": "python",
   "pygments_lexer": "ipython3",
   "version": "3.13.5"
  },
  "orig_nbformat": 4
 },
 "nbformat": 4,
 "nbformat_minor": 2
}
