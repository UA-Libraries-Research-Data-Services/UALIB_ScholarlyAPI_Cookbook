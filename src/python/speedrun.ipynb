{
 "cells": [
  {
   "cell_type": "markdown",
   "metadata": {},
   "source": [
    "# Speedrun\\.com API in Python\n",
    "\n",
    "by Jay G. Crawford, Michael T. Moen, and Avery Fernandez\n",
    "\n",
    "**Speedrun\\.com API Documentation**: https://github.com/speedruncomorg/api/blob/master/version1/README.md\n",
    "\n",
    "**Speedrun\\.com Terms of Use**: https://www.speedrun.com/pages/terms-of-use\n",
    "\n",
    "The Speedrun\\.com API is a web-based service provided by Speedrun.com, the largest community and resource for speedrunning video games. Speedrunning is the practice of completing a game or a portion of it as quickly as possible, often with specific rules or categories. The Speedrun\\.com API enables developers to access and interact with the extensive database of speedrun records, leaderboards, games, categories, users, and more hosted on the Speedrun\\.com platform.\n",
    "\n",
    "The Speedrun\\.com API is licensed under [CC BY-NC 4.0](https://creativecommons.org/licenses/by-nc/4.0/), allowing its data to be shared and adapted for non-commercial purposes as long as proper attribution is given. \n",
    "\n",
    "#### Key Features of the Speedrun\\.com API:\n",
    "\n",
    "1. **Game Information:**\n",
    "   - Retrieve detailed information about various games available on Speedrun\\.com, including game titles, release dates, and associated categories.\n",
    "\n",
    "2. **Category Data:**\n",
    "   - Access information about different speedrunning categories for each game. Categories define specific rules and objectives for speedruns, such as \"Any%\", \"100%\", or unique challenges like \"16 Star\" in Super Mario 64.\n",
    "\n",
    "3. **Leaderboards:**\n",
    "   - Fetch leaderboard data to see the top-performing speedruns for a particular game and category. This includes detailed run information, such as the runner, completion time, and submission date.\n",
    "\n",
    "4. **Run Details:**\n",
    "   - Obtain comprehensive data about individual speedrun attempts, including player information, run times, and dates. This allows for in-depth analysis and tracking of speedrun progress and history.\n",
    "\n",
    "5. **User Profiles:**\n",
    "   - Access user profile data to get information about speedrunners, including their usernames, social media links, and their submitted runs and achievements.\n",
    "\n",
    "6. **Platform and Region Information:**\n",
    "   - Retrieve data related to the platforms (e.g., PC, console) and regions (e.g., NTSC, PAL) used for specific runs, providing context for different versions and conditions under which the runs were performed.\n",
    "\n",
    "#### Rate Limiting and Usage:\n",
    "\n",
    "- **Rate Limit:**\n",
    "  - *Each IP address is allowed to perform a maximum of 100 requests per minute.* This rate limit ensures fair usage and prevents abuse of the API.\n",
    "\n",
    "- **Authentication:**\n",
    "  - While some endpoints are publicly accessible, certain actions and higher rate limits may require users to authenticate using their personal API keys, which can be obtained by registering on Speedrun\\.com.\n",
    "\n",
    "*These recipes were tested on September 18, 2024.*"
   ]
  },
  {
   "cell_type": "markdown",
   "metadata": {},
   "source": [
    "## Setup"
   ]
  },
  {
   "cell_type": "markdown",
   "metadata": {},
   "source": [
    "### User Agent"
   ]
  },
  {
   "cell_type": "markdown",
   "metadata": {},
   "source": [
    "Create a Python file (e.g., agent_info.py) to store your API key. Replace `\"YourFirstName YourLastName\", \"YourEmail\"` with your information."
   ]
  },
  {
   "cell_type": "code",
   "execution_count": 122,
   "metadata": {},
   "outputs": [],
   "source": [
    "myinfo = {\"User-Agent\": \"Project-name/version\"}"
   ]
  },
  {
   "cell_type": "code",
   "execution_count": 123,
   "metadata": {},
   "outputs": [],
   "source": [
    "from agent_info import myinfo"
   ]
  },
  {
   "cell_type": "markdown",
   "metadata": {},
   "source": [
    "### Import Libraries \n",
    "\n",
    "This tutorial uses the following libraries:"
   ]
  },
  {
   "cell_type": "code",
   "execution_count": 124,
   "metadata": {},
   "outputs": [],
   "source": [
    "import requests\n",
    "from time import sleep\n",
    "import matplotlib.pyplot as plt\n",
    "from datetime import datetime\n",
    "from pprint import pprint\n",
    "import pandas as pd"
   ]
  },
  {
   "cell_type": "markdown",
   "metadata": {},
   "source": [
    "## 1. Finding the Top Users in a Category\n",
    "\n",
    "To find info on the endpoints available through the Speedrun\\.com API and the parameters needed to access its data, we recommend using [the official GitHub repository](https://github.com/speedruncomorg/api/tree/master/version1).\n",
    "\n",
    "The example below retrieves the leaderboard data from the 70-Star category (abbreviated as `70_Star`) from Super Mario 64 (abbreviated as `sm64`):"
   ]
  },
  {
   "cell_type": "code",
   "execution_count": 146,
   "metadata": {},
   "outputs": [
    {
     "name": "stdout",
     "output_type": "stream",
     "text": [
      "{'data': {'category': '7dgrrxk4',\n",
      "          'emulators': None,\n",
      "          'game': 'o1y9wo6q',\n",
      "          'level': None,\n",
      "          'links': [...],\n",
      "          'platform': None,\n",
      "          'region': None,\n",
      "          'runs': [...],\n",
      "          'timing': 'realtime',\n",
      "          'values': {},\n",
      "          'video-only': False,\n",
      "          'weblink': 'https://www.speedrun.com/sm64#70_Star'}}\n"
     ]
    }
   ],
   "source": [
    "game = 'sm64'\n",
    "category = '70_Star'\n",
    "\n",
    "url = f'https://www.speedrun.com/api/v1/leaderboards/{game}/category/{category}?'\n",
    "data_retrieved = requests.get(url, headers=myinfo).json()\n",
    "\n",
    "# Print structure of returned data\n",
    "pprint(data_retrieved, depth=2)"
   ]
  },
  {
   "cell_type": "markdown",
   "metadata": {},
   "source": [
    "Using `data_retrieved[\"data\"][\"runs\"]`, we can access all the runs that have been uploaded to the 70-Star category in SM64."
   ]
  },
  {
   "cell_type": "code",
   "execution_count": 126,
   "metadata": {},
   "outputs": [
    {
     "data": {
      "text/plain": [
       "2608"
      ]
     },
     "execution_count": 126,
     "metadata": {},
     "output_type": "execute_result"
    }
   ],
   "source": [
    "# Display number of runs submitted\n",
    "len(data_retrieved[\"data\"][\"runs\"])"
   ]
  },
  {
   "cell_type": "markdown",
   "metadata": {},
   "source": [
    "Next, we can print the data of the top run in the Super Mario 64 category."
   ]
  },
  {
   "cell_type": "code",
   "execution_count": 127,
   "metadata": {},
   "outputs": [
    {
     "data": {
      "text/plain": [
       "{'place': 1,\n",
       " 'run': {'id': 'znev0n9z',\n",
       "  'weblink': 'https://www.speedrun.com/sm64/run/znev0n9z',\n",
       "  'game': 'o1y9wo6q',\n",
       "  'level': None,\n",
       "  'category': '7dgrrxk4',\n",
       "  'videos': {'links': [{'uri': 'https://www.twitch.tv/videos/1999441448'}]},\n",
       "  'comment': 'Mod note: Retimed to 46:28. Set to verified:no due to frame drops at 24:24.',\n",
       "  'status': {'status': 'verified',\n",
       "   'examiner': 'pj0zm38w',\n",
       "   'verify-date': '2023-12-10T21:11:33Z'},\n",
       "  'players': [{'rel': 'user',\n",
       "    'id': 'zxzk1q9x',\n",
       "    'uri': 'https://www.speedrun.com/api/v1/users/zxzk1q9x'}],\n",
       "  'date': '2023-12-09',\n",
       "  'submitted': '2023-12-09T14:06:38Z',\n",
       "  'times': {'primary': 'PT46M28S',\n",
       "   'primary_t': 2788,\n",
       "   'realtime': 'PT46M28S',\n",
       "   'realtime_t': 2788,\n",
       "   'realtime_noloads': None,\n",
       "   'realtime_noloads_t': 0,\n",
       "   'ingame': None,\n",
       "   'ingame_t': 0},\n",
       "  'system': {'platform': 'w89rwelk', 'emulated': False, 'region': 'pr184lqn'},\n",
       "  'splits': None,\n",
       "  'values': {'e8m7em86': '9qj7z0oq', 'kn04ewol': '4qyxop3l'}}}"
      ]
     },
     "execution_count": 127,
     "metadata": {},
     "output_type": "execute_result"
    }
   ],
   "source": [
    "# Display data associated with the first run\n",
    "data_retrieved[\"data\"][\"runs\"][0]"
   ]
  },
  {
   "cell_type": "code",
   "execution_count": 128,
   "metadata": {},
   "outputs": [
    {
     "data": {
      "text/plain": [
       "[{'rel': 'user',\n",
       "  'id': 'zxzk1q9x',\n",
       "  'uri': 'https://www.speedrun.com/api/v1/users/zxzk1q9x'}]"
      ]
     },
     "execution_count": 128,
     "metadata": {},
     "output_type": "execute_result"
    }
   ],
   "source": [
    "# Find the user id of the runners associated with the first run\n",
    "users = data_retrieved[\"data\"][\"runs\"][0][\"run\"][\"players\"]\n",
    "users"
   ]
  },
  {
   "cell_type": "markdown",
   "metadata": {},
   "source": [
    "We can use the URI in the response to find the user's username:"
   ]
  },
  {
   "cell_type": "code",
   "execution_count": 129,
   "metadata": {},
   "outputs": [
    {
     "data": {
      "text/plain": [
       "'ikori_o'"
      ]
     },
     "execution_count": 129,
     "metadata": {},
     "output_type": "execute_result"
    }
   ],
   "source": [
    "user_data = requests.get(users[0]['uri'], headers=myinfo).json()\n",
    "user_data[\"data\"][\"names\"][\"international\"]"
   ]
  },
  {
   "cell_type": "markdown",
   "metadata": {},
   "source": [
    "Now, we can find the usernames and times for the top 10 runs:"
   ]
  },
  {
   "cell_type": "code",
   "execution_count": 130,
   "metadata": {},
   "outputs": [
    {
     "name": "stdout",
     "output_type": "stream",
     "text": [
      "1  ikori_o    46:28\n",
      "2  Suigi      46:41\n",
      "3  taihou     46:42\n",
      "4  Finnii602  46:46\n",
      "5  Parsee02   46:54\n",
      "6  Benji64    46:56\n",
      "7  Weegee     46:58\n",
      "8  Dwhatever  46:59\n",
      "9  Goldrush   46:59\n",
      "10 Mauir      47:01\n"
     ]
    }
   ],
   "source": [
    "for idx, run in enumerate(data_retrieved[\"data\"][\"runs\"][:10]):\n",
    "    # Call the user endpoint to get the player's username\n",
    "    user_url = run[\"run\"][\"players\"][0][\"uri\"]\n",
    "    user_data = requests.get(user_url, headers=myinfo).json()\n",
    "    username = user_data[\"data\"][\"names\"][\"international\"]\n",
    "\n",
    "    sleep(1)\n",
    "\n",
    "    # Convert the run time into minutes and seconds\n",
    "    minutes = run[\"run\"][\"times\"][\"primary_t\"] // 60\n",
    "    seconds = run[\"run\"][\"times\"][\"primary_t\"] % 60\n",
    "\n",
    "    # Print the top 10 runners with the best times\n",
    "    print(f'{idx+1:<2} {username:<10} {minutes:02}:{seconds:02}')"
   ]
  },
  {
   "cell_type": "markdown",
   "metadata": {},
   "source": [
    "## 2. Finding the Top Runs & Progression for a User\n",
    "\n",
    "This code example focuses on finding the top runs and tracking the progression of a specific player's speedrun times within a given game and category on Speedrun\\.com. By leveraging the Speedrun\\.com API, the script fetches detailed information about the player's runs and visualizes their performance over time."
   ]
  },
  {
   "cell_type": "code",
   "execution_count": 152,
   "metadata": {},
   "outputs": [
    {
     "data": {
      "text/plain": [
       "{'id': 'znev0n9z',\n",
       " 'weblink': 'https://www.speedrun.com/sm64/run/znev0n9z',\n",
       " 'game': 'o1y9wo6q',\n",
       " 'level': None,\n",
       " 'category': '7dgrrxk4',\n",
       " 'videos': {'links': [{'uri': 'https://www.twitch.tv/videos/1999441448'}]},\n",
       " 'comment': 'Mod note: Retimed to 46:28. Set to verified:no due to frame drops at 24:24.',\n",
       " 'status': {'status': 'verified',\n",
       "  'examiner': 'pj0zm38w',\n",
       "  'verify-date': '2023-12-10T21:11:33Z'},\n",
       " 'players': [{'rel': 'user',\n",
       "   'id': 'zxzk1q9x',\n",
       "   'uri': 'https://www.speedrun.com/api/v1/users/zxzk1q9x'}],\n",
       " 'date': '2023-12-09',\n",
       " 'submitted': '2023-12-09T14:06:38Z',\n",
       " 'times': {'primary': 'PT46M28S',\n",
       "  'primary_t': 2788,\n",
       "  'realtime': 'PT46M28S',\n",
       "  'realtime_t': 2788,\n",
       "  'realtime_noloads': None,\n",
       "  'realtime_noloads_t': 0,\n",
       "  'ingame': None,\n",
       "  'ingame_t': 0},\n",
       " 'system': {'platform': 'w89rwelk', 'emulated': False, 'region': 'pr184lqn'},\n",
       " 'splits': None,\n",
       " 'values': {'e8m7em86': '9qj7z0oq', 'kn04ewol': '4qyxop3l'}}"
      ]
     },
     "execution_count": 152,
     "metadata": {},
     "output_type": "execute_result"
    }
   ],
   "source": [
    "game = 'sm64'\n",
    "category = '70_Star'\n",
    "\n",
    "url = f'https://www.speedrun.com/api/v1/leaderboards/{game}/category/{category}'\n",
    "data_retrieved = requests.get(url, headers=myinfo).json()['data']\n",
    "\n",
    "# Extract game and category IDs from the response\n",
    "game_id = data_retrieved['game']\n",
    "category_id = data_retrieved['category']\n",
    "\n",
    "# Print data for the top run\n",
    "data_retrieved['runs'][0]['run']"
   ]
  },
  {
   "cell_type": "code",
   "execution_count": 154,
   "metadata": {},
   "outputs": [],
   "source": [
    "# Extract the player ID from the response\n",
    "player_id = data_retrieved['runs'][0]['run']['players'][0]['id']\n",
    "\n",
    "# Perform an API request to find the runner's username\n",
    "user_url = data_retrieved['runs'][0]['run'][\"players\"][0][\"uri\"]\n",
    "user_data = requests.get(user_url, headers=myinfo).json()\n",
    "username = username = user_data[\"data\"][\"names\"][\"international\"]"
   ]
  },
  {
   "cell_type": "code",
   "execution_count": 159,
   "metadata": {},
   "outputs": [
    {
     "data": {
      "text/html": [
       "<div>\n",
       "<style scoped>\n",
       "    .dataframe tbody tr th:only-of-type {\n",
       "        vertical-align: middle;\n",
       "    }\n",
       "\n",
       "    .dataframe tbody tr th {\n",
       "        vertical-align: top;\n",
       "    }\n",
       "\n",
       "    .dataframe thead th {\n",
       "        text-align: right;\n",
       "    }\n",
       "</style>\n",
       "<table border=\"1\" class=\"dataframe\">\n",
       "  <thead>\n",
       "    <tr style=\"text-align: right;\">\n",
       "      <th></th>\n",
       "      <th>time</th>\n",
       "      <th>date</th>\n",
       "    </tr>\n",
       "  </thead>\n",
       "  <tbody>\n",
       "    <tr>\n",
       "      <th>0</th>\n",
       "      <td>48.866667</td>\n",
       "      <td>2018-10-30</td>\n",
       "    </tr>\n",
       "    <tr>\n",
       "      <th>1</th>\n",
       "      <td>48.600000</td>\n",
       "      <td>2019-04-05</td>\n",
       "    </tr>\n",
       "    <tr>\n",
       "      <th>2</th>\n",
       "      <td>48.383333</td>\n",
       "      <td>2019-04-11</td>\n",
       "    </tr>\n",
       "    <tr>\n",
       "      <th>3</th>\n",
       "      <td>48.116667</td>\n",
       "      <td>2019-05-07</td>\n",
       "    </tr>\n",
       "    <tr>\n",
       "      <th>4</th>\n",
       "      <td>47.916667</td>\n",
       "      <td>2019-05-16</td>\n",
       "    </tr>\n",
       "    <tr>\n",
       "      <th>5</th>\n",
       "      <td>47.800000</td>\n",
       "      <td>2021-12-01</td>\n",
       "    </tr>\n",
       "    <tr>\n",
       "      <th>6</th>\n",
       "      <td>47.516667</td>\n",
       "      <td>2021-12-05</td>\n",
       "    </tr>\n",
       "    <tr>\n",
       "      <th>7</th>\n",
       "      <td>47.266667</td>\n",
       "      <td>2023-05-25</td>\n",
       "    </tr>\n",
       "    <tr>\n",
       "      <th>8</th>\n",
       "      <td>47.133333</td>\n",
       "      <td>2023-06-16</td>\n",
       "    </tr>\n",
       "    <tr>\n",
       "      <th>9</th>\n",
       "      <td>47.066667</td>\n",
       "      <td>2023-07-03</td>\n",
       "    </tr>\n",
       "    <tr>\n",
       "      <th>10</th>\n",
       "      <td>46.766667</td>\n",
       "      <td>2023-07-24</td>\n",
       "    </tr>\n",
       "    <tr>\n",
       "      <th>11</th>\n",
       "      <td>46.616667</td>\n",
       "      <td>2023-12-06</td>\n",
       "    </tr>\n",
       "    <tr>\n",
       "      <th>12</th>\n",
       "      <td>46.466667</td>\n",
       "      <td>2023-12-09</td>\n",
       "    </tr>\n",
       "  </tbody>\n",
       "</table>\n",
       "</div>"
      ],
      "text/plain": [
       "         time        date\n",
       "0   48.866667  2018-10-30\n",
       "1   48.600000  2019-04-05\n",
       "2   48.383333  2019-04-11\n",
       "3   48.116667  2019-05-07\n",
       "4   47.916667  2019-05-16\n",
       "5   47.800000  2021-12-01\n",
       "6   47.516667  2021-12-05\n",
       "7   47.266667  2023-05-25\n",
       "8   47.133333  2023-06-16\n",
       "9   47.066667  2023-07-03\n",
       "10  46.766667  2023-07-24\n",
       "11  46.616667  2023-12-06\n",
       "12  46.466667  2023-12-09"
      ]
     },
     "execution_count": 159,
     "metadata": {},
     "output_type": "execute_result"
    }
   ],
   "source": [
    "# Get the user's run for this game and category\n",
    "url = f\"https://www.speedrun.com/api/v1/runs?game={game_id}&category={category_id}&user={player_id}\"\n",
    "data = requests.get(url, headers=myinfo).json()\n",
    "\n",
    "# Iterate through each run in the data\n",
    "runs = []\n",
    "for run in data['data']:\n",
    "    run_entry = {\n",
    "        'time': run['times']['primary_t'] / 60,  # Convert time to minutes\n",
    "        'date': run.get('date', None)  # Fetch the date, if available\n",
    "    }\n",
    "    # Add the run entry \n",
    "    runs.append(run_entry)\n",
    "\n",
    "# Create DataFrame\n",
    "df = pd.DataFrame(runs)\n",
    "df"
   ]
  },
  {
   "cell_type": "code",
   "execution_count": 158,
   "metadata": {},
   "outputs": [
    {
     "data": {
      "image/png": "[encoded data removed]",
      "text/plain": [
       "<Figure size 1200x600 with 1 Axes>"
      ]
     },
     "metadata": {},
     "output_type": "display_data"
    }
   ],
   "source": [
    "# Prepare data for graphing\n",
    "df['date'] = pd.to_datetime(df['date'])\n",
    "df.sort_values('date', inplace=True)\n",
    "\n",
    "# Create a plot to visualize the player's progress\n",
    "plt.figure(figsize=(12, 6))\n",
    "plt.step(df['date'], df['time'], marker='o', linestyle='-', color='green', where='post')\n",
    "plt.title(f'Progress of {username} in Super Mario 64 (70 Star)')\n",
    "plt.xlabel('Date of Run')\n",
    "plt.ylabel('Run Time (minutes)')\n",
    "plt.grid(True)\n",
    "plt.tight_layout()\n",
    "plt.show()"
   ]
  },
  {
   "cell_type": "markdown",
   "metadata": {},
   "source": [
    "## 3. Graphing an Interactive World Record Progression Graph\n",
    "\n",
    "This code fetches data from the Speedrun\\.com API for Mario Kart Wii's 32 Tracks (No Skips) category, accumulates the dates and runtimes of verified runs, and identifies the progression of the world record over time. It then sorts the data and extracts the relevant dates and runtimes to graph the progression of this world record category.\n",
    "\n",
    "### Finding the Parameter IDs\n",
    "\n",
    "To begin, we will find the game and category IDs for Mario Kart Wii's 32 Tracks (No Skips) category. Using the `mkw` code found in the URL to the game's page on Speedrun\\.com (https://www.speedrun.com/mkw), we can access the game ID and category data."
   ]
  },
  {
   "cell_type": "code",
   "execution_count": 133,
   "metadata": {},
   "outputs": [
    {
     "name": "stdout",
     "output_type": "stream",
     "text": [
      "Game ID for Mario Kart Wii is 'l3dxogdy'\n",
      "\n",
      "Categories IDs for Mario Kart Wii:\n",
      "wk68zp21 : 32 Tracks\n",
      "7kj6mz23 : Nitro Tracks\n",
      "xk9v3gd0 : Retro Tracks\n",
      "7kjzwjnd : 100%\n",
      "q25oz7gk : Mushroom Cup\n",
      "jdrqy7lk : Flower Cup\n",
      "jdz3xv62 : Star Cup\n",
      "02qg6l9d : Special Cup\n",
      "824xzrnd : Shell Cup\n",
      "9d8pzglk : Banana Cup\n",
      "xd1rz7wk : Leaf Cup\n",
      "zd30z7rd : Lightning Cup\n"
     ]
    }
   ],
   "source": [
    "game = 'mkw'  # Game identifier for Mario Kart Wii\n",
    "\n",
    "url = f'https://www.speedrun.com/api/v1/games/{game}?embed=categories.variables'\n",
    "data = requests.get(url, headers=myinfo).json()['data']\n",
    "\n",
    "# Find game ID and title\n",
    "game_id = data['id']\n",
    "game_title = data['names']['international']\n",
    "print(f\"Game ID for {game_title} is '{game_id}'\\n\")\n",
    "\n",
    "print(f\"Categories IDs for {game_title}:\")\n",
    "for category in data['categories']['data']:\n",
    "    print(f'{category['id']} : {category['name']}')"
   ]
  },
  {
   "cell_type": "markdown",
   "metadata": {},
   "source": [
    "In the code above, we set the game ID for Mario Kart Wii and printed the category ID for every category. Since we are looking at the 32 Tracks category, we set the category ID below:"
   ]
  },
  {
   "cell_type": "code",
   "execution_count": 134,
   "metadata": {},
   "outputs": [],
   "source": [
    "category_id = 'wk68zp21'"
   ]
  },
  {
   "cell_type": "markdown",
   "metadata": {},
   "source": [
    "Since we wish to further filter the category to include only No Skips runs, we must find the value and choice IDs."
   ]
  },
  {
   "cell_type": "code",
   "execution_count": 135,
   "metadata": {},
   "outputs": [
    {
     "name": "stdout",
     "output_type": "stream",
     "text": [
      "0 : j84rwjl9 : Skips\n",
      "1 : wlez0kl6 : Items (32 Tracks)\n",
      "2 : 5ly9mjn4 : Character\n",
      "3 : wl35p9n1 : Vehicle\n"
     ]
    }
   ],
   "source": [
    "url = f'https://www.speedrun.com/api/v1/categories/{category_id}/variables'\n",
    "data = requests.get(url, headers=myinfo).json()['data']\n",
    "\n",
    "# Print the value IDs and names\n",
    "for idx, var in enumerate(data):\n",
    "    print(f\"{idx} : {var['id']} : {var['name']}\")"
   ]
  },
  {
   "cell_type": "code",
   "execution_count": 136,
   "metadata": {},
   "outputs": [
    {
     "data": {
      "text/plain": [
       "{'xqk9zzn1': 'No Skips', '81p4xxg1': 'Skips'}"
      ]
     },
     "execution_count": 136,
     "metadata": {},
     "output_type": "execute_result"
    }
   ],
   "source": [
    "# Print choices for 'Skips' value\n",
    "data[0]['values']['choices']"
   ]
  },
  {
   "cell_type": "code",
   "execution_count": 137,
   "metadata": {},
   "outputs": [],
   "source": [
    "value_id = 'j84rwjl9'\n",
    "choice_id = 'xqk9zzn1'"
   ]
  },
  {
   "cell_type": "markdown",
   "metadata": {},
   "source": [
    "### Finding the World Record Progression"
   ]
  },
  {
   "cell_type": "code",
   "execution_count": 138,
   "metadata": {},
   "outputs": [],
   "source": [
    "offset = 0  # Initialize the offset for pagination and construct the initial API request URL\n",
    "dates_runtimes = []  # List to store tuples of (date, runtime)\n",
    "\n",
    "# Loop to fetch data from the API and accumulate dates and runtimes\n",
    "while True:\n",
    "\n",
    "    url = f'https://www.speedrun.com/api/v1/runs?game={game_id}&category={category_id}&status=verified&max=200&offset={offset}'\n",
    "    data_retrieved = requests.get(url, headers=myinfo).json()\n",
    "    sleep(1)  # Sleep to avoid hitting the rate limit\n",
    "    \n",
    "    # Break the loop if there is no more data\n",
    "    if not len(data_retrieved['data']):\n",
    "        break\n",
    "    \n",
    "    # Update the offset for the next batch of results\n",
    "    offset += 200\n",
    "\n",
    "    # Iterate through each run in the data\n",
    "    for run in data_retrieved['data']:\n",
    "        date = run.get(\"date\", None)\n",
    "        \n",
    "        # Check for 'No Skips' and a valid date\n",
    "        if not date or run['values'][value_id] != choice_id:\n",
    "            continue  # Skip if the date is not available\n",
    "        \n",
    "        # Convert the runtime from seconds to minutes\n",
    "        runtime = run['times']['primary_t'] / 60\n",
    "        date = datetime.strptime(date, \"%Y-%m-%d\")\n",
    "\n",
    "        dates_runtimes.append((date, runtime))\n",
    "\n",
    "# Sort the list of (date, runtime) tuples by date\n",
    "dates_runtimes.sort()\n",
    "\n",
    "# Find the world record progression\n",
    "wr_dates_runtimes = [dates_runtimes[0]]\n",
    "for run in dates_runtimes[1:]:\n",
    "    if run[1] < wr_dates_runtimes[-1][1]:\n",
    "        wr_dates_runtimes.append(run)\n",
    "\n",
    "# Unzip the list of world record (date, runtime) tuples into separate lists\n",
    "dates, runtimes = zip(*wr_dates_runtimes)"
   ]
  },
  {
   "cell_type": "markdown",
   "metadata": {},
   "source": [
    "### Graphing the Results"
   ]
  },
  {
   "cell_type": "code",
   "execution_count": 141,
   "metadata": {},
   "outputs": [
    {
     "data": {
      "application/vnd.plotly.v1+json": {
       "config": {
        "plotlyServerURL": "https://plot.ly"
       },
       "data": [
        {
         "line": {
          "shape": "hv"
         },
         "mode": "lines+markers",
         "name": "Run Time",
         "type": "scatter",
         "x": [
          "2010-01-26T00:00:00",
          "2014-12-15T00:00:00",
          "2014-12-24T00:00:00",
          "2017-07-18T00:00:00",
          "2017-07-27T00:00:00",
          "2017-10-14T00:00:00",
          "2018-12-02T00:00:00",
          "2019-07-04T00:00:00",
          "2020-03-16T00:00:00",
          "2021-04-13T00:00:00",
          "2023-07-16T00:00:00",
          "2023-11-30T00:00:00"
         ],
         "y": [
          67.15233333333333,
          61.74693333333333,
          61.72543333333333,
          61.4491,
          61.35515,
          60.376416666666664,
          60.35581666666667,
          60.002950000000006,
          59.906616666666665,
          59.79161666666666,
          59.594966666666664,
          59.524300000000004
         ]
        }
       ],
       "layout": {
        "template": {
         "data": {
          "bar": [
           {
            "error_x": {
             "color": "#2a3f5f"
            },
            "error_y": {
             "color": "#2a3f5f"
            },
            "marker": {
             "line": {
              "color": "#E5ECF6",
              "width": 0.5
             },
             "pattern": {
              "fillmode": "overlay",
              "size": 10,
              "solidity": 0.2
             }
            },
            "type": "bar"
           }
          ],
          "barpolar": [
           {
            "marker": {
             "line": {
              "color": "#E5ECF6",
              "width": 0.5
             },
             "pattern": {
              "fillmode": "overlay",
              "size": 10,
              "solidity": 0.2
             }
            },
            "type": "barpolar"
           }
          ],
          "carpet": [
           {
            "aaxis": {
             "endlinecolor": "#2a3f5f",
             "gridcolor": "white",
             "linecolor": "white",
             "minorgridcolor": "white",
             "startlinecolor": "#2a3f5f"
            },
            "baxis": {
             "endlinecolor": "#2a3f5f",
             "gridcolor": "white",
             "linecolor": "white",
             "minorgridcolor": "white",
             "startlinecolor": "#2a3f5f"
            },
            "type": "carpet"
           }
          ],
          "choropleth": [
           {
            "colorbar": {
             "outlinewidth": 0,
             "ticks": ""
            },
            "type": "choropleth"
           }
          ],
          "contour": [
           {
            "colorbar": {
             "outlinewidth": 0,
             "ticks": ""
            },
            "colorscale": [
             [
              0,
              "#0d0887"
             ],
             [
              0.1111111111111111,
              "#46039f"
             ],
             [
              0.2222222222222222,
              "#7201a8"
             ],
             [
              0.3333333333333333,
              "#9c179e"
             ],
             [
              0.4444444444444444,
              "#bd3786"
             ],
             [
              0.5555555555555556,
              "#d8576b"
             ],
             [
              0.6666666666666666,
              "#ed7953"
             ],
             [
              0.7777777777777778,
              "#fb9f3a"
             ],
             [
              0.8888888888888888,
              "#fdca26"
             ],
             [
              1,
              "#f0f921"
             ]
            ],
            "type": "contour"
           }
          ],
          "contourcarpet": [
           {
            "colorbar": {
             "outlinewidth": 0,
             "ticks": ""
            },
            "type": "contourcarpet"
           }
          ],
          "heatmap": [
           {
            "colorbar": {
             "outlinewidth": 0,
             "ticks": ""
            },
            "colorscale": [
             [
              0,
              "#0d0887"
             ],
             [
              0.1111111111111111,
              "#46039f"
             ],
             [
              0.2222222222222222,
              "#7201a8"
             ],
             [
              0.3333333333333333,
              "#9c179e"
             ],
             [
              0.4444444444444444,
              "#bd3786"
             ],
             [
              0.5555555555555556,
              "#d8576b"
             ],
             [
              0.6666666666666666,
              "#ed7953"
             ],
             [
              0.7777777777777778,
              "#fb9f3a"
             ],
             [
              0.8888888888888888,
              "#fdca26"
             ],
             [
              1,
              "#f0f921"
             ]
            ],
            "type": "heatmap"
           }
          ],
          "heatmapgl": [
           {
            "colorbar": {
             "outlinewidth": 0,
             "ticks": ""
            },
            "colorscale": [
             [
              0,
              "#0d0887"
             ],
             [
              0.1111111111111111,
              "#46039f"
             ],
             [
              0.2222222222222222,
              "#7201a8"
             ],
             [
              0.3333333333333333,
              "#9c179e"
             ],
             [
              0.4444444444444444,
              "#bd3786"
             ],
             [
              0.5555555555555556,
              "#d8576b"
             ],
             [
              0.6666666666666666,
              "#ed7953"
             ],
             [
              0.7777777777777778,
              "#fb9f3a"
             ],
             [
              0.8888888888888888,
              "#fdca26"
             ],
             [
              1,
              "#f0f921"
             ]
            ],
            "type": "heatmapgl"
           }
          ],
          "histogram": [
           {
            "marker": {
             "pattern": {
              "fillmode": "overlay",
              "size": 10,
              "solidity": 0.2
             }
            },
            "type": "histogram"
           }
          ],
          "histogram2d": [
           {
            "colorbar": {
             "outlinewidth": 0,
             "ticks": ""
            },
            "colorscale": [
             [
              0,
              "#0d0887"
             ],
             [
              0.1111111111111111,
              "#46039f"
             ],
             [
              0.2222222222222222,
              "#7201a8"
             ],
             [
              0.3333333333333333,
              "#9c179e"
             ],
             [
              0.4444444444444444,
              "#bd3786"
             ],
             [
              0.5555555555555556,
              "#d8576b"
             ],
             [
              0.6666666666666666,
              "#ed7953"
             ],
             [
              0.7777777777777778,
              "#fb9f3a"
             ],
             [
              0.8888888888888888,
              "#fdca26"
             ],
             [
              1,
              "#f0f921"
             ]
            ],
            "type": "histogram2d"
           }
          ],
          "histogram2dcontour": [
           {
            "colorbar": {
             "outlinewidth": 0,
             "ticks": ""
            },
            "colorscale": [
             [
              0,
              "#0d0887"
             ],
             [
              0.1111111111111111,
              "#46039f"
             ],
             [
              0.2222222222222222,
              "#7201a8"
             ],
             [
              0.3333333333333333,
              "#9c179e"
             ],
             [
              0.4444444444444444,
              "#bd3786"
             ],
             [
              0.5555555555555556,
              "#d8576b"
             ],
             [
              0.6666666666666666,
              "#ed7953"
             ],
             [
              0.7777777777777778,
              "#fb9f3a"
             ],
             [
              0.8888888888888888,
              "#fdca26"
             ],
             [
              1,
              "#f0f921"
             ]
            ],
            "type": "histogram2dcontour"
           }
          ],
          "mesh3d": [
           {
            "colorbar": {
             "outlinewidth": 0,
             "ticks": ""
            },
            "type": "mesh3d"
           }
          ],
          "parcoords": [
           {
            "line": {
             "colorbar": {
              "outlinewidth": 0,
              "ticks": ""
             }
            },
            "type": "parcoords"
           }
          ],
          "pie": [
           {
            "automargin": true,
            "type": "pie"
           }
          ],
          "scatter": [
           {
            "fillpattern": {
             "fillmode": "overlay",
             "size": 10,
             "solidity": 0.2
            },
            "type": "scatter"
           }
          ],
          "scatter3d": [
           {
            "line": {
             "colorbar": {
              "outlinewidth": 0,
              "ticks": ""
             }
            },
            "marker": {
             "colorbar": {
              "outlinewidth": 0,
              "ticks": ""
             }
            },
            "type": "scatter3d"
           }
          ],
          "scattercarpet": [
           {
            "marker": {
             "colorbar": {
              "outlinewidth": 0,
              "ticks": ""
             }
            },
            "type": "scattercarpet"
           }
          ],
          "scattergeo": [
           {
            "marker": {
             "colorbar": {
              "outlinewidth": 0,
              "ticks": ""
             }
            },
            "type": "scattergeo"
           }
          ],
          "scattergl": [
           {
            "marker": {
             "colorbar": {
              "outlinewidth": 0,
              "ticks": ""
             }
            },
            "type": "scattergl"
           }
          ],
          "scattermapbox": [
           {
            "marker": {
             "colorbar": {
              "outlinewidth": 0,
              "ticks": ""
             }
            },
            "type": "scattermapbox"
           }
          ],
          "scatterpolar": [
           {
            "marker": {
             "colorbar": {
              "outlinewidth": 0,
              "ticks": ""
             }
            },
            "type": "scatterpolar"
           }
          ],
          "scatterpolargl": [
           {
            "marker": {
             "colorbar": {
              "outlinewidth": 0,
              "ticks": ""
             }
            },
            "type": "scatterpolargl"
           }
          ],
          "scatterternary": [
           {
            "marker": {
             "colorbar": {
              "outlinewidth": 0,
              "ticks": ""
             }
            },
            "type": "scatterternary"
           }
          ],
          "surface": [
           {
            "colorbar": {
             "outlinewidth": 0,
             "ticks": ""
            },
            "colorscale": [
             [
              0,
              "#0d0887"
             ],
             [
              0.1111111111111111,
              "#46039f"
             ],
             [
              0.2222222222222222,
              "#7201a8"
             ],
             [
              0.3333333333333333,
              "#9c179e"
             ],
             [
              0.4444444444444444,
              "#bd3786"
             ],
             [
              0.5555555555555556,
              "#d8576b"
             ],
             [
              0.6666666666666666,
              "#ed7953"
             ],
             [
              0.7777777777777778,
              "#fb9f3a"
             ],
             [
              0.8888888888888888,
              "#fdca26"
             ],
             [
              1,
              "#f0f921"
             ]
            ],
            "type": "surface"
           }
          ],
          "table": [
           {
            "cells": {
             "fill": {
              "color": "#EBF0F8"
             },
             "line": {
              "color": "white"
             }
            },
            "header": {
             "fill": {
              "color": "#C8D4E3"
             },
             "line": {
              "color": "white"
             }
            },
            "type": "table"
           }
          ]
         },
         "layout": {
          "annotationdefaults": {
           "arrowcolor": "#2a3f5f",
           "arrowhead": 0,
           "arrowwidth": 1
          },
          "autotypenumbers": "strict",
          "coloraxis": {
           "colorbar": {
            "outlinewidth": 0,
            "ticks": ""
           }
          },
          "colorscale": {
           "diverging": [
            [
             0,
             "#8e0152"
            ],
            [
             0.1,
             "#c51b7d"
            ],
            [
             0.2,
             "#de77ae"
            ],
            [
             0.3,
             "#f1b6da"
            ],
            [
             0.4,
             "#fde0ef"
            ],
            [
             0.5,
             "#f7f7f7"
            ],
            [
             0.6,
             "#e6f5d0"
            ],
            [
             0.7,
             "#b8e186"
            ],
            [
             0.8,
             "#7fbc41"
            ],
            [
             0.9,
             "#4d9221"
            ],
            [
             1,
             "#276419"
            ]
           ],
           "sequential": [
            [
             0,
             "#0d0887"
            ],
            [
             0.1111111111111111,
             "#46039f"
            ],
            [
             0.2222222222222222,
             "#7201a8"
            ],
            [
             0.3333333333333333,
             "#9c179e"
            ],
            [
             0.4444444444444444,
             "#bd3786"
            ],
            [
             0.5555555555555556,
             "#d8576b"
            ],
            [
             0.6666666666666666,
             "#ed7953"
            ],
            [
             0.7777777777777778,
             "#fb9f3a"
            ],
            [
             0.8888888888888888,
             "#fdca26"
            ],
            [
             1,
             "#f0f921"
            ]
           ],
           "sequentialminus": [
            [
             0,
             "#0d0887"
            ],
            [
             0.1111111111111111,
             "#46039f"
            ],
            [
             0.2222222222222222,
             "#7201a8"
            ],
            [
             0.3333333333333333,
             "#9c179e"
            ],
            [
             0.4444444444444444,
             "#bd3786"
            ],
            [
             0.5555555555555556,
             "#d8576b"
            ],
            [
             0.6666666666666666,
             "#ed7953"
            ],
            [
             0.7777777777777778,
             "#fb9f3a"
            ],
            [
             0.8888888888888888,
             "#fdca26"
            ],
            [
             1,
             "#f0f921"
            ]
           ]
          },
          "colorway": [
           "#636efa",
           "#EF553B",
           "#00cc96",
           "#ab63fa",
           "#FFA15A",
           "#19d3f3",
           "#FF6692",
           "#B6E880",
           "#FF97FF",
           "#FECB52"
          ],
          "font": {
           "color": "#2a3f5f"
          },
          "geo": {
           "bgcolor": "white",
           "lakecolor": "white",
           "landcolor": "#E5ECF6",
           "showlakes": true,
           "showland": true,
           "subunitcolor": "white"
          },
          "hoverlabel": {
           "align": "left"
          },
          "hovermode": "closest",
          "mapbox": {
           "style": "light"
          },
          "paper_bgcolor": "white",
          "plot_bgcolor": "#E5ECF6",
          "polar": {
           "angularaxis": {
            "gridcolor": "white",
            "linecolor": "white",
            "ticks": ""
           },
           "bgcolor": "#E5ECF6",
           "radialaxis": {
            "gridcolor": "white",
            "linecolor": "white",
            "ticks": ""
           }
          },
          "scene": {
           "xaxis": {
            "backgroundcolor": "#E5ECF6",
            "gridcolor": "white",
            "gridwidth": 2,
            "linecolor": "white",
            "showbackground": true,
            "ticks": "",
            "zerolinecolor": "white"
           },
           "yaxis": {
            "backgroundcolor": "#E5ECF6",
            "gridcolor": "white",
            "gridwidth": 2,
            "linecolor": "white",
            "showbackground": true,
            "ticks": "",
            "zerolinecolor": "white"
           },
           "zaxis": {
            "backgroundcolor": "#E5ECF6",
            "gridcolor": "white",
            "gridwidth": 2,
            "linecolor": "white",
            "showbackground": true,
            "ticks": "",
            "zerolinecolor": "white"
           }
          },
          "shapedefaults": {
           "line": {
            "color": "#2a3f5f"
           }
          },
          "ternary": {
           "aaxis": {
            "gridcolor": "white",
            "linecolor": "white",
            "ticks": ""
           },
           "baxis": {
            "gridcolor": "white",
            "linecolor": "white",
            "ticks": ""
           },
           "bgcolor": "#E5ECF6",
           "caxis": {
            "gridcolor": "white",
            "linecolor": "white",
            "ticks": ""
           }
          },
          "title": {
           "x": 0.05
          },
          "xaxis": {
           "automargin": true,
           "gridcolor": "white",
           "linecolor": "white",
           "ticks": "",
           "title": {
            "standoff": 15
           },
           "zerolinecolor": "white",
           "zerolinewidth": 2
          },
          "yaxis": {
           "automargin": true,
           "gridcolor": "white",
           "linecolor": "white",
           "ticks": "",
           "title": {
            "standoff": 15
           },
           "zerolinecolor": "white",
           "zerolinewidth": 2
          }
         }
        },
        "title": {
         "text": "World Record Progression of Mario Kart Wii 32 Tracks (No Skips)"
        },
        "xaxis": {
         "anchor": "y",
         "domain": [
          0,
          1
         ],
         "showgrid": true,
         "title": {
          "text": "Date"
         }
        },
        "yaxis": {
         "anchor": "x",
         "domain": [
          0,
          1
         ],
         "showgrid": true,
         "title": {
          "text": "Run Time (minutes)"
         }
        }
       }
      }
     },
     "metadata": {},
     "output_type": "display_data"
    }
   ],
   "source": [
    "import plotly.graph_objs as go\n",
    "from plotly.subplots import make_subplots\n",
    "\n",
    "# Create an interactive Plotly graph\n",
    "fig = make_subplots(rows=1, cols=1)\n",
    "\n",
    "# Add a scatter plot trace to the figure\n",
    "fig.add_trace(go.Scatter(x=dates, y=runtimes, mode='lines+markers', name='Run Time', line_shape='hv'))\n",
    "\n",
    "# Update the layout of the figure to include titles and gridlines\n",
    "fig.update_layout(\n",
    "    title='World Record Progression of Mario Kart Wii 32 Tracks (No Skips)',\n",
    "    xaxis_title='Date',\n",
    "    yaxis_title='Run Time (minutes)',\n",
    "    xaxis=dict(showgrid=True),  # Enable gridlines for the x-axis\n",
    "    yaxis=dict(showgrid=True)   # Enable gridlines for the y-axis\n",
    ")\n",
    "\n",
    "# Write the plot to an HTML file for offline viewing or sharing\n",
    "fig.write_html(\"plot.html\")\n",
    "\n",
    "# Display the plot in the notebook (if working in a Jupyter notebook)\n",
    "fig.show()"
   ]
  }
 ],
 "metadata": {
  "kernelspec": {
   "display_name": "api-env",
   "language": "python",
   "name": "python3"
  },
  "language_info": {
   "codemirror_mode": {
    "name": "ipython",
    "version": 3
   },
   "file_extension": ".py",
   "mimetype": "text/x-python",
   "name": "python",
   "nbconvert_exporter": "python",
   "pygments_lexer": "ipython3",
   "version": "3.12.1"
  },
  "orig_nbformat": 4
 },
 "nbformat": 4,
 "nbformat_minor": 2
}
