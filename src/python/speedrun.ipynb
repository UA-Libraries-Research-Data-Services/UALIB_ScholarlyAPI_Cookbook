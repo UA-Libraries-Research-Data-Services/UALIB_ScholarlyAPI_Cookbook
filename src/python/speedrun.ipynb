{
  "cells": [
    {
      "cell_type": "markdown",
      "id": "da8927f6",
      "metadata": {},
      "source": [
        "# Speedrun\\.com API in Python\n",
        "\n",
        "By Jay G. Crawford, Michael T. Moen, and Avery Fernandez\n",
        "\n",
        "The Speedrun\\.com API is a web-based service provided by Speedrun\\.com, the largest community and resource for speedrunning video games. Speedrunning is the practice of completing a game or a portion of it as quickly as possible, often with specific rules or categories. The Speedrun\\.com API enables developers to access and interact with the extensive database of speedrun records, leaderboards, games, categories, users, and more hosted on the Speedrun\\.com platform.\n",
        "\n",
        "Please see the following resources for more information on API usage:\n",
        "\n",
        "- **Documentation**\n",
        "  - <a href=\"https://github.com/speedruncomorg/api\" target=\"_blank\">Speedrun.com REST API Documentation</a>\n",
        "  - <a href=\"https://github.com/speedruncomorg/api/tree/master/version1\" target=\"_blank\">Speedrun.com API Endpoints</a>\n",
        "- **Terms**\n",
        "  - <a href=\"https://www.speedrun.com/pages/terms-of-use\" target=\"_blank\">Speedrun.com Terms of Use</a>\n",
        "- **Data Reuse**\n",
        "  - <a href=\"https://github.com/speedruncomorg/api?tab=readme-ov-file#content-license\" target=\"_blank\">Speedrun.com Content License</a>\n",
        "  - <a href=\"https://creativecommons.org/licenses/by-nc/4.0/\" target=\"_blank\">CC BY-NC 4.0</a>\n",
        "\n",
        "_**NOTE:**_ The <a href=\"https://github.com/speedruncomorg/api/blob/master/throttling.md\" target=\"_blank\">Speedrun.com API</a> limits requests to a maximum of 100 per minute.\n",
        "\n",
        "*These recipe examples were tested on August 26, 2025.*"
      ]
    },
    {
      "cell_type": "markdown",
      "id": "71af8c2d",
      "metadata": {},
      "source": [
        "## Key Features of the Speedrun\\.com API:\n",
        "\n",
        "1. **Game Information:** Retrieve detailed information about various games available on Speedrun\\.com, including game titles, release dates, and associated categories.\n",
        "\n",
        "2. **Category Data:** Access information about different speedrunning categories for each game. Categories define specific rules and objectives for speedruns, such as \"Any%\", \"100%\", or unique challenges like \"16 Star\" in Super Mario 64.\n",
        "\n",
        "3. **Leaderboards:** Fetch leaderboard data to see the top-performing speedruns for a particular game and category. This includes detailed run information, such as the runner, completion time, and submission date.\n",
        "\n",
        "4. **Run Details:** Obtain comprehensive data about individual speedrun attempts, including player information, run times, and dates. This allows for in-depth analysis and tracking of speedrun progress and history.\n",
        "\n",
        "5. **User Profiles:** Access user profile data to get information about speedrunners, including their usernames, social media links, and their submitted runs and achievements.\n",
        "\n",
        "6. **Platform and Region Information:** Retrieve data related to the platforms (e.g., PC, console) and regions (e.g., NTSC, PAL) used for specific runs, providing context for different versions and conditions under which the runs were performed."
      ]
    },
    {
      "cell_type": "markdown",
      "id": "328f112c",
      "metadata": {},
      "source": [
        "## Setup\n",
        "\n",
        "### Import Libraries\n",
        "\n",
        "The following external libraries need to be installed into your enviornment to run the code examples in this tutorial:\n",
        "* <a href=\"https://github.com/psf/requests\" target=\"_blank\">requests</a>\n",
        "* <a href=\"https://github.com/ipython/ipykernel\" target=\"_blank\">ipykernel</a>\n",
        "* <a href=\"https://github.com/pandas-dev/pandas\" target=\"_blank\">pandas</a>\n",
        "* <a href=\"https://github.com/matplotlib/matplotlib\" target=\"_blank\">matplotlib</a>\n",
        "\n",
        "We import the libraries used in this tutorial below:"
      ]
    },
    {
      "cell_type": "code",
      "execution_count": 1,
      "id": "03250f07",
      "metadata": {},
      "outputs": [],
      "source": [
        "import requests\n",
        "from time import sleep\n",
        "from pprint import pprint\n",
        "import pandas as pd\n",
        "import matplotlib.pyplot as plt\n",
        "from datetime import datetime"
      ]
    },
    {
      "cell_type": "markdown",
      "id": "e955cd37",
      "metadata": {},
      "source": [
        "### Define User-Agent\n",
        "\n",
        "<a href=\"https://github.com/speedruncomorg/api?tab=readme-ov-file#basics\" target=\"_blank\">Speedrun.com recommends</a> that you provide a User-Agent header in your requests to help identify your application and so that they can better understand how the API is being used. \n",
        "\n",
        "The User-Agent header should be defined as so:"
      ]
    },
    {
      "cell_type": "code",
      "execution_count": 2,
      "id": "36864e97",
      "metadata": {},
      "outputs": [],
      "source": [
        "headers = {\n",
        "    \"User-Agent\": \"SpeedrunAPITutorial/1.0\"\n",
        "}"
      ]
    },
    {
      "cell_type": "markdown",
      "id": "26b7022d",
      "metadata": {},
      "source": [
        "## 1. Find the Top Users in a Category\n",
        "\n",
        "In this first example, we demonstrate how to retrieve a list of games from the Speedrun\\.com API by searching for a particular game name. We then parse the JSON response to show how we might extract key pieces of information.\n",
        "\n",
        "The example below retrieves the leaderboard data from the 70-Star category (abbreviated as `70_Star`) from Super Mario 64 (abbreviated as `sm64`):"
      ]
    },
    {
      "cell_type": "code",
      "execution_count": 3,
      "id": "bdebe231",
      "metadata": {},
      "outputs": [
        {
          "name": "stdout",
          "output_type": "stream",
          "text": [
            "{'data': {'category': '7dgrrxk4',\n",
            "          'emulators': None,\n",
            "          'game': 'o1y9wo6q',\n",
            "          'level': None,\n",
            "          'links': [...],\n",
            "          'platform': None,\n",
            "          'region': None,\n",
            "          'runs': [...],\n",
            "          'timing': 'realtime',\n",
            "          'values': {},\n",
            "          'video-only': False,\n",
            "          'weblink': 'https://www.speedrun.com/sm64#70_Star'}}\n",
            "2720\n"
          ]
        }
      ],
      "source": [
        "base_url = \"https://www.speedrun.com/api/v1\"\n",
        "game = 'sm64'\n",
        "category = '70_Star'\n",
        "\n",
        "try:\n",
        "    response = requests.get(\n",
        "        f\"{base_url}/leaderboards/{game}/category/{category}\",\n",
        "        headers=headers\n",
        "    )\n",
        "    response.raise_for_status()\n",
        "    data = response.json()\n",
        "    pprint(data, depth=2)\n",
        "    print(len(data['data']['runs']))\n",
        "except requests.exceptions.HTTPError as e:\n",
        "    print(f\"Error retrieving data {e}\")\n",
        "    data = {}"
      ]
    },
    {
      "cell_type": "markdown",
      "id": "e77c8457",
      "metadata": {},
      "source": [
        "Using `data_retrieved[\"data\"][\"runs\"]`, we were able to access all the runs that have been uploaded to the 70-Star category in SM64.\n",
        "\n",
        "Next, we can print the data of the top run in the Super Mario 64 category. While we are at it, we will also grab the user's data for that run."
      ]
    },
    {
      "cell_type": "code",
      "execution_count": 4,
      "id": "8fb921cf",
      "metadata": {},
      "outputs": [
        {
          "name": "stdout",
          "output_type": "stream",
          "text": [
            "{'place': 1,\n",
            " 'run': {'category': '7dgrrxk4',\n",
            "         'comment': '5/5 :D\\n'\n",
            "                    '\\n'\n",
            "                    'https://www.youtube.com/watch?v=hY0SFrAnA1Qhttps://youtu.be/hY0SFrAnA1Q',\n",
            "         'date': '2024-11-17',\n",
            "         'game': 'o1y9wo6q',\n",
            "         'id': 'yoxwn51y',\n",
            "         'level': None,\n",
            "         'players': [...],\n",
            "         'splits': None,\n",
            "         'status': {...},\n",
            "         'submitted': '2024-11-17T10:44:15Z',\n",
            "         'system': {...},\n",
            "         'times': {...},\n",
            "         'values': {...},\n",
            "         'videos': {...},\n",
            "         'weblink': 'https://www.speedrun.com/sm64/run/yoxwn51y'}}\n",
            "Player:\n",
            "{'id': 'jn32931x',\n",
            " 'rel': 'user',\n",
            " 'uri': 'https://www.speedrun.com/api/v1/users/jn32931x'}\n"
          ]
        }
      ],
      "source": [
        "# Display data associated with the first run\n",
        "pprint(data[\"data\"][\"runs\"][0], depth=2)\n",
        "users = data[\"data\"][\"runs\"][0][\"run\"][\"players\"]\n",
        "print(f\"Player:\")\n",
        "pprint(users[0], depth=2)"
      ]
    },
    {
      "cell_type": "markdown",
      "id": "5560eee3",
      "metadata": {},
      "source": [
        "The url attached to the player's data is a link to their profile on the Speedrun\\.com website. This allows us to get the user's username and other information. So now we can loop through the retrieved data to find the top user's username and their times."
      ]
    },
    {
      "cell_type": "code",
      "execution_count": 5,
      "id": "bfd6939c",
      "metadata": {},
      "outputs": [
        {
          "name": "stdout",
          "output_type": "stream",
          "text": [
            "1  Suigi      46:26\n",
            "2  taihou     46:30\n",
            "3  Weegee     46:35\n",
            "4  Finnii602  46:46\n",
            "5  Parsee02   46:54\n",
            "6  Benji64    46:56\n",
            "7  Dwhatever  46:59\n",
            "8  Goldrush   46:59\n",
            "9  Mauir      47:01\n",
            "10 Raisn      47:01\n"
          ]
        }
      ],
      "source": [
        "for idx, run in enumerate(data[\"data\"][\"runs\"][:10]):\n",
        "    try:\n",
        "        user_response = requests.get(run[\"run\"][\"players\"][0][\"uri\"], headers=headers)\n",
        "        sleep(1)\n",
        "        user_response.raise_for_status()\n",
        "        user_data = user_response.json()\n",
        "        username = user_data[\"data\"][\"names\"][\"international\"]\n",
        "    except requests.exceptions.HTTPError as e:\n",
        "        print(f\"Error retrieving data {e}\")\n",
        "        username = \"Unknown\"\n",
        "    minutes = run[\"run\"][\"times\"][\"primary_t\"] // 60\n",
        "    seconds = run[\"run\"][\"times\"][\"primary_t\"] % 60\n",
        "    print(f'{idx+1:<2} {username:<10} {minutes:02}:{seconds:02}')"
      ]
    },
    {
      "cell_type": "markdown",
      "id": "dc67cf9e",
      "metadata": {},
      "source": [
        "## 2. Find the Top Runs and Progression for a User\n",
        "\n",
        "In this example, we will use pagination to retrieve large amounts of data and create visualizations based on the data retrieved.\n",
        "\n",
        "This code example focuses on finding the top runs and tracking the progression of a specific player's speedrun times within a given game and category on Speedrun\\.com. By leveraging the Speedrun\\.com API, the script fetches detailed information about the player's runs and visualizes their performance over time."
      ]
    },
    {
      "cell_type": "code",
      "execution_count": 6,
      "id": "d948963d",
      "metadata": {},
      "outputs": [
        {
          "name": "stdout",
          "output_type": "stream",
          "text": [
            "{'category': '7dgrrxk4',\n",
            " 'comment': '5/5 :D\\n'\n",
            "            '\\n'\n",
            "            'https://www.youtube.com/watch?v=hY0SFrAnA1Qhttps://youtu.be/hY0SFrAnA1Q',\n",
            " 'date': '2024-11-17',\n",
            " 'game': 'o1y9wo6q',\n",
            " 'id': 'yoxwn51y',\n",
            " 'level': None,\n",
            " 'players': [{'id': 'jn32931x',\n",
            "              'rel': 'user',\n",
            "              'uri': 'https://www.speedrun.com/api/v1/users/jn32931x'}],\n",
            " 'splits': None,\n",
            " 'status': {'examiner': '8lpgwllj',\n",
            "            'status': 'verified',\n",
            "            'verify-date': '2024-11-17T15:44:19Z'},\n",
            " 'submitted': '2024-11-17T10:44:15Z',\n",
            " 'system': {'emulated': False, 'platform': 'w89rwelk', 'region': 'pr184lqn'},\n",
            " 'times': {'ingame': None,\n",
            "           'ingame_t': 0,\n",
            "           'primary': 'PT46M26S',\n",
            "           'primary_t': 2786,\n",
            "           'realtime': 'PT46M26S',\n",
            "           'realtime_noloads': None,\n",
            "           'realtime_noloads_t': 0,\n",
            "           'realtime_t': 2786},\n",
            " 'values': {'e8m7em86': '9qj7z0oq', 'kn04ewol': '5q8e86rq'},\n",
            " 'videos': {'links': [{'uri': 'https://www.youtube.com/watch?v=hY0SFrAnA1Qhttps://youtu.be/hY0SFrAnA1Q'},\n",
            "                      {'uri': 'https://youtu.be/zP-GOoGqA8w'}]},\n",
            " 'weblink': 'https://www.speedrun.com/sm64/run/yoxwn51y'}\n"
          ]
        }
      ],
      "source": [
        "game = 'sm64'\n",
        "category = '70_Star'\n",
        "\n",
        "try:\n",
        "    response = requests.get(\n",
        "        f\"{base_url}/leaderboards/{game}/category/{category}\",\n",
        "        headers=headers\n",
        "    )\n",
        "    sleep(1)\n",
        "    response.raise_for_status()\n",
        "    data = response.json()['data']\n",
        "    game_id = data['game']\n",
        "    category_id = data['category']\n",
        "    pprint(data['runs'][0]['run'])\n",
        "    # Grab the first player's data\n",
        "    player_id = data['runs'][0]['run']['players'][0]['id']\n",
        "    user_url = data['runs'][0]['run']['players'][0]['uri']\n",
        "    try:\n",
        "        response = requests.get(user_url, headers=headers)\n",
        "        response.raise_for_status()\n",
        "        username = response.json()['data']['names']['international']\n",
        "    except requests.exceptions.HTTPError as e:\n",
        "        print(f\"Error retrieving data {e}\")\n",
        "        username = \"Unknown\"\n",
        "except requests.exceptions.HTTPError as e:\n",
        "    print(f\"Error retrieving data {e}\")\n",
        "    data = {}\n",
        "    game_id = ''\n",
        "    category_id = ''\n",
        "    player_id = ''\n",
        "    username = ''"
      ]
    },
    {
      "cell_type": "markdown",
      "id": "fccb55e9",
      "metadata": {},
      "source": [
        "With the player information, we are going to grab the user's personal best times for the 70-Star category in Super Mario 64. We will then plot the progression of the user's times over time."
      ]
    },
    {
      "cell_type": "code",
      "execution_count": 7,
      "id": "05c0af72",
      "metadata": {},
      "outputs": [
        {
          "data": {
            "text/html": [
              "<div>\n",
              "<style scoped>\n",
              "    .dataframe tbody tr th:only-of-type {\n",
              "        vertical-align: middle;\n",
              "    }\n",
              "\n",
              "    .dataframe tbody tr th {\n",
              "        vertical-align: top;\n",
              "    }\n",
              "\n",
              "    .dataframe thead th {\n",
              "        text-align: right;\n",
              "    }\n",
              "</style>\n",
              "<table border=\"1\" class=\"dataframe\">\n",
              "  <thead>\n",
              "    <tr style=\"text-align: right;\">\n",
              "      <th></th>\n",
              "      <th>time</th>\n",
              "      <th>date</th>\n",
              "    </tr>\n",
              "  </thead>\n",
              "  <tbody>\n",
              "    <tr>\n",
              "      <th>0</th>\n",
              "      <td>51.550000</td>\n",
              "      <td>2022-02-05</td>\n",
              "    </tr>\n",
              "    <tr>\n",
              "      <th>1</th>\n",
              "      <td>50.800000</td>\n",
              "      <td>2022-02-05</td>\n",
              "    </tr>\n",
              "    <tr>\n",
              "      <th>2</th>\n",
              "      <td>50.250000</td>\n",
              "      <td>2022-02-05</td>\n",
              "    </tr>\n",
              "    <tr>\n",
              "      <th>3</th>\n",
              "      <td>48.733333</td>\n",
              "      <td>2022-02-05</td>\n",
              "    </tr>\n",
              "    <tr>\n",
              "      <th>4</th>\n",
              "      <td>48.650000</td>\n",
              "      <td>2022-02-06</td>\n",
              "    </tr>\n",
              "    <tr>\n",
              "      <th>5</th>\n",
              "      <td>48.266667</td>\n",
              "      <td>2022-02-06</td>\n",
              "    </tr>\n",
              "    <tr>\n",
              "      <th>6</th>\n",
              "      <td>48.166667</td>\n",
              "      <td>2022-03-12</td>\n",
              "    </tr>\n",
              "    <tr>\n",
              "      <th>7</th>\n",
              "      <td>47.800000</td>\n",
              "      <td>2022-03-24</td>\n",
              "    </tr>\n",
              "    <tr>\n",
              "      <th>8</th>\n",
              "      <td>47.716667</td>\n",
              "      <td>2022-08-10</td>\n",
              "    </tr>\n",
              "    <tr>\n",
              "      <th>9</th>\n",
              "      <td>47.533333</td>\n",
              "      <td>2022-08-14</td>\n",
              "    </tr>\n",
              "    <tr>\n",
              "      <th>10</th>\n",
              "      <td>47.216667</td>\n",
              "      <td>2022-08-18</td>\n",
              "    </tr>\n",
              "    <tr>\n",
              "      <th>11</th>\n",
              "      <td>47.083333</td>\n",
              "      <td>2023-06-09</td>\n",
              "    </tr>\n",
              "    <tr>\n",
              "      <th>12</th>\n",
              "      <td>46.683333</td>\n",
              "      <td>2023-06-17</td>\n",
              "    </tr>\n",
              "    <tr>\n",
              "      <th>13</th>\n",
              "      <td>46.433333</td>\n",
              "      <td>2024-11-17</td>\n",
              "    </tr>\n",
              "  </tbody>\n",
              "</table>\n",
              "</div>"
            ],
            "text/plain": [
              "         time        date\n",
              "0   51.550000  2022-02-05\n",
              "1   50.800000  2022-02-05\n",
              "2   50.250000  2022-02-05\n",
              "3   48.733333  2022-02-05\n",
              "4   48.650000  2022-02-06\n",
              "5   48.266667  2022-02-06\n",
              "6   48.166667  2022-03-12\n",
              "7   47.800000  2022-03-24\n",
              "8   47.716667  2022-08-10\n",
              "9   47.533333  2022-08-14\n",
              "10  47.216667  2022-08-18\n",
              "11  47.083333  2023-06-09\n",
              "12  46.683333  2023-06-17\n",
              "13  46.433333  2024-11-17"
            ]
          },
          "execution_count": 7,
          "metadata": {},
          "output_type": "execute_result"
        }
      ],
      "source": [
        "if game_id and category_id and player_id:\n",
        "    try:\n",
        "        specific_data = requests.get(\n",
        "            f\"{base_url}/runs?game={game_id}&category={category_id}&user={player_id}\",\n",
        "            headers=headers\n",
        "        ).json()\n",
        "\n",
        "        runs = []\n",
        "        for run in specific_data['data']:\n",
        "            run_entry = {\n",
        "                'time': run['times']['primary_t'] / 60,\n",
        "                'date': run.get('date', None)\n",
        "            }\n",
        "            runs.append(run_entry)\n",
        "\n",
        "        df = pd.DataFrame(runs)\n",
        "    except requests.exceptions.HTTPError as e:\n",
        "        print(f\"Error retrieving data {e}\")\n",
        "        df = pd.DataFrame()\n",
        "else:\n",
        "    df = pd.DataFrame()\n",
        "\n",
        "df"
      ]
    },
    {
      "cell_type": "markdown",
      "id": "b2703573",
      "metadata": {},
      "source": [
        "Now we can graph the progression of the user's times over time. This will allow us to see how the user's times have improved or worsened over time."
      ]
    },
    {
      "cell_type": "code",
      "execution_count": 8,
      "id": "26e48463",
      "metadata": {},
      "outputs": [
        {
          "data": {
            "image/png": "[encoded data removed]",
            "text/plain": [
              "<Figure size 1200x600 with 1 Axes>"
            ]
          },
          "metadata": {},
          "output_type": "display_data"
        }
      ],
      "source": [
        "# Prepare data for graphing\n",
        "df['date'] = pd.to_datetime(df['date'])\n",
        "df.sort_values('date', inplace=True)\n",
        "# Create a plot to visualize the player's progress\n",
        "plt.figure(figsize=(12, 6))\n",
        "plt.step(df['date'], df['time'], marker='o', linestyle='-', color='green', where='post')\n",
        "plt.title(f'Progress of {username} in Super Mario 64 (70 Star)')\n",
        "plt.xlabel('Date of Run')\n",
        "plt.ylabel('Run Time (minutes)')\n",
        "plt.grid(True)\n",
        "plt.tight_layout()\n",
        "plt.show()"
      ]
    },
    {
      "cell_type": "markdown",
      "id": "550fadcd",
      "metadata": {},
      "source": [
        "## 3. Graphing a World Record Progression\n",
        "\n",
        "This code fetches data from the Speedrun\\.com API for Mario Kart Wii's 32 Tracks (No Skips) category, accumulates the dates and runtimes of verified runs, and identifies the progression of the world record over time. It then sorts the data and extracts the relevant dates and runtimes to graph the progression of this world record category.\n",
        "\n",
        "### Finding the Parameter IDs\n",
        "\n",
        "To begin, we will find the game and category IDs for Mario Kart Wii's 32 Tracks (No Skips) category. Using the `MKWii` code found in the URL to the <a href=\"https://www.speedrun.com/MKWii\" target=\"_blank\">game's page on Speedrun.com</a>, we can access the game ID and category data."
      ]
    },
    {
      "cell_type": "code",
      "execution_count": 9,
      "id": "57ed8ed6",
      "metadata": {},
      "outputs": [
        {
          "name": "stdout",
          "output_type": "stream",
          "text": [
            "Game ID for Mario Kart Wii is 'l3dxogdy'\n",
            "Categories for Mario Kart Wii:\n",
            "wk68zp21 : 32 Tracks\n",
            "7kj6mz23 : Nitro Tracks\n",
            "xk9v3gd0 : Retro Tracks\n",
            "7kjzwjnd : 100%\n",
            "q25oz7gk : Mushroom Cup\n",
            "jdrqy7lk : Flower Cup\n",
            "jdz3xv62 : Star Cup\n",
            "02qg6l9d : Special Cup\n",
            "824xzrnd : Shell Cup\n",
            "9d8pzglk : Banana Cup\n",
            "xd1rz7wk : Leaf Cup\n",
            "zd30z7rd : Lightning Cup\n"
          ]
        }
      ],
      "source": [
        "# Game identifier for Mario Kart Wii\n",
        "game = 'MKWii'  \n",
        "\n",
        "try:\n",
        "    response = requests.get(\n",
        "        f\"{base_url}/games/{game}?embed=categories.variables\",\n",
        "        headers=headers\n",
        "    )\n",
        "    response.raise_for_status()\n",
        "    data = response.json()['data']\n",
        "\n",
        "    game_title = data['names']['international']\n",
        "    game_id = data['id']\n",
        "    print(f\"Game ID for {game_title} is '{game_id}'\")\n",
        "\n",
        "    print(f\"Categories for {game_title}:\")\n",
        "    for category in data['categories']['data']:\n",
        "        print(f\"{category['id']} : {category['name']}\")\n",
        "except requests.exceptions.HTTPError as e:\n",
        "    print(f\"Error retrieving data {e}\")\n",
        "    data = {}"
      ]
    },
    {
      "cell_type": "markdown",
      "id": "3a10a83d",
      "metadata": {},
      "source": [
        "In the code above, we set the game ID for Mario Kart Wii and printed the category ID for every category. Since we are looking at the 32 Tracks category, we set the category ID below. Since we wish to further filter the category to include only No Skips runs, we must find the value and choice IDs."
      ]
    },
    {
      "cell_type": "code",
      "execution_count": 10,
      "id": "9ddebd42",
      "metadata": {
        "tags": [
          "output_scroll"
        ]
      },
      "outputs": [
        {
          "name": "stdout",
          "output_type": "stream",
          "text": [
            "j84rwjl9 : Skips\n",
            "{'81p4xxg1': 'Skips', 'xqk9zzn1': 'No Skips'}\n",
            "\n",
            "wlez0kl6 : Items (32 Tracks)\n",
            "{'4qyrv62l': 'Aggressive Items',\n",
            " '814k220l': 'Balanced Items',\n",
            " 'gq797gvl': 'Strategic Items',\n",
            " 'p12o227l': 'No Items'}\n",
            "\n",
            "5ly9mjn4 : Character\n",
            "{'013kzdq5': 'Koopa Troopa',\n",
            " '0q5wdmqp': 'Luigi',\n",
            " '21d804le': 'King Boo',\n",
            " '21g0mnqz': 'Waluigi',\n",
            " '4lx2m212': 'Peach',\n",
            " '4qy20417': 'Funky Kong',\n",
            " '5leyp51o': 'Mario',\n",
            " '5lm37j1v': 'Baby Daisy',\n",
            " '5q8vygld': 'Rosalina',\n",
            " '810n2wqv': 'Baby Mario',\n",
            " '810n4wqv': 'Mii',\n",
            " '814mr01d': 'Daisy',\n",
            " '81pkrgl7': 'Diddy Kong',\n",
            " '81w26o14': 'Toad',\n",
            " '9qjmpeq4': 'Baby Luigi',\n",
            " 'gq738vlp': 'Wario',\n",
            " 'jq6o83qm': 'Baby Peach',\n",
            " 'jqz2jgqp': 'Donkey Kong',\n",
            " 'klrkgj1p': 'Bowser',\n",
            " 'mlnvx01p': 'Dry Bowser',\n",
            " 'p12jg7qx': 'Birdo',\n",
            " 'rqv2j716': 'Dry Bones',\n",
            " 'xqkwpnq9': 'Bowser Jr.',\n",
            " 'z19e00q4': 'Yoshi',\n",
            " 'zqoezply': 'Toadette'}\n",
            "\n",
            "wl35p9n1 : Vehicle\n",
            "{'013w22dq': 'Flame Runner',\n",
            " '013w2vdq': 'Bullet Bike',\n",
            " '0q5x22m1': 'Spear',\n",
            " '0q5x2om1': 'Magikruiser',\n",
            " '21dv2241': 'Zip Zip',\n",
            " '21gexxnl': 'Standard Bike M',\n",
            " '4lx0yx2l': 'Jet Bubble',\n",
            " '4lx0yy2l': 'Phantom',\n",
            " '4qy5nn41': 'Dolphin Dasher',\n",
            " '5le3ee5q': 'Shooting Star',\n",
            " '5le3ek5q': 'Quacker',\n",
            " '5lm8ddjq': 'Jetsetter',\n",
            " '5lm8dxjq': 'Tiny Titan',\n",
            " '5q82gggq': 'Sneakster',\n",
            " '8100x5w1': 'Booster Seat',\n",
            " '8100xxw1': 'Offroader',\n",
            " '814k2x0l': 'Standard Kart M',\n",
            " '81p4x7g1': 'Super Blooper',\n",
            " '81wenmo1': 'Blue Falcon',\n",
            " '81wenno1': 'Honeycoupe',\n",
            " '9qjwgge1': 'Flame Flyer',\n",
            " '9qjwgze1': 'Mini Beast',\n",
            " 'gq7977vl': 'Sprinter',\n",
            " 'jq6y2231': 'Piranha Prowler',\n",
            " 'jq6y2431': 'Cheep Charger',\n",
            " 'jqzv00gl': 'Mach Bike',\n",
            " 'klrj55jq': 'Sugarscoot',\n",
            " 'mlnd5501': 'Standard Kart L',\n",
            " 'mlnd5y01': 'Standard Kart S',\n",
            " 'p12o257l': 'Wild Wing',\n",
            " 'rqv6m47l': 'Bit Bike',\n",
            " 'rqv6mm7l': 'Wario Bike',\n",
            " 'xqk9zrn1': 'Daytripper',\n",
            " 'z195z40q': 'Classic Dragster',\n",
            " 'zqom55p1': 'Standard Bike L',\n",
            " 'zqom5yp1': 'Standard Bike S'}\n",
            "\n"
          ]
        }
      ],
      "source": [
        "category_id = 'wk68zp21'\n",
        "\n",
        "try:\n",
        "    response = requests.get(\n",
        "        f\"{base_url}/categories/{category_id}/variables\",\n",
        "        headers=headers\n",
        "    )\n",
        "    response.raise_for_status()\n",
        "    data = response.json()['data']\n",
        "    # Print the value IDs and names\n",
        "    for idx, var in enumerate(data):\n",
        "        print(f\"{var['id']} : {var['name']}\")\n",
        "        pprint(var['values']['choices'])\n",
        "        print()\n",
        "except requests.exceptions.HTTPError as e:\n",
        "    print(f\"Error retrieving data {e}\")\n",
        "    data = {}"
      ]
    },
    {
      "cell_type": "code",
      "execution_count": 11,
      "id": "39a0485a",
      "metadata": {},
      "outputs": [],
      "source": [
        "value_id = 'j84rwjl9'\n",
        "choice_id = 'xqk9zzn1'\n",
        "offset = 0\n",
        "dates_runtimes = []\n",
        "if game_id and category_id:\n",
        "    while True:\n",
        "        params = {\n",
        "            'game': game_id,\n",
        "            'category': category_id,\n",
        "            'status': 'verified',\n",
        "            'max': 200,\n",
        "            'offset': offset\n",
        "        }\n",
        "        try:\n",
        "            response = requests.get(\n",
        "                f\"{base_url}/runs\",\n",
        "                headers=headers,\n",
        "                params=params\n",
        "            )\n",
        "            response.raise_for_status()\n",
        "            data = response.json()\n",
        "            sleep(1)\n",
        "            if not data['data']:\n",
        "                break\n",
        "            offset += 200\n",
        "            for run in data['data']:\n",
        "                date = run.get(\"date\", None)\n",
        "                if not date or run['values'][value_id] != choice_id:\n",
        "                    continue  # Skip if the date is not available\n",
        "                runtime = run['times']['primary_t'] / 60\n",
        "                date = datetime.strptime(date, \"%Y-%m-%d\")\n",
        "                dates_runtimes.append((date, runtime))\n",
        "        except requests.exceptions.HTTPError as e:\n",
        "            print(f\"Error retrieving data {e}\")\n",
        "            break\n",
        "else:\n",
        "    print(\"Game or category not found\")\n",
        "\n",
        "# Sort the list of (date, runtime) tuples by date\n",
        "dates_runtimes.sort()\n",
        "\n",
        "# Find the world record progression\n",
        "wr_dates_runtimes = [dates_runtimes[0]]\n",
        "for run in dates_runtimes[1:]:\n",
        "    if run[1] < wr_dates_runtimes[-1][1]:\n",
        "        wr_dates_runtimes.append(run)\n",
        "\n",
        "# Unzip the list of world record (date, runtime) tuples into separate lists\n",
        "dates, runtimes = zip(*wr_dates_runtimes)"
      ]
    },
    {
      "cell_type": "code",
      "execution_count": 12,
      "id": "0f45b783",
      "metadata": {},
      "outputs": [
        {
          "data": {
            "image/png": "[encoded data removed]",
            "text/plain": [
              "<Figure size 1200x600 with 1 Axes>"
            ]
          },
          "metadata": {},
          "output_type": "display_data"
        }
      ],
      "source": [
        "# Create a plot to visualize the world record progression\n",
        "plt.figure(figsize=(12, 6))\n",
        "plt.step(dates, runtimes, marker='o', linestyle='-', color='green', where='post')\n",
        "plt.title(f'World Record Progression of Mario Kart Wii 32 Tracks (No Skips)')\n",
        "plt.xlabel('Date of Run')\n",
        "plt.ylabel('Run Time (minutes)')\n",
        "plt.grid(True)\n",
        "plt.tight_layout()\n",
        "plt.show()"
      ]
    }
  ],
  "metadata": {
    "authors": [
      {
        "name": "Jay G. Crawford"
      },
      {
        "name": "Michael T. Moen"
      },
      {
        "name": "Avery Fernandez"
      }
    ],
    "kernelspec": {
      "display_name": "cookbook",
      "language": "python",
      "name": "python3"
    },
    "language_info": {
      "codemirror_mode": {
        "name": "ipython",
        "version": 3
      },
      "file_extension": ".py",
      "mimetype": "text/x-python",
      "name": "python",
      "nbconvert_exporter": "python",
      "pygments_lexer": "ipython3",
      "version": "3.13.5"
    }
  },
  "nbformat": 4,
  "nbformat_minor": 5
}
