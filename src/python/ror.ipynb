{
 "cells": [
  {
   "cell_type": "markdown",
   "metadata": {},
   "source": [
    "# Research Organization Registry API in Python\n",
    "\n",
    "by Michael T. Moen\n",
    "\n",
    "The Research Organization Registry (ROR) API provides persistent identifiers for research organizations.\n",
    "\n",
    "- Documentation\n",
    "    - <a href=\"https://ror.readme.io/docs/rest-api\" target=\"_blank\">ROR API Documentation</a>\n",
    "- Data Reuse\n",
    "    - <a href=\"https://ror.readme.io/docs/ror-basics#what-is-ror\" target=\"_blank\">ROR API License Info</a>\n",
    "    - The ROR data is licensed under the Creative Commons' <a href=\"https://creativecommons.org/publicdomain/zero/1.0/\" target=\"_blank\">CC0 license</a>.\n",
    "\n",
    "*These recipe examples were tested on March 28, 2025.*\n",
    "\n",
    "**_NOTE:_** The ROR API limits requests to a maximum of 2000 requests in a 5-minute period."
   ]
  },
  {
   "cell_type": "markdown",
   "metadata": {},
   "source": [
    "## Setup\n",
    "\n",
    "### Import Libraries\n",
    "\n",
    "The following external libraries need to be installed into your environment to run the code examples in this tutorial:\n",
    "\n",
    "- <a href=\"https://github.com/ipython/ipykernel\" target=\"_blank\">ipykernel</a>\n",
    "- <a href=\"https://github.com/psf/requests\" target=\"_blank\">requests</a>\n",
    "\n",
    "We import the libraries used in this tutorial below:"
   ]
  },
  {
   "cell_type": "code",
   "execution_count": 1,
   "metadata": {},
   "outputs": [],
   "source": [
    "import requests\n",
    "from time import sleep"
   ]
  },
  {
   "cell_type": "markdown",
   "metadata": {},
   "source": [
    "### ROR Data Dump\n",
    "\n",
    "When working with larger datasets, consider using the <a href=\"https://ror.readme.io/docs/data-dump\" target=\"_blank\">ROR data dump</a>."
   ]
  },
  {
   "cell_type": "markdown",
   "metadata": {},
   "source": [
    "## 1. Searching with Queries\n",
    "\n",
    "This first example uses the `query` parameter of the ROR API to search for an institution by name. In this example, we'll search for The University of Alabama:"
   ]
  },
  {
   "cell_type": "code",
   "execution_count": 2,
   "metadata": {},
   "outputs": [
    {
     "name": "stdout",
     "output_type": "stream",
     "text": [
      "Total number of results: 27751\n",
      "Page length: 20\n"
     ]
    }
   ],
   "source": [
    "# The search query is the institution name\n",
    "institution = 'University of Alabama'\n",
    "\n",
    "# Construct URL and send HTTP request\n",
    "url = f'https://api.ror.org/organizations?query={institution}'\n",
    "response = requests.get(url).json()\n",
    "\n",
    "# Print total number of results and number of results in page\n",
    "print(f'Total number of results: {response[\"number_of_results\"]}')\n",
    "print(f'Page length: {len(response[\"items\"])}')"
   ]
  },
  {
   "cell_type": "markdown",
   "metadata": {},
   "source": [
    "The results indicate that the query produced thousands of results, but only the data for 20 institutions were returned in this query. However, the top result is exactly what we were looking for:"
   ]
  },
  {
   "cell_type": "code",
   "execution_count": 3,
   "metadata": {
    "tags": [
     "output_scroll"
    ]
   },
   "outputs": [
    {
     "data": {
      "text/plain": [
       "{'id': 'https://ror.org/03xrrjk67',\n",
       " 'name': 'University of Alabama',\n",
       " 'email_address': None,\n",
       " 'ip_addresses': [],\n",
       " 'established': 1831,\n",
       " 'types': ['Education', 'Funder'],\n",
       " 'relationships': [{'label': 'University of Alabama System',\n",
       "   'type': 'Parent',\n",
       "   'id': 'https://ror.org/051fvmk98'},\n",
       "  {'label': 'Mississippi Alabama Sea Grant Consortium',\n",
       "   'type': 'Related',\n",
       "   'id': 'https://ror.org/04vzsq290'}],\n",
       " 'addresses': [{'lat': 33.20984,\n",
       "   'lng': -87.56917,\n",
       "   'state': None,\n",
       "   'state_code': None,\n",
       "   'city': 'Tuscaloosa',\n",
       "   'geonames_city': {'id': 4094455,\n",
       "    'city': 'Tuscaloosa',\n",
       "    'geonames_admin1': {'name': 'Alabama',\n",
       "     'id': None,\n",
       "     'ascii_name': None,\n",
       "     'code': 'US.AL'},\n",
       "    'geonames_admin2': {'name': None,\n",
       "     'id': None,\n",
       "     'ascii_name': None,\n",
       "     'code': None},\n",
       "    'license': {'attribution': 'Data from geonames.org under a CC-BY 3.0 license',\n",
       "     'license': 'http://creativecommons.org/licenses/by/3.0/'},\n",
       "    'nuts_level1': {'name': None, 'code': None},\n",
       "    'nuts_level2': {'name': None, 'code': None},\n",
       "    'nuts_level3': {'name': None, 'code': None}},\n",
       "   'postcode': None,\n",
       "   'primary': False,\n",
       "   'line': None,\n",
       "   'country_geonames_id': None}],\n",
       " 'links': ['https://www.ua.edu/'],\n",
       " 'aliases': [],\n",
       " 'acronyms': [],\n",
       " 'status': 'active',\n",
       " 'wikipedia_url': 'http://en.wikipedia.org/wiki/University_of_Alabama',\n",
       " 'labels': [{'label': 'Universidad de Alabama', 'iso639': 'es'},\n",
       "  {'label': \"Université de l'Alabama\", 'iso639': 'fr'}],\n",
       " 'country': {'country_name': 'United States', 'country_code': 'US'},\n",
       " 'external_ids': {'ISNI': {'preferred': None, 'all': ['0000 0001 0727 7545']},\n",
       "  'FundRef': {'preferred': '100011531', 'all': ['100011531']},\n",
       "  'Wikidata': {'preferred': None, 'all': ['Q492318']},\n",
       "  'GRID': {'preferred': 'grid.411015.0', 'all': 'grid.411015.0'}}}"
      ]
     },
     "execution_count": 3,
     "metadata": {},
     "output_type": "execute_result"
    }
   ],
   "source": [
    "# Display data of the top search result\n",
    "response['items'][0]"
   ]
  },
  {
   "cell_type": "markdown",
   "metadata": {},
   "source": [
    "The following code produces the name, ROR ID, city, and wikipedia URL of the top result of the query:"
   ]
  },
  {
   "cell_type": "code",
   "execution_count": 4,
   "metadata": {},
   "outputs": [
    {
     "data": {
      "text/plain": [
       "'University of Alabama'"
      ]
     },
     "execution_count": 4,
     "metadata": {},
     "output_type": "execute_result"
    }
   ],
   "source": [
    "response['items'][0]['name']"
   ]
  },
  {
   "cell_type": "code",
   "execution_count": 5,
   "metadata": {},
   "outputs": [
    {
     "data": {
      "text/plain": [
       "'https://ror.org/03xrrjk67'"
      ]
     },
     "execution_count": 5,
     "metadata": {},
     "output_type": "execute_result"
    }
   ],
   "source": [
    "response['items'][0]['id']"
   ]
  },
  {
   "cell_type": "code",
   "execution_count": 6,
   "metadata": {},
   "outputs": [
    {
     "data": {
      "text/plain": [
       "'Tuscaloosa'"
      ]
     },
     "execution_count": 6,
     "metadata": {},
     "output_type": "execute_result"
    }
   ],
   "source": [
    "response['items'][0]['addresses'][0]['city']"
   ]
  },
  {
   "cell_type": "code",
   "execution_count": 7,
   "metadata": {},
   "outputs": [
    {
     "data": {
      "text/plain": [
       "'http://en.wikipedia.org/wiki/University_of_Alabama'"
      ]
     },
     "execution_count": 7,
     "metadata": {},
     "output_type": "execute_result"
    }
   ],
   "source": [
    "response['items'][0]['wikipedia_url']"
   ]
  },
  {
   "cell_type": "markdown",
   "metadata": {},
   "source": [
    "### Searching by Alternate Names\n",
    "\n",
    "The example below uses abbreviated forms of the full names of universities when searching:"
   ]
  },
  {
   "cell_type": "code",
   "execution_count": 8,
   "metadata": {},
   "outputs": [
    {
     "name": "stdout",
     "output_type": "stream",
     "text": [
      "University of Alabama Tuscaloosa: University of Alabama\n",
      "Missouri: Missouri Southern State University\n",
      "Dartmouth: Dartmouth Hospital\n",
      "Oxford: Oxford Optronix\n",
      "UCLA: Universidad Centroccidental Lisandro Alvarado\n"
     ]
    }
   ],
   "source": [
    "# List of institutions to be searched\n",
    "institutions = [\n",
    "    'University of Alabama Tuscaloosa',\n",
    "    'Missouri',\n",
    "    'Dartmouth',\n",
    "    'Oxford',\n",
    "    'UCLA'\n",
    "]\n",
    "\n",
    "# Send an HTTP request for each institution\n",
    "for institution in institutions:\n",
    "    url = f'https://api.ror.org/organizations?query={institution}'\n",
    "    search_data = requests.get(url).json()\n",
    "\n",
    "    # Print the search term and the name of its top result\n",
    "    print(f'{institution}: {search_data[\"items\"][0][\"name\"]}')\n",
    "\n",
    "    # Stagger requests to be nicer on the ROR servers\n",
    "    sleep(0.5)"
   ]
  },
  {
   "cell_type": "markdown",
   "metadata": {},
   "source": [
    "The top results of the queries above are probably not what you would have expected. The example below remedies these issues by having more clearly defined search strings:"
   ]
  },
  {
   "cell_type": "code",
   "execution_count": 9,
   "metadata": {},
   "outputs": [
    {
     "name": "stdout",
     "output_type": "stream",
     "text": [
      "University of Alabama Tuscaloosa: University of Alabama\n",
      "University of Missouri: University of Missouri\n",
      "Dartmouth College: Dartmouth College\n",
      "University of Oxford: University of Oxford\n",
      "University of California Los Angeles: University of California, Los Angeles\n"
     ]
    }
   ],
   "source": [
    "# List of institutions to be searched\n",
    "institutions = [\n",
    "    'University of Alabama Tuscaloosa',\n",
    "    'University of Missouri',\n",
    "    'Dartmouth College',\n",
    "    'University of Oxford',\n",
    "    'University of California Los Angeles'\n",
    "]\n",
    "\n",
    "# Send an HTTP request for each institution\n",
    "for institution in institutions:\n",
    "    url = f'https://api.ror.org/organizations?query={institution}'\n",
    "    search_data = requests.get(url).json()\n",
    "\n",
    "    # Print the search term and the name of its top result\n",
    "    print(f'{institution}: {search_data[\"items\"][0][\"name\"]}')\n",
    "\n",
    "    # Stagger requests to be nicer on the ROR servers\n",
    "    sleep(0.5)"
   ]
  },
  {
   "cell_type": "markdown",
   "metadata": {},
   "source": [
    "## 2. Searching with Filters\n",
    "\n",
    "The ROR API also allows searches to be performed with the `filter` parameter, which can take 3 arguments: `status`, `types`, and `country`. For more information on what values these arguments can take, read the <a href=\"https://ror.org/tutorials/intro-ror-api/#filtering-results\" target=\"_blank\">ROR documentation</a>."
   ]
  },
  {
   "cell_type": "code",
   "execution_count": 10,
   "metadata": {},
   "outputs": [
    {
     "data": {
      "text/plain": [
       "4331"
      ]
     },
     "execution_count": 10,
     "metadata": {},
     "output_type": "execute_result"
    }
   ],
   "source": [
    "filters = ','.join([\n",
    "    'country.country_name:United States',\n",
    "    'types:Education',\n",
    "    'status:Active'\n",
    "])\n",
    "\n",
    "# URL constructed with the filters\n",
    "url = f'https://api.ror.org/organizations?filter={filters}'\n",
    "response = requests.get(url).json()\n",
    "\n",
    "# Display number of results\n",
    "response['number_of_results']"
   ]
  },
  {
   "cell_type": "markdown",
   "metadata": {},
   "source": [
    "### Paging through a Result\n",
    "\n",
    "The example below pages through the results to find the names and ROR IDs of the first 100 institutions returned using the filter:"
   ]
  },
  {
   "cell_type": "code",
   "execution_count": 11,
   "metadata": {
    "tags": [
     "output_scroll"
    ]
   },
   "outputs": [
    {
     "name": "stdout",
     "output_type": "stream",
     "text": [
      "Albert Einstein Academy: https://ror.org/01fhhqb25\n",
      "Albuquerque Academy: https://ror.org/04bty2w72\n",
      "American College of Veterinary Ophthalmologists: https://ror.org/010m1h651\n",
      "American University of Beirut New York Office: https://ror.org/05t3agv77\n",
      "Arizona School for the Arts: https://ror.org/00a0wam85\n",
      "Arkansas State University System: https://ror.org/0152qkr29\n",
      "Asbestos Institute: https://ror.org/058kkmh35\n",
      "Avraham Y. Goldratt Institute: https://ror.org/00me50c36\n",
      "BMCC Tribeca Performing Arts Center: https://ror.org/021rrz441\n",
      "Beck Institute for Cognitive Behavior Therapy: https://ror.org/0271pep11\n",
      "Beth Mardutho: https://ror.org/01agawy76\n",
      "Brown-Spath & Associates: https://ror.org/05h7bqz94\n",
      "Bucks County Intermediate Unit: https://ror.org/052bwdm80\n",
      "Cacapon Institute: https://ror.org/02bt8sv61\n",
      "California Northstate University: https://ror.org/03h0d2228\n",
      "Chattahoochee Valley Community College: https://ror.org/052rvpm80\n",
      "Chhandam School of Kathak: https://ror.org/01z2dq675\n",
      "Chicago Arts Partnerships in Education: https://ror.org/02pd2vd80\n",
      "Chicago Youth Symphony Orchestras: https://ror.org/04mm4cb76\n",
      "ChildCare Education Institute: https://ror.org/032nv5f98\n",
      "College of the Muscogee Nation: https://ror.org/01qfzbz52\n",
      "Collingswood Public Schools: https://ror.org/04c9j0t17\n",
      "Courant Institute of Mathematical Sciences: https://ror.org/037tm7f56\n",
      "Dallas Theological Seminary: https://ror.org/03cv0r897\n",
      "Dominican School of Philosophy and Theology: https://ror.org/015yfqq31\n",
      "East Baton Rouge Parish School System: https://ror.org/05cendc56\n",
      "Emergency University: https://ror.org/011bbtj34\n",
      "Fairfax County Public Schools: https://ror.org/04nrt0320\n",
      "Frederick Community College: https://ror.org/05c0t8x83\n",
      "GDP Ayurvedic University: https://ror.org/02s1nfr38\n",
      "Garden Street Academy: https://ror.org/039e9be94\n",
      "Garrett–Evangelical Theological Seminary: https://ror.org/03ncber98\n",
      "Germanna Virginia Community College: https://ror.org/03dgxrg98\n",
      "Graduate Institute of Applied Linguistics: https://ror.org/02jr43a19\n",
      "Green River Community College: https://ror.org/04s68af23\n",
      "Hendrick Hudson School District: https://ror.org/0431j1g69\n",
      "Institute for Education in International Media: https://ror.org/02mrr4460\n",
      "Juilliard School: https://ror.org/04g449w06\n",
      "Kansas City Public Schools: https://ror.org/03pvzeb17\n",
      "Kellogg Community College: https://ror.org/00q709v87\n",
      "Kent State University Geauga: https://ror.org/005d5fb76\n",
      "Kent State University, East Liverpool: https://ror.org/03a5bb278\n",
      "Kern Community College District: https://ror.org/04zyefw11\n",
      "Kingswood Oxford: https://ror.org/01ex19q32\n",
      "Kona Pacific Public Charter School: https://ror.org/04wjnw514\n",
      "Lafourche Parish School District: https://ror.org/020h7tk57\n",
      "Lake Region State College: https://ror.org/05grcng38\n",
      "Lakeland College: https://ror.org/01awa7g66\n",
      "Language Systems International College of English: https://ror.org/04qfef108\n",
      "Larkin University: https://ror.org/00zjk7642\n",
      "Learning Through an Expanded Arts Program: https://ror.org/01yq8nk56\n",
      "Lees McRae College: https://ror.org/05g1rz111\n",
      "Lehman College Art Gallery: https://ror.org/04xpe4755\n",
      "Limón Institute: https://ror.org/03mq02m67\n",
      "Maine Central Institute: https://ror.org/02z02sq57\n",
      "MidSchoolMath: https://ror.org/04m0rev75\n",
      "Mitchell School District: https://ror.org/055kj8f51\n",
      "National Dance Institute of New Mexico: https://ror.org/049sa5a53\n",
      "National University System: https://ror.org/00yd8np83\n",
      "New Mexico Military Institute: https://ror.org/00qc4yc66\n",
      "Northeast Maritime Institute: https://ror.org/04s36mr71\n",
      "Northshore Education Consortium: https://ror.org/027nc8m92\n",
      "Ola Grimsby Institute: https://ror.org/04v51kr79\n",
      "Oprah's Angel Network: https://ror.org/04dqbhd05\n",
      "Pacific Arts Association: https://ror.org/00zpw7s04\n",
      "Pomfret School: https://ror.org/038v0bj29\n",
      "Port Washington Public Library: https://ror.org/052n2hz50\n",
      "Purdue University Fort Wayne: https://ror.org/04c4hz115\n",
      "Purdue University Northwest: https://ror.org/04keq6987\n",
      "Ramah Navajo School Board: https://ror.org/02ejgsx19\n",
      "Rochester Community and Technical College: https://ror.org/05pvfsz50\n",
      "Ross School: https://ror.org/00tpdkh38\n",
      "Salem City Schools: https://ror.org/03mrd4308\n",
      "San Diego State University, Imperial Valley Campus: https://ror.org/048bd3118\n",
      "Seamester: https://ror.org/05rd7y749\n",
      "Seattle Film Institute: https://ror.org/01v9w5g84\n",
      "Skin Science Institute: https://ror.org/02j787g88\n",
      "Southeast Island School District: https://ror.org/05ezypx20\n",
      "Southern Association of Colleges and Schools: https://ror.org/006gdfw37\n",
      "Southington Public School: https://ror.org/0280brb18\n",
      "Southwestern Community College - North Carolina: https://ror.org/03bwbnb24\n",
      "St. Vrain Valley School District: https://ror.org/00n860n87\n",
      "Studio in a School: https://ror.org/02dnkgs07\n",
      "The Association of Boarding Schools: https://ror.org/05ntjbh41\n",
      "The Harley School: https://ror.org/02a03v538\n",
      "The Judge Advocate General's Legal Center and School: https://ror.org/03zwqne39\n",
      "The Northwest School: https://ror.org/024bajv16\n",
      "The Performance Institute: https://ror.org/00fh64z73\n",
      "The Reed Institute: https://ror.org/02sncd318\n",
      "University Bank: https://ror.org/0349geh35\n",
      "University High School: https://ror.org/01a51dp76\n",
      "University Resident Theatre Association: https://ror.org/058tkvp17\n",
      "University School: https://ror.org/05ap66461\n",
      "University Vascular Associates: https://ror.org/0432s1v23\n",
      "University of Maryland Extension: https://ror.org/03r8q5f36\n",
      "Washington Glass School: https://ror.org/05a0w0e26\n",
      "Wayne-Finger Lakes BOCES: https://ror.org/05n4dxt42\n",
      "Western Forensic Law Enforcement Training Center: https://ror.org/015mspw86\n",
      "Westford Academy: https://ror.org/01wag9e37\n",
      "Westminster Schools: https://ror.org/02ammvg77\n"
     ]
    }
   ],
   "source": [
    "# Filters to are separated by commas\n",
    "filters = ','.join([\n",
    "    'country.country_name:United States',\n",
    "    'types:Education',\n",
    "    'status:Active'\n",
    "])\n",
    "\n",
    "# URL constructed with the filters\n",
    "url = f'https://api.ror.org/organizations?filter={filters}'\n",
    "response = requests.get(url).json()\n",
    "\n",
    "# Calculate number of pages in result\n",
    "total_pages = (response['number_of_results'] // len(response['items'])) + 1\n",
    "\n",
    "# Store resulting names in a dictionary\n",
    "institution_rors = {}\n",
    "\n",
    "# Limited to first 5 pages for this tutorial\n",
    "for page_number in range(total_pages)[:5]:\n",
    "    url = f'https://api.ror.org/organizations?filter={filters}&page={page_number+1}'\n",
    "    search_data = requests.get(url).json()\n",
    "\n",
    "    # Add institution names and ROR IDs to the institution_results list\n",
    "    for result in search_data['items']:\n",
    "        institution_rors[result['name']] = result['id']\n",
    "\n",
    "    # Stagger requests to be nicer on the ROR servers\n",
    "    sleep(0.5)\n",
    "\n",
    "# Display first 100 results\n",
    "for name, ror_id in sorted(institution_rors.items()):\n",
    "    print(f'{name}: {ror_id}')"
   ]
  },
  {
   "cell_type": "markdown",
   "metadata": {},
   "source": [
    "The resulting dictionary can be used to find the ROR of an institution based on its name:"
   ]
  },
  {
   "cell_type": "code",
   "execution_count": 12,
   "metadata": {},
   "outputs": [
    {
     "data": {
      "text/plain": [
       "'https://ror.org/04c4hz115'"
      ]
     },
     "execution_count": 12,
     "metadata": {},
     "output_type": "execute_result"
    }
   ],
   "source": [
    "institution_rors['Purdue University Fort Wayne']"
   ]
  },
  {
   "cell_type": "markdown",
   "metadata": {},
   "source": [
    "## 3. Searching with Queries and Filters\n",
    "\n",
    "The `filter` and `query` parameters can both be used in a single request. In this example, we filter the results of the query \"Birmingham\" to only include institutions from the United States:"
   ]
  },
  {
   "cell_type": "code",
   "execution_count": 13,
   "metadata": {},
   "outputs": [
    {
     "data": {
      "text/plain": [
       "12"
      ]
     },
     "execution_count": 13,
     "metadata": {},
     "output_type": "execute_result"
    }
   ],
   "source": [
    "# Filter results to the United States\n",
    "filter = 'country.country_name:United States'\n",
    "\n",
    "# Search term\n",
    "query = 'Birmingham'\n",
    "\n",
    "# URL constructed with the filters\n",
    "url = f'https://api.ror.org/organizations?query={query}&filter={filter}'\n",
    "response = requests.get(url).json()\n",
    "\n",
    "# Display number of results\n",
    "response['number_of_results']"
   ]
  },
  {
   "cell_type": "code",
   "execution_count": 14,
   "metadata": {
    "tags": []
   },
   "outputs": [
    {
     "name": "stdout",
     "output_type": "stream",
     "text": [
      "Alabama Audubon: https://ror.org/02qbyex13\n",
      "Birmingham Bloomfield Community Coalition: https://ror.org/004mx7t23\n",
      "Birmingham Civil Rights Institute: https://ror.org/00fqce595\n",
      "Birmingham Museum of Art: https://ror.org/030y6zg68\n",
      "Birmingham Public Library: https://ror.org/05czff141\n",
      "Birmingham VA Medical Center: https://ror.org/0242qs713\n",
      "Birmingham–Southern College: https://ror.org/006g42111\n",
      "St. Vincent's Birmingham: https://ror.org/000crk757\n",
      "UAB Medicine: https://ror.org/036554539\n",
      "University of Alabama at Birmingham: https://ror.org/008s83205\n",
      "University of Alabama at Birmingham Hospital: https://ror.org/01rm42p40\n",
      "Vision Specialists of Michigan: https://ror.org/02awhp844\n"
     ]
    }
   ],
   "source": [
    "# Filter results to the United States\n",
    "filter = f'country.country_name:United States'\n",
    "\n",
    "# Search term\n",
    "query = 'Birmingham'\n",
    "\n",
    "# URL constructed with the filters\n",
    "url = f'https://api.ror.org/organizations?query={query}&filter={filter}'\n",
    "response = requests.get(url).json()\n",
    "\n",
    "# Calculate number of pages in result\n",
    "total_pages = (response['number_of_results'] // len(response['items'])) + 1\n",
    "\n",
    "# Store resulting names in a dictionary\n",
    "institution_rors = {}\n",
    "\n",
    "# Limited to first 5 pages for this tutorial\n",
    "for page_no in range(total_pages):\n",
    "    url = f'https://api.ror.org/organizations?query={query}&filter={filter}&page={page_no+1}'\n",
    "    search_data = requests.get(url).json()\n",
    "\n",
    "    # Add institution names and ROR IDs to the institution_results list\n",
    "    for result in search_data['items']:\n",
    "        institution_rors[result['name']] = result['id']\n",
    "\n",
    "    # Stagger requests to be nicer on the ROR servers\n",
    "    sleep(0.5)\n",
    "\n",
    "# Display first 100 results\n",
    "for name, ror_id in sorted(institution_rors.items()):\n",
    "    print(f'{name}: {ror_id}')"
   ]
  }
 ],
 "metadata": {
  "kernelspec": {
   "display_name": "Python 3",
   "language": "python",
   "name": "python3"
  },
  "language_info": {
   "codemirror_mode": {
    "name": "ipython",
    "version": 3
   },
   "file_extension": ".py",
   "mimetype": "text/x-python",
   "name": "python",
   "nbconvert_exporter": "python",
   "pygments_lexer": "ipython3",
   "version": "3.11.9"
  },
  "orig_nbformat": 4
 },
 "nbformat": 4,
 "nbformat_minor": 2
}
