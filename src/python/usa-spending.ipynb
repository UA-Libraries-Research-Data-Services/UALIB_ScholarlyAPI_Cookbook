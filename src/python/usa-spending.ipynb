{
 "cells": [
  {
   "attachments": {},
   "cell_type": "markdown",
   "metadata": {},
   "source": [
    "# USAspending API in Python\n",
    "\n",
    "by Michael T. Moen\n",
    "\n",
    "Please see the following resources for more information on API usage:\n",
    "\n",
    "- Documentation\n",
    "    - <a href=\"https://www.usaspending.gov/\" target=\"_blank\">USAspending Website</a>\n",
    "    - <a href=\"https://api.usaspending.gov/\" target=\"_blank\">USAspending Documentation</a>\n",
    "- Terms\n",
    "    - <a href=\"https://github.com/fedspendingtransparency/usaspending-api?tab=CC0-1.0-1-ov-file\" target=\"_blank\">USAspending API License</a>: <a href=\"\" target=\"_blank\">CC0 1.0 Univeral</a>\n",
    "- Data Reuse\n",
    "    - <a href=\"https://www.usaspending.gov/about#about-licensing\" target=\"_blank\">USAspending Data Reuse</a>\n",
    "\n",
    "*These recipe examples were tested on May 5, 2025.*"
   ]
  },
  {
   "cell_type": "markdown",
   "metadata": {},
   "source": [
    "## Setup\n",
    "\n",
    "The following external libraries need to be installed into your environment to run the code examples in this tutorial:\n",
    "\n",
    "- <a href=\"https://github.com/ipython/ipykernel\" target=\"_blank\">ipykernel</a>\n",
    "- <a href=\"https://github.com/psf/requests\" target=\"_blank\">requests</a>\n",
    "- <a href=\"https://github.com/matplotlib/matplotlib\" target=\"_blank\">matplotlib</a>\n",
    "- <a href=\"https://github.com/numpy/numpy\" target=\"_blank\">numpy</a>\n",
    "\n",
    "We import the libraries used in this tutorial below:"
   ]
  },
  {
   "cell_type": "code",
   "execution_count": 1,
   "metadata": {},
   "outputs": [],
   "source": [
    "import requests\n",
    "import matplotlib.pyplot as plt\n",
    "import numpy as np"
   ]
  },
  {
   "attachments": {},
   "cell_type": "markdown",
   "metadata": {},
   "source": [
    "## 1. Get Agency Names and Toptier Codes\n",
    "\n",
    "To obtain data from the API, it is useful to first build a dictionary containing agency names and toptier codes, the latter of which will be used to access subagency data. The toptier codes serve as unique identifiers for each agency, so they are needed for accessing some of the data in the API."
   ]
  },
  {
   "cell_type": "code",
   "execution_count": 11,
   "metadata": {},
   "outputs": [
    {
     "data": {
      "text/plain": [
       "200"
      ]
     },
     "execution_count": 11,
     "metadata": {},
     "output_type": "execute_result"
    }
   ],
   "source": [
    "BASE_URL = \"https://api.usaspending.gov/api/v2/\"\n",
    "toptier_agencies_endpoint = \"references/toptier_agencies/\"\n",
    "\n",
    "# Import data from URL as a JSON file\n",
    "toptier_response = requests.get(BASE_URL + toptier_agencies_endpoint)\n",
    "\n",
    "# Response code of 200 indicates success\n",
    "toptier_response.status_code"
   ]
  },
  {
   "cell_type": "code",
   "execution_count": null,
   "metadata": {},
   "outputs": [
    {
     "data": {
      "text/plain": [
       "109"
      ]
     },
     "execution_count": 7,
     "metadata": {},
     "output_type": "execute_result"
    }
   ],
   "source": [
    "toptier_data = toptier_response.json()[\"results\"]\n",
    "\n",
    "# Print number of agencies\n",
    "len(toptier_data)"
   ]
  },
  {
   "cell_type": "code",
   "execution_count": 8,
   "metadata": {},
   "outputs": [
    {
     "data": {
      "text/plain": [
       "{'agency_id': 1525,\n",
       " 'toptier_code': '247',\n",
       " 'abbreviation': 'AAHC',\n",
       " 'agency_name': '400 Years of African-American History Commission',\n",
       " 'congressional_justification_url': None,\n",
       " 'active_fy': '2025',\n",
       " 'active_fq': '2',\n",
       " 'outlay_amount': 1773589.26,\n",
       " 'obligated_amount': 7217.52,\n",
       " 'budget_authority_amount': 2919754.67,\n",
       " 'current_total_budget_authority_amount': 14651831778670.89,\n",
       " 'percentage_of_total_budget_authority': 1.9927574340911925e-07,\n",
       " 'agency_slug': '400-years-of-african-american-history-commission'}"
      ]
     },
     "execution_count": 8,
     "metadata": {},
     "output_type": "execute_result"
    }
   ],
   "source": [
    "# Display data of first agency\n",
    "toptier_data[0]"
   ]
  },
  {
   "attachments": {},
   "cell_type": "markdown",
   "metadata": {},
   "source": [
    "Now we can create a dictionary containing the agency names as keys and the toptier codes as the data. "
   ]
  },
  {
   "cell_type": "code",
   "execution_count": 9,
   "metadata": {
    "tags": [
     "output_scroll"
    ]
   },
   "outputs": [
    {
     "data": {
      "text/plain": [
       "{'400 Years of African-American History Commission': '247',\n",
       " 'Access Board': '310',\n",
       " 'Administrative Conference of the U.S.': '302',\n",
       " 'Advisory Council on Historic Preservation': '306',\n",
       " 'African Development Foundation': '166',\n",
       " 'Agency for International Development': '072',\n",
       " 'American Battle Monuments Commission': '074',\n",
       " 'Appalachian Regional Commission': '309',\n",
       " 'Armed Forces Retirement Home': '084',\n",
       " 'Barry Goldwater Scholarship and Excellence In Education Foundation': '313',\n",
       " \"Commission for the Preservation of America's Heritage Abroad\": '321',\n",
       " 'Commission of Fine Arts': '323',\n",
       " 'Commission on Civil Rights': '326',\n",
       " 'Committee for Purchase from People Who Are Blind or Severely Disabled': '338',\n",
       " 'Commodity Futures Trading Commission': '339',\n",
       " 'Consumer Financial Protection Bureau': '581',\n",
       " 'Consumer Product Safety Commission': '061',\n",
       " 'Corporation for National and Community Service': '485',\n",
       " 'Corps of Engineers - Civil Works': '096',\n",
       " 'Council of the Inspectors General on Integrity and Efficiency': '542',\n",
       " 'Court Services and Offender Supervision Agency': '9553',\n",
       " 'Defense Nuclear Facilities Safety Board': '347',\n",
       " 'Delta Regional Authority': '517',\n",
       " 'Denali Commission': '513',\n",
       " 'Department of Agriculture': '012',\n",
       " 'Department of Commerce': '013',\n",
       " 'Department of Defense': '097',\n",
       " 'Department of Education': '091',\n",
       " 'Department of Energy': '089',\n",
       " 'Department of Health and Human Services': '075',\n",
       " 'Department of Homeland Security': '070',\n",
       " 'Department of Housing and Urban Development': '086',\n",
       " 'Department of Justice': '015',\n",
       " 'Department of Labor': '1601',\n",
       " 'Department of State': '019',\n",
       " 'Department of Transportation': '069',\n",
       " 'Department of Veterans Affairs': '036',\n",
       " 'Department of the Interior': '014',\n",
       " 'Department of the Treasury': '020',\n",
       " 'District of Columbia Courts': '349',\n",
       " 'Election Assistance Commission': '525',\n",
       " 'Environmental Protection Agency': '068',\n",
       " 'Equal Employment Opportunity Commission': '045',\n",
       " 'Executive Office of the President': '1100',\n",
       " 'Export-Import Bank of the United States': '083',\n",
       " 'Farm Credit System Insurance Corporation': '7802',\n",
       " 'Federal Communications Commission': '027',\n",
       " 'Federal Deposit Insurance Corporation': '051',\n",
       " 'Federal Election Commission': '360',\n",
       " 'Federal Financial Institutions Examination Council': '362',\n",
       " 'Federal Labor Relations Authority': '054',\n",
       " 'Federal Maritime Commission': '065',\n",
       " 'Federal Mediation and Conciliation Service': '093',\n",
       " 'Federal Mine Safety and Health Review Commission': '368',\n",
       " 'Federal Permitting Improvement Steering Council': '473',\n",
       " 'Federal Trade Commission': '029',\n",
       " 'General Services Administration': '047',\n",
       " 'Government Accountability Office': '005',\n",
       " 'Gulf Coast Ecosystem Restoration Council': '471',\n",
       " 'Harry S Truman Scholarship Foundation': '372',\n",
       " 'Institute of Museum and Library Services': '474',\n",
       " 'Inter-American Foundation': '164',\n",
       " 'International Trade Commission': '034',\n",
       " 'James Madison Memorial Fellowship Foundation': '381',\n",
       " 'Japan-United States Friendship Commission': '382',\n",
       " 'John F. Kennedy Center for the Performing Arts': '3301',\n",
       " 'Marine Mammal Commission': '387',\n",
       " 'Merit Systems Protection Board': '389',\n",
       " 'Millennium Challenge Corporation': '524',\n",
       " 'Morris K. Udall and Stewart L. Udall Foundation': '487',\n",
       " 'National Aeronautics and Space Administration': '080',\n",
       " 'National Archives and Records Administration': '088',\n",
       " 'National Capital Planning Commission': '394',\n",
       " 'National Council on Disability': '413',\n",
       " 'National Credit Union Administration': '025',\n",
       " 'National Endowment for the Arts': '417',\n",
       " 'National Endowment for the Humanities': '418',\n",
       " 'National Labor Relations Board': '420',\n",
       " 'National Mediation Board': '421',\n",
       " 'National Science Foundation': '049',\n",
       " 'National Transportation Safety Board': '424',\n",
       " 'Northern Border Regional Commission': '573',\n",
       " 'Nuclear Regulatory Commission': '031',\n",
       " 'Nuclear Waste Technical Review Board': '431',\n",
       " 'Occupational Safety and Health Review Commission': '432',\n",
       " 'Office of Government Ethics': '434',\n",
       " 'Office of Navajo and Hopi Indian Relocation': '435',\n",
       " 'Office of Personnel Management': '024',\n",
       " 'Office of Special Counsel': '062',\n",
       " 'Overseas Private Investment Corporation': '071',\n",
       " 'Patient-Centered Outcomes Research Trust Fund': '579',\n",
       " 'Peace Corps': '1125',\n",
       " 'Pension Benefit Guaranty Corporation': '1602',\n",
       " 'Presidio Trust': '512',\n",
       " 'Privacy and Civil Liberties Oversight Board': '535',\n",
       " 'Public Buildings Reform Board': '290',\n",
       " 'Railroad Retirement Board': '060',\n",
       " 'Securities and Exchange Commission': '050',\n",
       " 'Selective Service System': '090',\n",
       " 'Small Business Administration': '073',\n",
       " 'Social Security Administration': '028',\n",
       " 'Surface Transportation Board': '472',\n",
       " 'U.S. Agency for Global Media': '514',\n",
       " 'U.S. Interagency Council on Homelessness': '376',\n",
       " 'U.S. International Development Finance Corporation': '077',\n",
       " 'United States Chemical Safety Board': '510',\n",
       " 'United States Court of Appeals for Veterans Claims': '345',\n",
       " 'United States Trade and Development Agency': '1133',\n",
       " 'Vietnam Education Foundation': '519'}"
      ]
     },
     "execution_count": 9,
     "metadata": {},
     "output_type": "execute_result"
    }
   ],
   "source": [
    "# Compile dictionary containing agency names and toptier codes\n",
    "toptier_codes = {record[\"agency_name\"] : record[\"toptier_code\"] for record in toptier_data}\n",
    "\n",
    "# Display data\n",
    "toptier_codes"
   ]
  },
  {
   "attachments": {},
   "cell_type": "markdown",
   "metadata": {},
   "source": [
    "Finally, let's print the toptier code for a particular agency using the `toptier_codes` dictionary we built. This will be useful when building URLs to view other data from the API."
   ]
  },
  {
   "cell_type": "code",
   "execution_count": 10,
   "metadata": {},
   "outputs": [
    {
     "data": {
      "text/plain": [
       "'069'"
      ]
     },
     "execution_count": 10,
     "metadata": {},
     "output_type": "execute_result"
    }
   ],
   "source": [
    "toptier_codes[\"Department of Transportation\"]"
   ]
  },
  {
   "attachments": {},
   "cell_type": "markdown",
   "metadata": {},
   "source": [
    "With this information, we can access subagency data using the toptier codes."
   ]
  },
  {
   "attachments": {},
   "cell_type": "markdown",
   "metadata": {},
   "source": [
    "## 2. Retrieving Data from Subagencies\n",
    "\n",
    "The toptier_codes dictionary we created above contains every agency name in the API. For this example, we'll look at the total obligations of each subagency of the Department of Defense."
   ]
  },
  {
   "cell_type": "code",
   "execution_count": null,
   "metadata": {},
   "outputs": [
    {
     "data": {
      "text/plain": [
       "200"
      ]
     },
     "execution_count": 19,
     "metadata": {},
     "output_type": "execute_result"
    }
   ],
   "source": [
    "# Set this to the desired department\n",
    "agency_name = 'Department of Defense'\n",
    "\n",
    "dod_url = f\"{BASE_URL}agency/{toptier_codes[agency_name]}/sub_agency/\"\n",
    "params = {\n",
    "    'fiscal_year': 2024\n",
    "}\n",
    "\n",
    "dod_response = requests.get(dod_url, params=params)\n",
    "\n",
    "# Status code 200 indicates success\n",
    "dod_response.status_code"
   ]
  },
  {
   "cell_type": "code",
   "execution_count": null,
   "metadata": {},
   "outputs": [
    {
     "data": {
      "text/plain": [
       "{'Department of the Navy': 135174201255.6,\n",
       " 'Department of the Army': 108068852362.25,\n",
       " 'Department of the Air Force': 101546786153.31,\n",
       " 'Defense Logistics Agency': 53055966604.09,\n",
       " 'Defense Health Agency': 20211030486.08,\n",
       " 'Missile Defense Agency': 8449104369.2,\n",
       " 'Defense Information Systems Agency': 7104135597.93,\n",
       " 'USTRANSCOM': 5249039584.72,\n",
       " 'U.S. Special Operations Command': 4902029625.0,\n",
       " 'Washington Headquarters Services': 3403051572.15}"
      ]
     },
     "execution_count": 17,
     "metadata": {},
     "output_type": "execute_result"
    }
   ],
   "source": [
    "# Extract data from HTTP response\n",
    "dod_data = dod_response.json()['results']\n",
    "\n",
    "# Define dictionary with subagency names as keys and total_obligations as the data\n",
    "dod_subagencies = {data['name']: data['total_obligations'] for data in dod_data}\n",
    "\n",
    "dod_subagencies"
   ]
  },
  {
   "attachments": {},
   "cell_type": "markdown",
   "metadata": {},
   "source": [
    "We'll represent our data using a pie chart. To make the data easier to read, we can create an \"Other\" category for smaller subagencies."
   ]
  },
  {
   "cell_type": "code",
   "execution_count": null,
   "metadata": {},
   "outputs": [
    {
     "data": {
      "image/png": "[encoded data removed]",
      "text/plain": [
       "<Figure size 640x480 with 1 Axes>"
      ]
     },
     "metadata": {},
     "output_type": "display_data"
    }
   ],
   "source": [
    "subagency_names = list(dod_subagencies.keys())\n",
    "subagency_obligations = list(dod_subagencies.values())\n",
    "\n",
    "threshold = 0.015 # Sectors under this value are combined into an \"Other\" category in the chart\n",
    "total_obligations = sum(dod_subagencies.values()) # the total obligations of the agency\n",
    "\n",
    "# Count the number of slices below the threshold\n",
    "small_slices = sum(1 for i in subagency_obligations if i < threshold * total_obligations)\n",
    "\n",
    "# If multiple slices are under the threshold, combine the slices into an \"Other\" slice\n",
    "if small_slices > 1:\n",
    "    other_obligations = 0\n",
    "    i = len(subagency_obligations) - 1\n",
    "    while i >= 0:\n",
    "        if subagency_obligations[i] < threshold * total_obligations:\n",
    "            other_obligations += subagency_obligations[i]\n",
    "            subagency_names.pop(i)\n",
    "            subagency_obligations.pop(i)\n",
    "        i -= 1\n",
    "    subagency_obligations.append(other_obligations)\n",
    "    subagency_names.append(\"Other\")\n",
    "\n",
    "# Configure color of pie chart\n",
    "cmap = plt.get_cmap('YlGn_r')\n",
    "colors = cmap(np.linspace(0.2, 0.8, len(subagency_obligations)))\n",
    "\n",
    "fig, ax = plt.subplots()\n",
    "plt.pie(subagency_obligations, labels=subagency_names, autopct='%1.1f%%', colors=colors)\n",
    "plt.title(f\"Subagency Obligations of the {agency_name}\")\n",
    "\n",
    "plt.show()"
   ]
  },
  {
   "attachments": {},
   "cell_type": "markdown",
   "metadata": {},
   "source": [
    "## 3. Accessing Fiscal Data Per Year\n",
    "\n",
    "We can use the API to examine the annual budget of an agency from 2017 onward."
   ]
  },
  {
   "cell_type": "code",
   "execution_count": null,
   "metadata": {},
   "outputs": [
    {
     "data": {
      "text/plain": [
       "200"
      ]
     },
     "execution_count": 25,
     "metadata": {},
     "output_type": "execute_result"
    }
   ],
   "source": [
    "agency_name = \"Department of Health and Human Services\"\n",
    "\n",
    "hhs_url = f\"{BASE_URL}agency/{toptier_codes[agency_name]}/budgetary_resources/\"\n",
    "\n",
    "hhs_response = requests.get(hhs_url)\n",
    "\n",
    "# Status code 200 indicates sucess\n",
    "hhs_response.status_code"
   ]
  },
  {
   "cell_type": "code",
   "execution_count": null,
   "metadata": {},
   "outputs": [
    {
     "data": {
      "text/plain": [
       "9"
      ]
     },
     "execution_count": 26,
     "metadata": {},
     "output_type": "execute_result"
    }
   ],
   "source": [
    "hhs_data = hhs_response.json()[\"agency_data_by_year\"]\n",
    "\n",
    "# Number of years contained in the data\n",
    "len(hhs_data)"
   ]
  },
  {
   "attachments": {},
   "cell_type": "markdown",
   "metadata": {},
   "source": [
    "Now we can create a dictionary to store the budgets using the years as keys."
   ]
  },
  {
   "cell_type": "code",
   "execution_count": null,
   "metadata": {},
   "outputs": [
    {
     "data": {
      "text/plain": [
       "{2025: 1367556553152.74,\n",
       " 2024: 2518647728970.53,\n",
       " 2023: 2475673980552.7,\n",
       " 2022: 2452969781323.39,\n",
       " 2021: 2355524286884.46,\n",
       " 2020: 2198882208891.79,\n",
       " 2019: 1814270463757.37,\n",
       " 2018: 1679128003253.74,\n",
       " 2017: 1646989531123.68}"
      ]
     },
     "execution_count": 30,
     "metadata": {},
     "output_type": "execute_result"
    }
   ],
   "source": [
    "# Create dictionary with fiscal_year as the key and agency_total_obligated as the data\n",
    "budget_by_year = {item['fiscal_year'] : item['agency_total_obligated'] for item in hhs_data}\n",
    "\n",
    "# Print results\n",
    "budget_by_year"
   ]
  },
  {
   "attachments": {},
   "cell_type": "markdown",
   "metadata": {},
   "source": [
    "The budget data for the current year (2025 at the time of writing) does not contain the entire annual budget, so let's remove that entry from the data."
   ]
  },
  {
   "cell_type": "code",
   "execution_count": 31,
   "metadata": {},
   "outputs": [
    {
     "data": {
      "text/plain": [
       "{2024: 2518647728970.53,\n",
       " 2023: 2475673980552.7,\n",
       " 2022: 2452969781323.39,\n",
       " 2021: 2355524286884.46,\n",
       " 2020: 2198882208891.79,\n",
       " 2019: 1814270463757.37,\n",
       " 2018: 1679128003253.74,\n",
       " 2017: 1646989531123.68}"
      ]
     },
     "execution_count": 31,
     "metadata": {},
     "output_type": "execute_result"
    }
   ],
   "source": [
    "budget_by_year.pop(2025)\n",
    "\n",
    "# Print updated dictionary\n",
    "budget_by_year"
   ]
  },
  {
   "attachments": {},
   "cell_type": "markdown",
   "metadata": {},
   "source": [
    "Now we'll use matplotlib to create a bar graph for this information."
   ]
  },
  {
   "cell_type": "code",
   "execution_count": 32,
   "metadata": {},
   "outputs": [
    {
     "data": {
      "image/png": "[encoded data removed]",
      "text/plain": [
       "<Figure size 640x480 with 1 Axes>"
      ]
     },
     "metadata": {},
     "output_type": "display_data"
    }
   ],
   "source": [
    "lists = sorted(budget_by_year.items())\n",
    "years, budgets = zip(*lists)\n",
    "\n",
    "# Create scale for bar graph\n",
    "min = sorted(list(budgets), key=float)[0]\n",
    "exponent = len(str(int(min)))-1\n",
    "\n",
    "budgets = [x/(10**exponent) for x in budgets]\n",
    "\n",
    "fig, ax = plt.subplots()\n",
    "\n",
    "# Format the bar graph\n",
    "ax.spines['top'].set_visible(False)\n",
    "ax.spines['right'].set_visible(False)\n",
    "ax.spines['left'].set_visible(False)\n",
    "ax.spines['bottom'].set_color('#CCCCCC')\n",
    "ax.tick_params(bottom=False, left=False)\n",
    "ax.set_axisbelow(True)\n",
    "ax.yaxis.grid(True, color='#DDDDDD')\n",
    "ax.xaxis.grid(False)\n",
    "\n",
    "plt.bar(years, budgets, color='#909090')\n",
    "plt.title(agency_name + \" Budgetary Resources\")\n",
    "plt.xlabel(\"Fiscal Year\")\n",
    "plt.ylabel(f\"Total Budgetary Resources (* 10^{exponent})\")\n",
    "plt.show()"
   ]
  },
  {
   "attachments": {},
   "cell_type": "markdown",
   "metadata": {},
   "source": [
    "## 4. Breaking Down Budget Categories\n",
    "\n",
    "We can use the API to view the breakdown the spending of a particular agency."
   ]
  },
  {
   "cell_type": "code",
   "execution_count": 33,
   "metadata": {},
   "outputs": [
    {
     "data": {
      "text/plain": [
       "200"
      ]
     },
     "execution_count": 33,
     "metadata": {},
     "output_type": "execute_result"
    }
   ],
   "source": [
    "agency_name = \"Department of the Interior\"\n",
    "\n",
    "doi_url = f\"{BASE_URL}agency/{toptier_codes[agency_name]}/obligations_by_award_category/\"\n",
    "params = {\n",
    "    'fiscal_year': 2023\n",
    "}\n",
    "\n",
    "doi_response = requests.get(doi_url, params=params)\n",
    "\n",
    "# Status code 200 indicates success\n",
    "doi_response.status_code"
   ]
  },
  {
   "cell_type": "code",
   "execution_count": null,
   "metadata": {},
   "outputs": [
    {
     "data": {
      "text/plain": [
       "[{'category': 'contracts', 'aggregated_amount': 7639774240.23},\n",
       " {'category': 'direct_payments', 'aggregated_amount': 3363870101.97},\n",
       " {'category': 'grants', 'aggregated_amount': 7146409904.93},\n",
       " {'category': 'idvs', 'aggregated_amount': 3579835.81},\n",
       " {'category': 'loans', 'aggregated_amount': 0.0},\n",
       " {'category': 'other', 'aggregated_amount': 338002603.98}]"
      ]
     },
     "execution_count": 34,
     "metadata": {},
     "output_type": "execute_result"
    }
   ],
   "source": [
    "# Extract data from HTTP response\n",
    "doi_data = doi_response.json()\n",
    "aggregated_total = doi_data[\"total_aggregated_amount\"]\n",
    "obligations_data = doi_data[\"results\"]\n",
    "\n",
    "# Print results\n",
    "obligations_data"
   ]
  },
  {
   "attachments": {},
   "cell_type": "markdown",
   "metadata": {},
   "source": [
    "Let's create a dictionary to store this data."
   ]
  },
  {
   "cell_type": "code",
   "execution_count": 35,
   "metadata": {},
   "outputs": [
    {
     "data": {
      "text/plain": [
       "{'contracts': 7639774240.23,\n",
       " 'direct_payments': 3363870101.97,\n",
       " 'grants': 7146409904.93,\n",
       " 'idvs': 3579835.81,\n",
       " 'other': 338002603.98}"
      ]
     },
     "execution_count": 35,
     "metadata": {},
     "output_type": "execute_result"
    }
   ],
   "source": [
    "budget_breakdown = {}\n",
    "\n",
    "# Add entry to budget_breakdown dictionary only if the amount is greater than zero\n",
    "for record in obligations_data:\n",
    "    if record[\"aggregated_amount\"] > 0:\n",
    "        budget_breakdown[record[\"category\"]] = record[\"aggregated_amount\"]\n",
    "\n",
    "budget_breakdown"
   ]
  },
  {
   "cell_type": "markdown",
   "metadata": {},
   "source": [
    "In order to graph the data, we have to reformat and filter out some of our data:"
   ]
  },
  {
   "cell_type": "code",
   "execution_count": 36,
   "metadata": {},
   "outputs": [],
   "source": [
    "threshold = 0.02 # any sector under this threshold will be combined into an \"other\" category\n",
    "\n",
    "# Count the number of small slices\n",
    "small_slices = sum(1 for i in budget_breakdown.values() if threshold > i/aggregated_total)\n",
    "\n",
    "if small_slices > 1:\n",
    "    \n",
    "    keys_to_remove = []\n",
    "    \n",
    "    for key, value in budget_breakdown.items():\n",
    "        if key == 'other' or threshold < value/aggregated_total:\n",
    "            continue\n",
    "        if 'other' not in budget_breakdown.keys():\n",
    "            budget_breakdown['other'] = 0\n",
    "        budget_breakdown['other'] += value\n",
    "        keys_to_remove.append(key)\n",
    "    \n",
    "    for key in keys_to_remove:\n",
    "        budget_breakdown.pop(key)\n",
    "\n",
    "budget_type = list(budget_breakdown.keys())\n",
    "budget_amount = list(budget_breakdown.values())\n",
    "budget_percentages = [x/aggregated_total for x in budget_amount]"
   ]
  },
  {
   "cell_type": "markdown",
   "metadata": {},
   "source": [
    "Now, we can graph the data with a stacked bar chart:"
   ]
  },
  {
   "cell_type": "code",
   "execution_count": null,
   "metadata": {},
   "outputs": [
    {
     "data": {
      "image/png": "[encoded data removed]",
      "text/plain": [
       "<Figure size 640x480 with 1 Axes>"
      ]
     },
     "metadata": {},
     "output_type": "display_data"
    }
   ],
   "source": [
    "fig, ax = plt.subplots()\n",
    "bottom = 1\n",
    "\n",
    "for j, (height, label) in enumerate([*zip(budget_percentages, budget_type)]):\n",
    "    bottom -= height\n",
    "    bc = ax.bar(0,\n",
    "                height=height,\n",
    "                label=label,\n",
    "                width=2,\n",
    "                bottom=bottom,\n",
    "                alpha=0.1 + 0.2 * j,\n",
    "                align='center',\n",
    "                color='C0')\n",
    "    ax.bar_label(bc, labels=[f\"{height:.1%}\"], label_type='center')\n",
    "\n",
    "ax.set_title(f'{agency_name} Budget Distribution')\n",
    "ax.legend()\n",
    "ax.axis('off')\n",
    "ax.set_xlim(-6, 6)\n",
    "\n",
    "plt.show()"
   ]
  },
  {
   "attachments": {},
   "cell_type": "markdown",
   "metadata": {},
   "source": [
    "We can also plot this data as a pie chart."
   ]
  },
  {
   "cell_type": "code",
   "execution_count": 39,
   "metadata": {},
   "outputs": [
    {
     "data": {
      "image/png": "[encoded data removed]",
      "text/plain": [
       "<Figure size 640x480 with 1 Axes>"
      ]
     },
     "metadata": {},
     "output_type": "display_data"
    }
   ],
   "source": [
    "lists = sorted(budget_breakdown.items())\n",
    "types, budgets = zip(*lists)\n",
    "\n",
    "fig, ax = plt.subplots()\n",
    "\n",
    "# Configure color of pie chart\n",
    "cmap = plt.get_cmap('Blues')\n",
    "colors = cmap(np.linspace(0.2, 0.8, len(budgets)))\n",
    "\n",
    "plt.pie(budgets, labels=types, autopct='%1.1f%%', colors=colors)\n",
    "plt.title(f\"{agency_name} Budget Breakdown\")\n",
    "plt.show()"
   ]
  }
 ],
 "metadata": {
  "kernelspec": {
   "display_name": "cookbook",
   "language": "python",
   "name": "python3"
  },
  "language_info": {
   "codemirror_mode": {
    "name": "ipython",
    "version": 3
   },
   "file_extension": ".py",
   "mimetype": "text/x-python",
   "name": "python",
   "nbconvert_exporter": "python",
   "pygments_lexer": "ipython3",
   "version": "3.13.5"
  }
 },
 "nbformat": 4,
 "nbformat_minor": 2
}
