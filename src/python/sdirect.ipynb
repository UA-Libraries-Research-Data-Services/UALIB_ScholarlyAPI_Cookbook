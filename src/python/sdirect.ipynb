{
 "cells": [
  {
   "cell_type": "markdown",
   "id": "088987c6-311d-4677-9cc9-19ceeeb245b9",
   "metadata": {},
   "source": [
    "# ScienceDirect API in Python\n",
    "\n",
    "by Vincent F. Scalfani\n",
    "\n",
    "**ScienceDirect**: https://www.sciencedirect.com/\n",
    "\n",
    "**Elsevier Developer Portal:** https://dev.elsevier.com/\n",
    "\n",
    "**ScienceDirect APIs Specification:** https://dev.elsevier.com/sd_api_spec.html\n",
    "\n",
    "**Elsevier How to Guide: Text Mining:** https://dev.elsevier.com/tecdoc_text_mining.html\n",
    "\n",
    "Please check with your institution for their Text and Data Mining Agreement with Elsevier.\n",
    "\n",
    "These recipe examples use the Elsevier ScienceDirect Article (Full-Text) API. This tutorial content is intended to help facillitate academic research. Before continuing or reusing any of this code, please be aware of Elsevier’s API policies and appropiate use-cases, as for example, Elsevier has detailed policies regarding [text and data mining of Elsevier full-text content](https://dev.elsevier.com/text_mining.html). If you have copyright or other related text and data mining questions, please contact The University of Alabama Libraries.\n",
    "\n",
    "*These recipe examples were tested on February 12, 2025.*"
   ]
  },
  {
   "cell_type": "markdown",
   "id": "f257ddd2-982a-4179-99c0-0b8d572ac57d",
   "metadata": {},
   "source": [
    "## Setup\n",
    "\n",
    "### Import Libraries"
   ]
  },
  {
   "cell_type": "code",
   "execution_count": 1,
   "id": "9eeb06c9-31ed-463d-a39d-d0207e68a336",
   "metadata": {},
   "outputs": [],
   "source": [
    "import requests\n",
    "from time import sleep"
   ]
  },
  {
   "cell_type": "markdown",
   "id": "61baba0a-06e0-4a83-bf96-da483ca02742",
   "metadata": {},
   "source": [
    "### Import API key\n",
    "\n",
    "As a good practice, do not display your API key in your computational notebook (to prevent accidental sharing). Save your API key to a separate python file, then import your key."
   ]
  },
  {
   "cell_type": "code",
   "execution_count": 2,
   "id": "1c7646f1-a700-4e00-a323-f2eea0e25768",
   "metadata": {},
   "outputs": [],
   "source": [
    "from api_key import myAPIKey"
   ]
  },
  {
   "cell_type": "markdown",
   "id": "997bb204-db57-4730-addd-47abd59b67ef",
   "metadata": {},
   "source": [
    "### Identifier Note\n",
    "\n",
    "We will use DOIs as the article identifiers. See our Crossref and Scopus API tutorials for workflows on how to create lists of DOIs and identfiers for specific searches and journals. The Elsevier ScienceDirect Article (Full-Text) API also accepts other identifiers like Scopus IDs and PubMed IDs (see API specification documents linked above)."
   ]
  },
  {
   "cell_type": "markdown",
   "id": "5554fdf8-98cd-4bf5-bb44-f16e30b859c8",
   "metadata": {},
   "source": [
    "## 1. Retrieve full-text XML of an article"
   ]
  },
  {
   "cell_type": "code",
   "execution_count": 4,
   "id": "c5f36bf5-50bb-4617-b75f-ccc1c0ea1964",
   "metadata": {},
   "outputs": [],
   "source": [
    "# For XML download\n",
    "elsevier_url = \"https://api.elsevier.com/content/article/doi/\"\n",
    "doi1 = '10.1016/j.tetlet.2017.07.080' # Example Tetrahedron Letters article\n",
    "fulltext1 = requests.get(elsevier_url + doi1 + \"?APIKey=\" + myAPIKey + \"&httpAccept=text/xml\")\n",
    "\n",
    "# Save to file\n",
    "with open('fulltext1.xml', 'w', encoding='utf-8') as outfile:\n",
    "    outfile.write(fulltext1.text)"
   ]
  },
  {
   "cell_type": "markdown",
   "id": "56c376b1-411c-4f1b-b117-dd006fd74181",
   "metadata": {},
   "source": [
    "## 2. Retrieve plain text of an article"
   ]
  },
  {
   "cell_type": "code",
   "execution_count": 6,
   "id": "e3dac0b9-41f5-4045-98d4-1c217c1ecd38",
   "metadata": {},
   "outputs": [],
   "source": [
    "# For simplified text download\n",
    "elsevier_url = \"https://api.elsevier.com/content/article/doi/\"\n",
    "doi2 = '10.1016/j.tetlet.2022.153680' # example Tetrahedron Letters article\n",
    "fulltext2 = requests.get(elsevier_url + doi2 + \"?APIKey=\" + myAPIKey + \"&httpAccept=text/plain\")\n",
    "\n",
    "# Save to file\n",
    "with open('fulltext2.txt', 'w', encoding='utf-8') as outfile:\n",
    "    outfile.write(fulltext2.text)"
   ]
  },
  {
   "cell_type": "markdown",
   "id": "9bd40795-646f-4962-b11d-ca967c06e9cf",
   "metadata": {},
   "source": [
    "## 3. Retrieve full-text in a loop"
   ]
  },
  {
   "cell_type": "code",
   "execution_count": 7,
   "id": "2f21c309-903e-4e40-bd95-d206928c91e5",
   "metadata": {},
   "outputs": [],
   "source": [
    "# Make a list of 5 DOIs for testing\n",
    "dois = ['10.1016/j.tetlet.2018.10.031',\n",
    "        '10.1016/j.tetlet.2018.10.033',\n",
    "        '10.1016/j.tetlet.2018.10.034',\n",
    "        '10.1016/j.tetlet.2018.10.038',\n",
    "        '10.1016/j.tetlet.2018.10.041']"
   ]
  },
  {
   "cell_type": "code",
   "execution_count": 8,
   "id": "4be0c3e8-1931-450e-995e-06984b2218c1",
   "metadata": {},
   "outputs": [],
   "source": [
    "# Retrieve article full text for each DOI in a loop and save each article to a separate file.\n",
    "# Example shown for plain text, XML also works (replace 'plain' with 'xml')\n",
    "\n",
    "elsevier_url = \"https://api.elsevier.com/content/article/doi/\"\n",
    "for doi in dois:\n",
    "    article = requests.get(elsevier_url + doi + \"?APIKey=\" + myAPIKey + \"&httpAccept=text/plain\")    \n",
    "    doi_name = doi.replace('/','_') # Can't save files with a '/' character on Linux\n",
    "    with open(doi_name + '_plain_text.txt', 'w', encoding='utf-8') as outfile:\n",
    "        outfile.write(article.text)\n",
    "    sleep(1) # Pause for 1 second between API calls"
   ]
  }
 ],
 "metadata": {
  "kernelspec": {
   "display_name": "Python 3",
   "language": "python",
   "name": "python3"
  },
  "language_info": {
   "codemirror_mode": {
    "name": "ipython",
    "version": 3
   },
   "file_extension": ".py",
   "mimetype": "text/x-python",
   "name": "python",
   "nbconvert_exporter": "python",
   "pygments_lexer": "ipython3",
   "version": "3.11.9"
  }
 },
 "nbformat": 4,
 "nbformat_minor": 5
}
