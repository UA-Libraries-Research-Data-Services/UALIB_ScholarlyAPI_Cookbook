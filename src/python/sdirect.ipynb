{
  "cells": [
    {
      "cell_type": "markdown",
      "metadata": {},
      "source": [
        "# ScienceDirect API in Python\n",
        "\n",
        "By Vincent F. Scalfani and Avery Fernandez\n",
        "\n",
        "These recipe examples demonstrate how to use Elsevier’s <a href=\"https://dev.elsevier.com/\" target=\"_blank\">ScienceDirect API</a> to retrieve full-text articles in various formats (XML, text).\n",
        "\n",
        "*This tutorial content is intended to help facilitate academic research. Please check your institution for their Text and Data Mining or related License Agreement with Elsevier.*\n",
        "\n",
        "Please see the following resources for more information on API usage:\n",
        "- Documentation\n",
        "    - <a href=\"https://dev.elsevier.com/\" target=\"_blank\">ScienceDirect API</a>\n",
        "    - <a href=\"https://dev.elsevier.com/sd_api_spec.html\" target=\"_blank\">ScienceDirect API Documentation</a>\n",
        "- Terms\n",
        "    - <a href=\"https://dev.elsevier.com/api_key_settings.html\" target=\"_blank\">ScienceDirect API Terms of Use</a>\n",
        "- Data Reuse\n",
        "    - <a href=\"https://dev.elsevier.com/tecdoc_text_mining.html\" target=\"_blank\">Elsevier Text & Data Mining</a>\n",
        "\n",
        "_**Note:**_ See your institution's rate limit with <a href=\"https://dev.elsevier.com/api_key_settings.html\" target=\"_blank\">ScienceDirect API Terms of Use</a>.\n",
        "\n",
        "*If you have copyright or other related text and data mining questions, please contact The University of Alabama Libraries or your respective library/institution.*\n",
        "\n",
        "*These recipe examples were tested on March 5, 2025.*"
      ]
    },
    {
      "cell_type": "markdown",
      "metadata": {},
      "source": [
        "## Setup\n",
        "\n",
        "### Import Libraries\n",
        "\n",
        "The following external libraries need to be installed into your enviornment to run the code examples in this tutorial:\n",
        "* <a href=\"https://github.com/psf/requests\" target=\"_blank\">requests</a>\n",
        "* <a href=\"https://github.com/theskumar/python-dotenv\" target=\"_blank\">python-dotenv</a>\n",
        "* <a href=\"https://github.com/ipython/ipykernel\" target=\"_blank\">ipykernel</a>\n",
        "\n",
        "We import the libraries used in this tutorial below:"
      ]
    },
    {
      "cell_type": "code",
      "execution_count": 1,
      "metadata": {
        "tags": []
      },
      "outputs": [],
      "source": [
        "import requests\n",
        "from time import sleep\n",
        "from dotenv import load_dotenv\n",
        "import os\n",
        "import xml.etree.ElementTree as ET"
      ]
    },
    {
      "cell_type": "markdown",
      "metadata": {},
      "source": [
        "### Import API Key\n",
        "\n",
        "An API key is required to access the ScienceDirect API. You can sign up for one at the <a href=\"https://dev.elsevier.com/\" target=\"_blank\">Elsevier Developer Portal</a>.\n",
        "\n",
        "We keep our API key in a `.env` file and use the `dotenv` library to access it. If you would like to use this method, create a file named `.env` in the same directory as this notebook and add the following line to it:\n",
        "\n",
        "```text\n",
        "SCIENCE_DIRECT_API_KEY=PUT_YOUR_API_KEY_HERE\n",
        "```"
      ]
    },
    {
      "cell_type": "code",
      "execution_count": 2,
      "metadata": {},
      "outputs": [
        {
          "name": "stdout",
          "output_type": "stream",
          "text": [
            "Environment and API key successfully loaded.\n"
          ]
        }
      ],
      "source": [
        "load_dotenv()\n",
        "try:\n",
        "    API_KEY = os.environ[\"SCIENCE_DIRECT_API_KEY\"]\n",
        "except KeyError:\n",
        "    print(\"API key not found. Please set 'SCIENCE_DIRECT_API_KEY' in your .env file.\")\n",
        "else:\n",
        "    print(\"Environment and API key successfully loaded.\")"
      ]
    },
    {
      "cell_type": "markdown",
      "metadata": {},
      "source": [
        "## 1. Basic API Use Case\n",
        "In this section, we'll show how to retrieve **full-text XML** and **plain text** for a single DOI using the ScienceDirect Article API.\n",
        "\n",
        "### Identifier Note\n",
        "We will use DOIs as the article identifiers throughout this tutorial. The Elsevier ScienceDirect Article (Full-Text) API also accepts other identifiers like Scopus IDs and PubMed IDs. For more details on constructing custom DOI lists from other sources, refer to <a href=\"https://github.com/CrossRef/rest-api-doc\" target=\"_blank\">Crossref</a> or <a href=\"https://dev.elsevier.com/scopus.html\" target=\"_blank\">Scopus</a> API tutorials.\n",
        "\n",
        "### Retrieve Full-Text XML of an Article\n",
        "**Steps:**\n",
        "1. Construct the API endpoint URL.\n",
        "2. Make a GET request specifying `text/xml` in the `httpAccept` query.\n",
        "3. Save the retrieved data to an XML file."
      ]
    },
    {
      "cell_type": "code",
      "execution_count": 3,
      "metadata": {
        "tags": []
      },
      "outputs": [
        {
          "name": "stdout",
          "output_type": "stream",
          "text": [
            "XML full text downloaded and saved as fulltext1.xml.\n"
          ]
        }
      ],
      "source": [
        "elsevier_url = \"https://api.elsevier.com/content/article/doi/\"\n",
        "# This article is under CC-BY-4.0 license https://creativecommons.org/licenses/by/4.0/\n",
        "# https://doi.org/10.1016/j.mtcata.2025.100092\n",
        "doi1 = '10.1016/j.mtcata.2025.100092'\n",
        "\n",
        "try:\n",
        "    fulltext_xml_response = requests.get(\n",
        "        f\"{elsevier_url}{doi1}?APIKey={API_KEY}&httpAccept=text/xml\"\n",
        "    )\n",
        "    fulltext_xml_response.raise_for_status()\n",
        "except requests.exceptions.RequestException as e:\n",
        "    print(f\"Error retrieving XML data for DOI {doi1}: {e}\")\n",
        "    fulltext_xml_response = None\n",
        "\n",
        "if fulltext_xml_response:\n",
        "    with open('fulltext1.xml', 'w', encoding='utf-8') as outfile:\n",
        "        outfile.write(fulltext_xml_response.text)\n",
        "    print(\"XML full text downloaded and saved as fulltext1.xml.\")"
      ]
    },
    {
      "cell_type": "markdown",
      "metadata": {},
      "source": [
        "### Retrieve Plain Text of an Article\n",
        "To get the **plain text** from the article, specify `text/plain` in the query instead of `text/xml`. The steps are the same as above, but we will:\n",
        "1. Use a different DOI.\n",
        "2. Request `text/plain`.\n",
        "3. Save the output to `.txt`.\n"
      ]
    },
    {
      "cell_type": "code",
      "execution_count": 4,
      "metadata": {
        "tags": []
      },
      "outputs": [
        {
          "name": "stdout",
          "output_type": "stream",
          "text": [
            "Plain text full text downloaded and saved as fulltext2.txt.\n"
          ]
        }
      ],
      "source": [
        "# This article is under CC-BY-4.0 license https://creativecommons.org/licenses/by/4.0/\n",
        "# https://doi.org/10.1016/j.mtcata.2025.100092\n",
        "doi2 = '10.1016/j.mtcata.2025.100092'\n",
        "\n",
        "try:\n",
        "    fulltext_plain_response = requests.get(\n",
        "        f\"{elsevier_url}{doi2}?APIKey={API_KEY}&httpAccept=text/plain\"\n",
        "    )\n",
        "    fulltext_plain_response.raise_for_status()\n",
        "except requests.exceptions.RequestException as e:\n",
        "    print(f\"Error retrieving plain text data for DOI {doi2}: {e}\")\n",
        "    fulltext_plain_response = None\n",
        "\n",
        "if fulltext_plain_response:\n",
        "    with open('fulltext2.txt', 'w', encoding='utf-8') as outfile:\n",
        "        outfile.write(fulltext_plain_response.text)\n",
        "    print(\"Plain text full text downloaded and saved as fulltext2.txt.\")"
      ]
    },
    {
      "cell_type": "markdown",
      "metadata": {},
      "source": [
        "## 2. More Complex Use Case\n",
        "\n",
        "### Retrieve Full-Text in a Loop\n",
        "In many research scenarios, you'll want to retrieve multiple articles at once. Here, we:\n",
        "1. Loop over a list of DOIs.\n",
        "2. Request full text (plain or XML).\n",
        "3. Save each article to a separate file.\n",
        "4. Sleep for 1 second between calls to respect rate limits.\n",
        "\n",
        "> **Tip**: For large-scale text/data mining, always follow <a href=\"https://dev.elsevier.com/tecdoc_text_mining.html\" target=\"_blank\">Elsevier’s usage policies</a>, which include rate limits, usage quotas, and more advanced usage guidelines.\n"
      ]
    },
    {
      "cell_type": "code",
      "execution_count": 5,
      "metadata": {
        "tags": []
      },
      "outputs": [
        {
          "name": "stdout",
          "output_type": "stream",
          "text": [
            "Retrieving article 1 of 5: DOI = 10.1016/j.gresc.2024.11.007\n",
            "Saved full text to 10.1016_j.gresc.2024.11.007_plain_text.txt.\n",
            "Retrieving article 2 of 5: DOI = 10.1016/j.ultsonch.2025.107257\n",
            "Saved full text to 10.1016_j.ultsonch.2025.107257_plain_text.txt.\n",
            "Retrieving article 3 of 5: DOI = 10.1016/j.ces.2025.121347\n",
            "Saved full text to 10.1016_j.ces.2025.121347_plain_text.txt.\n",
            "Retrieving article 4 of 5: DOI = 10.1016/j.gresc.2025.02.001\n",
            "Saved full text to 10.1016_j.gresc.2025.02.001_plain_text.txt.\n",
            "Retrieving article 5 of 5: DOI = 10.1016/j.jobcr.2025.02.005\n",
            "Saved full text to 10.1016_j.jobcr.2025.02.005_plain_text.txt.\n",
            "Finished retrieving all DOIs.\n"
          ]
        }
      ],
      "source": [
        "dois = [\n",
        "    # License under CC-BY-4.0 license https://creativecommons.org/licenses/by/4.0/\n",
        "    # https://doi.org/10.1021/acs.oprd.4c00527\n",
        "    '10.1016/j.gresc.2024.11.007', \n",
        "    # License under CC-BY-4.0 license https://creativecommons.org/licenses/by/4.0/\n",
        "    # https://doi.org/10.1016/j.mtcata.2025.100092\n",
        "    '10.1016/j.ultsonch.2025.107257', \n",
        "    # License under CC-BY-4.0 license https://creativecommons.org/licenses/by/4.0/\n",
        "    # https://doi.org/10.1016/j.jobcr.2025.02.005\n",
        "    '10.1016/j.ces.2025.121347', \n",
        "    # License under CC-BY-4.0 license https://creativecommons.org/licenses/by/4.0/\n",
        "    # https://doi.org/10.1016/j.jobcr.2025.02.005\n",
        "    '10.1016/j.gresc.2025.02.001', \n",
        "    # License under CC-BY-4.0 license https://creativecommons.org/licenses/by/4.0/\n",
        "    # https://doi.org/10.1016/j.jobcr.2025.02.005\n",
        "    '10.1016/j.jobcr.2025.02.005' \n",
        "]\n",
        "\n",
        "for i, doi in enumerate(dois, start=1):\n",
        "    print(f\"Retrieving article {i} of {len(dois)}: DOI = {doi}\")\n",
        "    try:\n",
        "        # Here, we request plain text. For XML, replace 'text/plain' with 'text/xml'.\n",
        "        article_response = requests.get(\n",
        "            f\"{elsevier_url}{doi}?APIKey={API_KEY}&httpAccept=text/plain\"\n",
        "        )\n",
        "        article_response.raise_for_status()\n",
        "    except requests.exceptions.RequestException as e:\n",
        "        print(f\"Failed to retrieve article {doi}: {e}\")\n",
        "        continue\n",
        "    \n",
        "    # Replace '/' in the DOI with underscores to form a valid filename\n",
        "    doi_filename = doi.replace('/', '_')\n",
        "    output_filename = f\"{doi_filename}_plain_text.txt\"\n",
        "\n",
        "    with open(output_filename, 'w', encoding='utf-8') as outfile:\n",
        "        outfile.write(article_response.text)\n",
        "\n",
        "    print(f\"Saved full text to {output_filename}.\")\n",
        "\n",
        "    # Sleep to avoid hitting rate limits too quickly\n",
        "    sleep(1)\n",
        "\n",
        "print(\"Finished retrieving all DOIs.\")"
      ]
    },
    {
      "cell_type": "markdown",
      "metadata": {},
      "source": [
        "## 3. Parsing XML\n",
        "Many researchers need structured data (e.g., titles, abstracts, authors) from the XML. Below, we:\n",
        "1. Send a GET request for XML.\n",
        "2. Use Python’s `xml.etree.ElementTree` to parse the XML.\n",
        "3. Extract desired metadata (title, abstract, authors, open access status, etc.).\n",
        "\n",
        "> **Note**: The XML structure can vary between journals. For more robust parsing, consider libraries like `lxml` or specialized text-mining pipelines.\n"
      ]
    },
    {
      "cell_type": "code",
      "execution_count": 6,
      "metadata": {
        "tags": []
      },
      "outputs": [
        {
          "name": "stdout",
          "output_type": "stream",
          "text": [
            "XML data retrieved successfully.\n",
            "XML data parsed successfully.\n"
          ]
        }
      ],
      "source": [
        "# This article is under CC-BY-4.0 license https://creativecommons.org/licenses/by/4.0/\n",
        "# https://doi.org/10.1016/j.mtcata.2025.100092\n",
        "doi_example = '10.1016/j.mtcata.2025.100092'\n",
        "xml_data = None\n",
        "\n",
        "try:\n",
        "    # Request the XML content\n",
        "    response = requests.get(\n",
        "        f\"{elsevier_url}{doi_example}?APIKey={API_KEY}&httpAccept=text/xml\"\n",
        "    )\n",
        "    response.raise_for_status()\n",
        "    xml_data = response.content\n",
        "    print(\"XML data retrieved successfully.\")\n",
        "except requests.exceptions.RequestException as e:\n",
        "    print(f\"Error retrieving XML data for DOI {doi_example}: {e}\")\n",
        "except Exception as e:\n",
        "    print(f\"Unexpected error occurred: {e}\")\n",
        "\n",
        "root = None\n",
        "if xml_data:\n",
        "    try:\n",
        "        root = ET.fromstring(xml_data)\n",
        "        print(\"XML data parsed successfully.\")\n",
        "    except ET.ParseError as e:\n",
        "        print(f\"Error parsing XML data: {e}\")\n",
        "else:\n",
        "    print(\"No XML data to parse.\")"
      ]
    },
    {
      "cell_type": "markdown",
      "metadata": {},
      "source": [
        "### Inspecting the XML Root\n",
        "Below, we print part of the top-level XML structure to see how data are organized. Often, `coredata` contains most of the relevant metadata.\n"
      ]
    },
    {
      "cell_type": "code",
      "execution_count": 7,
      "id": "42696718",
      "metadata": {
        "tags": [
          "output_scroll"
        ]
      },
      "outputs": [
        {
          "name": "stdout",
          "output_type": "stream",
          "text": [
            "{http://www.elsevier.com/xml/svapi/article/dtd}coredata\n",
            "Subchild tag: {http://prismstandard.org/namespaces/basic/2.0/}url\n",
            "Subchild tag: {http://purl.org/dc/elements/1.1/}identifier\n",
            "Subchild tag: {http://www.elsevier.com/xml/svapi/article/dtd}eid\n",
            "Subchild tag: {http://prismstandard.org/namespaces/basic/2.0/}doi\n",
            "Subchild tag: {http://www.elsevier.com/xml/svapi/article/dtd}pii\n",
            "Subchild tag: {http://purl.org/dc/elements/1.1/}title\n",
            "Subchild tag: {http://prismstandard.org/namespaces/basic/2.0/}publicationName\n"
          ]
        }
      ],
      "source": [
        "if root is not None:\n",
        "    first_child = list(root)[0] if len(list(root)) > 0 else None\n",
        "    if first_child is not None:\n",
        "        print(f\"{first_child.tag}\")\n",
        "        for i, subchild in enumerate(list(first_child)):\n",
        "            print(f\"Subchild tag: {subchild.tag}\")\n",
        "            # Only print the first 5 subchildren\n",
        "            if i > 5:\n",
        "                break\n",
        "    else:\n",
        "        print(\"Root has no children.\")\n",
        "else:\n",
        "    print(\"No root element to inspect.\")"
      ]
    },
    {
      "cell_type": "markdown",
      "metadata": {},
      "source": [
        "### XML Helper Functions\n",
        "These functions allow us to look up elements whose tags end with a specific string (e.g., `title`, `subject`, etc.), which is common in Elsevier’s XML structure.\n"
      ]
    },
    {
      "cell_type": "code",
      "execution_count": 8,
      "metadata": {},
      "outputs": [
        {
          "name": "stdout",
          "output_type": "stream",
          "text": [
            "Helper functions for XML parsing defined.\n"
          ]
        }
      ],
      "source": [
        "def get_element(parent_element: ET.Element, element_end: str):\n",
        "    \"\"\"\n",
        "    Retrieve the first occurrence of an element whose tag ends with `element_end`.\n",
        "\n",
        "    :param parent_element: ET.Element\n",
        "        The parent element to search within.\n",
        "    :param element_end: str\n",
        "        The suffix of the child element's tag to look for.\n",
        "    :return: ET.Element or None\n",
        "        The first matching element, or None if none is found.\n",
        "    \"\"\"\n",
        "    if parent_element is not None:\n",
        "        for child in parent_element:\n",
        "            if child.tag.endswith(element_end):\n",
        "                return child\n",
        "    return None\n",
        "\n",
        "\n",
        "def get_elements(parent_element: ET.Element, element_end: str) -> list:\n",
        "    \"\"\"\n",
        "    Retrieve all occurrences of elements whose tag ends with `element_end`.\n",
        "\n",
        "    :param parent_element: ET.Element\n",
        "        The parent element to search within.\n",
        "    :param element_end: str\n",
        "        The suffix of the child elements' tag to look for.\n",
        "    :return: list\n",
        "        A list of all matching elements.\n",
        "    \"\"\"\n",
        "    elements = []\n",
        "    if parent_element is not None:\n",
        "        for child in parent_element:\n",
        "            if child.tag.endswith(element_end):\n",
        "                elements.append(child)\n",
        "    return elements\n",
        "\n",
        "print(\"Helper functions for XML parsing defined.\")"
      ]
    },
    {
      "cell_type": "markdown",
      "metadata": {},
      "source": [
        "### Extracting Core Data\n",
        "Using `get_element` and `get_elements`, we can parse out key metadata:\n",
        "- **Title**\n",
        "- **Abstract**\n",
        "- **Authors**\n",
        "- **Open Access Status**\n",
        "- **Subjects**\n"
      ]
    },
    {
      "cell_type": "code",
      "execution_count": 9,
      "metadata": {
        "tags": [
          "output_scroll"
        ]
      },
      "outputs": [
        {
          "name": "stdout",
          "output_type": "stream",
          "text": [
            "\n",
            "--- Extracted Metadata ---\n",
            "Title: Ambient urea synthesis via electrocatalytic C–N coupling \n",
            "Abstract: The construction of C–N bond and synthesis of N-containing compounds directly from N2 is an extremely attractive subject. The co-electrolysis system coupled with renewable electricity provides one of the potential options for the green and controllable C–N bond construction under ambient conditions, bypassing the intermediate process of ammonia synthesis. In this review, we have summarized the recent progress in ambient urea synthesis via electrocatalytic C–N coupling from CO2 and nitrogenous species. The reaction mechanisms studies of N2 and CO2 coupling has been mainly highlighted, and the coupling enhancement strategies are emphasized for the coupling of nitrate and CO2, including intermediate adsorption regulation, functional synergy, site reconstitution and local-environment construction. Moreover, promising directions and remaining challenges are outlined, encompassing the mechanism study combining theory and experiment, reactant source and product application, optimization of urea synthesis evaluation system and the development of devices aiming to coupling system. This review aims to guide further advancements in electrocatalytic C–N coupling, facilitating the efficient and sustainable synthesis of urea for a broad spectrum of applications.\n",
            "Authors:\n",
            " - Chen, Chen\n",
            "Open Access: true\n",
            "Subjects:\n",
            " - Electrocatalysis\n",
            " - Urea synthesis\n",
            " - C–N coupling\n",
            " - Adsorption configuration\n",
            " - Reaction mechanism\n"
          ]
        }
      ],
      "source": [
        "if root is not None:\n",
        "    core_data = get_element(root, \"coredata\")\n",
        "    if core_data is not None:\n",
        "        # Title\n",
        "        title_elem = get_element(core_data, \"title\")\n",
        "        title_text = title_elem.text if title_elem is not None else 'N/A'\n",
        "\n",
        "        # Abstract\n",
        "        abstract_elem = get_element(core_data, \"description\")\n",
        "        if abstract_elem is not None and abstract_elem.text:\n",
        "            abstract_text = abstract_elem.text.strip()\n",
        "        else:\n",
        "            abstract_text = 'N/A'\n",
        "\n",
        "        # Authors\n",
        "        authors_elems = get_elements(core_data, \"creator\")\n",
        "        authors_list = [elem.text for elem in authors_elems if elem.text]\n",
        "\n",
        "        # Open Access status\n",
        "        open_access_elem = get_element(core_data, \"openaccessArticle\")\n",
        "        open_access_status = open_access_elem.text if open_access_elem is not None else 'N/A'\n",
        "\n",
        "        # Subjects\n",
        "        subjects_elems = get_elements(core_data, \"subject\")\n",
        "        subjects_list = [elem.text for elem in subjects_elems if elem.text]\n",
        "\n",
        "        # Print retrieved metadata\n",
        "        print(\"\\n--- Extracted Metadata ---\")\n",
        "        print(f\"Title: {title_text}\")\n",
        "        print(f\"Abstract: {abstract_text}\")\n",
        "        print(\"Authors:\")\n",
        "        for author in authors_list:\n",
        "            print(f\" - {author}\")\n",
        "        print(f\"Open Access: {open_access_status}\")\n",
        "        print(\"Subjects:\")\n",
        "        for subject in subjects_list:\n",
        "            print(f\" - {subject}\")\n",
        "    else:\n",
        "        print(\"No core data found in the XML.\")\n",
        "else:\n",
        "    print(\"No root element; cannot extract metadata.\")"
      ]
    },
    {
      "cell_type": "markdown",
      "metadata": {},
      "source": [
        "## 4. Extract Figure Captions\n",
        "This example shows how to isolate figure captions within the XML.\n",
        "\n",
        "1. We retrieve XML for a specified DOI.\n",
        "2. We navigate to the `floats` > `figure` elements.\n",
        "3. We extract figure labels, captions, and then write them to a file.\n"
      ]
    },
    {
      "cell_type": "code",
      "execution_count": 10,
      "metadata": {
        "tags": [
          "output_scroll"
        ]
      },
      "outputs": [
        {
          "name": "stdout",
          "output_type": "stream",
          "text": [
            "XML data retrieved successfully.\n",
            "XML data parsed successfully.\n",
            "\n",
            "--- Figure Captions ---\n",
            "Fig. 1\n",
            "(a) Comparison of industrial urea synthesis route and alternative electrocatalytic protocol. The rt and atm indicate room temperature and atmospheric pressure respectively. (b) Present-day ammonia and urea volumes and uses. All data are in million metric tonnes of nitrogen (Mt N) per year using production data for 2020.\n",
            "\n",
            "Fig. 2\n",
            "Electrocatalytic C−N coupling of N2 and CO2 and reaction mechanisms.\n",
            "\n",
            "Fig. 3\n",
            "Premise towards C–N coupling: side-on adsorption of N2. (a) Screening of N2 adsorption configuration and adsorption energy over diatomic sites. (b) Mass-to-charge ratio analysis of isotope-labelled urea products. (c) Schematic diagram illustrating one-step and two-step coupling processes.\n",
            "\n",
            "Fig. 4\n",
            "Strategies towards electrocatalytic C−N coupling from nitrate and CO2. (a) Adsorption regulation. (b) Functional synergy. (c) Site reconstitution and (d) Local-environment construction.\n",
            "\n",
            "Fig. 5\n",
            "Adsorption configuration regulation of N-containing species by oxygen vacancy. (a) SFG signals of intermediate species on oxygen vacancy enriched catalyst. Comparison of the coupling energy barrier of *NO, *N, *NH, and *NH2 with *CO and protonation on (b) Oxygen vacancy enriched sample and (c) Oxygen vacancy deficient sample. (d) Schematic diagram of oxygen vacancy mediated reaction pathway changes.\n",
            "\n",
            "Fig. 6\n",
            "Function synergy to boost urea synthesis. (a) Synergy of nitrate and CO2 co-activation. (b) Synergy of electrochemical and non-electrochemical steps.\n",
            "\n",
            "Fig. 7\n",
            "Electrochemical reconstitution towards urea synthesis. (a) Reconstitution resistance. (b) Partial reconstitution. (c) Dynamic reconstitution.\n",
            "\n",
            "Fig. 8\n",
            "Local microenvironment construction induced by alkaline cations. (a) Urea yield rates, (b) Faradaic efficiencies and (c) partial currents of urea with various concentrations of K+ at –1.5 V. (d) Schematic diagram of K+-participated urea synthesis path.\n",
            "\n"
          ]
        }
      ],
      "source": [
        "# This article is under CC-BY-4.0 license https://creativecommons.org/licenses/by/4.0/\n",
        "# https://doi.org/10.1016/j.mtcata.2025.100092\n",
        "doi_example = '10.1016/j.mtcata.2025.100092'\n",
        "xml_data = None\n",
        "\n",
        "try:\n",
        "    # Request XML content\n",
        "    response = requests.get(\n",
        "        f\"{elsevier_url}{doi_example}?APIKey={API_KEY}&httpAccept=text/xml\"\n",
        "    )\n",
        "    response.raise_for_status()\n",
        "    xml_data = response.content\n",
        "    print(\"XML data retrieved successfully.\")\n",
        "except requests.exceptions.RequestException as e:\n",
        "    print(f\"Error retrieving XML data for DOI {doi_example}: {e}\")\n",
        "except Exception as e:\n",
        "    print(f\"Unexpected error occurred: {e}\")\n",
        "\n",
        "root = None\n",
        "if xml_data:\n",
        "    try:\n",
        "        root = ET.fromstring(xml_data)\n",
        "        print(\"XML data parsed successfully.\")\n",
        "    except ET.ParseError as e:\n",
        "        print(f\"Error parsing XML data: {e}\")\n",
        "else:\n",
        "    print(\"No XML data to parse.\")\n",
        "\n",
        "def get_text_from_figure(caption_elem: ET.Element) -> str:\n",
        "    \"\"\"\n",
        "    Retrieve the text content from a figure caption element.\n",
        "    \n",
        "    :param caption_elem: ET.Element\n",
        "        A figure element from the XML.\n",
        "    :return: str\n",
        "        Combined label and caption text.\n",
        "    \"\"\"\n",
        "    text = \"\"\n",
        "    # Attempt to get label\n",
        "    label_el = get_element(caption_elem, \"label\")\n",
        "    if label_el is not None and label_el.text:\n",
        "        text += label_el.text + \"\\n\"\n",
        "\n",
        "    # Attempt to get the main caption\n",
        "    caption_text_el = get_element(caption_elem, \"caption\")\n",
        "    if caption_text_el is not None:\n",
        "        text += \"\".join(caption_text_el.itertext()).strip() + \"\\n\"\n",
        "\n",
        "    return text\n",
        "\n",
        "if root is not None:\n",
        "    original_text_section = get_element(root, \"originalText\")\n",
        "    doc_section = get_element(original_text_section, \"doc\")\n",
        "    serial_item_section = get_element(doc_section, \"serial-item\")\n",
        "    article_section = get_element(serial_item_section, \"article\")\n",
        "    floats_section = get_element(article_section, \"floats\")\n",
        "    figures = get_elements(floats_section, \"figure\")\n",
        "\n",
        "    if figures:\n",
        "        print(\"\\n--- Figure Captions ---\")\n",
        "        with open(\"captions.txt\", 'w', encoding='utf-8') as outfile:\n",
        "            outfile.write(\"--- Figure Captions ---\\n\")\n",
        "\n",
        "        for figure in figures:\n",
        "            figure_text = get_text_from_figure(figure)\n",
        "            print(figure_text)\n",
        "            with open(\"captions.txt\", 'a', encoding='utf-8') as outfile:\n",
        "                outfile.write(figure_text + \"\\n\")\n",
        "    else:\n",
        "        print(\"No figures found.\")\n",
        "else:\n",
        "    print(\"No root element to inspect.\")"
      ]
    },
    {
      "cell_type": "markdown",
      "metadata": {},
      "source": [
        "## 5. Extract Full Text\n",
        "Finally, we'll demonstrate how to retrieve the **entire body** of the article from the XML by:\n",
        "1. Locating the `head` and `body` sections.\n",
        "2. Iterating through all text nodes.\n",
        "3. Writing out a combined string to a local file.\n"
      ]
    },
    {
      "cell_type": "code",
      "execution_count": 11,
      "metadata": {
        "tags": []
      },
      "outputs": [
        {
          "name": "stdout",
          "output_type": "stream",
          "text": [
            "XML data retrieved successfully.\n",
            "XML data parsed successfully.\n",
            "Full text saved to fulltext.txt.\n"
          ]
        }
      ],
      "source": [
        "# This article is under CC-BY-4.0 license https://creativecommons.org/licenses/by/4.0/\n",
        "# https://doi.org/10.1016/j.mtcata.2025.100092\n",
        "doi_example = '10.1016/j.mtcata.2025.100092'\n",
        "xml_data = None\n",
        "\n",
        "try:\n",
        "    # Request XML content\n",
        "    response = requests.get(\n",
        "        f\"{elsevier_url}{doi_example}?APIKey={API_KEY}&httpAccept=text/xml\"\n",
        "    )\n",
        "    response.raise_for_status()\n",
        "    xml_data = response.content\n",
        "    print(\"XML data retrieved successfully.\")\n",
        "except requests.exceptions.RequestException as e:\n",
        "    print(f\"Error retrieving XML data for DOI {doi_example}: {e}\")\n",
        "except Exception as e:\n",
        "    print(f\"Unexpected error occurred: {e}\")\n",
        "\n",
        "root = None\n",
        "if xml_data:\n",
        "    try:\n",
        "        root = ET.fromstring(xml_data)\n",
        "        print(\"XML data parsed successfully.\")\n",
        "    except ET.ParseError as e:\n",
        "        print(f\"Error parsing XML data: {e}\")\n",
        "else:\n",
        "    print(\"No XML data to parse.\")\n",
        "\n",
        "if root is not None:\n",
        "    original_text_section = get_element(root, \"originalText\")\n",
        "    doc_section = get_element(original_text_section, \"doc\")\n",
        "    serial_item_section = get_element(doc_section, \"serial-item\")\n",
        "    article_section = get_element(serial_item_section, \"article\")\n",
        "    header_section = get_element(article_section, \"head\")\n",
        "    body_section = get_element(article_section, \"body\")\n",
        "\n",
        "    full_text = \"\"\n",
        "\n",
        "    # Helper function to gather text from elements\n",
        "    def gather_text(element: ET.Element) -> str:\n",
        "        \"\"\"\n",
        "        Gather all text from an Element, replacing non-visible whitespace with single newlines.\n",
        "        \"\"\"\n",
        "        if element is None:\n",
        "            return \"\"\n",
        "\n",
        "        text_chunks = []\n",
        "        for subelement in element:\n",
        "            for txt in subelement.itertext():\n",
        "                if not txt.strip():\n",
        "                    text_chunks.append(\"\\n\")\n",
        "                else:\n",
        "                    text_chunks.append(txt)\n",
        "        combined = \"\".join(text_chunks).strip()\n",
        "        return combined\n",
        "\n",
        "    # Extract header text\n",
        "    if header_section is not None:\n",
        "        header_text = gather_text(header_section)\n",
        "        full_text += header_text + \"\\n\\n\\n\"\n",
        "\n",
        "    # Extract body text\n",
        "    if body_section is not None:\n",
        "        body_text = gather_text(body_section)\n",
        "        full_text += body_text\n",
        "\n",
        "    with open(\"fulltext.txt\", 'w', encoding='utf-8') as outfile:\n",
        "        outfile.write(full_text)\n",
        "    print(\"Full text saved to fulltext.txt.\")\n",
        "else:\n",
        "    print(\"No root element to inspect.\")"
      ]
    },
    {
      "cell_type": "code",
      "execution_count": 12,
      "id": "bfbec97b",
      "metadata": {},
      "outputs": [
        {
          "name": "stdout",
          "output_type": "stream",
          "text": [
            "Ambient urea synthesis via electrocatalytic C–N coupling\n",
            "\n",
            "Chen\n",
            "Chen\n",
            "Writing – original draft\n",
            "Validation\n",
            "Resources\n",
            "Investigation\n",
            "Data curation\n",
            "Conceptualization\n",
            "\n",
            "\n",
            "State Key Laboratory of Chemo/Bio-Sensing and Chemometrics, College of Chemistry and Che\n"
          ]
        }
      ],
      "source": [
        "# Output a portion of the full text to the console\n",
        "print(full_text[:250])"
      ]
    }
  ],
  "metadata": {
    "kernelspec": {
      "display_name": "science-direct-env",
      "language": "python",
      "name": "python3"
    },
    "language_info": {
      "codemirror_mode": {
        "name": "ipython",
        "version": 3
      },
      "file_extension": ".py",
      "mimetype": "text/x-python",
      "name": "python",
      "nbconvert_exporter": "python",
      "pygments_lexer": "ipython3",
      "version": "3.13.2"
    }
  },
  "nbformat": 4,
  "nbformat_minor": 5
}
