{
 "cells": [
  {
   "cell_type": "markdown",
   "metadata": {},
   "source": [
    "# GeoNames API in Python\n",
    "\n",
    "by Michael T. Moen\n",
    "\n",
    "Please see the following resources for more information on API usage:\n",
    "\n",
    "- Documentation\n",
    "    - <a href=\"https://www.geonames.org\" target=\"_blank\">GeoNames</a>\n",
    "    - <a href=\"https://www.geonames.org/export/web-services.html\" target=\"_blank\">GeoNames API Documentation</a>\n",
    "- Terms of Use\n",
    "    - <a href=\"https://www.geonames.org/export/\" target=\"_blank\">GeoNames API Terms of Use</a>\n",
    "- Data Reuse\n",
    "    - The GeoNames API Data is licensed under the Creative Commons' [CC 4.0 license](https://creativecommons.org/licenses/by/4.0/), allowing users to share and adapt the API's data for any purpose, as long as appropriate attribution is given.\n",
    "\n",
    "*These recipe examples were tested on March 7, 2025.*\n",
    "\n",
    "**_NOTE:_** The GeoNames API limits users to a maximum of 10000 credits per day and 1000 credits per hour. See [here](https://www.geonames.org/export/credits.html) for a list of how many credits a request to each endpoint uses."
   ]
  },
  {
   "cell_type": "markdown",
   "metadata": {},
   "source": [
    "## Setup\n",
    "\n",
    "### Import Libraries\n",
    "\n",
    "The following external libraries need to be installed into your environment to run the code examples in this tutorial:\n",
    "\n",
    "- <a href=\"https://github.com/ipython/ipykernel\" target=\"_blank\">ipykernel</a>\n",
    "- <a href=\"https://github.com/psf/requests\" target=\"_blank\">requests</a>\n",
    "- <a href=\"https://github.com/theskumar/python-dotenv\" target=\"_blank\">python-dotenv</a>"
   ]
  },
  {
   "cell_type": "code",
   "execution_count": 1,
   "metadata": {},
   "outputs": [],
   "source": [
    "import requests\n",
    "import os\n",
    "from dotenv import load_dotenv"
   ]
  },
  {
   "cell_type": "markdown",
   "metadata": {},
   "source": [
    "### Import Username\n",
    "\n",
    "Users must register with GeoNames before accessing the GeoNames API. Sign up can be found <a href=\"https://www.geonames.org/login\" target=\"_blank\">here</a>.\n",
    "\n",
    "We keep our username in a `.env` file and use the `dotenv` library to access it. If you would like to use this method, create a file named `.env` in the same directory as this notebook and add the following line to it:\n",
    "\n",
    "```text\n",
    "GEONAMES_API_USERNAME=PUT_YOUR_USERNAME_HERE\n",
    "```"
   ]
  },
  {
   "cell_type": "code",
   "execution_count": 5,
   "metadata": {},
   "outputs": [],
   "source": [
    "load_dotenv()\n",
    "try:\n",
    "    USERNAME = os.environ[\"GEONAMES_API_USERNAME\"]\n",
    "except KeyError:\n",
    "    print(\"API key not found. Please set 'GEONAMES_API_USERNAME' in your .env file.\")"
   ]
  },
  {
   "cell_type": "markdown",
   "metadata": {},
   "source": [
    "## 1. Searching with a ZIP Code\n",
    "\n",
    "This example uses the `postalCodeSearchJSON` endpoint to find the coordinates of the the ZIP code 35401."
   ]
  },
  {
   "cell_type": "code",
   "execution_count": 10,
   "metadata": {},
   "outputs": [
    {
     "data": {
      "text/plain": [
       "200"
      ]
     },
     "execution_count": 10,
     "metadata": {},
     "output_type": "execute_result"
    }
   ],
   "source": [
    "BASE_URL = f'https://secure.geonames.org/'\n",
    "\n",
    "endpoint = 'postalCodeSearchJSON'\n",
    "params = {\n",
    "    'postalcode': 35401,    # Postal code to search\n",
    "    'countryBias': 'US',    # Moves US results to the top of the results list\n",
    "    'username': USERNAME    # Must include GeoNames username in all API calls\n",
    "}\n",
    "\n",
    "response = requests.get(f\"{BASE_URL}{endpoint}\", params=params)\n",
    "\n",
    "# Status code 200 indicates success\n",
    "response.status_code"
   ]
  },
  {
   "cell_type": "code",
   "execution_count": 11,
   "metadata": {},
   "outputs": [
    {
     "data": {
      "text/plain": [
       "{'adminCode2': '125',\n",
       " 'adminCode1': 'AL',\n",
       " 'adminName2': 'Tuscaloosa',\n",
       " 'lng': -87.562666,\n",
       " 'countryCode': 'US',\n",
       " 'postalCode': '35401',\n",
       " 'adminName1': 'Alabama',\n",
       " 'ISO3166-2': 'AL',\n",
       " 'placeName': 'Tuscaloosa',\n",
       " 'lat': 33.196891}"
      ]
     },
     "execution_count": 11,
     "metadata": {},
     "output_type": "execute_result"
    }
   ],
   "source": [
    "top_result = response.json()['postalCodes'][0]\n",
    "top_result"
   ]
  },
  {
   "cell_type": "code",
   "execution_count": 12,
   "metadata": {},
   "outputs": [
    {
     "data": {
      "text/plain": [
       "(33.196891, -87.562666)"
      ]
     },
     "execution_count": 12,
     "metadata": {},
     "output_type": "execute_result"
    }
   ],
   "source": [
    "latitude = top_result['lat']\n",
    "longitude = top_result['lng']\n",
    "latitude, longitude"
   ]
  },
  {
   "cell_type": "markdown",
   "metadata": {},
   "source": [
    "## 2. Searching with Queries\n",
    "\n",
    "Queries allow users to search for location at several different levels.\n",
    "\n",
    "### Searching for a City\n",
    "\n",
    "In this example, we search for a location using the query \"Tuscaloosa.\""
   ]
  },
  {
   "cell_type": "code",
   "execution_count": 13,
   "metadata": {},
   "outputs": [
    {
     "data": {
      "text/plain": [
       "200"
      ]
     },
     "execution_count": 13,
     "metadata": {},
     "output_type": "execute_result"
    }
   ],
   "source": [
    "endpoint = 'searchJSON'\n",
    "params = {\n",
    "    'q': 'Tuscaloosa',      # Search query\n",
    "    'countryBias': 'US',    # Moves US results to the top of the results list\n",
    "    'maxRows': 10,          # Limit results to top 10\n",
    "    'username': USERNAME    # Must include GeoNames username in all API calls\n",
    "}\n",
    "\n",
    "response = requests.get(f\"{BASE_URL}{endpoint}\", params=params)\n",
    "\n",
    "# Status code 200 indicates success\n",
    "response.status_code"
   ]
  },
  {
   "cell_type": "code",
   "execution_count": 14,
   "metadata": {},
   "outputs": [
    {
     "data": {
      "text/plain": [
       "{'adminCode1': 'AL',\n",
       " 'lng': '-87.56917',\n",
       " 'geonameId': 4094455,\n",
       " 'toponymName': 'Tuscaloosa',\n",
       " 'countryId': '6252001',\n",
       " 'fcl': 'P',\n",
       " 'population': 98332,\n",
       " 'countryCode': 'US',\n",
       " 'name': 'Tuscaloosa',\n",
       " 'fclName': 'city, village,...',\n",
       " 'adminCodes1': {'ISO3166_2': 'AL'},\n",
       " 'countryName': 'United States',\n",
       " 'fcodeName': 'seat of a second-order administrative division',\n",
       " 'adminName1': 'Alabama',\n",
       " 'lat': '33.20984',\n",
       " 'fcode': 'PPLA2'}"
      ]
     },
     "execution_count": 14,
     "metadata": {},
     "output_type": "execute_result"
    }
   ],
   "source": [
    "# Display top result\n",
    "response.json()['geonames'][0]"
   ]
  },
  {
   "cell_type": "markdown",
   "metadata": {},
   "source": [
    "### Seaching for a Building\n",
    "\n",
    "In this example, we search for a location using the query \"Bruno Business Library.\""
   ]
  },
  {
   "cell_type": "code",
   "execution_count": 15,
   "metadata": {},
   "outputs": [
    {
     "data": {
      "text/plain": [
       "200"
      ]
     },
     "execution_count": 15,
     "metadata": {},
     "output_type": "execute_result"
    }
   ],
   "source": [
    "endpoint = 'searchJSON'\n",
    "params = {\n",
    "    'q': 'Bruno Business Library',  # Search query\n",
    "    'countryBias': 'US',            # Moves US results to the top of the results list\n",
    "    'maxRows': 10,                  # Limit results to top 10\n",
    "    'username': USERNAME            # Must include GeoNames username in all API calls\n",
    "}\n",
    "\n",
    "response = requests.get(f'{BASE_URL}{endpoint}', params=params)\n",
    "\n",
    "# Status code 200 indicates success\n",
    "response.status_code"
   ]
  },
  {
   "cell_type": "code",
   "execution_count": 16,
   "metadata": {},
   "outputs": [
    {
     "data": {
      "text/plain": [
       "{'adminCode1': 'AL',\n",
       " 'lng': '-87.54925',\n",
       " 'geonameId': 11524498,\n",
       " 'toponymName': 'Angelo Bruno Business Library',\n",
       " 'countryId': '6252001',\n",
       " 'fcl': 'S',\n",
       " 'population': 0,\n",
       " 'countryCode': 'US',\n",
       " 'name': 'Angelo Bruno Business Library',\n",
       " 'fclName': 'spot, building, farm',\n",
       " 'adminCodes1': {'ISO3166_2': 'AL'},\n",
       " 'countryName': 'United States',\n",
       " 'fcodeName': 'library',\n",
       " 'adminName1': 'Alabama',\n",
       " 'lat': '33.2111',\n",
       " 'fcode': 'LIBR'}"
      ]
     },
     "execution_count": 16,
     "metadata": {},
     "output_type": "execute_result"
    }
   ],
   "source": [
    "# Display top result\n",
    "response.json()['geonames'][0]"
   ]
  },
  {
   "cell_type": "markdown",
   "metadata": {},
   "source": [
    "### Searching for an Island\n",
    "\n",
    "In this example, we use the query \"Martha's Vineyard.\""
   ]
  },
  {
   "cell_type": "code",
   "execution_count": 20,
   "metadata": {},
   "outputs": [
    {
     "data": {
      "text/plain": [
       "200"
      ]
     },
     "execution_count": 20,
     "metadata": {},
     "output_type": "execute_result"
    }
   ],
   "source": [
    "endpoint = 'searchJSON'\n",
    "params = {\n",
    "    'q': \"Martha's Vineyard\",   # Search query\n",
    "    'countryBias': 'US',        # Moves US results to the top of the results list\n",
    "    'maxRows': 10,              # Limit results to top 10\n",
    "    'username': USERNAME        # Must include GeoNames username in all API calls\n",
    "}\n",
    "\n",
    "response = requests.get(f'{BASE_URL}{endpoint}', params=params)\n",
    "\n",
    "# Status code 200 indicates success\n",
    "response.status_code"
   ]
  },
  {
   "cell_type": "code",
   "execution_count": 21,
   "metadata": {},
   "outputs": [
    {
     "data": {
      "text/plain": [
       "{'adminCode1': 'MA',\n",
       " 'lng': '-70.61265',\n",
       " 'geonameId': 4943237,\n",
       " 'toponymName': \"Martha's Vineyard Airport\",\n",
       " 'countryId': '6252001',\n",
       " 'fcl': 'S',\n",
       " 'population': 0,\n",
       " 'countryCode': 'US',\n",
       " 'name': \"Martha's Vineyard Airport\",\n",
       " 'fclName': 'spot, building, farm',\n",
       " 'adminCodes1': {'ISO3166_2': 'MA'},\n",
       " 'countryName': 'United States',\n",
       " 'fcodeName': 'airport',\n",
       " 'adminName1': 'Massachusetts',\n",
       " 'lat': '41.39016',\n",
       " 'fcode': 'AIRP'}"
      ]
     },
     "execution_count": 21,
     "metadata": {},
     "output_type": "execute_result"
    }
   ],
   "source": [
    "# Display top result\n",
    "response.json()['geonames'][0]"
   ]
  },
  {
   "cell_type": "markdown",
   "metadata": {},
   "source": [
    "Note that the result above is the data for Matha's Vineyard Airport. If we wish to find the data associated with the island, we can look at the `fcodeName` of the locations in the response:"
   ]
  },
  {
   "cell_type": "code",
   "execution_count": 22,
   "metadata": {},
   "outputs": [
    {
     "name": "stdout",
     "output_type": "stream",
     "text": [
      "Martha's Vineyard Airport               airport\n",
      "Martha's Vineyard Island                island\n",
      "Vineyard Haven                          populated place\n",
      "Martha's Vineyard Hospital              hospital\n",
      "Martha's Vineyard Regional High School  school\n",
      "Marthas Vineyard Campground             camp(s)\n",
      "Martha's Vineyard Aero Light            \n",
      "Martha's Vineyard State Forest          forest(s)\n",
      "Martha's Vineyard Agricultural Society  vineyard\n",
      "Martha's Vineyard State Forest          forest(s)\n"
     ]
    }
   ],
   "source": [
    "for location in response.json()['geonames']:\n",
    "    print(f'{location['toponymName']:<40}{location['fcodeName']}')"
   ]
  },
  {
   "cell_type": "markdown",
   "metadata": {},
   "source": [
    "## 3. Reverse Geocoding\n",
    "\n",
    "The `findNearbyPostalCodesJSON` endpoint can be used to find the ZIP code of a pair of coordinates."
   ]
  },
  {
   "cell_type": "code",
   "execution_count": 25,
   "metadata": {},
   "outputs": [
    {
     "data": {
      "text/plain": [
       "200"
      ]
     },
     "execution_count": 25,
     "metadata": {},
     "output_type": "execute_result"
    }
   ],
   "source": [
    "endpoint = 'findNearbyPostalCodesJSON'\n",
    "params = {\n",
    "    'lat': 38.625189,       # Search latitude\n",
    "    'lng': -90.187330,      # Search longitude\n",
    "    'maxRows': 10,          # Limit results to top 10\n",
    "    'username': USERNAME    # Must include GeoNames username in all API calls\n",
    "}\n",
    "\n",
    "response = requests.get(f'{BASE_URL}{endpoint}', params=params)\n",
    "\n",
    "# Status code 200 indicates success\n",
    "response.status_code"
   ]
  },
  {
   "cell_type": "code",
   "execution_count": 26,
   "metadata": {},
   "outputs": [
    {
     "name": "stdout",
     "output_type": "stream",
     "text": [
      "ZIP   | Distance (km)\n",
      "63102 | 0\n",
      "63188 | 0.94603\n",
      "63197 | 0.94603\n",
      "63180 | 0.94603\n",
      "63155 | 0.94603\n",
      "63169 | 0.94603\n",
      "63182 | 0.94603\n",
      "63150 | 0.94603\n",
      "63101 | 1.1038\n",
      "62202 | 2.64737\n"
     ]
    }
   ],
   "source": [
    "# Print 10 nearest ZIP codes\n",
    "print('ZIP   | Distance (km)')\n",
    "for zip in response.json()['postalCodes']:\n",
    "    print(f'{zip['postalCode']} | {zip['distance']}')"
   ]
  }
 ],
 "metadata": {
  "kernelspec": {
   "display_name": "api_env",
   "language": "python",
   "name": "python3"
  },
  "language_info": {
   "codemirror_mode": {
    "name": "ipython",
    "version": 3
   },
   "file_extension": ".py",
   "mimetype": "text/x-python",
   "name": "python",
   "nbconvert_exporter": "python",
   "pygments_lexer": "ipython3",
   "version": "3.13.1"
  },
  "orig_nbformat": 4
 },
 "nbformat": 4,
 "nbformat_minor": 2
}
