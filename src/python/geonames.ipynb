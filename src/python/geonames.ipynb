{
 "cells": [
  {
   "cell_type": "markdown",
   "metadata": {},
   "source": [
    "# GeoNames API in Python\n",
    "\n",
    "by Michael T. Moen\n",
    "\n",
    "**GeoNames API documentation:** https://www.geonames.org/export/web-services.html\n",
    "\n",
    "**GeoNames API license:** https://www.geonames.org/export/\n",
    "\n",
    "The GeoNames API is licensed under the Creative Commons' [CC 4.0 license](https://creativecommons.org/licenses/by/4.0/), allowing users to share and adapt the API's data for any purpose, as long as appropriate attribution is given.\n",
    "\n",
    "*These recipe examples were tested on March 4, 2024.*\n",
    "\n",
    "**_NOTE:_** The GeoNames API limits users to a maximum of 10000 credits per day and 1000 credits per hour. See [here](https://www.geonames.org/export/credits.html) for a list of how many credits a request to each endpoint uses."
   ]
  },
  {
   "cell_type": "markdown",
   "metadata": {},
   "source": [
    "## Setup\n",
    "\n",
    "### User Registration\n",
    "\n",
    "Users must register with GeoNames before accessing the GeoNames API. Sign up can be found here: https://www.geonames.org/login\n",
    "\n",
    "Add your username below:"
   ]
  },
  {
   "cell_type": "code",
   "execution_count": null,
   "metadata": {},
   "outputs": [],
   "source": [
    "username = ''"
   ]
  },
  {
   "cell_type": "markdown",
   "metadata": {},
   "source": [
    "Alternatively, you can save the above data in a separate python file and import it:"
   ]
  },
  {
   "cell_type": "code",
   "execution_count": 10,
   "metadata": {},
   "outputs": [],
   "source": [
    "from username import username"
   ]
  },
  {
   "cell_type": "markdown",
   "metadata": {},
   "source": [
    "### Import Libraries\n",
    "\n",
    "This tutorial uses the following libraries:"
   ]
  },
  {
   "cell_type": "code",
   "execution_count": 1,
   "metadata": {},
   "outputs": [],
   "source": [
    "import requests                     # Manages API requests\n",
    "from time import sleep              # Allows staggering of API requests to conform to rate limits"
   ]
  },
  {
   "cell_type": "markdown",
   "metadata": {},
   "source": [
    "## 1. Searching with a ZIP code\n",
    "\n",
    "This example uses the `postalCodeSearchJSON` endpoint to find the coordinates of the the ZIP code 35401."
   ]
  },
  {
   "cell_type": "code",
   "execution_count": 38,
   "metadata": {},
   "outputs": [
    {
     "data": {
      "text/plain": [
       "200"
      ]
     },
     "execution_count": 38,
     "metadata": {},
     "output_type": "execute_result"
    }
   ],
   "source": [
    "endpoint = 'postalCodeSearchJSON'\n",
    "parameters = '&'.join([\n",
    "    'postalcode=35401',     # Postal code to search\n",
    "    'countryBias=US',       # Moves US results to the top of the results list\n",
    "    f'username={username}'  # Must include GeoNames username in all API calls\n",
    "])\n",
    "\n",
    "url = f'https://secure.geonames.org/{endpoint}?{parameters}'\n",
    "response = requests.get(url)\n",
    "\n",
    "# Status code 200 indicates success\n",
    "response.status_code"
   ]
  },
  {
   "cell_type": "code",
   "execution_count": 39,
   "metadata": {},
   "outputs": [
    {
     "data": {
      "text/plain": [
       "{'adminCode2': '125',\n",
       " 'adminCode1': 'AL',\n",
       " 'adminName2': 'Tuscaloosa',\n",
       " 'lng': -87.562666,\n",
       " 'countryCode': 'US',\n",
       " 'postalCode': '35401',\n",
       " 'adminName1': 'Alabama',\n",
       " 'ISO3166-2': 'AL',\n",
       " 'placeName': 'Tuscaloosa',\n",
       " 'lat': 33.196891}"
      ]
     },
     "execution_count": 39,
     "metadata": {},
     "output_type": "execute_result"
    }
   ],
   "source": [
    "top_result = response.json()['postalCodes'][0]\n",
    "top_result"
   ]
  },
  {
   "cell_type": "code",
   "execution_count": 40,
   "metadata": {},
   "outputs": [
    {
     "data": {
      "text/plain": [
       "(33.196891, -87.562666)"
      ]
     },
     "execution_count": 40,
     "metadata": {},
     "output_type": "execute_result"
    }
   ],
   "source": [
    "latitude = top_result['lat']\n",
    "longitude = top_result['lng']\n",
    "latitude, longitude"
   ]
  },
  {
   "cell_type": "markdown",
   "metadata": {},
   "source": [
    "## 2. Searching with queries\n",
    "\n",
    "Queries allow users to search for location at several different levels.\n",
    "\n",
    "### Searching for a city\n",
    "\n",
    "In this example, we search for a location using the query \"Tuscaloosa.\""
   ]
  },
  {
   "cell_type": "code",
   "execution_count": 43,
   "metadata": {},
   "outputs": [
    {
     "data": {
      "text/plain": [
       "200"
      ]
     },
     "execution_count": 43,
     "metadata": {},
     "output_type": "execute_result"
    }
   ],
   "source": [
    "endpoint = 'searchJSON'\n",
    "parameters = '&'.join([\n",
    "    'q=Tuscaloosa',         # Search query\n",
    "    'countryBias=US',       # Moves US results to the top of the results list\n",
    "    'maxRows=10',           # Limit results to top 10\n",
    "    f'username={username}'  # Must include GeoNames username in all API calls\n",
    "])\n",
    "\n",
    "url = f'https://secure.geonames.org/{endpoint}?{parameters}'\n",
    "response = requests.get(url)\n",
    "\n",
    "# Status code 200 indicates success\n",
    "response.status_code"
   ]
  },
  {
   "cell_type": "code",
   "execution_count": 34,
   "metadata": {},
   "outputs": [
    {
     "data": {
      "text/plain": [
       "{'adminCode1': 'AL',\n",
       " 'lng': '-87.56917',\n",
       " 'geonameId': 4094455,\n",
       " 'toponymName': 'Tuscaloosa',\n",
       " 'countryId': '6252001',\n",
       " 'fcl': 'P',\n",
       " 'population': 98332,\n",
       " 'countryCode': 'US',\n",
       " 'name': 'Tuscaloosa',\n",
       " 'fclName': 'city, village,...',\n",
       " 'adminCodes1': {'ISO3166_2': 'AL'},\n",
       " 'countryName': 'United States',\n",
       " 'fcodeName': 'seat of a second-order administrative division',\n",
       " 'adminName1': 'Alabama',\n",
       " 'lat': '33.20984',\n",
       " 'fcode': 'PPLA2'}"
      ]
     },
     "execution_count": 34,
     "metadata": {},
     "output_type": "execute_result"
    }
   ],
   "source": [
    "# Display top result\n",
    "response.json()['geonames'][0]"
   ]
  },
  {
   "cell_type": "markdown",
   "metadata": {},
   "source": [
    "### Seaching for a buidling\n",
    "\n",
    "In this example, we search for a location using the query \"Bruno Business Library.\""
   ]
  },
  {
   "cell_type": "code",
   "execution_count": 48,
   "metadata": {},
   "outputs": [
    {
     "data": {
      "text/plain": [
       "200"
      ]
     },
     "execution_count": 48,
     "metadata": {},
     "output_type": "execute_result"
    }
   ],
   "source": [
    "endpoint = 'searchJSON'\n",
    "parameters = '&'.join([\n",
    "    'q=Bruno Business Library', # Search query\n",
    "    'countryBias=US',           # Moves US results to the top of the results list\n",
    "    'maxRows=10',               # Limit results to top 10\n",
    "    f'username={username}'      # Must include GeoNames username in all API calls\n",
    "])\n",
    "\n",
    "url = f'https://secure.geonames.org/{endpoint}?{parameters}'\n",
    "response = requests.get(url)\n",
    "\n",
    "# Status code 200 indicates success\n",
    "response.status_code"
   ]
  },
  {
   "cell_type": "code",
   "execution_count": 49,
   "metadata": {},
   "outputs": [
    {
     "data": {
      "text/plain": [
       "{'adminCode1': 'AL',\n",
       " 'lng': '-87.54925',\n",
       " 'geonameId': 11524498,\n",
       " 'toponymName': 'Angelo Bruno Business Library',\n",
       " 'countryId': '6252001',\n",
       " 'fcl': 'S',\n",
       " 'population': 0,\n",
       " 'countryCode': 'US',\n",
       " 'name': 'Angelo Bruno Business Library',\n",
       " 'fclName': 'spot, building, farm',\n",
       " 'adminCodes1': {'ISO3166_2': 'AL'},\n",
       " 'countryName': 'United States',\n",
       " 'fcodeName': 'library',\n",
       " 'adminName1': 'Alabama',\n",
       " 'lat': '33.2111',\n",
       " 'fcode': 'LIBR'}"
      ]
     },
     "execution_count": 49,
     "metadata": {},
     "output_type": "execute_result"
    }
   ],
   "source": [
    "# Display top result\n",
    "response.json()['geonames'][0]"
   ]
  },
  {
   "cell_type": "markdown",
   "metadata": {},
   "source": [
    "### Searching for an island\n",
    "\n",
    "In this example, we use the query \"Martha's Vineyard.\""
   ]
  },
  {
   "cell_type": "code",
   "execution_count": 55,
   "metadata": {},
   "outputs": [
    {
     "data": {
      "text/plain": [
       "200"
      ]
     },
     "execution_count": 55,
     "metadata": {},
     "output_type": "execute_result"
    }
   ],
   "source": [
    "endpoint = 'searchJSON'\n",
    "parameters = '&'.join([\n",
    "    \"q=Martha's Vineyard\",      # Search query\n",
    "    'countryBias=US',           # Moves US results to the top of the results list\n",
    "    'maxRows=10',               # Limit results to top 10\n",
    "    f'username={username}'      # Must include GeoNames username in all API calls\n",
    "])\n",
    "\n",
    "url = f'https://secure.geonames.org/{endpoint}?{parameters}'\n",
    "response = requests.get(url)\n",
    "\n",
    "# Status code 200 indicates success\n",
    "response.status_code"
   ]
  },
  {
   "cell_type": "code",
   "execution_count": 61,
   "metadata": {},
   "outputs": [
    {
     "data": {
      "text/plain": [
       "{'adminCode1': 'MA',\n",
       " 'lng': '-70.61265',\n",
       " 'geonameId': 4943237,\n",
       " 'toponymName': \"Martha's Vineyard Airport\",\n",
       " 'countryId': '6252001',\n",
       " 'fcl': 'S',\n",
       " 'population': 0,\n",
       " 'countryCode': 'US',\n",
       " 'name': \"Martha's Vineyard Airport\",\n",
       " 'fclName': 'spot, building, farm',\n",
       " 'adminCodes1': {'ISO3166_2': 'MA'},\n",
       " 'countryName': 'United States',\n",
       " 'fcodeName': 'airport',\n",
       " 'adminName1': 'Massachusetts',\n",
       " 'lat': '41.39016',\n",
       " 'fcode': 'AIRP'}"
      ]
     },
     "execution_count": 61,
     "metadata": {},
     "output_type": "execute_result"
    }
   ],
   "source": [
    "# Display top result\n",
    "response.json()['geonames'][0]"
   ]
  },
  {
   "cell_type": "markdown",
   "metadata": {},
   "source": [
    "Note that the result above is the data for Matha's Vineyard Airport. If we wish to find the data associated with the island, we can look at the `fcodeName` of the locations in the response:"
   ]
  },
  {
   "cell_type": "code",
   "execution_count": 60,
   "metadata": {},
   "outputs": [
    {
     "name": "stdout",
     "output_type": "stream",
     "text": [
      "Martha's Vineyard Airport               airport\n",
      "Martha's Vineyard Island                island\n",
      "Vineyard Haven                          populated place\n",
      "Martha's Vineyard Hospital              hospital\n",
      "Martha's Vineyard Regional High School  school\n",
      "Marthas Vineyard Campground             camp(s)\n",
      "Martha's Vineyard Aero Light            \n",
      "Martha's Vineyard State Forest          forest(s)\n",
      "Martha's Vineyard State Forest          forest(s)\n",
      "Martha's Vineyard Agricultural Society  vineyard\n"
     ]
    }
   ],
   "source": [
    "for location in response.json()['geonames']:\n",
    "    print(f'{location['toponymName']:<40}{location['fcodeName']}')"
   ]
  },
  {
   "cell_type": "markdown",
   "metadata": {},
   "source": [
    "## 3. Reverse Geocoding\n",
    "\n",
    "The `findNearbyPostalCodesJSON` endpoint can be used to find the ZIP code of a pair of coordinates."
   ]
  },
  {
   "cell_type": "code",
   "execution_count": 77,
   "metadata": {},
   "outputs": [
    {
     "data": {
      "text/plain": [
       "200"
      ]
     },
     "execution_count": 77,
     "metadata": {},
     "output_type": "execute_result"
    }
   ],
   "source": [
    "endpoint = 'findNearbyPostalCodesJSON'\n",
    "parameters = '&'.join([\n",
    "    'lat=38.625189',            # Search latitude\n",
    "    'lng=-90.187330',           # Search longitude\n",
    "    'maxRows=10',               # Limit results to top 10\n",
    "    f'username={username}'      # Must include GeoNames username in all API calls\n",
    "])\n",
    "\n",
    "url = f'https://secure.geonames.org/{endpoint}?{parameters}'\n",
    "response = requests.get(url)\n",
    "\n",
    "# Status code 200 indicates success\n",
    "response.status_code"
   ]
  },
  {
   "cell_type": "code",
   "execution_count": 78,
   "metadata": {},
   "outputs": [
    {
     "name": "stdout",
     "output_type": "stream",
     "text": [
      "ZIP   | Distance (km)\n",
      "63102 | 0\n",
      "63180 | 0.94603\n",
      "63188 | 0.94603\n",
      "63197 | 0.94603\n",
      "63169 | 0.94603\n",
      "63155 | 0.94603\n",
      "63150 | 0.94603\n",
      "63182 | 0.94603\n",
      "63101 | 1.1038\n",
      "62202 | 2.64737\n"
     ]
    }
   ],
   "source": [
    "# Print 10 nearest ZIP codes\n",
    "print('ZIP   | Distance (km)')\n",
    "for zip in response.json()['postalCodes']:\n",
    "    print(f'{zip['postalCode']} | {zip['distance']}')"
   ]
  }
 ],
 "metadata": {
  "kernelspec": {
   "display_name": "cookbook-env",
   "language": "python",
   "name": "python3"
  },
  "language_info": {
   "codemirror_mode": {
    "name": "ipython",
    "version": 3
   },
   "file_extension": ".py",
   "mimetype": "text/x-python",
   "name": "python",
   "nbconvert_exporter": "python",
   "pygments_lexer": "ipython3",
   "version": "3.12.1"
  },
  "orig_nbformat": 4
 },
 "nbformat": 4,
 "nbformat_minor": 2
}
