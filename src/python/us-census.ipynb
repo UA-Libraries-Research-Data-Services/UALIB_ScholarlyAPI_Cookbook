{
  "cells": [
    {
      "cell_type": "markdown",
      "metadata": {
        "collapsed": false,
        "id": "KrYRuinw7xG-"
      },
      "source": [
        "# U.S. Census Data API in Python\n",
        "\n",
        "by Avery Fernandez\n",
        "\n",
        "**U.S. Census API documentation:** https://www.census.gov/data/developers/about.html\n",
        "\n",
        "**U.S. Census Data Discovery Tool**: https://api.census.gov/data.html\n",
        "\n",
        "These recipe examples were tested on March 16, 2022.\n",
        "\n",
        "See also the [U.S. Census API Terms of Service](https://www.census.gov/data/developers/about/terms-of-service.html)\n",
        "\n",
        "**Attribution**: *This tutorial uses the Census Bureau Data API but is not endorsed or certified by the Census Bureau.*"
      ]
    },
    {
      "cell_type": "markdown",
      "metadata": {
        "collapsed": false,
        "id": "SRWIVNGI7xHB",
        "pycharm": {
          "name": "#%% md\n"
        }
      },
      "source": [
        "### API Key Information\n",
        "\n",
        "While an API key is not required to use the U.S. Census Data API, you may consider registering for an API key as the API is limited to 500 calls a day without a key. Sign up can be found here: https://api.census.gov/data/key_signup.html\n",
        "\n",
        "This tutorial does not use an API key:"
      ]
    },
    {
      "cell_type": "code",
      "execution_count": 1,
      "metadata": {
        "id": "yCYJUcnK-75F"
      },
      "outputs": [],
      "source": [
        "key = \"\""
      ]
    },
    {
      "cell_type": "markdown",
      "metadata": {
        "id": "-Gl38S98_Hd4"
      },
      "source": [
        "However, if you want to add in your API Key, save the API key to a file `api_key` and run the following code:\n",
        "\n",
        "```python\n",
        "from api_key import key\n",
        "\n",
        "```"
      ]
    },
    {
      "cell_type": "markdown",
      "metadata": {
        "id": "2eNnH3Lx8mW6"
      },
      "source": [
        "## 1. Get population estimates of counties by state\n",
        "\n",
        "*Note: includes Washington, D.C. and Puerto Rico*\n",
        "\n",
        "First, import several libraries:"
      ]
    },
    {
      "cell_type": "code",
      "execution_count": 2,
      "metadata": {
        "id": "kjTiT2by7xHA",
        "pycharm": {
          "name": "#%%\n"
        }
      },
      "outputs": [],
      "source": [
        "from time import sleep\n",
        "import requests\n",
        "from pprint import pprint"
      ]
    },
    {
      "cell_type": "markdown",
      "metadata": {
        "collapsed": false,
        "id": "fLyQAPzX7xHC"
      },
      "source": [
        "For obtaining data from the Census API, it is helpful to first obtain a list of state IDs:"
      ]
    },
    {
      "cell_type": "code",
      "execution_count": 3,
      "metadata": {
        "colab": {
          "base_uri": "https://localhost:8080/"
        },
        "id": "jXq6lVLWBpUP",
        "outputId": "384f8c9b-40c7-4a54-8bbc-1b289966fd53"
      },
      "outputs": [
        {
          "name": "stdout",
          "output_type": "stream",
          "text": [
            "53\n"
          ]
        }
      ],
      "source": [
        "# define root Census API\n",
        "api = 'https://api.census.gov/data/'\n",
        "\n",
        "# define api url for the state ids\n",
        "# we will use the Population Estimates from 2019 dataset:\n",
        "# https://api.census.gov/data/2019/pep/population/examples.html\n",
        "\n",
        "state_ids = api + \"2019/pep/population?get=NAME&for=state:*\" + key\n",
        "\n",
        "# read the url and import JSON data\n",
        "state_ids = requests.get(state_ids).json()\n",
        "print(len(state_ids))"
      ]
    },
    {
      "cell_type": "code",
      "execution_count": 4,
      "metadata": {
        "colab": {
          "base_uri": "https://localhost:8080/"
        },
        "id": "O0NejyGUBtly",
        "outputId": "4c033941-7e4b-45e4-b34d-1dd40e1a0ef9"
      },
      "outputs": [
        {
          "name": "stdout",
          "output_type": "stream",
          "text": [
            "[['NAME', 'state'],\n",
            " ['Alabama', '01'],\n",
            " ['Alaska', '02'],\n",
            " ['Arizona', '04'],\n",
            " ['Arkansas', '05'],\n",
            " ['California', '06'],\n",
            " ['Colorado', '08'],\n",
            " ['Delaware', '10'],\n",
            " ['District of Columbia', '11'],\n",
            " ['Idaho', '16']]\n"
          ]
        }
      ],
      "source": [
        "pprint(state_ids[0:10]) # show first 10"
      ]
    },
    {
      "cell_type": "code",
      "execution_count": 5,
      "metadata": {
        "colab": {
          "base_uri": "https://localhost:8080/"
        },
        "id": "5MaaW9PcBtsW",
        "outputId": "7256fcf4-dc46-41b5-c59f-9c1685dbf7ed"
      },
      "outputs": [
        {
          "name": "stdout",
          "output_type": "stream",
          "text": [
            "[['Alabama', '01'],\n",
            " ['Alaska', '02'],\n",
            " ['Arizona', '04'],\n",
            " ['Arkansas', '05'],\n",
            " ['California', '06'],\n",
            " ['Colorado', '08'],\n",
            " ['Delaware', '10'],\n",
            " ['District of Columbia', '11'],\n",
            " ['Idaho', '16'],\n",
            " ['Connecticut', '09']]\n"
          ]
        }
      ],
      "source": [
        "# remove heading\n",
        "state_ids = state_ids[1:]\n",
        "pprint(state_ids[0:10])"
      ]
    },
    {
      "cell_type": "markdown",
      "metadata": {
        "id": "5me_DLL9ETVl"
      },
      "source": [
        "Now we can loop through each state and pull their individual population data:"
      ]
    },
    {
      "cell_type": "code",
      "execution_count": 6,
      "metadata": {
        "id": "wf2DPUmADXng"
      },
      "outputs": [],
      "source": [
        "# Extract out ids from the list to create a dictionary of state ids\n",
        "for states in state_ids: # loops through the list of states\n",
        "    stateName = states[0] # grabs the name of the state\n",
        "    # grabs the name of each county and their population\n",
        "    request = requests.get(api + \"2019/pep/population?get=NAME,POP&for=county:*&in=state:\"+states[1]+key).json()[1:]\n",
        "    sleep(1)\n",
        "    # creates lists to add the populations and counties\n",
        "    counties = []\n",
        "    countyPopulation = []\n",
        "    for county in request: # loops through the json data, extracting the county name and their population\n",
        "        counties.append(county[0][:-(len(stateName)+2)]) # adds the county's name and deletes the state name from the end of the county string\n",
        "        countyPopulation.append(int(county[1] or 'nan')) # adds the county's population\n",
        "    # converts the name of the state into a variable and stores the county data into the given name for easy reference\n",
        "    globals()[stateName] = {counties[i]: countyPopulation[i] for i in range(len(counties))}"
      ]
    },
    {
      "cell_type": "code",
      "execution_count": 7,
      "metadata": {
        "colab": {
          "base_uri": "https://localhost:8080/"
        },
        "id": "Jqrpu9f_wB2a",
        "outputId": "bae2a51e-defe-45c9-8876-ee629420da06"
      },
      "outputs": [
        {
          "name": "stdout",
          "output_type": "stream",
          "text": [
            "{'Autauga County': 55869,\n",
            " 'Baldwin County': 223234,\n",
            " 'Barbour County': 24686,\n",
            " 'Bibb County': 22394,\n",
            " 'Blount County': 57826,\n",
            " 'Bullock County': 10101,\n",
            " 'Butler County': 19448,\n",
            " 'Calhoun County': 113605,\n",
            " 'Chambers County': 33254,\n",
            " 'Cherokee County': 26196,\n",
            " 'Chilton County': 44428,\n",
            " 'Choctaw County': 12589,\n",
            " 'Clarke County': 23622,\n",
            " 'Clay County': 13235,\n",
            " 'Cleburne County': 14910,\n",
            " 'Coffee County': 52342,\n",
            " 'Colbert County': 55241,\n",
            " 'Conecuh County': 12067,\n",
            " 'Coosa County': 10663,\n",
            " 'Covington County': 37049,\n",
            " 'Crenshaw County': 13772,\n",
            " 'Cullman County': 83768,\n",
            " 'Dale County': 49172,\n",
            " 'Dallas County': 37196,\n",
            " 'DeKalb County': 71513,\n",
            " 'Elmore County': 81209,\n",
            " 'Escambia County': 36633,\n",
            " 'Etowah County': 102268,\n",
            " 'Fayette County': 16302,\n",
            " 'Franklin County': 31362,\n",
            " 'Geneva County': 26271,\n",
            " 'Greene County': 8111,\n",
            " 'Hale County': 14651,\n",
            " 'Henry County': 17205,\n",
            " 'Houston County': 105882,\n",
            " 'Jackson County': 51626,\n",
            " 'Jefferson County': 658573,\n",
            " 'Lamar County': 13805,\n",
            " 'Lauderdale County': 92729,\n",
            " 'Lawrence County': 32924,\n",
            " 'Lee County': 164542,\n",
            " 'Limestone County': 98915,\n",
            " 'Lowndes County': 9726,\n",
            " 'Macon County': 18068,\n",
            " 'Madison County': 372909,\n",
            " 'Marengo County': 18863,\n",
            " 'Marion County': 29709,\n",
            " 'Marshall County': 96774,\n",
            " 'Mobile County': 413210,\n",
            " 'Monroe County': 20733,\n",
            " 'Montgomery County': 226486,\n",
            " 'Morgan County': 119679,\n",
            " 'Perry County': 8923,\n",
            " 'Pickens County': 19930,\n",
            " 'Pike County': 33114,\n",
            " 'Randolph County': 22722,\n",
            " 'Russell County': 57961,\n",
            " 'Shelby County': 217702,\n",
            " 'St. Clair County': 89512,\n",
            " 'Sumter County': 12427,\n",
            " 'Talladega County': 79978,\n",
            " 'Tallapoosa County': 40367,\n",
            " 'Tuscaloosa County': 209355,\n",
            " 'Walker County': 63521,\n",
            " 'Washington County': 16326,\n",
            " 'Wilcox County': 10373,\n",
            " 'Winston County': 23629}\n"
          ]
        }
      ],
      "source": [
        "# show data for Alabama\n",
        "pprint(Alabama)"
      ]
    },
    {
      "cell_type": "markdown",
      "metadata": {
        "collapsed": false,
        "id": "lCl08nl97xHH"
      },
      "source": [
        "## 2. Get population estimates over a range of years\n",
        "\n",
        "We can use similar code as before, but now loop through different population estimate datasets by year. Here are the specific APIs used:\n",
        "\n",
        "Vintage 2015 Population Estimates: https://api.census.gov/data/2015/pep/population/examples.html\n",
        "\n",
        "Vintage 2016 Population Estimates: https://api.census.gov/data/2016/pep/population/examples.html\n",
        "\n",
        "Vintage 2017 Population Estimates: https://api.census.gov/data/2017/pep/population/examples.html"
      ]
    },
    {
      "cell_type": "code",
      "execution_count": 8,
      "metadata": {
        "id": "BSyA62O47xHH",
        "pycharm": {
          "name": "#%%\n"
        }
      },
      "outputs": [],
      "source": [
        "# first we must clear the global variables\n",
        "for states in state_ids:\n",
        "    stateName = states[0]\n",
        "    try:\n",
        "        del globals()[stateName]\n",
        "    except:\n",
        "        pass\n",
        "    globals()[stateName] = {}"
      ]
    },
    {
      "cell_type": "code",
      "execution_count": 9,
      "metadata": {
        "id": "uvJQlT-h7xHH",
        "pycharm": {
          "name": "#%%\n"
        }
      },
      "outputs": [],
      "source": [
        "for years in range(2015,2018): # goes through datasets for 2015,2016,2017\n",
        "    for states in state_ids: # using the state_ids from earlier\n",
        "        stateName = states[0]\n",
        "        request = requests.get(api+str(years)+\"/pep/population?get=GEONAME,POP&for=county:*&in=state:\"+states[1]+key).json()[1:]\n",
        "        sleep(1)\n",
        "        counties = []\n",
        "        countyPopulation = []\n",
        "        for county in request:\n",
        "            counties.append((county[0]).split(\", \")[0])\n",
        "            countyPopulation.append(int(county[1] or 'nan'))\n",
        "        globals()[stateName][years] = {counties[i]: countyPopulation[i] for i in range(len(counties))}"
      ]
    },
    {
      "cell_type": "code",
      "execution_count": 10,
      "metadata": {
        "colab": {
          "base_uri": "https://localhost:8080/"
        },
        "id": "ssjHpYD9w5_c",
        "outputId": "99f7f197-6bb9-40d1-ebc2-09092d75dc67",
        "tags": [
          "output_scroll"
        ]
      },
      "outputs": [
        {
          "name": "stdout",
          "output_type": "stream",
          "text": [
            "{2015: {'Autauga County': 55347,\n",
            "        'Baldwin County': 203709,\n",
            "        'Barbour County': 26489,\n",
            "        'Bibb County': 22583,\n",
            "        'Blount County': 57673,\n",
            "        'Bullock County': 10696,\n",
            "        'Butler County': 20154,\n",
            "        'Calhoun County': 115620,\n",
            "        'Chambers County': 34123,\n",
            "        'Cherokee County': 25859,\n",
            "        'Chilton County': 43943,\n",
            "        'Choctaw County': 13170,\n",
            "        'Clarke County': 24675,\n",
            "        'Clay County': 13555,\n",
            "        'Cleburne County': 15018,\n",
            "        'Coffee County': 51211,\n",
            "        'Colbert County': 54354,\n",
            "        'Conecuh County': 12672,\n",
            "        'Coosa County': 10724,\n",
            "        'Covington County': 37835,\n",
            "        'Crenshaw County': 13963,\n",
            "        'Cullman County': 82005,\n",
            "        'Dale County': 49565,\n",
            "        'Dallas County': 41131,\n",
            "        'DeKalb County': 71130,\n",
            "        'Elmore County': 81468,\n",
            "        'Escambia County': 37789,\n",
            "        'Etowah County': 103057,\n",
            "        'Fayette County': 16759,\n",
            "        'Franklin County': 31696,\n",
            "        'Geneva County': 26777,\n",
            "        'Greene County': 8479,\n",
            "        'Hale County': 15068,\n",
            "        'Henry County': 17221,\n",
            "        'Houston County': 104173,\n",
            "        'Jackson County': 52419,\n",
            "        'Jefferson County': 660367,\n",
            "        'Lamar County': 13886,\n",
            "        'Lauderdale County': 92596,\n",
            "        'Lawrence County': 33115,\n",
            "        'Lee County': 156993,\n",
            "        'Limestone County': 91663,\n",
            "        'Lowndes County': 10458,\n",
            "        'Macon County': 19105,\n",
            "        'Madison County': 353089,\n",
            "        'Marengo County': 20028,\n",
            "        'Marion County': 30168,\n",
            "        'Marshall County': 94725,\n",
            "        'Mobile County': 415395,\n",
            "        'Monroe County': 21673,\n",
            "        'Montgomery County': 226519,\n",
            "        'Morgan County': 119565,\n",
            "        'Perry County': 9652,\n",
            "        'Pickens County': 20864,\n",
            "        'Pike County': 33046,\n",
            "        'Randolph County': 22696,\n",
            "        'Russell County': 59660,\n",
            "        'Shelby County': 208713,\n",
            "        'St. Clair County': 87074,\n",
            "        'Sumter County': 13103,\n",
            "        'Talladega County': 80862,\n",
            "        'Tallapoosa County': 40844,\n",
            "        'Tuscaloosa County': 203976,\n",
            "        'Walker County': 65294,\n",
            "        'Washington County': 16804,\n",
            "        'Wilcox County': 11059,\n",
            "        'Winston County': 23877},\n",
            " 2016: {'Autauga County': 55416,\n",
            "        'Baldwin County': 208563,\n",
            "        'Barbour County': 25965,\n",
            "        'Bibb County': 22643,\n",
            "        'Blount County': 57704,\n",
            "        'Bullock County': 10362,\n",
            "        'Butler County': 19998,\n",
            "        'Calhoun County': 114611,\n",
            "        'Chambers County': 33843,\n",
            "        'Cherokee County': 25725,\n",
            "        'Chilton County': 43941,\n",
            "        'Choctaw County': 12993,\n",
            "        'Clarke County': 24392,\n",
            "        'Clay County': 13492,\n",
            "        'Cleburne County': 14924,\n",
            "        'Coffee County': 51226,\n",
            "        'Colbert County': 54216,\n",
            "        'Conecuh County': 12395,\n",
            "        'Coosa County': 10581,\n",
            "        'Covington County': 37458,\n",
            "        'Crenshaw County': 13913,\n",
            "        'Cullman County': 82471,\n",
            "        'Dale County': 49226,\n",
            "        'Dallas County': 40008,\n",
            "        'DeKalb County': 70900,\n",
            "        'Elmore County': 81799,\n",
            "        'Escambia County': 37728,\n",
            "        'Etowah County': 102564,\n",
            "        'Fayette County': 16546,\n",
            "        'Franklin County': 31628,\n",
            "        'Geneva County': 26614,\n",
            "        'Greene County': 8422,\n",
            "        'Hale County': 14952,\n",
            "        'Henry County': 17164,\n",
            "        'Houston County': 104056,\n",
            "        'Jackson County': 52138,\n",
            "        'Jefferson County': 659521,\n",
            "        'Lamar County': 13918,\n",
            "        'Lauderdale County': 92318,\n",
            "        'Lawrence County': 33244,\n",
            "        'Lee County': 158991,\n",
            "        'Limestone County': 92753,\n",
            "        'Lowndes County': 10358,\n",
            "        'Macon County': 18963,\n",
            "        'Madison County': 356967,\n",
            "        'Marengo County': 19673,\n",
            "        'Marion County': 29998,\n",
            "        'Marshall County': 95157,\n",
            "        'Mobile County': 414836,\n",
            "        'Monroe County': 21530,\n",
            "        'Montgomery County': 226349,\n",
            "        'Morgan County': 119012,\n",
            "        'Perry County': 9574,\n",
            "        'Pickens County': 20324,\n",
            "        'Pike County': 33286,\n",
            "        'Randolph County': 22652,\n",
            "        'Russell County': 58172,\n",
            "        'Shelby County': 210622,\n",
            "        'St. Clair County': 88019,\n",
            "        'Sumter County': 13040,\n",
            "        'Talladega County': 80103,\n",
            "        'Tallapoosa County': 40727,\n",
            "        'Tuscaloosa County': 206102,\n",
            "        'Walker County': 64967,\n",
            "        'Washington County': 16756,\n",
            "        'Wilcox County': 10986,\n",
            "        'Winston County': 23805},\n",
            " 2017: {'Autauga County': 55504,\n",
            "        'Baldwin County': 212628,\n",
            "        'Barbour County': 25270,\n",
            "        'Bibb County': 22668,\n",
            "        'Blount County': 58013,\n",
            "        'Bullock County': 10309,\n",
            "        'Butler County': 19825,\n",
            "        'Calhoun County': 114728,\n",
            "        'Chambers County': 33713,\n",
            "        'Cherokee County': 25857,\n",
            "        'Chilton County': 44067,\n",
            "        'Choctaw County': 12945,\n",
            "        'Clarke County': 24083,\n",
            "        'Clay County': 13367,\n",
            "        'Cleburne County': 14900,\n",
            "        'Coffee County': 51874,\n",
            "        'Colbert County': 54500,\n",
            "        'Conecuh County': 12469,\n",
            "        'Coosa County': 10754,\n",
            "        'Covington County': 37092,\n",
            "        'Crenshaw County': 13871,\n",
            "        'Cullman County': 82755,\n",
            "        'Dale County': 49226,\n",
            "        'Dallas County': 39215,\n",
            "        'DeKalb County': 71617,\n",
            "        'Elmore County': 81677,\n",
            "        'Escambia County': 37447,\n",
            "        'Etowah County': 102755,\n",
            "        'Fayette County': 16468,\n",
            "        'Franklin County': 31495,\n",
            "        'Geneva County': 26421,\n",
            "        'Greene County': 8330,\n",
            "        'Hale County': 14812,\n",
            "        'Henry County': 17147,\n",
            "        'Houston County': 104346,\n",
            "        'Jackson County': 51909,\n",
            "        'Jefferson County': 659197,\n",
            "        'Lamar County': 13946,\n",
            "        'Lauderdale County': 92538,\n",
            "        'Lawrence County': 33049,\n",
            "        'Lee County': 161604,\n",
            "        'Limestone County': 94402,\n",
            "        'Lowndes County': 10076,\n",
            "        'Macon County': 18755,\n",
            "        'Madison County': 361046,\n",
            "        'Marengo County': 19375,\n",
            "        'Marion County': 29833,\n",
            "        'Marshall County': 95548,\n",
            "        'Mobile County': 413955,\n",
            "        'Monroe County': 21327,\n",
            "        'Montgomery County': 226646,\n",
            "        'Morgan County': 118818,\n",
            "        'Perry County': 9339,\n",
            "        'Pickens County': 20176,\n",
            "        'Pike County': 33267,\n",
            "        'Randolph County': 22670,\n",
            "        'Russell County': 57045,\n",
            "        'Shelby County': 213605,\n",
            "        'St. Clair County': 88199,\n",
            "        'Sumter County': 12687,\n",
            "        'Talladega County': 80065,\n",
            "        'Tallapoosa County': 40681,\n",
            "        'Tuscaloosa County': 207811,\n",
            "        'Walker County': 64058,\n",
            "        'Washington County': 16531,\n",
            "        'Wilcox County': 10719,\n",
            "        'Winston County': 23722}}\n"
          ]
        }
      ],
      "source": [
        "# show Alabama data\n",
        "pprint(Alabama)"
      ]
    },
    {
      "cell_type": "markdown",
      "metadata": {
        "collapsed": false,
        "id": "Ndh5eX9x7xHH",
        "pycharm": {
          "name": "#%% md\n"
        }
      },
      "source": [
        "## 3. Plot Population Change\n",
        "\n",
        "This data is based off the 2021 Population Estimates dataset:\n",
        "\n",
        "https://api.census.gov/data/2021/pep/population/variables.html\n",
        "\n",
        "The percentage change in population is from July 1, 2020 to July 1, 2021 for states (includes Washington, D.C. and Puerto Rico)"
      ]
    },
    {
      "cell_type": "code",
      "execution_count": 11,
      "metadata": {
        "colab": {
          "base_uri": "https://localhost:8080/"
        },
        "id": "jn7pdyg77xHJ",
        "outputId": "2098fc54-194c-419a-c1bb-417bc8aad1f4",
        "pycharm": {
          "name": "#%%\n"
        }
      },
      "outputs": [
        {
          "name": "stdout",
          "output_type": "stream",
          "text": [
            "52\n"
          ]
        }
      ],
      "source": [
        "request = requests.get(api+\"2021/pep/population?get=NAME,POP_2021,PPOPCHG_2021&for=state:*\"+key).json()[1:]\n",
        "request.sort()\n",
        "print(len(request)) # shows the size of data"
      ]
    },
    {
      "cell_type": "code",
      "execution_count": 12,
      "metadata": {
        "colab": {
          "base_uri": "https://localhost:8080/"
        },
        "id": "KUgxGT1nPBgB",
        "outputId": "80bb07df-d03a-4668-a525-641a1eb40327"
      },
      "outputs": [
        {
          "name": "stdout",
          "output_type": "stream",
          "text": [
            "[['Alabama', '5039877', '0.2999918604', '01'],\n",
            " ['Alaska', '732673', '0.0316749062', '02'],\n",
            " ['Arizona', '7276316', '1.3698828613', '04'],\n",
            " ['Arkansas', '3025891', '0.4534511286', '05'],\n",
            " ['California', '39237836', '-0.6630474360', '06'],\n",
            " ['Colorado', '5812069', '0.4799364073', '08'],\n",
            " ['Connecticut', '3605597', '0.1482392938', '09'],\n",
            " ['Delaware', '1003384', '1.1592057958', '10'],\n",
            " ['District of Columbia', '670050', '-2.9043911470', '11'],\n",
            " ['Florida', '21781128', '0.9791222337', '12']]\n"
          ]
        }
      ],
      "source": [
        "pprint(request[0:10]) # shows first 10"
      ]
    },
    {
      "cell_type": "code",
      "execution_count": 13,
      "metadata": {
        "id": "y_qfusMv7xHJ",
        "pycharm": {
          "name": "#%%\n"
        }
      },
      "outputs": [],
      "source": [
        "# prepare data for plotting\n",
        "stateName = []\n",
        "population = []\n",
        "populationChange = []\n",
        "for states in request:\n",
        "    stateName.append(states[0])\n",
        "    population.append(int(states[1]) or 'nan')\n",
        "    populationChange.append(float(states[2] or 'nan'))"
      ]
    },
    {
      "cell_type": "code",
      "execution_count": 14,
      "metadata": {
        "colab": {
          "base_uri": "https://localhost:8080/",
          "height": 893
        },
        "id": "AoGehTFh7xHK",
        "outputId": "ea97cb58-1a43-4aae-8912-11310fa9ce26",
        "pycharm": {
          "name": "#%%\n"
        }
      },
      "outputs": [
        {
          "data": {
            "image/png": "[encoded data removed]",
            "text/plain": [
              "<Figure size 720x1080 with 1 Axes>"
            ]
          },
          "metadata": {
            "needs_background": "light"
          },
          "output_type": "display_data"
        }
      ],
      "source": [
        "# plot data\n",
        "import matplotlib.pyplot as plt\n",
        "plt.figure(figsize=(10,15))\n",
        "plt.scatter(populationChange, stateName, c=\"blue\", alpha=0.5, label=\"states\")\n",
        "plt.title(\"Population Change from 2020 to 2021\", c=\"k\")\n",
        "plt.xlabel(\"% Population Change\",c=\"k\")\n",
        "plt.ylabel(\"States (including Washington DC and Puerto Rico)\")\n",
        "plt.show()"
      ]
    }
  ],
  "metadata": {
    "colab": {
      "name": "python_uscensus.ipynb",
      "provenance": [],
      "toc_visible": true
    },
    "kernelspec": {
      "display_name": "Python 3",
      "language": "python",
      "name": "python3"
    },
    "language_info": {
      "codemirror_mode": {
        "name": "ipython",
        "version": 2
      },
      "file_extension": ".py",
      "mimetype": "text/x-python",
      "name": "python",
      "nbconvert_exporter": "python",
      "pygments_lexer": "ipython2",
      "version": "2.7.6"
    }
  },
  "nbformat": 4,
  "nbformat_minor": 0
}
