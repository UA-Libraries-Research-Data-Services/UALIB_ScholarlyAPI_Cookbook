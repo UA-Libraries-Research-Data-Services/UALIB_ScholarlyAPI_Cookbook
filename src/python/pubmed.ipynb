{
 "cells": [
  {
   "cell_type": "markdown",
   "metadata": {
    "pycharm": {
     "name": "#%% md\n"
    }
   },
   "source": [
    "# PubMed API in Python\n",
    "\n",
    "by Avery Fernandez\n",
    "\n",
    "These recipe examples were tested on August 3, 2022.\n",
    "\n",
    "**NCBI Entrez Programming Utilities documentation:** https://www.ncbi.nlm.nih.gov/books/NBK25501/\n",
    "\n",
    "**Please see NCBI's Data Usage Policies and Disclaimers:** https://www.ncbi.nlm.nih.gov/home/about/policies/"
   ]
  },
  {
   "cell_type": "markdown",
   "metadata": {
    "pycharm": {
     "name": "#%% md\n"
    }
   },
   "source": [
    "## 1. Basic PubMed API call\n",
    "First, import libraries needed to pull data from the API:"
   ]
  },
  {
   "cell_type": "code",
   "execution_count": 6,
   "metadata": {
    "collapsed": false,
    "jupyter": {
     "outputs_hidden": false
    },
    "pycharm": {
     "name": "#%%\n"
    }
   },
   "outputs": [],
   "source": [
    "from time import sleep\n",
    "import requests\n",
    "from pprint import pprint"
   ]
  },
  {
   "cell_type": "markdown",
   "metadata": {
    "pycharm": {
     "name": "#%% md\n"
    }
   },
   "source": [
    "For calling individual articles and publications, we will need to use this api url."
   ]
  },
  {
   "cell_type": "code",
   "execution_count": 7,
   "metadata": {
    "collapsed": false,
    "jupyter": {
     "outputs_hidden": false
    },
    "pycharm": {
     "name": "#%%\n"
    }
   },
   "outputs": [],
   "source": [
    "summary = 'https://eutils.ncbi.nlm.nih.gov/entrez/eutils/esummary.fcgi?db=pubmed&'"
   ]
  },
  {
   "cell_type": "markdown",
   "metadata": {
    "pycharm": {
     "name": "#%% md\n"
    }
   },
   "source": [
    "The article we are requesting has PubMed ID: 27933103\n",
    "\n",
    "**retmode** in the web API URL specifies the file format, in this example, we will use json."
   ]
  },
  {
   "cell_type": "code",
   "execution_count": 8,
   "metadata": {
    "collapsed": false,
    "jupyter": {
     "outputs_hidden": false
    },
    "pycharm": {
     "name": "#%%\n"
    },
    "tags": [
     "output_scroll"
    ]
   },
   "outputs": [
    {
     "name": "stdout",
     "output_type": "stream",
     "text": [
      "{'header': {'type': 'esummary', 'version': '0.3'},\n",
      " 'result': {'27933103': {'articleids': [{'idtype': 'pubmed',\n",
      "                                         'idtypen': 1,\n",
      "                                         'value': '27933103'},\n",
      "                                        {'idtype': 'doi',\n",
      "                                         'idtypen': 3,\n",
      "                                         'value': '10.1186/s13321-016-0181-z'},\n",
      "                                        {'idtype': 'pii',\n",
      "                                         'idtypen': 4,\n",
      "                                         'value': '181'},\n",
      "                                        {'idtype': 'pmc',\n",
      "                                         'idtypen': 8,\n",
      "                                         'value': 'PMC5122160'},\n",
      "                                        {'idtype': 'rid',\n",
      "                                         'idtypen': 8,\n",
      "                                         'value': '27933103'},\n",
      "                                        {'idtype': 'eid',\n",
      "                                         'idtypen': 8,\n",
      "                                         'value': '27933103'},\n",
      "                                        {'idtype': 'pmcid',\n",
      "                                         'idtypen': 5,\n",
      "                                         'value': 'pmc-id: PMC5122160;'}],\n",
      "                         'attributes': ['Has Abstract'],\n",
      "                         'authors': [{'authtype': 'Author',\n",
      "                                      'clusterid': '',\n",
      "                                      'name': 'Scalfani VF'},\n",
      "                                     {'authtype': 'Author',\n",
      "                                      'clusterid': '',\n",
      "                                      'name': 'Williams AJ'},\n",
      "                                     {'authtype': 'Author',\n",
      "                                      'clusterid': '',\n",
      "                                      'name': 'Tkachenko V'},\n",
      "                                     {'authtype': 'Author',\n",
      "                                      'clusterid': '',\n",
      "                                      'name': 'Karapetyan K'},\n",
      "                                     {'authtype': 'Author',\n",
      "                                      'clusterid': '',\n",
      "                                      'name': 'Pshenichnov A'},\n",
      "                                     {'authtype': 'Author',\n",
      "                                      'clusterid': '',\n",
      "                                      'name': 'Hanson RM'},\n",
      "                                     {'authtype': 'Author',\n",
      "                                      'clusterid': '',\n",
      "                                      'name': 'Liddie JM'},\n",
      "                                     {'authtype': 'Author',\n",
      "                                      'clusterid': '',\n",
      "                                      'name': 'Bara JE'}],\n",
      "                         'availablefromurl': '',\n",
      "                         'bookname': '',\n",
      "                         'booktitle': '',\n",
      "                         'chapter': '',\n",
      "                         'doccontriblist': [],\n",
      "                         'docdate': '',\n",
      "                         'doctype': 'citation',\n",
      "                         'edition': '',\n",
      "                         'elocationid': '',\n",
      "                         'epubdate': '2016 Nov 23',\n",
      "                         'essn': '1758-2946',\n",
      "                         'fulljournalname': 'Journal of cheminformatics',\n",
      "                         'history': [{'date': '2016/08/15 00:00',\n",
      "                                      'pubstatus': 'received'},\n",
      "                                     {'date': '2016/11/16 00:00',\n",
      "                                      'pubstatus': 'accepted'},\n",
      "                                     {'date': '2016/12/10 06:00',\n",
      "                                      'pubstatus': 'entrez'},\n",
      "                                     {'date': '2016/12/10 06:00',\n",
      "                                      'pubstatus': 'pubmed'},\n",
      "                                     {'date': '2016/12/10 06:01',\n",
      "                                      'pubstatus': 'medline'}],\n",
      "                         'issn': '',\n",
      "                         'issue': '',\n",
      "                         'lang': ['eng'],\n",
      "                         'lastauthor': 'Bara JE',\n",
      "                         'locationlabel': '',\n",
      "                         'medium': '',\n",
      "                         'nlmuniqueid': '101516718',\n",
      "                         'pages': '66',\n",
      "                         'pmcrefcount': 7,\n",
      "                         'pubdate': '2016',\n",
      "                         'publisherlocation': '',\n",
      "                         'publishername': '',\n",
      "                         'pubstatus': '258',\n",
      "                         'pubtype': ['Journal Article'],\n",
      "                         'recordstatus': 'PubMed',\n",
      "                         'references': [],\n",
      "                         'reportnumber': '',\n",
      "                         'sortfirstauthor': 'Scalfani VF',\n",
      "                         'sortpubdate': '2016/11/23 00:00',\n",
      "                         'sorttitle': 'programmatic conversion of crystal '\n",
      "                                      'structures into 3d printable files '\n",
      "                                      'using jmol',\n",
      "                         'source': 'J Cheminform',\n",
      "                         'srccontriblist': [],\n",
      "                         'srcdate': '',\n",
      "                         'title': 'Programmatic conversion of crystal '\n",
      "                                  'structures into 3D printable files using '\n",
      "                                  'Jmol.',\n",
      "                         'uid': '27933103',\n",
      "                         'vernaculartitle': '',\n",
      "                         'volume': '8'},\n",
      "            'uids': ['27933103']}}\n"
     ]
    }
   ],
   "source": [
    "url = summary+'id=27933103&retmode=json'\n",
    "data_call = requests.get(url).json()\n",
    "pprint(data_call)"
   ]
  },
  {
   "cell_type": "markdown",
   "metadata": {
    "pycharm": {
     "name": "#%% md\n"
    }
   },
   "source": [
    "Data extraction: Let us try to extract the authors of the paper\n",
    "\n",
    "1) Index to where the authors are stored\n",
    "2) Create a loop to get authors\n",
    "3) pull the author names"
   ]
  },
  {
   "cell_type": "code",
   "execution_count": 9,
   "metadata": {
    "collapsed": false,
    "jupyter": {
     "outputs_hidden": false
    },
    "pycharm": {
     "name": "#%%\n"
    }
   },
   "outputs": [
    {
     "name": "stdout",
     "output_type": "stream",
     "text": [
      "[{'authtype': 'Author', 'clusterid': '', 'name': 'Scalfani VF'},\n",
      " {'authtype': 'Author', 'clusterid': '', 'name': 'Williams AJ'},\n",
      " {'authtype': 'Author', 'clusterid': '', 'name': 'Tkachenko V'},\n",
      " {'authtype': 'Author', 'clusterid': '', 'name': 'Karapetyan K'},\n",
      " {'authtype': 'Author', 'clusterid': '', 'name': 'Pshenichnov A'},\n",
      " {'authtype': 'Author', 'clusterid': '', 'name': 'Hanson RM'},\n",
      " {'authtype': 'Author', 'clusterid': '', 'name': 'Liddie JM'},\n",
      " {'authtype': 'Author', 'clusterid': '', 'name': 'Bara JE'}]\n"
     ]
    }
   ],
   "source": [
    "# Step 1\n",
    "index = data_call[\"result\"][\"27933103\"][\"authors\"]\n",
    "pprint(index)"
   ]
  },
  {
   "cell_type": "code",
   "execution_count": 10,
   "metadata": {
    "collapsed": false,
    "jupyter": {
     "outputs_hidden": false
    },
    "pycharm": {
     "name": "#%%\n"
    }
   },
   "outputs": [
    {
     "name": "stdout",
     "output_type": "stream",
     "text": [
      "range(0, 8)\n"
     ]
    }
   ],
   "source": [
    "# Step 2\n",
    "authorRange = range(len(data_call[\"result\"][\"27933103\"][\"authors\"]))\n",
    "pprint(authorRange)"
   ]
  },
  {
   "cell_type": "code",
   "execution_count": 11,
   "metadata": {
    "collapsed": false,
    "jupyter": {
     "outputs_hidden": false
    },
    "pycharm": {
     "name": "#%%\n"
    }
   },
   "outputs": [
    {
     "name": "stdout",
     "output_type": "stream",
     "text": [
      "'Scalfani VF'\n",
      "'Williams AJ'\n",
      "'Tkachenko V'\n",
      "'Karapetyan K'\n",
      "'Pshenichnov A'\n",
      "'Hanson RM'\n",
      "'Liddie JM'\n",
      "'Bara JE'\n"
     ]
    }
   ],
   "source": [
    "# Step 3\n",
    "for authors in range(len(data_call[\"result\"][\"27933103\"][\"authors\"])):\n",
    "    pprint(data_call[\"result\"][\"27933103\"][\"authors\"][authors][\"name\"])"
   ]
  },
  {
   "cell_type": "markdown",
   "metadata": {
    "pycharm": {
     "name": "#%% md\n"
    }
   },
   "source": [
    "## 2. Request data using a Loop\n",
    "\n",
    "First, create a list of PubMed IDs:"
   ]
  },
  {
   "cell_type": "code",
   "execution_count": 12,
   "metadata": {
    "collapsed": false,
    "jupyter": {
     "outputs_hidden": false
    },
    "pycharm": {
     "name": "#%%\n"
    }
   },
   "outputs": [],
   "source": [
    "idList = [34813985, 34813932, 34813684, 34813661, 34813372, 34813140, 34813072]"
   ]
  },
  {
   "cell_type": "code",
   "execution_count": 13,
   "metadata": {
    "collapsed": false,
    "jupyter": {
     "outputs_hidden": false
    },
    "pycharm": {
     "name": "#%%\n"
    }
   },
   "outputs": [
    {
     "name": "stdout",
     "output_type": "stream",
     "text": [
      "34813985\n",
      "34813932\n",
      "34813684\n",
      "34813661\n",
      "34813372\n",
      "34813140\n",
      "34813072\n"
     ]
    }
   ],
   "source": [
    "# get each id\n",
    "for ids in idList:\n",
    "    pprint(ids)"
   ]
  },
  {
   "cell_type": "markdown",
   "metadata": {
    "pycharm": {
     "name": "#%% md\n"
    }
   },
   "source": [
    "Now we have a way to print each id in a loop, but we need to store it, instead of printing. One way to achieve this with python is by using dictionaries. Python dictionaries work by storing a value and associating it with a specific key. We can establish dictionaries two ways. The first is:"
   ]
  },
  {
   "cell_type": "code",
   "execution_count": 14,
   "metadata": {
    "collapsed": false,
    "jupyter": {
     "outputs_hidden": false
    },
    "pycharm": {
     "name": "#%%\n"
    }
   },
   "outputs": [
    {
     "name": "stdout",
     "output_type": "stream",
     "text": [
      "'something'\n"
     ]
    }
   ],
   "source": [
    "dictionary = {\"data\": \"something\"}\n",
    "pprint(dictionary[\"data\"])"
   ]
  },
  {
   "cell_type": "markdown",
   "metadata": {
    "pycharm": {
     "name": "#%% md\n"
    }
   },
   "source": [
    "This is great, but it doesn't allow us to store new data.\n",
    "\n",
    "So let's try the second way:"
   ]
  },
  {
   "cell_type": "code",
   "execution_count": 15,
   "metadata": {
    "collapsed": false,
    "jupyter": {
     "outputs_hidden": false
    },
    "pycharm": {
     "name": "#%%\n"
    }
   },
   "outputs": [
    {
     "name": "stdout",
     "output_type": "stream",
     "text": [
      "'something'\n"
     ]
    }
   ],
   "source": [
    "dictionary = {}\n",
    "dictionary[\"data\"] = \"something\"\n",
    "pprint(dictionary[\"data\"])"
   ]
  },
  {
   "cell_type": "markdown",
   "metadata": {
    "pycharm": {
     "name": "#%% md\n"
    }
   },
   "source": [
    "Now we can go about acquiring the data from PubMed and saving the data in a dictionary, called multiPapers:"
   ]
  },
  {
   "cell_type": "code",
   "execution_count": 16,
   "metadata": {
    "collapsed": false,
    "jupyter": {
     "outputs_hidden": false
    },
    "pycharm": {
     "name": "#%%\n"
    }
   },
   "outputs": [],
   "source": [
    "multiPapers = {}\n",
    "for ids in idList:\n",
    "    url = summary+'id='+ str(ids) + '&retmode=json'\n",
    "    multiPapers[ids] = requests.get(url).json()\n",
    "    sleep(1) # add a delay between API calls"
   ]
  },
  {
   "cell_type": "code",
   "execution_count": 17,
   "metadata": {
    "collapsed": false,
    "jupyter": {
     "outputs_hidden": false
    },
    "pycharm": {
     "name": "#%%\n"
    },
    "tags": [
     "output_scroll"
    ]
   },
   "outputs": [
    {
     "name": "stdout",
     "output_type": "stream",
     "text": [
      "{'header': {'type': 'esummary', 'version': '0.3'},\n",
      " 'result': {'34813985': {'articleids': [{'idtype': 'pubmed',\n",
      "                                         'idtypen': 1,\n",
      "                                         'value': '34813985'},\n",
      "                                        {'idtype': 'pii',\n",
      "                                         'idtypen': 4,\n",
      "                                         'value': 'S0143-4160(21)00154-8'},\n",
      "                                        {'idtype': 'doi',\n",
      "                                         'idtypen': 3,\n",
      "                                         'value': '10.1016/j.ceca.2021.102500'},\n",
      "                                        {'idtype': 'pmc',\n",
      "                                         'idtypen': 8,\n",
      "                                         'value': 'PMC8752506'},\n",
      "                                        {'idtype': 'mid',\n",
      "                                         'idtypen': 8,\n",
      "                                         'value': 'NIHMS1760117'},\n",
      "                                        {'idtype': 'rid',\n",
      "                                         'idtypen': 8,\n",
      "                                         'value': '34813985'},\n",
      "                                        {'idtype': 'eid',\n",
      "                                         'idtypen': 8,\n",
      "                                         'value': '34813985'},\n",
      "                                        {'idtype': 'pmcid',\n",
      "                                         'idtypen': 5,\n",
      "                                         'value': 'pmc-id: '\n",
      "                                                  'PMC8752506;manuscript-id: '\n",
      "                                                  'NIHMS1760117;embargo-date: '\n",
      "                                                  '2023/01/01;'}],\n",
      "                         'attributes': ['Has Abstract'],\n",
      "                         'authors': [{'authtype': 'Author',\n",
      "                                      'clusterid': '',\n",
      "                                      'name': 'Fernández-Morales JC'},\n",
      "                                     {'authtype': 'Author',\n",
      "                                      'clusterid': '',\n",
      "                                      'name': 'Xia Y'},\n",
      "                                     {'authtype': 'Author',\n",
      "                                      'clusterid': '',\n",
      "                                      'name': 'Renzo TJ'},\n",
      "                                     {'authtype': 'Author',\n",
      "                                      'clusterid': '',\n",
      "                                      'name': 'Zhang XH'},\n",
      "                                     {'authtype': 'Author',\n",
      "                                      'clusterid': '',\n",
      "                                      'name': 'Morad M'}],\n",
      "                         'availablefromurl': '',\n",
      "                         'bookname': '',\n",
      "                         'booktitle': '',\n",
      "                         'chapter': '',\n",
      "                         'doccontriblist': [],\n",
      "                         'docdate': '',\n",
      "                         'doctype': 'citation',\n",
      "                         'edition': '',\n",
      "                         'elocationid': 'doi: 10.1016/j.ceca.2021.102500',\n",
      "                         'epubdate': '2021 Nov 8',\n",
      "                         'essn': '1532-1991',\n",
      "                         'fulljournalname': 'Cell calcium',\n",
      "                         'history': [{'date': '2021/08/04 00:00',\n",
      "                                      'pubstatus': 'received'},\n",
      "                                     {'date': '2021/11/02 00:00',\n",
      "                                      'pubstatus': 'revised'},\n",
      "                                     {'date': '2021/11/04 00:00',\n",
      "                                      'pubstatus': 'accepted'},\n",
      "                                     {'date': '2023/01/01 00:00',\n",
      "                                      'pubstatus': 'pmc-release'},\n",
      "                                     {'date': '2021/11/24 06:00',\n",
      "                                      'pubstatus': 'pubmed'},\n",
      "                                     {'date': '2022/02/01 06:00',\n",
      "                                      'pubstatus': 'medline'},\n",
      "                                     {'date': '2021/11/23 20:17',\n",
      "                                      'pubstatus': 'entrez'}],\n",
      "                         'issn': '0143-4160',\n",
      "                         'issue': '',\n",
      "                         'lang': ['eng'],\n",
      "                         'lastauthor': 'Morad M',\n",
      "                         'locationlabel': '',\n",
      "                         'medium': '',\n",
      "                         'nlmuniqueid': '8006226',\n",
      "                         'pages': '102500',\n",
      "                         'pmcrefcount': 2,\n",
      "                         'pubdate': '2022 Jan',\n",
      "                         'publisherlocation': '',\n",
      "                         'publishername': '',\n",
      "                         'pubstatus': '256',\n",
      "                         'pubtype': ['Journal Article'],\n",
      "                         'recordstatus': 'PubMed - indexed for MEDLINE',\n",
      "                         'references': [],\n",
      "                         'reportnumber': '',\n",
      "                         'sortfirstauthor': 'Fernández-Morales JC',\n",
      "                         'sortpubdate': '2022/01/01 00:00',\n",
      "                         'sorttitle': 'mutation in ryr2 fkbp binding site '\n",
      "                                      'alters ca sup 2 sup signaling modestly '\n",
      "                                      'but increases arrhythmogenesis in human '\n",
      "                                      'stem cells derived cardiomyocytes',\n",
      "                         'source': 'Cell Calcium',\n",
      "                         'srccontriblist': [],\n",
      "                         'srcdate': '',\n",
      "                         'title': 'Mutation in RyR2-FKBP Binding site alters '\n",
      "                                  'Ca<sup>2+</sup> signaling modestly but '\n",
      "                                  'increases \"arrhythmogenesis\" in human stem '\n",
      "                                  'cells derived cardiomyocytes.',\n",
      "                         'uid': '34813985',\n",
      "                         'vernaculartitle': '',\n",
      "                         'volume': '101'},\n",
      "            'uids': ['34813985']}}\n"
     ]
    }
   ],
   "source": [
    "pprint(multiPapers[34813985]) # view first one"
   ]
  },
  {
   "cell_type": "code",
   "execution_count": 18,
   "metadata": {
    "collapsed": false,
    "jupyter": {
     "outputs_hidden": false
    },
    "pycharm": {
     "name": "#%%\n"
    }
   },
   "outputs": [
    {
     "name": "stdout",
     "output_type": "stream",
     "text": [
      "'Cell Calcium'\n",
      "'Methods'\n",
      "'FEBS J'\n",
      "'Dev Growth Differ'\n",
      "'CRISPR J'\n",
      "'Chembiochem'\n",
      "'Methods Mol Biol'\n"
     ]
    }
   ],
   "source": [
    "# Get title for each journal\n",
    "for ids in idList:\n",
    "    pprint(multiPapers[ids][\"result\"][str(ids)][\"source\"])"
   ]
  },
  {
   "cell_type": "markdown",
   "metadata": {
    "pycharm": {
     "name": "#%% md\n"
    }
   },
   "source": [
    "## 3. PubMed API Calls with Requests & Parameters\n",
    "\n",
    "For searching for articles using search term(s), we will need to use this api url:"
   ]
  },
  {
   "cell_type": "code",
   "execution_count": 19,
   "metadata": {
    "collapsed": false,
    "jupyter": {
     "outputs_hidden": false
    },
    "pycharm": {
     "name": "#%%\n"
    }
   },
   "outputs": [],
   "source": [
    "search = 'https://eutils.ncbi.nlm.nih.gov/entrez/eutils/esearch.fcgi?db=pubmed&'"
   ]
  },
  {
   "cell_type": "markdown",
   "metadata": {
    "pycharm": {
     "name": "#%% md\n"
    }
   },
   "source": [
    "when searching through the articles, we are given a few of ways of filtering the data.\n",
    "\n",
    "A list of all the available parameters for these requests can be found in the official NCBI documentation: https://www.ncbi.nlm.nih.gov/books/NBK25499/\n",
    "\n",
    "```\n",
    "db=<database>\n",
    "```\n",
    "we will be using the pubmed database\n",
    "\n",
    "```\n",
    "term=<searchQuery>\n",
    "```\n",
    "we can use term to search data, just make sure to replace spaces with +"
   ]
  },
  {
   "cell_type": "markdown",
   "metadata": {
    "pycharm": {
     "name": "#%% md\n"
    }
   },
   "source": [
    "We can, for example, use a query to search PubMed, such as \"neuroscience intervention learning\":"
   ]
  },
  {
   "cell_type": "code",
   "execution_count": 20,
   "metadata": {
    "collapsed": false,
    "jupyter": {
     "outputs_hidden": false
    },
    "pycharm": {
     "name": "#%%\n"
    }
   },
   "outputs": [
    {
     "name": "stdout",
     "output_type": "stream",
     "text": [
      "{'esearchresult': {'count': '19286',\n",
      "                   'idlist': ['35917919',\n",
      "                              '35916866',\n",
      "                              '35914440',\n",
      "                              '35911084',\n",
      "                              '35910354',\n",
      "                              '35910307',\n",
      "                              '35910264',\n",
      "                              '35910196',\n",
      "                              '35910192',\n",
      "                              '35909217',\n",
      "                              '35908308',\n",
      "                              '35908254',\n",
      "                              '35907374',\n",
      "                              '35905809',\n",
      "                              '35905111',\n",
      "                              '35904092',\n",
      "                              '35903787',\n",
      "                              '35903114',\n",
      "                              '35899379',\n",
      "                              '35899205'],\n",
      "                   'querytranslation': '(\"neurosciences\"[MeSH Terms] OR '\n",
      "                                       '\"neurosciences\"[All Fields] OR '\n",
      "                                       '\"neuroscience\"[All Fields]) AND '\n",
      "                                       '(\"methods\"[MeSH Terms] OR '\n",
      "                                       '\"methods\"[All Fields] OR '\n",
      "                                       '\"intervention\"[All Fields]) AND '\n",
      "                                       '(\"learning\"[MeSH Terms] OR '\n",
      "                                       '\"learning\"[All Fields])',\n",
      "                   'retmax': '20',\n",
      "                   'retstart': '0',\n",
      "                   'translationset': [{'from': 'intervention',\n",
      "                                       'to': '\"methods\"[MeSH Terms] OR '\n",
      "                                             '\"methods\"[All Fields] OR '\n",
      "                                             '\"intervention\"[All Fields]'},\n",
      "                                      {'from': 'learning',\n",
      "                                       'to': '\"learning\"[MeSH Terms] OR '\n",
      "                                             '\"learning\"[All Fields]'},\n",
      "                                      {'from': 'neuroscience',\n",
      "                                       'to': '\"neurosciences\"[MeSH Terms] OR '\n",
      "                                             '\"neurosciences\"[All Fields] OR '\n",
      "                                             '\"neuroscience\"[All Fields]'}],\n",
      "                   'translationstack': [{'count': '23909',\n",
      "                                         'explode': 'Y',\n",
      "                                         'field': 'MeSH Terms',\n",
      "                                         'term': '\"neurosciences\"[MeSH Terms]'},\n",
      "                                        {'count': '126074',\n",
      "                                         'explode': 'N',\n",
      "                                         'field': 'All Fields',\n",
      "                                         'term': '\"neurosciences\"[All Fields]'},\n",
      "                                        'OR',\n",
      "                                        {'count': '412113',\n",
      "                                         'explode': 'N',\n",
      "                                         'field': 'All Fields',\n",
      "                                         'term': '\"neuroscience\"[All Fields]'},\n",
      "                                        'OR',\n",
      "                                        'GROUP',\n",
      "                                        {'count': '719232',\n",
      "                                         'explode': 'Y',\n",
      "                                         'field': 'MeSH Terms',\n",
      "                                         'term': '\"methods\"[MeSH Terms]'},\n",
      "                                        {'count': '8878078',\n",
      "                                         'explode': 'N',\n",
      "                                         'field': 'All Fields',\n",
      "                                         'term': '\"methods\"[All Fields]'},\n",
      "                                        'OR',\n",
      "                                        {'count': '774317',\n",
      "                                         'explode': 'N',\n",
      "                                         'field': 'All Fields',\n",
      "                                         'term': '\"intervention\"[All Fields]'},\n",
      "                                        'OR',\n",
      "                                        'GROUP',\n",
      "                                        'AND',\n",
      "                                        {'count': '424580',\n",
      "                                         'explode': 'Y',\n",
      "                                         'field': 'MeSH Terms',\n",
      "                                         'term': '\"learning\"[MeSH Terms]'},\n",
      "                                        {'count': '527556',\n",
      "                                         'explode': 'N',\n",
      "                                         'field': 'All Fields',\n",
      "                                         'term': '\"learning\"[All Fields]'},\n",
      "                                        'OR',\n",
      "                                        'GROUP',\n",
      "                                        'AND',\n",
      "                                        'GROUP']},\n",
      " 'header': {'type': 'esearch', 'version': '0.3'}}\n"
     ]
    }
   ],
   "source": [
    "url = search+\"term=neuroscience+intervention+learning&retmode=json\"\n",
    "data = requests.get(url).json()\n",
    "pprint(data)"
   ]
  },
  {
   "cell_type": "markdown",
   "metadata": {},
   "source": [
    "The number of returned IDs can be adjusted with the retmax paramater:"
   ]
  },
  {
   "cell_type": "code",
   "execution_count": 21,
   "metadata": {},
   "outputs": [],
   "source": [
    "url = search+\"term=neuroscience+intervention+learning&retmax=25&retmode=json\"\n",
    "data = requests.get(url).json()\n",
    "# pprint(data) # show all data"
   ]
  },
  {
   "cell_type": "code",
   "execution_count": 22,
   "metadata": {},
   "outputs": [
    {
     "data": {
      "text/plain": [
       "['35917919',\n",
       " '35916866',\n",
       " '35914440',\n",
       " '35911084',\n",
       " '35910354',\n",
       " '35910307',\n",
       " '35910264',\n",
       " '35910196',\n",
       " '35910192',\n",
       " '35909217',\n",
       " '35908308',\n",
       " '35908254',\n",
       " '35907374',\n",
       " '35905809',\n",
       " '35905111',\n",
       " '35904092',\n",
       " '35903787',\n",
       " '35903114',\n",
       " '35899379',\n",
       " '35899205',\n",
       " '35899035',\n",
       " '35897070',\n",
       " '35895686',\n",
       " '35895611',\n",
       " '35895472']"
      ]
     },
     "execution_count": 22,
     "metadata": {},
     "output_type": "execute_result"
    }
   ],
   "source": [
    "data[\"esearchresult\"][\"idlist\"]"
   ]
  },
  {
   "cell_type": "code",
   "execution_count": 23,
   "metadata": {},
   "outputs": [
    {
     "data": {
      "text/plain": [
       "25"
      ]
     },
     "execution_count": 23,
     "metadata": {},
     "output_type": "execute_result"
    }
   ],
   "source": [
    "len(data[\"esearchresult\"][\"idlist\"])"
   ]
  },
  {
   "cell_type": "markdown",
   "metadata": {
    "pycharm": {
     "name": "#%% md\n"
    }
   },
   "source": [
    "We can also use the query to search for an author.\n",
    "\n",
    "we will add ```[au]``` after the name to specify it is an author"
   ]
  },
  {
   "cell_type": "code",
   "execution_count": 24,
   "metadata": {
    "collapsed": false,
    "jupyter": {
     "outputs_hidden": false
    },
    "pycharm": {
     "name": "#%%\n"
    }
   },
   "outputs": [
    {
     "data": {
      "text/plain": [
       "'591'"
      ]
     },
     "execution_count": 24,
     "metadata": {},
     "output_type": "execute_result"
    }
   ],
   "source": [
    "url = search+\"term=Darwin[au]&retmode=json\"\n",
    "data = requests.get(url).json()\n",
    "\n",
    "# get a count of the results:\n",
    "data[\"esearchresult\"][\"count\"]"
   ]
  },
  {
   "cell_type": "markdown",
   "metadata": {
    "pycharm": {
     "name": "#%% md\n"
    }
   },
   "source": [
    "We can also sort results:\n",
    "\n",
    "```\n",
    "usehistory=y\n",
    "```\n",
    "This allows us to store the data for it to be sorted in the same api call.\n",
    "```\n",
    "sort=pub+date\n",
    "```\n",
    "This will sort the ids by the publishing date."
   ]
  },
  {
   "cell_type": "code",
   "execution_count": 25,
   "metadata": {},
   "outputs": [
    {
     "data": {
      "text/plain": [
       "['35789026',\n",
       " '35640726',\n",
       " '35623566',\n",
       " '35739736',\n",
       " '35757879',\n",
       " '35757872',\n",
       " '35916134',\n",
       " '35881791',\n",
       " '35709940',\n",
       " '35075743',\n",
       " '35767228',\n",
       " '35490995',\n",
       " '35662355',\n",
       " '35593317',\n",
       " '35451154',\n",
       " '35106864',\n",
       " '35474114',\n",
       " '35444262',\n",
       " '35908086',\n",
       " '35914433']"
      ]
     },
     "execution_count": 25,
     "metadata": {},
     "output_type": "execute_result"
    }
   ],
   "source": [
    "url = search+\"term=Coral+Reefs&retmode=json&usehistory=y&sort=pub+date\"\n",
    "data = requests.get(url).json()\n",
    "data[\"esearchresult\"][\"idlist\"]"
   ]
  },
  {
   "cell_type": "code",
   "execution_count": 26,
   "metadata": {
    "collapsed": false,
    "jupyter": {
     "outputs_hidden": false
    },
    "pycharm": {
     "name": "#%%\n"
    }
   },
   "outputs": [
    {
     "data": {
      "text/plain": [
       "['35916134',\n",
       " '35914433',\n",
       " '35912336',\n",
       " '35910778',\n",
       " '35908086',\n",
       " '35903994',\n",
       " '35902906',\n",
       " '35902758',\n",
       " '35901874',\n",
       " '35901124',\n",
       " '35901047',\n",
       " '35898942',\n",
       " '35898918',\n",
       " '35896607',\n",
       " '35895598',\n",
       " '35883230',\n",
       " '35881791',\n",
       " '35874430',\n",
       " '35873907',\n",
       " '35872442']"
      ]
     },
     "execution_count": 26,
     "metadata": {},
     "output_type": "execute_result"
    }
   ],
   "source": [
    "# compare to unsorted:\n",
    "url = search+\"term=Coral+Reefs&retmode=json\"\n",
    "data = requests.get(url).json()\n",
    "data[\"esearchresult\"][\"idlist\"]"
   ]
  },
  {
   "cell_type": "markdown",
   "metadata": {},
   "source": [
    "Searching based on publication types:\n",
    "\n",
    "we can do this by adding **AND** into the search\n",
    "```\n",
    "term=<searchQuery>+AND+filter[filterType]\n",
    "```\n",
    "```[pt]``` specifies that the filter type is publication type\n",
    "\n",
    "More filters can be found at https://pubmed.ncbi.nlm.nih.gov/help/"
   ]
  },
  {
   "cell_type": "code",
   "execution_count": 27,
   "metadata": {
    "collapsed": false,
    "jupyter": {
     "outputs_hidden": false
    },
    "pycharm": {
     "name": "#%%\n"
    }
   },
   "outputs": [
    {
     "name": "stdout",
     "output_type": "stream",
     "text": [
      "{'esearchresult': {'count': '6165',\n",
      "                   'idlist': ['35902979',\n",
      "                              '35860245',\n",
      "                              '35854356',\n",
      "                              '35841057',\n",
      "                              '35839786',\n",
      "                              '35832072',\n",
      "                              '35820718',\n",
      "                              '35799191',\n",
      "                              '35798714',\n",
      "                              '35767439',\n",
      "                              '35765103',\n",
      "                              '35765085',\n",
      "                              '35764638',\n",
      "                              '35753607',\n",
      "                              '35745176',\n",
      "                              '35744082',\n",
      "                              '35732348',\n",
      "                              '35725652',\n",
      "                              '35717989',\n",
      "                              '35715872'],\n",
      "                   'querytranslation': '(\"stem cells\"[MeSH Terms] OR '\n",
      "                                       '(\"stem\"[All Fields] AND \"cells\"[All '\n",
      "                                       'Fields]) OR \"stem cells\"[All Fields]) '\n",
      "                                       'AND clinical trial[pt]',\n",
      "                   'retmax': '20',\n",
      "                   'retstart': '0',\n",
      "                   'translationset': [{'from': 'stem cells',\n",
      "                                       'to': '\"stem cells\"[MeSH Terms] OR '\n",
      "                                             '(\"stem\"[All Fields] AND '\n",
      "                                             '\"cells\"[All Fields]) OR \"stem '\n",
      "                                             'cells\"[All Fields]'}],\n",
      "                   'translationstack': [{'count': '250452',\n",
      "                                         'explode': 'Y',\n",
      "                                         'field': 'MeSH Terms',\n",
      "                                         'term': '\"stem cells\"[MeSH Terms]'},\n",
      "                                        {'count': '597273',\n",
      "                                         'explode': 'N',\n",
      "                                         'field': 'All Fields',\n",
      "                                         'term': '\"stem\"[All Fields]'},\n",
      "                                        {'count': '4320297',\n",
      "                                         'explode': 'N',\n",
      "                                         'field': 'All Fields',\n",
      "                                         'term': '\"cells\"[All Fields]'},\n",
      "                                        'AND',\n",
      "                                        'GROUP',\n",
      "                                        'OR',\n",
      "                                        {'count': '316209',\n",
      "                                         'explode': 'N',\n",
      "                                         'field': 'All Fields',\n",
      "                                         'term': '\"stem cells\"[All Fields]'},\n",
      "                                        'OR',\n",
      "                                        'GROUP',\n",
      "                                        {'count': '946832',\n",
      "                                         'explode': 'Y',\n",
      "                                         'field': 'pt',\n",
      "                                         'term': 'clinical trial[pt]'},\n",
      "                                        'AND']},\n",
      " 'header': {'type': 'esearch', 'version': '0.3'}}\n"
     ]
    }
   ],
   "source": [
    "url = search+\"term=stem+cells+AND+clinical+trial[pt]&retmode=json\"\n",
    "data = requests.get(url).json()\n",
    "sleep(1)\n",
    "pprint(data)"
   ]
  },
  {
   "cell_type": "markdown",
   "metadata": {
    "pycharm": {
     "name": "#%% md\n"
    }
   },
   "source": [
    "## 4. PubMed API metadata visualization"
   ]
  },
  {
   "cell_type": "markdown",
   "metadata": {},
   "source": [
    "### Frequency of topic sortpubdate field\n",
    "Extracting the sortpubdate field for a “hydrogel drug” search results, limited to publication type clinical trials:"
   ]
  },
  {
   "cell_type": "code",
   "execution_count": 28,
   "metadata": {},
   "outputs": [
    {
     "name": "stdout",
     "output_type": "stream",
     "text": [
      "['35556170',\n",
      " '35413602',\n",
      " '35041809',\n",
      " '34915741',\n",
      " '34695615',\n",
      " '35062896',\n",
      " '34433303',\n",
      " '34334720',\n",
      " '33290635',\n",
      " '34152880']\n"
     ]
    }
   ],
   "source": [
    "url = search+\"term=hydrogel+drug+AND+clinical+trial[pt]&sort=pub+date&retmax=500&retmode=json\"\n",
    "data = requests.get(url).json()\n",
    "ids = data[\"esearchresult\"][\"idlist\"]\n",
    "pprint(ids[0:10]) # first 10"
   ]
  },
  {
   "cell_type": "code",
   "execution_count": 29,
   "metadata": {},
   "outputs": [
    {
     "data": {
      "text/plain": [
       "294"
      ]
     },
     "execution_count": 29,
     "metadata": {},
     "output_type": "execute_result"
    }
   ],
   "source": [
    "len(ids)"
   ]
  },
  {
   "cell_type": "code",
   "execution_count": 30,
   "metadata": {
    "collapsed": false,
    "jupyter": {
     "outputs_hidden": false
    },
    "pycharm": {
     "name": "#%%\n"
    }
   },
   "outputs": [
    {
     "name": "stdout",
     "output_type": "stream",
     "text": [
      "['2022/08/01',\n",
      " '2022/06/01',\n",
      " '2022/05/01',\n",
      " '2022/04/01',\n",
      " '2022/03/01',\n",
      " '2022/01/21',\n",
      " '2022/01/01',\n",
      " '2022/01/01',\n",
      " '2022/01/01',\n",
      " '2021/09/01']\n"
     ]
    }
   ],
   "source": [
    "####### this will take a few minutes.... #########\n",
    "\n",
    "# now loop through each IDs and get the sortpubdate field. \n",
    "# Note that this sortpubdate field may not necassarily be equivalent to a publication date\n",
    "pubDates=[]\n",
    "for id in ids:\n",
    "    url = summary+\"id=\"+str(id)+\"&retmode=json\"\n",
    "    request = requests.get(url).json()\n",
    "    sleep(1)\n",
    "    pubDates.append(request[\"result\"][id][\"sortpubdate\"][0:10])\n",
    "pprint(pubDates[0:10])"
   ]
  },
  {
   "cell_type": "code",
   "execution_count": 31,
   "metadata": {},
   "outputs": [
    {
     "data": {
      "text/plain": [
       "294"
      ]
     },
     "execution_count": 31,
     "metadata": {},
     "output_type": "execute_result"
    }
   ],
   "source": [
    "len(pubDates)"
   ]
  },
  {
   "cell_type": "markdown",
   "metadata": {
    "pycharm": {
     "name": "#%% md\n"
    }
   },
   "source": [
    "Now that we have sortpubdates, if we want to visualize them in matplotlib, we have to convert it over to something it understands"
   ]
  },
  {
   "cell_type": "code",
   "execution_count": 32,
   "metadata": {
    "collapsed": false,
    "jupyter": {
     "outputs_hidden": false
    },
    "pycharm": {
     "name": "#%%\n"
    }
   },
   "outputs": [
    {
     "name": "stdout",
     "output_type": "stream",
     "text": [
      "[datetime.datetime(2022, 8, 1, 0, 0),\n",
      " datetime.datetime(2022, 6, 1, 0, 0),\n",
      " datetime.datetime(2022, 5, 1, 0, 0),\n",
      " datetime.datetime(2022, 4, 1, 0, 0),\n",
      " datetime.datetime(2022, 3, 1, 0, 0),\n",
      " datetime.datetime(2022, 1, 21, 0, 0),\n",
      " datetime.datetime(2022, 1, 1, 0, 0),\n",
      " datetime.datetime(2022, 1, 1, 0, 0),\n",
      " datetime.datetime(2022, 1, 1, 0, 0),\n",
      " datetime.datetime(2021, 9, 1, 0, 0)]\n"
     ]
    }
   ],
   "source": [
    "from datetime import datetime\n",
    "for dates in range(len(pubDates)):\n",
    "    pubDates[dates] = datetime.strptime(pubDates[dates],'%Y/%m/%d')\n",
    "pprint(pubDates[0:10])"
   ]
  },
  {
   "cell_type": "code",
   "execution_count": 34,
   "metadata": {
    "collapsed": false,
    "jupyter": {
     "outputs_hidden": false
    },
    "pycharm": {
     "name": "#%%\n"
    }
   },
   "outputs": [
    {
     "data": {
      "image/png": "[encoded data removed]",
      "text/plain": [
       "<Figure size 576x288 with 1 Axes>"
      ]
     },
     "metadata": {
      "needs_background": "light"
     },
     "output_type": "display_data"
    }
   ],
   "source": [
    "import matplotlib.pyplot as plt\n",
    "fig, ax = plt.subplots()\n",
    "plt.hist(pubDates, bins=30,edgecolor='black')\n",
    "fig.set_size_inches(8, 4)\n",
    "# set_size specifies the size of the graph\n",
    "# Rotates and right-aligns the x labels so they don't crowd each other.\n",
    "for label in ax.get_xticklabels(which='major'):\n",
    "    label.set(rotation=30, horizontalalignment='right')\n",
    "plt.show()"
   ]
  },
  {
   "cell_type": "markdown",
   "metadata": {
    "pycharm": {
     "name": "#%% md\n"
    }
   },
   "source": [
    "### Frequency of publication for an author search"
   ]
  },
  {
   "cell_type": "code",
   "execution_count": 41,
   "metadata": {
    "collapsed": false,
    "jupyter": {
     "outputs_hidden": false
    },
    "pycharm": {
     "name": "#%%\n"
    }
   },
   "outputs": [],
   "source": [
    "url = search+\"term=Reed+LK[au]&sort=pub+date&retmax=500&retmode=json\"\n",
    "data = requests.get(url).json()\n",
    "ids = data[\"esearchresult\"][\"idlist\"]"
   ]
  },
  {
   "cell_type": "code",
   "execution_count": 42,
   "metadata": {},
   "outputs": [
    {
     "data": {
      "text/plain": [
       "54"
      ]
     },
     "execution_count": 42,
     "metadata": {},
     "output_type": "execute_result"
    }
   ],
   "source": [
    "len(ids)"
   ]
  },
  {
   "cell_type": "code",
   "execution_count": 43,
   "metadata": {
    "collapsed": false,
    "jupyter": {
     "outputs_hidden": false
    },
    "pycharm": {
     "name": "#%%\n"
    }
   },
   "outputs": [],
   "source": [
    "pubDates=[]\n",
    "for id in ids:\n",
    "    url = summary+\"id=\"+str(id)+\"&retmode=json\"\n",
    "    request = requests.get(url).json()\n",
    "    sleep(1)\n",
    "    dateWithTime = request[\"result\"][id][\"sortpubdate\"]\n",
    "    pubDates.append(request[\"result\"][id][\"sortpubdate\"][0:10])\n",
    "    # [0:10] used to only grab the date and leave out the time"
   ]
  },
  {
   "cell_type": "code",
   "execution_count": 44,
   "metadata": {
    "collapsed": false,
    "jupyter": {
     "outputs_hidden": false
    },
    "pycharm": {
     "name": "#%%\n"
    }
   },
   "outputs": [],
   "source": [
    "from datetime import datetime\n",
    "for dates in range(len(pubDates)):\n",
    "    pubDates[dates] = datetime.strptime(pubDates[dates],'%Y/%m/%d')\n",
    "# pprint(pubDates)"
   ]
  },
  {
   "cell_type": "code",
   "execution_count": 45,
   "metadata": {
    "collapsed": false,
    "jupyter": {
     "outputs_hidden": false
    },
    "pycharm": {
     "name": "#%%\n"
    }
   },
   "outputs": [
    {
     "data": {
      "image/png": "[encoded data removed]",
      "text/plain": [
       "<Figure size 576x288 with 1 Axes>"
      ]
     },
     "metadata": {
      "needs_background": "light"
     },
     "output_type": "display_data"
    }
   ],
   "source": [
    "import matplotlib.pyplot as plt\n",
    "fig, ax = plt.subplots()\n",
    "plt.hist(pubDates, bins=30,edgecolor='black')\n",
    "fig.set_size_inches(8, 4)\n",
    "# Rotates and right-aligns the x labels so they don't crowd each other.\n",
    "for label in ax.get_xticklabels(which='major'):\n",
    "    label.set(rotation=30, horizontalalignment='right')\n",
    "plt.show()"
   ]
  }
 ],
 "metadata": {
  "kernelspec": {
   "display_name": "Python 3 (ipykernel)",
   "language": "python",
   "name": "python3"
  },
  "language_info": {
   "codemirror_mode": {
    "name": "ipython",
    "version": 3
   },
   "file_extension": ".py",
   "mimetype": "text/x-python",
   "name": "python",
   "nbconvert_exporter": "python",
   "pygments_lexer": "ipython3",
   "version": "3.9.13"
  }
 },
 "nbformat": 4,
 "nbformat_minor": 4
}
