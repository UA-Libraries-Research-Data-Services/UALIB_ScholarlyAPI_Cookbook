{
 "cells": [
  {
   "cell_type": "markdown",
   "metadata": {
    "pycharm": {
     "name": "#%% md\n"
    }
   },
   "source": [
    "# PubMed API in Python\n",
    "\n",
    "by Avery Fernandez\n",
    "\n",
    "The PubMed API, part of NCBI's Entrez Programming Utilities (E-utilities), provides programmatic access to biomedical literature from the PubMed database, enabling retrieval of bibliographic data.\n",
    "\n",
    "*This tutorial content is intended to help facilitate academic research.*\n",
    "\n",
    "Please see the following resources for more information on API usage:\n",
    "- Documentation\n",
    "    - <a href=\"https://www.ncbi.nlm.nih.gov/books/NBK25501/\" target=\"_blank\">Entrez Programming Utilities Help</a>\n",
    "    - <a href=\"https://www.ncbi.nlm.nih.gov/home/develop/api/\" target=\"_blank\">NCBI API Documentation</a>\n",
    "- Terms\n",
    "    - <a href=\"https://www.ncbi.nlm.nih.gov/home/about/policies/\" target=\"_blank\">NCBI Terms of Use</a>\n",
    "    - <a href=\"https://www.ncbi.nlm.nih.gov/books/NBK25497/\" target=\"_blank\">NCBI Entrez Programming Rate Limit</a>\n",
    "- Data Reuse\n",
    "    - <a href=\"https://www.ncbi.nlm.nih.gov/home/about/policies/\" target=\"_blank\">NCBI Data Reuse Policy</a>\n",
    "\n",
    "_**NOTE:**_ The PubMed API (Entrez E-utilities) limits requests to a maximum of 3 requests per second without an API key, and up to 10 requests per second with an API key.\n",
    "\n",
    "*These recipe examples were tested on April 9, 2025.*"
   ]
  },
  {
   "cell_type": "markdown",
   "metadata": {},
   "source": [
    "## Setup\n",
    "\n",
    "The following external libraries need to be installed into your environment to run the code examples in this tutorial:\n",
    "* <a href=\"https://github.com/psf/requests\" target=\"_blank\">requests</a>\n",
    "* <a href=\"https://github.com/ipython/ipykernel\" target=\"_blank\">ipykernel</a>\n",
    "* <a href=\"https://github.com/matplotlib/matplotlib\" target=\"_blank\">matplotlib</a>\n",
    "\n",
    "\n",
    "We import the libraries used in this tutorial below:"
   ]
  },
  {
   "cell_type": "code",
   "execution_count": 1,
   "metadata": {},
   "outputs": [],
   "source": [
    "from time import sleep\n",
    "import requests\n",
    "from pprint import pprint\n",
    "import matplotlib.pyplot as plt\n",
    "from datetime import datetime"
   ]
  },
  {
   "cell_type": "markdown",
   "metadata": {
    "pycharm": {
     "name": "#%% md\n"
    }
   },
   "source": [
    "## 1. Retieve the Metadata of an Article\n",
    "\n",
    "The article we are requesting has PubMed ID: 27933103\n",
    "\n",
    "**retmode** in the web API URL specifies the file format. In this example, we use JSON."
   ]
  },
  {
   "cell_type": "code",
   "execution_count": 2,
   "metadata": {
    "collapsed": false,
    "jupyter": {
     "outputs_hidden": false
    },
    "pycharm": {
     "name": "#%%\n"
    },
    "tags": [
     "output_scroll"
    ]
   },
   "outputs": [
    {
     "name": "stdout",
     "output_type": "stream",
     "text": [
      "{'header': {'type': 'esummary', 'version': '0.3'},\n",
      " 'result': {'27933103': {'articleids': [...],\n",
      "                         'attributes': [...],\n",
      "                         'authors': [...],\n",
      "                         'availablefromurl': '',\n",
      "                         'bookname': '',\n",
      "                         'booktitle': '',\n",
      "                         'chapter': '',\n",
      "                         'doccontriblist': [],\n",
      "                         'docdate': '',\n",
      "                         'doctype': 'citation',\n",
      "                         'edition': '',\n",
      "                         'elocationid': '',\n",
      "                         'epubdate': '2016 Nov 23',\n",
      "                         'essn': '1758-2946',\n",
      "                         'fulljournalname': 'Journal of cheminformatics',\n",
      "                         'history': [...],\n",
      "                         'issn': '1758-2946',\n",
      "                         'issue': '',\n",
      "                         'lang': [...],\n",
      "                         'lastauthor': 'Bara JE',\n",
      "                         'locationlabel': '',\n",
      "                         'medium': '',\n",
      "                         'nlmuniqueid': '101516718',\n",
      "                         'pages': '66',\n",
      "                         'pmcrefcount': 33,\n",
      "                         'pubdate': '2016',\n",
      "                         'publisherlocation': '',\n",
      "                         'publishername': '',\n",
      "                         'pubstatus': '258',\n",
      "                         'pubtype': [...],\n",
      "                         'recordstatus': 'PubMed',\n",
      "                         'references': [],\n",
      "                         'reportnumber': '',\n",
      "                         'sortfirstauthor': 'Scalfani VF',\n",
      "                         'sortpubdate': '2016/11/23 00:00',\n",
      "                         'sorttitle': 'programmatic conversion of crystal '\n",
      "                                      'structures into 3d printable files '\n",
      "                                      'using jmol',\n",
      "                         'source': 'J Cheminform',\n",
      "                         'srccontriblist': [],\n",
      "                         'srcdate': '',\n",
      "                         'title': 'Programmatic conversion of crystal '\n",
      "                                  'structures into 3D printable files using '\n",
      "                                  'Jmol.',\n",
      "                         'uid': '27933103',\n",
      "                         'vernaculartitle': '',\n",
      "                         'volume': '8'},\n",
      "            'uids': ['27933103']}}\n"
     ]
    }
   ],
   "source": [
    "ESUMMARY_URL = \"https://eutils.ncbi.nlm.nih.gov/entrez/eutils/esummary.fcgi\"\n",
    "params = {\n",
    "    'db': 'pubmed',\n",
    "    'id': '27933103',\n",
    "    'retmode': 'json'\n",
    "}\n",
    "\n",
    "try:\n",
    "    response = requests.get(ESUMMARY_URL, params=params)\n",
    "    # Raise an error for bad responses\n",
    "    response.raise_for_status()  \n",
    "    data = response.json()\n",
    "    pprint(data, depth=3)\n",
    "except requests.exceptions.RequestException as e:\n",
    "    print(f\"An error occurred: {e}\")\n",
    "    data = None"
   ]
  },
  {
   "cell_type": "markdown",
   "metadata": {
    "pycharm": {
     "name": "#%% md\n"
    }
   },
   "source": [
    "Data extraction: Let us try to extract the authors of the paper"
   ]
  },
  {
   "cell_type": "code",
   "execution_count": 3,
   "metadata": {
    "collapsed": false,
    "jupyter": {
     "outputs_hidden": false
    },
    "pycharm": {
     "name": "#%%\n"
    }
   },
   "outputs": [
    {
     "name": "stdout",
     "output_type": "stream",
     "text": [
      "Scalfani VF\n",
      "Williams AJ\n",
      "Tkachenko V\n",
      "Karapetyan K\n",
      "Pshenichnov A\n",
      "Hanson RM\n",
      "Liddie JM\n",
      "Bara JE\n"
     ]
    }
   ],
   "source": [
    "# Check if we got data back from the API\n",
    "if data:\n",
    "    # Grab the list of authors from the response\n",
    "    authors = data[\"result\"][\"27933103\"][\"authors\"]\n",
    "    # Loop through the authors and print their names\n",
    "    for author in authors:\n",
    "        print(f\"{author['name']}\")"
   ]
  },
  {
   "cell_type": "markdown",
   "metadata": {
    "pycharm": {
     "name": "#%% md\n"
    }
   },
   "source": [
    "## 2. Retrieve Metadata for a List of PubMed IDs\n",
    "\n",
    "First, create a list of PubMed IDs:"
   ]
  },
  {
   "cell_type": "code",
   "execution_count": 4,
   "metadata": {
    "collapsed": false,
    "jupyter": {
     "outputs_hidden": false
    },
    "pycharm": {
     "name": "#%%\n"
    }
   },
   "outputs": [],
   "source": [
    "ids = [34813985, 34813932, 34813684, 34813661, 34813372, 34813140, 34813072]"
   ]
  },
  {
   "cell_type": "markdown",
   "metadata": {
    "pycharm": {
     "name": "#%% md\n"
    }
   },
   "source": [
    "Now we can go about acquiring the data from PubMed and saving the data in a dictionary, called `multi_papers`:"
   ]
  },
  {
   "cell_type": "code",
   "execution_count": 5,
   "metadata": {
    "collapsed": false,
    "jupyter": {
     "outputs_hidden": false
    },
    "pycharm": {
     "name": "#%%\n"
    }
   },
   "outputs": [],
   "source": [
    "multi_papers = {}\n",
    "for pubmed_id in ids:\n",
    "    params = {\n",
    "        'db': 'pubmed',\n",
    "        'id': pubmed_id,\n",
    "        'retmode': 'json'\n",
    "    }\n",
    "    try:\n",
    "        response = requests.get(ESUMMARY_URL, params=params)\n",
    "        # Add a delay between API calls\n",
    "        sleep(.5) \n",
    "        # Raise an error for bad responses\n",
    "        response.raise_for_status()  \n",
    "        data = response.json()\n",
    "        multi_papers[pubmed_id] = data\n",
    "    except requests.exceptions.RequestException as e:\n",
    "        print(f\"An error occurred for ID {pubmed_id}: {e}\")"
   ]
  },
  {
   "cell_type": "code",
   "execution_count": 6,
   "metadata": {
    "collapsed": false,
    "jupyter": {
     "outputs_hidden": false
    },
    "pycharm": {
     "name": "#%%\n"
    },
    "tags": [
     "output_scroll"
    ]
   },
   "outputs": [
    {
     "name": "stdout",
     "output_type": "stream",
     "text": [
      "{'header': {'type': 'esummary', 'version': '0.3'},\n",
      " 'result': {'34813985': {'articleids': [...],\n",
      "                         'attributes': [...],\n",
      "                         'authors': [...],\n",
      "                         'availablefromurl': '',\n",
      "                         'bookname': '',\n",
      "                         'booktitle': '',\n",
      "                         'chapter': '',\n",
      "                         'doccontriblist': [],\n",
      "                         'docdate': '',\n",
      "                         'doctype': 'citation',\n",
      "                         'edition': '',\n",
      "                         'elocationid': 'doi: 10.1016/j.ceca.2021.102500',\n",
      "                         'epubdate': '2021 Nov 8',\n",
      "                         'essn': '1532-1991',\n",
      "                         'fulljournalname': 'Cell calcium',\n",
      "                         'history': [...],\n",
      "                         'issn': '0143-4160',\n",
      "                         'issue': '',\n",
      "                         'lang': [...],\n",
      "                         'lastauthor': 'Morad M',\n",
      "                         'locationlabel': '',\n",
      "                         'medium': '',\n",
      "                         'nlmuniqueid': '8006226',\n",
      "                         'pages': '102500',\n",
      "                         'pmcrefcount': 69,\n",
      "                         'pubdate': '2022 Jan',\n",
      "                         'publisherlocation': '',\n",
      "                         'publishername': '',\n",
      "                         'pubstatus': '256',\n",
      "                         'pubtype': [...],\n",
      "                         'recordstatus': 'PubMed - indexed for MEDLINE',\n",
      "                         'references': [],\n",
      "                         'reportnumber': '',\n",
      "                         'sortfirstauthor': 'Fernández-Morales JC',\n",
      "                         'sortpubdate': '2022/01/01 00:00',\n",
      "                         'sorttitle': 'mutation in ryr2 fkbp binding site '\n",
      "                                      'alters ca 2 signaling modestly but '\n",
      "                                      'increases arrhythmogenesis in human '\n",
      "                                      'stem cells derived cardiomyocytes',\n",
      "                         'source': 'Cell Calcium',\n",
      "                         'srccontriblist': [],\n",
      "                         'srcdate': '',\n",
      "                         'title': 'Mutation in RyR2-FKBP Binding site alters '\n",
      "                                  'Ca(2+) signaling modestly but increases '\n",
      "                                  '\"arrhythmogenesis\" in human stem cells '\n",
      "                                  'derived cardiomyocytes.',\n",
      "                         'uid': '34813985',\n",
      "                         'vernaculartitle': '',\n",
      "                         'volume': '101'},\n",
      "            'uids': ['34813985']}}\n"
     ]
    }
   ],
   "source": [
    "# View first result\n",
    "pprint(multi_papers[ids[0]], depth=3)"
   ]
  },
  {
   "cell_type": "code",
   "execution_count": 7,
   "metadata": {
    "collapsed": false,
    "jupyter": {
     "outputs_hidden": false
    },
    "pycharm": {
     "name": "#%%\n"
    }
   },
   "outputs": [
    {
     "name": "stdout",
     "output_type": "stream",
     "text": [
      "'Cell Calcium'\n",
      "'Methods'\n",
      "'FEBS J'\n",
      "'Dev Growth Differ'\n",
      "'CRISPR J'\n",
      "'Chembiochem'\n",
      "'Methods Mol Biol'\n"
     ]
    }
   ],
   "source": [
    "# Get title for each journal\n",
    "for pubmed_id in ids:\n",
    "    pprint(multi_papers[pubmed_id][\"result\"][str(pubmed_id)][\"source\"])"
   ]
  },
  {
   "cell_type": "markdown",
   "metadata": {
    "pycharm": {
     "name": "#%% md\n"
    }
   },
   "source": [
    "## 3. PubMed API Calls with Requests & Parameters\n",
    "\n",
    "When searching through the articles, we are given a few of ways of filtering the data.\n",
    "\n",
    "A list of all the available parameters for these requests can be found in the <a href=\"https://www.ncbi.nlm.nih.gov/books/NBK25499/\" target=\"_blank\">NCBI documentation</a>.\n",
    "\n",
    "We use the PubMed database:\n",
    "\n",
    "```\n",
    "db=<database>\n",
    "```\n",
    "\n",
    "We can, for example, use a query to search PubMed, such as \"neuroscience intervention learning\":\n",
    "\n",
    "```\n",
    "term=<searchQuery>\n",
    "```"
   ]
  },
  {
   "cell_type": "code",
   "execution_count": 8,
   "metadata": {
    "collapsed": false,
    "jupyter": {
     "outputs_hidden": false
    },
    "pycharm": {
     "name": "#%%\n"
    },
    "tags": [
     "output_scroll"
    ]
   },
   "outputs": [
    {
     "name": "stdout",
     "output_type": "stream",
     "text": [
      "{'esearchresult': {'count': '30736',\n",
      "                   'idlist': ['40249488',\n",
      "                              '40249484',\n",
      "                              '40248861',\n",
      "                              '40247778',\n",
      "                              '40247367',\n",
      "                              '40247305',\n",
      "                              '40245320',\n",
      "                              '40245081',\n",
      "                              '40244858',\n",
      "                              '40242924',\n",
      "                              '40240815',\n",
      "                              '40240239',\n",
      "                              '40239200',\n",
      "                              '40239043',\n",
      "                              '40238728',\n",
      "                              '40238239',\n",
      "                              '40236290',\n",
      "                              '40235960',\n",
      "                              '40233091',\n",
      "                              '40232751'],\n",
      "                   'querytranslation': '(\"neuroscience s\"[All Fields] OR '\n",
      "                                       '\"neurosciences\"[MeSH Terms] OR '\n",
      "                                       '\"neurosciences\"[All Fields] OR '\n",
      "                                       '\"neuroscience\"[All Fields]) AND '\n",
      "                                       '(\"intervention s\"[All Fields] OR '\n",
      "                                       '\"interventions\"[All Fields] OR '\n",
      "                                       '\"interventive\"[All Fields] OR '\n",
      "                                       '\"methods\"[MeSH Terms] OR \"methods\"[All '\n",
      "                                       'Fields] OR \"intervention\"[All Fields] '\n",
      "                                       'OR \"interventional\"[All Fields]) AND '\n",
      "                                       '(\"learning\"[MeSH Terms] OR '\n",
      "                                       '\"learning\"[All Fields] OR \"learn\"[All '\n",
      "                                       'Fields] OR \"learned\"[All Fields] OR '\n",
      "                                       '\"learning s\"[All Fields] OR '\n",
      "                                       '\"learnings\"[All Fields] OR '\n",
      "                                       '\"learns\"[All Fields])',\n",
      "                   'retmax': '20',\n",
      "                   'retstart': '0',\n",
      "                   'translationset': [{...}, {...}, {...}]},\n",
      " 'header': {'type': 'esearch', 'version': '0.3'}}\n"
     ]
    }
   ],
   "source": [
    "ESEARCH_URL = \"https://eutils.ncbi.nlm.nih.gov/entrez/eutils/esearch.fcgi\"\n",
    "params = {\n",
    "    'db': 'pubmed',\n",
    "    'term': 'neuroscience intervention learning',\n",
    "    'retmode': 'json'\n",
    "}\n",
    "\n",
    "try:\n",
    "    response = requests.get(ESEARCH_URL, params=params)\n",
    "    # Raise an error for bad responses\n",
    "    response.raise_for_status()  \n",
    "    data = response.json()\n",
    "    pprint(data, depth=3)\n",
    "except requests.exceptions.RequestException as e:\n",
    "    print(f\"An error occurred: {e}\")\n",
    "    data = None"
   ]
  },
  {
   "cell_type": "markdown",
   "metadata": {},
   "source": [
    "The number of returned IDs can be adjusted with the `retmax` paramater:"
   ]
  },
  {
   "cell_type": "code",
   "execution_count": 9,
   "metadata": {},
   "outputs": [
    {
     "name": "stdout",
     "output_type": "stream",
     "text": [
      "{'esearchresult': {'count': '30736',\n",
      "                   'idlist': [...],\n",
      "                   'querytranslation': '(\"neuroscience s\"[All Fields] OR '\n",
      "                                       '\"neurosciences\"[MeSH Terms] OR '\n",
      "                                       '\"neurosciences\"[All Fields] OR '\n",
      "                                       '\"neuroscience\"[All Fields]) AND '\n",
      "                                       '(\"intervention s\"[All Fields] OR '\n",
      "                                       '\"interventions\"[All Fields] OR '\n",
      "                                       '\"interventive\"[All Fields] OR '\n",
      "                                       '\"methods\"[MeSH Terms] OR \"methods\"[All '\n",
      "                                       'Fields] OR \"intervention\"[All Fields] '\n",
      "                                       'OR \"interventional\"[All Fields]) AND '\n",
      "                                       '(\"learning\"[MeSH Terms] OR '\n",
      "                                       '\"learning\"[All Fields] OR \"learn\"[All '\n",
      "                                       'Fields] OR \"learned\"[All Fields] OR '\n",
      "                                       '\"learning s\"[All Fields] OR '\n",
      "                                       '\"learnings\"[All Fields] OR '\n",
      "                                       '\"learns\"[All Fields])',\n",
      "                   'retmax': '25',\n",
      "                   'retstart': '0',\n",
      "                   'translationset': [...]},\n",
      " 'header': {'type': 'esearch', 'version': '0.3'}}\n"
     ]
    }
   ],
   "source": [
    "params = {\n",
    "    'db': 'pubmed',\n",
    "    'term': 'neuroscience intervention learning',\n",
    "    'retmode': 'json',\n",
    "    'retmax': 25\n",
    "}\n",
    "\n",
    "try:\n",
    "    response = requests.get(ESEARCH_URL, params=params)\n",
    "    # Raise an error for bad responses\n",
    "    response.raise_for_status()  \n",
    "    data = response.json()\n",
    "    pprint(data, depth=2)\n",
    "except requests.exceptions.RequestException as e:\n",
    "    print(f\"An error occurred: {e}\")\n",
    "    data = None"
   ]
  },
  {
   "cell_type": "code",
   "execution_count": 10,
   "metadata": {},
   "outputs": [
    {
     "name": "stdout",
     "output_type": "stream",
     "text": [
      "['40249488',\n",
      " '40249484',\n",
      " '40248861',\n",
      " '40247778',\n",
      " '40247367',\n",
      " '40247305',\n",
      " '40245320',\n",
      " '40245081',\n",
      " '40244858',\n",
      " '40242924',\n",
      " '40240815',\n",
      " '40240239',\n",
      " '40239200',\n",
      " '40239043',\n",
      " '40238728',\n",
      " '40238239',\n",
      " '40236290',\n",
      " '40235960',\n",
      " '40233091',\n",
      " '40232751',\n",
      " '40232556',\n",
      " '40231304',\n",
      " '40230768',\n",
      " '40230302',\n",
      " '40229794']\n"
     ]
    }
   ],
   "source": [
    "if data:\n",
    "    pprint(data[\"esearchresult\"][\"idlist\"])"
   ]
  },
  {
   "cell_type": "code",
   "execution_count": 11,
   "metadata": {},
   "outputs": [
    {
     "name": "stdout",
     "output_type": "stream",
     "text": [
      "25\n"
     ]
    }
   ],
   "source": [
    "if data:\n",
    "    print(len(data[\"esearchresult\"][\"idlist\"]))"
   ]
  },
  {
   "cell_type": "markdown",
   "metadata": {
    "pycharm": {
     "name": "#%% md\n"
    }
   },
   "source": [
    "We can also use the query to search for an author.\n",
    "\n",
    "We add `[au]` after the name to specify it is an author."
   ]
  },
  {
   "cell_type": "code",
   "execution_count": 12,
   "metadata": {
    "collapsed": false,
    "jupyter": {
     "outputs_hidden": false
    },
    "pycharm": {
     "name": "#%%\n"
    }
   },
   "outputs": [
    {
     "name": "stdout",
     "output_type": "stream",
     "text": [
      "685\n"
     ]
    }
   ],
   "source": [
    "params = {\n",
    "    'db': 'pubmed',\n",
    "    'term': 'Darwin[au]',\n",
    "    'retmode': 'json',\n",
    "}\n",
    "\n",
    "try:\n",
    "    response = requests.get(ESEARCH_URL, params=params)\n",
    "    # Raise an error for bad responses\n",
    "    response.raise_for_status()  \n",
    "    data = response.json()\n",
    "    print(data[\"esearchresult\"][\"count\"])\n",
    "except requests.exceptions.RequestException as e:\n",
    "    print(f\"An error occurred: {e}\")\n",
    "    data = None"
   ]
  },
  {
   "cell_type": "markdown",
   "metadata": {
    "pycharm": {
     "name": "#%% md\n"
    }
   },
   "source": [
    "### Sorting Results\n",
    "\n",
    "We can use the following to store the data for it to be sorted in the same API call.\n",
    "\n",
    "```\n",
    "usehistory=y\n",
    "```\n",
    "\n",
    "This will sort the ids by the publishing date:\n",
    "\n",
    "```\n",
    "sort=pub+date\n",
    "```"
   ]
  },
  {
   "cell_type": "code",
   "execution_count": 13,
   "metadata": {},
   "outputs": [
    {
     "name": "stdout",
     "output_type": "stream",
     "text": [
      "An error occurred: 429 Client Error: Too Many Requests for url: https://eutils.ncbi.nlm.nih.gov/entrez/eutils/esearch.fcgi?db=pubmed&term=Coral+Reefs&retmode=json&usehistory=y&sort=pub+date\n"
     ]
    }
   ],
   "source": [
    "params = {\n",
    "    'db': 'pubmed',\n",
    "    'term': 'Coral Reefs',\n",
    "    'retmode': 'json',\n",
    "    'usehistory': 'y',\n",
    "    'sort': 'pub date'\n",
    "}\n",
    "\n",
    "try:\n",
    "    response = requests.get(ESEARCH_URL, params=params)\n",
    "    # Raise an error for bad responses\n",
    "    response.raise_for_status()  \n",
    "    data = response.json()\n",
    "    pprint(data[\"esearchresult\"][\"idlist\"])\n",
    "except requests.exceptions.RequestException as e:\n",
    "    print(f\"An error occurred: {e}\")\n",
    "    data = None"
   ]
  },
  {
   "cell_type": "code",
   "execution_count": 14,
   "metadata": {
    "collapsed": false,
    "jupyter": {
     "outputs_hidden": false
    },
    "pycharm": {
     "name": "#%%\n"
    }
   },
   "outputs": [
    {
     "name": "stdout",
     "output_type": "stream",
     "text": [
      "An error occurred: 429 Client Error: Too Many Requests for url: https://eutils.ncbi.nlm.nih.gov/entrez/eutils/esearch.fcgi?db=pubmed&term=Coral+Reefs&retmode=json\n"
     ]
    }
   ],
   "source": [
    "# Compare to unsorted\n",
    "params = {\n",
    "    'db': 'pubmed',\n",
    "    'term': 'Coral Reefs',\n",
    "    'retmode': 'json',\n",
    "}\n",
    "\n",
    "try:\n",
    "    response = requests.get(ESEARCH_URL, params=params)\n",
    "    # Raise an error for bad responses\n",
    "    response.raise_for_status()  \n",
    "    data = response.json()\n",
    "    pprint(data[\"esearchresult\"][\"idlist\"])\n",
    "except requests.exceptions.RequestException as e:\n",
    "    print(f\"An error occurred: {e}\")\n",
    "    data = None"
   ]
  },
  {
   "cell_type": "markdown",
   "metadata": {},
   "source": [
    "### Searching Based on Publication Types\n",
    "\n",
    "We can sort by publication type by adding `AND` into the search:\n",
    "\n",
    "```\n",
    "term=<searchQuery>+AND+filter[filterType]\n",
    "```\n",
    "\n",
    "`[pt]` specifies that the filter type is publication type. More filters can be found at <a href=\"https://pubmed.ncbi.nlm.nih.gov/help/\" target=\"_blank\">PubMed Help</a>."
   ]
  },
  {
   "cell_type": "code",
   "execution_count": 15,
   "metadata": {
    "collapsed": false,
    "jupyter": {
     "outputs_hidden": false
    },
    "pycharm": {
     "name": "#%%\n"
    }
   },
   "outputs": [
    {
     "name": "stdout",
     "output_type": "stream",
     "text": [
      "An error occurred: 429 Client Error: Too Many Requests for url: https://eutils.ncbi.nlm.nih.gov/entrez/eutils/esearch.fcgi?db=pubmed&term=stem+cells+AND+clinical+trial%5Bpt%5D&retmode=json\n"
     ]
    }
   ],
   "source": [
    "params = {\n",
    "    'db': 'pubmed',\n",
    "    'term': 'stem cells AND clinical trial[pt]',\n",
    "    'retmode': 'json',\n",
    "}\n",
    "\n",
    "try:\n",
    "    response = requests.get(ESEARCH_URL, params=params)\n",
    "    # Raise an error for bad responses\n",
    "    response.raise_for_status()  \n",
    "    data = response.json()\n",
    "    pprint(data, depth=3)\n",
    "except requests.exceptions.RequestException as e:\n",
    "    print(f\"An error occurred: {e}\")\n",
    "    data = None"
   ]
  },
  {
   "cell_type": "markdown",
   "metadata": {
    "pycharm": {
     "name": "#%% md\n"
    }
   },
   "source": [
    "## 4. PubMed API metadata visualization"
   ]
  },
  {
   "cell_type": "markdown",
   "metadata": {},
   "source": [
    "### Frequency of Topic sortpubdate Field\n",
    "\n",
    "Extracting the sortpubdate field for a “hydrogel drug” search results, limited to publication type clinical trials:"
   ]
  },
  {
   "cell_type": "code",
   "execution_count": 16,
   "metadata": {},
   "outputs": [
    {
     "name": "stdout",
     "output_type": "stream",
     "text": [
      "['40119971',\n",
      " '39937340',\n",
      " '39904726',\n",
      " '40000087',\n",
      " '39825943',\n",
      " '39384437',\n",
      " '39147219',\n",
      " '38971179',\n",
      " '38932659',\n",
      " '38875184']\n"
     ]
    }
   ],
   "source": [
    "params = {\n",
    "    'db': 'pubmed',\n",
    "    'term': 'hydrogel drug AND clinical trial[pt]',\n",
    "    'retmode': 'json',\n",
    "    'usehistory': 'y',\n",
    "    'sort': 'pub date',\n",
    "    'retmax': 500\n",
    "}\n",
    "\n",
    "try:\n",
    "    response = requests.get(ESEARCH_URL, params=params)\n",
    "    # Raise an error for bad responses\n",
    "    response.raise_for_status()  \n",
    "    data = response.json()\n",
    "    ids = data[\"esearchresult\"][\"idlist\"]\n",
    "    pprint(ids[:10])\n",
    "except requests.exceptions.RequestException as e:\n",
    "    print(f\"An error occurred: {e}\")\n",
    "    data = None\n",
    "    ids = []"
   ]
  },
  {
   "cell_type": "code",
   "execution_count": 17,
   "metadata": {},
   "outputs": [
    {
     "data": {
      "text/plain": [
       "316"
      ]
     },
     "execution_count": 17,
     "metadata": {},
     "output_type": "execute_result"
    }
   ],
   "source": [
    "len(ids)"
   ]
  },
  {
   "cell_type": "code",
   "execution_count": 18,
   "metadata": {
    "collapsed": false,
    "jupyter": {
     "outputs_hidden": false
    },
    "pycharm": {
     "name": "#%%\n"
    }
   },
   "outputs": [
    {
     "name": "stdout",
     "output_type": "stream",
     "text": [
      "['2025/03/22',\n",
      " '2025/03/01',\n",
      " '2025/03/01',\n",
      " '2025/02/25',\n",
      " '2025/01/18',\n",
      " '2024/11/01',\n",
      " '2024/11/01',\n",
      " '2024/10/01',\n",
      " '2024/10/01',\n",
      " '2024/10/01']\n"
     ]
    }
   ],
   "source": [
    "# Loop through each IDs and get the sortpubdate field. \n",
    "# Note that this sortpubdate field may not necassarily be equivalent to a publication date\n",
    "pub_dates = []\n",
    "for id in ids:\n",
    "    params = {\n",
    "        'db': 'pubmed',\n",
    "        'id': id,\n",
    "        'retmode': 'json'\n",
    "    }\n",
    "    try:\n",
    "        response = requests.get(ESUMMARY_URL, params=params)\n",
    "        sleep(.5)\n",
    "        # Raise an error for bad responses\n",
    "        response.raise_for_status()  \n",
    "        data = response.json()\n",
    "        pub_dates.append(data[\"result\"][str(id)][\"sortpubdate\"][0:10])\n",
    "    except requests.exceptions.RequestException as e:\n",
    "        print(f\"An error occurred: {e}\")\n",
    "        data = None\n",
    "\n",
    "pprint(pub_dates[:10])"
   ]
  },
  {
   "cell_type": "code",
   "execution_count": 19,
   "metadata": {},
   "outputs": [
    {
     "data": {
      "text/plain": [
       "316"
      ]
     },
     "execution_count": 19,
     "metadata": {},
     "output_type": "execute_result"
    }
   ],
   "source": [
    "len(pub_dates)"
   ]
  },
  {
   "cell_type": "markdown",
   "metadata": {
    "pycharm": {
     "name": "#%% md\n"
    }
   },
   "source": [
    "Now that we have sortpubdates, if we want to visualize them in matplotlib, we have to convert it over to something it understands"
   ]
  },
  {
   "cell_type": "code",
   "execution_count": 20,
   "metadata": {
    "collapsed": false,
    "jupyter": {
     "outputs_hidden": false
    },
    "pycharm": {
     "name": "#%%\n"
    }
   },
   "outputs": [
    {
     "name": "stdout",
     "output_type": "stream",
     "text": [
      "[datetime.datetime(2025, 3, 22, 0, 0),\n",
      " datetime.datetime(2025, 3, 1, 0, 0),\n",
      " datetime.datetime(2025, 3, 1, 0, 0),\n",
      " datetime.datetime(2025, 2, 25, 0, 0),\n",
      " datetime.datetime(2025, 1, 18, 0, 0),\n",
      " datetime.datetime(2024, 11, 1, 0, 0),\n",
      " datetime.datetime(2024, 11, 1, 0, 0),\n",
      " datetime.datetime(2024, 10, 1, 0, 0),\n",
      " datetime.datetime(2024, 10, 1, 0, 0),\n",
      " datetime.datetime(2024, 10, 1, 0, 0)]\n"
     ]
    }
   ],
   "source": [
    "matplotlib_dates = []\n",
    "for date in pub_dates:\n",
    "    # Convert to datetime object\n",
    "    date = datetime.strptime(date, '%Y/%m/%d')\n",
    "    # Convert to matplotlib date format\n",
    "    matplotlib_dates.append(date)\n",
    "pprint(matplotlib_dates[0:10])"
   ]
  },
  {
   "cell_type": "code",
   "execution_count": 21,
   "metadata": {
    "collapsed": false,
    "jupyter": {
     "outputs_hidden": false
    },
    "pycharm": {
     "name": "#%%\n"
    }
   },
   "outputs": [
    {
     "data": {
      "image/png": "[encoded data removed]",
      "text/plain": [
       "<Figure size 800x400 with 1 Axes>"
      ]
     },
     "metadata": {},
     "output_type": "display_data"
    }
   ],
   "source": [
    "fig, ax = plt.subplots()\n",
    "plt.hist(matplotlib_dates, bins=30,edgecolor='black')\n",
    "# set_size specifies the size of the graph\n",
    "fig.set_size_inches(8, 4)\n",
    "# Rotate and right-align the x labels so they don't crowd each other\n",
    "for label in ax.get_xticklabels(which='major'):\n",
    "    label.set(rotation=30, horizontalalignment='right')\n",
    "plt.show()"
   ]
  },
  {
   "cell_type": "markdown",
   "metadata": {
    "pycharm": {
     "name": "#%% md\n"
    }
   },
   "source": [
    "### Frequency of Publication for an Author Search"
   ]
  },
  {
   "cell_type": "code",
   "execution_count": 22,
   "metadata": {
    "collapsed": false,
    "jupyter": {
     "outputs_hidden": false
    },
    "pycharm": {
     "name": "#%%\n"
    }
   },
   "outputs": [],
   "source": [
    "params = {\n",
    "    'db': 'pubmed',\n",
    "    'term': 'Reed LK[au]',\n",
    "    'retmode': 'json',\n",
    "    'usehistory': 'y',\n",
    "    'sort': 'pub date',\n",
    "    'retmax': 500\n",
    "}\n",
    "\n",
    "try:\n",
    "    response = requests.get(ESEARCH_URL, params=params)\n",
    "    # Raise an error for bad responses\n",
    "    response.raise_for_status()  \n",
    "    data = response.json()\n",
    "    ids = data[\"esearchresult\"][\"idlist\"]\n",
    "except requests.exceptions.RequestException as e:\n",
    "    print(f\"An error occurred: {e}\")\n",
    "    data = None\n",
    "    ids = []"
   ]
  },
  {
   "cell_type": "code",
   "execution_count": 23,
   "metadata": {},
   "outputs": [
    {
     "data": {
      "text/plain": [
       "86"
      ]
     },
     "execution_count": 23,
     "metadata": {},
     "output_type": "execute_result"
    }
   ],
   "source": [
    "len(ids)"
   ]
  },
  {
   "cell_type": "code",
   "execution_count": 24,
   "metadata": {
    "collapsed": false,
    "jupyter": {
     "outputs_hidden": false
    },
    "pycharm": {
     "name": "#%%\n"
    }
   },
   "outputs": [],
   "source": [
    "pub_dates=[]\n",
    "for id in ids:\n",
    "    params = {\n",
    "        'db': 'pubmed',\n",
    "        'id': id,\n",
    "        'retmode': 'json'\n",
    "    }\n",
    "    try:\n",
    "        response = requests.get(ESUMMARY_URL, params=params)\n",
    "        # Add a delay between API calls\n",
    "        sleep(.5) \n",
    "        # Raise an error for bad responses\n",
    "        response.raise_for_status()  \n",
    "        data = response.json()\n",
    "        pub_dates.append(data[\"result\"][str(id)][\"sortpubdate\"][0:10])\n",
    "    except requests.exceptions.RequestException as e:\n",
    "        print(f\"An error occurred: {e}\")\n",
    "        data = None"
   ]
  },
  {
   "cell_type": "code",
   "execution_count": 25,
   "metadata": {
    "collapsed": false,
    "jupyter": {
     "outputs_hidden": false
    },
    "pycharm": {
     "name": "#%%\n"
    }
   },
   "outputs": [
    {
     "name": "stdout",
     "output_type": "stream",
     "text": [
      "[datetime.datetime(2025, 4, 1, 0, 0),\n",
      " datetime.datetime(2025, 4, 1, 0, 0),\n",
      " datetime.datetime(2025, 3, 4, 0, 0),\n",
      " datetime.datetime(2025, 3, 4, 0, 0),\n",
      " datetime.datetime(2025, 2, 17, 0, 0),\n",
      " datetime.datetime(2025, 2, 13, 0, 0),\n",
      " datetime.datetime(2025, 2, 11, 0, 0),\n",
      " datetime.datetime(2025, 2, 1, 0, 0),\n",
      " datetime.datetime(2025, 1, 29, 0, 0),\n",
      " datetime.datetime(2025, 1, 29, 0, 0)]\n"
     ]
    }
   ],
   "source": [
    "matplotlib_dates = []\n",
    "for date in pub_dates:\n",
    "    # Convert to datetime object\n",
    "    date = datetime.strptime(date, '%Y/%m/%d')\n",
    "    # Convert to matplotlib date format\n",
    "    matplotlib_dates.append(date)\n",
    "pprint(matplotlib_dates[0:10])"
   ]
  },
  {
   "cell_type": "code",
   "execution_count": 26,
   "metadata": {
    "collapsed": false,
    "jupyter": {
     "outputs_hidden": false
    },
    "pycharm": {
     "name": "#%%\n"
    }
   },
   "outputs": [
    {
     "data": {
      "image/png": "[encoded data removed]",
      "text/plain": [
       "<Figure size 800x400 with 1 Axes>"
      ]
     },
     "metadata": {},
     "output_type": "display_data"
    }
   ],
   "source": [
    "fig, ax = plt.subplots()\n",
    "plt.hist(matplotlib_dates, bins=30,edgecolor='black')\n",
    "fig.set_size_inches(8, 4)\n",
    "for label in ax.get_xticklabels(which='major'):\n",
    "    label.set(rotation=30, horizontalalignment='right')\n",
    "plt.show()"
   ]
  }
 ],
 "metadata": {
  "kernelspec": {
   "display_name": "api_env",
   "language": "python",
   "name": "python3"
  },
  "language_info": {
   "codemirror_mode": {
    "name": "ipython",
    "version": 3
   },
   "file_extension": ".py",
   "mimetype": "text/x-python",
   "name": "python",
   "nbconvert_exporter": "python",
   "pygments_lexer": "ipython3",
   "version": "3.13.2"
  }
 },
 "nbformat": 4,
 "nbformat_minor": 4
}
