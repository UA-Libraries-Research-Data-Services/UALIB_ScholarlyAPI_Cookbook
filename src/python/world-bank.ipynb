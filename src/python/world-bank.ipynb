{
  "cells": [
    {
      "cell_type": "markdown",
      "metadata": {
        "collapsed": true,
        "id": "MBVDGBofWuxw",
        "pycharm": {
          "name": "#%% md\n"
        }
      },
      "source": [
        "# World Bank API in Python\n",
        "\n",
        "by Avery Fernandez\n",
        "\n",
        "See the [World Bank API documentation](https://datahelpdesk.worldbank.org/knowledgebase/articles/889392-about-the-indicators-api-documentation)\n",
        "\n",
        "These recipe examples were tested on February 13, 2022"
      ]
    },
    {
      "cell_type": "markdown",
      "metadata": {
        "id": "DqUjAIV_Xkhf"
      },
      "source": [
        "## 1. Get list of country iso2Codes and names\n",
        "\n",
        "First, import libraries needed to pull data from the API:"
      ]
    },
    {
      "cell_type": "code",
      "execution_count": null,
      "metadata": {
        "id": "OYWV1-NFWuxx",
        "pycharm": {
          "name": "#%%\n"
        }
      },
      "outputs": [],
      "source": [
        "from time import sleep\n",
        "import requests\n",
        "from pprint import pprint"
      ]
    },
    {
      "cell_type": "markdown",
      "metadata": {
        "collapsed": false,
        "id": "SAB4FM54Wuxy",
        "pycharm": {
          "name": "#%% md\n"
        }
      },
      "source": [
        "For obtaining data from the World Bank API, it is helpful to first obtain a list of country codes and names."
      ]
    },
    {
      "cell_type": "code",
      "execution_count": null,
      "metadata": {
        "colab": {
          "base_uri": "https://localhost:8080/"
        },
        "id": "A8_Do2feWux0",
        "outputId": "5a0477b4-b35c-4d82-d5b8-87b61ea93485",
        "pycharm": {
          "name": "#%%\n"
        }
      },
      "outputs": [
        {
          "name": "stdout",
          "output_type": "stream",
          "text": [
            "{'adminregion': {'id': '', 'iso2code': '', 'value': ''},\n",
            " 'capitalCity': 'Oranjestad',\n",
            " 'id': 'ABW',\n",
            " 'incomeLevel': {'id': 'HIC', 'iso2code': 'XD', 'value': 'High income'},\n",
            " 'iso2Code': 'AW',\n",
            " 'latitude': '12.5167',\n",
            " 'lendingType': {'id': 'LNX', 'iso2code': 'XX', 'value': 'Not classified'},\n",
            " 'longitude': '-70.0167',\n",
            " 'name': 'Aruba',\n",
            " 'region': {'id': 'LCN',\n",
            "            'iso2code': 'ZJ',\n",
            "            'value': 'Latin America & Caribbean '}}\n",
            "299\n"
          ]
        }
      ],
      "source": [
        "# define root WorldBank API\n",
        "api = 'https://api.worldbank.org/v2/'\n",
        "\n",
        "# define api url for getting country code data\n",
        "country_url = api + 'country/?format=json&per_page=500'\n",
        "\n",
        "# read the url and import data as JSON data\n",
        "country_data = requests.get(country_url).json()[1]\n",
        "pprint(country_data[0]) # shows first bit of data\n",
        "print(len(country_data)) # shows the size of data"
      ]
    },
    {
      "cell_type": "code",
      "execution_count": null,
      "metadata": {
        "colab": {
          "base_uri": "https://localhost:8080/"
        },
        "id": "fd5_TQ46Wux0",
        "outputId": "651c043c-4e27-437c-9003-4e6e4d0c8227",
        "pycharm": {
          "name": "#%%\n"
        }
      },
      "outputs": [
        {
          "name": "stdout",
          "output_type": "stream",
          "text": [
            "['AW', 'ZH', 'AF', 'A9', 'ZI', 'AO', 'AL', 'AD', '1A', 'AE']\n",
            "299\n"
          ]
        }
      ],
      "source": [
        "# Extract out iso2code from countries data\n",
        "country_iso2Code = []\n",
        "for isos in range(len(country_data)):\n",
        "    country_iso2Code.append(country_data[isos][\"iso2Code\"])\n",
        "pprint(country_iso2Code[0:10]) # shows first 10\n",
        "print(len(country_iso2Code)) # shows the size of data"
      ]
    },
    {
      "cell_type": "code",
      "execution_count": null,
      "metadata": {
        "colab": {
          "base_uri": "https://localhost:8080/"
        },
        "id": "QW3KX4bkWux1",
        "outputId": "8bd0c2fc-10aa-4e4f-e908-fca87a842309",
        "pycharm": {
          "name": "#%%\n"
        }
      },
      "outputs": [
        {
          "name": "stdout",
          "output_type": "stream",
          "text": [
            "['Aruba',\n",
            " 'Africa Eastern and Southern',\n",
            " 'Afghanistan',\n",
            " 'Africa',\n",
            " 'Africa Western and Central',\n",
            " 'Angola',\n",
            " 'Albania',\n",
            " 'Andorra',\n",
            " 'Arab World',\n",
            " 'United Arab Emirates']\n",
            "299\n"
          ]
        }
      ],
      "source": [
        "# Extract out country names\n",
        "country_name = []\n",
        "for names in range(len(country_data)):\n",
        "    country_name.append(country_data[names][\"name\"])\n",
        "pprint(country_name[0:10]) # shows first 10\n",
        "print(len(country_name)) # shows the size of data"
      ]
    },
    {
      "cell_type": "code",
      "execution_count": null,
      "metadata": {
        "colab": {
          "base_uri": "https://localhost:8080/"
        },
        "id": "Xaaub6kOWux2",
        "outputId": "1f1334fd-c181-43dc-dee3-0900634641f5",
        "pycharm": {
          "name": "#%%\n"
        }
      },
      "outputs": [
        {
          "name": "stdout",
          "output_type": "stream",
          "text": [
            "299\n"
          ]
        }
      ],
      "source": [
        "# now combine country_iso2Code and country name\n",
        "country_iso2code_name = {country_iso2Code[i]: country_name[i] for i in range(len(country_iso2Code))}\n",
        "print(len(country_iso2code_name)) # shows the size of data"
      ]
    },
    {
      "cell_type": "markdown",
      "metadata": {
        "collapsed": false,
        "id": "fvjupL-aWux-",
        "pycharm": {
          "name": "#%% md\n"
        }
      },
      "source": [
        "Now we know the country iso2Codes which we can use to pull specific indicator data for countries.\n"
      ]
    },
    {
      "cell_type": "markdown",
      "metadata": {
        "id": "84IR7albYQxh"
      },
      "source": [
        "## 2. Compile a Custom Indicator Dataset\n",
        "\n",
        "There are many availabe indicators: https://data.worldbank.org/indicator\n",
        "\n",
        "We wll select three indicators for this example:\n",
        "\n",
        "1. Scientific and Technical Journal Article Data = [IP.JRN.ARTC.SC](https://data.worldbank.org/indicator/IP.JRN.ARTC.SC?view=chart)\n",
        "\n",
        "2. Patent Applications, residents = [IP.PAT.RESD](https://data.worldbank.org/indicator/IP.PAT.RESD?view=chart)\n",
        "\n",
        "3. GDP per capita (current US$) Code = [NY.GDP.PCAP.CD](https://data.worldbank.org/indicator/NY.GDP.PCAP.CD?view=chart)\n",
        "\n",
        "Note that these three selected indictaors have a [CC-BY 4.0 license](https://datacatalog.worldbank.org/public-licenses#cc-by) We will compile this indicator data for the United States (US) and United Kingdom (GB)"
      ]
    },
    {
      "cell_type": "code",
      "execution_count": null,
      "metadata": {
        "id": "ykkZVSE-Wux-",
        "pycharm": {
          "name": "#%%\n"
        }
      },
      "outputs": [],
      "source": [
        "indicators = ['IP.JRN.ARTC.SC','IP.PAT.RESD','NY.GDP.PCAP.CD']"
      ]
    },
    {
      "cell_type": "markdown",
      "metadata": {
        "collapsed": false,
        "id": "a0vGayCkWux_",
        "pycharm": {
          "name": "#%% md\n"
        }
      },
      "source": [
        "Generate the web API urls we need for U.S and retrieve the data.\n"
      ]
    },
    {
      "cell_type": "code",
      "execution_count": null,
      "metadata": {
        "id": "7VB0mzmDWux_",
        "pycharm": {
          "name": "#%%\n"
        }
      },
      "outputs": [],
      "source": [
        "US_api_URL = {}\n",
        "US_indicator_data = {}\n",
        "for number in range(len(indicators)):\n",
        "    US_api_URL = api + 'country/US/indicator/' + indicators[number] + '/?format=json&per_page=500'\n",
        "    US_indicator_data[number] = requests.get(US_api_URL).json()\n",
        "    sleep(1)"
      ]
    },
    {
      "cell_type": "markdown",
      "metadata": {
        "collapsed": false,
        "id": "7ljodeaCWuyA",
        "pycharm": {
          "name": "#%% md\n"
        }
      },
      "source": [
        "Generate web API urls we need for the UK (GB)\n",
        "\n"
      ]
    },
    {
      "cell_type": "code",
      "execution_count": null,
      "metadata": {
        "id": "CRySjTh0WuyA",
        "pycharm": {
          "name": "#%%\n"
        }
      },
      "outputs": [],
      "source": [
        "UK_api_URL = {}\n",
        "UK_indicator_data = {}\n",
        "for number in range(len(indicators)):\n",
        "    UK_api_URL = api + 'country/GB/indicator/' + indicators[number] + '/?format=json&per_page=500'\n",
        "    UK_indicator_data[number] = requests.get(UK_api_URL).json()\n",
        "    sleep(1)"
      ]
    },
    {
      "cell_type": "markdown",
      "metadata": {
        "collapsed": false,
        "id": "HjwwstTjWuyB",
        "pycharm": {
          "name": "#%% md\n"
        }
      },
      "source": [
        "Now we need to extract the data and compile for analysis.\n",
        "\n",
        "column 1: year\n",
        "\n",
        "column 2: Scientific and Technical Journal Article Data = `IP.JRN.ARTC.SC`\n",
        "\n",
        "column 3: Patent Applications, residents = `IP.PAT.RESD`\n",
        "\n",
        "column 4: GDP per capita (current US$) Code = `NY.GDP.PCAP.CD`\n",
        "\n",
        "\n",
        "> **_NOTE:_**  float(x or 'nan') is used to get rid of empty cells."
      ]
    },
    {
      "cell_type": "code",
      "execution_count": null,
      "metadata": {
        "colab": {
          "base_uri": "https://localhost:8080/"
        },
        "id": "4uZfP3p-WuyC",
        "outputId": "615053bf-a835-43d3-ef04-415e72ee7c48",
        "pycharm": {
          "name": "#%%\n"
        },
        "tags": [
          "output_scroll"
        ]
      },
      "outputs": [
        {
          "name": "stdout",
          "output_type": "stream",
          "text": [
            "{1960: [nan, nan, 3007.12344537862],\n",
            " 1961: [nan, nan, 3066.56286916615],\n",
            " 1962: [nan, nan, 3243.84307754988],\n",
            " 1963: [nan, nan, 3374.51517105082],\n",
            " 1964: [nan, nan, 3573.94118474743],\n",
            " 1965: [nan, nan, 3827.52710972039],\n",
            " 1966: [nan, nan, 4146.31664631665],\n",
            " 1967: [nan, nan, 4336.42658722171],\n",
            " 1968: [nan, nan, 4695.92339043178],\n",
            " 1969: [nan, nan, 5032.14474262003],\n",
            " 1970: [nan, nan, 5234.2966662115],\n",
            " 1971: [nan, nan, 5609.38259952519],\n",
            " 1972: [nan, nan, 6094.01798986165],\n",
            " 1973: [nan, nan, 6726.35895596695],\n",
            " 1974: [nan, nan, 7225.69135952566],\n",
            " 1975: [nan, nan, 7801.45666356443],\n",
            " 1976: [nan, nan, 8592.25353727612],\n",
            " 1977: [nan, nan, 9452.57651914511],\n",
            " 1978: [nan, nan, 10564.9482220275],\n",
            " 1979: [nan, nan, 11674.1818666548],\n",
            " 1980: [nan, 62098.0, 12574.7915062163],\n",
            " 1981: [nan, 62404.0, 13976.10539252],\n",
            " 1982: [nan, 63316.0, 14433.787727053],\n",
            " 1983: [nan, 59391.0, 15543.8937174925],\n",
            " 1984: [nan, 61841.0, 17121.2254849995],\n",
            " 1985: [nan, 63673.0, 18236.8277265009],\n",
            " 1986: [nan, 65195.0, 19071.2271949295],\n",
            " 1987: [nan, 68315.0, 20038.9410992658],\n",
            " 1988: [nan, 75192.0, 21417.0119305191],\n",
            " 1989: [nan, 82370.0, 22857.1544330056],\n",
            " 1990: [nan, 90643.0, 23888.6000088133],\n",
            " 1991: [nan, 87955.0, 24342.2589048189],\n",
            " 1992: [nan, 92425.0, 25418.9907763319],\n",
            " 1993: [nan, 99955.0, 26387.2937338171],\n",
            " 1994: [nan, 107233.0, 27694.853416234],\n",
            " 1995: [nan, 123962.0, 28690.8757013347],\n",
            " 1996: [nan, 106892.0, 29967.7127181749],\n",
            " 1997: [nan, 119214.0, 31459.1389804773],\n",
            " 1998: [nan, 134733.0, 32853.6769523009],\n",
            " 1999: [nan, 149251.0, 34513.5615037271],\n",
            " 2000: [304781.56, 164795.0, 36334.9087770589],\n",
            " 2001: [305612.91, 177513.0, 37133.2428088526],\n",
            " 2002: [319307.62, 184245.0, 38023.1611144021],\n",
            " 2003: [329398.86, 188941.0, 39496.4858751381],\n",
            " 2004: [353853.49, 189536.0, 41712.8010675545],\n",
            " 2005: [384572.94, 207867.0, 44114.7477810544],\n",
            " 2006: [385515.0, 221784.0, 46298.7314440927],\n",
            " 2007: [391909.59, 241347.0, 47975.9676958038],\n",
            " 2008: [393978.95, 231588.0, 48382.5584490552],\n",
            " 2009: [399350.31, 224912.0, 47099.9804711343],\n",
            " 2010: [408817.1, 241977.0, 48466.6576026922],\n",
            " 2011: [423958.81, 247750.0, 49882.5581321495],\n",
            " 2012: [427996.8, 268782.0, 51602.9310457907],\n",
            " 2013: [429570.05, 287831.0, 53106.5367672165],\n",
            " 2014: [433192.28, 285096.0, 55049.9883272312],\n",
            " 2015: [429988.89, 288335.0, 56863.3714957652],\n",
            " 2016: [427264.63, 295327.0, 58021.4004997125],\n",
            " 2017: [432216.49, 293904.0, 60109.6557260477],\n",
            " 2018: [422807.71, 285095.0, 63064.4184096731],\n",
            " 2019: [nan, 285113.0, 65279.5290260953],\n",
            " 2020: [nan, nan, 63413.5138584508]}\n"
          ]
        }
      ],
      "source": [
        "# US Data compilation\n",
        "US_data = {}\n",
        "for years in range(len(US_indicator_data[0][1])):\n",
        "    US_data[int(US_indicator_data[0][1][years][\"date\"])] = [float(US_indicator_data[0][1][years][\"value\"] or 'nan'), \n",
        "                                                            float(US_indicator_data[1][1][years][\"value\"] or 'nan'), \n",
        "                                                            float(US_indicator_data[2][1][years][\"value\"] or 'nan')]\n",
        "pprint(US_data)"
      ]
    },
    {
      "cell_type": "markdown",
      "metadata": {
        "collapsed": false,
        "id": "j0kvX1ucWuyC",
        "pycharm": {
          "name": "#%% md\n"
        }
      },
      "source": [
        "UK Data extraction\n",
        "\n",
        "column 1: year\n",
        "\n",
        "column 2: Scientific and Technical Journal Article Data = `IP.JRN.ARTC.SC`\n",
        "\n",
        "column 3: Patent Applications, residents = `IP.PAT.RESD`\n",
        "\n",
        "column 4: GDP per capita (current US$) Code = `NY.GDP.PCAP.CD`\n",
        "\n",
        "\n",
        "> **_NOTE:_**  float(x or 'nan') is used to get rid of empty cells."
      ]
    },
    {
      "cell_type": "code",
      "execution_count": null,
      "metadata": {
        "colab": {
          "base_uri": "https://localhost:8080/"
        },
        "id": "2xt1s0SYWuyD",
        "outputId": "c2ed7aeb-6ce2-430f-a335-2c349ab25596",
        "pycharm": {
          "name": "#%%\n"
        },
        "tags": [
          "output_scroll"
        ]
      },
      "outputs": [
        {
          "name": "stdout",
          "output_type": "stream",
          "text": [
            "{1960: [nan, nan, 1397.5948032844],\n",
            " 1961: [nan, nan, 1472.38571407868],\n",
            " 1962: [nan, nan, 1525.77585271032],\n",
            " 1963: [nan, nan, 1613.45688373392],\n",
            " 1964: [nan, nan, 1748.2881176141],\n",
            " 1965: [nan, nan, 1873.56777435421],\n",
            " 1966: [nan, nan, 1986.74715869685],\n",
            " 1967: [nan, nan, 2058.78188198056],\n",
            " 1968: [nan, nan, 1951.75859587532],\n",
            " 1969: [nan, nan, 2100.66786858672],\n",
            " 1970: [nan, nan, 2347.54431773747],\n",
            " 1971: [nan, nan, 2649.80151387223],\n",
            " 1972: [nan, nan, 3030.43251411977],\n",
            " 1973: [nan, nan, 3426.27622050378],\n",
            " 1974: [nan, nan, 3665.8627976419],\n",
            " 1975: [nan, nan, 4299.74561799284],\n",
            " 1976: [nan, nan, 4138.16778761535],\n",
            " 1977: [nan, nan, 4681.43993173038],\n",
            " 1978: [nan, nan, 5976.93816899991],\n",
            " 1979: [nan, nan, 7804.76208051155],\n",
            " 1980: [nan, 19612.0, 10032.062080015],\n",
            " 1981: [nan, 20808.0, 9599.30622221965],\n",
            " 1982: [nan, 20530.0, 9146.07735701852],\n",
            " 1983: [nan, 19893.0, 8691.51881306514],\n",
            " 1984: [nan, 19093.0, 8179.19444064991],\n",
            " 1985: [nan, 19672.0, 8652.21654247593],\n",
            " 1986: [nan, 20040.0, 10611.112210096],\n",
            " 1987: [nan, 19945.0, 13118.586534629],\n",
            " 1988: [nan, 20536.0, 15987.1680775688],\n",
            " 1989: [nan, 19732.0, 16239.2821960944],\n",
            " 1990: [nan, 19310.0, 19095.4669984608],\n",
            " 1991: [nan, 19230.0, 19900.7266505069],\n",
            " 1992: [nan, 18848.0, 20487.1707852878],\n",
            " 1993: [nan, 18727.0, 18389.0195675099],\n",
            " 1994: [nan, 18384.0, 19709.2380983653],\n",
            " 1995: [nan, 18630.0, 23206.5685593776],\n",
            " 1996: [nan, 18184.0, 24438.531169209],\n",
            " 1997: [nan, 17938.0, 26742.9848472166],\n",
            " 1998: [nan, 19530.0, 28269.322509823],\n",
            " 1999: [nan, 21333.0, 28726.8572106345],\n",
            " 2000: [77244.9, 22050.0, 28223.0675706515],\n",
            " 2001: [73779.92, 21423.0, 27806.4488245133],\n",
            " 2002: [74814.46, 20624.0, 30049.8963232066],\n",
            " 2003: [75564.08, 20426.0, 34487.4675722539],\n",
            " 2004: [79249.97, 19178.0, 40371.7108259838],\n",
            " 2005: [84940.1, 17833.0, 42132.0907219815],\n",
            " 2006: [88142.47, 17484.0, 44654.0969208924],\n",
            " 2007: [91212.76, 17375.0, 50653.2569148306],\n",
            " 2008: [91357.74, 16523.0, 47549.3486286006],\n",
            " 2009: [93803.37, 15985.0, 38952.2110262455],\n",
            " 2010: [93791.51, 15490.0, 39688.6149684498],\n",
            " 2011: [95820.1, 15343.0, 42284.8844902996],\n",
            " 2012: [98144.92, 15370.0, 42686.8000524926],\n",
            " 2013: [99228.41, 14972.0, 43713.8141242308],\n",
            " 2014: [99384.79, 15196.0, 47787.2412984884],\n",
            " 2015: [99616.02, 14867.0, 45404.5677734722],\n",
            " 2016: [99366.17, 13876.0, 41499.5557033073],\n",
            " 2017: [99128.72, 13301.0, 40857.7555829627],\n",
            " 2018: [97680.9, 12865.0, 43646.9519711493],\n",
            " 2019: [nan, 12061.0, 43070.4983595888],\n",
            " 2020: [nan, nan, 41124.5347686731]}\n"
          ]
        }
      ],
      "source": [
        "UK_data = {}\n",
        "for years in range(len(UK_indicator_data[0][1])):\n",
        "    UK_data[int(UK_indicator_data[0][1][years][\"date\"])] = [float(UK_indicator_data[0][1][years][\"value\"] or 'nan'), \n",
        "                                                            float(UK_indicator_data[1][1][years][\"value\"] or 'nan'), \n",
        "                                                            float(UK_indicator_data[2][1][years][\"value\"] or 'nan')]\n",
        "pprint(UK_data)"
      ]
    },
    {
      "cell_type": "markdown",
      "metadata": {
        "collapsed": false,
        "id": "LyW4oWDjWuyD"
      },
      "source": [
        "## 3. Plot Indicator data\n",
        "\n",
        "Create a line plot of US/UK Number of Scientific and Technical Journal Articles and Patents by year"
      ]
    },
    {
      "cell_type": "code",
      "execution_count": null,
      "metadata": {
        "colab": {
          "base_uri": "https://localhost:8080/",
          "height": 327
        },
        "id": "YNA2AlPaWuyD",
        "outputId": "138c03a2-6c75-4c6c-c78f-c9cbb01edfd2",
        "pycharm": {
          "name": "#%%\n"
        }
      },
      "outputs": [
        {
          "data": {
            "image/png": "[encoded data removed]",
            "text/plain": [
              "<Figure size 432x288 with 2 Axes>"
            ]
          },
          "metadata": {},
          "output_type": "display_data"
        }
      ],
      "source": [
        "import matplotlib.pyplot as plt\n",
        "from matplotlib.pyplot import figure\n",
        "\n",
        "# US Data\n",
        "US_patentsandarticles = []\n",
        "US_gdp = []\n",
        "data_years = list(US_data.keys())\n",
        "data_years.sort()\n",
        "for years in data_years:\n",
        "    US_patentsandarticles.append(US_data.get(years)[0]+US_data.get(years)[1])\n",
        "    US_gdp.append(US_data.get(years)[2])\n",
        "\n",
        "# UK Data\n",
        "UK_patentsandarticles = []\n",
        "UK_gdp = []\n",
        "data_years = list(UK_data.keys())\n",
        "data_years.sort()\n",
        "for years in data_years:\n",
        "    UK_patentsandarticles.append(UK_data.get(years)[0]+UK_data.get(years)[1])\n",
        "    UK_gdp.append(UK_data.get(years)[2])\n",
        "\n",
        "fig, ax1 = plt.subplots()\n",
        "ax1.set_ylabel(\"Number of Articles and Patents\", {'color': 'deepskyblue'})\n",
        "ax1.plot(data_years,US_patentsandarticles, label = \"US Patents and Articles\", \n",
        "         marker=\"o\", color=\"deepskyblue\")\n",
        "ax1.plot(data_years,UK_patentsandarticles, label = \"UK Patents and Articles\", \n",
        "         marker=\"^\", color=\"deepskyblue\")\n",
        "ax1.tick_params(axis='y', labelcolor=\"deepskyblue\")\n",
        "\n",
        "ax2 = ax1.twinx()\n",
        "ax2.set_ylabel(\"GDP per capita (current US$)\", {'color': 'tomato'})\n",
        "ax2.plot(data_years,US_gdp, label = \"US GDP\", marker=\"o\", color=\"tomato\")\n",
        "ax2.plot(data_years,UK_gdp, label = \"UK GDP\", marker=\"^\", color=\"tomato\")\n",
        "ax2.tick_params(axis='y', labelcolor=\"tomato\")\n",
        "\n",
        "fig.tight_layout()\n",
        "ax1.set_xlabel(\"Year\")\n",
        "plt.title(\"US and UK data\")\n",
        "plt.xlim(2000,2018)\n",
        "\n",
        "lines_labels = [ax.get_legend_handles_labels() for ax in fig.axes]\n",
        "lines, labels = [sum(lol, []) for lol in zip(*lines_labels)]\n",
        "plt.legend(lines, labels, bbox_to_anchor=(2, 1), ncol=1)\n",
        "#fig.legend(lines, labels,loc = 'upper right')\n",
        "plt.show()"
      ]
    }
  ],
  "metadata": {
    "colab": {
      "name": "python_worldbank.ipynb",
      "provenance": []
    },
    "kernelspec": {
      "display_name": "Python 3",
      "language": "python",
      "name": "python3"
    },
    "language_info": {
      "codemirror_mode": {
        "name": "ipython",
        "version": 2
      },
      "file_extension": ".py",
      "mimetype": "text/x-python",
      "name": "python",
      "nbconvert_exporter": "python",
      "pygments_lexer": "ipython2",
      "version": "2.7.6"
    }
  },
  "nbformat": 4,
  "nbformat_minor": 0
}
