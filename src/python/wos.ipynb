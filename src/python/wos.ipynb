{
 "cells": [
  {
   "cell_type": "markdown",
   "metadata": {
    "collapsed": false
   },
   "source": [
    "# Web of Science Starter and Expanded APIs in Python\n",
    "\n",
    "by Michael T. Moen and Avery Fernandez\n",
    "\n",
    "The Web of Science (WOS) API enables researchers to programmatically access bibliographic data from Clarivate’s Web of Science databases, including citation data, abstracts, and detailed publication records.\n",
    "\n",
    "*This tutorial content is intended to help facilitate academic research. Please check your institution for their Text and Data Mining or related License Agreement with Clarivate.*\n",
    "\n",
    "Please see the following resources for more information on API usage:\n",
    "\n",
    "- Documentation\n",
    "    - <a href=\"https://api.clarivate.com/swagger-ui/?url=https%3A%2F%2Fdeveloper.clarivate.com%2Fapis%2Fwos-starter%2Fswagger%3FforUser%3D984a370b61be00d769c8d8c6ec49abba804d5a2e\" target=\"_blank\">Web of Science Starter API Documentation</a>\n",
    "    - <a href=\"https://api.clarivate.com/swagger-ui/?url=https%3A%2F%2Fdeveloper.clarivate.com%2Fapis%2Fwos%2Fswagger\" target=\"_blank\">Web of Science Expanded API Documentation</a>\n",
    "    - <a href=\"https://images.webofknowledge.com/WOKRS529AR7/help/WOS/hp_advanced_examples.html\" target=\"_blank\">Web of Science API Examples</a>\n",
    "    - <a href=\"https://clarivate.com/academia-government/release-notes/wos-apis/\" target=\"_blank\">Web of Science API Release Notes</a>\n",
    "- Terms\n",
    "    - <a href=\"https://clarivate.com/wp-content/uploads/dlm_uploads/2019/08/End-User-Terms.pdf\" target=\"_blank\">Web of Science Terms of Use</a>\n",
    "    - <a href=\"https://clarivate.com/wp-content/uploads/dlm_uploads/Product-Terms-v3.7.pdf\" target=\"_blank\">Clarivate Product / Service Terms</a>\n",
    "\n",
    "*Please check with your institution on Web of Science API access.*\n",
    "\n",
    "\n",
    "_**NOTE:**_ The Web of Science API limits requests according to the subscribed institutional plan. Users from the University of Alabama (UA) have access to the <a href=\"https://developer.clarivate.com/apis/wos-starter#plans\" target=\"_blank\">institutional plan for the WOS Starter API</a> and the <a href=\"https://developer.clarivate.com/apis/wos\" target=\"_blank\">basic plan for the WOS Expanded API</a>. UA users can sign up <a href=\"https://developer.clarivate.com/\" target=\"_blank\">here</a> (see the <a href=\"https://developer.clarivate.com/apis/wos#plans\" target=\"_blank\">Developer Portal</a> for more information).  \n",
    "> _**NOTE:**_ UA users are encouraged to access the WOS Starter API using the institutional plan, which has higher limits (5 requests/second and 5,000 requests/day) than the free plan (1 request/second and 50 requests/day).  \n",
    "\n",
    "> _**NOTE:**_ UA users can access the WOS Expanded API using the institution's basic plan, which limits the access of the whole institution (2 requests/second and 50,000 full records/year). Please contact UA Libraries if you anticipate a need greater than 1000 full record API requests.  \n",
    "\n",
    "**We thank Clarivate Support for their helpful suggestions with this API tutorial.**\n",
    "\n",
    "*These recipe examples were tested on April 18, 2025.*"
   ]
  },
  {
   "cell_type": "markdown",
   "metadata": {},
   "source": [
    "## Setup\n",
    "\n",
    "### Import Libraries\n",
    "\n",
    "The following external libraries need to be installed into your enviornment to run the code examples in this tutorial:\n",
    "* <a href=\"https://github.com/psf/requests\" target=\"_blank\">requests</a>\n",
    "* <a href=\"https://github.com/theskumar/python-dotenv\" target=\"_blank\">python-dotenv</a>\n",
    "* <a href=\"https://github.com/ipython/ipykernel\" target=\"_blank\">ipykernel</a>\n",
    "* <a href=\"https://https://github.com/pandas-dev/pandas \" target=\"_blank\">pandas</a>\n",
    "\n",
    "We import the libraries used in this tutorial below:"
   ]
  },
  {
   "cell_type": "code",
   "execution_count": 1,
   "metadata": {},
   "outputs": [],
   "source": [
    "import requests\n",
    "from pprint import pprint\n",
    "from time import sleep\n",
    "import pandas as pd\n",
    "import os\n",
    "from dotenv import load_dotenv"
   ]
  },
  {
   "cell_type": "markdown",
   "metadata": {},
   "source": [
    "### Import API Key\n",
    "\n",
    "An API key is required to access the Web of Science API. You can sign up for one at the <a href=\"https://developer.clarivate.com/apis\" target=\"_blank\">Clarivate Developer Portal</a>.\n",
    "\n",
    "We keep our API key in a `.env` file and use the `dotenv` library to access it. If you would like to use this method, create a file named `.env` in the same directory as this notebook and add the following line to it:\n",
    "\n",
    "```text\n",
    "WOS_STARTER_API_KEY=PUT_YOUR_API_KEY_HERE\n",
    "WOS_EXPANDED_API_KEY=PUT_YOUR_API_KEY_HERE\n",
    "```"
   ]
  },
  {
   "cell_type": "code",
   "execution_count": 2,
   "metadata": {
    "metadata": {}
   },
   "outputs": [
    {
     "name": "stdout",
     "output_type": "stream",
     "text": [
      "Environment and API key successfully loaded.\n"
     ]
    }
   ],
   "source": [
    "load_dotenv()\n",
    "try:\n",
    "    WOS_STARTER_KEY = os.environ[\"WOS_STARTER_API_KEY\"]\n",
    "    WOS_EXPANDED_KEY = os.environ[\"WOS_EXPANDED_API_KEY\"]\n",
    "except KeyError:\n",
    "    print(\"API keys not found.\" \\\n",
    "    \"Please set 'WOS_STARTER_API_KEY' and 'WOS_EXPANDED_API_KEY' in your .env file.\")\n",
    "else:\n",
    "    print(\"Environment and API key successfully loaded.\")"
   ]
  },
  {
   "cell_type": "markdown",
   "metadata": {},
   "source": [
    "This tutorial will use the headers for authentication:"
   ]
  },
  {
   "cell_type": "code",
   "execution_count": 3,
   "metadata": {},
   "outputs": [],
   "source": [
    "WOS_STARTER_HEADER = {\"X-ApiKey\": WOS_STARTER_KEY}\n",
    "WOS_EXPANDED_HEADER = {\"X-ApiKey\": WOS_EXPANDED_KEY}"
   ]
  },
  {
   "cell_type": "markdown",
   "metadata": {},
   "source": [
    "## 1. Basic Search Queries with WOS Starter\n",
    "\n",
    "To begin, let's construct a basic query to retrieve data for articles about machine learning.\n",
    "\n",
    "The URL requires the following four parameters:\n",
    "\n",
    "1. `db` specifies what database to use. In this case, we are using the `WOS` (Web of Science) database.\n",
    "2. `q` specifies the query we are using. The following parameters are used to specify topics and document types:\n",
    "    - `TS` specifies the topic to search for. In this case, we are looking for articles with \"Machine Learning\" in the topic.\n",
    "    - `DT` spcifies the document type. In this case we are looking for articles.\n",
    "3. `limit` specifies the number of records to return. Here, we use the maximum value of 50.\n",
    "4. `page` specifies what page to return, allowing us to page beyond the first page of results if needed.\n",
    "\n",
    "You can practice generating queries here: <a href=\"https://www.webofscience.com/wos/woscc/advanced-search\" target=\"_blank\">Advanced Search Query Builder</a>\n",
    "\n",
    "You can also read about more advanced queries here: \n",
    "* <a href=\"https://webofscience.help.clarivate.com/en-us/Content/search-advanced-egs.html\" target=\"_blank\">Advanced Search Examples</a>\n",
    "* <a href=\"https://webofscience.help.clarivate.com/en-us/Content/search-rules.htm\" target=\"_blank\">Search Rules</a>\n",
    "* <a href=\"https://webofscience.help.clarivate.com/en-us/Content/search-operators.html\" target=\"_blank\">Search Operators</a>\n",
    "* <a href=\"https://webofscience.help.clarivate.com/en-us/Content/home.htm\" target=\"_blank\">Web of Science Help Home</a>"
   ]
  },
  {
   "cell_type": "code",
   "execution_count": 4,
   "metadata": {
    "collapsed": false,
    "metadata": {}
   },
   "outputs": [],
   "source": [
    "base_url = 'https://api.clarivate.com/apis/wos-starter/v1/documents'\n",
    "params = {\n",
    "    'db': 'WOS',\n",
    "    'q': '(TS=\"Machine Learning\") AND DT=Article',\n",
    "    'limit': 50,\n",
    "    'page': 1\n",
    "}\n",
    "\n",
    "try:\n",
    "    response = requests.get(base_url, headers=WOS_STARTER_HEADER, params=params)\n",
    "    # Raise an error for bad responses\n",
    "    response.raise_for_status()\n",
    "    data = response.json()\n",
    "except requests.exceptions.RequestException as e:\n",
    "    print(f\"Error retrieving data: {e}\")\n",
    "    data = None"
   ]
  },
  {
   "cell_type": "markdown",
   "metadata": {
    "collapsed": false
   },
   "source": [
    "Now, let's extract the data:"
   ]
  },
  {
   "cell_type": "code",
   "execution_count": 5,
   "metadata": {
    "collapsed": false
   },
   "outputs": [
    {
     "data": {
      "text/plain": [
       "{'uid': 'WOS:A1959WX53200001',\n",
       " 'title': 'SOME STUDIES IN MACHINE LEARNING USING THE GAME OF CHECKERS',\n",
       " 'types': ['Article'],\n",
       " 'sourceTypes': ['Article'],\n",
       " 'source': {'sourceTitle': 'IBM JOURNAL OF RESEARCH AND DEVELOPMENT',\n",
       "  'publishYear': 1959,\n",
       "  'volume': '3',\n",
       "  'issue': '3',\n",
       "  'pages': {'range': '211-&', 'begin': '211', 'end': '&', 'count': 0}},\n",
       " 'names': {'authors': [{'displayName': 'SAMUEL, AL',\n",
       "    'wosStandard': 'SAMUEL, AL',\n",
       "    'researcherId': 'DQE-0158-2022'}]},\n",
       " 'links': {'record': 'https://www.webofscience.com/api/gateway?GWVersion=2&SrcApp=wosstarterua&SrcAuth=WosAPI&KeyUT=WOS:A1959WX53200001&DestLinkType=FullRecord&DestApp=WOS_CPL',\n",
       "  'citingArticles': 'https://www.webofscience.com/api/gateway?GWVersion=2&SrcApp=wosstarterua&SrcAuth=WosAPI&KeyUT=WOS:A1959WX53200001&DestLinkType=CitingArticles&DestApp=WOS_CPL',\n",
       "  'references': 'https://www.webofscience.com/api/gateway?GWVersion=2&SrcApp=wosstarterua&SrcAuth=WosAPI&KeyUT=WOS:A1959WX53200001&DestLinkType=CitedReferences&DestApp=WOS',\n",
       "  'related': 'https://www.webofscience.com/api/gateway?GWVersion=2&SrcApp=wosstarterua&SrcAuth=WosAPI&KeyUT=WOS:A1959WX53200001&DestLinkType=RelatedRecords&DestApp=WOS_CPL'},\n",
       " 'citations': [{'db': 'WOS', 'count': 1976}],\n",
       " 'identifiers': {'doi': '10.1147/rd.33.0210', 'issn': '0018-8646'},\n",
       " 'keywords': {'authorKeywords': []}}"
      ]
     },
     "execution_count": 5,
     "metadata": {},
     "output_type": "execute_result"
    }
   ],
   "source": [
    "# Display first record from returned data\n",
    "data['hits'][0]"
   ]
  },
  {
   "cell_type": "markdown",
   "metadata": {
    "collapsed": false
   },
   "source": [
    "We are given a lot of data, but we can index out specific data:"
   ]
  },
  {
   "cell_type": "code",
   "execution_count": 6,
   "metadata": {
    "collapsed": false
   },
   "outputs": [
    {
     "name": "stdout",
     "output_type": "stream",
     "text": [
      "REED, J\n",
      "TOOMBS, R\n",
      "BARRICELLI, NA\n"
     ]
    }
   ],
   "source": [
    "# Grab authors of the sixth record\n",
    "for author in data[\"hits\"][5][\"names\"][\"authors\"]:\n",
    "    print(author['displayName'])"
   ]
  },
  {
   "cell_type": "code",
   "execution_count": 7,
   "metadata": {
    "collapsed": false
   },
   "outputs": [
    {
     "data": {
      "text/plain": [
       "'10.1147/rd.33.0210'"
      ]
     },
     "execution_count": 7,
     "metadata": {},
     "output_type": "execute_result"
    }
   ],
   "source": [
    "# Grab DOI of first record\n",
    "data[\"hits\"][0][\"identifiers\"][\"doi\"]"
   ]
  },
  {
   "cell_type": "markdown",
   "metadata": {
    "collapsed": false
   },
   "source": [
    "We can also loop through the results to get data from different articles:"
   ]
  },
  {
   "cell_type": "code",
   "execution_count": 8,
   "metadata": {
    "collapsed": false
   },
   "outputs": [
    {
     "name": "stdout",
     "output_type": "stream",
     "text": [
      "IBM JOURNAL OF RESEARCH AND DEVELOPMENT\n",
      "INFORMATION AND CONTROL\n",
      "IEEE TRANSACTIONS ON INFORMATION THEORY\n",
      "INFORMATION AND CONTROL\n",
      "INFORMATION AND CONTROL\n"
     ]
    }
   ],
   "source": [
    "# Print the source title of the first five articles\n",
    "for article in data[\"hits\"][:5]:\n",
    "    print(article[\"source\"][\"sourceTitle\"])"
   ]
  },
  {
   "cell_type": "markdown",
   "metadata": {},
   "source": [
    "### Searching by DOI\n",
    "\n",
    "We can use the `DO` tag in our query in order to search for an article by its DOI. In the example below, we retrieve the first article returned by the query above using its DOI."
   ]
  },
  {
   "cell_type": "code",
   "execution_count": 9,
   "metadata": {},
   "outputs": [
    {
     "data": {
      "text/plain": [
       "[{'uid': 'WOS:A1959WX53200001',\n",
       "  'title': 'SOME STUDIES IN MACHINE LEARNING USING THE GAME OF CHECKERS',\n",
       "  'types': ['Article'],\n",
       "  'sourceTypes': ['Article'],\n",
       "  'source': {'sourceTitle': 'IBM JOURNAL OF RESEARCH AND DEVELOPMENT',\n",
       "   'publishYear': 1959,\n",
       "   'volume': '3',\n",
       "   'issue': '3',\n",
       "   'pages': {'range': '211-&', 'begin': '211', 'end': '&', 'count': 0}},\n",
       "  'names': {'authors': [{'displayName': 'SAMUEL, AL',\n",
       "     'wosStandard': 'SAMUEL, AL',\n",
       "     'researcherId': 'DQE-0158-2022'}]},\n",
       "  'links': {'record': 'https://www.webofscience.com/api/gateway?GWVersion=2&SrcApp=wosstarterua&SrcAuth=WosAPI&KeyUT=WOS:A1959WX53200001&DestLinkType=FullRecord&DestApp=WOS_CPL',\n",
       "   'citingArticles': 'https://www.webofscience.com/api/gateway?GWVersion=2&SrcApp=wosstarterua&SrcAuth=WosAPI&KeyUT=WOS:A1959WX53200001&DestLinkType=CitingArticles&DestApp=WOS_CPL',\n",
       "   'references': 'https://www.webofscience.com/api/gateway?GWVersion=2&SrcApp=wosstarterua&SrcAuth=WosAPI&KeyUT=WOS:A1959WX53200001&DestLinkType=CitedReferences&DestApp=WOS',\n",
       "   'related': 'https://www.webofscience.com/api/gateway?GWVersion=2&SrcApp=wosstarterua&SrcAuth=WosAPI&KeyUT=WOS:A1959WX53200001&DestLinkType=RelatedRecords&DestApp=WOS_CPL'},\n",
       "  'citations': [{'db': 'WOS', 'count': 1976}],\n",
       "  'identifiers': {'doi': '10.1147/rd.33.0210', 'issn': '0018-8646'},\n",
       "  'keywords': {'authorKeywords': []}}]"
      ]
     },
     "execution_count": 9,
     "metadata": {},
     "output_type": "execute_result"
    }
   ],
   "source": [
    "doi_data = None\n",
    "# Extract the DOI from the first result\n",
    "doi = data[\"hits\"][0][\"identifiers\"][\"doi\"]\n",
    "params = {\n",
    "    'db': 'WOS',\n",
    "    'q': f'(DO={doi})',\n",
    "    'limit': 1,\n",
    "    'page': 1\n",
    "}\n",
    "\n",
    "try:\n",
    "    response = requests.get(base_url, headers=WOS_STARTER_HEADER, params=params)\n",
    "    response.raise_for_status()\n",
    "    doi_data = response.json()\n",
    "except requests.exceptions.RequestException as e:\n",
    "    print(f\"Error retrieving DOI {doi} data: {e}\")\n",
    "\n",
    "# Note that this data is the same as what's returned above\n",
    "doi_data[\"hits\"]"
   ]
  },
  {
   "cell_type": "markdown",
   "metadata": {},
   "source": [
    "### Retrieving More Than 50 Results\n",
    "\n",
    "If we want to access results beyond the first 50 records, we must modify the `page` parameter on successive calls. The example below loops through the first 300 results."
   ]
  },
  {
   "cell_type": "code",
   "execution_count": 10,
   "metadata": {},
   "outputs": [
    {
     "data": {
      "text/plain": [
       "{'total': 317468, 'page': 1, 'limit': 50}"
      ]
     },
     "execution_count": 10,
     "metadata": {},
     "output_type": "execute_result"
    }
   ],
   "source": [
    "params = {\n",
    "    'db': 'WOS',\n",
    "    'q': '(TS=\"Machine Learning\") AND DT=Article',\n",
    "    'limit': 50,\n",
    "    'page': 1\n",
    "}\n",
    "\n",
    "try:\n",
    "    response = requests.get(base_url, headers=WOS_STARTER_HEADER, params=params)\n",
    "    response.raise_for_status()\n",
    "    data = response.json()\n",
    "except requests.exceptions.RequestException as e:\n",
    "    print(f\"Error retrieving data: {e}\")\n",
    "    data = None\n",
    "\n",
    "# Print metadata\n",
    "data[\"metadata\"]"
   ]
  },
  {
   "cell_type": "markdown",
   "metadata": {},
   "source": [
    "From the metadata above, we can see that this query yields 310,228 results. In order to obtain results beyond the first 50, we must modify the `page` parameter. The example below shows how to retrieve the first 300 results using 6 API calls:"
   ]
  },
  {
   "cell_type": "code",
   "execution_count": 11,
   "metadata": {},
   "outputs": [
    {
     "data": {
      "text/plain": [
       "300"
      ]
     },
     "execution_count": 11,
     "metadata": {},
     "output_type": "execute_result"
    }
   ],
   "source": [
    "titles = []\n",
    "\n",
    "for i in range(1, 7):\n",
    "\n",
    "    params = {\n",
    "        'db': 'WOS',\n",
    "        'q': '(TS=\"Machine Learning\") AND DT=Article',\n",
    "        'limit': 50,\n",
    "        'page': i\n",
    "    }\n",
    "\n",
    "    try:\n",
    "        response = requests.get(base_url, headers=WOS_STARTER_HEADER, params=params)\n",
    "        sleep(1)\n",
    "        response.raise_for_status()\n",
    "        data = response.json()\n",
    "    except requests.exceptions.RequestException as e:\n",
    "        print(f\"Error retrieving data for page {i}: {e}\")\n",
    "        data = None\n",
    "        break\n",
    "\n",
    "    for article in data[\"hits\"]:\n",
    "        titles.append(article[\"title\"])\n",
    "    \n",
    "# Print length of the results to confirm it worked\n",
    "len(titles)"
   ]
  },
  {
   "cell_type": "code",
   "execution_count": 12,
   "metadata": {},
   "outputs": [
    {
     "data": {
      "text/plain": [
       "['SOME STUDIES IN MACHINE LEARNING USING THE GAME OF CHECKERS',\n",
       " 'PROGRAMS FOR MACHINE LEARNING .1.',\n",
       " 'PATTERN-RECOGNITION AND MACHINE LEARNING']"
      ]
     },
     "execution_count": 12,
     "metadata": {},
     "output_type": "execute_result"
    }
   ],
   "source": [
    "# Print first 3 titles\n",
    "titles[:3]"
   ]
  },
  {
   "cell_type": "markdown",
   "metadata": {},
   "source": [
    "### Another Example with More Complex Options\n",
    "\n",
    "In this example, we will add more specifications like publication date and document type.\n",
    "\n",
    "The URL requires the following four parameters:\n",
    "\n",
    "1. `db` specifies what database to use. In this case, we are using the `WOS` (Web of Science) database.\n",
    "2. `q` specifies the query we are using. The following parameters are used in this case:\n",
    "    - `TS` specifies the topic to search for. In this case, we use `machine learn*` to look for topics that contain the word \"machine\" or words that start with \"learn\".\n",
    "    - `PY` specifies the publication year. In this case, we use `2009-2011`.\n",
    "    - `DT` spcifies the document type. In this case, we are looking for articles.\n",
    "3. `limit` specifies the number of records to return. Here, we use the maximum value of 50.\n",
    "4. `page` specifies what page to return, allowing us to page beyond the first page of results if needed."
   ]
  },
  {
   "cell_type": "code",
   "execution_count": 13,
   "metadata": {
    "collapsed": false,
    "metadata": {}
   },
   "outputs": [],
   "source": [
    "params = {\n",
    "    'db': 'WOS',\n",
    "    'q': '(TS=\"Machine Learning\") AND DT=Article',\n",
    "    'limit': 50,\n",
    "    'page': 1\n",
    "}\n",
    "\n",
    "try:\n",
    "    response = requests.get(base_url, headers=WOS_STARTER_HEADER, params=params)\n",
    "    response.raise_for_status()\n",
    "    data = response.json()\n",
    "except requests.exceptions.RequestException as e:\n",
    "    print(f\"Error retrieving data: {e}\")\n",
    "    data = None"
   ]
  },
  {
   "cell_type": "code",
   "execution_count": 14,
   "metadata": {
    "collapsed": false
   },
   "outputs": [
    {
     "data": {
      "text/plain": [
       "{'uid': 'WOS:A1959WX53200001',\n",
       " 'title': 'SOME STUDIES IN MACHINE LEARNING USING THE GAME OF CHECKERS',\n",
       " 'types': ['Article'],\n",
       " 'sourceTypes': ['Article'],\n",
       " 'source': {'sourceTitle': 'IBM JOURNAL OF RESEARCH AND DEVELOPMENT',\n",
       "  'publishYear': 1959,\n",
       "  'volume': '3',\n",
       "  'issue': '3',\n",
       "  'pages': {'range': '211-&', 'begin': '211', 'end': '&', 'count': 0}},\n",
       " 'names': {'authors': [{'displayName': 'SAMUEL, AL',\n",
       "    'wosStandard': 'SAMUEL, AL',\n",
       "    'researcherId': 'DQE-0158-2022'}]},\n",
       " 'links': {'record': 'https://www.webofscience.com/api/gateway?GWVersion=2&SrcApp=wosstarterua&SrcAuth=WosAPI&KeyUT=WOS:A1959WX53200001&DestLinkType=FullRecord&DestApp=WOS_CPL',\n",
       "  'citingArticles': 'https://www.webofscience.com/api/gateway?GWVersion=2&SrcApp=wosstarterua&SrcAuth=WosAPI&KeyUT=WOS:A1959WX53200001&DestLinkType=CitingArticles&DestApp=WOS_CPL',\n",
       "  'references': 'https://www.webofscience.com/api/gateway?GWVersion=2&SrcApp=wosstarterua&SrcAuth=WosAPI&KeyUT=WOS:A1959WX53200001&DestLinkType=CitedReferences&DestApp=WOS',\n",
       "  'related': 'https://www.webofscience.com/api/gateway?GWVersion=2&SrcApp=wosstarterua&SrcAuth=WosAPI&KeyUT=WOS:A1959WX53200001&DestLinkType=RelatedRecords&DestApp=WOS_CPL'},\n",
       " 'citations': [{'db': 'WOS', 'count': 1976}],\n",
       " 'identifiers': {'doi': '10.1147/rd.33.0210', 'issn': '0018-8646'},\n",
       " 'keywords': {'authorKeywords': []}}"
      ]
     },
     "execution_count": 14,
     "metadata": {},
     "output_type": "execute_result"
    }
   ],
   "source": [
    "data[\"hits\"][0]"
   ]
  },
  {
   "cell_type": "markdown",
   "metadata": {},
   "source": [
    "## 2. Batch Processing with WOS Starter\n",
    "\n",
    "This example shows a method to search for as many 50 DOIs in a single query. We suppose that we have a file `dois.txt` that contains 1000 DOIs, each listed on its own line. The DOIs in this file were obtained via the OpenAlex API (see our <a href=\"https://ua-libraries-research-data-services.github.io/UALIB_ScholarlyAPI_Cookbook/src/overview/openalex.html\" target=\"_blank\">OpenAlex recipes</a> for guidance on how to do this). Note that not all DOIs in this list are indexed in Web of Science."
   ]
  },
  {
   "cell_type": "code",
   "execution_count": 15,
   "metadata": {},
   "outputs": [
    {
     "data": {
      "text/plain": [
       "1000"
      ]
     },
     "execution_count": 15,
     "metadata": {},
     "output_type": "execute_result"
    }
   ],
   "source": [
    "dois = []\n",
    "try:\n",
    "    with open(\"dois.txt\", 'r') as f:\n",
    "        for line in f:\n",
    "            dois.append(line.strip())\n",
    "except FileNotFoundError:\n",
    "    print(\"File not found. Please check the file path and try again.\")\n",
    "    dois = []\n",
    "\n",
    "len(dois)"
   ]
  },
  {
   "cell_type": "markdown",
   "metadata": {},
   "source": [
    "Since the maximum number of results we can retrieve in a single page is 50, we can retrieve the data for each DOI with 20 queries. Note that since not all of the DOIs are indexd in WOS, we will retrieve fewer than 1000 results."
   ]
  },
  {
   "cell_type": "code",
   "execution_count": 16,
   "metadata": {},
   "outputs": [
    {
     "data": {
      "text/html": [
       "<div>\n",
       "<style scoped>\n",
       "    .dataframe tbody tr th:only-of-type {\n",
       "        vertical-align: middle;\n",
       "    }\n",
       "\n",
       "    .dataframe tbody tr th {\n",
       "        vertical-align: top;\n",
       "    }\n",
       "\n",
       "    .dataframe thead th {\n",
       "        text-align: right;\n",
       "    }\n",
       "</style>\n",
       "<table border=\"1\" class=\"dataframe\">\n",
       "  <thead>\n",
       "    <tr style=\"text-align: right;\">\n",
       "      <th></th>\n",
       "      <th>DOI</th>\n",
       "      <th>Title</th>\n",
       "      <th>Journal</th>\n",
       "      <th>Year</th>\n",
       "    </tr>\n",
       "  </thead>\n",
       "  <tbody>\n",
       "    <tr>\n",
       "      <th>0</th>\n",
       "      <td>10.1177/009385488000700401</td>\n",
       "      <td>CRIMINAL-JUSTICE AND BEHAVIOR - AN EDITORIAL R...</td>\n",
       "      <td>CRIMINAL JUSTICE AND BEHAVIOR</td>\n",
       "      <td>1980</td>\n",
       "    </tr>\n",
       "    <tr>\n",
       "      <th>1</th>\n",
       "      <td>10.2466/pr0.1982.51.2.663</td>\n",
       "      <td>THE SELF-EFFICACY SCALE - CONSTRUCTION AND VAL...</td>\n",
       "      <td>PSYCHOLOGICAL REPORTS</td>\n",
       "      <td>1982</td>\n",
       "    </tr>\n",
       "    <tr>\n",
       "      <th>2</th>\n",
       "      <td>10.1016/0022-1031(83)90023-9</td>\n",
       "      <td>PROTECTION MOTIVATION AND SELF-EFFICACY - A RE...</td>\n",
       "      <td>JOURNAL OF EXPERIMENTAL SOCIAL PSYCHOLOGY</td>\n",
       "      <td>1983</td>\n",
       "    </tr>\n",
       "    <tr>\n",
       "      <th>3</th>\n",
       "      <td>10.2307/1289308</td>\n",
       "      <td>STORYTELLING FOR OPPOSITIONISTS AND OTHERS - A...</td>\n",
       "      <td>MICHIGAN LAW REVIEW</td>\n",
       "      <td>1989</td>\n",
       "    </tr>\n",
       "    <tr>\n",
       "      <th>4</th>\n",
       "      <td>10.1016/0022-4073(92)90115-K</td>\n",
       "      <td>THE HITRAN MOLECULAR DATABASE - EDITIONS OF 19...</td>\n",
       "      <td>JOURNAL OF QUANTITATIVE SPECTROSCOPY &amp; RADIATI...</td>\n",
       "      <td>1992</td>\n",
       "    </tr>\n",
       "  </tbody>\n",
       "</table>\n",
       "</div>"
      ],
      "text/plain": [
       "                            DOI  \\\n",
       "0    10.1177/009385488000700401   \n",
       "1     10.2466/pr0.1982.51.2.663   \n",
       "2  10.1016/0022-1031(83)90023-9   \n",
       "3               10.2307/1289308   \n",
       "4  10.1016/0022-4073(92)90115-K   \n",
       "\n",
       "                                               Title  \\\n",
       "0  CRIMINAL-JUSTICE AND BEHAVIOR - AN EDITORIAL R...   \n",
       "1  THE SELF-EFFICACY SCALE - CONSTRUCTION AND VAL...   \n",
       "2  PROTECTION MOTIVATION AND SELF-EFFICACY - A RE...   \n",
       "3  STORYTELLING FOR OPPOSITIONISTS AND OTHERS - A...   \n",
       "4  THE HITRAN MOLECULAR DATABASE - EDITIONS OF 19...   \n",
       "\n",
       "                                             Journal  Year  \n",
       "0                      CRIMINAL JUSTICE AND BEHAVIOR  1980  \n",
       "1                              PSYCHOLOGICAL REPORTS  1982  \n",
       "2          JOURNAL OF EXPERIMENTAL SOCIAL PSYCHOLOGY  1983  \n",
       "3                                MICHIGAN LAW REVIEW  1989  \n",
       "4  JOURNAL OF QUANTITATIVE SPECTROSCOPY & RADIATI...  1992  "
      ]
     },
     "execution_count": 16,
     "metadata": {},
     "output_type": "execute_result"
    }
   ],
   "source": [
    "rows = []\n",
    "# We need 20 requests to retrieve 1000 results\n",
    "for i in range(20):\n",
    "    query_dois = dois[i*50:(i+1)*50]\n",
    "    query = f\"(DO=({' OR '.join(query_dois)}))\"\n",
    "\n",
    "    params = {\n",
    "        'db': 'WOS',\n",
    "        'limit': 50,\n",
    "        'page': 1,\n",
    "        'q': query\n",
    "    }\n",
    "\n",
    "    try:\n",
    "        response = requests.get(base_url, headers=WOS_STARTER_HEADER, params=params)\n",
    "        sleep(1)\n",
    "        response.raise_for_status()\n",
    "        data = response.json()\n",
    "    except requests.exceptions.RequestException as e:\n",
    "        print(f\"Error retrieving data for page {i}: {e}\")\n",
    "        data = None\n",
    "        break\n",
    "\n",
    "    if data:\n",
    "        for article in data[\"hits\"]:\n",
    "            title = article[\"title\"]\n",
    "            journal = article[\"source\"][\"sourceTitle\"]\n",
    "            year = article[\"source\"][\"publishYear\"]\n",
    "            doi = article[\"identifiers\"][\"doi\"]\n",
    "\n",
    "            rows.append([doi, title, journal, year])\n",
    "\n",
    "columns = [\"DOI\", \"Title\", \"Journal\", \"Year\"]\n",
    "df = pd.DataFrame(rows, columns=columns)\n",
    "\n",
    "df.head()"
   ]
  },
  {
   "cell_type": "markdown",
   "metadata": {},
   "source": [
    "## 3. Short Record View with WOS Expanded\n",
    "\n",
    "The Short Record view for the WOS Expanded API allows users to receive limited metadata without counting against an institution's usage quota for Full Record downloads. We recommend to first check whether the data you require is available. More information can be found in the <a href=\"https://clarivate.com/academia-government/release-notes/wos-apis/release-notes-may-23-2024/\" target=\"_blank\">WOS API release notes</a> and the <a href=\"https://api.clarivate.com/swagger-ui/?url=https://developer.clarivate.com/apis/wos/swagger\" target=\"_blank\">Swagger documentation</a>.\n",
    "\n",
    "This example uses the `citing` endpoint of the WOS Expanded API to retrieve data for a given DOI.\n",
    "\n",
    "The URL requires the following four parameters:\n",
    "\n",
    "1. `databaseId` specifies what database to use. In this case, we are using the `WOS` (Web of Science) database.\n",
    "2. `usrQuery` specifies the query we are using. The following parameters are used in this case:\n",
    "    - `DO` specifies what DOI to search for.\n",
    "3. `count` specifies the number of records to return.\n",
    "4. `firstRecord` specifies the first record to return.\n",
    "\n",
    "This example also includes the optional parameter `optionView`, which we set to `SR` to indicate that we would like to retrieve the Short Record view of this query. This parameter is set to `FR` by default, which returns the Full Record view."
   ]
  },
  {
   "cell_type": "code",
   "execution_count": 17,
   "metadata": {},
   "outputs": [],
   "source": [
    "base_url = 'https://wos-api.clarivate.com/api/wos?citing'\n",
    "doi = '10.1021/acsomega.8b01647'\n",
    "\n",
    "params = {\n",
    "    'databaseId': 'WOS',\n",
    "    'usrQuery': f'(DO=({doi}))',\n",
    "    'count': 1,\n",
    "    'firstRecord': 1,\n",
    "    'optionView': 'SR'\n",
    "}\n",
    "\n",
    "try:\n",
    "    response = requests.get(base_url, headers=WOS_EXPANDED_HEADER, params=params)\n",
    "    response.raise_for_status()\n",
    "    data = response.json()\n",
    "except requests.exceptions.RequestException as e:\n",
    "    print(f\"Error retrieving data: {e}\")\n",
    "    data = None"
   ]
  },
  {
   "cell_type": "code",
   "execution_count": 18,
   "metadata": {},
   "outputs": [
    {
     "name": "stdout",
     "output_type": "stream",
     "text": [
      "{'UID': 'WOS:000446186000103',\n",
      " 'dynamic_data': {'citation_related': {...}, 'cluster_related': {...}},\n",
      " 'links': {'citingArticles': 'https://www.webofscience.com/api/gateway?GWVersion=2&SrcApp=wosexpandedua&SrcAuth=WosAPI&KeyUT=WOS:000446186000103&DestLinkType=CitingArticles&DestApp=WOS_CPL',\n",
      "           'record': 'https://www.webofscience.com/api/gateway?GWVersion=2&SrcApp=wosexpandedua&SrcAuth=WosAPI&KeyUT=WOS:000446186000103&DestLinkType=FullRecord&DestApp=WOS_CPL',\n",
      "           'references': 'https://www.webofscience.com/api/gateway?GWVersion=2&SrcApp=wosexpandedua&SrcAuth=WosAPI&KeyUT=WOS:000446186000103&DestLinkType=CitedReferences&DestApp=WOS',\n",
      "           'related': 'https://www.webofscience.com/api/gateway?GWVersion=2&SrcApp=wosexpandedua&SrcAuth=WosAPI&KeyUT=WOS:000446186000103&DestLinkType=RelatedRecords&DestApp=WOS_CPL'},\n",
      " 'r_id_disclaimer': 'ResearcherID data provided by Clarivate Analytics',\n",
      " 'static_data': {'fullrecord_metadata': {...}, 'summary': {...}}}\n"
     ]
    }
   ],
   "source": [
    "if data:\n",
    "    # Extract data of the first article returned\n",
    "    sr_article_data = data['Data']['Records']['records']['REC'][0]\n",
    "    pprint(sr_article_data, depth=2)\n",
    "else:\n",
    "    sr_article_data = None"
   ]
  },
  {
   "cell_type": "markdown",
   "metadata": {},
   "source": [
    "As we can see in the output above, the results are primarily split between `static_data` and `dynamic_data`."
   ]
  },
  {
   "cell_type": "markdown",
   "metadata": {},
   "source": [
    "### Retrieving Static Metadata\n",
    "\n",
    "The basic structure of the static metadata is given below:"
   ]
  },
  {
   "cell_type": "code",
   "execution_count": 19,
   "metadata": {},
   "outputs": [
    {
     "name": "stdout",
     "output_type": "stream",
     "text": [
      "{'fullrecord_metadata': {'normalized_doctypes': {...}, 'refs': {...}},\n",
      " 'summary': {'doctypes': {...},\n",
      "             'names': {...},\n",
      "             'pub_info': {...},\n",
      "             'titles': {...}}}\n"
     ]
    }
   ],
   "source": [
    "if sr_article_data:\n",
    "    pprint(sr_article_data['static_data'], depth=2)"
   ]
  },
  {
   "cell_type": "markdown",
   "metadata": {},
   "source": [
    "The `summary` contains basic data relating to the publication. We extract some of this data in the examples below."
   ]
  },
  {
   "cell_type": "code",
   "execution_count": 20,
   "metadata": {},
   "outputs": [
    {
     "data": {
      "text/plain": [
       "[{'type': 'source', 'content': 'ACS OMEGA'},\n",
       " {'type': 'item',\n",
       "  'content': 'How Precise Are Our Quantitative Structure-Activity Relationship Derived Predictions for New Query Chemicals?'}]"
      ]
     },
     "execution_count": 20,
     "metadata": {},
     "output_type": "execute_result"
    }
   ],
   "source": [
    "# Print source and article titles\n",
    "sr_article_data['static_data']['summary']['titles']['title']"
   ]
  },
  {
   "cell_type": "code",
   "execution_count": 21,
   "metadata": {},
   "outputs": [
    {
     "name": "stdout",
     "output_type": "stream",
     "text": [
      "author : Roy, Kunal\n",
      "author : Ambure, Pravin\n",
      "author : Kar, Supratik\n"
     ]
    }
   ],
   "source": [
    "# Print authors\n",
    "for name in sr_article_data['static_data']['summary']['names']['name']:\n",
    "    print(name['role'], ':', name['display_name'])"
   ]
  },
  {
   "cell_type": "code",
   "execution_count": 22,
   "metadata": {},
   "outputs": [
    {
     "data": {
      "text/plain": [
       "{'vol': 3, 'pubyear': 2018, 'pubtype': 'Journal', 'page': {'page_count': 15}}"
      ]
     },
     "execution_count": 22,
     "metadata": {},
     "output_type": "execute_result"
    }
   ],
   "source": [
    "# Print volume and page data\n",
    "sr_article_data['static_data']['summary']['pub_info']"
   ]
  },
  {
   "cell_type": "markdown",
   "metadata": {},
   "source": [
    "### Retrieving Dynamic Data\n",
    "\n",
    "The entirety of the `dynamic_data` of the Short Record is printed below. The `dynamic_data` will be more thoroughly explored in later examples using the Full Record view."
   ]
  },
  {
   "cell_type": "code",
   "execution_count": 23,
   "metadata": {},
   "outputs": [
    {
     "data": {
      "text/plain": [
       "{'citation_related': {'tc_list': {'tc_mod_date': '2025-04-17',\n",
       "   'silo_tc': {'coll_id': 'WOS', 'local_count': 104}}},\n",
       " 'cluster_related': {'identifiers': {'identifier': [{'type': 'issn',\n",
       "     'value': '2470-1343'},\n",
       "    {'type': 'doi', 'value': '10.1021/acsomega.8b01647'},\n",
       "    {'type': 'pmid', 'value': 'MEDLINE:31459245'}]}}}"
      ]
     },
     "execution_count": 23,
     "metadata": {},
     "output_type": "execute_result"
    }
   ],
   "source": [
    "sr_article_data['dynamic_data']"
   ]
  },
  {
   "cell_type": "markdown",
   "metadata": {},
   "source": [
    "## 4. Full Record View with WOS Expanded\n",
    "\n",
    "This example analyzes the Full Record view of the same article as the previous example. All parameters are the same as the previous example except for `optionView`, which is set to `FR` (the default value)."
   ]
  },
  {
   "cell_type": "code",
   "execution_count": 24,
   "metadata": {
    "collapsed": false,
    "pycharm": {
     "name": "#%%\n"
    }
   },
   "outputs": [],
   "source": [
    "doi = '10.1021/acsomega.8b01647'\n",
    "\n",
    "params = {\n",
    "    'databaseId': 'WOS',\n",
    "    'usrQuery': f'(DO=({doi}))',\n",
    "    'count': 1,\n",
    "    'firstRecord': 1,\n",
    "    'optionView': 'FR'\n",
    "}\n",
    "\n",
    "try:\n",
    "    response = requests.get(base_url, headers=WOS_EXPANDED_HEADER, params=params)\n",
    "    response.raise_for_status()\n",
    "    data = response.json()\n",
    "except requests.exceptions.RequestException as e:\n",
    "    print(f\"Error retrieving data: {e}\")\n",
    "    data = None"
   ]
  },
  {
   "cell_type": "code",
   "execution_count": 25,
   "metadata": {},
   "outputs": [
    {
     "name": "stdout",
     "output_type": "stream",
     "text": [
      "{'UID': 'WOS:000446186000103',\n",
      " 'dates': {'date_created': '2018-10-16T08:20:52.724758',\n",
      "           'date_loaded': '2018-09-01T23:59:59.00000',\n",
      "           'date_modified': '2020-09-22T11:27:33.607987'},\n",
      " 'dynamic_data': {'citation_related': {...},\n",
      "                  'cluster_related': {...},\n",
      "                  'wos_usage': {...}},\n",
      " 'r_id_disclaimer': 'ResearcherID data provided by Clarivate Analytics',\n",
      " 'static_data': {'contributors': {...},\n",
      "                 'fullrecord_metadata': {...},\n",
      "                 'item': {...},\n",
      "                 'summary': {...}}}\n"
     ]
    }
   ],
   "source": [
    "if data:\n",
    "    # Extract data of the first article returned\n",
    "    fr_article_data = data['Data']['Records']['records']['REC'][0]\n",
    "    pprint(fr_article_data, depth=2)\n",
    "else:\n",
    "    fr_article_data = None"
   ]
  },
  {
   "cell_type": "markdown",
   "metadata": {},
   "source": [
    "### Retrieving Static Metadata\n",
    "\n",
    "The `static_data` contains the following information:"
   ]
  },
  {
   "cell_type": "code",
   "execution_count": 26,
   "metadata": {},
   "outputs": [
    {
     "name": "stdout",
     "output_type": "stream",
     "text": [
      "{'contributors': {'contributor': [...], 'count': 4},\n",
      " 'fullrecord_metadata': {'abstracts': {...},\n",
      "                         'addresses': {...},\n",
      "                         'category_info': {...},\n",
      "                         'fund_ack': {...},\n",
      "                         'languages': {...},\n",
      "                         'normalized_doctypes': {...},\n",
      "                         'normalized_languages': {...},\n",
      "                         'refs': {...},\n",
      "                         'reprint_addresses': {...}},\n",
      " 'item': {'bib_id': '3 (9): 11392-11406 SEP 2018',\n",
      "          'bib_pagecount': {...},\n",
      "          'coll_id': 'WOS',\n",
      "          'ids': {...},\n",
      "          'keywords_plus': {...},\n",
      "          'xmlns:xsi': 'http://www.w3.org/2001/XMLSchema-instance',\n",
      "          'xsi:type': 'itemType_wos'},\n",
      " 'summary': {'EWUID': {...},\n",
      "             'doctypes': {...},\n",
      "             'names': {...},\n",
      "             'pub_info': {...},\n",
      "             'publishers': {...},\n",
      "             'titles': {...}}}\n"
     ]
    }
   ],
   "source": [
    "pprint(fr_article_data['static_data'], depth=2)"
   ]
  },
  {
   "cell_type": "markdown",
   "metadata": {},
   "source": [
    "Now, we can extract some information out of the static data."
   ]
  },
  {
   "cell_type": "code",
   "execution_count": 27,
   "metadata": {},
   "outputs": [
    {
     "name": "stdout",
     "output_type": "stream",
     "text": [
      "AMBURE, PRAVIN\n",
      "Roy, Kunal\n",
      "Kar, Supratik: 0000-0002-9411-2091\n",
      "Roy, Kunal: 0000-0003-4486-8074\n"
     ]
    }
   ],
   "source": [
    "# Extract contributors' names and ORCID ID (if available)\n",
    "for contributor in fr_article_data['static_data']['contributors']['contributor']:\n",
    "    if 'orcid_id' in contributor['name']:\n",
    "        print(f\"{contributor['name']['display_name']}: {contributor['name']['orcid_id']}\")\n",
    "    else:\n",
    "        print(f\"{contributor['name']['display_name']}\")"
   ]
  },
  {
   "cell_type": "code",
   "execution_count": 28,
   "metadata": {},
   "outputs": [
    {
     "data": {
      "text/plain": [
       "{'count': 1,\n",
       " 'grant': {'grant_agency_names': [{'pref': 'Y',\n",
       "    'content': 'University Grants Commission, India'},\n",
       "   {'pref': 'N', 'content': 'UGC, New Delhi'}],\n",
       "  'grant_agency': 'UGC, New Delhi'}}"
      ]
     },
     "execution_count": 28,
     "metadata": {},
     "output_type": "execute_result"
    }
   ],
   "source": [
    "# Print the funding acknowledgement data\n",
    "fr_article_data['static_data']['fullrecord_metadata']['fund_ack']['grants']"
   ]
  },
  {
   "cell_type": "code",
   "execution_count": 29,
   "metadata": {},
   "outputs": [
    {
     "data": {
      "text/plain": [
       "{'names': {'count': 1,\n",
       "  'name': {'seq_no': 1,\n",
       "   'role': 'publisher',\n",
       "   'full_name': 'AMER CHEMICAL SOC',\n",
       "   'unified_name': 'Amer Chemical Soc',\n",
       "   'addr_no': 1,\n",
       "   'display_name': 'AMER CHEMICAL SOC'}},\n",
       " 'address_spec': {'city': 'WASHINGTON',\n",
       "  'addr_no': 1,\n",
       "  'full_address': '1155 16TH ST, NW, WASHINGTON, DC 20036 USA'}}"
      ]
     },
     "execution_count": 29,
     "metadata": {},
     "output_type": "execute_result"
    }
   ],
   "source": [
    "# Print publisher data\n",
    "fr_article_data['static_data']['summary']['publishers']['publisher']"
   ]
  },
  {
   "cell_type": "markdown",
   "metadata": {},
   "source": [
    "### Retrieving Dynamic Metadata\n",
    "\n",
    "The `dynamic_data` contains the following information:"
   ]
  },
  {
   "cell_type": "code",
   "execution_count": 30,
   "metadata": {},
   "outputs": [
    {
     "name": "stdout",
     "output_type": "stream",
     "text": [
      "{'citation_related': {'SDG': {...},\n",
      "                      'citation_topics': {...},\n",
      "                      'tc_list': {...},\n",
      "                      'tc_list_cc': {...}},\n",
      " 'cluster_related': {'identifiers': {...}},\n",
      " 'wos_usage': {'alltime': 14, 'last180days': 0}}\n"
     ]
    }
   ],
   "source": [
    "pprint(fr_article_data['dynamic_data'], depth=2)"
   ]
  },
  {
   "cell_type": "code",
   "execution_count": 31,
   "metadata": {},
   "outputs": [
    {
     "data": {
      "text/plain": [
       "[{'content-type': 'macro', 'content-id': '2', 'content': 'Chemistry'},\n",
       " {'content-type': 'meso',\n",
       "  'content-id': '2.123',\n",
       "  'content': 'Protein Structure, Folding & Modelling'},\n",
       " {'content-type': 'micro', 'content-id': '2.123.778', 'content': 'QSAR'}]"
      ]
     },
     "execution_count": 31,
     "metadata": {},
     "output_type": "execute_result"
    }
   ],
   "source": [
    "# Print subjects of related citations\n",
    "fr_article_data['dynamic_data']['citation_related']['citation_topics']['subj-group']['subject']"
   ]
  },
  {
   "cell_type": "code",
   "execution_count": 32,
   "metadata": {},
   "outputs": [
    {
     "data": {
      "text/plain": [
       "[{'type': 'issn', 'value': '2470-1343'},\n",
       " {'type': 'doi', 'value': '10.1021/acsomega.8b01647'},\n",
       " {'type': 'pmid', 'value': 'MEDLINE:31459245'}]"
      ]
     },
     "execution_count": 32,
     "metadata": {},
     "output_type": "execute_result"
    }
   ],
   "source": [
    "# Print identifiers\n",
    "fr_article_data['dynamic_data']['cluster_related']['identifiers']['identifier']"
   ]
  },
  {
   "cell_type": "code",
   "execution_count": 33,
   "metadata": {},
   "outputs": [
    {
     "name": "stdout",
     "output_type": "stream",
     "text": [
      "There are 104 citations in the WOS database.\n"
     ]
    }
   ],
   "source": [
    "for db in fr_article_data['dynamic_data']['citation_related']['tc_list']['silo_tc']:\n",
    "    if db['coll_id'] == 'WOS':\n",
    "        print(f\"There are {db['local_count']} citations in the WOS database.\")"
   ]
  },
  {
   "cell_type": "markdown",
   "metadata": {},
   "source": [
    "## 5. Retrieving References from an Article (WOS Expanded)\n",
    "\n",
    "In this example, we use the `references` endpoint to retrieve the articles that a given article cites."
   ]
  },
  {
   "cell_type": "code",
   "execution_count": 34,
   "metadata": {
    "collapsed": false,
    "pycharm": {
     "name": "#%%\n"
    }
   },
   "outputs": [
    {
     "name": "stdout",
     "output_type": "stream",
     "text": [
      "43 records found\n"
     ]
    }
   ],
   "source": [
    "base_url = 'https://wos-api.clarivate.com/api/wos/references'\n",
    "if fr_article_data:\n",
    "    # Use the WOS ID of the article from the previous example\n",
    "    wos_id = fr_article_data[\"UID\"]\n",
    "    \n",
    "    params = {\n",
    "        'databaseId': 'WOS',\n",
    "        'uniqueId': wos_id,\n",
    "        'count': 100,\n",
    "        'firstRecord': 1\n",
    "    }\n",
    "\n",
    "    try:\n",
    "        response = requests.get(base_url, headers=WOS_EXPANDED_HEADER, params=params)\n",
    "        response.raise_for_status()\n",
    "        data = response.json()\n",
    "        print(f\"{data['QueryResult']['RecordsFound']} records found\")\n",
    "    except requests.exceptions.RequestException as e:\n",
    "        print(f\"Error retrieving data: {e}\")\n",
    "        data = None\n",
    "else:\n",
    "    wos_id = None"
   ]
  },
  {
   "cell_type": "code",
   "execution_count": 35,
   "metadata": {},
   "outputs": [
    {
     "data": {
      "text/plain": [
       "{'UID': 'WOS:000425492800015',\n",
       " 'CitedAuthor': 'Gajewicz, A.',\n",
       " 'TimesCited': '58',\n",
       " 'Year': '2018',\n",
       " 'Page': '408',\n",
       " 'Volume': '5',\n",
       " 'CitedWork': 'ENVIRONMENTAL SCIENCE-NANO',\n",
       " 'CitedTitle': \"How to judge whether QSAR/read-across predictions can be trusted: a novel approach for establishing a model's applicability domain\",\n",
       " 'DOI': '10.1039/c7en00774d'}"
      ]
     },
     "execution_count": 35,
     "metadata": {},
     "output_type": "execute_result"
    }
   ],
   "source": [
    "data['Data'][0]"
   ]
  },
  {
   "cell_type": "code",
   "execution_count": 36,
   "metadata": {},
   "outputs": [
    {
     "name": "stdout",
     "output_type": "stream",
     "text": [
      "Gajewicz, A., How to judge whether QSAR/read-across predictions can be trusted: a novel approach for establishing a model's applicability domain, ENVIRONMENTAL SCIENCE-NANO, 2018, 5, 408, 10.1039/c7en00774d\n",
      "Liu, Ruifeng, General Approach to Estimate Error Bars for Quantitative Structure-Activity Relationship Predictions of Molecular Activity, JOURNAL OF CHEMICAL INFORMATION AND MODELING, 2018, 58, 1561, 10.1021/acs.jcim.8b00114\n",
      "Roy, Kunal, Is it possible to improve the quality of predictions from an \"intelligent\" use of multiple QSAR/QSPR/QSTR models?, JOURNAL OF CHEMOMETRICS, 2018, 32, , 10.1002/cem.2992\n"
     ]
    }
   ],
   "source": [
    "# Print data for the first 3 results\n",
    "categories = [\"CitedAuthor\", \"CitedTitle\", \"CitedWork\", \"Year\", \"Volume\", \"Page\", \"DOI\"]\n",
    "for article in data[\"Data\"][:3]:\n",
    "    line = ''\n",
    "    for category in categories:\n",
    "        # Append data to string if it exists, otherwise append nothing\n",
    "        line += article.get(category, '') + ', '\n",
    "    # Remove extra ', ' from end\n",
    "    line = line[:-2]\n",
    "    print(line)"
   ]
  },
  {
   "cell_type": "markdown",
   "metadata": {},
   "source": [
    "## 6. Retrieving Citations from an Article (WOS Expanded)\n",
    "\n",
    "In this example, we'll use the `citing` endpoint to retrieve the articles that cite a given article."
   ]
  },
  {
   "cell_type": "code",
   "execution_count": 37,
   "metadata": {
    "collapsed": false,
    "metadata": {},
    "pycharm": {
     "name": "#%%\n"
    }
   },
   "outputs": [
    {
     "name": "stdout",
     "output_type": "stream",
     "text": [
      "101 records found\n"
     ]
    }
   ],
   "source": [
    "base_url = 'https://wos-api.clarivate.com/api/wos/citing'\n",
    "if wos_id:\n",
    "\n",
    "    params = {\n",
    "        'databaseId': 'WOS',\n",
    "        'uniqueId': wos_id,\n",
    "        # Retrieve the Full Record (goes against Full Record request limit)\n",
    "        'optionView': 'FR',  \n",
    "        'count': 100,\n",
    "        'firstRecord': 1\n",
    "    }\n",
    "\n",
    "    try:\n",
    "        response = requests.get(base_url, headers=WOS_EXPANDED_HEADER, params=params)\n",
    "        response.raise_for_status()\n",
    "        data = response.json()\n",
    "        # Display results of query\n",
    "        print(f'{data[\"QueryResult\"][\"RecordsFound\"]} records found')\n",
    "    except requests.exceptions.RequestException as e:\n",
    "        print(f\"Error retrieving data: {e}\")\n",
    "        data = None\n"
   ]
  },
  {
   "cell_type": "code",
   "execution_count": 38,
   "metadata": {},
   "outputs": [
    {
     "name": "stdout",
     "output_type": "stream",
     "text": [
      "{'UID': 'WOS:001403397400001',\n",
      " 'dates': {'date_created': '2025-01-29T19:36:46.347668',\n",
      "           'date_loaded': '2025-01-29T23:59:59.00000',\n",
      "           'date_modified': '2025-03-24T00:14:45.279841'},\n",
      " 'dynamic_data': {'citation_related': {...},\n",
      "                  'cluster_related': {...},\n",
      "                  'wos_usage': {...}},\n",
      " 'r_id_disclaimer': 'ResearcherID data provided by Clarivate Analytics',\n",
      " 'static_data': {'contributors': {...},\n",
      "                 'fullrecord_metadata': {...},\n",
      "                 'item': {...},\n",
      "                 'summary': {...}}}\n"
     ]
    }
   ],
   "source": [
    "# Print the first record of the results\n",
    "pprint(data['Data']['Records']['records']['REC'][0], depth=2)"
   ]
  },
  {
   "cell_type": "code",
   "execution_count": 39,
   "metadata": {},
   "outputs": [
    {
     "name": "stdout",
     "output_type": "stream",
     "text": [
      "{'contributors': {'contributor': [...], 'count': 3},\n",
      " 'fullrecord_metadata': {'abstracts': {...},\n",
      "                         'addresses': {...},\n",
      "                         'category_info': {...},\n",
      "                         'fund_ack': {...},\n",
      "                         'keywords': {...},\n",
      "                         'languages': {...},\n",
      "                         'normalized_doctypes': {...},\n",
      "                         'normalized_languages': {...},\n",
      "                         'refs': {...},\n",
      "                         'reprint_addresses': {...}},\n",
      " 'item': {'bib_id': '279: - FEB 2025',\n",
      "          'bib_pagecount': {...},\n",
      "          'coll_id': 'WOS',\n",
      "          'ids': {...},\n",
      "          'keywords_plus': {...},\n",
      "          'xmlns:xsi': 'http://www.w3.org/2001/XMLSchema-instance',\n",
      "          'xsi:type': 'itemType_wos'},\n",
      " 'summary': {'EWUID': {...},\n",
      "             'doctypes': {...},\n",
      "             'names': {...},\n",
      "             'pub_info': {...},\n",
      "             'publishers': {...},\n",
      "             'titles': {...}}}\n"
     ]
    }
   ],
   "source": [
    "pprint(data['Data']['Records']['records']['REC'][0]['static_data'], depth=2)"
   ]
  },
  {
   "cell_type": "code",
   "execution_count": 40,
   "metadata": {},
   "outputs": [
    {
     "name": "stdout",
     "output_type": "stream",
     "text": [
      "Pore, Souvik, Intelligent consensus-based predictions of early life stage toxicity in fish tested in compliance with OECD Test Guideline 210, AQUATIC TOXICOLOGY, 2025, 279, \n",
      "El Yaqoubi, Mohamed, Pyridopyrazine derivatives as highly selective histamine H4 receptor antagonist for the treatment of atopic dermatitis: QSAR modeling and molecular docking studies, AIMS ALLERGY AND IMMUNOLOGY, 2024, 8, 303\n",
      "Chen, Shuo, High-throughput prediction of oral acute toxicity in<i> Rat</i> and<i> Mouse</i> of over 100,000 polychlorinated persistent organic pollutants (PC-POPs) by interpretable data fusion-driven machine learning global models, JOURNAL OF HAZARDOUS MATERIALS, 2024, 480, \n"
     ]
    }
   ],
   "source": [
    "# Print data for the first 4 citations\n",
    "for citation in data[\"Data\"][\"Records\"][\"records\"][\"REC\"][:3]:\n",
    "    first_author = title = source = year = volume = page = \"\"\n",
    "\n",
    "    # Grab the name of the first author listed\n",
    "    first_author = citation[\"static_data\"][\"summary\"][\"names\"][\"name\"][0][\"full_name\"]\n",
    "    \n",
    "    # Grab source and article titles\n",
    "    for metadatum in citation[\"static_data\"][\"summary\"][\"titles\"][\"title\"]:\n",
    "        if metadatum[\"type\"] == \"item\":\n",
    "            title = metadatum[\"content\"]\n",
    "        elif metadatum[\"type\"] == \"source\":\n",
    "            source = metadatum[\"content\"]\n",
    "    \n",
    "    # Grab year and volume\n",
    "    year = citation[\"static_data\"][\"summary\"][\"pub_info\"][\"pubyear\"]\n",
    "    # Leave empty if no Volume given\n",
    "    volume = citation[\"static_data\"][\"summary\"][\"pub_info\"].get(\"vol\", \"\")\n",
    "    # Leave empty if no Page given\n",
    "    page = citation[\"static_data\"][\"summary\"][\"pub_info\"][\"page\"].get(\"begin\", \"\")\n",
    "\n",
    "    print(f\"{first_author}, {title}, {source}, {year}, {volume}, {page}\")"
   ]
  }
 ],
 "metadata": {
  "kernelspec": {
   "display_name": "api_env",
   "language": "python",
   "name": "python3"
  },
  "language_info": {
   "codemirror_mode": {
    "name": "ipython",
    "version": 3
   },
   "file_extension": ".py",
   "mimetype": "text/x-python",
   "name": "python",
   "nbconvert_exporter": "python",
   "pygments_lexer": "ipython3",
   "version": "3.13.2"
  }
 },
 "nbformat": 4,
 "nbformat_minor": 0
}
