{
 "cells": [
  {
   "cell_type": "markdown",
   "metadata": {
    "collapsed": false
   },
   "source": [
    "# Web of Science Starter and Expanded APIs in Python\n",
    "\n",
    "by Michael T. Moen and Avery Fernandez\n",
    "\n",
    "**Web of Science Starter API Documentation**: https://api.clarivate.com/swagger-ui/?url=https%3A%2F%2Fdeveloper.clarivate.com%2Fapis%2Fwos-starter%2Fswagger%3FforUser%3D984a370b61be00d769c8d8c6ec49abba804d5a2e\n",
    "\n",
    "**Web of Science Expanded API Documentation**: https://api.clarivate.com/swagger-ui/?url=https%3A%2F%2Fdeveloper.clarivate.com%2Fapis%2Fwos%2Fswagger\n",
    "\n",
    "**Web of Science Examples**: https://images.webofknowledge.com/WOKRS529AR7/help/WOS/hp_advanced_examples.html\n",
    "\n",
    "**Web of Science API Release Notes:** https://clarivate.com/academia-government/release-notes/wos-apis/\n",
    "\n",
    "**Web of Science Terms of Use**: https://clarivate.com/wp-content/uploads/dlm_uploads/2019/08/End-User-Terms.pdf\n",
    "\n",
    "**Clarivate Product / Service Terms**: https://clarivate.com/wp-content/uploads/dlm_uploads/2023/12/Product-Terms-v3.7-Web-of-Science-APIs.pdf\n",
    "\n",
    "Please check with your institution on Web of Science API access.\n",
    "\n",
    "Users from the University of Alabama (UA) have access to the [institutional plan for the WOS Starter API](https://developer.clarivate.com/apis/wos-starter#plans) and the [basic plan for the WOS Expanded API](https://developer.clarivate.com/apis/wos) and can sign up [here](https://developer.clarivate.com/). (see the [Developer Portal](https://developer.clarivate.com/apis/wos#plans) for more information).\n",
    "- UA users are encouraged to access the WOS Starter API using the institutional plan, which has higher limits (5 requests/second and 5,000 requests/day) than the free plan (1 request/second and 50 requests/day).\n",
    "- UA users can access the WOS Expanded API using the institution's basic plan, which limits the access of the whole institution (2 requests/second and 50,000 full records/year). Please contact UA Libraries if you anticipate a need greater than 1000 full record API requests.\n",
    "\n",
    "We thank Clarivate Support for their helpful suggestions with this API tutorial.\n",
    "\n",
    "*These recipe examples were tested on February 12, 2025.*"
   ]
  },
  {
   "cell_type": "markdown",
   "metadata": {},
   "source": [
    "## Setup\n",
    "\n",
    "### API Keys\n",
    "\n"
   ]
  },
  {
   "cell_type": "markdown",
   "metadata": {},
   "source": [
    "Import your API keys:"
   ]
  },
  {
   "cell_type": "code",
   "execution_count": 1,
   "metadata": {
    "metadata": {}
   },
   "outputs": [],
   "source": [
    "from api_keys import wos_starter_key, wos_expanded_key"
   ]
  },
  {
   "cell_type": "markdown",
   "metadata": {},
   "source": [
    "This tutorial will use the headers for authentication:"
   ]
  },
  {
   "cell_type": "code",
   "execution_count": 2,
   "metadata": {},
   "outputs": [],
   "source": [
    "WOS_STARTER_HEADER = {\"X-ApiKey\": wos_starter_key}\n",
    "WOS_EXPANDED_HEADER = {\"X-ApiKey\": wos_expanded_key}"
   ]
  },
  {
   "cell_type": "markdown",
   "metadata": {},
   "source": [
    "### Import Libraries\n",
    "\n",
    "This tutorial uses the following libraries:"
   ]
  },
  {
   "cell_type": "code",
   "execution_count": 3,
   "metadata": {
    "collapsed": false
   },
   "outputs": [],
   "source": [
    "import requests\n",
    "from pprint import pprint\n",
    "from time import sleep\n",
    "import pandas as pd"
   ]
  },
  {
   "cell_type": "markdown",
   "metadata": {},
   "source": [
    "## 1. Basic Search Queries with WOS Starter\n",
    "\n",
    "To begin, let's construct a basic query to retrieve data for articles about machine learning.\n",
    "\n",
    "The URL requires the following four parameters:\n",
    "\n",
    "1. `db` specifies what database to use. In this case, we are using the `WOS` (Web of Science) database.\n",
    "2. `q` specifies the query we are using. The following parameters are used to specify topics and document types:\n",
    "    - `TS` specifies the topic to search for. In this case, we are looking for articles with \"Machine Learning\" in the topic.\n",
    "    - `DT` spcifies the document type. In this case we are looking for articles.\n",
    "3. `limit` specifies the number of records to return. Here, we use the maximum value of 50.\n",
    "4. `page` specifies what page to return, allowing us to page beyond the first page of results if needed.\n",
    "\n",
    "You can practice generating queries here: https://www.webofscience.com/wos/woscc/advanced-search\n",
    "\n",
    "You can also read about more advanced queries here: \n",
    "* https://webofscience.help.clarivate.com/en-us/Content/search-advanced-egs.html\n",
    "* https://webofscience.help.clarivate.com/en-us/Content/search-rules.htm\n",
    "* https://webofscience.help.clarivate.com/en-us/Content/search-operators.html\n",
    "* https://webofscience.help.clarivate.com/en-us/Content/home.htm"
   ]
  },
  {
   "cell_type": "code",
   "execution_count": 4,
   "metadata": {
    "collapsed": false,
    "metadata": {}
   },
   "outputs": [
    {
     "data": {
      "text/plain": [
       "200"
      ]
     },
     "execution_count": 4,
     "metadata": {},
     "output_type": "execute_result"
    }
   ],
   "source": [
    "parameters = '&'.join([\n",
    "    'db=WOS',\n",
    "    'q=((TS=\"Machine Learning\") AND DT=Article)',\n",
    "    'limit=50',\n",
    "    'page=1'\n",
    "])\n",
    "\n",
    "url = f'https://api.clarivate.com/apis/wos-starter/v1/documents?{parameters}'\n",
    "response = requests.get(url, headers=WOS_STARTER_HEADER)\n",
    "\n",
    "# Status code 200 means the call was successful\n",
    "response.status_code"
   ]
  },
  {
   "cell_type": "markdown",
   "metadata": {
    "collapsed": false
   },
   "source": [
    "Now, let's extract the data:"
   ]
  },
  {
   "cell_type": "code",
   "execution_count": 5,
   "metadata": {
    "collapsed": false
   },
   "outputs": [
    {
     "data": {
      "text/plain": [
       "{'uid': 'WOS:A1959WX53200001',\n",
       " 'title': 'SOME STUDIES IN MACHINE LEARNING USING THE GAME OF CHECKERS',\n",
       " 'types': ['Article'],\n",
       " 'sourceTypes': ['Article'],\n",
       " 'source': {'sourceTitle': 'IBM JOURNAL OF RESEARCH AND DEVELOPMENT',\n",
       "  'publishYear': 1959,\n",
       "  'volume': '3',\n",
       "  'issue': '3',\n",
       "  'pages': {'range': '211-&', 'begin': '211', 'end': '&', 'count': 0}},\n",
       " 'names': {'authors': [{'displayName': 'SAMUEL, AL',\n",
       "    'wosStandard': 'SAMUEL, AL',\n",
       "    'researcherId': 'DQE-0158-2022'}]},\n",
       " 'links': {'record': 'https://www.webofscience.com/api/gateway?GWVersion=2&SrcApp=wosliteua&SrcAuth=WosAPI&KeyUT=WOS:A1959WX53200001&DestLinkType=FullRecord&DestApp=WOS_CPL',\n",
       "  'references': 'https://www.webofscience.com/api/gateway?GWVersion=2&SrcApp=wosliteua&SrcAuth=WosAPI&KeyUT=WOS:A1959WX53200001&DestLinkType=CitedReferences&DestApp=WOS',\n",
       "  'related': 'https://www.webofscience.com/api/gateway?GWVersion=2&SrcApp=wosliteua&SrcAuth=WosAPI&KeyUT=WOS:A1959WX53200001&DestLinkType=RelatedRecords&DestApp=WOS_CPL'},\n",
       " 'citations': [],\n",
       " 'identifiers': {'doi': '10.1147/rd.33.0210', 'issn': '0018-8646'},\n",
       " 'keywords': {'authorKeywords': []}}"
      ]
     },
     "execution_count": 5,
     "metadata": {},
     "output_type": "execute_result"
    }
   ],
   "source": [
    "data = response.json()\n",
    "\n",
    "# Display first record from returned data\n",
    "data['hits'][0]"
   ]
  },
  {
   "cell_type": "markdown",
   "metadata": {
    "collapsed": false
   },
   "source": [
    "We are given a lot of data, but we can index out specific data:"
   ]
  },
  {
   "cell_type": "code",
   "execution_count": 6,
   "metadata": {
    "collapsed": false
   },
   "outputs": [
    {
     "name": "stdout",
     "output_type": "stream",
     "text": [
      "REED, J\n",
      "TOOMBS, R\n",
      "BARRICELLI, NA\n"
     ]
    }
   ],
   "source": [
    "# Grab authors of the sixth record\n",
    "for author in data[\"hits\"][5][\"names\"][\"authors\"]:\n",
    "    print(author['displayName'])"
   ]
  },
  {
   "cell_type": "code",
   "execution_count": 7,
   "metadata": {
    "collapsed": false
   },
   "outputs": [
    {
     "data": {
      "text/plain": [
       "'10.1147/rd.33.0210'"
      ]
     },
     "execution_count": 7,
     "metadata": {},
     "output_type": "execute_result"
    }
   ],
   "source": [
    "# Grab DOI of first record\n",
    "data[\"hits\"][0][\"identifiers\"][\"doi\"]"
   ]
  },
  {
   "cell_type": "markdown",
   "metadata": {
    "collapsed": false
   },
   "source": [
    "We can also loop through the results to get data from different articles:"
   ]
  },
  {
   "cell_type": "code",
   "execution_count": 8,
   "metadata": {
    "collapsed": false
   },
   "outputs": [
    {
     "name": "stdout",
     "output_type": "stream",
     "text": [
      "'IBM JOURNAL OF RESEARCH AND DEVELOPMENT'\n",
      "'INFORMATION AND CONTROL'\n",
      "'IEEE TRANSACTIONS ON INFORMATION THEORY'\n",
      "'INFORMATION AND CONTROL'\n",
      "'INFORMATION AND CONTROL'\n"
     ]
    }
   ],
   "source": [
    "# Print the source title of the first five articles\n",
    "for article in data[\"hits\"][:5]:\n",
    "    pprint(article[\"source\"][\"sourceTitle\"])"
   ]
  },
  {
   "cell_type": "markdown",
   "metadata": {},
   "source": [
    "### Searching by DOI\n",
    "\n",
    "We can use the `DO` tag in our query in order to search for an article by its DOI. In the example below, we retrieve the first article returned by the query above using its DOI."
   ]
  },
  {
   "cell_type": "code",
   "execution_count": 9,
   "metadata": {},
   "outputs": [
    {
     "data": {
      "text/plain": [
       "[{'uid': 'WOS:A1959WX53200001',\n",
       "  'title': 'SOME STUDIES IN MACHINE LEARNING USING THE GAME OF CHECKERS',\n",
       "  'types': ['Article'],\n",
       "  'sourceTypes': ['Article'],\n",
       "  'source': {'sourceTitle': 'IBM JOURNAL OF RESEARCH AND DEVELOPMENT',\n",
       "   'publishYear': 1959,\n",
       "   'volume': '3',\n",
       "   'issue': '3',\n",
       "   'pages': {'range': '211-&', 'begin': '211', 'end': '&', 'count': 0}},\n",
       "  'names': {'authors': [{'displayName': 'SAMUEL, AL',\n",
       "     'wosStandard': 'SAMUEL, AL',\n",
       "     'researcherId': 'DQE-0158-2022'}]},\n",
       "  'links': {'record': 'https://www.webofscience.com/api/gateway?GWVersion=2&SrcApp=wosliteua&SrcAuth=WosAPI&KeyUT=WOS:A1959WX53200001&DestLinkType=FullRecord&DestApp=WOS_CPL',\n",
       "   'references': 'https://www.webofscience.com/api/gateway?GWVersion=2&SrcApp=wosliteua&SrcAuth=WosAPI&KeyUT=WOS:A1959WX53200001&DestLinkType=CitedReferences&DestApp=WOS',\n",
       "   'related': 'https://www.webofscience.com/api/gateway?GWVersion=2&SrcApp=wosliteua&SrcAuth=WosAPI&KeyUT=WOS:A1959WX53200001&DestLinkType=RelatedRecords&DestApp=WOS_CPL'},\n",
       "  'citations': [],\n",
       "  'identifiers': {'doi': '10.1147/rd.33.0210', 'issn': '0018-8646'},\n",
       "  'keywords': {'authorKeywords': []}}]"
      ]
     },
     "execution_count": 9,
     "metadata": {},
     "output_type": "execute_result"
    }
   ],
   "source": [
    "# Extract the DOI from the first result\n",
    "doi = data[\"hits\"][0][\"identifiers\"][\"doi\"]\n",
    "\n",
    "parameters = '&'.join([\n",
    "    'db=WOS',\n",
    "    f'q=(DO={doi})',\n",
    "    'limit=1',\n",
    "    'page=1'\n",
    "])\n",
    "\n",
    "url = f'https://api.clarivate.com/apis/wos-starter/v1/documents?{parameters}'\n",
    "response = requests.get(url, headers=WOS_STARTER_HEADER)\n",
    "doi_data = response.json()\n",
    "\n",
    "# Note that this data is the same as what's returned above\n",
    "doi_data[\"hits\"]"
   ]
  },
  {
   "cell_type": "markdown",
   "metadata": {},
   "source": [
    "### Retrieving More Than 50 Results\n",
    "\n",
    "If we want to access results beyond the first 50 records, we must modify the `page` parameter on successive calls. The example below loops through the first 300 results."
   ]
  },
  {
   "cell_type": "code",
   "execution_count": null,
   "metadata": {},
   "outputs": [
    {
     "data": {
      "text/plain": [
       "{'total': 310228, 'page': 1, 'limit': 50}"
      ]
     },
     "execution_count": 13,
     "metadata": {},
     "output_type": "execute_result"
    }
   ],
   "source": [
    "parameters = '&'.join([\n",
    "    'db=WOS',\n",
    "    'q=((TS=\"Machine Learning\") AND DT=Article)',\n",
    "    'limit=50',\n",
    "    f'page=1'\n",
    "])\n",
    "\n",
    "url = f'https://api.clarivate.com/apis/wos-starter/v1/documents?{parameters}'\n",
    "response = requests.get(url, headers=WOS_STARTER_HEADER)\n",
    "data = response.json()\n",
    "\n",
    "# Print metadata\n",
    "data[\"metadata\"]"
   ]
  },
  {
   "cell_type": "markdown",
   "metadata": {},
   "source": [
    "From the metadata above, we can see that this query yields 310,228 results. In order to obtain results beyond the first 50, we must modify the `page` parameter. The example below shows how to retrieve the first 300 results using 6 API calls:"
   ]
  },
  {
   "cell_type": "code",
   "execution_count": 14,
   "metadata": {},
   "outputs": [
    {
     "data": {
      "text/plain": [
       "300"
      ]
     },
     "execution_count": 14,
     "metadata": {},
     "output_type": "execute_result"
    }
   ],
   "source": [
    "titles = []\n",
    "\n",
    "for i in range(1, 7):\n",
    "\n",
    "    parameters = '&'.join([\n",
    "        'db=WOS',\n",
    "        'q=((TS=\"Machine Learning\") AND DT=Article)',\n",
    "        'limit=50',\n",
    "        f'page={i}'\n",
    "    ])\n",
    "\n",
    "    url = f'https://api.clarivate.com/apis/wos-starter/v1/documents?{parameters}'\n",
    "    response = requests.get(url, headers=WOS_STARTER_HEADER)\n",
    "    data = response.json()\n",
    "    for article in data[\"hits\"]:\n",
    "        titles.append(article[\"title\"])\n",
    "    sleep(1)\n",
    "\n",
    "# Print length of the results to confirm it worked\n",
    "len(titles)"
   ]
  },
  {
   "cell_type": "code",
   "execution_count": 15,
   "metadata": {},
   "outputs": [
    {
     "data": {
      "text/plain": [
       "['SOME STUDIES IN MACHINE LEARNING USING THE GAME OF CHECKERS',\n",
       " 'PROGRAMS FOR MACHINE LEARNING .1.',\n",
       " 'PATTERN-RECOGNITION AND MACHINE LEARNING']"
      ]
     },
     "execution_count": 15,
     "metadata": {},
     "output_type": "execute_result"
    }
   ],
   "source": [
    "# Print first 3 titles\n",
    "titles[:3]"
   ]
  },
  {
   "cell_type": "markdown",
   "metadata": {},
   "source": [
    "### Another Example with More Complex Options\n",
    "\n",
    "In this example, we will add more specifications like publication date and document type.\n",
    "\n",
    "The URL requires the following four parameters:\n",
    "\n",
    "1. `db` specifies what database to use. In this case, we are using the `WOS` (Web of Science) database.\n",
    "2. `q` specifies the query we are using. The following parameters are used in this case:\n",
    "    - `TS` specifies the topic to search for. In this case, we use `machine learn*` to look for topics that contain the word \"machine\" or words that start with \"learn\".\n",
    "    - `PY` specifies the publication year. In this case, we use `2009-2011`.\n",
    "    - `DT` spcifies the document type. In this case, we are looking for articles.\n",
    "3. `limit` specifies the number of records to return. Here, we use the maximum value of 50.\n",
    "4. `page` specifies what page to return, allowing us to page beyond the first page of results if needed."
   ]
  },
  {
   "cell_type": "code",
   "execution_count": null,
   "metadata": {
    "collapsed": false,
    "metadata": {}
   },
   "outputs": [
    {
     "data": {
      "text/plain": [
       "200"
      ]
     },
     "execution_count": 16,
     "metadata": {},
     "output_type": "execute_result"
    }
   ],
   "source": [
    "parameters = '&'.join([\n",
    "    'db=WOS',\n",
    "    'q=((TS=machine learn*) AND PY=(2009-2011) AND DT=Article)',\n",
    "    'limit=50',\n",
    "    'page=1'\n",
    "])\n",
    "\n",
    "url = f'https://api.clarivate.com/apis/wos-starter/v1/documents?{parameters}'\n",
    "response = requests.get(url, headers=WOS_STARTER_HEADER)\n",
    "\n",
    "# Status code 200 means the call was successful\n",
    "response.status_code"
   ]
  },
  {
   "cell_type": "code",
   "execution_count": 17,
   "metadata": {
    "collapsed": false
   },
   "outputs": [
    {
     "data": {
      "text/plain": [
       "{'uid': 'WOS:000261040700014',\n",
       " 'title': 'Learning from dependent observations',\n",
       " 'types': ['Article'],\n",
       " 'sourceTypes': ['Article'],\n",
       " 'source': {'sourceTitle': 'JOURNAL OF MULTIVARIATE ANALYSIS',\n",
       "  'publishYear': 2009,\n",
       "  'publishMonth': 'JAN',\n",
       "  'volume': '100',\n",
       "  'issue': '1',\n",
       "  'pages': {'range': '175-194', 'begin': '175', 'end': '194', 'count': 20}},\n",
       " 'names': {'authors': [{'displayName': 'Steinwart, Ingo',\n",
       "    'wosStandard': 'Steinwart, I',\n",
       "    'researcherId': 'KBD-2936-2024'},\n",
       "   {'displayName': 'Hush, Don',\n",
       "    'wosStandard': 'Hush, D',\n",
       "    'researcherId': 'FBE-3544-2022'},\n",
       "   {'displayName': 'Scovel, Clint',\n",
       "    'wosStandard': 'Scovel, C',\n",
       "    'researcherId': 'DQO-0915-2022'}]},\n",
       " 'links': {'record': 'https://www.webofscience.com/api/gateway?GWVersion=2&SrcApp=wosliteua&SrcAuth=WosAPI&KeyUT=WOS:000261040700014&DestLinkType=FullRecord&DestApp=WOS_CPL',\n",
       "  'references': 'https://www.webofscience.com/api/gateway?GWVersion=2&SrcApp=wosliteua&SrcAuth=WosAPI&KeyUT=WOS:000261040700014&DestLinkType=CitedReferences&DestApp=WOS',\n",
       "  'related': 'https://www.webofscience.com/api/gateway?GWVersion=2&SrcApp=wosliteua&SrcAuth=WosAPI&KeyUT=WOS:000261040700014&DestLinkType=RelatedRecords&DestApp=WOS_CPL'},\n",
       " 'citations': [],\n",
       " 'identifiers': {'doi': '10.1016/j.jmva.2008.04.001', 'issn': '0047-259X'},\n",
       " 'keywords': {'authorKeywords': ['Support vector machine',\n",
       "   'Consistency',\n",
       "   'Non-stationary mixing process',\n",
       "   'Classification',\n",
       "   'Regression']}}"
      ]
     },
     "execution_count": 17,
     "metadata": {},
     "output_type": "execute_result"
    }
   ],
   "source": [
    "data = response.json()[\"hits\"]\n",
    "data[0]"
   ]
  },
  {
   "cell_type": "markdown",
   "metadata": {},
   "source": [
    "## 2. Batch Processing with WOS Starter\n",
    "\n",
    "This example shows a method to search for as many 50 DOIs in a single query. We suppose that we have a file `dois.txt` that contains 1000 DOIs, each listed on its own line. The DOIs in this file were obtained via the OpenAlex API (see our [OpenAlex recipes](https://ua-libraries-research-data-services.github.io/UALIB_ScholarlyAPI_Cookbook/src/overview/openalex.html) for guidance on how to do this). Note that not all DOIs in this list are indexed in Web of Science."
   ]
  },
  {
   "cell_type": "code",
   "execution_count": 18,
   "metadata": {},
   "outputs": [
    {
     "data": {
      "text/plain": [
       "1000"
      ]
     },
     "execution_count": 18,
     "metadata": {},
     "output_type": "execute_result"
    }
   ],
   "source": [
    "dois = []\n",
    "with open(\"dois.txt\", 'r') as f:\n",
    "    for line in f:\n",
    "        dois.append(line.strip())\n",
    "\n",
    "len(dois)"
   ]
  },
  {
   "cell_type": "markdown",
   "metadata": {},
   "source": [
    "Since the maximum number of results we can retrieve in a single page is 50, we can retrieve the data for each DOI with 20 queries. Note that since not all of the DOIs are indexd in WOS, we will retrieve fewer than 1000 results."
   ]
  },
  {
   "cell_type": "code",
   "execution_count": 19,
   "metadata": {},
   "outputs": [
    {
     "data": {
      "text/html": [
       "<div>\n",
       "<style scoped>\n",
       "    .dataframe tbody tr th:only-of-type {\n",
       "        vertical-align: middle;\n",
       "    }\n",
       "\n",
       "    .dataframe tbody tr th {\n",
       "        vertical-align: top;\n",
       "    }\n",
       "\n",
       "    .dataframe thead th {\n",
       "        text-align: right;\n",
       "    }\n",
       "</style>\n",
       "<table border=\"1\" class=\"dataframe\">\n",
       "  <thead>\n",
       "    <tr style=\"text-align: right;\">\n",
       "      <th></th>\n",
       "      <th>DOI</th>\n",
       "      <th>Title</th>\n",
       "      <th>Journal</th>\n",
       "      <th>Year</th>\n",
       "    </tr>\n",
       "  </thead>\n",
       "  <tbody>\n",
       "    <tr>\n",
       "      <th>0</th>\n",
       "      <td>10.1177/009385488000700401</td>\n",
       "      <td>CRIMINAL-JUSTICE AND BEHAVIOR - AN EDITORIAL R...</td>\n",
       "      <td>CRIMINAL JUSTICE AND BEHAVIOR</td>\n",
       "      <td>1980</td>\n",
       "    </tr>\n",
       "    <tr>\n",
       "      <th>1</th>\n",
       "      <td>10.2466/pr0.1982.51.2.663</td>\n",
       "      <td>THE SELF-EFFICACY SCALE - CONSTRUCTION AND VAL...</td>\n",
       "      <td>PSYCHOLOGICAL REPORTS</td>\n",
       "      <td>1982</td>\n",
       "    </tr>\n",
       "    <tr>\n",
       "      <th>2</th>\n",
       "      <td>10.1016/0022-1031(83)90023-9</td>\n",
       "      <td>PROTECTION MOTIVATION AND SELF-EFFICACY - A RE...</td>\n",
       "      <td>JOURNAL OF EXPERIMENTAL SOCIAL PSYCHOLOGY</td>\n",
       "      <td>1983</td>\n",
       "    </tr>\n",
       "    <tr>\n",
       "      <th>3</th>\n",
       "      <td>10.2307/1289308</td>\n",
       "      <td>STORYTELLING FOR OPPOSITIONISTS AND OTHERS - A...</td>\n",
       "      <td>MICHIGAN LAW REVIEW</td>\n",
       "      <td>1989</td>\n",
       "    </tr>\n",
       "    <tr>\n",
       "      <th>4</th>\n",
       "      <td>10.3102/00346543062002129</td>\n",
       "      <td>PROFESSIONAL GROWTH AMONG PRESERVICE AND BEGIN...</td>\n",
       "      <td>REVIEW OF EDUCATIONAL RESEARCH</td>\n",
       "      <td>1992</td>\n",
       "    </tr>\n",
       "  </tbody>\n",
       "</table>\n",
       "</div>"
      ],
      "text/plain": [
       "                            DOI  \\\n",
       "0    10.1177/009385488000700401   \n",
       "1     10.2466/pr0.1982.51.2.663   \n",
       "2  10.1016/0022-1031(83)90023-9   \n",
       "3               10.2307/1289308   \n",
       "4     10.3102/00346543062002129   \n",
       "\n",
       "                                               Title  \\\n",
       "0  CRIMINAL-JUSTICE AND BEHAVIOR - AN EDITORIAL R...   \n",
       "1  THE SELF-EFFICACY SCALE - CONSTRUCTION AND VAL...   \n",
       "2  PROTECTION MOTIVATION AND SELF-EFFICACY - A RE...   \n",
       "3  STORYTELLING FOR OPPOSITIONISTS AND OTHERS - A...   \n",
       "4  PROFESSIONAL GROWTH AMONG PRESERVICE AND BEGIN...   \n",
       "\n",
       "                                     Journal  Year  \n",
       "0              CRIMINAL JUSTICE AND BEHAVIOR  1980  \n",
       "1                      PSYCHOLOGICAL REPORTS  1982  \n",
       "2  JOURNAL OF EXPERIMENTAL SOCIAL PSYCHOLOGY  1983  \n",
       "3                        MICHIGAN LAW REVIEW  1989  \n",
       "4             REVIEW OF EDUCATIONAL RESEARCH  1992  "
      ]
     },
     "execution_count": 19,
     "metadata": {},
     "output_type": "execute_result"
    }
   ],
   "source": [
    "# We will specify the DOIs to query within a loop\n",
    "base_parameters = '&'.join([\n",
    "    'db=WOS',\n",
    "    'limit=50',\n",
    "    'page=1'\n",
    "])\n",
    "\n",
    "rows = []\n",
    "\n",
    "# We will need to 20 requests to retrieve 1000 results\n",
    "for i in range(20):\n",
    "    # Extract DOIs in spans of 50\n",
    "    query_dois = dois[i*50:(i+1)*50]\n",
    "    query = f\"q=(DO=({' OR '.join(query_dois)}))\"\n",
    "\n",
    "    url = f'https://api.clarivate.com/apis/wos-starter/v1/documents?{base_parameters}&{query}'\n",
    "    doi_data = requests.get(url, headers=WOS_STARTER_HEADER).json()\n",
    "\n",
    "    for hit in doi_data['hits']:\n",
    "        doi = hit['identifiers']['doi']\n",
    "        title = hit['title']\n",
    "        journal = hit['source']['sourceTitle']\n",
    "        year = hit['source']['publishYear']\n",
    "\n",
    "        rows.append([doi, title, journal, year])\n",
    "    sleep(1)\n",
    "\n",
    "columns = [\"DOI\", \"Title\", \"Journal\", \"Year\"]\n",
    "df = pd.DataFrame(rows, columns=columns)\n",
    "\n",
    "df.head()"
   ]
  },
  {
   "cell_type": "markdown",
   "metadata": {},
   "source": [
    "## 3. Short Record View with WOS Expanded\n",
    "\n",
    "The Short Record view for the WOS Expanded API allows users to receive limited metadata without counting against an institution's usage quota for Full Record downloads. We recommend to first check whether the data you require is  More information can be found in the [WOS API release notes](https://clarivate.com/academia-government/release-notes/wos-apis/release-notes-may-23-2024/) and the [Swagger documentation](https://api.clarivate.com/swagger-ui/?url=https://developer.clarivate.com/apis/wos/swagger).\n",
    "\n",
    "This example uses the `citing` endpoint of the WOS Expanded API to retrieve data for a given DOI.\n",
    "\n",
    "The URL requires the following four parameters:\n",
    "\n",
    "1. `databaseId` specifies what database to use. In this case, we are using the `WOS` (Web of Science) database.\n",
    "2. `usrQuery` specifies the query we are using. The following parameters are used in this case:\n",
    "    - `DO` specifies what DOI to search for.\n",
    "3. `count` specifies the number of records to return.\n",
    "4. `firstRecord` specifies the first record to return.\n",
    "\n",
    "This example also includes the optional parameter `optionView`, which we set to `SR` to indicate that we would like to retrieve the Short Record view of this query. This parameter is set to `FR` by default, which returns the Full Record view."
   ]
  },
  {
   "cell_type": "code",
   "execution_count": 20,
   "metadata": {},
   "outputs": [
    {
     "data": {
      "text/plain": [
       "200"
      ]
     },
     "execution_count": 20,
     "metadata": {},
     "output_type": "execute_result"
    }
   ],
   "source": [
    "doi = '10.1021/acsomega.8b01647'\n",
    "endpoint = 'citing'\n",
    "\n",
    "parameters = '&'.join([\n",
    "    endpoint,\n",
    "    'databaseId=WOS',\n",
    "    f'usrQuery=(DO=({doi}))',\n",
    "    'count=1',\n",
    "    'firstRecord=1',\n",
    "    'optionView=SR'\n",
    "])\n",
    "\n",
    "url = f'https://wos-api.clarivate.com/api/wos?{parameters}'\n",
    "response = requests.get(url, headers=WOS_EXPANDED_HEADER)\n",
    "\n",
    "# Status code 200 indicates success\n",
    "response.status_code"
   ]
  },
  {
   "cell_type": "code",
   "execution_count": 21,
   "metadata": {},
   "outputs": [
    {
     "name": "stdout",
     "output_type": "stream",
     "text": [
      "{'UID': 'WOS:000446186000103',\n",
      " 'dynamic_data': {'citation_related': {...}, 'cluster_related': {...}},\n",
      " 'links': {'citingArticles': 'https://www.webofscience.com/api/gateway?GWVersion=2&SrcApp=wosexpandedua&SrcAuth=WosAPI&KeyUT=WOS:000446186000103&DestLinkType=CitingArticles&DestApp=WOS_CPL',\n",
      "           'record': 'https://www.webofscience.com/api/gateway?GWVersion=2&SrcApp=wosexpandedua&SrcAuth=WosAPI&KeyUT=WOS:000446186000103&DestLinkType=FullRecord&DestApp=WOS_CPL',\n",
      "           'references': 'https://www.webofscience.com/api/gateway?GWVersion=2&SrcApp=wosexpandedua&SrcAuth=WosAPI&KeyUT=WOS:000446186000103&DestLinkType=CitedReferences&DestApp=WOS',\n",
      "           'related': 'https://www.webofscience.com/api/gateway?GWVersion=2&SrcApp=wosexpandedua&SrcAuth=WosAPI&KeyUT=WOS:000446186000103&DestLinkType=RelatedRecords&DestApp=WOS_CPL'},\n",
      " 'r_id_disclaimer': 'ResearcherID data provided by Clarivate Analytics',\n",
      " 'static_data': {'fullrecord_metadata': {...}, 'summary': {...}}}\n"
     ]
    }
   ],
   "source": [
    "sr_data = response.json()\n",
    "\n",
    "# Extract data of the first article returned\n",
    "sr_article_data = sr_data['Data']['Records']['records']['REC'][0]\n",
    "pprint(sr_article_data, depth=2)"
   ]
  },
  {
   "cell_type": "markdown",
   "metadata": {},
   "source": [
    "As we can see in the output above, the results are primarily split between `static_data` and `dynamic_data`."
   ]
  },
  {
   "cell_type": "markdown",
   "metadata": {},
   "source": [
    "### Retrieving Static Metadata\n",
    "\n",
    "The basic structure of the static metadata is given below:"
   ]
  },
  {
   "cell_type": "code",
   "execution_count": 22,
   "metadata": {},
   "outputs": [
    {
     "name": "stdout",
     "output_type": "stream",
     "text": [
      "{'fullrecord_metadata': {'normalized_doctypes': {...}, 'refs': {...}},\n",
      " 'summary': {'doctypes': {...},\n",
      "             'names': {...},\n",
      "             'pub_info': {...},\n",
      "             'titles': {...}}}\n"
     ]
    }
   ],
   "source": [
    "pprint(sr_article_data['static_data'], depth=2)"
   ]
  },
  {
   "cell_type": "markdown",
   "metadata": {},
   "source": [
    "The `summary` contains basic data relating to the publication. We extract some of this data in the examples below."
   ]
  },
  {
   "cell_type": "code",
   "execution_count": 23,
   "metadata": {},
   "outputs": [
    {
     "data": {
      "text/plain": [
       "[{'type': 'source', 'content': 'ACS OMEGA'},\n",
       " {'type': 'item',\n",
       "  'content': 'How Precise Are Our Quantitative Structure-Activity Relationship Derived Predictions for New Query Chemicals?'}]"
      ]
     },
     "execution_count": 23,
     "metadata": {},
     "output_type": "execute_result"
    }
   ],
   "source": [
    "# Print source and article titles\n",
    "sr_article_data['static_data']['summary']['titles']['title']"
   ]
  },
  {
   "cell_type": "code",
   "execution_count": 24,
   "metadata": {},
   "outputs": [
    {
     "name": "stdout",
     "output_type": "stream",
     "text": [
      "author : Roy, Kunal\n",
      "author : Ambure, Pravin\n",
      "author : Kar, Supratik\n"
     ]
    }
   ],
   "source": [
    "# Print authors\n",
    "for name in sr_article_data['static_data']['summary']['names']['name']:\n",
    "    print(name['role'], ':', name['display_name'])"
   ]
  },
  {
   "cell_type": "code",
   "execution_count": 25,
   "metadata": {},
   "outputs": [
    {
     "data": {
      "text/plain": [
       "{'vol': 3, 'pubyear': 2018, 'pubtype': 'Journal', 'page': {'page_count': 15}}"
      ]
     },
     "execution_count": 25,
     "metadata": {},
     "output_type": "execute_result"
    }
   ],
   "source": [
    "# Print volume and page data\n",
    "sr_article_data['static_data']['summary']['pub_info']"
   ]
  },
  {
   "cell_type": "markdown",
   "metadata": {},
   "source": [
    "### Retrieving Dynamic Data\n",
    "\n",
    "The entirety of the `dynamic_data` of the Short Record is printed below. The `dynamic_data` will be more thoroughly explored in later examples using the Full Record view."
   ]
  },
  {
   "cell_type": "code",
   "execution_count": 26,
   "metadata": {},
   "outputs": [
    {
     "data": {
      "text/plain": [
       "{'citation_related': {'tc_list': {'tc_mod_date': '2025-02-05',\n",
       "   'silo_tc': {'coll_id': 'WOS', 'local_count': 104}}},\n",
       " 'cluster_related': {'identifiers': {'identifier': [{'type': 'issn',\n",
       "     'value': '2470-1343'},\n",
       "    {'type': 'doi', 'value': '10.1021/acsomega.8b01647'},\n",
       "    {'type': 'pmid', 'value': 'MEDLINE:31459245'}]}}}"
      ]
     },
     "execution_count": 26,
     "metadata": {},
     "output_type": "execute_result"
    }
   ],
   "source": [
    "sr_article_data['dynamic_data']"
   ]
  },
  {
   "cell_type": "markdown",
   "metadata": {},
   "source": [
    "## 4. Full Record View with WOS Expanded\n",
    "\n",
    "This example analyzes the Full Record view of the same article as the previous example. All parameters are the same as the previous example except for `optionView`, which is set to `FR` (the default value)."
   ]
  },
  {
   "cell_type": "code",
   "execution_count": 27,
   "metadata": {
    "collapsed": false,
    "pycharm": {
     "name": "#%%\n"
    }
   },
   "outputs": [
    {
     "data": {
      "text/plain": [
       "200"
      ]
     },
     "execution_count": 27,
     "metadata": {},
     "output_type": "execute_result"
    }
   ],
   "source": [
    "doi = '10.1021/acsomega.8b01647'\n",
    "endpoint = 'citing'\n",
    "\n",
    "parameters = '&'.join([\n",
    "    endpoint,\n",
    "    'databaseId=WOS',\n",
    "    f'usrQuery=(DO=({doi}))',\n",
    "    'count=1',\n",
    "    'firstRecord=1',\n",
    "    'optionView=FR'\n",
    "])\n",
    "\n",
    "url = f'https://wos-api.clarivate.com/api/wos?{parameters}'\n",
    "response = requests.get(url, headers=WOS_EXPANDED_HEADER)\n",
    "\n",
    "# Status code 200 indicates success\n",
    "response.status_code"
   ]
  },
  {
   "cell_type": "code",
   "execution_count": 28,
   "metadata": {},
   "outputs": [
    {
     "name": "stdout",
     "output_type": "stream",
     "text": [
      "{'UID': 'WOS:000446186000103',\n",
      " 'dates': {'date_created': '2018-10-16T08:20:52.724758',\n",
      "           'date_loaded': '2018-09-01T23:59:59.00000',\n",
      "           'date_modified': '2020-09-22T11:27:33.607987'},\n",
      " 'dynamic_data': {'citation_related': {...},\n",
      "                  'cluster_related': {...},\n",
      "                  'wos_usage': {...}},\n",
      " 'r_id_disclaimer': 'ResearcherID data provided by Clarivate Analytics',\n",
      " 'static_data': {'contributors': {...},\n",
      "                 'fullrecord_metadata': {...},\n",
      "                 'item': {...},\n",
      "                 'summary': {...}}}\n"
     ]
    }
   ],
   "source": [
    "fr_data = response.json()\n",
    "\n",
    "# Extract data of the first article returned\n",
    "fr_article_data = fr_data['Data']['Records']['records']['REC'][0]\n",
    "pprint(fr_article_data, depth=2)"
   ]
  },
  {
   "cell_type": "markdown",
   "metadata": {},
   "source": [
    "### Retrieving Static Metadata\n",
    "\n",
    "The `static_data` contains the following information:"
   ]
  },
  {
   "cell_type": "code",
   "execution_count": 29,
   "metadata": {},
   "outputs": [
    {
     "name": "stdout",
     "output_type": "stream",
     "text": [
      "{'contributors': {'contributor': [...], 'count': 4},\n",
      " 'fullrecord_metadata': {'abstracts': {...},\n",
      "                         'addresses': {...},\n",
      "                         'category_info': {...},\n",
      "                         'fund_ack': {...},\n",
      "                         'languages': {...},\n",
      "                         'normalized_doctypes': {...},\n",
      "                         'normalized_languages': {...},\n",
      "                         'refs': {...},\n",
      "                         'reprint_addresses': {...}},\n",
      " 'item': {'bib_id': '3 (9): 11392-11406 SEP 2018',\n",
      "          'bib_pagecount': {...},\n",
      "          'coll_id': 'WOS',\n",
      "          'ids': {...},\n",
      "          'keywords_plus': {...},\n",
      "          'xmlns:xsi': 'http://www.w3.org/2001/XMLSchema-instance',\n",
      "          'xsi:type': 'itemType_wos'},\n",
      " 'summary': {'EWUID': {...},\n",
      "             'doctypes': {...},\n",
      "             'names': {...},\n",
      "             'pub_info': {...},\n",
      "             'publishers': {...},\n",
      "             'titles': {...}}}\n"
     ]
    }
   ],
   "source": [
    "pprint(fr_article_data['static_data'], depth=2)"
   ]
  },
  {
   "cell_type": "markdown",
   "metadata": {},
   "source": [
    "Now, we can extract some information out of the static data."
   ]
  },
  {
   "cell_type": "code",
   "execution_count": 30,
   "metadata": {},
   "outputs": [
    {
     "name": "stdout",
     "output_type": "stream",
     "text": [
      "AMBURE, PRAVIN\n",
      "Roy, Kunal\n",
      "Roy, Kunal: 0000-0003-4486-8074\n",
      "Kar, Supratik: 0000-0002-9411-2091\n"
     ]
    }
   ],
   "source": [
    "# Extract contributors' names and ORCID ID (if available)\n",
    "for contributor in fr_article_data['static_data']['contributors']['contributor']:\n",
    "    if 'orcid_id' in contributor['name']:\n",
    "        print(f\"{contributor['name']['display_name']}: {contributor['name']['orcid_id']}\")\n",
    "    else:\n",
    "        print(f\"{contributor['name']['display_name']}\")"
   ]
  },
  {
   "cell_type": "code",
   "execution_count": 31,
   "metadata": {},
   "outputs": [
    {
     "data": {
      "text/plain": [
       "{'count': 1,\n",
       " 'grant': {'grant_agency_names': [{'pref': 'Y',\n",
       "    'content': 'University Grants Commission, India'},\n",
       "   {'pref': 'N', 'content': 'UGC, New Delhi'}],\n",
       "  'grant_agency': 'UGC, New Delhi'}}"
      ]
     },
     "execution_count": 31,
     "metadata": {},
     "output_type": "execute_result"
    }
   ],
   "source": [
    "# Print the funding acknowledgement data\n",
    "fr_article_data['static_data']['fullrecord_metadata']['fund_ack']['grants']"
   ]
  },
  {
   "cell_type": "code",
   "execution_count": 32,
   "metadata": {},
   "outputs": [
    {
     "data": {
      "text/plain": [
       "{'names': {'count': 1,\n",
       "  'name': {'seq_no': 1,\n",
       "   'role': 'publisher',\n",
       "   'full_name': 'AMER CHEMICAL SOC',\n",
       "   'unified_name': 'Amer Chemical Soc',\n",
       "   'addr_no': 1,\n",
       "   'display_name': 'AMER CHEMICAL SOC'}},\n",
       " 'address_spec': {'city': 'WASHINGTON',\n",
       "  'addr_no': 1,\n",
       "  'full_address': '1155 16TH ST, NW, WASHINGTON, DC 20036 USA'}}"
      ]
     },
     "execution_count": 32,
     "metadata": {},
     "output_type": "execute_result"
    }
   ],
   "source": [
    "# Print publisher data\n",
    "fr_article_data['static_data']['summary']['publishers']['publisher']"
   ]
  },
  {
   "cell_type": "markdown",
   "metadata": {},
   "source": [
    "### Retrieving Dynamic Metadata\n",
    "\n",
    "The `dynamic_data` contains the following information:"
   ]
  },
  {
   "cell_type": "code",
   "execution_count": 33,
   "metadata": {},
   "outputs": [
    {
     "name": "stdout",
     "output_type": "stream",
     "text": [
      "{'citation_related': {'SDG': {...},\n",
      "                      'citation_topics': {...},\n",
      "                      'tc_list': {...},\n",
      "                      'tc_list_cc': {...}},\n",
      " 'cluster_related': {'identifiers': {...}},\n",
      " 'wos_usage': {'alltime': 14, 'last180days': 1}}\n"
     ]
    }
   ],
   "source": [
    "pprint(fr_article_data['dynamic_data'], depth=2)"
   ]
  },
  {
   "cell_type": "code",
   "execution_count": 34,
   "metadata": {},
   "outputs": [
    {
     "data": {
      "text/plain": [
       "[{'content-type': 'macro', 'content-id': '2', 'content': 'Chemistry'},\n",
       " {'content-type': 'meso',\n",
       "  'content-id': '2.123',\n",
       "  'content': 'Protein Structure, Folding & Modelling'},\n",
       " {'content-type': 'micro', 'content-id': '2.123.778', 'content': 'QSAR'}]"
      ]
     },
     "execution_count": 34,
     "metadata": {},
     "output_type": "execute_result"
    }
   ],
   "source": [
    "# Print subjects of related citations\n",
    "fr_article_data['dynamic_data']['citation_related']['citation_topics']['subj-group']['subject']"
   ]
  },
  {
   "cell_type": "code",
   "execution_count": 35,
   "metadata": {},
   "outputs": [
    {
     "data": {
      "text/plain": [
       "[{'type': 'issn', 'value': '2470-1343'},\n",
       " {'type': 'doi', 'value': '10.1021/acsomega.8b01647'},\n",
       " {'type': 'pmid', 'value': 'MEDLINE:31459245'}]"
      ]
     },
     "execution_count": 35,
     "metadata": {},
     "output_type": "execute_result"
    }
   ],
   "source": [
    "# Print identifiers\n",
    "fr_article_data['dynamic_data']['cluster_related']['identifiers']['identifier']"
   ]
  },
  {
   "cell_type": "code",
   "execution_count": 36,
   "metadata": {},
   "outputs": [
    {
     "name": "stdout",
     "output_type": "stream",
     "text": [
      "There are 104 citations in the WOS database.\n"
     ]
    }
   ],
   "source": [
    "for db in fr_article_data['dynamic_data']['citation_related']['tc_list']['silo_tc']:\n",
    "    if db['coll_id'] == 'WOS':\n",
    "        print(f\"There are {db['local_count']} citations in the WOS database.\")"
   ]
  },
  {
   "cell_type": "markdown",
   "metadata": {},
   "source": [
    "## 5. Retrieving References from an Article (WOS Expanded)\n",
    "\n",
    "In this example, we use the `references` endpoint to retrieve the articles that a given article cites."
   ]
  },
  {
   "cell_type": "code",
   "execution_count": 37,
   "metadata": {
    "collapsed": false,
    "pycharm": {
     "name": "#%%\n"
    }
   },
   "outputs": [
    {
     "name": "stdout",
     "output_type": "stream",
     "text": [
      "43 records found\n"
     ]
    }
   ],
   "source": [
    "# Use the WOS ID of the article from the previous example\n",
    "wos_id = fr_article_data[\"UID\"]\n",
    "\n",
    "parameters = '&'.join([\n",
    "    'databaseId=WOS',\n",
    "    f'uniqueId={wos_id}',\n",
    "    'count=100',\n",
    "    'firstRecord=1'\n",
    "])\n",
    "\n",
    "url = f\"https://wos-api.clarivate.com/api/wos/references?{parameters}\"\n",
    "ref_data = requests.get(url, headers=WOS_EXPANDED_HEADER).json()\n",
    "\n",
    "print(f'{ref_data[\"QueryResult\"][\"RecordsFound\"]} records found')"
   ]
  },
  {
   "cell_type": "code",
   "execution_count": 38,
   "metadata": {},
   "outputs": [
    {
     "data": {
      "text/plain": [
       "{'UID': 'WOS:000425492800015',\n",
       " 'CitedAuthor': 'Gajewicz, A.',\n",
       " 'TimesCited': '56',\n",
       " 'Year': '2018',\n",
       " 'Page': '408',\n",
       " 'Volume': '5',\n",
       " 'CitedWork': 'ENVIRONMENTAL SCIENCE-NANO',\n",
       " 'CitedTitle': \"How to judge whether QSAR/read-across predictions can be trusted: a novel approach for establishing a model's applicability domain\",\n",
       " 'DOI': '10.1039/c7en00774d'}"
      ]
     },
     "execution_count": 38,
     "metadata": {},
     "output_type": "execute_result"
    }
   ],
   "source": [
    "ref_data['Data'][0]"
   ]
  },
  {
   "cell_type": "code",
   "execution_count": 39,
   "metadata": {},
   "outputs": [
    {
     "name": "stdout",
     "output_type": "stream",
     "text": [
      "Gajewicz, A., How to judge whether QSAR/read-across predictions can be trusted: a novel approach for establishing a model's applicability domain, ENVIRONMENTAL SCIENCE-NANO, 2018, 5, 408, 10.1039/c7en00774d\n",
      "Liu, Ruifeng, General Approach to Estimate Error Bars for Quantitative Structure-Activity Relationship Predictions of Molecular Activity, JOURNAL OF CHEMICAL INFORMATION AND MODELING, 2018, 58, 1561, 10.1021/acs.jcim.8b00114\n",
      "Roy, Kunal, Is it possible to improve the quality of predictions from an \"intelligent\" use of multiple QSAR/QSPR/QSTR models?, JOURNAL OF CHEMOMETRICS, 2018, 32, , 10.1002/cem.2992\n"
     ]
    }
   ],
   "source": [
    "# Print data for the first 3 results\n",
    "categories = [\"CitedAuthor\", \"CitedTitle\", \"CitedWork\", \"Year\", \"Volume\", \"Page\", \"DOI\"]\n",
    "for article in ref_data[\"Data\"][:3]:\n",
    "    line = ''\n",
    "    for category in categories:\n",
    "        # Append data to string if it exists, otherwise append nothing\n",
    "        line += article.get(category, '') + ', '\n",
    "    # Remove extra ', ' from end\n",
    "    line = line[:-2]\n",
    "    print(line)"
   ]
  },
  {
   "cell_type": "markdown",
   "metadata": {},
   "source": [
    "## 6. Retrieving Citations from an Article (WOS Expanded)\n",
    "\n",
    "In this example, we'll use the `citing` endpoint to retrieve the articles that cite a given article."
   ]
  },
  {
   "cell_type": "code",
   "execution_count": 40,
   "metadata": {
    "collapsed": false,
    "metadata": {},
    "pycharm": {
     "name": "#%%\n"
    }
   },
   "outputs": [
    {
     "name": "stdout",
     "output_type": "stream",
     "text": [
      "101 records found\n"
     ]
    }
   ],
   "source": [
    "endpoint = 'citing'\n",
    "parameters = '&'.join([\n",
    "    'databaseId=WOS',\n",
    "    f'uniqueId={wos_id}',\n",
    "    'optionView=FR',     # Retrieve the Full Record (goes against Full Record request limit)\n",
    "    'count=100',\n",
    "    'firstRecord=1'\n",
    "])\n",
    "\n",
    "url = f\"https://wos-api.clarivate.com/api/wos/{endpoint}?{parameters}\"\n",
    "fr_citation_data = requests.get(url, headers=WOS_EXPANDED_HEADER).json()\n",
    "\n",
    "# Display results of query\n",
    "print(f'{fr_citation_data[\"QueryResult\"][\"RecordsFound\"]} records found')"
   ]
  },
  {
   "cell_type": "code",
   "execution_count": 41,
   "metadata": {},
   "outputs": [
    {
     "name": "stdout",
     "output_type": "stream",
     "text": [
      "{'UID': 'WOS:001403397400001',\n",
      " 'dates': {'date_created': '2025-01-29T13:55:07.179355',\n",
      "           'date_loaded': '2025-01-29T23:59:59.00000',\n",
      "           'date_modified': '2025-01-29T13:55:07.179355'},\n",
      " 'dynamic_data': {'citation_related': {...},\n",
      "                  'cluster_related': {...},\n",
      "                  'wos_usage': {...}},\n",
      " 'r_id_disclaimer': 'ResearcherID data provided by Clarivate Analytics',\n",
      " 'static_data': {'contributors': {...},\n",
      "                 'fullrecord_metadata': {...},\n",
      "                 'item': {...},\n",
      "                 'summary': {...}}}\n"
     ]
    }
   ],
   "source": [
    "pprint(fr_citation_data['Data']['Records']['records']['REC'][0], depth=2)"
   ]
  },
  {
   "cell_type": "code",
   "execution_count": 42,
   "metadata": {},
   "outputs": [
    {
     "name": "stdout",
     "output_type": "stream",
     "text": [
      "{'contributors': {'contributor': {...}, 'count': 1},\n",
      " 'fullrecord_metadata': {'abstracts': {...},\n",
      "                         'addresses': {...},\n",
      "                         'category_info': {...},\n",
      "                         'fund_ack': {...},\n",
      "                         'keywords': {...},\n",
      "                         'languages': {...},\n",
      "                         'normalized_doctypes': {...},\n",
      "                         'normalized_languages': {...},\n",
      "                         'refs': {...},\n",
      "                         'reprint_addresses': {...}},\n",
      " 'item': {'bib_id': '279: - FEB 2025',\n",
      "          'bib_pagecount': {...},\n",
      "          'coll_id': 'WOS',\n",
      "          'ids': {...},\n",
      "          'keywords_plus': {...},\n",
      "          'xmlns:xsi': 'http://www.w3.org/2001/XMLSchema-instance',\n",
      "          'xsi:type': 'itemType_wos'},\n",
      " 'summary': {'EWUID': {...},\n",
      "             'doctypes': {...},\n",
      "             'names': {...},\n",
      "             'pub_info': {...},\n",
      "             'publishers': {...},\n",
      "             'titles': {...}}}\n"
     ]
    }
   ],
   "source": [
    "pprint(fr_citation_data['Data']['Records']['records']['REC'][0]['static_data'], depth=2)"
   ]
  },
  {
   "cell_type": "code",
   "execution_count": 43,
   "metadata": {},
   "outputs": [
    {
     "name": "stdout",
     "output_type": "stream",
     "text": [
      "Pore, Souvik, Intelligent consensus-based predictions of early life stage toxicity in fish tested in compliance with OECD Test Guideline 210, AQUATIC TOXICOLOGY, 2025, 279, \n",
      "El Yaqoubi, Mohamed, Pyridopyrazine derivatives as highly selective histamine H4 receptor antagonist for the treatment of atopic dermatitis: QSAR modeling and molecular docking studies, AIMS ALLERGY AND IMMUNOLOGY, 2024, 8, 303\n",
      "Chen, Shuo, High-throughput prediction of oral acute toxicity in<i> Rat</i> and<i> Mouse</i> of over 100,000 polychlorinated persistent organic pollutants (PC-POPs) by interpretable data fusion-driven machine learning global models, JOURNAL OF HAZARDOUS MATERIALS, 2024, 480, \n"
     ]
    }
   ],
   "source": [
    "# Print data for the first 4 citations\n",
    "for citation in fr_citation_data[\"Data\"][\"Records\"][\"records\"][\"REC\"][:3]:\n",
    "    first_author = title = source = year = volume = page = \"\"\n",
    "\n",
    "    # Grab the name of the first author listed\n",
    "    first_author = citation[\"static_data\"][\"summary\"][\"names\"][\"name\"][0][\"full_name\"]\n",
    "    \n",
    "    # Grab source and article titles\n",
    "    for metadatum in citation[\"static_data\"][\"summary\"][\"titles\"][\"title\"]:\n",
    "        if metadatum[\"type\"] == \"item\":\n",
    "            title = metadatum[\"content\"]\n",
    "        elif metadatum[\"type\"] == \"source\":\n",
    "            source = metadatum[\"content\"]\n",
    "    \n",
    "    # Grab year and volume\n",
    "    year = citation[\"static_data\"][\"summary\"][\"pub_info\"][\"pubyear\"]\n",
    "    volume = citation[\"static_data\"][\"summary\"][\"pub_info\"].get(\"vol\", \"\")  # Leave empty if no Volume given\n",
    "    page = citation[\"static_data\"][\"summary\"][\"pub_info\"][\"page\"].get(\"begin\", \"\")  # Leave empty if no Page given\n",
    "\n",
    "    print(f\"{first_author}, {title}, {source}, {year}, {volume}, {page}\")"
   ]
  }
 ],
 "metadata": {
  "kernelspec": {
   "display_name": "Python 3",
   "language": "python",
   "name": "python3"
  },
  "language_info": {
   "codemirror_mode": {
    "name": "ipython",
    "version": 3
   },
   "file_extension": ".py",
   "mimetype": "text/x-python",
   "name": "python",
   "nbconvert_exporter": "python",
   "pygments_lexer": "ipython3",
   "version": "3.11.9"
  }
 },
 "nbformat": 4,
 "nbformat_minor": 0
}
