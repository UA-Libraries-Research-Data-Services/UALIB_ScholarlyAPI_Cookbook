{
  "cells": [
    {
      "cell_type": "markdown",
      "metadata": {
        "id": "_QQAfOYNT-4A"
      },
      "source": [
        "# CAS Common Chemistry API in Python\n",
        "\n",
        "by Vincent F. Scalfani\n",
        "\n",
        "These recipe examples were tested on March 23, 2022.\n",
        "\n",
        "**CAS Common Chemistry API Documentation (requires registration):** https://www.cas.org/services/commonchemistry-api\n",
        "\n",
        "**Attribution:** This tutorial uses the [CAS Common Chemistry](https://commonchemistry.cas.org/) API. Example data shown is licensed under the [CC BY-NC 4.0 license](https://creativecommons.org/licenses/by-nc/4.0/)."
      ]
    },
    {
      "cell_type": "markdown",
      "metadata": {
        "id": "X8Bzztu_U9mm"
      },
      "source": [
        "## 1. Common Chemistry Record Detail Retrieval\n",
        "\n",
        "Information about substances in CAS Common Chemistry can be retrieved using the `/detail` API and a CAS RN identifier:"
      ]
    },
    {
      "cell_type": "markdown",
      "metadata": {
        "id": "siiAtYmsV5OD"
      },
      "source": [
        "### Import libraries"
      ]
    },
    {
      "cell_type": "code",
      "execution_count": 1,
      "metadata": {
        "id": "op8LKzVyTxSK"
      },
      "outputs": [],
      "source": [
        "import json\n",
        "import requests\n",
        "from pprint import pprint"
      ]
    },
    {
      "cell_type": "markdown",
      "metadata": {
        "id": "hBPOkGrlWAkW"
      },
      "source": [
        "### Setup API parameters"
      ]
    },
    {
      "cell_type": "code",
      "execution_count": 2,
      "metadata": {
        "id": "AT8MZdXuWF5s"
      },
      "outputs": [],
      "source": [
        "detail_base_url = \"https://commonchemistry.cas.org/api/detail?\"\n",
        "casrn1 = \"10094-36-7\" # ethyl cyclohexanepropionate"
      ]
    },
    {
      "cell_type": "markdown",
      "metadata": {
        "id": "oWjKHgW-Wj8B"
      },
      "source": [
        "### Request data from CAS Common Chemistry Detail API"
      ]
    },
    {
      "cell_type": "code",
      "execution_count": 3,
      "metadata": {
        "colab": {
          "base_uri": "https://localhost:8080/"
        },
        "id": "dJywhodwWt9r",
        "outputId": "77496c57-6117-4fe3-9933-300b8699234e"
      },
      "outputs": [
        {
          "name": "stdout",
          "output_type": "stream",
          "text": [
            "{'canonicalSmile': 'O=C(OCC)CCC1CCCCC1',\n",
            " 'experimentalProperties': [{'name': 'Boiling Point',\n",
            "                             'property': '105-113 °C @ Press: 17 Torr',\n",
            "                             'sourceNumber': 1}],\n",
            " 'hasMolfile': True,\n",
            " 'image': '<svg width=\"228.6\" viewBox=\"0 0 7620 3716\" text-rendering=\"auto\" '\n",
            "          'stroke-width=\"1\" stroke-opacity=\"1\" stroke-miterlimit=\"10\" '\n",
            "          'stroke-linejoin=\"miter\" stroke-linecap=\"square\" '\n",
            "          'stroke-dashoffset=\"0\" stroke-dasharray=\"none\" stroke=\"black\" '\n",
            "          'shape-rendering=\"auto\" image-rendering=\"auto\" height=\"111.48\" '\n",
            "          'font-weight=\"normal\" font-style=\"normal\" font-size=\"12\" '\n",
            "          'font-family=\"\\'Dialog\\'\" fill-opacity=\"1\" fill=\"black\" '\n",
            "          'color-rendering=\"auto\" color-interpolation=\"auto\" '\n",
            "          'xmlns=\"http://www.w3.org/2000/svg\"><g><g stroke=\"white\" '\n",
            "          'fill=\"white\"><rect y=\"0\" x=\"0\" width=\"7620\" stroke=\"none\" '\n",
            "          'height=\"3716\"/></g><g transform=\"translate(32866,32758)\" '\n",
            "          'text-rendering=\"geometricPrecision\" stroke-width=\"44\" '\n",
            "          'stroke-linejoin=\"round\" stroke-linecap=\"round\"><line y2=\"-30850\" '\n",
            "          'y1=\"-31419\" x2=\"-30792\" x1=\"-31777\" fill=\"none\"/><line y2=\"-29715\" '\n",
            "          'y1=\"-30850\" x2=\"-30792\" x1=\"-30792\" fill=\"none\"/><line y2=\"-31419\" '\n",
            "          'y1=\"-30850\" x2=\"-31777\" x1=\"-32762\" fill=\"none\"/><line y2=\"-29146\" '\n",
            "          'y1=\"-29715\" x2=\"-31777\" x1=\"-30792\" fill=\"none\"/><line y2=\"-30850\" '\n",
            "          'y1=\"-29715\" x2=\"-32762\" x1=\"-32762\" fill=\"none\"/><line y2=\"-29715\" '\n",
            "          'y1=\"-29146\" x2=\"-32762\" x1=\"-31777\" fill=\"none\"/><line y2=\"-31376\" '\n",
            "          'y1=\"-30850\" x2=\"-29885\" x1=\"-30792\" fill=\"none\"/><line y2=\"-30850\" '\n",
            "          'y1=\"-31376\" x2=\"-28978\" x1=\"-29885\" fill=\"none\"/><line y2=\"-31376\" '\n",
            "          'y1=\"-30850\" x2=\"-28071\" x1=\"-28978\" fill=\"none\"/><line y2=\"-30960\" '\n",
            "          'y1=\"-31376\" x2=\"-27352\" x1=\"-28071\" fill=\"none\"/><line y2=\"-31376\" '\n",
            "          'y1=\"-30960\" x2=\"-26257\" x1=\"-26976\" fill=\"none\"/><line y2=\"-30850\" '\n",
            "          'y1=\"-31376\" x2=\"-25350\" x1=\"-26257\" fill=\"none\"/><line y2=\"-32202\" '\n",
            "          'y1=\"-31376\" x2=\"-28140\" x1=\"-28140\" fill=\"none\"/><line y2=\"-32202\" '\n",
            "          'y1=\"-31376\" x2=\"-28002\" x1=\"-28002\" fill=\"none\"/><text y=\"-30671\" '\n",
            "          'xml:space=\"preserve\" x=\"-27317\" stroke=\"none\" font-size=\"433.3333\" '\n",
            "          'font-family=\"sans-serif\">O</text><text y=\"-32242\" '\n",
            "          'xml:space=\"preserve\" x=\"-28224\" stroke=\"none\" font-size=\"433.3333\" '\n",
            "          'font-family=\"sans-serif\">O</text></g></g></svg>',\n",
            " 'inchi': 'InChI=1S/C11H20O2/c1-2-13-11(12)9-8-10-6-4-3-5-7-10/h10H,2-9H2,1H3',\n",
            " 'inchiKey': 'InChIKey=NRVPMFHPHGBQLP-UHFFFAOYSA-N',\n",
            " 'molecularFormula': 'C<sub>11</sub>H<sub>20</sub>O<sub>2</sub>',\n",
            " 'molecularMass': '184.28',\n",
            " 'name': 'Ethyl cyclohexanepropionate',\n",
            " 'propertyCitations': [{'docUri': 'document/pt/document/22252593',\n",
            "                        'source': 'De Benneville, Peter L.; Journal of the '\n",
            "                                  'American Chemical Society, (1940), 62, '\n",
            "                                  '283-7, CAplus',\n",
            "                        'sourceNumber': 1}],\n",
            " 'replacedRns': [],\n",
            " 'rn': '10094-36-7',\n",
            " 'smile': 'C(CC(OCC)=O)C1CCCCC1',\n",
            " 'synonyms': ['Cyclohexanepropanoic acid, ethyl ester',\n",
            "              'Cyclohexanepropionic acid, ethyl ester',\n",
            "              'Ethyl cyclohexanepropionate',\n",
            "              'Ethyl cyclohexylpropanoate',\n",
            "              'Ethyl 3-cyclohexylpropionate',\n",
            "              'Ethyl 3-cyclohexylpropanoate',\n",
            "              '3-Cyclohexylpropionic acid ethyl ester',\n",
            "              'NSC 71463',\n",
            "              'Ethyl 3-cyclohexanepropionate'],\n",
            " 'uri': 'substance/pt/10094367'}\n"
          ]
        }
      ],
      "source": [
        "casrn1_data = requests.get(detail_base_url + \"cas_rn=\" + casrn1).json()\n",
        "pprint(casrn1_data)"
      ]
    },
    {
      "cell_type": "markdown",
      "metadata": {
        "id": "y6x2BzQOa11c"
      },
      "source": [
        "### Display the Molecule Drawing"
      ]
    },
    {
      "cell_type": "code",
      "execution_count": 4,
      "metadata": {
        "colab": {
          "base_uri": "https://localhost:8080/",
          "height": 133
        },
        "id": "DUmE0COsZ-Xv",
        "outputId": "7add0f72-e7e2-44af-c928-18167fd386e9"
      },
      "outputs": [
        {
          "data": {
            "image/svg+xml": [
              "<svg color-interpolation=\"auto\" color-rendering=\"auto\" fill=\"black\" fill-opacity=\"1\" font-family=\"'Dialog'\" font-size=\"12\" font-style=\"normal\" font-weight=\"normal\" height=\"111.48\" image-rendering=\"auto\" shape-rendering=\"auto\" stroke=\"black\" stroke-dasharray=\"none\" stroke-dashoffset=\"0\" stroke-linecap=\"square\" stroke-linejoin=\"miter\" stroke-miterlimit=\"10\" stroke-opacity=\"1\" stroke-width=\"1\" text-rendering=\"auto\" viewBox=\"0 0 7620 3716\" width=\"228.6\" xmlns=\"http://www.w3.org/2000/svg\"><g><g fill=\"white\" stroke=\"white\"><rect height=\"3716\" stroke=\"none\" width=\"7620\" x=\"0\" y=\"0\"/></g><g stroke-linecap=\"round\" stroke-linejoin=\"round\" stroke-width=\"44\" text-rendering=\"geometricPrecision\" transform=\"translate(32866,32758)\"><line fill=\"none\" x1=\"-31777\" x2=\"-30792\" y1=\"-31419\" y2=\"-30850\"/><line fill=\"none\" x1=\"-30792\" x2=\"-30792\" y1=\"-30850\" y2=\"-29715\"/><line fill=\"none\" x1=\"-32762\" x2=\"-31777\" y1=\"-30850\" y2=\"-31419\"/><line fill=\"none\" x1=\"-30792\" x2=\"-31777\" y1=\"-29715\" y2=\"-29146\"/><line fill=\"none\" x1=\"-32762\" x2=\"-32762\" y1=\"-29715\" y2=\"-30850\"/><line fill=\"none\" x1=\"-31777\" x2=\"-32762\" y1=\"-29146\" y2=\"-29715\"/><line fill=\"none\" x1=\"-30792\" x2=\"-29885\" y1=\"-30850\" y2=\"-31376\"/><line fill=\"none\" x1=\"-29885\" x2=\"-28978\" y1=\"-31376\" y2=\"-30850\"/><line fill=\"none\" x1=\"-28978\" x2=\"-28071\" y1=\"-30850\" y2=\"-31376\"/><line fill=\"none\" x1=\"-28071\" x2=\"-27352\" y1=\"-31376\" y2=\"-30960\"/><line fill=\"none\" x1=\"-26976\" x2=\"-26257\" y1=\"-30960\" y2=\"-31376\"/><line fill=\"none\" x1=\"-26257\" x2=\"-25350\" y1=\"-31376\" y2=\"-30850\"/><line fill=\"none\" x1=\"-28140\" x2=\"-28140\" y1=\"-31376\" y2=\"-32202\"/><line fill=\"none\" x1=\"-28002\" x2=\"-28002\" y1=\"-31376\" y2=\"-32202\"/><text font-family=\"sans-serif\" font-size=\"433.3333\" stroke=\"none\" x=\"-27317\" xml:space=\"preserve\" y=\"-30671\">O</text><text font-family=\"sans-serif\" font-size=\"433.3333\" stroke=\"none\" x=\"-28224\" xml:space=\"preserve\" y=\"-32242\">O</text></g></g></svg>"
            ],
            "text/plain": [
              "<IPython.core.display.SVG object>"
            ]
          },
          "execution_count": 4,
          "metadata": {},
          "output_type": "execute_result"
        }
      ],
      "source": [
        "# get svg image text\n",
        "svg_string1 = casrn1_data[\"image\"]\n",
        "\n",
        "# display the molecule\n",
        "from IPython.display import SVG\n",
        "SVG(svg_string1)"
      ]
    },
    {
      "cell_type": "markdown",
      "metadata": {
        "id": "aGFXQgoubHDo"
      },
      "source": [
        "### Select some specific data"
      ]
    },
    {
      "cell_type": "code",
      "execution_count": 5,
      "metadata": {
        "colab": {
          "base_uri": "https://localhost:8080/"
        },
        "id": "X3vi4RKCbTyl",
        "outputId": "39d90ca3-f27a-452c-a6eb-421e7452c519"
      },
      "outputs": [
        {
          "data": {
            "text/plain": [
              "{'name': 'Boiling Point',\n",
              " 'property': '105-113 °C @ Press: 17 Torr',\n",
              " 'sourceNumber': 1}"
            ]
          },
          "execution_count": 5,
          "metadata": {},
          "output_type": "execute_result"
        }
      ],
      "source": [
        "# Get Experimental Properties\n",
        "casrn1_data[\"experimentalProperties\"][0]"
      ]
    },
    {
      "cell_type": "code",
      "execution_count": 6,
      "metadata": {
        "colab": {
          "base_uri": "https://localhost:8080/",
          "height": 35
        },
        "id": "RzEqem-NcCWF",
        "outputId": "91830a56-338e-4569-e89b-ee10b4ddb742"
      },
      "outputs": [
        {
          "data": {
            "application/vnd.google.colaboratory.intrinsic+json": {
              "type": "string"
            },
            "text/plain": [
              "'105-113 °C @ Press: 17 Torr'"
            ]
          },
          "execution_count": 6,
          "metadata": {},
          "output_type": "execute_result"
        }
      ],
      "source": [
        "# Get Boiling Point property\n",
        "casrn1_data[\"experimentalProperties\"][0][\"property\"]"
      ]
    },
    {
      "cell_type": "code",
      "execution_count": 7,
      "metadata": {
        "colab": {
          "base_uri": "https://localhost:8080/",
          "height": 35
        },
        "id": "t23zrBGXcOoY",
        "outputId": "4e74a363-6ab1-4896-af3a-29640ecaee52"
      },
      "outputs": [
        {
          "data": {
            "application/vnd.google.colaboratory.intrinsic+json": {
              "type": "string"
            },
            "text/plain": [
              "'InChIKey=NRVPMFHPHGBQLP-UHFFFAOYSA-N'"
            ]
          },
          "execution_count": 7,
          "metadata": {},
          "output_type": "execute_result"
        }
      ],
      "source": [
        "# Get InChIKey\n",
        "casrn1_data[\"inchiKey\"]"
      ]
    },
    {
      "cell_type": "code",
      "execution_count": 8,
      "metadata": {
        "colab": {
          "base_uri": "https://localhost:8080/",
          "height": 35
        },
        "id": "6EDdWqD-cYbI",
        "outputId": "f85d2f9b-a28f-4662-e8c4-47f2d5815c48"
      },
      "outputs": [
        {
          "data": {
            "application/vnd.google.colaboratory.intrinsic+json": {
              "type": "string"
            },
            "text/plain": [
              "'O=C(OCC)CCC1CCCCC1'"
            ]
          },
          "execution_count": 8,
          "metadata": {},
          "output_type": "execute_result"
        }
      ],
      "source": [
        "# Get Canonical SMILES\n",
        "casrn1_data[\"canonicalSmile\"]"
      ]
    },
    {
      "cell_type": "markdown",
      "metadata": {
        "id": "EsJPcXQqcsPS"
      },
      "source": [
        "## 2. Common Chemistry API record detail retrieval in a loop"
      ]
    },
    {
      "cell_type": "markdown",
      "metadata": {
        "id": "bwGkvO6XhAwL"
      },
      "source": [
        "### Import libraries"
      ]
    },
    {
      "cell_type": "code",
      "execution_count": 9,
      "metadata": {
        "id": "2vfWg1Fsg_5x"
      },
      "outputs": [],
      "source": [
        "import json\n",
        "import requests\n",
        "from pprint import pprint\n",
        "from time import sleep"
      ]
    },
    {
      "cell_type": "markdown",
      "metadata": {
        "id": "FY6ShJE4hP-K"
      },
      "source": [
        "### Setup API parameters"
      ]
    },
    {
      "cell_type": "code",
      "execution_count": 10,
      "metadata": {
        "id": "8A7jvmeKhTOG"
      },
      "outputs": [],
      "source": [
        "detail_base_url = \"https://commonchemistry.cas.org/api/detail?\"\n",
        "casrn_list = [\"10094-36-7\", \"10031-92-2\", \"10199-61-8\", \"10036-21-2\", \"1019020-13-3\"]"
      ]
    },
    {
      "cell_type": "markdown",
      "metadata": {
        "id": "GYH-ozXSi5jI"
      },
      "source": [
        "### Request data for each CAS RN and save to a list"
      ]
    },
    {
      "cell_type": "code",
      "execution_count": 11,
      "metadata": {
        "id": "dBE3v1bohnT1"
      },
      "outputs": [],
      "source": [
        "casrn_data = []\n",
        "for casrn in casrn_list:\n",
        "    casrn_data.append(requests.get(detail_base_url + \"cas_rn=\" + casrn).json())\n",
        "    sleep(1) # add a delay between API calls"
      ]
    },
    {
      "cell_type": "code",
      "execution_count": 12,
      "metadata": {
        "colab": {
          "base_uri": "https://localhost:8080/"
        },
        "id": "3dz1-I1FhnWr",
        "outputId": "e2c7afd6-ae13-4301-aa35-efe3ce1ba8ff"
      },
      "outputs": [
        {
          "data": {
            "text/plain": [
              "[{'canonicalSmile': 'O=C(OCC)CCC1CCCCC1',\n",
              "  'experimentalProperties': [{'name': 'Boiling Point',\n",
              "    'property': '105-113 °C @ Press: 17 Torr',\n",
              "    'sourceNumber': 1}],\n",
              "  'hasMolfile': True,\n",
              "  'image': '<svg width=\"228.6\" viewBox=\"0 0 7620 3716\" text-rendering=\"auto\" stroke-width=\"1\" stroke-opacity=\"1\" stroke-miterlimit=\"10\" stroke-linejoin=\"miter\" stroke-linecap=\"square\" stroke-dashoffset=\"0\" stroke-dasharray=\"none\" stroke=\"black\" shape-rendering=\"auto\" image-rendering=\"auto\" height=\"111.48\" font-weight=\"normal\" font-style=\"normal\" font-size=\"12\" font-family=\"\\'Dialog\\'\" fill-opacity=\"1\" fill=\"black\" color-rendering=\"auto\" color-interpolation=\"auto\" xmlns=\"http://www.w3.org/2000/svg\"><g><g stroke=\"white\" fill=\"white\"><rect y=\"0\" x=\"0\" width=\"7620\" stroke=\"none\" height=\"3716\"/></g><g transform=\"translate(32866,32758)\" text-rendering=\"geometricPrecision\" stroke-width=\"44\" stroke-linejoin=\"round\" stroke-linecap=\"round\"><line y2=\"-30850\" y1=\"-31419\" x2=\"-30792\" x1=\"-31777\" fill=\"none\"/><line y2=\"-29715\" y1=\"-30850\" x2=\"-30792\" x1=\"-30792\" fill=\"none\"/><line y2=\"-31419\" y1=\"-30850\" x2=\"-31777\" x1=\"-32762\" fill=\"none\"/><line y2=\"-29146\" y1=\"-29715\" x2=\"-31777\" x1=\"-30792\" fill=\"none\"/><line y2=\"-30850\" y1=\"-29715\" x2=\"-32762\" x1=\"-32762\" fill=\"none\"/><line y2=\"-29715\" y1=\"-29146\" x2=\"-32762\" x1=\"-31777\" fill=\"none\"/><line y2=\"-31376\" y1=\"-30850\" x2=\"-29885\" x1=\"-30792\" fill=\"none\"/><line y2=\"-30850\" y1=\"-31376\" x2=\"-28978\" x1=\"-29885\" fill=\"none\"/><line y2=\"-31376\" y1=\"-30850\" x2=\"-28071\" x1=\"-28978\" fill=\"none\"/><line y2=\"-30960\" y1=\"-31376\" x2=\"-27352\" x1=\"-28071\" fill=\"none\"/><line y2=\"-31376\" y1=\"-30960\" x2=\"-26257\" x1=\"-26976\" fill=\"none\"/><line y2=\"-30850\" y1=\"-31376\" x2=\"-25350\" x1=\"-26257\" fill=\"none\"/><line y2=\"-32202\" y1=\"-31376\" x2=\"-28140\" x1=\"-28140\" fill=\"none\"/><line y2=\"-32202\" y1=\"-31376\" x2=\"-28002\" x1=\"-28002\" fill=\"none\"/><text y=\"-30671\" xml:space=\"preserve\" x=\"-27317\" stroke=\"none\" font-size=\"433.3333\" font-family=\"sans-serif\">O</text><text y=\"-32242\" xml:space=\"preserve\" x=\"-28224\" stroke=\"none\" font-size=\"433.3333\" font-family=\"sans-serif\">O</text></g></g></svg>',\n",
              "  'inchi': 'InChI=1S/C11H20O2/c1-2-13-11(12)9-8-10-6-4-3-5-7-10/h10H,2-9H2,1H3',\n",
              "  'inchiKey': 'InChIKey=NRVPMFHPHGBQLP-UHFFFAOYSA-N',\n",
              "  'molecularFormula': 'C<sub>11</sub>H<sub>20</sub>O<sub>2</sub>',\n",
              "  'molecularMass': '184.28',\n",
              "  'name': 'Ethyl cyclohexanepropionate',\n",
              "  'propertyCitations': [{'docUri': 'document/pt/document/22252593',\n",
              "    'source': 'De Benneville, Peter L.; Journal of the American Chemical Society, (1940), 62, 283-7, CAplus',\n",
              "    'sourceNumber': 1}],\n",
              "  'replacedRns': [],\n",
              "  'rn': '10094-36-7',\n",
              "  'smile': 'C(CC(OCC)=O)C1CCCCC1',\n",
              "  'synonyms': ['Cyclohexanepropanoic acid, ethyl ester',\n",
              "   'Cyclohexanepropionic acid, ethyl ester',\n",
              "   'Ethyl cyclohexanepropionate',\n",
              "   'Ethyl cyclohexylpropanoate',\n",
              "   'Ethyl 3-cyclohexylpropionate',\n",
              "   'Ethyl 3-cyclohexylpropanoate',\n",
              "   '3-Cyclohexylpropionic acid ethyl ester',\n",
              "   'NSC 71463',\n",
              "   'Ethyl 3-cyclohexanepropionate'],\n",
              "  'uri': 'substance/pt/10094367'},\n",
              " {'canonicalSmile': 'O=C(C#CCCCCCC)OCC',\n",
              "  'experimentalProperties': [],\n",
              "  'hasMolfile': True,\n",
              "  'image': '<svg width=\"318.24\" viewBox=\"0 0 10608 2283\" text-rendering=\"auto\" stroke-width=\"1\" stroke-opacity=\"1\" stroke-miterlimit=\"10\" stroke-linejoin=\"miter\" stroke-linecap=\"square\" stroke-dashoffset=\"0\" stroke-dasharray=\"none\" stroke=\"black\" shape-rendering=\"auto\" image-rendering=\"auto\" height=\"68.49\" font-weight=\"normal\" font-style=\"normal\" font-size=\"12\" font-family=\"\\'Dialog\\'\" fill-opacity=\"1\" fill=\"black\" color-rendering=\"auto\" color-interpolation=\"auto\" xmlns=\"http://www.w3.org/2000/svg\"><g><g stroke=\"white\" fill=\"white\"><rect y=\"0\" x=\"0\" width=\"10608\" stroke=\"none\" height=\"2283\"/></g><g transform=\"translate(32866,32758)\" text-rendering=\"geometricPrecision\" stroke-width=\"44\" stroke-linejoin=\"round\" stroke-linecap=\"round\"><line y2=\"-31899\" y1=\"-31899\" x2=\"-26132\" x1=\"-27178\" fill=\"none\"/><line y2=\"-31988\" y1=\"-31988\" x2=\"-26132\" x1=\"-27178\" fill=\"none\"/><line y2=\"-31809\" y1=\"-31809\" x2=\"-26132\" x1=\"-27178\" fill=\"none\"/><line y2=\"-31899\" y1=\"-31899\" x2=\"-28227\" x1=\"-27178\" fill=\"none\"/><line y2=\"-31376\" y1=\"-31899\" x2=\"-29134\" x1=\"-28227\" fill=\"none\"/><line y2=\"-31899\" y1=\"-31376\" x2=\"-30041\" x1=\"-29134\" fill=\"none\"/><line y2=\"-31376\" y1=\"-31899\" x2=\"-30948\" x1=\"-30041\" fill=\"none\"/><line y2=\"-31899\" y1=\"-31376\" x2=\"-31855\" x1=\"-30948\" fill=\"none\"/><line y2=\"-31376\" y1=\"-31899\" x2=\"-32762\" x1=\"-31855\" fill=\"none\"/><line y2=\"-31899\" y1=\"-31899\" x2=\"-25084\" x1=\"-26132\" fill=\"none\"/><line y2=\"-32315\" y1=\"-31899\" x2=\"-24364\" x1=\"-25084\" fill=\"none\"/><line y2=\"-31899\" y1=\"-32315\" x2=\"-23270\" x1=\"-23989\" fill=\"none\"/><line y2=\"-32422\" y1=\"-31899\" x2=\"-22362\" x1=\"-23270\" fill=\"none\"/><line y2=\"-31070\" y1=\"-31899\" x2=\"-25014\" x1=\"-25014\" fill=\"none\"/><line y2=\"-31070\" y1=\"-31899\" x2=\"-25153\" x1=\"-25153\" fill=\"none\"/><text y=\"-32242\" xml:space=\"preserve\" x=\"-24330\" stroke=\"none\" font-size=\"433.3333\" font-family=\"sans-serif\">O</text><text y=\"-30671\" xml:space=\"preserve\" x=\"-25237\" stroke=\"none\" font-size=\"433.3333\" font-family=\"sans-serif\">O</text></g></g></svg>',\n",
              "  'inchi': 'InChI=1S/C11H18O2/c1-3-5-6-7-8-9-10-11(12)13-4-2/h3-8H2,1-2H3',\n",
              "  'inchiKey': 'InChIKey=BFZNMUGAZYAMTG-UHFFFAOYSA-N',\n",
              "  'molecularFormula': 'C<sub>11</sub>H<sub>18</sub>O<sub>2</sub>',\n",
              "  'molecularMass': '182.26',\n",
              "  'name': 'Ethyl 2-nonynoate',\n",
              "  'propertyCitations': [],\n",
              "  'replacedRns': [],\n",
              "  'rn': '10031-92-2',\n",
              "  'smile': 'C(C#CCCCCCC)(OCC)=O',\n",
              "  'synonyms': ['2-Nonynoic acid, ethyl ester',\n",
              "   'Ethyl 2-nonynoate',\n",
              "   'NSC 190985'],\n",
              "  'uri': 'substance/pt/10031922'}]"
            ]
          },
          "execution_count": 12,
          "metadata": {},
          "output_type": "execute_result"
        }
      ],
      "source": [
        "casrn_data[0:2] # vew first 2"
      ]
    },
    {
      "cell_type": "markdown",
      "metadata": {
        "id": "BCzJe7AGtvvy"
      },
      "source": [
        "### Display Molecule Drawings"
      ]
    },
    {
      "cell_type": "code",
      "execution_count": 13,
      "metadata": {
        "colab": {
          "base_uri": "https://localhost:8080/",
          "height": 516
        },
        "id": "tbSvqwYttu_T",
        "outputId": "fcd0a3a8-31ec-4fe5-d58d-5a1ff9c521da"
      },
      "outputs": [
        {
          "data": {
            "image/svg+xml": [
              "<svg color-interpolation=\"auto\" color-rendering=\"auto\" fill=\"black\" fill-opacity=\"1\" font-family=\"'Dialog'\" font-size=\"12\" font-style=\"normal\" font-weight=\"normal\" height=\"111.48\" image-rendering=\"auto\" shape-rendering=\"auto\" stroke=\"black\" stroke-dasharray=\"none\" stroke-dashoffset=\"0\" stroke-linecap=\"square\" stroke-linejoin=\"miter\" stroke-miterlimit=\"10\" stroke-opacity=\"1\" stroke-width=\"1\" text-rendering=\"auto\" viewBox=\"0 0 7620 3716\" width=\"228.6\" xmlns=\"http://www.w3.org/2000/svg\"><g><g fill=\"white\" stroke=\"white\"><rect height=\"3716\" stroke=\"none\" width=\"7620\" x=\"0\" y=\"0\"/></g><g stroke-linecap=\"round\" stroke-linejoin=\"round\" stroke-width=\"44\" text-rendering=\"geometricPrecision\" transform=\"translate(32866,32758)\"><line fill=\"none\" x1=\"-31777\" x2=\"-30792\" y1=\"-31419\" y2=\"-30850\"/><line fill=\"none\" x1=\"-30792\" x2=\"-30792\" y1=\"-30850\" y2=\"-29715\"/><line fill=\"none\" x1=\"-32762\" x2=\"-31777\" y1=\"-30850\" y2=\"-31419\"/><line fill=\"none\" x1=\"-30792\" x2=\"-31777\" y1=\"-29715\" y2=\"-29146\"/><line fill=\"none\" x1=\"-32762\" x2=\"-32762\" y1=\"-29715\" y2=\"-30850\"/><line fill=\"none\" x1=\"-31777\" x2=\"-32762\" y1=\"-29146\" y2=\"-29715\"/><line fill=\"none\" x1=\"-30792\" x2=\"-29885\" y1=\"-30850\" y2=\"-31376\"/><line fill=\"none\" x1=\"-29885\" x2=\"-28978\" y1=\"-31376\" y2=\"-30850\"/><line fill=\"none\" x1=\"-28978\" x2=\"-28071\" y1=\"-30850\" y2=\"-31376\"/><line fill=\"none\" x1=\"-28071\" x2=\"-27352\" y1=\"-31376\" y2=\"-30960\"/><line fill=\"none\" x1=\"-26976\" x2=\"-26257\" y1=\"-30960\" y2=\"-31376\"/><line fill=\"none\" x1=\"-26257\" x2=\"-25350\" y1=\"-31376\" y2=\"-30850\"/><line fill=\"none\" x1=\"-28140\" x2=\"-28140\" y1=\"-31376\" y2=\"-32202\"/><line fill=\"none\" x1=\"-28002\" x2=\"-28002\" y1=\"-31376\" y2=\"-32202\"/><text font-family=\"sans-serif\" font-size=\"433.3333\" stroke=\"none\" x=\"-27317\" xml:space=\"preserve\" y=\"-30671\">O</text><text font-family=\"sans-serif\" font-size=\"433.3333\" stroke=\"none\" x=\"-28224\" xml:space=\"preserve\" y=\"-32242\">O</text></g></g></svg>"
            ],
            "text/plain": [
              "<IPython.core.display.SVG object>"
            ]
          },
          "metadata": {},
          "output_type": "display_data"
        },
        {
          "data": {
            "image/svg+xml": [
              "<svg color-interpolation=\"auto\" color-rendering=\"auto\" fill=\"black\" fill-opacity=\"1\" font-family=\"'Dialog'\" font-size=\"12\" font-style=\"normal\" font-weight=\"normal\" height=\"68.49\" image-rendering=\"auto\" shape-rendering=\"auto\" stroke=\"black\" stroke-dasharray=\"none\" stroke-dashoffset=\"0\" stroke-linecap=\"square\" stroke-linejoin=\"miter\" stroke-miterlimit=\"10\" stroke-opacity=\"1\" stroke-width=\"1\" text-rendering=\"auto\" viewBox=\"0 0 10608 2283\" width=\"318.24\" xmlns=\"http://www.w3.org/2000/svg\"><g><g fill=\"white\" stroke=\"white\"><rect height=\"2283\" stroke=\"none\" width=\"10608\" x=\"0\" y=\"0\"/></g><g stroke-linecap=\"round\" stroke-linejoin=\"round\" stroke-width=\"44\" text-rendering=\"geometricPrecision\" transform=\"translate(32866,32758)\"><line fill=\"none\" x1=\"-27178\" x2=\"-26132\" y1=\"-31899\" y2=\"-31899\"/><line fill=\"none\" x1=\"-27178\" x2=\"-26132\" y1=\"-31988\" y2=\"-31988\"/><line fill=\"none\" x1=\"-27178\" x2=\"-26132\" y1=\"-31809\" y2=\"-31809\"/><line fill=\"none\" x1=\"-27178\" x2=\"-28227\" y1=\"-31899\" y2=\"-31899\"/><line fill=\"none\" x1=\"-28227\" x2=\"-29134\" y1=\"-31899\" y2=\"-31376\"/><line fill=\"none\" x1=\"-29134\" x2=\"-30041\" y1=\"-31376\" y2=\"-31899\"/><line fill=\"none\" x1=\"-30041\" x2=\"-30948\" y1=\"-31899\" y2=\"-31376\"/><line fill=\"none\" x1=\"-30948\" x2=\"-31855\" y1=\"-31376\" y2=\"-31899\"/><line fill=\"none\" x1=\"-31855\" x2=\"-32762\" y1=\"-31899\" y2=\"-31376\"/><line fill=\"none\" x1=\"-26132\" x2=\"-25084\" y1=\"-31899\" y2=\"-31899\"/><line fill=\"none\" x1=\"-25084\" x2=\"-24364\" y1=\"-31899\" y2=\"-32315\"/><line fill=\"none\" x1=\"-23989\" x2=\"-23270\" y1=\"-32315\" y2=\"-31899\"/><line fill=\"none\" x1=\"-23270\" x2=\"-22362\" y1=\"-31899\" y2=\"-32422\"/><line fill=\"none\" x1=\"-25014\" x2=\"-25014\" y1=\"-31899\" y2=\"-31070\"/><line fill=\"none\" x1=\"-25153\" x2=\"-25153\" y1=\"-31899\" y2=\"-31070\"/><text font-family=\"sans-serif\" font-size=\"433.3333\" stroke=\"none\" x=\"-24330\" xml:space=\"preserve\" y=\"-32242\">O</text><text font-family=\"sans-serif\" font-size=\"433.3333\" stroke=\"none\" x=\"-25237\" xml:space=\"preserve\" y=\"-30671\">O</text></g></g></svg>"
            ],
            "text/plain": [
              "<IPython.core.display.SVG object>"
            ]
          },
          "metadata": {},
          "output_type": "display_data"
        },
        {
          "data": {
            "image/svg+xml": [
              "<svg color-interpolation=\"auto\" color-rendering=\"auto\" fill=\"black\" fill-opacity=\"1\" font-family=\"'Dialog'\" font-size=\"12\" font-style=\"normal\" font-weight=\"normal\" height=\"75.42\" image-rendering=\"auto\" shape-rendering=\"auto\" stroke=\"black\" stroke-dasharray=\"none\" stroke-dashoffset=\"0\" stroke-linecap=\"square\" stroke-linejoin=\"miter\" stroke-miterlimit=\"10\" stroke-opacity=\"1\" stroke-width=\"1\" text-rendering=\"auto\" viewBox=\"0 0 6745 2514\" width=\"202.35\" xmlns=\"http://www.w3.org/2000/svg\"><g><g fill=\"white\" stroke=\"white\"><rect height=\"2514\" stroke=\"none\" width=\"6745\" x=\"0\" y=\"0\"/></g><g stroke-linecap=\"round\" stroke-linejoin=\"round\" stroke-width=\"44\" text-rendering=\"geometricPrecision\" transform=\"translate(32866,32758)\"><line fill=\"none\" x1=\"-30836\" x2=\"-31159\" y1=\"-31448\" y2=\"-30512\"/><line fill=\"none\" x1=\"-31549\" x2=\"-30948\" y1=\"-32277\" y2=\"-31812\"/><line fill=\"none\" x1=\"-31159\" x2=\"-32404\" y1=\"-30512\" y2=\"-30512\"/><line fill=\"none\" x1=\"-31315\" x2=\"-32248\" y1=\"-30680\" y2=\"-30680\"/><line fill=\"none\" x1=\"-32762\" x2=\"-31925\" y1=\"-31668\" y2=\"-32283\"/><line fill=\"none\" x1=\"-32554\" x2=\"-31930\" y1=\"-31607\" y2=\"-32069\"/><line fill=\"none\" x1=\"-32404\" x2=\"-32762\" y1=\"-30512\" y2=\"-31668\"/><line fill=\"none\" x1=\"-30573\" x2=\"-29853\" y1=\"-31774\" y2=\"-32190\"/><line fill=\"none\" x1=\"-29853\" x2=\"-28946\" y1=\"-32190\" y2=\"-31668\"/><line fill=\"none\" x1=\"-28946\" x2=\"-28227\" y1=\"-31668\" y2=\"-32084\"/><line fill=\"none\" x1=\"-27848\" x2=\"-27132\" y1=\"-32084\" y2=\"-31668\"/><line fill=\"none\" x1=\"-27132\" x2=\"-26225\" y1=\"-31668\" y2=\"-32190\"/><line fill=\"none\" x1=\"-28874\" x2=\"-28874\" y1=\"-31668\" y2=\"-30838\"/><line fill=\"none\" x1=\"-29016\" x2=\"-29016\" y1=\"-31668\" y2=\"-30838\"/><text font-family=\"sans-serif\" font-size=\"433.3333\" stroke=\"none\" x=\"-28189\" xml:space=\"preserve\" y=\"-32011\">O</text><text font-family=\"sans-serif\" font-size=\"433.3333\" stroke=\"none\" x=\"-29096\" xml:space=\"preserve\" y=\"-30440\">O</text><text font-family=\"sans-serif\" font-size=\"433.3333\" stroke=\"none\" x=\"-30911\" xml:space=\"preserve\" y=\"-31488\">N</text><text font-family=\"sans-serif\" font-size=\"433.3333\" stroke=\"none\" x=\"-31890\" xml:space=\"preserve\" y=\"-32242\">N</text></g></g></svg>"
            ],
            "text/plain": [
              "<IPython.core.display.SVG object>"
            ]
          },
          "metadata": {},
          "output_type": "display_data"
        },
        {
          "data": {
            "image/svg+xml": [
              "<svg color-interpolation=\"auto\" color-rendering=\"auto\" fill=\"black\" fill-opacity=\"1\" font-family=\"'Dialog'\" font-size=\"12\" font-style=\"normal\" font-weight=\"normal\" height=\"111.48\" image-rendering=\"auto\" shape-rendering=\"auto\" stroke=\"black\" stroke-dasharray=\"none\" stroke-dashoffset=\"0\" stroke-linecap=\"square\" stroke-linejoin=\"miter\" stroke-miterlimit=\"10\" stroke-opacity=\"1\" stroke-width=\"1\" text-rendering=\"auto\" viewBox=\"0 0 11249 3716\" width=\"337.47\" xmlns=\"http://www.w3.org/2000/svg\"><g><g fill=\"white\" stroke=\"white\"><rect height=\"3716\" stroke=\"none\" width=\"11249\" x=\"0\" y=\"0\"/></g><g stroke-linecap=\"round\" stroke-linejoin=\"round\" stroke-width=\"44\" text-rendering=\"geometricPrecision\" transform=\"translate(32866,32758)\"><line fill=\"none\" x1=\"-29134\" x2=\"-28146\" y1=\"-30850\" y2=\"-31419\"/><line fill=\"none\" x1=\"-28926\" x2=\"-28186\" y1=\"-30775\" y2=\"-31202\"/><line fill=\"none\" x1=\"-29134\" x2=\"-29134\" y1=\"-29715\" y2=\"-30850\"/><line fill=\"none\" x1=\"-28146\" x2=\"-27164\" y1=\"-31419\" y2=\"-30850\"/><line fill=\"none\" x1=\"-28146\" x2=\"-29134\" y1=\"-29146\" y2=\"-29715\"/><line fill=\"none\" x1=\"-28186\" x2=\"-28926\" y1=\"-29362\" y2=\"-29790\"/><line fill=\"none\" x1=\"-27164\" x2=\"-27164\" y1=\"-30850\" y2=\"-29715\"/><line fill=\"none\" x1=\"-27334\" x2=\"-27334\" y1=\"-30708\" y2=\"-29856\"/><line fill=\"none\" x1=\"-27164\" x2=\"-28146\" y1=\"-29715\" y2=\"-29146\"/><line fill=\"none\" x1=\"-27164\" x2=\"-26257\" y1=\"-30850\" y2=\"-31376\"/><line fill=\"none\" x1=\"-26257\" x2=\"-25350\" y1=\"-31376\" y2=\"-30850\"/><line fill=\"none\" x1=\"-25350\" x2=\"-24442\" y1=\"-30850\" y2=\"-31376\"/><line fill=\"none\" x1=\"-29134\" x2=\"-30041\" y1=\"-30850\" y2=\"-31376\"/><line fill=\"none\" x1=\"-24442\" x2=\"-23723\" y1=\"-31376\" y2=\"-30960\"/><line fill=\"none\" x1=\"-23348\" x2=\"-22628\" y1=\"-30960\" y2=\"-31376\"/><line fill=\"none\" x1=\"-22628\" x2=\"-21721\" y1=\"-31376\" y2=\"-30850\"/><line fill=\"none\" x1=\"-24512\" x2=\"-24512\" y1=\"-31376\" y2=\"-32202\"/><line fill=\"none\" x1=\"-24373\" x2=\"-24373\" y1=\"-31376\" y2=\"-32202\"/><line fill=\"none\" x1=\"-30041\" x2=\"-30760\" y1=\"-31376\" y2=\"-30960\"/><line fill=\"none\" x1=\"-31136\" x2=\"-31855\" y1=\"-30960\" y2=\"-31376\"/><line fill=\"none\" x1=\"-31855\" x2=\"-32762\" y1=\"-31376\" y2=\"-30850\"/><line fill=\"none\" x1=\"-30110\" x2=\"-30110\" y1=\"-31376\" y2=\"-32202\"/><line fill=\"none\" x1=\"-29972\" x2=\"-29972\" y1=\"-31376\" y2=\"-32202\"/><text font-family=\"sans-serif\" font-size=\"433.3333\" stroke=\"none\" x=\"-31101\" xml:space=\"preserve\" y=\"-30671\">O</text><text font-family=\"sans-serif\" font-size=\"433.3333\" stroke=\"none\" x=\"-30194\" xml:space=\"preserve\" y=\"-32242\">O</text><text font-family=\"sans-serif\" font-size=\"433.3333\" stroke=\"none\" x=\"-23688\" xml:space=\"preserve\" y=\"-30671\">O</text><text font-family=\"sans-serif\" font-size=\"433.3333\" stroke=\"none\" x=\"-24596\" xml:space=\"preserve\" y=\"-32242\">O</text></g></g></svg>"
            ],
            "text/plain": [
              "<IPython.core.display.SVG object>"
            ]
          },
          "metadata": {},
          "output_type": "display_data"
        },
        {
          "data": {
            "image/svg+xml": [
              "<svg color-interpolation=\"auto\" color-rendering=\"auto\" fill=\"black\" fill-opacity=\"1\" font-family=\"'Dialog'\" font-size=\"12\" font-style=\"normal\" font-weight=\"normal\" height=\"111.48\" image-rendering=\"auto\" shape-rendering=\"auto\" stroke=\"black\" stroke-dasharray=\"none\" stroke-dashoffset=\"0\" stroke-linecap=\"square\" stroke-linejoin=\"miter\" stroke-miterlimit=\"10\" stroke-opacity=\"1\" stroke-width=\"1\" text-rendering=\"auto\" viewBox=\"0 0 5806 3716\" width=\"174.18\" xmlns=\"http://www.w3.org/2000/svg\"><g><g fill=\"white\" stroke=\"white\"><rect height=\"3716\" stroke=\"none\" width=\"5806\" x=\"0\" y=\"0\"/></g><g stroke-linecap=\"round\" stroke-linejoin=\"round\" stroke-width=\"44\" text-rendering=\"geometricPrecision\" transform=\"translate(32866,32758)\"><line fill=\"none\" x1=\"-30792\" x2=\"-30792\" y1=\"-30850\" y2=\"-29715\"/><line fill=\"none\" x1=\"-31774\" x2=\"-30792\" y1=\"-31419\" y2=\"-30850\"/><line fill=\"none\" x1=\"-31737\" x2=\"-31000\" y1=\"-31202\" y2=\"-30775\"/><line fill=\"none\" x1=\"-30792\" x2=\"-31774\" y1=\"-29715\" y2=\"-29146\"/><line fill=\"none\" x1=\"-32762\" x2=\"-31774\" y1=\"-30850\" y2=\"-31419\"/><line fill=\"none\" x1=\"-31774\" x2=\"-32762\" y1=\"-29146\" y2=\"-29715\"/><line fill=\"none\" x1=\"-32762\" x2=\"-32762\" y1=\"-29715\" y2=\"-30850\"/><line fill=\"none\" x1=\"-30792\" x2=\"-29885\" y1=\"-30850\" y2=\"-31376\"/><line fill=\"none\" x1=\"-29885\" x2=\"-29166\" y1=\"-31376\" y2=\"-30960\"/><line fill=\"none\" x1=\"-28790\" x2=\"-28071\" y1=\"-30960\" y2=\"-31376\"/><line fill=\"none\" x1=\"-28071\" x2=\"-27164\" y1=\"-31376\" y2=\"-30850\"/><line fill=\"none\" x1=\"-29954\" x2=\"-29954\" y1=\"-31376\" y2=\"-32202\"/><line fill=\"none\" x1=\"-29816\" x2=\"-29816\" y1=\"-31376\" y2=\"-32202\"/><text font-family=\"sans-serif\" font-size=\"433.3333\" stroke=\"none\" x=\"-29131\" xml:space=\"preserve\" y=\"-30671\">O</text><text font-family=\"sans-serif\" font-size=\"433.3333\" stroke=\"none\" x=\"-30038\" xml:space=\"preserve\" y=\"-32242\">NH</text></g></g></svg>"
            ],
            "text/plain": [
              "<IPython.core.display.SVG object>"
            ]
          },
          "metadata": {},
          "output_type": "display_data"
        }
      ],
      "source": [
        "from IPython.display import SVG\n",
        "# get svg image text\n",
        "svg_strings = []\n",
        "for svg_idx in range(len(casrn_data)):\n",
        "    svg_strings.append(casrn_data[svg_idx][\"image\"])\n",
        "\n",
        "# display the molecules\n",
        "for svg_string in svg_strings:\n",
        "    display(SVG(svg_string))"
      ]
    },
    {
      "cell_type": "markdown",
      "metadata": {
        "id": "F0s_sHFujGpT"
      },
      "source": [
        "### Select some specific data"
      ]
    },
    {
      "cell_type": "code",
      "execution_count": 14,
      "metadata": {
        "colab": {
          "base_uri": "https://localhost:8080/"
        },
        "id": "YOKrgZ_MhnZc",
        "outputId": "f46dbc65-fd3a-4b1d-debf-41d4d931a95f"
      },
      "outputs": [
        {
          "name": "stdout",
          "output_type": "stream",
          "text": [
            "['O=C(OCC)CCC1CCCCC1', 'O=C(C#CCCCCCC)OCC', 'O=C(OCC)CN1N=CC=C1', 'O=C(OCC)C1=CC=CC(=C1)CCC(=O)OCC', 'N=C(OCC)C1=CCCCC1']\n"
          ]
        }
      ],
      "source": [
        "# Get canonical SMILES\n",
        "cansmiles = []\n",
        "for cansmi in range(len(casrn_data)):\n",
        "    cansmiles.append(casrn_data[cansmi][\"canonicalSmile\"])\n",
        "print(cansmiles)"
      ]
    },
    {
      "cell_type": "code",
      "execution_count": 15,
      "metadata": {
        "colab": {
          "base_uri": "https://localhost:8080/"
        },
        "id": "5yvIpu5Cm4Wl",
        "outputId": "7b17e4de-43a5-44b6-decf-a6534abf4881"
      },
      "outputs": [
        {
          "name": "stdout",
          "output_type": "stream",
          "text": [
            "[['Cyclohexanepropanoic acid, ethyl ester',\n",
            "  'Cyclohexanepropionic acid, ethyl ester',\n",
            "  'Ethyl cyclohexanepropionate',\n",
            "  'Ethyl cyclohexylpropanoate',\n",
            "  'Ethyl 3-cyclohexylpropionate',\n",
            "  'Ethyl 3-cyclohexylpropanoate',\n",
            "  '3-Cyclohexylpropionic acid ethyl ester',\n",
            "  'NSC 71463',\n",
            "  'Ethyl 3-cyclohexanepropionate'],\n",
            " ['2-Nonynoic acid, ethyl ester', 'Ethyl 2-nonynoate', 'NSC 190985'],\n",
            " ['1<em>H</em>-Pyrazole-1-acetic acid, ethyl ester',\n",
            "  'Pyrazole-1-acetic acid, ethyl ester',\n",
            "  'Ethyl 1<em>H</em>-pyrazole-1-acetate',\n",
            "  'Ethyl 1-pyrazoleacetate',\n",
            "  'Ethyl 2-(1<em>H</em>-pyrazol-1-yl)acetate'],\n",
            " ['Benzenepropanoic acid, 3-(ethoxycarbonyl)-, ethyl ester',\n",
            "  'Hydrocinnamic acid, <em>m</em>-carboxy-, diethyl ester',\n",
            "  'Ethyl 3-(ethoxycarbonyl)benzenepropanoate'],\n",
            " ['1-Cyclohexene-1-carboximidic acid, ethyl ester',\n",
            "  'Ethyl 1-cyclohexene-1-carboximidate']]\n"
          ]
        }
      ],
      "source": [
        "# Get synonyms\n",
        "synonyms_list = []\n",
        "for syn in range(len(casrn_data)):\n",
        "    synonyms_list.append(casrn_data[syn][\"synonyms\"])\n",
        "pprint(synonyms_list)"
      ]
    },
    {
      "cell_type": "code",
      "execution_count": 16,
      "metadata": {
        "colab": {
          "base_uri": "https://localhost:8080/"
        },
        "id": "eWpaLDjFnj29",
        "outputId": "f704ef92-737c-4532-89a2-cd344cbcbdae"
      },
      "outputs": [
        {
          "name": "stdout",
          "output_type": "stream",
          "text": [
            "['Cyclohexanepropanoic acid, ethyl ester',\n",
            " 'Cyclohexanepropionic acid, ethyl ester',\n",
            " 'Ethyl cyclohexanepropionate',\n",
            " 'Ethyl cyclohexylpropanoate',\n",
            " 'Ethyl 3-cyclohexylpropionate',\n",
            " 'Ethyl 3-cyclohexylpropanoate',\n",
            " '3-Cyclohexylpropionic acid ethyl ester',\n",
            " 'NSC 71463',\n",
            " 'Ethyl 3-cyclohexanepropionate',\n",
            " '2-Nonynoic acid, ethyl ester',\n",
            " 'Ethyl 2-nonynoate',\n",
            " 'NSC 190985',\n",
            " '1<em>H</em>-Pyrazole-1-acetic acid, ethyl ester',\n",
            " 'Pyrazole-1-acetic acid, ethyl ester',\n",
            " 'Ethyl 1<em>H</em>-pyrazole-1-acetate',\n",
            " 'Ethyl 1-pyrazoleacetate',\n",
            " 'Ethyl 2-(1<em>H</em>-pyrazol-1-yl)acetate',\n",
            " 'Benzenepropanoic acid, 3-(ethoxycarbonyl)-, ethyl ester',\n",
            " 'Hydrocinnamic acid, <em>m</em>-carboxy-, diethyl ester',\n",
            " 'Ethyl 3-(ethoxycarbonyl)benzenepropanoate',\n",
            " '1-Cyclohexene-1-carboximidic acid, ethyl ester',\n",
            " 'Ethyl 1-cyclohexene-1-carboximidate']\n"
          ]
        }
      ],
      "source": [
        "# Transform synonym \"list of lists\" to a flat list\n",
        "synonyms_flat = []\n",
        "for sublist in synonyms_list:\n",
        "    for synonym in sublist:\n",
        "        synonyms_flat.append(synonym)    \n",
        "pprint(synonyms_flat)"
      ]
    },
    {
      "cell_type": "markdown",
      "metadata": {
        "id": "SwsiEgX6lRAi"
      },
      "source": [
        "### Create a dataset with Pandas"
      ]
    },
    {
      "cell_type": "code",
      "execution_count": null,
      "metadata": {
        "id": "lbxy9NrThnb2"
      },
      "outputs": [],
      "source": [
        "import numpy as np\n",
        "import pandas as pd\n",
        "\n",
        "df = pd.json_normalize(casrn_data)\n",
        "df_subset = df[[\"uri\", \"rn\", \"name\", \"inchiKey\", \"canonicalSmile\", \"molecularMass\"]]"
      ]
    },
    {
      "cell_type": "markdown",
      "metadata": {
        "id": "SJuJ9M84t_rf"
      },
      "source": [
        "## 3. Common Chemistry Search\n",
        "\n",
        "In addition to the `/detail` API, the CAS Common Chemistry API has a `/search` method that allows searching by CAS RN, SMILES, InChI/InChIKey, and name.  "
      ]
    },
    {
      "cell_type": "markdown",
      "metadata": {
        "id": "lTSo0L5kswQf"
      },
      "source": [
        "### Import libraries"
      ]
    },
    {
      "cell_type": "code",
      "execution_count": 18,
      "metadata": {
        "id": "M-SZKZlVs8yK"
      },
      "outputs": [],
      "source": [
        "import json\n",
        "import requests\n",
        "from pprint import pprint\n",
        "from time import sleep"
      ]
    },
    {
      "cell_type": "markdown",
      "metadata": {
        "id": "qZZdWORSs9hn"
      },
      "source": [
        "### Setup API Parameters"
      ]
    },
    {
      "cell_type": "code",
      "execution_count": 19,
      "metadata": {
        "id": "LoCpxwTZtBpN"
      },
      "outputs": [],
      "source": [
        "search_base_url = \"https://commonchemistry.cas.org/api/search?q=\"\n",
        "\n",
        "# InChIKey for Quinine\n",
        "IK = \"InChIKey=LOUPRKONTZGTKE-WZBLMQSHSA-N\""
      ]
    },
    {
      "cell_type": "markdown",
      "metadata": {
        "id": "4sDjGvabuNMU"
      },
      "source": [
        "### Request data from CAS Common Chemistry Search API"
      ]
    },
    {
      "cell_type": "code",
      "execution_count": 20,
      "metadata": {
        "colab": {
          "base_uri": "https://localhost:8080/"
        },
        "id": "UlF1vPmXuMXe",
        "outputId": "40490250-a04b-4e8f-b38a-fdb82810d1a3",
        "tags": [
          "output_scroll"
        ]
      },
      "outputs": [
        {
          "name": "stdout",
          "output_type": "stream",
          "text": [
            "{'count': 1,\n",
            " 'results': [{'image': '<svg width=\"309.3\" viewBox=\"0 0 10310 5592\" '\n",
            "                       'text-rendering=\"auto\" stroke-width=\"1\" '\n",
            "                       'stroke-opacity=\"1\" stroke-miterlimit=\"10\" '\n",
            "                       'stroke-linejoin=\"miter\" stroke-linecap=\"square\" '\n",
            "                       'stroke-dashoffset=\"0\" stroke-dasharray=\"none\" '\n",
            "                       'stroke=\"black\" shape-rendering=\"auto\" '\n",
            "                       'image-rendering=\"auto\" height=\"167.76\" '\n",
            "                       'font-weight=\"normal\" font-style=\"normal\" '\n",
            "                       'font-size=\"12\" font-family=\"\\'Dialog\\'\" '\n",
            "                       'fill-opacity=\"1\" fill=\"black\" color-rendering=\"auto\" '\n",
            "                       'color-interpolation=\"auto\" '\n",
            "                       'xmlns=\"http://www.w3.org/2000/svg\"><g><g '\n",
            "                       'stroke=\"white\" fill=\"white\"><rect y=\"0\" x=\"0\" '\n",
            "                       'width=\"10310\" stroke=\"none\" height=\"5592\"/></g><g '\n",
            "                       'transform=\"translate(32866,32758)\" '\n",
            "                       'text-rendering=\"geometricPrecision\" stroke-width=\"44\" '\n",
            "                       'stroke-linejoin=\"round\" stroke-linecap=\"round\"><line '\n",
            "                       'y2=\"-28559\" y1=\"-28036\" x2=\"-26635\" x1=\"-25742\" '\n",
            "                       'fill=\"none\"/><line y2=\"-29819\" y1=\"-28559\" x2=\"-26635\" '\n",
            "                       'x1=\"-26635\" fill=\"none\"/><line y2=\"-28036\" y1=\"-28559\" '\n",
            "                       'x2=\"-25367\" x1=\"-24474\" fill=\"none\"/><line y2=\"-30451\" '\n",
            "                       'y1=\"-29819\" x2=\"-25555\" x1=\"-26635\" fill=\"none\"/><line '\n",
            "                       'y2=\"-28559\" y1=\"-29819\" x2=\"-24474\" x1=\"-24474\" '\n",
            "                       'fill=\"none\"/><line y2=\"-29504\" y1=\"-28828\" x2=\"-25194\" '\n",
            "                       'x1=\"-26005\" fill=\"none\"/><line y2=\"-29819\" y1=\"-30451\" '\n",
            "                       'x2=\"-24474\" x1=\"-25555\" fill=\"none\"/><line y2=\"-29082\" '\n",
            "                       'y1=\"-28559\" x2=\"-27542\" x1=\"-26635\" fill=\"none\"/><line '\n",
            "                       'y2=\"-29819\" y1=\"-30344\" x2=\"-22660\" x1=\"-23567\" '\n",
            "                       'fill=\"none\"/><line y2=\"-29700\" y1=\"-30223\" x2=\"-22729\" '\n",
            "                       'x1=\"-23636\" fill=\"none\"/><line y2=\"-28779\" y1=\"-29082\" '\n",
            "                       'x2=\"-28071\" x1=\"-27542\" fill=\"none\"/><line y2=\"-30703\" '\n",
            "                       'y1=\"-30131\" x2=\"-28524\" x1=\"-27542\" fill=\"none\"/><line '\n",
            "                       'y2=\"-31850\" y1=\"-30703\" x2=\"-28524\" x1=\"-28524\" '\n",
            "                       'fill=\"none\"/><line y2=\"-31705\" y1=\"-30847\" x2=\"-28354\" '\n",
            "                       'x1=\"-28354\" fill=\"none\"/><line y2=\"-30131\" y1=\"-30703\" '\n",
            "                       'x2=\"-29507\" x1=\"-28524\" fill=\"none\"/><line y2=\"-30131\" '\n",
            "                       'y1=\"-30703\" x2=\"-27542\" x1=\"-26560\" fill=\"none\"/><line '\n",
            "                       'y2=\"-30347\" y1=\"-30778\" x2=\"-27505\" x1=\"-26768\" '\n",
            "                       'fill=\"none\"/><line y2=\"-31850\" y1=\"-32422\" x2=\"-28524\" '\n",
            "                       'x1=\"-29507\" fill=\"none\"/><line y2=\"-32312\" y1=\"-31850\" '\n",
            "                       'x2=\"-27730\" x1=\"-28524\" fill=\"none\"/><line y2=\"-30703\" '\n",
            "                       'y1=\"-30131\" x2=\"-30489\" x1=\"-29507\" fill=\"none\"/><line '\n",
            "                       'y2=\"-30778\" y1=\"-30347\" x2=\"-30281\" x1=\"-29544\" '\n",
            "                       'fill=\"none\"/><line y2=\"-30703\" y1=\"-31850\" x2=\"-26560\" '\n",
            "                       'x1=\"-26560\" fill=\"none\"/><line y2=\"-32422\" y1=\"-31850\" '\n",
            "                       'x2=\"-29507\" x1=\"-30489\" fill=\"none\"/><line y2=\"-32205\" '\n",
            "                       'y1=\"-31774\" x2=\"-29544\" x1=\"-30281\" fill=\"none\"/><line '\n",
            "                       'y2=\"-31850\" y1=\"-32312\" x2=\"-26560\" x1=\"-27354\" '\n",
            "                       'fill=\"none\"/><line y2=\"-31760\" y1=\"-32107\" x2=\"-26745\" '\n",
            "                       'x1=\"-27340\" fill=\"none\"/><line y2=\"-31850\" y1=\"-30703\" '\n",
            "                       'x2=\"-30489\" x1=\"-30489\" fill=\"none\"/><line y2=\"-30275\" '\n",
            "                       'y1=\"-30703\" x2=\"-31200\" x1=\"-30489\" fill=\"none\"/><line '\n",
            "                       'y2=\"-30541\" y1=\"-30272\" x2=\"-32040\" x1=\"-31575\" '\n",
            "                       'fill=\"none\"/><polygon stroke-width=\"1\" stroke=\"none\" '\n",
            "                       'points=\" -24474 -29819 -23602 -30402 -23532 '\n",
            "                       '-30284\"/><polygon stroke-width=\"1\" points=\" -24474 '\n",
            "                       '-29819 -23602 -30402 -23532 -30284\" '\n",
            "                       'fill=\"none\"/><polygon stroke-width=\"1\" stroke=\"none\" '\n",
            "                       'points=\" -26635 -28559 -26973 -27837 -27092 '\n",
            "                       '-27903\"/><polygon stroke-width=\"1\" points=\" -26635 '\n",
            "                       '-28559 -26973 -27837 -27092 -27903\" fill=\"none\"/><line '\n",
            "                       'y2=\"-28860\" y1=\"-28796\" x2=\"-25945\" x1=\"-26066\" '\n",
            "                       'fill=\"none\"/><line y2=\"-28657\" y1=\"-28611\" x2=\"-25865\" '\n",
            "                       'x1=\"-25952\" fill=\"none\"/><line y2=\"-28454\" y1=\"-28427\" '\n",
            "                       'x2=\"-25785\" x1=\"-25838\" fill=\"none\"/><line y2=\"-28252\" '\n",
            "                       'y1=\"-28242\" x2=\"-25706\" x1=\"-25723\" fill=\"none\"/><line '\n",
            "                       'y2=\"-29478\" y1=\"-29530\" x2=\"-25257\" x1=\"-25130\" '\n",
            "                       'fill=\"none\"/><line y2=\"-29686\" y1=\"-29727\" x2=\"-25321\" '\n",
            "                       'x1=\"-25221\" fill=\"none\"/><line y2=\"-29894\" y1=\"-29924\" '\n",
            "                       'x2=\"-25384\" x1=\"-25312\" fill=\"none\"/><line y2=\"-30102\" '\n",
            "                       'y1=\"-30121\" x2=\"-25448\" x1=\"-25403\" fill=\"none\"/><line '\n",
            "                       'y2=\"-30310\" y1=\"-30317\" x2=\"-25512\" x1=\"-25493\" '\n",
            "                       'fill=\"none\"/><line y2=\"-30131\" y1=\"-30128\" x2=\"-27473\" '\n",
            "                       'x1=\"-27612\" fill=\"none\"/><line y2=\"-29914\" y1=\"-29912\" '\n",
            "                       'x2=\"-27487\" x1=\"-27598\" fill=\"none\"/><line y2=\"-29697\" '\n",
            "                       'y1=\"-29695\" x2=\"-27502\" x1=\"-27583\" fill=\"none\"/><line '\n",
            "                       'y2=\"-29480\" y1=\"-29479\" x2=\"-27516\" x1=\"-27569\" '\n",
            "                       'fill=\"none\"/><line y2=\"-29263\" y1=\"-29263\" x2=\"-27530\" '\n",
            "                       'x1=\"-27554\" fill=\"none\"/><text y=\"-28380\" '\n",
            "                       'xml:space=\"preserve\" x=\"-28602\" stroke=\"none\" '\n",
            "                       'font-size=\"433.3333\" '\n",
            "                       'font-family=\"sans-serif\">OH</text><text y=\"-29983\" '\n",
            "                       'xml:space=\"preserve\" x=\"-31540\" stroke=\"none\" '\n",
            "                       'font-size=\"433.3333\" '\n",
            "                       'font-family=\"sans-serif\">O</text><text y=\"-30691\" '\n",
            "                       'xml:space=\"preserve\" x=\"-32762\" stroke=\"none\" '\n",
            "                       'font-size=\"433.3333\" '\n",
            "                       'font-family=\"sans-serif\">CH</text><text y=\"-30602\" '\n",
            "                       'xml:space=\"preserve\" x=\"-32185\" stroke=\"none\" '\n",
            "                       'font-size=\"313.3333\" '\n",
            "                       'font-family=\"sans-serif\">3</text><text y=\"-32242\" '\n",
            "                       'xml:space=\"preserve\" x=\"-27695\" stroke=\"none\" '\n",
            "                       'font-size=\"433.3333\" '\n",
            "                       'font-family=\"sans-serif\">N</text><text y=\"-27747\" '\n",
            "                       'xml:space=\"preserve\" x=\"-25708\" stroke=\"none\" '\n",
            "                       'font-size=\"433.3333\" '\n",
            "                       'font-family=\"sans-serif\">N</text><text y=\"-27473\" '\n",
            "                       'xml:space=\"preserve\" x=\"-27311\" stroke=\"none\" '\n",
            "                       'font-size=\"433.3333\" '\n",
            "                       'font-family=\"sans-serif\">H</text><text y=\"-28600\" '\n",
            "                       'xml:space=\"preserve\" x=\"-27695\" stroke=\"none\" '\n",
            "                       'font-style=\"italic\" font-size=\"313.3333\" '\n",
            "                       'font-family=\"sans-serif\">R</text><text y=\"-28522\" '\n",
            "                       'xml:space=\"preserve\" x=\"-26540\" stroke=\"none\" '\n",
            "                       'font-style=\"italic\" font-size=\"313.3333\" '\n",
            "                       'font-family=\"sans-serif\">S</text><text y=\"-27337\" '\n",
            "                       'xml:space=\"preserve\" x=\"-25818\" stroke=\"none\" '\n",
            "                       'font-style=\"italic\" font-size=\"313.3333\" '\n",
            "                       'font-family=\"sans-serif\">S</text><text y=\"-30573\" '\n",
            "                       'xml:space=\"preserve\" x=\"-25708\" stroke=\"none\" '\n",
            "                       'font-style=\"italic\" font-size=\"313.3333\" '\n",
            "                       'font-family=\"sans-serif\">S</text><text y=\"-29495\" '\n",
            "                       'xml:space=\"preserve\" x=\"-24876\" stroke=\"none\" '\n",
            "                       'font-style=\"italic\" font-size=\"313.3333\" '\n",
            "                       'font-family=\"sans-serif\">R</text></g></g></svg>',\n",
            "              'name': 'Quinine',\n",
            "              'rn': '130-95-0'}]}\n"
          ]
        }
      ],
      "source": [
        "# search query\n",
        "quinine_search_data = requests.get(search_base_url + IK).json()\n",
        "pprint(quinine_search_data)"
      ]
    },
    {
      "cell_type": "markdown",
      "metadata": {
        "id": "F23ca4EYuMpa"
      },
      "source": [
        "Note that with the CAS Common Chemistry Search API, only the image data, name, and CAS RN is returned. In order to retrieve the full record, we can combine our search with the related detail API:"
      ]
    },
    {
      "cell_type": "code",
      "execution_count": 21,
      "metadata": {
        "colab": {
          "base_uri": "https://localhost:8080/"
        },
        "id": "NwIUk4xRxClj",
        "outputId": "a947c97f-85c3-4f41-bd80-f942f0a41d47"
      },
      "outputs": [
        {
          "name": "stdout",
          "output_type": "stream",
          "text": [
            "130-95-0\n"
          ]
        }
      ],
      "source": [
        "# search query\n",
        "quinine_search_data = requests.get(search_base_url + IK).json()\n",
        "\n",
        "# extract our CAS RN\n",
        "quinine_rn = quinine_search_data[\"results\"][0][\"rn\"]\n",
        "print(quinine_rn)"
      ]
    },
    {
      "cell_type": "code",
      "execution_count": 22,
      "metadata": {
        "colab": {
          "base_uri": "https://localhost:8080/"
        },
        "id": "SwUsTx4MzYMr",
        "outputId": "9da36ae4-cfea-4ada-b769-f230116e6a24"
      },
      "outputs": [
        {
          "name": "stdout",
          "output_type": "stream",
          "text": [
            "{'canonicalSmile': 'OC(C=1C=CN=C2C=CC(OC)=CC21)C3N4CCC(C3)C(C=C)C4',\n",
            " 'experimentalProperties': [{'name': 'Melting Point',\n",
            "                             'property': '57 °C',\n",
            "                             'sourceNumber': 1}],\n",
            " 'hasMolfile': True,\n",
            " 'image': '<svg width=\"309.3\" viewBox=\"0 0 10310 5592\" text-rendering=\"auto\" '\n",
            "          'stroke-width=\"1\" stroke-opacity=\"1\" stroke-miterlimit=\"10\" '\n",
            "          'stroke-linejoin=\"miter\" stroke-linecap=\"square\" '\n",
            "          'stroke-dashoffset=\"0\" stroke-dasharray=\"none\" stroke=\"black\" '\n",
            "          'shape-rendering=\"auto\" image-rendering=\"auto\" height=\"167.76\" '\n",
            "          'font-weight=\"normal\" font-style=\"normal\" font-size=\"12\" '\n",
            "          'font-family=\"\\'Dialog\\'\" fill-opacity=\"1\" fill=\"black\" '\n",
            "          'color-rendering=\"auto\" color-interpolation=\"auto\" '\n",
            "          'xmlns=\"http://www.w3.org/2000/svg\"><g><g stroke=\"white\" '\n",
            "          'fill=\"white\"><rect y=\"0\" x=\"0\" width=\"10310\" stroke=\"none\" '\n",
            "          'height=\"5592\"/></g><g transform=\"translate(32866,32758)\" '\n",
            "          'text-rendering=\"geometricPrecision\" stroke-width=\"44\" '\n",
            "          'stroke-linejoin=\"round\" stroke-linecap=\"round\"><line y2=\"-28559\" '\n",
            "          'y1=\"-28036\" x2=\"-26635\" x1=\"-25742\" fill=\"none\"/><line y2=\"-29819\" '\n",
            "          'y1=\"-28559\" x2=\"-26635\" x1=\"-26635\" fill=\"none\"/><line y2=\"-28036\" '\n",
            "          'y1=\"-28559\" x2=\"-25367\" x1=\"-24474\" fill=\"none\"/><line y2=\"-30451\" '\n",
            "          'y1=\"-29819\" x2=\"-25555\" x1=\"-26635\" fill=\"none\"/><line y2=\"-28559\" '\n",
            "          'y1=\"-29819\" x2=\"-24474\" x1=\"-24474\" fill=\"none\"/><line y2=\"-29504\" '\n",
            "          'y1=\"-28828\" x2=\"-25194\" x1=\"-26005\" fill=\"none\"/><line y2=\"-29819\" '\n",
            "          'y1=\"-30451\" x2=\"-24474\" x1=\"-25555\" fill=\"none\"/><line y2=\"-29082\" '\n",
            "          'y1=\"-28559\" x2=\"-27542\" x1=\"-26635\" fill=\"none\"/><line y2=\"-29819\" '\n",
            "          'y1=\"-30344\" x2=\"-22660\" x1=\"-23567\" fill=\"none\"/><line y2=\"-29700\" '\n",
            "          'y1=\"-30223\" x2=\"-22729\" x1=\"-23636\" fill=\"none\"/><line y2=\"-28779\" '\n",
            "          'y1=\"-29082\" x2=\"-28071\" x1=\"-27542\" fill=\"none\"/><line y2=\"-30703\" '\n",
            "          'y1=\"-30131\" x2=\"-28524\" x1=\"-27542\" fill=\"none\"/><line y2=\"-31850\" '\n",
            "          'y1=\"-30703\" x2=\"-28524\" x1=\"-28524\" fill=\"none\"/><line y2=\"-31705\" '\n",
            "          'y1=\"-30847\" x2=\"-28354\" x1=\"-28354\" fill=\"none\"/><line y2=\"-30131\" '\n",
            "          'y1=\"-30703\" x2=\"-29507\" x1=\"-28524\" fill=\"none\"/><line y2=\"-30131\" '\n",
            "          'y1=\"-30703\" x2=\"-27542\" x1=\"-26560\" fill=\"none\"/><line y2=\"-30347\" '\n",
            "          'y1=\"-30778\" x2=\"-27505\" x1=\"-26768\" fill=\"none\"/><line y2=\"-31850\" '\n",
            "          'y1=\"-32422\" x2=\"-28524\" x1=\"-29507\" fill=\"none\"/><line y2=\"-32312\" '\n",
            "          'y1=\"-31850\" x2=\"-27730\" x1=\"-28524\" fill=\"none\"/><line y2=\"-30703\" '\n",
            "          'y1=\"-30131\" x2=\"-30489\" x1=\"-29507\" fill=\"none\"/><line y2=\"-30778\" '\n",
            "          'y1=\"-30347\" x2=\"-30281\" x1=\"-29544\" fill=\"none\"/><line y2=\"-30703\" '\n",
            "          'y1=\"-31850\" x2=\"-26560\" x1=\"-26560\" fill=\"none\"/><line y2=\"-32422\" '\n",
            "          'y1=\"-31850\" x2=\"-29507\" x1=\"-30489\" fill=\"none\"/><line y2=\"-32205\" '\n",
            "          'y1=\"-31774\" x2=\"-29544\" x1=\"-30281\" fill=\"none\"/><line y2=\"-31850\" '\n",
            "          'y1=\"-32312\" x2=\"-26560\" x1=\"-27354\" fill=\"none\"/><line y2=\"-31760\" '\n",
            "          'y1=\"-32107\" x2=\"-26745\" x1=\"-27340\" fill=\"none\"/><line y2=\"-31850\" '\n",
            "          'y1=\"-30703\" x2=\"-30489\" x1=\"-30489\" fill=\"none\"/><line y2=\"-30275\" '\n",
            "          'y1=\"-30703\" x2=\"-31200\" x1=\"-30489\" fill=\"none\"/><line y2=\"-30541\" '\n",
            "          'y1=\"-30272\" x2=\"-32040\" x1=\"-31575\" fill=\"none\"/><polygon '\n",
            "          'stroke-width=\"1\" stroke=\"none\" points=\" -24474 -29819 -23602 -30402 '\n",
            "          '-23532 -30284\"/><polygon stroke-width=\"1\" points=\" -24474 -29819 '\n",
            "          '-23602 -30402 -23532 -30284\" fill=\"none\"/><polygon stroke-width=\"1\" '\n",
            "          'stroke=\"none\" points=\" -26635 -28559 -26973 -27837 -27092 '\n",
            "          '-27903\"/><polygon stroke-width=\"1\" points=\" -26635 -28559 -26973 '\n",
            "          '-27837 -27092 -27903\" fill=\"none\"/><line y2=\"-28860\" y1=\"-28796\" '\n",
            "          'x2=\"-25945\" x1=\"-26066\" fill=\"none\"/><line y2=\"-28657\" y1=\"-28611\" '\n",
            "          'x2=\"-25865\" x1=\"-25952\" fill=\"none\"/><line y2=\"-28454\" y1=\"-28427\" '\n",
            "          'x2=\"-25785\" x1=\"-25838\" fill=\"none\"/><line y2=\"-28252\" y1=\"-28242\" '\n",
            "          'x2=\"-25706\" x1=\"-25723\" fill=\"none\"/><line y2=\"-29478\" y1=\"-29530\" '\n",
            "          'x2=\"-25257\" x1=\"-25130\" fill=\"none\"/><line y2=\"-29686\" y1=\"-29727\" '\n",
            "          'x2=\"-25321\" x1=\"-25221\" fill=\"none\"/><line y2=\"-29894\" y1=\"-29924\" '\n",
            "          'x2=\"-25384\" x1=\"-25312\" fill=\"none\"/><line y2=\"-30102\" y1=\"-30121\" '\n",
            "          'x2=\"-25448\" x1=\"-25403\" fill=\"none\"/><line y2=\"-30310\" y1=\"-30317\" '\n",
            "          'x2=\"-25512\" x1=\"-25493\" fill=\"none\"/><line y2=\"-30131\" y1=\"-30128\" '\n",
            "          'x2=\"-27473\" x1=\"-27612\" fill=\"none\"/><line y2=\"-29914\" y1=\"-29912\" '\n",
            "          'x2=\"-27487\" x1=\"-27598\" fill=\"none\"/><line y2=\"-29697\" y1=\"-29695\" '\n",
            "          'x2=\"-27502\" x1=\"-27583\" fill=\"none\"/><line y2=\"-29480\" y1=\"-29479\" '\n",
            "          'x2=\"-27516\" x1=\"-27569\" fill=\"none\"/><line y2=\"-29263\" y1=\"-29263\" '\n",
            "          'x2=\"-27530\" x1=\"-27554\" fill=\"none\"/><text y=\"-28380\" '\n",
            "          'xml:space=\"preserve\" x=\"-28602\" stroke=\"none\" font-size=\"433.3333\" '\n",
            "          'font-family=\"sans-serif\">OH</text><text y=\"-29983\" '\n",
            "          'xml:space=\"preserve\" x=\"-31540\" stroke=\"none\" font-size=\"433.3333\" '\n",
            "          'font-family=\"sans-serif\">O</text><text y=\"-30691\" '\n",
            "          'xml:space=\"preserve\" x=\"-32762\" stroke=\"none\" font-size=\"433.3333\" '\n",
            "          'font-family=\"sans-serif\">CH</text><text y=\"-30602\" '\n",
            "          'xml:space=\"preserve\" x=\"-32185\" stroke=\"none\" font-size=\"313.3333\" '\n",
            "          'font-family=\"sans-serif\">3</text><text y=\"-32242\" '\n",
            "          'xml:space=\"preserve\" x=\"-27695\" stroke=\"none\" font-size=\"433.3333\" '\n",
            "          'font-family=\"sans-serif\">N</text><text y=\"-27747\" '\n",
            "          'xml:space=\"preserve\" x=\"-25708\" stroke=\"none\" font-size=\"433.3333\" '\n",
            "          'font-family=\"sans-serif\">N</text><text y=\"-27473\" '\n",
            "          'xml:space=\"preserve\" x=\"-27311\" stroke=\"none\" font-size=\"433.3333\" '\n",
            "          'font-family=\"sans-serif\">H</text><text y=\"-28600\" '\n",
            "          'xml:space=\"preserve\" x=\"-27695\" stroke=\"none\" font-style=\"italic\" '\n",
            "          'font-size=\"313.3333\" font-family=\"sans-serif\">R</text><text '\n",
            "          'y=\"-28522\" xml:space=\"preserve\" x=\"-26540\" stroke=\"none\" '\n",
            "          'font-style=\"italic\" font-size=\"313.3333\" '\n",
            "          'font-family=\"sans-serif\">S</text><text y=\"-27337\" '\n",
            "          'xml:space=\"preserve\" x=\"-25818\" stroke=\"none\" font-style=\"italic\" '\n",
            "          'font-size=\"313.3333\" font-family=\"sans-serif\">S</text><text '\n",
            "          'y=\"-30573\" xml:space=\"preserve\" x=\"-25708\" stroke=\"none\" '\n",
            "          'font-style=\"italic\" font-size=\"313.3333\" '\n",
            "          'font-family=\"sans-serif\">S</text><text y=\"-29495\" '\n",
            "          'xml:space=\"preserve\" x=\"-24876\" stroke=\"none\" font-style=\"italic\" '\n",
            "          'font-size=\"313.3333\" '\n",
            "          'font-family=\"sans-serif\">R</text></g></g></svg>',\n",
            " 'inchi': 'InChI=1S/C20H24N2O2/c1-3-13-12-22-9-7-14(13)10-19(22)20(23)16-6-8-21-18-5-4-15(24-2)11-17(16)18/h3-6,8,11,13-14,19-20,23H,1,7,9-10,12H2,2H3/t13-,14-,19-,20+/m0/s1',\n",
            " 'inchiKey': 'InChIKey=LOUPRKONTZGTKE-WZBLMQSHSA-N',\n",
            " 'molecularFormula': 'C<sub>20</sub>H<sub>24</sub>N<sub>2</sub>O<sub>2</sub>',\n",
            " 'molecularMass': '324.42',\n",
            " 'name': 'Quinine',\n",
            " 'propertyCitations': [{'docUri': '',\n",
            "                        'source': 'PhysProp data were obtained from Syracuse '\n",
            "                                  'Research Corporation of Syracuse, New York '\n",
            "                                  '(US)',\n",
            "                        'sourceNumber': 1}],\n",
            " 'replacedRns': ['6912-57-8',\n",
            "                 '12239-42-8',\n",
            "                 '21480-31-9',\n",
            "                 '55980-20-6',\n",
            "                 '72646-90-3',\n",
            "                 '95650-40-1',\n",
            "                 '128544-03-6',\n",
            "                 '767303-40-2',\n",
            "                 '840482-04-4',\n",
            "                 '857212-53-4',\n",
            "                 '864908-93-0',\n",
            "                 '875538-34-4',\n",
            "                 '888714-03-2',\n",
            "                 '890027-24-4',\n",
            "                 '894767-09-0',\n",
            "                 '898813-59-7',\n",
            "                 '898814-28-3',\n",
            "                 '899813-83-3',\n",
            "                 '900786-66-5',\n",
            "                 '900789-95-9',\n",
            "                 '906550-97-8',\n",
            "                 '909263-47-4',\n",
            "                 '909767-48-2',\n",
            "                 '909882-78-6',\n",
            "                 '910878-25-0',\n",
            "                 '910880-97-6',\n",
            "                 '911445-75-5',\n",
            "                 '918778-04-8',\n",
            "                 '1071756-51-8',\n",
            "                 '1267651-57-9',\n",
            "                 '1628705-47-4',\n",
            "                 '2244812-93-7',\n",
            "                 '2244812-97-1',\n",
            "                 '2409557-51-1',\n",
            "                 '2566761-34-8'],\n",
            " 'rn': '130-95-0',\n",
            " 'smile': '[C@@H](O)(C=1C2=C(C=CC(OC)=C2)N=CC1)[C@]3([N@@]4C[C@H](C=C)[C@H](C3)CC4)[H]',\n",
            " 'synonyms': ['Cinchonan-9-ol, 6′-methoxy-, (8α,9<em>R</em>)-',\n",
            "              'Quinine',\n",
            "              '(8α,9<em>R</em>)-6′-Methoxycinchonan-9-ol',\n",
            "              '6′-Methoxycinchonidine',\n",
            "              '(-)-Quinine',\n",
            "              '(8<em>S</em>,9<em>R</em>)-Quinine',\n",
            "              '(<em>R</em>)-(-)-Quinine',\n",
            "              'NSC 192949',\n",
            "              'WR297608',\n",
            "              'Qualaquin',\n",
            "              'Mosgard',\n",
            "              'Quinlup',\n",
            "              'Quine 9',\n",
            "              'Cinkona',\n",
            "              'Quinex',\n",
            "              'Quinlex',\n",
            "              'Rezquin',\n",
            "              'QSM',\n",
            "              'SW 85833',\n",
            "              '(<em>R</em>)-(6-Methoxy-4-quinolyl)[(2<em>S</em>)-5-vinylquinuclidin-2-yl]methanol'],\n",
            " 'uri': 'substance/pt/130950'}\n"
          ]
        }
      ],
      "source": [
        "# get detailed record for quinine\n",
        "detail_base_url = \"https://commonchemistry.cas.org/api/detail?\"\n",
        "quinine_detail_data = requests.get(detail_base_url + \"cas_rn=\" + quinine_rn).json()\n",
        "pprint(quinine_detail_data)"
      ]
    },
    {
      "cell_type": "markdown",
      "metadata": {
        "id": "piBLxfyI3Ote"
      },
      "source": [
        "### Handle multiple results"
      ]
    },
    {
      "cell_type": "code",
      "execution_count": 23,
      "metadata": {
        "id": "QhMMcgK99966"
      },
      "outputs": [],
      "source": [
        "# setup search query parameters\n",
        "search_base_url = \"https://commonchemistry.cas.org/api/search?q=\"\n",
        "# SMILES for butadiene\n",
        "smi_bd = \"C=CC=C\""
      ]
    },
    {
      "cell_type": "code",
      "execution_count": 24,
      "metadata": {
        "id": "9zdqtRFB999m"
      },
      "outputs": [],
      "source": [
        "# Request data from CAS Common Chemistry Search API\n",
        "smi_search_data = requests.get(search_base_url + smi_bd).json()"
      ]
    },
    {
      "cell_type": "code",
      "execution_count": 25,
      "metadata": {
        "colab": {
          "base_uri": "https://localhost:8080/"
        },
        "id": "2QKIdiNa9-AF",
        "outputId": "3d7d2c32-83f6-416d-d4ba-0372056c2e33"
      },
      "outputs": [
        {
          "name": "stdout",
          "output_type": "stream",
          "text": [
            "7\n"
          ]
        }
      ],
      "source": [
        "# get results count\n",
        "print(smi_search_data[\"count\"])"
      ]
    },
    {
      "cell_type": "code",
      "execution_count": 26,
      "metadata": {
        "colab": {
          "base_uri": "https://localhost:8080/"
        },
        "id": "VZNXa0v59-C_",
        "outputId": "9f12db80-9d16-4e28-b6a2-be6cefdd8eae"
      },
      "outputs": [
        {
          "name": "stdout",
          "output_type": "stream",
          "text": [
            "['106-99-0', '16422-75-6', '26952-74-9', '29406-96-0', '29989-19-3', '31567-90-5', '9003-17-2']\n"
          ]
        }
      ],
      "source": [
        "# extract out CAS RNs\n",
        "smi_casrn_list = []\n",
        "for casrn_idx in range(len(smi_search_data[\"results\"])):\n",
        "    smi_casrn_list.append(smi_search_data[\"results\"][casrn_idx][\"rn\"])\n",
        "print(smi_casrn_list)"
      ]
    },
    {
      "cell_type": "code",
      "execution_count": 27,
      "metadata": {
        "id": "cFbwWQbq9-KU"
      },
      "outputs": [],
      "source": [
        "# now use the detail API to retrieve the full records\n",
        "detail_base_url = \"https://commonchemistry.cas.org/api/detail?\"\n",
        "smi_detail_data = []\n",
        "for casrn in smi_casrn_list:\n",
        "    smi_detail_data.append(requests.get(detail_base_url + \"cas_rn=\" + casrn).json())\n",
        "    sleep(1) # add a delay between API calls"
      ]
    },
    {
      "cell_type": "code",
      "execution_count": 28,
      "metadata": {
        "colab": {
          "base_uri": "https://localhost:8080/"
        },
        "id": "wfhw5Hb89-Pt",
        "outputId": "917b19bd-a129-478f-fe40-b74a931729b5"
      },
      "outputs": [
        {
          "name": "stdout",
          "output_type": "stream",
          "text": [
            "['1,3-Butadiene', 'Butadiene trimer', 'Butadiene dimer', '1,3-Butadiene, homopolymer, isotactic', '1,3-Butadiene-<em>1</em>,<em>1</em>,<em>2</em>,<em>3</em>,<em>4</em>,<em>4</em>-<em>d</em><sub>6</sub>, homopolymer', 'Syndiotactic polybutadiene', 'Polybutadiene']\n"
          ]
        }
      ],
      "source": [
        "# Get some specific data such as name from the detail records\n",
        "names = []\n",
        "for name_idx in range(len(smi_detail_data)):\n",
        "    names.append(smi_detail_data[name_idx][\"name\"])\n",
        "print(names)"
      ]
    },
    {
      "cell_type": "markdown",
      "metadata": {
        "id": "-PE7Nxt53VLh"
      },
      "source": [
        "### Handle multiple page results\n",
        "\n",
        "The CAS Common Chemistry API returns 50 results per page, and only the first page is returned by default. If the search returns more than 50 results, the offset option can be added to page through and obtain all results:"
      ]
    },
    {
      "cell_type": "code",
      "execution_count": 29,
      "metadata": {
        "id": "0EvFRht8Bewt"
      },
      "outputs": [],
      "source": [
        "# setup search query parameters\n",
        "search_base_url = \"https://commonchemistry.cas.org/api/search?q=\"\n",
        "n = \"selen*\""
      ]
    },
    {
      "cell_type": "code",
      "execution_count": 30,
      "metadata": {
        "colab": {
          "base_uri": "https://localhost:8080/"
        },
        "id": "QILVpJPBBezl",
        "outputId": "bb040118-6a0b-430e-db83-1718899728f8"
      },
      "outputs": [
        {
          "name": "stdout",
          "output_type": "stream",
          "text": [
            "191\n"
          ]
        }
      ],
      "source": [
        "# get results count for CAS Common Chemistry Search\n",
        "num_Results = requests.get(search_base_url + n).json()[\"count\"]\n",
        "print(num_Results)"
      ]
    },
    {
      "cell_type": "code",
      "execution_count": 31,
      "metadata": {
        "id": "qrPEuNlcpEGz"
      },
      "outputs": [],
      "source": [
        "# Request data and save to a list in a loop for each page\n",
        "n_search_data = []\n",
        "for page_idx in range(int(num_Results/50 +1)): # creates [0,1,2,3] for 4 pages\n",
        "    page_data = requests.get(search_base_url + n + \"&offset=\" + str(page_idx*50)).json()\n",
        "    sleep(1)\n",
        "    n_search_data.append(page_data)"
      ]
    },
    {
      "cell_type": "code",
      "execution_count": 32,
      "metadata": {
        "colab": {
          "base_uri": "https://localhost:8080/"
        },
        "id": "FPVG5VkopEMH",
        "outputId": "0c491eba-bb38-49eb-f960-146b68bd9c5d"
      },
      "outputs": [
        {
          "data": {
            "text/plain": [
              "4"
            ]
          },
          "execution_count": 32,
          "metadata": {},
          "output_type": "execute_result"
        }
      ],
      "source": [
        "# length of search data includes a top level list for each query\n",
        "len(n_search_data)"
      ]
    },
    {
      "cell_type": "code",
      "execution_count": 33,
      "metadata": {
        "colab": {
          "base_uri": "https://localhost:8080/"
        },
        "id": "UUzO1h_nsmSD",
        "outputId": "1a3e9fe5-603f-40c6-a3ef-130dccf82a64"
      },
      "outputs": [
        {
          "name": "stdout",
          "output_type": "stream",
          "text": [
            "50\n",
            "50\n",
            "50\n",
            "41\n"
          ]
        }
      ],
      "source": [
        "# lists within lists contain the results\n",
        "print(len(n_search_data[0][\"results\"]))\n",
        "print(len(n_search_data[1][\"results\"]))\n",
        "print(len(n_search_data[2][\"results\"]))\n",
        "print(len(n_search_data[3][\"results\"]))"
      ]
    },
    {
      "cell_type": "code",
      "execution_count": 34,
      "metadata": {
        "colab": {
          "base_uri": "https://localhost:8080/"
        },
        "id": "e09If63VpEOe",
        "outputId": "faf81220-b460-4004-b548-d3b7f0fdfb88"
      },
      "outputs": [
        {
          "name": "stdout",
          "output_type": "stream",
          "text": [
            "'10025-68-0'\n"
          ]
        }
      ],
      "source": [
        "# We can index and extract out the first casrn like this\n",
        "pprint(n_search_data[0][\"results\"][0][\"rn\"])"
      ]
    },
    {
      "cell_type": "code",
      "execution_count": 35,
      "metadata": {
        "id": "lfgKnSSKpERF"
      },
      "outputs": [],
      "source": [
        "# extract out all CAS RNs from the list of lists\n",
        "n_casrn_list = []\n",
        "for n_idx in range(len(n_search_data)): # top level list\n",
        "    for casrn_idx in range(len(n_search_data[n_idx][\"results\"])): # lists within top level\n",
        "        n_casrn_list.append(n_search_data[n_idx][\"results\"][casrn_idx][\"rn\"])"
      ]
    },
    {
      "cell_type": "code",
      "execution_count": 36,
      "metadata": {
        "colab": {
          "base_uri": "https://localhost:8080/"
        },
        "id": "U3fjKHzhu5TS",
        "outputId": "64222fc2-ec69-40e2-e6a2-dd7fca7d3f8a"
      },
      "outputs": [
        {
          "data": {
            "text/plain": [
              "191"
            ]
          },
          "execution_count": 36,
          "metadata": {},
          "output_type": "execute_result"
        }
      ],
      "source": [
        "len(n_casrn_list)"
      ]
    },
    {
      "cell_type": "code",
      "execution_count": 37,
      "metadata": {
        "colab": {
          "base_uri": "https://localhost:8080/"
        },
        "id": "Z5fIpuPCu6mw",
        "outputId": "f48994a3-08c7-418c-aeef-e41bd63d3e35"
      },
      "outputs": [
        {
          "name": "stdout",
          "output_type": "stream",
          "text": [
            "['10025-68-0',\n",
            " '10026-03-6',\n",
            " '10026-23-0',\n",
            " '10101-96-9',\n",
            " '10102-18-8',\n",
            " '10102-23-5',\n",
            " '10112-94-4',\n",
            " '10161-84-9',\n",
            " '10214-40-1',\n",
            " '10236-58-5',\n",
            " '10326-29-1',\n",
            " '10431-47-7',\n",
            " '1049-38-3',\n",
            " '106325-35-3',\n",
            " '1069-66-5',\n",
            " '109428-24-2',\n",
            " '1187-56-0',\n",
            " '1190006-10-0',\n",
            " '1197228-15-1',\n",
            " '12033-59-9']\n"
          ]
        }
      ],
      "source": [
        "# show first 20\n",
        "pprint(n_casrn_list[0:20])"
      ]
    },
    {
      "cell_type": "code",
      "execution_count": 38,
      "metadata": {
        "id": "H7i4zdH6wEdr"
      },
      "outputs": [],
      "source": [
        "# now we can loop through each casrn and use the detail API to obtain the entire record\n",
        "# this will query CAS Common Chem 191 times and take ~ 5 min.\n",
        "detail_base_url = \"https://commonchemistry.cas.org/api/detail?\"\n",
        "n_detail_data = []\n",
        "for casrn in n_casrn_list:\n",
        "    n_detail_data.append(requests.get(detail_base_url + \"cas_rn=\" + casrn).json())\n",
        "    sleep(1) # add a delay between API calls"
      ]
    },
    {
      "cell_type": "code",
      "execution_count": 39,
      "metadata": {
        "id": "n2UWE46rwh1h"
      },
      "outputs": [],
      "source": [
        "# Extract out some data such as molecularMass\n",
        "mms = []\n",
        "for mm_idx in range(len(n_detail_data)):\n",
        "    mms.append(n_detail_data[mm_idx][\"molecularMass\"])"
      ]
    },
    {
      "cell_type": "code",
      "execution_count": 40,
      "metadata": {
        "colab": {
          "base_uri": "https://localhost:8080/"
        },
        "id": "FZVGtwFEzflk",
        "outputId": "e44e8788-9d57-443a-bdc3-476e8d54a1d3"
      },
      "outputs": [
        {
          "data": {
            "text/plain": [
              "191"
            ]
          },
          "execution_count": 40,
          "metadata": {},
          "output_type": "execute_result"
        }
      ],
      "source": [
        "len(mms)"
      ]
    },
    {
      "cell_type": "code",
      "execution_count": 41,
      "metadata": {
        "colab": {
          "base_uri": "https://localhost:8080/"
        },
        "id": "efPfepWKzj5l",
        "outputId": "540cc370-cf84-4f11-b3ae-ef9b9c35fba5"
      },
      "outputs": [
        {
          "name": "stdout",
          "output_type": "stream",
          "text": [
            "['228.83', '220.77', '', '', '', '', '', '300.24', '', '168.05', '', '', '', '', '', '241.11', '', '368.25', '265.00', '']\n"
          ]
        }
      ],
      "source": [
        "# view first 20\n",
        "# note that several do not have molecularMass values and have an empty string in the record\n",
        "print(mms[0:20])"
      ]
    },
    {
      "cell_type": "code",
      "execution_count": 42,
      "metadata": {
        "colab": {
          "base_uri": "https://localhost:8080/",
          "height": 458
        },
        "id": "ElAPMGOu1qez",
        "outputId": "65bd21c9-e1c0-404e-d9f0-c26a8ec63c4f"
      },
      "outputs": [
        {
          "data": {
            "image/png": "[encoded data removed]",
            "text/plain": [
              "<Figure size 720x504 with 1 Axes>"
            ]
          },
          "metadata": {
            "needs_background": "light"
          },
          "output_type": "display_data"
        }
      ],
      "source": [
        "# finally, we can even quickly create a simple visualization from the\n",
        "# extracted molecularMass values (from the selen* search)\n",
        "\n",
        "# remove empty strings\n",
        "mms_values = list(filter(None, mms))\n",
        "\n",
        "# convert to floats\n",
        "mms_values_float = []\n",
        "for mms_value in mms_values:\n",
        "    mms_values_float.append(float(mms_value))  \n",
        "\n",
        "# import numpy and matplotlib\n",
        "import numpy as np\n",
        "import matplotlib.pyplot as plt\n",
        "\n",
        "# plot data\n",
        "plt.figure(figsize=(10,7))\n",
        "plt.hist(mms_values_float, histtype='bar',bins = 20, facecolor=\"blue\", alpha=0.5)\n",
        "plt.title(\"Histogram of available molecularMass values for selen* search\")\n",
        "plt.xlabel(\"molecularMass\")\n",
        "plt.ylabel(\"Count\")\n",
        "plt.show()"
      ]
    }
  ],
  "metadata": {
    "colab": {
      "name": "python_casc.ipynb",
      "provenance": [],
      "toc_visible": true
    },
    "kernelspec": {
      "display_name": "Python 3",
      "name": "python3"
    },
    "language_info": {
      "name": "python"
    }
  },
  "nbformat": 4,
  "nbformat_minor": 0
}
