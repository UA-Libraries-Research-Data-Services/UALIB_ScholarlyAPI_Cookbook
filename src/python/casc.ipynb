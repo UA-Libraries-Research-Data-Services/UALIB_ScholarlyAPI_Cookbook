{
  "cells": [
    {
      "cell_type": "markdown",
      "metadata": {
        "id": "_QQAfOYNT-4A"
      },
      "source": [
        "# CAS Common Chemistry API in Python\n",
        "\n",
        "By Vincent F. Scalfani, Avery Fernandez, and Michael T. Moen\n",
        "\n",
        "The CAS Common Chemistry API provides programmatic access to a curated subset, offering information on nearly 500,000 chemical substances.\n",
        "\n",
        "Please see the following resources for more information on API usage:\n",
        "\n",
        "- Documentation\n",
        "  - <a href=\"https://commonchemistry.cas.org/api\" target=\"_blank\">CAS Common Chemistry API</a>\n",
        "- Terms\n",
        "  - <a href=\"https://www.cas.org/legal\" target=\"_blank\">CAS Policies</a>\n",
        "- Data Reuse\n",
        "  - CAS Common Chemistry is provided under the <a href=\"https://creativecommons.org/licenses/by-nc/4.0/\" target=\"_blank\">Creative Commons CC BY-NC 4.0 license</a>\n",
        "\n",
        "_**NOTE:**_ The CAS Common Chemistry API limits requests to a maximum of 50 results per page.\n",
        "\n",
        "*These recipe examples were tested on October 21, 2025.* "
      ]
    },
    {
      "cell_type": "markdown",
      "metadata": {},
      "source": [
        "## Setup\n",
        "\n",
        "### Import Libraries\n",
        "\n",
        "The following external libraries need to be installed into your enviornment to run the code examples in this tutorial:\n",
        "\n",
        "- <a href=\"https://github.com/psf/requests\" target=\"_blank\">requests</a>\n",
        "- <a href=\"https://github.com/ipython/ipykernel\" target=\"_blank\">ipykernel</a>\n",
        "- <a href=\"https://github.com/matplotlib/matplotlib\" target=\"_blank\">matplotlib</a>\n",
        "- <a href=\"https://github.com/pandas-dev/pandas\" target=\"_blank\">pandas</a>\n",
        "- <a href=\"https://github.com/theskumar/python-dotenv\" target=\"_blank\">python-dotenv</a>\n",
        "\n",
        "We import the libraries used in this tutorial below:"
      ]
    },
    {
      "cell_type": "code",
      "execution_count": 1,
      "metadata": {},
      "outputs": [],
      "source": [
        "import matplotlib.pyplot as plt\n",
        "import requests\n",
        "from pprint import pprint\n",
        "from IPython.display import SVG\n",
        "from time import sleep\n",
        "import pandas as pd\n",
        "from dotenv import load_dotenv\n",
        "import os"
      ]
    },
    {
      "cell_type": "markdown",
      "metadata": {},
      "source": [
        "### Import API Key\n",
        "\n",
        "An API key is required to access the CAS Common Chemistry API. You can sign up for one at the <a href=\"https://www.cas.org/services/commonchemistry-api\" target=\"_blank\">Request API Access for CAS Common Chemistry</a> page.\n",
        "\n",
        "We keep our API key in a `.env` file and use the `dotenv` library to access it. If you would like to use this method, create a `.env` file and add the following line to it:\n",
        "\n",
        "```text\n",
        "CAS_API_KEY=PUT_YOUR_API_KEY_HERE\n",
        "```"
      ]
    },
    {
      "cell_type": "code",
      "execution_count": 2,
      "metadata": {},
      "outputs": [],
      "source": [
        "load_dotenv()\n",
        "try:\n",
        "    HEADERS = {\"X-API-KEY\": os.environ[\"CAS_API_KEY\"]}\n",
        "except KeyError:\n",
        "    print(\"API key not found. Please set 'CAS_API_KEY' in your .env file.\")"
      ]
    },
    {
      "cell_type": "markdown",
      "metadata": {
        "id": "X8Bzztu_U9mm"
      },
      "source": [
        "## 1. Common Chemistry Record Detail Retrieval\n",
        "\n",
        "A CAS Registry Number (CAS RN) is a unique identifier for a specific substance. Information about substances in CAS Common Chemistry can be retrieved using the `/detail` endpoint and a CAS RN."
      ]
    },
    {
      "cell_type": "code",
      "execution_count": 3,
      "metadata": {
        "id": "AT8MZdXuWF5s"
      },
      "outputs": [
        {
          "data": {
            "text/plain": [
              "200"
            ]
          },
          "execution_count": 3,
          "metadata": {},
          "output_type": "execute_result"
        }
      ],
      "source": [
        "BASE_URL = \"https://commonchemistry.cas.org/api/\"\n",
        "endpoint = \"detail\"\n",
        "params = {\n",
        "    \"cas_rn\": \"10094-36-7\"  # Ethyl cyclohexanepropionate\n",
        "}\n",
        "\n",
        "response = requests.get(f\"{BASE_URL}{endpoint}\", params=params, headers=HEADERS)\n",
        "\n",
        "# Status code 200 indicates success\n",
        "response.status_code"
      ]
    },
    {
      "cell_type": "code",
      "execution_count": 4,
      "metadata": {},
      "outputs": [
        {
          "name": "stdout",
          "output_type": "stream",
          "text": [
            "{'canonicalSmile': 'O=C(OCC)CCC1CCCCC1',\n",
            " 'experimentalProperties': [...],\n",
            " 'hasMolfile': True,\n",
            " 'images': [...],\n",
            " 'inchi': 'InChI=1S/C11H20O2/c1-2-13-11(12)9-8-10-6-4-3-5-7-10/h10H,2-9H2,1H3',\n",
            " 'inchiKey': 'InChIKey=NRVPMFHPHGBQLP-UHFFFAOYSA-N',\n",
            " 'molecularFormula': 'C<sub>11</sub>H<sub>20</sub>O<sub>2</sub>',\n",
            " 'molecularMass': '184.28',\n",
            " 'name': 'Ethyl cyclohexanepropionate',\n",
            " 'propertyCitations': [...],\n",
            " 'replacedRns': [],\n",
            " 'rn': '10094-36-7',\n",
            " 'smile': 'C(CC(OCC)=O)C1CCCCC1',\n",
            " 'synonyms': [...],\n",
            " 'uri': 'substance/pt/10094367'}\n"
          ]
        }
      ],
      "source": [
        "data = response.json()\n",
        "\n",
        "# Print first level of the response data\n",
        "pprint(data, depth=1)"
      ]
    },
    {
      "cell_type": "markdown",
      "metadata": {
        "id": "aGFXQgoubHDo"
      },
      "source": [
        "### Accessing Specific Data\n",
        "\n",
        "We can index into the `data` dictionary to access data from the response."
      ]
    },
    {
      "cell_type": "code",
      "execution_count": 5,
      "metadata": {
        "colab": {
          "base_uri": "https://localhost:8080/"
        },
        "id": "X3vi4RKCbTyl",
        "outputId": "39d90ca3-f27a-452c-a6eb-421e7452c519"
      },
      "outputs": [
        {
          "data": {
            "text/plain": [
              "{'name': 'Boiling Point',\n",
              " 'property': '105-113 °C @ Press: 17 Torr',\n",
              " 'sourceNumber': 1}"
            ]
          },
          "execution_count": 5,
          "metadata": {},
          "output_type": "execute_result"
        }
      ],
      "source": [
        "# Get Experimental Properties\n",
        "data[\"experimentalProperties\"][0]"
      ]
    },
    {
      "cell_type": "code",
      "execution_count": 6,
      "metadata": {
        "colab": {
          "base_uri": "https://localhost:8080/",
          "height": 35
        },
        "id": "RzEqem-NcCWF",
        "outputId": "91830a56-338e-4569-e89b-ee10b4ddb742"
      },
      "outputs": [
        {
          "data": {
            "text/plain": [
              "'105-113 °C @ Press: 17 Torr'"
            ]
          },
          "execution_count": 6,
          "metadata": {},
          "output_type": "execute_result"
        }
      ],
      "source": [
        "# Get Boiling Point property\n",
        "data[\"experimentalProperties\"][0][\"property\"]"
      ]
    },
    {
      "cell_type": "code",
      "execution_count": 7,
      "metadata": {
        "colab": {
          "base_uri": "https://localhost:8080/",
          "height": 35
        },
        "id": "t23zrBGXcOoY",
        "outputId": "4e74a363-6ab1-4896-af3a-29640ecaee52"
      },
      "outputs": [
        {
          "data": {
            "text/plain": [
              "'InChIKey=NRVPMFHPHGBQLP-UHFFFAOYSA-N'"
            ]
          },
          "execution_count": 7,
          "metadata": {},
          "output_type": "execute_result"
        }
      ],
      "source": [
        "# Get InChIKey\n",
        "data[\"inchiKey\"]"
      ]
    },
    {
      "cell_type": "code",
      "execution_count": 8,
      "metadata": {
        "colab": {
          "base_uri": "https://localhost:8080/",
          "height": 35
        },
        "id": "6EDdWqD-cYbI",
        "outputId": "f85d2f9b-a28f-4662-e8c4-47f2d5815c48"
      },
      "outputs": [
        {
          "data": {
            "text/plain": [
              "'O=C(OCC)CCC1CCCCC1'"
            ]
          },
          "execution_count": 8,
          "metadata": {},
          "output_type": "execute_result"
        }
      ],
      "source": [
        "# Get Canonical SMILES\n",
        "data[\"canonicalSmile\"]"
      ]
    },
    {
      "cell_type": "markdown",
      "metadata": {},
      "source": [
        "### Display the Molecule Drawing\n",
        "\n",
        "The `images` section of the data contains data formatted as Scalable Vector Graphics (SVG). SVG is an XML based vector format for defining two-dimensional graphics and has been an open standard since 1999. Using the SVG data provided by the API, we display the molecule drawing using the `SVG()` method from `IPython.display`."
      ]
    },
    {
      "cell_type": "code",
      "execution_count": 9,
      "metadata": {},
      "outputs": [
        {
          "data": {
            "image/svg+xml": [
              "<svg xmlns:xlink=\"http://www.w3.org/1999/xlink\" xmlns=\"http://www.w3.org/2000/svg\" width=\"215\" viewBox=\"0 0 215 101\" style=\"fill-opacity:1; color-rendering:auto; color-interpolation:auto; text-rendering:auto; stroke:black; stroke-linecap:square; stroke-miterlimit:10; shape-rendering:auto; stroke-opacity:1; fill:black; stroke-dasharray:none; font-weight:normal; stroke-width:1; font-family:'Open Sans'; font-style:normal; stroke-linejoin:miter; font-size:12; stroke-dashoffset:0; image-rendering:auto;\" height=\"101\" class=\"cas-substance-image\"><svg class=\"cas-substance-single-component\"><rect y=\"0\" x=\"0\" width=\"215\" stroke=\"none\" ry=\"7\" rx=\"7\" height=\"101\" fill=\"white\" class=\"cas-substance-group\"/><svg y=\"0\" x=\"0\" width=\"215\" viewBox=\"0 0 215 101\" style=\"fill:black;\" height=\"101\" class=\"cas-substance-single-component-image\"><svg><g><g transform=\"translate(107,49)\" style=\"text-rendering:geometricPrecision; color-rendering:optimizeQuality; color-interpolation:linearRGB; stroke-linecap:butt; image-rendering:optimizeQuality;\"><line y2=\"0\" y1=\"15\" x2=\"0\" x1=\"-25.98\" style=\"fill:none;\"/><line y2=\"0\" y1=\"15\" x2=\"-51.963\" x1=\"-25.98\" style=\"fill:none;\"/><line y2=\"15\" y1=\"0\" x2=\"25.98\" x1=\"0\" style=\"fill:none;\"/><line y2=\"3.1886\" y1=\"15\" x2=\"46.4398\" x1=\"25.98\" style=\"fill:none;\"/><line y2=\"38.5234\" y1=\"13.9896\" x2=\"24.23\" x1=\"24.23\" style=\"fill:none;\"/><line y2=\"38.5234\" y1=\"13.9897\" x2=\"27.73\" x1=\"27.73\" style=\"fill:none;\"/><line y2=\"15\" y1=\"3.1786\" x2=\"77.943\" x1=\"57.4684\" style=\"fill:none;\"/><line y2=\"0\" y1=\"15\" x2=\"103.923\" x1=\"77.943\" style=\"fill:none;\"/><line y2=\"15\" y1=\"0\" x2=\"-77.943\" x1=\"-51.963\" style=\"fill:none;\"/><line y2=\"-30\" y1=\"0\" x2=\"-51.963\" x1=\"-51.963\" style=\"fill:none;\"/><line y2=\"0\" y1=\"15\" x2=\"-103.923\" x1=\"-77.943\" style=\"fill:none;\"/><line y2=\"-45\" y1=\"-30\" x2=\"-77.943\" x1=\"-51.963\" style=\"fill:none;\"/><line y2=\"-30\" y1=\"0\" x2=\"-103.923\" x1=\"-103.923\" style=\"fill:none;\"/><line y2=\"-30\" y1=\"-45\" x2=\"-103.923\" x1=\"-77.943\" style=\"fill:none;\"/><path style=\"fill:none; stroke-miterlimit:5;\" d=\"M-25.547 14.75 L-25.98 15 L-26.413 14.75\"/><path style=\"fill:none; stroke-miterlimit:5;\" d=\"M-0.433 0.25 L0 0 L0.433 0.25\"/><path style=\"fill:none; stroke-miterlimit:5;\" d=\"M25.547 14.75 L25.98 15 L26.413 14.75\"/></g><g transform=\"translate(107,49)\" style=\"stroke-linecap:butt; fill:rgb(230,0,0); text-rendering:geometricPrecision; color-rendering:optimizeQuality; image-rendering:optimizeQuality; font-family:'Open Sans'; stroke:rgb(230,0,0); color-interpolation:linearRGB; stroke-miterlimit:5;\"><path style=\"stroke:none;\" d=\"M55.9005 -0.0703 Q55.9005 1.9922 54.8614 3.1719 Q53.8224 4.3516 51.9786 4.3516 Q50.088 4.3516 49.0568 3.1875 Q48.0255 2.0234 48.0255 -0.0859 Q48.0255 -2.1797 49.0568 -3.3281 Q50.088 -4.4766 51.9786 -4.4766 Q53.838 -4.4766 54.8693 -3.3047 Q55.9005 -2.1328 55.9005 -0.0703 ZM49.0724 -0.0703 Q49.0724 1.6641 49.8146 2.5703 Q50.5568 3.4766 51.9786 3.4766 Q53.4005 3.4766 54.1271 2.5781 Q54.8536 1.6797 54.8536 -0.0703 Q54.8536 -1.8047 54.1271 -2.6953 Q53.4005 -3.5859 51.9786 -3.5859 Q50.5568 -3.5859 49.8146 -2.6875 Q49.0724 -1.7891 49.0724 -0.0703 Z\"/><path style=\"stroke:none;\" d=\"M29.9175 44.9297 Q29.9175 46.9922 28.8784 48.1719 Q27.8394 49.3516 25.9956 49.3516 Q24.105 49.3516 23.0737 48.1875 Q22.0425 47.0234 22.0425 44.9141 Q22.0425 42.8203 23.0737 41.6719 Q24.105 40.5234 25.9956 40.5234 Q27.855 40.5234 28.8862 41.6953 Q29.9175 42.8672 29.9175 44.9297 ZM23.0894 44.9297 Q23.0894 46.6641 23.8316 47.5703 Q24.5737 48.4766 25.9956 48.4766 Q27.4175 48.4766 28.1441 47.5781 Q28.8706 46.6797 28.8706 44.9297 Q28.8706 43.1953 28.1441 42.3047 Q27.4175 41.4141 25.9956 41.4141 Q24.5737 41.4141 23.8316 42.3125 Q23.0894 43.2109 23.0894 44.9297 Z\"/><path style=\"fill:none; stroke:black;\" d=\"M77.51 14.75 L77.943 15 L78.376 14.75\"/><path style=\"fill:none; stroke:black;\" d=\"M-77.51 14.75 L-77.943 15 L-78.376 14.75\"/><path style=\"fill:none; stroke:black;\" d=\"M-51.963 -29.5 L-51.963 -30 L-52.396 -30.25\"/><path style=\"fill:none; stroke:black;\" d=\"M-103.49 0.25 L-103.923 0 L-103.923 -0.5\"/><path style=\"fill:none; stroke:black;\" d=\"M-77.51 -44.75 L-77.943 -45 L-78.376 -44.75\"/><path style=\"fill:none; stroke:black;\" d=\"M-103.923 -29.5 L-103.923 -30 L-103.49 -30.25\"/></g></g></svg></svg></svg></svg>"
            ],
            "text/plain": [
              "<IPython.core.display.SVG object>"
            ]
          },
          "metadata": {},
          "output_type": "display_data"
        }
      ],
      "source": [
        "svg_string = data[\"images\"][0]\n",
        "\n",
        "# Display the molecule\n",
        "display(SVG(svg_string))"
      ]
    },
    {
      "cell_type": "markdown",
      "metadata": {
        "id": "EsJPcXQqcsPS"
      },
      "source": [
        "## 2. Common Chemistry API Record Detail Retrieval in a Loop\n",
        "\n",
        "To obtain the data for multiple records, we request data for each CAS RN in a loop and save it to a list."
      ]
    },
    {
      "cell_type": "code",
      "execution_count": 10,
      "metadata": {
        "id": "dBE3v1bohnT1"
      },
      "outputs": [],
      "source": [
        "casrns = [\"10094-36-7\", \"10031-92-2\", \"10199-61-8\", \"10036-21-2\", \"1019020-13-3\"]\n",
        "\n",
        "casrn_data_list = []\n",
        "for casrn in casrns:\n",
        "    params = {\n",
        "        \"cas_rn\": casrn\n",
        "    }\n",
        "\n",
        "    try:\n",
        "        response = requests.get(f\"{BASE_URL}{endpoint}\", params=params, headers=HEADERS)\n",
        "        # Add a delay between API calls\n",
        "        sleep(1)\n",
        "        # Raise an error for bad responses\n",
        "        response.raise_for_status()\n",
        "        casrn_data_list.append(response.json())\n",
        "    except requests.exceptions.RequestException as e:\n",
        "        print(f\"An error occurred: {e}\")"
      ]
    },
    {
      "cell_type": "code",
      "execution_count": 11,
      "metadata": {
        "colab": {
          "base_uri": "https://localhost:8080/"
        },
        "id": "3dz1-I1FhnWr",
        "outputId": "e2c7afd6-ae13-4301-aa35-efe3ce1ba8ff"
      },
      "outputs": [
        {
          "name": "stdout",
          "output_type": "stream",
          "text": [
            "{'canonicalSmile': 'O=C(OCC)CCC1CCCCC1',\n",
            " 'experimentalProperties': [...],\n",
            " 'hasMolfile': True,\n",
            " 'images': [...],\n",
            " 'inchi': 'InChI=1S/C11H20O2/c1-2-13-11(12)9-8-10-6-4-3-5-7-10/h10H,2-9H2,1H3',\n",
            " 'inchiKey': 'InChIKey=NRVPMFHPHGBQLP-UHFFFAOYSA-N',\n",
            " 'molecularFormula': 'C<sub>11</sub>H<sub>20</sub>O<sub>2</sub>',\n",
            " 'molecularMass': '184.28',\n",
            " 'name': 'Ethyl cyclohexanepropionate',\n",
            " 'propertyCitations': [...],\n",
            " 'replacedRns': [],\n",
            " 'rn': '10094-36-7',\n",
            " 'smile': 'C(CC(OCC)=O)C1CCCCC1',\n",
            " 'synonyms': [...],\n",
            " 'uri': 'substance/pt/10094367'}\n"
          ]
        }
      ],
      "source": [
        "# View the first item's summary\n",
        "pprint(casrn_data_list[0], depth=1)"
      ]
    },
    {
      "cell_type": "markdown",
      "metadata": {
        "id": "F0s_sHFujGpT"
      },
      "source": [
        "### Select Some Specific Data"
      ]
    },
    {
      "cell_type": "code",
      "execution_count": 12,
      "metadata": {
        "colab": {
          "base_uri": "https://localhost:8080/"
        },
        "id": "YOKrgZ_MhnZc",
        "outputId": "f46dbc65-fd3a-4b1d-debf-41d4d931a95f"
      },
      "outputs": [
        {
          "data": {
            "text/plain": [
              "['O=C(OCC)CCC1CCCCC1',\n",
              " 'O=C(C#CCCCCCC)OCC',\n",
              " 'O=C(OCC)CN1N=CC=C1',\n",
              " 'O=C(OCC)C1=CC=CC(=C1)CCC(=O)OCC',\n",
              " 'N=C(OCC)C1=CCCCC1']"
            ]
          },
          "execution_count": 12,
          "metadata": {},
          "output_type": "execute_result"
        }
      ],
      "source": [
        "# Get Canonical SMILES\n",
        "cansmiles = [item[\"canonicalSmile\"] for item in casrn_data_list]\n",
        "cansmiles"
      ]
    },
    {
      "cell_type": "code",
      "execution_count": 13,
      "metadata": {
        "colab": {
          "base_uri": "https://localhost:8080/"
        },
        "id": "5yvIpu5Cm4Wl",
        "outputId": "7b17e4de-43a5-44b6-decf-a6534abf4881"
      },
      "outputs": [
        {
          "data": {
            "text/plain": [
              "['Cyclohexanepropanoic acid, ethyl ester',\n",
              " 'Cyclohexanepropionic acid, ethyl ester',\n",
              " 'Ethyl cyclohexanepropionate',\n",
              " 'Ethyl cyclohexylpropanoate',\n",
              " 'Ethyl 3-cyclohexylpropionate',\n",
              " 'Ethyl 3-cyclohexylpropanoate',\n",
              " '3-Cyclohexylpropionic acid ethyl ester',\n",
              " 'NSC 71463',\n",
              " 'Ethyl 3-cyclohexanepropionate',\n",
              " '2-Nonynoic acid, ethyl ester',\n",
              " 'Ethyl 2-nonynoate',\n",
              " 'NSC 190985',\n",
              " '1<em>H</em>-Pyrazole-1-acetic acid, ethyl ester',\n",
              " 'Pyrazole-1-acetic acid, ethyl ester',\n",
              " 'Ethyl 1<em>H</em>-pyrazole-1-acetate',\n",
              " 'Ethyl 1-pyrazoleacetate',\n",
              " 'Ethyl 2-(1<em>H</em>-pyrazol-1-yl)acetate',\n",
              " 'Benzenepropanoic acid, 3-(ethoxycarbonyl)-, ethyl ester',\n",
              " 'Hydrocinnamic acid, <em>m</em>-carboxy-, diethyl ester',\n",
              " 'Ethyl 3-(ethoxycarbonyl)benzenepropanoate',\n",
              " '1-Cyclohexene-1-carboximidic acid, ethyl ester',\n",
              " 'Ethyl 1-cyclohexene-1-carboximidate']"
            ]
          },
          "execution_count": 13,
          "metadata": {},
          "output_type": "execute_result"
        }
      ],
      "source": [
        "# Get Synonyms\n",
        "synonyms_list = []\n",
        "for casrn_item in casrn_data_list:\n",
        "    # Since the synonyms are a list, we need to extend the list\n",
        "    # Instead of appending to avoid nested lists\n",
        "    synonyms_list.extend(casrn_item[\"synonyms\"])\n",
        "synonyms_list"
      ]
    },
    {
      "cell_type": "markdown",
      "metadata": {},
      "source": [
        "### Display Molecule Drawings"
      ]
    },
    {
      "cell_type": "code",
      "execution_count": 14,
      "metadata": {},
      "outputs": [
        {
          "data": {
            "image/svg+xml": [
              "<svg xmlns:xlink=\"http://www.w3.org/1999/xlink\" xmlns=\"http://www.w3.org/2000/svg\" width=\"215\" viewBox=\"0 0 215 101\" style=\"fill-opacity:1; color-rendering:auto; color-interpolation:auto; text-rendering:auto; stroke:black; stroke-linecap:square; stroke-miterlimit:10; shape-rendering:auto; stroke-opacity:1; fill:black; stroke-dasharray:none; font-weight:normal; stroke-width:1; font-family:'Open Sans'; font-style:normal; stroke-linejoin:miter; font-size:12; stroke-dashoffset:0; image-rendering:auto;\" height=\"101\" class=\"cas-substance-image\"><svg class=\"cas-substance-single-component\"><rect y=\"0\" x=\"0\" width=\"215\" stroke=\"none\" ry=\"7\" rx=\"7\" height=\"101\" fill=\"white\" class=\"cas-substance-group\"/><svg y=\"0\" x=\"0\" width=\"215\" viewBox=\"0 0 215 101\" style=\"fill:black;\" height=\"101\" class=\"cas-substance-single-component-image\"><svg><g><g transform=\"translate(107,49)\" style=\"text-rendering:geometricPrecision; color-rendering:optimizeQuality; color-interpolation:linearRGB; stroke-linecap:butt; image-rendering:optimizeQuality;\"><line y2=\"0\" y1=\"15\" x2=\"0\" x1=\"-25.98\" style=\"fill:none;\"/><line y2=\"0\" y1=\"15\" x2=\"-51.963\" x1=\"-25.98\" style=\"fill:none;\"/><line y2=\"15\" y1=\"0\" x2=\"25.98\" x1=\"0\" style=\"fill:none;\"/><line y2=\"3.1886\" y1=\"15\" x2=\"46.4398\" x1=\"25.98\" style=\"fill:none;\"/><line y2=\"38.5234\" y1=\"13.9896\" x2=\"24.23\" x1=\"24.23\" style=\"fill:none;\"/><line y2=\"38.5234\" y1=\"13.9897\" x2=\"27.73\" x1=\"27.73\" style=\"fill:none;\"/><line y2=\"15\" y1=\"3.1786\" x2=\"77.943\" x1=\"57.4684\" style=\"fill:none;\"/><line y2=\"0\" y1=\"15\" x2=\"103.923\" x1=\"77.943\" style=\"fill:none;\"/><line y2=\"15\" y1=\"0\" x2=\"-77.943\" x1=\"-51.963\" style=\"fill:none;\"/><line y2=\"-30\" y1=\"0\" x2=\"-51.963\" x1=\"-51.963\" style=\"fill:none;\"/><line y2=\"0\" y1=\"15\" x2=\"-103.923\" x1=\"-77.943\" style=\"fill:none;\"/><line y2=\"-45\" y1=\"-30\" x2=\"-77.943\" x1=\"-51.963\" style=\"fill:none;\"/><line y2=\"-30\" y1=\"0\" x2=\"-103.923\" x1=\"-103.923\" style=\"fill:none;\"/><line y2=\"-30\" y1=\"-45\" x2=\"-103.923\" x1=\"-77.943\" style=\"fill:none;\"/><path style=\"fill:none; stroke-miterlimit:5;\" d=\"M-25.547 14.75 L-25.98 15 L-26.413 14.75\"/><path style=\"fill:none; stroke-miterlimit:5;\" d=\"M-0.433 0.25 L0 0 L0.433 0.25\"/><path style=\"fill:none; stroke-miterlimit:5;\" d=\"M25.547 14.75 L25.98 15 L26.413 14.75\"/></g><g transform=\"translate(107,49)\" style=\"stroke-linecap:butt; fill:rgb(230,0,0); text-rendering:geometricPrecision; color-rendering:optimizeQuality; image-rendering:optimizeQuality; font-family:'Open Sans'; stroke:rgb(230,0,0); color-interpolation:linearRGB; stroke-miterlimit:5;\"><path style=\"stroke:none;\" d=\"M55.9005 -0.0703 Q55.9005 1.9922 54.8614 3.1719 Q53.8224 4.3516 51.9786 4.3516 Q50.088 4.3516 49.0568 3.1875 Q48.0255 2.0234 48.0255 -0.0859 Q48.0255 -2.1797 49.0568 -3.3281 Q50.088 -4.4766 51.9786 -4.4766 Q53.838 -4.4766 54.8693 -3.3047 Q55.9005 -2.1328 55.9005 -0.0703 ZM49.0724 -0.0703 Q49.0724 1.6641 49.8146 2.5703 Q50.5568 3.4766 51.9786 3.4766 Q53.4005 3.4766 54.1271 2.5781 Q54.8536 1.6797 54.8536 -0.0703 Q54.8536 -1.8047 54.1271 -2.6953 Q53.4005 -3.5859 51.9786 -3.5859 Q50.5568 -3.5859 49.8146 -2.6875 Q49.0724 -1.7891 49.0724 -0.0703 Z\"/><path style=\"stroke:none;\" d=\"M29.9175 44.9297 Q29.9175 46.9922 28.8784 48.1719 Q27.8394 49.3516 25.9956 49.3516 Q24.105 49.3516 23.0737 48.1875 Q22.0425 47.0234 22.0425 44.9141 Q22.0425 42.8203 23.0737 41.6719 Q24.105 40.5234 25.9956 40.5234 Q27.855 40.5234 28.8862 41.6953 Q29.9175 42.8672 29.9175 44.9297 ZM23.0894 44.9297 Q23.0894 46.6641 23.8316 47.5703 Q24.5737 48.4766 25.9956 48.4766 Q27.4175 48.4766 28.1441 47.5781 Q28.8706 46.6797 28.8706 44.9297 Q28.8706 43.1953 28.1441 42.3047 Q27.4175 41.4141 25.9956 41.4141 Q24.5737 41.4141 23.8316 42.3125 Q23.0894 43.2109 23.0894 44.9297 Z\"/><path style=\"fill:none; stroke:black;\" d=\"M77.51 14.75 L77.943 15 L78.376 14.75\"/><path style=\"fill:none; stroke:black;\" d=\"M-77.51 14.75 L-77.943 15 L-78.376 14.75\"/><path style=\"fill:none; stroke:black;\" d=\"M-51.963 -29.5 L-51.963 -30 L-52.396 -30.25\"/><path style=\"fill:none; stroke:black;\" d=\"M-103.49 0.25 L-103.923 0 L-103.923 -0.5\"/><path style=\"fill:none; stroke:black;\" d=\"M-77.51 -44.75 L-77.943 -45 L-78.376 -44.75\"/><path style=\"fill:none; stroke:black;\" d=\"M-103.923 -29.5 L-103.923 -30 L-103.49 -30.25\"/></g></g></svg></svg></svg></svg>"
            ],
            "text/plain": [
              "<IPython.core.display.SVG object>"
            ]
          },
          "metadata": {},
          "output_type": "display_data"
        },
        {
          "data": {
            "image/svg+xml": [
              "<svg xmlns:xlink=\"http://www.w3.org/1999/xlink\" xmlns=\"http://www.w3.org/2000/svg\" width=\"292\" viewBox=\"0 0 292 86\" style=\"fill-opacity:1; color-rendering:auto; color-interpolation:auto; text-rendering:auto; stroke:black; stroke-linecap:square; stroke-miterlimit:10; shape-rendering:auto; stroke-opacity:1; fill:black; stroke-dasharray:none; font-weight:normal; stroke-width:1; font-family:'Open Sans'; font-style:normal; stroke-linejoin:miter; font-size:12; stroke-dashoffset:0; image-rendering:auto;\" height=\"86\" class=\"cas-substance-image\"><svg class=\"cas-substance-single-component\"><rect y=\"0\" x=\"0\" width=\"292\" stroke=\"none\" ry=\"7\" rx=\"7\" height=\"86\" fill=\"white\" class=\"cas-substance-group\"/><svg y=\"0\" x=\"0\" width=\"292\" viewBox=\"0 0 292 86\" style=\"fill:black;\" height=\"86\" class=\"cas-substance-single-component-image\"><svg><g><g transform=\"translate(146,41)\" style=\"text-rendering:geometricPrecision; color-rendering:optimizeQuality; color-interpolation:linearRGB; stroke-linecap:butt; image-rendering:optimizeQuality;\"><line y2=\"-7.5\" y1=\"7.5\" x2=\"-38.97\" x1=\"-64.953\" style=\"fill:none;\"/><line y2=\"-4.3214\" y1=\"7.5\" x2=\"-85.4276\" x1=\"-64.953\" style=\"fill:none;\"/><line y2=\"31.0234\" y1=\"6.4896\" x2=\"-66.703\" x1=\"-66.703\" style=\"fill:none;\"/><line y2=\"31.0234\" y1=\"6.4897\" x2=\"-63.203\" x1=\"-63.203\" style=\"fill:none;\"/><line y2=\"-22.5\" y1=\"-7.5\" x2=\"-12.99\" x1=\"-38.97\" style=\"fill:none;\"/><line y2=\"-25.5311\" y1=\"-10.5311\" x2=\"-14.74\" x1=\"-40.72\" style=\"fill:none;\"/><line y2=\"-19.4689\" y1=\"-4.4689\" x2=\"-11.24\" x1=\"-37.22\" style=\"fill:none;\"/><line y2=\"7.5\" y1=\"-4.3112\" x2=\"-116.913\" x1=\"-96.456\" style=\"fill:none;\"/><line y2=\"-37.5\" y1=\"-22.5\" x2=\"12.99\" x1=\"-12.99\" style=\"fill:none;\"/><line y2=\"-7.5\" y1=\"7.5\" x2=\"-142.893\" x1=\"-116.913\" style=\"fill:none;\"/><line y2=\"-22.5\" y1=\"-37.5\" x2=\"38.97\" x1=\"12.99\" style=\"fill:none;\"/><line y2=\"-37.5\" y1=\"-22.5\" x2=\"64.953\" x1=\"38.97\" style=\"fill:none;\"/><line y2=\"-22.5\" y1=\"-37.5\" x2=\"90.933\" x1=\"64.953\" style=\"fill:none;\"/><line y2=\"-37.5\" y1=\"-22.5\" x2=\"116.913\" x1=\"90.933\" style=\"fill:none;\"/><line y2=\"-22.5\" y1=\"-37.5\" x2=\"142.893\" x1=\"116.913\" style=\"fill:none;\"/><path style=\"fill:none; stroke-miterlimit:5;\" d=\"M-64.52 7.25 L-64.953 7.5 L-65.386 7.25\"/><path style=\"fill:none; stroke-miterlimit:5;\" d=\"M-39.403 -7.25 L-38.97 -7.5 L-38.537 -7.75\"/></g><g transform=\"translate(146,41)\" style=\"stroke-linecap:butt; fill:rgb(230,0,0); text-rendering:geometricPrecision; color-rendering:optimizeQuality; image-rendering:optimizeQuality; font-family:'Open Sans'; stroke:rgb(230,0,0); color-interpolation:linearRGB; stroke-miterlimit:5;\"><path style=\"stroke:none;\" d=\"M-86.9955 -7.5703 Q-86.9955 -5.5078 -88.0346 -4.3281 Q-89.0736 -3.1484 -90.9174 -3.1484 Q-92.808 -3.1484 -93.8392 -4.3125 Q-94.8705 -5.4766 -94.8705 -7.5859 Q-94.8705 -9.6797 -93.8392 -10.8281 Q-92.808 -11.9766 -90.9174 -11.9766 Q-89.058 -11.9766 -88.0267 -10.8047 Q-86.9955 -9.6328 -86.9955 -7.5703 ZM-93.8236 -7.5703 Q-93.8236 -5.8359 -93.0814 -4.9297 Q-92.3392 -4.0234 -90.9174 -4.0234 Q-89.4955 -4.0234 -88.7689 -4.9219 Q-88.0424 -5.8203 -88.0424 -7.5703 Q-88.0424 -9.3047 -88.7689 -10.1953 Q-89.4955 -11.0859 -90.9174 -11.0859 Q-92.3392 -11.0859 -93.0814 -10.1875 Q-93.8236 -9.2891 -93.8236 -7.5703 Z\"/><path style=\"stroke:none;\" d=\"M-61.0155 37.4297 Q-61.0155 39.4922 -62.0546 40.6719 Q-63.0936 41.8516 -64.9374 41.8516 Q-66.828 41.8516 -67.8593 40.6875 Q-68.8905 39.5234 -68.8905 37.4141 Q-68.8905 35.3203 -67.8593 34.1719 Q-66.828 33.0234 -64.9374 33.0234 Q-63.078 33.0234 -62.0468 34.1953 Q-61.0155 35.3672 -61.0155 37.4297 ZM-67.8436 37.4297 Q-67.8436 39.1641 -67.1014 40.0703 Q-66.3593 40.9766 -64.9374 40.9766 Q-63.5155 40.9766 -62.7889 40.0781 Q-62.0624 39.1797 -62.0624 37.4297 Q-62.0624 35.6953 -62.7889 34.8047 Q-63.5155 33.9141 -64.9374 33.9141 Q-66.3593 33.9141 -67.1014 34.8125 Q-67.8436 35.7109 -67.8436 37.4297 Z\"/><path style=\"fill:none; stroke:black;\" d=\"M-116.48 7.25 L-116.913 7.5 L-117.346 7.25\"/><path style=\"fill:none; stroke:black;\" d=\"M12.557 -37.25 L12.99 -37.5 L13.423 -37.25\"/><path style=\"fill:none; stroke:black;\" d=\"M38.537 -22.75 L38.97 -22.5 L39.403 -22.75\"/><path style=\"fill:none; stroke:black;\" d=\"M64.52 -37.25 L64.953 -37.5 L65.386 -37.25\"/><path style=\"fill:none; stroke:black;\" d=\"M90.5 -22.75 L90.933 -22.5 L91.366 -22.75\"/><path style=\"fill:none; stroke:black;\" d=\"M116.48 -37.25 L116.913 -37.5 L117.346 -37.25\"/></g></g></svg></svg></svg></svg>"
            ],
            "text/plain": [
              "<IPython.core.display.SVG object>"
            ]
          },
          "metadata": {},
          "output_type": "display_data"
        },
        {
          "data": {
            "image/svg+xml": [
              "<svg xmlns:xlink=\"http://www.w3.org/1999/xlink\" xmlns=\"http://www.w3.org/2000/svg\" width=\"184\" viewBox=\"0 0 184 62\" style=\"fill-opacity:1; color-rendering:auto; color-interpolation:auto; text-rendering:auto; stroke:black; stroke-linecap:square; stroke-miterlimit:10; shape-rendering:auto; stroke-opacity:1; fill:black; stroke-dasharray:none; font-weight:normal; stroke-width:1; font-family:'Open Sans'; font-style:normal; stroke-linejoin:miter; font-size:12; stroke-dashoffset:0; image-rendering:auto;\" height=\"62\" class=\"cas-substance-image\"><svg class=\"cas-substance-single-component\"><rect y=\"0\" x=\"0\" width=\"184\" stroke=\"none\" ry=\"7\" rx=\"7\" height=\"62\" fill=\"white\" class=\"cas-substance-group\"/><svg y=\"0\" x=\"0\" width=\"184\" viewBox=\"0 0 184 62\" style=\"fill:black;\" height=\"62\" class=\"cas-substance-single-component-image\"><svg><g><g transform=\"translate(92,33)\" style=\"text-rendering:geometricPrecision; color-rendering:optimizeQuality; color-interpolation:linearRGB; stroke-linecap:butt; image-rendering:optimizeQuality;\"><line y2=\"-10.536\" y1=\"-25.536\" x2=\"10.749\" x1=\"-15.231\" style=\"fill:none;\"/><line y2=\"-13.4711\" y1=\"-25.536\" x2=\"-36.1274\" x1=\"-15.231\" style=\"fill:none;\"/><line y2=\"-22.3474\" y1=\"-10.536\" x2=\"31.2088\" x1=\"10.749\" style=\"fill:none;\"/><line y2=\"12.9874\" y1=\"-11.5464\" x2=\"8.999\" x1=\"8.999\" style=\"fill:none;\"/><line y2=\"12.9874\" y1=\"-11.5463\" x2=\"12.499\" x1=\"12.499\" style=\"fill:none;\"/><line y2=\"-10.536\" y1=\"-22.3574\" x2=\"62.712\" x1=\"42.2374\" style=\"fill:none;\"/><line y2=\"-25.536\" y1=\"-10.536\" x2=\"88.692\" x1=\"62.712\" style=\"fill:none;\"/><line y2=\"-22.74\" y1=\"-12.8419\" x2=\"-68.619\" x1=\"-46.3896\" style=\"fill:none;\"/><line y2=\"12.9037\" y1=\"-4.3907\" x2=\"-43.6764\" x1=\"-41.8574\" style=\"fill:none;\"/><line y2=\"-0.444\" y1=\"-22.74\" x2=\"-88.692\" x1=\"-68.619\" style=\"fill:none;\"/><line y2=\"0.396\" y1=\"-18.8964\" x2=\"-84.7388\" x1=\"-67.3699\" style=\"fill:none;\"/><line y2=\"25.536\" y1=\"20.4272\" x2=\"-73.692\" x1=\"-49.6569\" style=\"fill:none;\"/><line y2=\"21.6924\" y1=\"17.0037\" x2=\"-72.4431\" x1=\"-50.3845\" style=\"fill:none;\"/><line y2=\"25.536\" y1=\"-0.444\" x2=\"-73.692\" x1=\"-88.692\" style=\"fill:none;\"/><path style=\"fill:none; stroke-miterlimit:5;\" d=\"M-14.798 -25.286 L-15.231 -25.536 L-15.664 -25.286\"/><path style=\"fill:none; stroke-miterlimit:5;\" d=\"M10.316 -10.786 L10.749 -10.536 L11.182 -10.786\"/></g><g transform=\"translate(92,33)\" style=\"stroke-linecap:butt; fill:rgb(230,0,0); text-rendering:geometricPrecision; color-rendering:optimizeQuality; image-rendering:optimizeQuality; font-family:'Open Sans'; stroke:rgb(230,0,0); color-interpolation:linearRGB; stroke-miterlimit:5;\"><path style=\"stroke:none;\" d=\"M40.6695 -25.6063 Q40.6695 -23.5438 39.6304 -22.3641 Q38.5914 -21.1844 36.7476 -21.1844 Q34.857 -21.1844 33.8258 -22.3485 Q32.7945 -23.5126 32.7945 -25.6219 Q32.7945 -27.7157 33.8258 -28.8641 Q34.857 -30.0126 36.7476 -30.0126 Q38.607 -30.0126 39.6383 -28.8407 Q40.6695 -27.6688 40.6695 -25.6063 ZM33.8414 -25.6063 Q33.8414 -23.8719 34.5836 -22.9657 Q35.3258 -22.0594 36.7476 -22.0594 Q38.1695 -22.0594 38.8961 -22.9579 Q39.6226 -23.8563 39.6226 -25.6063 Q39.6226 -27.3407 38.8961 -28.2313 Q38.1695 -29.1219 36.7476 -29.1219 Q35.3258 -29.1219 34.5836 -28.2235 Q33.8414 -27.3251 33.8414 -25.6063 Z\"/><path style=\"stroke:none;\" d=\"M14.6865 19.3937 Q14.6865 21.4562 13.6474 22.6359 Q12.6084 23.8156 10.7646 23.8156 Q8.874 23.8156 7.8427 22.6515 Q6.8115 21.4874 6.8115 19.3781 Q6.8115 17.2843 7.8427 16.1359 Q8.874 14.9874 10.7646 14.9874 Q12.624 14.9874 13.6552 16.1593 Q14.6865 17.3312 14.6865 19.3937 ZM7.8584 19.3937 Q7.8584 21.1281 8.6006 22.0343 Q9.3427 22.9406 10.7646 22.9406 Q12.1865 22.9406 12.9131 22.0421 Q13.6396 21.1437 13.6396 19.3937 Q13.6396 17.6593 12.9131 16.7687 Q12.1865 15.8781 10.7646 15.8781 Q9.3427 15.8781 8.6006 16.7765 Q7.8584 17.6749 7.8584 19.3937 Z\"/><path style=\"fill:none; stroke:black;\" d=\"M62.279 -10.786 L62.712 -10.536 L63.145 -10.786\"/><path style=\"fill:rgb(0,5,255); stroke:none;\" d=\"M-37.8594 -6.3798 L-39.0001 -6.3798 L-43.6876 -13.5673 L-43.7344 -13.5673 Q-43.6407 -12.3016 -43.6407 -11.2548 L-43.6407 -6.3798 L-44.5626 -6.3798 L-44.5626 -14.9423 L-43.4376 -14.9423 L-38.7657 -7.786 L-38.7188 -7.786 Q-38.7188 -7.9423 -38.7657 -8.8016 Q-38.8126 -9.661 -38.7969 -10.036 L-38.7969 -14.9423 L-37.8594 -14.9423 L-37.8594 -6.3798 Z\"/><path style=\"fill:none; stroke:black;\" d=\"M-68.1622 -22.5366 L-68.619 -22.74 L-68.9535 -22.3684\"/><path style=\"fill:rgb(0,5,255); stroke:none;\" d=\"M-40.9974 23.4552 L-42.1381 23.4552 L-46.8256 16.2677 L-46.8724 16.2677 Q-46.7787 17.5334 -46.7787 18.5802 L-46.7787 23.4552 L-47.7006 23.4552 L-47.7006 14.8927 L-46.5756 14.8927 L-41.9037 22.049 L-41.8568 22.049 Q-41.8568 21.8927 -41.9037 21.0334 Q-41.9506 20.174 -41.9349 19.799 L-41.9349 14.8927 L-40.9974 14.8927 L-40.9974 23.4552 Z\"/><path style=\"fill:none; stroke:black;\" d=\"M-88.3575 -0.8156 L-88.692 -0.444 L-88.442 -0.011\"/><path style=\"fill:none; stroke:black;\" d=\"M-73.2029 25.432 L-73.692 25.536 L-73.942 25.103\"/></g></g></svg></svg></svg></svg>"
            ],
            "text/plain": [
              "<IPython.core.display.SVG object>"
            ]
          },
          "metadata": {},
          "output_type": "display_data"
        },
        {
          "data": {
            "image/svg+xml": [
              "<svg xmlns:xlink=\"http://www.w3.org/1999/xlink\" xmlns=\"http://www.w3.org/2000/svg\" width=\"318\" viewBox=\"0 0 318 101\" style=\"fill-opacity:1; color-rendering:auto; color-interpolation:auto; text-rendering:auto; stroke:black; stroke-linecap:square; stroke-miterlimit:10; shape-rendering:auto; stroke-opacity:1; fill:black; stroke-dasharray:none; font-weight:normal; stroke-width:1; font-family:'Open Sans'; font-style:normal; stroke-linejoin:miter; font-size:12; stroke-dashoffset:0; image-rendering:auto;\" height=\"101\" class=\"cas-substance-image\"><svg class=\"cas-substance-single-component\"><rect y=\"0\" x=\"0\" width=\"318\" stroke=\"none\" ry=\"7\" rx=\"7\" height=\"101\" fill=\"white\" class=\"cas-substance-group\"/><svg y=\"0\" x=\"0\" width=\"318\" viewBox=\"0 0 318 101\" style=\"fill:black;\" height=\"101\" class=\"cas-substance-single-component-image\"><svg><g><g transform=\"translate(159,52)\" style=\"text-rendering:geometricPrecision; color-rendering:optimizeQuality; color-interpolation:linearRGB; stroke-linecap:butt; image-rendering:optimizeQuality;\"><line y2=\"-3.226\" y1=\"-15\" x2=\"-98.3355\" x1=\"-77.943\" style=\"fill:none;\"/><line y2=\"-38.6484\" y1=\"-13.9896\" x2=\"-76.193\" x1=\"-76.193\" style=\"fill:none;\"/><line y2=\"-38.6484\" y1=\"-13.9896\" x2=\"-79.693\" x1=\"-79.693\" style=\"fill:none;\"/><line y2=\"0\" y1=\"-15\" x2=\"-51.963\" x1=\"-77.943\" style=\"fill:none;\"/><line y2=\"-15\" y1=\"-3.2414\" x2=\"-129.903\" x1=\"-109.5371\" style=\"fill:none;\"/><line y2=\"0\" y1=\"-15\" x2=\"-155.886\" x1=\"-129.903\" style=\"fill:none;\"/><line y2=\"0\" y1=\"-15\" x2=\"51.963\" x1=\"25.98\" style=\"fill:none;\"/><line y2=\"0\" y1=\"-15\" x2=\"0\" x1=\"25.98\" style=\"fill:none;\"/><line y2=\"-15\" y1=\"0\" x2=\"77.943\" x1=\"51.963\" style=\"fill:none;\"/><line y2=\"-3.2414\" y1=\"-15\" x2=\"98.3089\" x1=\"77.943\" style=\"fill:none;\"/><line y2=\"-38.6484\" y1=\"-13.9896\" x2=\"79.693\" x1=\"79.693\" style=\"fill:none;\"/><line y2=\"-38.6484\" y1=\"-13.9896\" x2=\"76.193\" x1=\"76.193\" style=\"fill:none;\"/><line y2=\"-15\" y1=\"-3.226\" x2=\"129.903\" x1=\"109.5105\" style=\"fill:none;\"/><line y2=\"0\" y1=\"-15\" x2=\"155.886\" x1=\"129.903\" style=\"fill:none;\"/><line y2=\"-15\" y1=\"0\" x2=\"-25.98\" x1=\"-51.963\" style=\"fill:none;\"/><line y2=\"-10.9585\" y1=\"2.0209\" x2=\"-25.9802\" x1=\"-48.4631\" style=\"fill:none;\"/><line y2=\"30\" y1=\"0\" x2=\"-51.963\" x1=\"-51.963\" style=\"fill:none;\"/><line y2=\"0\" y1=\"-15\" x2=\"0\" x1=\"-25.98\" style=\"fill:none;\"/><line y2=\"45\" y1=\"30\" x2=\"-25.98\" x1=\"-51.963\" style=\"fill:none;\"/><line y2=\"40.9585\" y1=\"27.9791\" x2=\"-25.9802\" x1=\"-48.4631\" style=\"fill:none;\"/><line y2=\"30\" y1=\"0\" x2=\"0\" x1=\"0\" style=\"fill:none;\"/><line y2=\"27.9793\" y1=\"2.0207\" x2=\"-3.5\" x1=\"-3.5\" style=\"fill:none;\"/><line y2=\"30\" y1=\"45\" x2=\"0\" x1=\"-25.98\" style=\"fill:none;\"/><path style=\"fill:none; stroke-miterlimit:5;\" d=\"M-78.376 -14.75 L-77.943 -15 L-77.51 -14.75\"/></g><g transform=\"translate(159,52)\" style=\"stroke-linecap:butt; fill:rgb(230,0,0); text-rendering:geometricPrecision; color-rendering:optimizeQuality; image-rendering:optimizeQuality; font-family:'Open Sans'; stroke:rgb(230,0,0); color-interpolation:linearRGB; stroke-miterlimit:5;\"><path style=\"stroke:none;\" d=\"M-99.9855 -0.0703 Q-99.9855 1.9922 -101.0246 3.1719 Q-102.0636 4.3516 -103.9074 4.3516 Q-105.798 4.3516 -106.8292 3.1875 Q-107.8605 2.0234 -107.8605 -0.0859 Q-107.8605 -2.1797 -106.8292 -3.3281 Q-105.798 -4.4766 -103.9074 -4.4766 Q-102.048 -4.4766 -101.0167 -3.3047 Q-99.9855 -2.1328 -99.9855 -0.0703 ZM-106.8136 -0.0703 Q-106.8136 1.6641 -106.0714 2.5703 Q-105.3292 3.4766 -103.9074 3.4766 Q-102.4855 3.4766 -101.7589 2.5781 Q-101.0324 1.6797 -101.0324 -0.0703 Q-101.0324 -1.8047 -101.7589 -2.6953 Q-102.4855 -3.5859 -103.9074 -3.5859 Q-105.3292 -3.5859 -106.0714 -2.6875 Q-106.8136 -1.7891 -106.8136 -0.0703 Z\"/><path style=\"stroke:none;\" d=\"M-74.0055 -45.0703 Q-74.0055 -43.0078 -75.0446 -41.8281 Q-76.0836 -40.6484 -77.9274 -40.6484 Q-79.818 -40.6484 -80.8493 -41.8125 Q-81.8805 -42.9766 -81.8805 -45.0859 Q-81.8805 -47.1797 -80.8493 -48.3281 Q-79.818 -49.4766 -77.9274 -49.4766 Q-76.068 -49.4766 -75.0368 -48.3047 Q-74.0055 -47.1328 -74.0055 -45.0703 ZM-80.8336 -45.0703 Q-80.8336 -43.3359 -80.0914 -42.4297 Q-79.3493 -41.5234 -77.9274 -41.5234 Q-76.5055 -41.5234 -75.7789 -42.4219 Q-75.0524 -43.3203 -75.0524 -45.0703 Q-75.0524 -46.8047 -75.7789 -47.6953 Q-76.5055 -48.5859 -77.9274 -48.5859 Q-79.3493 -48.5859 -80.0914 -47.6875 Q-80.8336 -46.7891 -80.8336 -45.0703 Z\"/><path style=\"fill:none; stroke:black;\" d=\"M-129.47 -14.75 L-129.903 -15 L-130.336 -14.75\"/><path style=\"fill:none; stroke:black;\" d=\"M26.413 -14.75 L25.98 -15 L25.547 -14.75\"/><path style=\"fill:none; stroke:black;\" d=\"M51.53 -0.25 L51.963 0 L52.396 -0.25\"/><path style=\"fill:none; stroke:black;\" d=\"M77.51 -14.75 L77.943 -15 L78.376 -14.75\"/><path style=\"stroke:none;\" d=\"M107.8605 -0.0703 Q107.8605 1.9922 106.8214 3.1719 Q105.7824 4.3516 103.9386 4.3516 Q102.048 4.3516 101.0167 3.1875 Q99.9855 2.0234 99.9855 -0.0859 Q99.9855 -2.1797 101.0167 -3.3281 Q102.048 -4.4766 103.9386 -4.4766 Q105.798 -4.4766 106.8292 -3.3047 Q107.8605 -2.1328 107.8605 -0.0703 ZM101.0324 -0.0703 Q101.0324 1.6641 101.7746 2.5703 Q102.5167 3.4766 103.9386 3.4766 Q105.3605 3.4766 106.0871 2.5781 Q106.8136 1.6797 106.8136 -0.0703 Q106.8136 -1.8047 106.0871 -2.6953 Q105.3605 -3.5859 103.9386 -3.5859 Q102.5167 -3.5859 101.7746 -2.6875 Q101.0324 -1.7891 101.0324 -0.0703 Z\"/><path style=\"stroke:none;\" d=\"M81.8805 -45.0703 Q81.8805 -43.0078 80.8414 -41.8281 Q79.8024 -40.6484 77.9586 -40.6484 Q76.068 -40.6484 75.0368 -41.8125 Q74.0055 -42.9766 74.0055 -45.0859 Q74.0055 -47.1797 75.0368 -48.3281 Q76.068 -49.4766 77.9586 -49.4766 Q79.818 -49.4766 80.8493 -48.3047 Q81.8805 -47.1328 81.8805 -45.0703 ZM75.0524 -45.0703 Q75.0524 -43.3359 75.7946 -42.4297 Q76.5368 -41.5234 77.9586 -41.5234 Q79.3805 -41.5234 80.1071 -42.4219 Q80.8336 -43.3203 80.8336 -45.0703 Q80.8336 -46.8047 80.1071 -47.6953 Q79.3805 -48.5859 77.9586 -48.5859 Q76.5368 -48.5859 75.7946 -47.6875 Q75.0524 -46.7891 75.0524 -45.0703 Z\"/><path style=\"fill:none; stroke:black;\" d=\"M129.47 -14.75 L129.903 -15 L130.336 -14.75\"/><path style=\"fill:none; stroke:black;\" d=\"M-51.53 -0.25 L-51.963 0 L-51.963 0.5\"/><path style=\"fill:none; stroke:black;\" d=\"M-26.413 -14.75 L-25.98 -15 L-25.547 -14.75\"/><path style=\"fill:none; stroke:black;\" d=\"M-51.963 29.5 L-51.963 30 L-51.53 30.25\"/><path style=\"fill:none; stroke:black;\" d=\"M-0 0.5 L0 0 L0.433 -0.25\"/><path style=\"fill:none; stroke:black;\" d=\"M-26.413 44.75 L-25.98 45 L-25.547 44.75\"/><path style=\"fill:none; stroke:black;\" d=\"M0 29.5 L0 30 L-0.433 30.25\"/></g></g></svg></svg></svg></svg>"
            ],
            "text/plain": [
              "<IPython.core.display.SVG object>"
            ]
          },
          "metadata": {},
          "output_type": "display_data"
        },
        {
          "data": {
            "image/svg+xml": [
              "<svg xmlns:xlink=\"http://www.w3.org/1999/xlink\" xmlns=\"http://www.w3.org/2000/svg\" width=\"163\" viewBox=\"0 0 163 101\" style=\"fill-opacity:1; color-rendering:auto; color-interpolation:auto; text-rendering:auto; stroke:black; stroke-linecap:square; stroke-miterlimit:10; shape-rendering:auto; stroke-opacity:1; fill:black; stroke-dasharray:none; font-weight:normal; stroke-width:1; font-family:'Open Sans'; font-style:normal; stroke-linejoin:miter; font-size:12; stroke-dashoffset:0; image-rendering:auto;\" height=\"101\" class=\"cas-substance-image\"><svg class=\"cas-substance-single-component\"><rect y=\"0\" x=\"0\" width=\"163\" stroke=\"none\" ry=\"7\" rx=\"7\" height=\"101\" fill=\"white\" class=\"cas-substance-group\"/><svg y=\"0\" x=\"0\" width=\"163\" viewBox=\"0 0 163 101\" style=\"fill:black;\" height=\"101\" class=\"cas-substance-single-component-image\"><svg><g><g transform=\"translate(81,49)\" style=\"text-rendering:geometricPrecision; color-rendering:optimizeQuality; color-interpolation:linearRGB; stroke-linecap:butt; image-rendering:optimizeQuality;\"><line y2=\"3.1888\" y1=\"15\" x2=\"20.457\" x1=\"0\" style=\"fill:none;\"/><line y2=\"38.5938\" y1=\"13.9896\" x2=\"-1.75\" x1=\"-1.75\" style=\"fill:none;\"/><line y2=\"38.5938\" y1=\"13.9896\" x2=\"1.75\" x1=\"1.75\" style=\"fill:none;\"/><line y2=\"0\" y1=\"15\" x2=\"-25.98\" x1=\"0\" style=\"fill:none;\"/><line y2=\"15\" y1=\"3.1784\" x2=\"51.963\" x1=\"31.4856\" style=\"fill:none;\"/><line y2=\"0\" y1=\"15\" x2=\"77.943\" x1=\"51.963\" style=\"fill:none;\"/><line y2=\"15\" y1=\"0\" x2=\"-51.963\" x1=\"-25.98\" style=\"fill:none;\"/><line y2=\"-30\" y1=\"0\" x2=\"-25.98\" x1=\"-25.98\" style=\"fill:none;\"/><line y2=\"-27.9793\" y1=\"-2.0207\" x2=\"-29.48\" x1=\"-29.48\" style=\"fill:none;\"/><line y2=\"0\" y1=\"15\" x2=\"-77.943\" x1=\"-51.963\" style=\"fill:none;\"/><line y2=\"-45\" y1=\"-30\" x2=\"-51.963\" x1=\"-25.98\" style=\"fill:none;\"/><line y2=\"-30\" y1=\"0\" x2=\"-77.943\" x1=\"-77.943\" style=\"fill:none;\"/><line y2=\"-30\" y1=\"-45\" x2=\"-77.943\" x1=\"-51.963\" style=\"fill:none;\"/><path style=\"fill:none; stroke-miterlimit:5;\" d=\"M0.433 14.75 L0 15 L-0.433 14.75\"/></g><g transform=\"translate(81,49)\" style=\"stroke-linecap:butt; fill:rgb(230,0,0); text-rendering:geometricPrecision; color-rendering:optimizeQuality; image-rendering:optimizeQuality; font-family:'Open Sans'; stroke:rgb(230,0,0); color-interpolation:linearRGB; stroke-miterlimit:5;\"><path style=\"stroke:none;\" d=\"M29.9175 -0.0703 Q29.9175 1.9922 28.8784 3.1719 Q27.8394 4.3516 25.9956 4.3516 Q24.105 4.3516 23.0737 3.1875 Q22.0425 2.0234 22.0425 -0.0859 Q22.0425 -2.1797 23.0737 -3.3281 Q24.105 -4.4766 25.9956 -4.4766 Q27.855 -4.4766 28.8862 -3.3047 Q29.9175 -2.1328 29.9175 -0.0703 ZM23.0894 -0.0703 Q23.0894 1.6641 23.8316 2.5703 Q24.5737 3.4766 25.9956 3.4766 Q27.4175 3.4766 28.1441 2.5781 Q28.8706 1.6797 28.8706 -0.0703 Q28.8706 -1.8047 28.1441 -2.6953 Q27.4175 -3.5859 25.9956 -3.5859 Q24.5737 -3.5859 23.8316 -2.6875 Q23.0894 -1.7891 23.0894 -0.0703 Z\"/><path style=\"fill:rgb(0,5,255); stroke:none;\" d=\"M3.3516 49.1562 L2.2109 49.1562 L-2.4766 41.9688 L-2.5234 41.9688 Q-2.4297 43.2344 -2.4297 44.2812 L-2.4297 49.1562 L-3.3516 49.1562 L-3.3516 40.5938 L-2.2266 40.5938 L2.4453 47.75 L2.4922 47.75 Q2.4922 47.5938 2.4453 46.7344 Q2.3984 45.875 2.4141 45.5 L2.4141 40.5938 L3.3516 40.5938 L3.3516 49.1562 Z\"/><path style=\"fill:rgb(0,5,255); stroke:none;\" d=\"M10.8672 49.1562 L9.8672 49.1562 L9.8672 45.125 L5.3516 45.125 L5.3516 49.1562 L4.3516 49.1562 L4.3516 40.5938 L5.3516 40.5938 L5.3516 44.2344 L9.8672 44.2344 L9.8672 40.5938 L10.8672 40.5938 L10.8672 49.1562 Z\"/><path style=\"fill:none; stroke:black;\" d=\"M51.53 14.75 L51.963 15 L52.396 14.75\"/><path style=\"fill:none; stroke:black;\" d=\"M-25.98 -0.5 L-25.98 0 L-25.547 0.25\"/><path style=\"fill:none; stroke:black;\" d=\"M-51.53 14.75 L-51.963 15 L-52.396 14.75\"/><path style=\"fill:none; stroke:black;\" d=\"M-25.98 -29.5 L-25.98 -30 L-26.413 -30.25\"/><path style=\"fill:none; stroke:black;\" d=\"M-77.51 0.25 L-77.943 0 L-77.943 -0.5\"/><path style=\"fill:none; stroke:black;\" d=\"M-51.53 -44.75 L-51.963 -45 L-52.396 -44.75\"/><path style=\"fill:none; stroke:black;\" d=\"M-77.943 -29.5 L-77.943 -30 L-77.51 -30.25\"/></g></g></svg></svg></svg></svg>"
            ],
            "text/plain": [
              "<IPython.core.display.SVG object>"
            ]
          },
          "metadata": {},
          "output_type": "display_data"
        }
      ],
      "source": [
        "# Get SVG image text\n",
        "svg_strings = []\n",
        "for casrn_item in casrn_data_list:\n",
        "    svg_strings.append(casrn_item[\"images\"][0])\n",
        "\n",
        "# Display the molecules\n",
        "for svg_string in svg_strings:\n",
        "    display(SVG(svg_string))"
      ]
    },
    {
      "cell_type": "markdown",
      "metadata": {
        "id": "SwsiEgX6lRAi"
      },
      "source": [
        "### Create Pandas DataFrame"
      ]
    },
    {
      "cell_type": "code",
      "execution_count": 15,
      "metadata": {
        "id": "lbxy9NrThnb2"
      },
      "outputs": [
        {
          "data": {
            "text/html": [
              "<div>\n",
              "<style scoped>\n",
              "    .dataframe tbody tr th:only-of-type {\n",
              "        vertical-align: middle;\n",
              "    }\n",
              "\n",
              "    .dataframe tbody tr th {\n",
              "        vertical-align: top;\n",
              "    }\n",
              "\n",
              "    .dataframe thead th {\n",
              "        text-align: right;\n",
              "    }\n",
              "</style>\n",
              "<table border=\"1\" class=\"dataframe\">\n",
              "  <thead>\n",
              "    <tr style=\"text-align: right;\">\n",
              "      <th></th>\n",
              "      <th>uri</th>\n",
              "      <th>rn</th>\n",
              "      <th>name</th>\n",
              "      <th>images</th>\n",
              "      <th>inchi</th>\n",
              "      <th>inchiKey</th>\n",
              "      <th>smile</th>\n",
              "      <th>canonicalSmile</th>\n",
              "      <th>molecularFormula</th>\n",
              "      <th>molecularMass</th>\n",
              "      <th>experimentalProperties</th>\n",
              "      <th>propertyCitations</th>\n",
              "      <th>synonyms</th>\n",
              "      <th>replacedRns</th>\n",
              "      <th>hasMolfile</th>\n",
              "    </tr>\n",
              "  </thead>\n",
              "  <tbody>\n",
              "    <tr>\n",
              "      <th>0</th>\n",
              "      <td>substance/pt/10094367</td>\n",
              "      <td>10094-36-7</td>\n",
              "      <td>Ethyl cyclohexanepropionate</td>\n",
              "      <td>[&lt;svg width=\"215\" viewBox=\"0 0 215 101\" style=...</td>\n",
              "      <td>InChI=1S/C11H20O2/c1-2-13-11(12)9-8-10-6-4-3-5...</td>\n",
              "      <td>InChIKey=NRVPMFHPHGBQLP-UHFFFAOYSA-N</td>\n",
              "      <td>C(CC(OCC)=O)C1CCCCC1</td>\n",
              "      <td>O=C(OCC)CCC1CCCCC1</td>\n",
              "      <td>C&lt;sub&gt;11&lt;/sub&gt;H&lt;sub&gt;20&lt;/sub&gt;O&lt;sub&gt;2&lt;/sub&gt;</td>\n",
              "      <td>184.28</td>\n",
              "      <td>[{'name': 'Boiling Point', 'property': '105-11...</td>\n",
              "      <td>[{'docUri': 'document/pt/document/22252593', '...</td>\n",
              "      <td>[Cyclohexanepropanoic acid, ethyl ester, Cyclo...</td>\n",
              "      <td>[]</td>\n",
              "      <td>True</td>\n",
              "    </tr>\n",
              "    <tr>\n",
              "      <th>1</th>\n",
              "      <td>substance/pt/10031922</td>\n",
              "      <td>10031-92-2</td>\n",
              "      <td>Ethyl 2-nonynoate</td>\n",
              "      <td>[&lt;svg width=\"292\" viewBox=\"0 0 292 86\" style=\"...</td>\n",
              "      <td>InChI=1S/C11H18O2/c1-3-5-6-7-8-9-10-11(12)13-4...</td>\n",
              "      <td>InChIKey=BFZNMUGAZYAMTG-UHFFFAOYSA-N</td>\n",
              "      <td>C(C#CCCCCCC)(OCC)=O</td>\n",
              "      <td>O=C(C#CCCCCCC)OCC</td>\n",
              "      <td>C&lt;sub&gt;11&lt;/sub&gt;H&lt;sub&gt;18&lt;/sub&gt;O&lt;sub&gt;2&lt;/sub&gt;</td>\n",
              "      <td>182.26</td>\n",
              "      <td>[]</td>\n",
              "      <td>[]</td>\n",
              "      <td>[2-Nonynoic acid, ethyl ester, Ethyl 2-nonynoa...</td>\n",
              "      <td>[]</td>\n",
              "      <td>True</td>\n",
              "    </tr>\n",
              "    <tr>\n",
              "      <th>2</th>\n",
              "      <td>substance/pt/10199618</td>\n",
              "      <td>10199-61-8</td>\n",
              "      <td>Ethyl 1&lt;em&gt;H&lt;/em&gt;-pyrazole-1-acetate</td>\n",
              "      <td>[&lt;svg width=\"184\" viewBox=\"0 0 184 62\" style=\"...</td>\n",
              "      <td>InChI=1S/C7H10N2O2/c1-2-11-7(10)6-9-5-3-4-8-9/...</td>\n",
              "      <td>InChIKey=SEHJVNBWAGPXSM-UHFFFAOYSA-N</td>\n",
              "      <td>C(C(OCC)=O)N1C=CC=N1</td>\n",
              "      <td>O=C(OCC)CN1N=CC=C1</td>\n",
              "      <td>C&lt;sub&gt;7&lt;/sub&gt;H&lt;sub&gt;10&lt;/sub&gt;N&lt;sub&gt;2&lt;/sub&gt;O&lt;sub&gt;...</td>\n",
              "      <td>154.17</td>\n",
              "      <td>[{'name': 'Boiling Point', 'property': '130 °C...</td>\n",
              "      <td>[{'docUri': 'document/pt/document/17362219', '...</td>\n",
              "      <td>[1&lt;em&gt;H&lt;/em&gt;-Pyrazole-1-acetic acid, ethyl est...</td>\n",
              "      <td>[]</td>\n",
              "      <td>True</td>\n",
              "    </tr>\n",
              "    <tr>\n",
              "      <th>3</th>\n",
              "      <td>substance/pt/10036212</td>\n",
              "      <td>10036-21-2</td>\n",
              "      <td>Ethyl 3-(ethoxycarbonyl)benzenepropanoate</td>\n",
              "      <td>[&lt;svg width=\"318\" viewBox=\"0 0 318 101\" style=...</td>\n",
              "      <td>InChI=1S/C14H18O4/c1-3-17-13(15)9-8-11-6-5-7-1...</td>\n",
              "      <td>InChIKey=HDGSRVUQMHJTDH-UHFFFAOYSA-N</td>\n",
              "      <td>C(OCC)(=O)C1=CC(CCC(OCC)=O)=CC=C1</td>\n",
              "      <td>O=C(OCC)C1=CC=CC(=C1)CCC(=O)OCC</td>\n",
              "      <td>C&lt;sub&gt;14&lt;/sub&gt;H&lt;sub&gt;18&lt;/sub&gt;O&lt;sub&gt;4&lt;/sub&gt;</td>\n",
              "      <td>250.29</td>\n",
              "      <td>[]</td>\n",
              "      <td>[]</td>\n",
              "      <td>[Benzenepropanoic acid, 3-(ethoxycarbonyl)-, e...</td>\n",
              "      <td>[]</td>\n",
              "      <td>True</td>\n",
              "    </tr>\n",
              "    <tr>\n",
              "      <th>4</th>\n",
              "      <td>substance/pt/1019020133</td>\n",
              "      <td>1019020-13-3</td>\n",
              "      <td>Ethyl 1-cyclohexene-1-carboximidate</td>\n",
              "      <td>[&lt;svg width=\"163\" viewBox=\"0 0 163 101\" style=...</td>\n",
              "      <td>InChI=1S/C9H15NO/c1-2-11-9(10)8-6-4-3-5-7-8/h6...</td>\n",
              "      <td>InChIKey=OYGZRJWLVOOMBM-UHFFFAOYSA-N</td>\n",
              "      <td>C(OCC)(=N)C=1CCCCC1</td>\n",
              "      <td>N=C(OCC)C1=CCCCC1</td>\n",
              "      <td>C&lt;sub&gt;9&lt;/sub&gt;H&lt;sub&gt;15&lt;/sub&gt;NO</td>\n",
              "      <td>153.22</td>\n",
              "      <td>[]</td>\n",
              "      <td>[]</td>\n",
              "      <td>[1-Cyclohexene-1-carboximidic acid, ethyl este...</td>\n",
              "      <td>[]</td>\n",
              "      <td>True</td>\n",
              "    </tr>\n",
              "  </tbody>\n",
              "</table>\n",
              "</div>"
            ],
            "text/plain": [
              "                       uri            rn  \\\n",
              "0    substance/pt/10094367    10094-36-7   \n",
              "1    substance/pt/10031922    10031-92-2   \n",
              "2    substance/pt/10199618    10199-61-8   \n",
              "3    substance/pt/10036212    10036-21-2   \n",
              "4  substance/pt/1019020133  1019020-13-3   \n",
              "\n",
              "                                        name  \\\n",
              "0                Ethyl cyclohexanepropionate   \n",
              "1                          Ethyl 2-nonynoate   \n",
              "2       Ethyl 1<em>H</em>-pyrazole-1-acetate   \n",
              "3  Ethyl 3-(ethoxycarbonyl)benzenepropanoate   \n",
              "4        Ethyl 1-cyclohexene-1-carboximidate   \n",
              "\n",
              "                                              images  \\\n",
              "0  [<svg width=\"215\" viewBox=\"0 0 215 101\" style=...   \n",
              "1  [<svg width=\"292\" viewBox=\"0 0 292 86\" style=\"...   \n",
              "2  [<svg width=\"184\" viewBox=\"0 0 184 62\" style=\"...   \n",
              "3  [<svg width=\"318\" viewBox=\"0 0 318 101\" style=...   \n",
              "4  [<svg width=\"163\" viewBox=\"0 0 163 101\" style=...   \n",
              "\n",
              "                                               inchi  \\\n",
              "0  InChI=1S/C11H20O2/c1-2-13-11(12)9-8-10-6-4-3-5...   \n",
              "1  InChI=1S/C11H18O2/c1-3-5-6-7-8-9-10-11(12)13-4...   \n",
              "2  InChI=1S/C7H10N2O2/c1-2-11-7(10)6-9-5-3-4-8-9/...   \n",
              "3  InChI=1S/C14H18O4/c1-3-17-13(15)9-8-11-6-5-7-1...   \n",
              "4  InChI=1S/C9H15NO/c1-2-11-9(10)8-6-4-3-5-7-8/h6...   \n",
              "\n",
              "                               inchiKey                              smile  \\\n",
              "0  InChIKey=NRVPMFHPHGBQLP-UHFFFAOYSA-N               C(CC(OCC)=O)C1CCCCC1   \n",
              "1  InChIKey=BFZNMUGAZYAMTG-UHFFFAOYSA-N                C(C#CCCCCCC)(OCC)=O   \n",
              "2  InChIKey=SEHJVNBWAGPXSM-UHFFFAOYSA-N               C(C(OCC)=O)N1C=CC=N1   \n",
              "3  InChIKey=HDGSRVUQMHJTDH-UHFFFAOYSA-N  C(OCC)(=O)C1=CC(CCC(OCC)=O)=CC=C1   \n",
              "4  InChIKey=OYGZRJWLVOOMBM-UHFFFAOYSA-N                C(OCC)(=N)C=1CCCCC1   \n",
              "\n",
              "                    canonicalSmile  \\\n",
              "0               O=C(OCC)CCC1CCCCC1   \n",
              "1                O=C(C#CCCCCCC)OCC   \n",
              "2               O=C(OCC)CN1N=CC=C1   \n",
              "3  O=C(OCC)C1=CC=CC(=C1)CCC(=O)OCC   \n",
              "4                N=C(OCC)C1=CCCCC1   \n",
              "\n",
              "                                    molecularFormula molecularMass  \\\n",
              "0          C<sub>11</sub>H<sub>20</sub>O<sub>2</sub>        184.28   \n",
              "1          C<sub>11</sub>H<sub>18</sub>O<sub>2</sub>        182.26   \n",
              "2  C<sub>7</sub>H<sub>10</sub>N<sub>2</sub>O<sub>...        154.17   \n",
              "3          C<sub>14</sub>H<sub>18</sub>O<sub>4</sub>        250.29   \n",
              "4                      C<sub>9</sub>H<sub>15</sub>NO        153.22   \n",
              "\n",
              "                              experimentalProperties  \\\n",
              "0  [{'name': 'Boiling Point', 'property': '105-11...   \n",
              "1                                                 []   \n",
              "2  [{'name': 'Boiling Point', 'property': '130 °C...   \n",
              "3                                                 []   \n",
              "4                                                 []   \n",
              "\n",
              "                                   propertyCitations  \\\n",
              "0  [{'docUri': 'document/pt/document/22252593', '...   \n",
              "1                                                 []   \n",
              "2  [{'docUri': 'document/pt/document/17362219', '...   \n",
              "3                                                 []   \n",
              "4                                                 []   \n",
              "\n",
              "                                            synonyms replacedRns  hasMolfile  \n",
              "0  [Cyclohexanepropanoic acid, ethyl ester, Cyclo...          []        True  \n",
              "1  [2-Nonynoic acid, ethyl ester, Ethyl 2-nonynoa...          []        True  \n",
              "2  [1<em>H</em>-Pyrazole-1-acetic acid, ethyl est...          []        True  \n",
              "3  [Benzenepropanoic acid, 3-(ethoxycarbonyl)-, e...          []        True  \n",
              "4  [1-Cyclohexene-1-carboximidic acid, ethyl este...          []        True  "
            ]
          },
          "execution_count": 15,
          "metadata": {},
          "output_type": "execute_result"
        }
      ],
      "source": [
        "df = pd.json_normalize(casrn_data_list)\n",
        "# Select specific columns to display\n",
        "df_subset = df[[\"uri\", \"rn\", \"name\", \"inchiKey\", \"canonicalSmile\", \"molecularMass\"]]\n",
        "df"
      ]
    },
    {
      "cell_type": "markdown",
      "metadata": {
        "id": "SJuJ9M84t_rf"
      },
      "source": [
        "## 3. Common Chemistry Search\n",
        "\n",
        "In addition to the `/detail` API, the CAS Common Chemistry API has a `/search` method that allows searching by CAS RN, SMILES, InChI/InChIKey, and name.  "
      ]
    },
    {
      "cell_type": "code",
      "execution_count": 16,
      "metadata": {
        "colab": {
          "base_uri": "https://localhost:8080/"
        },
        "id": "UlF1vPmXuMXe",
        "outputId": "40490250-a04b-4e8f-b38a-fdb82810d1a3"
      },
      "outputs": [
        {
          "name": "stdout",
          "output_type": "stream",
          "text": [
            "{'count': 1,\n",
            " 'results': [{'images': [...], 'name': 'Quinine', 'rn': '130-95-0'}]}\n"
          ]
        }
      ],
      "source": [
        "endpoint = \"search\"\n",
        "params = {\n",
        "    # InChIKey for Quinine\n",
        "    \"q\": \"InChIKey=LOUPRKONTZGTKE-WZBLMQSHSA-N\",\n",
        "}\n",
        "\n",
        "try:\n",
        "    response = requests.get(f\"{BASE_URL}{endpoint}\", params=params, headers=HEADERS)\n",
        "    # Raise an error for bad responses\n",
        "    response.raise_for_status()  \n",
        "    data = response.json()\n",
        "    pprint(data, depth=3)\n",
        "except requests.exceptions.RequestException as e:\n",
        "    print(f\"An error occurred: {e}\")\n",
        "    data = None"
      ]
    },
    {
      "cell_type": "markdown",
      "metadata": {
        "id": "F23ca4EYuMpa"
      },
      "source": [
        "Note that with the CAS Common Chemistry Search API, only the image data, name, and CAS RN is returned. In order to retrieve the full record, we can combine our search with the related detail API:"
      ]
    },
    {
      "cell_type": "code",
      "execution_count": 17,
      "metadata": {
        "colab": {
          "base_uri": "https://localhost:8080/"
        },
        "id": "NwIUk4xRxClj",
        "outputId": "a947c97f-85c3-4f41-bd80-f942f0a41d47"
      },
      "outputs": [
        {
          "data": {
            "text/plain": [
              "'130-95-0'"
            ]
          },
          "execution_count": 17,
          "metadata": {},
          "output_type": "execute_result"
        }
      ],
      "source": [
        "# Extract CAS RN\n",
        "quinine_rn = data[\"results\"][0][\"rn\"]\n",
        "quinine_rn"
      ]
    },
    {
      "cell_type": "code",
      "execution_count": 18,
      "metadata": {
        "colab": {
          "base_uri": "https://localhost:8080/"
        },
        "id": "SwUsTx4MzYMr",
        "outputId": "9da36ae4-cfea-4ada-b769-f230116e6a24"
      },
      "outputs": [
        {
          "name": "stdout",
          "output_type": "stream",
          "text": [
            "{'canonicalSmile': 'OC(C=1C=CN=C2C=CC(OC)=CC21)C3N4CCC(C3)C(C=C)C4',\n",
            " 'experimentalProperties': [...],\n",
            " 'hasMolfile': True,\n",
            " 'images': [...],\n",
            " 'inchi': 'InChI=1S/C20H24N2O2/c1-3-13-12-22-9-7-14(13)10-19(22)20(23)16-6-8-21-18-5-4-15(24-2)11-17(16)18/h3-6,8,11,13-14,19-20,23H,1,7,9-10,12H2,2H3/t13-,14-,19-,20+/m0/s1',\n",
            " 'inchiKey': 'InChIKey=LOUPRKONTZGTKE-WZBLMQSHSA-N',\n",
            " 'molecularFormula': 'C<sub>20</sub>H<sub>24</sub>N<sub>2</sub>O<sub>2</sub>',\n",
            " 'molecularMass': '324.42',\n",
            " 'name': 'Quinine',\n",
            " 'propertyCitations': [...],\n",
            " 'replacedRns': [...],\n",
            " 'rn': '130-95-0',\n",
            " 'smile': '[C@@H](O)(C=1C2=C(C=CC(OC)=C2)N=CC1)[C@]3([N@@]4C[C@H](C=C)[C@](C3)(CC4)[H])[H]',\n",
            " 'synonyms': [...],\n",
            " 'uri': 'substance/pt/130950'}\n"
          ]
        }
      ],
      "source": [
        "# Get detailed record for quinine\n",
        "endpoint = \"detail\"\n",
        "params = {\n",
        "    # Quinine CAS RN\n",
        "    \"cas_rn\": quinine_rn\n",
        "}\n",
        "\n",
        "response = requests.get(f\"{BASE_URL}{endpoint}\", params=params, headers=HEADERS)\n",
        "data = response.json()\n",
        "pprint(data, depth=1)"
      ]
    },
    {
      "cell_type": "markdown",
      "metadata": {
        "id": "piBLxfyI3Ote"
      },
      "source": [
        "### Handle Multiple Results"
      ]
    },
    {
      "cell_type": "code",
      "execution_count": 19,
      "metadata": {
        "id": "QhMMcgK99966"
      },
      "outputs": [],
      "source": [
        "# Set up search query parameters\n",
        "endpoint = \"search\"\n",
        "params = {\n",
        "    # SMILES for butadiene\n",
        "    \"q\": \"C=CC=C\"\n",
        "}"
      ]
    },
    {
      "cell_type": "code",
      "execution_count": 20,
      "metadata": {
        "id": "9zdqtRFB999m"
      },
      "outputs": [
        {
          "data": {
            "text/plain": [
              "200"
            ]
          },
          "execution_count": 20,
          "metadata": {},
          "output_type": "execute_result"
        }
      ],
      "source": [
        "# Request data from CAS Common Chemistry Search API\n",
        "response = requests.get(f\"{BASE_URL}{endpoint}\", params=params, headers=HEADERS)\n",
        "\n",
        "# Status code 200 indicates success\n",
        "response.status_code"
      ]
    },
    {
      "cell_type": "code",
      "execution_count": 21,
      "metadata": {
        "colab": {
          "base_uri": "https://localhost:8080/"
        },
        "id": "2QKIdiNa9-AF",
        "outputId": "3d7d2c32-83f6-416d-d4ba-0372056c2e33"
      },
      "outputs": [
        {
          "data": {
            "text/plain": [
              "7"
            ]
          },
          "execution_count": 21,
          "metadata": {},
          "output_type": "execute_result"
        }
      ],
      "source": [
        "data = response.json()\n",
        "\n",
        "# Get results count\n",
        "data[\"count\"]"
      ]
    },
    {
      "cell_type": "code",
      "execution_count": 22,
      "metadata": {
        "colab": {
          "base_uri": "https://localhost:8080/"
        },
        "id": "VZNXa0v59-C_",
        "outputId": "9f12db80-9d16-4e28-b6a2-be6cefdd8eae"
      },
      "outputs": [
        {
          "data": {
            "text/plain": [
              "['106-99-0',\n",
              " '16422-75-6',\n",
              " '26952-74-9',\n",
              " '29406-96-0',\n",
              " '29989-19-3',\n",
              " '31567-90-5',\n",
              " '9003-17-2']"
            ]
          },
          "execution_count": 22,
          "metadata": {},
          "output_type": "execute_result"
        }
      ],
      "source": [
        "# Extract out CAS RNs\n",
        "smi_casrn_list = []\n",
        "for item in data[\"results\"]:\n",
        "    smi_casrn_list.append(item[\"rn\"])\n",
        "smi_casrn_list"
      ]
    },
    {
      "cell_type": "code",
      "execution_count": 23,
      "metadata": {
        "id": "cFbwWQbq9-KU"
      },
      "outputs": [],
      "source": [
        "# Now use the detail API to retrieve the full records\n",
        "endpoint = \"detail\"\n",
        "\n",
        "smi_detail_data = []\n",
        "for casrn in smi_casrn_list:\n",
        "    params = {\n",
        "        \"cas_rn\": casrn\n",
        "    }\n",
        "\n",
        "    try:\n",
        "        response = requests.get(f'{BASE_URL}{endpoint}', params=params, headers=HEADERS)\n",
        "        # Add a delay between API calls\n",
        "        sleep(1) \n",
        "        # Raise an error for bad responses\n",
        "        response.raise_for_status()\n",
        "        smi_detail_data.append(response.json())\n",
        "    except requests.exceptions.RequestException as e:\n",
        "        print(f\"An error occurred: {e}\")"
      ]
    },
    {
      "cell_type": "code",
      "execution_count": 24,
      "metadata": {
        "colab": {
          "base_uri": "https://localhost:8080/"
        },
        "id": "wfhw5Hb89-Pt",
        "outputId": "917b19bd-a129-478f-fe40-b74a931729b5"
      },
      "outputs": [
        {
          "data": {
            "text/plain": [
              "['1,3-Butadiene',\n",
              " 'Butadiene trimer',\n",
              " 'Butadiene dimer',\n",
              " '1,3-Butadiene, homopolymer, isotactic',\n",
              " '1,3-Butadiene-<em>1</em>,<em>1</em>,<em>2</em>,<em>3</em>,<em>4</em>,<em>4</em>-<em>d</em><sub>6</sub>, homopolymer',\n",
              " 'Syndiotactic polybutadiene',\n",
              " 'Polybutadiene']"
            ]
          },
          "execution_count": 24,
          "metadata": {},
          "output_type": "execute_result"
        }
      ],
      "source": [
        "# Get names from the detail records\n",
        "names = [item[\"name\"] for item in smi_detail_data]\n",
        "names"
      ]
    },
    {
      "cell_type": "markdown",
      "metadata": {
        "id": "-PE7Nxt53VLh"
      },
      "source": [
        "### Handle Multiple Page Results\n",
        "\n",
        "The CAS Common Chemistry API returns 50 results per page, and only the first page is returned by default. If the search returns more than 50 results, the offset option can be added to page through and obtain all results:"
      ]
    },
    {
      "cell_type": "code",
      "execution_count": 25,
      "metadata": {
        "colab": {
          "base_uri": "https://localhost:8080/"
        },
        "id": "QILVpJPBBezl",
        "outputId": "bb040118-6a0b-430e-db83-1718899728f8"
      },
      "outputs": [
        {
          "data": {
            "text/plain": [
              "200"
            ]
          },
          "execution_count": 25,
          "metadata": {},
          "output_type": "execute_result"
        }
      ],
      "source": [
        "# Set up search query parameters\n",
        "endpoint = \"search\"\n",
        "params = {\n",
        "    \"q\": \"selen*\"\n",
        "}\n",
        "\n",
        "# Get results count for CAS Common Chemistry Search\n",
        "response = requests.get(f\"{BASE_URL}{endpoint}\", params=params, headers=HEADERS)\n",
        "\n",
        "# Status code 200 indicates success\n",
        "response.status_code"
      ]
    },
    {
      "cell_type": "code",
      "execution_count": 26,
      "metadata": {},
      "outputs": [
        {
          "data": {
            "text/plain": [
              "194"
            ]
          },
          "execution_count": 26,
          "metadata": {},
          "output_type": "execute_result"
        }
      ],
      "source": [
        "data = response.json()\n",
        "\n",
        "num_results = data[\"count\"]\n",
        "num_results"
      ]
    },
    {
      "cell_type": "code",
      "execution_count": 27,
      "metadata": {
        "id": "qrPEuNlcpEGz"
      },
      "outputs": [
        {
          "data": {
            "text/plain": [
              "194"
            ]
          },
          "execution_count": 27,
          "metadata": {},
          "output_type": "execute_result"
        }
      ],
      "source": [
        "# Request data and save to a list in a loop for each page\n",
        "search_data_list = []\n",
        "\n",
        "# Split the search into pages of 50 results each\n",
        "for page_idx in range(int(num_results/50 + 1)):\n",
        "    params = {\n",
        "        \"q\": \"selen*\",\n",
        "        \"offset\": page_idx * 50\n",
        "    }\n",
        "    try:\n",
        "        response = requests.get(BASE_URL + endpoint, params=params, headers=HEADERS)\n",
        "        # Add a delay between API calls\n",
        "        sleep(1)\n",
        "        # Raise an error for bad responses\n",
        "        response.raise_for_status()\n",
        "        search_data_list.extend(response.json()['results'])\n",
        "    except requests.exceptions.RequestException as e:\n",
        "        print(f\"An error occurred: {e}\")\n",
        "\n",
        "len(search_data_list)"
      ]
    },
    {
      "cell_type": "code",
      "execution_count": 28,
      "metadata": {
        "colab": {
          "base_uri": "https://localhost:8080/"
        },
        "id": "e09If63VpEOe",
        "outputId": "faf81220-b460-4004-b548-d3b7f0fdfb88"
      },
      "outputs": [
        {
          "data": {
            "text/plain": [
              "'10025-68-0'"
            ]
          },
          "execution_count": 28,
          "metadata": {},
          "output_type": "execute_result"
        }
      ],
      "source": [
        "# We can index and extract out the first casrn like this\n",
        "search_data_list[0][\"rn\"]"
      ]
    },
    {
      "cell_type": "code",
      "execution_count": 29,
      "metadata": {
        "id": "lfgKnSSKpERF"
      },
      "outputs": [
        {
          "data": {
            "text/plain": [
              "['10025-68-0',\n",
              " '10026-03-6',\n",
              " '10026-23-0',\n",
              " '10101-96-9',\n",
              " '10102-18-8',\n",
              " '10102-23-5',\n",
              " '10112-94-4',\n",
              " '10161-84-9',\n",
              " '10214-40-1',\n",
              " '10236-58-5']"
            ]
          },
          "execution_count": 29,
          "metadata": {},
          "output_type": "execute_result"
        }
      ],
      "source": [
        "# Extract out all CAS RNs from the list of lists\n",
        "casrn_list = [item[\"rn\"] for item in search_data_list]\n",
        "\n",
        "# Show first 10\n",
        "casrn_list[:10]"
      ]
    },
    {
      "cell_type": "code",
      "execution_count": 30,
      "metadata": {
        "id": "H7i4zdH6wEdr"
      },
      "outputs": [],
      "source": [
        "# Now we can loop through each casrn and use the detail API to obtain the entire record\n",
        "# This will take about 5 minutes\n",
        "endpoint = \"detail\"\n",
        "detail_data_list = []\n",
        "for casrn in casrn_list:\n",
        "    params = {\n",
        "        \"cas_rn\": casrn\n",
        "    }\n",
        "    try:\n",
        "        response = requests.get(f'{BASE_URL}{endpoint}', params=params, headers=HEADERS)\n",
        "        # Add a delay between API calls\n",
        "        sleep(1)\n",
        "        # Raise an error for bad responses\n",
        "        response.raise_for_status()\n",
        "        detail_data_list.append(response.json())\n",
        "    except requests.exceptions.RequestException as e:\n",
        "        print(f\"An error occurred: {e}\")"
      ]
    },
    {
      "cell_type": "code",
      "execution_count": 31,
      "metadata": {
        "id": "n2UWE46rwh1h"
      },
      "outputs": [
        {
          "data": {
            "text/plain": [
              "194"
            ]
          },
          "execution_count": 31,
          "metadata": {},
          "output_type": "execute_result"
        }
      ],
      "source": [
        "# Extract out some data such as molecularMass\n",
        "mms = [item[\"molecularMass\"] for item in detail_data_list]\n",
        "\n",
        "# Print number of molecular masses retrieved\n",
        "len(mms)"
      ]
    },
    {
      "cell_type": "code",
      "execution_count": 32,
      "metadata": {
        "colab": {
          "base_uri": "https://localhost:8080/"
        },
        "id": "efPfepWKzj5l",
        "outputId": "540cc370-cf84-4f11-b3ae-ef9b9c35fba5"
      },
      "outputs": [
        {
          "data": {
            "text/plain": [
              "['228.82',\n",
              " '220.77',\n",
              " '187.91',\n",
              " '187.67',\n",
              " '174.95',\n",
              " '371.11',\n",
              " '167.96',\n",
              " '300.24',\n",
              " '192.52',\n",
              " '168.05',\n",
              " '410.78',\n",
              " '207.17',\n",
              " '586.23',\n",
              " '431.38',\n",
              " '167.20',\n",
              " '241.11',\n",
              " '192.07',\n",
              " '368.25',\n",
              " '265.00',\n",
              " '']"
            ]
          },
          "execution_count": 32,
          "metadata": {},
          "output_type": "execute_result"
        }
      ],
      "source": [
        "# View first 20\n",
        "# Note that several do not have molecularMass values and have an empty string in the record\n",
        "mms[:20]"
      ]
    },
    {
      "cell_type": "code",
      "execution_count": 33,
      "metadata": {
        "colab": {
          "base_uri": "https://localhost:8080/",
          "height": 458
        },
        "id": "ElAPMGOu1qez",
        "outputId": "65bd21c9-e1c0-404e-d9f0-c26a8ec63c4f"
      },
      "outputs": [
        {
          "data": {
            "image/png": "[encoded data removed]",
            "text/plain": [
              "<Figure size 1000x700 with 1 Axes>"
            ]
          },
          "metadata": {},
          "output_type": "display_data"
        }
      ],
      "source": [
        "# Finally, we can even quickly create a simple visualization from the\n",
        "# Extracted molecularMass values (from the selen* search)\n",
        "\n",
        "# Remove empty strings\n",
        "mms_values = list(filter(None, mms))\n",
        "\n",
        "# Convert to floats\n",
        "mms_values_float = [float(mms_value) for mms_value in mms_values]\n",
        "\n",
        "# Plot data\n",
        "plt.figure(figsize=(10,7))\n",
        "plt.hist(mms_values_float, histtype='bar',bins = 20, facecolor=\"blue\", alpha=0.5)\n",
        "plt.title(\"Histogram of Available molecularMass Values for selen* Search\")\n",
        "plt.xlabel(\"molecularMass\")\n",
        "plt.ylabel(\"Count\")\n",
        "plt.show()"
      ]
    }
  ],
  "metadata": {
    "colab": {
      "name": "python_casc.ipynb",
      "provenance": [],
      "toc_visible": true
    },
    "kernelspec": {
      "display_name": "api_env",
      "language": "python",
      "name": "python3"
    },
    "language_info": {
      "codemirror_mode": {
        "name": "ipython",
        "version": 3
      },
      "file_extension": ".py",
      "mimetype": "text/x-python",
      "name": "python",
      "nbconvert_exporter": "python",
      "pygments_lexer": "ipython3",
      "version": "3.13.0"
    }
  },
  "nbformat": 4,
  "nbformat_minor": 0
}
