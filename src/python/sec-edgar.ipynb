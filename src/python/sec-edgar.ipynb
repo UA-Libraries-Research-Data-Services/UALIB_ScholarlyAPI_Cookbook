{
 "cells": [
  {
   "cell_type": "markdown",
   "metadata": {},
   "source": [
    "# SEC EDGAR API in Python\n",
    "\n",
    "by Michael T. Moen\n",
    "\n",
    "**SEC EDGAR API documentation**: [https://www.sec.gov/os/accessing-edgar-data](https://www.sec.gov/os/accessing-edgar-data)\n",
    "\n",
    "**SEC Website Policies**: [https://www.sec.gov/privacy#security](https://www.sec.gov/privacy#security)\n",
    "\n",
    "**List of all CIKs**: [https://www.sec.gov/Archives/edgar/cik-lookup-data.txt](https://www.sec.gov/Archives/edgar/cik-lookup-data.txt)\n",
    "\n",
    "**_NOTE:_** Sending more than 10 requests per second will place a temporary ban on your IP.\n",
    "\n",
    "*These recipe examples were tested in September 2023.*"
   ]
  },
  {
   "attachments": {},
   "cell_type": "markdown",
   "metadata": {},
   "source": [
    "## Setup\n",
    "\n",
    "### User Agent Information\n",
    "\n",
    "The SEC EDGAR API requires you to provide your name and email when sending requests. Simply edit the 'myinfo' dictionary with your personal info."
   ]
  },
  {
   "cell_type": "code",
   "execution_count": 37,
   "metadata": {},
   "outputs": [],
   "source": [
    "myinfo = {\"User-agent\": \"FirstName LastName, email\"}"
   ]
  },
  {
   "cell_type": "markdown",
   "metadata": {},
   "source": [
    "Alternatively, you can save the above data in a separate python file and import it:"
   ]
  },
  {
   "cell_type": "code",
   "execution_count": 38,
   "metadata": {},
   "outputs": [],
   "source": [
    "from agent_info import myinfo"
   ]
  },
  {
   "cell_type": "markdown",
   "metadata": {},
   "source": [
    "### SEC EDGAR Data Installation\n",
    "\n",
    "In addition to the publicly available API, SEC EDGAR data can also be access via a bulk data download, which is compiled nightly. This approach is advantageous when working with large datasets, since it does not require making many individual API calls. However, it requires about 15 GB of storage to install and is more difficult to keep up to date.\n",
    "\n",
    "To access this data, download the companyfacts.zip file under the 'Bulk data' heading at the bottom of [this page](https://www.sec.gov/edgar/sec-api-documentation)."
   ]
  },
  {
   "cell_type": "markdown",
   "metadata": {},
   "source": [
    "### Import Libraries\n",
    "\n",
    "This tutorial uses the following libraries:"
   ]
  },
  {
   "cell_type": "code",
   "execution_count": null,
   "metadata": {},
   "outputs": [],
   "source": [
    "import requests                     # manages API requests\n",
    "from pprint import pprint           # creates more readable outputs\n",
    "import matplotlib.pyplot as plt     # creates visualization of data\n",
    "from math import log10              # used to perform the log operation\n",
    "import csv                          # used for writing to a .csv file"
   ]
  },
  {
   "cell_type": "markdown",
   "metadata": {},
   "source": [
    "## 1. Obtaining Marketing Expenses for Amazon\n",
    "\n",
    "To access the data from an individual company, we must first obtain its Central Index Key (CIK) value. These values can be obtained by searching for a company [here](https://www.sec.gov/edgar/search/#). Alternatively, you can find a list of all companies and their CIK value [here](https://www.sec.gov/Archives/edgar/cik-lookup-data.txt).\n",
    "\n",
    "For this section of the guide, we'll use Amazon (AMZN) as an example, which has a CIK of 0001018724.\n",
    "\n",
    "With this CIK, we can now build a URL for the /companyfacts/ endpoint:"
   ]
  },
  {
   "cell_type": "code",
   "execution_count": 40,
   "metadata": {},
   "outputs": [],
   "source": [
    "cik = '0001018724'\n",
    "url = f'https://data.sec.gov/api/xbrl/companyfacts/CIK{cik}.json'\n",
    "\n",
    "data_retrieved = requests.get(url, headers=myinfo).json()"
   ]
  },
  {
   "attachments": {},
   "cell_type": "markdown",
   "metadata": {},
   "source": [
    "Now, we can look at all of the data included in that API request:"
   ]
  },
  {
   "cell_type": "code",
   "execution_count": 41,
   "metadata": {},
   "outputs": [],
   "source": [
    "# output too large to display, uncomment the following line to view\n",
    "# data_retrieved"
   ]
  },
  {
   "attachments": {},
   "cell_type": "markdown",
   "metadata": {},
   "source": [
    "We can also access individual pieces of information with our retrieved data:\n",
    "\n",
    "**_NOTE:_** It may be useful to open the [url](https://data.sec.gov/api/xbrl/companyfacts/CIK0001018724.json) we created in Firefox, which has a built in JSON viewer that other browsers lack."
   ]
  },
  {
   "cell_type": "code",
   "execution_count": 42,
   "metadata": {},
   "outputs": [
    {
     "data": {
      "text/plain": [
       "'AMAZON.COM, INC.'"
      ]
     },
     "execution_count": 42,
     "metadata": {},
     "output_type": "execute_result"
    }
   ],
   "source": [
    "company_name = data_retrieved['entityName']\n",
    "company_name"
   ]
  },
  {
   "cell_type": "markdown",
   "metadata": {},
   "source": [
    "For an example, let's look at the yearly marketing expenses of Amazon, which is defined as \"Expenditures for planning and executing the conception, pricing, promotion, and distribution of ideas, goods, and services. Costs of public relations and corporate promotions are typically considered to be marketing costs.\""
   ]
  },
  {
   "cell_type": "code",
   "execution_count": 43,
   "metadata": {},
   "outputs": [
    {
     "name": "stdout",
     "output_type": "stream",
     "text": [
      "2007: $344000000\n",
      "2008: $482000000\n",
      "2009: $680000000\n",
      "2010: $1029000000\n",
      "2011: $1630000000\n",
      "2012: $2408000000\n",
      "2013: $3133000000\n",
      "2014: $4332000000\n",
      "2015: $5254000000\n",
      "2016: $7233000000\n",
      "2017: $10069000000\n",
      "2018: $13814000000\n",
      "2019: $18878000000\n",
      "2020: $22008000000\n",
      "2021: $32551000000\n",
      "2022: $42238000000\n",
      "Total marketing expense of AMAZON.COM, INC. from 2007 to 2022 is $166083000000\n"
     ]
    }
   ],
   "source": [
    "# this navigates the JSON data structure to get us to the marketing expenses data\n",
    "marketing_expenses = data_retrieved['facts']['us-gaap']['MarketingExpense']['units']['USD']\n",
    "\n",
    "total_marketing_expenses = 0    # sum of marketing expenses in period\n",
    "yearly_marketing_expenses = []  # list of tuples with (year, value) pairings\n",
    "\n",
    "# iterate through list of marketing expense data in filings\n",
    "for expense in marketing_expenses:\n",
    "    \n",
    "    # checks if the filing period in the entry is a filing year,\n",
    "    # so that we don't double-count by also adding data from quarterly filings\n",
    "    if expense['fp'] == 'FY':\n",
    "        \n",
    "        # checks if the filing year is already in yearly_marketing_expenses, so as to not duplicate the data\n",
    "        if not any(expense['start'][:4] in i for i in yearly_marketing_expenses):\n",
    "            \n",
    "            total_marketing_expenses += expense['val']\n",
    "            yearly_marketing_expenses.append((expense['start'][:4], expense['val']))\n",
    "        \n",
    "# display results\n",
    "for expense in yearly_marketing_expenses:\n",
    "    print(f'{expense[0]}: ${expense[1]}')\n",
    "print(f'Total marketing expense of {company_name} from {yearly_marketing_expenses[0][0]} to {yearly_marketing_expenses[-1][0]} is ${total_marketing_expenses}')"
   ]
  },
  {
   "cell_type": "markdown",
   "metadata": {},
   "source": [
    "The following code block scales the data so that the y-axis of our graph contains smaller numbers that can be more easily understood, rather than large values in the billions."
   ]
  },
  {
   "cell_type": "code",
   "execution_count": 25,
   "metadata": {},
   "outputs": [],
   "source": [
    "# breaks up the list of tuples forming 'yearly_expenses' into two separate lists\n",
    "years, expenses = zip(*yearly_marketing_expenses)\n",
    "\n",
    "# create scale for bar graph\n",
    "min = sorted(list(expenses), key=float)[0]\n",
    "exponent = len(str(int(min)))\n",
    "\n",
    "# changes the data to fit the scale\n",
    "expenses = [x/(10**exponent) for x in expenses]"
   ]
  },
  {
   "cell_type": "markdown",
   "metadata": {},
   "source": [
    "Finally, we can plot the data:"
   ]
  },
  {
   "cell_type": "code",
   "execution_count": 26,
   "metadata": {},
   "outputs": [
    {
     "data": {
      "image/png": "[encoded data removed]",
      "text/plain": [
       "<Figure size 1300x800 with 1 Axes>"
      ]
     },
     "metadata": {},
     "output_type": "display_data"
    }
   ],
   "source": [
    "# create graphing window with size 13x8\n",
    "fig, ax = plt.subplots(figsize=(13,8))\n",
    "\n",
    "# format the bar graph\n",
    "ax.spines['top'].set_visible(False)\n",
    "ax.spines['right'].set_visible(False)\n",
    "ax.spines['left'].set_visible(False)\n",
    "ax.spines['bottom'].set_color('#CCCCCC')\n",
    "ax.tick_params(bottom=False, left=False)\n",
    "ax.set_axisbelow(True)\n",
    "ax.yaxis.grid(True, color='#EEEEEE')\n",
    "ax.xaxis.grid(False)\n",
    "\n",
    "# plot the graph and add titles\n",
    "plt.bar(years, expenses, color='#4d4d4d')\n",
    "plt.title(company_name + \" Marketing Expenses\")\n",
    "plt.xlabel(\"Fiscal Year\")\n",
    "plt.ylabel(f\"Marketing Expenses (* 10^-{exponent})\")\n",
    "\n",
    "# this saves the graph as a .png image; comment the line out if you do not wish for this\n",
    "plt.savefig(f'{company_name} marketing expenses.png')\n",
    "\n",
    "# this shows the graph in the Jupyter Notebook\n",
    "plt.show()"
   ]
  },
  {
   "cell_type": "markdown",
   "metadata": {},
   "source": [
    "Note that the scaling of the data allowed us to present the data in terms of billions of dollars."
   ]
  },
  {
   "cell_type": "markdown",
   "metadata": {},
   "source": [
    "## 2. Number of Shares Outstanding for Tesla\n",
    "\n",
    "For another use case, let's look at the number of shares outstanding for Tesla, which the SEC defines as \"Number of shares of common stock outstanding. Common stock represent the ownership interest in a corporation.\""
   ]
  },
  {
   "cell_type": "code",
   "execution_count": 27,
   "metadata": {},
   "outputs": [],
   "source": [
    "# cik value for Tesla\n",
    "cik = '0001318605'\n",
    "url = f'https://data.sec.gov/api/xbrl/companyfacts/CIK{cik}.json'\n",
    "\n",
    "data_retrieved = requests.get(url, headers=myinfo).json()\n",
    "\n",
    "company_name = data_retrieved['entityName']"
   ]
  },
  {
   "cell_type": "markdown",
   "metadata": {},
   "source": [
    "We can find this data using a similar process as we used in part 1:"
   ]
  },
  {
   "cell_type": "code",
   "execution_count": 28,
   "metadata": {},
   "outputs": [
    {
     "data": {
      "text/plain": [
       "[(2011, 94908370),\n",
       " (2012, 104530305),\n",
       " (2013, 114214274),\n",
       " (2014, 123090990),\n",
       " (2015, 125688000),\n",
       " (2016, 131425000),\n",
       " (2017, 161561000),\n",
       " (2018, 168797000),\n",
       " (2019, 173000000),\n",
       " (2020, 905000000),\n",
       " (2021, 960000000),\n",
       " (2022, 3100000000)]"
      ]
     },
     "execution_count": 28,
     "metadata": {},
     "output_type": "execute_result"
    }
   ],
   "source": [
    "# this navigates the JSON data structure to get us to the total sharess data\n",
    "shares_outstanding = data_retrieved['facts']['us-gaap']['CommonStockSharesOutstanding']['units']['shares']\n",
    "\n",
    "yearly_shares = []      # list of tuples with (year, value) pairings\n",
    "\n",
    "# iterate through list of marketing expense data in filings\n",
    "for entry in shares_outstanding:\n",
    "    \n",
    "    # checks if the filing period in the entry is a filing year,\n",
    "    # so that we don't double-count by adding data from quarterly filings\n",
    "    if entry['fp'] == 'FY':\n",
    "        \n",
    "        # checks if the filing year is already in yearly_shares, so as to not duplicate the data\n",
    "        if not any(entry['fy'] in i for i in yearly_shares):\n",
    "            \n",
    "            yearly_shares.append((entry['fy'], entry['val']))\n",
    "\n",
    "# display results\n",
    "yearly_shares"
   ]
  },
  {
   "cell_type": "markdown",
   "metadata": {},
   "source": [
    "## 3. Comparing Total Assets of All Filing Companies\n",
    "\n",
    "The SEC EDGAR API also has an endpoint called /frames/ that returns the data from all companies for a given category and filing period. In this example, we'll look at the total assets of all companies reported for Q1 2023."
   ]
  },
  {
   "cell_type": "code",
   "execution_count": 29,
   "metadata": {},
   "outputs": [
    {
     "data": {
      "text/plain": [
       "6183"
      ]
     },
     "execution_count": 29,
     "metadata": {},
     "output_type": "execute_result"
    }
   ],
   "source": [
    "# categories can be found in the JSON data obtained from the /companyfacts/ endpoint\n",
    "# note that you also must include the units name for some categories (in this case, USD)\n",
    "category = 'Assets/USD'\n",
    "year = '2023'\n",
    "quarter = '1'\n",
    "url = f'https://data.sec.gov/api/xbrl/frames/us-gaap/{category}/CY{year}Q{quarter}I.json'\n",
    "\n",
    "data_retrieved = requests.get(url, headers=myinfo).json()\n",
    "\n",
    "# display number of results\n",
    "len(data_retrieved['data'])"
   ]
  },
  {
   "cell_type": "markdown",
   "metadata": {},
   "source": [
    "Now, let's retrieve the company names and asset values of all of the companies. Below, we store this data as a list of tuples in the total_assets list and sort it:"
   ]
  },
  {
   "cell_type": "code",
   "execution_count": 30,
   "metadata": {},
   "outputs": [
    {
     "data": {
      "text/plain": [
       "[('FEDERAL NATIONAL MORTGAGE ASSOCIATION FANNIE MAE', 4317460000000),\n",
       " ('JPMorgan Chase & Co', 3744305000000),\n",
       " ('Federal Home Loan Mortgage Corporation', 3224980000000),\n",
       " ('Bank of America Corporation', 3194657000000),\n",
       " ('Citigroup\\xa0Inc', 2455113000000),\n",
       " ('WELLS FARGO & COMPANY/MN', 1886400000000),\n",
       " ('The Goldman Sachs Group, Inc.', 1538349000000),\n",
       " ('MORGAN STANLEY', 1199904000000),\n",
       " ('BERKSHIRE HATHAWAY INC', 997072000000),\n",
       " ('Prudential Financial, Inc.', 709269000000),\n",
       " ('US BANCORP \\\\DE\\\\', 682377000000),\n",
       " ('MetLife, Inc.', 674266000000),\n",
       " ('TRUIST FINANCIAL CORPORATION', 574354000000),\n",
       " ('PNC Financial Services Group, Inc.', 561777000000),\n",
       " ('American International Group, Inc.', 536627000000),\n",
       " ('SCHWAB CHARLES CORP', 535552000000),\n",
       " ('CAPITAL\\xa0ONE\\xa0FINANCIAL\\xa0CORP', 471660000000),\n",
       " ('AMAZON.COM, INC.', 464378000000),\n",
       " ('THE BANK OF NEW YORK MELLON CORPORATION', 425112000000),\n",
       " ('AT&T INC.', 400873000000)]"
      ]
     },
     "execution_count": 30,
     "metadata": {},
     "output_type": "execute_result"
    }
   ],
   "source": [
    "# use list comprehension to build list of tuples with (companyName, value) pairings\n",
    "total_assets = [(entry['entityName'], int(entry['val'])) for entry in data_retrieved['data']]\n",
    "\n",
    "# sort list of tuples by value of second part of tuple, and reverse to put highest values on top\n",
    "total_assets = sorted(total_assets, key = lambda x: x[1])\n",
    "total_assets.reverse()\n",
    "\n",
    "# display top 20 results\n",
    "total_assets[:20]"
   ]
  },
  {
   "cell_type": "markdown",
   "metadata": {},
   "source": [
    "We can export the full dataset to a comma separated values (.csv) file. This will allow us to view an manipulate the data in a program such as Microsoft Excel."
   ]
  },
  {
   "cell_type": "code",
   "execution_count": 31,
   "metadata": {},
   "outputs": [],
   "source": [
    "with open(f'companies_by_total_assets_q{quarter}_{year}.csv', 'w', newline='') as f:\n",
    "    csv_out = csv.writer(f)\n",
    "    csv_out.writerows(total_assets)"
   ]
  },
  {
   "cell_type": "markdown",
   "metadata": {},
   "source": [
    "### Graphing the Total Assets of All Companies\n",
    "\n",
    "Since the total assets of all companies is a dataset that ranges from values as low as zero to those as large as 4.3 trillion, these values must be graphed logarithmically. Below, we take the log<sub>10</sub> of each of the total asset values so that we can group the total assets in groups of ones (10<sup>0</sup>), tens (10<sup>1</sup>), hundreds (10<sup>2</sup>), thousands (10<sup>3</sup>), and so on. Then, we'll use matplotlib to graph these values with a histogram.\n",
    "\n",
    "**_Note:_** Since 0 is outside the domain of the log function, it must be handled separately in order to avoid throwing an error. In this case, we group these values into the ones (10<sup>0</sup>) group, although this is not actually true."
   ]
  },
  {
   "cell_type": "code",
   "execution_count": 32,
   "metadata": {},
   "outputs": [],
   "source": [
    "weighted_vals = []  # list of log10(total_assets) for each company\n",
    "\n",
    "for company in total_assets:\n",
    "    if company[1] == 0:\n",
    "        weighted_vals.append(0)\n",
    "    else:\n",
    "        weighted_vals.append(log10(company[1]))\n",
    "\n",
    "n_bins = int(max(weighted_vals))+1  # number of bins to put data into for the histogram\n",
    "bins = range(n_bins+1)              # bin titles"
   ]
  },
  {
   "cell_type": "code",
   "execution_count": 33,
   "metadata": {},
   "outputs": [
    {
     "data": {
      "image/png": "[encoded data removed]",
      "text/plain": [
       "<Figure size 1300x800 with 1 Axes>"
      ]
     },
     "metadata": {},
     "output_type": "display_data"
    }
   ],
   "source": [
    "# create graphing window with size 13x8\n",
    "fig, ax = plt.subplots(figsize=(13,8))\n",
    "\n",
    "# format the bar graph\n",
    "ax.spines['top'].set_visible(False)\n",
    "ax.spines['right'].set_visible(False)\n",
    "ax.spines['left'].set_visible(False)\n",
    "ax.spines['bottom'].set_color('#CCCCCC')\n",
    "ax.tick_params(bottom=False, left=False)\n",
    "ax.set_axisbelow(True)\n",
    "ax.yaxis.grid(True, color='#DDDDDD')\n",
    "ax.xaxis.grid(False)\n",
    "ax.set_xticks(bins)\n",
    "\n",
    "# plot the graph and add titles\n",
    "plt.hist(weighted_vals, color='#4d4d4d', bins=bins)\n",
    "plt.title(f\"Companies by Total Assets Reported for Q{quarter} {year} (Logarithmic)\")\n",
    "plt.xlabel(\"Assets (in 10^n USD)\")\n",
    "plt.ylabel(f\"Number of Companies\")\n",
    "\n",
    "# this saves the graph as a .png image; comment the line out if you do not wish for this\n",
    "plt.savefig(f'companies_by_total_assets_q{quarter}_{year}.png')\n",
    "\n",
    "# this shows the graph in the Jupyter Notebook\n",
    "plt.show()"
   ]
  },
  {
   "cell_type": "markdown",
   "metadata": {},
   "source": [
    "Note that for the above data, the 0-1 bucket indicates that a company reported between 0 and 9 USD in assets, while the 12-13 bucket indicates that a company reported between 10<sup>12</sup> and 10<sup>13</sup> (or one trillion and ten trillion) USD in assets."
   ]
  },
  {
   "cell_type": "markdown",
   "metadata": {},
   "source": [
    "## 4. Finding the Top 500 Companies by Revenue\n",
    "\n",
    "The Fortune 500 is a ranking of the top 500 companies by revenue, according to the data filed in their 10-K or a comparable form. In this example, we'll look at only the revenues reported in the 10-K forms to construct a similar ranking of U.S. companies by revenue."
   ]
  },
  {
   "cell_type": "code",
   "execution_count": 34,
   "metadata": {},
   "outputs": [
    {
     "data": {
      "text/plain": [
       "2405"
      ]
     },
     "execution_count": 34,
     "metadata": {},
     "output_type": "execute_result"
    }
   ],
   "source": [
    "category = 'Revenues/USD'\n",
    "year = '2022'\n",
    "url = f'https://data.sec.gov/api/xbrl/frames/us-gaap/{category}/CY{year}.json'\n",
    "\n",
    "data_retrieved = requests.get(url, headers=myinfo).json()\n",
    "\n",
    "# display number of results\n",
    "len(data_retrieved['data'])"
   ]
  },
  {
   "cell_type": "markdown",
   "metadata": {},
   "source": [
    "Now, we can sort this data by value and keep the top 500 results:"
   ]
  },
  {
   "cell_type": "code",
   "execution_count": 35,
   "metadata": {},
   "outputs": [
    {
     "data": {
      "text/plain": [
       "[('WALMART INC.', 611289000000),\n",
       " ('Exxon Mobil Corporation', 413680000000),\n",
       " ('UnitedHealth Group Incorporated', 324162000000),\n",
       " ('CVS HEALTH CORP', 322467000000),\n",
       " ('BERKSHIRE HATHAWAY INC', 302089000000),\n",
       " ('Chevron Corp', 246252000000),\n",
       " ('AMERISOURCEBERGEN CORP', 238587006000),\n",
       " ('COSTCO WHOLESALE CORP /NEW', 226954000000),\n",
       " ('Cardinal Health, Inc.', 181364000000),\n",
       " ('The Cigna Group', 180516000000)]"
      ]
     },
     "execution_count": 35,
     "metadata": {},
     "output_type": "execute_result"
    }
   ],
   "source": [
    "# list of tuples with ('company name', revenue) pairings assembled using list comprehension\n",
    "total_revenues = [(entry['entityName'], entry['val']) for entry in data_retrieved['data']]\n",
    "\n",
    "# sort total_revenues by revenues, reverse to put the greatest values on top, and keep top 500 results\n",
    "total_revenues = sorted(total_revenues, key = lambda x: x[1])\n",
    "total_revenues.reverse()\n",
    "total_revenues = total_revenues[:500]\n",
    "\n",
    "# display top 10 results\n",
    "total_revenues[:10]"
   ]
  },
  {
   "cell_type": "markdown",
   "metadata": {},
   "source": [
    "Finally, we can export this data as a .csv file:"
   ]
  },
  {
   "cell_type": "code",
   "execution_count": 36,
   "metadata": {},
   "outputs": [],
   "source": [
    "with open(f'top_500_companies_by_revenue_fy{year}.csv', 'w', newline='') as f:\n",
    "    csv_out = csv.writer(f)\n",
    "    csv_out.writerows(total_revenues)"
   ]
  }
 ],
 "metadata": {
  "kernelspec": {
   "display_name": "Python 3 (ipykernel)",
   "language": "python",
   "name": "python3"
  },
  "language_info": {
   "codemirror_mode": {
    "name": "ipython",
    "version": 3
   },
   "file_extension": ".py",
   "mimetype": "text/x-python",
   "name": "python",
   "nbconvert_exporter": "python",
   "pygments_lexer": "ipython3",
   "version": "3.11.0"
  },
  "vscode": {
   "interpreter": {
    "hash": "c52b840070689c4b907dd1334bdb4b85c82464f1e5b364052a5c5dee61f27789"
   }
  }
 },
 "nbformat": 4,
 "nbformat_minor": 4
}
