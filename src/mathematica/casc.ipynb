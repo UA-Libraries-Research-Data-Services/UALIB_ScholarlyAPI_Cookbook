{
  "cells": [
    {
      "cell_type": "markdown",
      "id": "wf6HShNd9brK",
      "metadata": {
        "id": "wf6HShNd9brK"
      },
      "source": [
        "# CAS Common Chemistry API in Mathematica"
      ]
    },
    {
      "cell_type": "markdown",
      "id": "712ee4bc-c31e-4956-8057-f2b1b6e4c1f6",
      "metadata": {
        "id": "712ee4bc-c31e-4956-8057-f2b1b6e4c1f6"
      },
      "source": [
        "by Vishank Patel\n",
        "\n",
        "These recipe examples were tested on March 31, 2022 using Mathematica 12.3.\n",
        "\n",
        "**CAS Common Chemistry API Documentation (requires registration):** https://www.cas.org/services/commonchemistry-api\n",
        "\n",
        "**Attribution:** This tutorial uses the [CAS Common Chemistry](https://commonchemistry.cas.org/) API. Example data shown is licensed under the [CC BY-NC 4.0 license](https://creativecommons.org/licenses/by-nc/4.0/).\n"
      ]
    },
    {
      "cell_type": "markdown",
      "id": "2a39d1f2-48bb-4574-96ac-0fbc9ada4476",
      "metadata": {
        "id": "2a39d1f2-48bb-4574-96ac-0fbc9ada4476",
        "jp-MarkdownHeadingCollapsed": true,
        "tags": []
      },
      "source": [
        "## 1. Common Chemistry Record Detail Retrieval"
      ]
    },
    {
      "cell_type": "markdown",
      "id": "3469511c-5183-45aa-a5fc-f558c4f1fb09",
      "metadata": {
        "id": "3469511c-5183-45aa-a5fc-f558c4f1fb09"
      },
      "source": [
        "Information about substances in CAS Common Chemistry can be retrieved using the `/detail` API and a CAS RN identifier:"
      ]
    },
    {
      "cell_type": "markdown",
      "id": "fc20a572-92d1-46d5-97c3-70b434775b7d",
      "metadata": {
        "id": "fc20a572-92d1-46d5-97c3-70b434775b7d"
      },
      "source": [
        "### Setup API Parameters"
      ]
    },
    {
      "cell_type": "code",
      "execution_count": null,
      "id": "eef4f3ab-5f0a-46d8-b5e5-39e983d207a4",
      "metadata": {
        "id": "eef4f3ab-5f0a-46d8-b5e5-39e983d207a4",
        "vscode": {
          "languageId": "wolfram language"
        }
      },
      "outputs": [],
      "source": [
        "detailBaseURL = \"https://commonchemistry.cas.org/api/detail?\";\n",
        "casrn1 = \"10094-36-7\" ; (*ethyl cyclohexanepropionate*)"
      ]
    },
    {
      "cell_type": "markdown",
      "id": "942a2c33-785e-4b16-901f-6c2810be842b",
      "metadata": {
        "id": "942a2c33-785e-4b16-901f-6c2810be842b",
        "tags": []
      },
      "source": [
        "### Request data from CAS Common Chemistry Detail API"
      ]
    },
    {
      "cell_type": "code",
      "execution_count": null,
      "id": "1f08f081-d0ef-478e-8ce6-4f65b933211e",
      "metadata": {
        "id": "1f08f081-d0ef-478e-8ce6-4f65b933211e",
        "vscode": {
          "languageId": "wolfram language"
        }
      },
      "outputs": [],
      "source": [
        "casrn1Data = Import[detailBaseURL <> \"cas_rn=\" <> casrn1, \"RawJSON\"];\n",
        "casrn1Data"
      ]
    },
    {
      "cell_type": "markdown",
      "id": "UAAks9tl_wuS",
      "metadata": {
        "id": "UAAks9tl_wuS"
      },
      "source": [
        "*Output not shown*"
      ]
    },
    {
      "cell_type": "code",
      "execution_count": null,
      "id": "7ee1f0a4-4125-4e70-9081-e0fe6d502f39",
      "metadata": {
        "id": "7ee1f0a4-4125-4e70-9081-e0fe6d502f39",
        "outputId": "3ca8cf82-7513-4a3a-822a-cf21a2f3b1bf",
        "tags": [
          "output_scroll"
        ],
        "vscode": {
          "languageId": "wolfram language"
        }
      },
      "outputs": [
        {
          "data": {
            "text/html": [
              "<div><pre style=\"&#102;&#111;&#110;&#116;&#45;&#102;&#97;&#109;&#105;&#108;&#121;&#58;&#32;&#34;&#67;&#111;&#117;&#114;&#105;&#101;&#114;&#32;&#78;&#101;&#119;&#34;&#44;&#67;&#111;&#117;&#114;&#105;&#101;&#114;&#44;&#109;&#111;&#110;&#111;&#115;&#112;&#97;&#99;&#101;&#59;\">&#60;&#124;&#117;&#114;&#105;&#32;&#45;&#62;&#32;&#115;&#117;&#98;&#115;&#116;&#97;&#110;&#99;&#101;&#47;&#112;&#116;&#47;&#49;&#48;&#48;&#57;&#52;&#51;&#54;&#55;&#44;&#32;&#114;&#110;&#32;&#45;&#62;&#32;&#49;&#48;&#48;&#57;&#52;&#45;&#51;&#54;&#45;&#55;&#44;&#32;&#110;&#97;&#109;&#101;&#32;&#45;&#62;&#32;&#69;&#116;&#104;&#121;&#108;&#32;&#99;&#121;&#99;&#108;&#111;&#104;&#101;&#120;&#97;&#110;&#101;&#112;&#114;&#111;&#112;&#105;&#111;&#110;&#97;&#116;&#101;&#44;&#32;&#10;&#32;&#10;&#62;&#32;&#32;&#32;&#105;&#109;&#97;&#103;&#101;&#32;&#45;&#62;&#32;&#60;&#115;&#118;&#103;&#32;&#119;&#105;&#100;&#116;&#104;&#61;&#34;&#50;&#50;&#56;&#46;&#54;&#34;&#32;&#118;&#105;&#101;&#119;&#66;&#111;&#120;&#61;&#34;&#48;&#32;&#48;&#32;&#55;&#54;&#50;&#48;&#32;&#51;&#55;&#49;&#54;&#34;&#32;&#116;&#101;&#120;&#116;&#45;&#114;&#101;&#110;&#100;&#101;&#114;&#105;&#110;&#103;&#61;&#34;&#97;&#117;&#116;&#111;&#34;&#92;&#10;&#32;&#10;&#62;&#32;&#32;&#32;&#32;&#32;&#115;&#116;&#114;&#111;&#107;&#101;&#45;&#119;&#105;&#100;&#116;&#104;&#61;&#34;&#49;&#34;&#32;&#115;&#116;&#114;&#111;&#107;&#101;&#45;&#111;&#112;&#97;&#99;&#105;&#116;&#121;&#61;&#34;&#49;&#34;&#32;&#115;&#116;&#114;&#111;&#107;&#101;&#45;&#109;&#105;&#116;&#101;&#114;&#108;&#105;&#109;&#105;&#116;&#61;&#34;&#49;&#48;&#34;&#32;&#115;&#116;&#114;&#111;&#107;&#101;&#45;&#108;&#105;&#110;&#101;&#106;&#111;&#105;&#110;&#61;&#34;&#109;&#105;&#116;&#101;&#114;&#34;&#92;&#10;&#32;&#10;&#62;&#32;&#32;&#32;&#32;&#32;&#115;&#116;&#114;&#111;&#107;&#101;&#45;&#108;&#105;&#110;&#101;&#99;&#97;&#112;&#61;&#34;&#115;&#113;&#117;&#97;&#114;&#101;&#34;&#32;&#115;&#116;&#114;&#111;&#107;&#101;&#45;&#100;&#97;&#115;&#104;&#111;&#102;&#102;&#115;&#101;&#116;&#61;&#34;&#48;&#34;&#32;&#115;&#116;&#114;&#111;&#107;&#101;&#45;&#100;&#97;&#115;&#104;&#97;&#114;&#114;&#97;&#121;&#61;&#34;&#110;&#111;&#110;&#101;&#34;&#92;&#10;&#32;&#10;&#62;&#32;&#32;&#32;&#32;&#32;&#115;&#116;&#114;&#111;&#107;&#101;&#61;&#34;&#98;&#108;&#97;&#99;&#107;&#34;&#32;&#115;&#104;&#97;&#112;&#101;&#45;&#114;&#101;&#110;&#100;&#101;&#114;&#105;&#110;&#103;&#61;&#34;&#97;&#117;&#116;&#111;&#34;&#32;&#105;&#109;&#97;&#103;&#101;&#45;&#114;&#101;&#110;&#100;&#101;&#114;&#105;&#110;&#103;&#61;&#34;&#97;&#117;&#116;&#111;&#34;&#32;&#104;&#101;&#105;&#103;&#104;&#116;&#61;&#34;&#49;&#49;&#49;&#46;&#52;&#56;&#34;&#92;&#10;&#32;&#10;&#62;&#32;&#32;&#32;&#32;&#32;&#102;&#111;&#110;&#116;&#45;&#119;&#101;&#105;&#103;&#104;&#116;&#61;&#34;&#110;&#111;&#114;&#109;&#97;&#108;&#34;&#32;&#102;&#111;&#110;&#116;&#45;&#115;&#116;&#121;&#108;&#101;&#61;&#34;&#110;&#111;&#114;&#109;&#97;&#108;&#34;&#32;&#102;&#111;&#110;&#116;&#45;&#115;&#105;&#122;&#101;&#61;&#34;&#49;&#50;&#34;&#32;&#102;&#111;&#110;&#116;&#45;&#102;&#97;&#109;&#105;&#108;&#121;&#61;&#34;&#39;&#68;&#105;&#97;&#108;&#111;&#103;&#39;&#34;&#92;&#10;&#32;&#10;&#62;&#32;&#32;&#32;&#32;&#32;&#102;&#105;&#108;&#108;&#45;&#111;&#112;&#97;&#99;&#105;&#116;&#121;&#61;&#34;&#49;&#34;&#32;&#102;&#105;&#108;&#108;&#61;&#34;&#98;&#108;&#97;&#99;&#107;&#34;&#32;&#99;&#111;&#108;&#111;&#114;&#45;&#114;&#101;&#110;&#100;&#101;&#114;&#105;&#110;&#103;&#61;&#34;&#97;&#117;&#116;&#111;&#34;&#32;&#99;&#111;&#108;&#111;&#114;&#45;&#105;&#110;&#116;&#101;&#114;&#112;&#111;&#108;&#97;&#116;&#105;&#111;&#110;&#61;&#34;&#97;&#117;&#116;&#111;&#34;&#92;&#10;&#32;&#10;&#62;&#32;&#32;&#32;&#32;&#32;&#120;&#109;&#108;&#110;&#115;&#61;&#34;&#104;&#116;&#116;&#112;&#58;&#47;&#47;&#119;&#119;&#119;&#46;&#119;&#51;&#46;&#111;&#114;&#103;&#47;&#50;&#48;&#48;&#48;&#47;&#115;&#118;&#103;&#34;&#62;&#60;&#103;&#62;&#60;&#103;&#32;&#115;&#116;&#114;&#111;&#107;&#101;&#61;&#34;&#119;&#104;&#105;&#116;&#101;&#34;&#32;&#102;&#105;&#108;&#108;&#61;&#34;&#119;&#104;&#105;&#116;&#101;&#34;&#62;&#60;&#114;&#101;&#99;&#116;&#32;&#121;&#61;&#34;&#48;&#34;&#92;&#10;&#32;&#10;&#62;&#32;&#32;&#32;&#32;&#32;&#120;&#61;&#34;&#48;&#34;&#32;&#119;&#105;&#100;&#116;&#104;&#61;&#34;&#55;&#54;&#50;&#48;&#34;&#32;&#115;&#116;&#114;&#111;&#107;&#101;&#61;&#34;&#110;&#111;&#110;&#101;&#34;&#32;&#104;&#101;&#105;&#103;&#104;&#116;&#61;&#34;&#51;&#55;&#49;&#54;&#34;&#47;&#62;&#60;&#47;&#103;&#62;&#60;&#103;&#92;&#10;&#32;&#10;&#62;&#32;&#32;&#32;&#32;&#32;&#116;&#114;&#97;&#110;&#115;&#102;&#111;&#114;&#109;&#61;&#34;&#116;&#114;&#97;&#110;&#115;&#108;&#97;&#116;&#101;&#40;&#51;&#50;&#56;&#54;&#54;&#44;&#51;&#50;&#55;&#53;&#56;&#41;&#34;&#32;&#116;&#101;&#120;&#116;&#45;&#114;&#101;&#110;&#100;&#101;&#114;&#105;&#110;&#103;&#61;&#34;&#103;&#101;&#111;&#109;&#101;&#116;&#114;&#105;&#99;&#80;&#114;&#101;&#99;&#105;&#115;&#105;&#111;&#110;&#34;&#92;&#10;&#32;&#10;&#62;&#32;&#32;&#32;&#32;&#32;&#115;&#116;&#114;&#111;&#107;&#101;&#45;&#119;&#105;&#100;&#116;&#104;&#61;&#34;&#52;&#52;&#34;&#32;&#115;&#116;&#114;&#111;&#107;&#101;&#45;&#108;&#105;&#110;&#101;&#106;&#111;&#105;&#110;&#61;&#34;&#114;&#111;&#117;&#110;&#100;&#34;&#32;&#115;&#116;&#114;&#111;&#107;&#101;&#45;&#108;&#105;&#110;&#101;&#99;&#97;&#112;&#61;&#34;&#114;&#111;&#117;&#110;&#100;&#34;&#62;&#60;&#108;&#105;&#110;&#101;&#32;&#121;&#50;&#61;&#34;&#45;&#51;&#48;&#56;&#53;&#48;&#34;&#92;&#10;&#32;&#10;&#62;&#32;&#32;&#32;&#32;&#32;&#121;&#49;&#61;&#34;&#45;&#51;&#49;&#52;&#49;&#57;&#34;&#32;&#120;&#50;&#61;&#34;&#45;&#51;&#48;&#55;&#57;&#50;&#34;&#32;&#120;&#49;&#61;&#34;&#45;&#51;&#49;&#55;&#55;&#55;&#34;&#32;&#102;&#105;&#108;&#108;&#61;&#34;&#110;&#111;&#110;&#101;&#34;&#47;&#62;&#60;&#108;&#105;&#110;&#101;&#32;&#121;&#50;&#61;&#34;&#45;&#50;&#57;&#55;&#49;&#53;&#34;&#32;&#121;&#49;&#61;&#34;&#45;&#51;&#48;&#56;&#53;&#48;&#34;&#92;&#10;&#32;&#10;&#62;&#32;&#32;&#32;&#32;&#32;&#120;&#50;&#61;&#34;&#45;&#51;&#48;&#55;&#57;&#50;&#34;&#32;&#120;&#49;&#61;&#34;&#45;&#51;&#48;&#55;&#57;&#50;&#34;&#32;&#102;&#105;&#108;&#108;&#61;&#34;&#110;&#111;&#110;&#101;&#34;&#47;&#62;&#60;&#108;&#105;&#110;&#101;&#32;&#121;&#50;&#61;&#34;&#45;&#51;&#49;&#52;&#49;&#57;&#34;&#32;&#121;&#49;&#61;&#34;&#45;&#51;&#48;&#56;&#53;&#48;&#34;&#32;&#120;&#50;&#61;&#34;&#45;&#51;&#49;&#55;&#55;&#55;&#34;&#92;&#10;&#32;&#10;&#62;&#32;&#32;&#32;&#32;&#32;&#120;&#49;&#61;&#34;&#45;&#51;&#50;&#55;&#54;&#50;&#34;&#32;&#102;&#105;&#108;&#108;&#61;&#34;&#110;&#111;&#110;&#101;&#34;&#47;&#62;&#60;&#108;&#105;&#110;&#101;&#32;&#121;&#50;&#61;&#34;&#45;&#50;&#57;&#49;&#52;&#54;&#34;&#32;&#121;&#49;&#61;&#34;&#45;&#50;&#57;&#55;&#49;&#53;&#34;&#32;&#120;&#50;&#61;&#34;&#45;&#51;&#49;&#55;&#55;&#55;&#34;&#32;&#120;&#49;&#61;&#34;&#45;&#51;&#48;&#55;&#57;&#50;&#34;&#92;&#10;&#32;&#10;&#62;&#32;&#32;&#32;&#32;&#32;&#102;&#105;&#108;&#108;&#61;&#34;&#110;&#111;&#110;&#101;&#34;&#47;&#62;&#60;&#108;&#105;&#110;&#101;&#32;&#121;&#50;&#61;&#34;&#45;&#51;&#48;&#56;&#53;&#48;&#34;&#32;&#121;&#49;&#61;&#34;&#45;&#50;&#57;&#55;&#49;&#53;&#34;&#32;&#120;&#50;&#61;&#34;&#45;&#51;&#50;&#55;&#54;&#50;&#34;&#32;&#120;&#49;&#61;&#34;&#45;&#51;&#50;&#55;&#54;&#50;&#34;&#92;&#10;&#32;&#10;&#62;&#32;&#32;&#32;&#32;&#32;&#102;&#105;&#108;&#108;&#61;&#34;&#110;&#111;&#110;&#101;&#34;&#47;&#62;&#60;&#108;&#105;&#110;&#101;&#32;&#121;&#50;&#61;&#34;&#45;&#50;&#57;&#55;&#49;&#53;&#34;&#32;&#121;&#49;&#61;&#34;&#45;&#50;&#57;&#49;&#52;&#54;&#34;&#32;&#120;&#50;&#61;&#34;&#45;&#51;&#50;&#55;&#54;&#50;&#34;&#32;&#120;&#49;&#61;&#34;&#45;&#51;&#49;&#55;&#55;&#55;&#34;&#92;&#10;&#32;&#10;&#62;&#32;&#32;&#32;&#32;&#32;&#102;&#105;&#108;&#108;&#61;&#34;&#110;&#111;&#110;&#101;&#34;&#47;&#62;&#60;&#108;&#105;&#110;&#101;&#32;&#121;&#50;&#61;&#34;&#45;&#51;&#49;&#51;&#55;&#54;&#34;&#32;&#121;&#49;&#61;&#34;&#45;&#51;&#48;&#56;&#53;&#48;&#34;&#32;&#120;&#50;&#61;&#34;&#45;&#50;&#57;&#56;&#56;&#53;&#34;&#32;&#120;&#49;&#61;&#34;&#45;&#51;&#48;&#55;&#57;&#50;&#34;&#92;&#10;&#32;&#10;&#62;&#32;&#32;&#32;&#32;&#32;&#102;&#105;&#108;&#108;&#61;&#34;&#110;&#111;&#110;&#101;&#34;&#47;&#62;&#60;&#108;&#105;&#110;&#101;&#32;&#121;&#50;&#61;&#34;&#45;&#51;&#48;&#56;&#53;&#48;&#34;&#32;&#121;&#49;&#61;&#34;&#45;&#51;&#49;&#51;&#55;&#54;&#34;&#32;&#120;&#50;&#61;&#34;&#45;&#50;&#56;&#57;&#55;&#56;&#34;&#32;&#120;&#49;&#61;&#34;&#45;&#50;&#57;&#56;&#56;&#53;&#34;&#92;&#10;&#32;&#10;&#62;&#32;&#32;&#32;&#32;&#32;&#102;&#105;&#108;&#108;&#61;&#34;&#110;&#111;&#110;&#101;&#34;&#47;&#62;&#60;&#108;&#105;&#110;&#101;&#32;&#121;&#50;&#61;&#34;&#45;&#51;&#49;&#51;&#55;&#54;&#34;&#32;&#121;&#49;&#61;&#34;&#45;&#51;&#48;&#56;&#53;&#48;&#34;&#32;&#120;&#50;&#61;&#34;&#45;&#50;&#56;&#48;&#55;&#49;&#34;&#32;&#120;&#49;&#61;&#34;&#45;&#50;&#56;&#57;&#55;&#56;&#34;&#92;&#10;&#32;&#10;&#62;&#32;&#32;&#32;&#32;&#32;&#102;&#105;&#108;&#108;&#61;&#34;&#110;&#111;&#110;&#101;&#34;&#47;&#62;&#60;&#108;&#105;&#110;&#101;&#32;&#121;&#50;&#61;&#34;&#45;&#51;&#48;&#57;&#54;&#48;&#34;&#32;&#121;&#49;&#61;&#34;&#45;&#51;&#49;&#51;&#55;&#54;&#34;&#32;&#120;&#50;&#61;&#34;&#45;&#50;&#55;&#51;&#53;&#50;&#34;&#32;&#120;&#49;&#61;&#34;&#45;&#50;&#56;&#48;&#55;&#49;&#34;&#92;&#10;&#32;&#10;&#62;&#32;&#32;&#32;&#32;&#32;&#102;&#105;&#108;&#108;&#61;&#34;&#110;&#111;&#110;&#101;&#34;&#47;&#62;&#60;&#108;&#105;&#110;&#101;&#32;&#121;&#50;&#61;&#34;&#45;&#51;&#49;&#51;&#55;&#54;&#34;&#32;&#121;&#49;&#61;&#34;&#45;&#51;&#48;&#57;&#54;&#48;&#34;&#32;&#120;&#50;&#61;&#34;&#45;&#50;&#54;&#50;&#53;&#55;&#34;&#32;&#120;&#49;&#61;&#34;&#45;&#50;&#54;&#57;&#55;&#54;&#34;&#92;&#10;&#32;&#10;&#62;&#32;&#32;&#32;&#32;&#32;&#102;&#105;&#108;&#108;&#61;&#34;&#110;&#111;&#110;&#101;&#34;&#47;&#62;&#60;&#108;&#105;&#110;&#101;&#32;&#121;&#50;&#61;&#34;&#45;&#51;&#48;&#56;&#53;&#48;&#34;&#32;&#121;&#49;&#61;&#34;&#45;&#51;&#49;&#51;&#55;&#54;&#34;&#32;&#120;&#50;&#61;&#34;&#45;&#50;&#53;&#51;&#53;&#48;&#34;&#32;&#120;&#49;&#61;&#34;&#45;&#50;&#54;&#50;&#53;&#55;&#34;&#92;&#10;&#32;&#10;&#62;&#32;&#32;&#32;&#32;&#32;&#102;&#105;&#108;&#108;&#61;&#34;&#110;&#111;&#110;&#101;&#34;&#47;&#62;&#60;&#108;&#105;&#110;&#101;&#32;&#121;&#50;&#61;&#34;&#45;&#51;&#50;&#50;&#48;&#50;&#34;&#32;&#121;&#49;&#61;&#34;&#45;&#51;&#49;&#51;&#55;&#54;&#34;&#32;&#120;&#50;&#61;&#34;&#45;&#50;&#56;&#49;&#52;&#48;&#34;&#32;&#120;&#49;&#61;&#34;&#45;&#50;&#56;&#49;&#52;&#48;&#34;&#92;&#10;&#32;&#10;&#62;&#32;&#32;&#32;&#32;&#32;&#102;&#105;&#108;&#108;&#61;&#34;&#110;&#111;&#110;&#101;&#34;&#47;&#62;&#60;&#108;&#105;&#110;&#101;&#32;&#121;&#50;&#61;&#34;&#45;&#51;&#50;&#50;&#48;&#50;&#34;&#32;&#121;&#49;&#61;&#34;&#45;&#51;&#49;&#51;&#55;&#54;&#34;&#32;&#120;&#50;&#61;&#34;&#45;&#50;&#56;&#48;&#48;&#50;&#34;&#32;&#120;&#49;&#61;&#34;&#45;&#50;&#56;&#48;&#48;&#50;&#34;&#92;&#10;&#32;&#10;&#62;&#32;&#32;&#32;&#32;&#32;&#102;&#105;&#108;&#108;&#61;&#34;&#110;&#111;&#110;&#101;&#34;&#47;&#62;&#60;&#116;&#101;&#120;&#116;&#32;&#121;&#61;&#34;&#45;&#51;&#48;&#54;&#55;&#49;&#34;&#32;&#120;&#109;&#108;&#58;&#115;&#112;&#97;&#99;&#101;&#61;&#34;&#112;&#114;&#101;&#115;&#101;&#114;&#118;&#101;&#34;&#32;&#120;&#61;&#34;&#45;&#50;&#55;&#51;&#49;&#55;&#34;&#32;&#115;&#116;&#114;&#111;&#107;&#101;&#61;&#34;&#110;&#111;&#110;&#101;&#34;&#92;&#10;&#32;&#10;&#62;&#32;&#32;&#32;&#32;&#32;&#102;&#111;&#110;&#116;&#45;&#115;&#105;&#122;&#101;&#61;&#34;&#52;&#51;&#51;&#46;&#51;&#51;&#51;&#51;&#34;&#32;&#102;&#111;&#110;&#116;&#45;&#102;&#97;&#109;&#105;&#108;&#121;&#61;&#34;&#115;&#97;&#110;&#115;&#45;&#115;&#101;&#114;&#105;&#102;&#34;&#62;&#79;&#60;&#47;&#116;&#101;&#120;&#116;&#62;&#60;&#116;&#101;&#120;&#116;&#32;&#121;&#61;&#34;&#45;&#51;&#50;&#50;&#52;&#50;&#34;&#92;&#10;&#32;&#10;&#62;&#32;&#32;&#32;&#32;&#32;&#120;&#109;&#108;&#58;&#115;&#112;&#97;&#99;&#101;&#61;&#34;&#112;&#114;&#101;&#115;&#101;&#114;&#118;&#101;&#34;&#32;&#120;&#61;&#34;&#45;&#50;&#56;&#50;&#50;&#52;&#34;&#32;&#115;&#116;&#114;&#111;&#107;&#101;&#61;&#34;&#110;&#111;&#110;&#101;&#34;&#32;&#102;&#111;&#110;&#116;&#45;&#115;&#105;&#122;&#101;&#61;&#34;&#52;&#51;&#51;&#46;&#51;&#51;&#51;&#51;&#34;&#92;&#10;&#32;&#10;&#62;&#32;&#32;&#32;&#32;&#32;&#102;&#111;&#110;&#116;&#45;&#102;&#97;&#109;&#105;&#108;&#121;&#61;&#34;&#115;&#97;&#110;&#115;&#45;&#115;&#101;&#114;&#105;&#102;&#34;&#62;&#79;&#60;&#47;&#116;&#101;&#120;&#116;&#62;&#60;&#47;&#103;&#62;&#60;&#47;&#103;&#62;&#60;&#47;&#115;&#118;&#103;&#62;&#44;&#32;&#10;&#32;&#10;&#62;&#32;&#32;&#32;&#105;&#110;&#99;&#104;&#105;&#32;&#45;&#62;&#32;&#73;&#110;&#67;&#104;&#73;&#61;&#49;&#83;&#47;&#67;&#49;&#49;&#72;&#50;&#48;&#79;&#50;&#47;&#99;&#49;&#45;&#50;&#45;&#49;&#51;&#45;&#49;&#49;&#40;&#49;&#50;&#41;&#57;&#45;&#56;&#45;&#49;&#48;&#45;&#54;&#45;&#52;&#45;&#51;&#45;&#53;&#45;&#55;&#45;&#49;&#48;&#47;&#104;&#49;&#48;&#72;&#44;&#50;&#45;&#57;&#72;&#50;&#44;&#49;&#72;&#51;&#44;&#32;&#10;&#32;&#10;&#62;&#32;&#32;&#32;&#105;&#110;&#99;&#104;&#105;&#75;&#101;&#121;&#32;&#45;&#62;&#32;&#73;&#110;&#67;&#104;&#73;&#75;&#101;&#121;&#61;&#78;&#82;&#86;&#80;&#77;&#70;&#72;&#80;&#72;&#71;&#66;&#81;&#76;&#80;&#45;&#85;&#72;&#70;&#70;&#70;&#65;&#79;&#89;&#83;&#65;&#45;&#78;&#44;&#32;&#115;&#109;&#105;&#108;&#101;&#32;&#45;&#62;&#32;&#67;&#40;&#67;&#67;&#40;&#79;&#67;&#67;&#41;&#61;&#79;&#41;&#67;&#49;&#67;&#67;&#67;&#67;&#67;&#49;&#44;&#32;&#10;&#32;&#10;&#62;&#32;&#32;&#32;&#99;&#97;&#110;&#111;&#110;&#105;&#99;&#97;&#108;&#83;&#109;&#105;&#108;&#101;&#32;&#45;&#62;&#32;&#79;&#61;&#67;&#40;&#79;&#67;&#67;&#41;&#67;&#67;&#67;&#49;&#67;&#67;&#67;&#67;&#67;&#49;&#44;&#32;&#10;&#32;&#10;&#62;&#32;&#32;&#32;&#109;&#111;&#108;&#101;&#99;&#117;&#108;&#97;&#114;&#70;&#111;&#114;&#109;&#117;&#108;&#97;&#32;&#45;&#62;&#32;&#67;&#60;&#115;&#117;&#98;&#62;&#49;&#49;&#60;&#47;&#115;&#117;&#98;&#62;&#72;&#60;&#115;&#117;&#98;&#62;&#50;&#48;&#60;&#47;&#115;&#117;&#98;&#62;&#79;&#60;&#115;&#117;&#98;&#62;&#50;&#60;&#47;&#115;&#117;&#98;&#62;&#44;&#32;&#10;&#32;&#10;&#62;&#32;&#32;&#32;&#109;&#111;&#108;&#101;&#99;&#117;&#108;&#97;&#114;&#77;&#97;&#115;&#115;&#32;&#45;&#62;&#32;&#49;&#56;&#52;&#46;&#50;&#56;&#44;&#32;&#101;&#120;&#112;&#101;&#114;&#105;&#109;&#101;&#110;&#116;&#97;&#108;&#80;&#114;&#111;&#112;&#101;&#114;&#116;&#105;&#101;&#115;&#32;&#45;&#62;&#32;&#10;&#32;&#10;&#62;&#32;&#32;&#32;&#32;&#123;&#60;&#124;&#110;&#97;&#109;&#101;&#32;&#45;&#62;&#32;&#66;&#111;&#105;&#108;&#105;&#110;&#103;&#32;&#80;&#111;&#105;&#110;&#116;&#44;&#32;&#112;&#114;&#111;&#112;&#101;&#114;&#116;&#121;&#32;&#45;&#62;&#32;&#49;&#48;&#53;&#45;&#49;&#49;&#51;&#32;&#176;&#67;&#32;&#64;&#32;&#80;&#114;&#101;&#115;&#115;&#58;&#32;&#49;&#55;&#32;&#84;&#111;&#114;&#114;&#44;&#32;&#10;&#32;&#10;&#62;&#32;&#32;&#32;&#32;&#32;&#32;&#115;&#111;&#117;&#114;&#99;&#101;&#78;&#117;&#109;&#98;&#101;&#114;&#32;&#45;&#62;&#32;&#49;&#124;&#62;&#125;&#44;&#32;&#112;&#114;&#111;&#112;&#101;&#114;&#116;&#121;&#67;&#105;&#116;&#97;&#116;&#105;&#111;&#110;&#115;&#32;&#45;&#62;&#32;&#10;&#32;&#10;&#62;&#32;&#32;&#32;&#32;&#123;&#60;&#124;&#100;&#111;&#99;&#85;&#114;&#105;&#32;&#45;&#62;&#32;&#100;&#111;&#99;&#117;&#109;&#101;&#110;&#116;&#47;&#112;&#116;&#47;&#100;&#111;&#99;&#117;&#109;&#101;&#110;&#116;&#47;&#50;&#50;&#50;&#53;&#50;&#53;&#57;&#51;&#44;&#32;&#115;&#111;&#117;&#114;&#99;&#101;&#78;&#117;&#109;&#98;&#101;&#114;&#32;&#45;&#62;&#32;&#49;&#44;&#32;&#10;&#32;&#10;&#62;&#32;&#32;&#32;&#32;&#32;&#32;&#115;&#111;&#117;&#114;&#99;&#101;&#32;&#45;&#62;&#32;&#68;&#101;&#32;&#66;&#101;&#110;&#110;&#101;&#118;&#105;&#108;&#108;&#101;&#44;&#32;&#80;&#101;&#116;&#101;&#114;&#32;&#76;&#46;&#59;&#32;&#74;&#111;&#117;&#114;&#110;&#97;&#108;&#32;&#111;&#102;&#32;&#116;&#104;&#101;&#32;&#65;&#109;&#101;&#114;&#105;&#99;&#97;&#110;&#32;&#67;&#104;&#101;&#109;&#105;&#99;&#97;&#108;&#32;&#83;&#111;&#99;&#105;&#101;&#116;&#121;&#44;&#92;&#10;&#32;&#10;&#62;&#32;&#32;&#32;&#32;&#32;&#32;&#32;&#32;&#40;&#49;&#57;&#52;&#48;&#41;&#44;&#32;&#54;&#50;&#44;&#32;&#50;&#56;&#51;&#45;&#55;&#44;&#32;&#67;&#65;&#112;&#108;&#117;&#115;&#124;&#62;&#125;&#44;&#32;&#10;&#32;&#10;&#62;&#32;&#32;&#32;&#115;&#121;&#110;&#111;&#110;&#121;&#109;&#115;&#32;&#45;&#62;&#32;&#123;&#67;&#121;&#99;&#108;&#111;&#104;&#101;&#120;&#97;&#110;&#101;&#112;&#114;&#111;&#112;&#97;&#110;&#111;&#105;&#99;&#32;&#97;&#99;&#105;&#100;&#44;&#32;&#101;&#116;&#104;&#121;&#108;&#32;&#101;&#115;&#116;&#101;&#114;&#44;&#32;&#10;&#32;&#10;&#62;&#32;&#32;&#32;&#32;&#32;&#67;&#121;&#99;&#108;&#111;&#104;&#101;&#120;&#97;&#110;&#101;&#112;&#114;&#111;&#112;&#105;&#111;&#110;&#105;&#99;&#32;&#97;&#99;&#105;&#100;&#44;&#32;&#101;&#116;&#104;&#121;&#108;&#32;&#101;&#115;&#116;&#101;&#114;&#44;&#32;&#69;&#116;&#104;&#121;&#108;&#32;&#99;&#121;&#99;&#108;&#111;&#104;&#101;&#120;&#97;&#110;&#101;&#112;&#114;&#111;&#112;&#105;&#111;&#110;&#97;&#116;&#101;&#44;&#32;&#10;&#32;&#10;&#62;&#32;&#32;&#32;&#32;&#32;&#69;&#116;&#104;&#121;&#108;&#32;&#99;&#121;&#99;&#108;&#111;&#104;&#101;&#120;&#121;&#108;&#112;&#114;&#111;&#112;&#97;&#110;&#111;&#97;&#116;&#101;&#44;&#32;&#69;&#116;&#104;&#121;&#108;&#32;&#51;&#45;&#99;&#121;&#99;&#108;&#111;&#104;&#101;&#120;&#121;&#108;&#112;&#114;&#111;&#112;&#105;&#111;&#110;&#97;&#116;&#101;&#44;&#32;&#10;&#32;&#10;&#62;&#32;&#32;&#32;&#32;&#32;&#69;&#116;&#104;&#121;&#108;&#32;&#51;&#45;&#99;&#121;&#99;&#108;&#111;&#104;&#101;&#120;&#121;&#108;&#112;&#114;&#111;&#112;&#97;&#110;&#111;&#97;&#116;&#101;&#44;&#32;&#51;&#45;&#67;&#121;&#99;&#108;&#111;&#104;&#101;&#120;&#121;&#108;&#112;&#114;&#111;&#112;&#105;&#111;&#110;&#105;&#99;&#32;&#97;&#99;&#105;&#100;&#32;&#101;&#116;&#104;&#121;&#108;&#32;&#101;&#115;&#116;&#101;&#114;&#44;&#32;&#78;&#83;&#67;&#32;&#55;&#49;&#52;&#54;&#51;&#44;&#32;&#10;&#32;&#10;&#62;&#32;&#32;&#32;&#32;&#32;&#69;&#116;&#104;&#121;&#108;&#32;&#51;&#45;&#99;&#121;&#99;&#108;&#111;&#104;&#101;&#120;&#97;&#110;&#101;&#112;&#114;&#111;&#112;&#105;&#111;&#110;&#97;&#116;&#101;&#125;&#44;&#32;&#114;&#101;&#112;&#108;&#97;&#99;&#101;&#100;&#82;&#110;&#115;&#32;&#45;&#62;&#32;&#123;&#125;&#44;&#32;&#104;&#97;&#115;&#77;&#111;&#108;&#102;&#105;&#108;&#101;&#32;&#45;&#62;&#32;&#84;&#114;&#117;&#101;&#124;&#62;</pre></div>"
            ],
            "text/plain": [
              "<|uri -> substance/pt/10094367, rn -> 10094-36-7, name -> Ethyl cyclohexanepropionate, \n",
              " \n",
              ">   image -> <svg width=\"228.6\" viewBox=\"0 0 7620 3716\" text-rendering=\"auto\"\\\n",
              " \n",
              ">     stroke-width=\"1\" stroke-opacity=\"1\" stroke-miterlimit=\"10\" stroke-linejoin=\"miter\"\\\n",
              " \n",
              ">     stroke-linecap=\"square\" stroke-dashoffset=\"0\" stroke-dasharray=\"none\"\\\n",
              " \n",
              ">     stroke=\"black\" shape-rendering=\"auto\" image-rendering=\"auto\" height=\"111.48\"\\\n",
              " \n",
              ">     font-weight=\"normal\" font-style=\"normal\" font-size=\"12\" font-family=\"'Dialog'\"\\\n",
              " \n",
              ">     fill-opacity=\"1\" fill=\"black\" color-rendering=\"auto\" color-interpolation=\"auto\"\\\n",
              " \n",
              ">     xmlns=\"http://www.w3.org/2000/svg\"><g><g stroke=\"white\" fill=\"white\"><rect y=\"0\"\\\n",
              " \n",
              ">     x=\"0\" width=\"7620\" stroke=\"none\" height=\"3716\"/></g><g\\\n",
              " \n",
              ">     transform=\"translate(32866,32758)\" text-rendering=\"geometricPrecision\"\\\n",
              " \n",
              ">     stroke-width=\"44\" stroke-linejoin=\"round\" stroke-linecap=\"round\"><line y2=\"-30850\"\\\n",
              " \n",
              ">     y1=\"-31419\" x2=\"-30792\" x1=\"-31777\" fill=\"none\"/><line y2=\"-29715\" y1=\"-30850\"\\\n",
              " \n",
              ">     x2=\"-30792\" x1=\"-30792\" fill=\"none\"/><line y2=\"-31419\" y1=\"-30850\" x2=\"-31777\"\\\n",
              " \n",
              ">     x1=\"-32762\" fill=\"none\"/><line y2=\"-29146\" y1=\"-29715\" x2=\"-31777\" x1=\"-30792\"\\\n",
              " \n",
              ">     fill=\"none\"/><line y2=\"-30850\" y1=\"-29715\" x2=\"-32762\" x1=\"-32762\"\\\n",
              " \n",
              ">     fill=\"none\"/><line y2=\"-29715\" y1=\"-29146\" x2=\"-32762\" x1=\"-31777\"\\\n",
              " \n",
              ">     fill=\"none\"/><line y2=\"-31376\" y1=\"-30850\" x2=\"-29885\" x1=\"-30792\"\\\n",
              " \n",
              ">     fill=\"none\"/><line y2=\"-30850\" y1=\"-31376\" x2=\"-28978\" x1=\"-29885\"\\\n",
              " \n",
              ">     fill=\"none\"/><line y2=\"-31376\" y1=\"-30850\" x2=\"-28071\" x1=\"-28978\"\\\n",
              " \n",
              ">     fill=\"none\"/><line y2=\"-30960\" y1=\"-31376\" x2=\"-27352\" x1=\"-28071\"\\\n",
              " \n",
              ">     fill=\"none\"/><line y2=\"-31376\" y1=\"-30960\" x2=\"-26257\" x1=\"-26976\"\\\n",
              " \n",
              ">     fill=\"none\"/><line y2=\"-30850\" y1=\"-31376\" x2=\"-25350\" x1=\"-26257\"\\\n",
              " \n",
              ">     fill=\"none\"/><line y2=\"-32202\" y1=\"-31376\" x2=\"-28140\" x1=\"-28140\"\\\n",
              " \n",
              ">     fill=\"none\"/><line y2=\"-32202\" y1=\"-31376\" x2=\"-28002\" x1=\"-28002\"\\\n",
              " \n",
              ">     fill=\"none\"/><text y=\"-30671\" xml:space=\"preserve\" x=\"-27317\" stroke=\"none\"\\\n",
              " \n",
              ">     font-size=\"433.3333\" font-family=\"sans-serif\">O</text><text y=\"-32242\"\\\n",
              " \n",
              ">     xml:space=\"preserve\" x=\"-28224\" stroke=\"none\" font-size=\"433.3333\"\\\n",
              " \n",
              ">     font-family=\"sans-serif\">O</text></g></g></svg>, \n",
              " \n",
              ">   inchi -> InChI=1S/C11H20O2/c1-2-13-11(12)9-8-10-6-4-3-5-7-10/h10H,2-9H2,1H3, \n",
              " \n",
              ">   inchiKey -> InChIKey=NRVPMFHPHGBQLP-UHFFFAOYSA-N, smile -> C(CC(OCC)=O)C1CCCCC1, \n",
              " \n",
              ">   canonicalSmile -> O=C(OCC)CCC1CCCCC1, \n",
              " \n",
              ">   molecularFormula -> C<sub>11</sub>H<sub>20</sub>O<sub>2</sub>, \n",
              " \n",
              ">   molecularMass -> 184.28, experimentalProperties -> \n",
              " \n",
              ">    {<|name -> Boiling Point, property -> 105-113 °C @ Press: 17 Torr, \n",
              " \n",
              ">      sourceNumber -> 1|>}, propertyCitations -> \n",
              " \n",
              ">    {<|docUri -> document/pt/document/22252593, sourceNumber -> 1, \n",
              " \n",
              ">      source -> De Benneville, Peter L.; Journal of the American Chemical Society,\\\n",
              " \n",
              ">        (1940), 62, 283-7, CAplus|>}, \n",
              " \n",
              ">   synonyms -> {Cyclohexanepropanoic acid, ethyl ester, \n",
              " \n",
              ">     Cyclohexanepropionic acid, ethyl ester, Ethyl cyclohexanepropionate, \n",
              " \n",
              ">     Ethyl cyclohexylpropanoate, Ethyl 3-cyclohexylpropionate, \n",
              " \n",
              ">     Ethyl 3-cyclohexylpropanoate, 3-Cyclohexylpropionic acid ethyl ester, NSC 71463, \n",
              " \n",
              ">     Ethyl 3-cyclohexanepropionate}, replacedRns -> {}, hasMolfile -> True|>"
            ]
          },
          "execution_count": 8,
          "metadata": {
            "text/html": [],
            "text/plain": []
          },
          "output_type": "execute_result"
        }
      ],
      "source": [
        "casrn1Data //OutputForm (*Changed to plain text output*)"
      ]
    },
    {
      "cell_type": "markdown",
      "id": "6be3c0ca-aa2c-4f5d-8145-5ae01bfde4ba",
      "metadata": {
        "id": "6be3c0ca-aa2c-4f5d-8145-5ae01bfde4ba"
      },
      "source": [
        "### Display the Molecule Drawing"
      ]
    },
    {
      "cell_type": "code",
      "execution_count": null,
      "id": "7bf35c91-d8c4-4c5e-bd48-2ec1567cc119",
      "metadata": {
        "id": "7bf35c91-d8c4-4c5e-bd48-2ec1567cc119",
        "outputId": "f19fbe98-a997-491a-a1d5-7569767dedd4",
        "vscode": {
          "languageId": "wolfram language"
        }
      },
      "outputs": [
        {
          "data": {
            "text/html": [
              "<div><img alt=\"Output\" src=\"data:image/png;base64,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\"></div>"
            ],
            "text/plain": [
              "-Graphics-"
            ]
          },
          "execution_count": 11,
          "metadata": {
            "text/html": [],
            "text/plain": []
          },
          "output_type": "execute_result"
        }
      ],
      "source": [
        "MoleculePlot[casrn1Data[\"smile\"]]"
      ]
    },
    {
      "cell_type": "markdown",
      "id": "9f1d65d1-a5b3-41c9-b289-243eb672d21e",
      "metadata": {
        "id": "9f1d65d1-a5b3-41c9-b289-243eb672d21e"
      },
      "source": [
        "### Select some specific data"
      ]
    },
    {
      "cell_type": "markdown",
      "id": "81b3bb06-0712-4f17-945f-0a51208497a2",
      "metadata": {
        "id": "81b3bb06-0712-4f17-945f-0a51208497a2"
      },
      "source": [
        "Get experimental properties:"
      ]
    },
    {
      "cell_type": "code",
      "execution_count": null,
      "id": "dad072dc-007e-4046-aa97-e0839a85178e",
      "metadata": {
        "id": "dad072dc-007e-4046-aa97-e0839a85178e",
        "outputId": "69924f39-e0fc-4a6a-9aea-6fef0e5fdca1",
        "vscode": {
          "languageId": "wolfram language"
        }
      },
      "outputs": [
        {
          "data": {
            "text/html": [
              "<div><pre style=\"&#102;&#111;&#110;&#116;&#45;&#102;&#97;&#109;&#105;&#108;&#121;&#58;&#32;&#34;&#67;&#111;&#117;&#114;&#105;&#101;&#114;&#32;&#78;&#101;&#119;&#34;&#44;&#67;&#111;&#117;&#114;&#105;&#101;&#114;&#44;&#109;&#111;&#110;&#111;&#115;&#112;&#97;&#99;&#101;&#59;\">&#60;&#124;&#110;&#97;&#109;&#101;&#32;&#45;&#62;&#32;&#66;&#111;&#105;&#108;&#105;&#110;&#103;&#32;&#80;&#111;&#105;&#110;&#116;&#44;&#32;&#112;&#114;&#111;&#112;&#101;&#114;&#116;&#121;&#32;&#45;&#62;&#32;&#49;&#48;&#53;&#45;&#49;&#49;&#51;&#32;&#176;&#67;&#32;&#64;&#32;&#80;&#114;&#101;&#115;&#115;&#58;&#32;&#49;&#55;&#32;&#84;&#111;&#114;&#114;&#44;&#32;&#115;&#111;&#117;&#114;&#99;&#101;&#78;&#117;&#109;&#98;&#101;&#114;&#32;&#45;&#62;&#32;&#49;&#124;&#62;</pre></div>"
            ],
            "text/plain": [
              "<|name -> Boiling Point, property -> 105-113 °C @ Press: 17 Torr, sourceNumber -> 1|>"
            ]
          },
          "execution_count": 12,
          "metadata": {
            "text/html": [],
            "text/plain": []
          },
          "output_type": "execute_result"
        }
      ],
      "source": [
        "casrn1Data[\"experimentalProperties\"][[1]]"
      ]
    },
    {
      "cell_type": "markdown",
      "id": "7709cf3d-bdbd-4d1c-8c54-0d2c0202b3b2",
      "metadata": {
        "id": "7709cf3d-bdbd-4d1c-8c54-0d2c0202b3b2"
      },
      "source": [
        "Get boiling point property"
      ]
    },
    {
      "cell_type": "code",
      "execution_count": null,
      "id": "ee02da79-d1f5-4d59-8d6b-3d39116033dc",
      "metadata": {
        "id": "ee02da79-d1f5-4d59-8d6b-3d39116033dc",
        "outputId": "79463c6d-9b58-4e4a-d463-10f0e794291b",
        "vscode": {
          "languageId": "wolfram language"
        }
      },
      "outputs": [
        {
          "data": {
            "text/html": [
              "<div><pre style=\"&#102;&#111;&#110;&#116;&#45;&#102;&#97;&#109;&#105;&#108;&#121;&#58;&#32;&#34;&#67;&#111;&#117;&#114;&#105;&#101;&#114;&#32;&#78;&#101;&#119;&#34;&#44;&#67;&#111;&#117;&#114;&#105;&#101;&#114;&#44;&#109;&#111;&#110;&#111;&#115;&#112;&#97;&#99;&#101;&#59;\">&#49;&#48;&#53;&#45;&#49;&#49;&#51;&#32;&#176;&#67;&#32;&#64;&#32;&#80;&#114;&#101;&#115;&#115;&#58;&#32;&#49;&#55;&#32;&#84;&#111;&#114;&#114;</pre></div>"
            ],
            "text/plain": [
              "105-113 °C @ Press: 17 Torr"
            ]
          },
          "execution_count": 13,
          "metadata": {
            "text/html": [],
            "text/plain": []
          },
          "output_type": "execute_result"
        }
      ],
      "source": [
        "casrn1Data[\"experimentalProperties\"][[1]][\"property\"]"
      ]
    },
    {
      "cell_type": "markdown",
      "id": "07420634-021f-46de-9dca-5cc97b49d503",
      "metadata": {
        "id": "07420634-021f-46de-9dca-5cc97b49d503"
      },
      "source": [
        "Get InChIKey"
      ]
    },
    {
      "cell_type": "code",
      "execution_count": null,
      "id": "e5bbbe26-17ca-48f6-aaf1-6e1b9ff3aa0b",
      "metadata": {
        "id": "e5bbbe26-17ca-48f6-aaf1-6e1b9ff3aa0b",
        "outputId": "8d871fb8-67ca-4b97-bfa2-c1d6caa5be75",
        "vscode": {
          "languageId": "wolfram language"
        }
      },
      "outputs": [
        {
          "data": {
            "text/html": [
              "<div><pre style=\"&#102;&#111;&#110;&#116;&#45;&#102;&#97;&#109;&#105;&#108;&#121;&#58;&#32;&#34;&#67;&#111;&#117;&#114;&#105;&#101;&#114;&#32;&#78;&#101;&#119;&#34;&#44;&#67;&#111;&#117;&#114;&#105;&#101;&#114;&#44;&#109;&#111;&#110;&#111;&#115;&#112;&#97;&#99;&#101;&#59;\">&#73;&#110;&#67;&#104;&#73;&#75;&#101;&#121;&#61;&#78;&#82;&#86;&#80;&#77;&#70;&#72;&#80;&#72;&#71;&#66;&#81;&#76;&#80;&#45;&#85;&#72;&#70;&#70;&#70;&#65;&#79;&#89;&#83;&#65;&#45;&#78;</pre></div>"
            ],
            "text/plain": [
              "InChIKey=NRVPMFHPHGBQLP-UHFFFAOYSA-N"
            ]
          },
          "execution_count": 14,
          "metadata": {
            "text/html": [],
            "text/plain": []
          },
          "output_type": "execute_result"
        }
      ],
      "source": [
        "casrn1Data[\"inchiKey\"]"
      ]
    },
    {
      "cell_type": "code",
      "execution_count": null,
      "id": "17ccf3d1-8c72-43d5-83a1-b3f8eacab4fa",
      "metadata": {
        "id": "17ccf3d1-8c72-43d5-83a1-b3f8eacab4fa",
        "outputId": "852692de-0788-4480-d899-f91c212ddef1",
        "vscode": {
          "languageId": "wolfram language"
        }
      },
      "outputs": [
        {
          "data": {
            "text/html": [
              "<div><pre style=\"&#102;&#111;&#110;&#116;&#45;&#102;&#97;&#109;&#105;&#108;&#121;&#58;&#32;&#34;&#67;&#111;&#117;&#114;&#105;&#101;&#114;&#32;&#78;&#101;&#119;&#34;&#44;&#67;&#111;&#117;&#114;&#105;&#101;&#114;&#44;&#109;&#111;&#110;&#111;&#115;&#112;&#97;&#99;&#101;&#59;\">&#79;&#61;&#67;&#40;&#79;&#67;&#67;&#41;&#67;&#67;&#67;&#49;&#67;&#67;&#67;&#67;&#67;&#49;</pre></div>"
            ],
            "text/plain": [
              "O=C(OCC)CCC1CCCCC1"
            ]
          },
          "execution_count": 15,
          "metadata": {
            "text/html": [],
            "text/plain": []
          },
          "output_type": "execute_result"
        }
      ],
      "source": [
        "casrn1Data[\"canonicalSmile\"]"
      ]
    },
    {
      "cell_type": "markdown",
      "id": "716aaa1e-0817-41b2-ad0f-bb49df435de2",
      "metadata": {
        "id": "716aaa1e-0817-41b2-ad0f-bb49df435de2",
        "tags": []
      },
      "source": [
        "## 2. Common Chemistry API record detail retrieval in a loop"
      ]
    },
    {
      "cell_type": "markdown",
      "id": "0fa7388a-7a5a-4e8a-9ed7-63ecf8f9a552",
      "metadata": {
        "id": "0fa7388a-7a5a-4e8a-9ed7-63ecf8f9a552"
      },
      "source": [
        "### Setup API parameters"
      ]
    },
    {
      "cell_type": "code",
      "execution_count": null,
      "id": "16b3a9b7-e427-494b-a030-ea196f68948f",
      "metadata": {
        "id": "16b3a9b7-e427-494b-a030-ea196f68948f",
        "vscode": {
          "languageId": "wolfram language"
        }
      },
      "outputs": [],
      "source": [
        "detailBaseURLLoop = \"https://commonchemistry.cas.org/api/detail?\";\n",
        "casrnList = {\"10094-36-7\", \"10031-92-2\", \"10199-61-8\", \"10036-21-2\",\"1019020-13-3\"};"
      ]
    },
    {
      "cell_type": "markdown",
      "id": "b893f908-432c-469e-beef-82e4cb1d3452",
      "metadata": {
        "id": "b893f908-432c-469e-beef-82e4cb1d3452"
      },
      "source": [
        "### Request data for each CAS RN and save to a list"
      ]
    },
    {
      "cell_type": "code",
      "execution_count": null,
      "id": "f2d65ed3-ec2d-4493-a735-3bedab4308e3",
      "metadata": {
        "id": "f2d65ed3-ec2d-4493-a735-3bedab4308e3",
        "vscode": {
          "languageId": "wolfram language"
        }
      },
      "outputs": [],
      "source": [
        "casrnData = {};\n",
        "For[i = 1, i <= Length[casrnList], i++,\n",
        " AppendTo[casrnData,\n",
        "  Import[detailBaseURL <> \"cas_rn=\" <> casrnList[[i]], \"RawJSON\"]]\n",
        " ]"
      ]
    },
    {
      "cell_type": "code",
      "execution_count": null,
      "id": "4adc746e-4851-472d-a9fe-2b80204ab753",
      "metadata": {
        "id": "4adc746e-4851-472d-a9fe-2b80204ab753",
        "vscode": {
          "languageId": "wolfram language"
        }
      },
      "outputs": [],
      "source": [
        "casrnData[[1]]"
      ]
    },
    {
      "cell_type": "markdown",
      "id": "ALST2pMeAJAJ",
      "metadata": {
        "id": "ALST2pMeAJAJ"
      },
      "source": [
        "*Output not shown*"
      ]
    },
    {
      "cell_type": "code",
      "execution_count": null,
      "id": "06222d8e-300d-4b83-a2c2-a92efb45da30",
      "metadata": {
        "id": "06222d8e-300d-4b83-a2c2-a92efb45da30",
        "outputId": "7bf711da-4d02-48e8-8866-0e438c11822e",
        "tags": [
          "output_scroll"
        ],
        "vscode": {
          "languageId": "wolfram language"
        }
      },
      "outputs": [
        {
          "data": {
            "text/html": [
              "<div><pre style=\"&#102;&#111;&#110;&#116;&#45;&#102;&#97;&#109;&#105;&#108;&#121;&#58;&#32;&#34;&#67;&#111;&#117;&#114;&#105;&#101;&#114;&#32;&#78;&#101;&#119;&#34;&#44;&#67;&#111;&#117;&#114;&#105;&#101;&#114;&#44;&#109;&#111;&#110;&#111;&#115;&#112;&#97;&#99;&#101;&#59;\">&#60;&#124;&#117;&#114;&#105;&#32;&#45;&#62;&#32;&#115;&#117;&#98;&#115;&#116;&#97;&#110;&#99;&#101;&#47;&#112;&#116;&#47;&#49;&#48;&#48;&#57;&#52;&#51;&#54;&#55;&#44;&#32;&#114;&#110;&#32;&#45;&#62;&#32;&#49;&#48;&#48;&#57;&#52;&#45;&#51;&#54;&#45;&#55;&#44;&#32;&#110;&#97;&#109;&#101;&#32;&#45;&#62;&#32;&#69;&#116;&#104;&#121;&#108;&#32;&#99;&#121;&#99;&#108;&#111;&#104;&#101;&#120;&#97;&#110;&#101;&#112;&#114;&#111;&#112;&#105;&#111;&#110;&#97;&#116;&#101;&#44;&#32;&#10;&#32;&#10;&#62;&#32;&#32;&#32;&#105;&#109;&#97;&#103;&#101;&#32;&#45;&#62;&#32;&#60;&#115;&#118;&#103;&#32;&#119;&#105;&#100;&#116;&#104;&#61;&#34;&#50;&#50;&#56;&#46;&#54;&#34;&#32;&#118;&#105;&#101;&#119;&#66;&#111;&#120;&#61;&#34;&#48;&#32;&#48;&#32;&#55;&#54;&#50;&#48;&#32;&#51;&#55;&#49;&#54;&#34;&#32;&#116;&#101;&#120;&#116;&#45;&#114;&#101;&#110;&#100;&#101;&#114;&#105;&#110;&#103;&#61;&#34;&#97;&#117;&#116;&#111;&#34;&#92;&#10;&#32;&#10;&#62;&#32;&#32;&#32;&#32;&#32;&#115;&#116;&#114;&#111;&#107;&#101;&#45;&#119;&#105;&#100;&#116;&#104;&#61;&#34;&#49;&#34;&#32;&#115;&#116;&#114;&#111;&#107;&#101;&#45;&#111;&#112;&#97;&#99;&#105;&#116;&#121;&#61;&#34;&#49;&#34;&#32;&#115;&#116;&#114;&#111;&#107;&#101;&#45;&#109;&#105;&#116;&#101;&#114;&#108;&#105;&#109;&#105;&#116;&#61;&#34;&#49;&#48;&#34;&#32;&#115;&#116;&#114;&#111;&#107;&#101;&#45;&#108;&#105;&#110;&#101;&#106;&#111;&#105;&#110;&#61;&#34;&#109;&#105;&#116;&#101;&#114;&#34;&#92;&#10;&#32;&#10;&#62;&#32;&#32;&#32;&#32;&#32;&#115;&#116;&#114;&#111;&#107;&#101;&#45;&#108;&#105;&#110;&#101;&#99;&#97;&#112;&#61;&#34;&#115;&#113;&#117;&#97;&#114;&#101;&#34;&#32;&#115;&#116;&#114;&#111;&#107;&#101;&#45;&#100;&#97;&#115;&#104;&#111;&#102;&#102;&#115;&#101;&#116;&#61;&#34;&#48;&#34;&#32;&#115;&#116;&#114;&#111;&#107;&#101;&#45;&#100;&#97;&#115;&#104;&#97;&#114;&#114;&#97;&#121;&#61;&#34;&#110;&#111;&#110;&#101;&#34;&#92;&#10;&#32;&#10;&#62;&#32;&#32;&#32;&#32;&#32;&#115;&#116;&#114;&#111;&#107;&#101;&#61;&#34;&#98;&#108;&#97;&#99;&#107;&#34;&#32;&#115;&#104;&#97;&#112;&#101;&#45;&#114;&#101;&#110;&#100;&#101;&#114;&#105;&#110;&#103;&#61;&#34;&#97;&#117;&#116;&#111;&#34;&#32;&#105;&#109;&#97;&#103;&#101;&#45;&#114;&#101;&#110;&#100;&#101;&#114;&#105;&#110;&#103;&#61;&#34;&#97;&#117;&#116;&#111;&#34;&#32;&#104;&#101;&#105;&#103;&#104;&#116;&#61;&#34;&#49;&#49;&#49;&#46;&#52;&#56;&#34;&#92;&#10;&#32;&#10;&#62;&#32;&#32;&#32;&#32;&#32;&#102;&#111;&#110;&#116;&#45;&#119;&#101;&#105;&#103;&#104;&#116;&#61;&#34;&#110;&#111;&#114;&#109;&#97;&#108;&#34;&#32;&#102;&#111;&#110;&#116;&#45;&#115;&#116;&#121;&#108;&#101;&#61;&#34;&#110;&#111;&#114;&#109;&#97;&#108;&#34;&#32;&#102;&#111;&#110;&#116;&#45;&#115;&#105;&#122;&#101;&#61;&#34;&#49;&#50;&#34;&#32;&#102;&#111;&#110;&#116;&#45;&#102;&#97;&#109;&#105;&#108;&#121;&#61;&#34;&#39;&#68;&#105;&#97;&#108;&#111;&#103;&#39;&#34;&#92;&#10;&#32;&#10;&#62;&#32;&#32;&#32;&#32;&#32;&#102;&#105;&#108;&#108;&#45;&#111;&#112;&#97;&#99;&#105;&#116;&#121;&#61;&#34;&#49;&#34;&#32;&#102;&#105;&#108;&#108;&#61;&#34;&#98;&#108;&#97;&#99;&#107;&#34;&#32;&#99;&#111;&#108;&#111;&#114;&#45;&#114;&#101;&#110;&#100;&#101;&#114;&#105;&#110;&#103;&#61;&#34;&#97;&#117;&#116;&#111;&#34;&#32;&#99;&#111;&#108;&#111;&#114;&#45;&#105;&#110;&#116;&#101;&#114;&#112;&#111;&#108;&#97;&#116;&#105;&#111;&#110;&#61;&#34;&#97;&#117;&#116;&#111;&#34;&#92;&#10;&#32;&#10;&#62;&#32;&#32;&#32;&#32;&#32;&#120;&#109;&#108;&#110;&#115;&#61;&#34;&#104;&#116;&#116;&#112;&#58;&#47;&#47;&#119;&#119;&#119;&#46;&#119;&#51;&#46;&#111;&#114;&#103;&#47;&#50;&#48;&#48;&#48;&#47;&#115;&#118;&#103;&#34;&#62;&#60;&#103;&#62;&#60;&#103;&#32;&#115;&#116;&#114;&#111;&#107;&#101;&#61;&#34;&#119;&#104;&#105;&#116;&#101;&#34;&#32;&#102;&#105;&#108;&#108;&#61;&#34;&#119;&#104;&#105;&#116;&#101;&#34;&#62;&#60;&#114;&#101;&#99;&#116;&#32;&#121;&#61;&#34;&#48;&#34;&#92;&#10;&#32;&#10;&#62;&#32;&#32;&#32;&#32;&#32;&#120;&#61;&#34;&#48;&#34;&#32;&#119;&#105;&#100;&#116;&#104;&#61;&#34;&#55;&#54;&#50;&#48;&#34;&#32;&#115;&#116;&#114;&#111;&#107;&#101;&#61;&#34;&#110;&#111;&#110;&#101;&#34;&#32;&#104;&#101;&#105;&#103;&#104;&#116;&#61;&#34;&#51;&#55;&#49;&#54;&#34;&#47;&#62;&#60;&#47;&#103;&#62;&#60;&#103;&#92;&#10;&#32;&#10;&#62;&#32;&#32;&#32;&#32;&#32;&#116;&#114;&#97;&#110;&#115;&#102;&#111;&#114;&#109;&#61;&#34;&#116;&#114;&#97;&#110;&#115;&#108;&#97;&#116;&#101;&#40;&#51;&#50;&#56;&#54;&#54;&#44;&#51;&#50;&#55;&#53;&#56;&#41;&#34;&#32;&#116;&#101;&#120;&#116;&#45;&#114;&#101;&#110;&#100;&#101;&#114;&#105;&#110;&#103;&#61;&#34;&#103;&#101;&#111;&#109;&#101;&#116;&#114;&#105;&#99;&#80;&#114;&#101;&#99;&#105;&#115;&#105;&#111;&#110;&#34;&#92;&#10;&#32;&#10;&#62;&#32;&#32;&#32;&#32;&#32;&#115;&#116;&#114;&#111;&#107;&#101;&#45;&#119;&#105;&#100;&#116;&#104;&#61;&#34;&#52;&#52;&#34;&#32;&#115;&#116;&#114;&#111;&#107;&#101;&#45;&#108;&#105;&#110;&#101;&#106;&#111;&#105;&#110;&#61;&#34;&#114;&#111;&#117;&#110;&#100;&#34;&#32;&#115;&#116;&#114;&#111;&#107;&#101;&#45;&#108;&#105;&#110;&#101;&#99;&#97;&#112;&#61;&#34;&#114;&#111;&#117;&#110;&#100;&#34;&#62;&#60;&#108;&#105;&#110;&#101;&#32;&#121;&#50;&#61;&#34;&#45;&#51;&#48;&#56;&#53;&#48;&#34;&#92;&#10;&#32;&#10;&#62;&#32;&#32;&#32;&#32;&#32;&#121;&#49;&#61;&#34;&#45;&#51;&#49;&#52;&#49;&#57;&#34;&#32;&#120;&#50;&#61;&#34;&#45;&#51;&#48;&#55;&#57;&#50;&#34;&#32;&#120;&#49;&#61;&#34;&#45;&#51;&#49;&#55;&#55;&#55;&#34;&#32;&#102;&#105;&#108;&#108;&#61;&#34;&#110;&#111;&#110;&#101;&#34;&#47;&#62;&#60;&#108;&#105;&#110;&#101;&#32;&#121;&#50;&#61;&#34;&#45;&#50;&#57;&#55;&#49;&#53;&#34;&#32;&#121;&#49;&#61;&#34;&#45;&#51;&#48;&#56;&#53;&#48;&#34;&#92;&#10;&#32;&#10;&#62;&#32;&#32;&#32;&#32;&#32;&#120;&#50;&#61;&#34;&#45;&#51;&#48;&#55;&#57;&#50;&#34;&#32;&#120;&#49;&#61;&#34;&#45;&#51;&#48;&#55;&#57;&#50;&#34;&#32;&#102;&#105;&#108;&#108;&#61;&#34;&#110;&#111;&#110;&#101;&#34;&#47;&#62;&#60;&#108;&#105;&#110;&#101;&#32;&#121;&#50;&#61;&#34;&#45;&#51;&#49;&#52;&#49;&#57;&#34;&#32;&#121;&#49;&#61;&#34;&#45;&#51;&#48;&#56;&#53;&#48;&#34;&#32;&#120;&#50;&#61;&#34;&#45;&#51;&#49;&#55;&#55;&#55;&#34;&#92;&#10;&#32;&#10;&#62;&#32;&#32;&#32;&#32;&#32;&#120;&#49;&#61;&#34;&#45;&#51;&#50;&#55;&#54;&#50;&#34;&#32;&#102;&#105;&#108;&#108;&#61;&#34;&#110;&#111;&#110;&#101;&#34;&#47;&#62;&#60;&#108;&#105;&#110;&#101;&#32;&#121;&#50;&#61;&#34;&#45;&#50;&#57;&#49;&#52;&#54;&#34;&#32;&#121;&#49;&#61;&#34;&#45;&#50;&#57;&#55;&#49;&#53;&#34;&#32;&#120;&#50;&#61;&#34;&#45;&#51;&#49;&#55;&#55;&#55;&#34;&#32;&#120;&#49;&#61;&#34;&#45;&#51;&#48;&#55;&#57;&#50;&#34;&#92;&#10;&#32;&#10;&#62;&#32;&#32;&#32;&#32;&#32;&#102;&#105;&#108;&#108;&#61;&#34;&#110;&#111;&#110;&#101;&#34;&#47;&#62;&#60;&#108;&#105;&#110;&#101;&#32;&#121;&#50;&#61;&#34;&#45;&#51;&#48;&#56;&#53;&#48;&#34;&#32;&#121;&#49;&#61;&#34;&#45;&#50;&#57;&#55;&#49;&#53;&#34;&#32;&#120;&#50;&#61;&#34;&#45;&#51;&#50;&#55;&#54;&#50;&#34;&#32;&#120;&#49;&#61;&#34;&#45;&#51;&#50;&#55;&#54;&#50;&#34;&#92;&#10;&#32;&#10;&#62;&#32;&#32;&#32;&#32;&#32;&#102;&#105;&#108;&#108;&#61;&#34;&#110;&#111;&#110;&#101;&#34;&#47;&#62;&#60;&#108;&#105;&#110;&#101;&#32;&#121;&#50;&#61;&#34;&#45;&#50;&#57;&#55;&#49;&#53;&#34;&#32;&#121;&#49;&#61;&#34;&#45;&#50;&#57;&#49;&#52;&#54;&#34;&#32;&#120;&#50;&#61;&#34;&#45;&#51;&#50;&#55;&#54;&#50;&#34;&#32;&#120;&#49;&#61;&#34;&#45;&#51;&#49;&#55;&#55;&#55;&#34;&#92;&#10;&#32;&#10;&#62;&#32;&#32;&#32;&#32;&#32;&#102;&#105;&#108;&#108;&#61;&#34;&#110;&#111;&#110;&#101;&#34;&#47;&#62;&#60;&#108;&#105;&#110;&#101;&#32;&#121;&#50;&#61;&#34;&#45;&#51;&#49;&#51;&#55;&#54;&#34;&#32;&#121;&#49;&#61;&#34;&#45;&#51;&#48;&#56;&#53;&#48;&#34;&#32;&#120;&#50;&#61;&#34;&#45;&#50;&#57;&#56;&#56;&#53;&#34;&#32;&#120;&#49;&#61;&#34;&#45;&#51;&#48;&#55;&#57;&#50;&#34;&#92;&#10;&#32;&#10;&#62;&#32;&#32;&#32;&#32;&#32;&#102;&#105;&#108;&#108;&#61;&#34;&#110;&#111;&#110;&#101;&#34;&#47;&#62;&#60;&#108;&#105;&#110;&#101;&#32;&#121;&#50;&#61;&#34;&#45;&#51;&#48;&#56;&#53;&#48;&#34;&#32;&#121;&#49;&#61;&#34;&#45;&#51;&#49;&#51;&#55;&#54;&#34;&#32;&#120;&#50;&#61;&#34;&#45;&#50;&#56;&#57;&#55;&#56;&#34;&#32;&#120;&#49;&#61;&#34;&#45;&#50;&#57;&#56;&#56;&#53;&#34;&#92;&#10;&#32;&#10;&#62;&#32;&#32;&#32;&#32;&#32;&#102;&#105;&#108;&#108;&#61;&#34;&#110;&#111;&#110;&#101;&#34;&#47;&#62;&#60;&#108;&#105;&#110;&#101;&#32;&#121;&#50;&#61;&#34;&#45;&#51;&#49;&#51;&#55;&#54;&#34;&#32;&#121;&#49;&#61;&#34;&#45;&#51;&#48;&#56;&#53;&#48;&#34;&#32;&#120;&#50;&#61;&#34;&#45;&#50;&#56;&#48;&#55;&#49;&#34;&#32;&#120;&#49;&#61;&#34;&#45;&#50;&#56;&#57;&#55;&#56;&#34;&#92;&#10;&#32;&#10;&#62;&#32;&#32;&#32;&#32;&#32;&#102;&#105;&#108;&#108;&#61;&#34;&#110;&#111;&#110;&#101;&#34;&#47;&#62;&#60;&#108;&#105;&#110;&#101;&#32;&#121;&#50;&#61;&#34;&#45;&#51;&#48;&#57;&#54;&#48;&#34;&#32;&#121;&#49;&#61;&#34;&#45;&#51;&#49;&#51;&#55;&#54;&#34;&#32;&#120;&#50;&#61;&#34;&#45;&#50;&#55;&#51;&#53;&#50;&#34;&#32;&#120;&#49;&#61;&#34;&#45;&#50;&#56;&#48;&#55;&#49;&#34;&#92;&#10;&#32;&#10;&#62;&#32;&#32;&#32;&#32;&#32;&#102;&#105;&#108;&#108;&#61;&#34;&#110;&#111;&#110;&#101;&#34;&#47;&#62;&#60;&#108;&#105;&#110;&#101;&#32;&#121;&#50;&#61;&#34;&#45;&#51;&#49;&#51;&#55;&#54;&#34;&#32;&#121;&#49;&#61;&#34;&#45;&#51;&#48;&#57;&#54;&#48;&#34;&#32;&#120;&#50;&#61;&#34;&#45;&#50;&#54;&#50;&#53;&#55;&#34;&#32;&#120;&#49;&#61;&#34;&#45;&#50;&#54;&#57;&#55;&#54;&#34;&#92;&#10;&#32;&#10;&#62;&#32;&#32;&#32;&#32;&#32;&#102;&#105;&#108;&#108;&#61;&#34;&#110;&#111;&#110;&#101;&#34;&#47;&#62;&#60;&#108;&#105;&#110;&#101;&#32;&#121;&#50;&#61;&#34;&#45;&#51;&#48;&#56;&#53;&#48;&#34;&#32;&#121;&#49;&#61;&#34;&#45;&#51;&#49;&#51;&#55;&#54;&#34;&#32;&#120;&#50;&#61;&#34;&#45;&#50;&#53;&#51;&#53;&#48;&#34;&#32;&#120;&#49;&#61;&#34;&#45;&#50;&#54;&#50;&#53;&#55;&#34;&#92;&#10;&#32;&#10;&#62;&#32;&#32;&#32;&#32;&#32;&#102;&#105;&#108;&#108;&#61;&#34;&#110;&#111;&#110;&#101;&#34;&#47;&#62;&#60;&#108;&#105;&#110;&#101;&#32;&#121;&#50;&#61;&#34;&#45;&#51;&#50;&#50;&#48;&#50;&#34;&#32;&#121;&#49;&#61;&#34;&#45;&#51;&#49;&#51;&#55;&#54;&#34;&#32;&#120;&#50;&#61;&#34;&#45;&#50;&#56;&#49;&#52;&#48;&#34;&#32;&#120;&#49;&#61;&#34;&#45;&#50;&#56;&#49;&#52;&#48;&#34;&#92;&#10;&#32;&#10;&#62;&#32;&#32;&#32;&#32;&#32;&#102;&#105;&#108;&#108;&#61;&#34;&#110;&#111;&#110;&#101;&#34;&#47;&#62;&#60;&#108;&#105;&#110;&#101;&#32;&#121;&#50;&#61;&#34;&#45;&#51;&#50;&#50;&#48;&#50;&#34;&#32;&#121;&#49;&#61;&#34;&#45;&#51;&#49;&#51;&#55;&#54;&#34;&#32;&#120;&#50;&#61;&#34;&#45;&#50;&#56;&#48;&#48;&#50;&#34;&#32;&#120;&#49;&#61;&#34;&#45;&#50;&#56;&#48;&#48;&#50;&#34;&#92;&#10;&#32;&#10;&#62;&#32;&#32;&#32;&#32;&#32;&#102;&#105;&#108;&#108;&#61;&#34;&#110;&#111;&#110;&#101;&#34;&#47;&#62;&#60;&#116;&#101;&#120;&#116;&#32;&#121;&#61;&#34;&#45;&#51;&#48;&#54;&#55;&#49;&#34;&#32;&#120;&#109;&#108;&#58;&#115;&#112;&#97;&#99;&#101;&#61;&#34;&#112;&#114;&#101;&#115;&#101;&#114;&#118;&#101;&#34;&#32;&#120;&#61;&#34;&#45;&#50;&#55;&#51;&#49;&#55;&#34;&#32;&#115;&#116;&#114;&#111;&#107;&#101;&#61;&#34;&#110;&#111;&#110;&#101;&#34;&#92;&#10;&#32;&#10;&#62;&#32;&#32;&#32;&#32;&#32;&#102;&#111;&#110;&#116;&#45;&#115;&#105;&#122;&#101;&#61;&#34;&#52;&#51;&#51;&#46;&#51;&#51;&#51;&#51;&#34;&#32;&#102;&#111;&#110;&#116;&#45;&#102;&#97;&#109;&#105;&#108;&#121;&#61;&#34;&#115;&#97;&#110;&#115;&#45;&#115;&#101;&#114;&#105;&#102;&#34;&#62;&#79;&#60;&#47;&#116;&#101;&#120;&#116;&#62;&#60;&#116;&#101;&#120;&#116;&#32;&#121;&#61;&#34;&#45;&#51;&#50;&#50;&#52;&#50;&#34;&#92;&#10;&#32;&#10;&#62;&#32;&#32;&#32;&#32;&#32;&#120;&#109;&#108;&#58;&#115;&#112;&#97;&#99;&#101;&#61;&#34;&#112;&#114;&#101;&#115;&#101;&#114;&#118;&#101;&#34;&#32;&#120;&#61;&#34;&#45;&#50;&#56;&#50;&#50;&#52;&#34;&#32;&#115;&#116;&#114;&#111;&#107;&#101;&#61;&#34;&#110;&#111;&#110;&#101;&#34;&#32;&#102;&#111;&#110;&#116;&#45;&#115;&#105;&#122;&#101;&#61;&#34;&#52;&#51;&#51;&#46;&#51;&#51;&#51;&#51;&#34;&#92;&#10;&#32;&#10;&#62;&#32;&#32;&#32;&#32;&#32;&#102;&#111;&#110;&#116;&#45;&#102;&#97;&#109;&#105;&#108;&#121;&#61;&#34;&#115;&#97;&#110;&#115;&#45;&#115;&#101;&#114;&#105;&#102;&#34;&#62;&#79;&#60;&#47;&#116;&#101;&#120;&#116;&#62;&#60;&#47;&#103;&#62;&#60;&#47;&#103;&#62;&#60;&#47;&#115;&#118;&#103;&#62;&#44;&#32;&#10;&#32;&#10;&#62;&#32;&#32;&#32;&#105;&#110;&#99;&#104;&#105;&#32;&#45;&#62;&#32;&#73;&#110;&#67;&#104;&#73;&#61;&#49;&#83;&#47;&#67;&#49;&#49;&#72;&#50;&#48;&#79;&#50;&#47;&#99;&#49;&#45;&#50;&#45;&#49;&#51;&#45;&#49;&#49;&#40;&#49;&#50;&#41;&#57;&#45;&#56;&#45;&#49;&#48;&#45;&#54;&#45;&#52;&#45;&#51;&#45;&#53;&#45;&#55;&#45;&#49;&#48;&#47;&#104;&#49;&#48;&#72;&#44;&#50;&#45;&#57;&#72;&#50;&#44;&#49;&#72;&#51;&#44;&#32;&#10;&#32;&#10;&#62;&#32;&#32;&#32;&#105;&#110;&#99;&#104;&#105;&#75;&#101;&#121;&#32;&#45;&#62;&#32;&#73;&#110;&#67;&#104;&#73;&#75;&#101;&#121;&#61;&#78;&#82;&#86;&#80;&#77;&#70;&#72;&#80;&#72;&#71;&#66;&#81;&#76;&#80;&#45;&#85;&#72;&#70;&#70;&#70;&#65;&#79;&#89;&#83;&#65;&#45;&#78;&#44;&#32;&#115;&#109;&#105;&#108;&#101;&#32;&#45;&#62;&#32;&#67;&#40;&#67;&#67;&#40;&#79;&#67;&#67;&#41;&#61;&#79;&#41;&#67;&#49;&#67;&#67;&#67;&#67;&#67;&#49;&#44;&#32;&#10;&#32;&#10;&#62;&#32;&#32;&#32;&#99;&#97;&#110;&#111;&#110;&#105;&#99;&#97;&#108;&#83;&#109;&#105;&#108;&#101;&#32;&#45;&#62;&#32;&#79;&#61;&#67;&#40;&#79;&#67;&#67;&#41;&#67;&#67;&#67;&#49;&#67;&#67;&#67;&#67;&#67;&#49;&#44;&#32;&#10;&#32;&#10;&#62;&#32;&#32;&#32;&#109;&#111;&#108;&#101;&#99;&#117;&#108;&#97;&#114;&#70;&#111;&#114;&#109;&#117;&#108;&#97;&#32;&#45;&#62;&#32;&#67;&#60;&#115;&#117;&#98;&#62;&#49;&#49;&#60;&#47;&#115;&#117;&#98;&#62;&#72;&#60;&#115;&#117;&#98;&#62;&#50;&#48;&#60;&#47;&#115;&#117;&#98;&#62;&#79;&#60;&#115;&#117;&#98;&#62;&#50;&#60;&#47;&#115;&#117;&#98;&#62;&#44;&#32;&#10;&#32;&#10;&#62;&#32;&#32;&#32;&#109;&#111;&#108;&#101;&#99;&#117;&#108;&#97;&#114;&#77;&#97;&#115;&#115;&#32;&#45;&#62;&#32;&#49;&#56;&#52;&#46;&#50;&#56;&#44;&#32;&#101;&#120;&#112;&#101;&#114;&#105;&#109;&#101;&#110;&#116;&#97;&#108;&#80;&#114;&#111;&#112;&#101;&#114;&#116;&#105;&#101;&#115;&#32;&#45;&#62;&#32;&#10;&#32;&#10;&#62;&#32;&#32;&#32;&#32;&#123;&#60;&#124;&#110;&#97;&#109;&#101;&#32;&#45;&#62;&#32;&#66;&#111;&#105;&#108;&#105;&#110;&#103;&#32;&#80;&#111;&#105;&#110;&#116;&#44;&#32;&#112;&#114;&#111;&#112;&#101;&#114;&#116;&#121;&#32;&#45;&#62;&#32;&#49;&#48;&#53;&#45;&#49;&#49;&#51;&#32;&#176;&#67;&#32;&#64;&#32;&#80;&#114;&#101;&#115;&#115;&#58;&#32;&#49;&#55;&#32;&#84;&#111;&#114;&#114;&#44;&#32;&#10;&#32;&#10;&#62;&#32;&#32;&#32;&#32;&#32;&#32;&#115;&#111;&#117;&#114;&#99;&#101;&#78;&#117;&#109;&#98;&#101;&#114;&#32;&#45;&#62;&#32;&#49;&#124;&#62;&#125;&#44;&#32;&#112;&#114;&#111;&#112;&#101;&#114;&#116;&#121;&#67;&#105;&#116;&#97;&#116;&#105;&#111;&#110;&#115;&#32;&#45;&#62;&#32;&#10;&#32;&#10;&#62;&#32;&#32;&#32;&#32;&#123;&#60;&#124;&#100;&#111;&#99;&#85;&#114;&#105;&#32;&#45;&#62;&#32;&#100;&#111;&#99;&#117;&#109;&#101;&#110;&#116;&#47;&#112;&#116;&#47;&#100;&#111;&#99;&#117;&#109;&#101;&#110;&#116;&#47;&#50;&#50;&#50;&#53;&#50;&#53;&#57;&#51;&#44;&#32;&#115;&#111;&#117;&#114;&#99;&#101;&#78;&#117;&#109;&#98;&#101;&#114;&#32;&#45;&#62;&#32;&#49;&#44;&#32;&#10;&#32;&#10;&#62;&#32;&#32;&#32;&#32;&#32;&#32;&#115;&#111;&#117;&#114;&#99;&#101;&#32;&#45;&#62;&#32;&#68;&#101;&#32;&#66;&#101;&#110;&#110;&#101;&#118;&#105;&#108;&#108;&#101;&#44;&#32;&#80;&#101;&#116;&#101;&#114;&#32;&#76;&#46;&#59;&#32;&#74;&#111;&#117;&#114;&#110;&#97;&#108;&#32;&#111;&#102;&#32;&#116;&#104;&#101;&#32;&#65;&#109;&#101;&#114;&#105;&#99;&#97;&#110;&#32;&#67;&#104;&#101;&#109;&#105;&#99;&#97;&#108;&#32;&#83;&#111;&#99;&#105;&#101;&#116;&#121;&#44;&#92;&#10;&#32;&#10;&#62;&#32;&#32;&#32;&#32;&#32;&#32;&#32;&#32;&#40;&#49;&#57;&#52;&#48;&#41;&#44;&#32;&#54;&#50;&#44;&#32;&#50;&#56;&#51;&#45;&#55;&#44;&#32;&#67;&#65;&#112;&#108;&#117;&#115;&#124;&#62;&#125;&#44;&#32;&#10;&#32;&#10;&#62;&#32;&#32;&#32;&#115;&#121;&#110;&#111;&#110;&#121;&#109;&#115;&#32;&#45;&#62;&#32;&#123;&#67;&#121;&#99;&#108;&#111;&#104;&#101;&#120;&#97;&#110;&#101;&#112;&#114;&#111;&#112;&#97;&#110;&#111;&#105;&#99;&#32;&#97;&#99;&#105;&#100;&#44;&#32;&#101;&#116;&#104;&#121;&#108;&#32;&#101;&#115;&#116;&#101;&#114;&#44;&#32;&#10;&#32;&#10;&#62;&#32;&#32;&#32;&#32;&#32;&#67;&#121;&#99;&#108;&#111;&#104;&#101;&#120;&#97;&#110;&#101;&#112;&#114;&#111;&#112;&#105;&#111;&#110;&#105;&#99;&#32;&#97;&#99;&#105;&#100;&#44;&#32;&#101;&#116;&#104;&#121;&#108;&#32;&#101;&#115;&#116;&#101;&#114;&#44;&#32;&#69;&#116;&#104;&#121;&#108;&#32;&#99;&#121;&#99;&#108;&#111;&#104;&#101;&#120;&#97;&#110;&#101;&#112;&#114;&#111;&#112;&#105;&#111;&#110;&#97;&#116;&#101;&#44;&#32;&#10;&#32;&#10;&#62;&#32;&#32;&#32;&#32;&#32;&#69;&#116;&#104;&#121;&#108;&#32;&#99;&#121;&#99;&#108;&#111;&#104;&#101;&#120;&#121;&#108;&#112;&#114;&#111;&#112;&#97;&#110;&#111;&#97;&#116;&#101;&#44;&#32;&#69;&#116;&#104;&#121;&#108;&#32;&#51;&#45;&#99;&#121;&#99;&#108;&#111;&#104;&#101;&#120;&#121;&#108;&#112;&#114;&#111;&#112;&#105;&#111;&#110;&#97;&#116;&#101;&#44;&#32;&#10;&#32;&#10;&#62;&#32;&#32;&#32;&#32;&#32;&#69;&#116;&#104;&#121;&#108;&#32;&#51;&#45;&#99;&#121;&#99;&#108;&#111;&#104;&#101;&#120;&#121;&#108;&#112;&#114;&#111;&#112;&#97;&#110;&#111;&#97;&#116;&#101;&#44;&#32;&#51;&#45;&#67;&#121;&#99;&#108;&#111;&#104;&#101;&#120;&#121;&#108;&#112;&#114;&#111;&#112;&#105;&#111;&#110;&#105;&#99;&#32;&#97;&#99;&#105;&#100;&#32;&#101;&#116;&#104;&#121;&#108;&#32;&#101;&#115;&#116;&#101;&#114;&#44;&#32;&#78;&#83;&#67;&#32;&#55;&#49;&#52;&#54;&#51;&#44;&#32;&#10;&#32;&#10;&#62;&#32;&#32;&#32;&#32;&#32;&#69;&#116;&#104;&#121;&#108;&#32;&#51;&#45;&#99;&#121;&#99;&#108;&#111;&#104;&#101;&#120;&#97;&#110;&#101;&#112;&#114;&#111;&#112;&#105;&#111;&#110;&#97;&#116;&#101;&#125;&#44;&#32;&#114;&#101;&#112;&#108;&#97;&#99;&#101;&#100;&#82;&#110;&#115;&#32;&#45;&#62;&#32;&#123;&#125;&#44;&#32;&#104;&#97;&#115;&#77;&#111;&#108;&#102;&#105;&#108;&#101;&#32;&#45;&#62;&#32;&#84;&#114;&#117;&#101;&#124;&#62;</pre></div>"
            ],
            "text/plain": [
              "<|uri -> substance/pt/10094367, rn -> 10094-36-7, name -> Ethyl cyclohexanepropionate, \n",
              " \n",
              ">   image -> <svg width=\"228.6\" viewBox=\"0 0 7620 3716\" text-rendering=\"auto\"\\\n",
              " \n",
              ">     stroke-width=\"1\" stroke-opacity=\"1\" stroke-miterlimit=\"10\" stroke-linejoin=\"miter\"\\\n",
              " \n",
              ">     stroke-linecap=\"square\" stroke-dashoffset=\"0\" stroke-dasharray=\"none\"\\\n",
              " \n",
              ">     stroke=\"black\" shape-rendering=\"auto\" image-rendering=\"auto\" height=\"111.48\"\\\n",
              " \n",
              ">     font-weight=\"normal\" font-style=\"normal\" font-size=\"12\" font-family=\"'Dialog'\"\\\n",
              " \n",
              ">     fill-opacity=\"1\" fill=\"black\" color-rendering=\"auto\" color-interpolation=\"auto\"\\\n",
              " \n",
              ">     xmlns=\"http://www.w3.org/2000/svg\"><g><g stroke=\"white\" fill=\"white\"><rect y=\"0\"\\\n",
              " \n",
              ">     x=\"0\" width=\"7620\" stroke=\"none\" height=\"3716\"/></g><g\\\n",
              " \n",
              ">     transform=\"translate(32866,32758)\" text-rendering=\"geometricPrecision\"\\\n",
              " \n",
              ">     stroke-width=\"44\" stroke-linejoin=\"round\" stroke-linecap=\"round\"><line y2=\"-30850\"\\\n",
              " \n",
              ">     y1=\"-31419\" x2=\"-30792\" x1=\"-31777\" fill=\"none\"/><line y2=\"-29715\" y1=\"-30850\"\\\n",
              " \n",
              ">     x2=\"-30792\" x1=\"-30792\" fill=\"none\"/><line y2=\"-31419\" y1=\"-30850\" x2=\"-31777\"\\\n",
              " \n",
              ">     x1=\"-32762\" fill=\"none\"/><line y2=\"-29146\" y1=\"-29715\" x2=\"-31777\" x1=\"-30792\"\\\n",
              " \n",
              ">     fill=\"none\"/><line y2=\"-30850\" y1=\"-29715\" x2=\"-32762\" x1=\"-32762\"\\\n",
              " \n",
              ">     fill=\"none\"/><line y2=\"-29715\" y1=\"-29146\" x2=\"-32762\" x1=\"-31777\"\\\n",
              " \n",
              ">     fill=\"none\"/><line y2=\"-31376\" y1=\"-30850\" x2=\"-29885\" x1=\"-30792\"\\\n",
              " \n",
              ">     fill=\"none\"/><line y2=\"-30850\" y1=\"-31376\" x2=\"-28978\" x1=\"-29885\"\\\n",
              " \n",
              ">     fill=\"none\"/><line y2=\"-31376\" y1=\"-30850\" x2=\"-28071\" x1=\"-28978\"\\\n",
              " \n",
              ">     fill=\"none\"/><line y2=\"-30960\" y1=\"-31376\" x2=\"-27352\" x1=\"-28071\"\\\n",
              " \n",
              ">     fill=\"none\"/><line y2=\"-31376\" y1=\"-30960\" x2=\"-26257\" x1=\"-26976\"\\\n",
              " \n",
              ">     fill=\"none\"/><line y2=\"-30850\" y1=\"-31376\" x2=\"-25350\" x1=\"-26257\"\\\n",
              " \n",
              ">     fill=\"none\"/><line y2=\"-32202\" y1=\"-31376\" x2=\"-28140\" x1=\"-28140\"\\\n",
              " \n",
              ">     fill=\"none\"/><line y2=\"-32202\" y1=\"-31376\" x2=\"-28002\" x1=\"-28002\"\\\n",
              " \n",
              ">     fill=\"none\"/><text y=\"-30671\" xml:space=\"preserve\" x=\"-27317\" stroke=\"none\"\\\n",
              " \n",
              ">     font-size=\"433.3333\" font-family=\"sans-serif\">O</text><text y=\"-32242\"\\\n",
              " \n",
              ">     xml:space=\"preserve\" x=\"-28224\" stroke=\"none\" font-size=\"433.3333\"\\\n",
              " \n",
              ">     font-family=\"sans-serif\">O</text></g></g></svg>, \n",
              " \n",
              ">   inchi -> InChI=1S/C11H20O2/c1-2-13-11(12)9-8-10-6-4-3-5-7-10/h10H,2-9H2,1H3, \n",
              " \n",
              ">   inchiKey -> InChIKey=NRVPMFHPHGBQLP-UHFFFAOYSA-N, smile -> C(CC(OCC)=O)C1CCCCC1, \n",
              " \n",
              ">   canonicalSmile -> O=C(OCC)CCC1CCCCC1, \n",
              " \n",
              ">   molecularFormula -> C<sub>11</sub>H<sub>20</sub>O<sub>2</sub>, \n",
              " \n",
              ">   molecularMass -> 184.28, experimentalProperties -> \n",
              " \n",
              ">    {<|name -> Boiling Point, property -> 105-113 °C @ Press: 17 Torr, \n",
              " \n",
              ">      sourceNumber -> 1|>}, propertyCitations -> \n",
              " \n",
              ">    {<|docUri -> document/pt/document/22252593, sourceNumber -> 1, \n",
              " \n",
              ">      source -> De Benneville, Peter L.; Journal of the American Chemical Society,\\\n",
              " \n",
              ">        (1940), 62, 283-7, CAplus|>}, \n",
              " \n",
              ">   synonyms -> {Cyclohexanepropanoic acid, ethyl ester, \n",
              " \n",
              ">     Cyclohexanepropionic acid, ethyl ester, Ethyl cyclohexanepropionate, \n",
              " \n",
              ">     Ethyl cyclohexylpropanoate, Ethyl 3-cyclohexylpropionate, \n",
              " \n",
              ">     Ethyl 3-cyclohexylpropanoate, 3-Cyclohexylpropionic acid ethyl ester, NSC 71463, \n",
              " \n",
              ">     Ethyl 3-cyclohexanepropionate}, replacedRns -> {}, hasMolfile -> True|>"
            ]
          },
          "execution_count": 21,
          "metadata": {
            "text/html": [],
            "text/plain": []
          },
          "output_type": "execute_result"
        }
      ],
      "source": [
        "casrnData[[1]] //OutputForm (*Changed to plain text output*)"
      ]
    },
    {
      "cell_type": "code",
      "execution_count": null,
      "id": "3b8aa45e-3898-4dcc-bd9f-ef615d084122",
      "metadata": {
        "id": "3b8aa45e-3898-4dcc-bd9f-ef615d084122",
        "vscode": {
          "languageId": "wolfram language"
        }
      },
      "outputs": [],
      "source": [
        "plotList = {};\n",
        "For[i = 1, i <= Length[casrnList], i++,\n",
        " AppendTo[plotList, MoleculePlot[casrnData[[i]][\"smile\"]]]\n",
        " ]"
      ]
    },
    {
      "cell_type": "code",
      "execution_count": null,
      "id": "806c5d1c-4932-4895-be5e-312821d8f4dc",
      "metadata": {
        "id": "806c5d1c-4932-4895-be5e-312821d8f4dc",
        "outputId": "257c858c-be40-41bd-d743-1ff3ccf8e77b",
        "vscode": {
          "languageId": "wolfram language"
        }
      },
      "outputs": [
        {
          "data": {
            "text/html": [
              "<div><img alt=\"Output\" src=\"data:image/png;base64,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\"></div>"
            ],
            "text/plain": [
              "{-Graphics-, -Graphics-, -Graphics-, -Graphics-, -Graphics-}"
            ]
          },
          "execution_count": 24,
          "metadata": {
            "text/html": [],
            "text/plain": []
          },
          "output_type": "execute_result"
        }
      ],
      "source": [
        "plotList"
      ]
    },
    {
      "cell_type": "markdown",
      "id": "f8f45830-e6e0-435b-b925-1666a36a2b93",
      "metadata": {
        "id": "f8f45830-e6e0-435b-b925-1666a36a2b93"
      },
      "source": [
        "### Select some specific data"
      ]
    },
    {
      "cell_type": "markdown",
      "id": "e20018a1-c793-4a5f-be97-9df5e71fd090",
      "metadata": {
        "id": "e20018a1-c793-4a5f-be97-9df5e71fd090"
      },
      "source": [
        "Get canonical SMILES"
      ]
    },
    {
      "cell_type": "code",
      "execution_count": null,
      "id": "94ea1c5b-df32-4666-a984-4cbaad99a10f",
      "metadata": {
        "id": "94ea1c5b-df32-4666-a984-4cbaad99a10f",
        "outputId": "b85532f5-f11c-47d9-96b5-c81bbf80b96f",
        "vscode": {
          "languageId": "wolfram language"
        }
      },
      "outputs": [
        {
          "data": {
            "text/html": [
              "<div><pre style=\"&#102;&#111;&#110;&#116;&#45;&#102;&#97;&#109;&#105;&#108;&#121;&#58;&#32;&#34;&#67;&#111;&#117;&#114;&#105;&#101;&#114;&#32;&#78;&#101;&#119;&#34;&#44;&#67;&#111;&#117;&#114;&#105;&#101;&#114;&#44;&#109;&#111;&#110;&#111;&#115;&#112;&#97;&#99;&#101;&#59;\">&#123;&#79;&#61;&#67;&#40;&#79;&#67;&#67;&#41;&#67;&#67;&#67;&#49;&#67;&#67;&#67;&#67;&#67;&#49;&#44;&#32;&#79;&#61;&#67;&#40;&#67;&#35;&#67;&#67;&#67;&#67;&#67;&#67;&#67;&#41;&#79;&#67;&#67;&#44;&#32;&#79;&#61;&#67;&#40;&#79;&#67;&#67;&#41;&#67;&#78;&#49;&#78;&#61;&#67;&#67;&#61;&#67;&#49;&#44;&#32;&#10;&#32;&#10;&#62;&#32;&#32;&#32;&#79;&#61;&#67;&#40;&#79;&#67;&#67;&#41;&#67;&#49;&#61;&#67;&#67;&#61;&#67;&#67;&#40;&#61;&#67;&#49;&#41;&#67;&#67;&#67;&#40;&#61;&#79;&#41;&#79;&#67;&#67;&#44;&#32;&#78;&#61;&#67;&#40;&#79;&#67;&#67;&#41;&#67;&#49;&#61;&#67;&#67;&#67;&#67;&#67;&#49;&#125;</pre></div>"
            ],
            "text/plain": [
              "{O=C(OCC)CCC1CCCCC1, O=C(C#CCCCCCC)OCC, O=C(OCC)CN1N=CC=C1, \n",
              " \n",
              ">   O=C(OCC)C1=CC=CC(=C1)CCC(=O)OCC, N=C(OCC)C1=CCCCC1}"
            ]
          },
          "execution_count": 27,
          "metadata": {
            "text/html": [],
            "text/plain": []
          },
          "output_type": "execute_result"
        }
      ],
      "source": [
        "cansmiles = {};\n",
        "For[i = 1, i <= Length[casrnList], i++,\n",
        " AppendTo[cansmiles,\n",
        "  casrnData[[i]][\"canonicalSmile\"]]\n",
        " ]\n",
        "cansmiles"
      ]
    },
    {
      "cell_type": "code",
      "execution_count": null,
      "id": "a2265211-7257-4f56-8050-de6d6f428396",
      "metadata": {
        "id": "a2265211-7257-4f56-8050-de6d6f428396",
        "outputId": "4a1d1484-4368-4785-aeb4-b3281d3ab288",
        "vscode": {
          "languageId": "wolfram language"
        }
      },
      "outputs": [
        {
          "data": {
            "text/html": [
              "<div><pre style=\"&#102;&#111;&#110;&#116;&#45;&#102;&#97;&#109;&#105;&#108;&#121;&#58;&#32;&#34;&#67;&#111;&#117;&#114;&#105;&#101;&#114;&#32;&#78;&#101;&#119;&#34;&#44;&#67;&#111;&#117;&#114;&#105;&#101;&#114;&#44;&#109;&#111;&#110;&#111;&#115;&#112;&#97;&#99;&#101;&#59;\">&#123;&#123;&#67;&#121;&#99;&#108;&#111;&#104;&#101;&#120;&#97;&#110;&#101;&#112;&#114;&#111;&#112;&#97;&#110;&#111;&#105;&#99;&#32;&#97;&#99;&#105;&#100;&#44;&#32;&#101;&#116;&#104;&#121;&#108;&#32;&#101;&#115;&#116;&#101;&#114;&#44;&#32;&#67;&#121;&#99;&#108;&#111;&#104;&#101;&#120;&#97;&#110;&#101;&#112;&#114;&#111;&#112;&#105;&#111;&#110;&#105;&#99;&#32;&#97;&#99;&#105;&#100;&#44;&#32;&#101;&#116;&#104;&#121;&#108;&#32;&#101;&#115;&#116;&#101;&#114;&#44;&#32;&#10;&#32;&#10;&#62;&#32;&#32;&#32;&#32;&#69;&#116;&#104;&#121;&#108;&#32;&#99;&#121;&#99;&#108;&#111;&#104;&#101;&#120;&#97;&#110;&#101;&#112;&#114;&#111;&#112;&#105;&#111;&#110;&#97;&#116;&#101;&#44;&#32;&#69;&#116;&#104;&#121;&#108;&#32;&#99;&#121;&#99;&#108;&#111;&#104;&#101;&#120;&#121;&#108;&#112;&#114;&#111;&#112;&#97;&#110;&#111;&#97;&#116;&#101;&#44;&#32;&#10;&#32;&#10;&#62;&#32;&#32;&#32;&#32;&#69;&#116;&#104;&#121;&#108;&#32;&#51;&#45;&#99;&#121;&#99;&#108;&#111;&#104;&#101;&#120;&#121;&#108;&#112;&#114;&#111;&#112;&#105;&#111;&#110;&#97;&#116;&#101;&#44;&#32;&#69;&#116;&#104;&#121;&#108;&#32;&#51;&#45;&#99;&#121;&#99;&#108;&#111;&#104;&#101;&#120;&#121;&#108;&#112;&#114;&#111;&#112;&#97;&#110;&#111;&#97;&#116;&#101;&#44;&#32;&#10;&#32;&#10;&#62;&#32;&#32;&#32;&#32;&#51;&#45;&#67;&#121;&#99;&#108;&#111;&#104;&#101;&#120;&#121;&#108;&#112;&#114;&#111;&#112;&#105;&#111;&#110;&#105;&#99;&#32;&#97;&#99;&#105;&#100;&#32;&#101;&#116;&#104;&#121;&#108;&#32;&#101;&#115;&#116;&#101;&#114;&#44;&#32;&#78;&#83;&#67;&#32;&#55;&#49;&#52;&#54;&#51;&#44;&#32;&#69;&#116;&#104;&#121;&#108;&#32;&#51;&#45;&#99;&#121;&#99;&#108;&#111;&#104;&#101;&#120;&#97;&#110;&#101;&#112;&#114;&#111;&#112;&#105;&#111;&#110;&#97;&#116;&#101;&#125;&#44;&#32;&#10;&#32;&#10;&#62;&#32;&#32;&#32;&#123;&#50;&#45;&#78;&#111;&#110;&#121;&#110;&#111;&#105;&#99;&#32;&#97;&#99;&#105;&#100;&#44;&#32;&#101;&#116;&#104;&#121;&#108;&#32;&#101;&#115;&#116;&#101;&#114;&#44;&#32;&#69;&#116;&#104;&#121;&#108;&#32;&#50;&#45;&#110;&#111;&#110;&#121;&#110;&#111;&#97;&#116;&#101;&#44;&#32;&#78;&#83;&#67;&#32;&#49;&#57;&#48;&#57;&#56;&#53;&#125;&#44;&#32;&#10;&#32;&#10;&#62;&#32;&#32;&#32;&#123;&#49;&#60;&#101;&#109;&#62;&#72;&#60;&#47;&#101;&#109;&#62;&#45;&#80;&#121;&#114;&#97;&#122;&#111;&#108;&#101;&#45;&#49;&#45;&#97;&#99;&#101;&#116;&#105;&#99;&#32;&#97;&#99;&#105;&#100;&#44;&#32;&#101;&#116;&#104;&#121;&#108;&#32;&#101;&#115;&#116;&#101;&#114;&#44;&#32;&#10;&#32;&#10;&#62;&#32;&#32;&#32;&#32;&#80;&#121;&#114;&#97;&#122;&#111;&#108;&#101;&#45;&#49;&#45;&#97;&#99;&#101;&#116;&#105;&#99;&#32;&#97;&#99;&#105;&#100;&#44;&#32;&#101;&#116;&#104;&#121;&#108;&#32;&#101;&#115;&#116;&#101;&#114;&#44;&#32;&#69;&#116;&#104;&#121;&#108;&#32;&#49;&#60;&#101;&#109;&#62;&#72;&#60;&#47;&#101;&#109;&#62;&#45;&#112;&#121;&#114;&#97;&#122;&#111;&#108;&#101;&#45;&#49;&#45;&#97;&#99;&#101;&#116;&#97;&#116;&#101;&#44;&#32;&#10;&#32;&#10;&#62;&#32;&#32;&#32;&#32;&#69;&#116;&#104;&#121;&#108;&#32;&#49;&#45;&#112;&#121;&#114;&#97;&#122;&#111;&#108;&#101;&#97;&#99;&#101;&#116;&#97;&#116;&#101;&#44;&#32;&#69;&#116;&#104;&#121;&#108;&#32;&#50;&#45;&#40;&#49;&#60;&#101;&#109;&#62;&#72;&#60;&#47;&#101;&#109;&#62;&#45;&#112;&#121;&#114;&#97;&#122;&#111;&#108;&#45;&#49;&#45;&#121;&#108;&#41;&#97;&#99;&#101;&#116;&#97;&#116;&#101;&#125;&#44;&#32;&#10;&#32;&#10;&#62;&#32;&#32;&#32;&#123;&#66;&#101;&#110;&#122;&#101;&#110;&#101;&#112;&#114;&#111;&#112;&#97;&#110;&#111;&#105;&#99;&#32;&#97;&#99;&#105;&#100;&#44;&#32;&#51;&#45;&#40;&#101;&#116;&#104;&#111;&#120;&#121;&#99;&#97;&#114;&#98;&#111;&#110;&#121;&#108;&#41;&#45;&#44;&#32;&#101;&#116;&#104;&#121;&#108;&#32;&#101;&#115;&#116;&#101;&#114;&#44;&#32;&#10;&#32;&#10;&#62;&#32;&#32;&#32;&#32;&#72;&#121;&#100;&#114;&#111;&#99;&#105;&#110;&#110;&#97;&#109;&#105;&#99;&#32;&#97;&#99;&#105;&#100;&#44;&#32;&#60;&#101;&#109;&#62;&#109;&#60;&#47;&#101;&#109;&#62;&#45;&#99;&#97;&#114;&#98;&#111;&#120;&#121;&#45;&#44;&#32;&#100;&#105;&#101;&#116;&#104;&#121;&#108;&#32;&#101;&#115;&#116;&#101;&#114;&#44;&#32;&#10;&#32;&#10;&#62;&#32;&#32;&#32;&#32;&#69;&#116;&#104;&#121;&#108;&#32;&#51;&#45;&#40;&#101;&#116;&#104;&#111;&#120;&#121;&#99;&#97;&#114;&#98;&#111;&#110;&#121;&#108;&#41;&#98;&#101;&#110;&#122;&#101;&#110;&#101;&#112;&#114;&#111;&#112;&#97;&#110;&#111;&#97;&#116;&#101;&#125;&#44;&#32;&#10;&#32;&#10;&#62;&#32;&#32;&#32;&#123;&#49;&#45;&#67;&#121;&#99;&#108;&#111;&#104;&#101;&#120;&#101;&#110;&#101;&#45;&#49;&#45;&#99;&#97;&#114;&#98;&#111;&#120;&#105;&#109;&#105;&#100;&#105;&#99;&#32;&#97;&#99;&#105;&#100;&#44;&#32;&#101;&#116;&#104;&#121;&#108;&#32;&#101;&#115;&#116;&#101;&#114;&#44;&#32;&#10;&#32;&#10;&#62;&#32;&#32;&#32;&#32;&#69;&#116;&#104;&#121;&#108;&#32;&#49;&#45;&#99;&#121;&#99;&#108;&#111;&#104;&#101;&#120;&#101;&#110;&#101;&#45;&#49;&#45;&#99;&#97;&#114;&#98;&#111;&#120;&#105;&#109;&#105;&#100;&#97;&#116;&#101;&#125;&#125;</pre></div>"
            ],
            "text/plain": [
              "{{Cyclohexanepropanoic acid, ethyl ester, Cyclohexanepropionic acid, ethyl ester, \n",
              " \n",
              ">    Ethyl cyclohexanepropionate, Ethyl cyclohexylpropanoate, \n",
              " \n",
              ">    Ethyl 3-cyclohexylpropionate, Ethyl 3-cyclohexylpropanoate, \n",
              " \n",
              ">    3-Cyclohexylpropionic acid ethyl ester, NSC 71463, Ethyl 3-cyclohexanepropionate}, \n",
              " \n",
              ">   {2-Nonynoic acid, ethyl ester, Ethyl 2-nonynoate, NSC 190985}, \n",
              " \n",
              ">   {1<em>H</em>-Pyrazole-1-acetic acid, ethyl ester, \n",
              " \n",
              ">    Pyrazole-1-acetic acid, ethyl ester, Ethyl 1<em>H</em>-pyrazole-1-acetate, \n",
              " \n",
              ">    Ethyl 1-pyrazoleacetate, Ethyl 2-(1<em>H</em>-pyrazol-1-yl)acetate}, \n",
              " \n",
              ">   {Benzenepropanoic acid, 3-(ethoxycarbonyl)-, ethyl ester, \n",
              " \n",
              ">    Hydrocinnamic acid, <em>m</em>-carboxy-, diethyl ester, \n",
              " \n",
              ">    Ethyl 3-(ethoxycarbonyl)benzenepropanoate}, \n",
              " \n",
              ">   {1-Cyclohexene-1-carboximidic acid, ethyl ester, \n",
              " \n",
              ">    Ethyl 1-cyclohexene-1-carboximidate}}"
            ]
          },
          "execution_count": 30,
          "metadata": {
            "text/html": [],
            "text/plain": []
          },
          "output_type": "execute_result"
        }
      ],
      "source": [
        "synonymsList = {};\n",
        "For[i = 1, i <= Length[casrnList], i++,\n",
        " AppendTo[synonymsList,\n",
        "  casrnData[[i]][\"synonyms\"]]\n",
        " ]\n",
        "synonymsList"
      ]
    },
    {
      "cell_type": "markdown",
      "id": "24909177-27cf-47d2-912c-4e46438d0362",
      "metadata": {
        "id": "24909177-27cf-47d2-912c-4e46438d0362"
      },
      "source": [
        "Transform synonym \"list of lists\" to a flat list"
      ]
    },
    {
      "cell_type": "code",
      "execution_count": null,
      "id": "15dde975-2852-47de-ba03-548712fc99fd",
      "metadata": {
        "id": "15dde975-2852-47de-ba03-548712fc99fd",
        "outputId": "64966dd1-a427-4dc4-e373-311092d8f925",
        "vscode": {
          "languageId": "wolfram language"
        }
      },
      "outputs": [
        {
          "data": {
            "text/html": [
              "<div><pre style=\"&#102;&#111;&#110;&#116;&#45;&#102;&#97;&#109;&#105;&#108;&#121;&#58;&#32;&#34;&#67;&#111;&#117;&#114;&#105;&#101;&#114;&#32;&#78;&#101;&#119;&#34;&#44;&#67;&#111;&#117;&#114;&#105;&#101;&#114;&#44;&#109;&#111;&#110;&#111;&#115;&#112;&#97;&#99;&#101;&#59;\">&#123;&#67;&#121;&#99;&#108;&#111;&#104;&#101;&#120;&#97;&#110;&#101;&#112;&#114;&#111;&#112;&#97;&#110;&#111;&#105;&#99;&#32;&#97;&#99;&#105;&#100;&#44;&#32;&#101;&#116;&#104;&#121;&#108;&#32;&#101;&#115;&#116;&#101;&#114;&#44;&#32;&#67;&#121;&#99;&#108;&#111;&#104;&#101;&#120;&#97;&#110;&#101;&#112;&#114;&#111;&#112;&#105;&#111;&#110;&#105;&#99;&#32;&#97;&#99;&#105;&#100;&#44;&#32;&#101;&#116;&#104;&#121;&#108;&#32;&#101;&#115;&#116;&#101;&#114;&#44;&#32;&#10;&#32;&#10;&#62;&#32;&#32;&#32;&#69;&#116;&#104;&#121;&#108;&#32;&#99;&#121;&#99;&#108;&#111;&#104;&#101;&#120;&#97;&#110;&#101;&#112;&#114;&#111;&#112;&#105;&#111;&#110;&#97;&#116;&#101;&#44;&#32;&#69;&#116;&#104;&#121;&#108;&#32;&#99;&#121;&#99;&#108;&#111;&#104;&#101;&#120;&#121;&#108;&#112;&#114;&#111;&#112;&#97;&#110;&#111;&#97;&#116;&#101;&#44;&#32;&#10;&#32;&#10;&#62;&#32;&#32;&#32;&#69;&#116;&#104;&#121;&#108;&#32;&#51;&#45;&#99;&#121;&#99;&#108;&#111;&#104;&#101;&#120;&#121;&#108;&#112;&#114;&#111;&#112;&#105;&#111;&#110;&#97;&#116;&#101;&#44;&#32;&#69;&#116;&#104;&#121;&#108;&#32;&#51;&#45;&#99;&#121;&#99;&#108;&#111;&#104;&#101;&#120;&#121;&#108;&#112;&#114;&#111;&#112;&#97;&#110;&#111;&#97;&#116;&#101;&#44;&#32;&#10;&#32;&#10;&#62;&#32;&#32;&#32;&#51;&#45;&#67;&#121;&#99;&#108;&#111;&#104;&#101;&#120;&#121;&#108;&#112;&#114;&#111;&#112;&#105;&#111;&#110;&#105;&#99;&#32;&#97;&#99;&#105;&#100;&#32;&#101;&#116;&#104;&#121;&#108;&#32;&#101;&#115;&#116;&#101;&#114;&#44;&#32;&#78;&#83;&#67;&#32;&#55;&#49;&#52;&#54;&#51;&#44;&#32;&#69;&#116;&#104;&#121;&#108;&#32;&#51;&#45;&#99;&#121;&#99;&#108;&#111;&#104;&#101;&#120;&#97;&#110;&#101;&#112;&#114;&#111;&#112;&#105;&#111;&#110;&#97;&#116;&#101;&#44;&#32;&#10;&#32;&#10;&#62;&#32;&#32;&#32;&#50;&#45;&#78;&#111;&#110;&#121;&#110;&#111;&#105;&#99;&#32;&#97;&#99;&#105;&#100;&#44;&#32;&#101;&#116;&#104;&#121;&#108;&#32;&#101;&#115;&#116;&#101;&#114;&#44;&#32;&#69;&#116;&#104;&#121;&#108;&#32;&#50;&#45;&#110;&#111;&#110;&#121;&#110;&#111;&#97;&#116;&#101;&#44;&#32;&#78;&#83;&#67;&#32;&#49;&#57;&#48;&#57;&#56;&#53;&#44;&#32;&#10;&#32;&#10;&#62;&#32;&#32;&#32;&#49;&#60;&#101;&#109;&#62;&#72;&#60;&#47;&#101;&#109;&#62;&#45;&#80;&#121;&#114;&#97;&#122;&#111;&#108;&#101;&#45;&#49;&#45;&#97;&#99;&#101;&#116;&#105;&#99;&#32;&#97;&#99;&#105;&#100;&#44;&#32;&#101;&#116;&#104;&#121;&#108;&#32;&#101;&#115;&#116;&#101;&#114;&#44;&#32;&#10;&#32;&#10;&#62;&#32;&#32;&#32;&#80;&#121;&#114;&#97;&#122;&#111;&#108;&#101;&#45;&#49;&#45;&#97;&#99;&#101;&#116;&#105;&#99;&#32;&#97;&#99;&#105;&#100;&#44;&#32;&#101;&#116;&#104;&#121;&#108;&#32;&#101;&#115;&#116;&#101;&#114;&#44;&#32;&#69;&#116;&#104;&#121;&#108;&#32;&#49;&#60;&#101;&#109;&#62;&#72;&#60;&#47;&#101;&#109;&#62;&#45;&#112;&#121;&#114;&#97;&#122;&#111;&#108;&#101;&#45;&#49;&#45;&#97;&#99;&#101;&#116;&#97;&#116;&#101;&#44;&#32;&#10;&#32;&#10;&#62;&#32;&#32;&#32;&#69;&#116;&#104;&#121;&#108;&#32;&#49;&#45;&#112;&#121;&#114;&#97;&#122;&#111;&#108;&#101;&#97;&#99;&#101;&#116;&#97;&#116;&#101;&#44;&#32;&#69;&#116;&#104;&#121;&#108;&#32;&#50;&#45;&#40;&#49;&#60;&#101;&#109;&#62;&#72;&#60;&#47;&#101;&#109;&#62;&#45;&#112;&#121;&#114;&#97;&#122;&#111;&#108;&#45;&#49;&#45;&#121;&#108;&#41;&#97;&#99;&#101;&#116;&#97;&#116;&#101;&#44;&#32;&#10;&#32;&#10;&#62;&#32;&#32;&#32;&#66;&#101;&#110;&#122;&#101;&#110;&#101;&#112;&#114;&#111;&#112;&#97;&#110;&#111;&#105;&#99;&#32;&#97;&#99;&#105;&#100;&#44;&#32;&#51;&#45;&#40;&#101;&#116;&#104;&#111;&#120;&#121;&#99;&#97;&#114;&#98;&#111;&#110;&#121;&#108;&#41;&#45;&#44;&#32;&#101;&#116;&#104;&#121;&#108;&#32;&#101;&#115;&#116;&#101;&#114;&#44;&#32;&#10;&#32;&#10;&#62;&#32;&#32;&#32;&#72;&#121;&#100;&#114;&#111;&#99;&#105;&#110;&#110;&#97;&#109;&#105;&#99;&#32;&#97;&#99;&#105;&#100;&#44;&#32;&#60;&#101;&#109;&#62;&#109;&#60;&#47;&#101;&#109;&#62;&#45;&#99;&#97;&#114;&#98;&#111;&#120;&#121;&#45;&#44;&#32;&#100;&#105;&#101;&#116;&#104;&#121;&#108;&#32;&#101;&#115;&#116;&#101;&#114;&#44;&#32;&#10;&#32;&#10;&#62;&#32;&#32;&#32;&#69;&#116;&#104;&#121;&#108;&#32;&#51;&#45;&#40;&#101;&#116;&#104;&#111;&#120;&#121;&#99;&#97;&#114;&#98;&#111;&#110;&#121;&#108;&#41;&#98;&#101;&#110;&#122;&#101;&#110;&#101;&#112;&#114;&#111;&#112;&#97;&#110;&#111;&#97;&#116;&#101;&#44;&#32;&#10;&#32;&#10;&#62;&#32;&#32;&#32;&#49;&#45;&#67;&#121;&#99;&#108;&#111;&#104;&#101;&#120;&#101;&#110;&#101;&#45;&#49;&#45;&#99;&#97;&#114;&#98;&#111;&#120;&#105;&#109;&#105;&#100;&#105;&#99;&#32;&#97;&#99;&#105;&#100;&#44;&#32;&#101;&#116;&#104;&#121;&#108;&#32;&#101;&#115;&#116;&#101;&#114;&#44;&#32;&#69;&#116;&#104;&#121;&#108;&#32;&#49;&#45;&#99;&#121;&#99;&#108;&#111;&#104;&#101;&#120;&#101;&#110;&#101;&#45;&#49;&#45;&#99;&#97;&#114;&#98;&#111;&#120;&#105;&#109;&#105;&#100;&#97;&#116;&#101;&#125;</pre></div>"
            ],
            "text/plain": [
              "{Cyclohexanepropanoic acid, ethyl ester, Cyclohexanepropionic acid, ethyl ester, \n",
              " \n",
              ">   Ethyl cyclohexanepropionate, Ethyl cyclohexylpropanoate, \n",
              " \n",
              ">   Ethyl 3-cyclohexylpropionate, Ethyl 3-cyclohexylpropanoate, \n",
              " \n",
              ">   3-Cyclohexylpropionic acid ethyl ester, NSC 71463, Ethyl 3-cyclohexanepropionate, \n",
              " \n",
              ">   2-Nonynoic acid, ethyl ester, Ethyl 2-nonynoate, NSC 190985, \n",
              " \n",
              ">   1<em>H</em>-Pyrazole-1-acetic acid, ethyl ester, \n",
              " \n",
              ">   Pyrazole-1-acetic acid, ethyl ester, Ethyl 1<em>H</em>-pyrazole-1-acetate, \n",
              " \n",
              ">   Ethyl 1-pyrazoleacetate, Ethyl 2-(1<em>H</em>-pyrazol-1-yl)acetate, \n",
              " \n",
              ">   Benzenepropanoic acid, 3-(ethoxycarbonyl)-, ethyl ester, \n",
              " \n",
              ">   Hydrocinnamic acid, <em>m</em>-carboxy-, diethyl ester, \n",
              " \n",
              ">   Ethyl 3-(ethoxycarbonyl)benzenepropanoate, \n",
              " \n",
              ">   1-Cyclohexene-1-carboximidic acid, ethyl ester, Ethyl 1-cyclohexene-1-carboximidate}"
            ]
          },
          "execution_count": 31,
          "metadata": {
            "text/html": [],
            "text/plain": []
          },
          "output_type": "execute_result"
        }
      ],
      "source": [
        "Flatten[synonymsList]"
      ]
    },
    {
      "cell_type": "markdown",
      "id": "bf91db7f-2380-4b0a-9f56-56311ed9bf90",
      "metadata": {
        "id": "bf91db7f-2380-4b0a-9f56-56311ed9bf90"
      },
      "source": [
        "### Create a dataset"
      ]
    },
    {
      "cell_type": "code",
      "execution_count": null,
      "id": "8caad20d-7fe4-4f6d-943e-f1e91e98d32e",
      "metadata": {
        "id": "8caad20d-7fe4-4f6d-943e-f1e91e98d32e",
        "outputId": "97517433-63ad-4140-d83e-8fc329504f2b",
        "vscode": {
          "languageId": "wolfram language"
        }
      },
      "outputs": [
        {
          "data": {
            "text/html": [
              "<div><pre style=\"&#102;&#111;&#110;&#116;&#45;&#102;&#97;&#109;&#105;&#108;&#121;&#58;&#32;&#34;&#67;&#111;&#117;&#114;&#105;&#101;&#114;&#32;&#78;&#101;&#119;&#34;&#44;&#67;&#111;&#117;&#114;&#105;&#101;&#114;&#44;&#109;&#111;&#110;&#111;&#115;&#112;&#97;&#99;&#101;&#59;\">&#68;&#97;&#116;&#97;&#115;&#101;&#116;&#91;&#123;&#123;&#115;&#117;&#98;&#115;&#116;&#97;&#110;&#99;&#101;&#47;&#112;&#116;&#47;&#49;&#48;&#48;&#57;&#52;&#51;&#54;&#55;&#44;&#32;&#115;&#117;&#98;&#115;&#116;&#97;&#110;&#99;&#101;&#47;&#112;&#116;&#47;&#49;&#48;&#48;&#51;&#49;&#57;&#50;&#50;&#44;&#32;&#115;&#117;&#98;&#115;&#116;&#97;&#110;&#99;&#101;&#47;&#112;&#116;&#47;&#49;&#48;&#49;&#57;&#57;&#54;&#49;&#56;&#44;&#32;&#10;&#32;&#10;&#62;&#32;&#32;&#32;&#32;&#32;&#115;&#117;&#98;&#115;&#116;&#97;&#110;&#99;&#101;&#47;&#112;&#116;&#47;&#49;&#48;&#48;&#51;&#54;&#50;&#49;&#50;&#44;&#32;&#115;&#117;&#98;&#115;&#116;&#97;&#110;&#99;&#101;&#47;&#112;&#116;&#47;&#49;&#48;&#49;&#57;&#48;&#50;&#48;&#49;&#51;&#51;&#125;&#44;&#32;&#10;&#32;&#10;&#62;&#32;&#32;&#32;&#32;&#123;&#49;&#48;&#48;&#57;&#52;&#45;&#51;&#54;&#45;&#55;&#44;&#32;&#49;&#48;&#48;&#51;&#49;&#45;&#57;&#50;&#45;&#50;&#44;&#32;&#49;&#48;&#49;&#57;&#57;&#45;&#54;&#49;&#45;&#56;&#44;&#32;&#49;&#48;&#48;&#51;&#54;&#45;&#50;&#49;&#45;&#50;&#44;&#32;&#49;&#48;&#49;&#57;&#48;&#50;&#48;&#45;&#49;&#51;&#45;&#51;&#125;&#44;&#32;&#10;&#32;&#10;&#62;&#32;&#32;&#32;&#32;&#123;&#69;&#116;&#104;&#121;&#108;&#32;&#99;&#121;&#99;&#108;&#111;&#104;&#101;&#120;&#97;&#110;&#101;&#112;&#114;&#111;&#112;&#105;&#111;&#110;&#97;&#116;&#101;&#44;&#32;&#69;&#116;&#104;&#121;&#108;&#32;&#50;&#45;&#110;&#111;&#110;&#121;&#110;&#111;&#97;&#116;&#101;&#44;&#32;&#10;&#32;&#10;&#62;&#32;&#32;&#32;&#32;&#32;&#69;&#116;&#104;&#121;&#108;&#32;&#49;&#60;&#101;&#109;&#62;&#72;&#60;&#47;&#101;&#109;&#62;&#45;&#112;&#121;&#114;&#97;&#122;&#111;&#108;&#101;&#45;&#49;&#45;&#97;&#99;&#101;&#116;&#97;&#116;&#101;&#44;&#32;&#69;&#116;&#104;&#121;&#108;&#32;&#51;&#45;&#40;&#101;&#116;&#104;&#111;&#120;&#121;&#99;&#97;&#114;&#98;&#111;&#110;&#121;&#108;&#41;&#98;&#101;&#110;&#122;&#101;&#110;&#101;&#112;&#114;&#111;&#112;&#97;&#110;&#111;&#97;&#116;&#101;&#44;&#32;&#10;&#32;&#10;&#62;&#32;&#32;&#32;&#32;&#32;&#69;&#116;&#104;&#121;&#108;&#32;&#49;&#45;&#99;&#121;&#99;&#108;&#111;&#104;&#101;&#120;&#101;&#110;&#101;&#45;&#49;&#45;&#99;&#97;&#114;&#98;&#111;&#120;&#105;&#109;&#105;&#100;&#97;&#116;&#101;&#125;&#125;&#44;&#32;&#10;&#32;&#10;&#62;&#32;&#32;&#32;&#84;&#121;&#112;&#101;&#83;&#121;&#115;&#116;&#101;&#109;&#96;&#86;&#101;&#99;&#116;&#111;&#114;&#91;&#84;&#121;&#112;&#101;&#83;&#121;&#115;&#116;&#101;&#109;&#96;&#86;&#101;&#99;&#116;&#111;&#114;&#91;&#84;&#121;&#112;&#101;&#83;&#121;&#115;&#116;&#101;&#109;&#96;&#65;&#116;&#111;&#109;&#91;&#83;&#116;&#114;&#105;&#110;&#103;&#93;&#44;&#32;&#53;&#93;&#44;&#32;&#51;&#93;&#44;&#32;&#60;&#124;&#124;&#62;&#93;</pre></div>"
            ],
            "text/plain": [
              "Dataset[{{substance/pt/10094367, substance/pt/10031922, substance/pt/10199618, \n",
              " \n",
              ">     substance/pt/10036212, substance/pt/1019020133}, \n",
              " \n",
              ">    {10094-36-7, 10031-92-2, 10199-61-8, 10036-21-2, 1019020-13-3}, \n",
              " \n",
              ">    {Ethyl cyclohexanepropionate, Ethyl 2-nonynoate, \n",
              " \n",
              ">     Ethyl 1<em>H</em>-pyrazole-1-acetate, Ethyl 3-(ethoxycarbonyl)benzenepropanoate, \n",
              " \n",
              ">     Ethyl 1-cyclohexene-1-carboximidate}}, \n",
              " \n",
              ">   TypeSystem`Vector[TypeSystem`Vector[TypeSystem`Atom[String], 5], 3], <||>]"
            ]
          },
          "execution_count": 35,
          "metadata": {
            "text/html": [],
            "text/plain": []
          },
          "output_type": "execute_result"
        }
      ],
      "source": [
        "Table[casrnData[[All, i]], {i, {\"uri\", \"rn\", \"name\"}}] // Dataset"
      ]
    },
    {
      "cell_type": "markdown",
      "id": "d050a250-cb36-4535-b103-040b43b720da",
      "metadata": {
        "id": "d050a250-cb36-4535-b103-040b43b720da"
      },
      "source": [
        "## 3. Common Chemistry Search"
      ]
    },
    {
      "cell_type": "markdown",
      "id": "da68972a-880f-4283-bd64-7bb28a64be7a",
      "metadata": {
        "id": "da68972a-880f-4283-bd64-7bb28a64be7a"
      },
      "source": [
        "In addition to the `/detail` API, the CAS Common Chemistry API has a `/search` method that allows searching by CAS RN, SMILES, InChI/InChIKey, and name."
      ]
    },
    {
      "cell_type": "markdown",
      "id": "623d0d9d-d52f-4682-8e77-536b7daf33e6",
      "metadata": {
        "id": "623d0d9d-d52f-4682-8e77-536b7daf33e6"
      },
      "source": [
        "### Setup API Parameters"
      ]
    },
    {
      "cell_type": "code",
      "execution_count": null,
      "id": "11cb692c-4438-4fce-bdee-69e2730d6a66",
      "metadata": {
        "id": "11cb692c-4438-4fce-bdee-69e2730d6a66",
        "vscode": {
          "languageId": "wolfram language"
        }
      },
      "outputs": [],
      "source": [
        "searchBaseURL = \"https://commonchemistry.cas.org/api/search?q=\";\n",
        "\n",
        "(*InChIKey for Quinine*)\n",
        "IK = \"InChIKey=LOUPRKONTZGTKE-WZBLMQSHSA-N\";"
      ]
    },
    {
      "cell_type": "markdown",
      "id": "b10829b1-831c-48cd-a3ea-3a111e83915c",
      "metadata": {
        "id": "b10829b1-831c-48cd-a3ea-3a111e83915c"
      },
      "source": [
        "### Request data from CAS Common Chemistry Search API"
      ]
    },
    {
      "cell_type": "markdown",
      "id": "cd7e73f4-7437-4183-b3d8-9153dd29cc75",
      "metadata": {
        "id": "cd7e73f4-7437-4183-b3d8-9153dd29cc75"
      },
      "source": [
        "Search query:"
      ]
    },
    {
      "cell_type": "code",
      "execution_count": null,
      "id": "397c46fd-25a5-48e9-ad55-8bb16cb5c383",
      "metadata": {
        "id": "397c46fd-25a5-48e9-ad55-8bb16cb5c383",
        "outputId": "89afa05d-ab21-48f5-c407-0abba8e37cd3",
        "tags": [
          "output_scroll"
        ],
        "vscode": {
          "languageId": "wolfram language"
        }
      },
      "outputs": [
        {
          "data": {
            "text/html": [
              "<div><pre style=\"&#102;&#111;&#110;&#116;&#45;&#102;&#97;&#109;&#105;&#108;&#121;&#58;&#32;&#34;&#67;&#111;&#117;&#114;&#105;&#101;&#114;&#32;&#78;&#101;&#119;&#34;&#44;&#67;&#111;&#117;&#114;&#105;&#101;&#114;&#44;&#109;&#111;&#110;&#111;&#115;&#112;&#97;&#99;&#101;&#59;\">&#60;&#124;&#99;&#111;&#117;&#110;&#116;&#32;&#45;&#62;&#32;&#49;&#44;&#32;&#114;&#101;&#115;&#117;&#108;&#116;&#115;&#32;&#45;&#62;&#32;&#10;&#32;&#10;&#62;&#32;&#32;&#32;&#32;&#123;&#60;&#124;&#114;&#110;&#32;&#45;&#62;&#32;&#49;&#51;&#48;&#45;&#57;&#53;&#45;&#48;&#44;&#32;&#110;&#97;&#109;&#101;&#32;&#45;&#62;&#32;&#81;&#117;&#105;&#110;&#105;&#110;&#101;&#44;&#32;&#10;&#32;&#10;&#62;&#32;&#32;&#32;&#32;&#32;&#32;&#105;&#109;&#97;&#103;&#101;&#32;&#45;&#62;&#32;&#60;&#115;&#118;&#103;&#32;&#119;&#105;&#100;&#116;&#104;&#61;&#34;&#51;&#48;&#57;&#46;&#51;&#34;&#32;&#118;&#105;&#101;&#119;&#66;&#111;&#120;&#61;&#34;&#48;&#32;&#48;&#32;&#49;&#48;&#51;&#49;&#48;&#32;&#53;&#53;&#57;&#50;&#34;&#32;&#116;&#101;&#120;&#116;&#45;&#114;&#101;&#110;&#100;&#101;&#114;&#105;&#110;&#103;&#61;&#34;&#97;&#117;&#116;&#111;&#34;&#92;&#10;&#32;&#10;&#62;&#32;&#32;&#32;&#32;&#32;&#32;&#32;&#32;&#115;&#116;&#114;&#111;&#107;&#101;&#45;&#119;&#105;&#100;&#116;&#104;&#61;&#34;&#49;&#34;&#32;&#115;&#116;&#114;&#111;&#107;&#101;&#45;&#111;&#112;&#97;&#99;&#105;&#116;&#121;&#61;&#34;&#49;&#34;&#32;&#115;&#116;&#114;&#111;&#107;&#101;&#45;&#109;&#105;&#116;&#101;&#114;&#108;&#105;&#109;&#105;&#116;&#61;&#34;&#49;&#48;&#34;&#92;&#10;&#32;&#10;&#62;&#32;&#32;&#32;&#32;&#32;&#32;&#32;&#32;&#115;&#116;&#114;&#111;&#107;&#101;&#45;&#108;&#105;&#110;&#101;&#106;&#111;&#105;&#110;&#61;&#34;&#109;&#105;&#116;&#101;&#114;&#34;&#32;&#115;&#116;&#114;&#111;&#107;&#101;&#45;&#108;&#105;&#110;&#101;&#99;&#97;&#112;&#61;&#34;&#115;&#113;&#117;&#97;&#114;&#101;&#34;&#32;&#115;&#116;&#114;&#111;&#107;&#101;&#45;&#100;&#97;&#115;&#104;&#111;&#102;&#102;&#115;&#101;&#116;&#61;&#34;&#48;&#34;&#92;&#10;&#32;&#10;&#62;&#32;&#32;&#32;&#32;&#32;&#32;&#32;&#32;&#115;&#116;&#114;&#111;&#107;&#101;&#45;&#100;&#97;&#115;&#104;&#97;&#114;&#114;&#97;&#121;&#61;&#34;&#110;&#111;&#110;&#101;&#34;&#32;&#115;&#116;&#114;&#111;&#107;&#101;&#61;&#34;&#98;&#108;&#97;&#99;&#107;&#34;&#32;&#115;&#104;&#97;&#112;&#101;&#45;&#114;&#101;&#110;&#100;&#101;&#114;&#105;&#110;&#103;&#61;&#34;&#97;&#117;&#116;&#111;&#34;&#92;&#10;&#32;&#10;&#62;&#32;&#32;&#32;&#32;&#32;&#32;&#32;&#32;&#105;&#109;&#97;&#103;&#101;&#45;&#114;&#101;&#110;&#100;&#101;&#114;&#105;&#110;&#103;&#61;&#34;&#97;&#117;&#116;&#111;&#34;&#32;&#104;&#101;&#105;&#103;&#104;&#116;&#61;&#34;&#49;&#54;&#55;&#46;&#55;&#54;&#34;&#32;&#102;&#111;&#110;&#116;&#45;&#119;&#101;&#105;&#103;&#104;&#116;&#61;&#34;&#110;&#111;&#114;&#109;&#97;&#108;&#34;&#32;&#102;&#111;&#110;&#116;&#45;&#115;&#116;&#121;&#108;&#101;&#61;&#34;&#110;&#111;&#114;&#109;&#97;&#108;&#34;&#92;&#10;&#32;&#10;&#62;&#32;&#32;&#32;&#32;&#32;&#32;&#32;&#32;&#102;&#111;&#110;&#116;&#45;&#115;&#105;&#122;&#101;&#61;&#34;&#49;&#50;&#34;&#32;&#102;&#111;&#110;&#116;&#45;&#102;&#97;&#109;&#105;&#108;&#121;&#61;&#34;&#39;&#68;&#105;&#97;&#108;&#111;&#103;&#39;&#34;&#32;&#102;&#105;&#108;&#108;&#45;&#111;&#112;&#97;&#99;&#105;&#116;&#121;&#61;&#34;&#49;&#34;&#32;&#102;&#105;&#108;&#108;&#61;&#34;&#98;&#108;&#97;&#99;&#107;&#34;&#92;&#10;&#32;&#10;&#62;&#32;&#32;&#32;&#32;&#32;&#32;&#32;&#32;&#99;&#111;&#108;&#111;&#114;&#45;&#114;&#101;&#110;&#100;&#101;&#114;&#105;&#110;&#103;&#61;&#34;&#97;&#117;&#116;&#111;&#34;&#32;&#99;&#111;&#108;&#111;&#114;&#45;&#105;&#110;&#116;&#101;&#114;&#112;&#111;&#108;&#97;&#116;&#105;&#111;&#110;&#61;&#34;&#97;&#117;&#116;&#111;&#34;&#92;&#10;&#32;&#10;&#62;&#32;&#32;&#32;&#32;&#32;&#32;&#32;&#32;&#120;&#109;&#108;&#110;&#115;&#61;&#34;&#104;&#116;&#116;&#112;&#58;&#47;&#47;&#119;&#119;&#119;&#46;&#119;&#51;&#46;&#111;&#114;&#103;&#47;&#50;&#48;&#48;&#48;&#47;&#115;&#118;&#103;&#34;&#62;&#60;&#103;&#62;&#60;&#103;&#32;&#115;&#116;&#114;&#111;&#107;&#101;&#61;&#34;&#119;&#104;&#105;&#116;&#101;&#34;&#32;&#102;&#105;&#108;&#108;&#61;&#34;&#119;&#104;&#105;&#116;&#101;&#34;&#62;&#60;&#114;&#101;&#99;&#116;&#92;&#10;&#32;&#10;&#62;&#32;&#32;&#32;&#32;&#32;&#32;&#32;&#32;&#121;&#61;&#34;&#48;&#34;&#32;&#120;&#61;&#34;&#48;&#34;&#32;&#119;&#105;&#100;&#116;&#104;&#61;&#34;&#49;&#48;&#51;&#49;&#48;&#34;&#32;&#115;&#116;&#114;&#111;&#107;&#101;&#61;&#34;&#110;&#111;&#110;&#101;&#34;&#32;&#104;&#101;&#105;&#103;&#104;&#116;&#61;&#34;&#53;&#53;&#57;&#50;&#34;&#47;&#62;&#60;&#47;&#103;&#62;&#60;&#103;&#92;&#10;&#32;&#10;&#62;&#32;&#32;&#32;&#32;&#32;&#32;&#32;&#32;&#116;&#114;&#97;&#110;&#115;&#102;&#111;&#114;&#109;&#61;&#34;&#116;&#114;&#97;&#110;&#115;&#108;&#97;&#116;&#101;&#40;&#51;&#50;&#56;&#54;&#54;&#44;&#51;&#50;&#55;&#53;&#56;&#41;&#34;&#32;&#116;&#101;&#120;&#116;&#45;&#114;&#101;&#110;&#100;&#101;&#114;&#105;&#110;&#103;&#61;&#34;&#103;&#101;&#111;&#109;&#101;&#116;&#114;&#105;&#99;&#80;&#114;&#101;&#99;&#105;&#115;&#105;&#111;&#110;&#34;&#92;&#10;&#32;&#10;&#62;&#32;&#32;&#32;&#32;&#32;&#32;&#32;&#32;&#115;&#116;&#114;&#111;&#107;&#101;&#45;&#119;&#105;&#100;&#116;&#104;&#61;&#34;&#52;&#52;&#34;&#32;&#115;&#116;&#114;&#111;&#107;&#101;&#45;&#108;&#105;&#110;&#101;&#106;&#111;&#105;&#110;&#61;&#34;&#114;&#111;&#117;&#110;&#100;&#34;&#32;&#115;&#116;&#114;&#111;&#107;&#101;&#45;&#108;&#105;&#110;&#101;&#99;&#97;&#112;&#61;&#34;&#114;&#111;&#117;&#110;&#100;&#34;&#62;&#60;&#108;&#105;&#110;&#101;&#92;&#10;&#32;&#10;&#62;&#32;&#32;&#32;&#32;&#32;&#32;&#32;&#32;&#121;&#50;&#61;&#34;&#45;&#50;&#56;&#53;&#53;&#57;&#34;&#32;&#121;&#49;&#61;&#34;&#45;&#50;&#56;&#48;&#51;&#54;&#34;&#32;&#120;&#50;&#61;&#34;&#45;&#50;&#54;&#54;&#51;&#53;&#34;&#32;&#120;&#49;&#61;&#34;&#45;&#50;&#53;&#55;&#52;&#50;&#34;&#32;&#102;&#105;&#108;&#108;&#61;&#34;&#110;&#111;&#110;&#101;&#34;&#47;&#62;&#60;&#108;&#105;&#110;&#101;&#32;&#121;&#50;&#61;&#34;&#45;&#50;&#57;&#56;&#49;&#57;&#34;&#92;&#10;&#32;&#10;&#62;&#32;&#32;&#32;&#32;&#32;&#32;&#32;&#32;&#121;&#49;&#61;&#34;&#45;&#50;&#56;&#53;&#53;&#57;&#34;&#32;&#120;&#50;&#61;&#34;&#45;&#50;&#54;&#54;&#51;&#53;&#34;&#32;&#120;&#49;&#61;&#34;&#45;&#50;&#54;&#54;&#51;&#53;&#34;&#32;&#102;&#105;&#108;&#108;&#61;&#34;&#110;&#111;&#110;&#101;&#34;&#47;&#62;&#60;&#108;&#105;&#110;&#101;&#32;&#121;&#50;&#61;&#34;&#45;&#50;&#56;&#48;&#51;&#54;&#34;&#32;&#121;&#49;&#61;&#34;&#45;&#50;&#56;&#53;&#53;&#57;&#34;&#92;&#10;&#32;&#10;&#62;&#32;&#32;&#32;&#32;&#32;&#32;&#32;&#32;&#120;&#50;&#61;&#34;&#45;&#50;&#53;&#51;&#54;&#55;&#34;&#32;&#120;&#49;&#61;&#34;&#45;&#50;&#52;&#52;&#55;&#52;&#34;&#32;&#102;&#105;&#108;&#108;&#61;&#34;&#110;&#111;&#110;&#101;&#34;&#47;&#62;&#60;&#108;&#105;&#110;&#101;&#32;&#121;&#50;&#61;&#34;&#45;&#51;&#48;&#52;&#53;&#49;&#34;&#32;&#121;&#49;&#61;&#34;&#45;&#50;&#57;&#56;&#49;&#57;&#34;&#32;&#120;&#50;&#61;&#34;&#45;&#50;&#53;&#53;&#53;&#53;&#34;&#92;&#10;&#32;&#10;&#62;&#32;&#32;&#32;&#32;&#32;&#32;&#32;&#32;&#120;&#49;&#61;&#34;&#45;&#50;&#54;&#54;&#51;&#53;&#34;&#32;&#102;&#105;&#108;&#108;&#61;&#34;&#110;&#111;&#110;&#101;&#34;&#47;&#62;&#60;&#108;&#105;&#110;&#101;&#32;&#121;&#50;&#61;&#34;&#45;&#50;&#56;&#53;&#53;&#57;&#34;&#32;&#121;&#49;&#61;&#34;&#45;&#50;&#57;&#56;&#49;&#57;&#34;&#32;&#120;&#50;&#61;&#34;&#45;&#50;&#52;&#52;&#55;&#52;&#34;&#32;&#120;&#49;&#61;&#34;&#45;&#50;&#52;&#52;&#55;&#52;&#34;&#92;&#10;&#32;&#10;&#62;&#32;&#32;&#32;&#32;&#32;&#32;&#32;&#32;&#102;&#105;&#108;&#108;&#61;&#34;&#110;&#111;&#110;&#101;&#34;&#47;&#62;&#60;&#108;&#105;&#110;&#101;&#32;&#121;&#50;&#61;&#34;&#45;&#50;&#57;&#53;&#48;&#52;&#34;&#32;&#121;&#49;&#61;&#34;&#45;&#50;&#56;&#56;&#50;&#56;&#34;&#32;&#120;&#50;&#61;&#34;&#45;&#50;&#53;&#49;&#57;&#52;&#34;&#32;&#120;&#49;&#61;&#34;&#45;&#50;&#54;&#48;&#48;&#53;&#34;&#92;&#10;&#32;&#10;&#62;&#32;&#32;&#32;&#32;&#32;&#32;&#32;&#32;&#102;&#105;&#108;&#108;&#61;&#34;&#110;&#111;&#110;&#101;&#34;&#47;&#62;&#60;&#108;&#105;&#110;&#101;&#32;&#121;&#50;&#61;&#34;&#45;&#50;&#57;&#56;&#49;&#57;&#34;&#32;&#121;&#49;&#61;&#34;&#45;&#51;&#48;&#52;&#53;&#49;&#34;&#32;&#120;&#50;&#61;&#34;&#45;&#50;&#52;&#52;&#55;&#52;&#34;&#32;&#120;&#49;&#61;&#34;&#45;&#50;&#53;&#53;&#53;&#53;&#34;&#92;&#10;&#32;&#10;&#62;&#32;&#32;&#32;&#32;&#32;&#32;&#32;&#32;&#102;&#105;&#108;&#108;&#61;&#34;&#110;&#111;&#110;&#101;&#34;&#47;&#62;&#60;&#108;&#105;&#110;&#101;&#32;&#121;&#50;&#61;&#34;&#45;&#50;&#57;&#48;&#56;&#50;&#34;&#32;&#121;&#49;&#61;&#34;&#45;&#50;&#56;&#53;&#53;&#57;&#34;&#32;&#120;&#50;&#61;&#34;&#45;&#50;&#55;&#53;&#52;&#50;&#34;&#32;&#120;&#49;&#61;&#34;&#45;&#50;&#54;&#54;&#51;&#53;&#34;&#92;&#10;&#32;&#10;&#62;&#32;&#32;&#32;&#32;&#32;&#32;&#32;&#32;&#102;&#105;&#108;&#108;&#61;&#34;&#110;&#111;&#110;&#101;&#34;&#47;&#62;&#60;&#108;&#105;&#110;&#101;&#32;&#121;&#50;&#61;&#34;&#45;&#50;&#57;&#56;&#49;&#57;&#34;&#32;&#121;&#49;&#61;&#34;&#45;&#51;&#48;&#51;&#52;&#52;&#34;&#32;&#120;&#50;&#61;&#34;&#45;&#50;&#50;&#54;&#54;&#48;&#34;&#32;&#120;&#49;&#61;&#34;&#45;&#50;&#51;&#53;&#54;&#55;&#34;&#92;&#10;&#32;&#10;&#62;&#32;&#32;&#32;&#32;&#32;&#32;&#32;&#32;&#102;&#105;&#108;&#108;&#61;&#34;&#110;&#111;&#110;&#101;&#34;&#47;&#62;&#60;&#108;&#105;&#110;&#101;&#32;&#121;&#50;&#61;&#34;&#45;&#50;&#57;&#55;&#48;&#48;&#34;&#32;&#121;&#49;&#61;&#34;&#45;&#51;&#48;&#50;&#50;&#51;&#34;&#32;&#120;&#50;&#61;&#34;&#45;&#50;&#50;&#55;&#50;&#57;&#34;&#32;&#120;&#49;&#61;&#34;&#45;&#50;&#51;&#54;&#51;&#54;&#34;&#92;&#10;&#32;&#10;&#62;&#32;&#32;&#32;&#32;&#32;&#32;&#32;&#32;&#102;&#105;&#108;&#108;&#61;&#34;&#110;&#111;&#110;&#101;&#34;&#47;&#62;&#60;&#108;&#105;&#110;&#101;&#32;&#121;&#50;&#61;&#34;&#45;&#50;&#56;&#55;&#55;&#57;&#34;&#32;&#121;&#49;&#61;&#34;&#45;&#50;&#57;&#48;&#56;&#50;&#34;&#32;&#120;&#50;&#61;&#34;&#45;&#50;&#56;&#48;&#55;&#49;&#34;&#32;&#120;&#49;&#61;&#34;&#45;&#50;&#55;&#53;&#52;&#50;&#34;&#92;&#10;&#32;&#10;&#62;&#32;&#32;&#32;&#32;&#32;&#32;&#32;&#32;&#102;&#105;&#108;&#108;&#61;&#34;&#110;&#111;&#110;&#101;&#34;&#47;&#62;&#60;&#108;&#105;&#110;&#101;&#32;&#121;&#50;&#61;&#34;&#45;&#51;&#48;&#55;&#48;&#51;&#34;&#32;&#121;&#49;&#61;&#34;&#45;&#51;&#48;&#49;&#51;&#49;&#34;&#32;&#120;&#50;&#61;&#34;&#45;&#50;&#56;&#53;&#50;&#52;&#34;&#32;&#120;&#49;&#61;&#34;&#45;&#50;&#55;&#53;&#52;&#50;&#34;&#92;&#10;&#32;&#10;&#62;&#32;&#32;&#32;&#32;&#32;&#32;&#32;&#32;&#102;&#105;&#108;&#108;&#61;&#34;&#110;&#111;&#110;&#101;&#34;&#47;&#62;&#60;&#108;&#105;&#110;&#101;&#32;&#121;&#50;&#61;&#34;&#45;&#51;&#49;&#56;&#53;&#48;&#34;&#32;&#121;&#49;&#61;&#34;&#45;&#51;&#48;&#55;&#48;&#51;&#34;&#32;&#120;&#50;&#61;&#34;&#45;&#50;&#56;&#53;&#50;&#52;&#34;&#32;&#120;&#49;&#61;&#34;&#45;&#50;&#56;&#53;&#50;&#52;&#34;&#92;&#10;&#32;&#10;&#62;&#32;&#32;&#32;&#32;&#32;&#32;&#32;&#32;&#102;&#105;&#108;&#108;&#61;&#34;&#110;&#111;&#110;&#101;&#34;&#47;&#62;&#60;&#108;&#105;&#110;&#101;&#32;&#121;&#50;&#61;&#34;&#45;&#51;&#49;&#55;&#48;&#53;&#34;&#32;&#121;&#49;&#61;&#34;&#45;&#51;&#48;&#56;&#52;&#55;&#34;&#32;&#120;&#50;&#61;&#34;&#45;&#50;&#56;&#51;&#53;&#52;&#34;&#32;&#120;&#49;&#61;&#34;&#45;&#50;&#56;&#51;&#53;&#52;&#34;&#92;&#10;&#32;&#10;&#62;&#32;&#32;&#32;&#32;&#32;&#32;&#32;&#32;&#102;&#105;&#108;&#108;&#61;&#34;&#110;&#111;&#110;&#101;&#34;&#47;&#62;&#60;&#108;&#105;&#110;&#101;&#32;&#121;&#50;&#61;&#34;&#45;&#51;&#48;&#49;&#51;&#49;&#34;&#32;&#121;&#49;&#61;&#34;&#45;&#51;&#48;&#55;&#48;&#51;&#34;&#32;&#120;&#50;&#61;&#34;&#45;&#50;&#57;&#53;&#48;&#55;&#34;&#32;&#120;&#49;&#61;&#34;&#45;&#50;&#56;&#53;&#50;&#52;&#34;&#92;&#10;&#32;&#10;&#62;&#32;&#32;&#32;&#32;&#32;&#32;&#32;&#32;&#102;&#105;&#108;&#108;&#61;&#34;&#110;&#111;&#110;&#101;&#34;&#47;&#62;&#60;&#108;&#105;&#110;&#101;&#32;&#121;&#50;&#61;&#34;&#45;&#51;&#48;&#49;&#51;&#49;&#34;&#32;&#121;&#49;&#61;&#34;&#45;&#51;&#48;&#55;&#48;&#51;&#34;&#32;&#120;&#50;&#61;&#34;&#45;&#50;&#55;&#53;&#52;&#50;&#34;&#32;&#120;&#49;&#61;&#34;&#45;&#50;&#54;&#53;&#54;&#48;&#34;&#92;&#10;&#32;&#10;&#62;&#32;&#32;&#32;&#32;&#32;&#32;&#32;&#32;&#102;&#105;&#108;&#108;&#61;&#34;&#110;&#111;&#110;&#101;&#34;&#47;&#62;&#60;&#108;&#105;&#110;&#101;&#32;&#121;&#50;&#61;&#34;&#45;&#51;&#48;&#51;&#52;&#55;&#34;&#32;&#121;&#49;&#61;&#34;&#45;&#51;&#48;&#55;&#55;&#56;&#34;&#32;&#120;&#50;&#61;&#34;&#45;&#50;&#55;&#53;&#48;&#53;&#34;&#32;&#120;&#49;&#61;&#34;&#45;&#50;&#54;&#55;&#54;&#56;&#34;&#92;&#10;&#32;&#10;&#62;&#32;&#32;&#32;&#32;&#32;&#32;&#32;&#32;&#102;&#105;&#108;&#108;&#61;&#34;&#110;&#111;&#110;&#101;&#34;&#47;&#62;&#60;&#108;&#105;&#110;&#101;&#32;&#121;&#50;&#61;&#34;&#45;&#51;&#49;&#56;&#53;&#48;&#34;&#32;&#121;&#49;&#61;&#34;&#45;&#51;&#50;&#52;&#50;&#50;&#34;&#32;&#120;&#50;&#61;&#34;&#45;&#50;&#56;&#53;&#50;&#52;&#34;&#32;&#120;&#49;&#61;&#34;&#45;&#50;&#57;&#53;&#48;&#55;&#34;&#92;&#10;&#32;&#10;&#62;&#32;&#32;&#32;&#32;&#32;&#32;&#32;&#32;&#102;&#105;&#108;&#108;&#61;&#34;&#110;&#111;&#110;&#101;&#34;&#47;&#62;&#60;&#108;&#105;&#110;&#101;&#32;&#121;&#50;&#61;&#34;&#45;&#51;&#50;&#51;&#49;&#50;&#34;&#32;&#121;&#49;&#61;&#34;&#45;&#51;&#49;&#56;&#53;&#48;&#34;&#32;&#120;&#50;&#61;&#34;&#45;&#50;&#55;&#55;&#51;&#48;&#34;&#32;&#120;&#49;&#61;&#34;&#45;&#50;&#56;&#53;&#50;&#52;&#34;&#92;&#10;&#32;&#10;&#62;&#32;&#32;&#32;&#32;&#32;&#32;&#32;&#32;&#102;&#105;&#108;&#108;&#61;&#34;&#110;&#111;&#110;&#101;&#34;&#47;&#62;&#60;&#108;&#105;&#110;&#101;&#32;&#121;&#50;&#61;&#34;&#45;&#51;&#48;&#55;&#48;&#51;&#34;&#32;&#121;&#49;&#61;&#34;&#45;&#51;&#48;&#49;&#51;&#49;&#34;&#32;&#120;&#50;&#61;&#34;&#45;&#51;&#48;&#52;&#56;&#57;&#34;&#32;&#120;&#49;&#61;&#34;&#45;&#50;&#57;&#53;&#48;&#55;&#34;&#92;&#10;&#32;&#10;&#62;&#32;&#32;&#32;&#32;&#32;&#32;&#32;&#32;&#102;&#105;&#108;&#108;&#61;&#34;&#110;&#111;&#110;&#101;&#34;&#47;&#62;&#60;&#108;&#105;&#110;&#101;&#32;&#121;&#50;&#61;&#34;&#45;&#51;&#48;&#55;&#55;&#56;&#34;&#32;&#121;&#49;&#61;&#34;&#45;&#51;&#48;&#51;&#52;&#55;&#34;&#32;&#120;&#50;&#61;&#34;&#45;&#51;&#48;&#50;&#56;&#49;&#34;&#32;&#120;&#49;&#61;&#34;&#45;&#50;&#57;&#53;&#52;&#52;&#34;&#92;&#10;&#32;&#10;&#62;&#32;&#32;&#32;&#32;&#32;&#32;&#32;&#32;&#102;&#105;&#108;&#108;&#61;&#34;&#110;&#111;&#110;&#101;&#34;&#47;&#62;&#60;&#108;&#105;&#110;&#101;&#32;&#121;&#50;&#61;&#34;&#45;&#51;&#48;&#55;&#48;&#51;&#34;&#32;&#121;&#49;&#61;&#34;&#45;&#51;&#49;&#56;&#53;&#48;&#34;&#32;&#120;&#50;&#61;&#34;&#45;&#50;&#54;&#53;&#54;&#48;&#34;&#32;&#120;&#49;&#61;&#34;&#45;&#50;&#54;&#53;&#54;&#48;&#34;&#92;&#10;&#32;&#10;&#62;&#32;&#32;&#32;&#32;&#32;&#32;&#32;&#32;&#102;&#105;&#108;&#108;&#61;&#34;&#110;&#111;&#110;&#101;&#34;&#47;&#62;&#60;&#108;&#105;&#110;&#101;&#32;&#121;&#50;&#61;&#34;&#45;&#51;&#50;&#52;&#50;&#50;&#34;&#32;&#121;&#49;&#61;&#34;&#45;&#51;&#49;&#56;&#53;&#48;&#34;&#32;&#120;&#50;&#61;&#34;&#45;&#50;&#57;&#53;&#48;&#55;&#34;&#32;&#120;&#49;&#61;&#34;&#45;&#51;&#48;&#52;&#56;&#57;&#34;&#92;&#10;&#32;&#10;&#62;&#32;&#32;&#32;&#32;&#32;&#32;&#32;&#32;&#102;&#105;&#108;&#108;&#61;&#34;&#110;&#111;&#110;&#101;&#34;&#47;&#62;&#60;&#108;&#105;&#110;&#101;&#32;&#121;&#50;&#61;&#34;&#45;&#51;&#50;&#50;&#48;&#53;&#34;&#32;&#121;&#49;&#61;&#34;&#45;&#51;&#49;&#55;&#55;&#52;&#34;&#32;&#120;&#50;&#61;&#34;&#45;&#50;&#57;&#53;&#52;&#52;&#34;&#32;&#120;&#49;&#61;&#34;&#45;&#51;&#48;&#50;&#56;&#49;&#34;&#92;&#10;&#32;&#10;&#62;&#32;&#32;&#32;&#32;&#32;&#32;&#32;&#32;&#102;&#105;&#108;&#108;&#61;&#34;&#110;&#111;&#110;&#101;&#34;&#47;&#62;&#60;&#108;&#105;&#110;&#101;&#32;&#121;&#50;&#61;&#34;&#45;&#51;&#49;&#56;&#53;&#48;&#34;&#32;&#121;&#49;&#61;&#34;&#45;&#51;&#50;&#51;&#49;&#50;&#34;&#32;&#120;&#50;&#61;&#34;&#45;&#50;&#54;&#53;&#54;&#48;&#34;&#32;&#120;&#49;&#61;&#34;&#45;&#50;&#55;&#51;&#53;&#52;&#34;&#92;&#10;&#32;&#10;&#62;&#32;&#32;&#32;&#32;&#32;&#32;&#32;&#32;&#102;&#105;&#108;&#108;&#61;&#34;&#110;&#111;&#110;&#101;&#34;&#47;&#62;&#60;&#108;&#105;&#110;&#101;&#32;&#121;&#50;&#61;&#34;&#45;&#51;&#49;&#55;&#54;&#48;&#34;&#32;&#121;&#49;&#61;&#34;&#45;&#51;&#50;&#49;&#48;&#55;&#34;&#32;&#120;&#50;&#61;&#34;&#45;&#50;&#54;&#55;&#52;&#53;&#34;&#32;&#120;&#49;&#61;&#34;&#45;&#50;&#55;&#51;&#52;&#48;&#34;&#92;&#10;&#32;&#10;&#62;&#32;&#32;&#32;&#32;&#32;&#32;&#32;&#32;&#102;&#105;&#108;&#108;&#61;&#34;&#110;&#111;&#110;&#101;&#34;&#47;&#62;&#60;&#108;&#105;&#110;&#101;&#32;&#121;&#50;&#61;&#34;&#45;&#51;&#49;&#56;&#53;&#48;&#34;&#32;&#121;&#49;&#61;&#34;&#45;&#51;&#48;&#55;&#48;&#51;&#34;&#32;&#120;&#50;&#61;&#34;&#45;&#51;&#48;&#52;&#56;&#57;&#34;&#32;&#120;&#49;&#61;&#34;&#45;&#51;&#48;&#52;&#56;&#57;&#34;&#92;&#10;&#32;&#10;&#62;&#32;&#32;&#32;&#32;&#32;&#32;&#32;&#32;&#102;&#105;&#108;&#108;&#61;&#34;&#110;&#111;&#110;&#101;&#34;&#47;&#62;&#60;&#108;&#105;&#110;&#101;&#32;&#121;&#50;&#61;&#34;&#45;&#51;&#48;&#50;&#55;&#53;&#34;&#32;&#121;&#49;&#61;&#34;&#45;&#51;&#48;&#55;&#48;&#51;&#34;&#32;&#120;&#50;&#61;&#34;&#45;&#51;&#49;&#50;&#48;&#48;&#34;&#32;&#120;&#49;&#61;&#34;&#45;&#51;&#48;&#52;&#56;&#57;&#34;&#92;&#10;&#32;&#10;&#62;&#32;&#32;&#32;&#32;&#32;&#32;&#32;&#32;&#102;&#105;&#108;&#108;&#61;&#34;&#110;&#111;&#110;&#101;&#34;&#47;&#62;&#60;&#108;&#105;&#110;&#101;&#32;&#121;&#50;&#61;&#34;&#45;&#51;&#48;&#53;&#52;&#49;&#34;&#32;&#121;&#49;&#61;&#34;&#45;&#51;&#48;&#50;&#55;&#50;&#34;&#32;&#120;&#50;&#61;&#34;&#45;&#51;&#50;&#48;&#52;&#48;&#34;&#32;&#120;&#49;&#61;&#34;&#45;&#51;&#49;&#53;&#55;&#53;&#34;&#92;&#10;&#32;&#10;&#62;&#32;&#32;&#32;&#32;&#32;&#32;&#32;&#32;&#102;&#105;&#108;&#108;&#61;&#34;&#110;&#111;&#110;&#101;&#34;&#47;&#62;&#60;&#112;&#111;&#108;&#121;&#103;&#111;&#110;&#32;&#115;&#116;&#114;&#111;&#107;&#101;&#45;&#119;&#105;&#100;&#116;&#104;&#61;&#34;&#49;&#34;&#32;&#115;&#116;&#114;&#111;&#107;&#101;&#61;&#34;&#110;&#111;&#110;&#101;&#34;&#32;&#112;&#111;&#105;&#110;&#116;&#115;&#61;&#34;&#32;&#45;&#50;&#52;&#52;&#55;&#52;&#32;&#45;&#50;&#57;&#56;&#49;&#57;&#92;&#10;&#32;&#10;&#62;&#32;&#32;&#32;&#32;&#32;&#32;&#32;&#32;&#45;&#50;&#51;&#54;&#48;&#50;&#32;&#45;&#51;&#48;&#52;&#48;&#50;&#32;&#45;&#50;&#51;&#53;&#51;&#50;&#32;&#45;&#51;&#48;&#50;&#56;&#52;&#34;&#47;&#62;&#60;&#112;&#111;&#108;&#121;&#103;&#111;&#110;&#32;&#115;&#116;&#114;&#111;&#107;&#101;&#45;&#119;&#105;&#100;&#116;&#104;&#61;&#34;&#49;&#34;&#32;&#112;&#111;&#105;&#110;&#116;&#115;&#61;&#34;&#32;&#45;&#50;&#52;&#52;&#55;&#52;&#32;&#45;&#50;&#57;&#56;&#49;&#57;&#92;&#10;&#32;&#10;&#62;&#32;&#32;&#32;&#32;&#32;&#32;&#32;&#32;&#45;&#50;&#51;&#54;&#48;&#50;&#32;&#45;&#51;&#48;&#52;&#48;&#50;&#32;&#45;&#50;&#51;&#53;&#51;&#50;&#32;&#45;&#51;&#48;&#50;&#56;&#52;&#34;&#32;&#102;&#105;&#108;&#108;&#61;&#34;&#110;&#111;&#110;&#101;&#34;&#47;&#62;&#60;&#112;&#111;&#108;&#121;&#103;&#111;&#110;&#32;&#115;&#116;&#114;&#111;&#107;&#101;&#45;&#119;&#105;&#100;&#116;&#104;&#61;&#34;&#49;&#34;&#92;&#10;&#32;&#10;&#62;&#32;&#32;&#32;&#32;&#32;&#32;&#32;&#32;&#115;&#116;&#114;&#111;&#107;&#101;&#61;&#34;&#110;&#111;&#110;&#101;&#34;&#32;&#112;&#111;&#105;&#110;&#116;&#115;&#61;&#34;&#32;&#45;&#50;&#54;&#54;&#51;&#53;&#32;&#45;&#50;&#56;&#53;&#53;&#57;&#32;&#45;&#50;&#54;&#57;&#55;&#51;&#32;&#45;&#50;&#55;&#56;&#51;&#55;&#32;&#45;&#50;&#55;&#48;&#57;&#50;&#32;&#45;&#50;&#55;&#57;&#48;&#51;&#34;&#47;&#62;&#60;&#112;&#111;&#108;&#121;&#103;&#111;&#110;&#92;&#10;&#32;&#10;&#62;&#32;&#32;&#32;&#32;&#32;&#32;&#32;&#32;&#115;&#116;&#114;&#111;&#107;&#101;&#45;&#119;&#105;&#100;&#116;&#104;&#61;&#34;&#49;&#34;&#32;&#112;&#111;&#105;&#110;&#116;&#115;&#61;&#34;&#32;&#45;&#50;&#54;&#54;&#51;&#53;&#32;&#45;&#50;&#56;&#53;&#53;&#57;&#32;&#45;&#50;&#54;&#57;&#55;&#51;&#32;&#45;&#50;&#55;&#56;&#51;&#55;&#32;&#45;&#50;&#55;&#48;&#57;&#50;&#32;&#45;&#50;&#55;&#57;&#48;&#51;&#34;&#92;&#10;&#32;&#10;&#62;&#32;&#32;&#32;&#32;&#32;&#32;&#32;&#32;&#102;&#105;&#108;&#108;&#61;&#34;&#110;&#111;&#110;&#101;&#34;&#47;&#62;&#60;&#108;&#105;&#110;&#101;&#32;&#121;&#50;&#61;&#34;&#45;&#50;&#56;&#56;&#54;&#48;&#34;&#32;&#121;&#49;&#61;&#34;&#45;&#50;&#56;&#55;&#57;&#54;&#34;&#32;&#120;&#50;&#61;&#34;&#45;&#50;&#53;&#57;&#52;&#53;&#34;&#32;&#120;&#49;&#61;&#34;&#45;&#50;&#54;&#48;&#54;&#54;&#34;&#92;&#10;&#32;&#10;&#62;&#32;&#32;&#32;&#32;&#32;&#32;&#32;&#32;&#102;&#105;&#108;&#108;&#61;&#34;&#110;&#111;&#110;&#101;&#34;&#47;&#62;&#60;&#108;&#105;&#110;&#101;&#32;&#121;&#50;&#61;&#34;&#45;&#50;&#56;&#54;&#53;&#55;&#34;&#32;&#121;&#49;&#61;&#34;&#45;&#50;&#56;&#54;&#49;&#49;&#34;&#32;&#120;&#50;&#61;&#34;&#45;&#50;&#53;&#56;&#54;&#53;&#34;&#32;&#120;&#49;&#61;&#34;&#45;&#50;&#53;&#57;&#53;&#50;&#34;&#92;&#10;&#32;&#10;&#62;&#32;&#32;&#32;&#32;&#32;&#32;&#32;&#32;&#102;&#105;&#108;&#108;&#61;&#34;&#110;&#111;&#110;&#101;&#34;&#47;&#62;&#60;&#108;&#105;&#110;&#101;&#32;&#121;&#50;&#61;&#34;&#45;&#50;&#56;&#52;&#53;&#52;&#34;&#32;&#121;&#49;&#61;&#34;&#45;&#50;&#56;&#52;&#50;&#55;&#34;&#32;&#120;&#50;&#61;&#34;&#45;&#50;&#53;&#55;&#56;&#53;&#34;&#32;&#120;&#49;&#61;&#34;&#45;&#50;&#53;&#56;&#51;&#56;&#34;&#92;&#10;&#32;&#10;&#62;&#32;&#32;&#32;&#32;&#32;&#32;&#32;&#32;&#102;&#105;&#108;&#108;&#61;&#34;&#110;&#111;&#110;&#101;&#34;&#47;&#62;&#60;&#108;&#105;&#110;&#101;&#32;&#121;&#50;&#61;&#34;&#45;&#50;&#56;&#50;&#53;&#50;&#34;&#32;&#121;&#49;&#61;&#34;&#45;&#50;&#56;&#50;&#52;&#50;&#34;&#32;&#120;&#50;&#61;&#34;&#45;&#50;&#53;&#55;&#48;&#54;&#34;&#32;&#120;&#49;&#61;&#34;&#45;&#50;&#53;&#55;&#50;&#51;&#34;&#92;&#10;&#32;&#10;&#62;&#32;&#32;&#32;&#32;&#32;&#32;&#32;&#32;&#102;&#105;&#108;&#108;&#61;&#34;&#110;&#111;&#110;&#101;&#34;&#47;&#62;&#60;&#108;&#105;&#110;&#101;&#32;&#121;&#50;&#61;&#34;&#45;&#50;&#57;&#52;&#55;&#56;&#34;&#32;&#121;&#49;&#61;&#34;&#45;&#50;&#57;&#53;&#51;&#48;&#34;&#32;&#120;&#50;&#61;&#34;&#45;&#50;&#53;&#50;&#53;&#55;&#34;&#32;&#120;&#49;&#61;&#34;&#45;&#50;&#53;&#49;&#51;&#48;&#34;&#92;&#10;&#32;&#10;&#62;&#32;&#32;&#32;&#32;&#32;&#32;&#32;&#32;&#102;&#105;&#108;&#108;&#61;&#34;&#110;&#111;&#110;&#101;&#34;&#47;&#62;&#60;&#108;&#105;&#110;&#101;&#32;&#121;&#50;&#61;&#34;&#45;&#50;&#57;&#54;&#56;&#54;&#34;&#32;&#121;&#49;&#61;&#34;&#45;&#50;&#57;&#55;&#50;&#55;&#34;&#32;&#120;&#50;&#61;&#34;&#45;&#50;&#53;&#51;&#50;&#49;&#34;&#32;&#120;&#49;&#61;&#34;&#45;&#50;&#53;&#50;&#50;&#49;&#34;&#92;&#10;&#32;&#10;&#62;&#32;&#32;&#32;&#32;&#32;&#32;&#32;&#32;&#102;&#105;&#108;&#108;&#61;&#34;&#110;&#111;&#110;&#101;&#34;&#47;&#62;&#60;&#108;&#105;&#110;&#101;&#32;&#121;&#50;&#61;&#34;&#45;&#50;&#57;&#56;&#57;&#52;&#34;&#32;&#121;&#49;&#61;&#34;&#45;&#50;&#57;&#57;&#50;&#52;&#34;&#32;&#120;&#50;&#61;&#34;&#45;&#50;&#53;&#51;&#56;&#52;&#34;&#32;&#120;&#49;&#61;&#34;&#45;&#50;&#53;&#51;&#49;&#50;&#34;&#92;&#10;&#32;&#10;&#62;&#32;&#32;&#32;&#32;&#32;&#32;&#32;&#32;&#102;&#105;&#108;&#108;&#61;&#34;&#110;&#111;&#110;&#101;&#34;&#47;&#62;&#60;&#108;&#105;&#110;&#101;&#32;&#121;&#50;&#61;&#34;&#45;&#51;&#48;&#49;&#48;&#50;&#34;&#32;&#121;&#49;&#61;&#34;&#45;&#51;&#48;&#49;&#50;&#49;&#34;&#32;&#120;&#50;&#61;&#34;&#45;&#50;&#53;&#52;&#52;&#56;&#34;&#32;&#120;&#49;&#61;&#34;&#45;&#50;&#53;&#52;&#48;&#51;&#34;&#92;&#10;&#32;&#10;&#62;&#32;&#32;&#32;&#32;&#32;&#32;&#32;&#32;&#102;&#105;&#108;&#108;&#61;&#34;&#110;&#111;&#110;&#101;&#34;&#47;&#62;&#60;&#108;&#105;&#110;&#101;&#32;&#121;&#50;&#61;&#34;&#45;&#51;&#48;&#51;&#49;&#48;&#34;&#32;&#121;&#49;&#61;&#34;&#45;&#51;&#48;&#51;&#49;&#55;&#34;&#32;&#120;&#50;&#61;&#34;&#45;&#50;&#53;&#53;&#49;&#50;&#34;&#32;&#120;&#49;&#61;&#34;&#45;&#50;&#53;&#52;&#57;&#51;&#34;&#92;&#10;&#32;&#10;&#62;&#32;&#32;&#32;&#32;&#32;&#32;&#32;&#32;&#102;&#105;&#108;&#108;&#61;&#34;&#110;&#111;&#110;&#101;&#34;&#47;&#62;&#60;&#108;&#105;&#110;&#101;&#32;&#121;&#50;&#61;&#34;&#45;&#51;&#48;&#49;&#51;&#49;&#34;&#32;&#121;&#49;&#61;&#34;&#45;&#51;&#48;&#49;&#50;&#56;&#34;&#32;&#120;&#50;&#61;&#34;&#45;&#50;&#55;&#52;&#55;&#51;&#34;&#32;&#120;&#49;&#61;&#34;&#45;&#50;&#55;&#54;&#49;&#50;&#34;&#92;&#10;&#32;&#10;&#62;&#32;&#32;&#32;&#32;&#32;&#32;&#32;&#32;&#102;&#105;&#108;&#108;&#61;&#34;&#110;&#111;&#110;&#101;&#34;&#47;&#62;&#60;&#108;&#105;&#110;&#101;&#32;&#121;&#50;&#61;&#34;&#45;&#50;&#57;&#57;&#49;&#52;&#34;&#32;&#121;&#49;&#61;&#34;&#45;&#50;&#57;&#57;&#49;&#50;&#34;&#32;&#120;&#50;&#61;&#34;&#45;&#50;&#55;&#52;&#56;&#55;&#34;&#32;&#120;&#49;&#61;&#34;&#45;&#50;&#55;&#53;&#57;&#56;&#34;&#92;&#10;&#32;&#10;&#62;&#32;&#32;&#32;&#32;&#32;&#32;&#32;&#32;&#102;&#105;&#108;&#108;&#61;&#34;&#110;&#111;&#110;&#101;&#34;&#47;&#62;&#60;&#108;&#105;&#110;&#101;&#32;&#121;&#50;&#61;&#34;&#45;&#50;&#57;&#54;&#57;&#55;&#34;&#32;&#121;&#49;&#61;&#34;&#45;&#50;&#57;&#54;&#57;&#53;&#34;&#32;&#120;&#50;&#61;&#34;&#45;&#50;&#55;&#53;&#48;&#50;&#34;&#32;&#120;&#49;&#61;&#34;&#45;&#50;&#55;&#53;&#56;&#51;&#34;&#92;&#10;&#32;&#10;&#62;&#32;&#32;&#32;&#32;&#32;&#32;&#32;&#32;&#102;&#105;&#108;&#108;&#61;&#34;&#110;&#111;&#110;&#101;&#34;&#47;&#62;&#60;&#108;&#105;&#110;&#101;&#32;&#121;&#50;&#61;&#34;&#45;&#50;&#57;&#52;&#56;&#48;&#34;&#32;&#121;&#49;&#61;&#34;&#45;&#50;&#57;&#52;&#55;&#57;&#34;&#32;&#120;&#50;&#61;&#34;&#45;&#50;&#55;&#53;&#49;&#54;&#34;&#32;&#120;&#49;&#61;&#34;&#45;&#50;&#55;&#53;&#54;&#57;&#34;&#92;&#10;&#32;&#10;&#62;&#32;&#32;&#32;&#32;&#32;&#32;&#32;&#32;&#102;&#105;&#108;&#108;&#61;&#34;&#110;&#111;&#110;&#101;&#34;&#47;&#62;&#60;&#108;&#105;&#110;&#101;&#32;&#121;&#50;&#61;&#34;&#45;&#50;&#57;&#50;&#54;&#51;&#34;&#32;&#121;&#49;&#61;&#34;&#45;&#50;&#57;&#50;&#54;&#51;&#34;&#32;&#120;&#50;&#61;&#34;&#45;&#50;&#55;&#53;&#51;&#48;&#34;&#32;&#120;&#49;&#61;&#34;&#45;&#50;&#55;&#53;&#53;&#52;&#34;&#92;&#10;&#32;&#10;&#62;&#32;&#32;&#32;&#32;&#32;&#32;&#32;&#32;&#102;&#105;&#108;&#108;&#61;&#34;&#110;&#111;&#110;&#101;&#34;&#47;&#62;&#60;&#116;&#101;&#120;&#116;&#32;&#121;&#61;&#34;&#45;&#50;&#56;&#51;&#56;&#48;&#34;&#32;&#120;&#109;&#108;&#58;&#115;&#112;&#97;&#99;&#101;&#61;&#34;&#112;&#114;&#101;&#115;&#101;&#114;&#118;&#101;&#34;&#32;&#120;&#61;&#34;&#45;&#50;&#56;&#54;&#48;&#50;&#34;&#32;&#115;&#116;&#114;&#111;&#107;&#101;&#61;&#34;&#110;&#111;&#110;&#101;&#34;&#92;&#10;&#32;&#10;&#62;&#32;&#32;&#32;&#32;&#32;&#32;&#32;&#32;&#102;&#111;&#110;&#116;&#45;&#115;&#105;&#122;&#101;&#61;&#34;&#52;&#51;&#51;&#46;&#51;&#51;&#51;&#51;&#34;&#32;&#102;&#111;&#110;&#116;&#45;&#102;&#97;&#109;&#105;&#108;&#121;&#61;&#34;&#115;&#97;&#110;&#115;&#45;&#115;&#101;&#114;&#105;&#102;&#34;&#62;&#79;&#72;&#60;&#47;&#116;&#101;&#120;&#116;&#62;&#60;&#116;&#101;&#120;&#116;&#32;&#121;&#61;&#34;&#45;&#50;&#57;&#57;&#56;&#51;&#34;&#92;&#10;&#32;&#10;&#62;&#32;&#32;&#32;&#32;&#32;&#32;&#32;&#32;&#120;&#109;&#108;&#58;&#115;&#112;&#97;&#99;&#101;&#61;&#34;&#112;&#114;&#101;&#115;&#101;&#114;&#118;&#101;&#34;&#32;&#120;&#61;&#34;&#45;&#51;&#49;&#53;&#52;&#48;&#34;&#32;&#115;&#116;&#114;&#111;&#107;&#101;&#61;&#34;&#110;&#111;&#110;&#101;&#34;&#32;&#102;&#111;&#110;&#116;&#45;&#115;&#105;&#122;&#101;&#61;&#34;&#52;&#51;&#51;&#46;&#51;&#51;&#51;&#51;&#34;&#92;&#10;&#32;&#10;&#62;&#32;&#32;&#32;&#32;&#32;&#32;&#32;&#32;&#102;&#111;&#110;&#116;&#45;&#102;&#97;&#109;&#105;&#108;&#121;&#61;&#34;&#115;&#97;&#110;&#115;&#45;&#115;&#101;&#114;&#105;&#102;&#34;&#62;&#79;&#60;&#47;&#116;&#101;&#120;&#116;&#62;&#60;&#116;&#101;&#120;&#116;&#32;&#121;&#61;&#34;&#45;&#51;&#48;&#54;&#57;&#49;&#34;&#32;&#120;&#109;&#108;&#58;&#115;&#112;&#97;&#99;&#101;&#61;&#34;&#112;&#114;&#101;&#115;&#101;&#114;&#118;&#101;&#34;&#92;&#10;&#32;&#10;&#62;&#32;&#32;&#32;&#32;&#32;&#32;&#32;&#32;&#120;&#61;&#34;&#45;&#51;&#50;&#55;&#54;&#50;&#34;&#32;&#115;&#116;&#114;&#111;&#107;&#101;&#61;&#34;&#110;&#111;&#110;&#101;&#34;&#32;&#102;&#111;&#110;&#116;&#45;&#115;&#105;&#122;&#101;&#61;&#34;&#52;&#51;&#51;&#46;&#51;&#51;&#51;&#51;&#34;&#92;&#10;&#32;&#10;&#62;&#32;&#32;&#32;&#32;&#32;&#32;&#32;&#32;&#102;&#111;&#110;&#116;&#45;&#102;&#97;&#109;&#105;&#108;&#121;&#61;&#34;&#115;&#97;&#110;&#115;&#45;&#115;&#101;&#114;&#105;&#102;&#34;&#62;&#67;&#72;&#60;&#47;&#116;&#101;&#120;&#116;&#62;&#60;&#116;&#101;&#120;&#116;&#32;&#121;&#61;&#34;&#45;&#51;&#48;&#54;&#48;&#50;&#34;&#32;&#120;&#109;&#108;&#58;&#115;&#112;&#97;&#99;&#101;&#61;&#34;&#112;&#114;&#101;&#115;&#101;&#114;&#118;&#101;&#34;&#92;&#10;&#32;&#10;&#62;&#32;&#32;&#32;&#32;&#32;&#32;&#32;&#32;&#120;&#61;&#34;&#45;&#51;&#50;&#49;&#56;&#53;&#34;&#32;&#115;&#116;&#114;&#111;&#107;&#101;&#61;&#34;&#110;&#111;&#110;&#101;&#34;&#32;&#102;&#111;&#110;&#116;&#45;&#115;&#105;&#122;&#101;&#61;&#34;&#51;&#49;&#51;&#46;&#51;&#51;&#51;&#51;&#34;&#92;&#10;&#32;&#10;&#62;&#32;&#32;&#32;&#32;&#32;&#32;&#32;&#32;&#102;&#111;&#110;&#116;&#45;&#102;&#97;&#109;&#105;&#108;&#121;&#61;&#34;&#115;&#97;&#110;&#115;&#45;&#115;&#101;&#114;&#105;&#102;&#34;&#62;&#51;&#60;&#47;&#116;&#101;&#120;&#116;&#62;&#60;&#116;&#101;&#120;&#116;&#32;&#121;&#61;&#34;&#45;&#51;&#50;&#50;&#52;&#50;&#34;&#32;&#120;&#109;&#108;&#58;&#115;&#112;&#97;&#99;&#101;&#61;&#34;&#112;&#114;&#101;&#115;&#101;&#114;&#118;&#101;&#34;&#92;&#10;&#32;&#10;&#62;&#32;&#32;&#32;&#32;&#32;&#32;&#32;&#32;&#120;&#61;&#34;&#45;&#50;&#55;&#54;&#57;&#53;&#34;&#32;&#115;&#116;&#114;&#111;&#107;&#101;&#61;&#34;&#110;&#111;&#110;&#101;&#34;&#32;&#102;&#111;&#110;&#116;&#45;&#115;&#105;&#122;&#101;&#61;&#34;&#52;&#51;&#51;&#46;&#51;&#51;&#51;&#51;&#34;&#92;&#10;&#32;&#10;&#62;&#32;&#32;&#32;&#32;&#32;&#32;&#32;&#32;&#102;&#111;&#110;&#116;&#45;&#102;&#97;&#109;&#105;&#108;&#121;&#61;&#34;&#115;&#97;&#110;&#115;&#45;&#115;&#101;&#114;&#105;&#102;&#34;&#62;&#78;&#60;&#47;&#116;&#101;&#120;&#116;&#62;&#60;&#116;&#101;&#120;&#116;&#32;&#121;&#61;&#34;&#45;&#50;&#55;&#55;&#52;&#55;&#34;&#32;&#120;&#109;&#108;&#58;&#115;&#112;&#97;&#99;&#101;&#61;&#34;&#112;&#114;&#101;&#115;&#101;&#114;&#118;&#101;&#34;&#92;&#10;&#32;&#10;&#62;&#32;&#32;&#32;&#32;&#32;&#32;&#32;&#32;&#120;&#61;&#34;&#45;&#50;&#53;&#55;&#48;&#56;&#34;&#32;&#115;&#116;&#114;&#111;&#107;&#101;&#61;&#34;&#110;&#111;&#110;&#101;&#34;&#32;&#102;&#111;&#110;&#116;&#45;&#115;&#105;&#122;&#101;&#61;&#34;&#52;&#51;&#51;&#46;&#51;&#51;&#51;&#51;&#34;&#92;&#10;&#32;&#10;&#62;&#32;&#32;&#32;&#32;&#32;&#32;&#32;&#32;&#102;&#111;&#110;&#116;&#45;&#102;&#97;&#109;&#105;&#108;&#121;&#61;&#34;&#115;&#97;&#110;&#115;&#45;&#115;&#101;&#114;&#105;&#102;&#34;&#62;&#78;&#60;&#47;&#116;&#101;&#120;&#116;&#62;&#60;&#116;&#101;&#120;&#116;&#32;&#121;&#61;&#34;&#45;&#50;&#55;&#52;&#55;&#51;&#34;&#32;&#120;&#109;&#108;&#58;&#115;&#112;&#97;&#99;&#101;&#61;&#34;&#112;&#114;&#101;&#115;&#101;&#114;&#118;&#101;&#34;&#92;&#10;&#32;&#10;&#62;&#32;&#32;&#32;&#32;&#32;&#32;&#32;&#32;&#120;&#61;&#34;&#45;&#50;&#55;&#51;&#49;&#49;&#34;&#32;&#115;&#116;&#114;&#111;&#107;&#101;&#61;&#34;&#110;&#111;&#110;&#101;&#34;&#32;&#102;&#111;&#110;&#116;&#45;&#115;&#105;&#122;&#101;&#61;&#34;&#52;&#51;&#51;&#46;&#51;&#51;&#51;&#51;&#34;&#92;&#10;&#32;&#10;&#62;&#32;&#32;&#32;&#32;&#32;&#32;&#32;&#32;&#102;&#111;&#110;&#116;&#45;&#102;&#97;&#109;&#105;&#108;&#121;&#61;&#34;&#115;&#97;&#110;&#115;&#45;&#115;&#101;&#114;&#105;&#102;&#34;&#62;&#72;&#60;&#47;&#116;&#101;&#120;&#116;&#62;&#60;&#116;&#101;&#120;&#116;&#32;&#121;&#61;&#34;&#45;&#50;&#56;&#54;&#48;&#48;&#34;&#32;&#120;&#109;&#108;&#58;&#115;&#112;&#97;&#99;&#101;&#61;&#34;&#112;&#114;&#101;&#115;&#101;&#114;&#118;&#101;&#34;&#92;&#10;&#32;&#10;&#62;&#32;&#32;&#32;&#32;&#32;&#32;&#32;&#32;&#120;&#61;&#34;&#45;&#50;&#55;&#54;&#57;&#53;&#34;&#32;&#115;&#116;&#114;&#111;&#107;&#101;&#61;&#34;&#110;&#111;&#110;&#101;&#34;&#32;&#102;&#111;&#110;&#116;&#45;&#115;&#116;&#121;&#108;&#101;&#61;&#34;&#105;&#116;&#97;&#108;&#105;&#99;&#34;&#32;&#102;&#111;&#110;&#116;&#45;&#115;&#105;&#122;&#101;&#61;&#34;&#51;&#49;&#51;&#46;&#51;&#51;&#51;&#51;&#34;&#92;&#10;&#32;&#10;&#62;&#32;&#32;&#32;&#32;&#32;&#32;&#32;&#32;&#102;&#111;&#110;&#116;&#45;&#102;&#97;&#109;&#105;&#108;&#121;&#61;&#34;&#115;&#97;&#110;&#115;&#45;&#115;&#101;&#114;&#105;&#102;&#34;&#62;&#82;&#60;&#47;&#116;&#101;&#120;&#116;&#62;&#60;&#116;&#101;&#120;&#116;&#32;&#121;&#61;&#34;&#45;&#50;&#56;&#53;&#50;&#50;&#34;&#32;&#120;&#109;&#108;&#58;&#115;&#112;&#97;&#99;&#101;&#61;&#34;&#112;&#114;&#101;&#115;&#101;&#114;&#118;&#101;&#34;&#92;&#10;&#32;&#10;&#62;&#32;&#32;&#32;&#32;&#32;&#32;&#32;&#32;&#120;&#61;&#34;&#45;&#50;&#54;&#53;&#52;&#48;&#34;&#32;&#115;&#116;&#114;&#111;&#107;&#101;&#61;&#34;&#110;&#111;&#110;&#101;&#34;&#32;&#102;&#111;&#110;&#116;&#45;&#115;&#116;&#121;&#108;&#101;&#61;&#34;&#105;&#116;&#97;&#108;&#105;&#99;&#34;&#32;&#102;&#111;&#110;&#116;&#45;&#115;&#105;&#122;&#101;&#61;&#34;&#51;&#49;&#51;&#46;&#51;&#51;&#51;&#51;&#34;&#92;&#10;&#32;&#10;&#62;&#32;&#32;&#32;&#32;&#32;&#32;&#32;&#32;&#102;&#111;&#110;&#116;&#45;&#102;&#97;&#109;&#105;&#108;&#121;&#61;&#34;&#115;&#97;&#110;&#115;&#45;&#115;&#101;&#114;&#105;&#102;&#34;&#62;&#83;&#60;&#47;&#116;&#101;&#120;&#116;&#62;&#60;&#116;&#101;&#120;&#116;&#32;&#121;&#61;&#34;&#45;&#50;&#55;&#51;&#51;&#55;&#34;&#32;&#120;&#109;&#108;&#58;&#115;&#112;&#97;&#99;&#101;&#61;&#34;&#112;&#114;&#101;&#115;&#101;&#114;&#118;&#101;&#34;&#92;&#10;&#32;&#10;&#62;&#32;&#32;&#32;&#32;&#32;&#32;&#32;&#32;&#120;&#61;&#34;&#45;&#50;&#53;&#56;&#49;&#56;&#34;&#32;&#115;&#116;&#114;&#111;&#107;&#101;&#61;&#34;&#110;&#111;&#110;&#101;&#34;&#32;&#102;&#111;&#110;&#116;&#45;&#115;&#116;&#121;&#108;&#101;&#61;&#34;&#105;&#116;&#97;&#108;&#105;&#99;&#34;&#32;&#102;&#111;&#110;&#116;&#45;&#115;&#105;&#122;&#101;&#61;&#34;&#51;&#49;&#51;&#46;&#51;&#51;&#51;&#51;&#34;&#92;&#10;&#32;&#10;&#62;&#32;&#32;&#32;&#32;&#32;&#32;&#32;&#32;&#102;&#111;&#110;&#116;&#45;&#102;&#97;&#109;&#105;&#108;&#121;&#61;&#34;&#115;&#97;&#110;&#115;&#45;&#115;&#101;&#114;&#105;&#102;&#34;&#62;&#83;&#60;&#47;&#116;&#101;&#120;&#116;&#62;&#60;&#116;&#101;&#120;&#116;&#32;&#121;&#61;&#34;&#45;&#51;&#48;&#53;&#55;&#51;&#34;&#32;&#120;&#109;&#108;&#58;&#115;&#112;&#97;&#99;&#101;&#61;&#34;&#112;&#114;&#101;&#115;&#101;&#114;&#118;&#101;&#34;&#92;&#10;&#32;&#10;&#62;&#32;&#32;&#32;&#32;&#32;&#32;&#32;&#32;&#120;&#61;&#34;&#45;&#50;&#53;&#55;&#48;&#56;&#34;&#32;&#115;&#116;&#114;&#111;&#107;&#101;&#61;&#34;&#110;&#111;&#110;&#101;&#34;&#32;&#102;&#111;&#110;&#116;&#45;&#115;&#116;&#121;&#108;&#101;&#61;&#34;&#105;&#116;&#97;&#108;&#105;&#99;&#34;&#32;&#102;&#111;&#110;&#116;&#45;&#115;&#105;&#122;&#101;&#61;&#34;&#51;&#49;&#51;&#46;&#51;&#51;&#51;&#51;&#34;&#92;&#10;&#32;&#10;&#62;&#32;&#32;&#32;&#32;&#32;&#32;&#32;&#32;&#102;&#111;&#110;&#116;&#45;&#102;&#97;&#109;&#105;&#108;&#121;&#61;&#34;&#115;&#97;&#110;&#115;&#45;&#115;&#101;&#114;&#105;&#102;&#34;&#62;&#83;&#60;&#47;&#116;&#101;&#120;&#116;&#62;&#60;&#116;&#101;&#120;&#116;&#32;&#121;&#61;&#34;&#45;&#50;&#57;&#52;&#57;&#53;&#34;&#32;&#120;&#109;&#108;&#58;&#115;&#112;&#97;&#99;&#101;&#61;&#34;&#112;&#114;&#101;&#115;&#101;&#114;&#118;&#101;&#34;&#92;&#10;&#32;&#10;&#62;&#32;&#32;&#32;&#32;&#32;&#32;&#32;&#32;&#120;&#61;&#34;&#45;&#50;&#52;&#56;&#55;&#54;&#34;&#32;&#115;&#116;&#114;&#111;&#107;&#101;&#61;&#34;&#110;&#111;&#110;&#101;&#34;&#32;&#102;&#111;&#110;&#116;&#45;&#115;&#116;&#121;&#108;&#101;&#61;&#34;&#105;&#116;&#97;&#108;&#105;&#99;&#34;&#32;&#102;&#111;&#110;&#116;&#45;&#115;&#105;&#122;&#101;&#61;&#34;&#51;&#49;&#51;&#46;&#51;&#51;&#51;&#51;&#34;&#92;&#10;&#32;&#10;&#62;&#32;&#32;&#32;&#32;&#32;&#32;&#32;&#32;&#102;&#111;&#110;&#116;&#45;&#102;&#97;&#109;&#105;&#108;&#121;&#61;&#34;&#115;&#97;&#110;&#115;&#45;&#115;&#101;&#114;&#105;&#102;&#34;&#62;&#82;&#60;&#47;&#116;&#101;&#120;&#116;&#62;&#60;&#47;&#103;&#62;&#60;&#47;&#103;&#62;&#60;&#47;&#115;&#118;&#103;&#62;&#124;&#62;&#125;&#124;&#62;</pre></div>"
            ],
            "text/plain": [
              "<|count -> 1, results -> \n",
              " \n",
              ">    {<|rn -> 130-95-0, name -> Quinine, \n",
              " \n",
              ">      image -> <svg width=\"309.3\" viewBox=\"0 0 10310 5592\" text-rendering=\"auto\"\\\n",
              " \n",
              ">        stroke-width=\"1\" stroke-opacity=\"1\" stroke-miterlimit=\"10\"\\\n",
              " \n",
              ">        stroke-linejoin=\"miter\" stroke-linecap=\"square\" stroke-dashoffset=\"0\"\\\n",
              " \n",
              ">        stroke-dasharray=\"none\" stroke=\"black\" shape-rendering=\"auto\"\\\n",
              " \n",
              ">        image-rendering=\"auto\" height=\"167.76\" font-weight=\"normal\" font-style=\"normal\"\\\n",
              " \n",
              ">        font-size=\"12\" font-family=\"'Dialog'\" fill-opacity=\"1\" fill=\"black\"\\\n",
              " \n",
              ">        color-rendering=\"auto\" color-interpolation=\"auto\"\\\n",
              " \n",
              ">        xmlns=\"http://www.w3.org/2000/svg\"><g><g stroke=\"white\" fill=\"white\"><rect\\\n",
              " \n",
              ">        y=\"0\" x=\"0\" width=\"10310\" stroke=\"none\" height=\"5592\"/></g><g\\\n",
              " \n",
              ">        transform=\"translate(32866,32758)\" text-rendering=\"geometricPrecision\"\\\n",
              " \n",
              ">        stroke-width=\"44\" stroke-linejoin=\"round\" stroke-linecap=\"round\"><line\\\n",
              " \n",
              ">        y2=\"-28559\" y1=\"-28036\" x2=\"-26635\" x1=\"-25742\" fill=\"none\"/><line y2=\"-29819\"\\\n",
              " \n",
              ">        y1=\"-28559\" x2=\"-26635\" x1=\"-26635\" fill=\"none\"/><line y2=\"-28036\" y1=\"-28559\"\\\n",
              " \n",
              ">        x2=\"-25367\" x1=\"-24474\" fill=\"none\"/><line y2=\"-30451\" y1=\"-29819\" x2=\"-25555\"\\\n",
              " \n",
              ">        x1=\"-26635\" fill=\"none\"/><line y2=\"-28559\" y1=\"-29819\" x2=\"-24474\" x1=\"-24474\"\\\n",
              " \n",
              ">        fill=\"none\"/><line y2=\"-29504\" y1=\"-28828\" x2=\"-25194\" x1=\"-26005\"\\\n",
              " \n",
              ">        fill=\"none\"/><line y2=\"-29819\" y1=\"-30451\" x2=\"-24474\" x1=\"-25555\"\\\n",
              " \n",
              ">        fill=\"none\"/><line y2=\"-29082\" y1=\"-28559\" x2=\"-27542\" x1=\"-26635\"\\\n",
              " \n",
              ">        fill=\"none\"/><line y2=\"-29819\" y1=\"-30344\" x2=\"-22660\" x1=\"-23567\"\\\n",
              " \n",
              ">        fill=\"none\"/><line y2=\"-29700\" y1=\"-30223\" x2=\"-22729\" x1=\"-23636\"\\\n",
              " \n",
              ">        fill=\"none\"/><line y2=\"-28779\" y1=\"-29082\" x2=\"-28071\" x1=\"-27542\"\\\n",
              " \n",
              ">        fill=\"none\"/><line y2=\"-30703\" y1=\"-30131\" x2=\"-28524\" x1=\"-27542\"\\\n",
              " \n",
              ">        fill=\"none\"/><line y2=\"-31850\" y1=\"-30703\" x2=\"-28524\" x1=\"-28524\"\\\n",
              " \n",
              ">        fill=\"none\"/><line y2=\"-31705\" y1=\"-30847\" x2=\"-28354\" x1=\"-28354\"\\\n",
              " \n",
              ">        fill=\"none\"/><line y2=\"-30131\" y1=\"-30703\" x2=\"-29507\" x1=\"-28524\"\\\n",
              " \n",
              ">        fill=\"none\"/><line y2=\"-30131\" y1=\"-30703\" x2=\"-27542\" x1=\"-26560\"\\\n",
              " \n",
              ">        fill=\"none\"/><line y2=\"-30347\" y1=\"-30778\" x2=\"-27505\" x1=\"-26768\"\\\n",
              " \n",
              ">        fill=\"none\"/><line y2=\"-31850\" y1=\"-32422\" x2=\"-28524\" x1=\"-29507\"\\\n",
              " \n",
              ">        fill=\"none\"/><line y2=\"-32312\" y1=\"-31850\" x2=\"-27730\" x1=\"-28524\"\\\n",
              " \n",
              ">        fill=\"none\"/><line y2=\"-30703\" y1=\"-30131\" x2=\"-30489\" x1=\"-29507\"\\\n",
              " \n",
              ">        fill=\"none\"/><line y2=\"-30778\" y1=\"-30347\" x2=\"-30281\" x1=\"-29544\"\\\n",
              " \n",
              ">        fill=\"none\"/><line y2=\"-30703\" y1=\"-31850\" x2=\"-26560\" x1=\"-26560\"\\\n",
              " \n",
              ">        fill=\"none\"/><line y2=\"-32422\" y1=\"-31850\" x2=\"-29507\" x1=\"-30489\"\\\n",
              " \n",
              ">        fill=\"none\"/><line y2=\"-32205\" y1=\"-31774\" x2=\"-29544\" x1=\"-30281\"\\\n",
              " \n",
              ">        fill=\"none\"/><line y2=\"-31850\" y1=\"-32312\" x2=\"-26560\" x1=\"-27354\"\\\n",
              " \n",
              ">        fill=\"none\"/><line y2=\"-31760\" y1=\"-32107\" x2=\"-26745\" x1=\"-27340\"\\\n",
              " \n",
              ">        fill=\"none\"/><line y2=\"-31850\" y1=\"-30703\" x2=\"-30489\" x1=\"-30489\"\\\n",
              " \n",
              ">        fill=\"none\"/><line y2=\"-30275\" y1=\"-30703\" x2=\"-31200\" x1=\"-30489\"\\\n",
              " \n",
              ">        fill=\"none\"/><line y2=\"-30541\" y1=\"-30272\" x2=\"-32040\" x1=\"-31575\"\\\n",
              " \n",
              ">        fill=\"none\"/><polygon stroke-width=\"1\" stroke=\"none\" points=\" -24474 -29819\\\n",
              " \n",
              ">        -23602 -30402 -23532 -30284\"/><polygon stroke-width=\"1\" points=\" -24474 -29819\\\n",
              " \n",
              ">        -23602 -30402 -23532 -30284\" fill=\"none\"/><polygon stroke-width=\"1\"\\\n",
              " \n",
              ">        stroke=\"none\" points=\" -26635 -28559 -26973 -27837 -27092 -27903\"/><polygon\\\n",
              " \n",
              ">        stroke-width=\"1\" points=\" -26635 -28559 -26973 -27837 -27092 -27903\"\\\n",
              " \n",
              ">        fill=\"none\"/><line y2=\"-28860\" y1=\"-28796\" x2=\"-25945\" x1=\"-26066\"\\\n",
              " \n",
              ">        fill=\"none\"/><line y2=\"-28657\" y1=\"-28611\" x2=\"-25865\" x1=\"-25952\"\\\n",
              " \n",
              ">        fill=\"none\"/><line y2=\"-28454\" y1=\"-28427\" x2=\"-25785\" x1=\"-25838\"\\\n",
              " \n",
              ">        fill=\"none\"/><line y2=\"-28252\" y1=\"-28242\" x2=\"-25706\" x1=\"-25723\"\\\n",
              " \n",
              ">        fill=\"none\"/><line y2=\"-29478\" y1=\"-29530\" x2=\"-25257\" x1=\"-25130\"\\\n",
              " \n",
              ">        fill=\"none\"/><line y2=\"-29686\" y1=\"-29727\" x2=\"-25321\" x1=\"-25221\"\\\n",
              " \n",
              ">        fill=\"none\"/><line y2=\"-29894\" y1=\"-29924\" x2=\"-25384\" x1=\"-25312\"\\\n",
              " \n",
              ">        fill=\"none\"/><line y2=\"-30102\" y1=\"-30121\" x2=\"-25448\" x1=\"-25403\"\\\n",
              " \n",
              ">        fill=\"none\"/><line y2=\"-30310\" y1=\"-30317\" x2=\"-25512\" x1=\"-25493\"\\\n",
              " \n",
              ">        fill=\"none\"/><line y2=\"-30131\" y1=\"-30128\" x2=\"-27473\" x1=\"-27612\"\\\n",
              " \n",
              ">        fill=\"none\"/><line y2=\"-29914\" y1=\"-29912\" x2=\"-27487\" x1=\"-27598\"\\\n",
              " \n",
              ">        fill=\"none\"/><line y2=\"-29697\" y1=\"-29695\" x2=\"-27502\" x1=\"-27583\"\\\n",
              " \n",
              ">        fill=\"none\"/><line y2=\"-29480\" y1=\"-29479\" x2=\"-27516\" x1=\"-27569\"\\\n",
              " \n",
              ">        fill=\"none\"/><line y2=\"-29263\" y1=\"-29263\" x2=\"-27530\" x1=\"-27554\"\\\n",
              " \n",
              ">        fill=\"none\"/><text y=\"-28380\" xml:space=\"preserve\" x=\"-28602\" stroke=\"none\"\\\n",
              " \n",
              ">        font-size=\"433.3333\" font-family=\"sans-serif\">OH</text><text y=\"-29983\"\\\n",
              " \n",
              ">        xml:space=\"preserve\" x=\"-31540\" stroke=\"none\" font-size=\"433.3333\"\\\n",
              " \n",
              ">        font-family=\"sans-serif\">O</text><text y=\"-30691\" xml:space=\"preserve\"\\\n",
              " \n",
              ">        x=\"-32762\" stroke=\"none\" font-size=\"433.3333\"\\\n",
              " \n",
              ">        font-family=\"sans-serif\">CH</text><text y=\"-30602\" xml:space=\"preserve\"\\\n",
              " \n",
              ">        x=\"-32185\" stroke=\"none\" font-size=\"313.3333\"\\\n",
              " \n",
              ">        font-family=\"sans-serif\">3</text><text y=\"-32242\" xml:space=\"preserve\"\\\n",
              " \n",
              ">        x=\"-27695\" stroke=\"none\" font-size=\"433.3333\"\\\n",
              " \n",
              ">        font-family=\"sans-serif\">N</text><text y=\"-27747\" xml:space=\"preserve\"\\\n",
              " \n",
              ">        x=\"-25708\" stroke=\"none\" font-size=\"433.3333\"\\\n",
              " \n",
              ">        font-family=\"sans-serif\">N</text><text y=\"-27473\" xml:space=\"preserve\"\\\n",
              " \n",
              ">        x=\"-27311\" stroke=\"none\" font-size=\"433.3333\"\\\n",
              " \n",
              ">        font-family=\"sans-serif\">H</text><text y=\"-28600\" xml:space=\"preserve\"\\\n",
              " \n",
              ">        x=\"-27695\" stroke=\"none\" font-style=\"italic\" font-size=\"313.3333\"\\\n",
              " \n",
              ">        font-family=\"sans-serif\">R</text><text y=\"-28522\" xml:space=\"preserve\"\\\n",
              " \n",
              ">        x=\"-26540\" stroke=\"none\" font-style=\"italic\" font-size=\"313.3333\"\\\n",
              " \n",
              ">        font-family=\"sans-serif\">S</text><text y=\"-27337\" xml:space=\"preserve\"\\\n",
              " \n",
              ">        x=\"-25818\" stroke=\"none\" font-style=\"italic\" font-size=\"313.3333\"\\\n",
              " \n",
              ">        font-family=\"sans-serif\">S</text><text y=\"-30573\" xml:space=\"preserve\"\\\n",
              " \n",
              ">        x=\"-25708\" stroke=\"none\" font-style=\"italic\" font-size=\"313.3333\"\\\n",
              " \n",
              ">        font-family=\"sans-serif\">S</text><text y=\"-29495\" xml:space=\"preserve\"\\\n",
              " \n",
              ">        x=\"-24876\" stroke=\"none\" font-style=\"italic\" font-size=\"313.3333\"\\\n",
              " \n",
              ">        font-family=\"sans-serif\">R</text></g></g></svg>|>}|>"
            ]
          },
          "execution_count": 40,
          "metadata": {
            "text/html": [],
            "text/plain": []
          },
          "output_type": "execute_result"
        }
      ],
      "source": [
        "quinineSearchData = Import[searchBaseURL <> IK, \"RawJSON\"];\n",
        "quinineSearchData"
      ]
    },
    {
      "cell_type": "markdown",
      "id": "4ee5033d-f0fa-42ae-a328-19f16fbf90e5",
      "metadata": {
        "id": "4ee5033d-f0fa-42ae-a328-19f16fbf90e5"
      },
      "source": [
        "Note that with the CAS Common Chemistry Search API, only the image data, name, and CAS RN is returned. In order to retrieve the full record, we can combine our search with the related detail API:"
      ]
    },
    {
      "cell_type": "code",
      "execution_count": null,
      "id": "c6232066-e211-4a5b-8a4b-caf6a53a1190",
      "metadata": {
        "id": "c6232066-e211-4a5b-8a4b-caf6a53a1190",
        "outputId": "4463e060-c051-4548-9eb0-ed327a419dc6",
        "vscode": {
          "languageId": "wolfram language"
        }
      },
      "outputs": [
        {
          "data": {
            "text/html": [
              "<div><pre style=\"&#102;&#111;&#110;&#116;&#45;&#102;&#97;&#109;&#105;&#108;&#121;&#58;&#32;&#34;&#67;&#111;&#117;&#114;&#105;&#101;&#114;&#32;&#78;&#101;&#119;&#34;&#44;&#67;&#111;&#117;&#114;&#105;&#101;&#114;&#44;&#109;&#111;&#110;&#111;&#115;&#112;&#97;&#99;&#101;&#59;\">&#49;&#51;&#48;&#45;&#57;&#53;&#45;&#48;</pre></div>"
            ],
            "text/plain": [
              "130-95-0"
            ]
          },
          "execution_count": 41,
          "metadata": {
            "text/html": [],
            "text/plain": []
          },
          "output_type": "execute_result"
        }
      ],
      "source": [
        "quinineRN = quinineSearchData[\"results\"][[1, \"rn\"]]"
      ]
    },
    {
      "cell_type": "code",
      "execution_count": null,
      "id": "d1a36656-ee3c-4aa8-9bf6-e69c85ec04b4",
      "metadata": {
        "id": "d1a36656-ee3c-4aa8-9bf6-e69c85ec04b4",
        "vscode": {
          "languageId": "wolfram language"
        }
      },
      "outputs": [],
      "source": [
        "detailBaseURL = \"https://commonchemistry.cas.org/api/detail?\";\n",
        "quinineDetailData = Import[detailBaseURL <> \"cas_rn=\" <> quinineRN, \"RawJSON\"];\n",
        "quinineDetailData"
      ]
    },
    {
      "cell_type": "markdown",
      "id": "-umPMBpoAtZZ",
      "metadata": {
        "id": "-umPMBpoAtZZ"
      },
      "source": [
        "*Output not shown*"
      ]
    },
    {
      "cell_type": "code",
      "execution_count": null,
      "id": "558f964a-445f-445b-aa58-13e9f7491f45",
      "metadata": {
        "id": "558f964a-445f-445b-aa58-13e9f7491f45",
        "outputId": "a8c73dcd-8fa4-449f-9267-dd59f206dc31",
        "tags": [
          "output_scroll"
        ],
        "vscode": {
          "languageId": "wolfram language"
        }
      },
      "outputs": [
        {
          "data": {
            "text/html": [
              "<div><pre style=\"&#102;&#111;&#110;&#116;&#45;&#102;&#97;&#109;&#105;&#108;&#121;&#58;&#32;&#34;&#67;&#111;&#117;&#114;&#105;&#101;&#114;&#32;&#78;&#101;&#119;&#34;&#44;&#67;&#111;&#117;&#114;&#105;&#101;&#114;&#44;&#109;&#111;&#110;&#111;&#115;&#112;&#97;&#99;&#101;&#59;\">&#60;&#124;&#117;&#114;&#105;&#32;&#45;&#62;&#32;&#115;&#117;&#98;&#115;&#116;&#97;&#110;&#99;&#101;&#47;&#112;&#116;&#47;&#49;&#51;&#48;&#57;&#53;&#48;&#44;&#32;&#114;&#110;&#32;&#45;&#62;&#32;&#49;&#51;&#48;&#45;&#57;&#53;&#45;&#48;&#44;&#32;&#110;&#97;&#109;&#101;&#32;&#45;&#62;&#32;&#81;&#117;&#105;&#110;&#105;&#110;&#101;&#44;&#32;&#10;&#32;&#10;&#62;&#32;&#32;&#32;&#105;&#109;&#97;&#103;&#101;&#32;&#45;&#62;&#32;&#60;&#115;&#118;&#103;&#32;&#119;&#105;&#100;&#116;&#104;&#61;&#34;&#51;&#48;&#57;&#46;&#51;&#34;&#32;&#118;&#105;&#101;&#119;&#66;&#111;&#120;&#61;&#34;&#48;&#32;&#48;&#32;&#49;&#48;&#51;&#49;&#48;&#32;&#53;&#53;&#57;&#50;&#34;&#32;&#116;&#101;&#120;&#116;&#45;&#114;&#101;&#110;&#100;&#101;&#114;&#105;&#110;&#103;&#61;&#34;&#97;&#117;&#116;&#111;&#34;&#92;&#10;&#32;&#10;&#62;&#32;&#32;&#32;&#32;&#32;&#115;&#116;&#114;&#111;&#107;&#101;&#45;&#119;&#105;&#100;&#116;&#104;&#61;&#34;&#49;&#34;&#32;&#115;&#116;&#114;&#111;&#107;&#101;&#45;&#111;&#112;&#97;&#99;&#105;&#116;&#121;&#61;&#34;&#49;&#34;&#32;&#115;&#116;&#114;&#111;&#107;&#101;&#45;&#109;&#105;&#116;&#101;&#114;&#108;&#105;&#109;&#105;&#116;&#61;&#34;&#49;&#48;&#34;&#32;&#115;&#116;&#114;&#111;&#107;&#101;&#45;&#108;&#105;&#110;&#101;&#106;&#111;&#105;&#110;&#61;&#34;&#109;&#105;&#116;&#101;&#114;&#34;&#92;&#10;&#32;&#10;&#62;&#32;&#32;&#32;&#32;&#32;&#115;&#116;&#114;&#111;&#107;&#101;&#45;&#108;&#105;&#110;&#101;&#99;&#97;&#112;&#61;&#34;&#115;&#113;&#117;&#97;&#114;&#101;&#34;&#32;&#115;&#116;&#114;&#111;&#107;&#101;&#45;&#100;&#97;&#115;&#104;&#111;&#102;&#102;&#115;&#101;&#116;&#61;&#34;&#48;&#34;&#32;&#115;&#116;&#114;&#111;&#107;&#101;&#45;&#100;&#97;&#115;&#104;&#97;&#114;&#114;&#97;&#121;&#61;&#34;&#110;&#111;&#110;&#101;&#34;&#92;&#10;&#32;&#10;&#62;&#32;&#32;&#32;&#32;&#32;&#115;&#116;&#114;&#111;&#107;&#101;&#61;&#34;&#98;&#108;&#97;&#99;&#107;&#34;&#32;&#115;&#104;&#97;&#112;&#101;&#45;&#114;&#101;&#110;&#100;&#101;&#114;&#105;&#110;&#103;&#61;&#34;&#97;&#117;&#116;&#111;&#34;&#32;&#105;&#109;&#97;&#103;&#101;&#45;&#114;&#101;&#110;&#100;&#101;&#114;&#105;&#110;&#103;&#61;&#34;&#97;&#117;&#116;&#111;&#34;&#32;&#104;&#101;&#105;&#103;&#104;&#116;&#61;&#34;&#49;&#54;&#55;&#46;&#55;&#54;&#34;&#92;&#10;&#32;&#10;&#62;&#32;&#32;&#32;&#32;&#32;&#102;&#111;&#110;&#116;&#45;&#119;&#101;&#105;&#103;&#104;&#116;&#61;&#34;&#110;&#111;&#114;&#109;&#97;&#108;&#34;&#32;&#102;&#111;&#110;&#116;&#45;&#115;&#116;&#121;&#108;&#101;&#61;&#34;&#110;&#111;&#114;&#109;&#97;&#108;&#34;&#32;&#102;&#111;&#110;&#116;&#45;&#115;&#105;&#122;&#101;&#61;&#34;&#49;&#50;&#34;&#32;&#102;&#111;&#110;&#116;&#45;&#102;&#97;&#109;&#105;&#108;&#121;&#61;&#34;&#39;&#68;&#105;&#97;&#108;&#111;&#103;&#39;&#34;&#92;&#10;&#32;&#10;&#62;&#32;&#32;&#32;&#32;&#32;&#102;&#105;&#108;&#108;&#45;&#111;&#112;&#97;&#99;&#105;&#116;&#121;&#61;&#34;&#49;&#34;&#32;&#102;&#105;&#108;&#108;&#61;&#34;&#98;&#108;&#97;&#99;&#107;&#34;&#32;&#99;&#111;&#108;&#111;&#114;&#45;&#114;&#101;&#110;&#100;&#101;&#114;&#105;&#110;&#103;&#61;&#34;&#97;&#117;&#116;&#111;&#34;&#32;&#99;&#111;&#108;&#111;&#114;&#45;&#105;&#110;&#116;&#101;&#114;&#112;&#111;&#108;&#97;&#116;&#105;&#111;&#110;&#61;&#34;&#97;&#117;&#116;&#111;&#34;&#92;&#10;&#32;&#10;&#62;&#32;&#32;&#32;&#32;&#32;&#120;&#109;&#108;&#110;&#115;&#61;&#34;&#104;&#116;&#116;&#112;&#58;&#47;&#47;&#119;&#119;&#119;&#46;&#119;&#51;&#46;&#111;&#114;&#103;&#47;&#50;&#48;&#48;&#48;&#47;&#115;&#118;&#103;&#34;&#62;&#60;&#103;&#62;&#60;&#103;&#32;&#115;&#116;&#114;&#111;&#107;&#101;&#61;&#34;&#119;&#104;&#105;&#116;&#101;&#34;&#32;&#102;&#105;&#108;&#108;&#61;&#34;&#119;&#104;&#105;&#116;&#101;&#34;&#62;&#60;&#114;&#101;&#99;&#116;&#32;&#121;&#61;&#34;&#48;&#34;&#92;&#10;&#32;&#10;&#62;&#32;&#32;&#32;&#32;&#32;&#120;&#61;&#34;&#48;&#34;&#32;&#119;&#105;&#100;&#116;&#104;&#61;&#34;&#49;&#48;&#51;&#49;&#48;&#34;&#32;&#115;&#116;&#114;&#111;&#107;&#101;&#61;&#34;&#110;&#111;&#110;&#101;&#34;&#32;&#104;&#101;&#105;&#103;&#104;&#116;&#61;&#34;&#53;&#53;&#57;&#50;&#34;&#47;&#62;&#60;&#47;&#103;&#62;&#60;&#103;&#92;&#10;&#32;&#10;&#62;&#32;&#32;&#32;&#32;&#32;&#116;&#114;&#97;&#110;&#115;&#102;&#111;&#114;&#109;&#61;&#34;&#116;&#114;&#97;&#110;&#115;&#108;&#97;&#116;&#101;&#40;&#51;&#50;&#56;&#54;&#54;&#44;&#51;&#50;&#55;&#53;&#56;&#41;&#34;&#32;&#116;&#101;&#120;&#116;&#45;&#114;&#101;&#110;&#100;&#101;&#114;&#105;&#110;&#103;&#61;&#34;&#103;&#101;&#111;&#109;&#101;&#116;&#114;&#105;&#99;&#80;&#114;&#101;&#99;&#105;&#115;&#105;&#111;&#110;&#34;&#92;&#10;&#32;&#10;&#62;&#32;&#32;&#32;&#32;&#32;&#115;&#116;&#114;&#111;&#107;&#101;&#45;&#119;&#105;&#100;&#116;&#104;&#61;&#34;&#52;&#52;&#34;&#32;&#115;&#116;&#114;&#111;&#107;&#101;&#45;&#108;&#105;&#110;&#101;&#106;&#111;&#105;&#110;&#61;&#34;&#114;&#111;&#117;&#110;&#100;&#34;&#32;&#115;&#116;&#114;&#111;&#107;&#101;&#45;&#108;&#105;&#110;&#101;&#99;&#97;&#112;&#61;&#34;&#114;&#111;&#117;&#110;&#100;&#34;&#62;&#60;&#108;&#105;&#110;&#101;&#32;&#121;&#50;&#61;&#34;&#45;&#50;&#56;&#53;&#53;&#57;&#34;&#92;&#10;&#32;&#10;&#62;&#32;&#32;&#32;&#32;&#32;&#121;&#49;&#61;&#34;&#45;&#50;&#56;&#48;&#51;&#54;&#34;&#32;&#120;&#50;&#61;&#34;&#45;&#50;&#54;&#54;&#51;&#53;&#34;&#32;&#120;&#49;&#61;&#34;&#45;&#50;&#53;&#55;&#52;&#50;&#34;&#32;&#102;&#105;&#108;&#108;&#61;&#34;&#110;&#111;&#110;&#101;&#34;&#47;&#62;&#60;&#108;&#105;&#110;&#101;&#32;&#121;&#50;&#61;&#34;&#45;&#50;&#57;&#56;&#49;&#57;&#34;&#32;&#121;&#49;&#61;&#34;&#45;&#50;&#56;&#53;&#53;&#57;&#34;&#92;&#10;&#32;&#10;&#62;&#32;&#32;&#32;&#32;&#32;&#120;&#50;&#61;&#34;&#45;&#50;&#54;&#54;&#51;&#53;&#34;&#32;&#120;&#49;&#61;&#34;&#45;&#50;&#54;&#54;&#51;&#53;&#34;&#32;&#102;&#105;&#108;&#108;&#61;&#34;&#110;&#111;&#110;&#101;&#34;&#47;&#62;&#60;&#108;&#105;&#110;&#101;&#32;&#121;&#50;&#61;&#34;&#45;&#50;&#56;&#48;&#51;&#54;&#34;&#32;&#121;&#49;&#61;&#34;&#45;&#50;&#56;&#53;&#53;&#57;&#34;&#32;&#120;&#50;&#61;&#34;&#45;&#50;&#53;&#51;&#54;&#55;&#34;&#92;&#10;&#32;&#10;&#62;&#32;&#32;&#32;&#32;&#32;&#120;&#49;&#61;&#34;&#45;&#50;&#52;&#52;&#55;&#52;&#34;&#32;&#102;&#105;&#108;&#108;&#61;&#34;&#110;&#111;&#110;&#101;&#34;&#47;&#62;&#60;&#108;&#105;&#110;&#101;&#32;&#121;&#50;&#61;&#34;&#45;&#51;&#48;&#52;&#53;&#49;&#34;&#32;&#121;&#49;&#61;&#34;&#45;&#50;&#57;&#56;&#49;&#57;&#34;&#32;&#120;&#50;&#61;&#34;&#45;&#50;&#53;&#53;&#53;&#53;&#34;&#32;&#120;&#49;&#61;&#34;&#45;&#50;&#54;&#54;&#51;&#53;&#34;&#92;&#10;&#32;&#10;&#62;&#32;&#32;&#32;&#32;&#32;&#102;&#105;&#108;&#108;&#61;&#34;&#110;&#111;&#110;&#101;&#34;&#47;&#62;&#60;&#108;&#105;&#110;&#101;&#32;&#121;&#50;&#61;&#34;&#45;&#50;&#56;&#53;&#53;&#57;&#34;&#32;&#121;&#49;&#61;&#34;&#45;&#50;&#57;&#56;&#49;&#57;&#34;&#32;&#120;&#50;&#61;&#34;&#45;&#50;&#52;&#52;&#55;&#52;&#34;&#32;&#120;&#49;&#61;&#34;&#45;&#50;&#52;&#52;&#55;&#52;&#34;&#92;&#10;&#32;&#10;&#62;&#32;&#32;&#32;&#32;&#32;&#102;&#105;&#108;&#108;&#61;&#34;&#110;&#111;&#110;&#101;&#34;&#47;&#62;&#60;&#108;&#105;&#110;&#101;&#32;&#121;&#50;&#61;&#34;&#45;&#50;&#57;&#53;&#48;&#52;&#34;&#32;&#121;&#49;&#61;&#34;&#45;&#50;&#56;&#56;&#50;&#56;&#34;&#32;&#120;&#50;&#61;&#34;&#45;&#50;&#53;&#49;&#57;&#52;&#34;&#32;&#120;&#49;&#61;&#34;&#45;&#50;&#54;&#48;&#48;&#53;&#34;&#92;&#10;&#32;&#10;&#62;&#32;&#32;&#32;&#32;&#32;&#102;&#105;&#108;&#108;&#61;&#34;&#110;&#111;&#110;&#101;&#34;&#47;&#62;&#60;&#108;&#105;&#110;&#101;&#32;&#121;&#50;&#61;&#34;&#45;&#50;&#57;&#56;&#49;&#57;&#34;&#32;&#121;&#49;&#61;&#34;&#45;&#51;&#48;&#52;&#53;&#49;&#34;&#32;&#120;&#50;&#61;&#34;&#45;&#50;&#52;&#52;&#55;&#52;&#34;&#32;&#120;&#49;&#61;&#34;&#45;&#50;&#53;&#53;&#53;&#53;&#34;&#92;&#10;&#32;&#10;&#62;&#32;&#32;&#32;&#32;&#32;&#102;&#105;&#108;&#108;&#61;&#34;&#110;&#111;&#110;&#101;&#34;&#47;&#62;&#60;&#108;&#105;&#110;&#101;&#32;&#121;&#50;&#61;&#34;&#45;&#50;&#57;&#48;&#56;&#50;&#34;&#32;&#121;&#49;&#61;&#34;&#45;&#50;&#56;&#53;&#53;&#57;&#34;&#32;&#120;&#50;&#61;&#34;&#45;&#50;&#55;&#53;&#52;&#50;&#34;&#32;&#120;&#49;&#61;&#34;&#45;&#50;&#54;&#54;&#51;&#53;&#34;&#92;&#10;&#32;&#10;&#62;&#32;&#32;&#32;&#32;&#32;&#102;&#105;&#108;&#108;&#61;&#34;&#110;&#111;&#110;&#101;&#34;&#47;&#62;&#60;&#108;&#105;&#110;&#101;&#32;&#121;&#50;&#61;&#34;&#45;&#50;&#57;&#56;&#49;&#57;&#34;&#32;&#121;&#49;&#61;&#34;&#45;&#51;&#48;&#51;&#52;&#52;&#34;&#32;&#120;&#50;&#61;&#34;&#45;&#50;&#50;&#54;&#54;&#48;&#34;&#32;&#120;&#49;&#61;&#34;&#45;&#50;&#51;&#53;&#54;&#55;&#34;&#92;&#10;&#32;&#10;&#62;&#32;&#32;&#32;&#32;&#32;&#102;&#105;&#108;&#108;&#61;&#34;&#110;&#111;&#110;&#101;&#34;&#47;&#62;&#60;&#108;&#105;&#110;&#101;&#32;&#121;&#50;&#61;&#34;&#45;&#50;&#57;&#55;&#48;&#48;&#34;&#32;&#121;&#49;&#61;&#34;&#45;&#51;&#48;&#50;&#50;&#51;&#34;&#32;&#120;&#50;&#61;&#34;&#45;&#50;&#50;&#55;&#50;&#57;&#34;&#32;&#120;&#49;&#61;&#34;&#45;&#50;&#51;&#54;&#51;&#54;&#34;&#92;&#10;&#32;&#10;&#62;&#32;&#32;&#32;&#32;&#32;&#102;&#105;&#108;&#108;&#61;&#34;&#110;&#111;&#110;&#101;&#34;&#47;&#62;&#60;&#108;&#105;&#110;&#101;&#32;&#121;&#50;&#61;&#34;&#45;&#50;&#56;&#55;&#55;&#57;&#34;&#32;&#121;&#49;&#61;&#34;&#45;&#50;&#57;&#48;&#56;&#50;&#34;&#32;&#120;&#50;&#61;&#34;&#45;&#50;&#56;&#48;&#55;&#49;&#34;&#32;&#120;&#49;&#61;&#34;&#45;&#50;&#55;&#53;&#52;&#50;&#34;&#92;&#10;&#32;&#10;&#62;&#32;&#32;&#32;&#32;&#32;&#102;&#105;&#108;&#108;&#61;&#34;&#110;&#111;&#110;&#101;&#34;&#47;&#62;&#60;&#108;&#105;&#110;&#101;&#32;&#121;&#50;&#61;&#34;&#45;&#51;&#48;&#55;&#48;&#51;&#34;&#32;&#121;&#49;&#61;&#34;&#45;&#51;&#48;&#49;&#51;&#49;&#34;&#32;&#120;&#50;&#61;&#34;&#45;&#50;&#56;&#53;&#50;&#52;&#34;&#32;&#120;&#49;&#61;&#34;&#45;&#50;&#55;&#53;&#52;&#50;&#34;&#92;&#10;&#32;&#10;&#62;&#32;&#32;&#32;&#32;&#32;&#102;&#105;&#108;&#108;&#61;&#34;&#110;&#111;&#110;&#101;&#34;&#47;&#62;&#60;&#108;&#105;&#110;&#101;&#32;&#121;&#50;&#61;&#34;&#45;&#51;&#49;&#56;&#53;&#48;&#34;&#32;&#121;&#49;&#61;&#34;&#45;&#51;&#48;&#55;&#48;&#51;&#34;&#32;&#120;&#50;&#61;&#34;&#45;&#50;&#56;&#53;&#50;&#52;&#34;&#32;&#120;&#49;&#61;&#34;&#45;&#50;&#56;&#53;&#50;&#52;&#34;&#92;&#10;&#32;&#10;&#62;&#32;&#32;&#32;&#32;&#32;&#102;&#105;&#108;&#108;&#61;&#34;&#110;&#111;&#110;&#101;&#34;&#47;&#62;&#60;&#108;&#105;&#110;&#101;&#32;&#121;&#50;&#61;&#34;&#45;&#51;&#49;&#55;&#48;&#53;&#34;&#32;&#121;&#49;&#61;&#34;&#45;&#51;&#48;&#56;&#52;&#55;&#34;&#32;&#120;&#50;&#61;&#34;&#45;&#50;&#56;&#51;&#53;&#52;&#34;&#32;&#120;&#49;&#61;&#34;&#45;&#50;&#56;&#51;&#53;&#52;&#34;&#92;&#10;&#32;&#10;&#62;&#32;&#32;&#32;&#32;&#32;&#102;&#105;&#108;&#108;&#61;&#34;&#110;&#111;&#110;&#101;&#34;&#47;&#62;&#60;&#108;&#105;&#110;&#101;&#32;&#121;&#50;&#61;&#34;&#45;&#51;&#48;&#49;&#51;&#49;&#34;&#32;&#121;&#49;&#61;&#34;&#45;&#51;&#48;&#55;&#48;&#51;&#34;&#32;&#120;&#50;&#61;&#34;&#45;&#50;&#57;&#53;&#48;&#55;&#34;&#32;&#120;&#49;&#61;&#34;&#45;&#50;&#56;&#53;&#50;&#52;&#34;&#92;&#10;&#32;&#10;&#62;&#32;&#32;&#32;&#32;&#32;&#102;&#105;&#108;&#108;&#61;&#34;&#110;&#111;&#110;&#101;&#34;&#47;&#62;&#60;&#108;&#105;&#110;&#101;&#32;&#121;&#50;&#61;&#34;&#45;&#51;&#48;&#49;&#51;&#49;&#34;&#32;&#121;&#49;&#61;&#34;&#45;&#51;&#48;&#55;&#48;&#51;&#34;&#32;&#120;&#50;&#61;&#34;&#45;&#50;&#55;&#53;&#52;&#50;&#34;&#32;&#120;&#49;&#61;&#34;&#45;&#50;&#54;&#53;&#54;&#48;&#34;&#92;&#10;&#32;&#10;&#62;&#32;&#32;&#32;&#32;&#32;&#102;&#105;&#108;&#108;&#61;&#34;&#110;&#111;&#110;&#101;&#34;&#47;&#62;&#60;&#108;&#105;&#110;&#101;&#32;&#121;&#50;&#61;&#34;&#45;&#51;&#48;&#51;&#52;&#55;&#34;&#32;&#121;&#49;&#61;&#34;&#45;&#51;&#48;&#55;&#55;&#56;&#34;&#32;&#120;&#50;&#61;&#34;&#45;&#50;&#55;&#53;&#48;&#53;&#34;&#32;&#120;&#49;&#61;&#34;&#45;&#50;&#54;&#55;&#54;&#56;&#34;&#92;&#10;&#32;&#10;&#62;&#32;&#32;&#32;&#32;&#32;&#102;&#105;&#108;&#108;&#61;&#34;&#110;&#111;&#110;&#101;&#34;&#47;&#62;&#60;&#108;&#105;&#110;&#101;&#32;&#121;&#50;&#61;&#34;&#45;&#51;&#49;&#56;&#53;&#48;&#34;&#32;&#121;&#49;&#61;&#34;&#45;&#51;&#50;&#52;&#50;&#50;&#34;&#32;&#120;&#50;&#61;&#34;&#45;&#50;&#56;&#53;&#50;&#52;&#34;&#32;&#120;&#49;&#61;&#34;&#45;&#50;&#57;&#53;&#48;&#55;&#34;&#92;&#10;&#32;&#10;&#62;&#32;&#32;&#32;&#32;&#32;&#102;&#105;&#108;&#108;&#61;&#34;&#110;&#111;&#110;&#101;&#34;&#47;&#62;&#60;&#108;&#105;&#110;&#101;&#32;&#121;&#50;&#61;&#34;&#45;&#51;&#50;&#51;&#49;&#50;&#34;&#32;&#121;&#49;&#61;&#34;&#45;&#51;&#49;&#56;&#53;&#48;&#34;&#32;&#120;&#50;&#61;&#34;&#45;&#50;&#55;&#55;&#51;&#48;&#34;&#32;&#120;&#49;&#61;&#34;&#45;&#50;&#56;&#53;&#50;&#52;&#34;&#92;&#10;&#32;&#10;&#62;&#32;&#32;&#32;&#32;&#32;&#102;&#105;&#108;&#108;&#61;&#34;&#110;&#111;&#110;&#101;&#34;&#47;&#62;&#60;&#108;&#105;&#110;&#101;&#32;&#121;&#50;&#61;&#34;&#45;&#51;&#48;&#55;&#48;&#51;&#34;&#32;&#121;&#49;&#61;&#34;&#45;&#51;&#48;&#49;&#51;&#49;&#34;&#32;&#120;&#50;&#61;&#34;&#45;&#51;&#48;&#52;&#56;&#57;&#34;&#32;&#120;&#49;&#61;&#34;&#45;&#50;&#57;&#53;&#48;&#55;&#34;&#92;&#10;&#32;&#10;&#62;&#32;&#32;&#32;&#32;&#32;&#102;&#105;&#108;&#108;&#61;&#34;&#110;&#111;&#110;&#101;&#34;&#47;&#62;&#60;&#108;&#105;&#110;&#101;&#32;&#121;&#50;&#61;&#34;&#45;&#51;&#48;&#55;&#55;&#56;&#34;&#32;&#121;&#49;&#61;&#34;&#45;&#51;&#48;&#51;&#52;&#55;&#34;&#32;&#120;&#50;&#61;&#34;&#45;&#51;&#48;&#50;&#56;&#49;&#34;&#32;&#120;&#49;&#61;&#34;&#45;&#50;&#57;&#53;&#52;&#52;&#34;&#92;&#10;&#32;&#10;&#62;&#32;&#32;&#32;&#32;&#32;&#102;&#105;&#108;&#108;&#61;&#34;&#110;&#111;&#110;&#101;&#34;&#47;&#62;&#60;&#108;&#105;&#110;&#101;&#32;&#121;&#50;&#61;&#34;&#45;&#51;&#48;&#55;&#48;&#51;&#34;&#32;&#121;&#49;&#61;&#34;&#45;&#51;&#49;&#56;&#53;&#48;&#34;&#32;&#120;&#50;&#61;&#34;&#45;&#50;&#54;&#53;&#54;&#48;&#34;&#32;&#120;&#49;&#61;&#34;&#45;&#50;&#54;&#53;&#54;&#48;&#34;&#92;&#10;&#32;&#10;&#62;&#32;&#32;&#32;&#32;&#32;&#102;&#105;&#108;&#108;&#61;&#34;&#110;&#111;&#110;&#101;&#34;&#47;&#62;&#60;&#108;&#105;&#110;&#101;&#32;&#121;&#50;&#61;&#34;&#45;&#51;&#50;&#52;&#50;&#50;&#34;&#32;&#121;&#49;&#61;&#34;&#45;&#51;&#49;&#56;&#53;&#48;&#34;&#32;&#120;&#50;&#61;&#34;&#45;&#50;&#57;&#53;&#48;&#55;&#34;&#32;&#120;&#49;&#61;&#34;&#45;&#51;&#48;&#52;&#56;&#57;&#34;&#92;&#10;&#32;&#10;&#62;&#32;&#32;&#32;&#32;&#32;&#102;&#105;&#108;&#108;&#61;&#34;&#110;&#111;&#110;&#101;&#34;&#47;&#62;&#60;&#108;&#105;&#110;&#101;&#32;&#121;&#50;&#61;&#34;&#45;&#51;&#50;&#50;&#48;&#53;&#34;&#32;&#121;&#49;&#61;&#34;&#45;&#51;&#49;&#55;&#55;&#52;&#34;&#32;&#120;&#50;&#61;&#34;&#45;&#50;&#57;&#53;&#52;&#52;&#34;&#32;&#120;&#49;&#61;&#34;&#45;&#51;&#48;&#50;&#56;&#49;&#34;&#92;&#10;&#32;&#10;&#62;&#32;&#32;&#32;&#32;&#32;&#102;&#105;&#108;&#108;&#61;&#34;&#110;&#111;&#110;&#101;&#34;&#47;&#62;&#60;&#108;&#105;&#110;&#101;&#32;&#121;&#50;&#61;&#34;&#45;&#51;&#49;&#56;&#53;&#48;&#34;&#32;&#121;&#49;&#61;&#34;&#45;&#51;&#50;&#51;&#49;&#50;&#34;&#32;&#120;&#50;&#61;&#34;&#45;&#50;&#54;&#53;&#54;&#48;&#34;&#32;&#120;&#49;&#61;&#34;&#45;&#50;&#55;&#51;&#53;&#52;&#34;&#92;&#10;&#32;&#10;&#62;&#32;&#32;&#32;&#32;&#32;&#102;&#105;&#108;&#108;&#61;&#34;&#110;&#111;&#110;&#101;&#34;&#47;&#62;&#60;&#108;&#105;&#110;&#101;&#32;&#121;&#50;&#61;&#34;&#45;&#51;&#49;&#55;&#54;&#48;&#34;&#32;&#121;&#49;&#61;&#34;&#45;&#51;&#50;&#49;&#48;&#55;&#34;&#32;&#120;&#50;&#61;&#34;&#45;&#50;&#54;&#55;&#52;&#53;&#34;&#32;&#120;&#49;&#61;&#34;&#45;&#50;&#55;&#51;&#52;&#48;&#34;&#92;&#10;&#32;&#10;&#62;&#32;&#32;&#32;&#32;&#32;&#102;&#105;&#108;&#108;&#61;&#34;&#110;&#111;&#110;&#101;&#34;&#47;&#62;&#60;&#108;&#105;&#110;&#101;&#32;&#121;&#50;&#61;&#34;&#45;&#51;&#49;&#56;&#53;&#48;&#34;&#32;&#121;&#49;&#61;&#34;&#45;&#51;&#48;&#55;&#48;&#51;&#34;&#32;&#120;&#50;&#61;&#34;&#45;&#51;&#48;&#52;&#56;&#57;&#34;&#32;&#120;&#49;&#61;&#34;&#45;&#51;&#48;&#52;&#56;&#57;&#34;&#92;&#10;&#32;&#10;&#62;&#32;&#32;&#32;&#32;&#32;&#102;&#105;&#108;&#108;&#61;&#34;&#110;&#111;&#110;&#101;&#34;&#47;&#62;&#60;&#108;&#105;&#110;&#101;&#32;&#121;&#50;&#61;&#34;&#45;&#51;&#48;&#50;&#55;&#53;&#34;&#32;&#121;&#49;&#61;&#34;&#45;&#51;&#48;&#55;&#48;&#51;&#34;&#32;&#120;&#50;&#61;&#34;&#45;&#51;&#49;&#50;&#48;&#48;&#34;&#32;&#120;&#49;&#61;&#34;&#45;&#51;&#48;&#52;&#56;&#57;&#34;&#92;&#10;&#32;&#10;&#62;&#32;&#32;&#32;&#32;&#32;&#102;&#105;&#108;&#108;&#61;&#34;&#110;&#111;&#110;&#101;&#34;&#47;&#62;&#60;&#108;&#105;&#110;&#101;&#32;&#121;&#50;&#61;&#34;&#45;&#51;&#48;&#53;&#52;&#49;&#34;&#32;&#121;&#49;&#61;&#34;&#45;&#51;&#48;&#50;&#55;&#50;&#34;&#32;&#120;&#50;&#61;&#34;&#45;&#51;&#50;&#48;&#52;&#48;&#34;&#32;&#120;&#49;&#61;&#34;&#45;&#51;&#49;&#53;&#55;&#53;&#34;&#92;&#10;&#32;&#10;&#62;&#32;&#32;&#32;&#32;&#32;&#102;&#105;&#108;&#108;&#61;&#34;&#110;&#111;&#110;&#101;&#34;&#47;&#62;&#60;&#112;&#111;&#108;&#121;&#103;&#111;&#110;&#32;&#115;&#116;&#114;&#111;&#107;&#101;&#45;&#119;&#105;&#100;&#116;&#104;&#61;&#34;&#49;&#34;&#32;&#115;&#116;&#114;&#111;&#107;&#101;&#61;&#34;&#110;&#111;&#110;&#101;&#34;&#32;&#112;&#111;&#105;&#110;&#116;&#115;&#61;&#34;&#32;&#45;&#50;&#52;&#52;&#55;&#52;&#32;&#45;&#50;&#57;&#56;&#49;&#57;&#32;&#45;&#50;&#51;&#54;&#48;&#50;&#92;&#10;&#32;&#10;&#62;&#32;&#32;&#32;&#32;&#32;&#45;&#51;&#48;&#52;&#48;&#50;&#32;&#45;&#50;&#51;&#53;&#51;&#50;&#32;&#45;&#51;&#48;&#50;&#56;&#52;&#34;&#47;&#62;&#60;&#112;&#111;&#108;&#121;&#103;&#111;&#110;&#32;&#115;&#116;&#114;&#111;&#107;&#101;&#45;&#119;&#105;&#100;&#116;&#104;&#61;&#34;&#49;&#34;&#32;&#112;&#111;&#105;&#110;&#116;&#115;&#61;&#34;&#32;&#45;&#50;&#52;&#52;&#55;&#52;&#32;&#45;&#50;&#57;&#56;&#49;&#57;&#32;&#45;&#50;&#51;&#54;&#48;&#50;&#92;&#10;&#32;&#10;&#62;&#32;&#32;&#32;&#32;&#32;&#45;&#51;&#48;&#52;&#48;&#50;&#32;&#45;&#50;&#51;&#53;&#51;&#50;&#32;&#45;&#51;&#48;&#50;&#56;&#52;&#34;&#32;&#102;&#105;&#108;&#108;&#61;&#34;&#110;&#111;&#110;&#101;&#34;&#47;&#62;&#60;&#112;&#111;&#108;&#121;&#103;&#111;&#110;&#32;&#115;&#116;&#114;&#111;&#107;&#101;&#45;&#119;&#105;&#100;&#116;&#104;&#61;&#34;&#49;&#34;&#32;&#115;&#116;&#114;&#111;&#107;&#101;&#61;&#34;&#110;&#111;&#110;&#101;&#34;&#92;&#10;&#32;&#10;&#62;&#32;&#32;&#32;&#32;&#32;&#112;&#111;&#105;&#110;&#116;&#115;&#61;&#34;&#32;&#45;&#50;&#54;&#54;&#51;&#53;&#32;&#45;&#50;&#56;&#53;&#53;&#57;&#32;&#45;&#50;&#54;&#57;&#55;&#51;&#32;&#45;&#50;&#55;&#56;&#51;&#55;&#32;&#45;&#50;&#55;&#48;&#57;&#50;&#32;&#45;&#50;&#55;&#57;&#48;&#51;&#34;&#47;&#62;&#60;&#112;&#111;&#108;&#121;&#103;&#111;&#110;&#32;&#115;&#116;&#114;&#111;&#107;&#101;&#45;&#119;&#105;&#100;&#116;&#104;&#61;&#34;&#49;&#34;&#92;&#10;&#32;&#10;&#62;&#32;&#32;&#32;&#32;&#32;&#112;&#111;&#105;&#110;&#116;&#115;&#61;&#34;&#32;&#45;&#50;&#54;&#54;&#51;&#53;&#32;&#45;&#50;&#56;&#53;&#53;&#57;&#32;&#45;&#50;&#54;&#57;&#55;&#51;&#32;&#45;&#50;&#55;&#56;&#51;&#55;&#32;&#45;&#50;&#55;&#48;&#57;&#50;&#32;&#45;&#50;&#55;&#57;&#48;&#51;&#34;&#32;&#102;&#105;&#108;&#108;&#61;&#34;&#110;&#111;&#110;&#101;&#34;&#47;&#62;&#60;&#108;&#105;&#110;&#101;&#32;&#121;&#50;&#61;&#34;&#45;&#50;&#56;&#56;&#54;&#48;&#34;&#92;&#10;&#32;&#10;&#62;&#32;&#32;&#32;&#32;&#32;&#121;&#49;&#61;&#34;&#45;&#50;&#56;&#55;&#57;&#54;&#34;&#32;&#120;&#50;&#61;&#34;&#45;&#50;&#53;&#57;&#52;&#53;&#34;&#32;&#120;&#49;&#61;&#34;&#45;&#50;&#54;&#48;&#54;&#54;&#34;&#32;&#102;&#105;&#108;&#108;&#61;&#34;&#110;&#111;&#110;&#101;&#34;&#47;&#62;&#60;&#108;&#105;&#110;&#101;&#32;&#121;&#50;&#61;&#34;&#45;&#50;&#56;&#54;&#53;&#55;&#34;&#32;&#121;&#49;&#61;&#34;&#45;&#50;&#56;&#54;&#49;&#49;&#34;&#92;&#10;&#32;&#10;&#62;&#32;&#32;&#32;&#32;&#32;&#120;&#50;&#61;&#34;&#45;&#50;&#53;&#56;&#54;&#53;&#34;&#32;&#120;&#49;&#61;&#34;&#45;&#50;&#53;&#57;&#53;&#50;&#34;&#32;&#102;&#105;&#108;&#108;&#61;&#34;&#110;&#111;&#110;&#101;&#34;&#47;&#62;&#60;&#108;&#105;&#110;&#101;&#32;&#121;&#50;&#61;&#34;&#45;&#50;&#56;&#52;&#53;&#52;&#34;&#32;&#121;&#49;&#61;&#34;&#45;&#50;&#56;&#52;&#50;&#55;&#34;&#32;&#120;&#50;&#61;&#34;&#45;&#50;&#53;&#55;&#56;&#53;&#34;&#92;&#10;&#32;&#10;&#62;&#32;&#32;&#32;&#32;&#32;&#120;&#49;&#61;&#34;&#45;&#50;&#53;&#56;&#51;&#56;&#34;&#32;&#102;&#105;&#108;&#108;&#61;&#34;&#110;&#111;&#110;&#101;&#34;&#47;&#62;&#60;&#108;&#105;&#110;&#101;&#32;&#121;&#50;&#61;&#34;&#45;&#50;&#56;&#50;&#53;&#50;&#34;&#32;&#121;&#49;&#61;&#34;&#45;&#50;&#56;&#50;&#52;&#50;&#34;&#32;&#120;&#50;&#61;&#34;&#45;&#50;&#53;&#55;&#48;&#54;&#34;&#32;&#120;&#49;&#61;&#34;&#45;&#50;&#53;&#55;&#50;&#51;&#34;&#92;&#10;&#32;&#10;&#62;&#32;&#32;&#32;&#32;&#32;&#102;&#105;&#108;&#108;&#61;&#34;&#110;&#111;&#110;&#101;&#34;&#47;&#62;&#60;&#108;&#105;&#110;&#101;&#32;&#121;&#50;&#61;&#34;&#45;&#50;&#57;&#52;&#55;&#56;&#34;&#32;&#121;&#49;&#61;&#34;&#45;&#50;&#57;&#53;&#51;&#48;&#34;&#32;&#120;&#50;&#61;&#34;&#45;&#50;&#53;&#50;&#53;&#55;&#34;&#32;&#120;&#49;&#61;&#34;&#45;&#50;&#53;&#49;&#51;&#48;&#34;&#92;&#10;&#32;&#10;&#62;&#32;&#32;&#32;&#32;&#32;&#102;&#105;&#108;&#108;&#61;&#34;&#110;&#111;&#110;&#101;&#34;&#47;&#62;&#60;&#108;&#105;&#110;&#101;&#32;&#121;&#50;&#61;&#34;&#45;&#50;&#57;&#54;&#56;&#54;&#34;&#32;&#121;&#49;&#61;&#34;&#45;&#50;&#57;&#55;&#50;&#55;&#34;&#32;&#120;&#50;&#61;&#34;&#45;&#50;&#53;&#51;&#50;&#49;&#34;&#32;&#120;&#49;&#61;&#34;&#45;&#50;&#53;&#50;&#50;&#49;&#34;&#92;&#10;&#32;&#10;&#62;&#32;&#32;&#32;&#32;&#32;&#102;&#105;&#108;&#108;&#61;&#34;&#110;&#111;&#110;&#101;&#34;&#47;&#62;&#60;&#108;&#105;&#110;&#101;&#32;&#121;&#50;&#61;&#34;&#45;&#50;&#57;&#56;&#57;&#52;&#34;&#32;&#121;&#49;&#61;&#34;&#45;&#50;&#57;&#57;&#50;&#52;&#34;&#32;&#120;&#50;&#61;&#34;&#45;&#50;&#53;&#51;&#56;&#52;&#34;&#32;&#120;&#49;&#61;&#34;&#45;&#50;&#53;&#51;&#49;&#50;&#34;&#92;&#10;&#32;&#10;&#62;&#32;&#32;&#32;&#32;&#32;&#102;&#105;&#108;&#108;&#61;&#34;&#110;&#111;&#110;&#101;&#34;&#47;&#62;&#60;&#108;&#105;&#110;&#101;&#32;&#121;&#50;&#61;&#34;&#45;&#51;&#48;&#49;&#48;&#50;&#34;&#32;&#121;&#49;&#61;&#34;&#45;&#51;&#48;&#49;&#50;&#49;&#34;&#32;&#120;&#50;&#61;&#34;&#45;&#50;&#53;&#52;&#52;&#56;&#34;&#32;&#120;&#49;&#61;&#34;&#45;&#50;&#53;&#52;&#48;&#51;&#34;&#92;&#10;&#32;&#10;&#62;&#32;&#32;&#32;&#32;&#32;&#102;&#105;&#108;&#108;&#61;&#34;&#110;&#111;&#110;&#101;&#34;&#47;&#62;&#60;&#108;&#105;&#110;&#101;&#32;&#121;&#50;&#61;&#34;&#45;&#51;&#48;&#51;&#49;&#48;&#34;&#32;&#121;&#49;&#61;&#34;&#45;&#51;&#48;&#51;&#49;&#55;&#34;&#32;&#120;&#50;&#61;&#34;&#45;&#50;&#53;&#53;&#49;&#50;&#34;&#32;&#120;&#49;&#61;&#34;&#45;&#50;&#53;&#52;&#57;&#51;&#34;&#92;&#10;&#32;&#10;&#62;&#32;&#32;&#32;&#32;&#32;&#102;&#105;&#108;&#108;&#61;&#34;&#110;&#111;&#110;&#101;&#34;&#47;&#62;&#60;&#108;&#105;&#110;&#101;&#32;&#121;&#50;&#61;&#34;&#45;&#51;&#48;&#49;&#51;&#49;&#34;&#32;&#121;&#49;&#61;&#34;&#45;&#51;&#48;&#49;&#50;&#56;&#34;&#32;&#120;&#50;&#61;&#34;&#45;&#50;&#55;&#52;&#55;&#51;&#34;&#32;&#120;&#49;&#61;&#34;&#45;&#50;&#55;&#54;&#49;&#50;&#34;&#92;&#10;&#32;&#10;&#62;&#32;&#32;&#32;&#32;&#32;&#102;&#105;&#108;&#108;&#61;&#34;&#110;&#111;&#110;&#101;&#34;&#47;&#62;&#60;&#108;&#105;&#110;&#101;&#32;&#121;&#50;&#61;&#34;&#45;&#50;&#57;&#57;&#49;&#52;&#34;&#32;&#121;&#49;&#61;&#34;&#45;&#50;&#57;&#57;&#49;&#50;&#34;&#32;&#120;&#50;&#61;&#34;&#45;&#50;&#55;&#52;&#56;&#55;&#34;&#32;&#120;&#49;&#61;&#34;&#45;&#50;&#55;&#53;&#57;&#56;&#34;&#92;&#10;&#32;&#10;&#62;&#32;&#32;&#32;&#32;&#32;&#102;&#105;&#108;&#108;&#61;&#34;&#110;&#111;&#110;&#101;&#34;&#47;&#62;&#60;&#108;&#105;&#110;&#101;&#32;&#121;&#50;&#61;&#34;&#45;&#50;&#57;&#54;&#57;&#55;&#34;&#32;&#121;&#49;&#61;&#34;&#45;&#50;&#57;&#54;&#57;&#53;&#34;&#32;&#120;&#50;&#61;&#34;&#45;&#50;&#55;&#53;&#48;&#50;&#34;&#32;&#120;&#49;&#61;&#34;&#45;&#50;&#55;&#53;&#56;&#51;&#34;&#92;&#10;&#32;&#10;&#62;&#32;&#32;&#32;&#32;&#32;&#102;&#105;&#108;&#108;&#61;&#34;&#110;&#111;&#110;&#101;&#34;&#47;&#62;&#60;&#108;&#105;&#110;&#101;&#32;&#121;&#50;&#61;&#34;&#45;&#50;&#57;&#52;&#56;&#48;&#34;&#32;&#121;&#49;&#61;&#34;&#45;&#50;&#57;&#52;&#55;&#57;&#34;&#32;&#120;&#50;&#61;&#34;&#45;&#50;&#55;&#53;&#49;&#54;&#34;&#32;&#120;&#49;&#61;&#34;&#45;&#50;&#55;&#53;&#54;&#57;&#34;&#92;&#10;&#32;&#10;&#62;&#32;&#32;&#32;&#32;&#32;&#102;&#105;&#108;&#108;&#61;&#34;&#110;&#111;&#110;&#101;&#34;&#47;&#62;&#60;&#108;&#105;&#110;&#101;&#32;&#121;&#50;&#61;&#34;&#45;&#50;&#57;&#50;&#54;&#51;&#34;&#32;&#121;&#49;&#61;&#34;&#45;&#50;&#57;&#50;&#54;&#51;&#34;&#32;&#120;&#50;&#61;&#34;&#45;&#50;&#55;&#53;&#51;&#48;&#34;&#32;&#120;&#49;&#61;&#34;&#45;&#50;&#55;&#53;&#53;&#52;&#34;&#92;&#10;&#32;&#10;&#62;&#32;&#32;&#32;&#32;&#32;&#102;&#105;&#108;&#108;&#61;&#34;&#110;&#111;&#110;&#101;&#34;&#47;&#62;&#60;&#116;&#101;&#120;&#116;&#32;&#121;&#61;&#34;&#45;&#50;&#56;&#51;&#56;&#48;&#34;&#32;&#120;&#109;&#108;&#58;&#115;&#112;&#97;&#99;&#101;&#61;&#34;&#112;&#114;&#101;&#115;&#101;&#114;&#118;&#101;&#34;&#32;&#120;&#61;&#34;&#45;&#50;&#56;&#54;&#48;&#50;&#34;&#32;&#115;&#116;&#114;&#111;&#107;&#101;&#61;&#34;&#110;&#111;&#110;&#101;&#34;&#92;&#10;&#32;&#10;&#62;&#32;&#32;&#32;&#32;&#32;&#102;&#111;&#110;&#116;&#45;&#115;&#105;&#122;&#101;&#61;&#34;&#52;&#51;&#51;&#46;&#51;&#51;&#51;&#51;&#34;&#32;&#102;&#111;&#110;&#116;&#45;&#102;&#97;&#109;&#105;&#108;&#121;&#61;&#34;&#115;&#97;&#110;&#115;&#45;&#115;&#101;&#114;&#105;&#102;&#34;&#62;&#79;&#72;&#60;&#47;&#116;&#101;&#120;&#116;&#62;&#60;&#116;&#101;&#120;&#116;&#32;&#121;&#61;&#34;&#45;&#50;&#57;&#57;&#56;&#51;&#34;&#92;&#10;&#32;&#10;&#62;&#32;&#32;&#32;&#32;&#32;&#120;&#109;&#108;&#58;&#115;&#112;&#97;&#99;&#101;&#61;&#34;&#112;&#114;&#101;&#115;&#101;&#114;&#118;&#101;&#34;&#32;&#120;&#61;&#34;&#45;&#51;&#49;&#53;&#52;&#48;&#34;&#32;&#115;&#116;&#114;&#111;&#107;&#101;&#61;&#34;&#110;&#111;&#110;&#101;&#34;&#32;&#102;&#111;&#110;&#116;&#45;&#115;&#105;&#122;&#101;&#61;&#34;&#52;&#51;&#51;&#46;&#51;&#51;&#51;&#51;&#34;&#92;&#10;&#32;&#10;&#62;&#32;&#32;&#32;&#32;&#32;&#102;&#111;&#110;&#116;&#45;&#102;&#97;&#109;&#105;&#108;&#121;&#61;&#34;&#115;&#97;&#110;&#115;&#45;&#115;&#101;&#114;&#105;&#102;&#34;&#62;&#79;&#60;&#47;&#116;&#101;&#120;&#116;&#62;&#60;&#116;&#101;&#120;&#116;&#32;&#121;&#61;&#34;&#45;&#51;&#48;&#54;&#57;&#49;&#34;&#32;&#120;&#109;&#108;&#58;&#115;&#112;&#97;&#99;&#101;&#61;&#34;&#112;&#114;&#101;&#115;&#101;&#114;&#118;&#101;&#34;&#32;&#120;&#61;&#34;&#45;&#51;&#50;&#55;&#54;&#50;&#34;&#92;&#10;&#32;&#10;&#62;&#32;&#32;&#32;&#32;&#32;&#115;&#116;&#114;&#111;&#107;&#101;&#61;&#34;&#110;&#111;&#110;&#101;&#34;&#32;&#102;&#111;&#110;&#116;&#45;&#115;&#105;&#122;&#101;&#61;&#34;&#52;&#51;&#51;&#46;&#51;&#51;&#51;&#51;&#34;&#32;&#102;&#111;&#110;&#116;&#45;&#102;&#97;&#109;&#105;&#108;&#121;&#61;&#34;&#115;&#97;&#110;&#115;&#45;&#115;&#101;&#114;&#105;&#102;&#34;&#62;&#67;&#72;&#60;&#47;&#116;&#101;&#120;&#116;&#62;&#60;&#116;&#101;&#120;&#116;&#92;&#10;&#32;&#10;&#62;&#32;&#32;&#32;&#32;&#32;&#121;&#61;&#34;&#45;&#51;&#48;&#54;&#48;&#50;&#34;&#32;&#120;&#109;&#108;&#58;&#115;&#112;&#97;&#99;&#101;&#61;&#34;&#112;&#114;&#101;&#115;&#101;&#114;&#118;&#101;&#34;&#32;&#120;&#61;&#34;&#45;&#51;&#50;&#49;&#56;&#53;&#34;&#32;&#115;&#116;&#114;&#111;&#107;&#101;&#61;&#34;&#110;&#111;&#110;&#101;&#34;&#32;&#102;&#111;&#110;&#116;&#45;&#115;&#105;&#122;&#101;&#61;&#34;&#51;&#49;&#51;&#46;&#51;&#51;&#51;&#51;&#34;&#92;&#10;&#32;&#10;&#62;&#32;&#32;&#32;&#32;&#32;&#102;&#111;&#110;&#116;&#45;&#102;&#97;&#109;&#105;&#108;&#121;&#61;&#34;&#115;&#97;&#110;&#115;&#45;&#115;&#101;&#114;&#105;&#102;&#34;&#62;&#51;&#60;&#47;&#116;&#101;&#120;&#116;&#62;&#60;&#116;&#101;&#120;&#116;&#32;&#121;&#61;&#34;&#45;&#51;&#50;&#50;&#52;&#50;&#34;&#32;&#120;&#109;&#108;&#58;&#115;&#112;&#97;&#99;&#101;&#61;&#34;&#112;&#114;&#101;&#115;&#101;&#114;&#118;&#101;&#34;&#32;&#120;&#61;&#34;&#45;&#50;&#55;&#54;&#57;&#53;&#34;&#92;&#10;&#32;&#10;&#62;&#32;&#32;&#32;&#32;&#32;&#115;&#116;&#114;&#111;&#107;&#101;&#61;&#34;&#110;&#111;&#110;&#101;&#34;&#32;&#102;&#111;&#110;&#116;&#45;&#115;&#105;&#122;&#101;&#61;&#34;&#52;&#51;&#51;&#46;&#51;&#51;&#51;&#51;&#34;&#32;&#102;&#111;&#110;&#116;&#45;&#102;&#97;&#109;&#105;&#108;&#121;&#61;&#34;&#115;&#97;&#110;&#115;&#45;&#115;&#101;&#114;&#105;&#102;&#34;&#62;&#78;&#60;&#47;&#116;&#101;&#120;&#116;&#62;&#60;&#116;&#101;&#120;&#116;&#92;&#10;&#32;&#10;&#62;&#32;&#32;&#32;&#32;&#32;&#121;&#61;&#34;&#45;&#50;&#55;&#55;&#52;&#55;&#34;&#32;&#120;&#109;&#108;&#58;&#115;&#112;&#97;&#99;&#101;&#61;&#34;&#112;&#114;&#101;&#115;&#101;&#114;&#118;&#101;&#34;&#32;&#120;&#61;&#34;&#45;&#50;&#53;&#55;&#48;&#56;&#34;&#32;&#115;&#116;&#114;&#111;&#107;&#101;&#61;&#34;&#110;&#111;&#110;&#101;&#34;&#32;&#102;&#111;&#110;&#116;&#45;&#115;&#105;&#122;&#101;&#61;&#34;&#52;&#51;&#51;&#46;&#51;&#51;&#51;&#51;&#34;&#92;&#10;&#32;&#10;&#62;&#32;&#32;&#32;&#32;&#32;&#102;&#111;&#110;&#116;&#45;&#102;&#97;&#109;&#105;&#108;&#121;&#61;&#34;&#115;&#97;&#110;&#115;&#45;&#115;&#101;&#114;&#105;&#102;&#34;&#62;&#78;&#60;&#47;&#116;&#101;&#120;&#116;&#62;&#60;&#116;&#101;&#120;&#116;&#32;&#121;&#61;&#34;&#45;&#50;&#55;&#52;&#55;&#51;&#34;&#32;&#120;&#109;&#108;&#58;&#115;&#112;&#97;&#99;&#101;&#61;&#34;&#112;&#114;&#101;&#115;&#101;&#114;&#118;&#101;&#34;&#32;&#120;&#61;&#34;&#45;&#50;&#55;&#51;&#49;&#49;&#34;&#92;&#10;&#32;&#10;&#62;&#32;&#32;&#32;&#32;&#32;&#115;&#116;&#114;&#111;&#107;&#101;&#61;&#34;&#110;&#111;&#110;&#101;&#34;&#32;&#102;&#111;&#110;&#116;&#45;&#115;&#105;&#122;&#101;&#61;&#34;&#52;&#51;&#51;&#46;&#51;&#51;&#51;&#51;&#34;&#32;&#102;&#111;&#110;&#116;&#45;&#102;&#97;&#109;&#105;&#108;&#121;&#61;&#34;&#115;&#97;&#110;&#115;&#45;&#115;&#101;&#114;&#105;&#102;&#34;&#62;&#72;&#60;&#47;&#116;&#101;&#120;&#116;&#62;&#60;&#116;&#101;&#120;&#116;&#92;&#10;&#32;&#10;&#62;&#32;&#32;&#32;&#32;&#32;&#121;&#61;&#34;&#45;&#50;&#56;&#54;&#48;&#48;&#34;&#32;&#120;&#109;&#108;&#58;&#115;&#112;&#97;&#99;&#101;&#61;&#34;&#112;&#114;&#101;&#115;&#101;&#114;&#118;&#101;&#34;&#32;&#120;&#61;&#34;&#45;&#50;&#55;&#54;&#57;&#53;&#34;&#32;&#115;&#116;&#114;&#111;&#107;&#101;&#61;&#34;&#110;&#111;&#110;&#101;&#34;&#32;&#102;&#111;&#110;&#116;&#45;&#115;&#116;&#121;&#108;&#101;&#61;&#34;&#105;&#116;&#97;&#108;&#105;&#99;&#34;&#92;&#10;&#32;&#10;&#62;&#32;&#32;&#32;&#32;&#32;&#102;&#111;&#110;&#116;&#45;&#115;&#105;&#122;&#101;&#61;&#34;&#51;&#49;&#51;&#46;&#51;&#51;&#51;&#51;&#34;&#32;&#102;&#111;&#110;&#116;&#45;&#102;&#97;&#109;&#105;&#108;&#121;&#61;&#34;&#115;&#97;&#110;&#115;&#45;&#115;&#101;&#114;&#105;&#102;&#34;&#62;&#82;&#60;&#47;&#116;&#101;&#120;&#116;&#62;&#60;&#116;&#101;&#120;&#116;&#32;&#121;&#61;&#34;&#45;&#50;&#56;&#53;&#50;&#50;&#34;&#92;&#10;&#32;&#10;&#62;&#32;&#32;&#32;&#32;&#32;&#120;&#109;&#108;&#58;&#115;&#112;&#97;&#99;&#101;&#61;&#34;&#112;&#114;&#101;&#115;&#101;&#114;&#118;&#101;&#34;&#32;&#120;&#61;&#34;&#45;&#50;&#54;&#53;&#52;&#48;&#34;&#32;&#115;&#116;&#114;&#111;&#107;&#101;&#61;&#34;&#110;&#111;&#110;&#101;&#34;&#32;&#102;&#111;&#110;&#116;&#45;&#115;&#116;&#121;&#108;&#101;&#61;&#34;&#105;&#116;&#97;&#108;&#105;&#99;&#34;&#92;&#10;&#32;&#10;&#62;&#32;&#32;&#32;&#32;&#32;&#102;&#111;&#110;&#116;&#45;&#115;&#105;&#122;&#101;&#61;&#34;&#51;&#49;&#51;&#46;&#51;&#51;&#51;&#51;&#34;&#32;&#102;&#111;&#110;&#116;&#45;&#102;&#97;&#109;&#105;&#108;&#121;&#61;&#34;&#115;&#97;&#110;&#115;&#45;&#115;&#101;&#114;&#105;&#102;&#34;&#62;&#83;&#60;&#47;&#116;&#101;&#120;&#116;&#62;&#60;&#116;&#101;&#120;&#116;&#32;&#121;&#61;&#34;&#45;&#50;&#55;&#51;&#51;&#55;&#34;&#92;&#10;&#32;&#10;&#62;&#32;&#32;&#32;&#32;&#32;&#120;&#109;&#108;&#58;&#115;&#112;&#97;&#99;&#101;&#61;&#34;&#112;&#114;&#101;&#115;&#101;&#114;&#118;&#101;&#34;&#32;&#120;&#61;&#34;&#45;&#50;&#53;&#56;&#49;&#56;&#34;&#32;&#115;&#116;&#114;&#111;&#107;&#101;&#61;&#34;&#110;&#111;&#110;&#101;&#34;&#32;&#102;&#111;&#110;&#116;&#45;&#115;&#116;&#121;&#108;&#101;&#61;&#34;&#105;&#116;&#97;&#108;&#105;&#99;&#34;&#92;&#10;&#32;&#10;&#62;&#32;&#32;&#32;&#32;&#32;&#102;&#111;&#110;&#116;&#45;&#115;&#105;&#122;&#101;&#61;&#34;&#51;&#49;&#51;&#46;&#51;&#51;&#51;&#51;&#34;&#32;&#102;&#111;&#110;&#116;&#45;&#102;&#97;&#109;&#105;&#108;&#121;&#61;&#34;&#115;&#97;&#110;&#115;&#45;&#115;&#101;&#114;&#105;&#102;&#34;&#62;&#83;&#60;&#47;&#116;&#101;&#120;&#116;&#62;&#60;&#116;&#101;&#120;&#116;&#32;&#121;&#61;&#34;&#45;&#51;&#48;&#53;&#55;&#51;&#34;&#92;&#10;&#32;&#10;&#62;&#32;&#32;&#32;&#32;&#32;&#120;&#109;&#108;&#58;&#115;&#112;&#97;&#99;&#101;&#61;&#34;&#112;&#114;&#101;&#115;&#101;&#114;&#118;&#101;&#34;&#32;&#120;&#61;&#34;&#45;&#50;&#53;&#55;&#48;&#56;&#34;&#32;&#115;&#116;&#114;&#111;&#107;&#101;&#61;&#34;&#110;&#111;&#110;&#101;&#34;&#32;&#102;&#111;&#110;&#116;&#45;&#115;&#116;&#121;&#108;&#101;&#61;&#34;&#105;&#116;&#97;&#108;&#105;&#99;&#34;&#92;&#10;&#32;&#10;&#62;&#32;&#32;&#32;&#32;&#32;&#102;&#111;&#110;&#116;&#45;&#115;&#105;&#122;&#101;&#61;&#34;&#51;&#49;&#51;&#46;&#51;&#51;&#51;&#51;&#34;&#32;&#102;&#111;&#110;&#116;&#45;&#102;&#97;&#109;&#105;&#108;&#121;&#61;&#34;&#115;&#97;&#110;&#115;&#45;&#115;&#101;&#114;&#105;&#102;&#34;&#62;&#83;&#60;&#47;&#116;&#101;&#120;&#116;&#62;&#60;&#116;&#101;&#120;&#116;&#32;&#121;&#61;&#34;&#45;&#50;&#57;&#52;&#57;&#53;&#34;&#92;&#10;&#32;&#10;&#62;&#32;&#32;&#32;&#32;&#32;&#120;&#109;&#108;&#58;&#115;&#112;&#97;&#99;&#101;&#61;&#34;&#112;&#114;&#101;&#115;&#101;&#114;&#118;&#101;&#34;&#32;&#120;&#61;&#34;&#45;&#50;&#52;&#56;&#55;&#54;&#34;&#32;&#115;&#116;&#114;&#111;&#107;&#101;&#61;&#34;&#110;&#111;&#110;&#101;&#34;&#32;&#102;&#111;&#110;&#116;&#45;&#115;&#116;&#121;&#108;&#101;&#61;&#34;&#105;&#116;&#97;&#108;&#105;&#99;&#34;&#92;&#10;&#32;&#10;&#62;&#32;&#32;&#32;&#32;&#32;&#102;&#111;&#110;&#116;&#45;&#115;&#105;&#122;&#101;&#61;&#34;&#51;&#49;&#51;&#46;&#51;&#51;&#51;&#51;&#34;&#32;&#102;&#111;&#110;&#116;&#45;&#102;&#97;&#109;&#105;&#108;&#121;&#61;&#34;&#115;&#97;&#110;&#115;&#45;&#115;&#101;&#114;&#105;&#102;&#34;&#62;&#82;&#60;&#47;&#116;&#101;&#120;&#116;&#62;&#60;&#47;&#103;&#62;&#60;&#47;&#103;&#62;&#60;&#47;&#115;&#118;&#103;&#62;&#44;&#32;&#10;&#32;&#10;&#62;&#32;&#32;&#32;&#105;&#110;&#99;&#104;&#105;&#32;&#45;&#62;&#32;&#73;&#110;&#67;&#104;&#73;&#61;&#49;&#83;&#47;&#67;&#50;&#48;&#72;&#50;&#52;&#78;&#50;&#79;&#50;&#47;&#99;&#49;&#45;&#51;&#45;&#49;&#51;&#45;&#49;&#50;&#45;&#50;&#50;&#45;&#57;&#45;&#55;&#45;&#49;&#52;&#40;&#49;&#51;&#41;&#49;&#48;&#45;&#49;&#57;&#40;&#50;&#50;&#41;&#50;&#48;&#40;&#50;&#51;&#41;&#49;&#54;&#45;&#54;&#45;&#56;&#45;&#50;&#49;&#45;&#49;&#56;&#45;&#53;&#45;&#52;&#92;&#10;&#32;&#10;&#62;&#32;&#32;&#32;&#32;&#32;&#45;&#49;&#53;&#40;&#50;&#52;&#45;&#50;&#41;&#49;&#49;&#45;&#49;&#55;&#40;&#49;&#54;&#41;&#49;&#56;&#47;&#104;&#51;&#45;&#54;&#44;&#56;&#44;&#49;&#49;&#44;&#49;&#51;&#45;&#49;&#52;&#44;&#49;&#57;&#45;&#50;&#48;&#44;&#50;&#51;&#72;&#44;&#49;&#44;&#55;&#44;&#57;&#45;&#49;&#48;&#44;&#49;&#50;&#72;&#50;&#44;&#50;&#72;&#51;&#47;&#116;&#49;&#51;&#45;&#44;&#49;&#52;&#45;&#44;&#49;&#57;&#45;&#44;&#50;&#48;&#43;&#47;&#92;&#10;&#32;&#10;&#62;&#32;&#32;&#32;&#32;&#32;&#109;&#48;&#47;&#115;&#49;&#44;&#32;&#105;&#110;&#99;&#104;&#105;&#75;&#101;&#121;&#32;&#45;&#62;&#32;&#73;&#110;&#67;&#104;&#73;&#75;&#101;&#121;&#61;&#76;&#79;&#85;&#80;&#82;&#75;&#79;&#78;&#84;&#90;&#71;&#84;&#75;&#69;&#45;&#87;&#90;&#66;&#76;&#77;&#81;&#83;&#72;&#83;&#65;&#45;&#78;&#44;&#32;&#10;&#32;&#10;&#62;&#32;&#32;&#32;&#115;&#109;&#105;&#108;&#101;&#32;&#45;&#62;&#32;&#91;&#67;&#64;&#64;&#72;&#93;&#40;&#79;&#41;&#40;&#67;&#61;&#49;&#67;&#50;&#61;&#67;&#40;&#67;&#61;&#67;&#67;&#40;&#79;&#67;&#41;&#61;&#67;&#50;&#41;&#78;&#61;&#67;&#67;&#49;&#41;&#91;&#67;&#64;&#93;&#51;&#40;&#91;&#78;&#64;&#64;&#93;&#52;&#67;&#91;&#67;&#64;&#72;&#93;&#40;&#67;&#61;&#67;&#41;&#91;&#67;&#64;&#72;&#93;&#40;&#67;&#51;&#41;&#67;&#67;&#52;&#41;&#91;&#92;&#10;&#32;&#10;&#62;&#32;&#32;&#32;&#32;&#32;&#72;&#93;&#44;&#32;&#99;&#97;&#110;&#111;&#110;&#105;&#99;&#97;&#108;&#83;&#109;&#105;&#108;&#101;&#32;&#45;&#62;&#32;&#79;&#67;&#40;&#67;&#61;&#49;&#67;&#61;&#67;&#78;&#61;&#67;&#50;&#67;&#61;&#67;&#67;&#40;&#79;&#67;&#41;&#61;&#67;&#67;&#50;&#49;&#41;&#67;&#51;&#78;&#52;&#67;&#67;&#67;&#40;&#67;&#51;&#41;&#67;&#40;&#67;&#61;&#67;&#41;&#67;&#52;&#44;&#32;&#10;&#32;&#10;&#62;&#32;&#32;&#32;&#109;&#111;&#108;&#101;&#99;&#117;&#108;&#97;&#114;&#70;&#111;&#114;&#109;&#117;&#108;&#97;&#32;&#45;&#62;&#32;&#67;&#60;&#115;&#117;&#98;&#62;&#50;&#48;&#60;&#47;&#115;&#117;&#98;&#62;&#72;&#60;&#115;&#117;&#98;&#62;&#50;&#52;&#60;&#47;&#115;&#117;&#98;&#62;&#78;&#60;&#115;&#117;&#98;&#62;&#50;&#60;&#47;&#115;&#117;&#98;&#62;&#79;&#60;&#115;&#117;&#98;&#62;&#50;&#60;&#47;&#115;&#117;&#98;&#62;&#44;&#32;&#10;&#32;&#10;&#62;&#32;&#32;&#32;&#109;&#111;&#108;&#101;&#99;&#117;&#108;&#97;&#114;&#77;&#97;&#115;&#115;&#32;&#45;&#62;&#32;&#51;&#50;&#52;&#46;&#52;&#50;&#44;&#32;&#101;&#120;&#112;&#101;&#114;&#105;&#109;&#101;&#110;&#116;&#97;&#108;&#80;&#114;&#111;&#112;&#101;&#114;&#116;&#105;&#101;&#115;&#32;&#45;&#62;&#32;&#10;&#32;&#10;&#62;&#32;&#32;&#32;&#32;&#123;&#60;&#124;&#110;&#97;&#109;&#101;&#32;&#45;&#62;&#32;&#77;&#101;&#108;&#116;&#105;&#110;&#103;&#32;&#80;&#111;&#105;&#110;&#116;&#44;&#32;&#112;&#114;&#111;&#112;&#101;&#114;&#116;&#121;&#32;&#45;&#62;&#32;&#53;&#55;&#32;&#176;&#67;&#44;&#32;&#115;&#111;&#117;&#114;&#99;&#101;&#78;&#117;&#109;&#98;&#101;&#114;&#32;&#45;&#62;&#32;&#49;&#124;&#62;&#125;&#44;&#32;&#10;&#32;&#10;&#62;&#32;&#32;&#32;&#112;&#114;&#111;&#112;&#101;&#114;&#116;&#121;&#67;&#105;&#116;&#97;&#116;&#105;&#111;&#110;&#115;&#32;&#45;&#62;&#32;&#10;&#32;&#10;&#62;&#32;&#32;&#32;&#32;&#123;&#60;&#124;&#100;&#111;&#99;&#85;&#114;&#105;&#32;&#45;&#62;&#32;&#44;&#32;&#115;&#111;&#117;&#114;&#99;&#101;&#78;&#117;&#109;&#98;&#101;&#114;&#32;&#45;&#62;&#32;&#49;&#44;&#32;&#10;&#32;&#10;&#62;&#32;&#32;&#32;&#32;&#32;&#32;&#115;&#111;&#117;&#114;&#99;&#101;&#32;&#45;&#62;&#32;&#80;&#104;&#121;&#115;&#80;&#114;&#111;&#112;&#32;&#100;&#97;&#116;&#97;&#32;&#119;&#101;&#114;&#101;&#32;&#111;&#98;&#116;&#97;&#105;&#110;&#101;&#100;&#32;&#102;&#114;&#111;&#109;&#32;&#83;&#121;&#114;&#97;&#99;&#117;&#115;&#101;&#32;&#82;&#101;&#115;&#101;&#97;&#114;&#99;&#104;&#32;&#67;&#111;&#114;&#112;&#111;&#114;&#97;&#116;&#105;&#111;&#110;&#32;&#111;&#102;&#92;&#10;&#32;&#10;&#62;&#32;&#32;&#32;&#32;&#32;&#32;&#32;&#32;&#83;&#121;&#114;&#97;&#99;&#117;&#115;&#101;&#44;&#32;&#78;&#101;&#119;&#32;&#89;&#111;&#114;&#107;&#32;&#40;&#85;&#83;&#41;&#124;&#62;&#125;&#44;&#32;&#10;&#32;&#10;&#62;&#32;&#32;&#32;&#115;&#121;&#110;&#111;&#110;&#121;&#109;&#115;&#32;&#45;&#62;&#32;&#123;&#67;&#105;&#110;&#99;&#104;&#111;&#110;&#97;&#110;&#45;&#57;&#45;&#111;&#108;&#44;&#32;&#54;&#8242;&#45;&#109;&#101;&#116;&#104;&#111;&#120;&#121;&#45;&#44;&#32;&#40;&#56;&#945;&#44;&#57;&#60;&#101;&#109;&#62;&#82;&#60;&#47;&#101;&#109;&#62;&#41;&#45;&#44;&#32;&#81;&#117;&#105;&#110;&#105;&#110;&#101;&#44;&#32;&#10;&#32;&#10;&#62;&#32;&#32;&#32;&#32;&#32;&#40;&#56;&#945;&#44;&#57;&#60;&#101;&#109;&#62;&#82;&#60;&#47;&#101;&#109;&#62;&#41;&#45;&#54;&#8242;&#45;&#77;&#101;&#116;&#104;&#111;&#120;&#121;&#99;&#105;&#110;&#99;&#104;&#111;&#110;&#97;&#110;&#45;&#57;&#45;&#111;&#108;&#44;&#32;&#54;&#8242;&#45;&#77;&#101;&#116;&#104;&#111;&#120;&#121;&#99;&#105;&#110;&#99;&#104;&#111;&#110;&#105;&#100;&#105;&#110;&#101;&#44;&#32;&#40;&#45;&#41;&#45;&#81;&#117;&#105;&#110;&#105;&#110;&#101;&#44;&#32;&#10;&#32;&#10;&#62;&#32;&#32;&#32;&#32;&#32;&#40;&#56;&#60;&#101;&#109;&#62;&#83;&#60;&#47;&#101;&#109;&#62;&#44;&#57;&#60;&#101;&#109;&#62;&#82;&#60;&#47;&#101;&#109;&#62;&#41;&#45;&#81;&#117;&#105;&#110;&#105;&#110;&#101;&#44;&#32;&#40;&#60;&#101;&#109;&#62;&#82;&#60;&#47;&#101;&#109;&#62;&#41;&#45;&#40;&#45;&#41;&#45;&#81;&#117;&#105;&#110;&#105;&#110;&#101;&#44;&#32;&#78;&#83;&#67;&#32;&#49;&#57;&#50;&#57;&#52;&#57;&#44;&#32;&#87;&#82;&#50;&#57;&#55;&#54;&#48;&#56;&#44;&#32;&#10;&#32;&#10;&#62;&#32;&#32;&#32;&#32;&#32;&#81;&#117;&#97;&#108;&#97;&#113;&#117;&#105;&#110;&#44;&#32;&#77;&#111;&#115;&#103;&#97;&#114;&#100;&#44;&#32;&#81;&#117;&#105;&#110;&#108;&#117;&#112;&#44;&#32;&#81;&#117;&#105;&#110;&#101;&#32;&#57;&#44;&#32;&#67;&#105;&#110;&#107;&#111;&#110;&#97;&#44;&#32;&#81;&#117;&#105;&#110;&#101;&#120;&#44;&#32;&#81;&#117;&#105;&#110;&#108;&#101;&#120;&#44;&#32;&#82;&#101;&#122;&#113;&#117;&#105;&#110;&#44;&#32;&#81;&#83;&#77;&#44;&#32;&#10;&#32;&#10;&#62;&#32;&#32;&#32;&#32;&#32;&#83;&#87;&#32;&#56;&#53;&#56;&#51;&#51;&#44;&#32;&#40;&#60;&#101;&#109;&#62;&#82;&#60;&#47;&#101;&#109;&#62;&#41;&#45;&#40;&#54;&#45;&#77;&#101;&#116;&#104;&#111;&#120;&#121;&#45;&#52;&#45;&#113;&#117;&#105;&#110;&#111;&#108;&#121;&#108;&#41;&#91;&#40;&#50;&#60;&#101;&#109;&#62;&#83;&#60;&#47;&#101;&#109;&#62;&#41;&#45;&#53;&#45;&#118;&#105;&#110;&#121;&#108;&#113;&#117;&#105;&#110;&#117;&#99;&#108;&#105;&#100;&#105;&#110;&#45;&#50;&#45;&#121;&#92;&#10;&#32;&#10;&#62;&#32;&#32;&#32;&#32;&#32;&#32;&#108;&#93;&#109;&#101;&#116;&#104;&#97;&#110;&#111;&#108;&#125;&#44;&#32;&#114;&#101;&#112;&#108;&#97;&#99;&#101;&#100;&#82;&#110;&#115;&#32;&#45;&#62;&#32;&#10;&#32;&#10;&#62;&#32;&#32;&#32;&#32;&#123;&#54;&#57;&#49;&#50;&#45;&#53;&#55;&#45;&#56;&#44;&#32;&#49;&#50;&#50;&#51;&#57;&#45;&#52;&#50;&#45;&#56;&#44;&#32;&#50;&#49;&#52;&#56;&#48;&#45;&#51;&#49;&#45;&#57;&#44;&#32;&#53;&#53;&#57;&#56;&#48;&#45;&#50;&#48;&#45;&#54;&#44;&#32;&#55;&#50;&#54;&#52;&#54;&#45;&#57;&#48;&#45;&#51;&#44;&#32;&#57;&#53;&#54;&#53;&#48;&#45;&#52;&#48;&#45;&#49;&#44;&#32;&#10;&#32;&#10;&#62;&#32;&#32;&#32;&#32;&#32;&#49;&#50;&#56;&#53;&#52;&#52;&#45;&#48;&#51;&#45;&#54;&#44;&#32;&#55;&#54;&#55;&#51;&#48;&#51;&#45;&#52;&#48;&#45;&#50;&#44;&#32;&#56;&#52;&#48;&#52;&#56;&#50;&#45;&#48;&#52;&#45;&#52;&#44;&#32;&#56;&#53;&#55;&#50;&#49;&#50;&#45;&#53;&#51;&#45;&#52;&#44;&#32;&#56;&#54;&#52;&#57;&#48;&#56;&#45;&#57;&#51;&#45;&#48;&#44;&#32;&#56;&#55;&#53;&#53;&#51;&#56;&#45;&#51;&#52;&#45;&#52;&#44;&#32;&#10;&#32;&#10;&#62;&#32;&#32;&#32;&#32;&#32;&#56;&#56;&#56;&#55;&#49;&#52;&#45;&#48;&#51;&#45;&#50;&#44;&#32;&#56;&#57;&#48;&#48;&#50;&#55;&#45;&#50;&#52;&#45;&#52;&#44;&#32;&#56;&#57;&#52;&#55;&#54;&#55;&#45;&#48;&#57;&#45;&#48;&#44;&#32;&#56;&#57;&#56;&#56;&#49;&#51;&#45;&#53;&#57;&#45;&#55;&#44;&#32;&#56;&#57;&#56;&#56;&#49;&#52;&#45;&#50;&#56;&#45;&#51;&#44;&#32;&#56;&#57;&#57;&#56;&#49;&#51;&#45;&#56;&#51;&#45;&#51;&#44;&#32;&#10;&#32;&#10;&#62;&#32;&#32;&#32;&#32;&#32;&#57;&#48;&#48;&#55;&#56;&#54;&#45;&#54;&#54;&#45;&#53;&#44;&#32;&#57;&#48;&#48;&#55;&#56;&#57;&#45;&#57;&#53;&#45;&#57;&#44;&#32;&#57;&#48;&#54;&#53;&#53;&#48;&#45;&#57;&#55;&#45;&#56;&#44;&#32;&#57;&#48;&#57;&#50;&#54;&#51;&#45;&#52;&#55;&#45;&#52;&#44;&#32;&#57;&#48;&#57;&#55;&#54;&#55;&#45;&#52;&#56;&#45;&#50;&#44;&#32;&#57;&#48;&#57;&#56;&#56;&#50;&#45;&#55;&#56;&#45;&#54;&#44;&#32;&#10;&#32;&#10;&#62;&#32;&#32;&#32;&#32;&#32;&#57;&#49;&#48;&#56;&#55;&#56;&#45;&#50;&#53;&#45;&#48;&#44;&#32;&#57;&#49;&#48;&#56;&#56;&#48;&#45;&#57;&#55;&#45;&#54;&#44;&#32;&#57;&#49;&#49;&#52;&#52;&#53;&#45;&#55;&#53;&#45;&#53;&#44;&#32;&#57;&#49;&#56;&#55;&#55;&#56;&#45;&#48;&#52;&#45;&#56;&#44;&#32;&#49;&#48;&#55;&#49;&#55;&#53;&#54;&#45;&#53;&#49;&#45;&#56;&#44;&#32;&#49;&#50;&#54;&#55;&#54;&#53;&#49;&#45;&#53;&#55;&#45;&#57;&#44;&#32;&#10;&#32;&#10;&#62;&#32;&#32;&#32;&#32;&#32;&#49;&#54;&#50;&#56;&#55;&#48;&#53;&#45;&#52;&#55;&#45;&#52;&#44;&#32;&#50;&#50;&#52;&#52;&#56;&#49;&#50;&#45;&#57;&#51;&#45;&#55;&#44;&#32;&#50;&#50;&#52;&#52;&#56;&#49;&#50;&#45;&#57;&#55;&#45;&#49;&#44;&#32;&#50;&#52;&#48;&#57;&#53;&#53;&#55;&#45;&#53;&#49;&#45;&#49;&#44;&#32;&#50;&#53;&#54;&#54;&#55;&#54;&#49;&#45;&#51;&#52;&#45;&#56;&#125;&#44;&#32;&#10;&#32;&#10;&#62;&#32;&#32;&#32;&#104;&#97;&#115;&#77;&#111;&#108;&#102;&#105;&#108;&#101;&#32;&#45;&#62;&#32;&#84;&#114;&#117;&#101;&#124;&#62;</pre></div>"
            ],
            "text/plain": [
              "<|uri -> substance/pt/130950, rn -> 130-95-0, name -> Quinine, \n",
              " \n",
              ">   image -> <svg width=\"309.3\" viewBox=\"0 0 10310 5592\" text-rendering=\"auto\"\\\n",
              " \n",
              ">     stroke-width=\"1\" stroke-opacity=\"1\" stroke-miterlimit=\"10\" stroke-linejoin=\"miter\"\\\n",
              " \n",
              ">     stroke-linecap=\"square\" stroke-dashoffset=\"0\" stroke-dasharray=\"none\"\\\n",
              " \n",
              ">     stroke=\"black\" shape-rendering=\"auto\" image-rendering=\"auto\" height=\"167.76\"\\\n",
              " \n",
              ">     font-weight=\"normal\" font-style=\"normal\" font-size=\"12\" font-family=\"'Dialog'\"\\\n",
              " \n",
              ">     fill-opacity=\"1\" fill=\"black\" color-rendering=\"auto\" color-interpolation=\"auto\"\\\n",
              " \n",
              ">     xmlns=\"http://www.w3.org/2000/svg\"><g><g stroke=\"white\" fill=\"white\"><rect y=\"0\"\\\n",
              " \n",
              ">     x=\"0\" width=\"10310\" stroke=\"none\" height=\"5592\"/></g><g\\\n",
              " \n",
              ">     transform=\"translate(32866,32758)\" text-rendering=\"geometricPrecision\"\\\n",
              " \n",
              ">     stroke-width=\"44\" stroke-linejoin=\"round\" stroke-linecap=\"round\"><line y2=\"-28559\"\\\n",
              " \n",
              ">     y1=\"-28036\" x2=\"-26635\" x1=\"-25742\" fill=\"none\"/><line y2=\"-29819\" y1=\"-28559\"\\\n",
              " \n",
              ">     x2=\"-26635\" x1=\"-26635\" fill=\"none\"/><line y2=\"-28036\" y1=\"-28559\" x2=\"-25367\"\\\n",
              " \n",
              ">     x1=\"-24474\" fill=\"none\"/><line y2=\"-30451\" y1=\"-29819\" x2=\"-25555\" x1=\"-26635\"\\\n",
              " \n",
              ">     fill=\"none\"/><line y2=\"-28559\" y1=\"-29819\" x2=\"-24474\" x1=\"-24474\"\\\n",
              " \n",
              ">     fill=\"none\"/><line y2=\"-29504\" y1=\"-28828\" x2=\"-25194\" x1=\"-26005\"\\\n",
              " \n",
              ">     fill=\"none\"/><line y2=\"-29819\" y1=\"-30451\" x2=\"-24474\" x1=\"-25555\"\\\n",
              " \n",
              ">     fill=\"none\"/><line y2=\"-29082\" y1=\"-28559\" x2=\"-27542\" x1=\"-26635\"\\\n",
              " \n",
              ">     fill=\"none\"/><line y2=\"-29819\" y1=\"-30344\" x2=\"-22660\" x1=\"-23567\"\\\n",
              " \n",
              ">     fill=\"none\"/><line y2=\"-29700\" y1=\"-30223\" x2=\"-22729\" x1=\"-23636\"\\\n",
              " \n",
              ">     fill=\"none\"/><line y2=\"-28779\" y1=\"-29082\" x2=\"-28071\" x1=\"-27542\"\\\n",
              " \n",
              ">     fill=\"none\"/><line y2=\"-30703\" y1=\"-30131\" x2=\"-28524\" x1=\"-27542\"\\\n",
              " \n",
              ">     fill=\"none\"/><line y2=\"-31850\" y1=\"-30703\" x2=\"-28524\" x1=\"-28524\"\\\n",
              " \n",
              ">     fill=\"none\"/><line y2=\"-31705\" y1=\"-30847\" x2=\"-28354\" x1=\"-28354\"\\\n",
              " \n",
              ">     fill=\"none\"/><line y2=\"-30131\" y1=\"-30703\" x2=\"-29507\" x1=\"-28524\"\\\n",
              " \n",
              ">     fill=\"none\"/><line y2=\"-30131\" y1=\"-30703\" x2=\"-27542\" x1=\"-26560\"\\\n",
              " \n",
              ">     fill=\"none\"/><line y2=\"-30347\" y1=\"-30778\" x2=\"-27505\" x1=\"-26768\"\\\n",
              " \n",
              ">     fill=\"none\"/><line y2=\"-31850\" y1=\"-32422\" x2=\"-28524\" x1=\"-29507\"\\\n",
              " \n",
              ">     fill=\"none\"/><line y2=\"-32312\" y1=\"-31850\" x2=\"-27730\" x1=\"-28524\"\\\n",
              " \n",
              ">     fill=\"none\"/><line y2=\"-30703\" y1=\"-30131\" x2=\"-30489\" x1=\"-29507\"\\\n",
              " \n",
              ">     fill=\"none\"/><line y2=\"-30778\" y1=\"-30347\" x2=\"-30281\" x1=\"-29544\"\\\n",
              " \n",
              ">     fill=\"none\"/><line y2=\"-30703\" y1=\"-31850\" x2=\"-26560\" x1=\"-26560\"\\\n",
              " \n",
              ">     fill=\"none\"/><line y2=\"-32422\" y1=\"-31850\" x2=\"-29507\" x1=\"-30489\"\\\n",
              " \n",
              ">     fill=\"none\"/><line y2=\"-32205\" y1=\"-31774\" x2=\"-29544\" x1=\"-30281\"\\\n",
              " \n",
              ">     fill=\"none\"/><line y2=\"-31850\" y1=\"-32312\" x2=\"-26560\" x1=\"-27354\"\\\n",
              " \n",
              ">     fill=\"none\"/><line y2=\"-31760\" y1=\"-32107\" x2=\"-26745\" x1=\"-27340\"\\\n",
              " \n",
              ">     fill=\"none\"/><line y2=\"-31850\" y1=\"-30703\" x2=\"-30489\" x1=\"-30489\"\\\n",
              " \n",
              ">     fill=\"none\"/><line y2=\"-30275\" y1=\"-30703\" x2=\"-31200\" x1=\"-30489\"\\\n",
              " \n",
              ">     fill=\"none\"/><line y2=\"-30541\" y1=\"-30272\" x2=\"-32040\" x1=\"-31575\"\\\n",
              " \n",
              ">     fill=\"none\"/><polygon stroke-width=\"1\" stroke=\"none\" points=\" -24474 -29819 -23602\\\n",
              " \n",
              ">     -30402 -23532 -30284\"/><polygon stroke-width=\"1\" points=\" -24474 -29819 -23602\\\n",
              " \n",
              ">     -30402 -23532 -30284\" fill=\"none\"/><polygon stroke-width=\"1\" stroke=\"none\"\\\n",
              " \n",
              ">     points=\" -26635 -28559 -26973 -27837 -27092 -27903\"/><polygon stroke-width=\"1\"\\\n",
              " \n",
              ">     points=\" -26635 -28559 -26973 -27837 -27092 -27903\" fill=\"none\"/><line y2=\"-28860\"\\\n",
              " \n",
              ">     y1=\"-28796\" x2=\"-25945\" x1=\"-26066\" fill=\"none\"/><line y2=\"-28657\" y1=\"-28611\"\\\n",
              " \n",
              ">     x2=\"-25865\" x1=\"-25952\" fill=\"none\"/><line y2=\"-28454\" y1=\"-28427\" x2=\"-25785\"\\\n",
              " \n",
              ">     x1=\"-25838\" fill=\"none\"/><line y2=\"-28252\" y1=\"-28242\" x2=\"-25706\" x1=\"-25723\"\\\n",
              " \n",
              ">     fill=\"none\"/><line y2=\"-29478\" y1=\"-29530\" x2=\"-25257\" x1=\"-25130\"\\\n",
              " \n",
              ">     fill=\"none\"/><line y2=\"-29686\" y1=\"-29727\" x2=\"-25321\" x1=\"-25221\"\\\n",
              " \n",
              ">     fill=\"none\"/><line y2=\"-29894\" y1=\"-29924\" x2=\"-25384\" x1=\"-25312\"\\\n",
              " \n",
              ">     fill=\"none\"/><line y2=\"-30102\" y1=\"-30121\" x2=\"-25448\" x1=\"-25403\"\\\n",
              " \n",
              ">     fill=\"none\"/><line y2=\"-30310\" y1=\"-30317\" x2=\"-25512\" x1=\"-25493\"\\\n",
              " \n",
              ">     fill=\"none\"/><line y2=\"-30131\" y1=\"-30128\" x2=\"-27473\" x1=\"-27612\"\\\n",
              " \n",
              ">     fill=\"none\"/><line y2=\"-29914\" y1=\"-29912\" x2=\"-27487\" x1=\"-27598\"\\\n",
              " \n",
              ">     fill=\"none\"/><line y2=\"-29697\" y1=\"-29695\" x2=\"-27502\" x1=\"-27583\"\\\n",
              " \n",
              ">     fill=\"none\"/><line y2=\"-29480\" y1=\"-29479\" x2=\"-27516\" x1=\"-27569\"\\\n",
              " \n",
              ">     fill=\"none\"/><line y2=\"-29263\" y1=\"-29263\" x2=\"-27530\" x1=\"-27554\"\\\n",
              " \n",
              ">     fill=\"none\"/><text y=\"-28380\" xml:space=\"preserve\" x=\"-28602\" stroke=\"none\"\\\n",
              " \n",
              ">     font-size=\"433.3333\" font-family=\"sans-serif\">OH</text><text y=\"-29983\"\\\n",
              " \n",
              ">     xml:space=\"preserve\" x=\"-31540\" stroke=\"none\" font-size=\"433.3333\"\\\n",
              " \n",
              ">     font-family=\"sans-serif\">O</text><text y=\"-30691\" xml:space=\"preserve\" x=\"-32762\"\\\n",
              " \n",
              ">     stroke=\"none\" font-size=\"433.3333\" font-family=\"sans-serif\">CH</text><text\\\n",
              " \n",
              ">     y=\"-30602\" xml:space=\"preserve\" x=\"-32185\" stroke=\"none\" font-size=\"313.3333\"\\\n",
              " \n",
              ">     font-family=\"sans-serif\">3</text><text y=\"-32242\" xml:space=\"preserve\" x=\"-27695\"\\\n",
              " \n",
              ">     stroke=\"none\" font-size=\"433.3333\" font-family=\"sans-serif\">N</text><text\\\n",
              " \n",
              ">     y=\"-27747\" xml:space=\"preserve\" x=\"-25708\" stroke=\"none\" font-size=\"433.3333\"\\\n",
              " \n",
              ">     font-family=\"sans-serif\">N</text><text y=\"-27473\" xml:space=\"preserve\" x=\"-27311\"\\\n",
              " \n",
              ">     stroke=\"none\" font-size=\"433.3333\" font-family=\"sans-serif\">H</text><text\\\n",
              " \n",
              ">     y=\"-28600\" xml:space=\"preserve\" x=\"-27695\" stroke=\"none\" font-style=\"italic\"\\\n",
              " \n",
              ">     font-size=\"313.3333\" font-family=\"sans-serif\">R</text><text y=\"-28522\"\\\n",
              " \n",
              ">     xml:space=\"preserve\" x=\"-26540\" stroke=\"none\" font-style=\"italic\"\\\n",
              " \n",
              ">     font-size=\"313.3333\" font-family=\"sans-serif\">S</text><text y=\"-27337\"\\\n",
              " \n",
              ">     xml:space=\"preserve\" x=\"-25818\" stroke=\"none\" font-style=\"italic\"\\\n",
              " \n",
              ">     font-size=\"313.3333\" font-family=\"sans-serif\">S</text><text y=\"-30573\"\\\n",
              " \n",
              ">     xml:space=\"preserve\" x=\"-25708\" stroke=\"none\" font-style=\"italic\"\\\n",
              " \n",
              ">     font-size=\"313.3333\" font-family=\"sans-serif\">S</text><text y=\"-29495\"\\\n",
              " \n",
              ">     xml:space=\"preserve\" x=\"-24876\" stroke=\"none\" font-style=\"italic\"\\\n",
              " \n",
              ">     font-size=\"313.3333\" font-family=\"sans-serif\">R</text></g></g></svg>, \n",
              " \n",
              ">   inchi -> InChI=1S/C20H24N2O2/c1-3-13-12-22-9-7-14(13)10-19(22)20(23)16-6-8-21-18-5-4\\\n",
              " \n",
              ">     -15(24-2)11-17(16)18/h3-6,8,11,13-14,19-20,23H,1,7,9-10,12H2,2H3/t13-,14-,19-,20+/\\\n",
              " \n",
              ">     m0/s1, inchiKey -> InChIKey=LOUPRKONTZGTKE-WZBLMQSHSA-N, \n",
              " \n",
              ">   smile -> [C@@H](O)(C=1C2=C(C=CC(OC)=C2)N=CC1)[C@]3([N@@]4C[C@H](C=C)[C@H](C3)CC4)[\\\n",
              " \n",
              ">     H], canonicalSmile -> OC(C=1C=CN=C2C=CC(OC)=CC21)C3N4CCC(C3)C(C=C)C4, \n",
              " \n",
              ">   molecularFormula -> C<sub>20</sub>H<sub>24</sub>N<sub>2</sub>O<sub>2</sub>, \n",
              " \n",
              ">   molecularMass -> 324.42, experimentalProperties -> \n",
              " \n",
              ">    {<|name -> Melting Point, property -> 57 °C, sourceNumber -> 1|>}, \n",
              " \n",
              ">   propertyCitations -> \n",
              " \n",
              ">    {<|docUri -> , sourceNumber -> 1, \n",
              " \n",
              ">      source -> PhysProp data were obtained from Syracuse Research Corporation of\\\n",
              " \n",
              ">        Syracuse, New York (US)|>}, \n",
              " \n",
              ">   synonyms -> {Cinchonan-9-ol, 6′-methoxy-, (8α,9<em>R</em>)-, Quinine, \n",
              " \n",
              ">     (8α,9<em>R</em>)-6′-Methoxycinchonan-9-ol, 6′-Methoxycinchonidine, (-)-Quinine, \n",
              " \n",
              ">     (8<em>S</em>,9<em>R</em>)-Quinine, (<em>R</em>)-(-)-Quinine, NSC 192949, WR297608, \n",
              " \n",
              ">     Qualaquin, Mosgard, Quinlup, Quine 9, Cinkona, Quinex, Quinlex, Rezquin, QSM, \n",
              " \n",
              ">     SW 85833, (<em>R</em>)-(6-Methoxy-4-quinolyl)[(2<em>S</em>)-5-vinylquinuclidin-2-y\\\n",
              " \n",
              ">      l]methanol}, replacedRns -> \n",
              " \n",
              ">    {6912-57-8, 12239-42-8, 21480-31-9, 55980-20-6, 72646-90-3, 95650-40-1, \n",
              " \n",
              ">     128544-03-6, 767303-40-2, 840482-04-4, 857212-53-4, 864908-93-0, 875538-34-4, \n",
              " \n",
              ">     888714-03-2, 890027-24-4, 894767-09-0, 898813-59-7, 898814-28-3, 899813-83-3, \n",
              " \n",
              ">     900786-66-5, 900789-95-9, 906550-97-8, 909263-47-4, 909767-48-2, 909882-78-6, \n",
              " \n",
              ">     910878-25-0, 910880-97-6, 911445-75-5, 918778-04-8, 1071756-51-8, 1267651-57-9, \n",
              " \n",
              ">     1628705-47-4, 2244812-93-7, 2244812-97-1, 2409557-51-1, 2566761-34-8}, \n",
              " \n",
              ">   hasMolfile -> True|>"
            ]
          },
          "execution_count": 48,
          "metadata": {
            "text/html": [],
            "text/plain": []
          },
          "output_type": "execute_result"
        }
      ],
      "source": [
        "quinineDetailData //OutputForm (*Changed to plain text output*)"
      ]
    },
    {
      "cell_type": "markdown",
      "id": "4de9750a-5b88-494b-a2e1-d705af4fe149",
      "metadata": {
        "id": "4de9750a-5b88-494b-a2e1-d705af4fe149"
      },
      "source": [
        "### Handle multiple results"
      ]
    },
    {
      "cell_type": "markdown",
      "id": "e28ae690-ee78-4128-b402-a64b46855866",
      "metadata": {
        "id": "e28ae690-ee78-4128-b402-a64b46855866"
      },
      "source": [
        "Setup search query parameters"
      ]
    },
    {
      "cell_type": "code",
      "execution_count": null,
      "id": "5f2a1a50-65e0-46d0-b238-1a5025ac020b",
      "metadata": {
        "id": "5f2a1a50-65e0-46d0-b238-1a5025ac020b",
        "vscode": {
          "languageId": "wolfram language"
        }
      },
      "outputs": [],
      "source": [
        "searchBaseURL = \"https://commonchemistry.cas.org/api/search?q=\";\n",
        "smiBD = \"C=CC=C\"; (*SMILES for butadiene*)"
      ]
    },
    {
      "cell_type": "markdown",
      "id": "348ae8ea-4cbb-4aee-a1ec-b846560240d5",
      "metadata": {
        "id": "348ae8ea-4cbb-4aee-a1ec-b846560240d5"
      },
      "source": [
        "Request data from CAS Common Chemistry Search API"
      ]
    },
    {
      "cell_type": "code",
      "execution_count": null,
      "id": "9f522f0e-2de3-4531-a73b-d2a82810da9c",
      "metadata": {
        "id": "9f522f0e-2de3-4531-a73b-d2a82810da9c",
        "vscode": {
          "languageId": "wolfram language"
        }
      },
      "outputs": [],
      "source": [
        "smiSearchData = Import[searchBaseURL <> smiBD, \"RawJSON\"];"
      ]
    },
    {
      "cell_type": "code",
      "execution_count": null,
      "id": "c1d49135-5319-4ddf-834e-e7a3df8bb29c",
      "metadata": {
        "id": "c1d49135-5319-4ddf-834e-e7a3df8bb29c",
        "outputId": "6aba7dc6-a2a7-4f23-d7ec-35d4b50b69b3",
        "vscode": {
          "languageId": "wolfram language"
        }
      },
      "outputs": [
        {
          "data": {
            "text/html": [
              "<div><pre style=\"&#102;&#111;&#110;&#116;&#45;&#102;&#97;&#109;&#105;&#108;&#121;&#58;&#32;&#34;&#67;&#111;&#117;&#114;&#105;&#101;&#114;&#32;&#78;&#101;&#119;&#34;&#44;&#67;&#111;&#117;&#114;&#105;&#101;&#114;&#44;&#109;&#111;&#110;&#111;&#115;&#112;&#97;&#99;&#101;&#59;\">&#55;</pre></div>"
            ],
            "text/plain": [
              "7"
            ]
          },
          "execution_count": 52,
          "metadata": {
            "text/html": [],
            "text/plain": []
          },
          "output_type": "execute_result"
        }
      ],
      "source": [
        "smiSearchData[\"count\"]"
      ]
    },
    {
      "cell_type": "markdown",
      "id": "e277d651-46d1-4160-a963-7e91540ac49f",
      "metadata": {
        "id": "e277d651-46d1-4160-a963-7e91540ac49f"
      },
      "source": [
        "Extract out CAS RNs"
      ]
    },
    {
      "cell_type": "code",
      "execution_count": null,
      "id": "94c795fe-01d3-4bdd-8f4d-8ed2c4c830bc",
      "metadata": {
        "id": "94c795fe-01d3-4bdd-8f4d-8ed2c4c830bc",
        "outputId": "a3b32eb4-7b71-4ca5-8bd2-4ff91db1b702",
        "vscode": {
          "languageId": "wolfram language"
        }
      },
      "outputs": [
        {
          "data": {
            "text/html": [
              "<div><pre style=\"&#102;&#111;&#110;&#116;&#45;&#102;&#97;&#109;&#105;&#108;&#121;&#58;&#32;&#34;&#67;&#111;&#117;&#114;&#105;&#101;&#114;&#32;&#78;&#101;&#119;&#34;&#44;&#67;&#111;&#117;&#114;&#105;&#101;&#114;&#44;&#109;&#111;&#110;&#111;&#115;&#112;&#97;&#99;&#101;&#59;\">&#123;&#49;&#48;&#54;&#45;&#57;&#57;&#45;&#48;&#44;&#32;&#49;&#54;&#52;&#50;&#50;&#45;&#55;&#53;&#45;&#54;&#44;&#32;&#50;&#54;&#57;&#53;&#50;&#45;&#55;&#52;&#45;&#57;&#44;&#32;&#50;&#57;&#52;&#48;&#54;&#45;&#57;&#54;&#45;&#48;&#44;&#32;&#50;&#57;&#57;&#56;&#57;&#45;&#49;&#57;&#45;&#51;&#44;&#32;&#51;&#49;&#53;&#54;&#55;&#45;&#57;&#48;&#45;&#53;&#44;&#32;&#57;&#48;&#48;&#51;&#45;&#49;&#55;&#45;&#50;&#125;</pre></div>"
            ],
            "text/plain": [
              "{106-99-0, 16422-75-6, 26952-74-9, 29406-96-0, 29989-19-3, 31567-90-5, 9003-17-2}"
            ]
          },
          "execution_count": 53,
          "metadata": {
            "text/html": [],
            "text/plain": []
          },
          "output_type": "execute_result"
        }
      ],
      "source": [
        "smicasRNList = smiSearchData[\"results\"][[All, \"rn\"]]"
      ]
    },
    {
      "cell_type": "markdown",
      "id": "b3ae2738-a7b4-46d7-aa02-390a83cb424a",
      "metadata": {
        "id": "b3ae2738-a7b4-46d7-aa02-390a83cb424a"
      },
      "source": [
        "Now use the detail API to retrieve full records"
      ]
    },
    {
      "cell_type": "code",
      "execution_count": null,
      "id": "313219c5-e287-4b2a-b5aa-f90f52f274cf",
      "metadata": {
        "id": "313219c5-e287-4b2a-b5aa-f90f52f274cf",
        "vscode": {
          "languageId": "wolfram language"
        }
      },
      "outputs": [],
      "source": [
        "detailBaseURL = \"https://commonchemistry.cas.org/api/detail?\";\n",
        "smiDetailData = {};\n",
        "For[i = 1, i <= Length[smicasRNList], i++,\n",
        " AppendTo[smiDetailData,\n",
        "  Import[detailBaseURL <> \"cas_rn=\" <> smicasRNList[[i]],\"RawJSON\"]];\n",
        " Pause[1]  (*Adding a delay between API calls*)\n",
        " ]"
      ]
    },
    {
      "cell_type": "markdown",
      "id": "c06e9cfb-54c8-47bf-aa2a-1d26271a583a",
      "metadata": {
        "id": "c06e9cfb-54c8-47bf-aa2a-1d26271a583a"
      },
      "source": [
        "Get some specific data such as name from the detail records"
      ]
    },
    {
      "cell_type": "code",
      "execution_count": null,
      "id": "76d4d5a1-d6a4-4737-9d86-ac3bf2a78392",
      "metadata": {
        "id": "76d4d5a1-d6a4-4737-9d86-ac3bf2a78392",
        "outputId": "27bb48e9-226e-4938-b0c2-aa458b4befb9",
        "vscode": {
          "languageId": "wolfram language"
        }
      },
      "outputs": [
        {
          "data": {
            "text/html": [
              "<div><pre style=\"&#102;&#111;&#110;&#116;&#45;&#102;&#97;&#109;&#105;&#108;&#121;&#58;&#32;&#34;&#67;&#111;&#117;&#114;&#105;&#101;&#114;&#32;&#78;&#101;&#119;&#34;&#44;&#67;&#111;&#117;&#114;&#105;&#101;&#114;&#44;&#109;&#111;&#110;&#111;&#115;&#112;&#97;&#99;&#101;&#59;\">&#123;&#49;&#44;&#51;&#45;&#66;&#117;&#116;&#97;&#100;&#105;&#101;&#110;&#101;&#44;&#32;&#66;&#117;&#116;&#97;&#100;&#105;&#101;&#110;&#101;&#32;&#116;&#114;&#105;&#109;&#101;&#114;&#44;&#32;&#66;&#117;&#116;&#97;&#100;&#105;&#101;&#110;&#101;&#32;&#100;&#105;&#109;&#101;&#114;&#44;&#32;&#10;&#32;&#10;&#62;&#32;&#32;&#32;&#49;&#44;&#51;&#45;&#66;&#117;&#116;&#97;&#100;&#105;&#101;&#110;&#101;&#44;&#32;&#104;&#111;&#109;&#111;&#112;&#111;&#108;&#121;&#109;&#101;&#114;&#44;&#32;&#105;&#115;&#111;&#116;&#97;&#99;&#116;&#105;&#99;&#44;&#32;&#10;&#32;&#10;&#62;&#32;&#32;&#32;&#49;&#44;&#51;&#45;&#66;&#117;&#116;&#97;&#100;&#105;&#101;&#110;&#101;&#45;&#60;&#101;&#109;&#62;&#49;&#60;&#47;&#101;&#109;&#62;&#44;&#60;&#101;&#109;&#62;&#49;&#60;&#47;&#101;&#109;&#62;&#44;&#60;&#101;&#109;&#62;&#50;&#60;&#47;&#101;&#109;&#62;&#44;&#60;&#101;&#109;&#62;&#51;&#60;&#47;&#101;&#109;&#62;&#44;&#60;&#101;&#109;&#62;&#52;&#60;&#47;&#101;&#109;&#62;&#44;&#60;&#101;&#109;&#62;&#52;&#60;&#47;&#101;&#109;&#62;&#45;&#60;&#101;&#109;&#62;&#92;&#10;&#32;&#10;&#62;&#32;&#32;&#32;&#32;&#100;&#60;&#47;&#101;&#109;&#62;&#60;&#115;&#117;&#98;&#62;&#54;&#60;&#47;&#115;&#117;&#98;&#62;&#44;&#32;&#104;&#111;&#109;&#111;&#112;&#111;&#108;&#121;&#109;&#101;&#114;&#44;&#32;&#83;&#121;&#110;&#100;&#105;&#111;&#116;&#97;&#99;&#116;&#105;&#99;&#32;&#112;&#111;&#108;&#121;&#98;&#117;&#116;&#97;&#100;&#105;&#101;&#110;&#101;&#44;&#32;&#80;&#111;&#108;&#121;&#98;&#117;&#116;&#97;&#100;&#105;&#101;&#110;&#101;&#125;</pre></div>"
            ],
            "text/plain": [
              "{1,3-Butadiene, Butadiene trimer, Butadiene dimer, \n",
              " \n",
              ">   1,3-Butadiene, homopolymer, isotactic, \n",
              " \n",
              ">   1,3-Butadiene-<em>1</em>,<em>1</em>,<em>2</em>,<em>3</em>,<em>4</em>,<em>4</em>-<em>\\\n",
              " \n",
              ">    d</em><sub>6</sub>, homopolymer, Syndiotactic polybutadiene, Polybutadiene}"
            ]
          },
          "execution_count": 57,
          "metadata": {
            "text/html": [],
            "text/plain": []
          },
          "output_type": "execute_result"
        }
      ],
      "source": [
        "names = smiDetailData[[All, \"name\"]]"
      ]
    },
    {
      "cell_type": "markdown",
      "id": "91d3a68f-5fc0-41fd-bac5-27ac75e4be40",
      "metadata": {
        "id": "91d3a68f-5fc0-41fd-bac5-27ac75e4be40"
      },
      "source": [
        "### Handle multiple page results"
      ]
    },
    {
      "cell_type": "markdown",
      "id": "28cff2b9-848f-4484-aabd-7ddfc537ff63",
      "metadata": {
        "id": "28cff2b9-848f-4484-aabd-7ddfc537ff63"
      },
      "source": [
        "The CAS Common Chemistry API returns 50 results per page, and only the first page is returned by default. If the search returns more than 50 results, the offset option can be added to page through and obtain all results."
      ]
    },
    {
      "cell_type": "markdown",
      "id": "dfb41667-b834-4019-9b08-f4b1de63ea6b",
      "metadata": {
        "id": "dfb41667-b834-4019-9b08-f4b1de63ea6b"
      },
      "source": [
        "Setup Search query parameters"
      ]
    },
    {
      "cell_type": "code",
      "execution_count": null,
      "id": "3f2aeaa4-7ac1-4169-a39d-226ce62669b8",
      "metadata": {
        "id": "3f2aeaa4-7ac1-4169-a39d-226ce62669b8",
        "vscode": {
          "languageId": "wolfram language"
        }
      },
      "outputs": [],
      "source": [
        "searchBaseURL = \"https://commonchemistry.cas.org/api/search?q=\";\n",
        "n = \"selen*\";"
      ]
    },
    {
      "cell_type": "markdown",
      "id": "abd9b88b-1299-4b18-9bf2-13ba3ed1c45c",
      "metadata": {
        "id": "abd9b88b-1299-4b18-9bf2-13ba3ed1c45c"
      },
      "source": [
        "Get results count for CAS Common Chemistry Search"
      ]
    },
    {
      "cell_type": "code",
      "execution_count": null,
      "id": "62fd4d46-6d13-4461-9107-ac210417eac8",
      "metadata": {
        "id": "62fd4d46-6d13-4461-9107-ac210417eac8",
        "outputId": "79c87667-37df-4ba6-a19e-3c0b319770fb",
        "vscode": {
          "languageId": "wolfram language"
        }
      },
      "outputs": [
        {
          "data": {
            "text/html": [
              "<div><pre style=\"&#102;&#111;&#110;&#116;&#45;&#102;&#97;&#109;&#105;&#108;&#121;&#58;&#32;&#34;&#67;&#111;&#117;&#114;&#105;&#101;&#114;&#32;&#78;&#101;&#119;&#34;&#44;&#67;&#111;&#117;&#114;&#105;&#101;&#114;&#44;&#109;&#111;&#110;&#111;&#115;&#112;&#97;&#99;&#101;&#59;\">&#49;&#57;&#49;</pre></div>"
            ],
            "text/plain": [
              "191"
            ]
          },
          "execution_count": 9,
          "metadata": {
            "text/html": [],
            "text/plain": []
          },
          "output_type": "execute_result"
        }
      ],
      "source": [
        "numResults = Import[searchBaseURL <> n, \"RawJSON\"][\"count\"]"
      ]
    },
    {
      "cell_type": "markdown",
      "id": "000538cb-79c4-4e25-a812-b3eeb19b3f70",
      "metadata": {
        "id": "000538cb-79c4-4e25-a812-b3eeb19b3f70"
      },
      "source": [
        "Request data and save to a list in a loop for each page"
      ]
    },
    {
      "cell_type": "code",
      "execution_count": null,
      "id": "5a2ed2e8-e8f9-4230-8431-7217f2384ee6",
      "metadata": {
        "id": "5a2ed2e8-e8f9-4230-8431-7217f2384ee6",
        "vscode": {
          "languageId": "wolfram language"
        }
      },
      "outputs": [],
      "source": [
        "nSearchData = {};\n",
        "For[i = 0, i <= IntegerPart[numResults/50 + 1], i++,\n",
        " pageData = Import[searchBaseURL <> n <> \"&offset=\" <> ToString[i*50],\"RawJSON\"];\n",
        " AppendTo[nSearchData, pageData];\n",
        " Pause[1];\n",
        " ]"
      ]
    },
    {
      "cell_type": "code",
      "execution_count": null,
      "id": "b72cb240-e5a8-4d81-aade-3cae6a16e5e3",
      "metadata": {
        "id": "b72cb240-e5a8-4d81-aade-3cae6a16e5e3",
        "outputId": "d13be6d6-25d3-4cdb-8be0-74696a1eeece",
        "vscode": {
          "languageId": "wolfram language"
        }
      },
      "outputs": [
        {
          "data": {
            "text/html": [
              "<style>\n",
              "\t\t\t\t\t\t\t\t\t\t\t\t\t.grid-container {\n",
              "\t\t\t\t\t\t\t\t\t\t\t\t\t\tdisplay: inline-grid;\n",
              "\t\t\t\t\t\t\t\t\t\t\t\t\t\tgrid-template-columns: auto;\n",
              "\t\t\t\t\t\t\t\t\t\t\t\t\t}\n",
              "\t\t\t\t\t\t\t\t\t\t\t\t</style>\n",
              "\n",
              "\t\t\t\t\t\t\t\t\t\t\t\t<div><div class=\"grid-container\"><div class=\"grid-item\"><pre style=\"&#102;&#111;&#110;&#116;&#45;&#102;&#97;&#109;&#105;&#108;&#121;&#58;&#32;&#34;&#67;&#111;&#117;&#114;&#105;&#101;&#114;&#32;&#78;&#101;&#119;&#34;&#44;&#67;&#111;&#117;&#114;&#105;&#101;&#114;&#44;&#109;&#111;&#110;&#111;&#115;&#112;&#97;&#99;&#101;&#59;\">&#53;&#48;</pre></div><div class=\"grid-item\"><pre style=\"&#102;&#111;&#110;&#116;&#45;&#102;&#97;&#109;&#105;&#108;&#121;&#58;&#32;&#34;&#67;&#111;&#117;&#114;&#105;&#101;&#114;&#32;&#78;&#101;&#119;&#34;&#44;&#67;&#111;&#117;&#114;&#105;&#101;&#114;&#44;&#109;&#111;&#110;&#111;&#115;&#112;&#97;&#99;&#101;&#59;\">&#53;&#48;</pre></div><div class=\"grid-item\"><pre style=\"&#102;&#111;&#110;&#116;&#45;&#102;&#97;&#109;&#105;&#108;&#121;&#58;&#32;&#34;&#67;&#111;&#117;&#114;&#105;&#101;&#114;&#32;&#78;&#101;&#119;&#34;&#44;&#67;&#111;&#117;&#114;&#105;&#101;&#114;&#44;&#109;&#111;&#110;&#111;&#115;&#112;&#97;&#99;&#101;&#59;\">&#53;&#48;</pre></div><div class=\"grid-item\"><pre style=\"&#102;&#111;&#110;&#116;&#45;&#102;&#97;&#109;&#105;&#108;&#121;&#58;&#32;&#34;&#67;&#111;&#117;&#114;&#105;&#101;&#114;&#32;&#78;&#101;&#119;&#34;&#44;&#67;&#111;&#117;&#114;&#105;&#101;&#114;&#44;&#109;&#111;&#110;&#111;&#115;&#112;&#97;&#99;&#101;&#59;\">&#52;&#49;</pre></div></div></div>"
            ],
            "text/plain": [
              "50\n",
              "50\n",
              "50\n",
              "41"
            ]
          },
          "execution_count": 12,
          "metadata": {
            "text/html": [],
            "text/plain": []
          },
          "output_type": "execute_result"
        }
      ],
      "source": [
        "Length[nSearchData[[1]][\"results\"]]\n",
        "Length[nSearchData[[2]][\"results\"]]\n",
        "Length[nSearchData[[3]][\"results\"]]\n",
        "Length[nSearchData[[4]][\"results\"]]"
      ]
    },
    {
      "cell_type": "markdown",
      "id": "90b35357-00a8-4451-82db-ba95b2923fe9",
      "metadata": {
        "id": "90b35357-00a8-4451-82db-ba95b2923fe9"
      },
      "source": [
        "We can index and extract out the first CAS RN like this"
      ]
    },
    {
      "cell_type": "code",
      "execution_count": null,
      "id": "f79fa866-22e0-44b6-b37a-ae50bf885a62",
      "metadata": {
        "id": "f79fa866-22e0-44b6-b37a-ae50bf885a62",
        "outputId": "ea7a86f4-996d-4b2d-aa42-53fe242a51c3",
        "vscode": {
          "languageId": "wolfram language"
        }
      },
      "outputs": [
        {
          "data": {
            "text/html": [
              "<div><pre style=\"&#102;&#111;&#110;&#116;&#45;&#102;&#97;&#109;&#105;&#108;&#121;&#58;&#32;&#34;&#67;&#111;&#117;&#114;&#105;&#101;&#114;&#32;&#78;&#101;&#119;&#34;&#44;&#67;&#111;&#117;&#114;&#105;&#101;&#114;&#44;&#109;&#111;&#110;&#111;&#115;&#112;&#97;&#99;&#101;&#59;\">&#49;&#53;&#49;&#50;&#51;&#45;&#54;&#57;&#45;&#48;</pre></div>"
            ],
            "text/plain": [
              "15123-69-0"
            ]
          },
          "execution_count": 64,
          "metadata": {
            "text/html": [],
            "text/plain": []
          },
          "output_type": "execute_result"
        }
      ],
      "source": [
        "nSearchData[[1]][\"results\"][[1]][\"rn\"]"
      ]
    },
    {
      "cell_type": "markdown",
      "id": "bf08052a-1a38-43c7-a4d5-78d4db0bb348",
      "metadata": {
        "id": "bf08052a-1a38-43c7-a4d5-78d4db0bb348"
      },
      "source": [
        "Extract out all CAS RNs from the list of lists"
      ]
    },
    {
      "cell_type": "code",
      "execution_count": null,
      "id": "48d41539-bf1a-4bce-a0f5-1c9be7f38102",
      "metadata": {
        "id": "48d41539-bf1a-4bce-a0f5-1c9be7f38102",
        "outputId": "4b7831a6-83cb-4bd5-f871-b6a53e2a40e5",
        "vscode": {
          "languageId": "wolfram language"
        }
      },
      "outputs": [
        {
          "data": {
            "text/html": [
              "<div><pre style=\"&#102;&#111;&#110;&#116;&#45;&#102;&#97;&#109;&#105;&#108;&#121;&#58;&#32;&#34;&#67;&#111;&#117;&#114;&#105;&#101;&#114;&#32;&#78;&#101;&#119;&#34;&#44;&#67;&#111;&#117;&#114;&#105;&#101;&#114;&#44;&#109;&#111;&#110;&#111;&#115;&#112;&#97;&#99;&#101;&#59;\">&#123;&#49;&#53;&#49;&#50;&#51;&#45;&#54;&#57;&#45;&#48;&#44;&#32;&#49;&#53;&#49;&#50;&#51;&#45;&#57;&#55;&#45;&#52;&#44;&#32;&#49;&#53;&#52;&#52;&#45;&#53;&#53;&#45;&#52;&#44;&#32;&#49;&#53;&#52;&#53;&#55;&#45;&#55;&#49;&#45;&#51;&#44;&#32;&#49;&#53;&#53;&#56;&#54;&#45;&#52;&#55;&#45;&#55;&#44;&#32;&#49;&#53;&#53;&#57;&#51;&#45;&#53;&#49;&#45;&#56;&#44;&#32;&#49;&#53;&#53;&#57;&#51;&#45;&#53;&#50;&#45;&#57;&#44;&#32;&#10;&#32;&#10;&#62;&#32;&#32;&#32;&#49;&#53;&#55;&#48;&#50;&#45;&#51;&#52;&#45;&#56;&#44;&#32;&#49;&#53;&#56;&#53;&#55;&#45;&#52;&#51;&#45;&#57;&#44;&#32;&#49;&#53;&#57;&#52;&#49;&#55;&#45;&#49;&#55;&#45;&#49;&#44;&#32;&#60;&#60;&#49;&#51;&#49;&#62;&#62;&#125;</pre></div>"
            ],
            "text/plain": [
              "{15123-69-0, 15123-97-4, 1544-55-4, 15457-71-3, 15586-47-7, 15593-51-8, 15593-52-9, \n",
              " \n",
              ">   15702-34-8, 15857-43-9, 159417-17-1, <<131>>}"
            ]
          },
          "execution_count": 68,
          "metadata": {
            "text/html": [],
            "text/plain": []
          },
          "output_type": "execute_result"
        }
      ],
      "source": [
        "nCasRNList = Flatten[nSearchData[[All, \"results\"]][[All, All, \"rn\"]]];\n",
        "nCasRNList //Shallow //OutputForm"
      ]
    },
    {
      "cell_type": "markdown",
      "id": "177fe124-35d6-49d3-9837-db0ae4246085",
      "metadata": {
        "id": "177fe124-35d6-49d3-9837-db0ae4246085"
      },
      "source": [
        "Now we can loop through each casrn and use the detail API to obtain the entire record.\n",
        "This will query CAS Common Chem 191 times and take ~5 min."
      ]
    },
    {
      "cell_type": "code",
      "execution_count": null,
      "id": "43615629-59d8-47b2-aa87-6da3d14ede89",
      "metadata": {
        "id": "43615629-59d8-47b2-aa87-6da3d14ede89",
        "vscode": {
          "languageId": "wolfram language"
        }
      },
      "outputs": [],
      "source": [
        "detailBaseURL = \"https://commonchemistry.cas.org/api/detail?\";\n",
        "nDetailData = {};\n",
        "For[i = 1, i <= Length[nCasRNList], i++,\n",
        " AppendTo[nDetailData,\n",
        "  Import[detailBaseURL <> \"cas_rn=\" <> nCasRNList[[i]], \"RawJSON\"]];\n",
        " Pause[1] (*Add a delay between API calls*)\n",
        " ]"
      ]
    },
    {
      "cell_type": "markdown",
      "id": "ed62f368-2509-40ad-859e-6865fd648b25",
      "metadata": {
        "id": "ed62f368-2509-40ad-859e-6865fd648b25"
      },
      "source": [
        "Extracting out some data such as Molecular Mass:"
      ]
    },
    {
      "cell_type": "code",
      "execution_count": null,
      "id": "338ba429-2821-48ee-b193-2d628af95ce5",
      "metadata": {
        "id": "338ba429-2821-48ee-b193-2d628af95ce5",
        "outputId": "5e93bdfa-f4cf-4936-e49d-eddcdc4b5980",
        "vscode": {
          "languageId": "wolfram language"
        }
      },
      "outputs": [
        {
          "data": {
            "text/html": [
              "<div><pre style=\"&#102;&#111;&#110;&#116;&#45;&#102;&#97;&#109;&#105;&#108;&#121;&#58;&#32;&#34;&#67;&#111;&#117;&#114;&#105;&#101;&#114;&#32;&#78;&#101;&#119;&#34;&#44;&#67;&#111;&#117;&#114;&#105;&#101;&#114;&#44;&#109;&#111;&#110;&#111;&#115;&#112;&#97;&#99;&#101;&#59;\">&#123;&#44;&#32;&#44;&#32;&#49;&#54;&#51;&#46;&#48;&#48;&#44;&#32;&#44;&#32;&#44;&#32;&#44;&#32;&#44;&#32;&#44;&#32;&#44;&#32;&#44;&#32;&#44;&#32;&#50;&#51;&#49;&#46;&#53;&#56;&#44;&#32;&#49;&#49;&#55;&#52;&#46;&#50;&#57;&#44;&#32;&#50;&#50;&#55;&#46;&#48;&#56;&#44;&#32;&#44;&#32;&#44;&#32;&#44;&#32;&#44;&#32;&#44;&#32;&#49;&#51;&#56;&#46;&#48;&#51;&#44;&#32;&#44;&#32;&#49;&#50;&#50;&#46;&#48;&#51;&#44;&#32;&#10;&#32;&#10;&#62;&#32;&#32;&#32;&#49;&#50;&#48;&#46;&#48;&#49;&#44;&#32;&#50;&#54;&#57;&#46;&#49;&#54;&#44;&#32;&#51;&#48;&#52;&#46;&#48;&#55;&#44;&#32;&#44;&#32;&#44;&#32;&#44;&#32;&#44;&#32;&#44;&#32;&#44;&#32;&#50;&#51;&#52;&#46;&#48;&#50;&#44;&#32;&#44;&#32;&#51;&#54;&#50;&#46;&#55;&#54;&#44;&#32;&#49;&#56;&#50;&#46;&#48;&#56;&#44;&#32;&#49;&#54;&#48;&#46;&#57;&#54;&#44;&#32;&#50;&#49;&#48;&#46;&#49;&#51;&#44;&#32;&#44;&#32;&#10;&#32;&#10;&#62;&#32;&#32;&#32;&#49;&#56;&#50;&#46;&#48;&#56;&#44;&#32;&#44;&#32;&#44;&#32;&#44;&#32;&#50;&#48;&#57;&#46;&#57;&#53;&#44;&#32;&#57;&#51;&#46;&#57;&#55;&#44;&#32;&#49;&#50;&#49;&#46;&#48;&#52;&#44;&#32;&#49;&#51;&#49;&#46;&#48;&#51;&#44;&#32;&#51;&#51;&#52;&#46;&#48;&#57;&#44;&#32;&#49;&#56;&#50;&#46;&#48;&#56;&#44;&#32;&#51;&#51;&#52;&#46;&#48;&#57;&#44;&#32;&#49;&#57;&#54;&#46;&#49;&#49;&#44;&#32;&#54;&#57;&#49;&#46;&#53;&#57;&#44;&#32;&#10;&#32;&#10;&#62;&#32;&#32;&#32;&#44;&#32;&#49;&#55;&#52;&#46;&#56;&#53;&#44;&#32;&#53;&#50;&#48;&#46;&#48;&#55;&#44;&#32;&#49;&#54;&#56;&#46;&#48;&#53;&#44;&#32;&#51;&#50;&#52;&#46;&#49;&#48;&#44;&#32;&#49;&#54;&#51;&#46;&#49;&#50;&#44;&#32;&#44;&#32;&#50;&#57;&#52;&#46;&#56;&#55;&#44;&#32;&#49;&#57;&#55;&#46;&#48;&#57;&#44;&#32;&#50;&#54;&#56;&#46;&#56;&#52;&#44;&#32;&#49;&#57;&#56;&#46;&#48;&#56;&#44;&#32;&#49;&#55;&#49;&#46;&#49;&#48;&#44;&#32;&#10;&#32;&#10;&#62;&#32;&#32;&#32;&#49;&#53;&#57;&#46;&#48;&#48;&#44;&#32;&#49;&#57;&#54;&#46;&#49;&#49;&#44;&#32;&#50;&#48;&#51;&#46;&#52;&#56;&#44;&#32;&#50;&#51;&#56;&#46;&#48;&#49;&#44;&#32;&#49;&#52;&#57;&#46;&#48;&#57;&#44;&#32;&#53;&#54;&#54;&#46;&#51;&#55;&#44;&#32;&#49;&#53;&#49;&#46;&#48;&#55;&#44;&#32;&#49;&#55;&#57;&#46;&#49;&#50;&#44;&#32;&#44;&#32;&#51;&#51;&#51;&#46;&#50;&#56;&#44;&#32;&#50;&#50;&#55;&#46;&#48;&#56;&#44;&#32;&#10;&#32;&#10;&#62;&#32;&#32;&#32;&#49;&#57;&#57;&#46;&#48;&#55;&#44;&#32;&#44;&#32;&#49;&#57;&#54;&#46;&#49;&#49;&#44;&#32;&#49;&#53;&#49;&#46;&#48;&#55;&#44;&#32;&#44;&#32;&#50;&#50;&#54;&#46;&#48;&#57;&#44;&#32;&#49;&#57;&#56;&#46;&#48;&#56;&#44;&#32;&#44;&#32;&#50;&#54;&#53;&#46;&#49;&#55;&#44;&#32;&#49;&#57;&#57;&#46;&#49;&#49;&#44;&#32;&#49;&#48;&#57;&#46;&#48;&#51;&#44;&#32;&#50;&#50;&#53;&#46;&#49;&#48;&#44;&#32;&#44;&#32;&#44;&#32;&#10;&#32;&#10;&#62;&#32;&#32;&#32;&#50;&#52;&#50;&#46;&#52;&#51;&#44;&#32;&#44;&#32;&#52;&#57;&#52;&#46;&#51;&#57;&#44;&#32;&#49;&#50;&#51;&#46;&#48;&#50;&#44;&#32;&#50;&#53;&#55;&#46;&#49;&#48;&#44;&#32;&#50;&#50;&#53;&#46;&#49;&#48;&#44;&#32;&#49;&#53;&#55;&#46;&#48;&#55;&#44;&#32;&#57;&#53;&#46;&#48;&#48;&#44;&#32;&#57;&#50;&#46;&#57;&#57;&#44;&#32;&#49;&#54;&#53;&#46;&#48;&#54;&#44;&#32;&#44;&#32;&#44;&#32;&#50;&#57;&#48;&#46;&#50;&#54;&#44;&#32;&#10;&#32;&#10;&#62;&#32;&#32;&#32;&#51;&#56;&#57;&#46;&#50;&#52;&#44;&#32;&#44;&#32;&#44;&#32;&#49;&#49;&#48;&#46;&#57;&#54;&#44;&#32;&#44;&#32;&#44;&#32;&#44;&#32;&#49;&#49;&#49;&#46;&#48;&#51;&#44;&#32;&#44;&#32;&#49;&#52;&#51;&#46;&#48;&#57;&#44;&#32;&#51;&#53;&#48;&#46;&#51;&#49;&#44;&#32;&#52;&#52;&#52;&#46;&#49;&#48;&#44;&#32;&#49;&#53;&#55;&#46;&#48;&#51;&#44;&#32;&#51;&#54;&#50;&#46;&#49;&#52;&#44;&#32;&#44;&#32;&#44;&#32;&#10;&#32;&#10;&#62;&#32;&#32;&#32;&#49;&#50;&#56;&#46;&#57;&#55;&#44;&#32;&#44;&#32;&#49;&#52;&#52;&#46;&#57;&#55;&#44;&#32;&#44;&#32;&#44;&#32;&#49;&#51;&#50;&#46;&#57;&#54;&#44;&#32;&#49;&#57;&#50;&#46;&#57;&#53;&#44;&#32;&#44;&#32;&#44;&#32;&#50;&#53;&#52;&#46;&#55;&#55;&#44;&#32;&#51;&#49;&#55;&#46;&#55;&#51;&#44;&#32;&#51;&#57;&#56;&#46;&#53;&#56;&#44;&#32;&#44;&#32;&#49;&#54;&#53;&#46;&#56;&#55;&#44;&#32;&#44;&#32;&#10;&#32;&#10;&#62;&#32;&#32;&#32;&#51;&#48;&#55;&#46;&#49;&#54;&#44;&#32;&#51;&#49;&#52;&#46;&#49;&#48;&#44;&#32;&#51;&#52;&#50;&#46;&#49;&#49;&#44;&#32;&#50;&#54;&#50;&#46;&#48;&#51;&#44;&#32;&#50;&#51;&#55;&#46;&#50;&#50;&#44;&#32;&#44;&#32;&#44;&#32;&#52;&#54;&#55;&#46;&#52;&#54;&#44;&#32;&#125;</pre></div>"
            ],
            "text/plain": [
              "{, , 163.00, , , , , , , , , 231.58, 1174.29, 227.08, , , , , , 138.03, , 122.03, \n",
              " \n",
              ">   120.01, 269.16, 304.07, , , , , , , 234.02, , 362.76, 182.08, 160.96, 210.13, , \n",
              " \n",
              ">   182.08, , , , 209.95, 93.97, 121.04, 131.03, 334.09, 182.08, 334.09, 196.11, 691.59, \n",
              " \n",
              ">   , 174.85, 520.07, 168.05, 324.10, 163.12, , 294.87, 197.09, 268.84, 198.08, 171.10, \n",
              " \n",
              ">   159.00, 196.11, 203.48, 238.01, 149.09, 566.37, 151.07, 179.12, , 333.28, 227.08, \n",
              " \n",
              ">   199.07, , 196.11, 151.07, , 226.09, 198.08, , 265.17, 199.11, 109.03, 225.10, , , \n",
              " \n",
              ">   242.43, , 494.39, 123.02, 257.10, 225.10, 157.07, 95.00, 92.99, 165.06, , , 290.26, \n",
              " \n",
              ">   389.24, , , 110.96, , , , 111.03, , 143.09, 350.31, 444.10, 157.03, 362.14, , , \n",
              " \n",
              ">   128.97, , 144.97, , , 132.96, 192.95, , , 254.77, 317.73, 398.58, , 165.87, , \n",
              " \n",
              ">   307.16, 314.10, 342.11, 262.03, 237.22, , , 467.46, }"
            ]
          },
          "execution_count": 72,
          "metadata": {
            "text/html": [],
            "text/plain": []
          },
          "output_type": "execute_result"
        }
      ],
      "source": [
        "nDetailData[[All, \"molecularMass\"]]"
      ]
    },
    {
      "cell_type": "markdown",
      "id": "9dc78b48-4971-4004-837b-a3da2fbde6b1",
      "metadata": {
        "id": "9dc78b48-4971-4004-837b-a3da2fbde6b1"
      },
      "source": [
        "As there are many empty strings, we will replace them all with \"Nothing\""
      ]
    },
    {
      "cell_type": "code",
      "execution_count": null,
      "id": "1e1e8ec7-5375-4b3a-98ce-4be27182e02f",
      "metadata": {
        "id": "1e1e8ec7-5375-4b3a-98ce-4be27182e02f",
        "outputId": "cb81ca22-bedc-4204-dbe7-59c5a7c1a4b3",
        "vscode": {
          "languageId": "wolfram language"
        }
      },
      "outputs": [
        {
          "data": {
            "text/html": [
              "<div><pre style=\"&#102;&#111;&#110;&#116;&#45;&#102;&#97;&#109;&#105;&#108;&#121;&#58;&#32;&#34;&#67;&#111;&#117;&#114;&#105;&#101;&#114;&#32;&#78;&#101;&#119;&#34;&#44;&#67;&#111;&#117;&#114;&#105;&#101;&#114;&#44;&#109;&#111;&#110;&#111;&#115;&#112;&#97;&#99;&#101;&#59;\">&#123;&#49;&#54;&#51;&#46;&#48;&#48;&#44;&#32;&#50;&#51;&#49;&#46;&#53;&#56;&#44;&#32;&#49;&#49;&#55;&#52;&#46;&#50;&#57;&#44;&#32;&#50;&#50;&#55;&#46;&#48;&#56;&#44;&#32;&#49;&#51;&#56;&#46;&#48;&#51;&#44;&#32;&#49;&#50;&#50;&#46;&#48;&#51;&#44;&#32;&#49;&#50;&#48;&#46;&#48;&#49;&#44;&#32;&#50;&#54;&#57;&#46;&#49;&#54;&#44;&#32;&#51;&#48;&#52;&#46;&#48;&#55;&#44;&#32;&#50;&#51;&#52;&#46;&#48;&#50;&#44;&#32;&#10;&#32;&#10;&#62;&#32;&#32;&#32;&#51;&#54;&#50;&#46;&#55;&#54;&#44;&#32;&#49;&#56;&#50;&#46;&#48;&#56;&#44;&#32;&#49;&#54;&#48;&#46;&#57;&#54;&#44;&#32;&#50;&#49;&#48;&#46;&#49;&#51;&#44;&#32;&#49;&#56;&#50;&#46;&#48;&#56;&#44;&#32;&#50;&#48;&#57;&#46;&#57;&#53;&#44;&#32;&#57;&#51;&#46;&#57;&#55;&#44;&#32;&#49;&#50;&#49;&#46;&#48;&#52;&#44;&#32;&#49;&#51;&#49;&#46;&#48;&#51;&#44;&#32;&#51;&#51;&#52;&#46;&#48;&#57;&#44;&#32;&#10;&#32;&#10;&#62;&#32;&#32;&#32;&#49;&#56;&#50;&#46;&#48;&#56;&#44;&#32;&#51;&#51;&#52;&#46;&#48;&#57;&#44;&#32;&#49;&#57;&#54;&#46;&#49;&#49;&#44;&#32;&#54;&#57;&#49;&#46;&#53;&#57;&#44;&#32;&#49;&#55;&#52;&#46;&#56;&#53;&#44;&#32;&#53;&#50;&#48;&#46;&#48;&#55;&#44;&#32;&#49;&#54;&#56;&#46;&#48;&#53;&#44;&#32;&#51;&#50;&#52;&#46;&#49;&#48;&#44;&#32;&#49;&#54;&#51;&#46;&#49;&#50;&#44;&#32;&#50;&#57;&#52;&#46;&#56;&#55;&#44;&#32;&#10;&#32;&#10;&#62;&#32;&#32;&#32;&#49;&#57;&#55;&#46;&#48;&#57;&#44;&#32;&#50;&#54;&#56;&#46;&#56;&#52;&#44;&#32;&#49;&#57;&#56;&#46;&#48;&#56;&#44;&#32;&#49;&#55;&#49;&#46;&#49;&#48;&#44;&#32;&#49;&#53;&#57;&#46;&#48;&#48;&#44;&#32;&#49;&#57;&#54;&#46;&#49;&#49;&#44;&#32;&#50;&#48;&#51;&#46;&#52;&#56;&#44;&#32;&#50;&#51;&#56;&#46;&#48;&#49;&#44;&#32;&#49;&#52;&#57;&#46;&#48;&#57;&#44;&#32;&#53;&#54;&#54;&#46;&#51;&#55;&#44;&#32;&#10;&#32;&#10;&#62;&#32;&#32;&#32;&#49;&#53;&#49;&#46;&#48;&#55;&#44;&#32;&#49;&#55;&#57;&#46;&#49;&#50;&#44;&#32;&#51;&#51;&#51;&#46;&#50;&#56;&#44;&#32;&#50;&#50;&#55;&#46;&#48;&#56;&#44;&#32;&#49;&#57;&#57;&#46;&#48;&#55;&#44;&#32;&#49;&#57;&#54;&#46;&#49;&#49;&#44;&#32;&#49;&#53;&#49;&#46;&#48;&#55;&#44;&#32;&#50;&#50;&#54;&#46;&#48;&#57;&#44;&#32;&#49;&#57;&#56;&#46;&#48;&#56;&#44;&#32;&#50;&#54;&#53;&#46;&#49;&#55;&#44;&#32;&#10;&#32;&#10;&#62;&#32;&#32;&#32;&#49;&#57;&#57;&#46;&#49;&#49;&#44;&#32;&#49;&#48;&#57;&#46;&#48;&#51;&#44;&#32;&#50;&#50;&#53;&#46;&#49;&#48;&#44;&#32;&#50;&#52;&#50;&#46;&#52;&#51;&#44;&#32;&#52;&#57;&#52;&#46;&#51;&#57;&#44;&#32;&#49;&#50;&#51;&#46;&#48;&#50;&#44;&#32;&#50;&#53;&#55;&#46;&#49;&#48;&#44;&#32;&#50;&#50;&#53;&#46;&#49;&#48;&#44;&#32;&#49;&#53;&#55;&#46;&#48;&#55;&#44;&#32;&#57;&#53;&#46;&#48;&#48;&#44;&#32;&#10;&#32;&#10;&#62;&#32;&#32;&#32;&#57;&#50;&#46;&#57;&#57;&#44;&#32;&#49;&#54;&#53;&#46;&#48;&#54;&#44;&#32;&#50;&#57;&#48;&#46;&#50;&#54;&#44;&#32;&#51;&#56;&#57;&#46;&#50;&#52;&#44;&#32;&#49;&#49;&#48;&#46;&#57;&#54;&#44;&#32;&#49;&#49;&#49;&#46;&#48;&#51;&#44;&#32;&#49;&#52;&#51;&#46;&#48;&#57;&#44;&#32;&#51;&#53;&#48;&#46;&#51;&#49;&#44;&#32;&#52;&#52;&#52;&#46;&#49;&#48;&#44;&#32;&#49;&#53;&#55;&#46;&#48;&#51;&#44;&#32;&#10;&#32;&#10;&#62;&#32;&#32;&#32;&#51;&#54;&#50;&#46;&#49;&#52;&#44;&#32;&#49;&#50;&#56;&#46;&#57;&#55;&#44;&#32;&#49;&#52;&#52;&#46;&#57;&#55;&#44;&#32;&#49;&#51;&#50;&#46;&#57;&#54;&#44;&#32;&#49;&#57;&#50;&#46;&#57;&#53;&#44;&#32;&#50;&#53;&#52;&#46;&#55;&#55;&#44;&#32;&#51;&#49;&#55;&#46;&#55;&#51;&#44;&#32;&#51;&#57;&#56;&#46;&#53;&#56;&#44;&#32;&#49;&#54;&#53;&#46;&#56;&#55;&#44;&#32;&#51;&#48;&#55;&#46;&#49;&#54;&#44;&#32;&#10;&#32;&#10;&#62;&#32;&#32;&#32;&#51;&#49;&#52;&#46;&#49;&#48;&#44;&#32;&#51;&#52;&#50;&#46;&#49;&#49;&#44;&#32;&#50;&#54;&#50;&#46;&#48;&#51;&#44;&#32;&#50;&#51;&#55;&#46;&#50;&#50;&#44;&#32;&#52;&#54;&#55;&#46;&#52;&#54;&#125;</pre></div>"
            ],
            "text/plain": [
              "{163.00, 231.58, 1174.29, 227.08, 138.03, 122.03, 120.01, 269.16, 304.07, 234.02, \n",
              " \n",
              ">   362.76, 182.08, 160.96, 210.13, 182.08, 209.95, 93.97, 121.04, 131.03, 334.09, \n",
              " \n",
              ">   182.08, 334.09, 196.11, 691.59, 174.85, 520.07, 168.05, 324.10, 163.12, 294.87, \n",
              " \n",
              ">   197.09, 268.84, 198.08, 171.10, 159.00, 196.11, 203.48, 238.01, 149.09, 566.37, \n",
              " \n",
              ">   151.07, 179.12, 333.28, 227.08, 199.07, 196.11, 151.07, 226.09, 198.08, 265.17, \n",
              " \n",
              ">   199.11, 109.03, 225.10, 242.43, 494.39, 123.02, 257.10, 225.10, 157.07, 95.00, \n",
              " \n",
              ">   92.99, 165.06, 290.26, 389.24, 110.96, 111.03, 143.09, 350.31, 444.10, 157.03, \n",
              " \n",
              ">   362.14, 128.97, 144.97, 132.96, 192.95, 254.77, 317.73, 398.58, 165.87, 307.16, \n",
              " \n",
              ">   314.10, 342.11, 262.03, 237.22, 467.46}"
            ]
          },
          "execution_count": 73,
          "metadata": {
            "text/html": [],
            "text/plain": []
          },
          "output_type": "execute_result"
        }
      ],
      "source": [
        "mmStrings = nDetailData[[All, \"molecularMass\"]] /. \"\" -> Nothing"
      ]
    },
    {
      "cell_type": "markdown",
      "id": "d7ba5db5-9484-44c1-b116-524c05647273",
      "metadata": {
        "id": "d7ba5db5-9484-44c1-b116-524c05647273"
      },
      "source": [
        "Converting the string elements into real numbers by mapping ToExpression to each element of the list:"
      ]
    },
    {
      "cell_type": "code",
      "execution_count": null,
      "id": "acd4f54e-0d71-40bc-9bfa-e43c0c022a7b",
      "metadata": {
        "id": "acd4f54e-0d71-40bc-9bfa-e43c0c022a7b",
        "outputId": "6d7cdce2-a85d-4e76-aca7-7fd346d48634",
        "vscode": {
          "languageId": "wolfram language"
        }
      },
      "outputs": [
        {
          "data": {
            "text/html": [
              "<div><pre style=\"&#102;&#111;&#110;&#116;&#45;&#102;&#97;&#109;&#105;&#108;&#121;&#58;&#32;&#34;&#67;&#111;&#117;&#114;&#105;&#101;&#114;&#32;&#78;&#101;&#119;&#34;&#44;&#67;&#111;&#117;&#114;&#105;&#101;&#114;&#44;&#109;&#111;&#110;&#111;&#115;&#112;&#97;&#99;&#101;&#59;\">&#123;&#49;&#54;&#51;&#46;&#44;&#32;&#50;&#51;&#49;&#46;&#53;&#56;&#44;&#32;&#49;&#49;&#55;&#52;&#46;&#50;&#57;&#44;&#32;&#50;&#50;&#55;&#46;&#48;&#56;&#44;&#32;&#49;&#51;&#56;&#46;&#48;&#51;&#44;&#32;&#49;&#50;&#50;&#46;&#48;&#51;&#44;&#32;&#49;&#50;&#48;&#46;&#48;&#49;&#44;&#32;&#50;&#54;&#57;&#46;&#49;&#54;&#44;&#32;&#51;&#48;&#52;&#46;&#48;&#55;&#44;&#32;&#50;&#51;&#52;&#46;&#48;&#50;&#44;&#32;&#51;&#54;&#50;&#46;&#55;&#54;&#44;&#32;&#10;&#32;&#10;&#62;&#32;&#32;&#32;&#49;&#56;&#50;&#46;&#48;&#56;&#44;&#32;&#49;&#54;&#48;&#46;&#57;&#54;&#44;&#32;&#50;&#49;&#48;&#46;&#49;&#51;&#44;&#32;&#49;&#56;&#50;&#46;&#48;&#56;&#44;&#32;&#50;&#48;&#57;&#46;&#57;&#53;&#44;&#32;&#57;&#51;&#46;&#57;&#55;&#44;&#32;&#49;&#50;&#49;&#46;&#48;&#52;&#44;&#32;&#49;&#51;&#49;&#46;&#48;&#51;&#44;&#32;&#51;&#51;&#52;&#46;&#48;&#57;&#44;&#32;&#49;&#56;&#50;&#46;&#48;&#56;&#44;&#32;&#10;&#32;&#10;&#62;&#32;&#32;&#32;&#51;&#51;&#52;&#46;&#48;&#57;&#44;&#32;&#49;&#57;&#54;&#46;&#49;&#49;&#44;&#32;&#54;&#57;&#49;&#46;&#53;&#57;&#44;&#32;&#49;&#55;&#52;&#46;&#56;&#53;&#44;&#32;&#53;&#50;&#48;&#46;&#48;&#55;&#44;&#32;&#49;&#54;&#56;&#46;&#48;&#53;&#44;&#32;&#51;&#50;&#52;&#46;&#49;&#44;&#32;&#49;&#54;&#51;&#46;&#49;&#50;&#44;&#32;&#50;&#57;&#52;&#46;&#56;&#55;&#44;&#32;&#49;&#57;&#55;&#46;&#48;&#57;&#44;&#32;&#10;&#32;&#10;&#62;&#32;&#32;&#32;&#50;&#54;&#56;&#46;&#56;&#52;&#44;&#32;&#49;&#57;&#56;&#46;&#48;&#56;&#44;&#32;&#49;&#55;&#49;&#46;&#49;&#44;&#32;&#49;&#53;&#57;&#46;&#44;&#32;&#49;&#57;&#54;&#46;&#49;&#49;&#44;&#32;&#50;&#48;&#51;&#46;&#52;&#56;&#44;&#32;&#50;&#51;&#56;&#46;&#48;&#49;&#44;&#32;&#49;&#52;&#57;&#46;&#48;&#57;&#44;&#32;&#53;&#54;&#54;&#46;&#51;&#55;&#44;&#32;&#49;&#53;&#49;&#46;&#48;&#55;&#44;&#32;&#49;&#55;&#57;&#46;&#49;&#50;&#44;&#32;&#10;&#32;&#10;&#62;&#32;&#32;&#32;&#51;&#51;&#51;&#46;&#50;&#56;&#44;&#32;&#50;&#50;&#55;&#46;&#48;&#56;&#44;&#32;&#49;&#57;&#57;&#46;&#48;&#55;&#44;&#32;&#49;&#57;&#54;&#46;&#49;&#49;&#44;&#32;&#49;&#53;&#49;&#46;&#48;&#55;&#44;&#32;&#50;&#50;&#54;&#46;&#48;&#57;&#44;&#32;&#49;&#57;&#56;&#46;&#48;&#56;&#44;&#32;&#50;&#54;&#53;&#46;&#49;&#55;&#44;&#32;&#49;&#57;&#57;&#46;&#49;&#49;&#44;&#32;&#49;&#48;&#57;&#46;&#48;&#51;&#44;&#32;&#10;&#32;&#10;&#62;&#32;&#32;&#32;&#50;&#50;&#53;&#46;&#49;&#44;&#32;&#50;&#52;&#50;&#46;&#52;&#51;&#44;&#32;&#52;&#57;&#52;&#46;&#51;&#57;&#44;&#32;&#49;&#50;&#51;&#46;&#48;&#50;&#44;&#32;&#50;&#53;&#55;&#46;&#49;&#44;&#32;&#50;&#50;&#53;&#46;&#49;&#44;&#32;&#49;&#53;&#55;&#46;&#48;&#55;&#44;&#32;&#57;&#53;&#46;&#44;&#32;&#57;&#50;&#46;&#57;&#57;&#44;&#32;&#49;&#54;&#53;&#46;&#48;&#54;&#44;&#32;&#50;&#57;&#48;&#46;&#50;&#54;&#44;&#32;&#10;&#32;&#10;&#62;&#32;&#32;&#32;&#51;&#56;&#57;&#46;&#50;&#52;&#44;&#32;&#49;&#49;&#48;&#46;&#57;&#54;&#44;&#32;&#49;&#49;&#49;&#46;&#48;&#51;&#44;&#32;&#49;&#52;&#51;&#46;&#48;&#57;&#44;&#32;&#51;&#53;&#48;&#46;&#51;&#49;&#44;&#32;&#52;&#52;&#52;&#46;&#49;&#44;&#32;&#49;&#53;&#55;&#46;&#48;&#51;&#44;&#32;&#51;&#54;&#50;&#46;&#49;&#52;&#44;&#32;&#49;&#50;&#56;&#46;&#57;&#55;&#44;&#32;&#49;&#52;&#52;&#46;&#57;&#55;&#44;&#32;&#10;&#32;&#10;&#62;&#32;&#32;&#32;&#49;&#51;&#50;&#46;&#57;&#54;&#44;&#32;&#49;&#57;&#50;&#46;&#57;&#53;&#44;&#32;&#50;&#53;&#52;&#46;&#55;&#55;&#44;&#32;&#51;&#49;&#55;&#46;&#55;&#51;&#44;&#32;&#51;&#57;&#56;&#46;&#53;&#56;&#44;&#32;&#49;&#54;&#53;&#46;&#56;&#55;&#44;&#32;&#51;&#48;&#55;&#46;&#49;&#54;&#44;&#32;&#51;&#49;&#52;&#46;&#49;&#44;&#32;&#51;&#52;&#50;&#46;&#49;&#49;&#44;&#32;&#50;&#54;&#50;&#46;&#48;&#51;&#44;&#32;&#10;&#32;&#10;&#62;&#32;&#32;&#32;&#50;&#51;&#55;&#46;&#50;&#50;&#44;&#32;&#52;&#54;&#55;&#46;&#52;&#54;&#125;</pre></div>"
            ],
            "text/plain": [
              "{163., 231.58, 1174.29, 227.08, 138.03, 122.03, 120.01, 269.16, 304.07, 234.02, 362.76, \n",
              " \n",
              ">   182.08, 160.96, 210.13, 182.08, 209.95, 93.97, 121.04, 131.03, 334.09, 182.08, \n",
              " \n",
              ">   334.09, 196.11, 691.59, 174.85, 520.07, 168.05, 324.1, 163.12, 294.87, 197.09, \n",
              " \n",
              ">   268.84, 198.08, 171.1, 159., 196.11, 203.48, 238.01, 149.09, 566.37, 151.07, 179.12, \n",
              " \n",
              ">   333.28, 227.08, 199.07, 196.11, 151.07, 226.09, 198.08, 265.17, 199.11, 109.03, \n",
              " \n",
              ">   225.1, 242.43, 494.39, 123.02, 257.1, 225.1, 157.07, 95., 92.99, 165.06, 290.26, \n",
              " \n",
              ">   389.24, 110.96, 111.03, 143.09, 350.31, 444.1, 157.03, 362.14, 128.97, 144.97, \n",
              " \n",
              ">   132.96, 192.95, 254.77, 317.73, 398.58, 165.87, 307.16, 314.1, 342.11, 262.03, \n",
              " \n",
              ">   237.22, 467.46}"
            ]
          },
          "execution_count": 74,
          "metadata": {
            "text/html": [],
            "text/plain": []
          },
          "output_type": "execute_result"
        }
      ],
      "source": [
        "mm = ToExpression /@ mmStrings"
      ]
    },
    {
      "cell_type": "markdown",
      "id": "71fbbcb3-4804-4863-9781-ab48d003c283",
      "metadata": {
        "id": "71fbbcb3-4804-4863-9781-ab48d003c283"
      },
      "source": [
        "Finally, we can even quickly create a simple visualization from the extracted molecularMass values (from the selen* search):"
      ]
    },
    {
      "cell_type": "code",
      "execution_count": null,
      "id": "32efd1fb-4ac3-4845-a402-624ae1cfdb61",
      "metadata": {
        "id": "32efd1fb-4ac3-4845-a402-624ae1cfdb61",
        "outputId": "75e3958e-16b5-4140-bc87-c3195aba7918",
        "vscode": {
          "languageId": "wolfram language"
        }
      },
      "outputs": [
        {
          "data": {
            "text/html": [
              "<div><img alt=\"Output\" src=\"data:image/png;base64,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\"></div>"
            ],
            "text/plain": [
              "-Graphics-"
            ]
          },
          "execution_count": 75,
          "metadata": {
            "text/html": [],
            "text/plain": []
          },
          "output_type": "execute_result"
        }
      ],
      "source": [
        "Histogram[mm, AxesLabel -> {\"molecularMass\", \"Count\"}]"
      ]
    }
  ],
  "metadata": {
    "colab": {
      "name": "mathematica_casc.ipynb",
      "provenance": [],
      "toc_visible": true
    },
    "kernelspec": {
      "display_name": "Wolfram Language 12.3",
      "language": "Wolfram Language",
      "name": "wolframlanguage12.3"
    },
    "language_info": {
      "codemirror_mode": "mathematica",
      "file_extension": ".m",
      "mimetype": "application/vnd.wolfram.m",
      "name": "Wolfram Language",
      "pygments_lexer": "mathematica",
      "version": "12.0"
    }
  },
  "nbformat": 4,
  "nbformat_minor": 5
}
