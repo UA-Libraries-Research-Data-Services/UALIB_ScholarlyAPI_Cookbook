{
  "cells": [
    {
      "cell_type": "markdown",
      "id": "5bc5f701-85cd-48d8-a978-2cc44692a879",
      "metadata": {
        "id": "5bc5f701-85cd-48d8-a978-2cc44692a879"
      },
      "source": [
        "# ScienceDirect API in Mathematica\n",
        "\n",
        "by Vishank Patel\n",
        "\n",
        "**ScienceDirect**: https://www.sciencedirect.com/\n",
        "\n",
        "**Elsevier Developer Portal:** https://dev.elsevier.com/\n",
        "\n",
        "**ScienceDirect APIs Specification:** https://dev.elsevier.com/sd_api_spec.html\n",
        "\n",
        "**Elsevier How to Guide: Text Mining:** https://dev.elsevier.com/tecdoc_text_mining.html\n",
        "\n",
        "Please check with your institution for their Text and Data Mining Agreement with Elsevier.\n",
        "\n",
        "These recipe examples use the Elsevier ScienceDirect Article (Full-Text) API and Mathematica 12.3. This tutorial content is intended to help facillitate academic research. Before continuing or reusing any of this code, please be aware of Elsevier’s API policies and appropiate use-cases, as for example, Elsevier has detailed policies regarding [text and data mining of Elsevier full-text content](https://dev.elsevier.com/text_mining.html). If you have copyright or other related text and data mining questions, please contact The University of Alabama Libraries.\n",
        "\n",
        "*These recipe examples were tested on April 21, 2022.*"
      ]
    },
    {
      "cell_type": "markdown",
      "id": "04e7afdb-e2be-4724-95ca-dc2dbb4138d1",
      "metadata": {
        "id": "04e7afdb-e2be-4724-95ca-dc2dbb4138d1"
      },
      "source": [
        "## Setup\n",
        "\n",
        "### API key\n",
        "\n",
        "After saving the API key in a text file on your computer:"
      ]
    },
    {
      "cell_type": "code",
      "execution_count": null,
      "id": "39a62220-a24e-4a0e-9e3a-b2aca4bb3bf5",
      "metadata": {
        "id": "39a62220-a24e-4a0e-9e3a-b2aca4bb3bf5",
        "vscode": {
          "languageId": "wolfram language"
        }
      },
      "outputs": [],
      "source": [
        "myAPIKey = ToString[Import[\"INSERT PATH HERE\"]];"
      ]
    },
    {
      "cell_type": "markdown",
      "id": "44c7ea3b-5de7-4a92-8a72-2565a837f427",
      "metadata": {
        "id": "44c7ea3b-5de7-4a92-8a72-2565a837f427"
      },
      "source": [
        "### Identifier Note"
      ]
    },
    {
      "cell_type": "markdown",
      "id": "579cdab2-e8d9-42a0-b2e1-2a8dfb8d7560",
      "metadata": {
        "id": "579cdab2-e8d9-42a0-b2e1-2a8dfb8d7560"
      },
      "source": [
        "We will use DOIs as the article identifiers. See our Crossref and Scopus API tutorials for workflows on how to create lists of DOIs and identifiers for specific searches and journals. The Elsevier ScienceDirect Article (Full-Text) API also accepts other identifiers like Scopus IDs and PubMed IDs (see API specification documents linked above)."
      ]
    },
    {
      "cell_type": "markdown",
      "id": "2250fbf4-6e9e-4c66-b7fb-4ef5c706d87e",
      "metadata": {
        "id": "2250fbf4-6e9e-4c66-b7fb-4ef5c706d87e"
      },
      "source": [
        "## 1. Retrieve full-text XML of an article"
      ]
    },
    {
      "cell_type": "markdown",
      "id": "d40366d3-bffd-4b18-8256-8d13a3e2ec28",
      "metadata": {
        "id": "d40366d3-bffd-4b18-8256-8d13a3e2ec28"
      },
      "source": [
        "For XML Download:"
      ]
    },
    {
      "cell_type": "code",
      "execution_count": null,
      "id": "90d6c34d-f32d-4e5e-9971-3554132a77ec",
      "metadata": {
        "id": "90d6c34d-f32d-4e5e-9971-3554132a77ec",
        "vscode": {
          "languageId": "wolfram language"
        }
      },
      "outputs": [],
      "source": [
        "elsevierURL = \"https://api.elsevier.com/content/article/doi/\";\n",
        "doi1 = \"10.1016/j.tetlet.2017.07.080\";  (*example Tetrahedron Letters article*)\n",
        "\n",
        "searchURL1 = elsevierURL <> doi1 <> \"?APIKey=\" <> myAPIKey <> \"&httpAccept=text/xml\";\n",
        "fullText1 = Import[searchURL1];"
      ]
    },
    {
      "cell_type": "markdown",
      "id": "83b4c2f2-7913-4f66-8767-9a8aacba23c0",
      "metadata": {
        "id": "83b4c2f2-7913-4f66-8767-9a8aacba23c0"
      },
      "source": [
        "## 2. Retrieve plain text of an article"
      ]
    },
    {
      "cell_type": "markdown",
      "id": "806ebd16-6279-431c-bc92-01c452cab471",
      "metadata": {
        "id": "806ebd16-6279-431c-bc92-01c452cab471"
      },
      "source": [
        "For simplified text download:"
      ]
    },
    {
      "cell_type": "code",
      "execution_count": null,
      "id": "267e7822-2008-4c26-a29d-f849906f273b",
      "metadata": {
        "id": "267e7822-2008-4c26-a29d-f849906f273b",
        "vscode": {
          "languageId": "wolfram language"
        }
      },
      "outputs": [],
      "source": [
        "elsevierURL = \"https://api.elsevier.com/content/article/doi/\";\n",
        "doi2 = \"10.1016/j.tetlet.2022.153680\"; (*example Tetrahedron Letters article*)\n",
        "\n",
        "searchURL2 = elsevierURL <> doi2 <> \"?APIKey=\" <> myAPIKey <> \"&httpAccept=text/plain\";\n",
        "fulltext2 = Import[searchURL2];"
      ]
    },
    {
      "cell_type": "markdown",
      "id": "e4ae3e31-5704-4faa-b4a7-cbabb8834fa3",
      "metadata": {
        "id": "e4ae3e31-5704-4faa-b4a7-cbabb8834fa3"
      },
      "source": [
        "## 3. Retrieve full-text in a loop"
      ]
    },
    {
      "cell_type": "markdown",
      "id": "e4cba3d8-b7dc-4919-93d6-8e2c74390826",
      "metadata": {
        "id": "e4cba3d8-b7dc-4919-93d6-8e2c74390826"
      },
      "source": [
        "Make a list of 5 DOIs for testing"
      ]
    },
    {
      "cell_type": "code",
      "execution_count": null,
      "id": "0035ba88-ed6d-4df2-8d59-fa97facba3fe",
      "metadata": {
        "id": "0035ba88-ed6d-4df2-8d59-fa97facba3fe",
        "vscode": {
          "languageId": "wolfram language"
        }
      },
      "outputs": [],
      "source": [
        "dois = {\"10.1016/j.tetlet.2018.10.031\", \n",
        "   \"10.1016/j.tetlet.2018.10.033\", \"10.1016/j.tetlet.2018.10.034\", \n",
        "   \"10.1016/j.tetlet.2018.10.038\", \"10.1016/j.tetlet.2018.10.041\"};"
      ]
    },
    {
      "cell_type": "markdown",
      "id": "655e6939-3179-40e2-8a32-d73ad8532b01",
      "metadata": {
        "id": "655e6939-3179-40e2-8a32-d73ad8532b01"
      },
      "source": [
        "Retrieve article full text for each DOI in a loop and save each article to a separate file.\n",
        "Example shown for plain text, XML also works (replace 'plain' with 'xml')."
      ]
    },
    {
      "cell_type": "code",
      "execution_count": null,
      "id": "2c0c49d3-a384-459c-944f-ef02fade1bc7",
      "metadata": {
        "id": "2c0c49d3-a384-459c-944f-ef02fade1bc7",
        "vscode": {
          "languageId": "wolfram language"
        }
      },
      "outputs": [],
      "source": [
        "For[i = 1, i <= Length[dois], i++,\n",
        " article = Import[elsevierURL <> dois[[i]] <> \"?APIKey=\" <> myAPIKey <> \"&httpAccept=text/plain\"];\n",
        " doiName = StringReplace[dois[[i]], \"/\" -> \"_\"]  ; (*Can't save files with a '/' character on Linux*)\n",
        " \n",
        " Export[doiName <> \"_plain_text.txt\", article, \"Text\"];\n",
        " Pause[1];\n",
        " ]"
      ]
    }
  ],
  "metadata": {
    "colab": {
      "name": "mathematica_SDirect.ipynb",
      "provenance": [],
      "toc_visible": true
    },
    "kernelspec": {
      "display_name": "Wolfram Language 12.3",
      "language": "Wolfram Language",
      "name": "wolframlanguage12.3"
    },
    "language_info": {
      "codemirror_mode": "mathematica",
      "file_extension": ".m",
      "mimetype": "application/vnd.wolfram.m",
      "name": "Wolfram Language",
      "pygments_lexer": "mathematica",
      "version": "12.0"
    }
  },
  "nbformat": 4,
  "nbformat_minor": 5
}
