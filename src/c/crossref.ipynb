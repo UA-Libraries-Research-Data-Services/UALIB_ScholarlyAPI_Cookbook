{
 "cells": [
  {
   "cell_type": "markdown",
   "id": "e1509f3a-9367-4cda-9d45-540b5b127e56",
   "metadata": {},
   "source": [
    "# Crossref API in C\n",
    "by Cyrus Gomes"
   ]
  },
  {
   "cell_type": "markdown",
   "id": "5e28ca92-7a5a-4320-8332-a1be3ddd1c33",
   "metadata": {},
   "source": [
    "**Crossref API documentation:** https://api.crossref.org/swagger-ui/index.html\n",
    "\n",
    "These recipe examples were tested on July 25, 2023.\n",
    "\n",
    "*From our testing, we have found that the crossref metadata across publishers and even journals can vary considerably. As a result, it can be easier to work with one journal at a time when using the crossref API (e.g., particulary when trying to extract selected data from records).*"
   ]
  },
  {
   "cell_type": "markdown",
   "metadata": {
    "id": "c09M9YME1Yny"
   },
   "source": [
    "## Setup"
   ]
  },
  {
   "cell_type": "markdown",
   "metadata": {
    "id": "S74qQhZV1Ynz"
   },
   "source": [
    "First, install the CURL and jq package by typing the following command in the terminal:"
   ]
  },
  {
   "cell_type": "code",
   "execution_count": null,
   "metadata": {},
   "outputs": [],
   "source": [
    "!sudo apt install curl jq libcurl4-openssl-dev"
   ]
  },
  {
   "cell_type": "markdown",
   "metadata": {},
   "source": [
    "Then we set a directory where we want the CrossRef directory for our projects to be created:"
   ]
  },
  {
   "cell_type": "code",
   "execution_count": 2,
   "metadata": {},
   "outputs": [],
   "source": [
    "!mkdir CrossRef"
   ]
  },
  {
   "cell_type": "markdown",
   "metadata": {},
   "source": [
    "Finally, we change the directory to the folder we created:"
   ]
  },
  {
   "cell_type": "code",
   "execution_count": null,
   "metadata": {},
   "outputs": [],
   "source": [
    "%cd CrossRef"
   ]
  },
  {
   "cell_type": "markdown",
   "id": "d2aae4d3-d789-4d6a-ab66-5708e0f8b1f7",
   "metadata": {},
   "source": [
    "## 1. Basic Crossref API call"
   ]
  },
  {
   "cell_type": "markdown",
   "id": "d685a5fc-1eba-4904-b3c7-5d5670c46853",
   "metadata": {},
   "source": [
    "### Request data from the Crossref API"
   ]
  },
  {
   "cell_type": "markdown",
   "metadata": {},
   "source": [
    "We initialize a folder for the current project that we are working on. And then change to that directory"
   ]
  },
  {
   "cell_type": "code",
   "execution_count": 4,
   "metadata": {},
   "outputs": [],
   "source": [
    "!mkdir crossref_api_call"
   ]
  },
  {
   "cell_type": "code",
   "execution_count": null,
   "metadata": {},
   "outputs": [],
   "source": [
    "%cd crossref_api_call"
   ]
  },
  {
   "cell_type": "markdown",
   "metadata": {},
   "source": [
    "Then we utilize the `%%file` command to create the following makefile which will compile our program and create an executable."
   ]
  },
  {
   "cell_type": "code",
   "execution_count": 1,
   "metadata": {},
   "outputs": [
    {
     "name": "stdout",
     "output_type": "stream",
     "text": [
      "Writing makefile\n"
     ]
    }
   ],
   "source": [
    "%%file makefile\n",
    "\n",
    "\n",
    "# Set the variable CC to gcc, which is used to build the program\n",
    "CC=gcc\n",
    "\n",
    "# Enable debugging information and enable all compiler warnings\n",
    "CFLAGS=-g -Wall\n",
    "\n",
    "# Set the bin variable as the name of the binary file we are creating\n",
    "BIN=crossref_api\n",
    "\n",
    "# Create the binary file with the name we put\n",
    "all: $(BIN)\n",
    "\n",
    "# Map any file ending in .c to a binary executable. \n",
    "# \"$<\" represents the .c file and \"$@\" represents the target binary executable\n",
    "%: %.c\n",
    "\n",
    "\t# Compile the .c file using the gcc compiler with the CFLAGS and links \n",
    "\t# resulting binary with the CURL library\n",
    "\t$(CC) $(CFLAGS) $< -o $@ -lcurl\n",
    "\n",
    "# Clean target which removes specific files\n",
    "clean:\n",
    "\n",
    "\t# Removes the binary file and an \".dSYM\" (debug symbols for debugging) directories\n",
    "\t# the RM command used -r to remove directories and -f to force delete\n",
    "\t$(RM) -rf $(BIN) *.dSYM"
   ]
  },
  {
   "cell_type": "markdown",
   "metadata": {},
   "source": [
    "The command is used again to create our .c file which contains the code for the program"
   ]
  },
  {
   "cell_type": "code",
   "execution_count": 2,
   "metadata": {},
   "outputs": [
    {
     "name": "stdout",
     "output_type": "stream",
     "text": [
      "Writing crossref_api.c\n"
     ]
    }
   ],
   "source": [
    "%%file crossref_api.c\n",
    "\n",
    "#include <curl/curl.h>\n",
    "#include <stdio.h>\n",
    "#include <stdlib.h>\n",
    "#include <string.h>\n",
    "\n",
    "/*CURL program that retrieves JSON data from the CrossRef API\n",
    "This program allows custom request to be used along with the parameter*/\n",
    "\n",
    "\n",
    "/* We are going to be inputting the custom email and doi like this: ./crossref_api -e \"your_email@ua.edu\" -d \"10.1186/1758-2946-4-12\"\n",
    "If the arguments are missing then we use the default: \"your_email@ua.edu\" \"10.1186/1758-2946-4-12\"\n",
    "*/\n",
    "\n",
    "int main (int argc, char* argv[]) {\n",
    "    \n",
    "    // If arguments are invalid then return\n",
    "    if (argc > 5){                                                                                      \n",
    "        printf(\"Error. Please try again correctly.\\n\");\n",
    "        return -1;\n",
    "    }\n",
    "\n",
    "    // Default parameter and request codes\n",
    "    char parameter[100] = {};\n",
    "    char request[500] = {}; \n",
    "\n",
    "    // If there is ./crossref_api -e/-d\n",
    "    if ((argc == 1) || ((argc == 2) && ((strcmp(argv[1], \"-e\")==0) || (strcmp(argv[1], \"-d\")==0)))) {\n",
    "        // These arguments run the default parameters and keeps the codes as they are\n",
    "        strcat(parameter,\"your_email@ua.edu\");\n",
    "        strcat(request, \"10.1186/1758-2946-4-12\");\n",
    "    }\n",
    "\n",
    "    // If there is ./crossref_api -e \"your_email@ua.edu\"\n",
    "    else if ((argc == 3) && (strcmp(argv[1], \"-e\")==0)) {\n",
    "        // Only the parameter code is changed\n",
    "        strcat(parameter,argv[2]);\n",
    "        strcat(request, \"10.1186/1758-2946-4-12\");\n",
    "    }\n",
    "\n",
    "    // If there is ./crossref_api -e \"your_email@ua.edu\" -d\n",
    "    else if ((argc == 4) && (strcmp(argv[1], \"-e\")==0) && (strcmp(argv[3], \"-d\")==0)) {\n",
    "        // Only the parameter code is changed\n",
    "        strcat(parameter,argv[2]);\n",
    "        strcat(request, \"10.1186/1758-2946-4-12\");\n",
    "    }\n",
    "\n",
    "    // If there is ./crossref_api -e \"your_email@ua.edu\" -d \"10.1186/1758-2946-4-12\"\n",
    "    else if ((argc == 5) && (strcmp(argv[1], \"-e\")==0) && (strcmp(argv[3], \"-d\")==0)) {\n",
    "        // Both the parameter and request codes are changed\n",
    "        strcat(parameter,argv[2]);\n",
    "        strcat(request, argv[4]);\n",
    "    }\n",
    "\n",
    "    // If there is ./crossref_api -d \"10.1186/1758-2946-4-12\"\n",
    "    else if ((argc == 3) && (strcmp(argv[1], \"-d\")==0)) {\n",
    "        // Only the request code is changed\n",
    "        strcat(parameter,\"your_email@ua.edu\");\n",
    "        strcat(request, argv[2]);\n",
    "    }\n",
    "\n",
    "    // If there is ./crossref_api -d \"10.1186/1758-2946-4-12\" -e\n",
    "    else if ((argc == 4) && (strcmp(argv[1], \"-d\")==0) && (strcmp(argv[3], \"-e\")==0)) {\n",
    "        // Only the request code is changed\n",
    "        strcat(parameter,\"your_email@ua.edu\");\n",
    "        strcat(request, argv[2]);\n",
    "    }\n",
    "\n",
    "    // If there is ./crossref_api -d \"10.1186/1758-2946-4-12\" -e \"your_email@ua.edu\" \n",
    "    else if ((argc == 5) && (strcmp(argv[1], \"-d\")==0) && (strcmp(argv[3], \"-e\")==0)) {\n",
    "        // Both the request and parameter codes are changed\n",
    "        strcat(parameter,argv[4]);\n",
    "        strcat(request, argv[2]);\n",
    "    }\n",
    "\n",
    "    else {\n",
    "        printf(\"usage: ./crossref_api [-d] request [-e] parameter\\n\\n\");\n",
    "        printf(\"the api_req_par program is used to retrieve json data from the CrossRef API\\n\\n\");\n",
    "        printf(\"optional arguments\\n\");\n",
    "        printf(\"\\t -d doi          optional custom doi code; default is '10.1186/1758-2946-4-12'\\n\");\n",
    "        printf(\"\\t -e email        optional custom email; default is 'your_email@ua.edu'\\n\");\n",
    "        return -1;\n",
    "    }\n",
    "\n",
    "    // Initialize the CURL HTTP connection\n",
    "    CURL *curl = curl_easy_init();\n",
    "\n",
    "    // Bits of the url that are joined together later\n",
    "    char api[] = \"https://api.crossref.org/works/\";                                                                     \n",
    "    char type1[] = \"?mailto=\";                        \n",
    "    char url[2000];\n",
    "\n",
    "    // Check if CURL initialization is a success or not\n",
    "    if (!curl) {                                                                                         \n",
    "        fprintf(stderr, \"init failed\\n\");\n",
    "        return EXIT_FAILURE;\n",
    "    }\n",
    "        \n",
    "    // Combine all the bits to produce a functioning url\n",
    "    sprintf(url, \"%s%s%s%s\", api, request, type1, parameter);                                             \n",
    "                                          \n",
    "    // Set the url to which the HTTP request will be sent to\n",
    "    // First parameter is for the initialized curl HTTP request, second for the option to be set, and third for the value to be set\n",
    "    curl_easy_setopt(curl, CURLOPT_URL, url);\n",
    "\n",
    "    // If result is not retrieved then output error\n",
    "    CURLcode result = curl_easy_perform(curl);\n",
    "\n",
    "    // If result is not retrieved then output error\n",
    "    if (result != CURLE_OK) {                                                                            \n",
    "        fprintf(stderr, \"download problem: %s\\n\", curl_easy_strerror(result));\n",
    "    }\n",
    "\n",
    "    // Deallocate memory for the CURL connection\n",
    "    curl_easy_cleanup(curl);                                                                            \n",
    "    return EXIT_SUCCESS;\n",
    "}"
   ]
  },
  {
   "cell_type": "markdown",
   "metadata": {},
   "source": [
    "The folowing program is run, and an executable is created after using the following command:"
   ]
  },
  {
   "cell_type": "code",
   "execution_count": 3,
   "metadata": {},
   "outputs": [
    {
     "name": "stdout",
     "output_type": "stream",
     "text": [
      "# Compile the .c file using the gcc compiler with the CFLAGS and links \n",
      "# resulting binary with the CURL library\n",
      "gcc -g -Wall crossref_api.c -o crossref_api -lcurl\n"
     ]
    }
   ],
   "source": [
    "!make"
   ]
  },
  {
   "cell_type": "markdown",
   "metadata": {},
   "source": [
    "To output the data from the CrossRef API, we enter the following command:"
   ]
  },
  {
   "cell_type": "code",
   "execution_count": 23,
   "metadata": {},
   "outputs": [
    {
     "name": "stdout",
     "output_type": "stream",
     "text": [
      "\u001b[1;39m{\n",
      "  \u001b[0m\u001b[34;1m\"publisher\"\u001b[0m\u001b[1;39m: \u001b[0m\u001b[0;32m\"Springer Science and Business Media LLC\"\u001b[0m\u001b[1;39m,\n",
      "  \u001b[0m\u001b[34;1m\"issue\"\u001b[0m\u001b[1;39m: \u001b[0m\u001b[0;32m\"1\"\u001b[0m\u001b[1;39m,\n",
      "  \u001b[0m\u001b[34;1m\"title\"\u001b[0m\u001b[1;39m: \u001b[0m\u001b[1;39m[\n",
      "    \u001b[0;32m\"The Molecule Cloud - compact visualization of large collections of molecules\"\u001b[0m\u001b[1;39m\n",
      "  \u001b[1;39m]\u001b[0m\u001b[1;39m\n",
      "\u001b[1;39m}\u001b[0m\n"
     ]
    }
   ],
   "source": [
    "!./crossref_api | jq '.[\"message\"] | {publisher, issue, title}'"
   ]
  },
  {
   "cell_type": "markdown",
   "id": "31a5a2f5-0f8a-4775-955e-7509b3cb515f",
   "metadata": {},
   "source": [
    "### Select Some Specific Data"
   ]
  },
  {
   "cell_type": "code",
   "execution_count": 11,
   "metadata": {},
   "outputs": [
    {
     "name": "stdout",
     "output_type": "stream",
     "text": [
      "\u001b[1;39m[\n",
      "  \u001b[0;32m\"Journal of Cheminformatics\"\u001b[0m\u001b[1;39m\n",
      "\u001b[1;39m]\u001b[0m\n"
     ]
    }
   ],
   "source": [
    "!./crossref_api | jq '.[\"message\"][\"container-title\"]'"
   ]
  },
  {
   "cell_type": "code",
   "execution_count": 12,
   "metadata": {},
   "outputs": [
    {
     "name": "stdout",
     "output_type": "stream",
     "text": [
      "\u001b[1;39m[\n",
      "  \u001b[0;32m\"The Molecule Cloud - compact visualization of large collections of molecules\"\u001b[0m\u001b[1;39m\n",
      "\u001b[1;39m]\u001b[0m\n"
     ]
    }
   ],
   "source": [
    "!./crossref_api | jq '.[\"message\"][\"title\"]'"
   ]
  },
  {
   "cell_type": "code",
   "execution_count": 13,
   "metadata": {},
   "outputs": [
    {
     "name": "stdout",
     "output_type": "stream",
     "text": [
      "\u001b[0;39m2\u001b[0m\n"
     ]
    }
   ],
   "source": [
    "!./crossref_api | jq '.[\"message\"][\"author\"] | length'"
   ]
  },
  {
   "cell_type": "markdown",
   "metadata": {},
   "source": [
    "We can add our email and the custom doi to run the API call"
   ]
  },
  {
   "cell_type": "code",
   "execution_count": null,
   "metadata": {},
   "outputs": [],
   "source": [
    "!./crossref_api -d \"10.1186/1471-2105-15-172\" -e \"test22@ua.edu\"| jq '.'"
   ]
  },
  {
   "cell_type": "markdown",
   "id": "31a5a2f5-0f8a-4775-955e-7509b3cb515f",
   "metadata": {},
   "source": [
    "### Retrieve names from the file"
   ]
  },
  {
   "cell_type": "code",
   "execution_count": 15,
   "metadata": {},
   "outputs": [
    {
     "name": "stdout",
     "output_type": "stream",
     "text": [
      "\u001b[0;32m\"Peter\"\u001b[0m\n"
     ]
    }
   ],
   "source": [
    "!./crossref_api  | jq '.message.author[0].given'"
   ]
  },
  {
   "cell_type": "code",
   "execution_count": 5,
   "metadata": {},
   "outputs": [
    {
     "name": "stdout",
     "output_type": "stream",
     "text": [
      "Peter Ertl\n",
      "Bernhard Rohde\n"
     ]
    }
   ],
   "source": [
    "%%bash\n",
    "\n",
    "# Algorithm to filter the first name and title for a given doi\n",
    "\n",
    "# Calculate the number of data entries\n",
    "length=$(./crossref_api | jq '.[\"message\"][\"author\"] | length')\n",
    "\n",
    "# Sleep delay\n",
    "sleep 1 \n",
    "\n",
    "# Iterate through all the data entries\n",
    "for ((n = 0; n < $length; n++)); do\n",
    "\n",
    "    # Retrieve the first and last name\n",
    "    # Can also be uses as \"./crossref_api -d [doi]\" to input custom doi\n",
    "    first=$(./crossref_api  | jq \".message.author[$n].given\" | tr -d '\"')\n",
    "    \n",
    "    # Sleep delay\n",
    "    sleep 1\n",
    "    \n",
    "    last=$(./crossref_api | jq \".message.author[$n].family\" | tr -d '\"')\n",
    "    \n",
    "    # Sleep delay\n",
    "    sleep 1\n",
    "    \n",
    "    # Print the first and last name\n",
    "    echo \"$first $last\";\n",
    "    \n",
    "done"
   ]
  },
  {
   "cell_type": "markdown",
   "id": "6e978e6c-a0c9-47f6-962b-95e511a2bcbb",
   "metadata": {},
   "source": [
    "### Save JSON data to a file\n",
    "This is particularly useful for downstream testing or returning to results in the future (e.g., no need to keep requesting the data from crossref, save the results to a file)"
   ]
  },
  {
   "cell_type": "code",
   "execution_count": 17,
   "metadata": {},
   "outputs": [],
   "source": [
    "!./crossref_api | jq '.' > my_data.json"
   ]
  },
  {
   "cell_type": "markdown",
   "id": "f426c7d1-fa3b-41bd-8f76-cfcff48e78ff",
   "metadata": {},
   "source": [
    "## 2. Crossref API call with a Loop"
   ]
  },
  {
   "cell_type": "code",
   "execution_count": 24,
   "metadata": {},
   "outputs": [
    {
     "name": "stdout",
     "output_type": "stream",
     "text": [
      "{\n",
      "  \"publisher\": \"American Chemical Society (ACS)\",\n",
      "  \"issue\": \"36\",\n",
      "  \"title\": [\n",
      "    \"Navigating into the Chemical Space of Monoamine Oxidase Inhibitors by Artificial Intelligence and Cheminformatics Approach\"\n",
      "  ]\n",
      "}\n",
      "{\n",
      "  \"publisher\": \"American Chemical Society (ACS)\",\n",
      "  \"issue\": \"49\",\n",
      "  \"title\": [\n",
      "    \"Impact of Artificial Intelligence on Compound Discovery, Design, and Synthesis\"\n",
      "  ]\n",
      "}\n",
      "{\n",
      "  \"publisher\": \"American Chemical Society (ACS)\",\n",
      "  \"issue\": \"9\",\n",
      "  \"title\": [\n",
      "    \"How Precise Are Our Quantitative Structure–Activity Relationship Derived Predictions for New Query Chemicals?\"\n",
      "  ]\n",
      "}\n",
      "{\n",
      "  \"publisher\": \"American Chemical Society (ACS)\",\n",
      "  \"issue\": \"1\",\n",
      "  \"title\": [\n",
      "    \"Applying Neuromorphic Computing Simulation in Band Gap Prediction and Chemical Reaction Classification\"\n",
      "  ]\n",
      "}\n",
      "{\n",
      "  \"publisher\": \"American Chemical Society (ACS)\",\n",
      "  \"issue\": \"10\",\n",
      "  \"title\": [\n",
      "    \"QSPR Modeling of the Refractive Index for Diverse Polymers Using 2D Descriptors\"\n",
      "  ]\n",
      "}\n"
     ]
    }
   ],
   "source": [
    "%%bash\n",
    "\n",
    "# List of DOIs\n",
    "doi_List=('10.1021/acsomega.1c03250' '10.1021/acsomega.1c05512' '10.1021/acsomega.8b01647' '10.1021/acsomega.1c04287' '10.1021/acsomega.8b01834')\n",
    "\n",
    "for doi in \"${doi_List[@]}\"; do \n",
    "    # Retrieve the api data for each DOI\n",
    "    ./crossref_api -d \"$doi\" | jq '.message | {publisher, issue, title}'\n",
    "    \n",
    "    # Sleep delay\n",
    "    sleep 1 \n",
    "    \n",
    "done"
   ]
  },
  {
   "cell_type": "code",
   "execution_count": 8,
   "metadata": {},
   "outputs": [
    {
     "name": "stdout",
     "output_type": "stream",
     "text": [
      "\"Navigating into the Chemical Space of Monoamine Oxidase Inhibitors by Artificial Intelligence and Cheminformatics Approach\"\n",
      "\"Impact of Artificial Intelligence on Compound Discovery, Design, and Synthesis\"\n",
      "\"How Precise Are Our Quantitative Structure–Activity Relationship Derived Predictions for New Query Chemicals?\"\n",
      "\"Applying Neuromorphic Computing Simulation in Band Gap Prediction and Chemical Reaction Classification\"\n",
      "\"QSPR Modeling of the Refractive Index for Diverse Polymers Using 2D Descriptors\"\n"
     ]
    }
   ],
   "source": [
    "%%bash\n",
    "\n",
    "# List of dois\n",
    "doi_List=('10.1021/acsomega.1c03250' '10.1021/acsomega.1c05512' '10.1021/acsomega.8b01647' '10.1021/acsomega.1c04287' '10.1021/acsomega.8b01834')\n",
    "\n",
    "for doi in \"${doi_List[@]}\"; do \n",
    "\n",
    "    # Retrieve the title for the DOI\n",
    "    ./crossref_api -d \"$doi\" | jq '.[\"message\"][\"title\"][0]'\n",
    "\n",
    "    # Sleep delay\n",
    "    sleep 1 \n",
    "\n",
    "done"
   ]
  },
  {
   "cell_type": "code",
   "execution_count": 9,
   "metadata": {},
   "outputs": [
    {
     "name": "stdout",
     "output_type": "stream",
     "text": [
      "\"Department of Pharmaceutical Chemistry and Analysis, Amrita School of Pharmacy, Amrita Vishwa Vidyapeetham, AIMS Health Sciences Campus, Kochi 682041, India\"\n",
      "\"Department of Pharmaceutical Chemistry and Analysis, Amrita School of Pharmacy, Amrita Vishwa Vidyapeetham, AIMS Health Sciences Campus, Kochi 682041, India\"\n",
      "\"Department of Pharmaceutical Chemistry and Analysis, Amrita School of Pharmacy, Amrita Vishwa Vidyapeetham, AIMS Health Sciences Campus, Kochi 682041, India\"\n",
      "\"Department of Pharmaceutical Chemistry and Analysis, Amrita School of Pharmacy, Amrita Vishwa Vidyapeetham, AIMS Health Sciences Campus, Kochi 682041, India\"\n",
      "\"Department of Pharmaceutical Chemistry and Analysis, Amrita School of Pharmacy, Amrita Vishwa Vidyapeetham, AIMS Health Sciences Campus, Kochi 682041, India\"\n",
      "\"Department of Pharmaceutics and Industrial Pharmacy, College of Pharmacy, Taif University, P.O. Box 11099, Taif 21944, Saudi Arabia\"\n",
      "\"Department of Pharmaceutical Chemistry, College of Pharmacy, Jouf University, Sakaka, Al Jouf 72341, Saudi Arabia\"\n",
      "\"Department of Pharmaceutical Chemistry and Analysis, Amrita School of Pharmacy, Amrita Vishwa Vidyapeetham, AIMS Health Sciences Campus, Kochi 682041, India\"\n",
      "\"Department of Life Science Informatics and Data Science, B-IT, LIMES Program Unit Chemical Biology and Medicinal Chemistry, Rheinische Friedrich-Wilhelms-Universität, Friedrich-Hirzebruch-Allee 6, D-53115 Bonn, Germany\"\n",
      "\"Department of Life Science Informatics and Data Science, B-IT, LIMES Program Unit Chemical Biology and Medicinal Chemistry, Rheinische Friedrich-Wilhelms-Universität, Friedrich-Hirzebruch-Allee 6, D-53115 Bonn, Germany\"\n",
      "\"Department of Life Science Informatics and Data Science, B-IT, LIMES Program Unit Chemical Biology and Medicinal Chemistry, Rheinische Friedrich-Wilhelms-Universität, Friedrich-Hirzebruch-Allee 6, D-53115 Bonn, Germany\"\n",
      "\"Drug Theoretics and Cheminformatics Laboratory, Department of Pharmaceutical Technology, Jadavpur University, Kolkata 700 032, India\"\n",
      "\"Drug Theoretics and Cheminformatics Laboratory, Department of Pharmaceutical Technology, Jadavpur University, Kolkata 700 032, India\"\n",
      "\"Interdisciplinary Center for Nanotoxicity, Department of Chemistry, Physics and Atmospheric Sciences, Jackson State University, Jackson, Mississippi 39217, United States\"\n",
      "\"Department of Chemical and Biomolecular Engineering, The Ohio State University, Columbus, Ohio 43210, United States\"\n",
      "\"Department of Chemical and Biomolecular Engineering, The Ohio State University, Columbus, Ohio 43210, United States\"\n",
      "\"Department of Chemical and Biomolecular Engineering, The Ohio State University, Columbus, Ohio 43210, United States\"\n",
      "\"Department of Chemical and Biomolecular Engineering, The Ohio State University, Columbus, Ohio 43210, United States\"\n",
      "\"Department of Pharmacoinformatics, National Institute of Pharmaceutical Educational and Research (NIPER), Chunilal Bhawan, 168, Manikata Main Road, 700054 Kolkata, India\"\n",
      "\"Department of Coatings and Polymeric Materials, North Dakota State University, Fargo, North Dakota 58108-6050, United States\"\n",
      "\"Drug Theoretics and Cheminformatics Laboratory, Division of Medicinal and Pharmaceutical Chemistry, Department of Pharmaceutical Technology, Jadavpur University, 700032 Kolkata, India\"\n"
     ]
    }
   ],
   "source": [
    "%%bash\n",
    "\n",
    "# List of dois\n",
    "doi_List=('10.1021/acsomega.1c03250' '10.1021/acsomega.1c05512' '10.1021/acsomega.8b01647' '10.1021/acsomega.1c04287' '10.1021/acsomega.8b01834')\n",
    "\n",
    "for doi in \"${doi_List[@]}\";do \n",
    "\n",
    "    # Retrieve the author name\n",
    "    ./crossref_api -d \"$doi\" | jq '.[\"message\"][\"author\"][].affiliation[0].name'\n",
    "    \n",
    "    # Sleep delay\n",
    "    sleep 1\n",
    "\n",
    "done"
   ]
  },
  {
   "cell_type": "markdown",
   "id": "182a7207-0a54-414e-8b06-1fdfadd8d15b",
   "metadata": {},
   "source": [
    "## 3. Crossref API call for journal information"
   ]
  },
  {
   "cell_type": "markdown",
   "metadata": {},
   "source": [
    "We change the directory back to the CrossRef folder to create a new one for our project"
   ]
  },
  {
   "cell_type": "code",
   "execution_count": null,
   "metadata": {},
   "outputs": [],
   "source": [
    "%cd .."
   ]
  },
  {
   "cell_type": "markdown",
   "metadata": {},
   "source": [
    "We set a directory where we want the the jornal_api program to be made"
   ]
  },
  {
   "cell_type": "code",
   "execution_count": 22,
   "metadata": {},
   "outputs": [],
   "source": [
    "!mkdir journal_api"
   ]
  },
  {
   "cell_type": "markdown",
   "metadata": {},
   "source": [
    "Then we change the directory to the folder we created"
   ]
  },
  {
   "cell_type": "code",
   "execution_count": null,
   "metadata": {},
   "outputs": [],
   "source": [
    "%cd journal_api"
   ]
  },
  {
   "cell_type": "markdown",
   "metadata": {},
   "source": [
    "Then we utilize the `%%file` command to create the following makefile which will compile our program and create an executable."
   ]
  },
  {
   "cell_type": "code",
   "execution_count": 26,
   "metadata": {},
   "outputs": [
    {
     "name": "stdout",
     "output_type": "stream",
     "text": [
      "Overwriting makefile\n"
     ]
    }
   ],
   "source": [
    "%%file makefile\n",
    "\n",
    "# Set the variable CC to gcc, which is used to build the program\n",
    "CC=gcc\n",
    "\n",
    "# Enable debugging information and enable all compiler warnings\n",
    "CFLAGS=-g -Wall\n",
    "\n",
    "# Set the bin variable as the name of the binary file we are creating\n",
    "BIN=journal_api\n",
    "\n",
    "# Create the binary file with the name we put\n",
    "all: $(BIN)\n",
    "\n",
    "# Map any file ending in .c to a binary executable. \n",
    "# \"$<\" represents the .c file and \"$@\" represents the target binary executable\n",
    "%: %.c\n",
    "\n",
    "\t# Compile the .c file using the gcc compiler with the CFLAGS and links \n",
    "\t# resulting binary with the CURL library\n",
    "\t$(CC) $(CFLAGS) $< -o $@ -lcurl\n",
    "\n",
    "# Clean target which removes specific files\n",
    "clean:\n",
    "\n",
    "\t# Remove the binary file and an \".dSYM\" (debug symbols for debugging) directories\n",
    "\t# the RM command used -r to remove directories and -f to force delete\n",
    "\t$(RM) -rf $(BIN) *.dSYM"
   ]
  },
  {
   "cell_type": "markdown",
   "metadata": {},
   "source": [
    "The command is used again to create our .c file which contains the code for the program"
   ]
  },
  {
   "cell_type": "code",
   "execution_count": 27,
   "metadata": {},
   "outputs": [
    {
     "name": "stdout",
     "output_type": "stream",
     "text": [
      "Writing journal_api.c\n"
     ]
    }
   ],
   "source": [
    "%%file journal_api.c\n",
    "\n",
    "#include <curl/curl.h>\n",
    "#include <stdio.h>\n",
    "#include <stdlib.h>\n",
    "#include <string.h>\n",
    "\n",
    "/*CURL program that retrieves the journal JSON data from the CrossRef API\n",
    "This program allows custom request to be used along with the parameter*/\n",
    "\n",
    "\n",
    "/* We are going to be inputting the custom email and issn with query like this: ./crossref_api -e \"your_email@ua.edu\" -i \"1471-2105\"\n",
    "If the arguments are missing then we use the default: \"your_email@ua.edu\" \"1471-2105\"\n",
    "*/\n",
    "\n",
    "int main (int argc, char* argv[]) {\n",
    "    \n",
    "    // If arguments are invalid then return\n",
    "    if (argc > 5){                                                                                      \n",
    "        printf(\"Error. Please try again correctly.\\n\");\n",
    "        return -1;\n",
    "    }\n",
    "\n",
    "    // Default parameter and request codes\n",
    "    char parameter[100] = {};\n",
    "    char request[500] = {}; \n",
    "\n",
    "    // If there is ./crossref_api -e/-i\n",
    "    if ((argc == 1) || ((argc == 2) && ((strcmp(argv[1], \"-e\")==0) || (strcmp(argv[1], \"-i\")==0)))) {\n",
    "        // These arguments run the default parameters and keeps the codes as they are\n",
    "        strcat(parameter,\"your_email@ua.edu\");\n",
    "        strcat(request, \"1471-2105\");\n",
    "    }\n",
    "\n",
    "    // If there is ./crossref_api -e \"your_email@ua.edu\"\n",
    "    else if ((argc == 3) && (strcmp(argv[1], \"-e\")==0)) {\n",
    "        // Only the parameter code is changed\n",
    "        strcat(parameter,argv[2]);\n",
    "        strcat(request, \"1471-2105\");\n",
    "    }\n",
    "\n",
    "    // If there is ./crossref_api -e \"your_email@ua.edu\" -i\n",
    "    else if ((argc == 4) && (strcmp(argv[1], \"-e\")==0) && (strcmp(argv[3], \"-i\")==0)) {\n",
    "        // Only the parameter code is changed\n",
    "        strcat(parameter,argv[2]);\n",
    "        strcat(request, \"1471-2105\");\n",
    "    }\n",
    "\n",
    "    // If there is ./crossref_api -e \"your_email@ua.edu\" -i \"1471-2105\"\n",
    "    else if ((argc == 5) && (strcmp(argv[1], \"-e\")==0) && (strcmp(argv[3], \"-i\")==0)) {\n",
    "        // Both the parameter and request codes are changed\n",
    "        strcat(parameter,argv[2]);\n",
    "        strcat(request, argv[4]);\n",
    "    }\n",
    "\n",
    "    // If there is ./crossref_api -i \"1471-2105\"\n",
    "    else if ((argc == 3) && (strcmp(argv[1], \"-i\")==0)) {\n",
    "        // Only the request code is changed\n",
    "        strcat(parameter,\"your_email@ua.edu\");\n",
    "        strcat(request, argv[2]);\n",
    "    }\n",
    "\n",
    "    // If there is ./crossref_api -i \"1471-2105\" -e\n",
    "    else if ((argc == 4) && (strcmp(argv[1], \"-i\")==0) && (strcmp(argv[3], \"-e\")==0)) {\n",
    "        // Only the request code is changed\n",
    "        strcat(parameter,\"your_email@ua.edu\");\n",
    "        strcat(request, argv[2]);\n",
    "    }\n",
    "\n",
    "    // If there is ./crossref_api -i \"1471-2105\" -e \"your_email@ua.edu\" \n",
    "    else if ((argc == 5) && (strcmp(argv[1], \"-i\")==0) && (strcmp(argv[3], \"-e\")==0)) {\n",
    "        // Both the request and parameter codes are changed\n",
    "        strcat(parameter,argv[4]);\n",
    "        strcat(request, argv[2]);\n",
    "    }\n",
    "\n",
    "    else {\n",
    "        printf(\"usage: ./crossref_api [-i] request [-e] parameter\\n\\n\");\n",
    "        printf(\"the api_req_par program is used to retrieve json data from the CrossRef API\\n\\n\");\n",
    "        printf(\"optional arguments\\n\");\n",
    "        printf(\"\\t -i issn with query         optional custom issn code; default is '1471-2105'\\n\");\n",
    "        printf(\"\\t -e email                   optional custom email; default is 'your_email@ua.edu'\\n\");\n",
    "        return -1;\n",
    "    }\n",
    "\n",
    "    // Initialize the CURL HTTP connection\n",
    "    CURL *curl = curl_easy_init();\n",
    "\n",
    "    // Bits of the url that are joined together later\n",
    "    char api[] = \"https://api.crossref.org/journals/\";                                                                     \n",
    "    char type1[] = \"?mailto=\";                        \n",
    "    char url[2000];\n",
    "\n",
    "    // Check if CURL initialization is a success or not\n",
    "    if (!curl) {                                                                                         \n",
    "        fprintf(stderr, \"init failed\\n\");\n",
    "        return EXIT_FAILURE;\n",
    "    }\n",
    "        \n",
    "    // Combine all the bits to produce a functioning url\n",
    "    sprintf(url, \"%s%s%s%s\", api, request, type1, parameter);                                             \n",
    "                                          \n",
    "    \n",
    "    // Set the url to which the HTTP request will be sent to\n",
    "    // first parameter is for the initialized curl HTTP request, second for the option to be set, and third for the value to be set\n",
    "    curl_easy_setopt(curl, CURLOPT_URL, url);\n",
    "\n",
    "    // If result is not retrieved then output error\n",
    "    CURLcode result = curl_easy_perform(curl);\n",
    "\n",
    "    // If result is not retrieved then output error\n",
    "    if (result != CURLE_OK) {                                                                            \n",
    "        fprintf(stderr, \"download problem: %s\\n\", curl_easy_strerror(result));\n",
    "    }\n",
    "\n",
    "    // Deallocate memory for the CURL connection\n",
    "    curl_easy_cleanup(curl);                                                                            \n",
    "    return EXIT_SUCCESS;\n",
    "}"
   ]
  },
  {
   "cell_type": "code",
   "execution_count": 28,
   "metadata": {},
   "outputs": [
    {
     "name": "stdout",
     "output_type": "stream",
     "text": [
      "# Compile the .c file using the gcc compiler with the CFLAGS and links \n",
      "# resulting binary with the CURL library\n",
      "gcc -g -Wall journal_api.c -o journal_api -lcurl\n"
     ]
    }
   ],
   "source": [
    "!make"
   ]
  },
  {
   "cell_type": "code",
   "execution_count": 33,
   "metadata": {},
   "outputs": [
    {
     "name": "stdout",
     "output_type": "stream",
     "text": [
      "\u001b[1;39m{\n",
      "  \u001b[0m\u001b[34;1m\"publisher\"\u001b[0m\u001b[1;39m: \u001b[0m\u001b[0;32m\"Springer (Biomed Central Ltd.)\"\u001b[0m\u001b[1;39m,\n",
      "  \u001b[0m\u001b[34;1m\"coverage\"\u001b[0m\u001b[1;39m: \u001b[0m\u001b[1;39m{\n",
      "    \u001b[0m\u001b[34;1m\"affiliations-current\"\u001b[0m\u001b[1;39m: \u001b[0m\u001b[0;39m0\u001b[0m\u001b[1;39m,\n",
      "    \u001b[0m\u001b[34;1m\"similarity-checking-current\"\u001b[0m\u001b[1;39m: \u001b[0m\u001b[0;39m1\u001b[0m\u001b[1;39m,\n",
      "    \u001b[0m\u001b[34;1m\"descriptions-current\"\u001b[0m\u001b[1;39m: \u001b[0m\u001b[0;39m0\u001b[0m\u001b[1;39m,\n",
      "    \u001b[0m\u001b[34;1m\"ror-ids-current\"\u001b[0m\u001b[1;39m: \u001b[0m\u001b[0;39m0\u001b[0m\u001b[1;39m,\n",
      "    \u001b[0m\u001b[34;1m\"funders-backfile\"\u001b[0m\u001b[1;39m: \u001b[0m\u001b[0;39m0.1991365353480842\u001b[0m\u001b[1;39m,\n",
      "    \u001b[0m\u001b[34;1m\"licenses-backfile\"\u001b[0m\u001b[1;39m: \u001b[0m\u001b[0;39m0.6345565749235474\u001b[0m\u001b[1;39m,\n",
      "    \u001b[0m\u001b[34;1m\"funders-current\"\u001b[0m\u001b[1;39m: \u001b[0m\u001b[0;39m0.7076382791922738\u001b[0m\u001b[1;39m,\n",
      "    \u001b[0m\u001b[34;1m\"affiliations-backfile\"\u001b[0m\u001b[1;39m: \u001b[0m\u001b[0;39m0\u001b[0m\u001b[1;39m,\n",
      "    \u001b[0m\u001b[34;1m\"resource-links-backfile\"\u001b[0m\u001b[1;39m: \u001b[0m\u001b[0;39m0.6340169095161\u001b[0m\u001b[1;39m,\n",
      "    \u001b[0m\u001b[34;1m\"orcids-backfile\"\u001b[0m\u001b[1;39m: \u001b[0m\u001b[0;39m0.1578521316783594\u001b[0m\u001b[1;39m,\n",
      "    \u001b[0m\u001b[34;1m\"update-policies-current\"\u001b[0m\u001b[1;39m: \u001b[0m\u001b[0;39m1\u001b[0m\u001b[1;39m,\n",
      "    \u001b[0m\u001b[34;1m\"ror-ids-backfile\"\u001b[0m\u001b[1;39m: \u001b[0m\u001b[0;39m0\u001b[0m\u001b[1;39m,\n",
      "    \u001b[0m\u001b[34;1m\"orcids-current\"\u001b[0m\u001b[1;39m: \u001b[0m\u001b[0;39m0.2642669007901668\u001b[0m\u001b[1;39m,\n",
      "    \u001b[0m\u001b[34;1m\"similarity-checking-backfile\"\u001b[0m\u001b[1;39m: \u001b[0m\u001b[0;39m0.9999100557654254\u001b[0m\u001b[1;39m,\n",
      "    \u001b[0m\u001b[34;1m\"references-backfile\"\u001b[0m\u001b[1;39m: \u001b[0m\u001b[0;39m0.9846195358877496\u001b[0m\u001b[1;39m,\n",
      "    \u001b[0m\u001b[34;1m\"descriptions-backfile\"\u001b[0m\u001b[1;39m: \u001b[0m\u001b[0;39m0\u001b[0m\u001b[1;39m,\n",
      "    \u001b[0m\u001b[34;1m\"award-numbers-backfile\"\u001b[0m\u001b[1;39m: \u001b[0m\u001b[0;39m0.1800683576182767\u001b[0m\u001b[1;39m,\n",
      "    \u001b[0m\u001b[34;1m\"update-policies-backfile\"\u001b[0m\u001b[1;39m: \u001b[0m\u001b[0;39m0.7215326497571506\u001b[0m\u001b[1;39m,\n",
      "    \u001b[0m\u001b[34;1m\"licenses-current\"\u001b[0m\u001b[1;39m: \u001b[0m\u001b[0;39m1\u001b[0m\u001b[1;39m,\n",
      "    \u001b[0m\u001b[34;1m\"award-numbers-current\"\u001b[0m\u001b[1;39m: \u001b[0m\u001b[0;39m0.6382791922739245\u001b[0m\u001b[1;39m,\n",
      "    \u001b[0m\u001b[34;1m\"abstracts-backfile\"\u001b[0m\u001b[1;39m: \u001b[0m\u001b[0;39m0.4049289440546861\u001b[0m\u001b[1;39m,\n",
      "    \u001b[0m\u001b[34;1m\"resource-links-current\"\u001b[0m\u001b[1;39m: \u001b[0m\u001b[0;39m1\u001b[0m\u001b[1;39m,\n",
      "    \u001b[0m\u001b[34;1m\"abstracts-current\"\u001b[0m\u001b[1;39m: \u001b[0m\u001b[0;39m0.9754170324846356\u001b[0m\u001b[1;39m,\n",
      "    \u001b[0m\u001b[34;1m\"references-current\"\u001b[0m\u001b[1;39m: \u001b[0m\u001b[0;39m0.9982440737489024\u001b[0m\u001b[1;39m\n",
      "  \u001b[1;39m}\u001b[0m\u001b[1;39m,\n",
      "  \u001b[0m\u001b[34;1m\"title\"\u001b[0m\u001b[1;39m: \u001b[0m\u001b[0;32m\"BMC Bioinformatics\"\u001b[0m\u001b[1;39m\n",
      "\u001b[1;39m}\u001b[0m\n"
     ]
    }
   ],
   "source": [
    "!./journal_api | jq '.message | {publisher, coverage, title}'"
   ]
  },
  {
   "cell_type": "markdown",
   "id": "6cce789b-760d-4e09-9320-25a43461386b",
   "metadata": {},
   "source": [
    "## 4. Crossref API - Get article DOIs for a journal"
   ]
  },
  {
   "cell_type": "markdown",
   "id": "1944cec3-7b30-4ef1-94dd-fc8652514a7a",
   "metadata": {},
   "source": [
    "### Request DOI data from crossref API"
   ]
  },
  {
   "cell_type": "markdown",
   "metadata": {},
   "source": [
    "We change the directory back to the CrossRef folder to create a new one for our project"
   ]
  },
  {
   "cell_type": "code",
   "execution_count": null,
   "metadata": {},
   "outputs": [],
   "source": [
    "%cd .."
   ]
  },
  {
   "cell_type": "markdown",
   "metadata": {},
   "source": [
    "We set a directory where we want the the jornal_api program to be made"
   ]
  },
  {
   "cell_type": "code",
   "execution_count": 29,
   "metadata": {},
   "outputs": [],
   "source": [
    "!mkdir journal_doi_api"
   ]
  },
  {
   "cell_type": "markdown",
   "metadata": {},
   "source": [
    "Then we change the directory to the folder we created"
   ]
  },
  {
   "cell_type": "code",
   "execution_count": null,
   "metadata": {},
   "outputs": [],
   "source": [
    "%cd journal_doi_api"
   ]
  },
  {
   "cell_type": "markdown",
   "metadata": {},
   "source": [
    "Then we utilize the `%%file` command to create the following makefile which will compile our program and create an executable."
   ]
  },
  {
   "cell_type": "code",
   "execution_count": 14,
   "metadata": {},
   "outputs": [
    {
     "name": "stdout",
     "output_type": "stream",
     "text": [
      "Overwriting makefile\n"
     ]
    }
   ],
   "source": [
    "%%file makefile\n",
    "\n",
    "# Set the variable CC to gcc, which is used to build the program\n",
    "CC=gcc\n",
    "\n",
    "# Enable debugging information and enable all compiler warnings\n",
    "CFLAGS=-g -Wall\n",
    "\n",
    "# Set the bin variable as the name of the binary file we are creating\n",
    "BIN=journal_doi\n",
    "\n",
    "# Create the binary file with the name we put\n",
    "all: $(BIN)\n",
    "\n",
    "# Map any file ending in .c to a binary executable. \n",
    "# \"$<\" represents the .c file and \"$@\" represents the target binary executable\n",
    "%: %.c\n",
    "\n",
    "\t# Compile the .c file using the gcc compiler with the CFLAGS and links \n",
    "\t# resulting binary with the CURL library\n",
    "\t$(CC) $(CFLAGS) $< -o $@ -lcurl\n",
    "\n",
    "# Clean target which removes specific files\n",
    "clean:\n",
    "\n",
    "\t# Remove the binary file and an \".dSYM\" (debug symbols for debugging) directories\n",
    "\t# the RM command used -r to remove directories and -f to force delete\n",
    "\t$(RM) -rf $(BIN) *.dSYM"
   ]
  },
  {
   "cell_type": "markdown",
   "metadata": {},
   "source": [
    "The command is used again to create our .c file which contains the code for the program"
   ]
  },
  {
   "cell_type": "code",
   "execution_count": 15,
   "metadata": {},
   "outputs": [
    {
     "name": "stdout",
     "output_type": "stream",
     "text": [
      "Writing journal_doi.c\n"
     ]
    }
   ],
   "source": [
    "%%file journal_doi.c\n",
    "\n",
    "#include <curl/curl.h>\n",
    "#include <stdio.h>\n",
    "#include <stdlib.h>\n",
    "#include <string.h>\n",
    "\n",
    "/* CURL program that retrieves the journal JSON data from the CrossRef API\n",
    "This program allows custom request to be used along with the parameter */\n",
    "\n",
    "\n",
    "/* We are going to be inputting the custom email and issn with query like this: ./crossref_api -e \"your_email@ua.edu\" -i \"1471-2105\"\n",
    "If the arguments are missing then we use the default: \"your_email@ua.edu\" \"1471-2105\"\n",
    "*/\n",
    "\n",
    "int main (int argc, char* argv[]) {\n",
    "    \n",
    "    // If arguments are invalid just return\n",
    "    if (argc > 5){                                                                                      \n",
    "        printf(\"Error. Please try again correctly.\\n\");\n",
    "        return -1;\n",
    "    }\n",
    "\n",
    "    // Default parameter and request codes\n",
    "    char parameter[100] = {};\n",
    "    char request[500] = {}; \n",
    "\n",
    "    // If there is ./crossref_api -e/-i\n",
    "    if ((argc == 1) || ((argc == 2) && ((strcmp(argv[1], \"-e\")==0) || (strcmp(argv[1], \"-i\")==0)))) {\n",
    "        // These arguments run the default parameters and keeps the codes as they are\n",
    "        strcat(parameter,\"your_email@ua.edu\");\n",
    "        strcat(request, \"1471-2105\");\n",
    "    }\n",
    "\n",
    "    // If there is ./crossref_api -e \"your_email@ua.edu\"\n",
    "    else if ((argc == 3) && (strcmp(argv[1], \"-e\")==0)) {\n",
    "        // Only the parameter code is changed\n",
    "        strcat(parameter,argv[2]);\n",
    "        strcat(request, \"1471-2105\");\n",
    "    }\n",
    "\n",
    "    // If there is ./crossref_api -e \"your_email@ua.edu\" -i\n",
    "    else if ((argc == 4) && (strcmp(argv[1], \"-e\")==0) && (strcmp(argv[3], \"-i\")==0)) {\n",
    "        // Only the parameter code is changed\n",
    "        strcat(parameter,argv[2]);\n",
    "        strcat(request, \"1471-2105\");\n",
    "    }\n",
    "\n",
    "    // If there is ./crossref_api -e \"your_email@ua.edu\" -i \"1471-2105\"\n",
    "    else if ((argc == 5) && (strcmp(argv[1], \"-e\")==0) && (strcmp(argv[3], \"-i\")==0)) {\n",
    "        // Both the parameter and request codes are changed\n",
    "        strcat(parameter,argv[2]);\n",
    "        strcat(request, argv[4]);\n",
    "    }\n",
    "\n",
    "    // If there is ./crossref_api -i \"1471-2105\"\n",
    "    else if ((argc == 3) && (strcmp(argv[1], \"-i\")==0)){\n",
    "        // Only the request code is changed\n",
    "        strcat(parameter,\"your_email@ua.edu\");\n",
    "        strcat(request, argv[2]);\n",
    "    }\n",
    "\n",
    "    // If there is ./crossref_api -i \"1471-2105\" -e\n",
    "    else if ((argc == 4) && (strcmp(argv[1], \"-i\")==0) && (strcmp(argv[3], \"-e\")==0)) {\n",
    "        // Only the request code is changed\n",
    "        strcat(parameter,\"your_email@ua.edu\");\n",
    "        strcat(request, argv[2]);\n",
    "    }\n",
    "\n",
    "    // If there is ./crossref_api -i \"1471-2105\" -e \"your_email@ua.edu\" \n",
    "    else if ((argc == 5) && (strcmp(argv[1], \"-i\")==0) && (strcmp(argv[3], \"-e\")==0)) {\n",
    "        // Both the request and parameter codes are changed\n",
    "        strcat(parameter,argv[4]);\n",
    "        strcat(request, argv[2]);\n",
    "    }\n",
    "\n",
    "    else{\n",
    "        printf(\"usage: ./crossref_api [-i] request [-e] parameter\\n\\n\");\n",
    "        printf(\"the api_req_par program is used to retrieve json data from the CrossRef API\\n\\n\");\n",
    "        printf(\"optional arguments\\n\");\n",
    "        printf(\"\\t -i issn with query         optional custom issn code; default is '1471-2105'\\n\");\n",
    "        printf(\"\\t -e email                   optional custom email; default is 'your_email@ua.edu'\\n\");\n",
    "        return -1;\n",
    "    }\n",
    "\n",
    "    // Initialize the CURL HTTP connection\n",
    "    CURL *curl = curl_easy_init();\n",
    "\n",
    "    // Bits of the url that are joined together later\n",
    "    char api[] = \"https://api.crossref.org/journals/\";                                                                     \n",
    "    char type1[] = \"&mailto=\";                        \n",
    "    char url[2000];\n",
    "\n",
    "    // Check if CURL initialization is a success or not\n",
    "    if (!curl) {                                                                                         \n",
    "        fprintf(stderr, \"init failed\\n\");\n",
    "        return EXIT_FAILURE;\n",
    "    }\n",
    "        \n",
    "    // Combine all the bits to produce a functioning url\n",
    "    sprintf(url, \"%s%s%s%s\", api, request, type1, parameter);                                             \n",
    "                                          \n",
    "    \n",
    "    // Set the url to which the HTTP request will be sent to\n",
    "    // first parameter is for the initialized curl HTTP request, second for the option to be set, and third for the value to be set\n",
    "    curl_easy_setopt(curl, CURLOPT_URL, url);\n",
    "\n",
    "    // If result is not retrieved then output error\n",
    "    CURLcode result = curl_easy_perform(curl);\n",
    "\n",
    "    // If result is not retrieved then output error\n",
    "    if (result != CURLE_OK){                                                                            \n",
    "        fprintf(stderr, \"download problem: %s\\n\", curl_easy_strerror(result));\n",
    "    }\n",
    "\n",
    "    // Deallocate memory for the CURL connection\n",
    "    curl_easy_cleanup(curl);                                                                            \n",
    "    return EXIT_SUCCESS;\n",
    "}"
   ]
  },
  {
   "cell_type": "code",
   "execution_count": 16,
   "metadata": {},
   "outputs": [
    {
     "name": "stdout",
     "output_type": "stream",
     "text": [
      "# Compile the .c file using the gcc compiler with the CFLAGS and links \n",
      "# resulting binary with the CURL library\n",
      "gcc -g -Wall journal_doi.c -o journal_doi -lcurl\n"
     ]
    }
   ],
   "source": [
    "!make"
   ]
  },
  {
   "cell_type": "code",
   "execution_count": 19,
   "id": "694bf981-022e-4a97-a44a-8f93e82e11aa",
   "metadata": {},
   "outputs": [
    {
     "name": "stdout",
     "output_type": "stream",
     "text": [
      "{\n",
      "  \"status\": \"ok\",\n",
      "  \"message-type\": \"work-list\",\n",
      "  \"message-version\": \"1.0.0\",\n",
      "  \"message\": {\n",
      "    \"facets\": {},\n",
      "    \"total-results\": 620,\n",
      "    \"items\": [\n",
      "      {\n",
      "        \"DOI\": \"10.1186/1471-2105-15-s10-p32\"\n"
     ]
    }
   ],
   "source": [
    "!./journal_doi -i \"1471-2105/works?filter=from-pub-date:2014,until-pub-date:2014&select=DOI\"| jq '.' | head -n 10"
   ]
  },
  {
   "cell_type": "markdown",
   "id": "cdc57bfe-c0c5-4f46-afb2-8d77815dbc4c",
   "metadata": {},
   "source": [
    "By default, 20 results are displayed. Crossref allows up to 1000 returned results using the rows parameter. To get all 619 results, we can increase the number of returned rows."
   ]
  },
  {
   "cell_type": "markdown",
   "metadata": {},
   "source": [
    "We add the following to our query \"&rows=700\" to view all results"
   ]
  },
  {
   "cell_type": "code",
   "execution_count": 35,
   "metadata": {},
   "outputs": [],
   "source": [
    "!./journal_doi -i \"1471-2105/works?filter=from-pub-date:2014,until-pub-date:2014&select=DOI&rows=700\"| jq '.' > dois_save.json"
   ]
  },
  {
   "cell_type": "markdown",
   "id": "c028bd96-737c-457d-839e-23be6e248bef",
   "metadata": {},
   "source": [
    "### Extract DOIs"
   ]
  },
  {
   "cell_type": "code",
   "execution_count": 37,
   "metadata": {},
   "outputs": [
    {
     "name": "stdout",
     "output_type": "stream",
     "text": [
      "\u001b[0;32m\"10.1186/1471-2105-15-s10-p32\"\u001b[0m\n",
      "\u001b[0;32m\"10.1186/1471-2105-15-s16-s13\"\u001b[0m\n",
      "\u001b[0;32m\"10.1186/s12859-014-0411-1\"\u001b[0m\n",
      "\u001b[0;32m\"10.1186/1471-2105-15-s10-p24\"\u001b[0m\n",
      "\u001b[0;32m\"10.1186/1471-2105-15-318\"\u001b[0m\n"
     ]
    }
   ],
   "source": [
    "!cat dois_save.json | jq '.[\"message\"][\"items\"][:5][].DOI'"
   ]
  },
  {
   "cell_type": "code",
   "execution_count": 37,
   "metadata": {},
   "outputs": [
    {
     "name": "stdout",
     "output_type": "stream",
     "text": [
      "619\n"
     ]
    }
   ],
   "source": [
    "!cat dois_save.json | jq '.[\"message\"][\"items\"][].DOI' | wc -l"
   ]
  },
  {
   "cell_type": "markdown",
   "id": "93c11e91-332b-4559-bf88-0882fd24e430",
   "metadata": {},
   "source": [
    "\n",
    "**What if we have more than 1000 results in a single query?**\n",
    "\n",
    "For example, if we wanted the DOIs from *BMC Bioinformatics* for years 2014 through 2016?"
   ]
  },
  {
   "cell_type": "code",
   "execution_count": 38,
   "metadata": {},
   "outputs": [
    {
     "name": "stdout",
     "output_type": "stream",
     "text": [
      "{\n",
      "  \"status\": \"ok\",\n",
      "  \"message-type\": \"work-list\",\n",
      "  \"message-version\": \"1.0.0\",\n",
      "  \"message\": {\n",
      "    \"facets\": {},\n",
      "    \"total-results\": 1773,\n",
      "    \"items\": [\n",
      "      {\n",
      "        \"DOI\": \"10.1186/s12859-015-0468-5\"\n"
     ]
    }
   ],
   "source": [
    "!./journal_doi -i \"1471-2105/works?filter=from-pub-date:2014,until-pub-date:2016&select=DOI\"| jq '.' | head -n 10"
   ]
  },
  {
   "cell_type": "markdown",
   "id": "93c11e91-332b-4559-bf88-0882fd24e430",
   "metadata": {},
   "source": [
    "For example, if we wanted the DOIs from BMC Bioinformatics for years 2014 through 2016, we see that there are 1772 DOIs:"
   ]
  },
  {
   "cell_type": "code",
   "execution_count": 39,
   "metadata": {},
   "outputs": [
    {
     "name": "stdout",
     "output_type": "stream",
     "text": [
      "\u001b[0;39m1772\u001b[0m\n"
     ]
    }
   ],
   "source": [
    "!./journal_doi -i \"1471-2105/works?filter=from-pub-date:2014,until-pub-date:2016&select=DOI\"| jq '.[\"message\"][\"total-results\"]'"
   ]
  },
  {
   "cell_type": "markdown",
   "id": "540fcfe6-d472-4488-ba82-b27dc793d10c",
   "metadata": {},
   "source": [
    "Here we see that the total results is over 1000 (total-results: 1772). An additional parameter that we can use with crossref API is called \"offset\". The offset option allows us to select sets of records and define a starting position (e.g., the first 1000, and then the second set of up to 1000.)"
   ]
  },
  {
   "cell_type": "markdown",
   "id": "540fcfe6-d472-4488-ba82-b27dc793d10c",
   "metadata": {},
   "source": [
    "We add the `%%bash` command run the whole loop"
   ]
  },
  {
   "cell_type": "code",
   "execution_count": 40,
   "metadata": {},
   "outputs": [],
   "source": [
    "%%bash\n",
    "\n",
    "# Retrieve the number of results\n",
    "length=$(./journal_doi -i \"1471-2105/works?filter=from-pub-date:2014,until-pub-date:2016&select=DOI\" | jq '.[\"message\"][\"total-results\"]')\n",
    "\n",
    "# Sleep delay\n",
    "sleep 1\n",
    "\n",
    "# Iterate throught the results with for loop using the offset option\n",
    "for ((n = 0; n < $length; n += 1000)); do\n",
    "    \n",
    "    # Retrieve the doi for each id and append to the dois_save2.txt\n",
    "    ./journal_doi -i \"1471-2105/works?filter=from-pub-date:2014,until-pub-date:2016&select=DOI&rows=1000&offset=$n\" | jq '.[\"message\"][\"items\"][].DOI' >> dois_save2.txt\n",
    "    \n",
    "    # Sleep delay\n",
    "    sleep 1 \n",
    "\n",
    "done"
   ]
  },
  {
   "cell_type": "code",
   "execution_count": 41,
   "metadata": {},
   "outputs": [
    {
     "name": "stdout",
     "output_type": "stream",
     "text": [
      "\"10.1186/s12859-015-0538-8\"\n",
      "\"10.1186/1471-2105-16-s18-s5\"\n",
      "\"10.1186/s12859-015-0621-1\"\n",
      "\"10.1186/s12859-015-0468-5\"\n",
      "\"10.1186/s12859-015-0717-7\"\n",
      "\"10.1186/s12859-016-0985-x\"\n",
      "\"10.1186/1471-2105-15-172\"\n",
      "\"10.1186/s12859-014-0411-1\"\n",
      "\"10.1186/1471-2105-16-s15-p13\"\n",
      "\"10.1186/1471-2105-15-s10-p24\"\n"
     ]
    }
   ],
   "source": [
    "!head dois_save2.txt"
   ]
  },
  {
   "cell_type": "code",
   "execution_count": 42,
   "metadata": {},
   "outputs": [
    {
     "name": "stdout",
     "output_type": "stream",
     "text": [
      "1772\n"
     ]
    }
   ],
   "source": [
    "!cat dois_save2.txt | wc -l"
   ]
  }
 ],
 "metadata": {
  "kernelspec": {
   "display_name": "Python 3.10.6 64-bit",
   "language": "python",
   "name": "python3"
  },
  "language_info": {
   "codemirror_mode": {
    "name": "ipython",
    "version": 3
   },
   "file_extension": ".py",
   "mimetype": "text/x-python",
   "name": "python",
   "nbconvert_exporter": "python",
   "pygments_lexer": "ipython3",
   "version": "3.8.10"
  },
  "orig_nbformat": 4,
  "vscode": {
   "interpreter": {
    "hash": "916dbcbb3f70747c44a77c7bcd40155683ae19c65e1c03b4aa3499c5328201f1"
   }
  }
 },
 "nbformat": 4,
 "nbformat_minor": 2
}
