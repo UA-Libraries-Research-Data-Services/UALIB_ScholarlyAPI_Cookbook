{
 "cells": [
  {
   "cell_type": "markdown",
   "metadata": {
    "collapsed": true,
    "id": "MBVDGBofWuxw",
    "pycharm": {
     "name": "#%% md\n"
    }
   },
   "source": [
    "# World Bank API in C\n",
    "\n",
    "by Cyrus Hartwin Gomes\n",
    "\n",
    "See the [World Bank API documentation](https://datahelpdesk.worldbank.org/knowledgebase/articles/889392-about-the-indicators-api-documentation)\n",
    "\n",
    "These recipe examples were tested on July 25, 2023"
   ]
  },
  {
   "cell_type": "markdown",
   "metadata": {
    "id": "c09M9YME1Yny"
   },
   "source": [
    "## Setup"
   ]
  },
  {
   "cell_type": "markdown",
   "metadata": {
    "id": "S74qQhZV1Ynz"
   },
   "source": [
    "First, install the CURL and jq package by typing the following command in the terminal:"
   ]
  },
  {
   "cell_type": "code",
   "execution_count": null,
   "metadata": {},
   "outputs": [],
   "source": [
    "!sudo apt install curl jq libcurl4-openssl-dev"
   ]
  },
  {
   "cell_type": "markdown",
   "metadata": {},
   "source": [
    "Then, we set a directory where we want the WorldBank directory for our projects to be created:"
   ]
  },
  {
   "cell_type": "code",
   "execution_count": 1,
   "metadata": {},
   "outputs": [],
   "source": [
    "!mkdir World_Bank"
   ]
  },
  {
   "cell_type": "markdown",
   "metadata": {},
   "source": [
    "Finally, we change the directory to the folder we created:"
   ]
  },
  {
   "cell_type": "code",
   "execution_count": null,
   "metadata": {},
   "outputs": [],
   "source": [
    "%cd World_Bank"
   ]
  },
  {
   "cell_type": "markdown",
   "metadata": {
    "id": "DqUjAIV_Xkhf"
   },
   "source": [
    "## 1. Get list of country iso2Codes and names"
   ]
  },
  {
   "cell_type": "markdown",
   "metadata": {
    "collapsed": false,
    "id": "SAB4FM54Wuxy",
    "pycharm": {
     "name": "#%% md\n"
    }
   },
   "source": [
    "For obtaining data from the World Bank API, it is helpful to first obtain a list of country codes and names."
   ]
  },
  {
   "cell_type": "markdown",
   "metadata": {},
   "source": [
    "We initialize a folder for the current project that we are working on. And then change to that directory"
   ]
  },
  {
   "cell_type": "code",
   "execution_count": 3,
   "metadata": {},
   "outputs": [],
   "source": [
    "!mkdir iso2Codes_names"
   ]
  },
  {
   "cell_type": "code",
   "execution_count": null,
   "metadata": {},
   "outputs": [],
   "source": [
    "%cd iso2Codes_names"
   ]
  },
  {
   "cell_type": "markdown",
   "metadata": {},
   "source": [
    "Then we utilize the `%%file` command to create the following makefile which will compile our program and create an executable."
   ]
  },
  {
   "cell_type": "code",
   "execution_count": null,
   "metadata": {},
   "outputs": [],
   "source": [
    "%%file makefile\n",
    "\n",
    "# Set the variable CC to gcc, which is used to build the program\n",
    "CC=gcc\n",
    "\n",
    "# Enable debugging information and enable all compiler warnings\n",
    "CFLAGS=-g -Wall\n",
    "\n",
    "# Set the bin variable as the name of the binary file we are creating\n",
    "BIN=iso2Codes\n",
    "\n",
    "# Create the binary file with the name we put\n",
    "all: $(BIN)\n",
    "\n",
    "# Map any file ending in .c to a binary executable. \n",
    "# \"$<\" represents the .c file and \"$@\" represents the target binary executable\n",
    "%: %.c\n",
    "\n",
    "\t# Compile the .c file using the gcc compiler with the CFLAGS and links \n",
    "\t# resulting binary with the CURL library\n",
    "\t$(CC) $(CFLAGS) $< -o $@ -lcurl\n",
    "\n",
    "# Clean target which removes specific files\n",
    "clean:\n",
    "\n",
    "\t# Remove the binary file and an \".dSYM\" (debug symbols for debugging) directories\n",
    "\t# the RM command used -r to remove directories and -f to force delete\n",
    "\t$(RM) -rf $(BIN) *.dSYM"
   ]
  },
  {
   "cell_type": "markdown",
   "metadata": {},
   "source": [
    "The command is used again to create our .c file which contains the code for the program"
   ]
  },
  {
   "cell_type": "code",
   "execution_count": null,
   "metadata": {},
   "outputs": [],
   "source": [
    "%%file iso2Codes.c\n",
    "\n",
    "#include <curl/curl.h>\n",
    "#include <stdio.h>\n",
    "#include <stdlib.h>\n",
    "#include <string.h>\n",
    "\n",
    "/* CURL program that retrieves JSON data from the World Bank API */\n",
    "\n",
    "int main (int argc, char* argv[]) {\n",
    "    \n",
    "    // If arguments are invalid then return\n",
    "    if (argc > 1) {                                                                                      \n",
    "        printf(\"Error. Please try again correctly.\\n\");\n",
    "        return -1;\n",
    "    }\n",
    "\n",
    "    // Initialize the CURL HTTP connection\n",
    "    CURL *curl = curl_easy_init();\n",
    "\n",
    "    // Bits of the url that are joined together later                                                                      \n",
    "    char api[] = \"https://api.worldbank.org/v2/\";                            \n",
    "    char url[1000];\n",
    "    char label[] = \"country/?format=json&per_page=500\";\n",
    "\n",
    "    // Check if CURL initialization is a success or not\n",
    "    if (!curl) {                                                                                         \n",
    "        fprintf(stderr, \"init failed\\n\");\n",
    "        return EXIT_FAILURE;\n",
    "    }\n",
    "        \n",
    "    // Combine all the bits to produce a functioning url\n",
    "    sprintf(url, \"%s%s\", api, label);                                             \n",
    "                                          \n",
    "    // Set the url to which the HTTP request will be sent to\n",
    "    // First parameter is for the initialized curl HTTP request, second for the option to be set, and third for the value to be set\n",
    "    curl_easy_setopt(curl, CURLOPT_URL, url);\n",
    "\n",
    "    // If result is not retrieved then output error\n",
    "    CURLcode result = curl_easy_perform(curl);\n",
    "\n",
    "    // If result is not retrieved then output error\n",
    "    if (result != CURLE_OK) {                                                                            \n",
    "        fprintf(stderr, \"download problem: %s\\n\", curl_easy_strerror(result));\n",
    "    }\n",
    "\n",
    "    // Deallocate memory for the CURL connection\n",
    "    curl_easy_cleanup(curl);                                                                            \n",
    "    return EXIT_SUCCESS;\n",
    "}"
   ]
  },
  {
   "cell_type": "markdown",
   "metadata": {},
   "source": [
    "The folowing program is run, and an executable is created after using the following command:"
   ]
  },
  {
   "cell_type": "code",
   "execution_count": null,
   "metadata": {},
   "outputs": [],
   "source": [
    "!make"
   ]
  },
  {
   "cell_type": "markdown",
   "metadata": {},
   "source": [
    "To output the data from the WOrld Bank API, we enter the following command:"
   ]
  },
  {
   "cell_type": "code",
   "execution_count": 8,
   "metadata": {},
   "outputs": [
    {
     "name": "stdout",
     "output_type": "stream",
     "text": [
      "\u001b[1;39m{\n",
      "  \u001b[0m\u001b[34;1m\"id\"\u001b[0m\u001b[1;39m: \u001b[0m\u001b[0;32m\"ABW\"\u001b[0m\u001b[1;39m,\n",
      "  \u001b[0m\u001b[34;1m\"iso2Code\"\u001b[0m\u001b[1;39m: \u001b[0m\u001b[0;32m\"AW\"\u001b[0m\u001b[1;39m,\n",
      "  \u001b[0m\u001b[34;1m\"name\"\u001b[0m\u001b[1;39m: \u001b[0m\u001b[0;32m\"Aruba\"\u001b[0m\u001b[1;39m,\n",
      "  \u001b[0m\u001b[34;1m\"region\"\u001b[0m\u001b[1;39m: \u001b[0m\u001b[1;39m{\n",
      "    \u001b[0m\u001b[34;1m\"id\"\u001b[0m\u001b[1;39m: \u001b[0m\u001b[0;32m\"LCN\"\u001b[0m\u001b[1;39m,\n",
      "    \u001b[0m\u001b[34;1m\"iso2code\"\u001b[0m\u001b[1;39m: \u001b[0m\u001b[0;32m\"ZJ\"\u001b[0m\u001b[1;39m,\n",
      "    \u001b[0m\u001b[34;1m\"value\"\u001b[0m\u001b[1;39m: \u001b[0m\u001b[0;32m\"Latin America & Caribbean \"\u001b[0m\u001b[1;39m\n",
      "  \u001b[1;39m}\u001b[0m\u001b[1;39m,\n",
      "  \u001b[0m\u001b[34;1m\"adminregion\"\u001b[0m\u001b[1;39m: \u001b[0m\u001b[1;39m{\n",
      "    \u001b[0m\u001b[34;1m\"id\"\u001b[0m\u001b[1;39m: \u001b[0m\u001b[0;32m\"\"\u001b[0m\u001b[1;39m,\n",
      "    \u001b[0m\u001b[34;1m\"iso2code\"\u001b[0m\u001b[1;39m: \u001b[0m\u001b[0;32m\"\"\u001b[0m\u001b[1;39m,\n",
      "    \u001b[0m\u001b[34;1m\"value\"\u001b[0m\u001b[1;39m: \u001b[0m\u001b[0;32m\"\"\u001b[0m\u001b[1;39m\n",
      "  \u001b[1;39m}\u001b[0m\u001b[1;39m,\n",
      "  \u001b[0m\u001b[34;1m\"incomeLevel\"\u001b[0m\u001b[1;39m: \u001b[0m\u001b[1;39m{\n",
      "    \u001b[0m\u001b[34;1m\"id\"\u001b[0m\u001b[1;39m: \u001b[0m\u001b[0;32m\"HIC\"\u001b[0m\u001b[1;39m,\n",
      "    \u001b[0m\u001b[34;1m\"iso2code\"\u001b[0m\u001b[1;39m: \u001b[0m\u001b[0;32m\"XD\"\u001b[0m\u001b[1;39m,\n",
      "    \u001b[0m\u001b[34;1m\"value\"\u001b[0m\u001b[1;39m: \u001b[0m\u001b[0;32m\"High income\"\u001b[0m\u001b[1;39m\n",
      "  \u001b[1;39m}\u001b[0m\u001b[1;39m,\n",
      "  \u001b[0m\u001b[34;1m\"lendingType\"\u001b[0m\u001b[1;39m: \u001b[0m\u001b[1;39m{\n",
      "    \u001b[0m\u001b[34;1m\"id\"\u001b[0m\u001b[1;39m: \u001b[0m\u001b[0;32m\"LNX\"\u001b[0m\u001b[1;39m,\n",
      "    \u001b[0m\u001b[34;1m\"iso2code\"\u001b[0m\u001b[1;39m: \u001b[0m\u001b[0;32m\"XX\"\u001b[0m\u001b[1;39m,\n",
      "    \u001b[0m\u001b[34;1m\"value\"\u001b[0m\u001b[1;39m: \u001b[0m\u001b[0;32m\"Not classified\"\u001b[0m\u001b[1;39m\n",
      "  \u001b[1;39m}\u001b[0m\u001b[1;39m,\n",
      "  \u001b[0m\u001b[34;1m\"capitalCity\"\u001b[0m\u001b[1;39m: \u001b[0m\u001b[0;32m\"Oranjestad\"\u001b[0m\u001b[1;39m,\n",
      "  \u001b[0m\u001b[34;1m\"longitude\"\u001b[0m\u001b[1;39m: \u001b[0m\u001b[0;32m\"-70.0167\"\u001b[0m\u001b[1;39m,\n",
      "  \u001b[0m\u001b[34;1m\"latitude\"\u001b[0m\u001b[1;39m: \u001b[0m\u001b[0;32m\"12.5167\"\u001b[0m\u001b[1;39m\n",
      "\u001b[1;39m}\u001b[0m\n"
     ]
    }
   ],
   "source": [
    "!./iso2Codes | jq '.[1][0]'"
   ]
  },
  {
   "cell_type": "code",
   "execution_count": null,
   "metadata": {},
   "outputs": [],
   "source": [
    "!./iso2Codes | jq '.[1][] | .iso2Code + \": \" + .name'"
   ]
  },
  {
   "cell_type": "markdown",
   "metadata": {
    "id": "84IR7albYQxh"
   },
   "source": [
    "## 2. Compile a Custom Indicator Dataset\n",
    "\n",
    "There are many availabe indicators: https://data.worldbank.org/indicator\n",
    "\n",
    "We wll select either of the three indicators for this example:\n",
    "\n",
    "1. Scientific and Technical Journal Article Data = [IP.JRN.ARTC.SC](https://data.worldbank.org/indicator/IP.JRN.ARTC.SC?view=chart)\n",
    "\n",
    "2. Patent Applications, residents = [IP.PAT.RESD](https://data.worldbank.org/indicator/IP.PAT.RESD?view=chart)\n",
    "\n",
    "3. GDP per capita (current US$) Code = [NY.GDP.PCAP.CD](https://data.worldbank.org/indicator/NY.GDP.PCAP.CD?view=chart)\n",
    "\n",
    "Note that these three selected indictaors have a [CC-BY 4.0 license](https://datacatalog.worldbank.org/public-licenses#cc-by) We will compile this indicator data for the United States (US) and United Kingdom (GB)"
   ]
  },
  {
   "cell_type": "markdown",
   "metadata": {},
   "source": [
    "We change the directory of the World_Bank folder to create a new one for our project"
   ]
  },
  {
   "cell_type": "code",
   "execution_count": null,
   "metadata": {},
   "outputs": [],
   "source": [
    "%cd .."
   ]
  },
  {
   "cell_type": "markdown",
   "metadata": {},
   "source": [
    "We set a directory where we want the WorldBank directory for the custom indicator project "
   ]
  },
  {
   "cell_type": "code",
   "execution_count": 11,
   "metadata": {},
   "outputs": [],
   "source": [
    "!mkdir Custom_indicator"
   ]
  },
  {
   "cell_type": "markdown",
   "metadata": {},
   "source": [
    "Then we change the directory to the folder we created"
   ]
  },
  {
   "cell_type": "code",
   "execution_count": null,
   "metadata": {},
   "outputs": [],
   "source": [
    "%cd Custom_indicator"
   ]
  },
  {
   "cell_type": "markdown",
   "metadata": {},
   "source": [
    "Then we utilize the `%%file` command to create the following makefile which will compile our program and create an executable."
   ]
  },
  {
   "cell_type": "code",
   "execution_count": null,
   "metadata": {},
   "outputs": [],
   "source": [
    "%%file makefile\n",
    "\n",
    "# Set the variable CC to gcc, which is used to build the program\n",
    "CC=gcc\n",
    "\n",
    "# Enable debugging information and enable all compiler warnings\n",
    "CFLAGS=-g -Wall\n",
    "\n",
    "# Set the bin variable as the name of the binary file we are creating\n",
    "BIN=custom_indicator\n",
    "\n",
    "# Create the binary file with the name we put\n",
    "all: $(BIN)\n",
    "\n",
    "# Map any file ending in .c to a binary executable. \n",
    "# \"$<\" represents the .c file and \"$@\" represents the target binary executable\n",
    "%: %.c\n",
    "\n",
    "\t# Compile the .c file using the gcc compiler with the CFLAGS and links \n",
    "\t# resulting binary with the CURL library\n",
    "\t$(CC) $(CFLAGS) $< -o $@ -lcurl\n",
    "\n",
    "# Clean target which removes specific files\n",
    "clean:\n",
    "\n",
    "\t# Removes the binary file and an \".dSYM\" (debug symbols for debugging) directories\n",
    "\t# the RM command used -r to remove directories and -f to force delete\n",
    "\t$(RM) -rf $(BIN) *.dSYM"
   ]
  },
  {
   "cell_type": "markdown",
   "metadata": {},
   "source": [
    "The command is used again to create our .c file which contains the code for the program"
   ]
  },
  {
   "cell_type": "code",
   "execution_count": null,
   "metadata": {},
   "outputs": [],
   "source": [
    "%%file custom_indicator.c\n",
    "\n",
    "#include <curl/curl.h>\n",
    "#include <stdio.h>\n",
    "#include <stdlib.h>\n",
    "#include <string.h>\n",
    "\n",
    "/*CURL program that retrieves JSON data from the World Bank API\n",
    "This program allows custom indicator data set to be used along with the country specified*/\n",
    "\n",
    "\n",
    "/* We are going to be inputting the custom indicator and country like this: ./custom_indicator -c \"UK\" -i \"IP.JRN.ARTC.SC\"\n",
    "If the arguments are missing then we use the default: \"US\" \"IP.JRN.ARTC.SC\" */\n",
    "\n",
    "int main (int argc, char* argv[]) {\n",
    "    \n",
    "    // If arguments are invalid then return\n",
    "    if (argc > 5) {                                                                                      \n",
    "        printf(\"Error. Please try again correctly.\\n\");\n",
    "        return -1;\n",
    "    }\n",
    "\n",
    "    // Default country and indicator codes\n",
    "    char country[10] = {};\n",
    "    char indicator[100] = {}; \n",
    "\n",
    "    // If there is ./custom_indiactor -c/-i\n",
    "    if ((argc == 1) || ((argc == 2) && ((strcmp(argv[1], \"-c\")==0) || (strcmp(argv[1], \"-i\")==0)))) {\n",
    "        //these arguments run the default parameters and keeps the codes as they are\n",
    "        strcat(country,\"US\");\n",
    "        strcat(indicator, \"IP.JRN.ARTC.SC\");\n",
    "    }\n",
    "\n",
    "    // If there is ./custom indicator -c \"UK\"\n",
    "    else if ((argc == 3) && (strcmp(argv[1], \"-c\")==0)) {\n",
    "        // Only the country code is changed\n",
    "        strcat(country,argv[2]);\n",
    "        strcat(indicator, \"IP.JRN.ARTC.SC\");\n",
    "    }\n",
    "\n",
    "    // If there is ./custom indicator -c \"UK\" -i\n",
    "    else if ((argc == 4) && (strcmp(argv[1], \"-c\")==0) && (strcmp(argv[3], \"-i\")==0)) {\n",
    "        // Only the country code is changed\n",
    "        strcat(country,argv[2]);\n",
    "        strcat(indicator, \"IP.JRN.ARTC.SC\");\n",
    "    }\n",
    "\n",
    "    // If there is ./custom indicator -c \"UK\" -i \"IP.JRN.ARTC.SC\"\n",
    "    else if ((argc == 5) && (strcmp(argv[1], \"-c\")==0) && (strcmp(argv[3], \"-i\")==0)) {\n",
    "        // Both the country and indicator codes are changed\n",
    "        strcat(country,argv[2]);\n",
    "        strcat(indicator, argv[4]);\n",
    "    }\n",
    "\n",
    "    // If there is ./custom indicator -i \"IP.JRN.ARTC.SC\"\n",
    "    else if ((argc == 3) && (strcmp(argv[1], \"-i\")==0)) {\n",
    "        // Only the indicator code is changed\n",
    "        strcat(country,\"US\");\n",
    "        strcat(indicator, argv[2]);\n",
    "    }\n",
    "\n",
    "    // If there is ./custom indicator -i \"IP.JRN.ARTC.SC\" -c\n",
    "    else if ((argc == 4) && (strcmp(argv[1], \"-i\")==0) && (strcmp(argv[3], \"-c\")==0)) {\n",
    "        // Only the indicator code is changed\n",
    "        strcat(country,\"US\");\n",
    "        strcat(indicator, argv[2]);\n",
    "    }\n",
    "\n",
    "    // If there is ./custom indicator -i \"IP.JRN.ARTC.SC\" -c \"UK\" \n",
    "    else if ((argc == 5) && (strcmp(argv[1], \"-i\")==0) && (strcmp(argv[3], \"-c\")==0)) {\n",
    "        // Both the indicator and country codes are changed\n",
    "        strcat(country,argv[4]);\n",
    "        strcat(indicator, argv[2]);\n",
    "    }\n",
    "\n",
    "    else{\n",
    "        printf(\"usage: ./custom_indicator [-i] indicator [-c] country\\n\\n\");\n",
    "        printf(\"the custom_indicator program is used to retrieve json data from the World Bank API\\n\\n\");\n",
    "        printf(\"optional arguments\\n\");\n",
    "        printf(\"\\t -i indicator    optional custom indicator code; default is 'IP.JRN.ARTC.SC', see: https://data.worldbank.org/indicator\\n\");\n",
    "        printf(\"\\t -c country      optional custom country code; default is 'US'\\n\");\n",
    "        return -1;\n",
    "    }\n",
    "\n",
    "    // Initialize the CURL HTTP connection\n",
    "    CURL *curl = curl_easy_init();\n",
    "\n",
    "    // Bits of the url that are joined together later\n",
    "    char api[] = \"https://api.worldbank.org/v2/\";                                                                     \n",
    "    char type1[] = \"country/\";\n",
    "    char type2[] = \"/indicator/\";                           \n",
    "    char url[1000];\n",
    "    char label[] = \"/?format=json&per_page=500\";\n",
    "\n",
    "    // Check if CURL initialization is a success or not\n",
    "    if (!curl) {                                                                                         \n",
    "        fprintf(stderr, \"init failed\\n\");\n",
    "        return EXIT_FAILURE;\n",
    "    }\n",
    "        \n",
    "    // Combine all the bits to produce a functioning url\n",
    "    sprintf(url, \"%s%s%s%s%s%s\", api, type1 , country, type2, indicator, label);                                             \n",
    "                                          \n",
    "    // Set the url to which the HTTP request will be sent to\n",
    "    // First parameter is for the initialized curl HTTP request, second for the option to be set, and third for the value to be set\n",
    "    curl_easy_setopt(curl, CURLOPT_URL, url);\n",
    "\n",
    "    // If result is not retrieved then output error\n",
    "    CURLcode result = curl_easy_perform(curl);\n",
    "\n",
    "    // If result is not retrieved then output error\n",
    "    if (result != CURLE_OK) {                                                                            \n",
    "        fprintf(stderr, \"download problem: %s\\n\", curl_easy_strerror(result));\n",
    "    }\n",
    "\n",
    "    // Deallocate memory for the CURL connection\n",
    "    curl_easy_cleanup(curl);                                                                            \n",
    "    return EXIT_SUCCESS;\n",
    "}"
   ]
  },
  {
   "cell_type": "code",
   "execution_count": null,
   "metadata": {},
   "outputs": [],
   "source": [
    "!make"
   ]
  },
  {
   "cell_type": "markdown",
   "metadata": {},
   "source": [
    "To output the data from the World Bank API with the default indicator and country (IP.JRN.ARTC.SC, US), we enter the following command:"
   ]
  },
  {
   "cell_type": "code",
   "execution_count": 16,
   "metadata": {},
   "outputs": [
    {
     "name": "stdout",
     "output_type": "stream",
     "text": [
      "\"2022: null\"\n",
      "\"2021: null\"\n",
      "\"2020: 455855.57\"\n",
      "\"2019: 438020.45\"\n",
      "\"2018: 435033.88\"\n",
      "\"2017: 430198.17\"\n",
      "\"2016: 428476.45\"\n",
      "\"2015: 428203.78\"\n",
      "\"2014: 428140.59\"\n",
      "\"2013: 426596.66\"\n"
     ]
    }
   ],
   "source": [
    "!./custom_indicator | jq '.[1][] | \"\\(.date)':' \\(.value)\"' | head -n 10"
   ]
  },
  {
   "cell_type": "markdown",
   "metadata": {},
   "source": [
    "To output the data from the World Bank API with the custom indicator and country, we enter the following command:"
   ]
  },
  {
   "cell_type": "code",
   "execution_count": 17,
   "metadata": {},
   "outputs": [
    {
     "name": "stdout",
     "output_type": "stream",
     "text": [
      "\"2022: 45850.4261222629\"\n",
      "\"2021: 46585.8975644567\"\n",
      "\"2020: 40318.4169225055\"\n",
      "\"2019: 42747.080460496\"\n",
      "\"2018: 43306.3083049317\"\n",
      "\"2017: 40622.6893883232\"\n",
      "\"2016: 41146.0773555246\"\n",
      "\"2015: 45071.0743234873\"\n",
      "\"2014: 47447.5889322667\"\n",
      "\"2013: 43449.0917173139\"\n"
     ]
    }
   ],
   "source": [
    "!./custom_indicator -i 'NY.GDP.PCAP.CD' -c 'GB' | jq '.[1][] | \"\\(.date)':' \\(.value)\"' | head -n 10"
   ]
  },
  {
   "cell_type": "markdown",
   "metadata": {},
   "source": [
    "To compile a custom indicator dataset we need to have parse the data into a single .txt file"
   ]
  },
  {
   "cell_type": "markdown",
   "metadata": {},
   "source": [
    "We enter the following command, to output first indicator data to the .txt file:"
   ]
  },
  {
   "cell_type": "code",
   "execution_count": 18,
   "metadata": {},
   "outputs": [],
   "source": [
    "!./custom_indicator -i 'NY.GDP.PCAP.CD' -c 'US' | jq '.[1][] | \"\\(.date)':' \\(.value)\"' > output1.txt"
   ]
  },
  {
   "cell_type": "markdown",
   "metadata": {},
   "source": [
    "We do the same for the 2nd and the 3rd indicator data:"
   ]
  },
  {
   "cell_type": "code",
   "execution_count": 19,
   "metadata": {},
   "outputs": [],
   "source": [
    "!./custom_indicator -i 'IP.JRN.ARTC.SC' -c 'US' | jq '.[1][] | \"\\(.date)':' \\(.value)\"' > output2.txt"
   ]
  },
  {
   "cell_type": "code",
   "execution_count": 20,
   "metadata": {},
   "outputs": [],
   "source": [
    "!./custom_indicator -i 'IP.PAT.RESD' -c 'US' | jq '.[1][] | \"\\(.date)':' \\(.value)\"' > output3.txt"
   ]
  },
  {
   "cell_type": "markdown",
   "metadata": {},
   "source": [
    "We then join the data together in different columns and output it to the specified .txt file:"
   ]
  },
  {
   "cell_type": "code",
   "execution_count": 21,
   "metadata": {},
   "outputs": [],
   "source": [
    "!join output1.txt output2.txt > output12.txt"
   ]
  },
  {
   "cell_type": "markdown",
   "metadata": {},
   "source": [
    "The same is done to create the final combined data set:"
   ]
  },
  {
   "cell_type": "code",
   "execution_count": 22,
   "metadata": {},
   "outputs": [],
   "source": [
    "!join output12.txt output3.txt > output_combined.txt"
   ]
  },
  {
   "cell_type": "markdown",
   "metadata": {},
   "source": [
    "We then remove the `\"` and `:` to create the custom data set"
   ]
  },
  {
   "cell_type": "code",
   "execution_count": 23,
   "metadata": {},
   "outputs": [
    {
     "name": "stdout",
     "output_type": "stream",
     "text": [
      "2022 76398.5917422054 null null\n",
      "2021 70219.472454115 null null\n",
      "2020 63528.6343027508 455855.57 269586\n",
      "2019 65120.3946628653 438020.45 285113\n",
      "2018 62823.309438197 435033.88 285095\n"
     ]
    }
   ],
   "source": [
    "!cat output_combined.txt | tr -d '\",:' | head -5"
   ]
  }
 ],
 "metadata": {
  "kernelspec": {
   "display_name": "Python 3.10.6 64-bit",
   "language": "python",
   "name": "python3"
  },
  "language_info": {
   "codemirror_mode": {
    "name": "ipython",
    "version": 3
   },
   "file_extension": ".py",
   "mimetype": "text/x-python",
   "name": "python",
   "nbconvert_exporter": "python",
   "pygments_lexer": "ipython3",
   "version": "3.11.4"
  },
  "orig_nbformat": 4,
  "vscode": {
   "interpreter": {
    "hash": "916dbcbb3f70747c44a77c7bcd40155683ae19c65e1c03b4aa3499c5328201f1"
   }
  }
 },
 "nbformat": 4,
 "nbformat_minor": 2
}
