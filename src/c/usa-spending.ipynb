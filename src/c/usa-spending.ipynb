{
 "cells": [
  {
   "attachments": {},
   "cell_type": "markdown",
   "metadata": {},
   "source": [
    "# USA Spending API in C\n",
    "\n",
    "by Cyrus Hartwin Gomes\n",
    "\n",
    "The USA Spending Website: [https://www.usaspending.gov/](https://www.usaspending.gov/)\n",
    "\n",
    "The USA Spending API: [https://api.usaspending.gov/](https://api.usaspending.gov/)\n",
    "\n",
    "These recipe examples were tested on December 12, 2023\n"
   ]
  },
  {
   "cell_type": "markdown",
   "metadata": {},
   "source": [
    "## Setup"
   ]
  },
  {
   "cell_type": "markdown",
   "metadata": {},
   "source": [
    "First, install the CURL package by typing the following command in the terminal:"
   ]
  },
  {
   "cell_type": "code",
   "execution_count": null,
   "metadata": {},
   "outputs": [],
   "source": [
    "!sudo apt install curl"
   ]
  },
  {
   "cell_type": "markdown",
   "metadata": {},
   "source": [
    "Then, install the jq package by typing the following command in the terminal:"
   ]
  },
  {
   "cell_type": "code",
   "execution_count": null,
   "metadata": {},
   "outputs": [],
   "source": [
    "!sudo apt install jq"
   ]
  },
  {
   "cell_type": "markdown",
   "metadata": {},
   "source": [
    "Now we create a directory for our projects to be created:"
   ]
  },
  {
   "cell_type": "code",
   "execution_count": 1,
   "metadata": {},
   "outputs": [],
   "source": [
    "!mkdir USA_Spending"
   ]
  },
  {
   "cell_type": "markdown",
   "metadata": {},
   "source": [
    "Finally, we will change the directory to the one we created:"
   ]
  },
  {
   "cell_type": "code",
   "execution_count": null,
   "metadata": {},
   "outputs": [],
   "source": [
    "%cd USA_Spending"
   ]
  },
  {
   "attachments": {},
   "cell_type": "markdown",
   "metadata": {},
   "source": [
    "## 1. Get agency names and toptier codes\n"
   ]
  },
  {
   "attachments": {},
   "cell_type": "markdown",
   "metadata": {},
   "source": [
    "To obtain data from the API, it is useful to first build a dictionary containing agency names and toptier codes, the latter of which will be used to access subagency data."
   ]
  },
  {
   "cell_type": "markdown",
   "metadata": {},
   "source": [
    "First, we can initialize a folder for the current project that we are working on. And then change to that directory:"
   ]
  },
  {
   "cell_type": "code",
   "execution_count": 3,
   "metadata": {},
   "outputs": [],
   "source": [
    "!mkdir APIdata"
   ]
  },
  {
   "cell_type": "code",
   "execution_count": null,
   "metadata": {},
   "outputs": [],
   "source": [
    "%cd APIdata"
   ]
  },
  {
   "cell_type": "markdown",
   "metadata": {},
   "source": [
    "We utilize the `%%file` command to create the following makefile which will compile our program and create an executable."
   ]
  },
  {
   "cell_type": "code",
   "execution_count": null,
   "metadata": {},
   "outputs": [],
   "source": [
    "%%file makefile\n",
    "\n",
    "# Set the variable CC to gcc, which is used to build the program\n",
    "CC=gcc\n",
    "\n",
    "# Enable debugging information and enable all compiler warnings\n",
    "CFLAGS=-g -Wall\n",
    "\n",
    "# Set the bin variable as the name of the binary file we are creating\n",
    "BIN=api_data\n",
    "\n",
    "# Create the binary file with the name we put\n",
    "all: $(BIN)\n",
    "\n",
    "# Map any file ending in .c to a binary executable. \n",
    "# \"$<\" represents the .c file and \"$@\" represents the target binary executable\n",
    "%: %.c\n",
    "\n",
    "\t# Compile the .c file using the gcc compiler with the CFLAGS and links \n",
    "\t# resulting binary with the CURL library\n",
    "\t$(CC) $(CFLAGS) $< -o $@ -lcurl\n",
    "\n",
    "# Clean target which removes specific files\n",
    "clean:\n",
    "\n",
    "\t# Remove the binary file and an \".dSYM\" (debug symbols for debugging) directories\n",
    "\t# the RM command used -r to remove directories and -f to force delete\n",
    "\t$(RM) -rf $(BIN) *.dSYM"
   ]
  },
  {
   "cell_type": "markdown",
   "metadata": {},
   "source": [
    "The command is used again to create our .c file which contains the code for the program"
   ]
  },
  {
   "cell_type": "code",
   "execution_count": 6,
   "metadata": {},
   "outputs": [
    {
     "name": "stdout",
     "output_type": "stream",
     "text": [
      "Writing api_data.c\n"
     ]
    }
   ],
   "source": [
    "%%file api_data.c\n",
    "\n",
    "#include <curl/curl.h>\n",
    "#include <stdio.h>\n",
    "#include <stdlib.h>\n",
    "#include <string.h>\n",
    "\n",
    "/* CURL program that retrieves api results from usaspendig with the given id. \n",
    "Custom property fields can be added */\n",
    "\n",
    "int main (int argc, char* argv[]) {\n",
    "    \n",
    "    // If arguments are invalid just return\n",
    "    if (argc < 2) {                                                                                      \n",
    "        printf(\"Error. Please try again correctly. (./api_data -id [id])\\n\");\n",
    "        return -1;\n",
    "    }\n",
    "\n",
    "    // Initialize the CURL HTTP connection\n",
    "    CURL *curl = curl_easy_init();\n",
    "\n",
    "    // Bits of the url that are joined together later                                                                      \n",
    "    char api[] = \"https://api.usaspending.gov\";                            \n",
    "    char url[1000];\n",
    "    char default_id[] = \"/api/v2/references/toptier_agencies/\";\n",
    "\n",
    "    // Check if CURL initialization is a success or not\n",
    "    if (!curl) {                                                                                         \n",
    "        fprintf(stderr, \"init failed\\n\");\n",
    "        return EXIT_FAILURE;\n",
    "    }\n",
    "\n",
    "    // When the command ./census_data -id is used\n",
    "    if ((argc==2) && (strcmp(argv[1],\"-id\")==0)) {\n",
    "        // Combine the api and the default id\n",
    "        sprintf(url, \"%s%s\", api, default_id); \n",
    "    }\n",
    "    \n",
    "    // ./census_data -id [id]\n",
    "    else if ((argc==3) && (strcmp(argv[1],\"-id\")==0)) {\n",
    "        // Combine the api and the custom id\n",
    "        sprintf(url, \"%s%s\", api, argv[2]);\n",
    "    }\n",
    "\n",
    "    // If the arguments are invalid just return\n",
    "    else {        \n",
    "        printf(\"./api_data -id [id]\\n\");                                                                                      \n",
    "        curl_easy_cleanup(curl);\n",
    "        return 0;\n",
    "    }                                            \n",
    "\n",
    "    // Set the url to which the HTTP request will be sent to\n",
    "    // first parameter is for the initialized curl HTTP request, second for the option to be set, and third for the value to be set\n",
    "    curl_easy_setopt(curl, CURLOPT_URL, url);\n",
    "\n",
    "    // If result is not retrieved then output error\n",
    "    CURLcode result = curl_easy_perform(curl);\n",
    "\n",
    "    // If result is not retrieved then output error\n",
    "    if (result != CURLE_OK) {                                                                            \n",
    "        fprintf(stderr, \"download problem: %s\\n\", curl_easy_strerror(result));\n",
    "    }\n",
    "\n",
    "    // Deallocate memory for the CURL connection\n",
    "    curl_easy_cleanup(curl);                                                                            \n",
    "    return EXIT_SUCCESS;\n",
    "}"
   ]
  },
  {
   "cell_type": "markdown",
   "metadata": {},
   "source": [
    "The command is used again to create our .c file which contains the code for the program:"
   ]
  },
  {
   "cell_type": "code",
   "execution_count": null,
   "metadata": {},
   "outputs": [],
   "source": [
    "!make"
   ]
  },
  {
   "cell_type": "code",
   "execution_count": 23,
   "metadata": {},
   "outputs": [
    {
     "name": "stdout",
     "output_type": "stream",
     "text": [
      "\u001b[1;39m{\n",
      "  \u001b[0m\u001b[34;1m\"agency_id\"\u001b[0m\u001b[1;39m: \u001b[0m\u001b[0;39m1146\u001b[0m\u001b[1;39m,\n",
      "  \u001b[0m\u001b[34;1m\"toptier_code\"\u001b[0m\u001b[1;39m: \u001b[0m\u001b[0;32m\"310\"\u001b[0m\u001b[1;39m,\n",
      "  \u001b[0m\u001b[34;1m\"abbreviation\"\u001b[0m\u001b[1;39m: \u001b[0m\u001b[0;32m\"USAB\"\u001b[0m\u001b[1;39m,\n",
      "  \u001b[0m\u001b[34;1m\"agency_name\"\u001b[0m\u001b[1;39m: \u001b[0m\u001b[0;32m\"Access Board\"\u001b[0m\u001b[1;39m,\n",
      "  \u001b[0m\u001b[34;1m\"congressional_justification_url\"\u001b[0m\u001b[1;39m: \u001b[0m\u001b[0;32m\"https://www.access-board.gov/cj\"\u001b[0m\u001b[1;39m,\n",
      "  \u001b[0m\u001b[34;1m\"active_fy\"\u001b[0m\u001b[1;39m: \u001b[0m\u001b[0;32m\"2023\"\u001b[0m\u001b[1;39m,\n",
      "  \u001b[0m\u001b[34;1m\"active_fq\"\u001b[0m\u001b[1;39m: \u001b[0m\u001b[0;32m\"4\"\u001b[0m\u001b[1;39m,\n",
      "  \u001b[0m\u001b[34;1m\"outlay_amount\"\u001b[0m\u001b[1;39m: \u001b[0m\u001b[0;39m9232761.09\u001b[0m\u001b[1;39m,\n",
      "  \u001b[0m\u001b[34;1m\"obligated_amount\"\u001b[0m\u001b[1;39m: \u001b[0m\u001b[0;39m8863660.56\u001b[0m\u001b[1;39m,\n",
      "  \u001b[0m\u001b[34;1m\"budget_authority_amount\"\u001b[0m\u001b[1;39m: \u001b[0m\u001b[0;39m11366458.51\u001b[0m\u001b[1;39m,\n",
      "  \u001b[0m\u001b[34;1m\"current_total_budget_authority_amount\"\u001b[0m\u001b[1;39m: \u001b[0m\u001b[0;39m11889863708699.81\u001b[0m\u001b[1;39m,\n",
      "  \u001b[0m\u001b[34;1m\"percentage_of_total_budget_authority\"\u001b[0m\u001b[1;39m: \u001b[0m\u001b[0;39m9.559788731373906e-07\u001b[0m\u001b[1;39m,\n",
      "  \u001b[0m\u001b[34;1m\"agency_slug\"\u001b[0m\u001b[1;39m: \u001b[0m\u001b[0;32m\"access-board\"\u001b[0m\u001b[1;39m\n",
      "\u001b[1;39m}\u001b[0m\n"
     ]
    }
   ],
   "source": [
    "!./api_data -id | jq '.[\"results\"][0]'"
   ]
  },
  {
   "cell_type": "code",
   "execution_count": 19,
   "metadata": {},
   "outputs": [
    {
     "name": "stdout",
     "output_type": "stream",
     "text": [
      "\u001b[0;39m108\u001b[0m\n"
     ]
    }
   ],
   "source": [
    "# Display total number of agencies in the data\n",
    "!./api_data -id | jq '.[\"results\"] | length'"
   ]
  },
  {
   "cell_type": "markdown",
   "metadata": {},
   "source": [
    "Now we can create a dictionary containing the agency names as keys and the toptier codes as the data. "
   ]
  },
  {
   "cell_type": "code",
   "execution_count": 18,
   "metadata": {
    "tags": []
   },
   "outputs": [
    {
     "name": "stdout",
     "output_type": "stream",
     "text": [
      "{\n",
      "  \"Access Board\": \"310\",\n",
      "  \"Administrative Conference of the U.S.\": \"302\",\n",
      "  \"Advisory Council on Historic Preservation\": \"306\",\n",
      "  \"African Development Foundation\": \"166\",\n"
     ]
    }
   ],
   "source": [
    "%%bash\n",
    "\n",
    "# Get the raw data from the api\n",
    "raw_data=$(./api_data -id | jq '.[\"results\"]')\n",
    "\n",
    "# Modify retrieved json data to retrieve agency name and top tier code\n",
    "agencies_and_top_codes=$(echo \"$raw_data\" | jq -r '.[0:] | map({(.[\"agency_name\"]): .[\"toptier_code\"]}) | add')\n",
    "\n",
    "# Print the modified data\n",
    "echo \"${agencies_and_top_codes}\" | tee output.txt | head -n 5"
   ]
  },
  {
   "cell_type": "markdown",
   "metadata": {},
   "source": [
    "We can also print the toptier code for a particular agency. This will be useful when building URLs to view other data from the API."
   ]
  },
  {
   "cell_type": "code",
   "execution_count": 19,
   "metadata": {},
   "outputs": [
    {
     "name": "stdout",
     "output_type": "stream",
     "text": [
      "069\n"
     ]
    }
   ],
   "source": [
    "# Can be changed to any department\n",
    "!cat output.txt | jq -r '.[\"Department of Transportation\"]'"
   ]
  },
  {
   "cell_type": "markdown",
   "metadata": {},
   "source": [
    "## 2. Retrieving Data from Subagencies\n",
    "\n",
    "The toptier_codes dictionary we created above contains every agency name in the API. For this example, we'll look at the total obligations of each subagency of the Department of Defense."
   ]
  },
  {
   "cell_type": "code",
   "execution_count": 28,
   "metadata": {},
   "outputs": [
    {
     "name": "stdout",
     "output_type": "stream",
     "text": [
      "{\n",
      "  \"Defense Advanced Research Projects Agency\": 36296392,\n",
      "  \"Defense Health Agency\": 15718671.85,\n",
      "  \"Defense Information Systems Agency\": 1598100.49,\n",
      "  \"Defense Threat Reduction Agency\": 1958308.27,\n",
      "  \"Department of the Air Force\": 178875720.31,\n",
      "  \"Department of the Army\": 503264075.56,\n",
      "  \"Department of the Navy\": 250867292.31,\n",
      "  \"Missile Defense Agency\": 42996.26,\n",
      "  \"Uniformed Services University of the Health Sciences\": 33887146.44,\n",
      "  \"Washington Headquarters Services\": 58951661\n",
      "}\n"
     ]
    }
   ],
   "source": [
    "%%bash\n",
    "\n",
    "# Retrieve the toptier_code\n",
    "# Can be set to the desired department\n",
    "toptier_code=$(cat output.txt | jq -r '.[\"Department of Defense\"]')\n",
    "\n",
    "# Create complete url for retrieving API data\n",
    "url=\"/api/v2/agency/${toptier_code}/sub_agency/\"\n",
    "\n",
    "# Get the raw data from the API\n",
    "raw_data=$(./api_data -id \"${url}\"| jq '.[\"results\"]')\n",
    "\n",
    "# Modify retrieved JSON data to retrieve agency name and top tier code\n",
    "subagencies=$(echo \"$raw_data\" | jq -r '.[0:] | map({(.[\"name\"]): .[\"total_obligations\"]}) | add')\n",
    "\n",
    "# Sort the subagencies in alphabetical order\n",
    "subagencies=$(echo \"$subagencies\" | jq 'to_entries | sort_by(.key) | from_entries')\n",
    "\n",
    "# Print the modified data\n",
    "echo \"${subagencies}\" | tee subagencies.json"
   ]
  },
  {
   "attachments": {},
   "cell_type": "markdown",
   "metadata": {},
   "source": [
    "## 3. Accessing Fiscal Data Per Year\n",
    "\n",
    "We can use the API to examine the annual budget of an agency from 2017 onward."
   ]
  },
  {
   "cell_type": "code",
   "execution_count": 20,
   "metadata": {},
   "outputs": [
    {
     "name": "stdout",
     "output_type": "stream",
     "text": [
      "{\n",
      "  \"2017\": 1646989531123.68,\n",
      "  \"2018\": 1679128003253.74,\n",
      "  \"2019\": 1814270463757.37,\n",
      "  \"2020\": 2198882208891.79,\n",
      "  \"2021\": 2355524286884.46,\n",
      "  \"2022\": 2452969781323.39\n",
      "}\n"
     ]
    }
   ],
   "source": [
    "%%bash\n",
    "\n",
    "# Retrieve the toptier_code\n",
    "# Can be set to the desired department\n",
    "toptier_code=$(cat output.txt | jq -r '.[\"Department of Health and Human Services\"]')\n",
    "\n",
    "# Create complete url for retrieving api data\n",
    "url=\"/api/v2/agency/${toptier_code}/budgetary_resources/\"\n",
    "\n",
    "# Get the raw data from the api\n",
    "raw_data=$(./api_data -id \"${url}\"| jq '.[\"agency_data_by_year\"]')\n",
    "\n",
    "# Modify retrieved json data to retrieve agency name and top tier code\n",
    "# All the years before 2023 are used\n",
    "# Start from index 2 as the year 2024 and 2023 are skipped\n",
    "# since fiscal years cannot be used as key, it is converted to strings\n",
    "budgetary_resources_data=$(echo \"$raw_data\" | jq -r '.[2:] | map({(.[\"fiscal_year\"] | tostring): .[\"agency_total_obligated\"]}) | add')\n",
    "\n",
    "# Sort the subagencies in alphabetical order\n",
    "budgetary_resources_data=$(echo \"$budgetary_resources_data\" | jq 'to_entries | sort_by(.key) | from_entries')\n",
    "\n",
    "# Print the modified data\n",
    "echo \"${budgetary_resources_data}\" | tee budgetary_resources_data.txt"
   ]
  },
  {
   "attachments": {},
   "cell_type": "markdown",
   "metadata": {},
   "source": [
    "## 4. Breaking Down Budget Categories\n",
    "\n",
    "We can use the API to view the breakdown the spending of a particular agency."
   ]
  },
  {
   "cell_type": "code",
   "execution_count": null,
   "metadata": {},
   "outputs": [
    {
     "name": "stdout",
     "output_type": "stream",
     "text": [
      "[\n",
      "  {\n",
      "    \"category\": \"contracts\",\n",
      "    \"aggregated_amount\": 593973658.84\n",
      "  },\n",
      "  {\n",
      "    \"category\": \"direct_payments\",\n",
      "    \"aggregated_amount\": 505458682.16\n",
      "  },\n",
      "  {\n",
      "    \"category\": \"grants\",\n",
      "    \"aggregated_amount\": 309093580.28\n",
      "  },\n",
      "  {\n",
      "    \"category\": \"idvs\",\n",
      "    \"aggregated_amount\": 1033114.79\n",
      "  },\n",
      "  {\n",
      "    \"category\": \"loans\",\n",
      "    \"aggregated_amount\": 0\n",
      "  },\n",
      "  {\n",
      "    \"category\": \"other\",\n",
      "    \"aggregated_amount\": 416415.66\n",
      "  }\n",
      "]\n"
     ]
    }
   ],
   "source": [
    "%%bash\n",
    "\n",
    "# Retrieve the toptier_code\n",
    "# Can be set to the desired department\n",
    "toptier_code=$(cat output.txt | jq -r '.[\"Department of the Interior\"]')\n",
    "\n",
    "# Create complete url for retrieving api data\n",
    "url=\"/api/v2/agency/${toptier_code}/obligations_by_award_category/\"\n",
    "\n",
    "# Get the raw data from the api\n",
    "obligations_by_category_data=$(./api_data -id \"${url}\"| jq '.')\n",
    "\n",
    "# Output the data to .txt file\n",
    "echo \"${obligations_by_category_data}\" > obligations_by_category_data.txt\n",
    "\n",
    "# Print the modified data\n",
    "echo \"${obligations_by_category_data}\" | jq '.[\"results\"]'"
   ]
  },
  {
   "attachments": {},
   "cell_type": "markdown",
   "metadata": {},
   "source": [
    "It may be useful to limit our results to those with aggregated amounts greater than 0:"
   ]
  },
  {
   "cell_type": "code",
   "execution_count": 23,
   "metadata": {},
   "outputs": [
    {
     "name": "stdout",
     "output_type": "stream",
     "text": [
      "{\n",
      "  \"contracts\": 593973658.84,\n",
      "  \"direct_payments\": 505458682.16,\n",
      "  \"grants\": 309093580.28,\n",
      "  \"idvs\": 1033114.79,\n",
      "  \"other\": 416415.66\n",
      "}\n"
     ]
    }
   ],
   "source": [
    "%%bash\n",
    "\n",
    "# Reformat the data where category : aggregated_amount and aggregated amount > 0\n",
    "formatted_data=$(cat obligations_by_category_data.txt | jq -r '.results | map(select(.aggregated_amount > 0) | {(.category): .aggregated_amount}) | add')\n",
    "\n",
    "echo \"${formatted_data}\""
   ]
  }
 ],
 "metadata": {
  "kernelspec": {
   "display_name": "Python 3.11.0 ('env1')",
   "language": "python",
   "name": "python3"
  },
  "language_info": {
   "codemirror_mode": {
    "name": "ipython",
    "version": 3
   },
   "file_extension": ".py",
   "mimetype": "text/x-python",
   "name": "python",
   "nbconvert_exporter": "python",
   "pygments_lexer": "ipython3",
   "version": "3.10.12"
  },
  "vscode": {
   "interpreter": {
    "hash": "c52b840070689c4b907dd1334bdb4b85c82464f1e5b364052a5c5dee61f27789"
   }
  }
 },
 "nbformat": 4,
 "nbformat_minor": 2
}
