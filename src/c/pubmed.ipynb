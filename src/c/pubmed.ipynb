{
 "cells": [
  {
   "cell_type": "markdown",
   "metadata": {
    "pycharm": {
     "name": "#%% md\n"
    }
   },
   "source": [
    "# PubMed API in C\n",
    "\n",
    "by Cyrus Gomes\n",
    "\n",
    "These recipe examples were tested on July 25, 2023.\n",
    "\n",
    "**NCBI Entrez Programming Utilities documentation:** https://www.ncbi.nlm.nih.gov/books/NBK25501/\n",
    "\n",
    "**Please see NCBI's Data Usage Policies and Disclaimers:** https://www.ncbi.nlm.nih.gov/home/about/policies/"
   ]
  },
  {
   "cell_type": "markdown",
   "metadata": {
    "id": "c09M9YME1Yny"
   },
   "source": [
    "## Setup"
   ]
  },
  {
   "cell_type": "markdown",
   "metadata": {
    "id": "S74qQhZV1Ynz"
   },
   "source": [
    "First, install the CURL and jq package by typing the following command in the terminal:"
   ]
  },
  {
   "cell_type": "code",
   "execution_count": null,
   "metadata": {},
   "outputs": [],
   "source": [
    "!sudo apt install curl jq libcurl4-openssl-dev"
   ]
  },
  {
   "cell_type": "markdown",
   "metadata": {},
   "source": [
    "Then we set a directory where we want the PubMed directory for our projects to be created:"
   ]
  },
  {
   "cell_type": "code",
   "execution_count": 1,
   "metadata": {},
   "outputs": [],
   "source": [
    "!mkdir PubMed"
   ]
  },
  {
   "cell_type": "markdown",
   "metadata": {},
   "source": [
    "Finally, we change the directory to the folder we created:"
   ]
  },
  {
   "cell_type": "code",
   "execution_count": null,
   "metadata": {},
   "outputs": [],
   "source": [
    "%cd PubMed"
   ]
  },
  {
   "cell_type": "markdown",
   "metadata": {
    "id": "DqUjAIV_Xkhf"
   },
   "source": [
    "## 1. Basic PubMed API call"
   ]
  },
  {
   "cell_type": "markdown",
   "metadata": {},
   "source": [
    "We initialize a folder for the current project that we are working on. And then change to that directory"
   ]
  },
  {
   "cell_type": "code",
   "execution_count": 3,
   "metadata": {},
   "outputs": [],
   "source": [
    "!mkdir basic_api_call"
   ]
  },
  {
   "cell_type": "code",
   "execution_count": null,
   "metadata": {},
   "outputs": [],
   "source": [
    "%cd basic_api_call"
   ]
  },
  {
   "cell_type": "markdown",
   "metadata": {},
   "source": [
    "Then we utilize `%%file` command to create the following makefile which will compile our program and create an executable."
   ]
  },
  {
   "cell_type": "code",
   "execution_count": null,
   "metadata": {},
   "outputs": [],
   "source": [
    "%%file makefile\n",
    "\n",
    "# Set the variable CC to gcc, which is used to build the program\n",
    "CC=gcc\n",
    "\n",
    "# Enable debugging information and enable all compiler warnings\n",
    "CFLAGS=-g -Wall\n",
    "\n",
    "# Sets the bin variable as the name of the binary file we are creating\n",
    "BIN=api_call\n",
    "\n",
    "# Create the binary file with the name we put\n",
    "all: $(BIN)\n",
    "\n",
    "# Map any file ending in .c to a binary executable. \n",
    "# \"$<\" represents the .c file and \"$@\" represents the target binary executable\n",
    "%: %.c\n",
    "\n",
    "\t# Compile the .c file using the gcc compiler with the CFLAGS and links \n",
    "\t# resulting binary with the CURL library\n",
    "\t$(CC) $(CFLAGS) $< -o $@ -lcurl\n",
    "\n",
    "# Clean target which removes specific files\n",
    "clean:\n",
    "\n",
    "\t# Remove the binary file and an \".dSYM\" (debug symbols for debugging) directories\n",
    "\t# the RM command used -r to remove directories and -f to force delete\n",
    "\t$(RM) -rf $(BIN) *.dSYM"
   ]
  },
  {
   "cell_type": "markdown",
   "metadata": {},
   "source": [
    "The command is used again to create our .c file which contains the code for the program"
   ]
  },
  {
   "cell_type": "code",
   "execution_count": null,
   "metadata": {},
   "outputs": [],
   "source": [
    "%%file api_call.c\n",
    "\n",
    "#include <curl/curl.h>\n",
    "#include <stdio.h>\n",
    "#include <stdlib.h>\n",
    "#include <string.h>\n",
    "\n",
    "/* CURL program that retrieves JSON data from the Pub Chem API\n",
    "This program allows custom indicator data set to be used */\n",
    "\n",
    "/* We are going to be inputting the custom ID like this: ./api_call -i 42342346\n",
    "If the arguments are missing then we use the default: \"27933103\" */\n",
    "\n",
    "int main (int argc, char* argv[]) {\n",
    "    \n",
    "    // If arguments are invalid then return\n",
    "    if (argc > 5) {                                                                                      \n",
    "        printf(\"Error. Please try again correctly.\\n\");\n",
    "        return -1;\n",
    "    }\n",
    "\n",
    "    // Default indicator code\n",
    "    char indicator[100] = {}; \n",
    "\n",
    "    // If there is ./api_call or -i\n",
    "    if ((argc == 1) || ((argc == 2) && (strcmp(argv[1], \"-i\")==0))) {\n",
    "        // These arguments run the default parameters and keeps the codes as they are\n",
    "        strcat(indicator, \"27933103\");\n",
    "    }\n",
    "\n",
    "    // If there is ./api_call -i 34813985\n",
    "    else if ((argc == 3) && (strcmp(argv[1], \"-i\")==0)) {\n",
    "        // Only the country code is changed\n",
    "        strcat(indicator, argv[2]);\n",
    "    }\n",
    "\n",
    "    else {\n",
    "        printf(\"usage: ./api_call [-i] indicator\\n\\n\");\n",
    "        printf(\"the custom_ID program is used to retrieve json data from the Pub Med API\\n\\n\");\n",
    "        printf(\"optional arguments\\n\");\n",
    "        printf(\"\\t -i ID    optional custom PubMed ID; default is '27933103'\\n\");\n",
    "        return -1;\n",
    "    }\n",
    "\n",
    "    // Initialize the CURL HTTP connection\n",
    "    CURL *curl = curl_easy_init();\n",
    "\n",
    "    // Bits of the url that are joined together later\n",
    "    char api[] = \"https://eutils.ncbi.nlm.nih.gov/entrez/eutils/esummary.fcgi?db=pubmed&\";                                                                     \n",
    "    char type1[] = \"id=\";                          \n",
    "    char url[1000];\n",
    "    char label[] = \"&retmode=json\";\n",
    "\n",
    "    // Check if CURL initialization is a success or not\n",
    "    if (!curl) {                                                                                         \n",
    "        fprintf(stderr, \"init failed\\n\");\n",
    "        return EXIT_FAILURE;\n",
    "    }\n",
    "        \n",
    "    // Combine all the bits to produce a functioning url\n",
    "    sprintf(url, \"%s%s%s%s\", api, type1 , indicator, label);                                             \n",
    "                                          \n",
    "    // Set the url to which the HTTP request will be sent to\n",
    "    // first parameter is for the initialized curl HTTP request, second for the option to be set, and third for the value to be set\n",
    "    curl_easy_setopt(curl, CURLOPT_URL, url);\n",
    "\n",
    "    // If result is not retrieved then output error\n",
    "    CURLcode result = curl_easy_perform(curl);\n",
    "\n",
    "    // If result is not retrieved then output error\n",
    "    if (result != CURLE_OK) {                                                                            \n",
    "        fprintf(stderr, \"download problem: %s\\n\", curl_easy_strerror(result));\n",
    "    }\n",
    "\n",
    "    // Deallocate memory for the CURL connection\n",
    "    curl_easy_cleanup(curl);                                                                            \n",
    "    return EXIT_SUCCESS;\n",
    "}"
   ]
  },
  {
   "cell_type": "markdown",
   "metadata": {},
   "source": [
    "The folowing program is run, and an executable is created after using the following command:"
   ]
  },
  {
   "cell_type": "code",
   "execution_count": null,
   "metadata": {},
   "outputs": [],
   "source": [
    "!make"
   ]
  },
  {
   "cell_type": "markdown",
   "metadata": {},
   "source": [
    "The article we are requesting has PubMed ID: 27933103"
   ]
  },
  {
   "cell_type": "markdown",
   "metadata": {},
   "source": [
    "To print the following json data we do the following:"
   ]
  },
  {
   "cell_type": "code",
   "execution_count": null,
   "metadata": {},
   "outputs": [],
   "source": [
    "!./api_call | jq '.'"
   ]
  },
  {
   "cell_type": "markdown",
   "metadata": {},
   "source": [
    "To output the data for multiple ids from the PubMed API, we enter the following command:"
   ]
  },
  {
   "cell_type": "code",
   "execution_count": null,
   "metadata": {},
   "outputs": [],
   "source": [
    "!./api_call -i \"34813985,34813140\" | jq '.'"
   ]
  },
  {
   "cell_type": "markdown",
   "metadata": {},
   "source": [
    "To output the data for multiple ids from the PubMed API, we enter the following command:"
   ]
  },
  {
   "cell_type": "code",
   "execution_count": null,
   "metadata": {},
   "outputs": [],
   "source": [
    "!./api_call | jq '.[\"result\"][\"27933103\"][\"authors\"][]'"
   ]
  },
  {
   "cell_type": "markdown",
   "metadata": {},
   "source": [
    "To output only the author names:"
   ]
  },
  {
   "cell_type": "code",
   "execution_count": 11,
   "metadata": {},
   "outputs": [
    {
     "name": "stdout",
     "output_type": "stream",
     "text": [
      "\u001b[0;32m\"Scalfani VF\"\u001b[0m\n",
      "\u001b[0;32m\"Williams AJ\"\u001b[0m\n",
      "\u001b[0;32m\"Tkachenko V\"\u001b[0m\n",
      "\u001b[0;32m\"Karapetyan K\"\u001b[0m\n",
      "\u001b[0;32m\"Pshenichnov A\"\u001b[0m\n",
      "\u001b[0;32m\"Hanson RM\"\u001b[0m\n",
      "\u001b[0;32m\"Liddie JM\"\u001b[0m\n",
      "\u001b[0;32m\"Bara JE\"\u001b[0m\n"
     ]
    }
   ],
   "source": [
    "!./api_call | jq '.[\"result\"][\"27933103\"][\"authors\"][][\"name\"]'"
   ]
  },
  {
   "cell_type": "markdown",
   "metadata": {},
   "source": [
    "To output the source name from the PubMed API, we enter the following command:"
   ]
  },
  {
   "cell_type": "code",
   "execution_count": 12,
   "metadata": {},
   "outputs": [
    {
     "name": "stdout",
     "output_type": "stream",
     "text": [
      "\u001b[0;32m\"Methods Mol Biol\"\u001b[0m\n"
     ]
    }
   ],
   "source": [
    "!./api_call -i 34813072 | jq '.[\"result\"][\"34813072\"][\"source\"]'"
   ]
  },
  {
   "cell_type": "markdown",
   "metadata": {},
   "source": [
    "Here, we output the source name for multiple ids:"
   ]
  },
  {
   "cell_type": "code",
   "execution_count": 2,
   "metadata": {},
   "outputs": [
    {
     "name": "stdout",
     "output_type": "stream",
     "text": [
      "\u001b[0;32m\"Cell Calcium\"\u001b[0m\n",
      "\u001b[0;32m\"Methods\"\u001b[0m\n",
      "\u001b[0;32m\"FEBS J\"\u001b[0m\n",
      "\u001b[0;32m\"Dev Growth Differ\"\u001b[0m\n",
      "\u001b[0;32m\"CRISPR J\"\u001b[0m\n",
      "\u001b[0;32m\"Chembiochem\"\u001b[0m\n",
      "\u001b[0;32m\"Methods Mol Biol\"\u001b[0m\n"
     ]
    }
   ],
   "source": [
    "%%bash\n",
    "\n",
    "# List of IDs\n",
    "idList=('34813985' '34813932' '34813684' '34813661' '34813372' '34813140' '34813072')\n",
    "\n",
    "for id in \"${idList[@]}\"; do \n",
    "\n",
    "    # Retrieve the source name for the given id\n",
    "    ./api_call -i \"$id\" | jq --arg location \"$id\" '.[\"result\"][$location][\"source\"]'\n",
    "    \n",
    "    # Sleep delay\n",
    "    sleep 1\n",
    "    \n",
    "done"
   ]
  },
  {
   "cell_type": "markdown",
   "metadata": {
    "pycharm": {
     "name": "#%% md\n"
    }
   },
   "source": [
    "## 2. PubMed API Calls with Requests & Parameters"
   ]
  },
  {
   "cell_type": "markdown",
   "metadata": {},
   "source": [
    "We go back to our original directory"
   ]
  },
  {
   "cell_type": "code",
   "execution_count": null,
   "metadata": {},
   "outputs": [],
   "source": [
    "%cd .."
   ]
  },
  {
   "cell_type": "markdown",
   "metadata": {},
   "source": [
    "We initialize a folder for the current project that we are working on. And then change to that directory"
   ]
  },
  {
   "cell_type": "code",
   "execution_count": 15,
   "metadata": {},
   "outputs": [],
   "source": [
    "!mkdir api_request_parameter"
   ]
  },
  {
   "cell_type": "markdown",
   "metadata": {},
   "source": [
    "We then change directory to the project that we are working on"
   ]
  },
  {
   "cell_type": "code",
   "execution_count": null,
   "metadata": {},
   "outputs": [],
   "source": [
    "%cd api_request_parameter"
   ]
  },
  {
   "cell_type": "code",
   "execution_count": null,
   "metadata": {},
   "outputs": [],
   "source": [
    "%%file makefile\n",
    "\n",
    "# Set the variable CC to gcc, which is used to build the program\n",
    "CC=gcc\n",
    "\n",
    "# Enable debugging information and enable all compiler warnings\n",
    "CFLAGS=-g -Wall\n",
    "\n",
    "# Set the bin variable as the name of the binary file we are creating\n",
    "BIN=api_req_par\n",
    "\n",
    "# Create the binary file with the name we put\n",
    "all: $(BIN)\n",
    "\n",
    "# Map any file ending in .c to a binary executable. \n",
    "# \"$<\" represents the .c file and \"$@\" represents the target binary executable\n",
    "%: %.c\n",
    "\n",
    "\t# Compile the .c file using the gcc compiler with the CFLAGS and links \n",
    "\t# resulting binary with the CURL library\n",
    "\t$(CC) $(CFLAGS) $< -o $@ -lcurl\n",
    "\n",
    "# Clean target which removes specific files\n",
    "clean:\n",
    "\n",
    "\t# Remove the binary file and an \".dSYM\" (debug symbols for debugging) directories\n",
    "\t# the RM command used -r to remove directories and -f to force delete\n",
    "\t$(RM) -rf $(BIN) *.dSYM"
   ]
  },
  {
   "cell_type": "markdown",
   "metadata": {},
   "source": [
    "The command is used again to create our .c file which contains the code for the program"
   ]
  },
  {
   "cell_type": "code",
   "execution_count": null,
   "metadata": {},
   "outputs": [],
   "source": [
    "%%file api_req_par.c\n",
    "\n",
    "#include <curl/curl.h>\n",
    "#include <stdio.h>\n",
    "#include <stdlib.h>\n",
    "#include <string.h>\n",
    "\n",
    "/* CURL program that retrieves JSON data from the PubMed API\n",
    "This program allows custom request to be used along with the parameter */\n",
    "\n",
    "/* We will input the custom database and query like this: ./api_req_par -d \"pubmed\" -q \"neuroscience+intervention+learning\"\n",
    "If the arguments are missing then we use the default: \"pubmed\" \"neuroscience\" */\n",
    "\n",
    "int main (int argc, char* argv[]) {\n",
    "    \n",
    "    // If arguments are invalid just return\n",
    "    if (argc > 5) {                                                                                      \n",
    "        printf(\"Error. Please try again correctly.\\n\");\n",
    "        return -1;\n",
    "    }\n",
    "\n",
    "    // Default parameter and request codes\n",
    "    char parameter[100] = {};\n",
    "    char request[500] = {}; \n",
    "\n",
    "    // If there is ./api_req_par -d/-q\n",
    "    if ((argc == 1) || ((argc == 2) && ((strcmp(argv[1], \"-d\")==0) || (strcmp(argv[1], \"-q\")==0)))) {\n",
    "        // These arguments run the default parameters and keeps the codes as they are\n",
    "        strcat(parameter,\"pubmed\");\n",
    "        strcat(request, \"neuroscience\");\n",
    "    }\n",
    "\n",
    "    // If there is ./api_req_par -d \"pubmed\"\n",
    "    else if ((argc == 3) && (strcmp(argv[1], \"-d\")==0)) {\n",
    "        // Only the parameter code is changed\n",
    "        strcat(parameter,argv[2]);\n",
    "        strcat(request, \"neuroscience\");\n",
    "    }\n",
    "\n",
    "    // If there is ./api_req_par -d \"pubmed\" -q\n",
    "    else if ((argc == 4) && (strcmp(argv[1], \"-d\")==0) && (strcmp(argv[3], \"-q\")==0)) {\n",
    "        // Only the parameter code is changed\n",
    "        strcat(parameter,argv[2]);\n",
    "        strcat(request, \"neuroscience\");\n",
    "    }\n",
    "\n",
    "    // If there is ./api_req_par -d \"pubmed\" -q \"neuroscience+intervention+learning\"\n",
    "    else if ((argc == 5) && (strcmp(argv[1], \"-d\")==0) && (strcmp(argv[3], \"-q\")==0)) {\n",
    "        // Both the parameter and request codes are changed\n",
    "        strcat(parameter,argv[2]);\n",
    "        strcat(request, argv[4]);\n",
    "    }\n",
    "\n",
    "    // If there is ./api_req_par -q \"neuroscience+intervention+learning\"\n",
    "    else if ((argc == 3) && (strcmp(argv[1], \"-q\")==0)) {\n",
    "        // Only the request code is changed\n",
    "        strcat(parameter,\"pubmed\");\n",
    "        strcat(request, argv[2]);\n",
    "    }\n",
    "\n",
    "    // If there is ./api_req_par -q \"neuroscience+intervention+learning\" -d\n",
    "    else if ((argc == 4) && (strcmp(argv[1], \"-q\")==0) && (strcmp(argv[3], \"-d\")==0)) {\n",
    "        // Only the request code is changed\n",
    "        strcat(parameter,\"pubmed\");\n",
    "        strcat(request, argv[2]);\n",
    "    }\n",
    "\n",
    "    // If there is ./api_req_par -q \"neuroscience+intervention+learning\" -d \"pubmed\" \n",
    "    else if ((argc == 5) && (strcmp(argv[1], \"-q\")==0) && (strcmp(argv[3], \"-d\")==0)) {\n",
    "        // Both the request and parameter codes are changed\n",
    "        strcat(parameter,argv[4]);\n",
    "        strcat(request, argv[2]);\n",
    "    }\n",
    "\n",
    "    else {\n",
    "        printf(\"usage: ./api_req_par [-q] request [-d] parameter\\n\\n\");\n",
    "        printf(\"the api_req_par program is used to retrieve json data from the PubMed API\\n\\n\");\n",
    "        printf(\"optional arguments\\n\");\n",
    "        printf(\"\\t -q query        optional custom query; default is 'neuroscience'\\n\");\n",
    "        printf(\"\\t -d parameter    optional custom database code; default is 'pubmed',  see: https://www.ncbi.nlm.nih.gov/books/NBK25499/\\n\");\n",
    "        return -1;\n",
    "    }\n",
    "\n",
    "    // Initialize the CURL HTTP connection\n",
    "    CURL *curl = curl_easy_init();\n",
    "\n",
    "    // Bits of the url that are joined together later\n",
    "    char api[] = \"https://eutils.ncbi.nlm.nih.gov/entrez/eutils/esearch.fcgi?db=\";                                                                     \n",
    "    char type1[] = \"&\";\n",
    "    char type2[] = \"term=\";\n",
    "    char type3[] = \"&retmode=json\";                           \n",
    "    char url[1000];\n",
    "\n",
    "    // Check if CURL initialization is a success or not\n",
    "    if (!curl) {                                                                                         \n",
    "        fprintf(stderr, \"init failed\\n\");\n",
    "        return EXIT_FAILURE;\n",
    "    }\n",
    "        \n",
    "    // Combine all the bits to produce a functioning url\n",
    "    sprintf(url, \"%s%s%s%s%s%s\", api, parameter, type1 , type2, request, type3);                                             \n",
    "                                          \n",
    "\n",
    "    // Set the url to which the HTTP request will be sent to\n",
    "    // first parameter is for the initialized curl HTTP request, second for the option to be set, and third for the value to be set\n",
    "    curl_easy_setopt(curl, CURLOPT_URL, url);\n",
    "\n",
    "    // If result is not retrieved then output error\n",
    "    CURLcode result = curl_easy_perform(curl);\n",
    "\n",
    "    // If result is not retrieved then output error\n",
    "    if (result != CURLE_OK) {                                                                            \n",
    "        fprintf(stderr, \"download problem: %s\\n\", curl_easy_strerror(result));\n",
    "    }\n",
    "\n",
    "    // Deallocate memory for the CURL connection\n",
    "    curl_easy_cleanup(curl);                                                                            \n",
    "    return EXIT_SUCCESS;\n",
    "}"
   ]
  },
  {
   "cell_type": "markdown",
   "metadata": {},
   "source": [
    "The folowing program is run, and an executable is created after using the following command:"
   ]
  },
  {
   "cell_type": "code",
   "execution_count": null,
   "metadata": {},
   "outputs": [],
   "source": [
    "!make"
   ]
  },
  {
   "cell_type": "markdown",
   "metadata": {},
   "source": [
    "The default parameter is \"pubmed\" and the default requests are \"neuroscience\""
   ]
  },
  {
   "cell_type": "markdown",
   "metadata": {},
   "source": [
    "The folowing program is run, and an executable is created after using the following command:  "
   ]
  },
  {
   "cell_type": "code",
   "execution_count": null,
   "metadata": {},
   "outputs": [],
   "source": [
    "!./api_req_par| jq '.'"
   ]
  },
  {
   "cell_type": "code",
   "execution_count": null,
   "metadata": {},
   "outputs": [],
   "source": [
    "!./api_req_par -q \"aspirin\" -d \"pccompound\" | jq '.'"
   ]
  },
  {
   "cell_type": "markdown",
   "metadata": {},
   "source": [
    "The number of returned IDs can be adjusted with the retmax paramater:"
   ]
  },
  {
   "cell_type": "code",
   "execution_count": 1,
   "metadata": {},
   "outputs": [
    {
     "name": "stdout",
     "output_type": "stream",
     "text": [
      "\u001b[1;39m[\n",
      "  \u001b[0;32m\"38305455\"\u001b[0m\u001b[1;39m,\n",
      "  \u001b[0;32m\"38304851\"\u001b[0m\u001b[1;39m,\n",
      "  \u001b[0;32m\"38304576\"\u001b[0m\u001b[1;39m,\n",
      "  \u001b[0;32m\"38303964\"\u001b[0m\u001b[1;39m,\n",
      "  \u001b[0;32m\"38303627\"\u001b[0m\u001b[1;39m,\n",
      "  \u001b[0;32m\"38302998\"\u001b[0m\u001b[1;39m,\n",
      "  \u001b[0;32m\"38302981\"\u001b[0m\u001b[1;39m,\n",
      "  \u001b[0;32m\"38302296\"\u001b[0m\u001b[1;39m,\n",
      "  \u001b[0;32m\"38301832\"\u001b[0m\u001b[1;39m,\n",
      "  \u001b[0;32m\"38301514\"\u001b[0m\u001b[1;39m,\n",
      "  \u001b[0;32m\"38301234\"\u001b[0m\u001b[1;39m,\n",
      "  \u001b[0;32m\"38300213\"\u001b[0m\u001b[1;39m,\n",
      "  \u001b[0;32m\"38299388\"\u001b[0m\u001b[1;39m,\n",
      "  \u001b[0;32m\"38298927\"\u001b[0m\u001b[1;39m,\n",
      "  \u001b[0;32m\"38298912\"\u001b[0m\u001b[1;39m,\n",
      "  \u001b[0;32m\"38298803\"\u001b[0m\u001b[1;39m,\n",
      "  \u001b[0;32m\"38298796\"\u001b[0m\u001b[1;39m,\n",
      "  \u001b[0;32m\"38298788\"\u001b[0m\u001b[1;39m,\n",
      "  \u001b[0;32m\"38298783\"\u001b[0m\u001b[1;39m,\n",
      "  \u001b[0;32m\"38298781\"\u001b[0m\u001b[1;39m,\n",
      "  \u001b[0;32m\"38298775\"\u001b[0m\u001b[1;39m,\n",
      "  \u001b[0;32m\"38297494\"\u001b[0m\u001b[1;39m,\n",
      "  \u001b[0;32m\"38296969\"\u001b[0m\u001b[1;39m,\n",
      "  \u001b[0;32m\"38295471\"\u001b[0m\u001b[1;39m,\n",
      "  \u001b[0;32m\"38293166\"\u001b[0m\u001b[1;39m\n",
      "\u001b[1;39m]\u001b[0m\n"
     ]
    }
   ],
   "source": [
    "!./api_req_par -q \"neuroscience+intervention+learning&retmax=25\" | jq '.esearchresult.idlist'"
   ]
  },
  {
   "cell_type": "code",
   "execution_count": 23,
   "metadata": {},
   "outputs": [
    {
     "name": "stdout",
     "output_type": "stream",
     "text": [
      "\u001b[0;39m25\u001b[0m\n"
     ]
    }
   ],
   "source": [
    "!./api_req_par -q \"neuroscience+intervention+learning&retmax=25\" | jq '.esearchresult.idlist | length'"
   ]
  },
  {
   "cell_type": "markdown",
   "metadata": {
    "pycharm": {
     "name": "#%% md\n"
    }
   },
   "source": [
    "We can also use the query to search for an author.\n",
    "\n",
    "We will add `[au]` after the name to specify it is an author"
   ]
  },
  {
   "cell_type": "code",
   "execution_count": 24,
   "metadata": {},
   "outputs": [
    {
     "name": "stdout",
     "output_type": "stream",
     "text": [
      "\u001b[0;32m\"630\"\u001b[0m\n"
     ]
    }
   ],
   "source": [
    "!./api_req_par -q \"Darwin[au]\" | jq '.esearchresult.count'"
   ]
  },
  {
   "cell_type": "markdown",
   "metadata": {
    "pycharm": {
     "name": "#%% md\n"
    }
   },
   "source": [
    "We get the `idlist` for the custom request:"
   ]
  },
  {
   "cell_type": "code",
   "execution_count": 25,
   "metadata": {},
   "outputs": [
    {
     "name": "stdout",
     "output_type": "stream",
     "text": [
      "\u001b[1;39m[\n",
      "  \u001b[0;32m\"37393678\"\u001b[0m\u001b[1;39m,\n",
      "  \u001b[0;32m\"37315600\"\u001b[0m\u001b[1;39m,\n",
      "  \u001b[0;32m\"37209734\"\u001b[0m\u001b[1;39m,\n",
      "  \u001b[0;32m\"37290662\"\u001b[0m\u001b[1;39m,\n",
      "  \u001b[0;32m\"37286001\"\u001b[0m\u001b[1;39m,\n",
      "  \u001b[0;32m\"37257610\"\u001b[0m\u001b[1;39m,\n",
      "  \u001b[0;32m\"37247740\"\u001b[0m\u001b[1;39m,\n",
      "  \u001b[0;32m\"37286027\"\u001b[0m\u001b[1;39m,\n",
      "  \u001b[0;32m\"37399735\"\u001b[0m\u001b[1;39m,\n",
      "  \u001b[0;32m\"37385181\"\u001b[0m\u001b[1;39m,\n",
      "  \u001b[0;32m\"37331272\"\u001b[0m\u001b[1;39m,\n",
      "  \u001b[0;32m\"37311517\"\u001b[0m\u001b[1;39m,\n",
      "  \u001b[0;32m\"37137368\"\u001b[0m\u001b[1;39m,\n",
      "  \u001b[0;32m\"37105476\"\u001b[0m\u001b[1;39m,\n",
      "  \u001b[0;32m\"37022443\"\u001b[0m\u001b[1;39m,\n",
      "  \u001b[0;32m\"36549653\"\u001b[0m\u001b[1;39m,\n",
      "  \u001b[0;32m\"37465983\"\u001b[0m\u001b[1;39m,\n",
      "  \u001b[0;32m\"37487981\"\u001b[0m\u001b[1;39m,\n",
      "  \u001b[0;32m\"37481620\"\u001b[0m\u001b[1;39m,\n",
      "  \u001b[0;32m\"37100135\"\u001b[0m\u001b[1;39m\n",
      "\u001b[1;39m]\u001b[0m\n"
     ]
    }
   ],
   "source": [
    "!./api_req_par -q \"Coral+Reefs&retmode=json&usehistory=y&sort=pub+date\" | jq '.esearchresult.idlist'"
   ]
  },
  {
   "cell_type": "markdown",
   "metadata": {},
   "source": [
    "Searching based on publication types:\n",
    "\n",
    "we can do this by adding **AND** into the search\n",
    "```\n",
    "term=<searchQuery>+AND+filter[filterType]\n",
    "```\n",
    "```[pt]``` specifies that the filter type is publication type\n",
    "\n",
    "More filters can be found at https://pubmed.ncbi.nlm.nih.gov/help/"
   ]
  },
  {
   "cell_type": "code",
   "execution_count": null,
   "metadata": {},
   "outputs": [],
   "source": [
    "!./api_req_par -q \"stem+cells+AND+clinical+trial[pt]\" | jq '{esearchresult: .esearchresult}'"
   ]
  },
  {
   "cell_type": "markdown",
   "metadata": {
    "pycharm": {
     "name": "#%% md\n"
    }
   },
   "source": [
    "## 3. PubMed API metadata visualization"
   ]
  },
  {
   "cell_type": "markdown",
   "metadata": {},
   "source": [
    "### Frequency of topic sortpubdate field\n",
    "Extracting the sortpubdate field for a “hydrogel drug” search results, limited to publication type clinical trials:"
   ]
  },
  {
   "cell_type": "code",
   "execution_count": 27,
   "metadata": {},
   "outputs": [
    {
     "name": "stdout",
     "output_type": "stream",
     "text": [
      "\u001b[1;39m[\n",
      "  \u001b[0;32m\"36418469\"\u001b[0m\u001b[1;39m,\n",
      "  \u001b[0;32m\"36870516\"\u001b[0m\u001b[1;39m,\n",
      "  \u001b[0;32m\"36842739\"\u001b[0m\u001b[1;39m,\n",
      "  \u001b[0;32m\"36203046\"\u001b[0m\u001b[1;39m,\n",
      "  \u001b[0;32m\"36261491\"\u001b[0m\u001b[1;39m,\n",
      "  \u001b[0;32m\"35830550\"\u001b[0m\u001b[1;39m,\n",
      "  \u001b[0;32m\"34653384\"\u001b[0m\u001b[1;39m,\n",
      "  \u001b[0;32m\"35556170\"\u001b[0m\u001b[1;39m,\n",
      "  \u001b[0;32m\"35413602\"\u001b[0m\u001b[1;39m,\n",
      "  \u001b[0;32m\"35041809\"\u001b[0m\u001b[1;39m\n",
      "\u001b[1;39m]\u001b[0m\n"
     ]
    }
   ],
   "source": [
    "!./api_req_par -q \"hydrogel+drug+AND+clinical+trial[pt]&sort=pub+date&retmax=500\" | jq '.esearchresult.idlist[0:10]'"
   ]
  },
  {
   "cell_type": "code",
   "execution_count": 28,
   "metadata": {},
   "outputs": [
    {
     "name": "stdout",
     "output_type": "stream",
     "text": [
      "\u001b[0;39m302\u001b[0m\n"
     ]
    }
   ],
   "source": [
    "!./api_req_par -q \"hydrogel+drug+AND+clinical+trial[pt]&sort=pub+date&retmax=500\" | jq '.esearchresult.idlist | length'"
   ]
  },
  {
   "cell_type": "markdown",
   "metadata": {},
   "source": [
    "The following code will store the list of IDs in a text file:"
   ]
  },
  {
   "cell_type": "code",
   "execution_count": 29,
   "metadata": {},
   "outputs": [],
   "source": [
    "!./api_req_par -q \"hydrogel+drug+AND+clinical+trial[pt]&sort=pub+date&retmax=500\" | jq '.esearchresult.idlist' > idList.txt"
   ]
  },
  {
   "cell_type": "markdown",
   "metadata": {},
   "source": [
    "To format the text file we use:"
   ]
  },
  {
   "cell_type": "code",
   "execution_count": 30,
   "metadata": {},
   "outputs": [],
   "source": [
    "!cat idList.txt | tr -d '\",[]' > idList2.txt"
   ]
  },
  {
   "cell_type": "code",
   "execution_count": 31,
   "metadata": {},
   "outputs": [],
   "source": [
    "!sed -i '/^$/d' idList2.txt"
   ]
  },
  {
   "cell_type": "code",
   "execution_count": 32,
   "metadata": {},
   "outputs": [
    {
     "name": "stdout",
     "output_type": "stream",
     "text": [
      "302\n"
     ]
    }
   ],
   "source": [
    "!cat idList2.txt | wc -l"
   ]
  },
  {
   "cell_type": "markdown",
   "metadata": {},
   "source": [
    "Show the first 10 IDs:"
   ]
  },
  {
   "cell_type": "code",
   "execution_count": 33,
   "metadata": {},
   "outputs": [
    {
     "name": "stdout",
     "output_type": "stream",
     "text": [
      "  36418469\n",
      "  36870516\n",
      "  36842739\n",
      "  36203046\n",
      "  36261491\n",
      "  35830550\n",
      "  34653384\n",
      "  35556170\n",
      "  35413602\n",
      "  35041809\n"
     ]
    }
   ],
   "source": [
    "!head -10 idList2.txt"
   ]
  },
  {
   "cell_type": "markdown",
   "metadata": {},
   "source": [
    "We want to get the E-summary of each of the IDs:"
   ]
  },
  {
   "cell_type": "markdown",
   "metadata": {},
   "source": [
    "Hence we copy the `api_call` program from our previous project to our current directory"
   ]
  },
  {
   "cell_type": "code",
   "execution_count": 34,
   "metadata": {},
   "outputs": [],
   "source": [
    "!cp ../basic_api_call/api_call ."
   ]
  },
  {
   "cell_type": "markdown",
   "metadata": {},
   "source": [
    "We test to see if we get the date for one ID"
   ]
  },
  {
   "cell_type": "code",
   "execution_count": 35,
   "metadata": {},
   "outputs": [
    {
     "name": "stdout",
     "output_type": "stream",
     "text": [
      "\u001b[0;32m\"2022/01/01\"\u001b[0m\n"
     ]
    }
   ],
   "source": [
    "!./api_call -i 34813072 | jq '.[\"result\"][\"34813072\"][\"sortpubdate\"][0:10]'"
   ]
  },
  {
   "cell_type": "markdown",
   "metadata": {},
   "source": [
    "We then do the same to all the IDs and store them in a .txt file"
   ]
  },
  {
   "cell_type": "code",
   "execution_count": 3,
   "metadata": {},
   "outputs": [],
   "source": [
    "%%bash\n",
    "\n",
    "# Now loop through each IDs and get the sortpubdate field. \n",
    "# Note that this sortpubdate field may not necassarily be equivalent to a publication date\n",
    "\n",
    "while read id; do\n",
    "\n",
    "  # Retrieve data from the api and append the date to the .txt file\n",
    "  ./api_call -i \"$id\" | jq --arg ids \"$id\" '.[\"result\"][$ids][\"sortpubdate\"][0:10]' >> date_time.txt\n",
    "  \n",
    "  # Sleep delay\n",
    "  sleep 1\n",
    "  \n",
    "done < idList2.txt"
   ]
  },
  {
   "cell_type": "code",
   "execution_count": 4,
   "metadata": {},
   "outputs": [
    {
     "name": "stdout",
     "output_type": "stream",
     "text": [
      "\"2010/09/01\"\n",
      "\"2009/03/01\"\n",
      "\"2009/03/01\"\n",
      "\"2010/08/01\"\n",
      "\"2009/03/01\"\n",
      "\"2010/08/01\"\n",
      "\"2009/02/15\"\n",
      "\"2010/07/01\"\n",
      "\"2009/02/01\"\n",
      "\"2010/01/01\"\n"
     ]
    }
   ],
   "source": [
    "!head -10 date_time.txt"
   ]
  },
  {
   "cell_type": "markdown",
   "metadata": {
    "pycharm": {
     "name": "#%% md\n"
    }
   },
   "source": [
    "### Frequency of publication for an author search"
   ]
  },
  {
   "cell_type": "code",
   "execution_count": 38,
   "metadata": {},
   "outputs": [
    {
     "name": "stdout",
     "output_type": "stream",
     "text": [
      "\u001b[0;32m\"59\"\u001b[0m\n"
     ]
    }
   ],
   "source": [
    "!./api_req_par -q \"Reed+LK[au]&sort=pub+date&retmax=500\" | jq '.[\"esearchresult\"][\"count\"]'"
   ]
  },
  {
   "cell_type": "markdown",
   "metadata": {},
   "source": [
    "We store the id list data in a .txt file"
   ]
  },
  {
   "cell_type": "code",
   "execution_count": 5,
   "metadata": {},
   "outputs": [],
   "source": [
    "!./api_req_par -q \"Reed+LK[au]&sort=pub+date&retmax=500\" | jq '.[\"esearchresult\"][\"idlist\"]' > id_list3.txt"
   ]
  },
  {
   "cell_type": "markdown",
   "metadata": {},
   "source": [
    "To format the text file we use:"
   ]
  },
  {
   "cell_type": "code",
   "execution_count": 6,
   "metadata": {},
   "outputs": [],
   "source": [
    "!cat id_list3.txt | tr -d '\",[]' > idList4.txt"
   ]
  },
  {
   "cell_type": "code",
   "execution_count": 7,
   "metadata": {},
   "outputs": [],
   "source": [
    "!sed -i '/^$/d' idList4.txt"
   ]
  },
  {
   "cell_type": "code",
   "execution_count": 8,
   "metadata": {},
   "outputs": [
    {
     "name": "stdout",
     "output_type": "stream",
     "text": [
      "67\n"
     ]
    }
   ],
   "source": [
    "!cat idList4.txt | wc -l"
   ]
  },
  {
   "cell_type": "markdown",
   "metadata": {},
   "source": [
    "Show the first 10 IDs:"
   ]
  },
  {
   "cell_type": "code",
   "execution_count": 43,
   "metadata": {},
   "outputs": [
    {
     "name": "stdout",
     "output_type": "stream",
     "text": [
      "  37302379\n",
      "  36871651\n",
      "  37292993\n",
      "  36468157\n",
      "  35691520\n",
      "  36061313\n",
      "  35856017\n",
      "  34801137\n",
      "  34786536\n",
      "  34425636\n"
     ]
    }
   ],
   "source": [
    "!head -10 idList4.txt"
   ]
  },
  {
   "cell_type": "code",
   "execution_count": 44,
   "metadata": {},
   "outputs": [],
   "source": [
    "%%bash\n",
    "\n",
    "# Algorithm to retrieve the dates for each of the ids\n",
    "\n",
    "while read id; do\n",
    "\n",
    "  ./api_call -i \"$id\" | jq --arg ids \"$id\" '.[\"result\"][$ids][\"sortpubdate\"][0:10]' >> date_time2.txt\n",
    "  \n",
    "  # Sleep delay\n",
    "  sleep 1\n",
    "\n",
    "done < idList4.txt"
   ]
  }
 ],
 "metadata": {
  "kernelspec": {
   "display_name": "Python 3.10.6 64-bit",
   "language": "python",
   "name": "python3"
  },
  "language_info": {
   "codemirror_mode": {
    "name": "ipython",
    "version": 3
   },
   "file_extension": ".py",
   "mimetype": "text/x-python",
   "name": "python",
   "nbconvert_exporter": "python",
   "pygments_lexer": "ipython3",
   "version": "3.8.10"
  },
  "orig_nbformat": 4,
  "vscode": {
   "interpreter": {
    "hash": "916dbcbb3f70747c44a77c7bcd40155683ae19c65e1c03b4aa3499c5328201f1"
   }
  }
 },
 "nbformat": 4,
 "nbformat_minor": 2
}
