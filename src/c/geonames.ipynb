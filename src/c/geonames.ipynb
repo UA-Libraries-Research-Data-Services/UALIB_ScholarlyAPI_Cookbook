{
 "cells": [
  {
   "cell_type": "markdown",
   "metadata": {},
   "source": [
    "# GeoNames API in C\n",
    "\n",
    "by Cyrus Gomes\n",
    "\n",
    "**GeoNames API documentation:** https://www.geonames.org/export/web-services.html\n",
    "\n",
    "**GeoNames API license:** https://www.geonames.org/export/\n",
    "\n",
    "The GeoNames API is licensed under the Creative Commons' [CC 4.0 license](https://creativecommons.org/licenses/by/4.0/), allowing users to share and adapt the API's data for any purpose, as long as appropriate attribution is given.\n",
    "\n",
    "*These recipe examples were tested on August 21, 2024.*\n",
    "\n",
    "**_NOTE:_** The GeoNames API limits users to a maximum of 10000 credits per day and 1000 requests per hour. See [here](https://www.geonames.org/export/credits.html) for a list of how many credits a request to each endpoint uses."
   ]
  },
  {
   "cell_type": "markdown",
   "metadata": {},
   "source": [
    "## Setup"
   ]
  },
  {
   "cell_type": "markdown",
   "metadata": {},
   "source": [
    "First, install the CURL and jq packages by typing the following command in the terminal:"
   ]
  },
  {
   "cell_type": "code",
   "execution_count": null,
   "metadata": {},
   "outputs": [],
   "source": [
    "!sudo apt install curl jq"
   ]
  },
  {
   "cell_type": "markdown",
   "metadata": {},
   "source": [
    "Create a directory for the GeoNames project:"
   ]
  },
  {
   "cell_type": "code",
   "execution_count": 1,
   "metadata": {},
   "outputs": [],
   "source": [
    "!mkdir GeoNames"
   ]
  },
  {
   "cell_type": "markdown",
   "metadata": {},
   "source": [
    "Now, change to the directory we created:"
   ]
  },
  {
   "cell_type": "code",
   "execution_count": null,
   "metadata": {},
   "outputs": [],
   "source": [
    "%cd GeoNames"
   ]
  },
  {
   "cell_type": "markdown",
   "metadata": {},
   "source": [
    "### User Registration\n",
    "\n",
    "Users must register with GeoNames before accessing the GeoNames API. Sign up can be found here: https://www.geonames.org/login\n",
    "\n",
    "Add your username in the textfile we create below."
   ]
  },
  {
   "cell_type": "code",
   "execution_count": 6,
   "metadata": {},
   "outputs": [],
   "source": [
    "# Create the key file\n",
    "!touch \"username.txt\""
   ]
  },
  {
   "cell_type": "markdown",
   "metadata": {},
   "source": [
    "Use the following command to access the key as Jupyter does not allow variable sharing for bash scripts."
   ]
  },
  {
   "cell_type": "code",
   "execution_count": 7,
   "metadata": {},
   "outputs": [],
   "source": [
    "# Input the key into the file by copy/paste or keying in manually\n",
    "# Read the key from the file\n",
    "!username=$(cat \"username.txt\")"
   ]
  },
  {
   "cell_type": "markdown",
   "metadata": {},
   "source": [
    "We use the `%%file` command to create the following makefile which will compile our program and create an executable."
   ]
  },
  {
   "cell_type": "code",
   "execution_count": 8,
   "metadata": {},
   "outputs": [
    {
     "name": "stdout",
     "output_type": "stream",
     "text": [
      "Writing makefile\n"
     ]
    }
   ],
   "source": [
    "%%file makefile\n",
    "\n",
    "# Set the variable CC to gcc, which is used to build the program\n",
    "CC=gcc\n",
    "\n",
    "# Enable debugging information and enable all compiler warnings\n",
    "CFLAGS=-g -Wall\n",
    "\n",
    "# Set the bin variable as the name of the binary file we are creating\n",
    "BIN=geonames\n",
    "\n",
    "# Create the binary file with the name we put\n",
    "all: $(BIN)\n",
    "\n",
    "# Map any file ending in .c to a binary executable. \n",
    "# \"$<\" represents the .c file and \"$@\" represents the target binary executable\n",
    "%: %.c\n",
    "\n",
    "\t# Compile the .c file using the gcc compiler with the CFLAGS and links \n",
    "\t# resulting binary with the CURL library\n",
    "\t$(CC) $(CFLAGS) $< -o $@ -lcurl\n",
    "\n",
    "# Clean target which removes specific files\n",
    "clean:\n",
    "\n",
    "\t# Remove the binary file and an \".dSYM\" (debug symbols for debugging) directories\n",
    "\t# the RM command used -r to remove directories and -f to force delete\n",
    "\t$(RM) -rf $(BIN) *.dSYM"
   ]
  },
  {
   "cell_type": "markdown",
   "metadata": {},
   "source": [
    "This command is used again to create our .c file which contains the code for the program"
   ]
  },
  {
   "cell_type": "code",
   "execution_count": 9,
   "metadata": {},
   "outputs": [
    {
     "name": "stdout",
     "output_type": "stream",
     "text": [
      "Writing ./geonames.c\n"
     ]
    }
   ],
   "source": [
    "%%file ./geonames.c\n",
    "\n",
    "#include <curl/curl.h>\n",
    "#include <stdio.h>\n",
    "#include <stdlib.h>\n",
    "#include <string.h>\n",
    "\n",
    "/* CURL program that retrieves GeoNames data from\n",
    "   https://secure.geonames.org/ */\n",
    "\n",
    "int main(int argc, char *argv[]) {\n",
    "    \n",
    "    // Exit if arguments are invalid\n",
    "    if (argc != 3 || strcmp(argv[1], \"-url\") != 0) {\n",
    "        fprintf(stderr, \"Error. Please provide the URL correctly. (./geonames -url [url])\\n\");\n",
    "        return EXIT_FAILURE;\n",
    "    }\n",
    "\n",
    "    // Algorithm to encode the URL\n",
    "    // Replace spaces with \"%20\" in the URL\n",
    "    char *url = argv[2];\n",
    "    int len = strlen(url);\n",
    "    char *encoded_url = malloc(len * 3 + 1); // Allocate enough space for %20 replacements\n",
    "    if (!encoded_url) {\n",
    "        fprintf(stderr, \"Memory allocation failed\\n\");\n",
    "        return EXIT_FAILURE;\n",
    "    }\n",
    "\n",
    "    int j = 0;\n",
    "    for (int i = 0; i < len; ++i) {\n",
    "        if (url[i] == ' ') {\n",
    "            encoded_url[j++] = '%';\n",
    "            encoded_url[j++] = '2';\n",
    "            encoded_url[j++] = '0';\n",
    "        } else {\n",
    "            encoded_url[j++] = url[i];\n",
    "        }\n",
    "    }\n",
    "    encoded_url[j] = '\\0'; // null-terminate the string\n",
    "\n",
    "    // Initialize CURL HTTP connection\n",
    "    CURL *curl = curl_easy_init();\n",
    "    if (!curl) {\n",
    "        fprintf(stderr, \"CURL initialization failed\\n\");\n",
    "        free(encoded_url);\n",
    "        return EXIT_FAILURE;\n",
    "    }\n",
    "\n",
    "    // Set the URL to which the HTTP request will be sent\n",
    "    curl_easy_setopt(curl, CURLOPT_URL, encoded_url);\n",
    "\n",
    "    // Set option to follow redirections\n",
    "    curl_easy_setopt(curl, CURLOPT_FOLLOWLOCATION, 1L);\n",
    "\n",
    "    // Perform the HTTP request\n",
    "    CURLcode result = curl_easy_perform(curl);\n",
    "\n",
    "    // Check if the request was successful\n",
    "    if (result != CURLE_OK) {\n",
    "        fprintf(stderr, \"Download problem: %s\\n\", curl_easy_strerror(result));\n",
    "    }\n",
    "\n",
    "    // Debugging: Print the response code to stderr\n",
    "    long response_code;\n",
    "    curl_easy_getinfo(curl, CURLINFO_RESPONSE_CODE, &response_code);\n",
    "    fprintf(stderr, \"Response code: %ld\\n\", response_code);\n",
    "\n",
    "    // Cleanup and deallocate resources\n",
    "    curl_easy_cleanup(curl);\n",
    "    free(encoded_url);\n",
    "    return EXIT_SUCCESS;\n",
    "}"
   ]
  },
  {
   "cell_type": "code",
   "execution_count": 10,
   "metadata": {},
   "outputs": [
    {
     "name": "stdout",
     "output_type": "stream",
     "text": [
      "# Compile the .c file using the gcc compiler with the CFLAGS and links \n",
      "# resulting binary with the CURL library\n",
      "gcc -g -Wall geonames.c -o geonames -lcurl\n"
     ]
    }
   ],
   "source": [
    "!make"
   ]
  },
  {
   "cell_type": "markdown",
   "metadata": {},
   "source": [
    "## 1. Searching with a ZIP code\n",
    "\n",
    "This example uses the `postalCodeSearchJSON` endpoint to find the coordinates of the the ZIP code 35401."
   ]
  },
  {
   "cell_type": "code",
   "execution_count": 11,
   "metadata": {},
   "outputs": [
    {
     "name": "stderr",
     "output_type": "stream",
     "text": [
      "Response code: 200\n"
     ]
    }
   ],
   "source": [
    "%%bash\n",
    "\n",
    "# Define endpoint and retrieve username\n",
    "endpoint=\"postalCodeSearchJSON\"\n",
    "username=$(< \"username.txt\")\n",
    "\n",
    "# Construct parameters array\n",
    "parameters=(\n",
    "    \"postalcode=35401\"   # Postal code to search\n",
    "    \"countryBias=US\"     # Moves US results to the top of the results list\n",
    "    \"username=$username\" # Must include GeoNames username in all API calls\n",
    ")\n",
    "\n",
    "# Join array elements using '&' as separator\n",
    "parameters_string=$(IFS='&'; echo \"${parameters[*]}\")\n",
    "\n",
    "# Retrieve the first index of the postal code\n",
    "./geonames -url \"https://secure.geonames.org/$endpoint?$parameters_string\" | jq '.' > response.json"
   ]
  },
  {
   "cell_type": "code",
   "execution_count": 12,
   "metadata": {},
   "outputs": [
    {
     "name": "stdout",
     "output_type": "stream",
     "text": [
      "\u001b[0;32m\"33.196891, -87.562666\"\u001b[0m\n"
     ]
    }
   ],
   "source": [
    "# Retrieve the response and parses the latitude and longitude\n",
    "!cat response.json | jq '.[\"postalCodes\"][0] | \"\\(.lat), \\(.lng)\"'"
   ]
  },
  {
   "cell_type": "markdown",
   "metadata": {},
   "source": [
    "## 2. Searching with a queries\n",
    "\n",
    "Queries allow users to search for location at several different levels.\n",
    "\n",
    "### Searching for a city\n",
    "\n",
    "In this example, we search for a location using the query \"Tuscaloosa.\""
   ]
  },
  {
   "cell_type": "code",
   "execution_count": 13,
   "metadata": {},
   "outputs": [
    {
     "name": "stderr",
     "output_type": "stream",
     "text": [
      "Response code: 200\n"
     ]
    }
   ],
   "source": [
    "%%bash\n",
    "\n",
    "# Define endpoint and retrieve username\n",
    "endpoint=\"searchJSON\"\n",
    "username=$(< \"username.txt\")\n",
    "\n",
    "# Construct parameters array\n",
    "parameters=(\n",
    "    \"q=Tuscaloosa\"          # Postal code to search\n",
    "    \"countryBias=US\"        # Moves US results to the top of the results list\n",
    "    \"maxRows=10\"            # Limit results to top 10\n",
    "    \"username=$username\"    # Must include GeoNames username in all API calls\n",
    ")\n",
    "\n",
    "# Join array elements using '&' as separator\n",
    "parameters_string=$(IFS='&'; echo \"${parameters[*]}\")\n",
    "\n",
    "# Retrieve the first index of the postal code\n",
    "./geonames -url \"https://secure.geonames.org/$endpoint?$parameters_string\" | jq '.' > response2.json"
   ]
  },
  {
   "cell_type": "code",
   "execution_count": 14,
   "metadata": {},
   "outputs": [
    {
     "name": "stdout",
     "output_type": "stream",
     "text": [
      "\u001b[1;39m{\n",
      "  \u001b[0m\u001b[34;1m\"adminCode1\"\u001b[0m\u001b[1;39m: \u001b[0m\u001b[0;32m\"AL\"\u001b[0m\u001b[1;39m,\n",
      "  \u001b[0m\u001b[34;1m\"lng\"\u001b[0m\u001b[1;39m: \u001b[0m\u001b[0;32m\"-87.56917\"\u001b[0m\u001b[1;39m,\n",
      "  \u001b[0m\u001b[34;1m\"geonameId\"\u001b[0m\u001b[1;39m: \u001b[0m\u001b[0;39m4094455\u001b[0m\u001b[1;39m,\n",
      "  \u001b[0m\u001b[34;1m\"toponymName\"\u001b[0m\u001b[1;39m: \u001b[0m\u001b[0;32m\"Tuscaloosa\"\u001b[0m\u001b[1;39m,\n",
      "  \u001b[0m\u001b[34;1m\"countryId\"\u001b[0m\u001b[1;39m: \u001b[0m\u001b[0;32m\"6252001\"\u001b[0m\u001b[1;39m,\n",
      "  \u001b[0m\u001b[34;1m\"fcl\"\u001b[0m\u001b[1;39m: \u001b[0m\u001b[0;32m\"P\"\u001b[0m\u001b[1;39m,\n",
      "  \u001b[0m\u001b[34;1m\"population\"\u001b[0m\u001b[1;39m: \u001b[0m\u001b[0;39m98332\u001b[0m\u001b[1;39m,\n",
      "  \u001b[0m\u001b[34;1m\"countryCode\"\u001b[0m\u001b[1;39m: \u001b[0m\u001b[0;32m\"US\"\u001b[0m\u001b[1;39m,\n",
      "  \u001b[0m\u001b[34;1m\"name\"\u001b[0m\u001b[1;39m: \u001b[0m\u001b[0;32m\"Tuscaloosa\"\u001b[0m\u001b[1;39m,\n",
      "  \u001b[0m\u001b[34;1m\"fclName\"\u001b[0m\u001b[1;39m: \u001b[0m\u001b[0;32m\"city, village,...\"\u001b[0m\u001b[1;39m,\n",
      "  \u001b[0m\u001b[34;1m\"adminCodes1\"\u001b[0m\u001b[1;39m: \u001b[0m\u001b[1;39m{\n",
      "    \u001b[0m\u001b[34;1m\"ISO3166_2\"\u001b[0m\u001b[1;39m: \u001b[0m\u001b[0;32m\"AL\"\u001b[0m\u001b[1;39m\n",
      "  \u001b[1;39m}\u001b[0m\u001b[1;39m,\n",
      "  \u001b[0m\u001b[34;1m\"countryName\"\u001b[0m\u001b[1;39m: \u001b[0m\u001b[0;32m\"United States\"\u001b[0m\u001b[1;39m,\n",
      "  \u001b[0m\u001b[34;1m\"fcodeName\"\u001b[0m\u001b[1;39m: \u001b[0m\u001b[0;32m\"seat of a second-order administrative division\"\u001b[0m\u001b[1;39m,\n",
      "  \u001b[0m\u001b[34;1m\"adminName1\"\u001b[0m\u001b[1;39m: \u001b[0m\u001b[0;32m\"Alabama\"\u001b[0m\u001b[1;39m,\n",
      "  \u001b[0m\u001b[34;1m\"lat\"\u001b[0m\u001b[1;39m: \u001b[0m\u001b[0;32m\"33.20984\"\u001b[0m\u001b[1;39m,\n",
      "  \u001b[0m\u001b[34;1m\"fcode\"\u001b[0m\u001b[1;39m: \u001b[0m\u001b[0;32m\"PPLA2\"\u001b[0m\u001b[1;39m\n",
      "\u001b[1;39m}\u001b[0m\n"
     ]
    }
   ],
   "source": [
    "# Display top result\n",
    "!cat response2.json | jq '.[\"geonames\"][0]'"
   ]
  },
  {
   "cell_type": "markdown",
   "metadata": {},
   "source": [
    "### Seaching for a buidling\n",
    "\n",
    "In this example, we search for a location using the query \"Bruno Business Library.\""
   ]
  },
  {
   "cell_type": "code",
   "execution_count": 15,
   "metadata": {},
   "outputs": [
    {
     "name": "stderr",
     "output_type": "stream",
     "text": [
      "Response code: 200\n"
     ]
    }
   ],
   "source": [
    "%%bash\n",
    "\n",
    "# Define endpoint and retrieve username\n",
    "endpoint=\"searchJSON\"\n",
    "username=$(< \"username.txt\")\n",
    "\n",
    "# Construct parameters array\n",
    "parameters=(\n",
    "    \"q=Bruno Business Library\"  # Search query\n",
    "    \"countryBias=US\"            # Moves US results to the top of the results list\n",
    "    \"maxRows=10\"                # Limit results to top 10\n",
    "    \"username=$username\"        # Must include GeoNames username in all API calls\n",
    ")\n",
    "\n",
    "# Join array elements using '&' as separator\n",
    "parameters_string=$(IFS='&'; echo \"${parameters[*]}\")\n",
    "\n",
    "./geonames -url \"https://secure.geonames.org/$endpoint?$parameters_string\" | jq '.' > response3.json"
   ]
  },
  {
   "cell_type": "code",
   "execution_count": 16,
   "metadata": {},
   "outputs": [
    {
     "name": "stdout",
     "output_type": "stream",
     "text": [
      "\u001b[1;39m{\n",
      "  \u001b[0m\u001b[34;1m\"adminCode1\"\u001b[0m\u001b[1;39m: \u001b[0m\u001b[0;32m\"AL\"\u001b[0m\u001b[1;39m,\n",
      "  \u001b[0m\u001b[34;1m\"lng\"\u001b[0m\u001b[1;39m: \u001b[0m\u001b[0;32m\"-87.54925\"\u001b[0m\u001b[1;39m,\n",
      "  \u001b[0m\u001b[34;1m\"geonameId\"\u001b[0m\u001b[1;39m: \u001b[0m\u001b[0;39m11524498\u001b[0m\u001b[1;39m,\n",
      "  \u001b[0m\u001b[34;1m\"toponymName\"\u001b[0m\u001b[1;39m: \u001b[0m\u001b[0;32m\"Angelo Bruno Business Library\"\u001b[0m\u001b[1;39m,\n",
      "  \u001b[0m\u001b[34;1m\"countryId\"\u001b[0m\u001b[1;39m: \u001b[0m\u001b[0;32m\"6252001\"\u001b[0m\u001b[1;39m,\n",
      "  \u001b[0m\u001b[34;1m\"fcl\"\u001b[0m\u001b[1;39m: \u001b[0m\u001b[0;32m\"S\"\u001b[0m\u001b[1;39m,\n",
      "  \u001b[0m\u001b[34;1m\"population\"\u001b[0m\u001b[1;39m: \u001b[0m\u001b[0;39m0\u001b[0m\u001b[1;39m,\n",
      "  \u001b[0m\u001b[34;1m\"countryCode\"\u001b[0m\u001b[1;39m: \u001b[0m\u001b[0;32m\"US\"\u001b[0m\u001b[1;39m,\n",
      "  \u001b[0m\u001b[34;1m\"name\"\u001b[0m\u001b[1;39m: \u001b[0m\u001b[0;32m\"Angelo Bruno Business Library\"\u001b[0m\u001b[1;39m,\n",
      "  \u001b[0m\u001b[34;1m\"fclName\"\u001b[0m\u001b[1;39m: \u001b[0m\u001b[0;32m\"spot, building, farm\"\u001b[0m\u001b[1;39m,\n",
      "  \u001b[0m\u001b[34;1m\"adminCodes1\"\u001b[0m\u001b[1;39m: \u001b[0m\u001b[1;39m{\n",
      "    \u001b[0m\u001b[34;1m\"ISO3166_2\"\u001b[0m\u001b[1;39m: \u001b[0m\u001b[0;32m\"AL\"\u001b[0m\u001b[1;39m\n",
      "  \u001b[1;39m}\u001b[0m\u001b[1;39m,\n",
      "  \u001b[0m\u001b[34;1m\"countryName\"\u001b[0m\u001b[1;39m: \u001b[0m\u001b[0;32m\"United States\"\u001b[0m\u001b[1;39m,\n",
      "  \u001b[0m\u001b[34;1m\"fcodeName\"\u001b[0m\u001b[1;39m: \u001b[0m\u001b[0;32m\"library\"\u001b[0m\u001b[1;39m,\n",
      "  \u001b[0m\u001b[34;1m\"adminName1\"\u001b[0m\u001b[1;39m: \u001b[0m\u001b[0;32m\"Alabama\"\u001b[0m\u001b[1;39m,\n",
      "  \u001b[0m\u001b[34;1m\"lat\"\u001b[0m\u001b[1;39m: \u001b[0m\u001b[0;32m\"33.2111\"\u001b[0m\u001b[1;39m,\n",
      "  \u001b[0m\u001b[34;1m\"fcode\"\u001b[0m\u001b[1;39m: \u001b[0m\u001b[0;32m\"LIBR\"\u001b[0m\u001b[1;39m\n",
      "\u001b[1;39m}\u001b[0m\n"
     ]
    }
   ],
   "source": [
    "# Display top result\n",
    "!cat response3.json | jq '.[\"geonames\"][0]'"
   ]
  },
  {
   "cell_type": "markdown",
   "metadata": {},
   "source": [
    "### Searching for an island\n",
    "\n",
    "In this example, we use the query \"Martha's Vineyard.\""
   ]
  },
  {
   "cell_type": "code",
   "execution_count": 17,
   "metadata": {},
   "outputs": [
    {
     "name": "stderr",
     "output_type": "stream",
     "text": [
      "Response code: 200\n"
     ]
    }
   ],
   "source": [
    "%%bash\n",
    "\n",
    "# Define endpoint and retrieve username\n",
    "endpoint=\"searchJSON\"\n",
    "username=$(< \"username.txt\")\n",
    "\n",
    "# Construct parameters array\n",
    "parameters=(\n",
    "    \"q=Martha's Vineyard\"       # Search query\n",
    "    \"countryBias=US\"            # Moves US results to the top of the results list\n",
    "    \"maxRows=10\"                # Limit results to top 10\n",
    "    \"username=$username\"        # Must include GeoNames username in all API calls\n",
    ")\n",
    "\n",
    "# Join array elements using '&' as separator\n",
    "parameters_string=$(IFS='&'; echo \"${parameters[*]}\")\n",
    "\n",
    "./geonames -url \"https://secure.geonames.org/$endpoint?$parameters_string\" | jq '.' > response4.json"
   ]
  },
  {
   "cell_type": "code",
   "execution_count": 18,
   "metadata": {},
   "outputs": [
    {
     "name": "stdout",
     "output_type": "stream",
     "text": [
      "\u001b[1;39m{\n",
      "  \u001b[0m\u001b[34;1m\"adminCode1\"\u001b[0m\u001b[1;39m: \u001b[0m\u001b[0;32m\"MA\"\u001b[0m\u001b[1;39m,\n",
      "  \u001b[0m\u001b[34;1m\"lng\"\u001b[0m\u001b[1;39m: \u001b[0m\u001b[0;32m\"-70.61265\"\u001b[0m\u001b[1;39m,\n",
      "  \u001b[0m\u001b[34;1m\"geonameId\"\u001b[0m\u001b[1;39m: \u001b[0m\u001b[0;39m4943237\u001b[0m\u001b[1;39m,\n",
      "  \u001b[0m\u001b[34;1m\"toponymName\"\u001b[0m\u001b[1;39m: \u001b[0m\u001b[0;32m\"Martha's Vineyard Airport\"\u001b[0m\u001b[1;39m,\n",
      "  \u001b[0m\u001b[34;1m\"countryId\"\u001b[0m\u001b[1;39m: \u001b[0m\u001b[0;32m\"6252001\"\u001b[0m\u001b[1;39m,\n",
      "  \u001b[0m\u001b[34;1m\"fcl\"\u001b[0m\u001b[1;39m: \u001b[0m\u001b[0;32m\"S\"\u001b[0m\u001b[1;39m,\n",
      "  \u001b[0m\u001b[34;1m\"population\"\u001b[0m\u001b[1;39m: \u001b[0m\u001b[0;39m0\u001b[0m\u001b[1;39m,\n",
      "  \u001b[0m\u001b[34;1m\"countryCode\"\u001b[0m\u001b[1;39m: \u001b[0m\u001b[0;32m\"US\"\u001b[0m\u001b[1;39m,\n",
      "  \u001b[0m\u001b[34;1m\"name\"\u001b[0m\u001b[1;39m: \u001b[0m\u001b[0;32m\"Martha's Vineyard Airport\"\u001b[0m\u001b[1;39m,\n",
      "  \u001b[0m\u001b[34;1m\"fclName\"\u001b[0m\u001b[1;39m: \u001b[0m\u001b[0;32m\"spot, building, farm\"\u001b[0m\u001b[1;39m,\n",
      "  \u001b[0m\u001b[34;1m\"adminCodes1\"\u001b[0m\u001b[1;39m: \u001b[0m\u001b[1;39m{\n",
      "    \u001b[0m\u001b[34;1m\"ISO3166_2\"\u001b[0m\u001b[1;39m: \u001b[0m\u001b[0;32m\"MA\"\u001b[0m\u001b[1;39m\n",
      "  \u001b[1;39m}\u001b[0m\u001b[1;39m,\n",
      "  \u001b[0m\u001b[34;1m\"countryName\"\u001b[0m\u001b[1;39m: \u001b[0m\u001b[0;32m\"United States\"\u001b[0m\u001b[1;39m,\n",
      "  \u001b[0m\u001b[34;1m\"fcodeName\"\u001b[0m\u001b[1;39m: \u001b[0m\u001b[0;32m\"airport\"\u001b[0m\u001b[1;39m,\n",
      "  \u001b[0m\u001b[34;1m\"adminName1\"\u001b[0m\u001b[1;39m: \u001b[0m\u001b[0;32m\"Massachusetts\"\u001b[0m\u001b[1;39m,\n",
      "  \u001b[0m\u001b[34;1m\"lat\"\u001b[0m\u001b[1;39m: \u001b[0m\u001b[0;32m\"41.39016\"\u001b[0m\u001b[1;39m,\n",
      "  \u001b[0m\u001b[34;1m\"fcode\"\u001b[0m\u001b[1;39m: \u001b[0m\u001b[0;32m\"AIRP\"\u001b[0m\u001b[1;39m\n",
      "\u001b[1;39m}\u001b[0m\n"
     ]
    }
   ],
   "source": [
    "# Display top result\n",
    "!cat response4.json | jq '.[\"geonames\"][0]'"
   ]
  },
  {
   "cell_type": "markdown",
   "metadata": {},
   "source": [
    "Note that the result above is the data for Matha's Vineyard Airport. If we wish to find the data associated with the island, we can look at the `fcodeName` of the locations in the response:"
   ]
  },
  {
   "cell_type": "code",
   "execution_count": 19,
   "metadata": {},
   "outputs": [
    {
     "name": "stdout",
     "output_type": "stream",
     "text": [
      "Martha's Vineyard Airport                 airport\n",
      "Martha's Vineyard Island                  island\n",
      "Vineyard Haven                            populated place\n",
      "Martha's Vineyard Hospital                hospital\n",
      "Martha's Vineyard Regional High School    school\n",
      "Marthas Vineyard Campground               camp(s)\n",
      "Martha's Vineyard Aero Light              \n",
      "Martha's Vineyard State Forest            forest(s)\n",
      "Martha's Vineyard Agricultural Society    vineyard\n",
      "Martha's Vineyard State Forest            forest(s)\n"
     ]
    }
   ],
   "source": [
    "!jq -r '.geonames[] | \"\\(.toponymName) \\(40 - (.toponymName | length) | \" \" * .) \\(.fcodeName)\"' response4.json"
   ]
  },
  {
   "cell_type": "markdown",
   "metadata": {},
   "source": [
    "## 3. Reverse Geocoding\n",
    "\n",
    "The `findNearbyPostalCodesJSON` endpoint can be used to find the ZIP code of a pair of coordinates."
   ]
  },
  {
   "cell_type": "code",
   "execution_count": 20,
   "metadata": {},
   "outputs": [
    {
     "name": "stderr",
     "output_type": "stream",
     "text": [
      "Response code: 200\n"
     ]
    }
   ],
   "source": [
    "%%bash\n",
    "\n",
    "# Define endpoint and retrieve username\n",
    "endpoint=\"findNearbyPostalCodesJSON\"\n",
    "username=$(< \"username.txt\")\n",
    "\n",
    "# Construct parameters array\n",
    "parameters=(\n",
    "    \"lat=38.625189\"             # Search latitude\n",
    "    \"lng=-90.187330\"            # Search longitude\n",
    "    \"maxRows=10\"                # Limit results to top 10\n",
    "    \"username=$username\"        # Must include GeoNames username in all API calls\n",
    ")\n",
    "\n",
    "# Join array elements using '&' as separator\n",
    "parameters_string=$(IFS='&'; echo \"${parameters[*]}\")\n",
    "\n",
    "./geonames -url \"https://secure.geonames.org/$endpoint?$parameters_string\" | jq '.' > response5.json"
   ]
  },
  {
   "cell_type": "code",
   "execution_count": 21,
   "metadata": {},
   "outputs": [
    {
     "name": "stdout",
     "output_type": "stream",
     "text": [
      "ZIP     | Distance (km)\n",
      "63102   | 0\n",
      "63188   | 0.94603\n",
      "63197   | 0.94603\n",
      "63180   | 0.94603\n",
      "63169   | 0.94603\n",
      "63182   | 0.94603\n",
      "63150   | 0.94603\n",
      "63155   | 0.94603\n",
      "63101   | 1.1038\n",
      "62202   | 2.64737\n"
     ]
    }
   ],
   "source": [
    "%%bash\n",
    "\n",
    "# Print header\n",
    "echo \"ZIP     | Distance (km)\"\n",
    "\n",
    "# Print the postal codes and distance\n",
    "jq -r '.postalCodes[] | \"\\(.postalCode) \\(6 - (.postalCode | length) | \" \" * .) | \\(.distance)\"' response5.json"
   ]
  }
 ],
 "metadata": {
  "kernelspec": {
   "display_name": "cookbook-env",
   "language": "python",
   "name": "python3"
  },
  "language_info": {
   "codemirror_mode": {
    "name": "ipython",
    "version": 3
   },
   "file_extension": ".py",
   "mimetype": "text/x-python",
   "name": "python",
   "nbconvert_exporter": "python",
   "pygments_lexer": "ipython3",
   "version": "3.12.1"
  },
  "orig_nbformat": 4
 },
 "nbformat": 4,
 "nbformat_minor": 2
}
