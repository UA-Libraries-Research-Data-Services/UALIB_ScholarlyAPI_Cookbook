{
 "cells": [
  {
   "cell_type": "markdown",
   "metadata": {
    "pycharm": {
     "name": "#%% md\n"
    }
   },
   "source": [
    "# U.S. Census Data API in C\n",
    "\n",
    "by Cyrus Gomes\n",
    "\n",
    "**U.S. Census API documentation:** https://www.census.gov/data/developers/about.html\n",
    "\n",
    "**U.S. Census Data Discovery Tool**: https://api.census.gov/data.html\n",
    "\n",
    "These recipe examples were tested on 28 November, 2023.\n",
    "\n",
    "See also the [U.S. Census API Terms of Service](https://www.census.gov/data/developers/about/terms-of-service.html)\n",
    "\n",
    "**Attribution**: *This tutorial uses the Census Bureau Data API but is not endorsed or certified by the Census Bureau.*\n"
   ]
  },
  {
   "cell_type": "markdown",
   "metadata": {},
   "source": [
    "## Setup"
   ]
  },
  {
   "cell_type": "markdown",
   "metadata": {},
   "source": [
    "First, install the CURL package by typing the following command in the terminal:"
   ]
  },
  {
   "cell_type": "code",
   "execution_count": null,
   "metadata": {},
   "outputs": [],
   "source": [
    "!sudo apt install curl"
   ]
  },
  {
   "cell_type": "markdown",
   "metadata": {},
   "source": [
    "Then, install the jq package by typing the following command in the terminal:"
   ]
  },
  {
   "cell_type": "code",
   "execution_count": null,
   "metadata": {},
   "outputs": [],
   "source": [
    "!sudo apt install jq"
   ]
  },
  {
   "cell_type": "markdown",
   "metadata": {},
   "source": [
    "Now we set a directory where we want the US-Census directory for our projects to be created :"
   ]
  },
  {
   "cell_type": "code",
   "execution_count": null,
   "metadata": {},
   "outputs": [],
   "source": [
    "!mkdir US-Census"
   ]
  },
  {
   "cell_type": "markdown",
   "metadata": {},
   "source": [
    "Finally, we change to our newly created directory:"
   ]
  },
  {
   "cell_type": "code",
   "execution_count": null,
   "metadata": {},
   "outputs": [],
   "source": [
    "%cd US-Census"
   ]
  },
  {
   "cell_type": "markdown",
   "metadata": {},
   "source": [
    "### API Key Information\n",
    "\n",
    "While an API key is not required to use the U.S. Census Data API, you may consider registering for an API key as the API is limited to 500 calls a day without a key. Sign up can be found here: https://api.census.gov/data/key_signup.html\n",
    "\n",
    "A key can be used by using `-key [key]`."
   ]
  },
  {
   "cell_type": "markdown",
   "metadata": {},
   "source": [
    "## 1. Get population estimates of counties by state\n",
    "\n",
    "*Note: includes Washington, D.C. and Puerto Rico*"
   ]
  },
  {
   "cell_type": "markdown",
   "metadata": {},
   "source": [
    "First we can initialize a directory for the all the project files:"
   ]
  },
  {
   "cell_type": "code",
   "execution_count": 3,
   "metadata": {},
   "outputs": [],
   "source": [
    "!mkdir api_results"
   ]
  },
  {
   "cell_type": "markdown",
   "metadata": {},
   "source": [
    "Then, we can change to the new directory:"
   ]
  },
  {
   "cell_type": "code",
   "execution_count": null,
   "metadata": {},
   "outputs": [],
   "source": [
    "%cd api_results"
   ]
  },
  {
   "cell_type": "markdown",
   "metadata": {},
   "source": [
    "We utilize the following command (%%file) to create the following makefile which will compile our program and create an executable."
   ]
  },
  {
   "cell_type": "code",
   "execution_count": null,
   "metadata": {},
   "outputs": [],
   "source": [
    "%%file makefile\n",
    "\n",
    "# Set the variable CC to gcc, which is used to build the program\n",
    "CC=gcc\n",
    "\n",
    "# Enable debugging information and enable all compiler warnings\n",
    "CFLAGS=-g -Wall\n",
    "\n",
    "# Set the bin variable as the name of the binary file we are creating\n",
    "BIN=census_data\n",
    "\n",
    "# Create the binary file with the name we put\n",
    "all: $(BIN)\n",
    "\n",
    "# Map any file ending in .c to a binary executable\n",
    "# \"$<\" represents the .c file and \"$@\" represents the target binary executable\n",
    "%: %.c\n",
    "\n",
    "\t# Compile the .c file using the gcc compiler with the CFLAGS and links \n",
    "\t# resulting binary with the CURL library\n",
    "\t$(CC) $(CFLAGS) $< -o $@ -lcurl\n",
    "\n",
    "# Clean target which removes specific files\n",
    "clean:\n",
    "\n",
    "\t# Remove the binary file and an \".dSYM\" (debug symbols for debugging) directories\n",
    "\t# the RM command used -r to remove directories and -f to force delete\n",
    "\t$(RM) -rf $(BIN) *.dSYM\n"
   ]
  },
  {
   "cell_type": "markdown",
   "metadata": {},
   "source": [
    "The command is used again to create our .c file which contains the code for the program"
   ]
  },
  {
   "cell_type": "code",
   "execution_count": null,
   "metadata": {
    "tags": []
   },
   "outputs": [],
   "source": [
    "%%file census_data.c\n",
    "\n",
    "#include <curl/curl.h>\n",
    "#include <stdio.h>\n",
    "#include <stdlib.h>\n",
    "#include <string.h>\n",
    "\n",
    "/* CURL program that retrieves population estimate */\n",
    "\n",
    "int main (int argc, char* argv[]) {\n",
    "    \n",
    "    // Exit if arguments are invalid\n",
    "    if (argc < 2){                                                                                      \n",
    "        printf(\"Error. Please try again correctly. (./census_data -id [id] -key [key])\\n\");\n",
    "        return -1;\n",
    "    }\n",
    "\n",
    "    // Initializes the CURL HTTP connection\n",
    "    CURL *curl = curl_easy_init();\n",
    "\n",
    "    // Bits of the url that are joined together later                                                                      \n",
    "    char api[] = \"https://api.census.gov/data/\";                            \n",
    "    char url[1000];\n",
    "    char label[] = \"2019/pep/population?get=NAME&for=state:*\";\n",
    "    char key_ext[] = \"&key=\";\n",
    "\n",
    "    // Check if CURL initialization is a success\n",
    "    if (!curl) {                                                                 \n",
    "        fprintf(stderr, \"init failed\\n\");\n",
    "        return EXIT_FAILURE;\n",
    "    }\n",
    "    \n",
    "    /* Here are different ways of calling the program in the\n",
    "    command line and integrating id and key fields */\n",
    "\n",
    "    // Has the -id flag: /census_data -id\n",
    "    if ((argc==2) && (strcmp(argv[1],\"-id\")==0)) {\n",
    "        \n",
    "        // Combine the api and the default id to produce a functioning url\n",
    "        sprintf(url, \"%s%s\", api, label); \n",
    "        \n",
    "    }\n",
    "    \n",
    "    // Has the -id flag and field: ./census_data -id [id]\n",
    "    else if ((argc==3) && (strcmp(argv[1],\"-id\")==0)) {\n",
    "        \n",
    "        // Combine the api and the custom id\n",
    "        sprintf(url, \"%s%s\", api, argv[2]);                                              \n",
    "    \n",
    "    }\n",
    "    \n",
    "    // Has the -id and -key flags: ./census_data -key -id\n",
    "    else if (((argc==3) && (strcmp(argv[1],\"-key\")==0)) && (strcmp(argv[2],\"-id\")==0)) {\n",
    "        \n",
    "        // Combine the api and the default id\n",
    "        sprintf(url, \"%s%s\", api, label);                                              \n",
    "    \n",
    "    }\n",
    "    \n",
    "    // Has the -id and -key flags and the key field: ./census_data -id -key [key]\n",
    "    else if (((argc==4) && (strcmp(argv[2],\"-key\")==0) && (strcmp(argv[1],\"-id\")==0))) {\n",
    "        \n",
    "        // Combine the api, the default id and the key to produce a functioning url\n",
    "        sprintf(url, \"%s%s%s%s\", api, label, key_ext, argv[3]);                                              \n",
    "    \n",
    "    }\n",
    "    \n",
    "    // Has the -id and -key flags and the id field: ./census_data -id [id] -key\n",
    "    else if (((argc==4) && (strcmp(argv[3],\"-key\")==0) && (strcmp(argv[1],\"-id\")==0))) {\n",
    "        \n",
    "        // Combine the api and the custom id\n",
    "        sprintf(url, \"%s%s\", api, argv[2]);                                              \n",
    "    \n",
    "    }\n",
    "    \n",
    "    // Has the -key and -id flags and the key field: ./census_data -key -id [id] \n",
    "    else if (((argc==4) && (strcmp(argv[1],\"-key\")==0) && (strcmp(argv[2],\"-id\")==0))) {\n",
    "        \n",
    "        // Combine the api and the custom id\n",
    "        sprintf(url, \"%s%s\", api, argv[3]);                                              \n",
    "    \n",
    "    }\n",
    "    \n",
    "    // Has the -key and -id flags and the key and id field: ./census_data -key [key] -id [id] \n",
    "    else if (((argc==5) && (strcmp(argv[1],\"-key\")==0) && (strcmp(argv[3],\"-id\")==0))) {\n",
    "        \n",
    "        // Combine the api, the custom id, and the key to produce the url\n",
    "        sprintf(url, \"%s%s%s%s\", api, argv[4], key_ext,  argv[2]);                                              \n",
    "    \n",
    "    }\n",
    "    \n",
    "    // Has the -id and -key flags and the id and key field: ./census_data -id [id] -key [key] \n",
    "    else if (((argc==5) && (strcmp(argv[3],\"-key\")==0))){\n",
    "        \n",
    "        // Combine the api, the custom id, and the key to produce the url\n",
    "        sprintf(url, \"%s%s%s%s\", api, argv[2], key_ext, argv[4]);                                              \n",
    "    \n",
    "    }\n",
    "\n",
    "    // If the arguments are invalid then return\n",
    "    else {        \n",
    "        printf(\"./census_data -key [key] -id [id]\\n\");                                                                                      \n",
    "        curl_easy_cleanup(curl);\n",
    "        return 0;\n",
    "    }                                            \n",
    "\n",
    "    // Set the url to which the HTTP request will be sent\n",
    "    // First parameter is for the initialized curl HTTP request, second for the option to be set, and third for the value to be set\n",
    "    curl_easy_setopt(curl, CURLOPT_URL, url);\n",
    "\n",
    "    // If result is not retrieved then output error\n",
    "    CURLcode result = curl_easy_perform(curl);\n",
    "\n",
    "    // If result is not retrieved then output error\n",
    "    if (result != CURLE_OK) {                                                                            \n",
    "        fprintf(stderr, \"download problem: %s\\n\", curl_easy_strerror(result));\n",
    "    }\n",
    "\n",
    "    // Deallocate memory for the CURL connection\n",
    "    curl_easy_cleanup(curl);                                                                            \n",
    "    return EXIT_SUCCESS;\n",
    "}"
   ]
  },
  {
   "cell_type": "code",
   "execution_count": 7,
   "metadata": {},
   "outputs": [
    {
     "name": "stdout",
     "output_type": "stream",
     "text": [
      "gcc -g -Wall census_data.c -o census_data -lcurl\n"
     ]
    }
   ],
   "source": [
    "!make"
   ]
  },
  {
   "cell_type": "markdown",
   "metadata": {},
   "source": [
    "For obtaining data from the Census API, it is helpful to first obtain a list of state IDs:"
   ]
  },
  {
   "cell_type": "code",
   "execution_count": 8,
   "metadata": {},
   "outputs": [
    {
     "name": "stdout",
     "output_type": "stream",
     "text": [
      "\u001b[0;39m53\u001b[0m\n"
     ]
    }
   ],
   "source": [
    "!./census_data -id  -key \"\" | jq \". | length\""
   ]
  },
  {
   "cell_type": "markdown",
   "metadata": {},
   "source": [
    "Now we can print the first 5 state IDs:"
   ]
  },
  {
   "cell_type": "code",
   "execution_count": 83,
   "metadata": {
    "tags": []
   },
   "outputs": [
    {
     "name": "stdout",
     "output_type": "stream",
     "text": [
      "\u001b[1;39m[\n",
      "  \u001b[1;39m[\n",
      "    \u001b[0;32m\"NAME\"\u001b[0m\u001b[1;39m,\n",
      "    \u001b[0;32m\"state\"\u001b[0m\u001b[1;39m\n",
      "  \u001b[1;39m]\u001b[0m\u001b[1;39m,\n",
      "  \u001b[1;39m[\n",
      "    \u001b[0;32m\"Alabama\"\u001b[0m\u001b[1;39m,\n",
      "    \u001b[0;32m\"01\"\u001b[0m\u001b[1;39m\n",
      "  \u001b[1;39m]\u001b[0m\u001b[1;39m,\n",
      "  \u001b[1;39m[\n",
      "    \u001b[0;32m\"Alaska\"\u001b[0m\u001b[1;39m,\n",
      "    \u001b[0;32m\"02\"\u001b[0m\u001b[1;39m\n",
      "  \u001b[1;39m]\u001b[0m\u001b[1;39m,\n",
      "  \u001b[1;39m[\n",
      "    \u001b[0;32m\"Arizona\"\u001b[0m\u001b[1;39m,\n",
      "    \u001b[0;32m\"04\"\u001b[0m\u001b[1;39m\n",
      "  \u001b[1;39m]\u001b[0m\u001b[1;39m,\n",
      "  \u001b[1;39m[\n",
      "    \u001b[0;32m\"Arkansas\"\u001b[0m\u001b[1;39m,\n",
      "    \u001b[0;32m\"05\"\u001b[0m\u001b[1;39m\n",
      "  \u001b[1;39m]\u001b[0m\u001b[1;39m,\n",
      "  \u001b[1;39m[\n",
      "    \u001b[0;32m\"California\"\u001b[0m\u001b[1;39m,\n",
      "    \u001b[0;32m\"06\"\u001b[0m\u001b[1;39m\n",
      "  \u001b[1;39m]\u001b[0m\u001b[1;39m\n",
      "\u001b[1;39m]\u001b[0m\n"
     ]
    }
   ],
   "source": [
    "!./census_data -id | jq \".[:6]\""
   ]
  },
  {
   "cell_type": "markdown",
   "metadata": {},
   "source": [
    "To remove the heading we implement the following command:"
   ]
  },
  {
   "cell_type": "code",
   "execution_count": 45,
   "metadata": {},
   "outputs": [
    {
     "name": "stdout",
     "output_type": "stream",
     "text": [
      "\u001b[1;39m[\n",
      "  \u001b[1;39m[\n",
      "    \u001b[0;32m\"Alabama\"\u001b[0m\u001b[1;39m,\n",
      "    \u001b[0;32m\"01\"\u001b[0m\u001b[1;39m\n",
      "  \u001b[1;39m]\u001b[0m\u001b[1;39m,\n",
      "  \u001b[1;39m[\n",
      "    \u001b[0;32m\"Alaska\"\u001b[0m\u001b[1;39m,\n",
      "    \u001b[0;32m\"02\"\u001b[0m\u001b[1;39m\n",
      "  \u001b[1;39m]\u001b[0m\u001b[1;39m,\n",
      "  \u001b[1;39m[\n",
      "    \u001b[0;32m\"Arizona\"\u001b[0m\u001b[1;39m,\n",
      "    \u001b[0;32m\"04\"\u001b[0m\u001b[1;39m\n",
      "  \u001b[1;39m]\u001b[0m\u001b[1;39m,\n",
      "  \u001b[1;39m[\n",
      "    \u001b[0;32m\"Arkansas\"\u001b[0m\u001b[1;39m,\n",
      "    \u001b[0;32m\"05\"\u001b[0m\u001b[1;39m\n",
      "  \u001b[1;39m]\u001b[0m\u001b[1;39m,\n",
      "  \u001b[1;39m[\n",
      "    \u001b[0;32m\"California\"\u001b[0m\u001b[1;39m,\n",
      "    \u001b[0;32m\"06\"\u001b[0m\u001b[1;39m\n",
      "  \u001b[1;39m]\u001b[0m\u001b[1;39m\n",
      "\u001b[1;39m]\u001b[0m\n"
     ]
    }
   ],
   "source": [
    "!./census_data -id | jq \".[1:6]\""
   ]
  },
  {
   "cell_type": "markdown",
   "metadata": {},
   "source": [
    "Now we can loop through each state and pull their individual population data (first 10 lines printed):"
   ]
  },
  {
   "cell_type": "code",
   "execution_count": 9,
   "metadata": {
    "tags": []
   },
   "outputs": [
    {
     "name": "stdout",
     "output_type": "stream",
     "text": [
      "{\n",
      "  \"Autauga County\": \"55869\",\n",
      "  \"Baldwin County\": \"223234\",\n",
      "  \"Barbour County\": \"24686\",\n",
      "  \"Bibb County\": \"22394\",\n",
      "  \"Blount County\": \"57826\",\n",
      "  \"Bullock County\": \"10101\",\n",
      "  \"Butler County\": \"19448\",\n",
      "  \"Calhoun County\": \"113605\",\n",
      "  \"Chambers County\": \"33254\",\n"
     ]
    }
   ],
   "source": [
    "%%bash\n",
    "\n",
    "# Adapted from ChatGPT\n",
    "# Create an associative array\n",
    "declare -A county_dictionary\n",
    "\n",
    "# Get the number of states\n",
    "no_of_states=$(./census_data -id \"2019/pep/population?get=NAME&for=state:*\" -key \"\" | jq \". | length\")\n",
    "\n",
    "# Sleep delay\n",
    "sleep 1\n",
    "\n",
    "# Go through all the states\n",
    "for ((i = 1; i <= no_of_states; i++)); do\n",
    "\n",
    "    # Get the individual states and state ids\n",
    "    state=$(./census_data -id \"2019/pep/population?get=NAME&for=state:*\" -key \"\" | jq -r \". [$i][0]\")\n",
    "    \n",
    "    # Sleep delay\n",
    "    sleep 1\n",
    "    \n",
    "    state_id=$(./census_data -id \"2019/pep/population?get=NAME&for=state:*\" -key \"\" | jq -r \". [$i][1]\")\n",
    "    \n",
    "    # Sleep delay\n",
    "    sleep 1\n",
    "\n",
    "    # Remove the double quotes\n",
    "    state_id=${state_id//\\\"/}\n",
    "    state=${state//\\\"/}\n",
    "\n",
    "    # Get the county detail\n",
    "    county_info=$(./census_data -id \"2019/pep/population?get=NAME,POP&for=county:*&in=state:$state_id\" -key \"\" | jq \".\")\n",
    "    \n",
    "    # Sleep delay\n",
    "    sleep 1\n",
    "\n",
    "    # Modify retrieved json data to retrieve county and population only (without state)\n",
    "    county_pop=$(echo \"$county_info\" | jq -r '.[1:] | map({(.[0] | split(\", \")[0]): .[1]}) | add')\n",
    "\n",
    "    # Sort the data alphabetically by county names\n",
    "    sorted_county_pop=$(echo \"$county_pop\" | jq 'to_entries | sort_by(.key) | from_entries')\n",
    "\n",
    "    # Add all the counties to the associative array\n",
    "    county_dictionary[\"$state\"]+=\"$sorted_county_pop\"\n",
    "done\n",
    "\n",
    "# Can be changed to any state\n",
    "echo \"${county_dictionary[\"Alabama\"]}\" | head -n 10"
   ]
  },
  {
   "cell_type": "markdown",
   "metadata": {},
   "source": [
    "## 2. Get population estimates over a range of years\n",
    "\n",
    "We can use similar code as before, but now loop through different population estimate datasets by year. Here are the specific APIs used:\n",
    "\n",
    "Vintage 2015 Population Estimates: https://api.census.gov/data/2015/pep/population/examples.html\n",
    "\n",
    "Vintage 2016 Population Estimates: https://api.census.gov/data/2016/pep/population/examples.html\n",
    "\n",
    "Vintage 2017 Population Estimates: https://api.census.gov/data/2017/pep/population/examples.html"
   ]
  },
  {
   "cell_type": "code",
   "execution_count": 10,
   "metadata": {
    "tags": []
   },
   "outputs": [
    {
     "name": "stdout",
     "output_type": "stream",
     "text": [
      "{\n",
      "  \"2015\": {\n",
      "    \"Autauga County\": \"55347\",\n",
      "    \"Baldwin County\": \"203709\",\n",
      "    \"Barbour County\": \"26489\",\n",
      "    \"Bibb County\": \"22583\",\n",
      "    \"Blount County\": \"57673\",\n",
      "    \"Bullock County\": \"10696\",\n",
      "    \"Butler County\": \"20154\",\n",
      "    \"Calhoun County\": \"115620\",\n"
     ]
    }
   ],
   "source": [
    "%%bash\n",
    "\n",
    "# Adapted from ChatGPT\n",
    "# Works with dates up to 2018\n",
    "\n",
    "# Create an array to store the state names and ids\n",
    "declare -A states_name_id\n",
    "\n",
    "# Store all the state and ids\n",
    "states_name_id=$(./census_data -id \"2019/pep/population?get=NAME&for=state:*\" -key \"\")\n",
    "\n",
    "# Sleep delay\n",
    "sleep 1\n",
    "\n",
    "# Get the number of states\n",
    "no_of_states=$(echo \"$states_name_id\" | jq \". | length\")\n",
    "\n",
    "# Create an associative array\n",
    "declare -A county_dictionary\n",
    "\n",
    "# Loop through the years 2015, 2016, 2017\n",
    "for ((year = 2015; year < 2018; year++)); do\n",
    "\n",
    "    for ((i = 1; i <= no_of_states; i++)); do\n",
    "\n",
    "        # Get the individual state names and ids\n",
    "        state=$(echo \"$states_name_id\" | jq -r \". [$i][0]\")\n",
    "        state_id=$(echo \"$states_name_id\" | jq -r \". [$i][1]\")\n",
    "\n",
    "        # Get the county details\n",
    "        county_info=$(./census_data -id \"$year/pep/population?get=GEONAME,POP&for=county:*&in=state:$state_id\" -key \"\" | jq \".\")\n",
    "        \n",
    "        # Sleep delay\n",
    "        sleep 1\n",
    "        \n",
    "        # Modify retrieved json data to retrieve county and population only (without state)\n",
    "        county_pop=$(echo \"$county_info\" | jq -r '.[1:] | map({(.[0] | split(\", \")[0]): .[1]}) | add')\n",
    "\n",
    "        # Sort the data alphabetically by county name\n",
    "        sorted_county_pop=$(echo \"$county_pop\" | jq 'to_entries | sort_by(.key) | from_entries')\n",
    "\n",
    "        # Add the year beside the retrieved data\n",
    "        yearly_county_pop=$(echo \"$sorted_county_pop\" | jq -r '. as $in | {\"'$year'\": $in}')\n",
    "        \n",
    "        # Add all of the counties to the associative array\n",
    "        county_dictionary[\"$state\"]+=\"$yearly_county_pop\"\n",
    "    done\n",
    "done\n",
    "\n",
    "# Can be changed to any state\n",
    "echo \"${county_dictionary[\"Alabama\"]}\" | head -n 10"
   ]
  }
 ],
 "metadata": {
  "kernelspec": {
   "display_name": "Python 3 (ipykernel)",
   "language": "python",
   "name": "python3"
  },
  "language_info": {
   "codemirror_mode": {
    "name": "ipython",
    "version": 3
   },
   "file_extension": ".py",
   "mimetype": "text/x-python",
   "name": "python",
   "nbconvert_exporter": "python",
   "pygments_lexer": "ipython3",
   "version": "3.10.12"
  }
 },
 "nbformat": 4,
 "nbformat_minor": 4
}
