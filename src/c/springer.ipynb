{
 "cells": [
  {
   "cell_type": "markdown",
   "metadata": {
    "collapsed": false
   },
   "source": [
    "# Springer Nature API in C\n",
    "\n",
    "by Cyrus Gomes\n",
    "\n",
    "These recipe examples use the Springer Nature Open Access API to retrieve metadata and full-text content. About 650,000 full-text are available from BioMed Central and SpringerOpen Journals: https://dev.springernature.com/docs\n",
    "\n",
    "An API key is required to access the Springer Nature API, sign up can be found at https://dev.springernature.com/\n",
    "\n",
    "Code  was tested on January, 2023. This tutorial content is intended to help facillitate academic research. Before continuing or reusing any of this code, please be aware of the Springer Nature Text and Data Mining Policies, Terms and Conditions, and Terms for API Users:\n",
    "\n",
    "* https://www.springernature.com/gp/researchers/text-and-data-mining\n",
    "* https://www.springernature.com/gp/legal/general-terms-of-use/15067848\n",
    "* https://dev.springernature.com/terms-conditions"
   ]
  },
  {
   "cell_type": "markdown",
   "metadata": {},
   "source": [
    "## Setup"
   ]
  },
  {
   "cell_type": "markdown",
   "metadata": {},
   "source": [
    "First, install the CURL and jq packages by typing the following command in the terminal:"
   ]
  },
  {
   "cell_type": "code",
   "execution_count": null,
   "metadata": {},
   "outputs": [],
   "source": [
    "!sudo apt install curl jq"
   ]
  },
  {
   "cell_type": "markdown",
   "metadata": {},
   "source": [
    "Then, we set a directory where we want the Science_Direct directory for our projects to be created:"
   ]
  },
  {
   "cell_type": "code",
   "execution_count": 1,
   "metadata": {},
   "outputs": [],
   "source": [
    "!mkdir Springer"
   ]
  },
  {
   "cell_type": "markdown",
   "metadata": {},
   "source": [
    "Finally, we change the directory to the folder we created;"
   ]
  },
  {
   "cell_type": "code",
   "execution_count": null,
   "metadata": {},
   "outputs": [],
   "source": [
    "%cd Springer"
   ]
  },
  {
   "cell_type": "markdown",
   "metadata": {
    "collapsed": false
   },
   "source": [
    "### Import API Key\n",
    "\n",
    "We store our API key in a separate file for easy access and security. (Input the Api Key in this file)"
   ]
  },
  {
   "cell_type": "code",
   "execution_count": 4,
   "metadata": {},
   "outputs": [],
   "source": [
    "# Create the key file\n",
    "!touch \"apiKey.txt\""
   ]
  },
  {
   "cell_type": "markdown",
   "metadata": {},
   "source": [
    "### Create a variable for API Key\n",
    "\n",
    "Save your API key to a separate text file (copy and paste / write the key), then create a variable for your key. Avoid displaying your API key in your terminal (to prevent accidental sharing). "
   ]
  },
  {
   "cell_type": "markdown",
   "metadata": {},
   "source": [
    "We use the following command to access the key as Jupyter does not allow variable sharing for bash scripts."
   ]
  },
  {
   "cell_type": "code",
   "execution_count": null,
   "metadata": {},
   "outputs": [],
   "source": [
    "# Read the key from the file\n",
    "!apiKey=$(cat \"apiKey.txt\")"
   ]
  },
  {
   "cell_type": "markdown",
   "metadata": {},
   "source": [
    "### Create an executable for API calls\n",
    "\n",
    "We utilize the `%%file` command to create the following makefile which will compile our program and create an executable."
   ]
  },
  {
   "cell_type": "code",
   "execution_count": 20,
   "metadata": {},
   "outputs": [
    {
     "name": "stdout",
     "output_type": "stream",
     "text": [
      "Writing makefile\n"
     ]
    }
   ],
   "source": [
    "%%file makefile\n",
    "\n",
    "# Set the variable CC to gcc, which is used to build the program\n",
    "CC=gcc\n",
    "\n",
    "# Enable debugging information and enable all compiler warnings\n",
    "CFLAGS=-g -Wall\n",
    "\n",
    "# Set the bin variable as the name of the binary file we are creating\n",
    "BIN=api_call\n",
    "\n",
    "# Create the binary file with the name we put\n",
    "all: $(BIN)\n",
    "\n",
    "# Map any file ending in .c to a binary executable. \n",
    "# \"$<\" represents the .c file and \"$@\" represents the target binary executable\n",
    "%: %.c\n",
    "\n",
    "\t# Compile the .c file using the gcc compiler with the CFLAGS and links \n",
    "\t# resulting binary with the CURL library\n",
    "\t$(CC) $(CFLAGS) $< -o $@ -lcurl\n",
    "\n",
    "# Clean target which removes specific files\n",
    "clean:\n",
    "\n",
    "\t# Remove the binary file and an \".dSYM\" (debug symbols for debugging) directories\n",
    "\t# the RM command used -r to remove directories and -f to force delete\n",
    "\t$(RM) -rf $(BIN) *.dSYM"
   ]
  },
  {
   "cell_type": "markdown",
   "metadata": {},
   "source": [
    "This `%%file` command is used again to create our .c file which contains the code for the program:"
   ]
  },
  {
   "cell_type": "code",
   "execution_count": 80,
   "metadata": {},
   "outputs": [
    {
     "name": "stdout",
     "output_type": "stream",
     "text": [
      "Overwriting api_call.c\n"
     ]
    }
   ],
   "source": [
    "%%file api_call.c\n",
    "\n",
    "#include <curl/curl.h>\n",
    "#include <stdio.h>\n",
    "#include <stdlib.h>\n",
    "#include <string.h>\n",
    "\n",
    "/* CURL program that retrieves Science Direct data from\n",
    "  https://api.springernature.com/openaccess/jats */\n",
    "\n",
    "int main (int argc, char* argv[]){\n",
    "    \n",
    "    // If arguments are invalid then return\n",
    "    if (argc < 2) {                                                                                      \n",
    "        printf(\"Error. Please try again correctly. (./api_call -doi [doi] -key [key])\\n\");\n",
    "        return -1;\n",
    "    }\n",
    "    \n",
    "    // Initialize the CURL HTTP connection\n",
    "    CURL *curl = curl_easy_init();\n",
    "\n",
    "    // Bits of the url that are joined together later                                                                      \n",
    "    char api[] = \"https://api.springernature.com/openaccess/jats?q=doi:\";                            \n",
    "    char url[1000];\n",
    "    char label1[] = \"&openaccess=true&api_key=\";\n",
    "    char doi[] = \"10.1007/s40708-014-0001-z\";\n",
    "\n",
    "    // Check if CURL initialization is a success\n",
    "    if (!curl) {                                                                                         \n",
    "        fprintf(stderr, \"init failed\\n\");\n",
    "        return EXIT_FAILURE;\n",
    "    }\n",
    "    \n",
    "    /* Here are different ways of calling the program in the\n",
    "    command line and integrating doi and parameter fields.*/\n",
    "    \n",
    "    // Has the -key flag and the key field: ./api_call -key [key]\n",
    "    if ((argc==3) && (strcmp(argv[1],\"-key\")==0)) {\n",
    "\n",
    "        // Combine the API, default DOI, and key to produce a functioning URL\n",
    "        sprintf(url, \"%s%s%s%s\", api, doi, label1, argv[2]);\n",
    "    \n",
    "    }\n",
    "    \n",
    "    // Has the -doi and -key flags and the key field: ./api_call -doi -key [key]\n",
    "    else if ((argc==4) && (strcmp(argv[2],\"-key\")==0) && (strcmp(argv[1],\"-doi\")==0)) {\n",
    "        \n",
    "        // Combine the API, default DOI, and key to produce a functioning URL\n",
    "        sprintf(url, \"%s%s%s%s\", api, doi, label1, argv[3]);                                              \n",
    "    \n",
    "    }\n",
    "    \n",
    "    // Has the -key and -doi flags and the key and doi field: ./api_call -key [key] -doi [doi] \n",
    "    else if ((argc==5) && (strcmp(argv[1],\"-key\")==0) && (strcmp(argv[3],\"-doi\")==0)) {\n",
    "        \n",
    "        // Combine the API, custom DOI, and key to produce the url\n",
    "        sprintf(url, \"%s%s%s%s\", api, argv[4], label1,  argv[2]);                                            \n",
    "    \n",
    "    }\n",
    "    \n",
    "    // Has the -doi and -key flags and the doi and key field: ./api_call -doi [doi] -key [key] \n",
    "    else if ((argc==5) && (strcmp(argv[3],\"-key\")==0)) {\n",
    "        \n",
    "        // Combine the API, custom DOI, and key to produce the URL\n",
    "        sprintf(url, \"%s%s%s%s\", api, argv[2], label1, argv[4]);                                              \n",
    "    \n",
    "    }\n",
    "    \n",
    "    // If the arguments are invalid then return\n",
    "    else {        \n",
    "        printf(\"Please use ./api_call -doi [doi] -key [key]\\n\");                                                                                      \n",
    "        curl_easy_cleanup(curl);\n",
    "        return 0;\n",
    "    }                                            \n",
    "\n",
    "    // Set the url to which the HTTP request will be sent to\n",
    "    // First parameter is for the initialized curl HTTP request, second for the option to be set, and third for the value to be set\n",
    "    curl_easy_setopt(curl, CURLOPT_URL, url);\n",
    "\n",
    "    // If result is not retrieved then output error\n",
    "    CURLcode result = curl_easy_perform(curl);\n",
    "\n",
    "    // If result is not retrieved then output error\n",
    "    if (result != CURLE_OK) {                                                                            \n",
    "        fprintf(stderr, \"download problem: %s\\n\", curl_easy_strerror(result));\n",
    "    }\n",
    "\n",
    "    // Deallocate memory for the CURL connection\n",
    "    curl_easy_cleanup(curl);                                                                            \n",
    "    return EXIT_SUCCESS;\n",
    "}"
   ]
  },
  {
   "cell_type": "code",
   "execution_count": 81,
   "metadata": {},
   "outputs": [
    {
     "name": "stdout",
     "output_type": "stream",
     "text": [
      "gcc -g -Wall api_call.c -o api_call -lcurl\n"
     ]
    }
   ],
   "source": [
    "!make"
   ]
  },
  {
   "cell_type": "markdown",
   "metadata": {},
   "source": [
    "## 1. Retrieve full-text JATS XML of an article"
   ]
  },
  {
   "cell_type": "markdown",
   "metadata": {},
   "source": [
    "Before we can query, we must establish a few things:\n",
    "* **base_url**: The base url for the Springer API, more specifically the open access API with JATS format: https://jats.nlm.nih.gov/archiving/tag-library/1.1/index.html\n",
    "* **?q=doi:**: The query parameter, in this case we are searching for a DOI\n",
    "* **doi**: The DOI of the article\n",
    "* **openaccess:true**: This requests content through the openaccess API\n",
    "* **&api_key=**: This the text for the api key\n",
    "\n",
    "You can read more about the API parameters at https://dev.springernature.com/restfuloperations"
   ]
  },
  {
   "cell_type": "code",
   "execution_count": 82,
   "metadata": {},
   "outputs": [],
   "source": [
    "%%bash\n",
    "\n",
    "# Algorithm to download jats file by calling API\n",
    "# Uses example DOI from SpringerOpen Brain Informatics\n",
    "\n",
    "# Store the key in the key variable\n",
    "key=$(cat apiKey.txt)\n",
    "\n",
    "# Call the program using a doi and key and assign it to a variable\n",
    "fulltext1=$(./api_call -key \"$key\" -doi \"10.1007/s40708-014-0001-z\")\n",
    "\n",
    "# Save output to fulltext.jats\n",
    "echo \"$fulltext1\" > fulltext.jats"
   ]
  },
  {
   "cell_type": "markdown",
   "metadata": {},
   "source": [
    "## 2. Retrieve full-text in a loop\n",
    "\n",
    "In this example, we retrieve article full text for each DOI in a loop and save each article to a separate file."
   ]
  },
  {
   "cell_type": "code",
   "execution_count": 71,
   "metadata": {
    "collapsed": false
   },
   "outputs": [],
   "source": [
    "%%bash\n",
    "\n",
    "# Example DOIs from SprigerOpen Brain Informatics\n",
    "dois=(\"10.1007/s40708-014-0001-z\",\n",
    "    \"10.1007/s40708-014-0002-y\",\n",
    "    \"10.1007/s40708-014-0003-x\",\n",
    "    \"10.1007/s40708-014-0004-9\",\n",
    "    \"10.1007/s40708-014-0005-8\")\n",
    "\n",
    "# Store the key in the key variable\n",
    "key=$(cat apiKey.txt)\n",
    "\n",
    "# Call the program using a DOI and assign it to a variable\n",
    "for doi in \"${dois[@]}\"; do\n",
    "    \n",
    "    # Can't save files with a '/' character on Linux\n",
    "    filename=$(echo \"$doi\" | tr '/' '_')\n",
    "    \n",
    "    # Concatenate \"_plain_text.txt\" to the filename\n",
    "    filename=\"${filename}_plain_text.txt\"\n",
    "    \n",
    "    # -key [key] can also be used to input the key to program\n",
    "    # ./api_call -doi \"$doi\" -key \"$key\"\n",
    "    \n",
    "    # Call the program using a doi and assign it to a variable\n",
    "    article=$(./api_call -doi \"$doi\", -key \"$key\")\n",
    "    \n",
    "    # Save the output to a .txt file\n",
    "    echo \"$article\" > \"$filename.txt\"\n",
    "\n",
    "done"
   ]
  },
  {
   "cell_type": "markdown",
   "metadata": {},
   "source": [
    "## 3. Acquire and Parse Metadata\n",
    "\n",
    "We can also acquire only the metadata as JSON text."
   ]
  },
  {
   "cell_type": "markdown",
   "metadata": {},
   "source": [
    "We change the api url in the program and retrieve the JSON data."
   ]
  },
  {
   "cell_type": "code",
   "execution_count": 83,
   "metadata": {},
   "outputs": [
    {
     "name": "stdout",
     "output_type": "stream",
     "text": [
      "Overwriting api_call.c\n"
     ]
    }
   ],
   "source": [
    "%%file api_call.c\n",
    "\n",
    "#include <curl/curl.h>\n",
    "#include <stdio.h>\n",
    "#include <stdlib.h>\n",
    "#include <string.h>\n",
    "\n",
    "/* CURL program that retrieves Science Direct data from\n",
    "  https://api.springernature.com/openaccess/json */\n",
    "\n",
    "int main (int argc, char* argv[]) {\n",
    "    \n",
    "    // If arguments are invalid then return\n",
    "    if (argc < 2) {                                                                                      \n",
    "        printf(\"Error. Please try again correctly. (./api_call -doi [doi] -key [key])\\n\");\n",
    "        return -1;\n",
    "    }\n",
    "    \n",
    "    // Initialize the CURL HTTP connection\n",
    "    CURL *curl = curl_easy_init();\n",
    "\n",
    "    // Bits of the url that are joined together later                                                                      \n",
    "    char api[] = \"https://api.springernature.com/openaccess/json?q=doi:\";                            \n",
    "    char url[1000];\n",
    "    char label1[] = \"&openaccess=true&api_key=\";\n",
    "    char doi[] = \"10.1007/s40708-014-0001-z\";\n",
    "\n",
    "    // Check if CURL initialization is a success\n",
    "    if (!curl) {                                                                                         \n",
    "        fprintf(stderr, \"init failed\\n\");\n",
    "        return EXIT_FAILURE;\n",
    "    }\n",
    "    \n",
    "    /* Here are different ways of calling the program in the\n",
    "    command line and integrating doi and parameter fields.*/\n",
    "    \n",
    "    // Has the -key flag and the key field: ./api_call -key [key]\n",
    "    if ((argc==3) && (strcmp(argv[1],\"-key\")==0)) {\n",
    "        \n",
    "        // Combine the API, default DOI, and key to produce a functioning URL\n",
    "        sprintf(url, \"%s%s%s%s\", api, doi, label1, argv[2]);            \n",
    "    \n",
    "    }\n",
    "    \n",
    "    // Has the -doi and -key flags and the key field: ./api_call -doi -key [key]\n",
    "    else if ((argc==4) && (strcmp(argv[2],\"-key\")==0) && (strcmp(argv[1],\"-doi\")==0)) {\n",
    "        \n",
    "        // Combine the API, default DOI, and key to produce a functioning URL\n",
    "        sprintf(url, \"%s%s%s%s\", api, doi, label1, argv[3]);                                              \n",
    "    \n",
    "    }\n",
    "    \n",
    "    // Has the -key and -doi flags and the key and doi field: ./api_call -key [key] -doi [doi] \n",
    "    else if ((argc==5) && (strcmp(argv[1],\"-key\")==0) && (strcmp(argv[3],\"-doi\")==0)) {\n",
    "        \n",
    "        // Combine the API, custom DOI, and key to produce the URL\n",
    "        sprintf(url, \"%s%s%s%s\", api, argv[4], label1,  argv[2]);                                            \n",
    "    \n",
    "    }\n",
    "    \n",
    "    // Has the -doi and -key flags and the doi and key field: ./api_call -doi [doi] -key [key] \n",
    "    else if ((argc==5) && (strcmp(argv[3],\"-key\")==0)) {\n",
    "        \n",
    "        // Combine the API, custom DOI, and key to produce the URL\n",
    "        sprintf(url, \"%s%s%s%s\", api, argv[2], label1, argv[4]);                                              \n",
    "    \n",
    "    }\n",
    "    \n",
    "    // If the arguments are invalid then return\n",
    "    else {        \n",
    "        printf(\"Please use ./api_call -doi [doi] -key [key]\\n\");                                                                                      \n",
    "        curl_easy_cleanup(curl);\n",
    "        return 0;\n",
    "    }                                            \n",
    "\n",
    "    // Set the URL to which the HTTP request will be sent\n",
    "    // First parameter is for the initialized curl HTTP request, second for the option to be set, and third for the value to be set\n",
    "    curl_easy_setopt(curl, CURLOPT_URL, url);\n",
    "\n",
    "    // If result is not retrieved then output error\n",
    "    CURLcode result = curl_easy_perform(curl);\n",
    "\n",
    "    // If result is not retrieved then output error\n",
    "    if (result != CURLE_OK) {                                                                            \n",
    "        fprintf(stderr, \"download problem: %s\\n\", curl_easy_strerror(result));\n",
    "    }\n",
    "\n",
    "    // Deallocate memory for the CURL connection\n",
    "    curl_easy_cleanup(curl);                                                                            \n",
    "    return EXIT_SUCCESS;\n",
    "}"
   ]
  },
  {
   "cell_type": "code",
   "execution_count": 84,
   "metadata": {},
   "outputs": [
    {
     "name": "stdout",
     "output_type": "stream",
     "text": [
      "gcc -g -Wall api_call.c -o api_call -lcurl\n"
     ]
    }
   ],
   "source": [
    "!make"
   ]
  },
  {
   "cell_type": "code",
   "execution_count": 86,
   "metadata": {},
   "outputs": [],
   "source": [
    "%%bash\n",
    "\n",
    "# Algorithm to download JSON file by calling API\n",
    "# Uses example DOI from SpringerOpen Brain Informatics\n",
    "\n",
    "# Store the key in the key variable\n",
    "key=$(cat apiKey.txt)\n",
    "\n",
    "# Call the program using a DOI and key and assign it to a variable\n",
    "fulltext2=$(./api_call -key \"$key\" -doi \"10.1007/s40708-014-0001-z\")\n",
    "\n",
    "# Save the output to fulltext.jats\n",
    "echo \"$fulltext2\" > fulltext.json"
   ]
  },
  {
   "cell_type": "markdown",
   "metadata": {},
   "source": [
    "We can now extract data out of `[\"records\"][0]`, where all the data is stored for the article"
   ]
  },
  {
   "cell_type": "code",
   "execution_count": 90,
   "metadata": {},
   "outputs": [
    {
     "name": "stdout",
     "output_type": "stream",
     "text": [
      "\"This JSON was provided by Springer Nature\"\n",
      "\"doi:10.1007/s40708-014-0001-z\"\n",
      "{\n",
      "  \"h1\": \"Abstract\",\n",
      "  \"p\": \"Big data is the term for a collection of datasets so huge and complex that it becomes difficult to be processed using on-hand theoretical models and technique tools. Brain big data is one of the most typical, important big data collected using powerful equipments of functional magnetic resonance imaging, multichannel electroencephalography, magnetoencephalography, Positron emission tomography, near infrared spectroscopic imaging, as well as other various devices. Granular computing with multiple granular layers, referred to as multi-granular computing (MGrC) for short hereafter, is an emerging computing paradigm of information processing, which simulates the multi-granular intelligent thinking model of human brain. It concerns the processing of complex information entities called information granules, which arise in the process of data abstraction and derivation of information and even knowledge from data. This paper analyzes three basic mechanisms of MGrC, namely granularity optimization, granularity conversion, and multi-granularity joint computation, and discusses the potential of introducing MGrC into intelligent processing of brain big data.\"\n",
      "}\n"
     ]
    },
    {
     "name": "stdout",
     "output_type": "stream",
     "text": [
      "\"10.1007/s40708-014-0001-z\"\n",
      "\"2014-09-06\"\n",
      "\"2015-01-30\"\n",
      "\"Brain Informatics\"\n",
      "\"Granular computing with multiple granular layers for brain big data processing\"\n"
     ]
    }
   ],
   "source": [
    "%%bash\n",
    "\n",
    "data=$(cat fulltext.json)\n",
    "\n",
    "# Some examples\n",
    "echo \"$data\" | jq '.[\"apiMessage\"]'\n",
    "echo \"$data\" | jq '.[\"query\"]'\n",
    "echo \"$data\" | jq '.[\"records\"][0][\"abstract\"]'\n",
    "echo \"$data\" | jq '.[\"records\"][0][\"doi\"]'\n",
    "echo \"$data\" | jq '.[\"records\"][0][\"onlineDate\"]'\n",
    "echo \"$data\" | jq '.[\"records\"][0][\"printDate\"]'\n",
    "echo \"$data\" | jq '.[\"records\"][0][\"publicationName\"]'\n",
    "echo \"$data\" | jq '.[\"records\"][0][\"title\"]'"
   ]
  }
 ],
 "metadata": {
  "kernelspec": {
   "display_name": "Python 3",
   "language": "python",
   "name": "python3"
  },
  "language_info": {
   "codemirror_mode": {
    "name": "ipython",
    "version": 3
   },
   "file_extension": ".py",
   "mimetype": "text/x-python",
   "name": "python",
   "nbconvert_exporter": "python",
   "pygments_lexer": "ipython3",
   "version": "3.10.12"
  }
 },
 "nbformat": 4,
 "nbformat_minor": 0
}
