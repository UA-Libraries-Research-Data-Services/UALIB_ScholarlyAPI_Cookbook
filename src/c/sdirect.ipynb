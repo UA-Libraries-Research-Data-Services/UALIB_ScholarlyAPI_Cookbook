{
 "cells": [
  {
   "cell_type": "markdown",
   "id": "088987c6-311d-4677-9cc9-19ceeeb245b9",
   "metadata": {},
   "source": [
    "# ScienceDirect API in C\n",
    "\n",
    "by Cyrus Gomes\n",
    "\n",
    "**ScienceDirect**: https://www.sciencedirect.com/\n",
    "\n",
    "**Elsevier Developer Portal:** https://dev.elsevier.com/\n",
    "\n",
    "**ScienceDirect APIs Specification:** https://dev.elsevier.com/sd_api_spec.html\n",
    "\n",
    "**Elsevier How to Guide: Text Mining:** https://dev.elsevier.com/tecdoc_text_mining.html\n",
    "\n",
    "Please check with your institution for their Text and Data Mining Agreement with Elsevier.\n",
    "\n",
    "These recipe examples use the Elsevier ScienceDirect Article (Full-Text) API. This tutorial content is intended to help facillitate academic research. Before continuing or reusing any of this code, please be aware of Elsevier’s API policies and appropiate use-cases, as for example, Elsevier has detailed policies regarding [text and data mining of Elsevier full-text content](https://dev.elsevier.com/text_mining.html). If you have copyright or other related text and data mining questions, please contact The University of Alabama Libraries.\n",
    "\n",
    "*These recipe examples were tested February 2024.*"
   ]
  },
  {
   "cell_type": "markdown",
   "id": "f257ddd2-982a-4179-99c0-0b8d572ac57d",
   "metadata": {},
   "source": [
    "## Setup"
   ]
  },
  {
   "cell_type": "markdown",
   "id": "ea50676e",
   "metadata": {},
   "source": [
    "First, install the CURL and jq packages by typing the following command in the terminal:"
   ]
  },
  {
   "cell_type": "code",
   "execution_count": null,
   "id": "e70df78e",
   "metadata": {},
   "outputs": [],
   "source": [
    "!sudo apt install curl jq"
   ]
  },
  {
   "cell_type": "markdown",
   "id": "01bdb3e7",
   "metadata": {},
   "source": [
    "Then, we set a directory where we want the Science_Direct directory for our projects to be created:"
   ]
  },
  {
   "cell_type": "code",
   "execution_count": 1,
   "id": "462ac307",
   "metadata": {},
   "outputs": [],
   "source": [
    "!mkdir Science_Direct"
   ]
  },
  {
   "cell_type": "markdown",
   "id": "49c44a5e",
   "metadata": {},
   "source": [
    "Finally, we change the directory to the folder we created:"
   ]
  },
  {
   "cell_type": "code",
   "execution_count": null,
   "id": "d9c9efaf",
   "metadata": {},
   "outputs": [],
   "source": [
    "%cd Science_Direct"
   ]
  },
  {
   "cell_type": "markdown",
   "id": "61baba0a-06e0-4a83-bf96-da483ca02742",
   "metadata": {},
   "source": [
    "### Create a variable for API Key\n",
    "\n",
    "Save your API key to a separate text file, then create a variable for your key. Avoid displaying your API key in your terminal (to prevent accidental sharing). "
   ]
  },
  {
   "cell_type": "code",
   "execution_count": null,
   "id": "c85dc169",
   "metadata": {},
   "outputs": [],
   "source": [
    "# Create the key file\n",
    "!touch \"apiKey.txt\""
   ]
  },
  {
   "cell_type": "markdown",
   "id": "cc466078",
   "metadata": {},
   "source": [
    "We use the following command to access the key as Jupyter does not allow variable sharing for bash scripts."
   ]
  },
  {
   "cell_type": "code",
   "execution_count": null,
   "id": "3842b766",
   "metadata": {},
   "outputs": [],
   "source": [
    "# Read the key from the file\n",
    "!apiKey=$(cat \"apiKey.txt\")"
   ]
  },
  {
   "cell_type": "markdown",
   "id": "997bb204-db57-4730-addd-47abd59b67ef",
   "metadata": {},
   "source": [
    "### Identifier Note\n",
    "\n",
    "We will use DOIs as the article identifiers. See our Crossref and Scopus API tutorials for workflows on how to create lists of DOIs and identfiers for specific searches and journals. The Elsevier ScienceDirect Article (Full-Text) API also accepts other identifiers like Scopus IDs and PubMed IDs (see API specification documents linked above)."
   ]
  },
  {
   "cell_type": "markdown",
   "id": "7efb081b",
   "metadata": {},
   "source": [
    "### Create an executable for API calls\n",
    "\n",
    "First, we can initialize a folder for the all the project files and change to that directory:"
   ]
  },
  {
   "cell_type": "code",
   "execution_count": null,
   "id": "2b9fa9fc",
   "metadata": {},
   "outputs": [],
   "source": [
    "!mkdir api_results"
   ]
  },
  {
   "cell_type": "code",
   "execution_count": null,
   "id": "530852eb",
   "metadata": {},
   "outputs": [],
   "source": [
    "%cd api_results"
   ]
  },
  {
   "cell_type": "markdown",
   "id": "7403abb3",
   "metadata": {},
   "source": [
    "We utilize the `%%file` command to create the following makefile which will compile our program and create an executable."
   ]
  },
  {
   "cell_type": "code",
   "execution_count": 1,
   "id": "437a955c",
   "metadata": {},
   "outputs": [
    {
     "name": "stdout",
     "output_type": "stream",
     "text": [
      "Writing makefile\n"
     ]
    }
   ],
   "source": [
    "%%file makefile\n",
    "\n",
    "# Set the variable CC to gcc, which is used to build the program\n",
    "CC=gcc\n",
    "\n",
    "# Enable debugging information and enable all compiler warnings\n",
    "CFLAGS=-g -Wall\n",
    "\n",
    "# Set the bin variable as the name of the binary file we are creating\n",
    "BIN=sDirect_data\n",
    "\n",
    "# Create the binary file with the name we put\n",
    "all: $(BIN)\n",
    "\n",
    "# Map any file ending in .c to a binary executable. \n",
    "# \"$<\" represents the .c file and \"$@\" represents the target binary executable\n",
    "%: %.c\n",
    "\n",
    "\t# Compile the .c file using the gcc compiler with the CFLAGS and links \n",
    "\t# resulting binary with the CURL library\n",
    "\t$(CC) $(CFLAGS) $< -o $@ -lcurl\n",
    "\n",
    "# Clean target which removes specific files\n",
    "clean:\n",
    "\n",
    "\t# Remove the binary file and an \".dSYM\" (debug symbols for debugging) directories\n",
    "\t# the RM command used -r to remove directories and -f to force delete\n",
    "\t$(RM) -rf $(BIN) *.dSYM\n"
   ]
  },
  {
   "cell_type": "markdown",
   "id": "64046fbe",
   "metadata": {},
   "source": [
    "This command is used again to create our .c file which contains the code for the program"
   ]
  },
  {
   "cell_type": "code",
   "execution_count": 4,
   "id": "41946be2",
   "metadata": {},
   "outputs": [
    {
     "name": "stdout",
     "output_type": "stream",
     "text": [
      "Overwriting sDirect_data.c\n"
     ]
    }
   ],
   "source": [
    "%%file sDirect_data.c\n",
    "\n",
    "#include <curl/curl.h>\n",
    "#include <stdio.h>\n",
    "#include <stdlib.h>\n",
    "#include <string.h>\n",
    "\n",
    "/*CURL program that retrieves Science Direct data from\n",
    "  https://api.elsevier.com/content/article/doi/ */\n",
    "\n",
    "int main (int argc, char* argv[]) {\n",
    "    \n",
    "    // If arguments are invalid then return\n",
    "    if (argc < 2) {                                                                                      \n",
    "        printf(\"Error. Please try again correctly. (./sDirect_data -doi [doi] -key [key])\\n\");\n",
    "        return -1;\n",
    "    }\n",
    "    \n",
    "    // Initialize the CURL HTTP connection\n",
    "    CURL *curl = curl_easy_init();\n",
    "\n",
    "    // Bits of the URL that are joined together later                                                                      \n",
    "    char api[] = \"https://api.elsevier.com/content/article/doi/\";                            \n",
    "    char url[1000];\n",
    "    char label1[] = \"?APIKey=\";\n",
    "    char label2[] = \"&httpAccept=text/xml\";\n",
    "    char doi[] = \"10.1016/j.tetlet.2017.07.080\";\n",
    "\n",
    "    // Check if CURL initialization is a success or not\n",
    "    if (!curl) {                                                                                         \n",
    "        fprintf(stderr, \"init failed\\n\");\n",
    "        return EXIT_FAILURE;\n",
    "    }\n",
    "    \n",
    "    /* Here are different ways of calling the program in the\n",
    "    command line and integrating doi and parameter fields.*/\n",
    "\n",
    "    // Has the -doi flag: /sDirect_data -doi\n",
    "    if ((argc==2) && (strcmp(argv[1],\"-doi\")==0)) {\n",
    "        \n",
    "        // Combine the API and default DOI to produce a functioning URL\n",
    "        sprintf(url, \"%s%s\", api, doi); \n",
    "        \n",
    "    }\n",
    "    \n",
    "    // Has the -doi flag and field: ./sDirect_data -doi [doi]\n",
    "    else if ((argc==3) && (strcmp(argv[1],\"-doi\")==0)) {\n",
    "        \n",
    "        // Combine the API and custom DOI\n",
    "        sprintf(url, \"%s%s\", api, argv[2]);                                              \n",
    "    \n",
    "    }\n",
    "    \n",
    "    // Has the -doi and -key flags and the key field: ./sDirect_data -doi -key [key]\n",
    "    else if ((argc==4) && (strcmp(argv[2],\"-key\")==0) && (strcmp(argv[1],\"-doi\")==0)) {\n",
    "        \n",
    "        // Combine the API, default DOI, and key to produce a functioning URL\n",
    "        sprintf(url, \"%s%s%s%s%s\", api, doi, label1, argv[3], label2);                                              \n",
    "    \n",
    "    }\n",
    "    \n",
    "    // Has the -key and -doi flags and the key and doi field: ./sDirect_data -key [key] -doi [doi]\n",
    "    else if ((argc==5) && (strcmp(argv[1],\"-key\")==0) && (strcmp(argv[3],\"-doi\")==0)) {\n",
    "        \n",
    "        // Combine the API, custom DOI, and key to produce the URL\n",
    "        sprintf(url, \"%s%s%s%s%s\", api, argv[4], label1,  argv[2], label2);                                              \n",
    "    \n",
    "    }\n",
    "    \n",
    "    // Has the -doi and -key flags and the doi and key field: ./sDirect_data -doi [doi] -key [key]\n",
    "    else if ((argc==5) && (strcmp(argv[3],\"-key\")==0)) {\n",
    "        \n",
    "        //combines the API, custom DOI, and key to produce the URL\n",
    "        sprintf(url, \"%s%s%s%s%s\", api, argv[2], label1, argv[4], label2);                                              \n",
    "    \n",
    "    }\n",
    "    \n",
    "    // If the arguments are invalid then return\n",
    "    else {        \n",
    "        printf(\"./sDirect_data  -doi [doi] -key [key]\\n\");                                                                                      \n",
    "        curl_easy_cleanup(curl);\n",
    "        return 0;\n",
    "    }                                            \n",
    "\n",
    "    // Set the URL to which the HTTP request will be sent to\n",
    "    // First parameter is for the initialized curl HTTP request, second for the option to be set, and third for the value to be set\n",
    "    curl_easy_setopt(curl, CURLOPT_URL, url);\n",
    "\n",
    "    // If result is not retrieved then output error\n",
    "    CURLcode result = curl_easy_perform(curl);\n",
    "\n",
    "    // If result is not retrieved then output error\n",
    "    if (result != CURLE_OK) {                                                                            \n",
    "        fprintf(stderr, \"download problem: %s\\n\", curl_easy_strerror(result));\n",
    "    }\n",
    "\n",
    "    // Deallocate memory for the CURL connection\n",
    "    curl_easy_cleanup(curl);                                                                            \n",
    "    return EXIT_SUCCESS;\n",
    "}"
   ]
  },
  {
   "cell_type": "code",
   "execution_count": 5,
   "id": "504d29df",
   "metadata": {},
   "outputs": [
    {
     "name": "stdout",
     "output_type": "stream",
     "text": [
      "gcc -g -Wall sDirect_data.c -o sDirect_data -lcurl\n"
     ]
    }
   ],
   "source": [
    "!make"
   ]
  },
  {
   "cell_type": "markdown",
   "id": "5554fdf8-98cd-4bf5-bb44-f16e30b859c8",
   "metadata": {},
   "source": [
    "## 1. Retrieve full-text XML of an article\n",
    "\n",
    "This example downloads an XML file with the article full-text by calling the API. The DOI used in this example comes from a *Tetrahedron Letters* article:"
   ]
  },
  {
   "cell_type": "code",
   "execution_count": 14,
   "id": "97826b88",
   "metadata": {},
   "outputs": [],
   "source": [
    "%%bash\n",
    "\n",
    "# Store the key in the key variable\n",
    "key=$(cat apiKey.txt)\n",
    "\n",
    "# -key [key] can also be used to input the key to program\n",
    "# ./sDirect_data -doi \"$doi\" -key \"$key\"\n",
    "\n",
    "# Call the program using a doi and assign it to a variable\n",
    "fulltext1=$(./sDirect_data -doi \"10.1016/j.tetlet.2017.07.080\")\n",
    "\n",
    "# Save the output to fulltext1.xml\n",
    "echo \"$fulltext1\" > fulltext1.xml"
   ]
  },
  {
   "cell_type": "markdown",
   "id": "56c376b1-411c-4f1b-b117-dd006fd74181",
   "metadata": {},
   "source": [
    "## 2. Retrieve plain text of an article\n",
    "\n",
    "This example downloads a text file with the article full-text by calling the API. The DOI used in this example comes from a *Tetrahedron Letters* article:"
   ]
  },
  {
   "cell_type": "code",
   "execution_count": 16,
   "id": "24642a97",
   "metadata": {},
   "outputs": [],
   "source": [
    "%%bash\n",
    "\n",
    "# Store the key in the key variable\n",
    "key=$(cat apiKey.txt)\n",
    "\n",
    "# -key [key] can also be used to input the key to program\n",
    "# ./sDirect_data -doi \"$doi\" -key \"$key\"\n",
    "\n",
    "# Call the program using a doi and assign it to a variable\n",
    "fulltext2=$(./sDirect_data -doi \"10.1016/j.tetlet.2022.153680\")\n",
    "\n",
    "# Save the output to fulltext2.txt\n",
    "echo \"$fulltext2\" > fulltext2.txt"
   ]
  },
  {
   "cell_type": "markdown",
   "id": "9bd40795-646f-4962-b11d-ca967c06e9cf",
   "metadata": {},
   "source": [
    "## 3. Retrieve full-text in a loop\n",
    "\n",
    "This example retrieves the full-text for a list of articles given their DOIs. This example downloads the articles as plain text, and the examples are *Tetrahedron Letters* articles."
   ]
  },
  {
   "cell_type": "code",
   "execution_count": 5,
   "id": "3d6d8776",
   "metadata": {},
   "outputs": [],
   "source": [
    "%%bash\n",
    "\n",
    "# List of 5 DOIs for testing\n",
    "dois=('10.1016/j.tetlet.2018.10.031',\n",
    "        '10.1016/j.tetlet.2018.10.033',\n",
    "        '10.1016/j.tetlet.2018.10.034',\n",
    "        '10.1016/j.tetlet.2018.10.038',\n",
    "        '10.1016/j.tetlet.2018.10.041')\n",
    "\n",
    "# Store the key in the key variable\n",
    "key=$(cat apiKey.txt)\n",
    "\n",
    "# Call the program using a DOI and assign it to a variable\n",
    "for doi in \"${dois[@]}\"; do\n",
    "    \n",
    "    # Can't save files with a '/' character on Linux\n",
    "    filename=$(echo \"$doi\" | tr '/' '_')\n",
    "    \n",
    "    # Concatenate \"_plain_text.txt\" to the filename\n",
    "    filename=\"${filename}_plain_text.txt\"\n",
    "    \n",
    "    # -key [key] can also be used to input the key to program\n",
    "    # ./sDirect_data -doi \"$doi\" -key \"$key\"\n",
    "    \n",
    "    # Call the program using a DOI and assign it to a variable\n",
    "    article=$(./sDirect_data -doi \"$doi\")\n",
    "    \n",
    "    # Save the output to a .txt file\n",
    "    echo \"$article\" > \"$filename.txt\"\n",
    "\n",
    "done"
   ]
  }
 ],
 "metadata": {
  "kernelspec": {
   "display_name": "Python 3 (ipykernel)",
   "language": "python",
   "name": "python3"
  },
  "language_info": {
   "codemirror_mode": {
    "name": "ipython",
    "version": 3
   },
   "file_extension": ".py",
   "mimetype": "text/x-python",
   "name": "python",
   "nbconvert_exporter": "python",
   "pygments_lexer": "ipython3",
   "version": "3.10.12"
  }
 },
 "nbformat": 4,
 "nbformat_minor": 5
}
