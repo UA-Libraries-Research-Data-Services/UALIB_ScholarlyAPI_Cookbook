{
 "cells": [
  {
   "cell_type": "markdown",
   "metadata": {},
   "source": [
    "# Wiley Text and Data Mining (TDM) in C\n",
    "\n",
    "by Cyrus Gomes\n",
    "\n",
    "**Wiley TDM:** https://onlinelibrary.wiley.com/library-info/resources/text-and-datamining\n",
    "\n",
    "**Wiley TDM terms of use:** Please check with your institution to see their Text and Data Mining Agreement\n",
    "\n",
    "The Wiley Text and Data Mining (TDM) API allows users to retrieve the full-text articles of Wiley content in PDF form.\n",
    "\n",
    "These recipe examples were tested on August 21, 2024.\n",
    "\n",
    "**_NOTE:_** The Wiley TDM API limits requests to a maximum of 3 requests per second."
   ]
  },
  {
   "cell_type": "markdown",
   "metadata": {},
   "source": [
    "## Setup"
   ]
  },
  {
   "cell_type": "markdown",
   "metadata": {},
   "source": [
    "First, install the CURL and jq packages by typing the following command in the terminal:"
   ]
  },
  {
   "cell_type": "code",
   "execution_count": null,
   "metadata": {},
   "outputs": [],
   "source": [
    "!sudo apt install curl jq"
   ]
  },
  {
   "cell_type": "markdown",
   "metadata": {},
   "source": [
    "Create a directory for the Wiley project:"
   ]
  },
  {
   "cell_type": "code",
   "execution_count": 1,
   "metadata": {},
   "outputs": [],
   "source": [
    "!mkdir Wiley"
   ]
  },
  {
   "cell_type": "markdown",
   "metadata": {},
   "source": [
    "Change to the newly created Wiley directory:"
   ]
  },
  {
   "cell_type": "code",
   "execution_count": null,
   "metadata": {},
   "outputs": [],
   "source": [
    "%cd Wiley"
   ]
  },
  {
   "cell_type": "markdown",
   "metadata": {},
   "source": [
    "### Create a variable for API Key\n",
    "\n",
    "\n",
    "### Text and Data Mining Token\n",
    "\n",
    "A token is required to access the Wiley TDM API. Sign up can be found [here](https://onlinelibrary.wiley.com/library-info/resources/text-and-datamining#accordionHeader-2). If creating a new account make sure to log in to access your wiley token. \n",
    "\n",
    "Make sure to input the wiley token in the C program below."
   ]
  },
  {
   "cell_type": "code",
   "execution_count": 3,
   "metadata": {},
   "outputs": [],
   "source": [
    "# Create the key file\n",
    "!touch \"wiley_token.txt\""
   ]
  },
  {
   "cell_type": "markdown",
   "metadata": {},
   "source": [
    "We use the following command to access the key as Jupyter does not allow variable sharing for bash scripts."
   ]
  },
  {
   "cell_type": "code",
   "execution_count": 4,
   "metadata": {},
   "outputs": [],
   "source": [
    "# Input the key into the file by copy/paste or keying in manually\n",
    "# Read the key from the file\n",
    "!wiley_token=$(cat \"wiley_token.txt\")"
   ]
  },
  {
   "cell_type": "markdown",
   "metadata": {},
   "source": [
    "We use the `%%file` command to create the following makefile which will compile our program and create an executable."
   ]
  },
  {
   "cell_type": "code",
   "execution_count": 5,
   "metadata": {},
   "outputs": [
    {
     "name": "stdout",
     "output_type": "stream",
     "text": [
      "Writing makefile\n"
     ]
    }
   ],
   "source": [
    "%%file makefile\n",
    "\n",
    "# Set the variable CC to gcc, which is used to build the program\n",
    "CC=gcc\n",
    "\n",
    "# Enable debugging information and enable all compiler warnings\n",
    "CFLAGS=-g -Wall\n",
    "\n",
    "# Set the bin variable as the name of the binary file we are creating\n",
    "BIN=wiley\n",
    "\n",
    "# Create the binary file with the name we put\n",
    "all: $(BIN)\n",
    "\n",
    "# Map any file ending in .c to a binary executable. \n",
    "# \"$<\" represents the .c file and \"$@\" represents the target binary executable\n",
    "%: %.c\n",
    "\n",
    "\t# Compile the .c file using the gcc compiler with the CFLAGS and links \n",
    "\t# resulting binary with the CURL library\n",
    "\t$(CC) $(CFLAGS) $< -o $@ -lcurl\n",
    "\n",
    "# Clean target which removes specific files\n",
    "clean:\n",
    "\n",
    "\t# Remove the binary file and an \".dSYM\" (debug symbols for debugging) directories\n",
    "\t# the RM command used -r to remove directories and -f to force delete\n",
    "\t$(RM) -rf $(BIN) *.dSYM"
   ]
  },
  {
   "cell_type": "markdown",
   "metadata": {},
   "source": [
    "This command is used again to create our .c file which contains the code for the program"
   ]
  },
  {
   "cell_type": "code",
   "execution_count": 6,
   "metadata": {},
   "outputs": [
    {
     "name": "stdout",
     "output_type": "stream",
     "text": [
      "Writing ./wiley.c\n"
     ]
    }
   ],
   "source": [
    "%%file ./wiley.c\n",
    "\n",
    "#include <stdio.h>\n",
    "#include <stdlib.h>\n",
    "#include <curl/curl.h>\n",
    "#include <string.h>\n",
    "\n",
    "// Callback function to write response data to a file\n",
    "size_t write_data(void *ptr, size_t size, size_t nmemb, FILE *stream) {\n",
    "    return fwrite(ptr, size, nmemb, stream);\n",
    "}\n",
    "\n",
    "// Function to replace characters in a string\n",
    "void replace_char(char *str, char find, char replace) {\n",
    "    char *current_pos = strchr(str, find);\n",
    "    while (current_pos) {\n",
    "        *current_pos = replace;\n",
    "        current_pos = strchr(current_pos, find);\n",
    "    }\n",
    "}\n",
    "\n",
    "int main(int argc, char* argv[]) {\n",
    "    // Default doi and header codes\n",
    "    char doi[200] = {};\n",
    "    char header[200] = {};\n",
    "\n",
    "    // If there are enough arguments\n",
    "    if (argc == 5) {\n",
    "        // Check argument order\n",
    "        if (strcmp(argv[1], \"-h\") == 0 && strcmp(argv[3], \"-d\") == 0) {\n",
    "            strcat(header, argv[2]);\n",
    "            strcat(doi, argv[4]);\n",
    "        } else if (strcmp(argv[1], \"-d\") == 0 && strcmp(argv[3], \"-h\") == 0) {\n",
    "            strcat(doi, argv[2]);\n",
    "            strcat(header, argv[4]);\n",
    "        } else {\n",
    "            fprintf(stderr, \"Invalid argument order.\\n\");\n",
    "            return -1;\n",
    "        }\n",
    "    } else {\n",
    "        fprintf(stderr, \"Invalid number of arguments.\\n\");\n",
    "        return -1;\n",
    "    }\n",
    "\n",
    "    // Construct URL\n",
    "    char url[300];\n",
    "    sprintf(url, \"https://api.wiley.com/onlinelibrary/tdm/v1/articles/%s\", doi);\n",
    "\n",
    "    // Include token in header\n",
    "    struct curl_slist *headers = NULL;\n",
    "    headers = curl_slist_append(headers, header);\n",
    "\n",
    "    // Initialize libcurl\n",
    "    curl_global_init(CURL_GLOBAL_ALL);\n",
    "    CURL *curl = curl_easy_init();\n",
    "\n",
    "    // Set URL and headers\n",
    "    curl_easy_setopt(curl, CURLOPT_URL, url);\n",
    "    curl_easy_setopt(curl, CURLOPT_HTTPHEADER, headers);\n",
    "\n",
    "    // Follow redirects\n",
    "    curl_easy_setopt(curl, CURLOPT_FOLLOWLOCATION, 1L);\n",
    "\n",
    "    // Generate file name\n",
    "    char filename[300];\n",
    "    strcpy(filename, doi);\n",
    "    replace_char(filename, '/', '_');\n",
    "    strcat(filename, \".pdf\");\n",
    "\n",
    "    // Open file for writing\n",
    "    FILE *file = fopen(filename, \"wb\");\n",
    "    if (!file) {\n",
    "        fprintf(stderr, \"Failed to open file for writing\\n\");\n",
    "        return 1;\n",
    "    }\n",
    "\n",
    "    // Set callback function to write response data to file\n",
    "    curl_easy_setopt(curl, CURLOPT_WRITEFUNCTION, write_data);\n",
    "    curl_easy_setopt(curl, CURLOPT_WRITEDATA, file);\n",
    "\n",
    "    // Perform GET request\n",
    "    CURLcode res = curl_easy_perform(curl);\n",
    "\n",
    "    // Debugging: Print the response code\n",
    "    long response_code;\n",
    "    curl_easy_getinfo(curl, CURLINFO_RESPONSE_CODE, &response_code);\n",
    "    printf(\"Response code: %ld\\n\", response_code);\n",
    "\n",
    "    // Cleanup\n",
    "    fclose(file);\n",
    "    curl_slist_free_all(headers);\n",
    "    curl_easy_cleanup(curl);\n",
    "    curl_global_cleanup();\n",
    "\n",
    "    if (res != CURLE_OK) {\n",
    "        fprintf(stderr, \"Failed to download PDF: %s\\n\", curl_easy_strerror(res));\n",
    "        return 1;\n",
    "    }\n",
    "\n",
    "    if (response_code != 200) {\n",
    "        fprintf(stderr, \"PDF download failed: %s\\n\", filename);\n",
    "        return 1;\n",
    "    }\n",
    "\n",
    "    printf(\"PDF downloaded successfully: %s\\n\", filename);\n",
    "\n",
    "    return 0;\n",
    "}"
   ]
  },
  {
   "cell_type": "code",
   "execution_count": 7,
   "metadata": {},
   "outputs": [
    {
     "name": "stdout",
     "output_type": "stream",
     "text": [
      "# Compile the .c file using the gcc compiler with the CFLAGS and links \n",
      "# resulting binary with the CURL library\n",
      "gcc -g -Wall wiley.c -o wiley -lcurl\n"
     ]
    }
   ],
   "source": [
    "!make"
   ]
  },
  {
   "cell_type": "markdown",
   "metadata": {},
   "source": [
    "## 1. Retrieve full-text of an article\n",
    "\n",
    "The Wiley TDM API returns the full-text of an article as a PDF when given the article's DOI.\n",
    "\n",
    "In the first example, we download the full-text of the article with the DOI \"10.1002/net.22207\". This article was found on the Wiley Online Library."
   ]
  },
  {
   "cell_type": "code",
   "execution_count": 8,
   "metadata": {},
   "outputs": [
    {
     "name": "stdout",
     "output_type": "stream",
     "text": [
      "Response code: 200\n",
      "PDF downloaded successfully: 10.1002_net.22207.pdf\n"
     ]
    }
   ],
   "source": [
    "%%bash\n",
    "\n",
    "# DOI of article to download\n",
    "doi=\"10.1002/net.22207\"\n",
    "\n",
    "# Wiley token to be retrieved\n",
    "wiley_token=$(cat \"wiley_token.txt\")\n",
    "\n",
    "# Download PDF using wiley tool\n",
    "./wiley -d \"$doi\" -h \"Wiley-TDM-Client-Token: $wiley_token\""
   ]
  },
  {
   "cell_type": "markdown",
   "metadata": {},
   "source": [
    "## 2. Retrieve full-text of multiple articles\n",
    "\n",
    "In this example, we download 5 articles found in the Wiley Online Library:"
   ]
  },
  {
   "cell_type": "code",
   "execution_count": 9,
   "metadata": {},
   "outputs": [
    {
     "name": "stdout",
     "output_type": "stream",
     "text": [
      "Response code: 200\n",
      "PDF downloaded successfully: 10.1111_j.1467-8624.2010.01564.x.pdf\n",
      "Response code: 200\n",
      "PDF downloaded successfully: 10.1111_1467-8624.00164.pdf\n",
      "Response code: 200\n",
      "PDF downloaded successfully: 10.1111_cdev.12864.pdf\n",
      "Response code: 200\n",
      "PDF downloaded successfully: 10.1111_j.1467-8624.2007.00995.x.pdf\n",
      "Response code: 200\n",
      "PDF downloaded successfully: 10.1111_j.1467-8624.2010.01499.x.pdf\n"
     ]
    },
    {
     "name": "stderr",
     "output_type": "stream",
     "text": [
      "PDF download failed: 10.1111_j.1467-8624.2010.0149.x.pdf\n"
     ]
    },
    {
     "name": "stdout",
     "output_type": "stream",
     "text": [
      "Response code: 404\n"
     ]
    }
   ],
   "source": [
    "%%bash\n",
    "\n",
    "# DOIs of articles to download\n",
    "dois=(\n",
    "    '10.1111/j.1467-8624.2010.01564.x'\n",
    "    '10.1111/1467-8624.00164'\n",
    "    '10.1111/cdev.12864'\n",
    "    '10.1111/j.1467-8624.2007.00995.x'\n",
    "    '10.1111/j.1467-8624.2010.01499.x'\n",
    "    '10.1111/j.1467-8624.2010.0149.x'      # Invalid DOI, will throw error\n",
    ")\n",
    "\n",
    "# Retrieve Wiley token from file\n",
    "wiley_token=$(cat \"wiley_token.txt\")\n",
    "\n",
    "# Iterate through each DOI\n",
    "for doi in \"${dois[@]}\"; do\n",
    "    # Download PDF using Wiley tool\n",
    "    ./wiley -d \"$doi\" -h \"Wiley-TDM-Client-Token: $wiley_token\"\n",
    "    \n",
    "    # Sleep for 1 second\n",
    "    sleep 1\n",
    "done"
   ]
  }
 ],
 "metadata": {
  "kernelspec": {
   "display_name": "cookbook-env",
   "language": "python",
   "name": "python3"
  },
  "language_info": {
   "codemirror_mode": {
    "name": "ipython",
    "version": 3
   },
   "file_extension": ".py",
   "mimetype": "text/x-python",
   "name": "python",
   "nbconvert_exporter": "python",
   "pygments_lexer": "ipython3",
   "version": "3.12.1"
  },
  "orig_nbformat": 4
 },
 "nbformat": 4,
 "nbformat_minor": 2
}
