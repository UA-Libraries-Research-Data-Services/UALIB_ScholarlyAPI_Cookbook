{
 "cells": [
  {
   "cell_type": "markdown",
   "metadata": {},
   "source": [
    "# Research Organization Registry API in C\n",
    "\n",
    "by Cyrus Gomes\n",
    "\n",
    "**ROR API Documentation:** https://ror.readme.io/docs/rest-api\n",
    "\n",
    "**ROR API License:** https://ror.readme.io/docs/ror-basics#what-is-ror\n",
    "\n",
    "The ROR API is licensed under the Creative Commons' [CC0 license](https://creativecommons.org/publicdomain/zero/1.0/), designating its data as part of the public domain.\n",
    "\n",
    "The Research Organization Registry (ROR) API provides persistent identifiers for research organizations.\n",
    "\n",
    "*These recipe examples were tested on August 21, 2024.*\n",
    "\n",
    "**_NOTE:_** The ROR API limits requests to a maximum of 2000 requests in a 5-minute period."
   ]
  },
  {
   "cell_type": "markdown",
   "metadata": {},
   "source": [
    "## Setup\n",
    "\n",
    "### ROR Data Dump\n",
    "\n",
    "When working with larger datasets, consider using the ROR data dump: https://ror.readme.io/docs/data-dump"
   ]
  },
  {
   "cell_type": "markdown",
   "metadata": {},
   "source": [
    "### Install Packages\n",
    "\n",
    "Install the CURL and jq packages by typing the following command in the terminal:"
   ]
  },
  {
   "cell_type": "code",
   "execution_count": null,
   "metadata": {},
   "outputs": [],
   "source": [
    "!sudo apt install curl jq"
   ]
  },
  {
   "cell_type": "markdown",
   "metadata": {},
   "source": [
    "### Create Directory\n",
    "\n",
    "Use the following command to create the ROR directory for our projects:"
   ]
  },
  {
   "cell_type": "code",
   "execution_count": 4,
   "metadata": {},
   "outputs": [],
   "source": [
    "!mkdir ROR"
   ]
  },
  {
   "cell_type": "markdown",
   "metadata": {},
   "source": [
    "Change to the newly created directory with the following command:"
   ]
  },
  {
   "cell_type": "code",
   "execution_count": null,
   "metadata": {},
   "outputs": [],
   "source": [
    "%cd ROR"
   ]
  },
  {
   "cell_type": "markdown",
   "metadata": {},
   "source": [
    "Now, we utilize the `%%file` following command to create the following makefile, which will compile our program and create an executable."
   ]
  },
  {
   "cell_type": "code",
   "execution_count": 6,
   "metadata": {},
   "outputs": [
    {
     "name": "stdout",
     "output_type": "stream",
     "text": [
      "Writing makefile\n"
     ]
    }
   ],
   "source": [
    "%%file makefile\n",
    "\n",
    "# Set the variable CC to gcc, which is used to build the program\n",
    "CC=gcc\n",
    "\n",
    "# Enable debugging information and enable all compiler warnings\n",
    "CFLAGS=-g -Wall\n",
    "\n",
    "# Set the BIN variable as the name of the binary file we are creating\n",
    "BIN=ror\n",
    "\n",
    "# Create the binary file\n",
    "all: $(BIN)\n",
    "\n",
    "# Map any file ending in .c to a binary executable. \n",
    "# \"$<\" represents the .c file and \"$@\" represents the target binary executable\n",
    "%: %.c\n",
    "\n",
    "\t# Compile the .c file using the gcc compiler with the CFLAGS and links \n",
    "\t# Resulting binary with the CURL library\n",
    "\t$(CC) $(CFLAGS) $< -o $@ -lcurl\n",
    "\n",
    "# Clean target which removes specific files\n",
    "clean:\n",
    "\n",
    "\t# Remove the binary file and an \".dSYM\" (debug symbols for debugging) directories\n",
    "\t# The RM command uses -r to remove directories and -f to force delete\n",
    "\t$(RM) -rf $(BIN) *.dSYM"
   ]
  },
  {
   "cell_type": "markdown",
   "metadata": {},
   "source": [
    "The `%%file` command is used again to create our .c file, which contains the code for the program:"
   ]
  },
  {
   "cell_type": "code",
   "execution_count": 7,
   "metadata": {},
   "outputs": [
    {
     "name": "stdout",
     "output_type": "stream",
     "text": [
      "Writing ./ror.c\n"
     ]
    }
   ],
   "source": [
    "%%file ./ror.c\n",
    "\n",
    "#include <curl/curl.h>\n",
    "#include <stdio.h>\n",
    "#include <stdlib.h>\n",
    "#include <string.h>\n",
    "\n",
    "/* CURL program that retrieves Research Organization Registry data from\n",
    "   https://api.ror.org/ */\n",
    "\n",
    "int main(int argc, char *argv[]) {\n",
    "\n",
    "    // If arguments are invalid just return\n",
    "    if (argc != 3 || strcmp(argv[1], \"-url\") != 0) {\n",
    "        fprintf(stderr, \"Error. Please provide the URL correctly. (./ror -url [url])\\n\");\n",
    "        return EXIT_FAILURE;\n",
    "    }\n",
    "\n",
    "    // Initialize CURL HTTP connection\n",
    "    CURL *curl = curl_easy_init();\n",
    "    if (!curl) {\n",
    "        fprintf(stderr, \"CURL initialization failed\\n\");\n",
    "        return EXIT_FAILURE;\n",
    "    }\n",
    "\n",
    "    // Set the URL to which the HTTP request will be sent\n",
    "    curl_easy_setopt(curl, CURLOPT_URL, argv[2]);\n",
    "\n",
    "    // Set option to follow redirections\n",
    "    curl_easy_setopt(curl, CURLOPT_FOLLOWLOCATION, 1L);\n",
    "\n",
    "    // Perform the HTTP request\n",
    "    CURLcode result = curl_easy_perform(curl);\n",
    "\n",
    "    // Check if the request was successful\n",
    "    if (result != CURLE_OK) {\n",
    "        fprintf(stderr, \"Download problem: %s\\n\", curl_easy_strerror(result));\n",
    "    }\n",
    "\n",
    "    // Clean up and deallocate resources\n",
    "    curl_easy_cleanup(curl);\n",
    "\n",
    "    return EXIT_SUCCESS;\n",
    "}"
   ]
  },
  {
   "cell_type": "code",
   "execution_count": 9,
   "metadata": {},
   "outputs": [
    {
     "name": "stdout",
     "output_type": "stream",
     "text": [
      "# Compile the .c file using the gcc compiler with the CFLAGS and links \n",
      "# Resulting binary with the CURL library\n",
      "gcc -g -Wall ror.c -o ror -lcurl\n"
     ]
    }
   ],
   "source": [
    "!make"
   ]
  },
  {
   "cell_type": "markdown",
   "metadata": {},
   "source": [
    "## 1. Searching with queries\n",
    "\n",
    "This first example uses the `query` parameter of the ROR API to search for an institution by name. In this example, we'll search for The University of Alabama:"
   ]
  },
  {
   "cell_type": "code",
   "execution_count": 10,
   "metadata": {},
   "outputs": [
    {
     "name": "stdout",
     "output_type": "stream",
     "text": [
      "Total number of results: 26471\n",
      "Page length: 20\n"
     ]
    }
   ],
   "source": [
    "%%bash\n",
    "\n",
    "# The search query is the institution name\n",
    "institution=\"University of Alabama\"\n",
    "\n",
    "# Use the quotes function to URL encode our search term\n",
    "url=\"https://api.ror.org/organizations?query=$(printf \"%s\" \"$institution\" | jq -s -R -r @uri)\"\n",
    "\n",
    "# Retrieve data from the API and store it in a JSON file\n",
    "./ror -url \"$url\" | jq '.' > response.json\n",
    "\n",
    "# Fetch data from the JSON file and process it with jq\n",
    "cat response.json | jq -r ' \"Total number of results: \\(.number_of_results)\\nPage length: \\(.items | length)\"'"
   ]
  },
  {
   "cell_type": "markdown",
   "metadata": {},
   "source": [
    "The results indicate that the query produced thousands of results, but only the data for 20 institutions were returned in this query. However, the top result was exactly what we were looking for:"
   ]
  },
  {
   "cell_type": "code",
   "execution_count": 12,
   "metadata": {
    "tags": [
     "output_scroll"
    ]
   },
   "outputs": [
    {
     "name": "stdout",
     "output_type": "stream",
     "text": [
      "\u001b[1;39m{\n",
      "  \u001b[0m\u001b[34;1m\"id\"\u001b[0m\u001b[1;39m: \u001b[0m\u001b[0;32m\"https://ror.org/03xrrjk67\"\u001b[0m\u001b[1;39m,\n",
      "  \u001b[0m\u001b[34;1m\"name\"\u001b[0m\u001b[1;39m: \u001b[0m\u001b[0;32m\"University of Alabama\"\u001b[0m\u001b[1;39m,\n",
      "  \u001b[0m\u001b[34;1m\"email_address\"\u001b[0m\u001b[1;39m: \u001b[0m\u001b[1;30mnull\u001b[0m\u001b[1;39m,\n",
      "  \u001b[0m\u001b[34;1m\"ip_addresses\"\u001b[0m\u001b[1;39m: \u001b[0m\u001b[1;39m[]\u001b[0m\u001b[1;39m,\n",
      "  \u001b[0m\u001b[34;1m\"established\"\u001b[0m\u001b[1;39m: \u001b[0m\u001b[0;39m1831\u001b[0m\u001b[1;39m,\n",
      "  \u001b[0m\u001b[34;1m\"types\"\u001b[0m\u001b[1;39m: \u001b[0m\u001b[1;39m[\n",
      "    \u001b[0;32m\"Education\"\u001b[0m\u001b[1;39m\n",
      "  \u001b[1;39m]\u001b[0m\u001b[1;39m,\n",
      "  \u001b[0m\u001b[34;1m\"relationships\"\u001b[0m\u001b[1;39m: \u001b[0m\u001b[1;39m[\n",
      "    \u001b[1;39m{\n",
      "      \u001b[0m\u001b[34;1m\"label\"\u001b[0m\u001b[1;39m: \u001b[0m\u001b[0;32m\"Mississippi Alabama Sea Grant Consortium\"\u001b[0m\u001b[1;39m,\n",
      "      \u001b[0m\u001b[34;1m\"type\"\u001b[0m\u001b[1;39m: \u001b[0m\u001b[0;32m\"Related\"\u001b[0m\u001b[1;39m,\n",
      "      \u001b[0m\u001b[34;1m\"id\"\u001b[0m\u001b[1;39m: \u001b[0m\u001b[0;32m\"https://ror.org/04vzsq290\"\u001b[0m\u001b[1;39m\n",
      "    \u001b[1;39m}\u001b[0m\u001b[1;39m,\n",
      "    \u001b[1;39m{\n",
      "      \u001b[0m\u001b[34;1m\"label\"\u001b[0m\u001b[1;39m: \u001b[0m\u001b[0;32m\"University of Alabama System\"\u001b[0m\u001b[1;39m,\n",
      "      \u001b[0m\u001b[34;1m\"type\"\u001b[0m\u001b[1;39m: \u001b[0m\u001b[0;32m\"Parent\"\u001b[0m\u001b[1;39m,\n",
      "      \u001b[0m\u001b[34;1m\"id\"\u001b[0m\u001b[1;39m: \u001b[0m\u001b[0;32m\"https://ror.org/051fvmk98\"\u001b[0m\u001b[1;39m\n",
      "    \u001b[1;39m}\u001b[0m\u001b[1;39m\n",
      "  \u001b[1;39m]\u001b[0m\u001b[1;39m,\n",
      "  \u001b[0m\u001b[34;1m\"addresses\"\u001b[0m\u001b[1;39m: \u001b[0m\u001b[1;39m[\n",
      "    \u001b[1;39m{\n",
      "      \u001b[0m\u001b[34;1m\"lat\"\u001b[0m\u001b[1;39m: \u001b[0m\u001b[0;39m33.20984\u001b[0m\u001b[1;39m,\n",
      "      \u001b[0m\u001b[34;1m\"lng\"\u001b[0m\u001b[1;39m: \u001b[0m\u001b[0;39m-87.56917\u001b[0m\u001b[1;39m,\n",
      "      \u001b[0m\u001b[34;1m\"state\"\u001b[0m\u001b[1;39m: \u001b[0m\u001b[1;30mnull\u001b[0m\u001b[1;39m,\n",
      "      \u001b[0m\u001b[34;1m\"state_code\"\u001b[0m\u001b[1;39m: \u001b[0m\u001b[1;30mnull\u001b[0m\u001b[1;39m,\n",
      "      \u001b[0m\u001b[34;1m\"city\"\u001b[0m\u001b[1;39m: \u001b[0m\u001b[0;32m\"Tuscaloosa\"\u001b[0m\u001b[1;39m,\n",
      "      \u001b[0m\u001b[34;1m\"geonames_city\"\u001b[0m\u001b[1;39m: \u001b[0m\u001b[1;39m{\n",
      "        \u001b[0m\u001b[34;1m\"id\"\u001b[0m\u001b[1;39m: \u001b[0m\u001b[0;39m4094455\u001b[0m\u001b[1;39m,\n",
      "        \u001b[0m\u001b[34;1m\"city\"\u001b[0m\u001b[1;39m: \u001b[0m\u001b[0;32m\"Tuscaloosa\"\u001b[0m\u001b[1;39m,\n",
      "        \u001b[0m\u001b[34;1m\"geonames_admin1\"\u001b[0m\u001b[1;39m: \u001b[0m\u001b[1;39m{\n",
      "          \u001b[0m\u001b[34;1m\"name\"\u001b[0m\u001b[1;39m: \u001b[0m\u001b[0;32m\"Alabama\"\u001b[0m\u001b[1;39m,\n",
      "          \u001b[0m\u001b[34;1m\"id\"\u001b[0m\u001b[1;39m: \u001b[0m\u001b[0;39m4829764\u001b[0m\u001b[1;39m,\n",
      "          \u001b[0m\u001b[34;1m\"ascii_name\"\u001b[0m\u001b[1;39m: \u001b[0m\u001b[0;32m\"Alabama\"\u001b[0m\u001b[1;39m,\n",
      "          \u001b[0m\u001b[34;1m\"code\"\u001b[0m\u001b[1;39m: \u001b[0m\u001b[0;32m\"US.AL\"\u001b[0m\u001b[1;39m\n",
      "        \u001b[1;39m}\u001b[0m\u001b[1;39m,\n",
      "        \u001b[0m\u001b[34;1m\"geonames_admin2\"\u001b[0m\u001b[1;39m: \u001b[0m\u001b[1;39m{\n",
      "          \u001b[0m\u001b[34;1m\"name\"\u001b[0m\u001b[1;39m: \u001b[0m\u001b[0;32m\"Tuscaloosa\"\u001b[0m\u001b[1;39m,\n",
      "          \u001b[0m\u001b[34;1m\"id\"\u001b[0m\u001b[1;39m: \u001b[0m\u001b[0;39m4094463\u001b[0m\u001b[1;39m,\n",
      "          \u001b[0m\u001b[34;1m\"ascii_name\"\u001b[0m\u001b[1;39m: \u001b[0m\u001b[0;32m\"Tuscaloosa\"\u001b[0m\u001b[1;39m,\n",
      "          \u001b[0m\u001b[34;1m\"code\"\u001b[0m\u001b[1;39m: \u001b[0m\u001b[0;32m\"US.AL.125\"\u001b[0m\u001b[1;39m\n",
      "        \u001b[1;39m}\u001b[0m\u001b[1;39m,\n",
      "        \u001b[0m\u001b[34;1m\"license\"\u001b[0m\u001b[1;39m: \u001b[0m\u001b[1;39m{\n",
      "          \u001b[0m\u001b[34;1m\"attribution\"\u001b[0m\u001b[1;39m: \u001b[0m\u001b[0;32m\"Data from geonames.org under a CC-BY 3.0 license\"\u001b[0m\u001b[1;39m,\n",
      "          \u001b[0m\u001b[34;1m\"license\"\u001b[0m\u001b[1;39m: \u001b[0m\u001b[0;32m\"http://creativecommons.org/licenses/by/3.0/\"\u001b[0m\u001b[1;39m\n",
      "        \u001b[1;39m}\u001b[0m\u001b[1;39m,\n",
      "        \u001b[0m\u001b[34;1m\"nuts_level1\"\u001b[0m\u001b[1;39m: \u001b[0m\u001b[1;39m{\n",
      "          \u001b[0m\u001b[34;1m\"name\"\u001b[0m\u001b[1;39m: \u001b[0m\u001b[1;30mnull\u001b[0m\u001b[1;39m,\n",
      "          \u001b[0m\u001b[34;1m\"code\"\u001b[0m\u001b[1;39m: \u001b[0m\u001b[1;30mnull\u001b[0m\u001b[1;39m\n",
      "        \u001b[1;39m}\u001b[0m\u001b[1;39m,\n",
      "        \u001b[0m\u001b[34;1m\"nuts_level2\"\u001b[0m\u001b[1;39m: \u001b[0m\u001b[1;39m{\n",
      "          \u001b[0m\u001b[34;1m\"name\"\u001b[0m\u001b[1;39m: \u001b[0m\u001b[1;30mnull\u001b[0m\u001b[1;39m,\n",
      "          \u001b[0m\u001b[34;1m\"code\"\u001b[0m\u001b[1;39m: \u001b[0m\u001b[1;30mnull\u001b[0m\u001b[1;39m\n",
      "        \u001b[1;39m}\u001b[0m\u001b[1;39m,\n",
      "        \u001b[0m\u001b[34;1m\"nuts_level3\"\u001b[0m\u001b[1;39m: \u001b[0m\u001b[1;39m{\n",
      "          \u001b[0m\u001b[34;1m\"name\"\u001b[0m\u001b[1;39m: \u001b[0m\u001b[1;30mnull\u001b[0m\u001b[1;39m,\n",
      "          \u001b[0m\u001b[34;1m\"code\"\u001b[0m\u001b[1;39m: \u001b[0m\u001b[1;30mnull\u001b[0m\u001b[1;39m\n",
      "        \u001b[1;39m}\u001b[0m\u001b[1;39m\n",
      "      \u001b[1;39m}\u001b[0m\u001b[1;39m,\n",
      "      \u001b[0m\u001b[34;1m\"postcode\"\u001b[0m\u001b[1;39m: \u001b[0m\u001b[1;30mnull\u001b[0m\u001b[1;39m,\n",
      "      \u001b[0m\u001b[34;1m\"primary\"\u001b[0m\u001b[1;39m: \u001b[0m\u001b[0;39mfalse\u001b[0m\u001b[1;39m,\n",
      "      \u001b[0m\u001b[34;1m\"line\"\u001b[0m\u001b[1;39m: \u001b[0m\u001b[1;30mnull\u001b[0m\u001b[1;39m,\n",
      "      \u001b[0m\u001b[34;1m\"country_geonames_id\"\u001b[0m\u001b[1;39m: \u001b[0m\u001b[0;39m6252001\u001b[0m\u001b[1;39m\n",
      "    \u001b[1;39m}\u001b[0m\u001b[1;39m\n",
      "  \u001b[1;39m]\u001b[0m\u001b[1;39m,\n",
      "  \u001b[0m\u001b[34;1m\"links\"\u001b[0m\u001b[1;39m: \u001b[0m\u001b[1;39m[\n",
      "    \u001b[0;32m\"https://www.ua.edu/\"\u001b[0m\u001b[1;39m\n",
      "  \u001b[1;39m]\u001b[0m\u001b[1;39m,\n",
      "  \u001b[0m\u001b[34;1m\"aliases\"\u001b[0m\u001b[1;39m: \u001b[0m\u001b[1;39m[]\u001b[0m\u001b[1;39m,\n",
      "  \u001b[0m\u001b[34;1m\"acronyms\"\u001b[0m\u001b[1;39m: \u001b[0m\u001b[1;39m[]\u001b[0m\u001b[1;39m,\n",
      "  \u001b[0m\u001b[34;1m\"status\"\u001b[0m\u001b[1;39m: \u001b[0m\u001b[0;32m\"active\"\u001b[0m\u001b[1;39m,\n",
      "  \u001b[0m\u001b[34;1m\"wikipedia_url\"\u001b[0m\u001b[1;39m: \u001b[0m\u001b[0;32m\"http://en.wikipedia.org/wiki/University_of_Alabama\"\u001b[0m\u001b[1;39m,\n",
      "  \u001b[0m\u001b[34;1m\"labels\"\u001b[0m\u001b[1;39m: \u001b[0m\u001b[1;39m[\n",
      "    \u001b[1;39m{\n",
      "      \u001b[0m\u001b[34;1m\"label\"\u001b[0m\u001b[1;39m: \u001b[0m\u001b[0;32m\"Universidad de Alabama\"\u001b[0m\u001b[1;39m,\n",
      "      \u001b[0m\u001b[34;1m\"iso639\"\u001b[0m\u001b[1;39m: \u001b[0m\u001b[0;32m\"es\"\u001b[0m\u001b[1;39m\n",
      "    \u001b[1;39m}\u001b[0m\u001b[1;39m,\n",
      "    \u001b[1;39m{\n",
      "      \u001b[0m\u001b[34;1m\"label\"\u001b[0m\u001b[1;39m: \u001b[0m\u001b[0;32m\"Université de l'Alabama\"\u001b[0m\u001b[1;39m,\n",
      "      \u001b[0m\u001b[34;1m\"iso639\"\u001b[0m\u001b[1;39m: \u001b[0m\u001b[0;32m\"fr\"\u001b[0m\u001b[1;39m\n",
      "    \u001b[1;39m}\u001b[0m\u001b[1;39m\n",
      "  \u001b[1;39m]\u001b[0m\u001b[1;39m,\n",
      "  \u001b[0m\u001b[34;1m\"country\"\u001b[0m\u001b[1;39m: \u001b[0m\u001b[1;39m{\n",
      "    \u001b[0m\u001b[34;1m\"country_name\"\u001b[0m\u001b[1;39m: \u001b[0m\u001b[0;32m\"United States\"\u001b[0m\u001b[1;39m,\n",
      "    \u001b[0m\u001b[34;1m\"country_code\"\u001b[0m\u001b[1;39m: \u001b[0m\u001b[0;32m\"US\"\u001b[0m\u001b[1;39m\n",
      "  \u001b[1;39m}\u001b[0m\u001b[1;39m,\n",
      "  \u001b[0m\u001b[34;1m\"external_ids\"\u001b[0m\u001b[1;39m: \u001b[0m\u001b[1;39m{\n",
      "    \u001b[0m\u001b[34;1m\"ISNI\"\u001b[0m\u001b[1;39m: \u001b[0m\u001b[1;39m{\n",
      "      \u001b[0m\u001b[34;1m\"preferred\"\u001b[0m\u001b[1;39m: \u001b[0m\u001b[1;30mnull\u001b[0m\u001b[1;39m,\n",
      "      \u001b[0m\u001b[34;1m\"all\"\u001b[0m\u001b[1;39m: \u001b[0m\u001b[1;39m[\n",
      "        \u001b[0;32m\"0000 0001 0727 7545\"\u001b[0m\u001b[1;39m\n",
      "      \u001b[1;39m]\u001b[0m\u001b[1;39m\n",
      "    \u001b[1;39m}\u001b[0m\u001b[1;39m,\n",
      "    \u001b[0m\u001b[34;1m\"FundRef\"\u001b[0m\u001b[1;39m: \u001b[0m\u001b[1;39m{\n",
      "      \u001b[0m\u001b[34;1m\"preferred\"\u001b[0m\u001b[1;39m: \u001b[0m\u001b[0;32m\"100011531\"\u001b[0m\u001b[1;39m,\n",
      "      \u001b[0m\u001b[34;1m\"all\"\u001b[0m\u001b[1;39m: \u001b[0m\u001b[1;39m[\n",
      "        \u001b[0;32m\"100011531\"\u001b[0m\u001b[1;39m\n",
      "      \u001b[1;39m]\u001b[0m\u001b[1;39m\n",
      "    \u001b[1;39m}\u001b[0m\u001b[1;39m,\n",
      "    \u001b[0m\u001b[34;1m\"OrgRef\"\u001b[0m\u001b[1;39m: \u001b[0m\u001b[1;39m{\n",
      "      \u001b[0m\u001b[34;1m\"preferred\"\u001b[0m\u001b[1;39m: \u001b[0m\u001b[1;30mnull\u001b[0m\u001b[1;39m,\n",
      "      \u001b[0m\u001b[34;1m\"all\"\u001b[0m\u001b[1;39m: \u001b[0m\u001b[1;39m[\n",
      "        \u001b[0;32m\"327950\"\u001b[0m\u001b[1;39m\n",
      "      \u001b[1;39m]\u001b[0m\u001b[1;39m\n",
      "    \u001b[1;39m}\u001b[0m\u001b[1;39m,\n",
      "    \u001b[0m\u001b[34;1m\"Wikidata\"\u001b[0m\u001b[1;39m: \u001b[0m\u001b[1;39m{\n",
      "      \u001b[0m\u001b[34;1m\"preferred\"\u001b[0m\u001b[1;39m: \u001b[0m\u001b[1;30mnull\u001b[0m\u001b[1;39m,\n",
      "      \u001b[0m\u001b[34;1m\"all\"\u001b[0m\u001b[1;39m: \u001b[0m\u001b[1;39m[\n",
      "        \u001b[0;32m\"Q492318\"\u001b[0m\u001b[1;39m\n",
      "      \u001b[1;39m]\u001b[0m\u001b[1;39m\n",
      "    \u001b[1;39m}\u001b[0m\u001b[1;39m,\n",
      "    \u001b[0m\u001b[34;1m\"GRID\"\u001b[0m\u001b[1;39m: \u001b[0m\u001b[1;39m{\n",
      "      \u001b[0m\u001b[34;1m\"preferred\"\u001b[0m\u001b[1;39m: \u001b[0m\u001b[0;32m\"grid.411015.0\"\u001b[0m\u001b[1;39m,\n",
      "      \u001b[0m\u001b[34;1m\"all\"\u001b[0m\u001b[1;39m: \u001b[0m\u001b[0;32m\"grid.411015.0\"\u001b[0m\u001b[1;39m\n",
      "    \u001b[1;39m}\u001b[0m\u001b[1;39m\n",
      "  \u001b[1;39m}\u001b[0m\u001b[1;39m\n",
      "\u001b[1;39m}\u001b[0m\n"
     ]
    }
   ],
   "source": [
    "# Display data of the top search result\n",
    "!cat response.json | jq -r '.[\"items\"][0]'"
   ]
  },
  {
   "cell_type": "markdown",
   "metadata": {},
   "source": [
    "The following code produces the name, ROR ID, city, and wikipedia URL of the top result of the query:"
   ]
  },
  {
   "cell_type": "code",
   "execution_count": 13,
   "metadata": {},
   "outputs": [
    {
     "name": "stdout",
     "output_type": "stream",
     "text": [
      "University of Alabama\n"
     ]
    }
   ],
   "source": [
    "!cat response.json | jq -r '.[\"items\"][0][\"name\"]'"
   ]
  },
  {
   "cell_type": "code",
   "execution_count": 14,
   "metadata": {},
   "outputs": [
    {
     "name": "stdout",
     "output_type": "stream",
     "text": [
      "https://ror.org/03xrrjk67\n"
     ]
    }
   ],
   "source": [
    "!cat response.json | jq -r '.[\"items\"][0][\"id\"]'"
   ]
  },
  {
   "cell_type": "code",
   "execution_count": 15,
   "metadata": {},
   "outputs": [
    {
     "name": "stdout",
     "output_type": "stream",
     "text": [
      "Tuscaloosa\n"
     ]
    }
   ],
   "source": [
    "!cat response.json | jq -r '.[\"items\"][0][\"addresses\"][0][\"city\"]'"
   ]
  },
  {
   "cell_type": "code",
   "execution_count": 16,
   "metadata": {},
   "outputs": [
    {
     "name": "stdout",
     "output_type": "stream",
     "text": [
      "http://en.wikipedia.org/wiki/University_of_Alabama\n"
     ]
    }
   ],
   "source": [
    "!cat response.json | jq -r '.[\"items\"][0][\"wikipedia_url\"]'"
   ]
  },
  {
   "cell_type": "markdown",
   "metadata": {},
   "source": [
    "### Searching by alternate names\n",
    "\n",
    "The example below uses abbreviated forms of the full names of universities when searching:"
   ]
  },
  {
   "cell_type": "code",
   "execution_count": 17,
   "metadata": {},
   "outputs": [
    {
     "name": "stdout",
     "output_type": "stream",
     "text": [
      "University of Alabama Tuscaloosa: University of Alabama\n",
      "Missouri: Missouri College\n",
      "Dartmouth: Dartmouth Hospital\n",
      "Oxford: Stockholm Environment Institute\n",
      "UCLA: Universidad Centroccidental Lisandro Alvarado\n"
     ]
    }
   ],
   "source": [
    "%%bash\n",
    "\n",
    "# List of institutions to be searched\n",
    "institutions=(\n",
    "    'University of Alabama Tuscaloosa'\n",
    "    'Missouri'\n",
    "    'Dartmouth'\n",
    "    'Oxford'\n",
    "    'UCLA'\n",
    ")\n",
    "\n",
    "# Send an HTTP request for each institution\n",
    "for institution in \"${institutions[@]}\"; do\n",
    "\n",
    "    # Set the URL for each institution\n",
    "    url=\"https://api.ror.org/organizations?query=$(printf \"%s\" \"$institution\" | jq -s -R -r @uri)\"\n",
    "\n",
    "    # Retrieve data from the API and print the name\n",
    "    # Print the search term and the name of its top result\n",
    "    top_result=$(./ror -url \"$url\" | jq -r '.[\"items\"][0][\"name\"]')\n",
    "    echo \"$institution: $top_result\"\n",
    "\n",
    "    # Stagger requests to be nicer on the ROR servers\n",
    "    sleep 1\n",
    "\n",
    "done"
   ]
  },
  {
   "cell_type": "markdown",
   "metadata": {},
   "source": [
    "The top results of the queries above are probably not what you would have expected. The example below remedies these issues by having more clearly defined search strings:"
   ]
  },
  {
   "cell_type": "code",
   "execution_count": 18,
   "metadata": {},
   "outputs": [
    {
     "name": "stdout",
     "output_type": "stream",
     "text": [
      "University of Alabama Tuscaloosa: University of Alabama\n",
      "University of Missouri: University of Missouri\n",
      "Dartmouth College: Dartmouth College\n",
      "University of Oxford: University of Oxford\n",
      "University of California Los Angeles: University of California, Los Angeles\n"
     ]
    }
   ],
   "source": [
    "%%bash\n",
    "\n",
    "# List of institutions to be searched\n",
    "institutions=(\n",
    "    'University of Alabama Tuscaloosa'\n",
    "    'University of Missouri'\n",
    "    'Dartmouth College'\n",
    "    'University of Oxford'\n",
    "    'University of California Los Angeles'\n",
    ")\n",
    "\n",
    "# Send an HTTP request for each institution\n",
    "for institution in \"${institutions[@]}\"; do\n",
    "\n",
    "    # Set the URL for each institution\n",
    "    url=\"https://api.ror.org/organizations?query=$(printf \"%s\" \"$institution\" | jq -s -R -r @uri)\"\n",
    "\n",
    "    # Retrieve data from the API and print the name\n",
    "    # Print the search term and the name of its top result\n",
    "    top_result=$(./ror -url \"$url\" | jq -r '.[\"items\"][0][\"name\"]')\n",
    "    echo \"$institution: $top_result\"\n",
    "\n",
    "    # Stagger requests to be nicer on the ROR servers\n",
    "    sleep 1\n",
    "\n",
    "done"
   ]
  },
  {
   "cell_type": "markdown",
   "metadata": {},
   "source": [
    "## 2. Searching with filters\n",
    "\n",
    "The ROR API also allows searches to be performed with the `filter` parameter, which can take 3 arguments: `status`, `types`, and `country`. For more information on what values these arguments can take, read the ROR documentation here: https://ror.org/tutorials/intro-ror-api/#filtering-results"
   ]
  },
  {
   "cell_type": "code",
   "execution_count": 19,
   "metadata": {},
   "outputs": [
    {
     "name": "stdout",
     "output_type": "stream",
     "text": [
      "4307\n"
     ]
    }
   ],
   "source": [
    "%%bash\n",
    "\n",
    "# List of institutions to be searched\n",
    "filters=(\n",
    "    \"country.country_name:$(printf 'United States' | jq -s -R -r @uri)\"\n",
    "    'types:Education'\n",
    "    'status:Active'\n",
    ")\n",
    "\n",
    "# Join array elements using ',' as separator\n",
    "filters_string=$(IFS=','; echo \"${filters[*]}\")\n",
    "\n",
    "# Set the URL for each institution\n",
    "url=\"https://api.ror.org/organizations?filter=$filters_string\"\n",
    "\n",
    "# Print the number of results\n",
    "./ror -url \"$url\" | jq -r '.[\"number_of_results\"]'"
   ]
  },
  {
   "cell_type": "markdown",
   "metadata": {},
   "source": [
    "### Paging through a result\n",
    "\n",
    "The example below pages through the results to find the names and ROR IDs of the first 100 institutions returned using the filter:"
   ]
  },
  {
   "cell_type": "code",
   "execution_count": 20,
   "metadata": {
    "tags": [
     "output_scroll"
    ]
   },
   "outputs": [
    {
     "name": "stdout",
     "output_type": "stream",
     "text": [
      "Alaska Marine Safety Education Association: https://ror.org/01gr48a54\n",
      "Anchorage School District: https://ror.org/02yvffa38\n",
      "Antioch College: https://ror.org/00bmb8a49\n",
      "Archmere Academy: https://ror.org/04k7qsz50\n",
      "ASA College: https://ror.org/039h3aa75\n",
      "Athens Technical College: https://ror.org/000ge9g13\n",
      "Atlantic Union College: https://ror.org/03aat3341\n",
      "Austin Independent School District: https://ror.org/01g9rp025\n",
      "Averett University: https://ror.org/00vm5ky05\n",
      "Barber–Scotia College: https://ror.org/05rmcwb88\n",
      "Barre Town Middle and Elementary School: https://ror.org/008jf2g02\n",
      "Baton Rouge Community College: https://ror.org/057r54s29\n",
      "Baylor School: https://ror.org/01qd58v91\n",
      "Bay Path University: https://ror.org/05xca6483\n",
      "Bergen Community College: https://ror.org/02hwvpm08\n",
      "Biloxi Public Schools: https://ror.org/01j6w4907\n",
      "Bonanza High School: https://ror.org/021mk5n73\n",
      "Boston Architectural College: https://ror.org/00q4tes89\n",
      "Brookdale Community College: https://ror.org/05mrhv083\n",
      "Cape Cod Community College: https://ror.org/02w1skc55\n",
      "Cape Fear Community College: https://ror.org/05mc3r439\n",
      "Capital Community College: https://ror.org/014a8dd26\n",
      "Centralia College: https://ror.org/026sdzz57\n",
      "Central Virginia Community College: https://ror.org/00ehy3369\n",
      "Cincinnati Christian University: https://ror.org/00342ps77\n",
      "Cincinnati State Technical and Community College: https://ror.org/01g5qva43\n",
      "Claremont Colleges: https://ror.org/03xaz7s88\n",
      "Clark State Community College: https://ror.org/02k16sh85\n",
      "CollegeAmerica: https://ror.org/050p5ky47\n",
      "College of Lake County: https://ror.org/03v8atx30\n",
      "College of Westchester: https://ror.org/00ck0vh11\n",
      "College of Western Idaho: https://ror.org/05sfzsk90\n",
      "Columbus College of Art and Design: https://ror.org/03n6gc586\n",
      "Columbus State Community College: https://ror.org/02s8rep32\n",
      "Committee on Institutional Cooperation: https://ror.org/02ntfsb56\n",
      "Compton Community College District: https://ror.org/013f0nb72\n",
      "Concordia Seminary: https://ror.org/05tq5tc82\n",
      "Concordia University Chicago: https://ror.org/02jvqj155\n",
      "Concordia University Wisconsin: https://ror.org/04k83g518\n",
      "Cornerstone University: https://ror.org/01nfeyj87\n",
      "Cottey College: https://ror.org/05w3cd862\n",
      "Culver Stockton College: https://ror.org/00n855a93\n",
      "Divine Word College: https://ror.org/0448r9386\n",
      "Eagle Gate College: https://ror.org/04hs3y322\n",
      "East Arkansas Community College: https://ror.org/0583vk835\n",
      "East Central Community College: https://ror.org/03qa0dm98\n",
      "Eastern Arizona College: https://ror.org/03fcyyh75\n",
      "Eastern West Virginia Community and Technical College: https://ror.org/034fab991\n",
      "Eastern Wyoming College: https://ror.org/03ye76s02\n",
      "Eastwick College and the HoHoKus Schools: https://ror.org/02fa80e12\n",
      "Edison Community College: https://ror.org/0182rkr07\n",
      "Faulkner University: https://ror.org/048kc5t54\n",
      "Feather River College: https://ror.org/03wzvrw53\n",
      "Fisher College: https://ror.org/02a3j1p21\n",
      "Harrington College of Design: https://ror.org/02v431325\n",
      "Heartland Community College: https://ror.org/004xm6e62\n",
      "Hebrew Theological College: https://ror.org/01g2p0822\n",
      "Henderson Community College: https://ror.org/00vzha967\n",
      "Hennepin Technical College: https://ror.org/00m41wh60\n",
      "Hibbing Community College: https://ror.org/037saaz25\n",
      "Hillsdale College: https://ror.org/05vs4fq96\n",
      "Hocking College: https://ror.org/01tpw6659\n",
      "Holy Cross College: https://ror.org/0574bwf68\n",
      "Illinois Mathematics and Science Academy: https://ror.org/024xf4148\n",
      "Illinois Valley Community College: https://ror.org/04v1k1t27\n",
      "Indianapolis Public Schools: https://ror.org/04ttjs010\n",
      "Indiana University East: https://ror.org/046z54t28\n",
      "Indiana University Kokomo: https://ror.org/04161kh40\n",
      "International Business College - Fort Wayne: https://ror.org/00qbqm161\n",
      "Missouri Baptist University: https://ror.org/05wfyqn93\n",
      "Missouri Southern State University: https://ror.org/01zqbp192\n",
      "Missouri Valley College: https://ror.org/02msncq66\n",
      "Moody Bible Institute: https://ror.org/05wffnp93\n",
      "Moraine Park Technical College: https://ror.org/03afd3b65\n",
      "Morton College: https://ror.org/03wn0d080\n",
      "Mount Mary University: https://ror.org/02qr05d85\n",
      "Mount Vernon Nazarene University: https://ror.org/01jtsd542\n",
      "Paterson Public Schools: https://ror.org/00e3ms285\n",
      "Prince George's County Public Schools: https://ror.org/047137m93\n",
      "Southeastern Illinois College: https://ror.org/017f49052\n",
      "Southern State Community College: https://ror.org/02xaxz408\n",
      "South Suburban College: https://ror.org/01c6kab21\n",
      "Southwestern Illinois College: https://ror.org/04y17xm23\n",
      "Southwestern Michigan College: https://ror.org/01g1dn598\n",
      "Spertus Institute for Jewish Learning and Leadership: https://ror.org/01hxtdq06\n",
      "Spoon River College: https://ror.org/025vzq165\n",
      "Spring Arbor University: https://ror.org/02j8e5x02\n",
      "State Fair Community College: https://ror.org/00v02jt04\n",
      "Vincennes University: https://ror.org/03gbwkj22\n",
      "Walsh College: https://ror.org/05s4pg032\n",
      "Washington State Community College: https://ror.org/03mbgzm57\n",
      "Washtenaw Community College: https://ror.org/03k77wm53\n",
      "Waubonsee Community College: https://ror.org/03dfsfy59\n",
      "Waukesha County Technical College: https://ror.org/01hqrfw90\n",
      "Wells College: https://ror.org/006pvfx30\n",
      "Wesley Theological Seminary: https://ror.org/04ky2re88\n",
      "Westwood College: https://ror.org/05kjfpp30\n",
      "Wilmington College: https://ror.org/01k08ez36\n",
      "Wisconsin Indianhead Technical College: https://ror.org/01r678s56\n",
      "Wisconsin Lutheran College: https://ror.org/00nve0j20\n"
     ]
    }
   ],
   "source": [
    "%%bash\n",
    "\n",
    "# List of institutions to be searched\n",
    "filters=(\n",
    "    \"country.country_name:$(printf 'United States' | jq -s -R -r @uri)\"\n",
    "    'types:Education'\n",
    "    'status:Active'\n",
    ")\n",
    "\n",
    "# Join array elements using ',' as separator\n",
    "filters_string=$(IFS=','; echo \"${filters[*]}\")\n",
    "\n",
    "# URL constructed with the filters\n",
    "url=\"https://api.ror.org/organizations?filter=$filters_string\"\n",
    "\n",
    "# Retrieve data from the api and print the name\n",
    "response=$(./ror -url \"$url\" | jq -r '.')\n",
    "\n",
    "# Number of results and length of items\n",
    "num_results=$(echo \"$response\" | jq '.[\"number_of_results\"]')\n",
    "length_items=$(echo \"$response\" | jq '.[\"items\"] | length')\n",
    "\n",
    "# Create an array to store the institution names and ids\n",
    "declare -A institution_name_ids\n",
    "\n",
    "# Calculate number of pages in result\n",
    "total_pages=$(((num_results) / length_items + 1))\n",
    "\n",
    "# Remove the \"&& page_number < 5\" to iterate over all the pages\n",
    "# Limited to first 5 pages for this tutorial\n",
    "for ((page_number = 0; page_number < total_pages && page_number < 5; page_number++)); do\n",
    "\n",
    "    # Complete the URL with filters and page number\n",
    "    url=\"https://api.ror.org/organizations?filter=$filters_string&page=$((page_number + 1))\"\n",
    "\n",
    "    # Retrieve the data from the API\n",
    "    response=$(./ror -url \"$url\" | jq -r '.[\"items\"]')\n",
    "\n",
    "    # Retrieve the name and id and store in the associative array\n",
    "    while IFS=: read -r name id; do\n",
    "        institution_name_ids[\"$name\"]=\"$id\"\n",
    "    done < <(jq -r '.[] | \"\\(.name):\\(.id)\"' <<< \"$response\")\n",
    "\n",
    "    # Stagger requests to be nicer on the ROR servers\n",
    "    sleep 1\n",
    "\n",
    "done\n",
    "\n",
    "# Print each name and id\n",
    "# Store it in a file called institution_name_ids.txt\n",
    "for key in \"${!institution_name_ids[@]}\"; do\n",
    "    echo \"$key: ${institution_name_ids[$key]}\" \n",
    "done | sort -k1 | tee institution_name_ids.txt"
   ]
  },
  {
   "cell_type": "markdown",
   "metadata": {},
   "source": [
    "The resulting dictionary can be used to find the ROR of an institution based on its name:"
   ]
  },
  {
   "cell_type": "code",
   "execution_count": 22,
   "metadata": {},
   "outputs": [
    {
     "name": "stdout",
     "output_type": "stream",
     "text": [
      "Eastern Arizona College: https://ror.org/03fcyyh75\n"
     ]
    }
   ],
   "source": [
    "!grep \"Eastern Arizona College\" institution_name_ids.txt"
   ]
  },
  {
   "cell_type": "markdown",
   "metadata": {},
   "source": [
    "## 3. Searching with queries and filters\n",
    "\n",
    "The `filter` and `query` parameters can both be used in a single request. In this example, we filter the results of the query \"Birmingham\" to only include institutions from the United States:"
   ]
  },
  {
   "cell_type": "code",
   "execution_count": 23,
   "metadata": {},
   "outputs": [
    {
     "name": "stdout",
     "output_type": "stream",
     "text": [
      "12\n"
     ]
    }
   ],
   "source": [
    "%%bash\n",
    "\n",
    "# Filter results to the United States\n",
    "filters=(\n",
    "    \"country.country_name:$(printf 'United States' | jq -s -R -r @uri)\"\n",
    ")\n",
    "\n",
    "# Search term\n",
    "query=\"Birmingham\"\n",
    "\n",
    "# Join array elements using ',' as separator\n",
    "filters_string=$(IFS=','; echo \"${filters[*]}\")\n",
    "\n",
    "# Set the URL for each institution\n",
    "url=\"https://api.ror.org/organizations?query=$query&filter=$filters_string\"\n",
    "\n",
    "# Print the number of results\n",
    "./ror -url \"$url\" | jq -r '.[\"number_of_results\"]'"
   ]
  },
  {
   "cell_type": "code",
   "execution_count": 24,
   "metadata": {},
   "outputs": [
    {
     "name": "stdout",
     "output_type": "stream",
     "text": [
      "Alabama Audubon: https://ror.org/02qbyex13\n",
      "Birmingham Bloomfield Community Coalition: https://ror.org/004mx7t23\n",
      "Birmingham Civil Rights Institute: https://ror.org/00fqce595\n",
      "Birmingham Museum of Art: https://ror.org/030y6zg68\n",
      "Birmingham Public Library: https://ror.org/05czff141\n",
      "Birmingham–Southern College: https://ror.org/006g42111\n",
      "Birmingham VA Medical Center: https://ror.org/0242qs713\n",
      "St. Vincent's Birmingham: https://ror.org/000crk757\n",
      "UAB Medicine: https://ror.org/036554539\n",
      "University of Alabama at Birmingham Hospital: https://ror.org/01rm42p40\n",
      "University of Alabama at Birmingham: https://ror.org/008s83205\n",
      "Vision Specialists of Michigan: https://ror.org/02awhp844\n"
     ]
    }
   ],
   "source": [
    "%%bash\n",
    "\n",
    "# Filter results to the United States\n",
    "filters=(\n",
    "    \"country.country_name:$(printf 'United States' | jq -s -R -r @uri)\"\n",
    ")\n",
    "\n",
    "# Search term\n",
    "query=\"Birmingham\"\n",
    "\n",
    "# Join array elements using ',' as separator\n",
    "filters_string=$(IFS=','; echo \"${filters[*]}\")\n",
    "\n",
    "# URL constructed with the filters\n",
    "url=\"https://api.ror.org/organizations?query=$query&filter=$filters_string\"\n",
    "\n",
    "# retrieve data from the api and print the name\n",
    "response=$(./ror -url \"$url\" | jq -r '.')\n",
    "\n",
    "# Find number of results and length of items\n",
    "num_results=$(echo \"$response\" | jq '.[\"number_of_results\"]')\n",
    "length_items=$(echo \"$response\" | jq '.[\"items\"] | length')\n",
    "\n",
    "# Create an array to store the institution names and ids\n",
    "declare -A institution_name_ids\n",
    "\n",
    "# Calculate number of pages in result\n",
    "total_pages=$(((num_results) / length_items + 1))\n",
    "\n",
    "# Remove the \"&& page_number < 5\" to iterate over all the pages\n",
    "# Limited to first 5 pages for this tutorial\n",
    "for ((page_number = 0; page_number < total_pages && page_number < 5; page_number++)); do\n",
    "\n",
    "    # Complete the url with filters, query, and page number\n",
    "    url=\"https://api.ror.org/organizations?query=$query&filter=$filters_string&page=$((page_number + 1))\"\n",
    "\n",
    "    # Retrieve the data from the API\n",
    "    response=$(./ror -url \"$url\" | jq -r '.[\"items\"]')\n",
    "\n",
    "    # Retrieve the name and id and store in the associative array\n",
    "    while IFS=: read -r name id; do\n",
    "        institution_name_ids[\"$name\"]=\"$id\"\n",
    "    done < <(jq -r '.[] | \"\\(.name):\\(.id)\"' <<< \"$response\")\n",
    "\n",
    "    # Stagger requests to be nicer on the ROR servers\n",
    "    sleep 1\n",
    "\n",
    "done\n",
    "\n",
    "# Print each name and id\n",
    "# Store it in a file called institution_name_ids_2.txt\n",
    "for key in \"${!institution_name_ids[@]}\"; do\n",
    "    echo \"$key: ${institution_name_ids[$key]}\" \n",
    "done | sort -k1 | tee institution_name_ids_2.txt"
   ]
  }
 ],
 "metadata": {
  "kernelspec": {
   "display_name": "env1",
   "language": "python",
   "name": "python3"
  },
  "language_info": {
   "codemirror_mode": {
    "name": "ipython",
    "version": 3
   },
   "file_extension": ".py",
   "mimetype": "text/x-python",
   "name": "python",
   "nbconvert_exporter": "python",
   "pygments_lexer": "ipython3",
   "version": "3.12.1"
  },
  "orig_nbformat": 4
 },
 "nbformat": 4,
 "nbformat_minor": 2
}
