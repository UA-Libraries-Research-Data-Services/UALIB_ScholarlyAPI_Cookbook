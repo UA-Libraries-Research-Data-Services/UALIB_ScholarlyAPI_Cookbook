{
 "cells": [
  {
   "cell_type": "markdown",
   "metadata": {},
   "source": [
    "# U.S. Treasury FiscalData API in C\n",
    "\n",
    "By Cyrus Gomes\n",
    "\n",
    "**U.S. Department of the Treasury FiscalData API Documentation**: [https://fiscaldata.treasury.gov/api-documentation/](https://fiscaldata.treasury.gov/api-documentation/)\n",
    "\n",
    "**FiscalData Dataset Search**: [https://fiscaldata.treasury.gov/datasets/](https://fiscaldata.treasury.gov/datasets/) \n",
    "\n",
    "This is a useful tool for finding endpoints and parameters for this API.\n",
    "\n",
    "**Terms of Use**: [https://fiscaldata.treasury.gov/api-documentation/#license-and-authorization](https://fiscaldata.treasury.gov/api-documentation/#license-and-authorization)\n",
    "\n",
    "To get started, import the libraries that will be used in this tutorial:"
   ]
  },
  {
   "cell_type": "markdown",
   "metadata": {},
   "source": [
    "### Setup"
   ]
  },
  {
   "cell_type": "markdown",
   "metadata": {},
   "source": [
    "First, install the CURL and jq packages by typing the following command in the terminal:"
   ]
  },
  {
   "cell_type": "code",
   "execution_count": null,
   "metadata": {},
   "outputs": [],
   "source": [
    "!sudo apt install curl jq"
   ]
  },
  {
   "cell_type": "markdown",
   "metadata": {},
   "source": [
    "Now we set a directory where we want the US-Treasury directory for our projects to be created:"
   ]
  },
  {
   "cell_type": "code",
   "execution_count": 1,
   "metadata": {},
   "outputs": [],
   "source": [
    "!mkdir US-Treasury"
   ]
  },
  {
   "cell_type": "markdown",
   "metadata": {},
   "source": [
    "Finally, we change to our newly created directory:"
   ]
  },
  {
   "cell_type": "code",
   "execution_count": null,
   "metadata": {},
   "outputs": [],
   "source": [
    "%cd US-Treasury"
   ]
  },
  {
   "cell_type": "markdown",
   "metadata": {},
   "source": [
    "## 1. Treasury Reporting Rates of Exchange\n",
    "\n",
    "This first example will use the ``/rates_of_exchange/`` endpoint. First, let's assemble our url for API request. This request is made up of three parts:\n",
    "\n",
    "1. Base url: The URL for the U.S. Treasury Fiscal Data API. All requests to this API must start withs this URL.\n",
    "\n",
    "2. Endpoint: The specific dataset that we wish to retrieve from this API. In this example, it is ``/rates_of_exchange/``\n",
    "\n",
    "3. Parameters: Further specifications that we request from the endpoint. In this case, we are requesting a few fields with a filter on the date:\n",
    "\n",
    "    - Fields: The specific data points that we are requesting from the endpoint. In this example, we retrieve the country, currency, and exchange rate.\n",
    "\n",
    "    - Filters: Limits on the data received from the endpoint. In this example, we limit the data to the data points recorded on Dec. 31, 2022. We can set the page size to 1000, since the default for this API is to return the first 100 results. This allows us to retrieve the full dataset.\n",
    "\n",
    "More information on parameters for this API can be found [here](https://fiscaldata.treasury.gov/api-documentation/#parameters). Information on the parameters for this specific endpoint can be found [here](https://fiscaldata.treasury.gov/datasets/treasury-reporting-rates-exchange/treasury-reporting-rates-of-exchange).\n",
    "\n",
    "First, we can initialize and change to a directory for all the project files:"
   ]
  },
  {
   "cell_type": "code",
   "execution_count": 3,
   "metadata": {},
   "outputs": [],
   "source": [
    "!mkdir exchange_rates"
   ]
  },
  {
   "cell_type": "code",
   "execution_count": null,
   "metadata": {},
   "outputs": [],
   "source": [
    "%cd exchange_rates"
   ]
  },
  {
   "cell_type": "markdown",
   "metadata": {},
   "source": [
    "We utilize the `%%file` command to create the following makefile which will compile our program and create an executable:"
   ]
  },
  {
   "cell_type": "code",
   "execution_count": 1,
   "metadata": {},
   "outputs": [
    {
     "name": "stdout",
     "output_type": "stream",
     "text": [
      "Overwriting makefile\n"
     ]
    }
   ],
   "source": [
    "%%file makefile\n",
    "\n",
    "# Set the variable CC to gcc, which is used to build the program\n",
    "CC=gcc\n",
    "\n",
    "# Enable debugging information and enable all compiler warnings\n",
    "CFLAGS=-g -Wall\n",
    "\n",
    "# Set the bin variable as the name of the binary file we are creating\n",
    "BIN=treasury_data\n",
    "\n",
    "# Create the binary file with the name we put\n",
    "all: $(BIN)\n",
    "\n",
    "# Map any file ending in .c to a binary executable. \n",
    "# \"$<\" represents the .c file and \"$@\" represents the target binary executable\n",
    "%: %.c\n",
    "\n",
    "\t# Compile the .c file using the gcc compiler with the CFLAGS and links \n",
    "\t# resulting binary with the CURL library\n",
    "\t$(CC) $(CFLAGS) $< -o $@ -lcurl\n",
    "\n",
    "# Clean target which removes specific files\n",
    "clean:\n",
    "\n",
    "\t# Remove the binary file and an \".dSYM\" (debug symbols for debugging) directories\n",
    "\t# the RM command used -r to remove directories and -f to force delete\n",
    "\t$(RM) -rf $(BIN) *.dSYM\n"
   ]
  },
  {
   "cell_type": "markdown",
   "metadata": {},
   "source": [
    "This command is used again to create our .c file which contains the code for the program:"
   ]
  },
  {
   "cell_type": "code",
   "execution_count": 2,
   "metadata": {},
   "outputs": [
    {
     "name": "stdout",
     "output_type": "stream",
     "text": [
      "Writing treasury_data.c\n"
     ]
    }
   ],
   "source": [
    "%%file treasury_data.c\n",
    "\n",
    "#include <curl/curl.h>\n",
    "#include <stdio.h>\n",
    "#include <stdlib.h>\n",
    "#include <string.h>\n",
    "\n",
    "/* CURL program that retrieves treasury data from\n",
    "  https://api.fiscaldata.treasury.gov/services/api/fiscal_service/ */\n",
    "\n",
    "int main (int argc, char* argv[]) {\n",
    "    \n",
    "    // If the arguments are invalid then return\n",
    "    if (argc < 2) {                                                                                      \n",
    "        printf(\"Error. Please try again correctly. (./treasury_data -e [endpoint] -p [parameter])\\n\");\n",
    "        return -1;\n",
    "    }\n",
    "\n",
    "    // Initialize the CURL HTTP connection\n",
    "    CURL *curl = curl_easy_init();\n",
    "\n",
    "    // Bits of the URL that are joined together later                                                                      \n",
    "    char api[] = \"https://api.fiscaldata.treasury.gov/services/api/fiscal_service/\";                            \n",
    "    char url[1000];\n",
    "    char parameters[] = \"?fields=country,currency,exchange_rate&filter=record_date:eq:2022-12-31&page[size]=1000\";\n",
    "    char endpoint[] = \"v1/accounting/od/rates_of_exchange\";\n",
    "\n",
    "\n",
    "    // Check if CURL initialization successful\n",
    "    if (!curl) {                                                                                         \n",
    "        fprintf(stderr, \"init failed\\n\");\n",
    "        return EXIT_FAILURE;\n",
    "    }\n",
    "    \n",
    "    /* Here are different ways of calling the program in the\n",
    "    command line and integrating endpoint and parameter fields.*/\n",
    "\n",
    "    // Has the -e flag: /treasury_data -e\n",
    "    if ((argc==2) && (strcmp(argv[1],\"-e\")==0)) {\n",
    "        \n",
    "        // Combine the API and default endpoint to produce a functioning URL\n",
    "        sprintf(url, \"%s%s%s\", api, endpoint, parameters); \n",
    "        \n",
    "    }\n",
    "    \n",
    "    // Has the -e flag and field: ./treasury_data -e [e]\n",
    "    else if ((argc==3) && (strcmp(argv[1],\"-e\")==0)) {\n",
    "        \n",
    "        // Combine the API and custom endpoint\n",
    "        sprintf(url, \"%s%s%s\", api, argv[2], parameters);                                              \n",
    "    \n",
    "    }\n",
    "    \n",
    "    // Has the -e and -p flags: ./treasury_data -p -e\n",
    "    else if ((argc==3) && (strcmp(argv[1],\"-p\")==0) && (strcmp(argv[2],\"-e\")==0)) {\n",
    "        \n",
    "        // Combine the API and default endpoint\n",
    "        sprintf(url, \"%s%s%s\", api, endpoint, parameters);                                              \n",
    "    \n",
    "    }\n",
    "    \n",
    "    // Has the -e and -p flags and the parameter field: ./treasury_data -e -p [parameter]\n",
    "    else if ((argc==4) && (strcmp(argv[2],\"-p\")==0) && (strcmp(argv[1],\"-e\")==0)) {\n",
    "        \n",
    "        // Combine the API, default endpoint, and parameter to produce a functioning URL\n",
    "        sprintf(url, \"%s%s%s\", api, endpoint, argv[3]);                                              \n",
    "    \n",
    "    }\n",
    "    \n",
    "    // Has the -e and -p flags and the endpoint field: ./treasury_data -e [e] -p\n",
    "    else if ((argc==4) && (strcmp(argv[3],\"-p\")==0) && (strcmp(argv[1],\"-e\")==0)) {\n",
    "        \n",
    "        // Combine the API and custom endpoint\n",
    "        sprintf(url, \"%s%s%s\", api, argv[2], parameters);                                              \n",
    "    \n",
    "    }\n",
    "    \n",
    "    // Has the -p and -e flags and the parameter field: ./treasury_data -p -e [e] \n",
    "    else if ((argc==4) && (strcmp(argv[1],\"-p\")==0) && (strcmp(argv[2],\"-e\")==0)) {\n",
    "        \n",
    "        // Combine the API and custom endpoint\n",
    "        sprintf(url, \"%s%s%s\", api, argv[3], parameters);                                              \n",
    "    \n",
    "    }\n",
    "    \n",
    "    // Has the -p and -e flags and the parameter and endpoint field: ./treasury_data -p [parameter] -e [e] \n",
    "    else if ((argc==5) && (strcmp(argv[1],\"-p\")==0) && (strcmp(argv[3],\"-e\")==0)) {\n",
    "        \n",
    "        // Combine the API, custom endpoint, and parameter to produce the URL\n",
    "        sprintf(url, \"%s%s%s\", api, argv[4], argv[2]);                                              \n",
    "    \n",
    "    }\n",
    "    \n",
    "    // Has the -e and -p flags and the endpoint and parameter field: ./treasury_data -e [e] -p [parameter] \n",
    "    else if ((argc==5) && (strcmp(argv[3],\"-p\")==0)) {\n",
    "        \n",
    "        // Combine the API, custom endpoint, and parameter to produce the URL\n",
    "        sprintf(url, \"%s%s%s\", api, argv[2], argv[4]);                                              \n",
    "    \n",
    "    }\n",
    "\n",
    "    // If the arguments are invalid then return\n",
    "    else {        \n",
    "        printf(\"./treasury_data -p [parameter] -e [e]\\n\");                                                                                      \n",
    "        curl_easy_cleanup(curl);\n",
    "        return 0;\n",
    "    }                                            \n",
    "\n",
    "    // Set the URL to which the HTTP request will be sent to\n",
    "    // First parameter is for the initialized curl HTTP request, second for the option to be set, and third for the value to be set\n",
    "    curl_easy_setopt(curl, CURLOPT_URL, url);\n",
    "\n",
    "    // If result is not retrieved then output error\n",
    "    CURLcode result = curl_easy_perform(curl);\n",
    "\n",
    "    // If result is not retrieved then output error\n",
    "    if (result != CURLE_OK) {                                                                            \n",
    "        fprintf(stderr, \"download problem: %s\\n\", curl_easy_strerror(result));\n",
    "    }\n",
    "\n",
    "    // Deallocate memory for the CURL connection\n",
    "    curl_easy_cleanup(curl);                                                                            \n",
    "    return EXIT_SUCCESS;\n",
    "}"
   ]
  },
  {
   "cell_type": "code",
   "execution_count": 5,
   "metadata": {},
   "outputs": [
    {
     "name": "stdout",
     "output_type": "stream",
     "text": [
      "gcc -g -Wall treasury_data.c -o treasury_data -lcurl\n"
     ]
    }
   ],
   "source": [
    "!make"
   ]
  },
  {
   "cell_type": "markdown",
   "metadata": {},
   "source": [
    "We can run the program to get the number of entries:"
   ]
  },
  {
   "cell_type": "code",
   "execution_count": 17,
   "metadata": {},
   "outputs": [
    {
     "name": "stdout",
     "output_type": "stream",
     "text": [
      "\u001b[0;39m180\u001b[0m\n"
     ]
    }
   ],
   "source": [
    "!./treasury_data -p -e | jq '.[\"data\"] | length'"
   ]
  },
  {
   "cell_type": "code",
   "execution_count": 30,
   "metadata": {},
   "outputs": [
    {
     "name": "stdout",
     "output_type": "stream",
     "text": [
      "\u001b[1;39m[\n",
      "  \u001b[1;39m{\n",
      "    \u001b[0m\u001b[34;1m\"country\"\u001b[0m\u001b[1;39m: \u001b[0m\u001b[0;32m\"Afghanistan\"\u001b[0m\u001b[1;39m,\n",
      "    \u001b[0m\u001b[34;1m\"currency\"\u001b[0m\u001b[1;39m: \u001b[0m\u001b[0;32m\"Afghani\"\u001b[0m\u001b[1;39m,\n",
      "    \u001b[0m\u001b[34;1m\"exchange_rate\"\u001b[0m\u001b[1;39m: \u001b[0m\u001b[0;32m\"89.11\"\u001b[0m\u001b[1;39m\n",
      "  \u001b[1;39m}\u001b[0m\u001b[1;39m,\n",
      "  \u001b[1;39m{\n",
      "    \u001b[0m\u001b[34;1m\"country\"\u001b[0m\u001b[1;39m: \u001b[0m\u001b[0;32m\"Albania\"\u001b[0m\u001b[1;39m,\n",
      "    \u001b[0m\u001b[34;1m\"currency\"\u001b[0m\u001b[1;39m: \u001b[0m\u001b[0;32m\"Lek\"\u001b[0m\u001b[1;39m,\n",
      "    \u001b[0m\u001b[34;1m\"exchange_rate\"\u001b[0m\u001b[1;39m: \u001b[0m\u001b[0;32m\"106.5\"\u001b[0m\u001b[1;39m\n",
      "  \u001b[1;39m}\u001b[0m\u001b[1;39m,\n",
      "  \u001b[1;39m{\n",
      "    \u001b[0m\u001b[34;1m\"country\"\u001b[0m\u001b[1;39m: \u001b[0m\u001b[0;32m\"Algeria\"\u001b[0m\u001b[1;39m,\n",
      "    \u001b[0m\u001b[34;1m\"currency\"\u001b[0m\u001b[1;39m: \u001b[0m\u001b[0;32m\"Dinar\"\u001b[0m\u001b[1;39m,\n",
      "    \u001b[0m\u001b[34;1m\"exchange_rate\"\u001b[0m\u001b[1;39m: \u001b[0m\u001b[0;32m\"136.467\"\u001b[0m\u001b[1;39m\n",
      "  \u001b[1;39m}\u001b[0m\u001b[1;39m\n",
      "\u001b[1;39m]\u001b[0m\n"
     ]
    }
   ],
   "source": [
    "# Display first 3 results\n",
    "!./treasury_data -p -e | jq '.[\"data\"][:3]'"
   ]
  },
  {
   "cell_type": "code",
   "execution_count": 185,
   "metadata": {},
   "outputs": [
    {
     "name": "stdout",
     "output_type": "stream",
     "text": [
      "[\n",
      "  {\n",
      "    \"country\": \"Afghanistan\",\n",
      "    \"currency\": \"Afghani\",\n",
      "    \"exchange_rate\": 89.11\n",
      "  },\n",
      "  {\n",
      "    \"country\": \"Albania\",\n",
      "    \"currency\": \"Lek\",\n",
      "    \"exchange_rate\": 106.5\n"
     ]
    }
   ],
   "source": [
    "%%bash\n",
    "\n",
    "# Save the output data to a JSON format \n",
    "exchange_rate_data=$(./treasury_data -p -e | jq -r '[.[\"data\"][] | {country, currency, exchange_rate: (.exchange_rate | tonumber)}]')\n",
    "\n",
    "# Save the JSON data to a file\n",
    "echo \"${exchange_rate_data}\" > exchange_rate_data.json\n",
    "\n",
    "# Print the first 10 lines of the json data\n",
    "cat exchange_rate_data.json | head -n 10"
   ]
  },
  {
   "cell_type": "markdown",
   "metadata": {},
   "source": [
    "Now, we can save this data to a TSV file:"
   ]
  },
  {
   "cell_type": "code",
   "execution_count": 191,
   "metadata": {},
   "outputs": [
    {
     "name": "stdout",
     "output_type": "stream",
     "text": [
      "Afghanistan\tAfghani\t89.11\n",
      "Albania\tLek\t106.5\n",
      "Algeria\tDinar\t136.467\n",
      "Angola\tKwanza\t503.65\n",
      "Antigua & Barbuda\tE. Caribbean Dollar\t2.7\n",
      "Argentina\tPeso\t183\n"
     ]
    },
    {
     "name": "stdout",
     "output_type": "stream",
     "text": [
      "Argentina\tPeso\t203.5\n",
      "Armenia\tDram\t400\n",
      "Australia\tDollar\t1.471\n",
      "Azerbaijan\tManat\t1.7\n"
     ]
    }
   ],
   "source": [
    "%%bash\n",
    "\n",
    "# Display the formatted output without field names\n",
    "jq -r '.[] | [.country, .currency, .exchange_rate] | @tsv' exchange_rate_data.json > exchange_rate_data.tsv\n",
    "\n",
    "# Output the first 10 lines of the tsv file\n",
    "cat exchange_rate_data.tsv | head -n 10"
   ]
  },
  {
   "cell_type": "markdown",
   "metadata": {},
   "source": [
    "## 2. Debt to the Penny\n",
    "\n",
    "This example will use the ``/debt_to_penny/`` endpoint. Once again, our API request is made up of 3 parts:\n",
    "\n",
    "1. Base url: The URL for the U.S. Treasury Fiscal Data API. All requests to this API must start withs this URL.\n",
    "\n",
    "2. Endpoint: The specific dataset that we wish to retrieve from this API. In this example, it is ``/debt_to_penny/``\n",
    "\n",
    "3. Parameters: Further specifications that we request from the endpoint. In this case, we are requesting a few fields with a filter on the date:\n",
    "\n",
    "    - Fields: The specific data points that we are requesting from the endpoint. In this example, we retrieve the total public debt for each date.\n",
    "\n",
    "    - Filters: Limits on the data received from the endpoint. In this example, we limit the data to the data points recorded on dates greater than or equal to (gte) Jan. 1, 2012 and less than Jan. 1, 2023. We can also set the page size to 10000, since the default for this API is to return the first 100 results. This allows us to retrieve the full dataset.\n",
    "\n",
    "More information on parameters for this API can be found [here](https://fiscaldata.treasury.gov/api-documentation/#parameters). Information on the parameters for this specific endpoint can be found [here](https://fiscaldata.treasury.gov/datasets/debt-to-the-penny/debt-to-the-penny)."
   ]
  },
  {
   "cell_type": "code",
   "execution_count": 23,
   "metadata": {},
   "outputs": [
    {
     "name": "stdout",
     "output_type": "stream",
     "text": [
      "\u001b[0;39m2763\u001b[0m\n"
     ]
    }
   ],
   "source": [
    "!./treasury_data -e \"v2/accounting/od/debt_to_penny\" -p \"?fields=record_date,tot_pub_debt_out_amt&filter=record_date:gte:2012-01-01,record_date:lt:2023-01-01&page[size]=10000\" | jq '.[\"data\"] | length'"
   ]
  },
  {
   "cell_type": "code",
   "execution_count": 24,
   "metadata": {},
   "outputs": [
    {
     "name": "stdout",
     "output_type": "stream",
     "text": [
      "\u001b[1;39m[\n",
      "  \u001b[1;39m{\n",
      "    \u001b[0m\u001b[34;1m\"record_date\"\u001b[0m\u001b[1;39m: \u001b[0m\u001b[0;32m\"2012-01-03\"\u001b[0m\u001b[1;39m,\n",
      "    \u001b[0m\u001b[34;1m\"tot_pub_debt_out_amt\"\u001b[0m\u001b[1;39m: \u001b[0m\u001b[0;32m\"15226217488652.33\"\u001b[0m\u001b[1;39m\n",
      "  \u001b[1;39m}\u001b[0m\u001b[1;39m,\n",
      "  \u001b[1;39m{\n",
      "    \u001b[0m\u001b[34;1m\"record_date\"\u001b[0m\u001b[1;39m: \u001b[0m\u001b[0;32m\"2012-01-04\"\u001b[0m\u001b[1;39m,\n",
      "    \u001b[0m\u001b[34;1m\"tot_pub_debt_out_amt\"\u001b[0m\u001b[1;39m: \u001b[0m\u001b[0;32m\"15236542247490.89\"\u001b[0m\u001b[1;39m\n",
      "  \u001b[1;39m}\u001b[0m\u001b[1;39m,\n",
      "  \u001b[1;39m{\n",
      "    \u001b[0m\u001b[34;1m\"record_date\"\u001b[0m\u001b[1;39m: \u001b[0m\u001b[0;32m\"2012-01-05\"\u001b[0m\u001b[1;39m,\n",
      "    \u001b[0m\u001b[34;1m\"tot_pub_debt_out_amt\"\u001b[0m\u001b[1;39m: \u001b[0m\u001b[0;32m\"15236541899973.10\"\u001b[0m\u001b[1;39m\n",
      "  \u001b[1;39m}\u001b[0m\u001b[1;39m,\n",
      "  \u001b[1;39m{\n",
      "    \u001b[0m\u001b[34;1m\"record_date\"\u001b[0m\u001b[1;39m: \u001b[0m\u001b[0;32m\"2012-01-06\"\u001b[0m\u001b[1;39m,\n",
      "    \u001b[0m\u001b[34;1m\"tot_pub_debt_out_amt\"\u001b[0m\u001b[1;39m: \u001b[0m\u001b[0;32m\"15236532960597.70\"\u001b[0m\u001b[1;39m\n",
      "  \u001b[1;39m}\u001b[0m\u001b[1;39m,\n",
      "  \u001b[1;39m{\n",
      "    \u001b[0m\u001b[34;1m\"record_date\"\u001b[0m\u001b[1;39m: \u001b[0m\u001b[0;32m\"2012-01-09\"\u001b[0m\u001b[1;39m,\n",
      "    \u001b[0m\u001b[34;1m\"tot_pub_debt_out_amt\"\u001b[0m\u001b[1;39m: \u001b[0m\u001b[0;32m\"15236506139986.86\"\u001b[0m\u001b[1;39m\n",
      "  \u001b[1;39m}\u001b[0m\u001b[1;39m\n",
      "\u001b[1;39m]\u001b[0m\n"
     ]
    }
   ],
   "source": [
    "# Display first 5 results\n",
    "!./treasury_data -e \"v2/accounting/od/debt_to_penny\" -p \"?fields=record_date,tot_pub_debt_out_amt&filter=record_date:gte:2012-01-01,record_date:lt:2023-01-01&page[size]=10000\" | jq '.[\"data\"][:5]'"
   ]
  },
  {
   "cell_type": "markdown",
   "metadata": {},
   "source": [
    "Now, we'll find the total public debt reported in the first recorded date of each month in the dataset:"
   ]
  },
  {
   "cell_type": "code",
   "execution_count": 215,
   "metadata": {},
   "outputs": [
    {
     "name": "stdout",
     "output_type": "stream",
     "text": [
      "01\t2012\t15226217488652.33\n",
      "02\t2012\t15330778119850.6\n",
      "03\t2012\t15501014716143.72\n",
      "04\t2012\t15620325998403.96\n",
      "05\t2012\t15673229738379.98\n",
      "06\t2012\t15724907364995.04\n",
      "07\t2012\t15888741858820.66\n",
      "08\t2012\t15907138660280.97\n",
      "09\t2012\t16008060301079.15\n",
      "10\t2012\t16159487013300.35\n"
     ]
    }
   ],
   "source": [
    "%%bash\n",
    "\n",
    "# This algorithm will store the first total debt per month (first total debt\n",
    "# recorded in the month) and create a TSV with year, month, day, total debt\n",
    "data=$(./treasury_data -e \"v2/accounting/od/debt_to_penny\" -p \"?fields=record_date,tot_pub_debt_out_amt&filter=record_date:gte:2012-01-01,record_date:lt:2023-01-01&page[size]=10000\" | jq '.[\"data\"]')\n",
    "\n",
    "# Use jq to filter the first tot_pub_debt_out_amt in the month and store the month and year\n",
    "filtered_data=$(echo \"$data\" | jq -r 'group_by(.record_date | split(\"-\")[:2] | join(\"-\")) | \n",
    "map({year_month: .[0].record_date | split(\"-\")[:2] | join(\"-\"), tot_pub_debt_out_amt: .[0].tot_pub_debt_out_amt | tonumber})')\n",
    "\n",
    "# Store the data in a TSV format\n",
    "tsv_data=$(echo \"$filtered_data\" | jq -r '.[] | \"\\(.year_month | split(\"-\")[1])\\t\\(.year_month | split(\"-\")[0])\\t\\(.tot_pub_debt_out_amt)\"')\n",
    "\n",
    "# Output the tsv_data to tot_debt.tsv file\n",
    "echo \"$tsv_data\" > tot_debt.tsv\n",
    "\n",
    "# Print the first 10 lines of the tsv file\n",
    "cat tot_debt.tsv | head -n 10"
   ]
  },
  {
   "cell_type": "markdown",
   "metadata": {},
   "source": [
    "## 3. Social Security Administration Data\n",
    "\n",
    "For the next example, we'll look at the ``/statement_net_cost/`` endpoint:"
   ]
  },
  {
   "cell_type": "code",
   "execution_count": 25,
   "metadata": {},
   "outputs": [
    {
     "name": "stdout",
     "output_type": "stream",
     "text": [
      "\u001b[0;39m880\u001b[0m\n"
     ]
    }
   ],
   "source": [
    "!./treasury_data -e \"v2/accounting/od/statement_net_cost\" -p \"?fields=record_date,gross_cost_bil_amt,earned_revenue_bil_amt,agency_nm&filter=record_date:gte:2012-01-01,record_date:lt:2023-01-01&page[size]=10000\" | jq '.[\"data\"] | length'"
   ]
  },
  {
   "cell_type": "code",
   "execution_count": 6,
   "metadata": {},
   "outputs": [
    {
     "name": "stdout",
     "output_type": "stream",
     "text": [
      "\u001b[1;39m[\n",
      "  \u001b[1;39m{\n",
      "    \u001b[0m\u001b[34;1m\"record_date\"\u001b[0m\u001b[1;39m: \u001b[0m\u001b[0;32m\"2012-09-30\"\u001b[0m\u001b[1;39m,\n",
      "    \u001b[0m\u001b[34;1m\"gross_cost_bil_amt\"\u001b[0m\u001b[1;39m: \u001b[0m\u001b[0;32m\"48.2\"\u001b[0m\u001b[1;39m,\n",
      "    \u001b[0m\u001b[34;1m\"earned_revenue_bil_amt\"\u001b[0m\u001b[1;39m: \u001b[0m\u001b[0;32m\"19.1\"\u001b[0m\u001b[1;39m,\n",
      "    \u001b[0m\u001b[34;1m\"agency_nm\"\u001b[0m\u001b[1;39m: \u001b[0m\u001b[0;32m\"Office of Personnel Management\"\u001b[0m\u001b[1;39m\n",
      "  \u001b[1;39m}\u001b[0m\u001b[1;39m,\n",
      "  \u001b[1;39m{\n",
      "    \u001b[0m\u001b[34;1m\"record_date\"\u001b[0m\u001b[1;39m: \u001b[0m\u001b[0;32m\"2012-09-30\"\u001b[0m\u001b[1;39m,\n",
      "    \u001b[0m\u001b[34;1m\"gross_cost_bil_amt\"\u001b[0m\u001b[1;39m: \u001b[0m\u001b[0;32m\"107.3\"\u001b[0m\u001b[1;39m,\n",
      "    \u001b[0m\u001b[34;1m\"earned_revenue_bil_amt\"\u001b[0m\u001b[1;39m: \u001b[0m\u001b[0;32m\"null\"\u001b[0m\u001b[1;39m,\n",
      "    \u001b[0m\u001b[34;1m\"agency_nm\"\u001b[0m\u001b[1;39m: \u001b[0m\u001b[0;32m\"Department of Labor\"\u001b[0m\u001b[1;39m\n",
      "  \u001b[1;39m}\u001b[0m\u001b[1;39m,\n",
      "  \u001b[1;39m{\n",
      "    \u001b[0m\u001b[34;1m\"record_date\"\u001b[0m\u001b[1;39m: \u001b[0m\u001b[0;32m\"2012-09-30\"\u001b[0m\u001b[1;39m,\n",
      "    \u001b[0m\u001b[34;1m\"gross_cost_bil_amt\"\u001b[0m\u001b[1;39m: \u001b[0m\u001b[0;32m\"79.0\"\u001b[0m\u001b[1;39m,\n",
      "    \u001b[0m\u001b[34;1m\"earned_revenue_bil_amt\"\u001b[0m\u001b[1;39m: \u001b[0m\u001b[0;32m\"0.8\"\u001b[0m\u001b[1;39m,\n",
      "    \u001b[0m\u001b[34;1m\"agency_nm\"\u001b[0m\u001b[1;39m: \u001b[0m\u001b[0;32m\"Department of Transportation\"\u001b[0m\u001b[1;39m\n",
      "  \u001b[1;39m}\u001b[0m\u001b[1;39m\n",
      "\u001b[1;39m]\u001b[0m\n"
     ]
    }
   ],
   "source": [
    "# Display first 3 results\n",
    "!./treasury_data -e \"v2/accounting/od/statement_net_cost\" -p \"?fields=record_date,gross_cost_bil_amt,earned_revenue_bil_amt,agency_nm&filter=record_date:gte:2012-01-01,record_date:lt:2023-01-01&page[size]=10000\" | jq '.[\"data\"][:3]'"
   ]
  },
  {
   "cell_type": "markdown",
   "metadata": {},
   "source": [
    "We can utilize the following Bash script to output the first `gross_cost_bil_amt` and `earned_revenue_bil_amt` in every year and save it to a TSV file:"
   ]
  },
  {
   "cell_type": "code",
   "execution_count": 268,
   "metadata": {},
   "outputs": [
    {
     "name": "stdout",
     "output_type": "stream",
     "text": [
      "2012\t782.9\t0.4\n",
      "2013\t822.9\t0.3\n",
      "2014\t867.4\t0.4\n",
      "2015\t945\t0.3\n",
      "2016\t982.1\t0.3\n",
      "2017\t999.1\t0.3\n",
      "2018\t999.1\t0.3\n",
      "2019\t1038.5\t0.2\n",
      "2020\t1101.2\t0.3\n",
      "2021\t1157.6\t0.3\n"
     ]
    }
   ],
   "source": [
    "%%bash\n",
    "\n",
    "# This algorithm will be used to output the first gross_cost_bil_amt and earned_revenue_bil_amt in every year.\n",
    "\n",
    "# Make API call to store data to variable\n",
    "data = $(./treasury_data -e \"v2/accounting/od/statement_net_cost\" -p \"?fields=record_date,gross_cost_bil_amt,earned_revenue_bil_amt,agency_nm&filter=record_date:gte:2012-01-01,record_date:lt:2023-01-01&page[size]=10000\" | jq '.[\"data\"]')\n",
    "\n",
    "# Filter the data by agency_nm (\"Social Security Administration\") and only the first gross_cost_bil_amt\n",
    "# and earned_revenue_bil_amt in every year in JSON format the agency_nm and fields can be modified\n",
    "filtered_data = $(echo \"$data\" | jq -r '\n",
    "    map(select(.agency_nm == \"Social Security Administration\")) | \n",
    "    group_by(.record_date | split(\"-\")[:1] | join(\"-\")) | \n",
    "    map({\n",
    "        year: .[0].record_date | split(\"-\")[:1] | join(\"-\"),\n",
    "        gross_cost_bil_amt: (map(.gross_cost_bil_amt | if . == \"null\" then 0 else tonumber end) | .[0]),\n",
    "        earned_revenue_bil_amt: (map(.earned_revenue_bil_amt | if . == \"null\" then 0 else tonumber end) | .[0])\n",
    "    })'\n",
    ")\n",
    "\n",
    "# Store the data in a TSV format\n",
    "tsv_data = $(echo \"$filtered_data\" | jq -r '.[] | \"\\(.year)\\t\\(.gross_cost_bil_amt)\\t\\(.earned_revenue_bil_amt)\"')\n",
    "\n",
    "# Output the tsv_data to yearly_costs_and_revenues.tsv file\n",
    "echo \"$tsv_data\" > yearly_costs_and_revenues.tsv\n",
    "\n",
    "# Print the first 10 lines of the TSV file\n",
    "cat yearly_costs_and_revenues.tsv | head -n 10"
   ]
  },
  {
   "cell_type": "markdown",
   "metadata": {},
   "source": [
    "## 4. Income Tax Refunds Issued\n",
    "\n",
    "This example will use the ``/income_tax_refunds_issued/`` endpoint, which is an extension of the ``/dts/ (daily treasury statement)`` endpoint. Once again, our API request is made up of 3 parts:\n",
    "\n",
    "1. Base url: The URL for the U.S. Treasury Fiscal Data API. All requests to this API must start withs this URL.\n",
    "\n",
    "2. Endpoint: The specific dataset that we wish to retrieve from this API. In this example, it is ``/income_tax_refunds_issued/``\n",
    "\n",
    "3. Parameters: Further specifications that we request from the endpoint. In this case, we are requesting a few fields with a filter on the date:\n",
    "\n",
    "    - Fields: The specific data points that we are requesting from the endpoint. In this example, we retrieve the tax refund types, descriptions, and amounts rounded to the newarest million for each date.\n",
    "\n",
    "    - Filters: Limits on the data received from the endpoint. In this example, we limit the data to the data points recorded on dates greater than or equal to (gte) Jan. 1, 2022 and less than Jan. 1, 2023. We also limit the page size to 10000, since the default for this API is to return the first 100 results. This allows us to retrieve the full dataset.\n",
    "\n",
    "More information on parameters for this API can be found [here](https://fiscaldata.treasury.gov/api-documentation/#parameters). Information on the parameters for this specific endpoint can be found [here](https://fiscaldata.treasury.gov/datasets/daily-treasury-statement/operating-cash-balance)."
   ]
  },
  {
   "cell_type": "code",
   "execution_count": 27,
   "metadata": {},
   "outputs": [
    {
     "name": "stdout",
     "output_type": "stream",
     "text": [
      "\u001b[0;39m1756\u001b[0m\n"
     ]
    }
   ],
   "source": [
    "!./treasury_data -e \"/v1/accounting/dts/income_tax_refunds_issued\" -p \"?fields=record_date,tax_refund_type,tax_refund_type_desc,tax_refund_today_amt&filter=record_date:gte:2022-01-01,record_date:lt:2023-01-01&page[size]=10000\" | jq '.[\"data\"] | length'"
   ]
  },
  {
   "cell_type": "code",
   "execution_count": 28,
   "metadata": {},
   "outputs": [
    {
     "name": "stdout",
     "output_type": "stream",
     "text": [
      "\u001b[1;39m[\n",
      "  \u001b[1;39m{\n",
      "    \u001b[0m\u001b[34;1m\"record_date\"\u001b[0m\u001b[1;39m: \u001b[0m\u001b[0;32m\"2022-01-03\"\u001b[0m\u001b[1;39m,\n",
      "    \u001b[0m\u001b[34;1m\"tax_refund_type\"\u001b[0m\u001b[1;39m: \u001b[0m\u001b[0;32m\"IRS - Advanced Child Tax Credit (Checks)\"\u001b[0m\u001b[1;39m,\n",
      "    \u001b[0m\u001b[34;1m\"tax_refund_type_desc\"\u001b[0m\u001b[1;39m: \u001b[0m\u001b[0;32m\"null\"\u001b[0m\u001b[1;39m,\n",
      "    \u001b[0m\u001b[34;1m\"tax_refund_today_amt\"\u001b[0m\u001b[1;39m: \u001b[0m\u001b[0;32m\"0\"\u001b[0m\u001b[1;39m\n",
      "  \u001b[1;39m}\u001b[0m\u001b[1;39m,\n",
      "  \u001b[1;39m{\n",
      "    \u001b[0m\u001b[34;1m\"record_date\"\u001b[0m\u001b[1;39m: \u001b[0m\u001b[0;32m\"2022-01-03\"\u001b[0m\u001b[1;39m,\n",
      "    \u001b[0m\u001b[34;1m\"tax_refund_type\"\u001b[0m\u001b[1;39m: \u001b[0m\u001b[0;32m\"IRS - Advanced Child Tax Credit (EFT)\"\u001b[0m\u001b[1;39m,\n",
      "    \u001b[0m\u001b[34;1m\"tax_refund_type_desc\"\u001b[0m\u001b[1;39m: \u001b[0m\u001b[0;32m\"null\"\u001b[0m\u001b[1;39m,\n",
      "    \u001b[0m\u001b[34;1m\"tax_refund_today_amt\"\u001b[0m\u001b[1;39m: \u001b[0m\u001b[0;32m\"0\"\u001b[0m\u001b[1;39m\n",
      "  \u001b[1;39m}\u001b[0m\u001b[1;39m,\n",
      "  \u001b[1;39m{\n",
      "    \u001b[0m\u001b[34;1m\"record_date\"\u001b[0m\u001b[1;39m: \u001b[0m\u001b[0;32m\"2022-01-03\"\u001b[0m\u001b[1;39m,\n",
      "    \u001b[0m\u001b[34;1m\"tax_refund_type\"\u001b[0m\u001b[1;39m: \u001b[0m\u001b[0;32m\"IRS - Economic Impact Payments (Checks)\"\u001b[0m\u001b[1;39m,\n",
      "    \u001b[0m\u001b[34;1m\"tax_refund_type_desc\"\u001b[0m\u001b[1;39m: \u001b[0m\u001b[0;32m\"null\"\u001b[0m\u001b[1;39m,\n",
      "    \u001b[0m\u001b[34;1m\"tax_refund_today_amt\"\u001b[0m\u001b[1;39m: \u001b[0m\u001b[0;32m\"0\"\u001b[0m\u001b[1;39m\n",
      "  \u001b[1;39m}\u001b[0m\u001b[1;39m,\n",
      "  \u001b[1;39m{\n",
      "    \u001b[0m\u001b[34;1m\"record_date\"\u001b[0m\u001b[1;39m: \u001b[0m\u001b[0;32m\"2022-01-03\"\u001b[0m\u001b[1;39m,\n",
      "    \u001b[0m\u001b[34;1m\"tax_refund_type\"\u001b[0m\u001b[1;39m: \u001b[0m\u001b[0;32m\"IRS - Economic Impact Payments (EFT)\"\u001b[0m\u001b[1;39m,\n",
      "    \u001b[0m\u001b[34;1m\"tax_refund_type_desc\"\u001b[0m\u001b[1;39m: \u001b[0m\u001b[0;32m\"null\"\u001b[0m\u001b[1;39m,\n",
      "    \u001b[0m\u001b[34;1m\"tax_refund_today_amt\"\u001b[0m\u001b[1;39m: \u001b[0m\u001b[0;32m\"0\"\u001b[0m\u001b[1;39m\n",
      "  \u001b[1;39m}\u001b[0m\u001b[1;39m,\n",
      "  \u001b[1;39m{\n",
      "    \u001b[0m\u001b[34;1m\"record_date\"\u001b[0m\u001b[1;39m: \u001b[0m\u001b[0;32m\"2022-01-03\"\u001b[0m\u001b[1;39m,\n",
      "    \u001b[0m\u001b[34;1m\"tax_refund_type\"\u001b[0m\u001b[1;39m: \u001b[0m\u001b[0;32m\"IRS Tax Refunds Business\"\u001b[0m\u001b[1;39m,\n",
      "    \u001b[0m\u001b[34;1m\"tax_refund_type_desc\"\u001b[0m\u001b[1;39m: \u001b[0m\u001b[0;32m\"Checks\"\u001b[0m\u001b[1;39m,\n",
      "    \u001b[0m\u001b[34;1m\"tax_refund_today_amt\"\u001b[0m\u001b[1;39m: \u001b[0m\u001b[0;32m\"0\"\u001b[0m\u001b[1;39m\n",
      "  \u001b[1;39m}\u001b[0m\u001b[1;39m\n",
      "\u001b[1;39m]\u001b[0m\n"
     ]
    }
   ],
   "source": [
    "# Display first 5 results\n",
    "!./treasury_data -e \"/v1/accounting/dts/income_tax_refunds_issued\" -p \"?fields=record_date,tax_refund_type,tax_refund_type_desc,tax_refund_today_amt&filter=record_date:gte:2022-01-01,record_date:lt:2023-01-01&page[size]=10000\" | jq '.[\"data\"][:5]'"
   ]
  },
  {
   "cell_type": "markdown",
   "metadata": {},
   "source": [
    "We can store values in (date, refund type, refund type description, refund amount) and save it to a TSV file:"
   ]
  },
  {
   "cell_type": "code",
   "execution_count": 270,
   "metadata": {},
   "outputs": [
    {
     "name": "stdout",
     "output_type": "stream",
     "text": [
      "2022-01-03  IRS - Advanced Child Tax Credit (Checks)  null    0\n",
      "2022-01-03  IRS - Advanced Child Tax Credit (EFT)     null    0\n",
      "2022-01-03  IRS - Economic Impact Payments (Checks)   null    0\n",
      "2022-01-03  IRS - Economic Impact Payments (EFT)      null    0\n",
      "2022-01-03  IRS Tax Refunds Business                  Checks  0\n",
      "2022-01-03  IRS Tax Refunds Business                  EFT     0\n",
      "2022-01-03  IRS Tax Refunds Individual                Checks  249\n",
      "2022-01-03  IRS Tax Refunds Individual                EFT     12\n",
      "2022-01-04  IRS - Advanced Child Tax Credit (Checks)  null    0\n",
      "2022-01-04  IRS - Advanced Child Tax Credit (EFT)     null    0\n"
     ]
    }
   ],
   "source": [
    "%%bash\n",
    "\n",
    "# This algorithm will be used to output values in (date, refund type, refund type description, refund amount)\n",
    "\n",
    "# Make API call to store data to variable\n",
    "data=$(./treasury_data -e \"/v1/accounting/dts/income_tax_refunds_issued\" -p \"?fields=record_date,tax_refund_type,tax_refund_type_desc,tax_refund_today_amt&filter=record_date:gte:2022-01-01,record_date:lt:2023-01-01&page[size]=10000\" | jq '.[\"data\"]')\n",
    "\n",
    "# Store the data in a TSV format\n",
    "tsv_data=$(echo \"$data\" | jq -r '.[] | \"\\(.record_date)\\t\\(.tax_refund_type)\\t\\(.tax_refund_type_desc)\\t\\(.tax_refund_today_amt)\"')\n",
    "\n",
    "# Output the tsv_data to tax_refunds_by_day.tsv file\n",
    "echo \"$tsv_data\" > tax_refunds_by_day.tsv\n",
    "\n",
    "# Print the first 10 lines of the TSV file\n",
    "cat tax_refunds_by_day.tsv | head -n 10 | column -t -s $'\\t'"
   ]
  }
 ],
 "metadata": {
  "kernelspec": {
   "display_name": "env1",
   "language": "python",
   "name": "python3"
  },
  "language_info": {
   "codemirror_mode": {
    "name": "ipython",
    "version": 3
   },
   "file_extension": ".py",
   "mimetype": "text/x-python",
   "name": "python",
   "nbconvert_exporter": "python",
   "pygments_lexer": "ipython3",
   "version": "3.10.12"
  },
  "orig_nbformat": 4
 },
 "nbformat": 4,
 "nbformat_minor": 2
}
